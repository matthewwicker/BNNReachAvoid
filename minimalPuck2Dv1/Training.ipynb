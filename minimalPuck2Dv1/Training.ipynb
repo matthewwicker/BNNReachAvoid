{
 "cells": [
  {
   "cell_type": "code",
   "execution_count": 1,
   "id": "dca84b9d",
   "metadata": {},
   "outputs": [],
   "source": [
    "# Standard Libarary Imports\n",
    "import os\n",
    "import sys\n",
    "import math\n",
    "import random\n",
    "sys.path.append(\"..\")\n",
    "# External Libaray Imports\n",
    "import numpy as np\n",
    "from tqdm import trange\n",
    "import matplotlib\n",
    "import matplotlib.pyplot as plt\n",
    "import tensorflow as tf\n",
    "from tensorflow.keras.models import *\n",
    "from tensorflow.keras.layers import *\n",
    "# Deep Learning and Bayesian Deep Learning Imports\n",
    "import deepbayes_prealpha\n",
    "import deepbayes_prealpha.optimizers as optimizers\n",
    "\n",
    "seed_value = 102\n",
    "random.seed(seed_value)\n",
    "np.random.seed(seed_value)\n",
    "tf.random.set_seed(seed_value)"
   ]
  },
  {
   "cell_type": "code",
   "execution_count": 2,
   "id": "e8b07fc8",
   "metadata": {},
   "outputs": [],
   "source": [
    "pos_ind = 0\n",
    "EPOCHS = 50\n",
    "HORIZON = 50\n",
    "EXPLORE = 15\n",
    "C_STATES = 35\n",
    "EPISODES = 20 # 10 for all but three layers\n",
    "SPEED_LIMIT = 0.5\n",
    "GOAL_STATE = [-0.1,-0.1]\n",
    "OBSTACLES = np.asarray([[0.4, 0.4]])\n",
    "OBSTACLE = OBSTACLES[0]\n",
    "ATTRACTORS = np.asarray([[0.1, 0.0], [0.0, 0.1]])"
   ]
  },
  {
   "cell_type": "code",
   "execution_count": 3,
   "id": "20bd0810",
   "metadata": {},
   "outputs": [],
   "source": [
    "\"\"\"\n",
    "The handcrafted 2D point environment we consider\n",
    "\"\"\"\n",
    "class P2D_env:\n",
    "    def __init__(self):\n",
    "        self.x = 0.80  + random.uniform(-0.1, 0)\n",
    "        self.y = 0.80  + random.uniform(-0.1, 0)  #np.random.normal(-0.05, 0.025)\n",
    "        self.dx = 0.0\n",
    "        self.dy = 0.0\n",
    "        # Point Mass Dynamics Control:\n",
    "        self.h = 0.35      # time resolution\n",
    "        self.T = HORIZON       # Time for each trajectory\n",
    "        self.eta = 0.75    # friction coef\n",
    "        self.m = 4.0      # mass of the car\n",
    "        self.t = 0        # current time\n",
    "\n",
    "    def step(self, act):\n",
    "        if(self.t > self.T):\n",
    "            sys.exit(-1)\n",
    "        pt = np.asarray([self.x, self.y])\n",
    "        vt = np.asarray([self.dx, self.dy])\n",
    "        ut = np.asarray(act)\n",
    "        vt_1 = ((1-((self.h*self.eta)/self.m))*vt) + ((self.h/self.m)*ut)\n",
    "        pt_1 = pt + (self.h*vt_1)\n",
    "        if(np.linalg.norm(pt_1 - OBSTACLE) < 0.05):\n",
    "            print(\"COLLIDED\")\n",
    "            self.dx, self.dy = 0, 0\n",
    "        self.x, self.y = pt_1[0], pt_1[1]\n",
    "        self.dx, self.dy = vt_1[0], vt_1[1]\n",
    "        self.t += 1\n",
    "        state = np.asarray([self.x, self.y, self.dx, self.dy])\n",
    "        return state, np.linalg.norm(pt) - np.linalg.norm(pt_1), self.complete(), 0\n",
    "\n",
    "    def complete(self):\n",
    "        state = np.asarray([self.x, self.y])\n",
    "        if(self.x < 0.05 and self.y < 0.05):\n",
    "            return True\n",
    "        if(self.x < 0.0 or self.y < 0.0):\n",
    "            return True\n",
    "        #if(np.linalg.norm(state) < 0.05):\n",
    "        #    return True\n",
    "        if(self.t==self.T):\n",
    "            return True\n",
    "    def reset(self):\n",
    "        self.x = 0.90  + random.uniform(-0.3, 0)\n",
    "        self.y = 0.90  + random.uniform(-0.3, 0)\n",
    "        self.dx = 0.0\n",
    "        self.dy = 0.0\n",
    "        self.t = 0\n",
    "        return np.asarray([self.x, self.y, self.dx, self.dy])\n",
    "    def action_space_sample(self):\n",
    "        return np.random.rand(2)\n",
    "    def observation_space_sample(self):\n",
    "        return np.random.rand(4)"
   ]
  },
  {
   "cell_type": "code",
   "execution_count": 4,
   "id": "c55efe8f",
   "metadata": {},
   "outputs": [],
   "source": [
    "env = P2D_env()\n",
    "state_0 = env.reset()\n",
    "action_dims = len(env.action_space_sample())\n",
    "observe_dims = len(env.observation_space_sample())\n",
    "model_input_dims = observe_dims + action_dims\n",
    "model_output_dims = observe_dims\n",
    "control_input_dims = observe_dims\n",
    "control_output_dims = action_dims"
   ]
  },
  {
   "cell_type": "code",
   "execution_count": 5,
   "id": "d90850be",
   "metadata": {},
   "outputs": [
    {
     "name": "stdout",
     "output_type": "stream",
     "text": [
      "This optimizer does not have a default compilation method. Please make sure to call the correct .compile method before use.\n",
      "deepbayes: Using implicit prior\n",
      "(6, 12) 0.12909944487358055\n",
      "(12, 12) 0.09128709291752768\n",
      "(12, 12) 0.09128709291752768\n",
      "(12, 4) 0.09128709291752768\n",
      "deepbayes: Using implicit prior\n",
      "(6, 12) 0.12909944487358055\n",
      "(12, 12) 0.09128709291752768\n",
      "(12, 12) 0.09128709291752768\n",
      "(12, 4) 0.09128709291752768\n"
     ]
    },
    {
     "name": "stderr",
     "output_type": "stream",
     "text": [
      "2023-03-02 21:15:08.193178: I tensorflow/core/platform/cpu_feature_guard.cc:193] This TensorFlow binary is optimized with oneAPI Deep Neural Network Library (oneDNN) to use the following CPU instructions in performance-critical operations:  SSE4.1 SSE4.2\n",
      "To enable them in other operations, rebuild TensorFlow with the appropriate compiler flags.\n"
     ]
    }
   ],
   "source": [
    "model = Sequential()\n",
    "model.add(Dense(12, input_shape=(model_input_dims,), activation=\"sigmoid\", dtype='float32'))\n",
    "model.add(Dense(12, activation=\"sigmoid\"))\n",
    "model.add(Dense(12, activation=\"sigmoid\"))\n",
    "model.add(Dense(model_output_dims, activation=\"linear\"))\n",
    "learning_rate = 0.02; decay=0.0\n",
    "#opt = optimizers.VariationalOnlineGuassNewton()\n",
    "opt = optimizers.StochasticWeightAveragingGaussian()\n",
    "mse_loss = tf.keras.losses.mean_squared_error\n",
    "def cust_loss(y_true, y_pred):\n",
    "    y_true = tf.cast(y_true, dtype=tf.float32)\n",
    "    y_pred = tf.cast(y_pred, dtype=tf.float32)\n",
    "    loss = tf.where(tf.math.reduce_all(y_pred > y_true, 1), 2.5*mse_loss(y_true, y_pred), mse_loss(y_true, y_pred))\n",
    "    return loss\n",
    "loss = cust_loss\n",
    "#bayes_model = opt.compile(model, loss_fn=loss, epochs=35, learning_rate=learning_rate,\n",
    "#                          decay=decay, inflate_prior=0.001, mode='regression', robust_train=10, linear_schedule=False)\n",
    "bayes_model = opt.compile(model, loss_fn=loss, epochs=35, learning_rate=learning_rate,\n",
    "                          decay=decay, inflate_prior=0.1, mode='regression', robust_train=0, linear_schedule=False)\n",
    "\n",
    "\n",
    "opt.epsilon = 0.05"
   ]
  },
  {
   "cell_type": "code",
   "execution_count": 6,
   "id": "3297f057",
   "metadata": {},
   "outputs": [],
   "source": [
    "def tf_reward_function(state_0, dyn_pred, goal):\n",
    "    state_0 = tf.squeeze(state_0)\n",
    "    dyn_pred = tf.squeeze(dyn_pred)\n",
    "    state_0 = tf.cast(state_0, dtype=tf.float64)\n",
    "    dyn_pred = tf.cast(dyn_pred, dtype=tf.float64)\n",
    "    state_1 = state_0 + dyn_pred\n",
    "    d1 = tf.norm(state_0[:,pos_ind:pos_ind+2] - goal, axis=1)\n",
    "    d2 = tf.norm(state_1[:,pos_ind:pos_ind+2] - goal, axis=1)\n",
    "    attractor_reward = 0\n",
    "    for a in ATTRACTORS:\n",
    "        #attractor_reward -= 0.5/(tf.norm(a - state_1[:,pos_ind:pos_ind+2], axis=1))\n",
    "        dist_a1 = tf.norm(a - state_1[:,pos_ind:pos_ind+2], axis=1)\n",
    "        non_reward = tf.cast(tf.ones(dist_a1.shape)*100, tf.float64)\n",
    "        dist_a1 = tf.where(dist_a1 < 0.45, dist_a1, non_reward)\n",
    "        value = 15/(dist_a1)\n",
    "        attractor_reward -= value\n",
    "    obstacle_penalty = 0\n",
    "    for o in OBSTACLES:\n",
    "        dist_o1 = tf.norm(o - state_0[:,pos_ind:pos_ind+2], axis=1)\n",
    "        dist_o2 = tf.norm(o - state_1[:,pos_ind:pos_ind+2], axis=1)\n",
    "        non_error = tf.cast(tf.ones(dist_o2.shape)*100, tf.float64)\n",
    "        dist_o2 = tf.where(dist_o2 < 0.35, dist_o2, non_error)\n",
    "        value = 12.5/(dist_o2)\n",
    "        obstacle_penalty += value\n",
    "    #return (-1.5*(d2-d1)) + (0.3/o2)\n",
    "    return (-1.0/(d2-d1)) + obstacle_penalty + attractor_reward\n"
   ]
  },
  {
   "cell_type": "code",
   "execution_count": 7,
   "id": "56d069f3",
   "metadata": {},
   "outputs": [],
   "source": [
    "ACTION_MATRIX = (np.random.rand(C_STATES, C_STATES, action_dims)*-0.5)\n",
    "\n",
    "def return_AM_action(state_0, ACTION_MATRIX):\n",
    "    #ind_i = math.floor(state_0[0]*C_STATES)\n",
    "    #ind_j = math.floor(state_0[1]*C_STATES)\n",
    "    ind_i = round(state_0[0]*C_STATES)\n",
    "    ind_j = round(state_0[1]*C_STATES)\n",
    "    a, b = random.uniform(-0.4, 0), random.uniform(-0.4, 0)\n",
    "    retval = [a, b]\n",
    "    try:\n",
    "        retval =  ACTION_MATRIX[ind_i][ind_j]\n",
    "    except:\n",
    "        if(ind_i >= C_STATES*0.9 and ind_j >= C_STATES*0.9):\n",
    "            retval = [-0, -0]\n",
    "        elif(ind_j >= C_STATES*0.9):\n",
    "            retval = ACTION_MATRIX[ind_i][C_STATES-1]\n",
    "            retval[1] = -0\n",
    "        elif(ind_j >= C_STATES*0.9):\n",
    "            retval = ACTION_MATRIX[C_STATES-1][ind_j]\n",
    "            retval[0] = -0\n",
    "    return retval"
   ]
  },
  {
   "cell_type": "code",
   "execution_count": 8,
   "id": "6a2dc7d5",
   "metadata": {},
   "outputs": [],
   "source": [
    "# Define function to sample {(s,a) -> s} dataset\n",
    "def gen_dynamics_dataset(env, size, dyn_model, X=[], y=[], fully_rand=False):\n",
    "    X_train = list(X); y_train = list(y)\n",
    "    appended = 0\n",
    "    for traj in trange(size, desc=\"Generating Dynamics Dataset\"):\n",
    "        done = False\n",
    "        prev_obs = env.reset()\n",
    "        #prev_obs = np.concatenate((obs,env.robot_pos))\n",
    "        while(not done):\n",
    "            if(fully_rand==True):\n",
    "                act = env.action_space_sample()\n",
    "            else:\n",
    "                #print(\"MAKING PREDICTION: \", fully_rand==False)\n",
    "                act = return_AM_action(prev_obs, ACTION_MATRIX)\n",
    "            obs, reward, done, collisions = env.step(act)\n",
    "            #obs = np.concatenate((obs, env.robot_pos))\n",
    "            x = np.concatenate((prev_obs,act))\n",
    "            y = obs - prev_obs\n",
    "            X_train.append(x); y_train.append(y)\n",
    "            prev_obs = obs\n",
    "    return np.asarray(X_train), np.asarray(y_train)"
   ]
  },
  {
   "cell_type": "code",
   "execution_count": 9,
   "id": "e57ed259",
   "metadata": {},
   "outputs": [],
   "source": [
    "# Define a metric for how we are doing on the reward signal\n",
    "def estimate_reward(env, dyn_model, size=5):\n",
    "    reward = 0\n",
    "    final_state = []\n",
    "    rot_info = []\n",
    "    saved_trajectories = []\n",
    "    for traj in trange(size):\n",
    "        done = False\n",
    "        t = []\n",
    "        prev_obs = env.reset()\n",
    "        #prev_obs = env.robot_pos\n",
    "        counter = 0\n",
    "        while(not done):\n",
    "            t.append(prev_obs)\n",
    "            act = return_AM_action(prev_obs, ACTION_MATRIX)\n",
    "            obs, r, done, collisions = env.step(act)\n",
    "            #obs = env.robot_pos\n",
    "            print(\"STATE: %s ACT: %s \"%(obs, act))\n",
    "            rot_info.append(np.squeeze(act)[1])\n",
    "            reward += r; counter += 1\n",
    "            prev_obs = obs\n",
    "        final_state.append(obs)\n",
    "        saved_trajectories.append(t)\n",
    "        print(\"final state \", obs[pos_ind:pos_ind+2])\n",
    "    reward/=size\n",
    "    np.save(\"LearnedSystem/simulations\", saved_trajectories)\n",
    "    return reward, np.mean(final_state, axis=0), np.mean(rot_info)"
   ]
  },
  {
   "cell_type": "code",
   "execution_count": 10,
   "id": "c8e8c33a",
   "metadata": {},
   "outputs": [],
   "source": [
    "def action_gradient(model, inp, loss_fn, w):\n",
    "    gradient_sum = tf.zeros(np.asarray(inp).shape)\n",
    "    inp = tf.convert_to_tensor(inp)\n",
    "    model.model.set_weights(w)\n",
    "    with tf.GradientTape(persistent=True) as tape:\n",
    "        tape.watch(inp)\n",
    "        predictions = model.model(inp)\n",
    "        loss = loss_fn([tf.squeeze(inp)[:,0:-2]], predictions, GOAL_STATE)\n",
    "    inp_gradient = tape.gradient(loss, inp)\n",
    "    inp_gradient = tf.cast(inp_gradient, 'float32')\n",
    "    return tf.squeeze(inp_gradient)[:,-2:]\n",
    "\n",
    "def update_AM(env, bayes_model, ACTION_MATRIX, iterations=25, learning_rate=0.01):\n",
    "    print(\"UPDATING THE ACTION MATRIX\")\n",
    "    #if(loss is None):\n",
    "    loss = tf_reward_function # This is gobally defined\n",
    "    for _ in trange(iterations):\n",
    "        X_data = []\n",
    "        Y_data = []\n",
    "        for i in range(len(ACTION_MATRIX)):\n",
    "            for j in range(len(ACTION_MATRIX[0])):\n",
    "                a, b = random.uniform(-0.4, 0), random.uniform(-0.4, 0)\n",
    "                state_vars = [i/C_STATES, j/C_STATES, a, b]\n",
    "                action_vars = ACTION_MATRIX[i][j]\n",
    "                state = np.concatenate((state_vars, action_vars))\n",
    "                X_data.append(state)\n",
    "        grads = action_gradient(bayes_model, X_data, loss, bayes_model.sample())\n",
    "        #grads = np.clip(grads, -0.75, 0.75)\n",
    "        update = np.zeros((C_STATES, C_STATES, 2))\n",
    "        for i in range(len(ACTION_MATRIX)):\n",
    "            for j in range(len(ACTION_MATRIX[0])):\n",
    "                update[i][j] = grads[i*C_STATES + j]\n",
    "        ACTION_MATRIX -= learning_rate * np.asarray(update)\n",
    "        for i in range(len(ACTION_MATRIX)):\n",
    "            for j in range(len(ACTION_MATRIX[0])):\n",
    "                if(np.linalg.norm(ACTION_MATRIX[i][j]) > SPEED_LIMIT):\n",
    "                    ACTION_MATRIX[i][j] /= np.linalg.norm(ACTION_MATRIX[i][j])\n",
    "                    ACTION_MATRIX[i][j] *= SPEED_LIMIT"
   ]
  },
  {
   "cell_type": "code",
   "execution_count": 11,
   "id": "767ea614",
   "metadata": {},
   "outputs": [
    {
     "name": "stderr",
     "output_type": "stream",
     "text": [
      "Generating Dynamics Dataset: 100%|███████████████████████████████████████████████████████████████████████████████████████████| 20/20 [00:00<00:00, 725.58it/s]\n",
      "100%|████████████████████████████████████████████████████████████████████████████████████████████████████████████████████████| 16/16 [00:00<00:00, 167.69it/s]\n"
     ]
    },
    {
     "name": "stdout",
     "output_type": "stream",
     "text": [
      "Epoch 1, loss: 0.329, err: 0.574, val_loss: 0.003, val_err: 0.050\n"
     ]
    },
    {
     "name": "stderr",
     "output_type": "stream",
     "text": [
      "100%|████████████████████████████████████████████████████████████████████████████████████████████████████████████████████████| 16/16 [00:00<00:00, 201.83it/s]\n"
     ]
    },
    {
     "name": "stdout",
     "output_type": "stream",
     "text": [
      "Epoch 2, loss: 0.002, err: 0.048, val_loss: 0.002, val_err: 0.049\n"
     ]
    },
    {
     "name": "stderr",
     "output_type": "stream",
     "text": [
      "100%|████████████████████████████████████████████████████████████████████████████████████████████████████████████████████████| 16/16 [00:00<00:00, 204.12it/s]\n"
     ]
    },
    {
     "name": "stdout",
     "output_type": "stream",
     "text": [
      "Epoch 3, loss: 0.002, err: 0.048, val_loss: 0.003, val_err: 0.050\n"
     ]
    },
    {
     "name": "stderr",
     "output_type": "stream",
     "text": [
      "100%|████████████████████████████████████████████████████████████████████████████████████████████████████████████████████████| 16/16 [00:00<00:00, 203.94it/s]\n"
     ]
    },
    {
     "name": "stdout",
     "output_type": "stream",
     "text": [
      "Epoch 4, loss: 0.002, err: 0.048, val_loss: 0.002, val_err: 0.049\n"
     ]
    },
    {
     "name": "stderr",
     "output_type": "stream",
     "text": [
      "100%|████████████████████████████████████████████████████████████████████████████████████████████████████████████████████████| 16/16 [00:00<00:00, 201.88it/s]\n"
     ]
    },
    {
     "name": "stdout",
     "output_type": "stream",
     "text": [
      "Epoch 5, loss: 0.002, err: 0.048, val_loss: 0.002, val_err: 0.049\n"
     ]
    },
    {
     "name": "stderr",
     "output_type": "stream",
     "text": [
      "100%|████████████████████████████████████████████████████████████████████████████████████████████████████████████████████████| 16/16 [00:00<00:00, 202.79it/s]\n"
     ]
    },
    {
     "name": "stdout",
     "output_type": "stream",
     "text": [
      "Epoch 6, loss: 0.002, err: 0.048, val_loss: 0.002, val_err: 0.049\n"
     ]
    },
    {
     "name": "stderr",
     "output_type": "stream",
     "text": [
      "100%|████████████████████████████████████████████████████████████████████████████████████████████████████████████████████████| 16/16 [00:00<00:00, 204.51it/s]\n"
     ]
    },
    {
     "name": "stdout",
     "output_type": "stream",
     "text": [
      "Epoch 7, loss: 0.002, err: 0.048, val_loss: 0.002, val_err: 0.050\n"
     ]
    },
    {
     "name": "stderr",
     "output_type": "stream",
     "text": [
      "100%|████████████████████████████████████████████████████████████████████████████████████████████████████████████████████████| 16/16 [00:00<00:00, 206.37it/s]\n"
     ]
    },
    {
     "name": "stdout",
     "output_type": "stream",
     "text": [
      "Epoch 8, loss: 0.002, err: 0.047, val_loss: 0.002, val_err: 0.049\n"
     ]
    },
    {
     "name": "stderr",
     "output_type": "stream",
     "text": [
      "100%|████████████████████████████████████████████████████████████████████████████████████████████████████████████████████████| 16/16 [00:00<00:00, 206.41it/s]\n"
     ]
    },
    {
     "name": "stdout",
     "output_type": "stream",
     "text": [
      "Epoch 9, loss: 0.002, err: 0.047, val_loss: 0.002, val_err: 0.049\n"
     ]
    },
    {
     "name": "stderr",
     "output_type": "stream",
     "text": [
      "100%|████████████████████████████████████████████████████████████████████████████████████████████████████████████████████████| 16/16 [00:00<00:00, 204.92it/s]\n"
     ]
    },
    {
     "name": "stdout",
     "output_type": "stream",
     "text": [
      "Epoch 10, loss: 0.002, err: 0.047, val_loss: 0.002, val_err: 0.049\n"
     ]
    },
    {
     "name": "stderr",
     "output_type": "stream",
     "text": [
      "100%|████████████████████████████████████████████████████████████████████████████████████████████████████████████████████████| 16/16 [00:00<00:00, 201.04it/s]\n"
     ]
    },
    {
     "name": "stdout",
     "output_type": "stream",
     "text": [
      "Epoch 11, loss: 0.002, err: 0.047, val_loss: 0.002, val_err: 0.048\n"
     ]
    },
    {
     "name": "stderr",
     "output_type": "stream",
     "text": [
      "100%|████████████████████████████████████████████████████████████████████████████████████████████████████████████████████████| 16/16 [00:00<00:00, 204.84it/s]\n"
     ]
    },
    {
     "name": "stdout",
     "output_type": "stream",
     "text": [
      "Epoch 12, loss: 0.002, err: 0.046, val_loss: 0.002, val_err: 0.048\n"
     ]
    },
    {
     "name": "stderr",
     "output_type": "stream",
     "text": [
      "100%|████████████████████████████████████████████████████████████████████████████████████████████████████████████████████████| 16/16 [00:00<00:00, 207.93it/s]\n"
     ]
    },
    {
     "name": "stdout",
     "output_type": "stream",
     "text": [
      "Epoch 13, loss: 0.002, err: 0.046, val_loss: 0.002, val_err: 0.048\n"
     ]
    },
    {
     "name": "stderr",
     "output_type": "stream",
     "text": [
      "100%|████████████████████████████████████████████████████████████████████████████████████████████████████████████████████████| 16/16 [00:00<00:00, 205.15it/s]\n"
     ]
    },
    {
     "name": "stdout",
     "output_type": "stream",
     "text": [
      "Epoch 14, loss: 0.002, err: 0.046, val_loss: 0.002, val_err: 0.048\n"
     ]
    },
    {
     "name": "stderr",
     "output_type": "stream",
     "text": [
      "100%|████████████████████████████████████████████████████████████████████████████████████████████████████████████████████████| 16/16 [00:00<00:00, 206.01it/s]\n"
     ]
    },
    {
     "name": "stdout",
     "output_type": "stream",
     "text": [
      "Epoch 15, loss: 0.002, err: 0.046, val_loss: 0.002, val_err: 0.047\n"
     ]
    },
    {
     "name": "stderr",
     "output_type": "stream",
     "text": [
      "100%|████████████████████████████████████████████████████████████████████████████████████████████████████████████████████████| 16/16 [00:00<00:00, 204.78it/s]\n"
     ]
    },
    {
     "name": "stdout",
     "output_type": "stream",
     "text": [
      "Epoch 16, loss: 0.002, err: 0.046, val_loss: 0.002, val_err: 0.047\n"
     ]
    },
    {
     "name": "stderr",
     "output_type": "stream",
     "text": [
      "100%|████████████████████████████████████████████████████████████████████████████████████████████████████████████████████████| 16/16 [00:00<00:00, 193.58it/s]\n"
     ]
    },
    {
     "name": "stdout",
     "output_type": "stream",
     "text": [
      "Epoch 17, loss: 0.002, err: 0.046, val_loss: 0.002, val_err: 0.047\n"
     ]
    },
    {
     "name": "stderr",
     "output_type": "stream",
     "text": [
      "100%|████████████████████████████████████████████████████████████████████████████████████████████████████████████████████████| 16/16 [00:00<00:00, 201.24it/s]\n"
     ]
    },
    {
     "name": "stdout",
     "output_type": "stream",
     "text": [
      "Epoch 18, loss: 0.002, err: 0.046, val_loss: 0.002, val_err: 0.047\n"
     ]
    },
    {
     "name": "stderr",
     "output_type": "stream",
     "text": [
      "100%|████████████████████████████████████████████████████████████████████████████████████████████████████████████████████████| 16/16 [00:00<00:00, 205.96it/s]\n"
     ]
    },
    {
     "name": "stdout",
     "output_type": "stream",
     "text": [
      "Epoch 19, loss: 0.002, err: 0.045, val_loss: 0.002, val_err: 0.047\n"
     ]
    },
    {
     "name": "stderr",
     "output_type": "stream",
     "text": [
      "100%|████████████████████████████████████████████████████████████████████████████████████████████████████████████████████████| 16/16 [00:00<00:00, 205.95it/s]\n"
     ]
    },
    {
     "name": "stdout",
     "output_type": "stream",
     "text": [
      "Epoch 20, loss: 0.002, err: 0.045, val_loss: 0.002, val_err: 0.046\n"
     ]
    },
    {
     "name": "stderr",
     "output_type": "stream",
     "text": [
      "100%|████████████████████████████████████████████████████████████████████████████████████████████████████████████████████████| 16/16 [00:00<00:00, 204.45it/s]\n"
     ]
    },
    {
     "name": "stdout",
     "output_type": "stream",
     "text": [
      "Epoch 21, loss: 0.002, err: 0.045, val_loss: 0.002, val_err: 0.046\n"
     ]
    },
    {
     "name": "stderr",
     "output_type": "stream",
     "text": [
      "100%|████████████████████████████████████████████████████████████████████████████████████████████████████████████████████████| 16/16 [00:00<00:00, 201.18it/s]\n"
     ]
    },
    {
     "name": "stdout",
     "output_type": "stream",
     "text": [
      "Epoch 22, loss: 0.002, err: 0.044, val_loss: 0.002, val_err: 0.046\n"
     ]
    },
    {
     "name": "stderr",
     "output_type": "stream",
     "text": [
      "100%|████████████████████████████████████████████████████████████████████████████████████████████████████████████████████████| 16/16 [00:00<00:00, 206.47it/s]\n"
     ]
    },
    {
     "name": "stdout",
     "output_type": "stream",
     "text": [
      "Epoch 23, loss: 0.002, err: 0.044, val_loss: 0.002, val_err: 0.046\n"
     ]
    },
    {
     "name": "stderr",
     "output_type": "stream",
     "text": [
      "100%|████████████████████████████████████████████████████████████████████████████████████████████████████████████████████████| 16/16 [00:00<00:00, 204.28it/s]\n"
     ]
    },
    {
     "name": "stdout",
     "output_type": "stream",
     "text": [
      "Epoch 24, loss: 0.002, err: 0.044, val_loss: 0.002, val_err: 0.046\n"
     ]
    },
    {
     "name": "stderr",
     "output_type": "stream",
     "text": [
      "100%|████████████████████████████████████████████████████████████████████████████████████████████████████████████████████████| 16/16 [00:00<00:00, 207.21it/s]\n"
     ]
    },
    {
     "name": "stdout",
     "output_type": "stream",
     "text": [
      "Epoch 25, loss: 0.002, err: 0.044, val_loss: 0.002, val_err: 0.045\n"
     ]
    },
    {
     "name": "stderr",
     "output_type": "stream",
     "text": [
      "100%|████████████████████████████████████████████████████████████████████████████████████████████████████████████████████████| 16/16 [00:00<00:00, 207.55it/s]\n"
     ]
    },
    {
     "name": "stdout",
     "output_type": "stream",
     "text": [
      "Epoch 26, loss: 0.002, err: 0.044, val_loss: 0.002, val_err: 0.046\n"
     ]
    },
    {
     "name": "stderr",
     "output_type": "stream",
     "text": [
      "100%|████████████████████████████████████████████████████████████████████████████████████████████████████████████████████████| 16/16 [00:00<00:00, 207.09it/s]\n"
     ]
    },
    {
     "name": "stdout",
     "output_type": "stream",
     "text": [
      "Epoch 27, loss: 0.002, err: 0.043, val_loss: 0.002, val_err: 0.045\n"
     ]
    },
    {
     "name": "stderr",
     "output_type": "stream",
     "text": [
      "100%|████████████████████████████████████████████████████████████████████████████████████████████████████████████████████████| 16/16 [00:00<00:00, 206.46it/s]\n"
     ]
    },
    {
     "name": "stdout",
     "output_type": "stream",
     "text": [
      "Epoch 28, loss: 0.002, err: 0.043, val_loss: 0.002, val_err: 0.045\n"
     ]
    },
    {
     "name": "stderr",
     "output_type": "stream",
     "text": [
      "100%|████████████████████████████████████████████████████████████████████████████████████████████████████████████████████████| 16/16 [00:00<00:00, 209.04it/s]\n"
     ]
    },
    {
     "name": "stdout",
     "output_type": "stream",
     "text": [
      "Epoch 29, loss: 0.002, err: 0.043, val_loss: 0.002, val_err: 0.045\n"
     ]
    },
    {
     "name": "stderr",
     "output_type": "stream",
     "text": [
      "100%|████████████████████████████████████████████████████████████████████████████████████████████████████████████████████████| 16/16 [00:00<00:00, 208.37it/s]\n"
     ]
    },
    {
     "name": "stdout",
     "output_type": "stream",
     "text": [
      "Epoch 30, loss: 0.002, err: 0.043, val_loss: 0.002, val_err: 0.044\n"
     ]
    },
    {
     "name": "stderr",
     "output_type": "stream",
     "text": [
      "100%|████████████████████████████████████████████████████████████████████████████████████████████████████████████████████████| 16/16 [00:00<00:00, 208.44it/s]\n"
     ]
    },
    {
     "name": "stdout",
     "output_type": "stream",
     "text": [
      "Epoch 31, loss: 0.002, err: 0.042, val_loss: 0.002, val_err: 0.043\n"
     ]
    },
    {
     "name": "stderr",
     "output_type": "stream",
     "text": [
      "100%|████████████████████████████████████████████████████████████████████████████████████████████████████████████████████████| 16/16 [00:00<00:00, 209.82it/s]\n"
     ]
    },
    {
     "name": "stdout",
     "output_type": "stream",
     "text": [
      "Epoch 32, loss: 0.002, err: 0.042, val_loss: 0.002, val_err: 0.043\n"
     ]
    },
    {
     "name": "stderr",
     "output_type": "stream",
     "text": [
      "100%|████████████████████████████████████████████████████████████████████████████████████████████████████████████████████████| 16/16 [00:00<00:00, 209.70it/s]\n"
     ]
    },
    {
     "name": "stdout",
     "output_type": "stream",
     "text": [
      "Epoch 33, loss: 0.002, err: 0.041, val_loss: 0.002, val_err: 0.043\n"
     ]
    },
    {
     "name": "stderr",
     "output_type": "stream",
     "text": [
      "100%|████████████████████████████████████████████████████████████████████████████████████████████████████████████████████████| 16/16 [00:00<00:00, 210.64it/s]\n"
     ]
    },
    {
     "name": "stdout",
     "output_type": "stream",
     "text": [
      "Epoch 34, loss: 0.002, err: 0.041, val_loss: 0.002, val_err: 0.042\n"
     ]
    },
    {
     "name": "stderr",
     "output_type": "stream",
     "text": [
      "100%|████████████████████████████████████████████████████████████████████████████████████████████████████████████████████████| 16/16 [00:00<00:00, 210.57it/s]\n"
     ]
    },
    {
     "name": "stdout",
     "output_type": "stream",
     "text": [
      "Epoch 35, loss: 0.002, err: 0.041, val_loss: 0.002, val_err: 0.042\n"
     ]
    },
    {
     "name": "stderr",
     "output_type": "stream",
     "text": [
      "100%|████████████████████████████████████████████████████████████████████████████████████████████████████████████████████████| 16/16 [00:00<00:00, 210.69it/s]\n"
     ]
    },
    {
     "name": "stdout",
     "output_type": "stream",
     "text": [
      "Epoch 36, loss: 0.002, err: 0.040, val_loss: 0.002, val_err: 0.042\n"
     ]
    },
    {
     "name": "stderr",
     "output_type": "stream",
     "text": [
      "100%|████████████████████████████████████████████████████████████████████████████████████████████████████████████████████████| 16/16 [00:00<00:00, 209.77it/s]\n"
     ]
    },
    {
     "name": "stdout",
     "output_type": "stream",
     "text": [
      "Epoch 37, loss: 0.002, err: 0.040, val_loss: 0.002, val_err: 0.042\n"
     ]
    },
    {
     "name": "stderr",
     "output_type": "stream",
     "text": [
      "100%|██████████████████████████████████████████████████████████████████████████████████████████████████████████████████████████| 2/2 [00:00<00:00, 445.04it/s]\n",
      "/Users/matthewwicker/opt/anaconda3/envs/bayesdev/lib/python3.10/site-packages/numpy/lib/npyio.py:518: VisibleDeprecationWarning: Creating an ndarray from ragged nested sequences (which is a list-or-tuple of lists-or-tuples-or ndarrays with different lengths or shapes) is deprecated. If you meant to do this, you must specify 'dtype=object' when creating the ndarray.\n",
      "  arr = np.asanyarray(arr)\n"
     ]
    },
    {
     "name": "stdout",
     "output_type": "stream",
     "text": [
      "STATE: [ 0.78958197  0.86315918 -0.03149058 -0.00996063] ACT: [-0.35989236 -0.11383582] \n",
      "STATE: [ 0.76826186  0.85641552 -0.06091459 -0.0192676 ] ACT: [-0.35989236 -0.11383582] \n",
      "STATE: [ 0.73907597  0.84923077 -0.08338825 -0.02052786] ACT: [-0.30252768 -0.02885368] \n",
      "STATE: [ 0.70122824  0.83399144 -0.10813639 -0.04354093] ACT: [-0.3453771  -0.27840235] \n",
      "STATE: [ 0.66172324  0.80858953 -0.11287142 -0.07257689] ACT: [-0.13521697 -0.36449526] \n",
      "STATE: [ 0.61502727  0.77322873 -0.13341705 -0.10103085] ACT: [-0.31946072 -0.37962082] \n",
      "STATE: [ 0.56096255  0.72511664 -0.15447064 -0.13746312] ACT: [-0.34067527 -0.49214192] \n",
      "STATE: [ 0.49812431  0.6698844  -0.17953783 -0.15780641] ACT: [-0.40233511 -0.33559202] \n",
      "STATE: [ 0.43553646  0.60602715 -0.17882243 -0.18244927] ACT: [-0.12647736 -0.39998758] \n",
      "STATE: [ 0.37188796  0.53373172 -0.18185286 -0.20655837] ACT: [-0.16875037 -0.4123695 ] \n",
      "STATE: [ 0.30697124  0.46525323 -0.18547634 -0.19565284] ACT: [-0.1778008  -0.03028411] \n",
      "STATE: [ 0.2404311   0.39885539 -0.19011468 -0.1897081 ] ACT: [-0.19211689 -0.07879978] \n",
      "STATE: [ 0.1772212   0.32392153 -0.18059972 -0.21409676] ACT: [-0.03384356 -0.42100858] \n",
      "STATE: [ 0.10316069  0.24858869 -0.21160145 -0.21523667] ACT: [-0.48975526 -0.17360013] \n",
      "STATE: [ 0.03088818  0.1755774  -0.20649289 -0.20860369] ACT: [-0.10031759 -0.08562204] \n",
      "STATE: [-0.05058339  0.10458305 -0.23277592 -0.20284099] ACT: [-0.45524717 -0.09059337] \n",
      "final state  [-0.05058339  0.10458305]\n",
      "STATE: [ 0.63934423  0.7355934  -0.01009796 -0.02376772] ACT: [-0.1154053  -0.27163108] \n",
      "STATE: [ 0.62757466  0.72379584 -0.03362733 -0.03370733] ACT: [-0.27648046 -0.13142131] \n",
      "STATE: [ 0.60511152  0.70494816 -0.0641804  -0.0538505 ] ACT: [-0.37439846 -0.25548823] \n",
      "STATE: [ 0.57565795  0.67401499 -0.08415308 -0.08838049] ACT: [-0.27639452 -0.43501629] \n",
      "STATE: [ 0.54348436  0.63351732 -0.09192452 -0.11570763] ACT: [-0.15193127 -0.37859549] \n",
      "STATE: [ 0.49887102  0.58467622 -0.12746671 -0.13954599] ACT: [-0.4751398  -0.35921922] \n",
      "STATE: [ 0.45498028  0.52561889 -0.12540212 -0.16873524] ACT: [-0.07200471 -0.43825089] \n",
      "STATE: [ 0.40287406  0.46258918 -0.14887492 -0.18008487] ACT: [-0.36231218 -0.25626146] \n",
      "STATE: [ 0.34530173  0.39631481 -0.16449236 -0.18935535] ACT: [-0.29014128 -0.24101195] \n",
      "STATE: [ 0.28708292  0.32538369 -0.16633945 -0.20266036] ACT: [-0.14447888 -0.29407376] \n",
      "STATE: [ 0.22070417  0.2530416  -0.18965356 -0.20669168] ACT: [-0.39120158 -0.19806759] \n",
      "STATE: [ 0.15657035  0.17602159 -0.18323948 -0.22005716] ACT: [-0.06893637 -0.30776707] \n",
      "STATE: [ 0.08670122  0.09517252 -0.19962609 -0.23099734] ACT: [-0.32470509 -0.29007348] \n",
      "STATE: [ 0.01525214  0.00703388 -0.20414024 -0.2518247 ] ACT: [-0.20130989 -0.411275  ] \n",
      "final state  [0.01525214 0.00703388]\n",
      "After Initialization REWARD:  (1.0150430946692028, array([-0.01766563,  0.05580847, -0.21845808, -0.22733285]), -0.26890652032501444)\n"
     ]
    },
    {
     "name": "stderr",
     "output_type": "stream",
     "text": [
      "Generating Dynamics Dataset: 100%|██████████████████████████████████████████████████████████████████████████████████████████| 15/15 [00:00<00:00, 1993.11it/s]\n"
     ]
    },
    {
     "name": "stdout",
     "output_type": "stream",
     "text": [
      "COLLIDED\n"
     ]
    },
    {
     "name": "stderr",
     "output_type": "stream",
     "text": [
      "100%|████████████████████████████████████████████████████████████████████████████████████████████████████████████████████████| 20/20 [00:00<00:00, 203.45it/s]\n"
     ]
    },
    {
     "name": "stdout",
     "output_type": "stream",
     "text": [
      "Epoch 1, loss: 0.003, err: 0.047, val_loss: 0.018, val_err: 0.132\n"
     ]
    },
    {
     "name": "stderr",
     "output_type": "stream",
     "text": [
      "100%|████████████████████████████████████████████████████████████████████████████████████████████████████████████████████████| 20/20 [00:00<00:00, 208.14it/s]\n"
     ]
    },
    {
     "name": "stdout",
     "output_type": "stream",
     "text": [
      "Epoch 2, loss: 0.003, err: 0.055, val_loss: 0.019, val_err: 0.137\n"
     ]
    },
    {
     "name": "stderr",
     "output_type": "stream",
     "text": [
      "100%|████████████████████████████████████████████████████████████████████████████████████████████████████████████████████████| 20/20 [00:00<00:00, 212.68it/s]\n"
     ]
    },
    {
     "name": "stdout",
     "output_type": "stream",
     "text": [
      "Epoch 3, loss: 0.003, err: 0.054, val_loss: 0.017, val_err: 0.131\n"
     ]
    },
    {
     "name": "stderr",
     "output_type": "stream",
     "text": [
      "100%|████████████████████████████████████████████████████████████████████████████████████████████████████████████████████████| 20/20 [00:00<00:00, 212.14it/s]\n"
     ]
    },
    {
     "name": "stdout",
     "output_type": "stream",
     "text": [
      "Epoch 4, loss: 0.003, err: 0.053, val_loss: 0.019, val_err: 0.137\n"
     ]
    },
    {
     "name": "stderr",
     "output_type": "stream",
     "text": [
      "100%|████████████████████████████████████████████████████████████████████████████████████████████████████████████████████████| 20/20 [00:00<00:00, 212.24it/s]\n"
     ]
    },
    {
     "name": "stdout",
     "output_type": "stream",
     "text": [
      "Epoch 5, loss: 0.003, err: 0.053, val_loss: 0.015, val_err: 0.123\n"
     ]
    },
    {
     "name": "stderr",
     "output_type": "stream",
     "text": [
      "100%|████████████████████████████████████████████████████████████████████████████████████████████████████████████████████████| 20/20 [00:00<00:00, 211.61it/s]\n"
     ]
    },
    {
     "name": "stdout",
     "output_type": "stream",
     "text": [
      "Epoch 6, loss: 0.003, err: 0.051, val_loss: 0.017, val_err: 0.129\n"
     ]
    },
    {
     "name": "stderr",
     "output_type": "stream",
     "text": [
      "100%|████████████████████████████████████████████████████████████████████████████████████████████████████████████████████████| 20/20 [00:00<00:00, 210.73it/s]\n"
     ]
    },
    {
     "name": "stdout",
     "output_type": "stream",
     "text": [
      "Epoch 7, loss: 0.003, err: 0.051, val_loss: 0.015, val_err: 0.123\n"
     ]
    },
    {
     "name": "stderr",
     "output_type": "stream",
     "text": [
      "100%|████████████████████████████████████████████████████████████████████████████████████████████████████████████████████████| 20/20 [00:00<00:00, 210.60it/s]\n"
     ]
    },
    {
     "name": "stdout",
     "output_type": "stream",
     "text": [
      "Epoch 8, loss: 0.003, err: 0.050, val_loss: 0.016, val_err: 0.125\n"
     ]
    },
    {
     "name": "stderr",
     "output_type": "stream",
     "text": [
      "100%|████████████████████████████████████████████████████████████████████████████████████████████████████████████████████████| 20/20 [00:00<00:00, 211.82it/s]\n"
     ]
    },
    {
     "name": "stdout",
     "output_type": "stream",
     "text": [
      "Epoch 9, loss: 0.003, err: 0.051, val_loss: 0.015, val_err: 0.121\n"
     ]
    },
    {
     "name": "stderr",
     "output_type": "stream",
     "text": [
      "100%|████████████████████████████████████████████████████████████████████████████████████████████████████████████████████████| 20/20 [00:00<00:00, 212.73it/s]\n"
     ]
    },
    {
     "name": "stdout",
     "output_type": "stream",
     "text": [
      "Epoch 10, loss: 0.003, err: 0.048, val_loss: 0.016, val_err: 0.125\n"
     ]
    },
    {
     "name": "stderr",
     "output_type": "stream",
     "text": [
      "100%|████████████████████████████████████████████████████████████████████████████████████████████████████████████████████████| 20/20 [00:00<00:00, 211.63it/s]\n"
     ]
    },
    {
     "name": "stdout",
     "output_type": "stream",
     "text": [
      "Epoch 11, loss: 0.003, err: 0.048, val_loss: 0.015, val_err: 0.124\n"
     ]
    },
    {
     "name": "stderr",
     "output_type": "stream",
     "text": [
      "100%|████████████████████████████████████████████████████████████████████████████████████████████████████████████████████████| 20/20 [00:00<00:00, 209.57it/s]\n"
     ]
    },
    {
     "name": "stdout",
     "output_type": "stream",
     "text": [
      "Epoch 12, loss: 0.003, err: 0.048, val_loss: 0.014, val_err: 0.117\n"
     ]
    },
    {
     "name": "stderr",
     "output_type": "stream",
     "text": [
      "100%|████████████████████████████████████████████████████████████████████████████████████████████████████████████████████████| 20/20 [00:00<00:00, 210.97it/s]\n"
     ]
    },
    {
     "name": "stdout",
     "output_type": "stream",
     "text": [
      "Epoch 13, loss: 0.002, err: 0.047, val_loss: 0.013, val_err: 0.112\n"
     ]
    },
    {
     "name": "stderr",
     "output_type": "stream",
     "text": [
      "100%|████████████████████████████████████████████████████████████████████████████████████████████████████████████████████████| 20/20 [00:00<00:00, 210.71it/s]\n"
     ]
    },
    {
     "name": "stdout",
     "output_type": "stream",
     "text": [
      "Epoch 14, loss: 0.002, err: 0.045, val_loss: 0.012, val_err: 0.108\n"
     ]
    },
    {
     "name": "stderr",
     "output_type": "stream",
     "text": [
      "100%|████████████████████████████████████████████████████████████████████████████████████████████████████████████████████████| 20/20 [00:00<00:00, 211.57it/s]\n"
     ]
    },
    {
     "name": "stdout",
     "output_type": "stream",
     "text": [
      "Epoch 15, loss: 0.002, err: 0.044, val_loss: 0.012, val_err: 0.110\n"
     ]
    },
    {
     "name": "stderr",
     "output_type": "stream",
     "text": [
      "100%|████████████████████████████████████████████████████████████████████████████████████████████████████████████████████████| 20/20 [00:00<00:00, 212.80it/s]\n"
     ]
    },
    {
     "name": "stdout",
     "output_type": "stream",
     "text": [
      "Epoch 16, loss: 0.002, err: 0.044, val_loss: 0.011, val_err: 0.103\n"
     ]
    },
    {
     "name": "stderr",
     "output_type": "stream",
     "text": [
      "100%|████████████████████████████████████████████████████████████████████████████████████████████████████████████████████████| 20/20 [00:00<00:00, 213.10it/s]\n"
     ]
    },
    {
     "name": "stdout",
     "output_type": "stream",
     "text": [
      "Epoch 17, loss: 0.002, err: 0.042, val_loss: 0.010, val_err: 0.102\n"
     ]
    },
    {
     "name": "stderr",
     "output_type": "stream",
     "text": [
      "100%|████████████████████████████████████████████████████████████████████████████████████████████████████████████████████████| 20/20 [00:00<00:00, 211.53it/s]\n"
     ]
    },
    {
     "name": "stdout",
     "output_type": "stream",
     "text": [
      "Epoch 18, loss: 0.002, err: 0.042, val_loss: 0.011, val_err: 0.104\n"
     ]
    },
    {
     "name": "stderr",
     "output_type": "stream",
     "text": [
      "100%|████████████████████████████████████████████████████████████████████████████████████████████████████████████████████████| 20/20 [00:00<00:00, 212.84it/s]\n"
     ]
    },
    {
     "name": "stdout",
     "output_type": "stream",
     "text": [
      "Epoch 19, loss: 0.002, err: 0.041, val_loss: 0.009, val_err: 0.096\n"
     ]
    },
    {
     "name": "stderr",
     "output_type": "stream",
     "text": [
      "100%|████████████████████████████████████████████████████████████████████████████████████████████████████████████████████████| 20/20 [00:00<00:00, 211.65it/s]\n"
     ]
    },
    {
     "name": "stdout",
     "output_type": "stream",
     "text": [
      "Epoch 20, loss: 0.002, err: 0.040, val_loss: 0.009, val_err: 0.096\n"
     ]
    },
    {
     "name": "stderr",
     "output_type": "stream",
     "text": [
      "100%|████████████████████████████████████████████████████████████████████████████████████████████████████████████████████████| 20/20 [00:00<00:00, 211.07it/s]\n"
     ]
    },
    {
     "name": "stdout",
     "output_type": "stream",
     "text": [
      "Epoch 21, loss: 0.002, err: 0.040, val_loss: 0.007, val_err: 0.086\n"
     ]
    },
    {
     "name": "stderr",
     "output_type": "stream",
     "text": [
      "100%|████████████████████████████████████████████████████████████████████████████████████████████████████████████████████████| 20/20 [00:00<00:00, 212.45it/s]\n"
     ]
    },
    {
     "name": "stdout",
     "output_type": "stream",
     "text": [
      "Epoch 22, loss: 0.002, err: 0.037, val_loss: 0.009, val_err: 0.095\n"
     ]
    },
    {
     "name": "stderr",
     "output_type": "stream",
     "text": [
      "100%|████████████████████████████████████████████████████████████████████████████████████████████████████████████████████████| 20/20 [00:00<00:00, 211.98it/s]\n"
     ]
    },
    {
     "name": "stdout",
     "output_type": "stream",
     "text": [
      "Epoch 23, loss: 0.002, err: 0.039, val_loss: 0.008, val_err: 0.089\n"
     ]
    },
    {
     "name": "stderr",
     "output_type": "stream",
     "text": [
      "100%|████████████████████████████████████████████████████████████████████████████████████████████████████████████████████████| 20/20 [00:00<00:00, 212.98it/s]\n"
     ]
    },
    {
     "name": "stdout",
     "output_type": "stream",
     "text": [
      "Epoch 24, loss: 0.002, err: 0.038, val_loss: 0.010, val_err: 0.102\n"
     ]
    },
    {
     "name": "stderr",
     "output_type": "stream",
     "text": [
      "100%|████████████████████████████████████████████████████████████████████████████████████████████████████████████████████████| 20/20 [00:00<00:00, 209.60it/s]\n"
     ]
    },
    {
     "name": "stdout",
     "output_type": "stream",
     "text": [
      "Epoch 25, loss: 0.002, err: 0.039, val_loss: 0.007, val_err: 0.085\n"
     ]
    },
    {
     "name": "stderr",
     "output_type": "stream",
     "text": [
      "100%|████████████████████████████████████████████████████████████████████████████████████████████████████████████████████████| 20/20 [00:00<00:00, 212.33it/s]\n"
     ]
    },
    {
     "name": "stdout",
     "output_type": "stream",
     "text": [
      "Epoch 26, loss: 0.002, err: 0.038, val_loss: 0.009, val_err: 0.093\n"
     ]
    },
    {
     "name": "stderr",
     "output_type": "stream",
     "text": [
      "100%|████████████████████████████████████████████████████████████████████████████████████████████████████████████████████████| 20/20 [00:00<00:00, 212.77it/s]\n"
     ]
    },
    {
     "name": "stdout",
     "output_type": "stream",
     "text": [
      "Epoch 27, loss: 0.002, err: 0.037, val_loss: 0.007, val_err: 0.084\n"
     ]
    },
    {
     "name": "stderr",
     "output_type": "stream",
     "text": [
      "100%|████████████████████████████████████████████████████████████████████████████████████████████████████████████████████████| 20/20 [00:00<00:00, 210.75it/s]\n"
     ]
    },
    {
     "name": "stdout",
     "output_type": "stream",
     "text": [
      "Epoch 28, loss: 0.002, err: 0.037, val_loss: 0.006, val_err: 0.079\n"
     ]
    },
    {
     "name": "stderr",
     "output_type": "stream",
     "text": [
      "100%|████████████████████████████████████████████████████████████████████████████████████████████████████████████████████████| 20/20 [00:00<00:00, 212.67it/s]\n"
     ]
    },
    {
     "name": "stdout",
     "output_type": "stream",
     "text": [
      "Epoch 29, loss: 0.001, err: 0.036, val_loss: 0.008, val_err: 0.089\n"
     ]
    },
    {
     "name": "stderr",
     "output_type": "stream",
     "text": [
      "100%|████████████████████████████████████████████████████████████████████████████████████████████████████████████████████████| 20/20 [00:00<00:00, 212.85it/s]\n"
     ]
    },
    {
     "name": "stdout",
     "output_type": "stream",
     "text": [
      "Epoch 30, loss: 0.002, err: 0.037, val_loss: 0.008, val_err: 0.088\n"
     ]
    },
    {
     "name": "stderr",
     "output_type": "stream",
     "text": [
      "100%|████████████████████████████████████████████████████████████████████████████████████████████████████████████████████████| 20/20 [00:00<00:00, 213.89it/s]\n"
     ]
    },
    {
     "name": "stdout",
     "output_type": "stream",
     "text": [
      "Epoch 31, loss: 0.002, err: 0.036, val_loss: 0.005, val_err: 0.073\n"
     ]
    },
    {
     "name": "stderr",
     "output_type": "stream",
     "text": [
      "100%|████████████████████████████████████████████████████████████████████████████████████████████████████████████████████████| 20/20 [00:00<00:00, 210.82it/s]\n"
     ]
    },
    {
     "name": "stdout",
     "output_type": "stream",
     "text": [
      "Epoch 32, loss: 0.001, err: 0.034, val_loss: 0.006, val_err: 0.080\n"
     ]
    },
    {
     "name": "stderr",
     "output_type": "stream",
     "text": [
      "100%|████████████████████████████████████████████████████████████████████████████████████████████████████████████████████████| 20/20 [00:00<00:00, 211.81it/s]\n"
     ]
    },
    {
     "name": "stdout",
     "output_type": "stream",
     "text": [
      "Epoch 33, loss: 0.001, err: 0.036, val_loss: 0.006, val_err: 0.076\n"
     ]
    },
    {
     "name": "stderr",
     "output_type": "stream",
     "text": [
      "100%|████████████████████████████████████████████████████████████████████████████████████████████████████████████████████████| 20/20 [00:00<00:00, 212.17it/s]\n"
     ]
    },
    {
     "name": "stdout",
     "output_type": "stream",
     "text": [
      "Epoch 34, loss: 0.001, err: 0.035, val_loss: 0.007, val_err: 0.081\n"
     ]
    },
    {
     "name": "stderr",
     "output_type": "stream",
     "text": [
      "100%|████████████████████████████████████████████████████████████████████████████████████████████████████████████████████████| 20/20 [00:00<00:00, 209.51it/s]\n"
     ]
    },
    {
     "name": "stdout",
     "output_type": "stream",
     "text": [
      "Epoch 35, loss: 0.001, err: 0.034, val_loss: 0.007, val_err: 0.081\n"
     ]
    },
    {
     "name": "stderr",
     "output_type": "stream",
     "text": [
      "100%|████████████████████████████████████████████████████████████████████████████████████████████████████████████████████████| 20/20 [00:00<00:00, 210.39it/s]\n"
     ]
    },
    {
     "name": "stdout",
     "output_type": "stream",
     "text": [
      "Epoch 36, loss: 0.001, err: 0.035, val_loss: 0.006, val_err: 0.079\n"
     ]
    },
    {
     "name": "stderr",
     "output_type": "stream",
     "text": [
      "100%|████████████████████████████████████████████████████████████████████████████████████████████████████████████████████████| 20/20 [00:00<00:00, 213.03it/s]\n"
     ]
    },
    {
     "name": "stdout",
     "output_type": "stream",
     "text": [
      "Epoch 37, loss: 0.001, err: 0.034, val_loss: 0.007, val_err: 0.083\n"
     ]
    },
    {
     "name": "stderr",
     "output_type": "stream",
     "text": [
      "100%|████████████████████████████████████████████████████████████████████████████████████████████████████████████████████████| 20/20 [00:00<00:00, 211.57it/s]\n"
     ]
    },
    {
     "name": "stdout",
     "output_type": "stream",
     "text": [
      "Epoch 38, loss: 0.001, err: 0.035, val_loss: 0.005, val_err: 0.074\n"
     ]
    },
    {
     "name": "stderr",
     "output_type": "stream",
     "text": [
      "100%|████████████████████████████████████████████████████████████████████████████████████████████████████████████████████████| 20/20 [00:00<00:00, 211.83it/s]\n"
     ]
    },
    {
     "name": "stdout",
     "output_type": "stream",
     "text": [
      "Epoch 39, loss: 0.003, err: 0.057, val_loss: 0.004, val_err: 0.059\n"
     ]
    },
    {
     "name": "stderr",
     "output_type": "stream",
     "text": [
      "100%|████████████████████████████████████████████████████████████████████████████████████████████████████████████████████████| 10/10 [00:00<00:00, 465.99it/s]\n"
     ]
    },
    {
     "name": "stdout",
     "output_type": "stream",
     "text": [
      "STATE: [ 0.83373657  0.86875125 -0.00194472 -0.02309606] ACT: [-0.02222542 -0.26395492] \n",
      "STATE: [ 0.83188984  0.858564   -0.00527637 -0.02910644] ACT: [-0.03953455 -0.08601212] \n",
      "STATE: [ 0.82895355  0.84641116 -0.00838939 -0.03472239] ACT: [-0.03953455 -0.08601212] \n",
      "STATE: [ 0.82499922  0.83242174 -0.01129811 -0.03996979] ACT: [-0.03953455 -0.08601212] \n",
      "STATE: [ 0.81656144  0.81385314 -0.02410792 -0.05305315] ACT: [-0.1548715 -0.1795014] \n",
      "STATE: [ 0.80849674  0.78492538 -0.02304201 -0.08265074] ACT: [-0.00589911 -0.3780481 ] \n",
      "STATE: [ 0.78728383  0.74512494 -0.0606083  -0.11371553] ACT: [-0.44661054 -0.41701421] \n",
      "STATE: [ 0.76336384  0.69319268 -0.06834284 -0.1483779 ] ACT: [-0.13385088 -0.48142796] \n",
      "STATE: [ 0.73967004  0.64187587 -0.06769657 -0.14661945] ACT: [-0.04387119 -0.09118684] \n",
      "STATE: [ 0.70418676  0.58558543 -0.10138079 -0.16082982] ACT: [-0.43573502 -0.27236885] \n",
      "STATE: [ 0.66279638  0.52732787 -0.11825825 -0.16645017] ACT: [-0.2689208  -0.18485492] \n",
      "STATE: [ 0.61444181  0.46616184 -0.13815591 -0.17476011] ACT: [-0.31609552 -0.21980836] \n",
      "STATE: [ 0.56869959  0.39910706 -0.13069204 -0.19158508] ACT: [-0.01831555 -0.32335547] \n",
      "STATE: [ 0.5204115   0.32958061 -0.13796597 -0.19864701] ACT: [-0.18114966 -0.22439661] \n",
      "STATE: [ 0.4627767   0.26029757 -0.16467086 -0.19795154] ACT: [-0.40867324 -0.14103698] \n",
      "STATE: [ 0.40842916  0.18977505 -0.15527869 -0.2014929 ] ACT: [-0.016164   -0.18893639] \n",
      "STATE: [ 0.35230085  0.11639677 -0.1603666  -0.20965223] ACT: [-0.17460664 -0.24436913] \n",
      "STATE: [ 0.28466669  0.03501497 -0.19324045 -0.23251943] ACT: [-0.49597608 -0.41857856] \n",
      "STATE: [ 0.22127225 -0.05150021 -0.181127   -0.24718625] ACT: [-0.00649084 -0.34201038] \n",
      "final state  [ 0.22127225 -0.05150021]\n",
      "STATE: [ 0.76508017  0.85479183 -0.02647117 -0.0025247 ] ACT: [-0.30252768 -0.02885368] \n",
      "STATE: [ 0.74715836  0.85308253 -0.05120517 -0.00488371] ACT: [-0.30252768 -0.02885368] \n",
      "STATE: [ 0.7198355   0.84295934 -0.07806533 -0.02892342] ACT: [-0.3453771  -0.27840235] \n",
      "STATE: [ 0.68362656  0.82067164 -0.10345411 -0.06367912] ACT: [-0.34870643 -0.41890054] \n",
      "STATE: [ 0.63782948  0.7899344  -0.13084881 -0.0878207 ] ACT: [-0.39067291 -0.32366312] \n",
      "STATE: [ 0.58935174  0.74681982 -0.13850782 -0.12318451] ACT: [-0.1856682  -0.47002337] \n",
      "STATE: [ 0.52957823  0.69167334 -0.17078146 -0.15756136] ACT: [-0.47272243 -0.48526667] \n",
      "STATE: [ 0.46353486  0.63920122 -0.18869534 -0.14992035] ACT: [-0.33281616 -0.03084515] \n",
      "STATE: [ 0.39667226  0.58535135 -0.19103598 -0.15385678] ACT: [-0.16827168 -0.15742805] \n",
      "STATE: [ 0.33181463  0.53217551 -0.18530753 -0.15193096] ACT: [-0.077809   -0.09338319] \n",
      "STATE: [ 0.25623643  0.47497474 -0.2159377  -0.16343078] ACT: [-0.48903968 -0.24537479] \n",
      "STATE: [ 0.17358943  0.4172594  -0.23613429 -0.16490096] ACT: [-0.39277151 -0.13937506] \n",
      "STATE: [ 0.0826561   0.34868174 -0.2598095  -0.19593617] ACT: [-0.44767455 -0.4783639 ] \n",
      "STATE: [-0.01730571  0.28163945 -0.28560517 -0.1915494 ] ACT: [-0.48966476 -0.09681763] \n",
      "final state  [-0.01730571  0.28163945]\n",
      "STATE: [ 8.28905117e-01  7.83659714e-01 -5.16172254e-04 -3.30792087e-02] ACT: [-0.00589911 -0.3780481 ] \n",
      "STATE: [ 0.81695232  0.7687634  -0.03415085 -0.0425609 ] ACT: [-0.38478348 -0.13317162] \n",
      "STATE: [ 0.79399993  0.75076627 -0.06557826 -0.05142036] ACT: [-0.38478348 -0.13317162] \n",
      "STATE: [ 0.76845461  0.71920648 -0.07298664 -0.09017085] ACT: [-0.13385088 -0.48142796] \n",
      "STATE: [ 0.74359961  0.68171604 -0.07101427 -0.10711554] ACT: [-0.03219862 -0.2612818 ] \n",
      "STATE: [ 0.70821151  0.63831352 -0.10110886 -0.12400719] ACT: [-0.39719887 -0.27338403] \n",
      "STATE: [ 0.67004809  0.58297788 -0.10903836 -0.15810183] ACT: [-0.1664545  -0.48265844] \n",
      "STATE: [ 0.62492696  0.52896597 -0.12891749 -0.15431976] ACT: [-0.30896886 -0.07535269] \n",
      "STATE: [ 0.57695953  0.47449215 -0.13704981 -0.15563949] ACT: [-0.18962887 -0.13082248] \n",
      "STATE: [ 0.53200391  0.41696105 -0.12844463 -0.16437456] ACT: [-0.0044425  -0.21655906] \n",
      "STATE: [ 0.4782101   0.36259078 -0.1536966  -0.15534362] ACT: [-0.38492739 -0.02007014] \n",
      "STATE: [ 0.42378051  0.30595878 -0.15551312 -0.16180571] ACT: [-0.1360327  -0.19036011] \n",
      "STATE: [ 0.35934068  0.24317466 -0.18411379 -0.17938321] ACT: [-0.44349963 -0.32224007] \n",
      "STATE: [ 0.28590261  0.17089599 -0.20982306 -0.20651049] ACT: [-0.43190561 -0.44456338] \n",
      "STATE: [ 0.20577997  0.10328301 -0.22892181 -0.19317995] ACT: [-0.3756387  -0.00253392] \n",
      "STATE: [ 0.12456755  0.0384058  -0.2320355  -0.18536344] ACT: [-0.20727633 -0.05555339] \n",
      "STATE: [ 0.03828076 -0.02739924 -0.2465337  -0.1880144 ] ACT: [-0.33972036 -0.16931925] \n",
      "final state  [ 0.03828076 -0.02739924]\n",
      "STATE: [ 0.59761504  0.71894909 -0.04136321 -0.04246083] ACT: [-0.47272243 -0.48526667] \n",
      "STATE: [ 0.5756234   0.6917407  -0.06283327 -0.07773827] ACT: [-0.27639452 -0.43501629] \n",
      "STATE: [ 0.55042206  0.65472337 -0.07200383 -0.1057638 ] ACT: [-0.15193127 -0.37859549] \n",
      "STATE: [ 0.51185374  0.61385607 -0.11019518 -0.11676371] ACT: [-0.49047554 -0.2050361 ] \n",
      "STATE: [ 0.46825486  0.5612103  -0.12456822 -0.15041649] ACT: [-0.2469097  -0.47217605] \n",
      "STATE: [ 0.41244104  0.50022492 -0.15946807 -0.17424395] ACT: [-0.49228152 -0.38512619] \n",
      "STATE: [ 0.34855219  0.4398262  -0.18253956 -0.17256776] ACT: [-0.38327525 -0.11152642] \n",
      "STATE: [ 0.27966288  0.38264698 -0.1968266  -0.16336919] ACT: [-0.30018513 -0.02429939] \n",
      "STATE: [ 0.20246674  0.3222385  -0.2205604  -0.17259567] ACT: [-0.41886342 -0.22797238] \n",
      "STATE: [ 0.12627856  0.26249034 -0.21768052 -0.17070902] ACT: [-0.13250733 -0.10788499] \n",
      "STATE: [ 0.052018    0.20404098 -0.21217302 -0.16699817] ACT: [-0.10031759 -0.08562204] \n",
      "STATE: [-0.02996296  0.14116786 -0.23423132 -0.1796375 ] ACT: [-0.41122457 -0.26969809] \n",
      "final state  [-0.02996296  0.14116786]\n",
      "STATE: [ 0.65553524  0.61616164 -0.00153834 -0.04236014] ACT: [-0.01758098 -0.48411584] \n",
      "STATE: [ 0.65449374  0.58748251 -0.00297572 -0.08194039] ACT: [-0.01758098 -0.48411584] \n",
      "STATE: [ 0.65075623  0.54611813 -0.01067859 -0.11818395] ACT: [-0.09026457 -0.47566737] \n",
      "STATE: [ 0.63308653  0.50595236 -0.05048485 -0.11475932] ACT: [-0.46293768 -0.04949943] \n",
      "STATE: [ 0.60614832  0.46736453 -0.07696634 -0.11025096] ACT: [-0.34050921 -0.03454529] \n",
      "STATE: [ 0.57809272  0.41925542 -0.08015884 -0.13745461] ACT: [-0.09421053 -0.3935871 ] \n",
      "STATE: [ 0.54537912  0.37420947 -0.09346744 -0.12870269] ACT: [-0.21221738 -0.00306903] \n",
      "STATE: [ 0.50519882  0.33074683 -0.11480084 -0.12417898] ACT: [-0.31391084 -0.0448275 ] \n",
      "STATE: [ 0.45513974  0.28581717 -0.14302594 -0.12837047] ACT: [-0.40867324 -0.14103698] \n",
      "STATE: [ 0.40354176  0.23539374 -0.1474228  -0.14406693] ACT: [-0.15751922 -0.2756659 ] \n",
      "STATE: [ 0.34018314  0.17749974 -0.18102463 -0.16541145] ACT: [-0.494588  -0.3519876] \n",
      "STATE: [ 0.26759842  0.12021833 -0.20738494 -0.16366117] ACT: [-0.43702919 -0.10405542] \n",
      "STATE: [ 0.19725247  0.06494523 -0.2009884  -0.15792312] ACT: [-0.08243545 -0.05716818] \n",
      "STATE: [ 0.12668709  0.00582066 -0.20161539 -0.16892735] ACT: [-0.15790689 -0.24420494] \n",
      "STATE: [ 0.05963238 -0.05398202 -0.19158487 -0.17086479] ACT: [-0.03657701 -0.14883773] \n",
      "final state  [ 0.05963238 -0.05398202]\n",
      "STATE: [ 0.82740322  0.8489914  -0.00345927 -0.00752606] ACT: [-0.03953455 -0.08601212] \n",
      "STATE: [ 0.82506118  0.84389602 -0.00669153 -0.01455822] ACT: [-0.03953455 -0.08601212] \n",
      "STATE: [ 0.8216621   0.8365009  -0.00971167 -0.0211289 ] ACT: [-0.03953455 -0.08601212] \n",
      "STATE: [ 0.81374314  0.82409386 -0.0226256  -0.03544869] ACT: [-0.1548715 -0.1795014] \n",
      "STATE: [ 0.79553764  0.800947   -0.0520157  -0.0661339 ] ACT: [-0.35285603 -0.37727462] \n",
      "STATE: [ 0.7771935   0.76927872 -0.05241185 -0.0904808 ] ACT: [-0.04353917 -0.32785075] \n",
      "STATE: [ 0.75342489  0.73445766 -0.0679103  -0.09948874] ACT: [-0.21643413 -0.17080843] \n",
      "STATE: [ 0.72433877  0.7015137  -0.08310319 -0.0941256 ] ACT: [-0.22456574 -0.01332355] \n",
      "STATE: [ 0.68971934  0.6590385  -0.09891268 -0.1213577 ] ACT: [-0.2430072  -0.38181822] \n",
      "STATE: [ 0.64962192  0.61077448 -0.11456404 -0.13789722] ACT: [-0.25305729 -0.28004133] \n",
      "STATE: [ 0.60939155  0.55111047 -0.11494393 -0.17046861] ACT: [-0.09026457 -0.47566737] \n",
      "STATE: [ 0.56548461  0.49073484 -0.12544839 -0.1725018 ] ACT: [-0.20625894 -0.15108789] \n",
      "STATE: [ 0.52432301  0.42768924 -0.11760456 -0.18013028] ACT: [-0.0044425  -0.21655906] \n",
      "STATE: [ 0.47767067  0.36872539 -0.1332924  -0.16846814] ACT: [-0.26749301 -0.00181612] \n",
      "STATE: [ 0.42991389  0.30780126 -0.13644795 -0.17406893] ACT: [-0.1360327  -0.19036011] \n",
      "STATE: [ 0.37170897  0.24100668 -0.16629977 -0.19084166] ACT: [-0.44349963 -0.32224007] \n",
      "STATE: [ 0.30854143  0.17142352 -0.18047868 -0.19880904] ACT: [-0.28676953 -0.23418693] \n",
      "STATE: [ 0.23923782  0.09284961 -0.19801034 -0.22449688] ACT: [-0.33572082 -0.4426821 ] \n",
      "STATE: [ 0.17233147  0.00416151 -0.191161   -0.25339456] ACT: [-0.07022955 -0.49863184] \n",
      "STATE: [ 0.10414645 -0.08022254 -0.19481434 -0.24109731] ACT: [-0.18512321 -0.04950597] \n",
      "final state  [ 0.10414645 -0.08022254]\n",
      "STATE: [ 0.75580596  0.8959195  -0.00805813 -0.00469681] ACT: [-0.09209294 -0.05367778] \n",
      "STATE: [ 0.74753048  0.89422554 -0.02364421 -0.00483987] ACT: [-0.18417023 -0.00515767] \n",
      "STATE: [ 0.73415787  0.8924848  -0.03820746 -0.00497355] ACT: [-0.18417023 -0.00515767] \n",
      "STATE: [ 0.71602263  0.89070034 -0.05181499 -0.00509846] ACT: [-0.18417023 -0.00515767] \n",
      "STATE: [ 0.69808753  0.88814599 -0.05124313 -0.00729814] ACT: [-0.03232577 -0.02896304] \n",
      "STATE: [ 0.66665137  0.87471683 -0.08981759 -0.03836903] ACT: [-0.47928327 -0.36056945] \n",
      "STATE: [ 0.63302828  0.85031818 -0.09606598 -0.06971042] ACT: [-0.13877342 -0.38696413] \n",
      "STATE: [ 0.60073344  0.81570178 -0.09227096 -0.098904  ] ACT: [-0.02867779 -0.38592368] \n",
      "STATE: [ 0.56251132  0.77319988 -0.10920608 -0.12143401] ACT: [-0.26274743 -0.33166385] \n",
      "STATE: [ 0.52240253  0.73244188 -0.11459652 -0.11645142] ACT: [-0.14350955 -0.0341316 ] \n",
      "STATE: [ 0.47686584  0.68177593 -0.13010486 -0.14475985] ACT: [-0.26318555 -0.41086345] \n",
      "STATE: [ 0.43051688  0.62827242 -0.13242557 -0.15286718] ACT: [-0.12410114 -0.20122518] \n",
      "STATE: [ 0.37242863  0.57690078 -0.16596643 -0.14677611] ACT: [-0.48264327 -0.04503817] \n",
      "STATE: [ 0.30812219  0.52854622 -0.18373269 -0.13815588] ACT: [-0.32751783 -0.01156509] \n",
      "STATE: [ 0.23384958  0.4798587  -0.21220746 -0.13910721] ACT: [-0.46322546 -0.1144893 ] \n",
      "STATE: [ 0.16249575  0.42620411 -0.20386808 -0.15329883] ACT: [-0.06384833 -0.26652031] \n",
      "STATE: [ 0.08211449  0.36142071 -0.22966076 -0.18509543] ACT: [-0.44767455 -0.4783639 ] \n",
      "STATE: [ 0.00165213  0.29949115 -0.22989245 -0.1769416 ] ACT: [-0.17489343 -0.04563486] \n",
      "STATE: [-0.08231859  0.22781693 -0.23991633 -0.20478349] ACT: [-0.28697803 -0.45089921] \n",
      "final state  [-0.08231859  0.22781693]\n",
      "STATE: [ 0.8405061   0.64129838 -0.01735952 -0.03924168] ACT: [-0.1983945  -0.44847631] \n",
      "STATE: [ 0.8262063   0.62226823 -0.04085657 -0.05437186] ACT: [-0.28155739 -0.20234757] \n",
      "STATE: [ 0.80422222  0.59829004 -0.06281163 -0.06850911] ACT: [-0.28155739 -0.20234757] \n",
      "STATE: [ 0.76914883  0.56898723 -0.10020969 -0.08372232] ACT: [-0.47451517 -0.22524707] \n",
      "STATE: [ 0.7296833   0.54088672 -0.11275865 -0.08028717] ACT: [-0.21857393 -0.0235328 ] \n",
      "STATE: [ 0.69219845  0.5063653  -0.10709957 -0.09863263] ACT: [-0.01989374 -0.26987785] \n",
      "STATE: [ 0.65637529  0.4591732  -0.1023519  -0.13483457] ACT: [-0.02606557 -0.48771086] \n",
      "STATE: [ 0.6097628   0.41082902 -0.13317854 -0.13812624] ACT: [-0.42906842 -0.13874507] \n",
      "STATE: [ 0.5620328   0.36281917 -0.13637144 -0.13717098] ACT: [-0.13637418 -0.09267744] \n",
      "STATE: [ 0.50259329  0.30402443 -0.16982717 -0.16798498] ACT: [-0.48462982 -0.45503819] \n",
      "STATE: [ 0.4430702   0.23836735 -0.17006597 -0.18759165] ACT: [-0.1300995  -0.35006495] \n",
      "STATE: [ 0.38647404  0.17535984 -0.16170332 -0.18002147] ACT: [-0.0319763  -0.05417745] \n",
      "STATE: [ 0.32196537  0.11372792 -0.18431047 -0.1760912 ] ACT: [-0.37964491 -0.09009873] \n",
      "STATE: [ 0.26100191  0.04170032 -0.17418132 -0.20579314] ACT: [-0.02247112 -0.47151908] \n",
      "STATE: [ 0.19931732 -0.02740961 -0.17624169 -0.19745694] ACT: [-0.15418307 -0.05907403] \n",
      "final state  [ 0.19931732 -0.02740961]\n",
      "STATE: [ 0.86159282  0.79075591 -0.01346061 -0.00367628] ACT: [-0.15383554 -0.04201464] \n",
      "STATE: [ 0.85247956  0.78826695 -0.02603787 -0.00711131] ACT: [-0.15383554 -0.04201464] \n",
      "STATE: [ 0.83925315  0.78465463 -0.03778974 -0.01032091] ACT: [-0.15383554 -0.04201464] \n",
      "STATE: [ 0.81511073  0.77720099 -0.06897834 -0.02129612] ACT: [-0.38478348 -0.13317162] \n",
      "STATE: [ 0.78076867  0.76615812 -0.09812019 -0.03155107] ACT: [-0.38478348 -0.13317162] \n",
      "STATE: [ 0.742052    0.75060892 -0.11061904 -0.04442627] ACT: [-0.21643413 -0.17080843] \n",
      "STATE: [ 0.69899879  0.73567211 -0.12300917 -0.04267661] ACT: [-0.22456574 -0.01332355] \n",
      "STATE: [ 0.6521626   0.71621653 -0.13381768 -0.05558735] ACT: [-0.21578267 -0.17955879] \n",
      "STATE: [ 0.59422134  0.69579617 -0.16554648 -0.05834389] ACT: [-0.46297809 -0.07319377] \n",
      "STATE: [ 0.53940473  0.66568562 -0.15661887 -0.08603015] ACT: [-0.02213002 -0.36017233] \n",
      "STATE: [ 0.47316466  0.63127184 -0.18925736 -0.09832508] ACT: [-0.49047554 -0.2050361 ] \n",
      "STATE: [ 0.40745493  0.59470477 -0.18774206 -0.10447735] ACT: [-0.12462533 -0.1440555 ] \n",
      "STATE: [ 0.33360421  0.55265293 -0.21100207 -0.12014813] ACT: [-0.40663521 -0.25745268] \n",
      "STATE: [ 0.2496231   0.50584613 -0.23994603 -0.13373371] ACT: [-0.48903968 -0.24537479] \n",
      "STATE: [ 0.15954235  0.45024766 -0.25737358 -0.15885277] ACT: [-0.37913144 -0.38737532] \n",
      "STATE: [ 0.06435688  0.39810516 -0.27195849 -0.14897856] ACT: [-0.35971488 -0.00629139] \n",
      "STATE: [-0.03842509  0.34745096 -0.29366275 -0.1447263 ] ACT: [-0.45201762 -0.06313666] \n",
      "final state  [-0.03842509  0.34745096]\n",
      "STATE: [ 0.63388224  0.79337711 -0.02795281 -0.03321682] ACT: [-0.31946072 -0.37962082] \n",
      "STATE: [ 0.61905471  0.76811971 -0.04236438 -0.07216401] ACT: [-0.1856682  -0.47002337] \n",
      "STATE: [ 0.59476705  0.72944798 -0.0693933  -0.11049067] ACT: [-0.34067527 -0.49214192] \n",
      "STATE: [ 0.55759615  0.67845278 -0.10620258 -0.14570055] ACT: [-0.47272243 -0.48526667] \n",
      "STATE: [ 0.51821169  0.61920966 -0.11252702 -0.16926606] ACT: [-0.15193127 -0.37859549] \n",
      "STATE: [ 0.47389322  0.55263953 -0.12662421 -0.19020037] ACT: [-0.24550595 -0.36619881] \n",
      "STATE: [ 0.42746702  0.48574754 -0.13264629 -0.19111997] ACT: [-0.16379196 -0.15316003] \n",
      "COLLIDED\n",
      "STATE: [ 0.37165091  0.41692771 -0.15947458 -0.1966281 ] ACT: [-0.4060938  -0.20629001] \n",
      "STATE: [ 0.31269605  0.34824478 -0.16844245 -0.19623693] ACT: [-0.22209585 -0.14300051] \n",
      "STATE: [ 0.24579366  0.27688118 -0.19114969 -0.20389601] ACT: [-0.3858432  -0.23471004] \n",
      "STATE: [ 0.18019446  0.19897197 -0.1874263  -0.22259775] ACT: [-0.10080914 -0.36665626] \n",
      "STATE: [ 0.11458472  0.1148339  -0.1874564  -0.24039447] ACT: [-0.14091372 -0.37033938] \n",
      "STATE: [ 0.04718555  0.0229145  -0.19256906 -0.26262686] ACT: [-0.19902274 -0.43438029] \n",
      "final state  [0.04718555 0.0229145 ]\n",
      "After 0 REWARD:  (0.9259352643683094, array([ 0.05018224,  0.07804761, -0.22362862, -0.20279432]), -0.22918262236450976)\n",
      "UPDATING THE ACTION MATRIX\n"
     ]
    },
    {
     "name": "stderr",
     "output_type": "stream",
     "text": [
      "100%|█████████████████████████████████████████████████████████████████████████████████████████████████████████████████████████| 25/25 [00:03<00:00,  7.15it/s]\n",
      "Generating Dynamics Dataset: 100%|███████████████████████████████████████████████████████████████████████████████████████████| 15/15 [00:00<00:00, 949.20it/s]\n",
      "100%|████████████████████████████████████████████████████████████████████████████████████████████████████████████████████████| 27/27 [00:00<00:00, 204.30it/s]\n"
     ]
    },
    {
     "name": "stdout",
     "output_type": "stream",
     "text": [
      "Epoch 1, loss: 0.001, err: 0.030, val_loss: 0.004, val_err: 0.063\n"
     ]
    },
    {
     "name": "stderr",
     "output_type": "stream",
     "text": [
      "100%|████████████████████████████████████████████████████████████████████████████████████████████████████████████████████████| 27/27 [00:00<00:00, 208.52it/s]\n"
     ]
    },
    {
     "name": "stdout",
     "output_type": "stream",
     "text": [
      "Epoch 2, loss: 0.001, err: 0.030, val_loss: 0.004, val_err: 0.062\n"
     ]
    },
    {
     "name": "stderr",
     "output_type": "stream",
     "text": [
      "100%|████████████████████████████████████████████████████████████████████████████████████████████████████████████████████████| 27/27 [00:00<00:00, 210.81it/s]\n"
     ]
    },
    {
     "name": "stdout",
     "output_type": "stream",
     "text": [
      "Epoch 3, loss: 0.001, err: 0.030, val_loss: 0.004, val_err: 0.063\n"
     ]
    },
    {
     "name": "stderr",
     "output_type": "stream",
     "text": [
      "100%|████████████████████████████████████████████████████████████████████████████████████████████████████████████████████████| 27/27 [00:00<00:00, 210.11it/s]\n"
     ]
    },
    {
     "name": "stdout",
     "output_type": "stream",
     "text": [
      "Epoch 4, loss: 0.001, err: 0.030, val_loss: 0.004, val_err: 0.063\n"
     ]
    },
    {
     "name": "stderr",
     "output_type": "stream",
     "text": [
      "100%|████████████████████████████████████████████████████████████████████████████████████████████████████████████████████████| 27/27 [00:00<00:00, 209.82it/s]\n"
     ]
    },
    {
     "name": "stdout",
     "output_type": "stream",
     "text": [
      "Epoch 5, loss: 0.001, err: 0.030, val_loss: 0.004, val_err: 0.063\n"
     ]
    },
    {
     "name": "stderr",
     "output_type": "stream",
     "text": [
      "100%|████████████████████████████████████████████████████████████████████████████████████████████████████████████████████████| 27/27 [00:00<00:00, 208.97it/s]\n"
     ]
    },
    {
     "name": "stdout",
     "output_type": "stream",
     "text": [
      "Epoch 6, loss: 0.001, err: 0.030, val_loss: 0.004, val_err: 0.060\n"
     ]
    },
    {
     "name": "stderr",
     "output_type": "stream",
     "text": [
      "100%|████████████████████████████████████████████████████████████████████████████████████████████████████████████████████████| 27/27 [00:00<00:00, 208.64it/s]\n"
     ]
    },
    {
     "name": "stdout",
     "output_type": "stream",
     "text": [
      "Epoch 7, loss: 0.001, err: 0.029, val_loss: 0.004, val_err: 0.063\n"
     ]
    },
    {
     "name": "stderr",
     "output_type": "stream",
     "text": [
      "100%|████████████████████████████████████████████████████████████████████████████████████████████████████████████████████████| 27/27 [00:00<00:00, 211.38it/s]\n"
     ]
    },
    {
     "name": "stdout",
     "output_type": "stream",
     "text": [
      "Epoch 8, loss: 0.001, err: 0.030, val_loss: 0.004, val_err: 0.064\n"
     ]
    },
    {
     "name": "stderr",
     "output_type": "stream",
     "text": [
      "100%|████████████████████████████████████████████████████████████████████████████████████████████████████████████████████████| 27/27 [00:00<00:00, 211.52it/s]\n"
     ]
    },
    {
     "name": "stdout",
     "output_type": "stream",
     "text": [
      "Epoch 9, loss: 0.001, err: 0.029, val_loss: 0.004, val_err: 0.062\n"
     ]
    },
    {
     "name": "stderr",
     "output_type": "stream",
     "text": [
      "100%|████████████████████████████████████████████████████████████████████████████████████████████████████████████████████████| 27/27 [00:00<00:00, 209.44it/s]\n"
     ]
    },
    {
     "name": "stdout",
     "output_type": "stream",
     "text": [
      "Epoch 10, loss: 0.001, err: 0.029, val_loss: 0.003, val_err: 0.059\n"
     ]
    },
    {
     "name": "stderr",
     "output_type": "stream",
     "text": [
      "100%|████████████████████████████████████████████████████████████████████████████████████████████████████████████████████████| 27/27 [00:00<00:00, 208.89it/s]\n"
     ]
    },
    {
     "name": "stdout",
     "output_type": "stream",
     "text": [
      "Epoch 11, loss: 0.001, err: 0.029, val_loss: 0.004, val_err: 0.064\n"
     ]
    },
    {
     "name": "stderr",
     "output_type": "stream",
     "text": [
      "100%|████████████████████████████████████████████████████████████████████████████████████████████████████████████████████████| 27/27 [00:00<00:00, 209.30it/s]\n"
     ]
    },
    {
     "name": "stdout",
     "output_type": "stream",
     "text": [
      "Epoch 12, loss: 0.001, err: 0.029, val_loss: 0.004, val_err: 0.066\n"
     ]
    },
    {
     "name": "stderr",
     "output_type": "stream",
     "text": [
      "100%|████████████████████████████████████████████████████████████████████████████████████████████████████████████████████████| 27/27 [00:00<00:00, 208.48it/s]\n"
     ]
    },
    {
     "name": "stdout",
     "output_type": "stream",
     "text": [
      "Epoch 13, loss: 0.001, err: 0.029, val_loss: 0.004, val_err: 0.060\n"
     ]
    },
    {
     "name": "stderr",
     "output_type": "stream",
     "text": [
      "100%|████████████████████████████████████████████████████████████████████████████████████████████████████████████████████████| 27/27 [00:00<00:00, 207.97it/s]\n"
     ]
    },
    {
     "name": "stdout",
     "output_type": "stream",
     "text": [
      "Epoch 14, loss: 0.001, err: 0.029, val_loss: 0.004, val_err: 0.060\n"
     ]
    },
    {
     "name": "stderr",
     "output_type": "stream",
     "text": [
      "100%|████████████████████████████████████████████████████████████████████████████████████████████████████████████████████████| 27/27 [00:00<00:00, 209.31it/s]\n"
     ]
    },
    {
     "name": "stdout",
     "output_type": "stream",
     "text": [
      "Epoch 15, loss: 0.001, err: 0.029, val_loss: 0.003, val_err: 0.057\n"
     ]
    },
    {
     "name": "stderr",
     "output_type": "stream",
     "text": [
      "100%|████████████████████████████████████████████████████████████████████████████████████████████████████████████████████████| 27/27 [00:00<00:00, 209.21it/s]\n"
     ]
    },
    {
     "name": "stdout",
     "output_type": "stream",
     "text": [
      "Epoch 16, loss: 0.001, err: 0.029, val_loss: 0.003, val_err: 0.057\n"
     ]
    },
    {
     "name": "stderr",
     "output_type": "stream",
     "text": [
      "100%|████████████████████████████████████████████████████████████████████████████████████████████████████████████████████████| 27/27 [00:00<00:00, 208.26it/s]\n"
     ]
    },
    {
     "name": "stdout",
     "output_type": "stream",
     "text": [
      "Epoch 17, loss: 0.001, err: 0.028, val_loss: 0.003, val_err: 0.057\n"
     ]
    },
    {
     "name": "stderr",
     "output_type": "stream",
     "text": [
      "100%|████████████████████████████████████████████████████████████████████████████████████████████████████████████████████████| 27/27 [00:00<00:00, 208.69it/s]\n"
     ]
    },
    {
     "name": "stdout",
     "output_type": "stream",
     "text": [
      "Epoch 18, loss: 0.001, err: 0.028, val_loss: 0.003, val_err: 0.057\n"
     ]
    },
    {
     "name": "stderr",
     "output_type": "stream",
     "text": [
      "100%|████████████████████████████████████████████████████████████████████████████████████████████████████████████████████████| 27/27 [00:00<00:00, 209.23it/s]\n"
     ]
    },
    {
     "name": "stdout",
     "output_type": "stream",
     "text": [
      "Epoch 19, loss: 0.001, err: 0.028, val_loss: 0.003, val_err: 0.056\n"
     ]
    },
    {
     "name": "stderr",
     "output_type": "stream",
     "text": [
      "100%|████████████████████████████████████████████████████████████████████████████████████████████████████████████████████████| 27/27 [00:00<00:00, 207.16it/s]\n"
     ]
    },
    {
     "name": "stdout",
     "output_type": "stream",
     "text": [
      "Epoch 20, loss: 0.001, err: 0.028, val_loss: 0.004, val_err: 0.059\n"
     ]
    },
    {
     "name": "stderr",
     "output_type": "stream",
     "text": [
      "100%|████████████████████████████████████████████████████████████████████████████████████████████████████████████████████████| 27/27 [00:00<00:00, 199.23it/s]\n"
     ]
    },
    {
     "name": "stdout",
     "output_type": "stream",
     "text": [
      "Epoch 21, loss: 0.001, err: 0.029, val_loss: 0.003, val_err: 0.056\n"
     ]
    },
    {
     "name": "stderr",
     "output_type": "stream",
     "text": [
      "100%|████████████████████████████████████████████████████████████████████████████████████████████████████████████████████████| 27/27 [00:00<00:00, 209.14it/s]\n"
     ]
    },
    {
     "name": "stdout",
     "output_type": "stream",
     "text": [
      "Epoch 22, loss: 0.001, err: 0.028, val_loss: 0.003, val_err: 0.058\n"
     ]
    },
    {
     "name": "stderr",
     "output_type": "stream",
     "text": [
      "100%|████████████████████████████████████████████████████████████████████████████████████████████████████████████████████████| 27/27 [00:00<00:00, 208.05it/s]\n"
     ]
    },
    {
     "name": "stdout",
     "output_type": "stream",
     "text": [
      "Epoch 23, loss: 0.001, err: 0.028, val_loss: 0.003, val_err: 0.057\n"
     ]
    },
    {
     "name": "stderr",
     "output_type": "stream",
     "text": [
      "100%|████████████████████████████████████████████████████████████████████████████████████████████████████████████████████████| 27/27 [00:00<00:00, 208.67it/s]\n"
     ]
    },
    {
     "name": "stdout",
     "output_type": "stream",
     "text": [
      "Epoch 24, loss: 0.001, err: 0.028, val_loss: 0.003, val_err: 0.058\n"
     ]
    },
    {
     "name": "stderr",
     "output_type": "stream",
     "text": [
      "100%|████████████████████████████████████████████████████████████████████████████████████████████████████████████████████████| 27/27 [00:00<00:00, 204.98it/s]\n"
     ]
    },
    {
     "name": "stdout",
     "output_type": "stream",
     "text": [
      "Epoch 25, loss: 0.001, err: 0.028, val_loss: 0.004, val_err: 0.060\n"
     ]
    },
    {
     "name": "stderr",
     "output_type": "stream",
     "text": [
      "100%|████████████████████████████████████████████████████████████████████████████████████████████████████████████████████████| 27/27 [00:00<00:00, 196.20it/s]\n"
     ]
    },
    {
     "name": "stdout",
     "output_type": "stream",
     "text": [
      "Epoch 26, loss: 0.001, err: 0.028, val_loss: 0.003, val_err: 0.055\n"
     ]
    },
    {
     "name": "stderr",
     "output_type": "stream",
     "text": [
      "100%|████████████████████████████████████████████████████████████████████████████████████████████████████████████████████████| 27/27 [00:00<00:00, 198.64it/s]\n"
     ]
    },
    {
     "name": "stdout",
     "output_type": "stream",
     "text": [
      "Epoch 27, loss: 0.001, err: 0.028, val_loss: 0.003, val_err: 0.056\n"
     ]
    },
    {
     "name": "stderr",
     "output_type": "stream",
     "text": [
      "100%|████████████████████████████████████████████████████████████████████████████████████████████████████████████████████████| 27/27 [00:00<00:00, 208.73it/s]\n"
     ]
    },
    {
     "name": "stdout",
     "output_type": "stream",
     "text": [
      "Epoch 28, loss: 0.001, err: 0.027, val_loss: 0.003, val_err: 0.054\n"
     ]
    },
    {
     "name": "stderr",
     "output_type": "stream",
     "text": [
      "100%|████████████████████████████████████████████████████████████████████████████████████████████████████████████████████████| 27/27 [00:00<00:00, 203.69it/s]\n"
     ]
    },
    {
     "name": "stdout",
     "output_type": "stream",
     "text": [
      "Epoch 29, loss: 0.001, err: 0.027, val_loss: 0.003, val_err: 0.056\n"
     ]
    },
    {
     "name": "stderr",
     "output_type": "stream",
     "text": [
      "100%|████████████████████████████████████████████████████████████████████████████████████████████████████████████████████████| 27/27 [00:00<00:00, 196.96it/s]\n"
     ]
    },
    {
     "name": "stdout",
     "output_type": "stream",
     "text": [
      "Epoch 30, loss: 0.001, err: 0.027, val_loss: 0.003, val_err: 0.056\n"
     ]
    },
    {
     "name": "stderr",
     "output_type": "stream",
     "text": [
      "100%|████████████████████████████████████████████████████████████████████████████████████████████████████████████████████████| 27/27 [00:00<00:00, 199.55it/s]\n"
     ]
    },
    {
     "name": "stdout",
     "output_type": "stream",
     "text": [
      "Epoch 31, loss: 0.001, err: 0.027, val_loss: 0.003, val_err: 0.056\n"
     ]
    },
    {
     "name": "stderr",
     "output_type": "stream",
     "text": [
      "100%|████████████████████████████████████████████████████████████████████████████████████████████████████████████████████████| 27/27 [00:00<00:00, 205.03it/s]\n"
     ]
    },
    {
     "name": "stdout",
     "output_type": "stream",
     "text": [
      "Epoch 32, loss: 0.001, err: 0.027, val_loss: 0.003, val_err: 0.057\n"
     ]
    },
    {
     "name": "stderr",
     "output_type": "stream",
     "text": [
      "100%|████████████████████████████████████████████████████████████████████████████████████████████████████████████████████████| 27/27 [00:00<00:00, 204.86it/s]\n"
     ]
    },
    {
     "name": "stdout",
     "output_type": "stream",
     "text": [
      "Epoch 33, loss: 0.001, err: 0.027, val_loss: 0.003, val_err: 0.055\n"
     ]
    },
    {
     "name": "stderr",
     "output_type": "stream",
     "text": [
      "100%|████████████████████████████████████████████████████████████████████████████████████████████████████████████████████████| 27/27 [00:00<00:00, 203.79it/s]\n"
     ]
    },
    {
     "name": "stdout",
     "output_type": "stream",
     "text": [
      "Epoch 34, loss: 0.001, err: 0.027, val_loss: 0.003, val_err: 0.054\n"
     ]
    },
    {
     "name": "stderr",
     "output_type": "stream",
     "text": [
      "100%|████████████████████████████████████████████████████████████████████████████████████████████████████████████████████████| 27/27 [00:00<00:00, 202.92it/s]\n"
     ]
    },
    {
     "name": "stdout",
     "output_type": "stream",
     "text": [
      "Epoch 35, loss: 0.001, err: 0.027, val_loss: 0.003, val_err: 0.052\n"
     ]
    },
    {
     "name": "stderr",
     "output_type": "stream",
     "text": [
      "100%|████████████████████████████████████████████████████████████████████████████████████████████████████████████████████████| 27/27 [00:00<00:00, 205.80it/s]\n"
     ]
    },
    {
     "name": "stdout",
     "output_type": "stream",
     "text": [
      "Epoch 36, loss: 0.001, err: 0.027, val_loss: 0.003, val_err: 0.055\n"
     ]
    },
    {
     "name": "stderr",
     "output_type": "stream",
     "text": [
      "100%|████████████████████████████████████████████████████████████████████████████████████████████████████████████████████████| 27/27 [00:00<00:00, 205.45it/s]\n"
     ]
    },
    {
     "name": "stdout",
     "output_type": "stream",
     "text": [
      "Epoch 37, loss: 0.001, err: 0.027, val_loss: 0.003, val_err: 0.055\n"
     ]
    },
    {
     "name": "stderr",
     "output_type": "stream",
     "text": [
      "100%|████████████████████████████████████████████████████████████████████████████████████████████████████████████████████████| 27/27 [00:00<00:00, 203.44it/s]\n"
     ]
    },
    {
     "name": "stdout",
     "output_type": "stream",
     "text": [
      "Epoch 38, loss: 0.001, err: 0.027, val_loss: 0.002, val_err: 0.049\n"
     ]
    },
    {
     "name": "stderr",
     "output_type": "stream",
     "text": [
      "100%|████████████████████████████████████████████████████████████████████████████████████████████████████████████████████████| 27/27 [00:00<00:00, 206.43it/s]\n"
     ]
    },
    {
     "name": "stdout",
     "output_type": "stream",
     "text": [
      "Epoch 39, loss: 0.002, err: 0.037, val_loss: 0.002, val_err: 0.043\n"
     ]
    },
    {
     "name": "stderr",
     "output_type": "stream",
     "text": [
      "100%|████████████████████████████████████████████████████████████████████████████████████████████████████████████████████████| 10/10 [00:00<00:00, 243.91it/s]\n"
     ]
    },
    {
     "name": "stdout",
     "output_type": "stream",
     "text": [
      "STATE: [0.84377849 0.81001093 0.00093481 0.04374001] ACT: [0.01068349 0.49988585] \n",
      "STATE: [0.84441138 0.83962429 0.00180826 0.08460959] ACT: [0.01068349 0.49988585] \n",
      "STATE: [0.84515371 0.88260602 0.00212094 0.12280495] ACT: [0.00492969 0.4999757 ] \n",
      "STATE: [0.84627069 0.93807373 0.00319136 0.15847916] ACT: [0.013824   0.49980886] \n",
      "STATE: [0.84695708 1.0052097  0.00196111 0.19181705] ACT: [-0.01166642  0.49986388] \n",
      "STATE: [8.47003632e-01 1.06793986e+00 1.33015242e-04 1.79229056e-01] ACT: [-0.01942171  0.        ] \n",
      "STATE: [ 0.84645234  1.12655337 -0.00157511  0.16746715] ACT: [-0.01942171  0.        ] \n",
      "STATE: [ 0.84534244  1.18132036 -0.00317115  0.15647712] ACT: [-0.01942171  0.        ] \n",
      "STATE: [ 0.84371059  1.23249327 -0.00466244  0.14620831] ACT: [-0.01942171  0.        ] \n",
      "STATE: [ 0.84159103  1.28030795 -0.00605587  0.13661339] ACT: [-0.01942171  0.        ] \n",
      "STATE: [ 0.83839721  1.3249848  -0.00912523  0.12764813] ACT: [-0.0396203  0.       ] \n",
      "STATE: [ 0.8341996   1.36672973 -0.01199316  0.11927122] ACT: [-0.0396203  0.       ] \n",
      "STATE: [ 0.82906409  1.40573514 -0.01467289  0.11144405] ACT: [-0.0396203  0.       ] \n",
      "STATE: [ 0.82305223  1.44218083 -0.01717675  0.10413053] ACT: [-0.0396203  0.       ] \n",
      "STATE: [ 0.81622152  1.47623477 -0.01951631  0.09729697] ACT: [-0.0396203  0.       ] \n",
      "STATE: [ 0.8086257   1.50805392 -0.02170232  0.09091185] ACT: [-0.0396203  0.       ] \n",
      "STATE: [ 0.80054258  1.53778494 -0.02309464  0.08494576] ACT: [-0.0321889  0.       ] \n",
      "STATE: [ 0.79200413  1.56556485 -0.02439558  0.0793712 ] ACT: [-0.0321889  0.       ] \n",
      "STATE: [ 0.78304022  1.59152172 -0.02561115  0.07416246] ACT: [-0.0321889  0.       ] \n",
      "STATE: [ 0.7735711   1.61577516 -0.02705464  0.06929555] ACT: [-0.0357054  0.       ] \n",
      "STATE: [ 0.76362991  1.63843697 -0.0284034   0.06474803] ACT: [-0.0357054  0.       ] \n",
      "STATE: [ 0.75324763  1.6596116  -0.02966365  0.06049894] ACT: [-0.0357054  0.       ] \n",
      "STATE: [ 0.7420869   1.67939664 -0.0318878   0.0565287 ] ACT: [-0.04766662  0.        ] \n",
      "STATE: [ 0.7301988  1.6978833 -0.033966   0.052819 ] ACT: [-0.04766662  0.        ] \n",
      "STATE: [ 0.71763107  1.71515676 -0.03590781  0.04935276] ACT: [-0.04766662  0.        ] \n",
      "STATE: [ 0.7036542   1.73129665 -0.03993392  0.04611398] ACT: [-0.07294354  0.        ] \n",
      "STATE: [ 0.68836066  1.74637737 -0.04369581  0.04308775] ACT: [-0.07294354  0.        ] \n",
      "STATE: [ 0.6715525   1.76046841 -0.04802331  0.04026012] ACT: [-0.08222894  0.        ] \n",
      "STATE: [ 0.65332912  1.77363472 -0.05206681  0.03761805] ACT: [-0.08222894  0.        ] \n",
      "STATE: [ 0.63346374  1.785937   -0.05675822  0.03514936] ACT: [-0.09266621  0.        ] \n",
      "STATE: [ 0.61197272  1.79743194 -0.06140292  0.03284269] ACT: [-0.09565101  0.        ] \n",
      "STATE: [ 0.58825781  1.80817253 -0.06775687  0.03068738] ACT: [-0.1186687  0.       ] \n",
      "STATE: [ 0.56246497  1.81820826 -0.07369384  0.02867353] ACT: [-0.1186687  0.       ] \n",
      "STATE: [ 0.53543618  1.8275854  -0.07722511  0.02679182] ACT: [-0.09562784  0.        ] \n",
      "STATE: [ 0.50578514  1.83634716 -0.08471726  0.02503361] ACT: [-0.14354332  0.        ] \n",
      "STATE: [ 0.47394026  1.84453394 -0.09098538  0.02339078] ACT: [-0.1351736  0.       ] \n",
      "STATE: [ 0.43972655  1.85218345 -0.09775344  0.02185576] ACT: [-0.14558834  0.        ] \n",
      "STATE: [ 0.40277129  1.85933097 -0.10558647  0.02042148] ACT: [-0.16283536  0.        ] \n",
      "STATE: [ 0.36319163  1.86600943 -0.11308475  0.01908132] ACT: [-0.16488453  0.        ] \n",
      "STATE: [ 0.32064116  1.87224962 -0.12157277  0.01782911] ACT: [-0.18181945  0.        ] \n",
      "STATE: [ 0.27462828  1.87808029 -0.13146539  0.01665907] ACT: [-0.20423812  0.        ] \n",
      "STATE: [ 0.22521992  1.88352833 -0.14116674  0.01556582] ACT: [-0.20947166  0.        ] \n",
      "STATE: [ 0.17166193  1.88861884 -0.15302282  0.01454431] ACT: [-0.24137311  0.        ] \n",
      "STATE: [ 0.11340485  1.89337528 -0.1664488   0.01358984] ACT: [-0.26820686  0.        ] \n",
      "STATE: [ 0.04942682  1.89781958 -0.18279437  0.01269801] ACT: [-0.3116431  0.       ] \n",
      "STATE: [-0.02134275  1.90197223 -0.20219877  0.0118647 ] ACT: [-0.35886034  0.        ] \n",
      "final state  [-0.02134275  1.90197223]\n",
      "STATE: [ 0.61428784  0.86305086 -0.00811813  0.04299021] ACT: [-0.09277867  0.49131672] \n",
      "STATE: [ 0.60879161  0.89215658 -0.01570351  0.08315919] ACT: [-0.09277867  0.49131672] \n",
      "STATE: [ 0.60106404  0.93444375 -0.02207877  0.12082051] ACT: [-0.08463772  0.49278439] \n",
      "STATE: [ 0.59046292  0.98889048 -0.03028893  0.15556208] ACT: [-0.1103894   0.48766195] \n",
      "STATE: [ 0.57692326  1.03976414 -0.03868473  0.14535332] ACT: [-0.1186687  0.       ] \n",
      "STATE: [ 0.56134355  1.08729922 -0.04451348  0.13581451] ACT: [-0.09562784  0.        ] \n",
      "STATE: [ 0.54385765  1.13171481 -0.04995972  0.12690168] ACT: [-0.09562784  0.        ] \n",
      "STATE: [ 0.52312324  1.17321562 -0.05924115  0.11857376] ACT: [-0.14354332  0.        ] \n",
      "STATE: [ 0.49960985  1.21199295 -0.06718114  0.11079235] ACT: [-0.1351736  0.       ] \n",
      "STATE: [ 0.47318087  1.24822551 -0.07551136  0.10352161] ACT: [-0.14558834  0.        ] \n",
      "STATE: [ 0.44402765  1.28208031 -0.0832949   0.096728  ] ACT: [-0.14558834  0.        ] \n",
      "STATE: [ 0.41231497  1.31371339 -0.09060766  0.09038023] ACT: [-0.14604555  0.        ] \n",
      "STATE: [ 0.37763385  1.34327055 -0.09908893  0.08444902] ACT: [-0.16488453  0.        ] \n",
      "STATE: [ 0.33966045  1.37088802 -0.10849542  0.07890706] ACT: [-0.18181945  0.        ] \n",
      "STATE: [ 0.29832167  1.39669309 -0.11811079  0.07372878] ACT: [-0.19126148  0.        ] \n",
      "STATE: [ 0.25328068  1.42080471 -0.12868854  0.06889033] ACT: [-0.20947166  0.        ] \n",
      "STATE: [ 0.20382684  1.443334   -0.1412967   0.0643694 ] ACT: [-0.2406097  0.       ] \n",
      "STATE: [ 0.14942161  1.4643848  -0.15544351  0.06014516] ACT: [-0.2676503  0.       ] \n",
      "STATE: [ 0.0898746   1.48405415 -0.17013432  0.05619813] ACT: [-0.28447763  0.        ] \n",
      "STATE: [ 0.02345222  1.50243269 -0.18977822  0.05251013] ACT: [-0.35210246  0.        ] \n",
      "STATE: [-0.05024989  1.51960515 -0.21057746  0.04906415] ACT: [-0.38003921  0.        ] \n",
      "final state  [-0.05024989  1.51960515]\n",
      "STATE: [ 0.71473457  0.8957938  -0.00496723  0.0434671 ] ACT: [-0.05676829  0.49676691] \n",
      "STATE: [ 0.7113716   0.92522239 -0.00960848  0.08408168] ACT: [-0.05676829  0.49676691] \n",
      "STATE: [ 0.70595527  0.96786242 -0.01547524  0.12182867] ACT: [-0.07425512  0.49445544] \n",
      "STATE: [ 0.69866049  1.0077042  -0.02084224  0.11383366] ACT: [-0.07294354  0.        ] \n",
      "STATE: [ 0.68932616  1.04493137 -0.0266695   0.10636333] ACT: [-0.08222894  0.        ] \n",
      "STATE: [ 0.67808614  1.0797155  -0.03211435  0.09938324] ACT: [-0.08222894  0.        ] \n",
      "STATE: [ 0.66506548  1.11221693 -0.03720187  0.09286121] ACT: [-0.08222894  0.        ] \n",
      "STATE: [ 0.65006141  1.14258544 -0.04286879  0.08676719] ACT: [-0.09266621  0.        ] \n",
      "STATE: [ 0.63320407  1.17096103 -0.04816382  0.0810731 ] ACT: [-0.09266621  0.        ] \n",
      "STATE: [ 0.61452368  1.19747446 -0.05337254  0.07575268] ACT: [-0.09565101  0.        ] \n",
      "STATE: [ 0.59413988  1.22224796 -0.05823943  0.07078141] ACT: [-0.09565101  0.        ] \n",
      "STATE: [ 0.57145954  1.24539569 -0.06480097  0.06613638] ACT: [-0.1186687  0.       ] \n",
      "STATE: [ 0.54733899  1.26702435 -0.06891585  0.06179618] ACT: [-0.09562784  0.        ] \n",
      "STATE: [ 0.52040534  1.28723363 -0.07695328  0.0577408 ] ACT: [-0.14354332  0.        ] \n",
      "STATE: [ 0.49109952  1.30611668 -0.08373092  0.05395156] ACT: [-0.1351736  0.       ] \n",
      "STATE: [ 0.45925825  1.32376052 -0.09097505  0.05041099] ACT: [-0.14558834  0.        ] \n",
      "STATE: [ 0.42503392  1.34024649 -0.0977838   0.04710277] ACT: [-0.14604555  0.        ] \n",
      "STATE: [ 0.38806873  1.35565057 -0.10561483  0.04401165] ACT: [-0.16283536  0.        ] \n",
      "STATE: [ 0.34847979  1.37004376 -0.11311126  0.04112339] ACT: [-0.16488453  0.        ] \n",
      "STATE: [ 0.30563149  1.38349239 -0.12242371  0.03842466] ACT: [-0.19126148  0.        ] \n",
      "STATE: [ 0.25934032  1.39605845 -0.13226049  0.03590305] ACT: [-0.20423812  0.        ] \n",
      "STATE: [ 0.20871834  1.40779987 -0.14463424  0.03354691] ACT: [-0.2406097  0.       ] \n",
      "STATE: [ 0.15322163  1.41877076 -0.15856202  0.03134539] ACT: [-0.2676503  0.       ] \n",
      "STATE: [ 0.09265477  1.42902168 -0.17304818  0.02928835] ACT: [-0.28447763  0.        ] \n",
      "STATE: [ 0.02527946  1.43859989 -0.19250086  0.0273663 ] ACT: [-0.35210246  0.        ] \n",
      "STATE: [-0.04931303  1.44754952 -0.21312142  0.02557039] ACT: [-0.38003921  0.        ] \n",
      "final state  [-0.04931303  1.44754952]\n",
      "STATE: [ 0.75620951  0.75513994 -0.00221836  0.04369372] ACT: [-0.02535266  0.49935683] \n",
      "STATE: [ 0.75470762  0.78472196 -0.00429114  0.08452004] ACT: [-0.02535266  0.49935683] \n",
      "STATE: [ 0.75283767  0.82766805 -0.00534269  0.1227031 ] ACT: [-0.01523613  0.49976781] \n",
      "STATE: [ 0.74974234  0.88304883 -0.00884381  0.15823083] ACT: [-0.04401983  0.49805848] \n",
      "STATE: [ 0.74587201  0.95007649 -0.0110581   0.19150758] ACT: [-0.03193894  0.49897886] \n",
      "STATE: [ 0.74083069  1.0279515  -0.01440377  0.22250004] ACT: [-0.04652983  0.49783027] \n",
      "STATE: [ 0.73466041  1.10071597 -0.01762935  0.20789848] ACT: [-0.04766662  0.        ] \n",
      "STATE: [ 0.72743528  1.16870527 -0.02064325  0.19425514] ACT: [-0.04766662  0.        ] \n",
      "STATE: [ 0.71845039  1.23223277 -0.0256711   0.18150715] ACT: [-0.07294354  0.        ] \n",
      "STATE: [ 0.70782124  1.29159128 -0.03036899  0.16959574] ACT: [-0.07294354  0.        ] \n",
      "STATE: [ 0.69565574  1.34705438 -0.03475859  0.15846602] ACT: [-0.07294354  0.        ] \n",
      "STATE: [ 0.68177033  1.39887772 -0.03967259  0.14806669] ACT: [-0.08222894  0.        ] \n",
      "STATE: [ 0.66627789  1.44730016 -0.04426411  0.13834981] ACT: [-0.08222894  0.        ] \n",
      "STATE: [ 0.64896424  1.49254487 -0.04946757  0.1292706 ] ACT: [-0.09266621  0.        ] \n",
      "STATE: [ 0.6299489   1.5348204  -0.05432955  0.12078722] ACT: [-0.09266621  0.        ] \n",
      "STATE: [ 0.60925213  1.57432159 -0.05913364  0.11286056] ACT: [-0.09565101  0.        ] \n",
      "STATE: [ 0.58627935  1.61123052 -0.0656365   0.10545408] ACT: [-0.1186687  0.       ] \n",
      "STATE: [ 0.56117993  1.6457173  -0.07171262  0.09853366] ACT: [-0.1186687  0.       ] \n",
      "STATE: [ 0.53479906  1.67794089 -0.07537392  0.09206739] ACT: [-0.09562784  0.        ] \n",
      "STATE: [ 0.50575342  1.7080498  -0.08298754  0.08602547] ACT: [-0.14354332  0.        ] \n",
      "STATE: [ 0.47447421  1.73618282 -0.08936918  0.08038005] ACT: [-0.1351736  0.       ] \n",
      "STATE: [ 0.44078906  1.7624696  -0.0962433   0.0751051 ] ACT: [-0.14558834  0.        ] \n",
      "STATE: [ 0.40432765  1.78703132 -0.10417543  0.07017633] ACT: [-0.16283536  0.        ] \n",
      "STATE: [ 0.36520944  1.80998117 -0.11176631  0.06557101] ACT: [-0.16488453  0.        ] \n",
      "STATE: [ 0.32309015  1.83142494 -0.12034085  0.06126791] ACT: [-0.18181945  0.        ] \n",
      "STATE: [ 0.27748013  1.85146147 -0.13031432  0.05724721] ACT: [-0.20423812  0.        ] \n",
      "STATE: [ 0.22844821  1.87018309 -0.14009121  0.05349036] ACT: [-0.20947166  0.        ] \n",
      "STATE: [ 0.17524196  1.88767611 -0.15201787  0.04998005] ACT: [-0.24137311  0.        ] \n",
      "STATE: [ 0.11731353  1.90402115 -0.1655098   0.04670011] ACT: [-0.26820686  0.        ] \n",
      "STATE: [ 0.05364258  1.91929355 -0.18191699  0.04363542] ACT: [-0.3116431  0.       ] \n",
      "STATE: [-0.01684006  1.93356369 -0.20137897  0.04077184] ACT: [-0.35886034  0.        ] \n",
      "final state  [-0.01684006  1.93356369]\n",
      "STATE: [0.85404923 0.66407978 0.00370182 0.04359311] ACT: [0.04230648 0.49820695] \n",
      "STATE: [0.85655548 0.69359367 0.0071607  0.08432542] ACT: [0.04230648 0.49820695] \n",
      "STATE: [0.85977097 0.73645827 0.00918711 0.12247029] ACT: [0.02852942 0.49918541] \n",
      "STATE: [0.86306849 0.79181958 0.0094215  0.15817516] ACT: [0.00956908 0.49990842] \n",
      "STATE: [0.8664768  0.8588568  0.00973802 0.19153493] ACT: [0.01068349 0.49988585] \n",
      "STATE: [0.86963453 0.93680719 0.00902209 0.22271538] ACT: [-0.00087851  0.49999923] \n",
      "STATE: [0.87222775 1.02495041 0.0074092  0.25183777] ACT: [-0.01166642  0.49986388] \n",
      "STATE: [0.87450198 1.10730923 0.0064978  0.23531092] ACT: [-0.00485916  0.        ] \n",
      "STATE: [0.87647815 1.18426325 0.0056462  0.21986864] ACT: [-0.00485916  0.        ] \n",
      "STATE: [0.87817582 1.25616717 0.0048505  0.20543976] ACT: [-0.00485916  0.        ] \n",
      "STATE: [0.87961327 1.32335239 0.00410701 0.19195778] ACT: [-0.00485916  0.        ] \n",
      "STATE: [0.88080758 1.38612858 0.00341231 0.17936055] ACT: [-0.00485916  0.        ] \n",
      "STATE: [0.8817747  1.44478509 0.0027632  0.16759001] ACT: [-0.00485916  0.        ] \n",
      "STATE: [0.88252954 1.49959226 0.00215669 0.15659192] ACT: [-0.00485916  0.        ] \n",
      "STATE: [0.88308603 1.55080271 0.00158998 0.14631557] ACT: [-0.00485916  0.        ] \n",
      "STATE: [8.83457196e-01 1.59865247e+00 1.06045992e-03 1.36713613e-01] ACT: [-0.00485916  0.        ] \n",
      "STATE: [8.83655188e-01 1.64336209e+00 5.65691059e-04 1.27741782e-01] ACT: [-0.00485916  0.        ] \n",
      "STATE: [8.83691375e-01 1.68513765e+00 1.03391400e-04 1.19358727e-01] ACT: [-0.00485916  0.        ] \n",
      "STATE: [ 8.83576375e-01  1.72417168e+00 -3.28569843e-04  1.11525811e-01] ACT: [-0.00485916  0.        ] \n",
      "STATE: [ 8.83320111e-01  1.76064411e+00 -7.32183630e-04  1.04206929e-01] ACT: [-0.00485916  0.        ] \n",
      "STATE: [ 8.82931852e-01  1.79472303e+00 -1.10931026e-03  9.73683497e-02] ACT: [-0.00485916  0.        ] \n",
      "STATE: [ 8.82420262e-01  1.82656552e+00 -1.46168796e-03  9.09785518e-02] ACT: [-0.00485916  0.        ] \n",
      "STATE: [ 8.81793432e-01  1.85631835e+00 -1.79094087e-03  8.50080843e-02] ACT: [-0.00485916  0.        ] \n",
      "STATE: [ 0.88105893  1.88411865 -0.00209859  0.07942943] ACT: [-0.00485916  0.        ] \n",
      "STATE: [ 0.88022381  1.91009456 -0.00238604  0.07421687] ACT: [-0.00485916  0.        ] \n",
      "STATE: [ 0.87929469  1.93436579 -0.00265464  0.06934639] ACT: [-0.00485916  0.        ] \n",
      "STATE: [ 0.87827773  1.95704423 -0.0029056   0.06479553] ACT: [-0.00485916  0.        ] \n",
      "STATE: [ 0.8771787   1.9782344  -0.0031401   0.06054333] ACT: [-0.00485916  0.        ] \n",
      "STATE: [ 0.87600297  1.99803396 -0.0033592   0.05657017] ACT: [-0.00485916  0.        ] \n",
      "STATE: [ 0.8747556   2.01653417 -0.00356393  0.05285775] ACT: [-0.00485916  0.        ] \n",
      "STATE: [ 0.87344127  2.03382031 -0.00375523  0.04938896] ACT: [-0.00485916  0.        ] \n",
      "STATE: [ 0.87206438  2.04997204 -0.00393397  0.04614781] ACT: [-0.00485916  0.        ] \n",
      "STATE: [ 0.87062904  2.06506382 -0.00410098  0.04311936] ACT: [-0.00485916  0.        ] \n",
      "STATE: [ 0.8686931   2.0791652  -0.00553125  0.04028965] ACT: [-0.01942171  0.        ] \n",
      "STATE: [ 0.86628942  2.09234117 -0.00686766  0.03764565] ACT: [-0.01942171  0.        ] \n",
      "STATE: [ 0.86344869  2.10465247 -0.00811637  0.03517515] ACT: [-0.01942171  0.        ] \n",
      "STATE: [ 0.8601996   2.11615585 -0.00928313  0.03286678] ACT: [-0.01942171  0.        ] \n",
      "STATE: [ 0.85656893  2.12690431 -0.01037333  0.0307099 ] ACT: [-0.01942171  0.        ] \n",
      "STATE: [ 0.85258174  2.13694741 -0.01139198  0.02869456] ACT: [-0.01942171  0.        ] \n",
      "STATE: [ 0.84826142  2.14633143 -0.01234378  0.02681148] ACT: [-0.01942171  0.        ] \n",
      "STATE: [ 0.84362983  2.15509962 -0.01323312  0.02505198] ACT: [-0.01942171  0.        ] \n",
      "STATE: [ 0.8387074   2.1632924  -0.01406409  0.02340794] ACT: [-0.01942171  0.        ] \n",
      "STATE: [ 0.83289463  2.17094753 -0.01660791  0.0218718 ] ACT: [-0.0396203  0.       ] \n",
      "STATE: [ 0.82624995  2.17810029 -0.01898479  0.02043646] ACT: [-0.0396203  0.       ] \n",
      "STATE: [ 0.81882796  2.18478365 -0.02120569  0.01909532] ACT: [-0.0396203  0.       ] \n",
      "STATE: [ 0.81067966  2.19102841 -0.02328085  0.01784219] ACT: [-0.0396203  0.       ] \n",
      "STATE: [ 0.80208031  2.19686337 -0.02456957  0.01667129] ACT: [-0.0321889  0.       ] \n",
      "STATE: [ 0.79305951  2.2023154  -0.02577372  0.01557724] ACT: [-0.0321889  0.       ] \n",
      "STATE: [ 0.78364491  2.20740964 -0.02689885  0.01455498] ACT: [-0.0321889  0.       ] \n",
      "STATE: [ 0.77375467  2.21216958 -0.02825784  0.01359981] ACT: [-0.0357054  0.       ] \n",
      "final state  [0.77375467 2.21216958]\n",
      "STATE: [8.30220492e-01 8.92952514e-01 2.31844171e-05 4.37499939e-02] ACT: [2.64964767e-04 4.99999930e-01] \n",
      "STATE: [8.30236189e-01 9.22572627e-01 4.48473569e-05 8.46288944e-02] ACT: [2.64964767e-04 4.99999930e-01] \n",
      "STATE: [ 8.30082420e-01  9.65560494e-01 -4.39339782e-04  1.22822476e-01] ACT: [-0.00549993  0.49996975] \n",
      "STATE: [ 0.82872537  1.00572728 -0.00387728  0.11476225] ACT: [-0.0396203  0.       ] \n",
      "STATE: [ 0.82624401  1.04325812 -0.00708961  0.10723098] ACT: [-0.0396203  0.       ] \n",
      "STATE: [ 0.82271211  1.078326   -0.01009114  0.10019395] ACT: [-0.0396203  0.       ] \n",
      "STATE: [ 0.81819862  1.11109256 -0.01289568  0.09361872] ACT: [-0.0396203  0.       ] \n",
      "STATE: [ 0.81276796  1.1417088  -0.01551618  0.08747499] ACT: [-0.0396203  0.       ] \n",
      "STATE: [ 0.8067079   1.17031586 -0.01731446  0.08173444] ACT: [-0.0321889  0.       ] \n",
      "STATE: [ 0.80005974  1.19704557 -0.01899473  0.07637062] ACT: [-0.0321889  0.       ] \n",
      "STATE: [ 0.79286209  1.22202115 -0.02056473  0.0713588 ] ACT: [-0.0321889  0.       ] \n",
      "STATE: [ 0.785151    1.24535771 -0.02203169  0.06667588] ACT: [-0.0321889  0.       ] \n",
      "STATE: [ 0.77685246  1.26716281 -0.02371009  0.06230027] ACT: [-0.0357054  0.       ] \n",
      "STATE: [ 0.76800505  1.28753694 -0.02527834  0.05821182] ACT: [-0.0357054  0.       ] \n",
      "STATE: [ 0.75864476  1.30657403 -0.02674367  0.05439167] ACT: [-0.0357054  0.       ] \n",
      "STATE: [ 0.74880527  1.3243618  -0.02811284  0.05082221] ACT: [-0.0357054  0.       ] \n",
      "STATE: [ 0.7381517   1.34098225 -0.03043876  0.04748701] ACT: [-0.04766662  0.        ] \n",
      "STATE: [ 0.72673749  1.35651199 -0.03261205  0.04437067] ACT: [-0.04766662  0.        ] \n",
      "STATE: [ 0.71383843  1.37102258 -0.03685444  0.04145885] ACT: [-0.07294354  0.        ] \n",
      "STATE: [ 0.69955198  1.38458092 -0.04081843  0.03873811] ACT: [-0.07294354  0.        ] \n",
      "STATE: [ 0.68368482  1.3972495  -0.04533475  0.03619592] ACT: [-0.08222894  0.        ] \n",
      "STATE: [ 0.66634068  1.40908669 -0.04955469  0.03382056] ACT: [-0.08222894  0.        ] \n",
      "STATE: [ 0.64729684  1.42014707 -0.05441096  0.03160109] ACT: [-0.09266621  0.        ] \n",
      "STATE: [ 0.62666486  1.43048162 -0.05894853  0.02952727] ACT: [-0.09266621  0.        ] \n",
      "STATE: [ 0.60445753  1.44013796 -0.0634495   0.02758954] ACT: [-0.09565101  0.        ] \n",
      "STATE: [ 0.58007334  1.4491606  -0.06966913  0.02577898] ACT: [-0.1186687  0.       ] \n",
      "STATE: [ 0.55436075  1.45759113 -0.07346453  0.02408723] ACT: [-0.09562784  0.        ] \n",
      "STATE: [ 0.52593954  1.46546841 -0.08120346  0.02250651] ACT: [-0.14354332  0.        ] \n",
      "STATE: [ 0.49524378  1.47282874 -0.08770218  0.02102952] ACT: [-0.1351736  0.       ] \n",
      "STATE: [ 0.46210378  1.47970605 -0.0946857   0.01964946] ACT: [-0.14558834  0.        ] \n",
      "STATE: [ 0.42666595  1.48613203 -0.10125094  0.01835996] ACT: [-0.14604555  0.        ] \n",
      "STATE: [ 0.3885669   1.49213631 -0.10885444  0.01715509] ACT: [-0.16283536  0.        ] \n",
      "STATE: [ 0.34791851  1.49774656 -0.11613826  0.01602928] ACT: [-0.16488453  0.        ] \n",
      "STATE: [ 0.30408028  1.50298864 -0.12525207  0.01497736] ACT: [-0.19126148  0.        ] \n",
      "STATE: [ 0.25686415  1.50788671 -0.13490324  0.01399447] ACT: [-0.20423812  0.        ] \n",
      "STATE: [ 0.2053779   1.51246334 -0.14710356  0.01307609] ACT: [-0.2406097  0.       ] \n",
      "STATE: [ 0.14907365  1.51673963 -0.16086929  0.01221797] ACT: [-0.2676503  0.       ] \n",
      "STATE: [ 0.08775224  1.52073528 -0.17520404  0.01141616] ACT: [-0.28447763  0.        ] \n",
      "STATE: [ 0.0196719   1.52446873 -0.19451524  0.01066698] ACT: [-0.35210246  0.        ] \n",
      "STATE: [-0.05557936  1.52795716 -0.21500361  0.00996696] ACT: [-0.38003921  0.        ] \n",
      "final state  [-0.05557936  1.52795716]\n",
      "STATE: [ 0.61487395  0.82003698 -0.00723243  0.04314805] ACT: [-0.08265636  0.4931206 ] \n",
      "STATE: [ 0.60987591  0.8492322  -0.01428012  0.08341492] ACT: [-0.08596933  0.49255383] \n",
      "STATE: [ 0.60257432  0.89159617 -0.02086168  0.12103991] ACT: [-0.08592797  0.49256105] \n",
      "STATE: [ 0.59315986  0.94627153 -0.02689844  0.1562153 ] ACT: [-0.08463772  0.49278439] \n",
      "STATE: [ 0.58098256  1.01229346 -0.0347923   0.18863409] ACT: [-0.1103894   0.48766195] \n",
      "STATE: [ 0.56667579  1.0739827  -0.04087649  0.17625498] ACT: [-0.09562784  0.        ] \n",
      "STATE: [ 0.5503793   1.13162359 -0.04656141  0.16468825] ACT: [-0.09562784  0.        ] \n",
      "STATE: [ 0.53075625  1.18548179 -0.05606586  0.15388058] ACT: [-0.14354332  0.        ] \n",
      "STATE: [ 0.50802495  1.23580555 -0.06494657  0.14378217] ACT: [-0.14354332  0.        ] \n",
      "STATE: [ 0.48264569  1.28282681 -0.07251215  0.13434646] ACT: [-0.1351736  0.       ] \n",
      "STATE: [ 0.45447331  1.3267623  -0.08049252  0.12552998] ACT: [-0.14558834  0.        ] \n",
      "STATE: [ 0.4236771   1.36781453 -0.08798918  0.11729207] ACT: [-0.14604555  0.        ] \n",
      "STATE: [ 0.38991506  1.4061727  -0.09646298  0.10959478] ACT: [-0.16283536  0.        ] \n",
      "STATE: [ 0.35331906  1.44201362 -0.10456     0.10240262] ACT: [-0.16488453  0.        ] \n",
      "STATE: [ 0.31326729  1.47550247 -0.11443363  0.09568245] ACT: [-0.19126148  0.        ] \n",
      "STATE: [ 0.26958912  1.50679362 -0.12479476  0.08940329] ACT: [-0.20423812  0.        ] \n",
      "STATE: [ 0.22140867  1.53603129 -0.13765845  0.0835362 ] ACT: [-0.2406097  0.       ] \n",
      "STATE: [ 0.168998    1.56335024 -0.14974476  0.07805413] ACT: [-0.24137311  0.        ] \n",
      "STATE: [ 0.11181295  1.58887638 -0.16338586  0.07293183] ACT: [-0.26820686  0.        ] \n",
      "STATE: [ 0.0488366   1.61272737 -0.17993243  0.06814568] ACT: [-0.3116431  0.       ] \n",
      "STATE: [-0.02099703  1.63501314 -0.19952465  0.06367362] ACT: [-0.35886034  0.        ] \n",
      "final state  [-0.02099703  1.63501314]\n",
      "STATE: [ 0.6998379   0.78784261 -0.00339866  0.04361779] ACT: [-0.03884185  0.49848903] \n",
      "STATE: [ 0.69716868  0.81734005 -0.00762635  0.0842784 ] ACT: [-0.05086542  0.49740598] \n",
      "STATE: [ 0.69324115  0.86014698 -0.01122153  0.1223055 ] ACT: [-0.04680751  0.49780424] \n",
      "STATE: [ 0.68741342  0.91530438 -0.01665064  0.15759258] ACT: [-0.07046318  0.49501004] \n",
      "STATE: [ 0.68021337  0.9820537  -0.02057157  0.19071234] ACT: [-0.05729862  0.49670602] \n",
      "STATE: [ 0.67096756  1.04442259 -0.0264166   0.17819684] ACT: [-0.08222894  0.        ] \n",
      "STATE: [ 0.65949061  1.10269853 -0.0327913   0.16650268] ACT: [-0.09266621  0.        ] \n",
      "STATE: [ 0.64592893  1.15715011 -0.03874766  0.15557594] ACT: [-0.09266621  0.        ] \n",
      "STATE: [ 0.63041933  1.2080283  -0.04431314  0.14536627] ACT: [-0.09266621  0.        ] \n",
      "STATE: [ 0.61299823  1.25556761 -0.04977455  0.13582661] ACT: [-0.09565101  0.        ] \n",
      "STATE: [ 0.59308617  1.29998716 -0.05689161  0.12691298] ACT: [-0.1186687  0.       ] \n",
      "STATE: [ 0.57084661  1.34149167 -0.06354161  0.11858432] ACT: [-0.1186687  0.       ] \n",
      "STATE: [ 0.54713791  1.38027245 -0.06773913  0.11080222] ACT: [-0.09562784  0.        ] \n",
      "STATE: [ 0.52058908  1.41650824 -0.07585379  0.10353083] ACT: [-0.14354332  0.        ] \n",
      "STATE: [ 0.49164283  1.45036605 -0.08270357  0.09673662] ACT: [-0.1351736  0.       ] \n",
      "STATE: [ 0.46013754  1.48200195 -0.09001513  0.09038828] ACT: [-0.14558834  0.        ] \n",
      "STATE: [ 0.42622713  1.51156174 -0.09688687  0.08445655] ACT: [-0.14604555  0.        ] \n",
      "STATE: [ 0.38955526  1.53918167 -0.10477677  0.07891409] ACT: [-0.16283536  0.        ] \n",
      "STATE: [ 0.3502404   1.56498904 -0.11232819  0.07373535] ACT: [-0.16488453  0.        ] \n",
      "STATE: [ 0.30764819  1.58910281 -0.12169203  0.06889647] ACT: [-0.19126148  0.        ] \n",
      "STATE: [ 0.2615963   1.6116341  -0.13157683  0.06437514] ACT: [-0.20423812  0.        ] \n",
      "STATE: [ 0.21119789  1.63268678 -0.14399545  0.06015052] ACT: [-0.2406097  0.       ] \n",
      "STATE: [ 0.15591009  1.65235788 -0.15796515  0.05620314] ACT: [-0.2676503  0.       ] \n",
      "STATE: [ 0.09553842  1.67073807 -0.17249048  0.05251481] ACT: [-0.28447763  0.        ] \n",
      "STATE: [ 0.02834551  1.68791205 -0.19197975  0.04906852] ACT: [-0.35210246  0.        ] \n",
      "STATE: [-0.04607657  1.70395899 -0.21263451  0.0458484 ] ACT: [-0.38003921  0.        ] \n",
      "final state  [-0.04607657  1.70395899]\n",
      "STATE: [ 0.59915312  0.75748897 -0.00682452  0.04321445] ACT: [-0.07799447  0.4938794 ] \n",
      "STATE: [ 0.59443526  0.78673079 -0.01347961  0.08354806] ACT: [-0.08117658  0.49336636] \n",
      "STATE: [ 0.58725875  0.82911381 -0.02050432  0.12109434] ACT: [-0.09039215  0.49176139] \n",
      "STATE: [ 0.57837592  0.88387236 -0.0253795   0.156453  ] ACT: [-0.07109457  0.49491975] \n",
      "STATE: [ 0.56682789  0.95000141 -0.03299438  0.18894014] ACT: [-0.10606186  0.48862141] \n",
      "STATE: [ 0.55229679  1.02663925 -0.04151743  0.21896526] ACT: [-0.12215204  0.48484934] \n",
      "STATE: [ 0.53432327  1.09824773 -0.05135289  0.20459567] ACT: [-0.14354332  0.        ] \n",
      "STATE: [ 0.51313326  1.16515691 -0.0605429   0.19116908] ACT: [-0.14354332  0.        ] \n",
      "STATE: [ 0.48919415  1.22767517 -0.06839746  0.17862361] ACT: [-0.1351736  0.       ] \n",
      "STATE: [ 0.4623674   1.28609067 -0.07664786  0.16690143] ACT: [-0.14558834  0.        ] \n",
      "STATE: [ 0.43282851  1.34067266 -0.08439683  0.15594853] ACT: [-0.14604555  0.        ] \n",
      "STATE: [ 0.40024128  1.3916727  -0.09310638  0.1457144 ] ACT: [-0.16283536  0.        ] \n",
      "STATE: [ 0.364743    1.43932586 -0.10142367  0.1361519 ] ACT: [-0.16488453  0.        ] \n",
      "STATE: [ 0.32600607  1.48385179 -0.11067694  0.12721693] ACT: [-0.18181945  0.        ] \n",
      "STATE: [ 0.28355645  1.5254557  -0.1212846   0.11886832] ACT: [-0.20423812  0.        ] \n",
      "STATE: [ 0.23747753  1.56432935 -0.13165407  0.11106758] ACT: [-0.20947166  0.        ] \n",
      "STATE: [ 0.18703048  1.60065192 -0.14413442  0.10377877] ACT: [-0.24137311  0.        ] \n",
      "STATE: [ 0.13169723  1.63459083 -0.158095    0.09696829] ACT: [-0.2676503  0.       ] \n",
      "STATE: [ 0.0712831   1.66630249 -0.17261181  0.09060475] ACT: [-0.28447763  0.        ] \n",
      "STATE: [ 0.00384355  1.69593307 -0.19268444  0.08465881] ACT: [-0.35886034  0.        ] \n",
      "STATE: [-0.0696648   1.72361915 -0.21002384  0.07910308] ACT: [-0.34267787  0.        ] \n",
      "final state  [-0.0696648   1.72361915]\n",
      "STATE: [ 0.71519856  0.74053605 -0.00349786  0.04360995] ACT: [-0.03997553  0.4983994 ] \n",
      "STATE: [ 0.71323362  0.77008834 -0.00561412  0.08443511] ACT: [-0.02680924  0.49928075] \n",
      "STATE: [ 0.71020809  0.81296749 -0.00864436  0.12251185] ACT: [-0.03884185  0.49848903] \n",
      "STATE: [ 0.70576221  0.86825937 -0.01270253  0.15797681] ACT: [-0.05286243  0.49719771] \n",
      "STATE: [ 0.70027196  0.93517682 -0.01568643  0.19119271] ACT: [-0.0436286   0.49809291] \n",
      "STATE: [ 0.69312355  1.01288169 -0.02042403  0.22201392] ACT: [-0.06590876  0.495637  ] \n",
      "STATE: [ 0.68392599  1.08548718 -0.02627873  0.20744426] ACT: [-0.08222894  0.        ] \n",
      "STATE: [ 0.67281377  1.15332794 -0.03174922  0.19383073] ACT: [-0.08222894  0.        ] \n",
      "STATE: [ 0.65991252  1.21671664 -0.03686071  0.18111059] ACT: [-0.08222894  0.        ] \n",
      "STATE: [ 0.64502001  1.27594546 -0.04255002  0.16922521] ACT: [-0.09266621  0.        ] \n",
      "STATE: [ 0.62826692  1.3312874  -0.04786597  0.1581198 ] ACT: [-0.09266621  0.        ] \n",
      "STATE: [ 0.60968394  1.38299751 -0.05309423  0.14774319] ACT: [-0.09565101  0.        ] \n",
      "STATE: [ 0.58868624  1.43131415 -0.05999343  0.13804754] ACT: [-0.1186687  0.       ] \n",
      "STATE: [ 0.56543229  1.47646001 -0.06643987  0.12898817] ACT: [-0.1186687  0.       ] \n",
      "STATE: [ 0.54077577  1.51864318 -0.07044719  0.12052332] ACT: [-0.09562784  0.        ] \n",
      "STATE: [ 0.51334132  1.55805807 -0.07838413  0.11261398] ACT: [-0.14354332  0.        ] \n",
      "STATE: [ 0.48356757  1.59488636 -0.08506787  0.10522369] ACT: [-0.1351736  0.       ] \n",
      "STATE: [ 0.45128908  1.62929779 -0.09222427  0.09831838] ACT: [-0.14558834  0.        ] \n",
      "STATE: [ 0.41665621  1.66145098 -0.09895104  0.09186624] ACT: [-0.14604555  0.        ] \n",
      "STATE: [ 0.3793093   1.69149411 -0.10670547  0.08583752] ACT: [-0.16283536  0.        ] \n",
      "STATE: [ 0.33884506  1.71956566 -0.11561212  0.08020443] ACT: [-0.18181945  0.        ] \n",
      "STATE: [ 0.2951789   1.74579502 -0.12476046  0.07494102] ACT: [-0.19126148  0.        ] \n",
      "STATE: [ 0.24796326  1.77030307 -0.13490182  0.07002301] ACT: [-0.20947166  0.        ] \n",
      "STATE: [ 0.19647748  1.79320278 -0.14710224  0.06542775] ACT: [-0.2406097  0.       ] \n",
      "STATE: [ 0.14017366  1.8145997  -0.16086806  0.06113405] ACT: [-0.2676503  0.       ] \n",
      "STATE: [ 0.07885265  1.83459245 -0.17520288  0.05712213] ACT: [-0.28447763  0.        ] \n",
      "STATE: [ 0.01077269  1.85327317 -0.19451416  0.05337349] ACT: [-0.35210246  0.        ] \n",
      "STATE: [-0.06333403  1.87072797 -0.21173348  0.04987086] ACT: [-0.34267787  0.        ] \n",
      "final state  [-0.06333403  1.87072797]\n",
      "After 1 REWARD:  (-0.6900053012781451, array([ 0.03803572,  1.74761366, -0.19044545,  0.03893338]), 0.08005695512951683)\n",
      "UPDATING THE ACTION MATRIX\n"
     ]
    },
    {
     "name": "stderr",
     "output_type": "stream",
     "text": [
      "100%|█████████████████████████████████████████████████████████████████████████████████████████████████████████████████████████| 25/25 [00:03<00:00,  7.02it/s]\n",
      "Generating Dynamics Dataset: 100%|██████████████████████████████████████████████████████████████████████████████████████████| 15/15 [00:00<00:00, 2738.63it/s]\n"
     ]
    },
    {
     "name": "stdout",
     "output_type": "stream",
     "text": [
      "COLLIDED\n",
      "COLLIDED\n"
     ]
    },
    {
     "name": "stderr",
     "output_type": "stream",
     "text": [
      "100%|████████████████████████████████████████████████████████████████████████████████████████████████████████████████████████| 30/30 [00:00<00:00, 203.77it/s]\n"
     ]
    },
    {
     "name": "stdout",
     "output_type": "stream",
     "text": [
      "Epoch 1, loss: 0.001, err: 0.025, val_loss: 0.004, val_err: 0.062\n"
     ]
    },
    {
     "name": "stderr",
     "output_type": "stream",
     "text": [
      "100%|████████████████████████████████████████████████████████████████████████████████████████████████████████████████████████| 30/30 [00:00<00:00, 206.46it/s]\n"
     ]
    },
    {
     "name": "stdout",
     "output_type": "stream",
     "text": [
      "Epoch 2, loss: 0.001, err: 0.027, val_loss: 0.004, val_err: 0.062\n"
     ]
    },
    {
     "name": "stderr",
     "output_type": "stream",
     "text": [
      "100%|████████████████████████████████████████████████████████████████████████████████████████████████████████████████████████| 30/30 [00:00<00:00, 209.35it/s]\n"
     ]
    },
    {
     "name": "stdout",
     "output_type": "stream",
     "text": [
      "Epoch 3, loss: 0.001, err: 0.026, val_loss: 0.004, val_err: 0.060\n"
     ]
    },
    {
     "name": "stderr",
     "output_type": "stream",
     "text": [
      "100%|████████████████████████████████████████████████████████████████████████████████████████████████████████████████████████| 30/30 [00:00<00:00, 208.95it/s]\n"
     ]
    },
    {
     "name": "stdout",
     "output_type": "stream",
     "text": [
      "Epoch 4, loss: 0.001, err: 0.027, val_loss: 0.004, val_err: 0.060\n"
     ]
    },
    {
     "name": "stderr",
     "output_type": "stream",
     "text": [
      "100%|████████████████████████████████████████████████████████████████████████████████████████████████████████████████████████| 30/30 [00:00<00:00, 206.43it/s]\n"
     ]
    },
    {
     "name": "stdout",
     "output_type": "stream",
     "text": [
      "Epoch 5, loss: 0.001, err: 0.026, val_loss: 0.004, val_err: 0.061\n"
     ]
    },
    {
     "name": "stderr",
     "output_type": "stream",
     "text": [
      "100%|████████████████████████████████████████████████████████████████████████████████████████████████████████████████████████| 30/30 [00:00<00:00, 207.90it/s]\n"
     ]
    },
    {
     "name": "stdout",
     "output_type": "stream",
     "text": [
      "Epoch 6, loss: 0.001, err: 0.026, val_loss: 0.004, val_err: 0.060\n"
     ]
    },
    {
     "name": "stderr",
     "output_type": "stream",
     "text": [
      "100%|████████████████████████████████████████████████████████████████████████████████████████████████████████████████████████| 30/30 [00:00<00:00, 208.62it/s]\n"
     ]
    },
    {
     "name": "stdout",
     "output_type": "stream",
     "text": [
      "Epoch 7, loss: 0.001, err: 0.026, val_loss: 0.004, val_err: 0.060\n"
     ]
    },
    {
     "name": "stderr",
     "output_type": "stream",
     "text": [
      "100%|████████████████████████████████████████████████████████████████████████████████████████████████████████████████████████| 30/30 [00:00<00:00, 207.72it/s]\n"
     ]
    },
    {
     "name": "stdout",
     "output_type": "stream",
     "text": [
      "Epoch 8, loss: 0.001, err: 0.027, val_loss: 0.003, val_err: 0.058\n"
     ]
    },
    {
     "name": "stderr",
     "output_type": "stream",
     "text": [
      "100%|████████████████████████████████████████████████████████████████████████████████████████████████████████████████████████| 30/30 [00:00<00:00, 208.06it/s]\n"
     ]
    },
    {
     "name": "stdout",
     "output_type": "stream",
     "text": [
      "Epoch 9, loss: 0.001, err: 0.026, val_loss: 0.003, val_err: 0.059\n"
     ]
    },
    {
     "name": "stderr",
     "output_type": "stream",
     "text": [
      "100%|████████████████████████████████████████████████████████████████████████████████████████████████████████████████████████| 30/30 [00:00<00:00, 132.42it/s]\n"
     ]
    },
    {
     "name": "stdout",
     "output_type": "stream",
     "text": [
      "Epoch 10, loss: 0.001, err: 0.027, val_loss: 0.003, val_err: 0.057\n"
     ]
    },
    {
     "name": "stderr",
     "output_type": "stream",
     "text": [
      "100%|████████████████████████████████████████████████████████████████████████████████████████████████████████████████████████| 30/30 [00:00<00:00, 208.36it/s]\n"
     ]
    },
    {
     "name": "stdout",
     "output_type": "stream",
     "text": [
      "Epoch 11, loss: 0.001, err: 0.026, val_loss: 0.003, val_err: 0.055\n"
     ]
    },
    {
     "name": "stderr",
     "output_type": "stream",
     "text": [
      "100%|████████████████████████████████████████████████████████████████████████████████████████████████████████████████████████| 30/30 [00:00<00:00, 208.27it/s]\n"
     ]
    },
    {
     "name": "stdout",
     "output_type": "stream",
     "text": [
      "Epoch 12, loss: 0.001, err: 0.026, val_loss: 0.003, val_err: 0.058\n"
     ]
    },
    {
     "name": "stderr",
     "output_type": "stream",
     "text": [
      "100%|████████████████████████████████████████████████████████████████████████████████████████████████████████████████████████| 30/30 [00:00<00:00, 209.26it/s]\n"
     ]
    },
    {
     "name": "stdout",
     "output_type": "stream",
     "text": [
      "Epoch 13, loss: 0.001, err: 0.026, val_loss: 0.003, val_err: 0.055\n"
     ]
    },
    {
     "name": "stderr",
     "output_type": "stream",
     "text": [
      "100%|████████████████████████████████████████████████████████████████████████████████████████████████████████████████████████| 30/30 [00:00<00:00, 207.33it/s]\n"
     ]
    },
    {
     "name": "stdout",
     "output_type": "stream",
     "text": [
      "Epoch 14, loss: 0.001, err: 0.026, val_loss: 0.003, val_err: 0.057\n"
     ]
    },
    {
     "name": "stderr",
     "output_type": "stream",
     "text": [
      "100%|████████████████████████████████████████████████████████████████████████████████████████████████████████████████████████| 30/30 [00:00<00:00, 207.02it/s]\n"
     ]
    },
    {
     "name": "stdout",
     "output_type": "stream",
     "text": [
      "Epoch 15, loss: 0.001, err: 0.026, val_loss: 0.003, val_err: 0.056\n"
     ]
    },
    {
     "name": "stderr",
     "output_type": "stream",
     "text": [
      "100%|████████████████████████████████████████████████████████████████████████████████████████████████████████████████████████| 30/30 [00:00<00:00, 207.77it/s]\n"
     ]
    },
    {
     "name": "stdout",
     "output_type": "stream",
     "text": [
      "Epoch 16, loss: 0.001, err: 0.026, val_loss: 0.003, val_err: 0.054\n"
     ]
    },
    {
     "name": "stderr",
     "output_type": "stream",
     "text": [
      "100%|████████████████████████████████████████████████████████████████████████████████████████████████████████████████████████| 30/30 [00:00<00:00, 208.40it/s]\n"
     ]
    },
    {
     "name": "stdout",
     "output_type": "stream",
     "text": [
      "Epoch 17, loss: 0.001, err: 0.026, val_loss: 0.003, val_err: 0.052\n"
     ]
    },
    {
     "name": "stderr",
     "output_type": "stream",
     "text": [
      "100%|████████████████████████████████████████████████████████████████████████████████████████████████████████████████████████| 30/30 [00:00<00:00, 207.54it/s]\n"
     ]
    },
    {
     "name": "stdout",
     "output_type": "stream",
     "text": [
      "Epoch 18, loss: 0.001, err: 0.025, val_loss: 0.004, val_err: 0.059\n"
     ]
    },
    {
     "name": "stderr",
     "output_type": "stream",
     "text": [
      "100%|████████████████████████████████████████████████████████████████████████████████████████████████████████████████████████| 30/30 [00:00<00:00, 209.24it/s]\n"
     ]
    },
    {
     "name": "stdout",
     "output_type": "stream",
     "text": [
      "Epoch 19, loss: 0.001, err: 0.027, val_loss: 0.003, val_err: 0.053\n"
     ]
    },
    {
     "name": "stderr",
     "output_type": "stream",
     "text": [
      "100%|████████████████████████████████████████████████████████████████████████████████████████████████████████████████████████| 30/30 [00:00<00:00, 208.42it/s]\n"
     ]
    },
    {
     "name": "stdout",
     "output_type": "stream",
     "text": [
      "Epoch 20, loss: 0.001, err: 0.026, val_loss: 0.003, val_err: 0.053\n"
     ]
    },
    {
     "name": "stderr",
     "output_type": "stream",
     "text": [
      "100%|████████████████████████████████████████████████████████████████████████████████████████████████████████████████████████| 30/30 [00:00<00:00, 208.72it/s]\n"
     ]
    },
    {
     "name": "stdout",
     "output_type": "stream",
     "text": [
      "Epoch 21, loss: 0.001, err: 0.026, val_loss: 0.003, val_err: 0.053\n"
     ]
    },
    {
     "name": "stderr",
     "output_type": "stream",
     "text": [
      "100%|████████████████████████████████████████████████████████████████████████████████████████████████████████████████████████| 30/30 [00:00<00:00, 205.54it/s]\n"
     ]
    },
    {
     "name": "stdout",
     "output_type": "stream",
     "text": [
      "Epoch 22, loss: 0.001, err: 0.025, val_loss: 0.003, val_err: 0.054\n"
     ]
    },
    {
     "name": "stderr",
     "output_type": "stream",
     "text": [
      "100%|████████████████████████████████████████████████████████████████████████████████████████████████████████████████████████| 30/30 [00:00<00:00, 207.88it/s]\n"
     ]
    },
    {
     "name": "stdout",
     "output_type": "stream",
     "text": [
      "Epoch 23, loss: 0.001, err: 0.025, val_loss: 0.002, val_err: 0.049\n"
     ]
    },
    {
     "name": "stderr",
     "output_type": "stream",
     "text": [
      "100%|████████████████████████████████████████████████████████████████████████████████████████████████████████████████████████| 30/30 [00:00<00:00, 206.97it/s]\n"
     ]
    },
    {
     "name": "stdout",
     "output_type": "stream",
     "text": [
      "Epoch 24, loss: 0.001, err: 0.025, val_loss: 0.003, val_err: 0.053\n"
     ]
    },
    {
     "name": "stderr",
     "output_type": "stream",
     "text": [
      "100%|████████████████████████████████████████████████████████████████████████████████████████████████████████████████████████| 30/30 [00:00<00:00, 207.77it/s]\n"
     ]
    },
    {
     "name": "stdout",
     "output_type": "stream",
     "text": [
      "Epoch 25, loss: 0.001, err: 0.025, val_loss: 0.003, val_err: 0.052\n"
     ]
    },
    {
     "name": "stderr",
     "output_type": "stream",
     "text": [
      "100%|████████████████████████████████████████████████████████████████████████████████████████████████████████████████████████| 30/30 [00:00<00:00, 209.64it/s]\n"
     ]
    },
    {
     "name": "stdout",
     "output_type": "stream",
     "text": [
      "Epoch 26, loss: 0.001, err: 0.026, val_loss: 0.003, val_err: 0.051\n"
     ]
    },
    {
     "name": "stderr",
     "output_type": "stream",
     "text": [
      "100%|████████████████████████████████████████████████████████████████████████████████████████████████████████████████████████| 30/30 [00:00<00:00, 206.43it/s]\n"
     ]
    },
    {
     "name": "stdout",
     "output_type": "stream",
     "text": [
      "Epoch 27, loss: 0.001, err: 0.025, val_loss: 0.003, val_err: 0.050\n"
     ]
    },
    {
     "name": "stderr",
     "output_type": "stream",
     "text": [
      "100%|████████████████████████████████████████████████████████████████████████████████████████████████████████████████████████| 30/30 [00:00<00:00, 208.77it/s]\n"
     ]
    },
    {
     "name": "stdout",
     "output_type": "stream",
     "text": [
      "Epoch 28, loss: 0.001, err: 0.025, val_loss: 0.003, val_err: 0.050\n"
     ]
    },
    {
     "name": "stderr",
     "output_type": "stream",
     "text": [
      "100%|████████████████████████████████████████████████████████████████████████████████████████████████████████████████████████| 30/30 [00:00<00:00, 208.66it/s]\n"
     ]
    },
    {
     "name": "stdout",
     "output_type": "stream",
     "text": [
      "Epoch 29, loss: 0.001, err: 0.025, val_loss: 0.003, val_err: 0.051\n"
     ]
    },
    {
     "name": "stderr",
     "output_type": "stream",
     "text": [
      "100%|████████████████████████████████████████████████████████████████████████████████████████████████████████████████████████| 30/30 [00:00<00:00, 204.56it/s]\n"
     ]
    },
    {
     "name": "stdout",
     "output_type": "stream",
     "text": [
      "Epoch 30, loss: 0.001, err: 0.026, val_loss: 0.003, val_err: 0.051\n"
     ]
    },
    {
     "name": "stderr",
     "output_type": "stream",
     "text": [
      "100%|████████████████████████████████████████████████████████████████████████████████████████████████████████████████████████| 30/30 [00:00<00:00, 206.90it/s]\n"
     ]
    },
    {
     "name": "stdout",
     "output_type": "stream",
     "text": [
      "Epoch 31, loss: 0.001, err: 0.025, val_loss: 0.003, val_err: 0.054\n"
     ]
    },
    {
     "name": "stderr",
     "output_type": "stream",
     "text": [
      "100%|████████████████████████████████████████████████████████████████████████████████████████████████████████████████████████| 30/30 [00:00<00:00, 208.13it/s]\n"
     ]
    },
    {
     "name": "stdout",
     "output_type": "stream",
     "text": [
      "Epoch 32, loss: 0.001, err: 0.025, val_loss: 0.002, val_err: 0.049\n"
     ]
    },
    {
     "name": "stderr",
     "output_type": "stream",
     "text": [
      "100%|████████████████████████████████████████████████████████████████████████████████████████████████████████████████████████| 30/30 [00:00<00:00, 206.87it/s]\n"
     ]
    },
    {
     "name": "stdout",
     "output_type": "stream",
     "text": [
      "Epoch 33, loss: 0.001, err: 0.025, val_loss: 0.002, val_err: 0.050\n"
     ]
    },
    {
     "name": "stderr",
     "output_type": "stream",
     "text": [
      "100%|████████████████████████████████████████████████████████████████████████████████████████████████████████████████████████| 30/30 [00:00<00:00, 209.81it/s]\n"
     ]
    },
    {
     "name": "stdout",
     "output_type": "stream",
     "text": [
      "Epoch 34, loss: 0.001, err: 0.025, val_loss: 0.002, val_err: 0.049\n"
     ]
    },
    {
     "name": "stderr",
     "output_type": "stream",
     "text": [
      "100%|████████████████████████████████████████████████████████████████████████████████████████████████████████████████████████| 30/30 [00:00<00:00, 209.67it/s]\n"
     ]
    },
    {
     "name": "stdout",
     "output_type": "stream",
     "text": [
      "Epoch 35, loss: 0.001, err: 0.025, val_loss: 0.003, val_err: 0.051\n"
     ]
    },
    {
     "name": "stderr",
     "output_type": "stream",
     "text": [
      "100%|████████████████████████████████████████████████████████████████████████████████████████████████████████████████████████| 30/30 [00:00<00:00, 210.47it/s]\n"
     ]
    },
    {
     "name": "stdout",
     "output_type": "stream",
     "text": [
      "Epoch 36, loss: 0.001, err: 0.025, val_loss: 0.003, val_err: 0.051\n"
     ]
    },
    {
     "name": "stderr",
     "output_type": "stream",
     "text": [
      "100%|████████████████████████████████████████████████████████████████████████████████████████████████████████████████████████| 30/30 [00:00<00:00, 208.06it/s]\n"
     ]
    },
    {
     "name": "stdout",
     "output_type": "stream",
     "text": [
      "Epoch 37, loss: 0.001, err: 0.025, val_loss: 0.002, val_err: 0.050\n"
     ]
    },
    {
     "name": "stderr",
     "output_type": "stream",
     "text": [
      "100%|████████████████████████████████████████████████████████████████████████████████████████████████████████████████████████| 30/30 [00:00<00:00, 206.24it/s]\n"
     ]
    },
    {
     "name": "stdout",
     "output_type": "stream",
     "text": [
      "Epoch 38, loss: 0.001, err: 0.025, val_loss: 0.002, val_err: 0.048\n"
     ]
    },
    {
     "name": "stderr",
     "output_type": "stream",
     "text": [
      "100%|████████████████████████████████████████████████████████████████████████████████████████████████████████████████████████| 30/30 [00:00<00:00, 206.35it/s]\n"
     ]
    },
    {
     "name": "stdout",
     "output_type": "stream",
     "text": [
      "Epoch 39, loss: 0.001, err: 0.034, val_loss: 0.002, val_err: 0.040\n"
     ]
    },
    {
     "name": "stderr",
     "output_type": "stream",
     "text": [
      "100%|████████████████████████████████████████████████████████████████████████████████████████████████████████████████████████| 10/10 [00:00<00:00, 598.77it/s]\n"
     ]
    },
    {
     "name": "stdout",
     "output_type": "stream",
     "text": [
      "STATE: [ 0.86793123  0.73522266 -0.03848346 -0.02081071] ACT: [-0.43981099 -0.2378367 ] \n",
      "STATE: [ 0.84196546  0.72097141 -0.07418792 -0.04071787] ACT: [-0.43691354 -0.24311841] \n",
      "STATE: [ 0.80435922  0.70014555 -0.1074464  -0.05950245] ACT: [-0.43573789 -0.24521927] \n",
      "STATE: [ 0.75581939  0.6732788  -0.13868523 -0.07676215] ACT: [-0.43760002 -0.2418806 ] \n",
      "STATE: [ 0.69704396  0.64080302 -0.16792979 -0.09278796] ACT: [-0.43823747 -0.24072374] \n",
      "STATE: [ 0.62869651  0.60310113 -0.19527844 -0.10771967] ACT: [-0.43850332 -0.24023912] \n",
      "STATE: [ 0.55139846  0.5605284  -0.22085156 -0.12163637] ACT: [-0.43872303 -0.23983766] \n",
      "STATE: [ 0.46530416  0.51425911 -0.24598371 -0.13219797] ACT: [-0.45286326 -0.21193128] \n",
      "STATE: [ 0.39691659  0.46564106 -0.19539306 -0.13890873] ACT: [ 0.39369106 -0.17584294] \n",
      "STATE: [ 0.32138861  0.41025092 -0.21579423 -0.15825754] ACT: [-0.37970104 -0.32531081] \n",
      "STATE: [ 0.23740063  0.35111539 -0.23996564 -0.16895864] ACT: [-0.43809031 -0.24099144] \n",
      "STATE: [ 0.14539717  0.28868516 -0.26286704 -0.1783721 ] ACT: [-0.44170453 -0.23430132] \n",
      "STATE: [ 0.04584338  0.22329234 -0.2844394  -0.18683662] ACT: [-0.44369152 -0.23051646] \n",
      "STATE: [-0.06106368  0.15573816 -0.30544873 -0.19301194] ACT: [-0.45343623 -0.21070261] \n",
      "final state  [-0.06106368  0.15573816]\n",
      "STATE: [ 0.60630237  0.85748868 -0.03854558 -0.02069542] ACT: [-0.44052095 -0.23651912] \n",
      "STATE: [ 0.58011538  0.84364822 -0.07481996 -0.03954416] ACT: [-0.44347347 -0.23093566] \n",
      "STATE: [ 0.54206568  0.82364336 -0.10871341 -0.05715673] ACT: [-0.44346875 -0.23094473] \n",
      "STATE: [ 0.49299518  0.7977582  -0.14020145 -0.07395763] ACT: [-0.44139828 -0.23487775] \n",
      "STATE: [ 0.43361357  0.76640409 -0.16966173 -0.08958316] ACT: [-0.44183999 -0.23404576] \n",
      "STATE: [ 0.36457601  0.72998074 -0.1972502  -0.10406671] ACT: [-0.44254309 -0.23271359] \n",
      "STATE: [ 0.28651791  0.68881747 -0.22302313 -0.11760936] ACT: [-0.44248544 -0.23282319] \n",
      "STATE: [ 0.19997158  0.64333992 -0.24727524 -0.12993584] ACT: [-0.44443429 -0.22908112] \n",
      "STATE: [ 0.10541607  0.59398464 -0.27015861 -0.1410151 ] ACT: [-0.44698068 -0.22407203] \n",
      "STATE: [ 0.00320523  0.54135996 -0.29203096 -0.15035622] ACT: [-0.4525887  -0.21251698] \n",
      "STATE: [-0.10605333  0.48546092 -0.31216732 -0.15971155] ACT: [-0.44915301 -0.21968517] \n",
      "final state  [-0.10605333  0.48546092]\n",
      "STATE: [ 0.63090295  0.65868965 -0.03850071 -0.02077878] ACT: [-0.44000813 -0.23747178] \n",
      "STATE: [ 0.60487801  0.64454586 -0.07435697 -0.04041083] ACT: [-0.43866138 -0.2399504 ] \n",
      "STATE: [ 0.56710667  0.62401899 -0.10791813 -0.05864822] ACT: [-0.43932384 -0.23873534] \n",
      "STATE: [ 0.51834707  0.59755134 -0.13931314 -0.07562183] ACT: [-0.43973868 -0.23797036] \n",
      "STATE: [ 0.45903468  0.56608731 -0.16946396 -0.08989723] ACT: [-0.44906562 -0.21986375] \n",
      "STATE: [ 0.38875125  0.53300691 -0.20080981 -0.09451545] ACT: [-0.48533632 -0.12020258] \n",
      "STATE: [ 0.30807219  0.49905878 -0.23051161 -0.09699466] ACT: [-0.49005643 -0.09922044] \n",
      "STATE: [ 0.21915478  0.46017378 -0.25404974 -0.11109997] ACT: [-0.44189093 -0.23394959] \n",
      "STATE: [ 0.12251003  0.41673217 -0.27612785 -0.12411889] ACT: [-0.4428586 -0.2321126] \n",
      "STATE: [ 0.01843003  0.36945924 -0.29737142 -0.13506551] ACT: [-0.44987959 -0.2181934 ] \n",
      "STATE: [-0.09265793  0.31873295 -0.31739417 -0.14493227] ACT: [-0.45185994 -0.21406213] \n",
      "final state  [-0.09265793  0.31873295]\n",
      "STATE: [ 0.74985282  0.70581585 -0.0385327  -0.02071941] ACT: [-0.44037366 -0.23679325] \n",
      "STATE: [ 0.72385718  0.69161925 -0.07427326 -0.04056171] ACT: [-0.4373631  -0.24230873] \n",
      "STATE: [ 0.68609278  0.67108075 -0.10789828 -0.05868142] ACT: [-0.43999091 -0.23750368] \n",
      "STATE: [ 0.63738132  0.64452582 -0.13917562 -0.07587122] ACT: [-0.43837899 -0.24046593] \n",
      "STATE: [ 0.57843254  0.61236508 -0.16842509 -0.09188783] ACT: [-0.43866138 -0.2399504 ] \n",
      "STATE: [ 0.50978932  0.57520722 -0.19612348 -0.10616533] ACT: [-0.44287187 -0.23208729] \n",
      "STATE: [ 0.43122822  0.53534376 -0.22446028 -0.11389558] ACT: [-0.47094178 -0.16796975] \n",
      "STATE: [ 0.34377521  0.49759773 -0.24986573 -0.10784582] ACT: [-0.45869319 -0.01628147] \n",
      "STATE: [ 0.24851586  0.45518782 -0.2721696  -0.12117116] ACT: [-0.44230064 -0.23317406] \n",
      "STATE: [ 0.1459734   0.40839935 -0.29297845 -0.13368134] ACT: [-0.44194269 -0.23385179] \n",
      "STATE: [ 0.03653647  0.35769107 -0.31267692 -0.14488081] ACT: [-0.44485917 -0.22825494] \n",
      "STATE: [-0.07955686  0.30375486 -0.33169524 -0.15410344] ACT: [-0.45185994 -0.21406213] \n",
      "final state  [-0.07955686  0.30375486]\n",
      "STATE: [ 0.85278872  0.61284842 -0.03812401 -0.02146212] ACT: [-0.43570295 -0.24528135] \n",
      "STATE: [ 0.82698554  0.59830377 -0.07372338 -0.04155614] ACT: [-0.435443   -0.24574254] \n",
      "STATE: [ 0.78955604  0.57715984 -0.10694143 -0.06041124] ACT: [-0.43492736 -0.24665399] \n",
      "STATE: [ 0.7412043   0.5499545  -0.13814781 -0.07772953] ACT: [-0.43685046 -0.24323173] \n",
      "STATE: [ 0.68264209  0.51709456 -0.16732061 -0.09388554] ACT: [-0.43701427 -0.2429373 ] \n",
      "STATE: [ 0.61444994  0.47911446 -0.19483471 -0.10851456] ACT: [-0.43993729 -0.23760298] \n",
      "STATE: [ 0.53667432  0.43755812 -0.22221605 -0.11873241] ACT: [-0.45905565 -0.19816132] \n",
      "STATE: [ 0.47235331  0.41156403 -0.18377431 -0.07426882] ACT: [0.27267219 0.41910604] \n",
      "COLLIDED\n",
      "STATE: [ 0.42489471  0.39591695 -0.13559601 -0.04470596] ACT: [0.41277835 0.28215958] \n",
      "COLLIDED\n",
      "STATE: [ 0.36717672  0.37383931 -0.16490854 -0.06307896] ACT: [-0.4366973  -0.24350661] \n",
      "STATE: [ 0.2998329   0.34582482 -0.19241093 -0.0800414 ] ACT: [-0.43799443 -0.24116566] \n",
      "STATE: [ 0.2234227   0.31239581 -0.21831485 -0.09551146] ACT: [-0.44035299 -0.23683167] \n",
      "STATE: [ 0.13850758  0.27397031 -0.24261463 -0.10978715] ACT: [-0.44144797 -0.23478434] \n",
      "STATE: [ 0.04557696  0.23100691 -0.26551606 -0.12275255] ACT: [-0.44369152 -0.23051646] \n",
      "STATE: [-0.05514157  0.18441023 -0.28776723 -0.1331334 ] ACT: [-0.45343623 -0.21070261] \n",
      "final state  [-0.05514157  0.18441023]\n",
      "STATE: [ 0.76201919  0.63929193 -0.03839441 -0.02097455] ACT: [-0.43879329 -0.23970909] \n",
      "STATE: [ 0.73606467  0.62501929 -0.07415575 -0.04077897] ACT: [-0.43749681 -0.24206722] \n",
      "STATE: [ 0.69841065  0.604278   -0.10758291 -0.05926083] ACT: [-0.43764154 -0.24180546] \n",
      "STATE: [ 0.64979343  0.57754982 -0.13890635 -0.07636623] ACT: [-0.43866928 -0.23993595] \n",
      "STATE: [ 0.59091209  0.54526501 -0.1682324  -0.09224231] ACT: [-0.43933459 -0.23871557] \n",
      "STATE: [ 0.52207855  0.50849718 -0.19666728 -0.10505094] ACT: [-0.45114439 -0.2155661 ] \n",
      "STATE: [ 0.45026285  0.48596544 -0.2051877  -0.0643764 ] ACT: [-0.24487669  0.38606371] \n",
      "STATE: [ 0.39708035  0.47129187 -0.15195001 -0.04192449] ACT: [0.45453993 0.20831095] \n",
      "STATE: [ 0.3357596   0.4476186  -0.17520213 -0.06763789] ACT: [-0.37970104 -0.32531081] \n",
      "STATE: [ 0.26515799  0.41791941 -0.20171889 -0.08485483] ACT: [-0.43445025 -0.2474934 ] \n",
      "STATE: [ 0.18567357  0.38297276 -0.22709835 -0.09984759] ACT: [-0.44134014 -0.23498698] \n",
      "STATE: [ 0.09782418  0.34324659 -0.25099824 -0.11350333] ACT: [-0.44346535 -0.23095126] \n",
      "STATE: [ 0.00202051  0.29932669 -0.2737248  -0.12548543] ACT: [-0.44798077 -0.22206582] \n",
      "STATE: [-0.10154294  0.25219332 -0.29589556 -0.13466678] ACT: [-0.45867373 -0.19904374] \n",
      "final state  [-0.10154294  0.25219332]\n",
      "STATE: [ 0.71217205  0.60647953 -0.03836233 -0.02103316] ACT: [-0.43842667 -0.24037898] \n",
      "STATE: [ 0.68619956  0.59223942 -0.07420714 -0.04068602] ACT: [-0.43842667 -0.24037898] \n",
      "STATE: [ 0.64849726  0.57158579 -0.10772086 -0.0590104 ] ACT: [-0.43866928 -0.23993595] \n",
      "STATE: [ 0.59981455  0.54497688 -0.13909345 -0.07602545] ACT: [-0.43933459 -0.23871557] \n",
      "STATE: [ 0.54051034  0.51351247 -0.16944058 -0.08989831] ACT: [-0.45114439 -0.2155661 ] \n",
      "STATE: [ 0.47049658  0.48872505 -0.20003932 -0.0708212 ] ACT: [-0.47678037  0.1506004 ] \n",
      "STATE: [ 0.41899776  0.47194382 -0.1471395  -0.04794635] ACT: [0.45453993 0.20831095] \n",
      "STATE: [ 0.38582759  0.4595803  -0.09477191 -0.03532435] ACT: [0.48813206 0.10829172] \n",
      "STATE: [ 0.34320587  0.43806549 -0.12177635 -0.06147088] ACT: [-0.37970104 -0.32531081] \n",
      "STATE: [ 0.29005428  0.41042163 -0.15186166 -0.07898246] ACT: [-0.43516445 -0.24623546] \n",
      "STATE: [ 0.22692244  0.37730653 -0.18037671 -0.09461457] ACT: [-0.43978243 -0.23788949] \n",
      "STATE: [ 0.15440306  0.33919546 -0.20719821 -0.10888878] ACT: [-0.44181401 -0.23409481] \n",
      "STATE: [ 0.07302732  0.29657886 -0.23250213 -0.12176172] ACT: [-0.44458637 -0.22878584] \n",
      "STATE: [-0.01668762  0.24987822 -0.25632838 -0.13343039] ACT: [-0.44667659 -0.2246776 ] \n",
      "final state  [-0.01668762  0.24987822]\n",
      "STATE: [ 0.84083709  0.85386231 -0.0383907  -0.02098133] ACT: [-0.4387509  -0.23978668] \n",
      "STATE: [ 0.81490595  0.83954754 -0.07408897 -0.04089934] ACT: [-0.43677323 -0.24337038] \n",
      "STATE: [ 0.77722966  0.81884729 -0.10764655 -0.05914357] ACT: [-0.43908192 -0.23917998] \n",
      "STATE: [ 0.72849053  0.7923454  -0.13925467 -0.07571969] ACT: [-0.44197058 -0.23379907] \n",
      "STATE: [ 0.66948324  0.76029422 -0.16859225 -0.09157479] ACT: [-0.4397276  -0.23799084] \n",
      "STATE: [ 0.60086009  0.72309791 -0.19606614 -0.10627518] ACT: [-0.44043154 -0.23668557] \n",
      "STATE: [ 0.52324374  0.68110971 -0.22176099 -0.11996627] ACT: [-0.44070499 -0.23617603] \n",
      "STATE: [ 0.43723452  0.63462522 -0.24574065 -0.13281285] ACT: [-0.44037396 -0.23679268] \n",
      "STATE: [ 0.34319526  0.58430042 -0.26868359 -0.14378514] ACT: [-0.44651059 -0.22500732] \n",
      "STATE: [ 0.24152801  0.53064106 -0.29047786 -0.15331245] ACT: [-0.45059009 -0.21672233] \n",
      "STATE: [ 0.13291329  0.47350416 -0.31032776 -0.1632483 ] ACT: [-0.44471438 -0.22853691] \n",
      "STATE: [ 0.01768194  0.4133669  -0.32923243 -0.17182075] ACT: [-0.44879918 -0.2204071 ] \n",
      "STATE: [-0.10384005  0.35065115 -0.34720568 -0.17918786] ACT: [-0.45233282 -0.21306106] \n",
      "final state  [-0.10384005  0.35065115]\n",
      "STATE: [ 0.85935063  0.87181924 -0.03853756 -0.02071037] ACT: [-0.44042921 -0.23668991] \n",
      "STATE: [ 0.8332526   0.85781053 -0.07456581 -0.04002487] ACT: [-0.44065463 -0.23626997] \n",
      "STATE: [ 0.79549107  0.83726793 -0.10789009 -0.05869315] ACT: [-0.43677323 -0.24337038] \n",
      "STATE: [ 0.74683107  0.8106209  -0.13902855 -0.07613436] ACT: [-0.43678569 -0.24334803] \n",
      "STATE: [ 0.68787027  0.77848511 -0.16845945 -0.09181656] ACT: [-0.44062463 -0.23632592] \n",
      "STATE: [ 0.6192995   0.74119308 -0.19591646 -0.10654865] ACT: [-0.44013898 -0.23722917] \n",
      "STATE: [ 0.54171378  0.69914975 -0.2216735  -0.12012378] ACT: [-0.44130348 -0.23505581] \n",
      "STATE: [ 0.45569222  0.65269043 -0.2457759  -0.13274093] ACT: [-0.44171115 -0.23428884] \n",
      "STATE: [ 0.36179812  0.60208663 -0.26826886 -0.14458227] ACT: [-0.44139427 -0.23488529] \n",
      "STATE: [ 0.26023003  0.54824294 -0.29019452 -0.15383913] ACT: [-0.45178068 -0.21422936] \n",
      "STATE: [ 0.15156683  0.49121556 -0.31046631 -0.16293537] ACT: [-0.44932344 -0.21933639] \n",
      "STATE: [ 0.03629017  0.43118063 -0.32936188 -0.17152836] ACT: [-0.44879918 -0.2204071 ] \n",
      "STATE: [-0.08519076  0.36838632 -0.34708837 -0.17941232] ACT: [-0.44960982 -0.21874874] \n",
      "final state  [-0.08519076  0.36838632]\n",
      "STATE: [ 0.82259965  0.85410578 -0.03821766 -0.02129491] ACT: [-0.43677323 -0.24337038] \n",
      "STATE: [ 0.79672511  0.83968847 -0.07392728 -0.04119234] ACT: [-0.43677323 -0.24337038] \n",
      "STATE: [ 0.75917201  0.81876475 -0.10729455 -0.05978204] ACT: [-0.43678569 -0.24334803] \n",
      "STATE: [ 0.71054799  0.79205406 -0.13892577 -0.07631627] ACT: [-0.44197058 -0.23379907] \n",
      "STATE: [ 0.65164826  0.75980778 -0.16828493 -0.09213221] ACT: [-0.4397276  -0.23799084] \n",
      "STATE: [ 0.58312562  0.72242918 -0.195779   -0.10679602] ACT: [-0.44043154 -0.23668557] \n",
      "STATE: [ 0.50558931  0.68029658 -0.22153229 -0.12037885] ACT: [-0.44115764 -0.23532941] \n",
      "STATE: [ 0.41965488  0.63367715 -0.24552696 -0.13319835] ACT: [-0.44037396 -0.23679268] \n",
      "STATE: [ 0.3256855   0.58322628 -0.26848393 -0.14414535] ACT: [-0.44651059 -0.22500732] \n",
      "STATE: [ 0.22403797  0.52954474 -0.29042153 -0.15337585] ACT: [-0.45207839 -0.2136004 ] \n",
      "STATE: [ 0.11544168  0.4723871  -0.31027512 -0.16330754] ACT: [-0.44471438 -0.22853691] \n",
      "STATE: [ 1.73876377e-04  4.12340849e-01 -3.29336570e-01 -1.71560713e-01] ACT: [-0.45055144 -0.21680268] \n",
      "STATE: [-0.12139268  0.34973251 -0.34733303 -0.17888096] ACT: [-0.45267622 -0.2123305 ] \n",
      "final state  [-0.12139268  0.34973251]\n",
      "After 2 REWARD:  (0.7726511369876595, array([-0.08231274,  0.30189386, -0.31483237, -0.15904709]), -0.2039974187163299)\n",
      "UPDATING THE ACTION MATRIX\n"
     ]
    },
    {
     "name": "stderr",
     "output_type": "stream",
     "text": [
      "100%|█████████████████████████████████████████████████████████████████████████████████████████████████████████████████████████| 25/25 [00:03<00:00,  7.00it/s]\n",
      "Generating Dynamics Dataset: 100%|██████████████████████████████████████████████████████████████████████████████████████████| 15/15 [00:00<00:00, 2076.18it/s]\n"
     ]
    },
    {
     "name": "stdout",
     "output_type": "stream",
     "text": [
      "COLLIDED\n",
      "COLLIDED\n",
      "COLLIDED\n",
      "COLLIDED\n",
      "COLLIDED\n",
      "COLLIDED\n",
      "COLLIDED\n",
      "COLLIDED\n",
      "COLLIDED\n"
     ]
    },
    {
     "name": "stderr",
     "output_type": "stream",
     "text": [
      "100%|████████████████████████████████████████████████████████████████████████████████████████████████████████████████████████| 33/33 [00:00<00:00, 197.87it/s]\n"
     ]
    },
    {
     "name": "stdout",
     "output_type": "stream",
     "text": [
      "Epoch 1, loss: 0.001, err: 0.024, val_loss: 0.002, val_err: 0.046\n"
     ]
    },
    {
     "name": "stderr",
     "output_type": "stream",
     "text": [
      "100%|████████████████████████████████████████████████████████████████████████████████████████████████████████████████████████| 33/33 [00:00<00:00, 205.97it/s]\n"
     ]
    },
    {
     "name": "stdout",
     "output_type": "stream",
     "text": [
      "Epoch 2, loss: 0.001, err: 0.024, val_loss: 0.002, val_err: 0.045\n"
     ]
    },
    {
     "name": "stderr",
     "output_type": "stream",
     "text": [
      "100%|████████████████████████████████████████████████████████████████████████████████████████████████████████████████████████| 33/33 [00:00<00:00, 205.54it/s]\n"
     ]
    },
    {
     "name": "stdout",
     "output_type": "stream",
     "text": [
      "Epoch 3, loss: 0.001, err: 0.024, val_loss: 0.002, val_err: 0.046\n"
     ]
    },
    {
     "name": "stderr",
     "output_type": "stream",
     "text": [
      "100%|████████████████████████████████████████████████████████████████████████████████████████████████████████████████████████| 33/33 [00:00<00:00, 208.77it/s]\n"
     ]
    },
    {
     "name": "stdout",
     "output_type": "stream",
     "text": [
      "Epoch 4, loss: 0.001, err: 0.024, val_loss: 0.002, val_err: 0.047\n"
     ]
    },
    {
     "name": "stderr",
     "output_type": "stream",
     "text": [
      "100%|████████████████████████████████████████████████████████████████████████████████████████████████████████████████████████| 33/33 [00:00<00:00, 208.70it/s]\n"
     ]
    },
    {
     "name": "stdout",
     "output_type": "stream",
     "text": [
      "Epoch 5, loss: 0.001, err: 0.024, val_loss: 0.002, val_err: 0.046\n"
     ]
    },
    {
     "name": "stderr",
     "output_type": "stream",
     "text": [
      "100%|████████████████████████████████████████████████████████████████████████████████████████████████████████████████████████| 33/33 [00:00<00:00, 207.82it/s]\n"
     ]
    },
    {
     "name": "stdout",
     "output_type": "stream",
     "text": [
      "Epoch 6, loss: 0.001, err: 0.024, val_loss: 0.002, val_err: 0.047\n"
     ]
    },
    {
     "name": "stderr",
     "output_type": "stream",
     "text": [
      "100%|████████████████████████████████████████████████████████████████████████████████████████████████████████████████████████| 33/33 [00:00<00:00, 207.32it/s]\n"
     ]
    },
    {
     "name": "stdout",
     "output_type": "stream",
     "text": [
      "Epoch 7, loss: 0.001, err: 0.024, val_loss: 0.002, val_err: 0.045\n"
     ]
    },
    {
     "name": "stderr",
     "output_type": "stream",
     "text": [
      "100%|████████████████████████████████████████████████████████████████████████████████████████████████████████████████████████| 33/33 [00:00<00:00, 208.63it/s]\n"
     ]
    },
    {
     "name": "stdout",
     "output_type": "stream",
     "text": [
      "Epoch 8, loss: 0.001, err: 0.024, val_loss: 0.002, val_err: 0.045\n"
     ]
    },
    {
     "name": "stderr",
     "output_type": "stream",
     "text": [
      "100%|████████████████████████████████████████████████████████████████████████████████████████████████████████████████████████| 33/33 [00:00<00:00, 203.90it/s]\n"
     ]
    },
    {
     "name": "stdout",
     "output_type": "stream",
     "text": [
      "Epoch 9, loss: 0.001, err: 0.024, val_loss: 0.002, val_err: 0.045\n"
     ]
    },
    {
     "name": "stderr",
     "output_type": "stream",
     "text": [
      "100%|████████████████████████████████████████████████████████████████████████████████████████████████████████████████████████| 33/33 [00:00<00:00, 208.33it/s]\n"
     ]
    },
    {
     "name": "stdout",
     "output_type": "stream",
     "text": [
      "Epoch 10, loss: 0.001, err: 0.024, val_loss: 0.002, val_err: 0.045\n"
     ]
    },
    {
     "name": "stderr",
     "output_type": "stream",
     "text": [
      "100%|████████████████████████████████████████████████████████████████████████████████████████████████████████████████████████| 33/33 [00:00<00:00, 207.92it/s]\n"
     ]
    },
    {
     "name": "stdout",
     "output_type": "stream",
     "text": [
      "Epoch 11, loss: 0.001, err: 0.024, val_loss: 0.002, val_err: 0.046\n"
     ]
    },
    {
     "name": "stderr",
     "output_type": "stream",
     "text": [
      "100%|████████████████████████████████████████████████████████████████████████████████████████████████████████████████████████| 33/33 [00:00<00:00, 209.74it/s]\n"
     ]
    },
    {
     "name": "stdout",
     "output_type": "stream",
     "text": [
      "Epoch 12, loss: 0.001, err: 0.024, val_loss: 0.002, val_err: 0.047\n"
     ]
    },
    {
     "name": "stderr",
     "output_type": "stream",
     "text": [
      "100%|████████████████████████████████████████████████████████████████████████████████████████████████████████████████████████| 33/33 [00:00<00:00, 207.43it/s]\n"
     ]
    },
    {
     "name": "stdout",
     "output_type": "stream",
     "text": [
      "Epoch 13, loss: 0.001, err: 0.024, val_loss: 0.002, val_err: 0.043\n"
     ]
    },
    {
     "name": "stderr",
     "output_type": "stream",
     "text": [
      "100%|████████████████████████████████████████████████████████████████████████████████████████████████████████████████████████| 33/33 [00:00<00:00, 206.55it/s]\n"
     ]
    },
    {
     "name": "stdout",
     "output_type": "stream",
     "text": [
      "Epoch 14, loss: 0.001, err: 0.024, val_loss: 0.002, val_err: 0.046\n"
     ]
    },
    {
     "name": "stderr",
     "output_type": "stream",
     "text": [
      "100%|████████████████████████████████████████████████████████████████████████████████████████████████████████████████████████| 33/33 [00:00<00:00, 205.72it/s]\n"
     ]
    },
    {
     "name": "stdout",
     "output_type": "stream",
     "text": [
      "Epoch 15, loss: 0.001, err: 0.024, val_loss: 0.002, val_err: 0.044\n"
     ]
    },
    {
     "name": "stderr",
     "output_type": "stream",
     "text": [
      "100%|████████████████████████████████████████████████████████████████████████████████████████████████████████████████████████| 33/33 [00:00<00:00, 207.97it/s]\n"
     ]
    },
    {
     "name": "stdout",
     "output_type": "stream",
     "text": [
      "Epoch 16, loss: 0.001, err: 0.024, val_loss: 0.002, val_err: 0.044\n"
     ]
    },
    {
     "name": "stderr",
     "output_type": "stream",
     "text": [
      "100%|████████████████████████████████████████████████████████████████████████████████████████████████████████████████████████| 33/33 [00:00<00:00, 205.82it/s]\n"
     ]
    },
    {
     "name": "stdout",
     "output_type": "stream",
     "text": [
      "Epoch 17, loss: 0.001, err: 0.023, val_loss: 0.002, val_err: 0.044\n"
     ]
    },
    {
     "name": "stderr",
     "output_type": "stream",
     "text": [
      "100%|████████████████████████████████████████████████████████████████████████████████████████████████████████████████████████| 33/33 [00:00<00:00, 209.12it/s]\n"
     ]
    },
    {
     "name": "stdout",
     "output_type": "stream",
     "text": [
      "Epoch 18, loss: 0.001, err: 0.024, val_loss: 0.002, val_err: 0.043\n"
     ]
    },
    {
     "name": "stderr",
     "output_type": "stream",
     "text": [
      "100%|████████████████████████████████████████████████████████████████████████████████████████████████████████████████████████| 33/33 [00:00<00:00, 206.94it/s]\n"
     ]
    },
    {
     "name": "stdout",
     "output_type": "stream",
     "text": [
      "Epoch 19, loss: 0.001, err: 0.024, val_loss: 0.002, val_err: 0.044\n"
     ]
    },
    {
     "name": "stderr",
     "output_type": "stream",
     "text": [
      "100%|████████████████████████████████████████████████████████████████████████████████████████████████████████████████████████| 33/33 [00:00<00:00, 202.10it/s]\n"
     ]
    },
    {
     "name": "stdout",
     "output_type": "stream",
     "text": [
      "Epoch 20, loss: 0.001, err: 0.023, val_loss: 0.002, val_err: 0.044\n"
     ]
    },
    {
     "name": "stderr",
     "output_type": "stream",
     "text": [
      "100%|████████████████████████████████████████████████████████████████████████████████████████████████████████████████████████| 33/33 [00:00<00:00, 204.68it/s]\n"
     ]
    },
    {
     "name": "stdout",
     "output_type": "stream",
     "text": [
      "Epoch 21, loss: 0.001, err: 0.024, val_loss: 0.002, val_err: 0.042\n"
     ]
    },
    {
     "name": "stderr",
     "output_type": "stream",
     "text": [
      "100%|████████████████████████████████████████████████████████████████████████████████████████████████████████████████████████| 33/33 [00:00<00:00, 202.61it/s]\n"
     ]
    },
    {
     "name": "stdout",
     "output_type": "stream",
     "text": [
      "Epoch 22, loss: 0.001, err: 0.024, val_loss: 0.002, val_err: 0.043\n"
     ]
    },
    {
     "name": "stderr",
     "output_type": "stream",
     "text": [
      "100%|████████████████████████████████████████████████████████████████████████████████████████████████████████████████████████| 33/33 [00:00<00:00, 204.28it/s]\n"
     ]
    },
    {
     "name": "stdout",
     "output_type": "stream",
     "text": [
      "Epoch 23, loss: 0.001, err: 0.023, val_loss: 0.002, val_err: 0.042\n"
     ]
    },
    {
     "name": "stderr",
     "output_type": "stream",
     "text": [
      "100%|████████████████████████████████████████████████████████████████████████████████████████████████████████████████████████| 33/33 [00:00<00:00, 204.19it/s]\n"
     ]
    },
    {
     "name": "stdout",
     "output_type": "stream",
     "text": [
      "Epoch 24, loss: 0.001, err: 0.023, val_loss: 0.002, val_err: 0.044\n"
     ]
    },
    {
     "name": "stderr",
     "output_type": "stream",
     "text": [
      "100%|████████████████████████████████████████████████████████████████████████████████████████████████████████████████████████| 33/33 [00:00<00:00, 200.12it/s]\n"
     ]
    },
    {
     "name": "stdout",
     "output_type": "stream",
     "text": [
      "Epoch 25, loss: 0.001, err: 0.023, val_loss: 0.002, val_err: 0.042\n"
     ]
    },
    {
     "name": "stderr",
     "output_type": "stream",
     "text": [
      "100%|████████████████████████████████████████████████████████████████████████████████████████████████████████████████████████| 33/33 [00:00<00:00, 208.32it/s]\n"
     ]
    },
    {
     "name": "stdout",
     "output_type": "stream",
     "text": [
      "Epoch 26, loss: 0.001, err: 0.024, val_loss: 0.002, val_err: 0.044\n"
     ]
    },
    {
     "name": "stderr",
     "output_type": "stream",
     "text": [
      "100%|████████████████████████████████████████████████████████████████████████████████████████████████████████████████████████| 33/33 [00:00<00:00, 208.81it/s]\n"
     ]
    },
    {
     "name": "stdout",
     "output_type": "stream",
     "text": [
      "Epoch 27, loss: 0.001, err: 0.024, val_loss: 0.002, val_err: 0.041\n"
     ]
    },
    {
     "name": "stderr",
     "output_type": "stream",
     "text": [
      "100%|████████████████████████████████████████████████████████████████████████████████████████████████████████████████████████| 33/33 [00:00<00:00, 207.69it/s]\n"
     ]
    },
    {
     "name": "stdout",
     "output_type": "stream",
     "text": [
      "Epoch 28, loss: 0.001, err: 0.023, val_loss: 0.002, val_err: 0.041\n"
     ]
    },
    {
     "name": "stderr",
     "output_type": "stream",
     "text": [
      "100%|████████████████████████████████████████████████████████████████████████████████████████████████████████████████████████| 33/33 [00:00<00:00, 206.93it/s]\n"
     ]
    },
    {
     "name": "stdout",
     "output_type": "stream",
     "text": [
      "Epoch 29, loss: 0.001, err: 0.023, val_loss: 0.002, val_err: 0.042\n"
     ]
    },
    {
     "name": "stderr",
     "output_type": "stream",
     "text": [
      "100%|████████████████████████████████████████████████████████████████████████████████████████████████████████████████████████| 33/33 [00:00<00:00, 208.72it/s]\n"
     ]
    },
    {
     "name": "stdout",
     "output_type": "stream",
     "text": [
      "Epoch 30, loss: 0.001, err: 0.023, val_loss: 0.002, val_err: 0.042\n"
     ]
    },
    {
     "name": "stderr",
     "output_type": "stream",
     "text": [
      "100%|████████████████████████████████████████████████████████████████████████████████████████████████████████████████████████| 33/33 [00:00<00:00, 208.26it/s]\n"
     ]
    },
    {
     "name": "stdout",
     "output_type": "stream",
     "text": [
      "Epoch 31, loss: 0.001, err: 0.023, val_loss: 0.002, val_err: 0.043\n"
     ]
    },
    {
     "name": "stderr",
     "output_type": "stream",
     "text": [
      "100%|████████████████████████████████████████████████████████████████████████████████████████████████████████████████████████| 33/33 [00:00<00:00, 207.03it/s]\n"
     ]
    },
    {
     "name": "stdout",
     "output_type": "stream",
     "text": [
      "Epoch 32, loss: 0.001, err: 0.023, val_loss: 0.002, val_err: 0.045\n"
     ]
    },
    {
     "name": "stderr",
     "output_type": "stream",
     "text": [
      "100%|████████████████████████████████████████████████████████████████████████████████████████████████████████████████████████| 33/33 [00:00<00:00, 208.52it/s]\n"
     ]
    },
    {
     "name": "stdout",
     "output_type": "stream",
     "text": [
      "Epoch 33, loss: 0.001, err: 0.023, val_loss: 0.002, val_err: 0.042\n"
     ]
    },
    {
     "name": "stderr",
     "output_type": "stream",
     "text": [
      "100%|████████████████████████████████████████████████████████████████████████████████████████████████████████████████████████| 33/33 [00:00<00:00, 211.41it/s]\n"
     ]
    },
    {
     "name": "stdout",
     "output_type": "stream",
     "text": [
      "Epoch 34, loss: 0.001, err: 0.023, val_loss: 0.002, val_err: 0.041\n"
     ]
    },
    {
     "name": "stderr",
     "output_type": "stream",
     "text": [
      "100%|████████████████████████████████████████████████████████████████████████████████████████████████████████████████████████| 33/33 [00:00<00:00, 210.16it/s]\n"
     ]
    },
    {
     "name": "stdout",
     "output_type": "stream",
     "text": [
      "Epoch 35, loss: 0.001, err: 0.023, val_loss: 0.002, val_err: 0.040\n"
     ]
    },
    {
     "name": "stderr",
     "output_type": "stream",
     "text": [
      "100%|████████████████████████████████████████████████████████████████████████████████████████████████████████████████████████| 33/33 [00:00<00:00, 210.51it/s]\n"
     ]
    },
    {
     "name": "stdout",
     "output_type": "stream",
     "text": [
      "Epoch 36, loss: 0.001, err: 0.023, val_loss: 0.002, val_err: 0.041\n"
     ]
    },
    {
     "name": "stderr",
     "output_type": "stream",
     "text": [
      "100%|████████████████████████████████████████████████████████████████████████████████████████████████████████████████████████| 33/33 [00:00<00:00, 209.68it/s]\n"
     ]
    },
    {
     "name": "stdout",
     "output_type": "stream",
     "text": [
      "Epoch 37, loss: 0.001, err: 0.023, val_loss: 0.002, val_err: 0.040\n"
     ]
    },
    {
     "name": "stderr",
     "output_type": "stream",
     "text": [
      "100%|████████████████████████████████████████████████████████████████████████████████████████████████████████████████████████| 33/33 [00:00<00:00, 211.25it/s]\n"
     ]
    },
    {
     "name": "stdout",
     "output_type": "stream",
     "text": [
      "Epoch 38, loss: 0.001, err: 0.023, val_loss: 0.002, val_err: 0.040\n"
     ]
    },
    {
     "name": "stderr",
     "output_type": "stream",
     "text": [
      "100%|████████████████████████████████████████████████████████████████████████████████████████████████████████████████████████| 33/33 [00:00<00:00, 211.09it/s]\n"
     ]
    },
    {
     "name": "stdout",
     "output_type": "stream",
     "text": [
      "Epoch 39, loss: 0.001, err: 0.029, val_loss: 0.001, val_err: 0.036\n"
     ]
    },
    {
     "name": "stderr",
     "output_type": "stream",
     "text": [
      "100%|████████████████████████████████████████████████████████████████████████████████████████████████████████████████████████| 10/10 [00:00<00:00, 559.82it/s]\n"
     ]
    },
    {
     "name": "stdout",
     "output_type": "stream",
     "text": [
      "STATE: [ 0.83776534  0.6862435  -0.03489348 -0.02639143] ACT: [-0.3987826  -0.30161637] \n",
      "STATE: [ 0.81411929  0.66840493 -0.06756015 -0.05096731] ACT: [-0.39950355 -0.3006608 ] \n",
      "STATE: [ 0.77979235  0.64252645 -0.09807696 -0.07393853] ACT: [-0.3994336  -0.30075372] \n",
      "STATE: [ 0.73546785  0.6091591  -0.12664143 -0.09533529] ACT: [-0.40000884 -0.29998821] \n",
      "STATE: [ 0.68182905  0.56875822 -0.15325373 -0.11543107] ACT: [-0.39912167 -0.30116755] \n",
      "STATE: [ 0.61946031  0.52182112 -0.17819638 -0.13410601] ACT: [-0.39999912 -0.30000117] \n",
      "STATE: [ 0.54793247  0.47130011 -0.20436526 -0.14434573] ACT: [-0.43272014 -0.21760491] \n",
      "STATE: [ 0.49020641  0.43435399 -0.16493161 -0.10556036] ACT: [0.29739625 0.33500205] \n",
      "COLLIDED\n",
      "STATE: [ 0.44831922  0.40927997 -0.11967769 -0.07164004] ACT: [0.39348899 0.30849054] \n",
      "COLLIDED\n",
      "STATE: [ 0.39691415  0.37668628 -0.14687162 -0.09312484] ACT: [-0.400546   -0.29927062] \n",
      "STATE: [ 0.33659556  0.33709356 -0.17233883 -0.11312204] ACT: [-0.40120761 -0.29838307] \n",
      "STATE: [ 0.26794454  0.29096631 -0.19614576 -0.13179213] ACT: [-0.40133332 -0.29821396] \n",
      "STATE: [ 0.19150544  0.23873671 -0.21839745 -0.14922745] ACT: [-0.40141437 -0.29810485] \n",
      "STATE: [ 0.10781116  0.18077588 -0.23912649 -0.16560237] ACT: [-0.4007014  -0.29906251] \n",
      "STATE: [ 0.01728167  0.1175357  -0.2586557  -0.18068623] ACT: [-0.40253584 -0.29658877] \n",
      "STATE: [-0.05507141  0.06765256 -0.20672308 -0.14252325] ACT: [0.39952394 0.3006337 ] \n",
      "final state  [-0.05507141  0.06765256]\n",
      "STATE: [ 0.71697924  0.78163575 -0.03495717 -0.02630701] ACT: [-0.39951049 -0.30065158] \n",
      "STATE: [ 0.69328707  0.76385851 -0.06769193 -0.05079213] ACT: [-0.40032946 -0.29956022] \n",
      "STATE: [ 0.65889467  0.7380671  -0.098264   -0.07368975] ACT: [-0.40016408 -0.2997811 ] \n",
      "STATE: [ 0.61447932  0.70482081 -0.12690099 -0.09498939] ACT: [-0.40097783 -0.29869178] \n",
      "STATE: [ 0.56070284  0.66460344 -0.15364709 -0.11490678] ACT: [-0.40084549 -0.29886935] \n",
      "STATE: [ 0.49811888  0.61795439 -0.1788113  -0.13328301] ACT: [-0.40282631 -0.29619413] \n",
      "STATE: [ 0.42619767  0.56703709 -0.20548916 -0.14547799] ACT: [-0.43899826 -0.23933351] \n",
      "STATE: [ 0.35338529  0.52292956 -0.20803539 -0.12602151] ACT: [-0.18321659  0.11325135] \n",
      "STATE: [ 0.27297129  0.47270492 -0.22975427 -0.14349897] ACT: [-0.4042424  -0.29425853] \n",
      "STATE: [ 0.18552341  0.41667075 -0.24985109 -0.16009763] ACT: [-0.40199361 -0.29732329] \n",
      "STATE: [ 0.09155582  0.35513764 -0.26847884 -0.1758089 ] ACT: [-0.40027683 -0.29963054] \n",
      "STATE: [-0.00847898  0.28843361 -0.2858137  -0.19058294] ACT: [-0.39947186 -0.3007029 ] \n",
      "final state  [-0.00847898  0.28843361]\n",
      "STATE: [ 0.85297499  0.7887754  -0.03499903 -0.0262513 ] ACT: [-0.3999889 -0.3000148] \n",
      "STATE: [ 0.82927955  0.77100245 -0.06770125 -0.05077985] ACT: [-0.3999889 -0.3000148] \n",
      "STATE: [ 0.79492414  0.74516185 -0.0981583  -0.07383029] ACT: [-0.3988566  -0.30151851] \n",
      "STATE: [ 0.75057914  0.71182177 -0.12670001 -0.09525737] ACT: [-0.39980968 -0.30025359] \n",
      "STATE: [ 0.69686404  0.67152259 -0.15347173 -0.1151405 ] ACT: [-0.40098745 -0.29867887] \n",
      "STATE: [ 0.63440081  0.62471154 -0.17846637 -0.13374587] ACT: [-0.4007569  -0.29898814] \n",
      "STATE: [ 0.5637562   0.5718258  -0.20184172 -0.15110212] ACT: [-0.4009966  -0.29866658] \n",
      "STATE: [ 0.48723614  0.51791151 -0.21862875 -0.1540408 ] ACT: [-0.34323304 -0.14691151] \n",
      "STATE: [ 0.42576889  0.47910463 -0.17562072 -0.11087682] ACT: [0.32754882 0.37777212] \n",
      "STATE: [ 0.38037646  0.45230416 -0.12969265 -0.07657277] ACT: [0.3931766 0.3088886] \n",
      "STATE: [ 0.32563508  0.41817967 -0.15640394 -0.09749855] ACT: [-0.40254135 -0.29658129] \n",
      "STATE: [ 0.26218473  0.377176   -0.18128672 -0.11715334] ACT: [-0.40167757 -0.29775011] \n",
      "STATE: [ 0.19061178  0.3297246  -0.20449415 -0.13557541] ACT: [-0.40119283 -0.29840294] \n",
      "STATE: [ 0.11146271  0.27623058 -0.22614021 -0.15284006] ACT: [-0.40075411 -0.29899188] \n",
      "STATE: [ 0.02523615  0.21708853 -0.24636158 -0.1689773 ] ACT: [-0.40070657 -0.29905559] \n",
      "STATE: [-0.06697559  0.15609635 -0.26346213 -0.17426337] ACT: [-0.38020603 -0.18714521] \n",
      "final state  [-0.06697559  0.15609635]\n",
      "STATE: [ 0.73116941  0.71765911 -0.0350864  -0.0261344 ] ACT: [-0.40098745 -0.29867887] \n",
      "STATE: [ 0.70741482  0.6999653  -0.06787026 -0.05055373] ACT: [-0.40098745 -0.29867887] \n",
      "STATE: [ 0.67295757  0.67426058 -0.09844929 -0.07344206] ACT: [-0.40037734 -0.29949622] \n",
      "STATE: [ 0.62848839  0.64108622 -0.12705478 -0.09478389] ACT: [-0.4007569  -0.29898814] \n",
      "STATE: [ 0.57465699  0.60094226 -0.15380402 -0.11469702] ACT: [-0.4009966  -0.29866658] \n",
      "STATE: [ 0.51134396  0.55536427 -0.18089436 -0.13022284] ACT: [-0.42495699 -0.26346073] \n",
      "STATE: [ 0.44870671  0.52329049 -0.17896358 -0.09163936] ACT: [-0.11360462  0.34328698] \n",
      "STATE: [ 0.40261527  0.50193561 -0.13168983 -0.06101395] ACT: [0.40604865 0.28127512] \n",
      "STATE: [ 0.35090747  0.46934078 -0.14773656 -0.09312808] ACT: [-0.28215851 -0.41277909] \n",
      "STATE: [ 0.29027942  0.42978288 -0.173223   -0.11302258] ACT: [-0.40207608 -0.29721175] \n",
      "STATE: [ 0.22133437  0.38369473 -0.19698585 -0.13168042] ACT: [-0.40149266 -0.29799941] \n",
      "STATE: [ 0.14462906  0.33149018 -0.21915804 -0.14915586] ACT: [-0.40113583 -0.29847956] \n",
      "STATE: [ 0.06068724  0.27355116 -0.23983376 -0.16554004] ACT: [-0.40066244 -0.29911471] \n",
      "STATE: [-0.02997439  0.2101983  -0.25903323 -0.1810082 ] ACT: [-0.39929781 -0.30093398] \n",
      "final state  [-0.02997439  0.2101983 ]\n",
      "STATE: [ 0.82042809  0.66920802 -0.03495656 -0.02630782] ACT: [-0.39950355 -0.3006608 ] \n",
      "STATE: [ 0.79677713  0.65137595 -0.06757417 -0.05094877] ACT: [-0.39899015 -0.30134176] \n",
      "STATE: [ 0.76244561  0.62550352 -0.09809006 -0.07392121] ACT: [-0.3994336  -0.30075372] \n",
      "STATE: [ 0.71811682  0.59214184 -0.12665367 -0.0953191 ] ACT: [-0.40000884 -0.29998821] \n",
      "STATE: [ 0.66444212  0.55178867 -0.15335628 -0.11529477] ACT: [-0.40016286 -0.29978272] \n",
      "STATE: [ 0.60190679  0.50507628 -0.17867237 -0.13346395] ACT: [-0.40434405 -0.29411884] \n",
      "STATE: [ 0.5355779   0.4600916  -0.18951113 -0.12852766] ACT: [-0.25787579 -0.04368323] \n",
      "STATE: [ 0.48270959  0.42831848 -0.15105229 -0.09078035] ACT: [0.29739625 0.33500205] \n",
      "COLLIDED\n",
      "STATE: [ 0.44536138  0.40807799 -0.1067092  -0.05782997] ACT: [0.39348899 0.30849054] \n",
      "COLLIDED\n",
      "STATE: [ 0.39819741  0.38000062 -0.13475418 -0.08022106] ACT: [-0.400546   -0.29927062] \n",
      "STATE: [ 0.3418416   0.34462784 -0.1610166  -0.10106507] ACT: [-0.40120761 -0.29838307] \n",
      "STATE: [ 0.27689331  0.3024436  -0.18556656 -0.1205264 ] ACT: [-0.40133332 -0.29821396] \n",
      "STATE: [ 0.20391854  0.25389203 -0.20849932 -0.13871877] ACT: [-0.4012637  -0.29830762] \n",
      "STATE: [ 0.1234454   0.19938917 -0.22992325 -0.15572248] ACT: [-0.40121938 -0.29836725] \n",
      "STATE: [ 0.03600146  0.13927803 -0.24983985 -0.17174611] ACT: [-0.40006075 -0.29991898] \n",
      "STATE: [-0.03338624  0.09220816 -0.19825057 -0.13448533] ACT: [0.40221196 0.29702784] \n",
      "final state  [-0.03338624  0.09220816]\n",
      "STATE: [ 0.86553009  0.8565458  -0.03487491 -0.02641596] ACT: [-0.39857041 -0.30189671] \n",
      "STATE: [ 0.84192341  0.83865514 -0.06744767 -0.05111617] ACT: [-0.39841629 -0.30210008] \n",
      "STATE: [ 0.80760459  0.81276617 -0.09805377 -0.07396848] ACT: [-0.40036978 -0.29950633] \n",
      "STATE: [ 0.76333269  0.77932929 -0.12649112 -0.09553393] ACT: [-0.39853859 -0.30193872] \n",
      "STATE: [ 0.70972861  0.73888261 -0.15315452 -0.11556195] ACT: [-0.39959285 -0.30054209] \n",
      "STATE: [ 0.6473752   0.69192558 -0.1781526  -0.13416295] ACT: [-0.40055823 -0.29925425] \n",
      "STATE: [ 0.57684459  0.63888819 -0.20151605 -0.15153538] ACT: [-0.40062538 -0.29916435] \n",
      "STATE: [ 0.49851804  0.58038128 -0.22379014 -0.1671626 ] ACT: [-0.40569807 -0.29224831] \n",
      "STATE: [ 0.42056193  0.52980281 -0.22273172 -0.14450992] ACT: [-0.1557464   0.13351584] \n",
      "STATE: [ 0.34721914  0.49326151 -0.20955084 -0.10440371] ACT: [-0.01641012  0.34997418] \n",
      "STATE: [ 0.26635363  0.45004631 -0.23104431 -0.123472  ] ACT: [-0.40280281 -0.29622609] \n",
      "STATE: [ 0.17850662  0.4005309  -0.25099146 -0.14147261] ACT: [-0.40125066 -0.29832518] \n",
      "STATE: [ 0.084144    0.34511833 -0.26960747 -0.15832163] ACT: [-0.40099801 -0.29866469] \n",
      "STATE: [-0.01625989  0.28413318 -0.28686827 -0.17424327] ACT: [-0.39947186 -0.3007029 ] \n",
      "final state  [-0.01625989  0.28413318]\n",
      "STATE: [ 0.71678666  0.70823227 -0.0350864  -0.0261344 ] ACT: [-0.40098745 -0.29867887] \n",
      "STATE: [ 0.69307352  0.69048308 -0.06775183 -0.05071197] ACT: [-0.39963402 -0.30048735] \n",
      "STATE: [ 0.65864338  0.66474217 -0.09837185 -0.07354546] ACT: [-0.4007569  -0.29898814] \n",
      "STATE: [ 0.61421654  0.63151123 -0.12693382 -0.09494553] ACT: [-0.40020139 -0.2997313 ] \n",
      "STATE: [ 0.56037606  0.59138008 -0.15382995 -0.11466043] ACT: [-0.40258478 -0.29652233] \n",
      "STATE: [ 0.49705455  0.54581405 -0.1809186  -0.13018866] ACT: [-0.42495699 -0.26346073] \n",
      "STATE: [ 0.43506253  0.5177655  -0.17712006 -0.08013871] ACT: [-0.09227704  0.47435792] \n",
      "STATE: [ 0.39121773  0.49757882 -0.12527086 -0.05767623] ACT: [0.45972221 0.19660999] \n",
      "STATE: [ 0.33780357  0.46979764 -0.15261188 -0.0793748 ] ACT: [-0.40642192 -0.29124083] \n",
      "STATE: [ 0.27558114  0.43473749 -0.17777838 -0.10017186] ACT: [-0.40207608 -0.29721175] \n",
      "STATE: [ 0.20514634  0.39285193 -0.20124228 -0.11967303] ACT: [-0.40149266 -0.29799941] \n",
      "STATE: [ 0.12705727  0.34456312 -0.22311162 -0.13796803] ACT: [-0.40086703 -0.29884046] \n",
      "STATE: [ 0.0418444   0.29025363 -0.24346535 -0.15516997] ACT: [-0.39994778 -0.30006961] \n",
      "STATE: [-0.04999015  0.23027259 -0.26238442 -0.1713744 ] ACT: [-0.39881692 -0.30157099] \n",
      "final state  [-0.04999015  0.23027259]\n",
      "STATE: [ 0.69406147  0.81997404 -0.03507506 -0.02614963] ACT: [-0.40085778 -0.29885287] \n",
      "STATE: [ 0.67032167  0.80226041 -0.06782802 -0.05061037] ACT: [-0.40062592 -0.29916362] \n",
      "STATE: [ 0.635872    0.7765455  -0.09842763 -0.07347117] ACT: [-0.40058077 -0.29922407] \n",
      "STATE: [ 0.59141104  0.74336009 -0.1270313  -0.09481544] ACT: [-0.40071984 -0.29903781] \n",
      "STATE: [ 0.53758123  0.703214   -0.15379946 -0.11470313] ACT: [-0.40119535 -0.29839955] \n",
      "STATE: [ 0.47497925  0.65658844 -0.17886279 -0.13321588] ACT: [-0.40178761 -0.2976016 ] \n",
      "STATE: [ 0.40390416  0.60429446 -0.20307169 -0.14941136] ACT: [-0.41082024 -0.28500304] \n",
      "STATE: [ 0.32399862  0.54819597 -0.22830156 -0.16028141] ACT: [-0.44064511 -0.23628773] \n",
      "STATE: [ 0.23695765  0.48676631 -0.24868849 -0.1755133 ] ACT: [-0.40421967 -0.29428975] \n",
      "STATE: [ 0.14333419  0.42024018 -0.26749558 -0.19007468] ACT: [-0.40145456 -0.29805073] \n",
      "STATE: [ 0.04360631  0.34889027 -0.2849368  -0.20385687] ACT: [-0.39994989 -0.30006681] \n",
      "STATE: [-0.06180866  0.27301091 -0.30118565 -0.21679818] ACT: [-0.39940377 -0.30079334] \n",
      "final state  [-0.06180866  0.27301091]\n",
      "STATE: [ 0.75249559  0.79424455 -0.03497734 -0.02628019] ACT: [-0.39974103 -0.30034498] \n",
      "STATE: [ 0.7288219   0.77644266 -0.06763912 -0.05086256] ACT: [-0.39951049 -0.30065158] \n",
      "STATE: [ 0.69444046  0.75063664 -0.09823269 -0.07373147] ACT: [-0.40037015 -0.29950583] \n",
      "STATE: [ 0.65004085  0.71736934 -0.12685603 -0.09504943] ACT: [-0.40079843 -0.29893246] \n",
      "STATE: [ 0.59628143  0.67712916 -0.15359832 -0.11497195] ACT: [-0.40076815 -0.29897306] \n",
      "STATE: [ 0.53376442  0.63038984 -0.17862003 -0.1335409 ] ACT: [-0.40116117 -0.2984455 ] \n",
      "STATE: [ 0.46259257  0.57824914 -0.20334817 -0.14897345] ACT: [-0.41657227 -0.27652765] \n",
      "STATE: [ 0.39107646  0.53379008 -0.20433172 -0.12702589] ACT: [-0.1637518  0.1390992] \n",
      "STATE: [ 0.31338638  0.49391123 -0.22197166 -0.11393957] ACT: [-0.35484811  0.05428846] \n",
      "STATE: [ 0.22847781  0.4475518  -0.2425959  -0.1324555 ] ACT: [-0.40218431 -0.29706528] \n",
      "STATE: [ 0.13686561  0.39508166 -0.26174915 -0.14991468] ACT: [-0.40084117 -0.29887516] \n",
      "STATE: [ 0.03900985  0.33687486 -0.27958788 -0.16630516] ACT: [-0.40018309 -0.29975573] \n",
      "STATE: [-0.06465806  0.273279   -0.29619405 -0.18170243] ACT: [-0.39947575 -0.30069773] \n",
      "final state  [-0.06465806  0.273279  ]\n",
      "STATE: [ 0.70446005  0.73415124 -0.03504885 -0.02618475] ACT: [-0.40055823 -0.29925425] \n",
      "STATE: [ 0.68073089  0.71642335 -0.06779761 -0.05065112] ACT: [-0.40055823 -0.29925425] \n",
      "STATE: [ 0.64627786  0.69071295 -0.09843723 -0.07345827] ACT: [-0.40101525 -0.29864154] \n",
      "STATE: [ 0.60181666  0.65752789 -0.127032   -0.09481446] ACT: [-0.40062538 -0.29916435] \n",
      "STATE: [ 0.54798539  0.61738377 -0.15380364 -0.11469748] ACT: [-0.4012356  -0.29834542] \n",
      "STATE: [ 0.48492926  0.57140545 -0.18016035 -0.13136663] ACT: [-0.41657227 -0.27652765] \n",
      "STATE: [ 0.42124146  0.53253338 -0.18196514 -0.11106306] ACT: [-0.1557464   0.13351584] \n",
      "STATE: [ 0.36123062  0.50693025 -0.17145956 -0.0731518 ] ACT: [-0.01641012  0.34997418] \n",
      "STATE: [ 0.29273934  0.47404908 -0.19568935 -0.0939462 ] ACT: [-0.40550651 -0.29251405] \n",
      "STATE: [ 0.21643176  0.43422022 -0.21802168 -0.11379676] ACT: [-0.40199361 -0.29732329] \n",
      "STATE: [ 0.13284729  0.38786389 -0.23881276 -0.13244666] ACT: [-0.4011286  -0.29848927] \n",
      "STATE: [ 0.04249245  0.33536967 -0.25815669 -0.14998348] ACT: [-0.40018309 -0.29975573] \n",
      "STATE: [-0.0541668   0.27711152 -0.27616928 -0.16645186] ACT: [-0.39947575 -0.30069773] \n",
      "final state  [-0.0541668   0.27711152]\n",
      "After 3 REWARD:  (0.8732059250841291, array([-0.04407702,  0.21523962, -0.26360844, -0.17334332]), -0.21634353124170744)\n",
      "UPDATING THE ACTION MATRIX\n"
     ]
    },
    {
     "name": "stderr",
     "output_type": "stream",
     "text": [
      "100%|█████████████████████████████████████████████████████████████████████████████████████████████████████████████████████████| 25/25 [00:03<00:00,  6.98it/s]\n",
      "Generating Dynamics Dataset: 100%|██████████████████████████████████████████████████████████████████████████████████████████| 15/15 [00:00<00:00, 2193.29it/s]\n"
     ]
    },
    {
     "name": "stdout",
     "output_type": "stream",
     "text": [
      "COLLIDED\n",
      "COLLIDED\n",
      "COLLIDED\n",
      "COLLIDED\n",
      "COLLIDED\n",
      "COLLIDED\n",
      "COLLIDED\n",
      "COLLIDED\n"
     ]
    },
    {
     "name": "stderr",
     "output_type": "stream",
     "text": [
      "100%|████████████████████████████████████████████████████████████████████████████████████████████████████████████████████████| 36/36 [00:00<00:00, 207.69it/s]\n"
     ]
    },
    {
     "name": "stdout",
     "output_type": "stream",
     "text": [
      "Epoch 1, loss: 0.001, err: 0.023, val_loss: 0.002, val_err: 0.043\n"
     ]
    },
    {
     "name": "stderr",
     "output_type": "stream",
     "text": [
      "100%|████████████████████████████████████████████████████████████████████████████████████████████████████████████████████████| 36/36 [00:00<00:00, 209.73it/s]\n"
     ]
    },
    {
     "name": "stdout",
     "output_type": "stream",
     "text": [
      "Epoch 2, loss: 0.001, err: 0.023, val_loss: 0.002, val_err: 0.041\n"
     ]
    },
    {
     "name": "stderr",
     "output_type": "stream",
     "text": [
      "100%|████████████████████████████████████████████████████████████████████████████████████████████████████████████████████████| 36/36 [00:00<00:00, 208.75it/s]\n"
     ]
    },
    {
     "name": "stdout",
     "output_type": "stream",
     "text": [
      "Epoch 3, loss: 0.001, err: 0.023, val_loss: 0.002, val_err: 0.041\n"
     ]
    },
    {
     "name": "stderr",
     "output_type": "stream",
     "text": [
      "100%|████████████████████████████████████████████████████████████████████████████████████████████████████████████████████████| 36/36 [00:00<00:00, 210.24it/s]\n"
     ]
    },
    {
     "name": "stdout",
     "output_type": "stream",
     "text": [
      "Epoch 4, loss: 0.001, err: 0.023, val_loss: 0.002, val_err: 0.042\n"
     ]
    },
    {
     "name": "stderr",
     "output_type": "stream",
     "text": [
      "100%|████████████████████████████████████████████████████████████████████████████████████████████████████████████████████████| 36/36 [00:00<00:00, 210.19it/s]\n"
     ]
    },
    {
     "name": "stdout",
     "output_type": "stream",
     "text": [
      "Epoch 5, loss: 0.001, err: 0.023, val_loss: 0.002, val_err: 0.042\n"
     ]
    },
    {
     "name": "stderr",
     "output_type": "stream",
     "text": [
      "100%|████████████████████████████████████████████████████████████████████████████████████████████████████████████████████████| 36/36 [00:00<00:00, 209.52it/s]\n"
     ]
    },
    {
     "name": "stdout",
     "output_type": "stream",
     "text": [
      "Epoch 6, loss: 0.001, err: 0.023, val_loss: 0.002, val_err: 0.042\n"
     ]
    },
    {
     "name": "stderr",
     "output_type": "stream",
     "text": [
      "100%|████████████████████████████████████████████████████████████████████████████████████████████████████████████████████████| 36/36 [00:00<00:00, 202.04it/s]\n"
     ]
    },
    {
     "name": "stdout",
     "output_type": "stream",
     "text": [
      "Epoch 7, loss: 0.001, err: 0.023, val_loss: 0.002, val_err: 0.041\n"
     ]
    },
    {
     "name": "stderr",
     "output_type": "stream",
     "text": [
      "100%|████████████████████████████████████████████████████████████████████████████████████████████████████████████████████████| 36/36 [00:00<00:00, 202.79it/s]\n"
     ]
    },
    {
     "name": "stdout",
     "output_type": "stream",
     "text": [
      "Epoch 8, loss: 0.001, err: 0.022, val_loss: 0.002, val_err: 0.042\n"
     ]
    },
    {
     "name": "stderr",
     "output_type": "stream",
     "text": [
      "100%|████████████████████████████████████████████████████████████████████████████████████████████████████████████████████████| 36/36 [00:00<00:00, 208.95it/s]\n"
     ]
    },
    {
     "name": "stdout",
     "output_type": "stream",
     "text": [
      "Epoch 9, loss: 0.001, err: 0.023, val_loss: 0.002, val_err: 0.041\n"
     ]
    },
    {
     "name": "stderr",
     "output_type": "stream",
     "text": [
      "100%|████████████████████████████████████████████████████████████████████████████████████████████████████████████████████████| 36/36 [00:00<00:00, 206.83it/s]\n"
     ]
    },
    {
     "name": "stdout",
     "output_type": "stream",
     "text": [
      "Epoch 10, loss: 0.001, err: 0.023, val_loss: 0.002, val_err: 0.041\n"
     ]
    },
    {
     "name": "stderr",
     "output_type": "stream",
     "text": [
      "100%|████████████████████████████████████████████████████████████████████████████████████████████████████████████████████████| 36/36 [00:00<00:00, 200.83it/s]\n"
     ]
    },
    {
     "name": "stdout",
     "output_type": "stream",
     "text": [
      "Epoch 11, loss: 0.001, err: 0.022, val_loss: 0.002, val_err: 0.042\n"
     ]
    },
    {
     "name": "stderr",
     "output_type": "stream",
     "text": [
      "100%|████████████████████████████████████████████████████████████████████████████████████████████████████████████████████████| 36/36 [00:00<00:00, 199.17it/s]\n"
     ]
    },
    {
     "name": "stdout",
     "output_type": "stream",
     "text": [
      "Epoch 12, loss: 0.001, err: 0.023, val_loss: 0.002, val_err: 0.041\n"
     ]
    },
    {
     "name": "stderr",
     "output_type": "stream",
     "text": [
      "100%|████████████████████████████████████████████████████████████████████████████████████████████████████████████████████████| 36/36 [00:00<00:00, 206.97it/s]\n"
     ]
    },
    {
     "name": "stdout",
     "output_type": "stream",
     "text": [
      "Epoch 13, loss: 0.001, err: 0.023, val_loss: 0.002, val_err: 0.041\n"
     ]
    },
    {
     "name": "stderr",
     "output_type": "stream",
     "text": [
      "100%|████████████████████████████████████████████████████████████████████████████████████████████████████████████████████████| 36/36 [00:00<00:00, 209.63it/s]\n"
     ]
    },
    {
     "name": "stdout",
     "output_type": "stream",
     "text": [
      "Epoch 14, loss: 0.001, err: 0.023, val_loss: 0.002, val_err: 0.042\n"
     ]
    },
    {
     "name": "stderr",
     "output_type": "stream",
     "text": [
      "100%|████████████████████████████████████████████████████████████████████████████████████████████████████████████████████████| 36/36 [00:00<00:00, 208.40it/s]\n"
     ]
    },
    {
     "name": "stdout",
     "output_type": "stream",
     "text": [
      "Epoch 15, loss: 0.001, err: 0.023, val_loss: 0.002, val_err: 0.044\n"
     ]
    },
    {
     "name": "stderr",
     "output_type": "stream",
     "text": [
      "100%|████████████████████████████████████████████████████████████████████████████████████████████████████████████████████████| 36/36 [00:00<00:00, 208.36it/s]\n"
     ]
    },
    {
     "name": "stdout",
     "output_type": "stream",
     "text": [
      "Epoch 16, loss: 0.001, err: 0.023, val_loss: 0.002, val_err: 0.039\n"
     ]
    },
    {
     "name": "stderr",
     "output_type": "stream",
     "text": [
      "100%|████████████████████████████████████████████████████████████████████████████████████████████████████████████████████████| 36/36 [00:00<00:00, 208.50it/s]\n"
     ]
    },
    {
     "name": "stdout",
     "output_type": "stream",
     "text": [
      "Epoch 17, loss: 0.001, err: 0.022, val_loss: 0.002, val_err: 0.042\n"
     ]
    },
    {
     "name": "stderr",
     "output_type": "stream",
     "text": [
      "100%|████████████████████████████████████████████████████████████████████████████████████████████████████████████████████████| 36/36 [00:00<00:00, 209.32it/s]\n"
     ]
    },
    {
     "name": "stdout",
     "output_type": "stream",
     "text": [
      "Epoch 18, loss: 0.001, err: 0.023, val_loss: 0.002, val_err: 0.039\n"
     ]
    },
    {
     "name": "stderr",
     "output_type": "stream",
     "text": [
      "100%|████████████████████████████████████████████████████████████████████████████████████████████████████████████████████████| 36/36 [00:00<00:00, 208.28it/s]\n"
     ]
    },
    {
     "name": "stdout",
     "output_type": "stream",
     "text": [
      "Epoch 19, loss: 0.001, err: 0.022, val_loss: 0.002, val_err: 0.041\n"
     ]
    },
    {
     "name": "stderr",
     "output_type": "stream",
     "text": [
      "100%|████████████████████████████████████████████████████████████████████████████████████████████████████████████████████████| 36/36 [00:00<00:00, 209.79it/s]\n"
     ]
    },
    {
     "name": "stdout",
     "output_type": "stream",
     "text": [
      "Epoch 20, loss: 0.001, err: 0.023, val_loss: 0.002, val_err: 0.040\n"
     ]
    },
    {
     "name": "stderr",
     "output_type": "stream",
     "text": [
      "100%|████████████████████████████████████████████████████████████████████████████████████████████████████████████████████████| 36/36 [00:00<00:00, 203.85it/s]\n"
     ]
    },
    {
     "name": "stdout",
     "output_type": "stream",
     "text": [
      "Epoch 21, loss: 0.001, err: 0.022, val_loss: 0.002, val_err: 0.039\n"
     ]
    },
    {
     "name": "stderr",
     "output_type": "stream",
     "text": [
      "100%|████████████████████████████████████████████████████████████████████████████████████████████████████████████████████████| 36/36 [00:00<00:00, 204.70it/s]\n"
     ]
    },
    {
     "name": "stdout",
     "output_type": "stream",
     "text": [
      "Epoch 22, loss: 0.001, err: 0.022, val_loss: 0.002, val_err: 0.041\n"
     ]
    },
    {
     "name": "stderr",
     "output_type": "stream",
     "text": [
      "100%|████████████████████████████████████████████████████████████████████████████████████████████████████████████████████████| 36/36 [00:00<00:00, 205.97it/s]\n"
     ]
    },
    {
     "name": "stdout",
     "output_type": "stream",
     "text": [
      "Epoch 23, loss: 0.001, err: 0.023, val_loss: 0.001, val_err: 0.037\n"
     ]
    },
    {
     "name": "stderr",
     "output_type": "stream",
     "text": [
      "100%|████████████████████████████████████████████████████████████████████████████████████████████████████████████████████████| 36/36 [00:00<00:00, 207.47it/s]\n"
     ]
    },
    {
     "name": "stdout",
     "output_type": "stream",
     "text": [
      "Epoch 24, loss: 0.001, err: 0.022, val_loss: 0.002, val_err: 0.040\n"
     ]
    },
    {
     "name": "stderr",
     "output_type": "stream",
     "text": [
      "100%|████████████████████████████████████████████████████████████████████████████████████████████████████████████████████████| 36/36 [00:00<00:00, 199.12it/s]\n"
     ]
    },
    {
     "name": "stdout",
     "output_type": "stream",
     "text": [
      "Epoch 25, loss: 0.001, err: 0.022, val_loss: 0.002, val_err: 0.040\n"
     ]
    },
    {
     "name": "stderr",
     "output_type": "stream",
     "text": [
      "100%|████████████████████████████████████████████████████████████████████████████████████████████████████████████████████████| 36/36 [00:00<00:00, 206.19it/s]\n"
     ]
    },
    {
     "name": "stdout",
     "output_type": "stream",
     "text": [
      "Epoch 26, loss: 0.001, err: 0.022, val_loss: 0.002, val_err: 0.040\n"
     ]
    },
    {
     "name": "stderr",
     "output_type": "stream",
     "text": [
      "100%|████████████████████████████████████████████████████████████████████████████████████████████████████████████████████████| 36/36 [00:00<00:00, 208.07it/s]\n"
     ]
    },
    {
     "name": "stdout",
     "output_type": "stream",
     "text": [
      "Epoch 27, loss: 0.001, err: 0.022, val_loss: 0.002, val_err: 0.041\n"
     ]
    },
    {
     "name": "stderr",
     "output_type": "stream",
     "text": [
      "100%|████████████████████████████████████████████████████████████████████████████████████████████████████████████████████████| 36/36 [00:00<00:00, 206.71it/s]\n"
     ]
    },
    {
     "name": "stdout",
     "output_type": "stream",
     "text": [
      "Epoch 28, loss: 0.001, err: 0.022, val_loss: 0.002, val_err: 0.040\n"
     ]
    },
    {
     "name": "stderr",
     "output_type": "stream",
     "text": [
      "100%|████████████████████████████████████████████████████████████████████████████████████████████████████████████████████████| 36/36 [00:00<00:00, 207.29it/s]\n"
     ]
    },
    {
     "name": "stdout",
     "output_type": "stream",
     "text": [
      "Epoch 29, loss: 0.001, err: 0.022, val_loss: 0.002, val_err: 0.040\n"
     ]
    },
    {
     "name": "stderr",
     "output_type": "stream",
     "text": [
      "100%|████████████████████████████████████████████████████████████████████████████████████████████████████████████████████████| 36/36 [00:00<00:00, 208.57it/s]\n"
     ]
    },
    {
     "name": "stdout",
     "output_type": "stream",
     "text": [
      "Epoch 30, loss: 0.001, err: 0.022, val_loss: 0.002, val_err: 0.041\n"
     ]
    },
    {
     "name": "stderr",
     "output_type": "stream",
     "text": [
      "100%|████████████████████████████████████████████████████████████████████████████████████████████████████████████████████████| 36/36 [00:00<00:00, 210.19it/s]\n"
     ]
    },
    {
     "name": "stdout",
     "output_type": "stream",
     "text": [
      "Epoch 31, loss: 0.001, err: 0.022, val_loss: 0.002, val_err: 0.040\n"
     ]
    },
    {
     "name": "stderr",
     "output_type": "stream",
     "text": [
      "100%|████████████████████████████████████████████████████████████████████████████████████████████████████████████████████████| 36/36 [00:00<00:00, 209.10it/s]\n"
     ]
    },
    {
     "name": "stdout",
     "output_type": "stream",
     "text": [
      "Epoch 32, loss: 0.001, err: 0.022, val_loss: 0.002, val_err: 0.039\n"
     ]
    },
    {
     "name": "stderr",
     "output_type": "stream",
     "text": [
      "100%|████████████████████████████████████████████████████████████████████████████████████████████████████████████████████████| 36/36 [00:00<00:00, 207.72it/s]\n"
     ]
    },
    {
     "name": "stdout",
     "output_type": "stream",
     "text": [
      "Epoch 33, loss: 0.001, err: 0.022, val_loss: 0.001, val_err: 0.037\n"
     ]
    },
    {
     "name": "stderr",
     "output_type": "stream",
     "text": [
      "100%|████████████████████████████████████████████████████████████████████████████████████████████████████████████████████████| 36/36 [00:00<00:00, 209.51it/s]\n"
     ]
    },
    {
     "name": "stdout",
     "output_type": "stream",
     "text": [
      "Epoch 34, loss: 0.001, err: 0.022, val_loss: 0.001, val_err: 0.038\n"
     ]
    },
    {
     "name": "stderr",
     "output_type": "stream",
     "text": [
      "100%|████████████████████████████████████████████████████████████████████████████████████████████████████████████████████████| 36/36 [00:00<00:00, 206.59it/s]\n"
     ]
    },
    {
     "name": "stdout",
     "output_type": "stream",
     "text": [
      "Epoch 35, loss: 0.001, err: 0.022, val_loss: 0.002, val_err: 0.040\n"
     ]
    },
    {
     "name": "stderr",
     "output_type": "stream",
     "text": [
      "100%|████████████████████████████████████████████████████████████████████████████████████████████████████████████████████████| 36/36 [00:00<00:00, 206.32it/s]\n"
     ]
    },
    {
     "name": "stdout",
     "output_type": "stream",
     "text": [
      "Epoch 36, loss: 0.001, err: 0.022, val_loss: 0.002, val_err: 0.040\n"
     ]
    },
    {
     "name": "stderr",
     "output_type": "stream",
     "text": [
      "100%|████████████████████████████████████████████████████████████████████████████████████████████████████████████████████████| 36/36 [00:00<00:00, 206.47it/s]\n"
     ]
    },
    {
     "name": "stdout",
     "output_type": "stream",
     "text": [
      "Epoch 37, loss: 0.001, err: 0.022, val_loss: 0.001, val_err: 0.038\n"
     ]
    },
    {
     "name": "stderr",
     "output_type": "stream",
     "text": [
      "100%|████████████████████████████████████████████████████████████████████████████████████████████████████████████████████████| 36/36 [00:00<00:00, 206.58it/s]\n"
     ]
    },
    {
     "name": "stdout",
     "output_type": "stream",
     "text": [
      "Epoch 38, loss: 0.001, err: 0.022, val_loss: 0.002, val_err: 0.039\n"
     ]
    },
    {
     "name": "stderr",
     "output_type": "stream",
     "text": [
      "100%|████████████████████████████████████████████████████████████████████████████████████████████████████████████████████████| 36/36 [00:00<00:00, 206.55it/s]\n"
     ]
    },
    {
     "name": "stdout",
     "output_type": "stream",
     "text": [
      "Epoch 39, loss: 0.001, err: 0.027, val_loss: 0.001, val_err: 0.035\n"
     ]
    },
    {
     "name": "stderr",
     "output_type": "stream",
     "text": [
      "100%|████████████████████████████████████████████████████████████████████████████████████████████████████████████████████████| 10/10 [00:00<00:00, 593.66it/s]"
     ]
    },
    {
     "name": "stdout",
     "output_type": "stream",
     "text": [
      "STATE: [ 0.83591244  0.88853347 -0.03388483 -0.02767455] ACT: [-0.38725519 -0.3162806 ] \n",
      "STATE: [ 0.81292963  0.86984824 -0.06566517 -0.05338636] ACT: [-0.38861753 -0.31460517] \n",
      "STATE: [ 0.77959405  0.84270477 -0.09524451 -0.0775528 ] ACT: [-0.38729849 -0.31622758] \n",
      "STATE: [ 0.73655575  0.80769418 -0.12296659 -0.10003025] ACT: [-0.38825713 -0.31504984] \n",
      "STATE: [ 0.68445684  0.76532612 -0.14885402 -0.12105158] ACT: [-0.38808126 -0.31526645] \n",
      "STATE: [ 0.62389328  0.71608178 -0.17303873 -0.14069813] ACT: [-0.38803718 -0.3153207 ] \n",
      "STATE: [ 0.55541686  0.66041696 -0.19564692 -0.15904232] ACT: [-0.38815844 -0.31517142] \n",
      "STATE: [ 0.47940916  0.59892512 -0.21716485 -0.17569098] ACT: [-0.39265439 -0.30955214] \n",
      "STATE: [ 0.3993486   0.54066804 -0.22874447 -0.16644881] ACT: [-0.29521212 -0.0261435 ] \n",
      "STATE: [ 0.31242122  0.49537622 -0.24836394 -0.12940519] ACT: [-0.39578082  0.29851907] \n",
      "STATE: [ 0.21913239  0.44362892 -0.26653953 -0.14784944] ACT: [-0.39399401 -0.30784529] \n",
      "STATE: [ 0.12008146  0.38562148 -0.28300264 -0.16573552] ACT: [-0.3880545  -0.31529938] \n",
      "STATE: [ 0.015835    0.32153737 -0.29784703 -0.18309748] ACT: [-0.38190209 -0.32272402] \n",
      "STATE: [-0.09294713  0.25140987 -0.31080608 -0.20036429] ACT: [-0.37148879 -0.33465815] \n",
      "final state  [-0.09294713  0.25140987]\n",
      "STATE: [ 0.65521226  0.6774093  -0.03395512 -0.02758826] ACT: [-0.38805854 -0.31529441] \n",
      "STATE: [ 0.63222358  0.65873118 -0.06568194 -0.05336604] ACT: [-0.38805854 -0.31529441] \n",
      "STATE: [ 0.59884642  0.63163873 -0.09536331 -0.07740701] ACT: [-0.38847716 -0.31477849] \n",
      "STATE: [ 0.55572671  0.59672849 -0.12319916 -0.09974355] ACT: [-0.38964646 -0.31332991] \n",
      "STATE: [ 0.50306306  0.55916275 -0.15046757 -0.10733068] ACT: [-0.40403837 -0.16151772] \n",
      "STATE: [ 0.44603187  0.52542828 -0.16294626 -0.0963842 ] ACT: [-0.25546427  0.04460454] \n",
      "STATE: [ 0.40034129  0.50361115 -0.13054452 -0.06233465] ACT: [0.24809594 0.31684956] \n",
      "STATE: [ 0.34321072  0.47812633 -0.16323021 -0.07281376] ACT: [-0.47145912 -0.16651216] \n",
      "STATE: [ 0.27769628  0.44497256 -0.18718409 -0.09472506] ACT: [-0.39618132 -0.30502518] \n",
      "STATE: [ 0.20453032  0.4044212  -0.20904561 -0.11586104] ACT: [-0.39023394 -0.31259794] \n",
      "STATE: [ 0.1243237   0.35682352 -0.22916177 -0.13599338] ACT: [-0.3866832  -0.31697965] \n",
      "STATE: [ 0.03767689  0.30247548 -0.24756231 -0.15528011] ACT: [-0.38216319 -0.32241478] \n",
      "STATE: [-0.05466056  0.24144512 -0.2638213  -0.17437244] ACT: [-0.37148879 -0.33465815] \n",
      "final state  [-0.05466056  0.24144512]\n",
      "STATE: [ 0.72204872  0.76838612 -0.03397507 -0.02756369] ACT: [-0.38828654 -0.3150136 ] \n",
      "STATE: [ 0.69903167  0.74974298 -0.06576298 -0.05326611] ACT: [-0.38877168 -0.31441467] \n",
      "STATE: [ 0.66563262  0.72267753 -0.09542587 -0.07732988] ACT: [-0.38832669 -0.31496409] \n",
      "STATE: [ 0.62254696  0.68772512 -0.12310189 -0.099864  ] ACT: [-0.38786676 -0.31553031] \n",
      "STATE: [ 0.57038013  0.64544065 -0.14904806 -0.12081279] ACT: [-0.38885414 -0.31431267] \n",
      "STATE: [ 0.50968984  0.5963528  -0.17340085 -0.14025101] ACT: [-0.39010354 -0.31276066] \n",
      "STATE: [ 0.44190868  0.54737729 -0.19366046 -0.13993001] ACT: [-0.36158909 -0.10151977] \n",
      "STATE: [ 0.37117124  0.51353258 -0.20210695 -0.09669917] ACT: [-0.24177668  0.38911927] \n",
      "STATE: [ 0.29251358  0.4731534  -0.22473619 -0.1153691 ] ACT: [-0.41020004 -0.28589496] \n",
      "STATE: [ 0.20704226  0.42588163 -0.24420376 -0.13506218] ACT: [-0.39103871 -0.31159064] \n",
      "STATE: [ 0.11532056  0.37202568 -0.26206201 -0.15387414] ACT: [-0.3872471  -0.31629051] \n",
      "STATE: [ 0.01792234  0.31182061 -0.27828062 -0.17201451] ACT: [-0.38190209 -0.32272402] \n",
      "STATE: [-0.08446096  0.24531758 -0.29252373 -0.19000864] ACT: [-0.37148879 -0.33465815] \n",
      "final state  [-0.08446096  0.24531758]\n",
      "STATE: [ 0.62043448  0.75975413 -0.03395411 -0.0275895 ] ACT: [-0.38804702 -0.3153086 ] \n",
      "STATE: [ 0.59744648  0.74107517 -0.06567999 -0.05336844] ACT: [-0.38804702 -0.3153086 ] \n",
      "STATE: [ 0.56408532  0.71396301 -0.09531761 -0.07746332] ACT: [-0.38797567 -0.31539638] \n",
      "STATE: [ 0.52100712  0.67900142 -0.12308058 -0.09989025] ACT: [-0.38877927 -0.31440528] \n",
      "STATE: [ 0.46876221  0.63681455 -0.14927117 -0.12053392] ACT: [-0.39163148 -0.31084528] \n",
      "STATE: [ 0.40675121  0.59256884 -0.17717427 -0.12641631] ACT: [-0.43084595 -0.15762774] \n",
      "STATE: [ 0.33427029  0.5466584  -0.20708834 -0.13117269] ACT: [-0.47475577 -0.14917095] \n",
      "STATE: [ 0.25415924  0.49475848 -0.22888873 -0.14828549] ACT: [-0.40446362 -0.29395438] \n",
      "STATE: [ 0.16736925  0.43667286 -0.2479714  -0.1659589 ] ACT: [-0.3897542  -0.31319589] \n",
      "STATE: [ 0.07445334  0.37266645 -0.26547401 -0.18287545] ACT: [-0.3860083  -0.31780118] \n",
      "STATE: [-0.02401122  0.30291878 -0.28132732 -0.19927907] ACT: [-0.38028625 -0.32462651] \n",
      "final state  [-0.02401122  0.30291878]\n",
      "STATE: [ 0.63286413  0.76455728 -0.03397156 -0.02756802] ACT: [-0.38824641 -0.31506305] \n",
      "STATE: [ 0.60987043  0.74588535 -0.06569629 -0.05334837] ACT: [-0.38804702 -0.3153086 ] \n",
      "STATE: [ 0.57650394  0.71877976 -0.09533284 -0.07744456] ACT: [-0.38797567 -0.31539638] \n",
      "STATE: [ 0.53342075  0.6838243  -0.12309481 -0.09987273] ACT: [-0.38877927 -0.31440528] \n",
      "STATE: [ 0.48122595  0.64157457 -0.149128   -0.12071352] ACT: [-0.38984329 -0.31308499] \n",
      "STATE: [ 0.41932139  0.59680203 -0.17687017 -0.12792155] ACT: [-0.42889933 -0.17291272] \n",
      "STATE: [ 0.35028655  0.55529106 -0.19724241 -0.11860275] ACT: [-0.36547825  0.01055946] \n",
      "STATE: [ 0.27339542  0.50750191 -0.21968894 -0.13654045] ACT: [-0.40446362 -0.29395438] \n",
      "STATE: [ 0.1895219   0.4533731  -0.23963862 -0.15465373] ACT: [-0.39276305 -0.30941426] \n",
      "STATE: [ 0.09929769  0.39310452 -0.25778344 -0.17219593] ACT: [-0.38709834 -0.31647255] \n",
      "STATE: [ 0.0033311   0.32686943 -0.27419025 -0.18924312] ACT: [-0.38084398 -0.323972  ] \n",
      "STATE: [-0.09749338  0.25449183 -0.28806995 -0.20679314] ACT: [-0.36426779 -0.34250398] \n",
      "final state  [-0.09749338  0.25449183]\n",
      "STATE: [ 0.65255434  0.77376142 -0.03397156 -0.02756802] ACT: [-0.38824641 -0.31506305] \n",
      "STATE: [ 0.62955453  0.75509701 -0.06571374 -0.05332688] ACT: [-0.38824641 -0.31506305] \n",
      "STATE: [ 0.5961794   0.72800203 -0.09535749 -0.07741422] ACT: [-0.38807108 -0.31527898] \n",
      "STATE: [ 0.55310719  0.69303302 -0.12306347 -0.09991147] ACT: [-0.38815787 -0.31517213] \n",
      "STATE: [ 0.50092264  0.65077062 -0.14909872 -0.12074972] ACT: [-0.38984329 -0.31308499] \n",
      "STATE: [ 0.44000615  0.60197089 -0.17404711 -0.1394278 ] ACT: [-0.39694856 -0.30402605] \n",
      "STATE: [ 0.37189453  0.55669703 -0.19460462 -0.12935389] ACT: [-0.36547825  0.01055946] \n",
      "STATE: [ 0.29528757  0.50624705 -0.21887702 -0.14414281] ACT: [-0.42335233 -0.26603158] \n",
      "STATE: [ 0.21167958  0.44963203 -0.23887998 -0.16175718] ACT: [-0.39276305 -0.30941426] \n",
      "STATE: [ 0.12170347  0.38704041 -0.25707459 -0.17883322] ACT: [-0.38709834 -0.31647255] \n",
      "STATE: [ 0.02592576  0.31868541 -0.2736506  -0.19529998] ACT: [-0.38224605 -0.32231655] \n",
      "STATE: [-0.07494338  0.24456731 -0.28819755 -0.21176601] ACT: [-0.37148879 -0.33465815] \n",
      "final state  [-0.07494338  0.24456731]\n",
      "STATE: [ 0.81313663  0.64443032 -0.03393724 -0.02761026] ACT: [-0.38785413 -0.31554584] \n",
      "STATE: [ 0.79017375  0.62572052 -0.06560825 -0.05345658] ACT: [-0.38740732 -0.31609423] \n",
      "STATE: [ 0.75683659  0.59857886 -0.09524901 -0.0775476 ] ACT: [-0.38795778 -0.3154184 ] \n",
      "STATE: [ 0.71378999  0.56357838 -0.12299028 -0.10000137] ACT: [-0.38847989 -0.31477512] \n",
      "STATE: [ 0.6616868   0.52121551 -0.14886626 -0.12103677] ACT: [-0.38796816 -0.31540562] \n",
      "STATE: [ 0.60118217  0.47189909 -0.17287039 -0.14090407] ACT: [-0.38598256 -0.31783245] \n",
      "STATE: [ 0.5360094   0.42507727 -0.1862079  -0.13377661] ACT: [-0.28208149 -0.02422141] \n",
      "STATE: [ 0.48086393  0.37852304 -0.15755848 -0.13301208] ACT: [ 0.18776595 -0.09159493] \n",
      "STATE: [ 0.41772047  0.32504796 -0.18040988 -0.15278595] ACT: [-0.37932766 -0.32574611] \n",
      "STATE: [ 0.34687138  0.26538354 -0.20242599 -0.17046978] ACT: [-0.38692015 -0.31669038] \n",
      "STATE: [ 0.26876081  0.20001159 -0.22317304 -0.186777  ] ACT: [-0.38892859 -0.31422055] \n",
      "STATE: [ 0.18384792  0.12932825 -0.24260827 -0.20195241] ACT: [-0.38949667 -0.3135161 ] \n",
      "STATE: [ 0.09264337  0.05360276 -0.26058442 -0.21635854] ACT: [-0.38739795 -0.31610572] \n",
      "STATE: [ 0.01928493 -0.00746852 -0.20959555 -0.17448936] ACT: [0.38729159 0.31623603] \n",
      "final state  [ 0.01928493 -0.00746852]\n",
      "STATE: [ 0.84539934  0.87010302 -0.03388483 -0.02767455] ACT: [-0.38725519 -0.3162806 ] \n",
      "STATE: [ 0.822485    0.85133383 -0.06546954 -0.05362627] ACT: [-0.38638178 -0.317347  ] \n",
      "STATE: [ 0.78921838  0.82410578 -0.09504747 -0.07779441] ACT: [-0.38713561 -0.31642696] \n",
      "STATE: [ 0.74626781  0.78898754 -0.12271591 -0.10033784] ACT: [-0.38749639 -0.31598505] \n",
      "STATE: [ 0.69425088  0.74651889 -0.14861979 -0.12133898] ACT: [-0.38808126 -0.31526645] \n",
      "STATE: [ 0.63375506  0.69719148 -0.1728452  -0.14093547] ACT: [-0.38832669 -0.31496409] \n",
      "STATE: [ 0.56532062  0.64147535 -0.19552698 -0.15918894] ACT: [-0.38885414 -0.31431267] \n",
      "STATE: [ 0.48934525  0.57994432 -0.2170725  -0.17580294] ACT: [-0.39287979 -0.30926602] \n",
      "STATE: [ 0.41157353  0.5274392  -0.22220489 -0.15001462] ACT: [-0.22146029  0.16287147] \n",
      "STATE: [ 0.32446716  0.4732803  -0.24887537 -0.15473972] ACT: [-0.47145912 -0.16651216] \n",
      "STATE: [ 0.23101107  0.41324781 -0.2670174  -0.17152139] ACT: [-0.39399401 -0.30784529] \n",
      "STATE: [ 0.13182297  0.34747544 -0.28339456 -0.18792105] ACT: [-0.38743056 -0.31606575] \n",
      "STATE: [ 0.02740432  0.27618829 -0.298339   -0.20367757] ACT: [-0.38333951 -0.3210153 ] \n",
      "STATE: [-0.08138421  0.19916153 -0.31082438 -0.22007648] ACT: [-0.36644441 -0.34017421] \n",
      "final state  [-0.08138421  0.19916153]\n",
      "STATE: [ 0.59021081  0.71779101 -0.03396381 -0.02757756] ACT: [-0.38815787 -0.31517213] \n",
      "STATE: [ 0.56721625  0.69912014 -0.06569875 -0.05334535] ACT: [-0.38815787 -0.31517213] \n",
      "STATE: [ 0.53381467  0.67205785 -0.09543307 -0.07732084] ACT: [-0.38909486 -0.31401463] \n",
      "STATE: [ 0.49066612  0.63718329 -0.12328156 -0.09964159] ACT: [-0.38984329 -0.31308499] \n",
      "STATE: [ 0.43721416  0.59930192 -0.1527199  -0.10823248] ACT: [-0.42889933 -0.17291272] \n",
      "STATE: [ 0.37607721  0.5642299  -0.17467701 -0.10020577] ACT: [-0.36547825  0.01055946] \n",
      "STATE: [ 0.30583155  0.52356538 -0.20070187 -0.11618434] ACT: [-0.42843483 -0.25776656] \n",
      "STATE: [ 0.22809709  0.4761836  -0.22209847 -0.13537652] ACT: [-0.39505892 -0.30647748] \n",
      "STATE: [ 0.14356408  0.42227456 -0.24152287 -0.15402585] ACT: [-0.38856702 -0.31466756] \n",
      "STATE: [ 0.05278512  0.36213663 -0.25936846 -0.17182263] ACT: [-0.38509171 -0.31891123] \n",
      "STATE: [-0.04365567  0.29597195 -0.27554511 -0.18904195] ACT: [-0.37940233 -0.32565914] \n",
      "final state  [-0.04365567  0.29597195]\n",
      "STATE: [ 0.82120117  0.7610971  -0.03397415 -0.02756483] ACT: [-0.38827596 -0.31502663] \n",
      "STATE: [ 0.79819962  0.74243484 -0.06571874 -0.05332072] ACT: [-0.38827596 -0.31502663] \n",
      "STATE: [ 0.76484092  0.7153197  -0.09531056 -0.07747186] ACT: [-0.38748131 -0.31600354] \n",
      "STATE: [ 0.72177612  0.68034161 -0.12304229 -0.09993738] ACT: [-0.38841693 -0.3148528 ] \n",
      "STATE: [ 0.66966024  0.63799436 -0.14890252 -0.12099215] ACT: [-0.38782718 -0.31557895] \n",
      "STATE: [ 0.60906596  0.58878777 -0.17312652 -0.14059025] ACT: [-0.38852261 -0.31472239] \n",
      "STATE: [ 0.54043711  0.53331263 -0.19608241 -0.15850041] ACT: [-0.39219796 -0.31013023] \n",
      "STATE: [ 0.47020815  0.48438271 -0.20065418 -0.13979976] ACT: [-0.19931065  0.09484639] \n",
      "STATE: [ 0.41547854  0.44942801 -0.1563703  -0.09987057] ACT: [0.35561094 0.3514838 ] \n",
      "COLLIDED\n",
      "STATE: [ 0.37562379  0.4271191  -0.11387073 -0.06373973] ACT: [0.36843162 0.33802092] \n",
      "STATE: [ 0.32638631  0.39676022 -0.14067851 -0.08673965] ACT: [-0.39177769 -0.31066098] \n",
      "STATE: [ 0.26844913  0.35879542 -0.1655348  -0.10847088] ACT: [-0.38958072 -0.31341165] \n",
      "STATE: [ 0.20241817  0.31368047 -0.18865988 -0.12889985] ACT: [-0.38843779 -0.31482707] \n",
      "STATE: [ 0.12888101  0.26181541 -0.21010617 -0.14818588] ACT: [-0.3865954  -0.31708673] \n",
      "STATE: [ 0.04836979  0.2035952  -0.23003207 -0.16634346] ACT: [-0.38530416 -0.31865452] \n",
      "STATE: [-0.03665094  0.13742417 -0.24291637 -0.18906009] ACT: [-0.31977323 -0.38437622] \n",
      "final state  [-0.03665094  0.13742417]\n"
     ]
    },
    {
     "name": "stderr",
     "output_type": "stream",
     "text": [
      "\n"
     ]
    },
    {
     "name": "stdout",
     "output_type": "stream",
     "text": [
      "After 4 REWARD:  (0.8369003423357917, array([-0.05709225,  0.21652396, -0.27636274, -0.19552515]), -0.2522117480984315)\n",
      "UPDATING THE ACTION MATRIX\n"
     ]
    },
    {
     "name": "stderr",
     "output_type": "stream",
     "text": [
      "100%|█████████████████████████████████████████████████████████████████████████████████████████████████████████████████████████| 25/25 [00:03<00:00,  6.98it/s]\n",
      "Generating Dynamics Dataset: 100%|██████████████████████████████████████████████████████████████████████████████████████████| 15/15 [00:00<00:00, 2273.01it/s]\n"
     ]
    },
    {
     "name": "stdout",
     "output_type": "stream",
     "text": [
      "COLLIDED\n",
      "COLLIDED\n",
      "COLLIDED\n"
     ]
    },
    {
     "name": "stderr",
     "output_type": "stream",
     "text": [
      "100%|████████████████████████████████████████████████████████████████████████████████████████████████████████████████████████| 39/39 [00:00<00:00, 205.36it/s]\n"
     ]
    },
    {
     "name": "stdout",
     "output_type": "stream",
     "text": [
      "Epoch 1, loss: 0.001, err: 0.022, val_loss: 0.001, val_err: 0.039\n"
     ]
    },
    {
     "name": "stderr",
     "output_type": "stream",
     "text": [
      "100%|████████████████████████████████████████████████████████████████████████████████████████████████████████████████████████| 39/39 [00:00<00:00, 207.53it/s]\n"
     ]
    },
    {
     "name": "stdout",
     "output_type": "stream",
     "text": [
      "Epoch 2, loss: 0.001, err: 0.022, val_loss: 0.001, val_err: 0.038\n"
     ]
    },
    {
     "name": "stderr",
     "output_type": "stream",
     "text": [
      "100%|████████████████████████████████████████████████████████████████████████████████████████████████████████████████████████| 39/39 [00:00<00:00, 210.42it/s]\n"
     ]
    },
    {
     "name": "stdout",
     "output_type": "stream",
     "text": [
      "Epoch 3, loss: 0.001, err: 0.022, val_loss: 0.001, val_err: 0.039\n"
     ]
    },
    {
     "name": "stderr",
     "output_type": "stream",
     "text": [
      "100%|████████████████████████████████████████████████████████████████████████████████████████████████████████████████████████| 39/39 [00:00<00:00, 209.43it/s]\n"
     ]
    },
    {
     "name": "stdout",
     "output_type": "stream",
     "text": [
      "Epoch 4, loss: 0.001, err: 0.022, val_loss: 0.001, val_err: 0.038\n"
     ]
    },
    {
     "name": "stderr",
     "output_type": "stream",
     "text": [
      "100%|████████████████████████████████████████████████████████████████████████████████████████████████████████████████████████| 39/39 [00:00<00:00, 209.67it/s]\n"
     ]
    },
    {
     "name": "stdout",
     "output_type": "stream",
     "text": [
      "Epoch 5, loss: 0.001, err: 0.022, val_loss: 0.002, val_err: 0.042\n"
     ]
    },
    {
     "name": "stderr",
     "output_type": "stream",
     "text": [
      "100%|████████████████████████████████████████████████████████████████████████████████████████████████████████████████████████| 39/39 [00:00<00:00, 209.16it/s]\n"
     ]
    },
    {
     "name": "stdout",
     "output_type": "stream",
     "text": [
      "Epoch 6, loss: 0.001, err: 0.022, val_loss: 0.001, val_err: 0.038\n"
     ]
    },
    {
     "name": "stderr",
     "output_type": "stream",
     "text": [
      "100%|████████████████████████████████████████████████████████████████████████████████████████████████████████████████████████| 39/39 [00:00<00:00, 208.38it/s]\n"
     ]
    },
    {
     "name": "stdout",
     "output_type": "stream",
     "text": [
      "Epoch 7, loss: 0.000, err: 0.021, val_loss: 0.002, val_err: 0.041\n"
     ]
    },
    {
     "name": "stderr",
     "output_type": "stream",
     "text": [
      "100%|████████████████████████████████████████████████████████████████████████████████████████████████████████████████████████| 39/39 [00:00<00:00, 210.71it/s]\n"
     ]
    },
    {
     "name": "stdout",
     "output_type": "stream",
     "text": [
      "Epoch 8, loss: 0.001, err: 0.022, val_loss: 0.001, val_err: 0.038\n"
     ]
    },
    {
     "name": "stderr",
     "output_type": "stream",
     "text": [
      "100%|████████████████████████████████████████████████████████████████████████████████████████████████████████████████████████| 39/39 [00:00<00:00, 209.21it/s]\n"
     ]
    },
    {
     "name": "stdout",
     "output_type": "stream",
     "text": [
      "Epoch 9, loss: 0.001, err: 0.022, val_loss: 0.002, val_err: 0.040\n"
     ]
    },
    {
     "name": "stderr",
     "output_type": "stream",
     "text": [
      "100%|████████████████████████████████████████████████████████████████████████████████████████████████████████████████████████| 39/39 [00:00<00:00, 206.62it/s]\n"
     ]
    },
    {
     "name": "stdout",
     "output_type": "stream",
     "text": [
      "Epoch 10, loss: 0.001, err: 0.022, val_loss: 0.001, val_err: 0.037\n"
     ]
    },
    {
     "name": "stderr",
     "output_type": "stream",
     "text": [
      "100%|████████████████████████████████████████████████████████████████████████████████████████████████████████████████████████| 39/39 [00:00<00:00, 209.94it/s]\n"
     ]
    },
    {
     "name": "stdout",
     "output_type": "stream",
     "text": [
      "Epoch 11, loss: 0.001, err: 0.022, val_loss: 0.001, val_err: 0.035\n"
     ]
    },
    {
     "name": "stderr",
     "output_type": "stream",
     "text": [
      "100%|████████████████████████████████████████████████████████████████████████████████████████████████████████████████████████| 39/39 [00:00<00:00, 209.82it/s]\n"
     ]
    },
    {
     "name": "stdout",
     "output_type": "stream",
     "text": [
      "Epoch 12, loss: 0.000, err: 0.021, val_loss: 0.001, val_err: 0.035\n"
     ]
    },
    {
     "name": "stderr",
     "output_type": "stream",
     "text": [
      "100%|████████████████████████████████████████████████████████████████████████████████████████████████████████████████████████| 39/39 [00:00<00:00, 207.38it/s]\n"
     ]
    },
    {
     "name": "stdout",
     "output_type": "stream",
     "text": [
      "Epoch 13, loss: 0.000, err: 0.021, val_loss: 0.001, val_err: 0.036\n"
     ]
    },
    {
     "name": "stderr",
     "output_type": "stream",
     "text": [
      "100%|████████████████████████████████████████████████████████████████████████████████████████████████████████████████████████| 39/39 [00:00<00:00, 210.78it/s]\n"
     ]
    },
    {
     "name": "stdout",
     "output_type": "stream",
     "text": [
      "Epoch 14, loss: 0.000, err: 0.021, val_loss: 0.001, val_err: 0.036\n"
     ]
    },
    {
     "name": "stderr",
     "output_type": "stream",
     "text": [
      "100%|████████████████████████████████████████████████████████████████████████████████████████████████████████████████████████| 39/39 [00:00<00:00, 210.54it/s]\n"
     ]
    },
    {
     "name": "stdout",
     "output_type": "stream",
     "text": [
      "Epoch 15, loss: 0.000, err: 0.021, val_loss: 0.001, val_err: 0.038\n"
     ]
    },
    {
     "name": "stderr",
     "output_type": "stream",
     "text": [
      "100%|████████████████████████████████████████████████████████████████████████████████████████████████████████████████████████| 39/39 [00:00<00:00, 209.70it/s]\n"
     ]
    },
    {
     "name": "stdout",
     "output_type": "stream",
     "text": [
      "Epoch 16, loss: 0.001, err: 0.022, val_loss: 0.001, val_err: 0.038\n"
     ]
    },
    {
     "name": "stderr",
     "output_type": "stream",
     "text": [
      "100%|████████████████████████████████████████████████████████████████████████████████████████████████████████████████████████| 39/39 [00:00<00:00, 210.08it/s]\n"
     ]
    },
    {
     "name": "stdout",
     "output_type": "stream",
     "text": [
      "Epoch 17, loss: 0.000, err: 0.021, val_loss: 0.001, val_err: 0.038\n"
     ]
    },
    {
     "name": "stderr",
     "output_type": "stream",
     "text": [
      "100%|████████████████████████████████████████████████████████████████████████████████████████████████████████████████████████| 39/39 [00:00<00:00, 211.43it/s]\n"
     ]
    },
    {
     "name": "stdout",
     "output_type": "stream",
     "text": [
      "Epoch 18, loss: 0.001, err: 0.022, val_loss: 0.001, val_err: 0.035\n"
     ]
    },
    {
     "name": "stderr",
     "output_type": "stream",
     "text": [
      "100%|████████████████████████████████████████████████████████████████████████████████████████████████████████████████████████| 39/39 [00:00<00:00, 208.49it/s]\n"
     ]
    },
    {
     "name": "stdout",
     "output_type": "stream",
     "text": [
      "Epoch 19, loss: 0.000, err: 0.021, val_loss: 0.001, val_err: 0.035\n"
     ]
    },
    {
     "name": "stderr",
     "output_type": "stream",
     "text": [
      "100%|████████████████████████████████████████████████████████████████████████████████████████████████████████████████████████| 39/39 [00:00<00:00, 207.28it/s]\n"
     ]
    },
    {
     "name": "stdout",
     "output_type": "stream",
     "text": [
      "Epoch 20, loss: 0.001, err: 0.021, val_loss: 0.001, val_err: 0.039\n"
     ]
    },
    {
     "name": "stderr",
     "output_type": "stream",
     "text": [
      "100%|████████████████████████████████████████████████████████████████████████████████████████████████████████████████████████| 39/39 [00:00<00:00, 208.35it/s]\n"
     ]
    },
    {
     "name": "stdout",
     "output_type": "stream",
     "text": [
      "Epoch 21, loss: 0.001, err: 0.021, val_loss: 0.001, val_err: 0.036\n"
     ]
    },
    {
     "name": "stderr",
     "output_type": "stream",
     "text": [
      "100%|████████████████████████████████████████████████████████████████████████████████████████████████████████████████████████| 39/39 [00:00<00:00, 209.10it/s]\n"
     ]
    },
    {
     "name": "stdout",
     "output_type": "stream",
     "text": [
      "Epoch 22, loss: 0.000, err: 0.021, val_loss: 0.001, val_err: 0.036\n"
     ]
    },
    {
     "name": "stderr",
     "output_type": "stream",
     "text": [
      "100%|████████████████████████████████████████████████████████████████████████████████████████████████████████████████████████| 39/39 [00:00<00:00, 210.21it/s]\n"
     ]
    },
    {
     "name": "stdout",
     "output_type": "stream",
     "text": [
      "Epoch 23, loss: 0.000, err: 0.021, val_loss: 0.001, val_err: 0.036\n"
     ]
    },
    {
     "name": "stderr",
     "output_type": "stream",
     "text": [
      "100%|████████████████████████████████████████████████████████████████████████████████████████████████████████████████████████| 39/39 [00:00<00:00, 209.24it/s]\n"
     ]
    },
    {
     "name": "stdout",
     "output_type": "stream",
     "text": [
      "Epoch 24, loss: 0.000, err: 0.021, val_loss: 0.001, val_err: 0.037\n"
     ]
    },
    {
     "name": "stderr",
     "output_type": "stream",
     "text": [
      "100%|████████████████████████████████████████████████████████████████████████████████████████████████████████████████████████| 39/39 [00:00<00:00, 209.04it/s]\n"
     ]
    },
    {
     "name": "stdout",
     "output_type": "stream",
     "text": [
      "Epoch 25, loss: 0.000, err: 0.021, val_loss: 0.001, val_err: 0.035\n"
     ]
    },
    {
     "name": "stderr",
     "output_type": "stream",
     "text": [
      "100%|████████████████████████████████████████████████████████████████████████████████████████████████████████████████████████| 39/39 [00:00<00:00, 209.02it/s]\n"
     ]
    },
    {
     "name": "stdout",
     "output_type": "stream",
     "text": [
      "Epoch 26, loss: 0.000, err: 0.021, val_loss: 0.001, val_err: 0.037\n"
     ]
    },
    {
     "name": "stderr",
     "output_type": "stream",
     "text": [
      "100%|████████████████████████████████████████████████████████████████████████████████████████████████████████████████████████| 39/39 [00:00<00:00, 209.51it/s]\n"
     ]
    },
    {
     "name": "stdout",
     "output_type": "stream",
     "text": [
      "Epoch 27, loss: 0.000, err: 0.021, val_loss: 0.001, val_err: 0.034\n"
     ]
    },
    {
     "name": "stderr",
     "output_type": "stream",
     "text": [
      "100%|████████████████████████████████████████████████████████████████████████████████████████████████████████████████████████| 39/39 [00:00<00:00, 208.98it/s]\n"
     ]
    },
    {
     "name": "stdout",
     "output_type": "stream",
     "text": [
      "Epoch 28, loss: 0.000, err: 0.021, val_loss: 0.001, val_err: 0.035\n"
     ]
    },
    {
     "name": "stderr",
     "output_type": "stream",
     "text": [
      "100%|████████████████████████████████████████████████████████████████████████████████████████████████████████████████████████| 39/39 [00:00<00:00, 206.62it/s]\n"
     ]
    },
    {
     "name": "stdout",
     "output_type": "stream",
     "text": [
      "Epoch 29, loss: 0.000, err: 0.021, val_loss: 0.001, val_err: 0.035\n"
     ]
    },
    {
     "name": "stderr",
     "output_type": "stream",
     "text": [
      "100%|████████████████████████████████████████████████████████████████████████████████████████████████████████████████████████| 39/39 [00:00<00:00, 209.41it/s]\n"
     ]
    },
    {
     "name": "stdout",
     "output_type": "stream",
     "text": [
      "Epoch 30, loss: 0.000, err: 0.021, val_loss: 0.001, val_err: 0.034\n"
     ]
    },
    {
     "name": "stderr",
     "output_type": "stream",
     "text": [
      "100%|████████████████████████████████████████████████████████████████████████████████████████████████████████████████████████| 39/39 [00:00<00:00, 208.21it/s]\n"
     ]
    },
    {
     "name": "stdout",
     "output_type": "stream",
     "text": [
      "Epoch 31, loss: 0.000, err: 0.021, val_loss: 0.001, val_err: 0.036\n"
     ]
    },
    {
     "name": "stderr",
     "output_type": "stream",
     "text": [
      "100%|████████████████████████████████████████████████████████████████████████████████████████████████████████████████████████| 39/39 [00:00<00:00, 208.95it/s]\n"
     ]
    },
    {
     "name": "stdout",
     "output_type": "stream",
     "text": [
      "Epoch 32, loss: 0.000, err: 0.021, val_loss: 0.001, val_err: 0.036\n"
     ]
    },
    {
     "name": "stderr",
     "output_type": "stream",
     "text": [
      "100%|████████████████████████████████████████████████████████████████████████████████████████████████████████████████████████| 39/39 [00:00<00:00, 208.52it/s]\n"
     ]
    },
    {
     "name": "stdout",
     "output_type": "stream",
     "text": [
      "Epoch 33, loss: 0.000, err: 0.021, val_loss: 0.001, val_err: 0.037\n"
     ]
    },
    {
     "name": "stderr",
     "output_type": "stream",
     "text": [
      "100%|████████████████████████████████████████████████████████████████████████████████████████████████████████████████████████| 39/39 [00:00<00:00, 209.90it/s]\n"
     ]
    },
    {
     "name": "stdout",
     "output_type": "stream",
     "text": [
      "Epoch 34, loss: 0.000, err: 0.021, val_loss: 0.001, val_err: 0.033\n"
     ]
    },
    {
     "name": "stderr",
     "output_type": "stream",
     "text": [
      "100%|████████████████████████████████████████████████████████████████████████████████████████████████████████████████████████| 39/39 [00:00<00:00, 209.59it/s]\n"
     ]
    },
    {
     "name": "stdout",
     "output_type": "stream",
     "text": [
      "Epoch 35, loss: 0.000, err: 0.021, val_loss: 0.001, val_err: 0.034\n"
     ]
    },
    {
     "name": "stderr",
     "output_type": "stream",
     "text": [
      "100%|████████████████████████████████████████████████████████████████████████████████████████████████████████████████████████| 39/39 [00:00<00:00, 208.80it/s]\n"
     ]
    },
    {
     "name": "stdout",
     "output_type": "stream",
     "text": [
      "Epoch 36, loss: 0.000, err: 0.021, val_loss: 0.001, val_err: 0.036\n"
     ]
    },
    {
     "name": "stderr",
     "output_type": "stream",
     "text": [
      "100%|████████████████████████████████████████████████████████████████████████████████████████████████████████████████████████| 39/39 [00:00<00:00, 208.06it/s]\n"
     ]
    },
    {
     "name": "stdout",
     "output_type": "stream",
     "text": [
      "Epoch 37, loss: 0.000, err: 0.021, val_loss: 0.001, val_err: 0.036\n"
     ]
    },
    {
     "name": "stderr",
     "output_type": "stream",
     "text": [
      "100%|████████████████████████████████████████████████████████████████████████████████████████████████████████████████████████| 39/39 [00:00<00:00, 209.88it/s]\n"
     ]
    },
    {
     "name": "stdout",
     "output_type": "stream",
     "text": [
      "Epoch 38, loss: 0.000, err: 0.021, val_loss: 0.001, val_err: 0.034\n"
     ]
    },
    {
     "name": "stderr",
     "output_type": "stream",
     "text": [
      "100%|████████████████████████████████████████████████████████████████████████████████████████████████████████████████████████| 39/39 [00:00<00:00, 208.74it/s]\n"
     ]
    },
    {
     "name": "stdout",
     "output_type": "stream",
     "text": [
      "Epoch 39, loss: 0.001, err: 0.024, val_loss: 0.001, val_err: 0.032\n"
     ]
    },
    {
     "name": "stderr",
     "output_type": "stream",
     "text": [
      "\r",
      "  0%|                                                                                                                                  | 0/10 [00:00<?, ?it/s]"
     ]
    },
    {
     "name": "stdout",
     "output_type": "stream",
     "text": [
      "STATE: [ 0.63314719  0.88993141 -0.03323196 -0.02845522] ACT: [-0.37979382 -0.32520249] \n",
      "STATE: [ 0.61065515  0.87065812 -0.06426297 -0.05506652] ACT: [-0.37956406 -0.32547062] \n",
      "STATE: [ 0.57802372  0.84267195 -0.09323264 -0.0799605 ] ACT: [-0.37927926 -0.32580246] \n",
      "STATE: [ 0.53591841  0.80654455 -0.1203009  -0.10322114] ACT: [-0.379276   -0.32580626] \n",
      "STATE: [ 0.48496784  0.76280215 -0.14557305 -0.12497828] ACT: [-0.3790502  -0.32606892] \n",
      "STATE: [ 0.42564702  0.71206842 -0.16948805 -0.14495352] ACT: [-0.38249412 -0.32202212] \n",
      "STATE: [ 0.3582275   0.65514183 -0.19262721 -0.16264739] ACT: [-0.39156359 -0.31093079] \n",
      "STATE: [ 0.28266877  0.59319729 -0.21588207 -0.17698442] ACT: [-0.41024019 -0.28583734] \n",
      "STATE: [ 0.20000728  0.52588401 -0.2361757  -0.19232365] ACT: [-0.3938388  -0.30804383] \n",
      "STATE: [ 0.11114749  0.45301923 -0.2538851  -0.20818509] ACT: [-0.3795249  -0.32551628] \n",
      "STATE: [ 0.01679712  0.37462675 -0.26957248 -0.22397852] ACT: [-0.36969817 -0.33663521] \n",
      "STATE: [-0.0823475   0.29071198 -0.28327036 -0.23975648] ACT: [-0.35872657 -0.34830338] \n",
      "final state  [-0.0823475   0.29071198]\n",
      "STATE: [ 0.8736948   0.86468542 -0.03327077 -0.02840983] ACT: [-0.38023736 -0.32468377] \n",
      "STATE: [ 0.8511494   0.84547461 -0.06441542 -0.05488805] ACT: [-0.38089199 -0.32391557] \n",
      "STATE: [ 0.81842938  0.81759207 -0.09348577 -0.07966439] ACT: [-0.3805441 -0.3243242] \n",
      "STATE: [ 0.77621515  0.78159202 -0.12061209 -0.1028573 ] ACT: [-0.38012938 -0.32481018] \n",
      "STATE: [ 0.7251027   0.73803892 -0.14603557 -0.12443743] ACT: [-0.38101318 -0.323773  ] \n",
      "STATE: [ 0.66568274  0.68742048 -0.16977131 -0.1446241 ] ACT: [-0.38079223 -0.32403284] \n",
      "STATE: [ 0.59849627  0.63020529 -0.19196134 -0.16347196] ACT: [-0.38092879 -0.32387228] \n",
      "STATE: [ 0.52391012  0.56699678 -0.21310329 -0.18059576] ACT: [-0.38559339 -0.31830447] \n",
      "STATE: [ 0.44686633  0.51250464 -0.22012512 -0.15569184] ACT: [-0.24007689  0.1491694 ] \n",
      "STATE: [ 0.36778372  0.46066139 -0.2259503  -0.14812357] ACT: [-0.23166734 -0.03027437] \n",
      "STATE: [ 0.28196354  0.40261772 -0.24520052 -0.16583903] ACT: [-0.38946525 -0.31355513] \n",
      "STATE: [ 0.19010431  0.33847054 -0.26245495 -0.18327767] ACT: [-0.38109389 -0.323678  ] \n",
      "STATE: [ 0.09272928  0.26847283 -0.27821437 -0.19999346] ACT: [-0.37694889 -0.32849586] \n",
      "STATE: [-0.00939722  0.19256466 -0.29178999 -0.21688047] ACT: [-0.3638107  -0.34298947] \n",
      "final state  [-0.00939722  0.19256466]\n",
      "STATE: [ 0.63225062  0.65974162 -0.03333719 -0.02833186] ACT: [-0.38099643 -0.32379271] \n",
      "STATE: [ 0.60966472  0.64057843 -0.06453116 -0.05475196] ACT: [-0.38150543 -0.32319284] \n",
      "STATE: [ 0.57675222  0.61292476 -0.09403572 -0.0790105 ] ACT: [-0.38559339 -0.31830447] \n",
      "STATE: [ 0.53610104  0.58245992 -0.11614622 -0.08704238] ACT: [-0.32321821 -0.15105077] \n",
      "STATE: [ 0.49194769  0.55558695 -0.12615241 -0.07677991] ACT: [-0.20146613  0.05200354] \n",
      "STATE: [ 0.44289896  0.54313463 -0.14013924 -0.03557806] ACT: [-0.25446379  0.41329342] \n",
      "STATE: [ 0.39051416  0.54533807 -0.14967084  0.00629554] ACT: [-0.21403699  0.45187185] \n",
      "STATE: [ 0.33181227  0.55920011 -0.16771971  0.03960581] ACT: [-0.31852588  0.38541051] \n",
      "STATE: [ 0.26432719  0.56350277 -0.19281451  0.01229331] ACT: [-0.41258754 -0.28243852] \n",
      "STATE: [ 0.18942389  0.55782136 -0.21400942 -0.01623258] ACT: [-0.38683842 -0.31679021] \n",
      "STATE: [ 0.10775568  0.54261129 -0.23333774 -0.04345736] ACT: [-0.3814021  -0.32331477] \n",
      "STATE: [ 0.02007969  0.51813984 -0.25050284 -0.06991842] ACT: [-0.37117589 -0.33500516] \n",
      "STATE: [-0.07307767  0.48487024 -0.26616388 -0.09505601] ACT: [-0.36686042 -0.33972552] \n",
      "final state  [-0.07307767  0.48487024]\n",
      "STATE: [ 0.67841531  0.60119058 -0.03327716 -0.02840234] ACT: [-0.38031044 -0.32459816] \n",
      "STATE: [ 0.65588563  0.58196131 -0.06437051 -0.05494077] ACT: [-0.38031044 -0.32459816] \n",
      "STATE: [ 0.62324478  0.55398636 -0.09325956 -0.07992843] ACT: [-0.37843841 -0.32677878] \n",
      "STATE: [ 0.58340967  0.51962522 -0.11381459 -0.09817467] ACT: [-0.30485933 -0.2684748 ] \n",
      "STATE: [ 0.5400978   0.48930918 -0.12374821 -0.08661728] ACT: [-0.19888796  0.05845342] \n",
      "STATE: [ 0.49535916  0.4636225  -0.1278247  -0.07339051] ACT: [-0.13939964  0.08620013] \n",
      "STATE: [ 0.4651696   0.4496019  -0.08625588 -0.04005885] ACT: [0.37920371 0.3258904 ] \n",
      "STATE: [ 0.44813655  0.44696969 -0.04866587 -0.0075206 ] ACT: [0.36490824 0.34182156] \n",
      "STATE: [ 0.4433966   0.4549785  -0.0135427   0.02288232] ACT: [0.36490824 0.34182156] \n",
      "STATE: [0.45014303 0.47293002 0.01927551 0.05129006] ACT: [0.36490824 0.34182156] \n",
      "STATE: [0.46737606 0.50042831 0.04923724 0.07856655] ACT: [0.35687634 0.35019891] \n",
      "STATE: [0.47638337 0.52519488 0.02573515 0.07076161] ACT: [-0.23166734 -0.03027437] \n",
      "STATE: [0.48132563 0.54606307 0.01412076 0.0596234 ] ACT: [-0.11343451 -0.07422268] \n",
      "STATE: [ 0.47815061  0.57821889 -0.00907149  0.09187379] ACT: [-0.25446379  0.41329342] \n",
      "STATE: [ 0.4683811   0.61800439 -0.02791288  0.11367285] ACT: [-0.22213379  0.31803743] \n",
      "STATE: [ 0.44569861  0.65437147 -0.06480713  0.10390594] ACT: [-0.44258317 -0.02636712] \n",
      "STATE: [ 0.41149529  0.68254331 -0.09772376  0.08049099] ACT: [-0.42479543 -0.18967001] \n",
      "STATE: [ 0.36720016  0.69979524 -0.12655752  0.0492912 ] ACT: [-0.40282144 -0.29620076] \n",
      "STATE: [ 0.31362845  0.70663943 -0.15306203  0.01955483] ACT: [-0.39782687 -0.30287585] \n",
      "STATE: [ 0.25170126  0.70336238 -0.17693482 -0.00936298] ACT: [-0.38762837 -0.31582313] \n",
      "STATE: [ 0.18207082  0.69050218 -0.19894413 -0.03674343] ACT: [-0.38423608 -0.31994161] \n",
      "STATE: [ 0.10556972  0.66830775 -0.21857457 -0.06341267] ACT: [-0.37355608 -0.33234899] \n",
      "STATE: [ 0.02269427  0.6373408  -0.23678699 -0.08847698] ACT: [-0.37207283 -0.3340087 ] \n",
      "STATE: [-0.06604583  0.59807617 -0.25354314 -0.11218468] ACT: [-0.36908908 -0.33730291] \n",
      "final state  [-0.06604583  0.59807617]\n",
      "STATE: [ 0.74628004  0.8739778  -0.03330631 -0.02836815] ACT: [-0.38064357 -0.32420745] \n",
      "STATE: [ 0.7237415   0.85475893 -0.06439584 -0.05491107] ACT: [-0.38028862 -0.32462373] \n",
      "STATE: [ 0.6910408   0.82685372 -0.09343055 -0.07972916] ACT: [-0.38012212 -0.32481868] \n",
      "STATE: [ 0.64884416  0.79083303 -0.12056184 -0.10291625] ACT: [-0.38014481 -0.32479212] \n",
      "STATE: [ 0.59777803  0.74722559 -0.14590323 -0.12459268] ACT: [-0.38003731 -0.3249179 ] \n",
      "STATE: [ 0.5384085   0.69654799 -0.16962723 -0.14479315] ACT: [-0.38055881 -0.32430695] \n",
      "STATE: [ 0.47104433  0.63954819 -0.19246906 -0.16285658] ACT: [-0.38826989 -0.31503411] \n",
      "STATE: [ 0.39454682  0.5854815  -0.2185643  -0.15447624] ACT: [-0.44258317 -0.02636712] \n",
      "STATE: [ 0.31014683  0.54317745 -0.24114284 -0.12086872] ACT: [-0.42196367  0.26822874] \n",
      "STATE: [ 0.21910912  0.49436486 -0.26010773 -0.13946455] ACT: [-0.39759875 -0.30317525] \n",
      "STATE: [ 0.12238163  0.43883487 -0.27636426 -0.1586571 ] ACT: [-0.38086963 -0.32394185] \n",
      "STATE: [ 0.02066868  0.3766519  -0.29060843 -0.17766564] ACT: [-0.37006378 -0.33623325] \n",
      "STATE: [-0.08535536  0.3078829  -0.30292583 -0.19648287] ACT: [-0.35872657 -0.34830338] \n",
      "final state  [-0.08535536  0.3078829 ]\n",
      "STATE: [ 0.87244496  0.6138532  -0.03340872 -0.02824747] ACT: [-0.38181396 -0.32282829] \n",
      "STATE: [ 0.84981429  0.5947429  -0.06465908 -0.05460085] ACT: [-0.38220347 -0.32236704] \n",
      "STATE: [ 0.81697427  0.56700178 -0.09382861 -0.07926033] ACT: [-0.38186043 -0.32277332] \n",
      "STATE: [ 0.77458379  0.53120941 -0.12111567 -0.10226391] ACT: [-0.3822235  -0.32234329] \n",
      "STATE: [ 0.72329341  0.48786598 -0.14654395 -0.12383838] ACT: [-0.38144572 -0.32326331] \n",
      "STATE: [ 0.66381265  0.43732084 -0.16994502 -0.14441468] ACT: [-0.37734871 -0.32803651] \n",
      "STATE: [ 0.59782856  0.37886009 -0.18852597 -0.1670307 ] ACT: [-0.33981255 -0.36677981] \n",
      "STATE: [ 0.5269213   0.31203551 -0.20259216 -0.19092737] ACT: [-0.30215091 -0.39837775] \n",
      "STATE: [ 0.4493395   0.23929325 -0.22166229 -0.20783504] ACT: [-0.3698885  -0.33642607] \n",
      "STATE: [ 0.36519567  0.16139129 -0.24041094 -0.22257702] ACT: [-0.38051693 -0.32435608] \n",
      "STATE: [ 0.27479546  0.07881677 -0.25828632 -0.23592719] ACT: [-0.38459829 -0.31950611] \n",
      "STATE: [ 0.17829644 -0.00781084 -0.2757115  -0.24750748] ACT: [-0.39285964 -0.30929162] \n",
      "final state  [ 0.17829644 -0.00781084]\n",
      "STATE: [ 0.72490323  0.84800811 -0.03330128 -0.02837406] ACT: [-0.38058603 -0.324275  ] \n",
      "STATE: [ 0.70237143  0.82878133 -0.06437657 -0.05493365] ACT: [-0.38012212 -0.32481868] \n",
      "STATE: [ 0.66967091  0.80087593 -0.09343008 -0.07972973] ACT: [-0.38032253 -0.324584  ] \n",
      "STATE: [ 0.62747771  0.7648512  -0.12055199 -0.10292778] ACT: [-0.38003731 -0.3249179 ] \n",
      "STATE: [ 0.57641818  0.72123604 -0.14588437 -0.12461476] ACT: [-0.37992688 -0.32504702] \n",
      "STATE: [ 0.51699647  0.6706201  -0.16977633 -0.14461696] ACT: [-0.3824642  -0.32205766] \n",
      "STATE: [ 0.44883562  0.61543672 -0.19474527 -0.15766679] ACT: [-0.41269156 -0.25760366] \n",
      "STATE: [ 0.37159373  0.56306726 -0.22069113 -0.14962703] ACT: [-0.44258317 -0.02636712] \n",
      "STATE: [ 0.28549622  0.50776447 -0.24599288 -0.15800799] ACT: [-0.45468112 -0.2080026 ] \n",
      "STATE: [ 0.19316238  0.44643772 -0.26381097 -0.17521928] ACT: [-0.38812996 -0.31520649] \n",
      "STATE: [ 0.09530011  0.37912581 -0.27960648 -0.19231973] ACT: [-0.37837843 -0.32684823] \n",
      "STATE: [-0.00738253  0.30583524 -0.29337897 -0.20940164] ACT: [-0.36710465 -0.3394616 ] \n",
      "final state  [-0.00738253  0.30583524]\n",
      "STATE: [ 0.8619074   0.86984629 -0.03327077 -0.02840983] ACT: [-0.38023736 -0.32468377] \n",
      "STATE: [ 0.83937266  0.85062296 -0.06438498 -0.0549238 ] ACT: [-0.3805441 -0.3243242] \n",
      "STATE: [ 0.80666246  0.82272889 -0.09345771 -0.07969734] ACT: [-0.38054851 -0.32431903] \n",
      "STATE: [ 0.76446508  0.78670908 -0.12056394 -0.10291374] ACT: [-0.37987877 -0.32510325] \n",
      "STATE: [ 0.71337307  0.74313199 -0.14597716 -0.12450596] ACT: [-0.3808597  -0.32395353] \n",
      "STATE: [ 0.65397222  0.69249115 -0.16971673 -0.14468813] ACT: [-0.38079223 -0.32403284] \n",
      "STATE: [ 0.5868036   0.63525502 -0.19191034 -0.16353179] ACT: [-0.38092879 -0.32387228] \n",
      "STATE: [ 0.51223413  0.57202694 -0.21305564 -0.18065166] ACT: [-0.38559339 -0.31830447] \n",
      "STATE: [ 0.43520592  0.51751651 -0.22008059 -0.15574407] ACT: [-0.24007689  0.1491694 ] \n",
      "STATE: [ 0.35716608  0.47660147 -0.22297098 -0.11690011] ACT: [-0.19809346  0.32712299] \n",
      "STATE: [ 0.27207405  0.42908293 -0.24312008 -0.13576728] ACT: [-0.39750364 -0.30329994] \n",
      "STATE: [ 0.18086576  0.37480489 -0.26059512 -0.15508009] ACT: [-0.38205478 -0.32254325] \n",
      "STATE: [ 0.08415468  0.31396507 -0.27631735 -0.17382806] ACT: [-0.37512899 -0.3305726 ] \n",
      "STATE: [-0.01743383  0.24670191 -0.2902529  -0.19218046] ACT: [-0.36650146 -0.34011275] \n",
      "final state  [-0.01743383  0.24670191]\n",
      "STATE: [ 0.61267001  0.59506509 -0.03337262 -0.02829012] ACT: [-0.38140136 -0.32331564] \n",
      "STATE: [ 0.58970503  0.57636644 -0.06561422 -0.05342473] ACT: [-0.3935049  -0.30847025] \n",
      "STATE: [ 0.55743501  0.55176097 -0.09220005 -0.07030135] ACT: [-0.3530487  -0.23294425] \n",
      "STATE: [ 0.52051514  0.52822422 -0.10548536 -0.06724785] ACT: [-0.22098215 -0.01782885] \n",
      "STATE: [ 0.48642801  0.51988332 -0.09739181 -0.02383115] ACT: [0.01338366 0.44575494] \n",
      "STATE: [ 0.45110391  0.50981672 -0.10092599 -0.02876172] ACT: [-0.11343451 -0.07422268] \n",
      "STATE: [ 0.41100314  0.49948358 -0.11457362 -0.02952324] ACT: [-0.23166734 -0.03027437] \n",
      "STATE: [ 0.36090066  0.48117573 -0.14314996 -0.05230816] ACT: [-0.412517   -0.28254155] \n",
      "STATE: [ 0.3019126   0.45478076 -0.16853731 -0.07541418] ACT: [-0.39750364 -0.30329994] \n",
      "STATE: [ 0.23498665  0.42037011 -0.19121699 -0.09831614] ACT: [-0.38559928 -0.31829734] \n",
      "STATE: [ 0.16082894  0.3782497  -0.21187919 -0.12034404] ACT: [-0.37955216 -0.32548449] \n",
      "STATE: [ 0.08004949  0.32876965 -0.2307984  -0.14137156] ACT: [-0.37512899 -0.3305726 ] \n",
      "STATE: [-0.00665976  0.27212818 -0.24774074 -0.16183278] ACT: [-0.3667255  -0.33987116] \n",
      "final state  [-0.00665976  0.27212818]\n",
      "STATE: [ 0.88059324  0.61062032 -0.03340872 -0.02824747] ACT: [-0.38181396 -0.32282829] \n",
      "STATE: [ 0.85796257  0.59151002 -0.06465908 -0.05460085] ACT: [-0.38220347 -0.32236704] \n",
      "STATE: [ 0.82512255  0.56376891 -0.09382861 -0.07926033] ACT: [-0.38186043 -0.32277332] \n",
      "STATE: [ 0.78273207  0.52797654 -0.12111567 -0.10226391] ACT: [-0.3822235  -0.32234329] \n",
      "STATE: [ 0.73146398  0.48460686 -0.14648025 -0.12391337] ACT: [-0.38071774 -0.32412035] \n",
      "STATE: [ 0.67194672  0.43410353 -0.17004933 -0.1442952 ] ACT: [-0.37922105 -0.32587021] \n",
      "STATE: [ 0.60511646  0.37649283 -0.19094358 -0.164602  ] ACT: [-0.36632847 -0.34029906] \n",
      "STATE: [ 0.53341857  0.31046252 -0.20485111 -0.18865805] ACT: [-0.30215091 -0.39837775] \n",
      "STATE: [ 0.45527578  0.23827028 -0.22326512 -0.20626355] ACT: [-0.36408407 -0.34269927] \n",
      "STATE: [ 0.37060778  0.16088225 -0.24190857 -0.22110866] ACT: [-0.38051693 -0.32435608] \n",
      "STATE: [ 0.2797178   0.07878793 -0.25968567 -0.23455519] ACT: [-0.38459829 -0.31950611] \n",
      "STATE: [ 0.18276114 -0.007391   -0.27701902 -0.24622552] ACT: [-0.39285964 -0.30929162] \n",
      "final state  [ 0.18276114 -0.007391  ]\n"
     ]
    },
    {
     "name": "stderr",
     "output_type": "stream",
     "text": [
      "100%|████████████████████████████████████████████████████████████████████████████████████████████████████████████████████████| 10/10 [00:00<00:00, 548.67it/s]\n"
     ]
    },
    {
     "name": "stdout",
     "output_type": "stream",
     "text": [
      "After 5 REWARD:  (0.7682147719621765, array([ 0.00133579,  0.26835694, -0.27817963, -0.19175084]), -0.22196564738492724)\n",
      "UPDATING THE ACTION MATRIX\n"
     ]
    },
    {
     "name": "stderr",
     "output_type": "stream",
     "text": [
      "100%|█████████████████████████████████████████████████████████████████████████████████████████████████████████████████████████| 25/25 [00:03<00:00,  6.96it/s]\n",
      "Generating Dynamics Dataset: 100%|██████████████████████████████████████████████████████████████████████████████████████████| 15/15 [00:00<00:00, 2412.00it/s]\n"
     ]
    },
    {
     "name": "stdout",
     "output_type": "stream",
     "text": [
      "COLLIDED\n"
     ]
    },
    {
     "name": "stderr",
     "output_type": "stream",
     "text": [
      "100%|████████████████████████████████████████████████████████████████████████████████████████████████████████████████████████| 43/43 [00:00<00:00, 206.77it/s]\n"
     ]
    },
    {
     "name": "stdout",
     "output_type": "stream",
     "text": [
      "Epoch 1, loss: 0.000, err: 0.021, val_loss: 0.001, val_err: 0.037\n"
     ]
    },
    {
     "name": "stderr",
     "output_type": "stream",
     "text": [
      "100%|████████████████████████████████████████████████████████████████████████████████████████████████████████████████████████| 43/43 [00:00<00:00, 207.34it/s]\n"
     ]
    },
    {
     "name": "stdout",
     "output_type": "stream",
     "text": [
      "Epoch 2, loss: 0.000, err: 0.021, val_loss: 0.001, val_err: 0.037\n"
     ]
    },
    {
     "name": "stderr",
     "output_type": "stream",
     "text": [
      "100%|████████████████████████████████████████████████████████████████████████████████████████████████████████████████████████| 43/43 [00:00<00:00, 202.12it/s]\n"
     ]
    },
    {
     "name": "stdout",
     "output_type": "stream",
     "text": [
      "Epoch 3, loss: 0.000, err: 0.021, val_loss: 0.001, val_err: 0.037\n"
     ]
    },
    {
     "name": "stderr",
     "output_type": "stream",
     "text": [
      "100%|████████████████████████████████████████████████████████████████████████████████████████████████████████████████████████| 43/43 [00:00<00:00, 210.16it/s]\n"
     ]
    },
    {
     "name": "stdout",
     "output_type": "stream",
     "text": [
      "Epoch 4, loss: 0.000, err: 0.021, val_loss: 0.001, val_err: 0.036\n"
     ]
    },
    {
     "name": "stderr",
     "output_type": "stream",
     "text": [
      "100%|████████████████████████████████████████████████████████████████████████████████████████████████████████████████████████| 43/43 [00:00<00:00, 208.86it/s]\n"
     ]
    },
    {
     "name": "stdout",
     "output_type": "stream",
     "text": [
      "Epoch 5, loss: 0.000, err: 0.021, val_loss: 0.001, val_err: 0.036\n"
     ]
    },
    {
     "name": "stderr",
     "output_type": "stream",
     "text": [
      "100%|████████████████████████████████████████████████████████████████████████████████████████████████████████████████████████| 43/43 [00:00<00:00, 208.40it/s]\n"
     ]
    },
    {
     "name": "stdout",
     "output_type": "stream",
     "text": [
      "Epoch 6, loss: 0.000, err: 0.021, val_loss: 0.001, val_err: 0.036\n"
     ]
    },
    {
     "name": "stderr",
     "output_type": "stream",
     "text": [
      "100%|████████████████████████████████████████████████████████████████████████████████████████████████████████████████████████| 43/43 [00:00<00:00, 209.41it/s]\n"
     ]
    },
    {
     "name": "stdout",
     "output_type": "stream",
     "text": [
      "Epoch 7, loss: 0.000, err: 0.021, val_loss: 0.001, val_err: 0.037\n"
     ]
    },
    {
     "name": "stderr",
     "output_type": "stream",
     "text": [
      "100%|████████████████████████████████████████████████████████████████████████████████████████████████████████████████████████| 43/43 [00:00<00:00, 206.24it/s]\n"
     ]
    },
    {
     "name": "stdout",
     "output_type": "stream",
     "text": [
      "Epoch 8, loss: 0.000, err: 0.021, val_loss: 0.001, val_err: 0.036\n"
     ]
    },
    {
     "name": "stderr",
     "output_type": "stream",
     "text": [
      "100%|████████████████████████████████████████████████████████████████████████████████████████████████████████████████████████| 43/43 [00:00<00:00, 207.89it/s]\n"
     ]
    },
    {
     "name": "stdout",
     "output_type": "stream",
     "text": [
      "Epoch 9, loss: 0.000, err: 0.021, val_loss: 0.001, val_err: 0.035\n"
     ]
    },
    {
     "name": "stderr",
     "output_type": "stream",
     "text": [
      "100%|████████████████████████████████████████████████████████████████████████████████████████████████████████████████████████| 43/43 [00:00<00:00, 210.08it/s]\n"
     ]
    },
    {
     "name": "stdout",
     "output_type": "stream",
     "text": [
      "Epoch 10, loss: 0.000, err: 0.021, val_loss: 0.001, val_err: 0.037\n"
     ]
    },
    {
     "name": "stderr",
     "output_type": "stream",
     "text": [
      "100%|████████████████████████████████████████████████████████████████████████████████████████████████████████████████████████| 43/43 [00:00<00:00, 209.18it/s]\n"
     ]
    },
    {
     "name": "stdout",
     "output_type": "stream",
     "text": [
      "Epoch 11, loss: 0.000, err: 0.021, val_loss: 0.001, val_err: 0.038\n"
     ]
    },
    {
     "name": "stderr",
     "output_type": "stream",
     "text": [
      "100%|████████████████████████████████████████████████████████████████████████████████████████████████████████████████████████| 43/43 [00:00<00:00, 206.42it/s]\n"
     ]
    },
    {
     "name": "stdout",
     "output_type": "stream",
     "text": [
      "Epoch 12, loss: 0.000, err: 0.021, val_loss: 0.001, val_err: 0.035\n"
     ]
    },
    {
     "name": "stderr",
     "output_type": "stream",
     "text": [
      "100%|████████████████████████████████████████████████████████████████████████████████████████████████████████████████████████| 43/43 [00:00<00:00, 153.63it/s]\n"
     ]
    },
    {
     "name": "stdout",
     "output_type": "stream",
     "text": [
      "Epoch 13, loss: 0.000, err: 0.021, val_loss: 0.001, val_err: 0.035\n"
     ]
    },
    {
     "name": "stderr",
     "output_type": "stream",
     "text": [
      "100%|████████████████████████████████████████████████████████████████████████████████████████████████████████████████████████| 43/43 [00:00<00:00, 209.90it/s]\n"
     ]
    },
    {
     "name": "stdout",
     "output_type": "stream",
     "text": [
      "Epoch 14, loss: 0.000, err: 0.020, val_loss: 0.001, val_err: 0.036\n"
     ]
    },
    {
     "name": "stderr",
     "output_type": "stream",
     "text": [
      "100%|████████████████████████████████████████████████████████████████████████████████████████████████████████████████████████| 43/43 [00:00<00:00, 208.12it/s]\n"
     ]
    },
    {
     "name": "stdout",
     "output_type": "stream",
     "text": [
      "Epoch 15, loss: 0.000, err: 0.021, val_loss: 0.001, val_err: 0.035\n"
     ]
    },
    {
     "name": "stderr",
     "output_type": "stream",
     "text": [
      "100%|████████████████████████████████████████████████████████████████████████████████████████████████████████████████████████| 43/43 [00:00<00:00, 208.11it/s]\n"
     ]
    },
    {
     "name": "stdout",
     "output_type": "stream",
     "text": [
      "Epoch 16, loss: 0.000, err: 0.020, val_loss: 0.001, val_err: 0.037\n"
     ]
    },
    {
     "name": "stderr",
     "output_type": "stream",
     "text": [
      "100%|████████████████████████████████████████████████████████████████████████████████████████████████████████████████████████| 43/43 [00:00<00:00, 206.60it/s]\n"
     ]
    },
    {
     "name": "stdout",
     "output_type": "stream",
     "text": [
      "Epoch 17, loss: 0.000, err: 0.020, val_loss: 0.001, val_err: 0.035\n"
     ]
    },
    {
     "name": "stderr",
     "output_type": "stream",
     "text": [
      "100%|████████████████████████████████████████████████████████████████████████████████████████████████████████████████████████| 43/43 [00:00<00:00, 208.04it/s]\n"
     ]
    },
    {
     "name": "stdout",
     "output_type": "stream",
     "text": [
      "Epoch 18, loss: 0.000, err: 0.020, val_loss: 0.001, val_err: 0.034\n"
     ]
    },
    {
     "name": "stderr",
     "output_type": "stream",
     "text": [
      "100%|████████████████████████████████████████████████████████████████████████████████████████████████████████████████████████| 43/43 [00:00<00:00, 205.61it/s]\n"
     ]
    },
    {
     "name": "stdout",
     "output_type": "stream",
     "text": [
      "Epoch 19, loss: 0.000, err: 0.020, val_loss: 0.001, val_err: 0.035\n"
     ]
    },
    {
     "name": "stderr",
     "output_type": "stream",
     "text": [
      "100%|████████████████████████████████████████████████████████████████████████████████████████████████████████████████████████| 43/43 [00:00<00:00, 209.92it/s]\n"
     ]
    },
    {
     "name": "stdout",
     "output_type": "stream",
     "text": [
      "Epoch 20, loss: 0.000, err: 0.020, val_loss: 0.001, val_err: 0.035\n"
     ]
    },
    {
     "name": "stderr",
     "output_type": "stream",
     "text": [
      "100%|████████████████████████████████████████████████████████████████████████████████████████████████████████████████████████| 43/43 [00:00<00:00, 205.94it/s]\n"
     ]
    },
    {
     "name": "stdout",
     "output_type": "stream",
     "text": [
      "Epoch 21, loss: 0.000, err: 0.020, val_loss: 0.001, val_err: 0.035\n"
     ]
    },
    {
     "name": "stderr",
     "output_type": "stream",
     "text": [
      "100%|████████████████████████████████████████████████████████████████████████████████████████████████████████████████████████| 43/43 [00:00<00:00, 205.62it/s]\n"
     ]
    },
    {
     "name": "stdout",
     "output_type": "stream",
     "text": [
      "Epoch 22, loss: 0.000, err: 0.020, val_loss: 0.001, val_err: 0.035\n"
     ]
    },
    {
     "name": "stderr",
     "output_type": "stream",
     "text": [
      "100%|████████████████████████████████████████████████████████████████████████████████████████████████████████████████████████| 43/43 [00:00<00:00, 207.48it/s]\n"
     ]
    },
    {
     "name": "stdout",
     "output_type": "stream",
     "text": [
      "Epoch 23, loss: 0.000, err: 0.020, val_loss: 0.001, val_err: 0.034\n"
     ]
    },
    {
     "name": "stderr",
     "output_type": "stream",
     "text": [
      "100%|████████████████████████████████████████████████████████████████████████████████████████████████████████████████████████| 43/43 [00:00<00:00, 207.73it/s]\n"
     ]
    },
    {
     "name": "stdout",
     "output_type": "stream",
     "text": [
      "Epoch 24, loss: 0.000, err: 0.020, val_loss: 0.001, val_err: 0.034\n"
     ]
    },
    {
     "name": "stderr",
     "output_type": "stream",
     "text": [
      "100%|████████████████████████████████████████████████████████████████████████████████████████████████████████████████████████| 43/43 [00:00<00:00, 209.29it/s]\n"
     ]
    },
    {
     "name": "stdout",
     "output_type": "stream",
     "text": [
      "Epoch 25, loss: 0.000, err: 0.020, val_loss: 0.001, val_err: 0.034\n"
     ]
    },
    {
     "name": "stderr",
     "output_type": "stream",
     "text": [
      "100%|████████████████████████████████████████████████████████████████████████████████████████████████████████████████████████| 43/43 [00:00<00:00, 210.12it/s]\n"
     ]
    },
    {
     "name": "stdout",
     "output_type": "stream",
     "text": [
      "Epoch 26, loss: 0.000, err: 0.020, val_loss: 0.001, val_err: 0.037\n"
     ]
    },
    {
     "name": "stderr",
     "output_type": "stream",
     "text": [
      "100%|████████████████████████████████████████████████████████████████████████████████████████████████████████████████████████| 43/43 [00:00<00:00, 207.28it/s]\n"
     ]
    },
    {
     "name": "stdout",
     "output_type": "stream",
     "text": [
      "Epoch 27, loss: 0.000, err: 0.020, val_loss: 0.001, val_err: 0.035\n"
     ]
    },
    {
     "name": "stderr",
     "output_type": "stream",
     "text": [
      "100%|████████████████████████████████████████████████████████████████████████████████████████████████████████████████████████| 43/43 [00:00<00:00, 209.96it/s]\n"
     ]
    },
    {
     "name": "stdout",
     "output_type": "stream",
     "text": [
      "Epoch 28, loss: 0.000, err: 0.020, val_loss: 0.001, val_err: 0.034\n"
     ]
    },
    {
     "name": "stderr",
     "output_type": "stream",
     "text": [
      "100%|████████████████████████████████████████████████████████████████████████████████████████████████████████████████████████| 43/43 [00:00<00:00, 208.54it/s]\n"
     ]
    },
    {
     "name": "stdout",
     "output_type": "stream",
     "text": [
      "Epoch 29, loss: 0.000, err: 0.020, val_loss: 0.001, val_err: 0.036\n"
     ]
    },
    {
     "name": "stderr",
     "output_type": "stream",
     "text": [
      "100%|████████████████████████████████████████████████████████████████████████████████████████████████████████████████████████| 43/43 [00:00<00:00, 208.14it/s]\n"
     ]
    },
    {
     "name": "stdout",
     "output_type": "stream",
     "text": [
      "Epoch 30, loss: 0.000, err: 0.020, val_loss: 0.001, val_err: 0.034\n"
     ]
    },
    {
     "name": "stderr",
     "output_type": "stream",
     "text": [
      "100%|████████████████████████████████████████████████████████████████████████████████████████████████████████████████████████| 43/43 [00:00<00:00, 204.81it/s]\n"
     ]
    },
    {
     "name": "stdout",
     "output_type": "stream",
     "text": [
      "Epoch 31, loss: 0.000, err: 0.020, val_loss: 0.001, val_err: 0.034\n"
     ]
    },
    {
     "name": "stderr",
     "output_type": "stream",
     "text": [
      "100%|████████████████████████████████████████████████████████████████████████████████████████████████████████████████████████| 43/43 [00:00<00:00, 205.58it/s]\n"
     ]
    },
    {
     "name": "stdout",
     "output_type": "stream",
     "text": [
      "Epoch 32, loss: 0.000, err: 0.020, val_loss: 0.001, val_err: 0.036\n"
     ]
    },
    {
     "name": "stderr",
     "output_type": "stream",
     "text": [
      "100%|████████████████████████████████████████████████████████████████████████████████████████████████████████████████████████| 43/43 [00:00<00:00, 204.73it/s]\n"
     ]
    },
    {
     "name": "stdout",
     "output_type": "stream",
     "text": [
      "Epoch 33, loss: 0.000, err: 0.020, val_loss: 0.001, val_err: 0.035\n"
     ]
    },
    {
     "name": "stderr",
     "output_type": "stream",
     "text": [
      "100%|████████████████████████████████████████████████████████████████████████████████████████████████████████████████████████| 43/43 [00:00<00:00, 201.68it/s]\n"
     ]
    },
    {
     "name": "stdout",
     "output_type": "stream",
     "text": [
      "Epoch 34, loss: 0.000, err: 0.020, val_loss: 0.001, val_err: 0.035\n"
     ]
    },
    {
     "name": "stderr",
     "output_type": "stream",
     "text": [
      "100%|████████████████████████████████████████████████████████████████████████████████████████████████████████████████████████| 43/43 [00:00<00:00, 203.97it/s]\n"
     ]
    },
    {
     "name": "stdout",
     "output_type": "stream",
     "text": [
      "Epoch 35, loss: 0.000, err: 0.020, val_loss: 0.001, val_err: 0.033\n"
     ]
    },
    {
     "name": "stderr",
     "output_type": "stream",
     "text": [
      "100%|████████████████████████████████████████████████████████████████████████████████████████████████████████████████████████| 43/43 [00:00<00:00, 207.19it/s]\n"
     ]
    },
    {
     "name": "stdout",
     "output_type": "stream",
     "text": [
      "Epoch 36, loss: 0.000, err: 0.020, val_loss: 0.001, val_err: 0.035\n"
     ]
    },
    {
     "name": "stderr",
     "output_type": "stream",
     "text": [
      "100%|████████████████████████████████████████████████████████████████████████████████████████████████████████████████████████| 43/43 [00:00<00:00, 210.39it/s]\n"
     ]
    },
    {
     "name": "stdout",
     "output_type": "stream",
     "text": [
      "Epoch 37, loss: 0.000, err: 0.020, val_loss: 0.001, val_err: 0.034\n"
     ]
    },
    {
     "name": "stderr",
     "output_type": "stream",
     "text": [
      "100%|████████████████████████████████████████████████████████████████████████████████████████████████████████████████████████| 43/43 [00:00<00:00, 207.98it/s]\n"
     ]
    },
    {
     "name": "stdout",
     "output_type": "stream",
     "text": [
      "Epoch 38, loss: 0.000, err: 0.020, val_loss: 0.001, val_err: 0.035\n"
     ]
    },
    {
     "name": "stderr",
     "output_type": "stream",
     "text": [
      "100%|████████████████████████████████████████████████████████████████████████████████████████████████████████████████████████| 43/43 [00:00<00:00, 208.33it/s]\n"
     ]
    },
    {
     "name": "stdout",
     "output_type": "stream",
     "text": [
      "Epoch 39, loss: 0.001, err: 0.023, val_loss: 0.001, val_err: 0.031\n"
     ]
    },
    {
     "name": "stderr",
     "output_type": "stream",
     "text": [
      "100%|████████████████████████████████████████████████████████████████████████████████████████████████████████████████████████| 10/10 [00:00<00:00, 558.01it/s]\n"
     ]
    },
    {
     "name": "stdout",
     "output_type": "stream",
     "text": [
      "STATE: [ 0.81721617  0.74929895 -0.03291855 -0.0288172 ] ACT: [-0.37621205 -0.32933948] \n",
      "STATE: [ 0.79492167  0.7297975  -0.06369858 -0.05571842] ACT: [-0.37646061 -0.32905532] \n",
      "STATE: [ 0.76256632  0.7014926  -0.09244386 -0.08087116] ACT: [-0.37629145 -0.32924876] \n",
      "STATE: [ 0.72080851  0.66496407 -0.11930802 -0.10436721] ACT: [-0.37635188 -0.32917968] \n",
      "STATE: [ 0.67026262  0.62075465 -0.14441684 -0.12631262] ACT: [-0.37643896 -0.3290801 ] \n",
      "STATE: [ 0.6115198   0.56935189 -0.16783661 -0.14686503] ACT: [-0.37596707 -0.32961912] \n",
      "STATE: [ 0.54627302  0.51433507 -0.18641938 -0.15719091] ACT: [-0.33825198 -0.22815885] \n",
      "STATE: [ 0.48017645  0.47076906 -0.18884735 -0.12447432] ACT: [-0.16756278  0.25601077] \n",
      "COLLIDED\n",
      "STATE: [ 0.40720314  0.41963559 -0.20849517 -0.14609564] ACT: [-0.36618211 -0.34045655] \n",
      "STATE: [ 0.3273146   0.36198422 -0.22825296 -0.16471821] ACT: [-0.38217468 -0.32240117] \n",
      "STATE: [ 0.24112287  0.29805812 -0.24626209 -0.182646  ] ACT: [-0.37700832 -0.32842766] \n",
      "STATE: [ 0.14912251  0.22817693 -0.26285818 -0.19966053] ACT: [-0.37436615 -0.33143625] \n",
      "STATE: [ 0.05176584  0.15265168 -0.2781619  -0.21578644] ACT: [-0.37204335 -0.33404153] \n",
      "STATE: [-0.02721163  0.09160687 -0.2256499  -0.17441374] ACT: [0.39151573 0.31099105] \n",
      "final state  [-0.02721163  0.09160687]\n",
      "STATE: [ 0.73491101  0.70963088 -0.03290997 -0.028827  ] ACT: [-0.37611399 -0.32945146] \n",
      "STATE: [ 0.71262992  0.69011409 -0.06366023 -0.05576223] ACT: [-0.37611399 -0.32945146] \n",
      "STATE: [ 0.68028772  0.66179417 -0.0924063  -0.08091408] ACT: [-0.37627171 -0.32927131] \n",
      "STATE: [ 0.63854819  0.62524476 -0.1192558  -0.10442688] ACT: [-0.37615615 -0.32940333] \n",
      "STATE: [ 0.58800772  0.58102917 -0.14440133 -0.12633026] ACT: [-0.37681932 -0.32864448] \n",
      "STATE: [ 0.53042501  0.53272786 -0.16452204 -0.13800374] ACT: [-0.33825198 -0.22815885] \n",
      "STATE: [ 0.46839588  0.49069581 -0.17722606 -0.12009157] ACT: [-0.26858034  0.10120772] \n",
      "STATE: [ 0.40630507  0.45057666 -0.17740232 -0.11462613] ACT: [-0.13493391 -0.0276066 ] \n",
      "STATE: [ 0.33628113  0.40358853 -0.20006841 -0.13425182] ACT: [-0.39209278 -0.3102632 ] \n",
      "STATE: [ 0.25923733  0.34970599 -0.22012514 -0.1539501 ] ACT: [-0.37927109 -0.32581197] \n",
      "STATE: [ 0.17578704  0.28920647 -0.23842939 -0.17285579] ACT: [-0.37428524 -0.33152762] \n",
      "STATE: [ 0.08649368  0.22236503 -0.25512391 -0.19097555] ACT: [-0.36961653 -0.33672484] \n",
      "STATE: [-0.00757155  0.14889013 -0.2687578  -0.20992828] ACT: [-0.34715885 -0.35983431] \n",
      "final state  [-0.00757155  0.14889013]\n",
      "STATE: [ 0.59294833  0.85271213 -0.03268079 -0.02908656] ACT: [-0.37349478 -0.33241788] \n",
      "STATE: [ 0.57082241  0.83301961 -0.06321691 -0.05626432] ACT: [-0.37349478 -0.33241788] \n",
      "STATE: [ 0.53871458  0.80443424 -0.09173666 -0.0816725 ] ACT: [-0.37335271 -0.33257744] \n",
      "STATE: [ 0.49728984  0.76752844 -0.11835638 -0.10544515] ACT: [-0.37302785 -0.33294177] \n",
      "STATE: [ 0.44702899  0.72299652 -0.14360245 -0.12723404] ACT: [-0.37729374 -0.32809973] \n",
      "STATE: [ 0.38820305  0.67170552 -0.1680741  -0.14654571] ACT: [-0.38737785 -0.31613036] \n",
      "STATE: [ 0.32094058  0.61465599 -0.19217849 -0.16299868] ACT: [-0.40153438 -0.29794319] \n",
      "STATE: [ 0.24592471  0.55205385 -0.21433108 -0.17886325] ACT: [-0.39730627 -0.30355844] \n",
      "STATE: [ 0.16411623  0.48369998 -0.23373849 -0.19529676] ACT: [-0.38254729 -0.32195896] \n",
      "STATE: [ 0.07629669  0.40958617 -0.25091299 -0.21175376] ACT: [-0.37158393 -0.33455251] \n",
      "STATE: [-0.01666658  0.32958839 -0.26560933 -0.22856509] ACT: [-0.35614285 -0.35094482] \n",
      "final state  [-0.01666658  0.32958839]\n",
      "STATE: [ 0.67504519  0.79028994 -0.03280851 -0.02894243] ACT: [-0.37495437 -0.33077065] \n",
      "STATE: [ 0.6528328   0.77069501 -0.06346396 -0.05598552] ACT: [-0.37495437 -0.33077065] \n",
      "STATE: [ 0.62060151  0.74224891 -0.09208941 -0.08127455] ACT: [-0.37474601 -0.33100669] \n",
      "STATE: [ 0.57900884  0.70553247 -0.11883621 -0.10490412] ACT: [-0.37474479 -0.33100807] \n",
      "STATE: [ 0.52858614  0.66118316 -0.14406486 -0.12671232] ACT: [-0.37745454 -0.32791473] \n",
      "STATE: [ 0.46915308  0.61098393 -0.16980874 -0.14342639] ACT: [-0.40226447 -0.28605213] \n",
      "STATE: [ 0.39945313  0.56988967 -0.19914269 -0.11741215] ACT: [-0.46260169  0.18973581] \n",
      "STATE: [ 0.32017515  0.53733952 -0.22650852 -0.09300045] ACT: [-0.4621094   0.19093168] \n",
      "STATE: [ 0.23387541  0.49770389 -0.24657068 -0.11324464] ACT: [-0.39916322 -0.30111247] \n",
      "STATE: [ 0.14174009  0.4505577  -0.26324377 -0.13470341] ACT: [-0.37547758 -0.33017659] \n",
      "STATE: [ 0.04436192  0.39616014 -0.27822336 -0.15542158] ACT: [-0.36862811 -0.33780663] \n",
      "STATE: [-0.0574242   0.33447574 -0.29081746 -0.17624115] ACT: [-0.35260014 -0.35450407] \n",
      "final state  [-0.0574242   0.33447574]\n",
      "STATE: [ 0.64707008  0.85661086 -0.03274696 -0.02901205] ACT: [-0.37425102 -0.33156624] \n",
      "STATE: [ 0.62489937  0.83696879 -0.06334491 -0.05612018] ACT: [-0.37425102 -0.33156624] \n",
      "STATE: [ 0.59272878  0.80845407 -0.09191597 -0.08147065] ACT: [-0.37403512 -0.33180978] \n",
      "STATE: [ 0.55121956  0.7716433  -0.11859775 -0.10517362] ACT: [-0.37387155 -0.33199407] \n",
      "STATE: [ 0.50096774  0.72709992 -0.14357664 -0.12726681] ACT: [-0.37442136 -0.33137387] \n",
      "STATE: [ 0.44227325  0.6756494  -0.16769853 -0.14700149] ACT: [-0.38336125 -0.32098933] \n",
      "STATE: [ 0.37500392  0.61862823 -0.19219811 -0.16291762] ACT: [-0.40576907 -0.29214973] \n",
      "STATE: [ 0.29885049  0.55775836 -0.21758121 -0.17391391] ACT: [-0.43424116 -0.24786007] \n",
      "STATE: [ 0.21563866  0.49144242 -0.2377481  -0.18947412] ACT: [-0.39366463 -0.30826637] \n",
      "STATE: [ 0.1263886   0.4193668  -0.25500017 -0.20593033] ACT: [-0.37547758 -0.33017659] \n",
      "STATE: [ 0.03195276  0.34141318 -0.26981667 -0.22272463] ACT: [-0.36058161 -0.3463826 ] \n",
      "STATE: [-0.06671765  0.25736601 -0.28191545 -0.24013479] ACT: [-0.34063427 -0.36601679] \n",
      "final state  [-0.06671765  0.25736601]\n",
      "STATE: [ 0.82659665  0.8433553  -0.03288807 -0.028852  ] ACT: [-0.3758636  -0.32973709] \n",
      "STATE: [ 0.8043304   0.8238216  -0.06361785 -0.05581058] ACT: [-0.3758636  -0.32973709] \n",
      "STATE: [ 0.77200807  0.79547899 -0.09234952 -0.08097888] ACT: [-0.37607529 -0.32949564] \n",
      "STATE: [ 0.73029889  0.75889495 -0.11916908 -0.10452583] ACT: [-0.37577139 -0.32984217] \n",
      "STATE: [ 0.67981813  0.71461117 -0.14423074 -0.12652508] ACT: [-0.37579579 -0.32981438] \n",
      "STATE: [ 0.62114433  0.66312965 -0.16763944 -0.14709007] ACT: [-0.37570107 -0.32992227] \n",
      "STATE: [ 0.55477793  0.60496527 -0.18961828 -0.16618394] ACT: [-0.37691637 -0.32853318] \n",
      "STATE: [ 0.4810421   0.55023479 -0.2106738  -0.1563728 ] ACT: [-0.38284815 -0.0125106 ] \n",
      "STATE: [ 0.40420934  0.51145829 -0.21952216 -0.11079001] ACT: [-0.25912947  0.40366648] \n",
      "STATE: [ 0.32291548  0.48723318 -0.23226819 -0.06921458] ACT: [-0.31031053  0.39205532] \n",
      "STATE: [ 0.23513909  0.45486025 -0.25078968 -0.0924941 ] ACT: [-0.38587532 -0.31796263] \n",
      "STATE: [ 0.14164789  0.41447306 -0.26711773 -0.11539196] ACT: [-0.37469855 -0.33106041] \n",
      "STATE: [ 0.04306297  0.36632568 -0.28167119 -0.13756394] ACT: [-0.36666355 -0.339938  ] \n",
      "STATE: [-0.05982036  0.31045121 -0.29395238 -0.15964136] ACT: [-0.35160986 -0.35548629] \n",
      "final state  [-0.05982036  0.31045121]\n",
      "STATE: [ 0.83341048  0.88070121 -0.03287081 -0.02887165] ACT: [-0.3756664  -0.32996175] \n",
      "STATE: [ 0.81115021  0.86116069 -0.06360076 -0.05583005] ACT: [-0.37585249 -0.32974976] \n",
      "STATE: [ 0.77883745  0.83280718 -0.09232218 -0.08101004] ACT: [-0.37594542 -0.32964381] \n",
      "STATE: [ 0.73714555  0.79620345 -0.11911971 -0.10458207] ACT: [-0.37549907 -0.33015216] \n",
      "STATE: [ 0.68668494  0.75189672 -0.14417317 -0.12659066] ACT: [-0.37566509 -0.32996324] \n",
      "STATE: [ 0.62803628  0.70038657 -0.1675676  -0.14717188] ACT: [-0.37549483 -0.33015698] \n",
      "STATE: [ 0.56171433  0.64217144 -0.18949128 -0.16632894] ACT: [-0.376232   -0.32931669] \n",
      "STATE: [ 0.48770407  0.57916335 -0.21145789 -0.18002311] ACT: [-0.39316546 -0.28125159] \n",
      "STATE: [ 0.40743229  0.53081884 -0.22934794 -0.13812717] ACT: [-0.36305106  0.34379344] \n",
      "STATE: [ 0.32086487  0.4956848  -0.24733549 -0.10038298] ACT: [-0.37758301  0.32776679] \n",
      "STATE: [ 0.22816101  0.45311882 -0.26486819 -0.12161708] ACT: [-0.38587532 -0.31796263] \n",
      "STATE: [ 0.13006569  0.40320751 -0.28027234 -0.14260374] ACT: [-0.37469855 -0.33106041] \n",
      "STATE: [ 0.02729159  0.34604067 -0.29364026 -0.16333382] ACT: [-0.36298051 -0.34386792] \n",
      "STATE: [-0.07916987  0.28141615 -0.30417562 -0.1846415 ] ACT: [-0.34063427 -0.36601679] \n",
      "final state  [-0.07916987  0.28141615]\n",
      "STATE: [ 0.75090098  0.72604229 -0.03288314 -0.02885761] ACT: [-0.37580726 -0.3298013 ] \n",
      "STATE: [ 0.72862868  0.7065155  -0.06363515 -0.05579084] ACT: [-0.37611399 -0.32945146] \n",
      "STATE: [ 0.6962995   0.6781807  -0.09236907 -0.08095657] ACT: [-0.37611399 -0.32945146] \n",
      "STATE: [ 0.65457503  0.64161411 -0.11921278 -0.10447598] ACT: [-0.37606205 -0.32951075] \n",
      "STATE: [ 0.60407473  0.59735261 -0.14428656 -0.12646142] ACT: [-0.37596707 -0.32961912] \n",
      "STATE: [ 0.5449139   0.54681799 -0.16903094 -0.14438464] ACT: [-0.39100786 -0.29968286] \n",
      "STATE: [ 0.48141023  0.50269919 -0.18143907 -0.12605372] ACT: [-0.26858034  0.10120772] \n",
      "STATE: [ 0.43313678  0.4720628  -0.13792413 -0.08753253] ACT: [0.36123425 0.34570192] \n",
      "STATE: [ 0.38002942  0.44742574 -0.15173532 -0.07039161] ACT: [-0.26128529  0.1302468 ] \n",
      "STATE: [ 0.31845146  0.41483824 -0.17593704 -0.09310715] ACT: [-0.39039255 -0.31239983] \n",
      "STATE: [ 0.24925889  0.37445861 -0.19769304 -0.11537036] ACT: [-0.38059276 -0.3242671 ] \n",
      "STATE: [ 0.1731437   0.32657689 -0.21747198 -0.13680493] ACT: [-0.37431481 -0.33149423] \n",
      "STATE: [ 0.09076355  0.27146029 -0.23537187 -0.15747601] ACT: [-0.36767416 -0.33884467] \n",
      "STATE: [ 0.0029228   0.20917249 -0.25097355 -0.17796513] ACT: [-0.35483382 -0.35226831] \n",
      "STATE: [-0.06530976  0.14442813 -0.19495019 -0.1849839 ] ACT: [ 0.4520368 -0.2136884] \n",
      "final state  [-0.06530976  0.14442813]\n",
      "STATE: [ 0.84665219  0.68832794 -0.03303156 -0.0286876 ] ACT: [-0.37750354 -0.32785832] \n",
      "STATE: [ 0.8242888   0.66890554 -0.06389542 -0.05549258] ACT: [-0.37750354 -0.32785832] \n",
      "STATE: [ 0.79184078  0.64070691 -0.09270863 -0.08056749] ACT: [-0.37721539 -0.32818981] \n",
      "STATE: [ 0.74996754  0.60431077 -0.11963782 -0.10398898] ACT: [-0.37729366 -0.32809983] \n",
      "STATE: [ 0.69930643  0.56023347 -0.14474602 -0.12593515] ACT: [-0.37667923 -0.32880505] \n",
      "STATE: [ 0.64051064  0.50889213 -0.16798797 -0.14668954] ACT: [-0.37418179 -0.33164437] \n",
      "STATE: [ 0.57746232  0.45239785 -0.18013804 -0.16141223] ACT: [-0.26484893 -0.27827647] \n",
      "STATE: [ 0.51868903  0.39836009 -0.16792371 -0.15439362] ACT: [ 0.00448891 -0.0408465 ] \n",
      "STATE: [ 0.47838351  0.34328621 -0.11515863 -0.15735392] ACT: [ 0.47708667 -0.14962722] \n",
      "STATE: [ 0.42966481  0.28123467 -0.13919629 -0.17729012] ACT: [-0.36108506 -0.34585774] \n",
      "STATE: [ 0.3727171   0.21306137 -0.16270772 -0.19478085] ACT: [-0.37309934 -0.33286165] \n",
      "STATE: [ 0.307881    0.1393961  -0.18524603 -0.21047221] ACT: [-0.3796114 -0.3254154] \n",
      "STATE: [ 0.23554395  0.0607532  -0.20667726 -0.22469402] ACT: [-0.38386296 -0.32038918] \n",
      "STATE: [ 0.15464082 -0.02029389 -0.23115182 -0.2315631 ] ACT: [-0.43471714 -0.2470243 ] \n",
      "final state  [ 0.15464082 -0.02029389]\n",
      "STATE: [ 0.86347105  0.73556956 -0.03300386 -0.02871947] ACT: [-0.37718698 -0.32822246] \n",
      "STATE: [ 0.84113606  0.71611449 -0.06381425 -0.0555859 ] ACT: [-0.37687161 -0.32858452] \n",
      "STATE: [ 0.80871542  0.6878844  -0.09263041 -0.08065741] ACT: [-0.37718824 -0.32822101] \n",
      "STATE: [ 0.76688     0.6514448  -0.11952978 -0.10411314] ACT: [-0.37689424 -0.32855857] \n",
      "STATE: [ 0.71625079  0.60733082 -0.14465487 -0.12603993] ACT: [-0.37679123 -0.3286767 ] \n",
      "STATE: [ 0.65743117  0.55601606 -0.16805605 -0.14661362] ACT: [-0.37593312 -0.32965784] \n",
      "STATE: [ 0.5912629   0.49763629 -0.18905221 -0.16679934] ACT: [-0.36599825 -0.34065419] \n",
      "STATE: [ 0.52690384  0.43930996 -0.18388302 -0.16664666] ACT: [-0.08271264 -0.12335453] \n",
      "STATE: [ 0.45845864  0.37194967 -0.19555771 -0.19245798] ACT: [-0.27133732 -0.4199715 ] \n",
      "STATE: [ 0.38328449  0.29859024 -0.2147833  -0.20959836] ACT: [-0.36638934 -0.34023353] \n",
      "STATE: [ 0.30153315  0.21994644 -0.23357524 -0.22469657] ACT: [-0.37585243 -0.32974983] \n",
      "STATE: [ 0.21356501  0.13644685 -0.25133754 -0.23857025] ACT: [-0.3781792  -0.32707872] \n",
      "STATE: [ 0.12003378  0.04813286 -0.26723209 -0.25232568] ACT: [-0.37015517 -0.33613264] \n",
      "STATE: [ 0.0449852  -0.02532561 -0.21442452 -0.20988136] ACT: [0.40309106 0.29583373] \n",
      "final state  [ 0.0449852  -0.02532561]\n",
      "After 6 REWARD:  (0.8942809998892326, array([-0.01802656,  0.18526031, -0.25714045, -0.19999943]), -0.25855440052197376)\n",
      "UPDATING THE ACTION MATRIX\n"
     ]
    },
    {
     "name": "stderr",
     "output_type": "stream",
     "text": [
      "100%|█████████████████████████████████████████████████████████████████████████████████████████████████████████████████████████| 25/25 [00:03<00:00,  6.97it/s]\n",
      "Generating Dynamics Dataset: 100%|██████████████████████████████████████████████████████████████████████████████████████████| 15/15 [00:00<00:00, 2575.62it/s]\n",
      "100%|████████████████████████████████████████████████████████████████████████████████████████████████████████████████████████| 45/45 [00:00<00:00, 201.32it/s]\n"
     ]
    },
    {
     "name": "stdout",
     "output_type": "stream",
     "text": [
      "Epoch 1, loss: 0.000, err: 0.020, val_loss: 0.001, val_err: 0.033\n"
     ]
    },
    {
     "name": "stderr",
     "output_type": "stream",
     "text": [
      "100%|████████████████████████████████████████████████████████████████████████████████████████████████████████████████████████| 45/45 [00:00<00:00, 208.61it/s]\n"
     ]
    },
    {
     "name": "stdout",
     "output_type": "stream",
     "text": [
      "Epoch 2, loss: 0.000, err: 0.020, val_loss: 0.001, val_err: 0.032\n"
     ]
    },
    {
     "name": "stderr",
     "output_type": "stream",
     "text": [
      "100%|████████████████████████████████████████████████████████████████████████████████████████████████████████████████████████| 45/45 [00:00<00:00, 206.53it/s]\n"
     ]
    },
    {
     "name": "stdout",
     "output_type": "stream",
     "text": [
      "Epoch 3, loss: 0.000, err: 0.020, val_loss: 0.001, val_err: 0.032\n"
     ]
    },
    {
     "name": "stderr",
     "output_type": "stream",
     "text": [
      "100%|████████████████████████████████████████████████████████████████████████████████████████████████████████████████████████| 45/45 [00:00<00:00, 193.29it/s]\n"
     ]
    },
    {
     "name": "stdout",
     "output_type": "stream",
     "text": [
      "Epoch 4, loss: 0.000, err: 0.020, val_loss: 0.001, val_err: 0.032\n"
     ]
    },
    {
     "name": "stderr",
     "output_type": "stream",
     "text": [
      "100%|████████████████████████████████████████████████████████████████████████████████████████████████████████████████████████| 45/45 [00:00<00:00, 205.89it/s]\n"
     ]
    },
    {
     "name": "stdout",
     "output_type": "stream",
     "text": [
      "Epoch 5, loss: 0.000, err: 0.020, val_loss: 0.001, val_err: 0.032\n"
     ]
    },
    {
     "name": "stderr",
     "output_type": "stream",
     "text": [
      "100%|████████████████████████████████████████████████████████████████████████████████████████████████████████████████████████| 45/45 [00:00<00:00, 206.71it/s]\n"
     ]
    },
    {
     "name": "stdout",
     "output_type": "stream",
     "text": [
      "Epoch 6, loss: 0.000, err: 0.020, val_loss: 0.001, val_err: 0.033\n"
     ]
    },
    {
     "name": "stderr",
     "output_type": "stream",
     "text": [
      "100%|████████████████████████████████████████████████████████████████████████████████████████████████████████████████████████| 45/45 [00:00<00:00, 205.55it/s]\n"
     ]
    },
    {
     "name": "stdout",
     "output_type": "stream",
     "text": [
      "Epoch 7, loss: 0.000, err: 0.020, val_loss: 0.001, val_err: 0.032\n"
     ]
    },
    {
     "name": "stderr",
     "output_type": "stream",
     "text": [
      "100%|████████████████████████████████████████████████████████████████████████████████████████████████████████████████████████| 45/45 [00:00<00:00, 208.63it/s]\n"
     ]
    },
    {
     "name": "stdout",
     "output_type": "stream",
     "text": [
      "Epoch 8, loss: 0.000, err: 0.020, val_loss: 0.001, val_err: 0.032\n"
     ]
    },
    {
     "name": "stderr",
     "output_type": "stream",
     "text": [
      "100%|████████████████████████████████████████████████████████████████████████████████████████████████████████████████████████| 45/45 [00:00<00:00, 205.45it/s]\n"
     ]
    },
    {
     "name": "stdout",
     "output_type": "stream",
     "text": [
      "Epoch 9, loss: 0.000, err: 0.020, val_loss: 0.001, val_err: 0.031\n"
     ]
    },
    {
     "name": "stderr",
     "output_type": "stream",
     "text": [
      "100%|████████████████████████████████████████████████████████████████████████████████████████████████████████████████████████| 45/45 [00:00<00:00, 205.83it/s]\n"
     ]
    },
    {
     "name": "stdout",
     "output_type": "stream",
     "text": [
      "Epoch 10, loss: 0.000, err: 0.020, val_loss: 0.001, val_err: 0.033\n"
     ]
    },
    {
     "name": "stderr",
     "output_type": "stream",
     "text": [
      "100%|████████████████████████████████████████████████████████████████████████████████████████████████████████████████████████| 45/45 [00:00<00:00, 207.24it/s]\n"
     ]
    },
    {
     "name": "stdout",
     "output_type": "stream",
     "text": [
      "Epoch 11, loss: 0.000, err: 0.020, val_loss: 0.001, val_err: 0.032\n"
     ]
    },
    {
     "name": "stderr",
     "output_type": "stream",
     "text": [
      "100%|████████████████████████████████████████████████████████████████████████████████████████████████████████████████████████| 45/45 [00:00<00:00, 207.66it/s]\n"
     ]
    },
    {
     "name": "stdout",
     "output_type": "stream",
     "text": [
      "Epoch 12, loss: 0.000, err: 0.020, val_loss: 0.001, val_err: 0.031\n"
     ]
    },
    {
     "name": "stderr",
     "output_type": "stream",
     "text": [
      "100%|████████████████████████████████████████████████████████████████████████████████████████████████████████████████████████| 45/45 [00:00<00:00, 206.18it/s]\n"
     ]
    },
    {
     "name": "stdout",
     "output_type": "stream",
     "text": [
      "Epoch 13, loss: 0.000, err: 0.020, val_loss: 0.001, val_err: 0.031\n"
     ]
    },
    {
     "name": "stderr",
     "output_type": "stream",
     "text": [
      "100%|████████████████████████████████████████████████████████████████████████████████████████████████████████████████████████| 45/45 [00:00<00:00, 206.16it/s]\n"
     ]
    },
    {
     "name": "stdout",
     "output_type": "stream",
     "text": [
      "Epoch 14, loss: 0.000, err: 0.020, val_loss: 0.001, val_err: 0.032\n"
     ]
    },
    {
     "name": "stderr",
     "output_type": "stream",
     "text": [
      "100%|████████████████████████████████████████████████████████████████████████████████████████████████████████████████████████| 45/45 [00:00<00:00, 205.67it/s]\n"
     ]
    },
    {
     "name": "stdout",
     "output_type": "stream",
     "text": [
      "Epoch 15, loss: 0.000, err: 0.019, val_loss: 0.001, val_err: 0.032\n"
     ]
    },
    {
     "name": "stderr",
     "output_type": "stream",
     "text": [
      "100%|████████████████████████████████████████████████████████████████████████████████████████████████████████████████████████| 45/45 [00:00<00:00, 208.69it/s]\n"
     ]
    },
    {
     "name": "stdout",
     "output_type": "stream",
     "text": [
      "Epoch 16, loss: 0.000, err: 0.019, val_loss: 0.001, val_err: 0.032\n"
     ]
    },
    {
     "name": "stderr",
     "output_type": "stream",
     "text": [
      "100%|████████████████████████████████████████████████████████████████████████████████████████████████████████████████████████| 45/45 [00:00<00:00, 210.16it/s]\n"
     ]
    },
    {
     "name": "stdout",
     "output_type": "stream",
     "text": [
      "Epoch 17, loss: 0.000, err: 0.020, val_loss: 0.001, val_err: 0.032\n"
     ]
    },
    {
     "name": "stderr",
     "output_type": "stream",
     "text": [
      "100%|████████████████████████████████████████████████████████████████████████████████████████████████████████████████████████| 45/45 [00:00<00:00, 208.53it/s]\n"
     ]
    },
    {
     "name": "stdout",
     "output_type": "stream",
     "text": [
      "Epoch 18, loss: 0.000, err: 0.020, val_loss: 0.001, val_err: 0.031\n"
     ]
    },
    {
     "name": "stderr",
     "output_type": "stream",
     "text": [
      "100%|████████████████████████████████████████████████████████████████████████████████████████████████████████████████████████| 45/45 [00:00<00:00, 209.41it/s]\n"
     ]
    },
    {
     "name": "stdout",
     "output_type": "stream",
     "text": [
      "Epoch 19, loss: 0.000, err: 0.019, val_loss: 0.001, val_err: 0.030\n"
     ]
    },
    {
     "name": "stderr",
     "output_type": "stream",
     "text": [
      "100%|████████████████████████████████████████████████████████████████████████████████████████████████████████████████████████| 45/45 [00:00<00:00, 207.36it/s]\n"
     ]
    },
    {
     "name": "stdout",
     "output_type": "stream",
     "text": [
      "Epoch 20, loss: 0.000, err: 0.019, val_loss: 0.001, val_err: 0.031\n"
     ]
    },
    {
     "name": "stderr",
     "output_type": "stream",
     "text": [
      "100%|████████████████████████████████████████████████████████████████████████████████████████████████████████████████████████| 45/45 [00:00<00:00, 210.91it/s]\n"
     ]
    },
    {
     "name": "stdout",
     "output_type": "stream",
     "text": [
      "Epoch 21, loss: 0.000, err: 0.019, val_loss: 0.001, val_err: 0.032\n"
     ]
    },
    {
     "name": "stderr",
     "output_type": "stream",
     "text": [
      "100%|████████████████████████████████████████████████████████████████████████████████████████████████████████████████████████| 45/45 [00:00<00:00, 207.94it/s]\n"
     ]
    },
    {
     "name": "stdout",
     "output_type": "stream",
     "text": [
      "Epoch 22, loss: 0.000, err: 0.020, val_loss: 0.001, val_err: 0.032\n"
     ]
    },
    {
     "name": "stderr",
     "output_type": "stream",
     "text": [
      "100%|████████████████████████████████████████████████████████████████████████████████████████████████████████████████████████| 45/45 [00:00<00:00, 205.82it/s]\n"
     ]
    },
    {
     "name": "stdout",
     "output_type": "stream",
     "text": [
      "Epoch 23, loss: 0.000, err: 0.019, val_loss: 0.001, val_err: 0.032\n"
     ]
    },
    {
     "name": "stderr",
     "output_type": "stream",
     "text": [
      "100%|████████████████████████████████████████████████████████████████████████████████████████████████████████████████████████| 45/45 [00:00<00:00, 206.83it/s]\n"
     ]
    },
    {
     "name": "stdout",
     "output_type": "stream",
     "text": [
      "Epoch 24, loss: 0.000, err: 0.019, val_loss: 0.001, val_err: 0.032\n"
     ]
    },
    {
     "name": "stderr",
     "output_type": "stream",
     "text": [
      "100%|████████████████████████████████████████████████████████████████████████████████████████████████████████████████████████| 45/45 [00:00<00:00, 209.03it/s]\n"
     ]
    },
    {
     "name": "stdout",
     "output_type": "stream",
     "text": [
      "Epoch 25, loss: 0.000, err: 0.019, val_loss: 0.001, val_err: 0.031\n"
     ]
    },
    {
     "name": "stderr",
     "output_type": "stream",
     "text": [
      "100%|████████████████████████████████████████████████████████████████████████████████████████████████████████████████████████| 45/45 [00:00<00:00, 207.19it/s]\n"
     ]
    },
    {
     "name": "stdout",
     "output_type": "stream",
     "text": [
      "Epoch 26, loss: 0.000, err: 0.019, val_loss: 0.001, val_err: 0.030\n"
     ]
    },
    {
     "name": "stderr",
     "output_type": "stream",
     "text": [
      "100%|████████████████████████████████████████████████████████████████████████████████████████████████████████████████████████| 45/45 [00:00<00:00, 209.48it/s]\n"
     ]
    },
    {
     "name": "stdout",
     "output_type": "stream",
     "text": [
      "Epoch 27, loss: 0.000, err: 0.019, val_loss: 0.001, val_err: 0.031\n"
     ]
    },
    {
     "name": "stderr",
     "output_type": "stream",
     "text": [
      "100%|████████████████████████████████████████████████████████████████████████████████████████████████████████████████████████| 45/45 [00:00<00:00, 207.88it/s]\n"
     ]
    },
    {
     "name": "stdout",
     "output_type": "stream",
     "text": [
      "Epoch 28, loss: 0.000, err: 0.019, val_loss: 0.001, val_err: 0.032\n"
     ]
    },
    {
     "name": "stderr",
     "output_type": "stream",
     "text": [
      "100%|████████████████████████████████████████████████████████████████████████████████████████████████████████████████████████| 45/45 [00:00<00:00, 208.09it/s]\n"
     ]
    },
    {
     "name": "stdout",
     "output_type": "stream",
     "text": [
      "Epoch 29, loss: 0.000, err: 0.019, val_loss: 0.001, val_err: 0.031\n"
     ]
    },
    {
     "name": "stderr",
     "output_type": "stream",
     "text": [
      "100%|████████████████████████████████████████████████████████████████████████████████████████████████████████████████████████| 45/45 [00:00<00:00, 208.49it/s]\n"
     ]
    },
    {
     "name": "stdout",
     "output_type": "stream",
     "text": [
      "Epoch 30, loss: 0.000, err: 0.019, val_loss: 0.001, val_err: 0.031\n"
     ]
    },
    {
     "name": "stderr",
     "output_type": "stream",
     "text": [
      "100%|████████████████████████████████████████████████████████████████████████████████████████████████████████████████████████| 45/45 [00:00<00:00, 208.02it/s]\n"
     ]
    },
    {
     "name": "stdout",
     "output_type": "stream",
     "text": [
      "Epoch 31, loss: 0.000, err: 0.019, val_loss: 0.001, val_err: 0.030\n"
     ]
    },
    {
     "name": "stderr",
     "output_type": "stream",
     "text": [
      "100%|████████████████████████████████████████████████████████████████████████████████████████████████████████████████████████| 45/45 [00:00<00:00, 209.20it/s]\n"
     ]
    },
    {
     "name": "stdout",
     "output_type": "stream",
     "text": [
      "Epoch 32, loss: 0.000, err: 0.019, val_loss: 0.001, val_err: 0.031\n"
     ]
    },
    {
     "name": "stderr",
     "output_type": "stream",
     "text": [
      "100%|████████████████████████████████████████████████████████████████████████████████████████████████████████████████████████| 45/45 [00:00<00:00, 206.29it/s]\n"
     ]
    },
    {
     "name": "stdout",
     "output_type": "stream",
     "text": [
      "Epoch 33, loss: 0.000, err: 0.019, val_loss: 0.001, val_err: 0.030\n"
     ]
    },
    {
     "name": "stderr",
     "output_type": "stream",
     "text": [
      "100%|████████████████████████████████████████████████████████████████████████████████████████████████████████████████████████| 45/45 [00:00<00:00, 207.84it/s]\n"
     ]
    },
    {
     "name": "stdout",
     "output_type": "stream",
     "text": [
      "Epoch 34, loss: 0.000, err: 0.019, val_loss: 0.001, val_err: 0.029\n"
     ]
    },
    {
     "name": "stderr",
     "output_type": "stream",
     "text": [
      "100%|████████████████████████████████████████████████████████████████████████████████████████████████████████████████████████| 45/45 [00:00<00:00, 206.33it/s]\n"
     ]
    },
    {
     "name": "stdout",
     "output_type": "stream",
     "text": [
      "Epoch 35, loss: 0.000, err: 0.019, val_loss: 0.001, val_err: 0.031\n"
     ]
    },
    {
     "name": "stderr",
     "output_type": "stream",
     "text": [
      "100%|████████████████████████████████████████████████████████████████████████████████████████████████████████████████████████| 45/45 [00:00<00:00, 205.86it/s]\n"
     ]
    },
    {
     "name": "stdout",
     "output_type": "stream",
     "text": [
      "Epoch 36, loss: 0.000, err: 0.019, val_loss: 0.001, val_err: 0.029\n"
     ]
    },
    {
     "name": "stderr",
     "output_type": "stream",
     "text": [
      "100%|████████████████████████████████████████████████████████████████████████████████████████████████████████████████████████| 45/45 [00:00<00:00, 206.91it/s]\n"
     ]
    },
    {
     "name": "stdout",
     "output_type": "stream",
     "text": [
      "Epoch 37, loss: 0.000, err: 0.019, val_loss: 0.001, val_err: 0.029\n"
     ]
    },
    {
     "name": "stderr",
     "output_type": "stream",
     "text": [
      "100%|████████████████████████████████████████████████████████████████████████████████████████████████████████████████████████| 45/45 [00:00<00:00, 205.33it/s]\n"
     ]
    },
    {
     "name": "stdout",
     "output_type": "stream",
     "text": [
      "Epoch 38, loss: 0.000, err: 0.019, val_loss: 0.001, val_err: 0.031\n"
     ]
    },
    {
     "name": "stderr",
     "output_type": "stream",
     "text": [
      "100%|████████████████████████████████████████████████████████████████████████████████████████████████████████████████████████| 45/45 [00:00<00:00, 205.91it/s]\n"
     ]
    },
    {
     "name": "stdout",
     "output_type": "stream",
     "text": [
      "Epoch 39, loss: 0.000, err: 0.021, val_loss: 0.001, val_err: 0.029\n"
     ]
    },
    {
     "name": "stderr",
     "output_type": "stream",
     "text": [
      "100%|████████████████████████████████████████████████████████████████████████████████████████████████████████████████████████| 10/10 [00:00<00:00, 546.65it/s]\n"
     ]
    },
    {
     "name": "stdout",
     "output_type": "stream",
     "text": [
      "STATE: [ 0.86286186  0.87464322 -0.03271266 -0.02905072] ACT: [-0.37385899 -0.33200821] \n",
      "STATE: [ 0.84073309  0.85495393 -0.06322504 -0.05625513] ACT: [-0.3732474  -0.33269562] \n",
      "STATE: [ 0.80863191  0.82636112 -0.09171767 -0.08169374] ACT: [-0.37304882 -0.33291827] \n",
      "STATE: [ 0.76720988  0.7894523  -0.11834864 -0.10545378] ACT: [-0.37314214 -0.33281367] \n",
      "STATE: [ 0.71708308  0.74476829 -0.14321944 -0.12766858] ACT: [-0.3729993  -0.33297376] \n",
      "STATE: [ 0.65882723  0.69281433 -0.16644529 -0.14843988] ACT: [-0.37285284 -0.33313774] \n",
      "STATE: [ 0.59295221  0.63409397 -0.18821433 -0.16777248] ACT: [-0.37362295 -0.33227382] \n",
      "STATE: [ 0.52064868  0.57069948 -0.20658153 -0.1811271 ] ACT: [-0.35107161 -0.27845358] \n",
      "STATE: [ 0.44241586  0.52232093 -0.22352233 -0.13822445] ACT: [-0.3485453   0.35447066] \n",
      "STATE: [ 0.36436105  0.49135036 -0.22301375 -0.08848732] ACT: [-0.16182938  0.46475593] \n",
      "STATE: [ 0.27918151  0.45322084 -0.24337011 -0.10894148] ACT: [-0.39990448 -0.30012731] \n",
      "STATE: [ 0.18801187  0.40757479 -0.26048469 -0.1304173 ] ACT: [-0.37812275 -0.32714398] \n",
      "STATE: [ 0.09159809  0.35451158 -0.27546793 -0.15160918] ACT: [-0.36660059 -0.34000589] \n",
      "STATE: [-0.00906899  0.29386146 -0.28762022 -0.17328604] ACT: [-0.34548425 -0.36144243] \n",
      "final state  [-0.00906899  0.29386146]\n",
      "STATE: [ 0.73470919  0.67014831 -0.03271592 -0.02904705] ACT: [-0.37389618 -0.33196633] \n",
      "STATE: [ 0.71254393  0.65050011 -0.06332932 -0.05613773] ACT: [-0.37440438 -0.33139305] \n",
      "STATE: [ 0.68038142  0.62197628 -0.09189288 -0.08149665] ACT: [-0.37393774 -0.33191952] \n",
      "STATE: [ 0.63891146  0.58512142 -0.1184856  -0.10529959] ACT: [-0.37283645 -0.33315609] \n",
      "STATE: [ 0.59035196  0.54037965 -0.13874141 -0.12783362] ACT: [-0.32035916 -0.33650644] \n",
      "STATE: [ 0.53768455  0.49266105 -0.15047832 -0.13633885] ACT: [-0.23819221 -0.19307789] \n",
      "STATE: [ 0.48771633  0.44338648 -0.14276634 -0.14078451] ACT: [-0.02472182 -0.15306167] \n",
      "STATE: [ 0.45282476  0.4071073  -0.09969019 -0.1036548 ] ACT: [0.38522418 0.31875121] \n",
      "COLLIDED\n",
      "STATE: [ 0.40916131  0.36262061 -0.12475272 -0.12710482] ACT: [-0.36119654 -0.34574132] \n",
      "STATE: [ 0.35696915  0.31082367 -0.14912046 -0.14799125] ACT: [-0.37205303 -0.33403075] \n",
      "STATE: [ 0.29675813  0.25225202 -0.1720315  -0.16734759] ACT: [-0.37368087 -0.33220867] \n",
      "STATE: [ 0.22907635  0.18732568 -0.1933765  -0.18550382] ACT: [-0.37296648 -0.33301052] \n",
      "STATE: [ 0.15440329  0.11647379 -0.2133516  -0.20243396] ACT: [-0.37331915 -0.33261511] \n",
      "STATE: [ 0.07452504  0.03876725 -0.22822358 -0.2220187 ] ACT: [-0.3299792  -0.37565107] \n",
      "STATE: [ 0.01142875 -0.02377491 -0.18027511 -0.17869188] ACT: [0.37681483 0.32864964] \n",
      "final state  [ 0.01142875 -0.02377491]\n",
      "STATE: [ 0.64016202  0.59932586 -0.03233428 -0.02947129] ACT: [-0.36953458 -0.33681478] \n",
      "STATE: [ 0.61832988  0.57952051 -0.06237756 -0.05658671] ACT: [-0.36760257 -0.33199391] \n",
      "STATE: [ 0.58811947  0.55070938 -0.08631546 -0.08231752] ACT: [-0.32035916 -0.33650644] \n",
      "STATE: [ 0.55259698  0.51787597 -0.10149283 -0.09380975] ACT: [-0.23819221 -0.19307789] \n",
      "STATE: [ 0.5171514   0.49306638 -0.10127308 -0.07088455] ACT: [-0.07360819  0.1916449 ] \n",
      "STATE: [ 0.47291227  0.45935754 -0.12639751 -0.09631097] ACT: [-0.36309116 -0.34375108] \n",
      "STATE: [ 0.44337383  0.43762259 -0.08439556 -0.06209983] ACT: [0.38522418 0.31875121] \n",
      "COLLIDED\n",
      "STATE: [ 0.40458611  0.40685899 -0.11082204 -0.087896  ] ACT: [-0.36531366 -0.34138824] \n",
      "STATE: [ 0.3568441   0.36800344 -0.13640575 -0.11101587] ACT: [-0.3755018  -0.33014906] \n",
      "STATE: [ 0.30076004  0.32155902 -0.16024016 -0.13269835] ACT: [-0.37469749 -0.33106161] \n",
      "STATE: [ 0.23691847  0.26798193 -0.18240448 -0.15307737] ACT: [-0.37348671 -0.33242695] \n",
      "STATE: [ 0.16590294  0.20765722 -0.20290152 -0.17235632] ACT: [-0.37105518 -0.33513886] \n",
      "STATE: [ 0.08806551  0.14116069 -0.22239266 -0.18999008] ACT: [-0.37493206 -0.33079593] \n",
      "STATE: [ 0.02642531  0.08958751 -0.17611484 -0.14735195] ACT: [0.36209488 0.34480037] \n",
      "STATE: [-0.01974699  0.05159653 -0.13192086 -0.10854567] ACT: [0.37298798 0.33298643] \n",
      "final state  [-0.01974699  0.05159653]\n",
      "STATE: [ 0.60066246  0.69789022 -0.0327771  -0.028978  ] ACT: [-0.37459541 -0.33117711] \n",
      "STATE: [ 0.57836314  0.67839493 -0.06371234 -0.05570084] ACT: [-0.37812841 -0.32713744] \n",
      "STATE: [ 0.54580714  0.65032445 -0.09301716 -0.08020137] ACT: [-0.38269648 -0.32178161] \n",
      "STATE: [ 0.50265786  0.61801684 -0.12328363 -0.09230746] ACT: [-0.41566547 -0.19850637] \n",
      "STATE: [ 0.44753975  0.59013545 -0.15748032 -0.07966112] ACT: [-0.48328201  0.07529901] \n",
      "STATE: [ 0.38352016  0.57273901 -0.18291312 -0.04970411] ACT: [-0.4087708   0.28261992] \n",
      "STATE: [ 0.308702    0.55340574 -0.21376618 -0.05523791] ACT: [-0.48979121 -0.10052148] \n",
      "STATE: [ 0.22650947  0.52619964 -0.2348358  -0.07773171] ACT: [-0.40112032 -0.2985004 ] \n",
      "STATE: [ 0.13819717  0.49068397 -0.25232085 -0.10147334] ACT: [-0.37595602 -0.32963172] \n",
      "STATE: [ 0.04456177  0.4469705  -0.2675297  -0.12489562] ACT: [-0.36305597 -0.34378825] \n",
      "STATE: [-0.05346006  0.39500974 -0.28006237 -0.14845932] ACT: [-0.34387789 -0.36297107] \n",
      "final state  [-0.05346006  0.39500974]\n",
      "STATE: [ 0.82034716  0.74046702 -0.03275511 -0.02900285] ACT: [-0.37434413 -0.33146112] \n",
      "STATE: [ 0.79817093  0.72083119 -0.06336067 -0.05610238] ACT: [-0.37434413 -0.33146112] \n",
      "STATE: [ 0.76599068  0.69232737 -0.09194359 -0.08143948] ACT: [-0.37418244 -0.33164364] \n",
      "STATE: [ 0.72445844  0.65554257 -0.11866352 -0.10509942] ACT: [-0.37432835 -0.33147894] \n",
      "STATE: [ 0.67419992  0.61100674 -0.14359578 -0.12724523] ACT: [-0.37393774 -0.33191952] \n",
      "STATE: [ 0.61587426  0.55913192 -0.16664474 -0.14821376] ACT: [-0.37111355 -0.33507422] \n",
      "STATE: [ 0.55156522  0.50035588 -0.18374011 -0.16793154] ACT: [-0.32035916 -0.33650644] \n",
      "STATE: [ 0.48922222  0.45130615 -0.17812288 -0.14014211] ACT: [-0.07360819  0.1916449 ] \n",
      "COLLIDED\n",
      "STATE: [ 0.44276796  0.41523705 -0.13272645 -0.10305455] ACT: [0.38522418 0.31875121] \n",
      "COLLIDED\n",
      "STATE: [ 0.38779013  0.37150711 -0.1570795  -0.1249427 ] ACT: [-0.37786546 -0.32744113] \n",
      "STATE: [ 0.3250261   0.32041725 -0.1793258  -0.14597102] ACT: [-0.37205303 -0.33403075] \n",
      "STATE: [ 0.25494293  0.26249959 -0.20023763 -0.16547903] ACT: [-0.37348671 -0.33242695] \n",
      "STATE: [ 0.1780535   0.19816573 -0.21968409 -0.18381102] ACT: [-0.37242343 -0.33361772] \n",
      "STATE: [ 0.09472764  0.12792316 -0.23807388 -0.20069307] ACT: [-0.37493206 -0.33079593] \n",
      "STATE: [ 0.00739049  0.07431567 -0.24953472 -0.15316425] ACT: [-0.30953653  0.3926667 ] \n",
      "STATE: [-0.06256346  0.03416149 -0.19986843 -0.11472623] ACT: [0.38046375 0.32441846] \n",
      "final state  [-0.06256346  0.03416149]\n",
      "STATE: [ 0.71458837  0.78773942 -0.03256369 -0.02921761] ACT: [-0.37215641 -0.33391556] \n",
      "STATE: [ 0.69254173  0.76795819 -0.06299038 -0.05651782] ACT: [-0.37215641 -0.33391556] \n",
      "STATE: [ 0.66054487  0.73924865 -0.09141962 -0.08202724] ACT: [-0.37214833 -0.33392458] \n",
      "STATE: [ 0.61925639  0.70219047 -0.11796709 -0.10588052] ACT: [-0.37196442 -0.33412942] \n",
      "STATE: [ 0.56922041  0.65740507 -0.14295994 -0.12795829] ACT: [-0.37410792 -0.3317277 ] \n",
      "STATE: [ 0.51025246  0.6063255  -0.16847985 -0.14594164] ACT: [-0.39887609 -0.30149273] \n",
      "STATE: [ 0.44166691  0.56545894 -0.19595872 -0.11676157] ACT: [-0.44040402  0.22403023] \n",
      "STATE: [ 0.36722179  0.53854958 -0.21270034 -0.07688391] ACT: [-0.33830194  0.36817359] \n",
      "STATE: [ 0.28341349  0.50779821 -0.23945229 -0.08786106] ACT: [-0.46526175 -0.1831161 ] \n",
      "STATE: [ 0.19329086  0.46932343 -0.25749323 -0.10992794] ACT: [-0.38577137 -0.31808874] \n",
      "STATE: [ 0.09780513  0.42301532 -0.27281637 -0.13230887] ACT: [-0.36824156 -0.33822797] \n",
      "STATE: [-0.00209842  0.36877699 -0.28543871 -0.15496666] ACT: [-0.34886766 -0.35817783] \n",
      "final state  [-0.00209842  0.36877699]\n",
      "STATE: [ 0.64822073  0.61698534 -0.03261649 -0.02915866] ACT: [-0.37275987 -0.33324178] \n",
      "STATE: [ 0.62613835  0.59724402 -0.06309252 -0.05640377] ACT: [-0.37275987 -0.33324178] \n",
      "STATE: [ 0.5942473   0.56863091 -0.0911173  -0.08175174] ACT: [-0.36760257 -0.33199391] \n",
      "STATE: [ 0.55686854  0.53690054 -0.10679644 -0.09065819] ACT: [-0.24752819 -0.16310175] \n",
      "STATE: [ 0.51575233  0.51394527 -0.11747488 -0.0655865 ] ACT: [-0.20213659  0.21853998] \n",
      "STATE: [ 0.48871718  0.50273873 -0.07724331 -0.03201869] ACT: [0.37168318 0.33444224] \n",
      "STATE: [ 0.45189177  0.48291832 -0.10521545 -0.05662974] ACT: [-0.37761404 -0.30528314] \n",
      "STATE: [ 0.42730012  0.47615011 -0.07026185 -0.01933774] ACT: [0.32055806 0.38372194] \n",
      "STATE: [ 0.4104435   0.48386186 -0.04816178  0.02203357] ACT: [0.19987592 0.4583117 ] \n",
      "STATE: [ 0.3817417   0.48289844 -0.08200514 -0.00275264] ACT: [-0.42290268 -0.2667458 ] \n",
      "STATE: [ 0.34267638  0.47280684 -0.1116152  -0.02883313] ACT: [-0.39990448 -0.30012731] \n",
      "STATE: [ 0.29411834  0.45393736 -0.13873726 -0.05391279] ACT: [-0.39367783 -0.30824952] \n",
      "STATE: [ 0.23716691  0.42628741 -0.16271837 -0.07899986] ACT: [-0.37812275 -0.32714398] \n",
      "STATE: [ 0.17258768  0.39019021 -0.18451208 -0.10313486] ACT: [-0.37110979 -0.33507839] \n",
      "STATE: [ 0.10111146  0.34595074 -0.20421778 -0.1263985 ] ACT: [-0.36359201 -0.34322129] \n",
      "STATE: [ 0.02351728  0.29376795 -0.22169766 -0.14909367] ACT: [-0.35293341 -0.35417229] \n",
      "STATE: [-0.05778251  0.2324768  -0.23228511 -0.17511758] ACT: [-0.28727265 -0.40923639] \n",
      "final state  [-0.05778251  0.2324768 ]\n",
      "STATE: [ 0.62356976  0.73112149 -0.03249316 -0.02929603] ACT: [-0.37135039 -0.33481172] \n",
      "STATE: [ 0.60157088  0.71128717 -0.06285395 -0.0566695 ] ACT: [-0.37135039 -0.33481172] \n",
      "STATE: [ 0.56954368  0.68261217 -0.09150626 -0.08192856] ACT: [-0.37459541 -0.33117711] \n",
      "STATE: [ 0.5278982   0.64596441 -0.11898711 -0.10470789] ACT: [-0.38269648 -0.32178161] \n",
      "STATE: [ 0.47448837  0.60763192 -0.15259951 -0.1095214 ] ACT: [-0.47338208 -0.1335425 ] \n",
      "STATE: [ 0.41030529  0.57734705 -0.18338023 -0.0865282 ] ACT: [-0.4662293   0.18063842] \n",
      "STATE: [ 0.33755288  0.55748229 -0.20786403 -0.05675645] ACT: [-0.41735006  0.27535237] \n",
      "STATE: [ 0.25635513  0.53119381 -0.23199356 -0.07510995] ACT: [-0.43166402 -0.25232156] \n",
      "STATE: [ 0.16876582  0.49677605 -0.25025517 -0.09833646] ACT: [-0.38269928 -0.32177828] \n",
      "STATE: [ 0.07571443  0.45418596 -0.26586111 -0.12168597] ACT: [-0.366045   -0.34060396] \n",
      "STATE: [-0.02191547  0.40342256 -0.27894259 -0.14503827] ACT: [-0.34889844 -0.35814785] \n",
      "final state  [-0.02191547  0.40342256]\n",
      "STATE: [ 0.79635255  0.60615062 -0.03286262 -0.02888098] ACT: [-0.3755728  -0.33006829] \n",
      "STATE: [ 0.77409288  0.58660943 -0.06359906 -0.05583198] ACT: [-0.37592054 -0.32967219] \n",
      "STATE: [ 0.74178803  0.5582469  -0.09229957 -0.0810358 ] ACT: [-0.37570515 -0.32991762] \n",
      "STATE: [ 0.70018695  0.52154065 -0.11886024 -0.10487498] ACT: [-0.37277515 -0.33322468] \n",
      "STATE: [ 0.65015169  0.47676317 -0.14295788 -0.12793567] ACT: [-0.36454681 -0.34220699] \n",
      "STATE: [ 0.59634163  0.42133553 -0.15374303 -0.15836468] ACT: [-0.23047727 -0.44371187] \n",
      "STATE: [ 0.55174436  0.35532586 -0.12742078 -0.18859904] ACT: [ 0.18551847 -0.46430905] \n",
      "STATE: [ 0.50009939  0.28202981 -0.14755705 -0.20941728] ACT: [-0.32569444 -0.37937202] \n",
      "STATE: [ 0.4408607   0.20287387 -0.16925342 -0.22615986] ACT: [-0.35862627 -0.34840666] \n",
      "STATE: [ 0.37397137  0.11884558 -0.19111235 -0.24008082] ACT: [-0.37675637 -0.32871665] \n",
      "STATE: [ 0.29949391  0.03079193 -0.21279275 -0.25158184] ACT: [-0.3911103  -0.31150077] \n",
      "STATE: [ 0.21634165 -0.05859194 -0.2375779  -0.2553825 ] ACT: [-0.4428534  -0.23212252] \n",
      "final state  [ 0.21634165 -0.05859194]\n",
      "STATE: [ 0.6908887   0.70995908 -0.03265278 -0.02911801] ACT: [-0.3731746  -0.33277728] \n",
      "STATE: [ 0.66879523  0.69023019 -0.06312422 -0.05636827] ACT: [-0.37273464 -0.33326999] \n",
      "STATE: [ 0.63670943  0.66162011 -0.0916737  -0.08174306] ACT: [-0.37362295 -0.33227382] \n",
      "STATE: [ 0.59524071  0.62476406 -0.11848206 -0.10530302] ACT: [-0.37513652 -0.33056405] \n",
      "STATE: [ 0.54574181  0.58179903 -0.14142544 -0.1227572 ] ACT: [-0.35107161 -0.27845358] \n",
      "STATE: [ 0.49010999  0.54560902 -0.15894806 -0.10340005] ACT: [-0.30632757  0.12915672] \n",
      "STATE: [ 0.43353359  0.52142438 -0.16164683 -0.06909896] ACT: [-0.15005418  0.31446244] \n",
      "STATE: [ 0.375714    0.51306002 -0.16519883 -0.02389819] ACT: [-0.16182938  0.46475593] \n",
      "STATE: [ 0.30850581  0.49745478 -0.19202342 -0.04458639] ACT: [-0.43046589 -0.25436022] \n",
      "STATE: [ 0.23391678  0.47310448 -0.2131115  -0.06957228] ACT: [-0.38502412 -0.31899283] \n",
      "STATE: [ 0.15280118  0.44015303 -0.23175887 -0.09414699] ACT: [-0.37294642 -0.33303299] \n",
      "STATE: [ 0.06594901  0.39877374 -0.24814905 -0.11822654] ACT: [-0.3611355  -0.34580508] \n",
      "STATE: [-0.02567281  0.34893564 -0.26177665 -0.14239459] ACT: [-0.34185579 -0.36487617] \n",
      "final state  [-0.02567281  0.34893564]\n",
      "After 7 REWARD:  (0.7757490885346222, array([-0.00245383,  0.20458744, -0.23757679, -0.15966087]), -0.20557117260277533)\n",
      "UPDATING THE ACTION MATRIX\n"
     ]
    },
    {
     "name": "stderr",
     "output_type": "stream",
     "text": [
      "100%|█████████████████████████████████████████████████████████████████████████████████████████████████████████████████████████| 25/25 [00:03<00:00,  6.95it/s]\n",
      "Generating Dynamics Dataset: 100%|██████████████████████████████████████████████████████████████████████████████████████████| 15/15 [00:00<00:00, 2164.39it/s]\n"
     ]
    },
    {
     "name": "stdout",
     "output_type": "stream",
     "text": [
      "COLLIDED\n",
      "COLLIDED\n",
      "COLLIDED\n",
      "COLLIDED\n",
      "COLLIDED\n"
     ]
    },
    {
     "name": "stderr",
     "output_type": "stream",
     "text": [
      "100%|████████████████████████████████████████████████████████████████████████████████████████████████████████████████████████| 48/48 [00:00<00:00, 205.87it/s]\n"
     ]
    },
    {
     "name": "stdout",
     "output_type": "stream",
     "text": [
      "Epoch 1, loss: 0.000, err: 0.019, val_loss: 0.001, val_err: 0.032\n"
     ]
    },
    {
     "name": "stderr",
     "output_type": "stream",
     "text": [
      "100%|████████████████████████████████████████████████████████████████████████████████████████████████████████████████████████| 48/48 [00:00<00:00, 206.01it/s]\n"
     ]
    },
    {
     "name": "stdout",
     "output_type": "stream",
     "text": [
      "Epoch 2, loss: 0.000, err: 0.019, val_loss: 0.001, val_err: 0.032\n"
     ]
    },
    {
     "name": "stderr",
     "output_type": "stream",
     "text": [
      "100%|████████████████████████████████████████████████████████████████████████████████████████████████████████████████████████| 48/48 [00:00<00:00, 206.09it/s]\n"
     ]
    },
    {
     "name": "stdout",
     "output_type": "stream",
     "text": [
      "Epoch 3, loss: 0.000, err: 0.019, val_loss: 0.001, val_err: 0.031\n"
     ]
    },
    {
     "name": "stderr",
     "output_type": "stream",
     "text": [
      "100%|████████████████████████████████████████████████████████████████████████████████████████████████████████████████████████| 48/48 [00:00<00:00, 207.75it/s]\n"
     ]
    },
    {
     "name": "stdout",
     "output_type": "stream",
     "text": [
      "Epoch 4, loss: 0.000, err: 0.019, val_loss: 0.001, val_err: 0.031\n"
     ]
    },
    {
     "name": "stderr",
     "output_type": "stream",
     "text": [
      "100%|████████████████████████████████████████████████████████████████████████████████████████████████████████████████████████| 48/48 [00:00<00:00, 206.17it/s]\n"
     ]
    },
    {
     "name": "stdout",
     "output_type": "stream",
     "text": [
      "Epoch 5, loss: 0.000, err: 0.019, val_loss: 0.001, val_err: 0.032\n"
     ]
    },
    {
     "name": "stderr",
     "output_type": "stream",
     "text": [
      "100%|████████████████████████████████████████████████████████████████████████████████████████████████████████████████████████| 48/48 [00:00<00:00, 208.08it/s]\n"
     ]
    },
    {
     "name": "stdout",
     "output_type": "stream",
     "text": [
      "Epoch 6, loss: 0.000, err: 0.019, val_loss: 0.001, val_err: 0.031\n"
     ]
    },
    {
     "name": "stderr",
     "output_type": "stream",
     "text": [
      "100%|████████████████████████████████████████████████████████████████████████████████████████████████████████████████████████| 48/48 [00:00<00:00, 206.43it/s]\n"
     ]
    },
    {
     "name": "stdout",
     "output_type": "stream",
     "text": [
      "Epoch 7, loss: 0.000, err: 0.019, val_loss: 0.001, val_err: 0.029\n"
     ]
    },
    {
     "name": "stderr",
     "output_type": "stream",
     "text": [
      "100%|████████████████████████████████████████████████████████████████████████████████████████████████████████████████████████| 48/48 [00:00<00:00, 206.23it/s]\n"
     ]
    },
    {
     "name": "stdout",
     "output_type": "stream",
     "text": [
      "Epoch 8, loss: 0.000, err: 0.019, val_loss: 0.001, val_err: 0.030\n"
     ]
    },
    {
     "name": "stderr",
     "output_type": "stream",
     "text": [
      "100%|████████████████████████████████████████████████████████████████████████████████████████████████████████████████████████| 48/48 [00:00<00:00, 207.71it/s]\n"
     ]
    },
    {
     "name": "stdout",
     "output_type": "stream",
     "text": [
      "Epoch 9, loss: 0.000, err: 0.019, val_loss: 0.001, val_err: 0.029\n"
     ]
    },
    {
     "name": "stderr",
     "output_type": "stream",
     "text": [
      "100%|████████████████████████████████████████████████████████████████████████████████████████████████████████████████████████| 48/48 [00:00<00:00, 207.30it/s]\n"
     ]
    },
    {
     "name": "stdout",
     "output_type": "stream",
     "text": [
      "Epoch 10, loss: 0.000, err: 0.019, val_loss: 0.001, val_err: 0.030\n"
     ]
    },
    {
     "name": "stderr",
     "output_type": "stream",
     "text": [
      "100%|████████████████████████████████████████████████████████████████████████████████████████████████████████████████████████| 48/48 [00:00<00:00, 207.26it/s]\n"
     ]
    },
    {
     "name": "stdout",
     "output_type": "stream",
     "text": [
      "Epoch 11, loss: 0.000, err: 0.019, val_loss: 0.001, val_err: 0.031\n"
     ]
    },
    {
     "name": "stderr",
     "output_type": "stream",
     "text": [
      "100%|████████████████████████████████████████████████████████████████████████████████████████████████████████████████████████| 48/48 [00:00<00:00, 205.81it/s]\n"
     ]
    },
    {
     "name": "stdout",
     "output_type": "stream",
     "text": [
      "Epoch 12, loss: 0.000, err: 0.019, val_loss: 0.001, val_err: 0.029\n"
     ]
    },
    {
     "name": "stderr",
     "output_type": "stream",
     "text": [
      "100%|████████████████████████████████████████████████████████████████████████████████████████████████████████████████████████| 48/48 [00:00<00:00, 206.38it/s]\n"
     ]
    },
    {
     "name": "stdout",
     "output_type": "stream",
     "text": [
      "Epoch 13, loss: 0.000, err: 0.019, val_loss: 0.001, val_err: 0.030\n"
     ]
    },
    {
     "name": "stderr",
     "output_type": "stream",
     "text": [
      "100%|████████████████████████████████████████████████████████████████████████████████████████████████████████████████████████| 48/48 [00:00<00:00, 206.36it/s]\n"
     ]
    },
    {
     "name": "stdout",
     "output_type": "stream",
     "text": [
      "Epoch 14, loss: 0.000, err: 0.019, val_loss: 0.001, val_err: 0.030\n"
     ]
    },
    {
     "name": "stderr",
     "output_type": "stream",
     "text": [
      "100%|████████████████████████████████████████████████████████████████████████████████████████████████████████████████████████| 48/48 [00:00<00:00, 206.76it/s]\n"
     ]
    },
    {
     "name": "stdout",
     "output_type": "stream",
     "text": [
      "Epoch 15, loss: 0.000, err: 0.019, val_loss: 0.001, val_err: 0.031\n"
     ]
    },
    {
     "name": "stderr",
     "output_type": "stream",
     "text": [
      "100%|████████████████████████████████████████████████████████████████████████████████████████████████████████████████████████| 48/48 [00:00<00:00, 207.04it/s]\n"
     ]
    },
    {
     "name": "stdout",
     "output_type": "stream",
     "text": [
      "Epoch 16, loss: 0.000, err: 0.019, val_loss: 0.001, val_err: 0.030\n"
     ]
    },
    {
     "name": "stderr",
     "output_type": "stream",
     "text": [
      "100%|████████████████████████████████████████████████████████████████████████████████████████████████████████████████████████| 48/48 [00:00<00:00, 206.98it/s]\n"
     ]
    },
    {
     "name": "stdout",
     "output_type": "stream",
     "text": [
      "Epoch 17, loss: 0.000, err: 0.019, val_loss: 0.001, val_err: 0.030\n"
     ]
    },
    {
     "name": "stderr",
     "output_type": "stream",
     "text": [
      "100%|████████████████████████████████████████████████████████████████████████████████████████████████████████████████████████| 48/48 [00:00<00:00, 202.40it/s]\n"
     ]
    },
    {
     "name": "stdout",
     "output_type": "stream",
     "text": [
      "Epoch 18, loss: 0.000, err: 0.019, val_loss: 0.001, val_err: 0.030\n"
     ]
    },
    {
     "name": "stderr",
     "output_type": "stream",
     "text": [
      "100%|████████████████████████████████████████████████████████████████████████████████████████████████████████████████████████| 48/48 [00:00<00:00, 207.79it/s]\n"
     ]
    },
    {
     "name": "stdout",
     "output_type": "stream",
     "text": [
      "Epoch 19, loss: 0.000, err: 0.019, val_loss: 0.001, val_err: 0.029\n"
     ]
    },
    {
     "name": "stderr",
     "output_type": "stream",
     "text": [
      "100%|████████████████████████████████████████████████████████████████████████████████████████████████████████████████████████| 48/48 [00:00<00:00, 208.33it/s]\n"
     ]
    },
    {
     "name": "stdout",
     "output_type": "stream",
     "text": [
      "Epoch 20, loss: 0.000, err: 0.019, val_loss: 0.001, val_err: 0.031\n"
     ]
    },
    {
     "name": "stderr",
     "output_type": "stream",
     "text": [
      "100%|████████████████████████████████████████████████████████████████████████████████████████████████████████████████████████| 48/48 [00:00<00:00, 206.34it/s]\n"
     ]
    },
    {
     "name": "stdout",
     "output_type": "stream",
     "text": [
      "Epoch 21, loss: 0.000, err: 0.019, val_loss: 0.001, val_err: 0.030\n"
     ]
    },
    {
     "name": "stderr",
     "output_type": "stream",
     "text": [
      "100%|████████████████████████████████████████████████████████████████████████████████████████████████████████████████████████| 48/48 [00:00<00:00, 208.21it/s]\n"
     ]
    },
    {
     "name": "stdout",
     "output_type": "stream",
     "text": [
      "Epoch 22, loss: 0.000, err: 0.019, val_loss: 0.001, val_err: 0.028\n"
     ]
    },
    {
     "name": "stderr",
     "output_type": "stream",
     "text": [
      "100%|████████████████████████████████████████████████████████████████████████████████████████████████████████████████████████| 48/48 [00:00<00:00, 207.33it/s]\n"
     ]
    },
    {
     "name": "stdout",
     "output_type": "stream",
     "text": [
      "Epoch 23, loss: 0.000, err: 0.018, val_loss: 0.001, val_err: 0.030\n"
     ]
    },
    {
     "name": "stderr",
     "output_type": "stream",
     "text": [
      "100%|████████████████████████████████████████████████████████████████████████████████████████████████████████████████████████| 48/48 [00:00<00:00, 205.45it/s]\n"
     ]
    },
    {
     "name": "stdout",
     "output_type": "stream",
     "text": [
      "Epoch 24, loss: 0.000, err: 0.018, val_loss: 0.001, val_err: 0.030\n"
     ]
    },
    {
     "name": "stderr",
     "output_type": "stream",
     "text": [
      "100%|████████████████████████████████████████████████████████████████████████████████████████████████████████████████████████| 48/48 [00:00<00:00, 205.34it/s]\n"
     ]
    },
    {
     "name": "stdout",
     "output_type": "stream",
     "text": [
      "Epoch 25, loss: 0.000, err: 0.019, val_loss: 0.001, val_err: 0.029\n"
     ]
    },
    {
     "name": "stderr",
     "output_type": "stream",
     "text": [
      "100%|████████████████████████████████████████████████████████████████████████████████████████████████████████████████████████| 48/48 [00:00<00:00, 208.33it/s]\n"
     ]
    },
    {
     "name": "stdout",
     "output_type": "stream",
     "text": [
      "Epoch 26, loss: 0.000, err: 0.019, val_loss: 0.001, val_err: 0.029\n"
     ]
    },
    {
     "name": "stderr",
     "output_type": "stream",
     "text": [
      "100%|████████████████████████████████████████████████████████████████████████████████████████████████████████████████████████| 48/48 [00:00<00:00, 206.48it/s]\n"
     ]
    },
    {
     "name": "stdout",
     "output_type": "stream",
     "text": [
      "Epoch 27, loss: 0.000, err: 0.019, val_loss: 0.001, val_err: 0.029\n"
     ]
    },
    {
     "name": "stderr",
     "output_type": "stream",
     "text": [
      "100%|████████████████████████████████████████████████████████████████████████████████████████████████████████████████████████| 48/48 [00:00<00:00, 209.17it/s]\n"
     ]
    },
    {
     "name": "stdout",
     "output_type": "stream",
     "text": [
      "Epoch 28, loss: 0.000, err: 0.018, val_loss: 0.001, val_err: 0.030\n"
     ]
    },
    {
     "name": "stderr",
     "output_type": "stream",
     "text": [
      "100%|████████████████████████████████████████████████████████████████████████████████████████████████████████████████████████| 48/48 [00:00<00:00, 207.56it/s]\n"
     ]
    },
    {
     "name": "stdout",
     "output_type": "stream",
     "text": [
      "Epoch 29, loss: 0.000, err: 0.018, val_loss: 0.001, val_err: 0.028\n"
     ]
    },
    {
     "name": "stderr",
     "output_type": "stream",
     "text": [
      "100%|████████████████████████████████████████████████████████████████████████████████████████████████████████████████████████| 48/48 [00:00<00:00, 207.07it/s]\n"
     ]
    },
    {
     "name": "stdout",
     "output_type": "stream",
     "text": [
      "Epoch 30, loss: 0.000, err: 0.018, val_loss: 0.001, val_err: 0.030\n"
     ]
    },
    {
     "name": "stderr",
     "output_type": "stream",
     "text": [
      "100%|████████████████████████████████████████████████████████████████████████████████████████████████████████████████████████| 48/48 [00:00<00:00, 206.32it/s]\n"
     ]
    },
    {
     "name": "stdout",
     "output_type": "stream",
     "text": [
      "Epoch 31, loss: 0.000, err: 0.018, val_loss: 0.001, val_err: 0.030\n"
     ]
    },
    {
     "name": "stderr",
     "output_type": "stream",
     "text": [
      "100%|████████████████████████████████████████████████████████████████████████████████████████████████████████████████████████| 48/48 [00:00<00:00, 205.67it/s]\n"
     ]
    },
    {
     "name": "stdout",
     "output_type": "stream",
     "text": [
      "Epoch 32, loss: 0.000, err: 0.018, val_loss: 0.001, val_err: 0.030\n"
     ]
    },
    {
     "name": "stderr",
     "output_type": "stream",
     "text": [
      "100%|████████████████████████████████████████████████████████████████████████████████████████████████████████████████████████| 48/48 [00:00<00:00, 207.52it/s]\n"
     ]
    },
    {
     "name": "stdout",
     "output_type": "stream",
     "text": [
      "Epoch 33, loss: 0.000, err: 0.018, val_loss: 0.001, val_err: 0.028\n"
     ]
    },
    {
     "name": "stderr",
     "output_type": "stream",
     "text": [
      "100%|████████████████████████████████████████████████████████████████████████████████████████████████████████████████████████| 48/48 [00:00<00:00, 208.71it/s]\n"
     ]
    },
    {
     "name": "stdout",
     "output_type": "stream",
     "text": [
      "Epoch 34, loss: 0.000, err: 0.018, val_loss: 0.001, val_err: 0.029\n"
     ]
    },
    {
     "name": "stderr",
     "output_type": "stream",
     "text": [
      "100%|████████████████████████████████████████████████████████████████████████████████████████████████████████████████████████| 48/48 [00:00<00:00, 207.21it/s]\n"
     ]
    },
    {
     "name": "stdout",
     "output_type": "stream",
     "text": [
      "Epoch 35, loss: 0.000, err: 0.018, val_loss: 0.001, val_err: 0.029\n"
     ]
    },
    {
     "name": "stderr",
     "output_type": "stream",
     "text": [
      "100%|████████████████████████████████████████████████████████████████████████████████████████████████████████████████████████| 48/48 [00:00<00:00, 206.57it/s]\n"
     ]
    },
    {
     "name": "stdout",
     "output_type": "stream",
     "text": [
      "Epoch 36, loss: 0.000, err: 0.018, val_loss: 0.001, val_err: 0.029\n"
     ]
    },
    {
     "name": "stderr",
     "output_type": "stream",
     "text": [
      "100%|████████████████████████████████████████████████████████████████████████████████████████████████████████████████████████| 48/48 [00:00<00:00, 208.95it/s]\n"
     ]
    },
    {
     "name": "stdout",
     "output_type": "stream",
     "text": [
      "Epoch 37, loss: 0.000, err: 0.018, val_loss: 0.001, val_err: 0.028\n"
     ]
    },
    {
     "name": "stderr",
     "output_type": "stream",
     "text": [
      "100%|████████████████████████████████████████████████████████████████████████████████████████████████████████████████████████| 48/48 [00:00<00:00, 208.12it/s]\n"
     ]
    },
    {
     "name": "stdout",
     "output_type": "stream",
     "text": [
      "Epoch 38, loss: 0.000, err: 0.018, val_loss: 0.001, val_err: 0.028\n"
     ]
    },
    {
     "name": "stderr",
     "output_type": "stream",
     "text": [
      "100%|████████████████████████████████████████████████████████████████████████████████████████████████████████████████████████| 48/48 [00:00<00:00, 210.20it/s]\n"
     ]
    },
    {
     "name": "stdout",
     "output_type": "stream",
     "text": [
      "Epoch 39, loss: 0.000, err: 0.020, val_loss: 0.001, val_err: 0.027\n"
     ]
    },
    {
     "name": "stderr",
     "output_type": "stream",
     "text": [
      "100%|████████████████████████████████████████████████████████████████████████████████████████████████████████████████████████| 10/10 [00:00<00:00, 557.32it/s]\n"
     ]
    },
    {
     "name": "stdout",
     "output_type": "stream",
     "text": [
      "STATE: [ 0.87115601  0.83617434 -0.03263185 -0.02914146] ACT: [-0.37293548 -0.33304524] \n",
      "STATE: [ 0.84907322  0.81643348 -0.06309369 -0.05640245] ACT: [-0.37260915 -0.33341029] \n",
      "STATE: [ 0.81702846  0.78777743 -0.09155647 -0.08187444] ACT: [-0.37260915 -0.33341029] \n",
      "STATE: [ 0.77567511  0.75079165 -0.11815242 -0.10567366] ACT: [-0.37262111 -0.33339692] \n",
      "STATE: [ 0.72562103  0.70602616 -0.14301164 -0.12790141] ACT: [-0.3727197 -0.3332867] \n",
      "STATE: [ 0.66745637  0.65397011 -0.16618475 -0.14873155] ACT: [-0.37209427 -0.33398481] \n",
      "STATE: [ 0.60169269  0.59512505 -0.18789622 -0.16812874] ACT: [-0.37276967 -0.33323081] \n",
      "STATE: [ 0.53023237  0.53379219 -0.20417234 -0.17523676] ACT: [-0.32693495 -0.20733102] \n",
      "STATE: [ 0.45264452  0.48108731 -0.22167959 -0.15058536] ACT: [-0.35321211  0.15030272] \n",
      "COLLIDED\n",
      "STATE: [ 0.36798955  0.42253336 -0.24187134 -0.16729702] ACT: [-0.39702257 -0.3039294 ] \n",
      "STATE: [ 0.2771345   0.35800979 -0.25958585 -0.18435304] ACT: [-0.38385496 -0.32039876] \n",
      "STATE: [ 0.18086294  0.28747393 -0.27506159 -0.20153103] ACT: [-0.37155499 -0.33458465] \n",
      "STATE: [ 0.07990074  0.21092339 -0.28846344 -0.21871585] ACT: [-0.35946018 -0.34754623] \n",
      "STATE: [-0.02398918  0.1274296  -0.29682836 -0.23855366] ACT: [-0.31194671 -0.39075472] \n",
      "final state  [-0.02398918  0.1274296 ]\n",
      "STATE: [ 0.65648175  0.75588765 -0.03235483 -0.02944873] ACT: [-0.36976946 -0.3365569 ] \n",
      "STATE: [ 0.63456357  0.73596418 -0.06262337 -0.05692418] ACT: [-0.37019231 -0.33609173] \n",
      "STATE: [ 0.60276617  0.7070339  -0.09084971 -0.08265793] ACT: [-0.36955429 -0.33679315] \n",
      "STATE: [ 0.56159733  0.66984425 -0.11762526 -0.10625616] ACT: [-0.37414359 -0.33168746] \n",
      "STATE: [ 0.510651    0.62651857 -0.14556094 -0.12378765] ACT: [-0.40748388 -0.28005201] \n",
      "STATE: [ 0.44890656  0.58752196 -0.17641269 -0.11141889] ACT: [-0.46176203  0.04851647] \n",
      "STATE: [ 0.3778641   0.55858451 -0.20297846 -0.08267843] ACT: [-0.43591836  0.24489831] \n",
      "STATE: [ 0.29630678  0.52951364 -0.2330209  -0.08305963] ACT: [-0.49557606 -0.06636541] \n",
      "STATE: [ 0.20812948  0.49280385 -0.25193516 -0.10488511] ACT: [-0.39092861 -0.31172876] \n",
      "STATE: [ 0.11447761  0.4481273  -0.26757677 -0.12764728] ACT: [-0.36771258 -0.33880298] \n",
      "STATE: [ 0.01641456  0.39529119 -0.28018014 -0.15096033] ACT: [-0.34472118 -0.36217027] \n",
      "STATE: [-0.08511124  0.33423914 -0.29007372 -0.17443441] ACT: [-0.32320453 -0.38149552] \n",
      "final state  [-0.08511124  0.33423914]\n",
      "STATE: [ 0.70673932  0.64127268 -0.03262224 -0.02915222] ACT: [-0.37282555 -0.33316828] \n",
      "STATE: [ 0.68467087  0.62151581 -0.06305273 -0.0564482 ] ACT: [-0.37224377 -0.33381817] \n",
      "STATE: [ 0.6526695   0.59281136 -0.09143247 -0.08201271] ACT: [-0.37162941 -0.33450199] \n",
      "STATE: [ 0.61152995  0.55558998 -0.11754158 -0.10634681] ACT: [-0.36696415 -0.33961347] \n",
      "STATE: [ 0.56804243  0.51421553 -0.12425006 -0.11821271] ACT: [-0.16482457 -0.2153704 ] \n",
      "STATE: [ 0.52557289  0.47007175 -0.12134154 -0.12612507] ACT: [-0.0599473  -0.17908654] \n",
      "STATE: [ 0.4747722   0.418296   -0.14514482 -0.14793073] ACT: [-0.36304362 -0.3438013 ] \n",
      "COLLIDED\n",
      "STATE: [ 0.44030973  0.37800245 -0.09846421 -0.11512444] ACT: [0.42463403 0.26398095] \n",
      "STATE: [ 0.39692079  0.3298985  -0.12396841 -0.13743984] ACT: [-0.36532466 -0.34137646] \n",
      "STATE: [ 0.34509281  0.27460299 -0.14807992 -0.15798717] ACT: [-0.36853652 -0.33790654] \n",
      "STATE: [ 0.28525829  0.21272177 -0.17095579 -0.17680348] ACT: [-0.37249846 -0.33353395] \n",
      "STATE: [ 0.21783647  0.14480685 -0.19263375 -0.19404264] ACT: [-0.37596492 -0.32962157] \n",
      "STATE: [ 0.1434752   0.07108572 -0.21246079 -0.21063181] ACT: [-0.37106999 -0.33512246] \n",
      "STATE: [ 0.06660519 -0.0112094  -0.21962859 -0.2351289 ] ACT: [-0.24126335 -0.43794063] \n",
      "final state  [ 0.06660519 -0.0112094 ]\n",
      "STATE: [ 0.72044494  0.66505476 -0.03264924 -0.02912198] ACT: [-0.37313419 -0.33282259] \n",
      "STATE: [ 0.69834983  0.64532769 -0.06312887 -0.05636307] ACT: [-0.37282555 -0.33316828] \n",
      "STATE: [ 0.6663049   0.61667185 -0.09155695 -0.08187381] ACT: [-0.37223894 -0.33382357] \n",
      "STATE: [ 0.62498732  0.57964628 -0.11805025 -0.10578736] ACT: [-0.3714483  -0.33470309] \n",
      "STATE: [ 0.57788737  0.53443573 -0.13457128 -0.12917298] ACT: [-0.27734943 -0.34660481] \n",
      "STATE: [ 0.52854589  0.49076649 -0.14097567 -0.12476927] ACT: [-0.17412152 -0.04655154] \n",
      "STATE: [ 0.49413493  0.45985032 -0.09831703 -0.08833191] ACT: [0.38179559 0.32285001] \n",
      "STATE: [ 0.47307652  0.43984017 -0.06016689 -0.05717185] ACT: [0.36226382 0.289866  ] \n",
      "STATE: [ 0.46640448  0.42922761 -0.01906296 -0.03032162] ACT: [0.42463403 0.26398095] \n",
      "COLLIDED\n",
      "STATE: [ 0.44904953  0.40878528 -0.04958557 -0.05840666] ACT: [-0.36312711 -0.34371311] \n",
      "COLLIDED\n",
      "STATE: [ 0.42190139  0.37896246 -0.07756611 -0.08520806] ACT: [-0.35696675 -0.35010675] \n",
      "STATE: [ 0.38534678  0.3406421  -0.10444174 -0.10948672] ACT: [-0.36532466 -0.34137646] \n",
      "STATE: [ 0.33981473  0.29458706 -0.13009158 -0.13158585] ACT: [-0.37147226 -0.3346765 ] \n",
      "STATE: [ 0.28586295  0.24133989 -0.15414793 -0.15213475] ACT: [-0.37249846 -0.33353395] \n",
      "STATE: [ 0.22401822  0.18140146 -0.17669923 -0.17125268] ACT: [-0.37334004 -0.33259166] \n",
      "STATE: [ 0.15481969  0.11518715 -0.19771011 -0.18918374] ACT: [-0.37264881 -0.33336597] \n",
      "STATE: [ 0.08101234  0.04104008 -0.21087812 -0.21184875] ACT: [-0.29877411 -0.40091649] \n",
      "STATE: [ 0.02365397 -0.01825167 -0.16388107 -0.16940501] ACT: [0.37895056 0.32618473] \n",
      "final state  [ 0.02365397 -0.01825167]\n",
      "STATE: [ 0.64066566  0.75027142 -0.03235483 -0.02944873] ACT: [-0.36976946 -0.3365569 ] \n",
      "STATE: [ 0.61876702  0.73032647 -0.06256754 -0.05698556] ACT: [-0.36955429 -0.33679315] \n",
      "STATE: [ 0.58698788  0.70137612 -0.09079755 -0.08271528] ACT: [-0.36955429 -0.33679315] \n",
      "STATE: [ 0.5458361   0.66416771 -0.11757652 -0.10630974] ACT: [-0.37414359 -0.33168746] \n",
      "STATE: [ 0.49308444  0.62392666 -0.15071901 -0.11497444] ACT: [-0.46695372 -0.17875745] \n",
      "STATE: [ 0.42858355  0.58808601 -0.18428827 -0.10240185] ACT: [-0.49668784  0.05745595] \n",
      "STATE: [ 0.35400011  0.5600326  -0.21309556 -0.08015261] ACT: [-0.46744242  0.1774756 ] \n",
      "STATE: [ 0.27076085  0.52668852 -0.23782645 -0.09526878] ACT: [-0.44246045 -0.23287068] \n",
      "STATE: [ 0.18126242  0.48568008 -0.25570981 -0.11716698] ACT: [-0.38275103 -0.32171672] \n",
      "STATE: [ 0.08649985  0.43685428 -0.2707502  -0.13950229] ACT: [-0.36367258 -0.34313592] \n",
      "STATE: [-0.01242121  0.3799728  -0.28263159 -0.16251852] ACT: [-0.33884994 -0.3676693 ] \n",
      "final state  [-0.01242121  0.3799728 ]\n",
      "STATE: [ 0.75819837  0.75285663 -0.0325578  -0.02922417] ACT: [-0.37208916 -0.3339905 ] \n",
      "STATE: [ 0.73613641  0.73309251 -0.06303417 -0.05646892] ACT: [-0.3727197 -0.3332867] \n",
      "STATE: [ 0.70412727  0.70439669 -0.09145468 -0.08198806] ACT: [-0.37208151 -0.33399903] \n",
      "STATE: [ 0.66282334  0.66735575 -0.11801122 -0.10583127] ACT: [-0.37209427 -0.33398481] \n",
      "STATE: [ 0.61281391  0.62254042 -0.14288408 -0.12804379] ACT: [-0.37276967 -0.33323081] \n",
      "STATE: [ 0.55440191  0.57229791 -0.16689143 -0.14355002] ACT: [-0.38153275 -0.27324695] \n",
      "STATE: [ 0.48903604  0.53235906 -0.18675964 -0.114111  ] ACT: [-0.3522339   0.22878347] \n",
      "STATE: [ 0.43063031  0.50518926 -0.16687353 -0.07762801] ACT: [0.08720019 0.33136516] \n",
      "STATE: [ 0.37505377  0.49508205 -0.1587901  -0.02887776] ACT: [-0.03277315  0.49892476] \n",
      "STATE: [ 0.31058761  0.47684605 -0.18418902 -0.05210286] ACT: [-0.4093659  -0.28708807] \n",
      "STATE: [ 0.2384779   0.45013842 -0.20602776 -0.07630749] ACT: [-0.3877274  -0.31570154] \n",
      "STATE: [ 0.15976086  0.41489331 -0.22490583 -0.10070033] ACT: [-0.3702702  -0.33600592] \n",
      "STATE: [ 0.07515455  0.37136597 -0.24173232 -0.12436383] ACT: [-0.3609821 -0.3459652] \n",
      "STATE: [-0.01423145  0.31939365 -0.25538857 -0.14849233] ACT: [-0.33737062 -0.36902718] \n",
      "final state  [-0.01423145  0.31939365]\n",
      "STATE: [ 0.65000354  0.86328901 -0.03220143 -0.02961639] ACT: [-0.36801634 -0.33847301] \n",
      "STATE: [ 0.62819053  0.84325046 -0.06232288 -0.05725302] ACT: [-0.36839625 -0.33805947] \n",
      "STATE: [ 0.59655032  0.81414836 -0.09040062 -0.08314884] ACT: [-0.36763054 -0.338892  ] \n",
      "STATE: [ 0.55571709  0.77658916 -0.11666635 -0.10731201] ACT: [-0.36798028 -0.3385122 ] \n",
      "STATE: [ 0.50610049  0.73134239 -0.14176171 -0.12927648] ACT: [-0.37430391 -0.33150654] \n",
      "STATE: [ 0.44801777  0.67921292 -0.16595064 -0.14894135] ACT: [-0.38276622 -0.32169865] \n",
      "STATE: [ 0.37979108  0.62420264 -0.19493339 -0.15717223] ACT: [-0.4556944  -0.20577321] \n",
      "STATE: [ 0.30138343  0.56837456 -0.22402185 -0.15950879] ACT: [-0.47863954 -0.14458281] \n",
      "STATE: [ 0.2153464   0.50776776 -0.2458201  -0.1731623 ] ACT: [-0.41713922 -0.27567168] \n",
      "STATE: [ 0.12340817  0.44108189 -0.26268066 -0.19053104] ACT: [-0.37705716 -0.32837158] \n",
      "STATE: [ 0.02691464  0.36771105 -0.27569579 -0.209631  ] ACT: [-0.34575493 -0.36118351] \n",
      "STATE: [-0.07294605  0.28730647 -0.28531625 -0.22972736] ACT: [-0.31671996 -0.38689594] \n",
      "final state  [-0.07294605  0.28730647]\n",
      "STATE: [ 0.78398852  0.72129528 -0.03264863 -0.02912266] ACT: [-0.37312725 -0.33283037] \n",
      "STATE: [ 0.76188538  0.70157721 -0.06315183 -0.05633736] ACT: [-0.37309445 -0.33286714] \n",
      "STATE: [ 0.72980674  0.67295907 -0.09165326 -0.08176609] ACT: [-0.37309445 -0.33286714] \n",
      "STATE: [ 0.68840602  0.63602631 -0.11828775 -0.10552217] ACT: [-0.37313419 -0.33282259] \n",
      "STATE: [ 0.63834108  0.59127314 -0.14304269 -0.1278662 ] ACT: [-0.37162941 -0.33450199] \n",
      "STATE: [ 0.58116864  0.53978591 -0.16334982 -0.14710639] ACT: [-0.33936343 -0.31578748] \n",
      "STATE: [ 0.52241568  0.49025188 -0.16786562 -0.14152579] ACT: [-0.17412152 -0.04655154] \n",
      "STATE: [ 0.47921086  0.45385581 -0.12344232 -0.10398878] ACT: [0.38179559 0.32285001] \n",
      "STATE: [ 0.4499357   0.42872537 -0.08364334 -0.07180125] ACT: [0.36226382 0.289866  ] \n",
      "COLLIDED\n",
      "STATE: [ 0.41146094  0.39471791 -0.10992786 -0.09716419] ACT: [-0.36312711 -0.34371311] \n",
      "STATE: [ 0.36402576  0.35281501 -0.13552911 -0.11972256] ACT: [-0.37503156 -0.33068312] \n",
      "STATE: [ 0.30832716  0.30341252 -0.15913883 -0.14114996] ACT: [-0.37147226 -0.3346765 ] \n",
      "STATE: [ 0.24489538  0.24701603 -0.18123367 -0.16113285] ACT: [-0.37186656 -0.33423832] \n",
      "STATE: [ 0.17429804  0.18401798 -0.20170669 -0.17999443] ACT: [-0.36990257 -0.33641059] \n",
      "STATE: [ 0.09673397  0.11515816 -0.22161162 -0.19674232] ACT: [-0.3787649  -0.32640029] \n",
      "STATE: [ 0.03447887  0.06222115 -0.17787171 -0.15124862] ACT: [0.33367593 0.37237128] \n",
      "STATE: [-0.01240785  0.02311038 -0.13396207 -0.11174505] ACT: [0.36842065 0.33803288] \n",
      "final state  [-0.01240785  0.02311038]\n",
      "STATE: [ 0.76207662  0.59195668 -0.03285867 -0.02888547] ACT: [-0.37552762 -0.33011968] \n",
      "STATE: [ 0.73983028  0.57240032 -0.06356098 -0.05587534] ACT: [-0.37552762 -0.33011968] \n",
      "STATE: [ 0.70767563  0.54386886 -0.09187042 -0.08151844] ACT: [-0.37120716 -0.33497051] \n",
      "STATE: [ 0.6664      0.50680141 -0.11793038 -0.105907  ] ACT: [-0.36673096 -0.33986527] \n",
      "STATE: [ 0.62095234  0.45848703 -0.12985043 -0.13804108] ACT: [-0.22467692 -0.44667693] \n",
      "STATE: [ 0.58103175  0.39824369 -0.11405885 -0.17212385] ACT: [ 0.08308747 -0.49304814] \n",
      "STATE: [ 0.55088184  0.3284136  -0.0861426  -0.19951454] ACT: [ 0.23349864 -0.44212938] \n",
      "STATE: [ 0.51259681  0.2516689  -0.10938578 -0.21927056] ACT: [-0.33024327 -0.37541895] \n",
      "STATE: [ 0.46583348  0.1692987  -0.13360953 -0.23534344] ACT: [-0.35888224 -0.34814298] \n",
      "STATE: [ 0.41055857  0.08231572 -0.15792831 -0.24852279] ACT: [-0.37813596 -0.32712871] \n",
      "STATE: [ 0.34664651 -0.00812704 -0.18260589 -0.25840789] ACT: [-0.40047572 -0.29936465] \n",
      "final state  [ 0.34664651 -0.00812704]\n",
      "STATE: [ 0.68820893  0.6759746  -0.03255509 -0.02922719] ACT: [-0.37205818 -0.33402501] \n",
      "STATE: [ 0.66616811  0.65618688 -0.06297375 -0.05653634] ACT: [-0.37205818 -0.33402501] \n",
      "STATE: [ 0.63415766  0.62749254 -0.09145845 -0.08198384] ACT: [-0.37276967 -0.33323081] \n",
      "STATE: [ 0.59276796  0.59054795 -0.11825627 -0.10555597] ACT: [-0.37485466 -0.33088364] \n",
      "STATE: [ 0.54408209  0.54967833 -0.13910251 -0.11677032] ACT: [-0.32693495 -0.20733102] \n",
      "STATE: [ 0.4877741   0.51609381 -0.16087997 -0.09595578] ACT: [-0.35321211  0.15030272] \n",
      "STATE: [ 0.44582475  0.49570253 -0.11985528 -0.05826078] ACT: [0.34819358 0.35883315] \n",
      "STATE: [ 0.39446951  0.4673416  -0.14672925 -0.08103124] ACT: [-0.39702257 -0.3039294 ] \n",
      "STATE: [ 0.33428045  0.43159335 -0.17196874 -0.10213787] ACT: [-0.39849822 -0.30199201] \n",
      "STATE: [ 0.26636964  0.38827921 -0.1940309  -0.12375467] ACT: [-0.38111551 -0.32365255] \n",
      "STATE: [ 0.1915695   0.3375245  -0.21371469 -0.14501347] ACT: [-0.37048075 -0.33577375] \n",
      "STATE: [ 0.11053181  0.27960139 -0.23153623 -0.1654946 ] ACT: [-0.36396084 -0.34283014] \n",
      "STATE: [ 0.02416974  0.21446993 -0.24674878 -0.18608986] ACT: [-0.34750982 -0.35949537] \n",
      "STATE: [-0.05717646  0.13831411 -0.23241771 -0.21758808] ACT: [-0.02127798 -0.49954704] \n",
      "final state  [-0.05717646  0.13831411]\n",
      "After 8 REWARD:  (0.8335777463905589, array([ 0.01586222,  0.1572178 , -0.23427338, -0.19460012]), -0.24215480549634977)\n",
      "UPDATING THE ACTION MATRIX\n"
     ]
    },
    {
     "name": "stderr",
     "output_type": "stream",
     "text": [
      "100%|█████████████████████████████████████████████████████████████████████████████████████████████████████████████████████████| 25/25 [00:03<00:00,  6.94it/s]\n",
      "Generating Dynamics Dataset: 100%|██████████████████████████████████████████████████████████████████████████████████████████| 15/15 [00:00<00:00, 2338.66it/s]\n",
      "100%|████████████████████████████████████████████████████████████████████████████████████████████████████████████████████████| 51/51 [00:00<00:00, 205.77it/s]\n"
     ]
    },
    {
     "name": "stdout",
     "output_type": "stream",
     "text": [
      "Epoch 1, loss: 0.000, err: 0.018, val_loss: 0.001, val_err: 0.030\n"
     ]
    },
    {
     "name": "stderr",
     "output_type": "stream",
     "text": [
      "100%|████████████████████████████████████████████████████████████████████████████████████████████████████████████████████████| 51/51 [00:00<00:00, 207.84it/s]\n"
     ]
    },
    {
     "name": "stdout",
     "output_type": "stream",
     "text": [
      "Epoch 2, loss: 0.000, err: 0.018, val_loss: 0.001, val_err: 0.030\n"
     ]
    },
    {
     "name": "stderr",
     "output_type": "stream",
     "text": [
      "100%|████████████████████████████████████████████████████████████████████████████████████████████████████████████████████████| 51/51 [00:00<00:00, 206.43it/s]\n"
     ]
    },
    {
     "name": "stdout",
     "output_type": "stream",
     "text": [
      "Epoch 3, loss: 0.000, err: 0.018, val_loss: 0.001, val_err: 0.029\n"
     ]
    },
    {
     "name": "stderr",
     "output_type": "stream",
     "text": [
      "100%|████████████████████████████████████████████████████████████████████████████████████████████████████████████████████████| 51/51 [00:00<00:00, 207.63it/s]\n"
     ]
    },
    {
     "name": "stdout",
     "output_type": "stream",
     "text": [
      "Epoch 4, loss: 0.000, err: 0.018, val_loss: 0.001, val_err: 0.029\n"
     ]
    },
    {
     "name": "stderr",
     "output_type": "stream",
     "text": [
      "100%|████████████████████████████████████████████████████████████████████████████████████████████████████████████████████████| 51/51 [00:00<00:00, 206.68it/s]\n"
     ]
    },
    {
     "name": "stdout",
     "output_type": "stream",
     "text": [
      "Epoch 5, loss: 0.000, err: 0.018, val_loss: 0.001, val_err: 0.030\n"
     ]
    },
    {
     "name": "stderr",
     "output_type": "stream",
     "text": [
      "100%|████████████████████████████████████████████████████████████████████████████████████████████████████████████████████████| 51/51 [00:00<00:00, 207.18it/s]\n"
     ]
    },
    {
     "name": "stdout",
     "output_type": "stream",
     "text": [
      "Epoch 6, loss: 0.000, err: 0.018, val_loss: 0.001, val_err: 0.030\n"
     ]
    },
    {
     "name": "stderr",
     "output_type": "stream",
     "text": [
      "100%|████████████████████████████████████████████████████████████████████████████████████████████████████████████████████████| 51/51 [00:00<00:00, 208.06it/s]\n"
     ]
    },
    {
     "name": "stdout",
     "output_type": "stream",
     "text": [
      "Epoch 7, loss: 0.000, err: 0.018, val_loss: 0.001, val_err: 0.029\n"
     ]
    },
    {
     "name": "stderr",
     "output_type": "stream",
     "text": [
      "100%|████████████████████████████████████████████████████████████████████████████████████████████████████████████████████████| 51/51 [00:00<00:00, 207.80it/s]\n"
     ]
    },
    {
     "name": "stdout",
     "output_type": "stream",
     "text": [
      "Epoch 8, loss: 0.000, err: 0.018, val_loss: 0.001, val_err: 0.029\n"
     ]
    },
    {
     "name": "stderr",
     "output_type": "stream",
     "text": [
      "100%|████████████████████████████████████████████████████████████████████████████████████████████████████████████████████████| 51/51 [00:00<00:00, 204.43it/s]\n"
     ]
    },
    {
     "name": "stdout",
     "output_type": "stream",
     "text": [
      "Epoch 9, loss: 0.000, err: 0.018, val_loss: 0.001, val_err: 0.030\n"
     ]
    },
    {
     "name": "stderr",
     "output_type": "stream",
     "text": [
      "100%|████████████████████████████████████████████████████████████████████████████████████████████████████████████████████████| 51/51 [00:00<00:00, 206.69it/s]\n"
     ]
    },
    {
     "name": "stdout",
     "output_type": "stream",
     "text": [
      "Epoch 10, loss: 0.000, err: 0.018, val_loss: 0.001, val_err: 0.030\n"
     ]
    },
    {
     "name": "stderr",
     "output_type": "stream",
     "text": [
      "100%|████████████████████████████████████████████████████████████████████████████████████████████████████████████████████████| 51/51 [00:00<00:00, 204.73it/s]\n"
     ]
    },
    {
     "name": "stdout",
     "output_type": "stream",
     "text": [
      "Epoch 11, loss: 0.000, err: 0.018, val_loss: 0.001, val_err: 0.029\n"
     ]
    },
    {
     "name": "stderr",
     "output_type": "stream",
     "text": [
      "100%|████████████████████████████████████████████████████████████████████████████████████████████████████████████████████████| 51/51 [00:00<00:00, 206.47it/s]\n"
     ]
    },
    {
     "name": "stdout",
     "output_type": "stream",
     "text": [
      "Epoch 12, loss: 0.000, err: 0.018, val_loss: 0.001, val_err: 0.029\n"
     ]
    },
    {
     "name": "stderr",
     "output_type": "stream",
     "text": [
      "100%|████████████████████████████████████████████████████████████████████████████████████████████████████████████████████████| 51/51 [00:00<00:00, 206.36it/s]\n"
     ]
    },
    {
     "name": "stdout",
     "output_type": "stream",
     "text": [
      "Epoch 13, loss: 0.000, err: 0.018, val_loss: 0.001, val_err: 0.029\n"
     ]
    },
    {
     "name": "stderr",
     "output_type": "stream",
     "text": [
      "100%|████████████████████████████████████████████████████████████████████████████████████████████████████████████████████████| 51/51 [00:00<00:00, 208.08it/s]\n"
     ]
    },
    {
     "name": "stdout",
     "output_type": "stream",
     "text": [
      "Epoch 14, loss: 0.000, err: 0.018, val_loss: 0.001, val_err: 0.029\n"
     ]
    },
    {
     "name": "stderr",
     "output_type": "stream",
     "text": [
      "100%|████████████████████████████████████████████████████████████████████████████████████████████████████████████████████████| 51/51 [00:00<00:00, 206.79it/s]\n"
     ]
    },
    {
     "name": "stdout",
     "output_type": "stream",
     "text": [
      "Epoch 15, loss: 0.000, err: 0.018, val_loss: 0.001, val_err: 0.029\n"
     ]
    },
    {
     "name": "stderr",
     "output_type": "stream",
     "text": [
      "100%|████████████████████████████████████████████████████████████████████████████████████████████████████████████████████████| 51/51 [00:00<00:00, 207.69it/s]\n"
     ]
    },
    {
     "name": "stdout",
     "output_type": "stream",
     "text": [
      "Epoch 16, loss: 0.000, err: 0.018, val_loss: 0.001, val_err: 0.029\n"
     ]
    },
    {
     "name": "stderr",
     "output_type": "stream",
     "text": [
      "100%|████████████████████████████████████████████████████████████████████████████████████████████████████████████████████████| 51/51 [00:00<00:00, 206.39it/s]\n"
     ]
    },
    {
     "name": "stdout",
     "output_type": "stream",
     "text": [
      "Epoch 17, loss: 0.000, err: 0.018, val_loss: 0.001, val_err: 0.029\n"
     ]
    },
    {
     "name": "stderr",
     "output_type": "stream",
     "text": [
      "100%|████████████████████████████████████████████████████████████████████████████████████████████████████████████████████████| 51/51 [00:00<00:00, 207.45it/s]\n"
     ]
    },
    {
     "name": "stdout",
     "output_type": "stream",
     "text": [
      "Epoch 18, loss: 0.000, err: 0.018, val_loss: 0.001, val_err: 0.030\n"
     ]
    },
    {
     "name": "stderr",
     "output_type": "stream",
     "text": [
      "100%|████████████████████████████████████████████████████████████████████████████████████████████████████████████████████████| 51/51 [00:00<00:00, 207.58it/s]\n"
     ]
    },
    {
     "name": "stdout",
     "output_type": "stream",
     "text": [
      "Epoch 19, loss: 0.000, err: 0.018, val_loss: 0.001, val_err: 0.029\n"
     ]
    },
    {
     "name": "stderr",
     "output_type": "stream",
     "text": [
      "100%|████████████████████████████████████████████████████████████████████████████████████████████████████████████████████████| 51/51 [00:00<00:00, 209.13it/s]\n"
     ]
    },
    {
     "name": "stdout",
     "output_type": "stream",
     "text": [
      "Epoch 20, loss: 0.000, err: 0.018, val_loss: 0.001, val_err: 0.028\n"
     ]
    },
    {
     "name": "stderr",
     "output_type": "stream",
     "text": [
      "100%|████████████████████████████████████████████████████████████████████████████████████████████████████████████████████████| 51/51 [00:00<00:00, 209.26it/s]\n"
     ]
    },
    {
     "name": "stdout",
     "output_type": "stream",
     "text": [
      "Epoch 21, loss: 0.000, err: 0.018, val_loss: 0.001, val_err: 0.028\n"
     ]
    },
    {
     "name": "stderr",
     "output_type": "stream",
     "text": [
      "100%|████████████████████████████████████████████████████████████████████████████████████████████████████████████████████████| 51/51 [00:00<00:00, 208.56it/s]\n"
     ]
    },
    {
     "name": "stdout",
     "output_type": "stream",
     "text": [
      "Epoch 22, loss: 0.000, err: 0.018, val_loss: 0.001, val_err: 0.028\n"
     ]
    },
    {
     "name": "stderr",
     "output_type": "stream",
     "text": [
      "100%|████████████████████████████████████████████████████████████████████████████████████████████████████████████████████████| 51/51 [00:00<00:00, 207.41it/s]\n"
     ]
    },
    {
     "name": "stdout",
     "output_type": "stream",
     "text": [
      "Epoch 23, loss: 0.000, err: 0.018, val_loss: 0.001, val_err: 0.028\n"
     ]
    },
    {
     "name": "stderr",
     "output_type": "stream",
     "text": [
      "100%|████████████████████████████████████████████████████████████████████████████████████████████████████████████████████████| 51/51 [00:00<00:00, 204.46it/s]\n"
     ]
    },
    {
     "name": "stdout",
     "output_type": "stream",
     "text": [
      "Epoch 24, loss: 0.000, err: 0.018, val_loss: 0.001, val_err: 0.029\n"
     ]
    },
    {
     "name": "stderr",
     "output_type": "stream",
     "text": [
      "100%|████████████████████████████████████████████████████████████████████████████████████████████████████████████████████████| 51/51 [00:00<00:00, 207.24it/s]\n"
     ]
    },
    {
     "name": "stdout",
     "output_type": "stream",
     "text": [
      "Epoch 25, loss: 0.000, err: 0.018, val_loss: 0.001, val_err: 0.029\n"
     ]
    },
    {
     "name": "stderr",
     "output_type": "stream",
     "text": [
      "100%|████████████████████████████████████████████████████████████████████████████████████████████████████████████████████████| 51/51 [00:00<00:00, 207.79it/s]\n"
     ]
    },
    {
     "name": "stdout",
     "output_type": "stream",
     "text": [
      "Epoch 26, loss: 0.000, err: 0.018, val_loss: 0.001, val_err: 0.027\n"
     ]
    },
    {
     "name": "stderr",
     "output_type": "stream",
     "text": [
      "100%|████████████████████████████████████████████████████████████████████████████████████████████████████████████████████████| 51/51 [00:00<00:00, 207.71it/s]\n"
     ]
    },
    {
     "name": "stdout",
     "output_type": "stream",
     "text": [
      "Epoch 27, loss: 0.000, err: 0.018, val_loss: 0.001, val_err: 0.028\n"
     ]
    },
    {
     "name": "stderr",
     "output_type": "stream",
     "text": [
      "100%|████████████████████████████████████████████████████████████████████████████████████████████████████████████████████████| 51/51 [00:00<00:00, 206.49it/s]\n"
     ]
    },
    {
     "name": "stdout",
     "output_type": "stream",
     "text": [
      "Epoch 28, loss: 0.000, err: 0.018, val_loss: 0.001, val_err: 0.028\n"
     ]
    },
    {
     "name": "stderr",
     "output_type": "stream",
     "text": [
      "100%|████████████████████████████████████████████████████████████████████████████████████████████████████████████████████████| 51/51 [00:00<00:00, 206.55it/s]\n"
     ]
    },
    {
     "name": "stdout",
     "output_type": "stream",
     "text": [
      "Epoch 29, loss: 0.000, err: 0.018, val_loss: 0.001, val_err: 0.027\n"
     ]
    },
    {
     "name": "stderr",
     "output_type": "stream",
     "text": [
      "100%|████████████████████████████████████████████████████████████████████████████████████████████████████████████████████████| 51/51 [00:00<00:00, 207.79it/s]\n"
     ]
    },
    {
     "name": "stdout",
     "output_type": "stream",
     "text": [
      "Epoch 30, loss: 0.000, err: 0.018, val_loss: 0.001, val_err: 0.027\n"
     ]
    },
    {
     "name": "stderr",
     "output_type": "stream",
     "text": [
      "100%|████████████████████████████████████████████████████████████████████████████████████████████████████████████████████████| 51/51 [00:00<00:00, 208.90it/s]\n"
     ]
    },
    {
     "name": "stdout",
     "output_type": "stream",
     "text": [
      "Epoch 31, loss: 0.000, err: 0.018, val_loss: 0.001, val_err: 0.028\n"
     ]
    },
    {
     "name": "stderr",
     "output_type": "stream",
     "text": [
      "100%|████████████████████████████████████████████████████████████████████████████████████████████████████████████████████████| 51/51 [00:00<00:00, 207.67it/s]\n"
     ]
    },
    {
     "name": "stdout",
     "output_type": "stream",
     "text": [
      "Epoch 32, loss: 0.000, err: 0.017, val_loss: 0.001, val_err: 0.028\n"
     ]
    },
    {
     "name": "stderr",
     "output_type": "stream",
     "text": [
      "100%|████████████████████████████████████████████████████████████████████████████████████████████████████████████████████████| 51/51 [00:00<00:00, 207.27it/s]\n"
     ]
    },
    {
     "name": "stdout",
     "output_type": "stream",
     "text": [
      "Epoch 33, loss: 0.000, err: 0.018, val_loss: 0.001, val_err: 0.027\n"
     ]
    },
    {
     "name": "stderr",
     "output_type": "stream",
     "text": [
      "100%|████████████████████████████████████████████████████████████████████████████████████████████████████████████████████████| 51/51 [00:00<00:00, 205.77it/s]\n"
     ]
    },
    {
     "name": "stdout",
     "output_type": "stream",
     "text": [
      "Epoch 34, loss: 0.000, err: 0.017, val_loss: 0.001, val_err: 0.028\n"
     ]
    },
    {
     "name": "stderr",
     "output_type": "stream",
     "text": [
      "100%|████████████████████████████████████████████████████████████████████████████████████████████████████████████████████████| 51/51 [00:00<00:00, 207.78it/s]\n"
     ]
    },
    {
     "name": "stdout",
     "output_type": "stream",
     "text": [
      "Epoch 35, loss: 0.000, err: 0.017, val_loss: 0.001, val_err: 0.027\n"
     ]
    },
    {
     "name": "stderr",
     "output_type": "stream",
     "text": [
      "100%|████████████████████████████████████████████████████████████████████████████████████████████████████████████████████████| 51/51 [00:00<00:00, 207.46it/s]\n"
     ]
    },
    {
     "name": "stdout",
     "output_type": "stream",
     "text": [
      "Epoch 36, loss: 0.000, err: 0.017, val_loss: 0.001, val_err: 0.027\n"
     ]
    },
    {
     "name": "stderr",
     "output_type": "stream",
     "text": [
      "100%|████████████████████████████████████████████████████████████████████████████████████████████████████████████████████████| 51/51 [00:00<00:00, 207.24it/s]\n"
     ]
    },
    {
     "name": "stdout",
     "output_type": "stream",
     "text": [
      "Epoch 37, loss: 0.000, err: 0.017, val_loss: 0.001, val_err: 0.028\n"
     ]
    },
    {
     "name": "stderr",
     "output_type": "stream",
     "text": [
      "100%|████████████████████████████████████████████████████████████████████████████████████████████████████████████████████████| 51/51 [00:00<00:00, 207.67it/s]\n"
     ]
    },
    {
     "name": "stdout",
     "output_type": "stream",
     "text": [
      "Epoch 38, loss: 0.000, err: 0.017, val_loss: 0.001, val_err: 0.028\n"
     ]
    },
    {
     "name": "stderr",
     "output_type": "stream",
     "text": [
      "100%|████████████████████████████████████████████████████████████████████████████████████████████████████████████████████████| 51/51 [00:00<00:00, 207.29it/s]\n"
     ]
    },
    {
     "name": "stdout",
     "output_type": "stream",
     "text": [
      "Epoch 39, loss: 0.000, err: 0.019, val_loss: 0.001, val_err: 0.026\n"
     ]
    },
    {
     "name": "stderr",
     "output_type": "stream",
     "text": [
      "100%|████████████████████████████████████████████████████████████████████████████████████████████████████████████████████████| 10/10 [00:00<00:00, 566.31it/s]\n"
     ]
    },
    {
     "name": "stdout",
     "output_type": "stream",
     "text": [
      "STATE: [ 0.72132932  0.73316312 -0.03247978 -0.02931085] ACT: [-0.37119753 -0.33498118] \n",
      "STATE: [ 0.69936445  0.71329117 -0.06275678 -0.056777  ] ACT: [-0.37038263 -0.33588199] \n",
      "STATE: [ 0.66749809  0.6844369  -0.09104675 -0.08244079] ACT: [-0.37038157 -0.33588315] \n",
      "STATE: [ 0.62632352  0.64725241 -0.11764163 -0.10624139] ACT: [-0.37222649 -0.33383745] \n",
      "STATE: [ 0.57636215  0.6025054  -0.14274676 -0.1278486 ] ACT: [-0.37514708 -0.32662058] \n",
      "STATE: [ 0.51528432  0.56032121 -0.17450809 -0.12052625] ACT: [-0.47004667 -0.01220253] \n",
      "STATE: [ 0.44806504  0.52784359 -0.19205509 -0.09279322] ACT: [-0.33141817  0.22655431] \n",
      "STATE: [ 0.37136764  0.49105078 -0.21913543 -0.10512229] ACT: [-0.45353094 -0.21049865] \n",
      "STATE: [ 0.28687191  0.4483165  -0.24141637 -0.12209795] ACT: [-0.41899085 -0.27284917] \n",
      "STATE: [ 0.19626426  0.3984575  -0.258879   -0.14245428] ACT: [-0.3806352  -0.32421727] \n",
      "STATE: [ 0.10059089  0.34123039 -0.27335248 -0.16350603] ACT: [-0.35957046 -0.34743213] \n",
      "STATE: [ 0.00096068  0.27636982 -0.28465773 -0.18531593] ACT: [-0.33421728 -0.37188548] \n",
      "STATE: [-0.09796354  0.20160742 -0.28264064 -0.21360686] ACT: [-0.19044085 -0.46231189] \n",
      "final state  [-0.09796354  0.20160742]\n",
      "STATE: [ 0.80738898  0.67866336 -0.03279442 -0.0289584 ] ACT: [-0.37479333 -0.33095311] \n",
      "STATE: [ 0.78520186  0.65903984 -0.06339177 -0.0560672 ] ACT: [-0.37427982 -0.33153373] \n",
      "STATE: [ 0.7530083   0.63055106 -0.09198159 -0.08139652] ACT: [-0.3742846  -0.33152833] \n",
      "STATE: [ 0.71149752  0.59374218 -0.11860222 -0.10516823] ACT: [-0.37322202 -0.3327241 ] \n",
      "STATE: [ 0.66138857  0.54903977 -0.14316845 -0.12772115] ACT: [-0.36970855 -0.33662381] \n",
      "STATE: [ 0.60614678  0.49448208 -0.15783367 -0.15587912] ACT: [-0.27497885 -0.41759626] \n",
      "STATE: [ 0.55666647  0.42834198 -0.14137231 -0.18897172] ACT: [ 0.06975451 -0.4951104 ] \n",
      "STATE: [ 0.52409908  0.35963439 -0.09304971 -0.1963074 ] ACT: [ 0.44622904 -0.22556517] \n",
      "STATE: [ 0.48507494  0.28276229 -0.11149754 -0.21963457] ACT: [-0.2806196  -0.41382682] \n",
      "STATE: [ 0.43770233  0.20018982 -0.1353503  -0.23592133] ACT: [-0.35622611 -0.35086031] \n",
      "STATE: [ 0.38191244  0.11295544 -0.1593997  -0.2492411 ] ACT: [-0.37636302 -0.32916695] \n",
      "STATE: [ 0.31752042  0.02227611 -0.18397717 -0.25908381] ACT: [-0.40043517 -0.29941889] \n",
      "STATE: [ 0.24354684 -0.0690729  -0.2113531  -0.26099717] ACT: [-0.45085061 -0.21617985] \n",
      "final state  [ 0.24354684 -0.0690729 ]\n",
      "STATE: [ 0.67025726  0.68562426 -0.03248367 -0.02930655] ACT: [-0.37124195 -0.33493196] \n",
      "STATE: [ 0.64823465  0.66581633 -0.06292175 -0.05659408] ACT: [-0.37222649 -0.33383745] \n",
      "STATE: [ 0.61626374  0.63707794 -0.09134544 -0.08210969] ACT: [-0.3720335 -0.3340525] \n",
      "STATE: [ 0.57485872  0.60015174 -0.11830006 -0.10550343] ACT: [-0.37656193 -0.32893937] \n",
      "STATE: [ 0.52177573  0.56527512 -0.15166571 -0.09964749] ACT: [-0.47004667 -0.01220253] \n",
      "STATE: [ 0.46202662  0.5396255  -0.17071173 -0.07328462] ACT: [-0.33141817  0.22655431] \n",
      "STATE: [ 0.39230094  0.52208791 -0.19921623 -0.05010739] ACT: [-0.45379942  0.20991923] \n",
      "STATE: [ 0.31635535  0.51656062 -0.2169874  -0.01579226] ACT: [-0.35251131  0.3545924 ] \n",
      "STATE: [ 0.23302621  0.50236732 -0.23808326 -0.04055229] ACT: [-0.40383604 -0.29481597] \n",
      "STATE: [ 0.1436508   0.47901173 -0.25535831 -0.06673026] ACT: [-0.37599162 -0.32959111] \n",
      "STATE: [ 0.04928353  0.44639091 -0.26962077 -0.09320235] ACT: [-0.35451831 -0.35258583] \n",
      "STATE: [-0.04878552  0.40422456 -0.28019728 -0.12047529] ACT: [-0.32309    -0.38159252] \n",
      "final state  [-0.04878552  0.40422456]\n",
      "STATE: [ 0.70466309  0.72335538 -0.03240848 -0.02938967] ACT: [-0.37038263 -0.33588199] \n",
      "STATE: [ 0.68269349  0.70348867 -0.0627703  -0.05676203] ACT: [-0.37129859 -0.33486917] \n",
      "STATE: [ 0.6508227   0.67463929 -0.09105939 -0.0824268 ] ACT: [-0.37038157 -0.33588315] \n",
      "STATE: [ 0.609644    0.63745938 -0.11765343 -0.10622831] ACT: [-0.37222649 -0.33383745] \n",
      "STATE: [ 0.55821657  0.59454981 -0.14693551 -0.12259876] ACT: [-0.42289243 -0.26676205] \n",
      "STATE: [ 0.49576889  0.55408249 -0.17842195 -0.11562094] ACT: [-0.47004667 -0.01220253] \n",
      "STATE: [ 0.43227958  0.52662417 -0.18139803 -0.07845234] ACT: [-0.16782879  0.33806829] \n",
      "STATE: [ 0.37272799  0.51627859 -0.1701474  -0.02955879] ACT: [-0.00746983  0.4999442 ] \n",
      "STATE: [ 0.30299905  0.50060582 -0.19922554 -0.04477934] ACT: [-0.4599322  -0.19611827] \n",
      "STATE: [ 0.22547859  0.47693284 -0.22148702 -0.06763709] ACT: [-0.40383604 -0.29481597] \n",
      "STATE: [ 0.14168443  0.44454691 -0.23941188 -0.09253122] ACT: [-0.37097088 -0.33523217] \n",
      "STATE: [ 0.05257461  0.40344584 -0.2545995  -0.11743164] ACT: [-0.35313165 -0.35397463] \n",
      "STATE: [-0.04044205  0.35323866 -0.26576187 -0.14344907] ACT: [-0.3185196  -0.38541571] \n",
      "final state  [-0.04044205  0.35323866]\n",
      "STATE: [ 0.81095597  0.85375684 -0.03244539 -0.02934892] ACT: [-0.37080449 -0.33541621] \n",
      "STATE: [ 0.78900476  0.83386977 -0.06271772 -0.0568202 ] ACT: [-0.37030355 -0.33596917] \n",
      "STATE: [ 0.75714226  0.80501121 -0.09103573 -0.08245304] ACT: [-0.37067266 -0.33556189] \n",
      "STATE: [ 0.71604654  0.76773943 -0.11741634 -0.10649078] ACT: [-0.3697695  -0.33655685] \n",
      "STATE: [ 0.66632097  0.72260939 -0.14207305 -0.128943  ] ACT: [-0.36985325 -0.33646482] \n",
      "STATE: [ 0.6085011   0.6701707  -0.16519962 -0.14982482] ACT: [-0.37085838 -0.33535662] \n",
      "STATE: [ 0.54322563  0.61218719 -0.18650136 -0.16566717] ACT: [-0.36734824 -0.29342404] \n",
      "STATE: [ 0.46765045  0.56130605 -0.21592907 -0.14537468] ACT: [-0.47619262  0.10766373] \n",
      "STATE: [ 0.38741523  0.52567762 -0.22924348 -0.10179552] ACT: [-0.31411157  0.38901661] \n",
      "STATE: [ 0.30164979  0.5032467  -0.24504412 -0.06408835] ACT: [-0.35251131  0.3545924 ] \n",
      "STATE: [ 0.20914523  0.47325907 -0.26429875 -0.08567895] ACT: [-0.40383604 -0.29481597] \n",
      "STATE: [ 0.11151534  0.43479314 -0.27894253 -0.10990264] ACT: [-0.36558146 -0.34110144] \n",
      "STATE: [ 0.00996225  0.38754844 -0.2901517  -0.13498487] ACT: [-0.33731171 -0.36908103] \n",
      "STATE: [-0.09402337  0.33108677 -0.29710177 -0.16131905] ACT: [-0.29704318 -0.40220063] \n",
      "final state  [-0.09402337  0.33108677]\n",
      "STATE: [ 0.81267778  0.74521051 -0.03266157 -0.02910815] ACT: [-0.37327508 -0.33266457] \n",
      "STATE: [ 0.79058265  0.72548347 -0.06312893 -0.05636297] ACT: [-0.3726946  -0.33331476] \n",
      "STATE: [ 0.75850494  0.69686433 -0.09165062 -0.08176899] ACT: [-0.3733088  -0.33262673] \n",
      "STATE: [ 0.71710217  0.65993389 -0.11829363 -0.10551552] ACT: [-0.37322953 -0.33271567] \n",
      "STATE: [ 0.66703483  0.61518342 -0.14304953 -0.12785849] ACT: [-0.37164485 -0.33448484] \n",
      "STATE: [ 0.60892165  0.5630707  -0.16603766 -0.14889349] ACT: [-0.37000864 -0.33629393] \n",
      "STATE: [ 0.54513484  0.50610828 -0.18224802 -0.16274977] ACT: [-0.30978947 -0.27002759] \n",
      "STATE: [ 0.48107191  0.44626245 -0.18303695 -0.17098808] ACT: [-0.14570239 -0.21621442] \n",
      "COLLIDED\n",
      "STATE: [ 0.43324948  0.39980964 -0.1366355  -0.13272232] ACT: [0.39302463 0.30908193] \n",
      "STATE: [ 0.37735177  0.34597807 -0.15970775 -0.15380449] ACT: [-0.36615956 -0.34048081] \n",
      "STATE: [ 0.31378269  0.28538916 -0.18162594 -0.17311118] ACT: [-0.37027436 -0.33600133] \n",
      "STATE: [ 0.24300355  0.21853297 -0.20222612 -0.19101768] ACT: [-0.37165008 -0.33447903] \n",
      "STATE: [ 0.16550135  0.14580544 -0.22143485 -0.20779296] ACT: [-0.37119788 -0.33498079] \n",
      "STATE: [ 0.08237297  0.06690898 -0.23750966 -0.22541845] ACT: [-0.34978825 -0.35727885] \n",
      "STATE: [ 0.01615066  0.00335636 -0.18920662 -0.18157892] ACT: [0.37390242 0.33195931] \n",
      "final state  [0.01615066 0.00335636]\n",
      "STATE: [ 0.63940011  0.69477288 -0.03245011 -0.0293437 ] ACT: [-0.37085838 -0.33535662] \n",
      "STATE: [ 0.61728482  0.67506956 -0.06318652 -0.0562952 ] ACT: [-0.37561091 -0.33002492] \n",
      "STATE: [ 0.58511777  0.64655226 -0.09190586 -0.08147801] ACT: [-0.37561091 -0.33002492] \n",
      "STATE: [ 0.54170549  0.61241741 -0.12403507 -0.09752812] ACT: [-0.43612039 -0.24453835] \n",
      "STATE: [ 0.48655875  0.58381987 -0.15756213 -0.08170726] ACT: [-0.47619262  0.10766373] \n",
      "STATE: [ 0.42484303  0.56446925 -0.17633064 -0.0552875 ] ACT: [-0.33266891  0.24065974] \n",
      "STATE: [ 0.35691926  0.55775704 -0.19406789 -0.01917775] ACT: [-0.33495937  0.37121721] \n",
      "STATE: [ 0.27928076  0.54568702 -0.2218243  -0.03448577] ACT: [-0.46276705 -0.18933215] \n",
      "STATE: [ 0.19459898  0.52507451 -0.24194793 -0.05889287] ACT: [-0.39635261 -0.30480257] \n",
      "STATE: [ 0.10415671  0.49550056 -0.25840648 -0.084497  ] ACT: [-0.36955866 -0.33678835] \n",
      "STATE: [ 0.00934521  0.45654089 -0.27089    -0.11131335] ACT: [-0.33647359 -0.36984527] \n",
      "STATE: [-0.08869813  0.40809231 -0.28012384 -0.13842452] ACT: [-0.30869715 -0.39332693] \n",
      "final state  [-0.08869813  0.40809231]\n",
      "STATE: [ 0.85094801  0.65155429 -0.03289995 -0.02883844] ACT: [-0.37599944 -0.32958219] \n",
      "STATE: [ 0.82867371  0.63202977 -0.06364084 -0.05578436] ACT: [-0.37599944 -0.32958219] \n",
      "STATE: [ 0.79633552  0.60370526 -0.09239483 -0.08092716] ACT: [-0.37634762 -0.32918455] \n",
      "STATE: [ 0.75458979  0.56716294 -0.11927351 -0.10440662] ACT: [-0.376481   -0.32903199] \n",
      "STATE: [ 0.70429596  0.52267169 -0.14369668 -0.12711788] ACT: [-0.36857716 -0.33786222] \n",
      "STATE: [ 0.64643196  0.47031589 -0.16532571 -0.149588  ] ACT: [-0.35496134 -0.35213981] \n",
      "STATE: [ 0.58745174  0.40689319 -0.16851492 -0.18120771] ACT: [-0.16044247 -0.47355909] \n",
      "STATE: [ 0.53378741  0.33238847 -0.15332665 -0.21287063] ACT: [ 0.04719401 -0.49776774] \n",
      "STATE: [ 0.47477673  0.25028993 -0.16860193 -0.23456725] ACT: [-0.28956957 -0.40761436] \n",
      "STATE: [ 0.40854555  0.16302372 -0.18923194 -0.24933203] ACT: [-0.36222295 -0.34466583] \n",
      "STATE: [ 0.33495141  0.07161709 -0.21026899 -0.2611618 ] ACT: [-0.38234737 -0.32219635] \n",
      "STATE: [ 0.25365904 -0.02259586 -0.23226391 -0.26917986] ACT: [-0.40907227 -0.2875063 ] \n",
      "final state  [ 0.25365904 -0.02259586]\n",
      "STATE: [ 0.74902189  0.79191306 -0.0324232  -0.02937344] ACT: [-0.3705508  -0.33569645] \n",
      "STATE: [ 0.7270943   0.77199997 -0.06265025 -0.05689453] ACT: [-0.3697695  -0.33655685] \n",
      "STATE: [ 0.69527895  0.74308944 -0.09090099 -0.0826015 ] ACT: [-0.36985325 -0.33646482] \n",
      "STATE: [ 0.65422532  0.70577129 -0.11729609 -0.1066233 ] ACT: [-0.36983399 -0.33648598] \n",
      "STATE: [ 0.6045083   0.66063184 -0.14204864 -0.12896985] ACT: [-0.37085838 -0.33535662] \n",
      "STATE: [ 0.54680391  0.60946856 -0.16486967 -0.14618081] ACT: [-0.36734824 -0.29342404] \n",
      "STATE: [ 0.47830298  0.56496007 -0.19571695 -0.12716712] ACT: [-0.47619262  0.10766373] \n",
      "STATE: [ 0.40410944  0.53074265 -0.21198156 -0.09776405] ACT: [-0.33266891  0.24065974] \n",
      "STATE: [ 0.32355243  0.50917775 -0.23016287 -0.061614  ] ACT: [-0.3667726   0.33982033] \n",
      "STATE: [ 0.2359145   0.47999931 -0.25039408 -0.08336698] ACT: [-0.40383604 -0.29481597] \n",
      "STATE: [ 0.14266683  0.44246922 -0.26642192 -0.10722884] ACT: [-0.37097088 -0.33523217] \n",
      "STATE: [ 0.04486679  0.39642084 -0.27942868 -0.13156678] ACT: [-0.34846508 -0.3585695 ] \n",
      "STATE: [-0.05626978  0.34159104 -0.28896164 -0.15665658] ACT: [-0.3185196  -0.38541571] \n",
      "final state  [-0.05626978  0.34159104]\n",
      "STATE: [ 0.86304915  0.84998109 -0.03255445 -0.02922791] ACT: [-0.37205082 -0.33403321] \n",
      "STATE: [ 0.84102953  0.83016981 -0.0629132  -0.05660366] ACT: [-0.37137299 -0.33478665] \n",
      "STATE: [ 0.80908141  0.80140606 -0.09128033 -0.08218213] ACT: [-0.37138067 -0.33477813] \n",
      "STATE: [ 0.76785894  0.7642745  -0.11777849 -0.10609019] ACT: [-0.37129642 -0.33487157] \n",
      "STATE: [ 0.71797     0.71932506 -0.14253982 -0.12842695] ACT: [-0.37132044 -0.33484493] \n",
      "STATE: [ 0.65998401  0.66707007 -0.16567427 -0.14929998] ACT: [-0.37129859 -0.33486917] \n",
      "STATE: [ 0.59440982  0.60801395 -0.18735483 -0.16873177] ACT: [-0.3720335 -0.3340525] \n",
      "STATE: [ 0.52260741  0.54679605 -0.20514974 -0.1749083 ] ACT: [-0.34388651 -0.19713773] \n",
      "STATE: [ 0.44089148  0.48506063 -0.23347409 -0.17638692] ACT: [-0.47756924 -0.14807978] \n",
      "STATE: [ 0.36017492  0.44205429 -0.23061874 -0.12287525] ACT: [-0.14247296  0.4792718 ] \n",
      "STATE: [ 0.2729406   0.39212943 -0.24924092 -0.14264246] ACT: [-0.38578896 -0.31806741] \n",
      "STATE: [ 0.18003687  0.33525124 -0.26543922 -0.16250913] ACT: [-0.37205414 -0.33402952] \n",
      "STATE: [ 0.08238827  0.27129222 -0.278996   -0.18274003] ACT: [-0.35401401 -0.35309217] \n",
      "STATE: [-0.01866466  0.19977522 -0.28872266 -0.20433429] ACT: [-0.3204089 -0.3838465] \n",
      "final state  [-0.01866466  0.19977522]\n",
      "After 9 REWARD:  (0.7982403182620915, array([ 0.00685095,  0.21513036, -0.26163333, -0.18500216]), -0.2384662641867351)\n",
      "UPDATING THE ACTION MATRIX\n"
     ]
    },
    {
     "name": "stderr",
     "output_type": "stream",
     "text": [
      "100%|█████████████████████████████████████████████████████████████████████████████████████████████████████████████████████████| 25/25 [00:03<00:00,  6.94it/s]\n",
      "Generating Dynamics Dataset: 100%|██████████████████████████████████████████████████████████████████████████████████████████| 15/15 [00:00<00:00, 2466.27it/s]\n",
      "100%|████████████████████████████████████████████████████████████████████████████████████████████████████████████████████████| 54/54 [00:00<00:00, 205.24it/s]\n"
     ]
    },
    {
     "name": "stdout",
     "output_type": "stream",
     "text": [
      "Epoch 1, loss: 0.000, err: 0.017, val_loss: 0.001, val_err: 0.026\n"
     ]
    },
    {
     "name": "stderr",
     "output_type": "stream",
     "text": [
      "100%|████████████████████████████████████████████████████████████████████████████████████████████████████████████████████████| 54/54 [00:00<00:00, 207.38it/s]\n"
     ]
    },
    {
     "name": "stdout",
     "output_type": "stream",
     "text": [
      "Epoch 2, loss: 0.000, err: 0.017, val_loss: 0.001, val_err: 0.027\n"
     ]
    },
    {
     "name": "stderr",
     "output_type": "stream",
     "text": [
      "100%|████████████████████████████████████████████████████████████████████████████████████████████████████████████████████████| 54/54 [00:00<00:00, 205.65it/s]\n"
     ]
    },
    {
     "name": "stdout",
     "output_type": "stream",
     "text": [
      "Epoch 3, loss: 0.000, err: 0.017, val_loss: 0.001, val_err: 0.026\n"
     ]
    },
    {
     "name": "stderr",
     "output_type": "stream",
     "text": [
      "100%|████████████████████████████████████████████████████████████████████████████████████████████████████████████████████████| 54/54 [00:00<00:00, 207.33it/s]\n"
     ]
    },
    {
     "name": "stdout",
     "output_type": "stream",
     "text": [
      "Epoch 4, loss: 0.000, err: 0.017, val_loss: 0.001, val_err: 0.027\n"
     ]
    },
    {
     "name": "stderr",
     "output_type": "stream",
     "text": [
      "100%|████████████████████████████████████████████████████████████████████████████████████████████████████████████████████████| 54/54 [00:00<00:00, 207.57it/s]\n"
     ]
    },
    {
     "name": "stdout",
     "output_type": "stream",
     "text": [
      "Epoch 5, loss: 0.000, err: 0.017, val_loss: 0.001, val_err: 0.026\n"
     ]
    },
    {
     "name": "stderr",
     "output_type": "stream",
     "text": [
      "100%|████████████████████████████████████████████████████████████████████████████████████████████████████████████████████████| 54/54 [00:00<00:00, 157.53it/s]\n"
     ]
    },
    {
     "name": "stdout",
     "output_type": "stream",
     "text": [
      "Epoch 6, loss: 0.000, err: 0.017, val_loss: 0.001, val_err: 0.027\n"
     ]
    },
    {
     "name": "stderr",
     "output_type": "stream",
     "text": [
      "100%|████████████████████████████████████████████████████████████████████████████████████████████████████████████████████████| 54/54 [00:00<00:00, 202.60it/s]\n"
     ]
    },
    {
     "name": "stdout",
     "output_type": "stream",
     "text": [
      "Epoch 7, loss: 0.000, err: 0.017, val_loss: 0.001, val_err: 0.026\n"
     ]
    },
    {
     "name": "stderr",
     "output_type": "stream",
     "text": [
      "100%|████████████████████████████████████████████████████████████████████████████████████████████████████████████████████████| 54/54 [00:00<00:00, 208.43it/s]\n"
     ]
    },
    {
     "name": "stdout",
     "output_type": "stream",
     "text": [
      "Epoch 8, loss: 0.000, err: 0.017, val_loss: 0.001, val_err: 0.026\n"
     ]
    },
    {
     "name": "stderr",
     "output_type": "stream",
     "text": [
      "100%|████████████████████████████████████████████████████████████████████████████████████████████████████████████████████████| 54/54 [00:00<00:00, 207.20it/s]\n"
     ]
    },
    {
     "name": "stdout",
     "output_type": "stream",
     "text": [
      "Epoch 9, loss: 0.000, err: 0.017, val_loss: 0.001, val_err: 0.026\n"
     ]
    },
    {
     "name": "stderr",
     "output_type": "stream",
     "text": [
      "100%|████████████████████████████████████████████████████████████████████████████████████████████████████████████████████████| 54/54 [00:00<00:00, 208.12it/s]\n"
     ]
    },
    {
     "name": "stdout",
     "output_type": "stream",
     "text": [
      "Epoch 10, loss: 0.000, err: 0.017, val_loss: 0.001, val_err: 0.027\n"
     ]
    },
    {
     "name": "stderr",
     "output_type": "stream",
     "text": [
      "100%|████████████████████████████████████████████████████████████████████████████████████████████████████████████████████████| 54/54 [00:00<00:00, 205.44it/s]\n"
     ]
    },
    {
     "name": "stdout",
     "output_type": "stream",
     "text": [
      "Epoch 11, loss: 0.000, err: 0.017, val_loss: 0.001, val_err: 0.027\n"
     ]
    },
    {
     "name": "stderr",
     "output_type": "stream",
     "text": [
      "100%|████████████████████████████████████████████████████████████████████████████████████████████████████████████████████████| 54/54 [00:00<00:00, 207.21it/s]\n"
     ]
    },
    {
     "name": "stdout",
     "output_type": "stream",
     "text": [
      "Epoch 12, loss: 0.000, err: 0.017, val_loss: 0.001, val_err: 0.026\n"
     ]
    },
    {
     "name": "stderr",
     "output_type": "stream",
     "text": [
      "100%|████████████████████████████████████████████████████████████████████████████████████████████████████████████████████████| 54/54 [00:00<00:00, 208.60it/s]\n"
     ]
    },
    {
     "name": "stdout",
     "output_type": "stream",
     "text": [
      "Epoch 13, loss: 0.000, err: 0.017, val_loss: 0.001, val_err: 0.026\n"
     ]
    },
    {
     "name": "stderr",
     "output_type": "stream",
     "text": [
      "100%|████████████████████████████████████████████████████████████████████████████████████████████████████████████████████████| 54/54 [00:00<00:00, 208.44it/s]\n"
     ]
    },
    {
     "name": "stdout",
     "output_type": "stream",
     "text": [
      "Epoch 14, loss: 0.000, err: 0.017, val_loss: 0.001, val_err: 0.025\n"
     ]
    },
    {
     "name": "stderr",
     "output_type": "stream",
     "text": [
      "100%|████████████████████████████████████████████████████████████████████████████████████████████████████████████████████████| 54/54 [00:00<00:00, 207.36it/s]\n"
     ]
    },
    {
     "name": "stdout",
     "output_type": "stream",
     "text": [
      "Epoch 15, loss: 0.000, err: 0.017, val_loss: 0.001, val_err: 0.026\n"
     ]
    },
    {
     "name": "stderr",
     "output_type": "stream",
     "text": [
      "100%|████████████████████████████████████████████████████████████████████████████████████████████████████████████████████████| 54/54 [00:00<00:00, 208.59it/s]\n"
     ]
    },
    {
     "name": "stdout",
     "output_type": "stream",
     "text": [
      "Epoch 16, loss: 0.000, err: 0.017, val_loss: 0.001, val_err: 0.025\n"
     ]
    },
    {
     "name": "stderr",
     "output_type": "stream",
     "text": [
      "100%|████████████████████████████████████████████████████████████████████████████████████████████████████████████████████████| 54/54 [00:00<00:00, 208.34it/s]\n"
     ]
    },
    {
     "name": "stdout",
     "output_type": "stream",
     "text": [
      "Epoch 17, loss: 0.000, err: 0.017, val_loss: 0.001, val_err: 0.026\n"
     ]
    },
    {
     "name": "stderr",
     "output_type": "stream",
     "text": [
      "100%|████████████████████████████████████████████████████████████████████████████████████████████████████████████████████████| 54/54 [00:00<00:00, 208.92it/s]\n"
     ]
    },
    {
     "name": "stdout",
     "output_type": "stream",
     "text": [
      "Epoch 18, loss: 0.000, err: 0.017, val_loss: 0.001, val_err: 0.026\n"
     ]
    },
    {
     "name": "stderr",
     "output_type": "stream",
     "text": [
      "100%|████████████████████████████████████████████████████████████████████████████████████████████████████████████████████████| 54/54 [00:00<00:00, 207.80it/s]\n"
     ]
    },
    {
     "name": "stdout",
     "output_type": "stream",
     "text": [
      "Epoch 19, loss: 0.000, err: 0.017, val_loss: 0.001, val_err: 0.026\n"
     ]
    },
    {
     "name": "stderr",
     "output_type": "stream",
     "text": [
      "100%|████████████████████████████████████████████████████████████████████████████████████████████████████████████████████████| 54/54 [00:00<00:00, 208.34it/s]\n"
     ]
    },
    {
     "name": "stdout",
     "output_type": "stream",
     "text": [
      "Epoch 20, loss: 0.000, err: 0.017, val_loss: 0.001, val_err: 0.027\n"
     ]
    },
    {
     "name": "stderr",
     "output_type": "stream",
     "text": [
      "100%|████████████████████████████████████████████████████████████████████████████████████████████████████████████████████████| 54/54 [00:00<00:00, 207.81it/s]\n"
     ]
    },
    {
     "name": "stdout",
     "output_type": "stream",
     "text": [
      "Epoch 21, loss: 0.000, err: 0.017, val_loss: 0.001, val_err: 0.026\n"
     ]
    },
    {
     "name": "stderr",
     "output_type": "stream",
     "text": [
      "100%|████████████████████████████████████████████████████████████████████████████████████████████████████████████████████████| 54/54 [00:00<00:00, 208.86it/s]\n"
     ]
    },
    {
     "name": "stdout",
     "output_type": "stream",
     "text": [
      "Epoch 22, loss: 0.000, err: 0.017, val_loss: 0.001, val_err: 0.026\n"
     ]
    },
    {
     "name": "stderr",
     "output_type": "stream",
     "text": [
      "100%|████████████████████████████████████████████████████████████████████████████████████████████████████████████████████████| 54/54 [00:00<00:00, 207.46it/s]\n"
     ]
    },
    {
     "name": "stdout",
     "output_type": "stream",
     "text": [
      "Epoch 23, loss: 0.000, err: 0.017, val_loss: 0.001, val_err: 0.025\n"
     ]
    },
    {
     "name": "stderr",
     "output_type": "stream",
     "text": [
      "100%|████████████████████████████████████████████████████████████████████████████████████████████████████████████████████████| 54/54 [00:00<00:00, 207.00it/s]\n"
     ]
    },
    {
     "name": "stdout",
     "output_type": "stream",
     "text": [
      "Epoch 24, loss: 0.000, err: 0.017, val_loss: 0.001, val_err: 0.026\n"
     ]
    },
    {
     "name": "stderr",
     "output_type": "stream",
     "text": [
      "100%|████████████████████████████████████████████████████████████████████████████████████████████████████████████████████████| 54/54 [00:00<00:00, 207.48it/s]\n"
     ]
    },
    {
     "name": "stdout",
     "output_type": "stream",
     "text": [
      "Epoch 25, loss: 0.000, err: 0.017, val_loss: 0.001, val_err: 0.026\n"
     ]
    },
    {
     "name": "stderr",
     "output_type": "stream",
     "text": [
      "100%|████████████████████████████████████████████████████████████████████████████████████████████████████████████████████████| 54/54 [00:00<00:00, 208.76it/s]\n"
     ]
    },
    {
     "name": "stdout",
     "output_type": "stream",
     "text": [
      "Epoch 26, loss: 0.000, err: 0.017, val_loss: 0.001, val_err: 0.026\n"
     ]
    },
    {
     "name": "stderr",
     "output_type": "stream",
     "text": [
      "100%|████████████████████████████████████████████████████████████████████████████████████████████████████████████████████████| 54/54 [00:00<00:00, 207.43it/s]\n"
     ]
    },
    {
     "name": "stdout",
     "output_type": "stream",
     "text": [
      "Epoch 27, loss: 0.000, err: 0.017, val_loss: 0.001, val_err: 0.025\n"
     ]
    },
    {
     "name": "stderr",
     "output_type": "stream",
     "text": [
      "100%|████████████████████████████████████████████████████████████████████████████████████████████████████████████████████████| 54/54 [00:00<00:00, 204.86it/s]\n"
     ]
    },
    {
     "name": "stdout",
     "output_type": "stream",
     "text": [
      "Epoch 28, loss: 0.000, err: 0.017, val_loss: 0.001, val_err: 0.026\n"
     ]
    },
    {
     "name": "stderr",
     "output_type": "stream",
     "text": [
      "100%|████████████████████████████████████████████████████████████████████████████████████████████████████████████████████████| 54/54 [00:00<00:00, 206.72it/s]\n"
     ]
    },
    {
     "name": "stdout",
     "output_type": "stream",
     "text": [
      "Epoch 29, loss: 0.000, err: 0.017, val_loss: 0.001, val_err: 0.025\n"
     ]
    },
    {
     "name": "stderr",
     "output_type": "stream",
     "text": [
      "100%|████████████████████████████████████████████████████████████████████████████████████████████████████████████████████████| 54/54 [00:00<00:00, 209.28it/s]\n"
     ]
    },
    {
     "name": "stdout",
     "output_type": "stream",
     "text": [
      "Epoch 30, loss: 0.000, err: 0.017, val_loss: 0.001, val_err: 0.025\n"
     ]
    },
    {
     "name": "stderr",
     "output_type": "stream",
     "text": [
      "100%|████████████████████████████████████████████████████████████████████████████████████████████████████████████████████████| 54/54 [00:00<00:00, 208.65it/s]\n"
     ]
    },
    {
     "name": "stdout",
     "output_type": "stream",
     "text": [
      "Epoch 31, loss: 0.000, err: 0.017, val_loss: 0.001, val_err: 0.025\n"
     ]
    },
    {
     "name": "stderr",
     "output_type": "stream",
     "text": [
      "100%|████████████████████████████████████████████████████████████████████████████████████████████████████████████████████████| 54/54 [00:00<00:00, 208.40it/s]\n"
     ]
    },
    {
     "name": "stdout",
     "output_type": "stream",
     "text": [
      "Epoch 32, loss: 0.000, err: 0.017, val_loss: 0.001, val_err: 0.025\n"
     ]
    },
    {
     "name": "stderr",
     "output_type": "stream",
     "text": [
      "100%|████████████████████████████████████████████████████████████████████████████████████████████████████████████████████████| 54/54 [00:00<00:00, 207.53it/s]\n"
     ]
    },
    {
     "name": "stdout",
     "output_type": "stream",
     "text": [
      "Epoch 33, loss: 0.000, err: 0.017, val_loss: 0.001, val_err: 0.025\n"
     ]
    },
    {
     "name": "stderr",
     "output_type": "stream",
     "text": [
      "100%|████████████████████████████████████████████████████████████████████████████████████████████████████████████████████████| 54/54 [00:00<00:00, 208.11it/s]\n"
     ]
    },
    {
     "name": "stdout",
     "output_type": "stream",
     "text": [
      "Epoch 34, loss: 0.000, err: 0.017, val_loss: 0.001, val_err: 0.025\n"
     ]
    },
    {
     "name": "stderr",
     "output_type": "stream",
     "text": [
      "100%|████████████████████████████████████████████████████████████████████████████████████████████████████████████████████████| 54/54 [00:00<00:00, 207.67it/s]\n"
     ]
    },
    {
     "name": "stdout",
     "output_type": "stream",
     "text": [
      "Epoch 35, loss: 0.000, err: 0.017, val_loss: 0.001, val_err: 0.026\n"
     ]
    },
    {
     "name": "stderr",
     "output_type": "stream",
     "text": [
      "100%|████████████████████████████████████████████████████████████████████████████████████████████████████████████████████████| 54/54 [00:00<00:00, 209.35it/s]\n"
     ]
    },
    {
     "name": "stdout",
     "output_type": "stream",
     "text": [
      "Epoch 36, loss: 0.000, err: 0.017, val_loss: 0.001, val_err: 0.025\n"
     ]
    },
    {
     "name": "stderr",
     "output_type": "stream",
     "text": [
      "100%|████████████████████████████████████████████████████████████████████████████████████████████████████████████████████████| 54/54 [00:00<00:00, 204.58it/s]\n"
     ]
    },
    {
     "name": "stdout",
     "output_type": "stream",
     "text": [
      "Epoch 37, loss: 0.000, err: 0.017, val_loss: 0.001, val_err: 0.025\n"
     ]
    },
    {
     "name": "stderr",
     "output_type": "stream",
     "text": [
      "100%|████████████████████████████████████████████████████████████████████████████████████████████████████████████████████████| 54/54 [00:00<00:00, 207.29it/s]\n"
     ]
    },
    {
     "name": "stdout",
     "output_type": "stream",
     "text": [
      "Epoch 38, loss: 0.000, err: 0.016, val_loss: 0.001, val_err: 0.025\n"
     ]
    },
    {
     "name": "stderr",
     "output_type": "stream",
     "text": [
      "100%|████████████████████████████████████████████████████████████████████████████████████████████████████████████████████████| 54/54 [00:00<00:00, 206.99it/s]\n"
     ]
    },
    {
     "name": "stdout",
     "output_type": "stream",
     "text": [
      "Epoch 39, loss: 0.000, err: 0.018, val_loss: 0.001, val_err: 0.024\n"
     ]
    },
    {
     "name": "stderr",
     "output_type": "stream",
     "text": [
      "100%|████████████████████████████████████████████████████████████████████████████████████████████████████████████████████████| 10/10 [00:00<00:00, 601.97it/s]\n"
     ]
    },
    {
     "name": "stdout",
     "output_type": "stream",
     "text": [
      "STATE: [ 0.60557478  0.78304368 -0.03199137 -0.02984317] ACT: [-0.36561565 -0.3410648 ] \n",
      "STATE: [ 0.58392287  0.76283115 -0.06186259 -0.05775008] ACT: [-0.36537886 -0.34131846] \n",
      "STATE: [ 0.55232696  0.73368294 -0.09027404 -0.08328061] ACT: [-0.37109924 -0.33509007] \n",
      "STATE: [ 0.51096483  0.69673705 -0.11817749 -0.10555968] ACT: [-0.38660219 -0.31707845] \n",
      "STATE: [ 0.45777503  0.65944832 -0.15197086 -0.10653922] ACT: [-0.47484306 -0.09036442] \n",
      "STATE: [ 0.39276984  0.62505386 -0.18572912 -0.09826989] ACT: [-0.49978673  0.01460218] \n",
      "STATE: [ 0.31698155  0.59574465 -0.21653798 -0.0837406 ] ACT: [-0.4913981   0.09234666] \n",
      "STATE: [ 0.23242312  0.56160741 -0.24159551 -0.09753499] ACT: [-0.44877532 -0.22045569] \n",
      "STATE: [ 0.14165063  0.51990738 -0.25934998 -0.11914293] ACT: [-0.38410489 -0.3200991 ] \n",
      "STATE: [ 0.04635637  0.46977838 -0.27226931 -0.14322572] ACT: [-0.34216188 -0.36458914] \n",
      "STATE: [-0.0522443   0.4109776  -0.28171618 -0.16800223] ACT: [-0.31216628 -0.39057933] \n",
      "final state  [-0.0522443  0.4109776]\n",
      "STATE: [ 0.82896281  0.80657295 -0.03256659 -0.02921437] ACT: [-0.37218961 -0.33387857] \n",
      "STATE: [ 0.80688779  0.78682343 -0.06307148 -0.05642719] ACT: [-0.3730523  -0.33291437] \n",
      "STATE: [ 0.77486311  0.75814498 -0.09149908 -0.08193845] ACT: [-0.37219044 -0.33387764] \n",
      "STATE: [ 0.73354345  0.72112161 -0.11805618 -0.10578104] ACT: [-0.37213397 -0.33394058] \n",
      "STATE: [ 0.68351199  0.67633091 -0.14294702 -0.12797342] ACT: [-0.37300889 -0.33296301] \n",
      "STATE: [ 0.62535716  0.62426392 -0.16615665 -0.14876283] ACT: [-0.37246321 -0.33357332] \n",
      "STATE: [ 0.56040902  0.56646558 -0.18556614 -0.16513813] ACT: [-0.34644017 -0.29871839] \n",
      "STATE: [ 0.49241861  0.51616456 -0.1942583  -0.14371721] ACT: [-0.23851366  0.12095693] \n",
      "STATE: [ 0.43929333  0.48040041 -0.15178651 -0.10218326] ACT: [0.33969818 0.36688574] \n",
      "STATE: [ 0.3930018   0.46192543 -0.13226153 -0.05278565] ACT: [0.10930272 0.48790667] \n",
      "STATE: [ 0.33675907  0.43655383 -0.16069351 -0.0724903 ] ACT: [-0.42413301 -0.26478518] \n",
      "STATE: [ 0.27235055  0.40315751 -0.18402435 -0.09541805] ACT: [-0.38715828 -0.31639922] \n",
      "STATE: [ 0.20072412  0.36177977 -0.20464694 -0.11822212] ACT: [-0.37370507 -0.33218146] \n",
      "STATE: [ 0.12284183  0.31242018 -0.22252081 -0.14102739] ACT: [-0.35775793 -0.34929824] \n",
      "STATE: [ 0.04001493  0.2547518  -0.2366483  -0.1647668 ] ACT: [-0.32834764 -0.37707801] \n",
      "STATE: [-0.04178348  0.1862033  -0.23370976 -0.19585286] ACT: [-0.14390292 -0.47884439] \n",
      "final state  [-0.04178348  0.1862033 ]\n",
      "STATE: [ 0.85316835  0.64832548 -0.03313268 -0.02857075] ACT: [-0.3786592  -0.32652291] \n",
      "STATE: [ 0.83073649  0.62898218 -0.06409103 -0.05526655] ACT: [-0.3786592  -0.32652291] \n",
      "STATE: [ 0.79817311  0.60091685 -0.09303822 -0.08018666] ACT: [-0.37889337 -0.32625115] \n",
      "STATE: [ 0.75613191  0.56471487 -0.12011771 -0.10343424] ACT: [-0.37925854 -0.32582658] \n",
      "STATE: [ 0.70558468  0.52051692 -0.14442068 -0.12627986] ACT: [-0.36783644 -0.3386685 ] \n",
      "STATE: [ 0.64768039  0.46824067 -0.16544083 -0.14936071] ACT: [-0.3485458  -0.35849104] \n",
      "STATE: [ 0.59125374  0.40425968 -0.16121898 -0.18280283] ACT: [-0.07583091 -0.49421622] \n",
      "STATE: [ 0.5407757   0.32933049 -0.14422299 -0.21408338] ACT: [ 0.07332558 -0.49459414] \n",
      "STATE: [ 0.48527269  0.24647497 -0.15858003 -0.23673008] ACT: [-0.27224765 -0.41938195] \n",
      "STATE: [ 0.42236898  0.15844914 -0.17972487 -0.25150235] ACT: [-0.36059033 -0.34637352] \n",
      "STATE: [ 0.35181309  0.06641746 -0.20158828 -0.26294767] ACT: [-0.38466118 -0.3194304 ] \n",
      "STATE: [ 0.27254259 -0.02708385 -0.22648714 -0.26714658] ACT: [-0.43574967 -0.24519834] \n",
      "final state  [ 0.27254259 -0.02708385]\n",
      "STATE: [ 0.63309435  0.84144527 -0.03195101 -0.02988638] ACT: [-0.36515439 -0.34155859] \n",
      "STATE: [ 0.61146212  0.82121168 -0.06180637 -0.05781025] ACT: [-0.36516737 -0.34154471] \n",
      "STATE: [ 0.58010483  0.79180503 -0.08959225 -0.08401902] ACT: [-0.36390775 -0.3428865 ] \n",
      "STATE: [ 0.53968749  0.75379891 -0.11547811 -0.10858891] ACT: [-0.3630325  -0.34381303] \n",
      "STATE: [ 0.49008285  0.70857641 -0.14172755 -0.12920713] ACT: [-0.38660219 -0.31707845] \n",
      "STATE: [ 0.43005729  0.65943443 -0.17150159 -0.14040566] ACT: [-0.44657041 -0.22488857] \n",
      "STATE: [ 0.35866527  0.61305919 -0.2039772  -0.13250071] ACT: [-0.49977609 -0.01496193] \n",
      "STATE: [ 0.27665191  0.57015797 -0.23432389 -0.12257489] ACT: [-0.49980221  0.01406231] \n",
      "STATE: [ 0.18691363  0.5221552  -0.25639508 -0.13715078] ACT: [-0.42798502 -0.25851272] \n",
      "STATE: [ 0.09182702  0.46690101 -0.27167603 -0.15786912] ACT: [-0.36693575 -0.33964416] \n",
      "STATE: [-0.0067648   0.40346175 -0.28169091 -0.18125501] ACT: [-0.31821277 -0.38566907] \n",
      "final state  [-0.0067648   0.40346175]\n",
      "STATE: [ 0.82345077  0.60175399 -0.03325208 -0.0284317 ] ACT: [-0.38002381 -0.32493369] \n",
      "STATE: [ 0.80093807  0.58250485 -0.064322   -0.05499756] ACT: [-0.38002381 -0.32493369] \n",
      "STATE: [ 0.76826154  0.55457134 -0.09336152 -0.07981003] ACT: [-0.3801217  -0.32481917] \n",
      "STATE: [ 0.7263138   0.51826525 -0.11985069 -0.10373167] ACT: [-0.37275454 -0.33324774] \n",
      "STATE: [ 0.67644466  0.47336297 -0.14248325 -0.12829225] ACT: [-0.3485458  -0.35849104] \n",
      "STATE: [ 0.62223043  0.41812423 -0.15489779 -0.15782497] ACT: [-0.24874293 -0.43373604] \n",
      "STATE: [ 0.57142511  0.35119875 -0.14515807 -0.19121564] ACT: [-0.00486222 -0.49997636] \n",
      "STATE: [ 0.51619224  0.27546567 -0.15780822 -0.21638025] ACT: [-0.25344169 -0.43100732] \n",
      "STATE: [ 0.45419705  0.19345163 -0.1771291  -0.23432583] ACT: [-0.33916633 -0.36737747] \n",
      "STATE: [ 0.3847367   0.10674758 -0.19845813 -0.24772586] ACT: [-0.37660717 -0.32888758] \n",
      "STATE: [ 0.30723305  0.01703455 -0.221439   -0.25632293] ACT: [-0.41148207 -0.28404666] \n",
      "STATE: [ 0.22054152 -0.07233398 -0.24769009 -0.25533865] ACT: [-0.46609167 -0.18099325] \n",
      "final state  [ 0.22054152 -0.07233398]\n",
      "STATE: [ 0.72501301  0.6263659  -0.03279821 -0.0289541 ] ACT: [-0.37483665 -0.33090404] \n",
      "STATE: [ 0.70294942  0.60660465 -0.06303883 -0.05646072] ACT: [-0.37020579 -0.33607689] \n",
      "STATE: [ 0.67107746  0.57775906 -0.09106274 -0.08241596] ACT: [-0.36755233 -0.33897682] \n",
      "STATE: [ 0.63207176  0.53858494 -0.11144486 -0.11192606] ACT: [-0.30123566 -0.39907027] \n",
      "STATE: [ 0.59526477  0.48736145 -0.10516284 -0.14635284] ACT: [-0.01178903 -0.47739345] \n",
      "STATE: [ 0.56650629  0.42526077 -0.08216709 -0.17743051] ACT: [ 0.18393639 -0.46493807] \n",
      "STATE: [ 0.54780422  0.35428408 -0.05343447 -0.20279053] ACT: [ 0.26674745 -0.42290164] \n",
      "STATE: [ 0.5219919   0.27512167 -0.0737495  -0.22617832] ACT: [-0.27224765 -0.41938195] \n",
      "STATE: [ 0.48748653  0.18990336 -0.09858675 -0.2434809 ] ACT: [-0.33916633 -0.36737747] \n",
      "STATE: [ 0.44378677  0.10012032 -0.12485647 -0.25652296] ACT: [-0.37416541 -0.33166284] \n",
      "STATE: [ 0.39043056  0.00741931 -0.15244633 -0.26486003] ACT: [-0.40895505 -0.28767302] \n",
      "STATE: [ 0.32670723 -0.08568928 -0.18206665 -0.26602456] ACT: [-0.45285267 -0.21195391] \n",
      "final state  [ 0.32670723 -0.08568928]\n",
      "STATE: [ 0.60998879  0.64820136 -0.03351467 -0.02812169] ACT: [-0.38302482 -0.32139071] \n",
      "STATE: [ 0.58681804  0.63031608 -0.06620214 -0.05110078] ACT: [-0.3987071  -0.28370946] \n",
      "STATE: [ 0.55200701  0.60681114 -0.09946009 -0.06715698] ACT: [-0.42974242 -0.22182499] \n",
      "STATE: [ 0.50671975  0.58954694 -0.12939216 -0.04932628] ACT: [-0.41667588  0.15341166] \n",
      "STATE: [ 0.44979357  0.57799764 -0.16264624 -0.03299801] ACT: [-0.4770908   0.14961406] \n",
      "STATE: [ 0.38457977  0.57668838 -0.18632514 -0.00374074] ACT: [-0.39260062  0.30962033] \n",
      "STATE: [ 0.30854272  0.57798988 -0.21724872  0.00371856] ACT: [-0.49315622  0.08244358] \n",
      "STATE: [ 0.2237436   0.57247134 -0.2422832  -0.01576725] ACT: [-0.44904491 -0.21990604] \n",
      "STATE: [ 0.1327462   0.55751192 -0.25999255 -0.04274119] ACT: [-0.38410489 -0.3200991 ] \n",
      "STATE: [ 0.03742881  0.53219607 -0.27233541 -0.07233099] ACT: [-0.33605572 -0.37022501] \n",
      "STATE: [-0.06128084  0.49665044 -0.28202758 -0.10155895] ACT: [-0.31501918 -0.38828201] \n",
      "final state  [-0.06128084  0.49665044]\n",
      "STATE: [ 0.85413399  0.81564675 -0.03266991 -0.02909879] ACT: [-0.37337034 -0.33255764] \n",
      "STATE: [ 0.83201545  0.79594596 -0.06319585 -0.05628798] ACT: [-0.37337034 -0.33255764] \n",
      "STATE: [ 0.7999237   0.76734252 -0.0916907  -0.08172409] ACT: [-0.3730523  -0.33291437] \n",
      "STATE: [ 0.75851084  0.7304234  -0.11832247 -0.10548322] ACT: [-0.37313112 -0.33282604] \n",
      "STATE: [ 0.70838751  0.68573546 -0.1432095  -0.12767983] ACT: [-0.37316507 -0.33278797] \n",
      "STATE: [ 0.65013614  0.63377645 -0.1664325  -0.14845431] ACT: [-0.37281291 -0.33318244] \n",
      "STATE: [ 0.58441636  0.574884   -0.18777078 -0.16826412] ACT: [-0.36869042 -0.33773862] \n",
      "STATE: [ 0.51570497  0.52356068 -0.19631827 -0.14663806] ACT: [-0.23851366  0.12095693] \n",
      "STATE: [ 0.44023762  0.46523389 -0.215621   -0.16664797] ACT: [-0.36784127 -0.33866325] \n",
      "COLLIDED\n",
      "STATE: [ 0.35713589  0.4020146  -0.23743352 -0.18062656] ACT: [-0.4110017  -0.28474129] \n",
      "STATE: [ 0.26786884  0.33297037 -0.2550487  -0.19726922] ACT: [-0.37939155 -0.32567169] \n",
      "STATE: [ 0.17321152  0.25806749 -0.2704495  -0.21400823] ACT: [-0.3672956  -0.33925498] \n",
      "STATE: [ 0.07378781  0.17740536 -0.28406772 -0.23046323] ACT: [-0.35847401 -0.34856332] \n",
      "STATE: [-0.0299221   0.09119245 -0.29631402 -0.24632261] ACT: [-0.3530085  -0.35409744] \n",
      "final state  [-0.0299221   0.09119245]\n",
      "STATE: [ 0.70212748  0.82579161 -0.03224434 -0.02956967] ACT: [-0.36850672 -0.33793904] \n",
      "STATE: [ 0.68029705  0.80577202 -0.06237264 -0.05719882] ACT: [-0.36850672 -0.33793904] \n",
      "STATE: [ 0.64861364  0.77671694 -0.09052405 -0.08301452] ACT: [-0.36850987 -0.33793561] \n",
      "STATE: [ 0.60772333  0.73921986 -0.11682945 -0.1071345 ] ACT: [-0.36852613 -0.33791788] \n",
      "STATE: [ 0.55797794  0.69411698 -0.14212968 -0.12886538] ACT: [-0.37676765 -0.32870373] \n",
      "STATE: [ 0.49886916  0.64331327 -0.16888224 -0.14515347] ACT: [-0.41234076 -0.28279869] \n",
      "STATE: [ 0.42863327  0.59889133 -0.20067397 -0.12691981] ACT: [-0.48999577  0.09951956] \n",
      "STATE: [ 0.34959886  0.56478087 -0.22581259 -0.09745847] ACT: [-0.437804    0.24151119] \n",
      "STATE: [ 0.26099478  0.52881939 -0.25315451 -0.10274709] ACT: [-0.48183851 -0.1335352 ] \n",
      "STATE: [ 0.16616111  0.48576224 -0.27095334 -0.12302043] ACT: [-0.39328105 -0.30875559] \n",
      "STATE: [ 0.06658349  0.43484481 -0.28450749 -0.14547836] ACT: [-0.35811959 -0.34892744] \n",
      "STATE: [-0.03589949  0.37521246 -0.29280853 -0.17037815] ACT: [-0.3082496  -0.39367777] \n",
      "final state  [-0.03589949  0.37521246]\n",
      "STATE: [ 0.64820693  0.70461049 -0.03252154 -0.02926452] ACT: [-0.3716747  -0.33445167] \n",
      "STATE: [ 0.62618884  0.6847975  -0.06290885 -0.05660856] ACT: [-0.3716747  -0.33445167] \n",
      "STATE: [ 0.5939753   0.65633615 -0.09203868 -0.08131813] ACT: [-0.38009405 -0.32485153] \n",
      "STATE: [ 0.55166537  0.62105398 -0.12088552 -0.1008062 ] ACT: [-0.3987071  -0.28370946] \n",
      "STATE: [ 0.4968302   0.58751561 -0.15667191 -0.0958239 ] ACT: [-0.49965153 -0.01866406] \n",
      "STATE: [ 0.43494479  0.56718165 -0.17681545 -0.05809705] ACT: [-0.3477158   0.35929615] \n",
      "STATE: [ 0.36449379  0.55684444 -0.20128856 -0.02953489] ACT: [-0.41230425  0.28285191] \n",
      "STATE: [ 0.28343347  0.54874708 -0.23160093 -0.0231353 ] ACT: [-0.49739353  0.05098701] \n",
      "STATE: [ 0.19526979  0.53222884 -0.25189623 -0.04719497] ACT: [-0.405647   -0.29231919] \n",
      "STATE: [ 0.10138238  0.50669487 -0.26824974 -0.0729542 ] ACT: [-0.37581941 -0.32978747] \n",
      "STATE: [ 0.00359602  0.47129262 -0.27938959 -0.1011493 ] ACT: [-0.32849991 -0.37694537] \n",
      "STATE: [-0.09662446  0.42571859 -0.28634424 -0.13021151] ACT: [-0.28902383 -0.4080015 ] \n",
      "final state  [-0.09662446  0.42571859]\n",
      "After 10 REWARD:  (0.7251600579155909, array([ 0.04952719,  0.22043095, -0.26108551, -0.19820911]), -0.26266033009208795)\n",
      "UPDATING THE ACTION MATRIX\n"
     ]
    },
    {
     "name": "stderr",
     "output_type": "stream",
     "text": [
      "100%|█████████████████████████████████████████████████████████████████████████████████████████████████████████████████████████| 25/25 [00:03<00:00,  6.92it/s]\n",
      "Generating Dynamics Dataset: 100%|██████████████████████████████████████████████████████████████████████████████████████████| 15/15 [00:00<00:00, 2509.26it/s]\n",
      "100%|████████████████████████████████████████████████████████████████████████████████████████████████████████████████████████| 57/57 [00:00<00:00, 201.02it/s]\n"
     ]
    },
    {
     "name": "stdout",
     "output_type": "stream",
     "text": [
      "Epoch 1, loss: 0.000, err: 0.016, val_loss: 0.001, val_err: 0.025\n"
     ]
    },
    {
     "name": "stderr",
     "output_type": "stream",
     "text": [
      "100%|████████████████████████████████████████████████████████████████████████████████████████████████████████████████████████| 57/57 [00:00<00:00, 205.81it/s]\n"
     ]
    },
    {
     "name": "stdout",
     "output_type": "stream",
     "text": [
      "Epoch 2, loss: 0.000, err: 0.016, val_loss: 0.001, val_err: 0.024\n"
     ]
    },
    {
     "name": "stderr",
     "output_type": "stream",
     "text": [
      "100%|████████████████████████████████████████████████████████████████████████████████████████████████████████████████████████| 57/57 [00:00<00:00, 207.70it/s]\n"
     ]
    },
    {
     "name": "stdout",
     "output_type": "stream",
     "text": [
      "Epoch 3, loss: 0.000, err: 0.016, val_loss: 0.001, val_err: 0.024\n"
     ]
    },
    {
     "name": "stderr",
     "output_type": "stream",
     "text": [
      "100%|████████████████████████████████████████████████████████████████████████████████████████████████████████████████████████| 57/57 [00:00<00:00, 208.45it/s]\n"
     ]
    },
    {
     "name": "stdout",
     "output_type": "stream",
     "text": [
      "Epoch 4, loss: 0.000, err: 0.016, val_loss: 0.001, val_err: 0.024\n"
     ]
    },
    {
     "name": "stderr",
     "output_type": "stream",
     "text": [
      "100%|█████████████████████████████████████████████████████████████████████████████████████████████████████████████████████████| 57/57 [00:00<00:00, 85.81it/s]\n"
     ]
    },
    {
     "name": "stdout",
     "output_type": "stream",
     "text": [
      "Epoch 5, loss: 0.000, err: 0.016, val_loss: 0.001, val_err: 0.024\n"
     ]
    },
    {
     "name": "stderr",
     "output_type": "stream",
     "text": [
      "100%|████████████████████████████████████████████████████████████████████████████████████████████████████████████████████████| 57/57 [00:00<00:00, 208.25it/s]\n"
     ]
    },
    {
     "name": "stdout",
     "output_type": "stream",
     "text": [
      "Epoch 6, loss: 0.000, err: 0.016, val_loss: 0.001, val_err: 0.025\n"
     ]
    },
    {
     "name": "stderr",
     "output_type": "stream",
     "text": [
      "100%|████████████████████████████████████████████████████████████████████████████████████████████████████████████████████████| 57/57 [00:00<00:00, 209.45it/s]\n"
     ]
    },
    {
     "name": "stdout",
     "output_type": "stream",
     "text": [
      "Epoch 7, loss: 0.000, err: 0.016, val_loss: 0.001, val_err: 0.024\n"
     ]
    },
    {
     "name": "stderr",
     "output_type": "stream",
     "text": [
      "100%|████████████████████████████████████████████████████████████████████████████████████████████████████████████████████████| 57/57 [00:00<00:00, 210.37it/s]\n"
     ]
    },
    {
     "name": "stdout",
     "output_type": "stream",
     "text": [
      "Epoch 8, loss: 0.000, err: 0.016, val_loss: 0.001, val_err: 0.025\n"
     ]
    },
    {
     "name": "stderr",
     "output_type": "stream",
     "text": [
      "100%|████████████████████████████████████████████████████████████████████████████████████████████████████████████████████████| 57/57 [00:00<00:00, 210.09it/s]\n"
     ]
    },
    {
     "name": "stdout",
     "output_type": "stream",
     "text": [
      "Epoch 9, loss: 0.000, err: 0.016, val_loss: 0.001, val_err: 0.025\n"
     ]
    },
    {
     "name": "stderr",
     "output_type": "stream",
     "text": [
      "100%|████████████████████████████████████████████████████████████████████████████████████████████████████████████████████████| 57/57 [00:00<00:00, 210.83it/s]\n"
     ]
    },
    {
     "name": "stdout",
     "output_type": "stream",
     "text": [
      "Epoch 10, loss: 0.000, err: 0.016, val_loss: 0.001, val_err: 0.025\n"
     ]
    },
    {
     "name": "stderr",
     "output_type": "stream",
     "text": [
      "100%|████████████████████████████████████████████████████████████████████████████████████████████████████████████████████████| 57/57 [00:00<00:00, 208.05it/s]\n"
     ]
    },
    {
     "name": "stdout",
     "output_type": "stream",
     "text": [
      "Epoch 11, loss: 0.000, err: 0.016, val_loss: 0.001, val_err: 0.025\n"
     ]
    },
    {
     "name": "stderr",
     "output_type": "stream",
     "text": [
      "100%|████████████████████████████████████████████████████████████████████████████████████████████████████████████████████████| 57/57 [00:00<00:00, 209.72it/s]\n"
     ]
    },
    {
     "name": "stdout",
     "output_type": "stream",
     "text": [
      "Epoch 12, loss: 0.000, err: 0.016, val_loss: 0.001, val_err: 0.025\n"
     ]
    },
    {
     "name": "stderr",
     "output_type": "stream",
     "text": [
      "100%|████████████████████████████████████████████████████████████████████████████████████████████████████████████████████████| 57/57 [00:00<00:00, 200.93it/s]\n"
     ]
    },
    {
     "name": "stdout",
     "output_type": "stream",
     "text": [
      "Epoch 13, loss: 0.000, err: 0.016, val_loss: 0.001, val_err: 0.024\n"
     ]
    },
    {
     "name": "stderr",
     "output_type": "stream",
     "text": [
      "100%|████████████████████████████████████████████████████████████████████████████████████████████████████████████████████████| 57/57 [00:00<00:00, 209.87it/s]\n"
     ]
    },
    {
     "name": "stdout",
     "output_type": "stream",
     "text": [
      "Epoch 14, loss: 0.000, err: 0.016, val_loss: 0.001, val_err: 0.025\n"
     ]
    },
    {
     "name": "stderr",
     "output_type": "stream",
     "text": [
      "100%|████████████████████████████████████████████████████████████████████████████████████████████████████████████████████████| 57/57 [00:00<00:00, 209.00it/s]\n"
     ]
    },
    {
     "name": "stdout",
     "output_type": "stream",
     "text": [
      "Epoch 15, loss: 0.000, err: 0.016, val_loss: 0.001, val_err: 0.025\n"
     ]
    },
    {
     "name": "stderr",
     "output_type": "stream",
     "text": [
      "100%|████████████████████████████████████████████████████████████████████████████████████████████████████████████████████████| 57/57 [00:00<00:00, 210.22it/s]\n"
     ]
    },
    {
     "name": "stdout",
     "output_type": "stream",
     "text": [
      "Epoch 16, loss: 0.000, err: 0.016, val_loss: 0.001, val_err: 0.025\n"
     ]
    },
    {
     "name": "stderr",
     "output_type": "stream",
     "text": [
      "100%|████████████████████████████████████████████████████████████████████████████████████████████████████████████████████████| 57/57 [00:00<00:00, 207.65it/s]\n"
     ]
    },
    {
     "name": "stdout",
     "output_type": "stream",
     "text": [
      "Epoch 17, loss: 0.000, err: 0.016, val_loss: 0.001, val_err: 0.024\n"
     ]
    },
    {
     "name": "stderr",
     "output_type": "stream",
     "text": [
      "100%|████████████████████████████████████████████████████████████████████████████████████████████████████████████████████████| 57/57 [00:00<00:00, 209.86it/s]\n"
     ]
    },
    {
     "name": "stdout",
     "output_type": "stream",
     "text": [
      "Epoch 18, loss: 0.000, err: 0.016, val_loss: 0.001, val_err: 0.024\n"
     ]
    },
    {
     "name": "stderr",
     "output_type": "stream",
     "text": [
      "100%|████████████████████████████████████████████████████████████████████████████████████████████████████████████████████████| 57/57 [00:00<00:00, 210.09it/s]\n"
     ]
    },
    {
     "name": "stdout",
     "output_type": "stream",
     "text": [
      "Epoch 19, loss: 0.000, err: 0.016, val_loss: 0.001, val_err: 0.024\n"
     ]
    },
    {
     "name": "stderr",
     "output_type": "stream",
     "text": [
      "100%|████████████████████████████████████████████████████████████████████████████████████████████████████████████████████████| 57/57 [00:00<00:00, 208.24it/s]\n"
     ]
    },
    {
     "name": "stdout",
     "output_type": "stream",
     "text": [
      "Epoch 20, loss: 0.000, err: 0.016, val_loss: 0.001, val_err: 0.024\n"
     ]
    },
    {
     "name": "stderr",
     "output_type": "stream",
     "text": [
      "100%|████████████████████████████████████████████████████████████████████████████████████████████████████████████████████████| 57/57 [00:00<00:00, 210.19it/s]\n"
     ]
    },
    {
     "name": "stdout",
     "output_type": "stream",
     "text": [
      "Epoch 21, loss: 0.000, err: 0.016, val_loss: 0.001, val_err: 0.025\n"
     ]
    },
    {
     "name": "stderr",
     "output_type": "stream",
     "text": [
      "100%|████████████████████████████████████████████████████████████████████████████████████████████████████████████████████████| 57/57 [00:00<00:00, 208.68it/s]\n"
     ]
    },
    {
     "name": "stdout",
     "output_type": "stream",
     "text": [
      "Epoch 22, loss: 0.000, err: 0.016, val_loss: 0.001, val_err: 0.025\n"
     ]
    },
    {
     "name": "stderr",
     "output_type": "stream",
     "text": [
      "100%|████████████████████████████████████████████████████████████████████████████████████████████████████████████████████████| 57/57 [00:00<00:00, 210.04it/s]\n"
     ]
    },
    {
     "name": "stdout",
     "output_type": "stream",
     "text": [
      "Epoch 23, loss: 0.000, err: 0.016, val_loss: 0.001, val_err: 0.024\n"
     ]
    },
    {
     "name": "stderr",
     "output_type": "stream",
     "text": [
      "100%|████████████████████████████████████████████████████████████████████████████████████████████████████████████████████████| 57/57 [00:00<00:00, 206.13it/s]\n"
     ]
    },
    {
     "name": "stdout",
     "output_type": "stream",
     "text": [
      "Epoch 24, loss: 0.000, err: 0.016, val_loss: 0.001, val_err: 0.024\n"
     ]
    },
    {
     "name": "stderr",
     "output_type": "stream",
     "text": [
      "100%|████████████████████████████████████████████████████████████████████████████████████████████████████████████████████████| 57/57 [00:00<00:00, 209.22it/s]\n"
     ]
    },
    {
     "name": "stdout",
     "output_type": "stream",
     "text": [
      "Epoch 25, loss: 0.000, err: 0.016, val_loss: 0.001, val_err: 0.024\n"
     ]
    },
    {
     "name": "stderr",
     "output_type": "stream",
     "text": [
      "100%|████████████████████████████████████████████████████████████████████████████████████████████████████████████████████████| 57/57 [00:00<00:00, 197.99it/s]\n"
     ]
    },
    {
     "name": "stdout",
     "output_type": "stream",
     "text": [
      "Epoch 26, loss: 0.000, err: 0.016, val_loss: 0.001, val_err: 0.025\n"
     ]
    },
    {
     "name": "stderr",
     "output_type": "stream",
     "text": [
      "100%|████████████████████████████████████████████████████████████████████████████████████████████████████████████████████████| 57/57 [00:00<00:00, 199.08it/s]\n"
     ]
    },
    {
     "name": "stdout",
     "output_type": "stream",
     "text": [
      "Epoch 27, loss: 0.000, err: 0.016, val_loss: 0.001, val_err: 0.024\n"
     ]
    },
    {
     "name": "stderr",
     "output_type": "stream",
     "text": [
      "100%|████████████████████████████████████████████████████████████████████████████████████████████████████████████████████████| 57/57 [00:00<00:00, 205.54it/s]\n"
     ]
    },
    {
     "name": "stdout",
     "output_type": "stream",
     "text": [
      "Epoch 28, loss: 0.000, err: 0.016, val_loss: 0.001, val_err: 0.024\n"
     ]
    },
    {
     "name": "stderr",
     "output_type": "stream",
     "text": [
      "100%|████████████████████████████████████████████████████████████████████████████████████████████████████████████████████████| 57/57 [00:00<00:00, 207.12it/s]\n"
     ]
    },
    {
     "name": "stdout",
     "output_type": "stream",
     "text": [
      "Epoch 29, loss: 0.000, err: 0.016, val_loss: 0.001, val_err: 0.025\n"
     ]
    },
    {
     "name": "stderr",
     "output_type": "stream",
     "text": [
      "100%|████████████████████████████████████████████████████████████████████████████████████████████████████████████████████████| 57/57 [00:00<00:00, 208.21it/s]\n"
     ]
    },
    {
     "name": "stdout",
     "output_type": "stream",
     "text": [
      "Epoch 30, loss: 0.000, err: 0.016, val_loss: 0.001, val_err: 0.024\n"
     ]
    },
    {
     "name": "stderr",
     "output_type": "stream",
     "text": [
      "100%|████████████████████████████████████████████████████████████████████████████████████████████████████████████████████████| 57/57 [00:00<00:00, 207.67it/s]\n"
     ]
    },
    {
     "name": "stdout",
     "output_type": "stream",
     "text": [
      "Epoch 31, loss: 0.000, err: 0.016, val_loss: 0.001, val_err: 0.024\n"
     ]
    },
    {
     "name": "stderr",
     "output_type": "stream",
     "text": [
      "100%|████████████████████████████████████████████████████████████████████████████████████████████████████████████████████████| 57/57 [00:00<00:00, 206.56it/s]\n"
     ]
    },
    {
     "name": "stdout",
     "output_type": "stream",
     "text": [
      "Epoch 32, loss: 0.000, err: 0.016, val_loss: 0.001, val_err: 0.024\n"
     ]
    },
    {
     "name": "stderr",
     "output_type": "stream",
     "text": [
      "100%|████████████████████████████████████████████████████████████████████████████████████████████████████████████████████████| 57/57 [00:00<00:00, 208.41it/s]\n"
     ]
    },
    {
     "name": "stdout",
     "output_type": "stream",
     "text": [
      "Epoch 33, loss: 0.000, err: 0.016, val_loss: 0.001, val_err: 0.024\n"
     ]
    },
    {
     "name": "stderr",
     "output_type": "stream",
     "text": [
      "100%|████████████████████████████████████████████████████████████████████████████████████████████████████████████████████████| 57/57 [00:00<00:00, 204.56it/s]\n"
     ]
    },
    {
     "name": "stdout",
     "output_type": "stream",
     "text": [
      "Epoch 34, loss: 0.000, err: 0.016, val_loss: 0.001, val_err: 0.024\n"
     ]
    },
    {
     "name": "stderr",
     "output_type": "stream",
     "text": [
      "100%|████████████████████████████████████████████████████████████████████████████████████████████████████████████████████████| 57/57 [00:00<00:00, 207.28it/s]\n"
     ]
    },
    {
     "name": "stdout",
     "output_type": "stream",
     "text": [
      "Epoch 35, loss: 0.000, err: 0.016, val_loss: 0.001, val_err: 0.025\n"
     ]
    },
    {
     "name": "stderr",
     "output_type": "stream",
     "text": [
      "100%|████████████████████████████████████████████████████████████████████████████████████████████████████████████████████████| 57/57 [00:00<00:00, 201.05it/s]\n"
     ]
    },
    {
     "name": "stdout",
     "output_type": "stream",
     "text": [
      "Epoch 36, loss: 0.000, err: 0.016, val_loss: 0.001, val_err: 0.024\n"
     ]
    },
    {
     "name": "stderr",
     "output_type": "stream",
     "text": [
      "100%|████████████████████████████████████████████████████████████████████████████████████████████████████████████████████████| 57/57 [00:00<00:00, 203.29it/s]\n"
     ]
    },
    {
     "name": "stdout",
     "output_type": "stream",
     "text": [
      "Epoch 37, loss: 0.000, err: 0.016, val_loss: 0.001, val_err: 0.024\n"
     ]
    },
    {
     "name": "stderr",
     "output_type": "stream",
     "text": [
      "100%|████████████████████████████████████████████████████████████████████████████████████████████████████████████████████████| 57/57 [00:00<00:00, 207.02it/s]\n"
     ]
    },
    {
     "name": "stdout",
     "output_type": "stream",
     "text": [
      "Epoch 38, loss: 0.000, err: 0.016, val_loss: 0.001, val_err: 0.023\n"
     ]
    },
    {
     "name": "stderr",
     "output_type": "stream",
     "text": [
      "100%|████████████████████████████████████████████████████████████████████████████████████████████████████████████████████████| 57/57 [00:00<00:00, 207.68it/s]\n"
     ]
    },
    {
     "name": "stdout",
     "output_type": "stream",
     "text": [
      "Epoch 39, loss: 0.000, err: 0.017, val_loss: 0.001, val_err: 0.023\n"
     ]
    },
    {
     "name": "stderr",
     "output_type": "stream",
     "text": [
      "100%|████████████████████████████████████████████████████████████████████████████████████████████████████████████████████████| 10/10 [00:00<00:00, 633.11it/s]\n"
     ]
    },
    {
     "name": "stdout",
     "output_type": "stream",
     "text": [
      "STATE: [ 0.59311061  0.65715013 -0.03696287 -0.02340532] ACT: [-0.42243277 -0.26748936] \n",
      "STATE: [ 0.5680856   0.641304   -0.07150005 -0.04527466] ACT: [-0.42243277 -0.26748936] \n",
      "STATE: [ 0.53139711  0.6250212  -0.10482424 -0.04652229] ACT: [-0.43447296 -0.04821455] \n",
      "STATE: [ 0.48488574  0.61407101 -0.13288964 -0.03128626] ACT: [-0.39936566  0.13923432] \n",
      "STATE: [ 0.42806686  0.61044185 -0.16233964 -0.01036903] ACT: [-0.43623865  0.2155893 ] \n",
      "STATE: [ 0.36339277  0.61706507 -0.18478313  0.01892349] ACT: [-0.37825167  0.32699491] \n",
      "STATE: [ 0.28766366  0.6226168  -0.21636888  0.01586209] ACT: [-0.49956739 -0.02079484] \n",
      "STATE: [ 0.20351778  0.62036951 -0.24041679 -0.00642081] ACT: [-0.43710994 -0.24276512] \n",
      "STATE: [ 0.11285659  0.60880536 -0.25903199 -0.03304043] ACT: [-0.39305771 -0.30903987] \n",
      "STATE: [ 0.01833179  0.58624541 -0.27007085 -0.06445701] ACT: [-0.32043241 -0.38382688] \n",
      "STATE: [-0.07923513  0.55295952 -0.27876262 -0.09510253] ACT: [-0.30188765 -0.39857728] \n",
      "final state  [-0.07923513  0.55295952]\n",
      "STATE: [ 0.60581808  0.66804222 -0.03358349 -0.02803946] ACT: [-0.38381136 -0.32045099] \n",
      "STATE: [ 0.58189823  0.65068058 -0.06834244 -0.04960469] ACT: [-0.42243277 -0.26748936] \n",
      "STATE: [ 0.546112    0.63061693 -0.10224637 -0.05732471] ACT: [-0.43873022 -0.12543232] \n",
      "STATE: [ 0.50044367  0.61613401 -0.13048094 -0.04137977] ACT: [-0.39936566  0.13923432] \n",
      "STATE: [ 0.44329948  0.60498959 -0.16326911 -0.03184119] ACT: [-0.47258257  0.07797752] \n",
      "STATE: [ 0.37763799  0.60374079 -0.18760426 -0.00356799] ACT: [-0.40056782  0.29924141] \n",
      "STATE: [ 3.01011964e-01  6.03665097e-01 -2.18931508e-01 -2.16279715e-04] ACT: [-0.49872894  0.03562929] \n",
      "STATE: [ 0.21519097  0.59792309 -0.24520283 -0.01640575] ACT: [-0.46444228 -0.18518468] \n",
      "STATE: [ 0.12249644  0.58372138 -0.26484153 -0.04057629] ACT: [-0.40834445 -0.2885391 ] \n",
      "STATE: [ 0.02603502  0.55872772 -0.27560405 -0.07141046] ACT: [-0.32163137 -0.38282276] \n",
      "STATE: [-0.07335521  0.52317829 -0.28397209 -0.10156979] ACT: [-0.30233781 -0.39823592] \n",
      "final state  [-0.07335521  0.52317829]\n",
      "STATE: [ 0.63373096  0.69005396 -0.03286306 -0.02888048] ACT: [-0.37557779 -0.3300626 ] \n",
      "STATE: [ 0.61122949  0.67079533 -0.06428991 -0.05502466] ACT: [-0.38381136 -0.32045099] \n",
      "STATE: [ 0.57726768  0.64460869 -0.09703375 -0.07481898] ACT: [-0.42243277 -0.26748936] \n",
      "STATE: [ 0.5320985   0.61629918 -0.12905481 -0.08088432] ACT: [-0.43873022 -0.12543232] \n",
      "STATE: [ 0.47766297  0.59411153 -0.15553008 -0.06339328] ACT: [-0.39936566  0.13923432] \n",
      "STATE: [ 0.41343996  0.57998237 -0.1834943  -0.04036903] ACT: [-0.43623865  0.2155893 ] \n",
      "STATE: [ 0.3418125   0.57675386 -0.20464989 -0.00922429] ACT: [-0.3793989   0.32566313] \n",
      "STATE: [ 0.25982701  0.57096021 -0.23424425 -0.0165533 ] ACT: [-0.4917087 -0.0906783] \n",
      "STATE: [ 0.17073655  0.55668162 -0.25454417 -0.04079596] ACT: [-0.40768223 -0.28947401] \n",
      "STATE: [ 0.07617056  0.53303071 -0.27018855 -0.06757403] ACT: [-0.36970109 -0.336632  ] \n",
      "STATE: [-0.02182973  0.49903486 -0.28000081 -0.09713102] ACT: [-0.31478151 -0.38847471] \n",
      "final state  [-0.02182973  0.49903486]\n",
      "STATE: [ 0.6594      0.82302209 -0.03214272 -0.0296801 ] ACT: [-0.36734532 -0.33920115] \n",
      "STATE: [ 0.63763838  0.80292773 -0.06217606 -0.05741244] ACT: [-0.36734532 -0.33920115] \n",
      "STATE: [ 0.60608512  0.77373142 -0.09015216 -0.08341805] ACT: [-0.36635891 -0.34026629] \n",
      "STATE: [ 0.56539431  0.73601808 -0.11625947 -0.10775239] ACT: [-0.36598327 -0.34067029] \n",
      "STATE: [ 0.51551829  0.69108851 -0.14250292 -0.12837019] ACT: [-0.38711979 -0.31644631] \n",
      "STATE: [ 0.45431347  0.64449692 -0.1748709  -0.13311883] ACT: [-0.47679699 -0.15054777] \n",
      "STATE: [ 0.38181701  0.6013254  -0.20713274 -0.12334719] ACT: [-0.49985987  0.01183672] \n",
      "STATE: [ 0.29880456  0.56207816 -0.23717843 -0.11213497] ACT: [-0.49872894  0.03562929] \n",
      "STATE: [ 0.20766689  0.51831789 -0.26039334 -0.12502936] ACT: [-0.44319707 -0.23146566] \n",
      "STATE: [ 0.11107106  0.46724997 -0.27598808 -0.14590834] ACT: [-0.37352056 -0.33238891] \n",
      "STATE: [ 0.01120068  0.40761489 -0.28534394 -0.17038593] ACT: [-0.31391515 -0.38917513] \n",
      "STATE: [-0.0898415   0.33867275 -0.28869195 -0.19697754] ACT: [-0.25227094 -0.43169361] \n",
      "final state  [-0.0898415   0.33867275]\n",
      "STATE: [ 0.7724413   0.81836386 -0.03261032 -0.02916555] ACT: [-0.37268936 -0.33332062] \n",
      "STATE: [ 0.7503631   0.79861787 -0.06308059 -0.05641712] ACT: [-0.37268936 -0.33332062] \n",
      "STATE: [ 0.71831706  0.76996324 -0.09156011 -0.08187038] ACT: [-0.37279073 -0.33320725] \n",
      "STATE: [ 0.67697249  0.73296766 -0.11812735 -0.10570166] ACT: [-0.37229571 -0.33376025] \n",
      "STATE: [ 0.62693613  0.68818237 -0.14296102 -0.12795796] ACT: [-0.37240885 -0.333634  ] \n",
      "STATE: [ 0.56842918  0.63652231 -0.1671627  -0.14760018] ACT: [-0.38381136 -0.32045099] \n",
      "STATE: [ 0.50045602  0.58677586 -0.19420903 -0.14213269] ACT: [-0.43447296 -0.04821455] \n",
      "STATE: [ 0.42187507  0.54301655 -0.224517   -0.12502661] ACT: [-0.49203359  0.08889853] \n",
      "STATE: [ 0.34063392  0.51529579 -0.23211757 -0.07920216] ACT: [-0.25525138  0.42993805] \n",
      "STATE: [ 0.2505247   0.48366307 -0.25745494 -0.09037922] ACT: [-0.46365811 -0.18713941] \n",
      "STATE: [ 0.15456237  0.44430717 -0.27417807 -0.11244543] ACT: [-0.38421274 -0.31996964] \n",
      "STATE: [ 0.05439424  0.39639162 -0.28619466 -0.13690157] ACT: [-0.34296596 -0.36383286] \n",
      "STATE: [-0.04794557  0.33905096 -0.29239945 -0.16383044] ACT: [-0.28555796 -0.41043471] \n",
      "final state  [-0.04794557  0.33905096]\n",
      "STATE: [ 0.87151373  0.88108816 -0.03284245 -0.02890391] ACT: [-0.37534225 -0.33033044] \n",
      "STATE: [ 0.84927837  0.86151931 -0.06352961 -0.05591101] ACT: [-0.37534225 -0.33033044] \n",
      "STATE: [ 0.81701986  0.8331041  -0.09216719 -0.08118631] ACT: [-0.37493385 -0.3307939 ] \n",
      "STATE: [ 0.77538609  0.79643426 -0.11895361 -0.10477095] ACT: [-0.37525594 -0.33042848] \n",
      "STATE: [ 0.72502712  0.75201214 -0.14388278 -0.12692034] ACT: [-0.37411999 -0.33171409] \n",
      "STATE: [ 0.66652725  0.70033327 -0.16714247 -0.14765392] ACT: [-0.37373713 -0.33214538] \n",
      "STATE: [ 0.60036437  0.64193766 -0.1890368  -0.16684461] ACT: [-0.37557779 -0.3300626 ] \n",
      "STATE: [ 0.52486552  0.58049041 -0.21571101 -0.17556358] ACT: [-0.44662563 -0.22477887] \n",
      "STATE: [ 0.44435038  0.5346969  -0.23004325 -0.1308386 ] ACT: [-0.3255803   0.37946999] \n",
      "STATE: [ 0.35662878  0.50076667 -0.25063317 -0.09694351] ACT: [-0.40784578  0.28924352] \n",
      "STATE: [ 0.26046437  0.46333197 -0.27475545 -0.10695629] ACT: [-0.46365811 -0.18713941] \n",
      "STATE: [ 0.1589606   0.41841679 -0.29001078 -0.12832908] ACT: [-0.38041318 -0.32447776] \n",
      "STATE: [ 0.05345268  0.36546175 -0.30145118 -0.15130012] ACT: [-0.34825562 -0.35877294] \n",
      "STATE: [-0.05359649  0.30322207 -0.30585478 -0.17782765] ACT: [-0.27641517 -0.41664691] \n",
      "final state  [-0.05359649  0.30322207]\n",
      "STATE: [ 0.63930872  0.73865037 -0.03242929 -0.02936671] ACT: [-0.37062049 -0.3356195 ] \n",
      "STATE: [ 0.61723553  0.71889951 -0.06306625 -0.05643104] ACT: [-0.37445865 -0.33133173] \n",
      "STATE: [ 0.58501902  0.69043974 -0.09204717 -0.08131362] ACT: [-0.37851022 -0.3266956 ] \n",
      "STATE: [ 0.5415617   0.65635659 -0.12416379 -0.09738044] ACT: [-0.43608243 -0.24460604] \n",
      "STATE: [ 0.48696731  0.6239698  -0.15598395 -0.09253366] ACT: [-0.45678183 -0.01764355] \n",
      "STATE: [ 0.42078871  0.59581448 -0.18908172 -0.08044378] ACT: [-0.49524813  0.06876981] \n",
      "STATE: [ 0.34736912  0.57952107 -0.20977025 -0.0465526 ] ACT: [-0.37825167  0.32699491] \n",
      "STATE: [ 0.26370912  0.56151989 -0.23902859 -0.05143194] ACT: [-0.4917087 -0.0906783] \n",
      "STATE: [ 0.17305403  0.5358349  -0.25901453 -0.0733857 ] ACT: [-0.40768223 -0.28947401] \n",
      "STATE: [ 0.07702609  0.50152613 -0.27436555 -0.09802506] ACT: [-0.36970109 -0.336632  ] \n",
      "STATE: [-0.02221164  0.4574688  -0.28353638 -0.12587808] ACT: [-0.31058359 -0.39183904] \n",
      "final state  [-0.02221164  0.4574688 ]\n",
      "STATE: [ 0.80426607  0.75835618 -0.03303405 -0.02868474] ACT: [-0.377532   -0.32782555] \n",
      "STATE: [ 0.78195095  0.73887846 -0.06375747 -0.05565063] ACT: [-0.37590037 -0.32969518] \n",
      "STATE: [ 0.74958419  0.71058676 -0.09247645 -0.08083344] ACT: [-0.37603503 -0.32954158] \n",
      "STATE: [ 0.7078163   0.67406991 -0.11933684 -0.10433385] ACT: [-0.37633315 -0.32920109] \n",
      "STATE: [ 0.65727103  0.62985992 -0.14441506 -0.12631425] ACT: [-0.37611085 -0.32945505] \n",
      "STATE: [ 0.59875306  0.57820644 -0.16719421 -0.14758139] ACT: [-0.3686445  -0.33778874] \n",
      "STATE: [ 0.5410567   0.52414698 -0.16484674 -0.1544556 ] ACT: [-0.09856739 -0.18924834] \n",
      "STATE: [ 0.49292275  0.47290666 -0.13752558 -0.14640091] ACT: [ 0.18860679 -0.02378812] \n",
      "COLLIDED\n",
      "STATE: [ 0.43613624  0.415284   -0.16224715 -0.16463618] ACT: [-0.38567645 -0.31820383] \n",
      "STATE: [ 0.37126721  0.35169516 -0.18534008 -0.18168239] ACT: [-0.38560455 -0.31829096] \n",
      "STATE: [ 0.29925326  0.28205838 -0.20575415 -0.19896224] ACT: [-0.37230874 -0.33374572] \n",
      "STATE: [ 0.22055738  0.20677712 -0.22484538 -0.21508931] ACT: [-0.37250104 -0.33353107] \n",
      "STATE: [ 0.1355655   0.12628083 -0.24283395 -0.2299894 ] ACT: [-0.37421776 -0.33160378] \n",
      "STATE: [ 0.05292196  0.03609899 -0.23612439 -0.25766241] ACT: [-0.1054448  -0.48875494] \n",
      "STATE: [-0.01292561 -0.03791094 -0.18813589 -0.21145693] ACT: [0.37134672 0.33481579] \n",
      "final state  [-0.01292561 -0.03791094]\n",
      "STATE: [ 0.73101976  0.83026828 -0.03247362 -0.02931769] ACT: [-0.37112706 -0.33505926] \n",
      "STATE: [ 0.7090341   0.81041929 -0.06281615 -0.0567114 ] ACT: [-0.37112706 -0.33505926] \n",
      "STATE: [ 0.6771222   0.78161534 -0.09117686 -0.08229698] ACT: [-0.37123449 -0.33494022] \n",
      "STATE: [ 0.63594857  0.7444296  -0.11763894 -0.10624498] ACT: [-0.37080638 -0.33541412] \n",
      "STATE: [ 0.58600917  0.69953714 -0.14268402 -0.12826418] ACT: [-0.37445865 -0.33133173] \n",
      "STATE: [ 0.52722705  0.6482324  -0.16794889 -0.14658498] ACT: [-0.39575448 -0.30557878] \n",
      "STATE: [ 0.45703943  0.59906542 -0.20053608 -0.14047707] ACT: [-0.49838666 -0.04013405] \n",
      "STATE: [ 0.37919047  0.5622893  -0.22242558 -0.10507464] ACT: [-0.40056782  0.29924141] \n",
      "STATE: [ 0.29156131  0.53150279 -0.25036902 -0.08796144] ACT: [-0.48617275  0.11677351] \n",
      "STATE: [ 0.19692527  0.49426803 -0.27038869 -0.10638505] ACT: [-0.41657295 -0.27652663] \n",
      "STATE: [ 0.09734035  0.44899151 -0.28452835 -0.12936146] ACT: [-0.3643877  -0.34237641] \n",
      "STATE: [-0.00493463  0.39446472 -0.29221422 -0.15579083] ACT: [-0.30123475 -0.39907095] \n",
      "final state  [-0.00493463  0.39446472]\n",
      "STATE: [ 0.86192953  0.6373931  -0.03363282 -0.02798027] ACT: [-0.38437511 -0.31977457] \n",
      "STATE: [ 0.83914307  0.61846883 -0.06510419 -0.05406933] ACT: [-0.38489734 -0.31914579] \n",
      "STATE: [ 0.80609983  0.59097016 -0.09440924 -0.07856764] ACT: [-0.38374309 -0.32053274] \n",
      "STATE: [ 0.76345367  0.55548287 -0.12184619 -0.10139224] ACT: [-0.38437206 -0.31977824] \n",
      "STATE: [ 0.71209162  0.51223048 -0.14674871 -0.12357827] ACT: [-0.3759848  -0.32959889] \n",
      "STATE: [ 0.6541147   0.4602078  -0.16564833 -0.14863622] ACT: [-0.32605721 -0.37906028] \n",
      "STATE: [ 0.59732945  0.39651122 -0.16224358 -0.18199024] ACT: [-0.08532481 -0.49266589] \n",
      "STATE: [ 0.54439793  0.32168275 -0.15123292 -0.21379562] ACT: [ 0.00415342 -0.49998275] \n",
      "STATE: [ 0.48628341  0.23913417 -0.16604148 -0.2358531 ] ACT: [-0.28266536 -0.41243217] \n",
      "STATE: [ 0.42068484  0.15166689 -0.18742451 -0.24990651] ACT: [-0.36890859 -0.3375003 ] \n",
      "STATE: [ 0.34715528  0.06073336 -0.21008444 -0.25981009] ACT: [-0.39953906 -0.3006136 ] \n",
      "STATE: [ 0.26451051 -0.03056768 -0.23612791 -0.26086012] ACT: [-0.455203   -0.20685798] \n",
      "final state  [ 0.26451051 -0.03056768]\n",
      "After 11 REWARD:  (0.68095873993213, array([-0.0141365 ,  0.33395734, -0.27296961, -0.15864249]), -0.21371834469836593)\n",
      "UPDATING THE ACTION MATRIX\n"
     ]
    },
    {
     "name": "stderr",
     "output_type": "stream",
     "text": [
      "100%|█████████████████████████████████████████████████████████████████████████████████████████████████████████████████████████| 25/25 [00:03<00:00,  6.95it/s]\n",
      "Generating Dynamics Dataset: 100%|██████████████████████████████████████████████████████████████████████████████████████████| 15/15 [00:00<00:00, 2586.73it/s]\n"
     ]
    },
    {
     "name": "stdout",
     "output_type": "stream",
     "text": [
      "COLLIDED\n"
     ]
    },
    {
     "name": "stderr",
     "output_type": "stream",
     "text": [
      "100%|████████████████████████████████████████████████████████████████████████████████████████████████████████████████████████| 60/60 [00:00<00:00, 206.70it/s]\n"
     ]
    },
    {
     "name": "stdout",
     "output_type": "stream",
     "text": [
      "Epoch 1, loss: 0.000, err: 0.016, val_loss: 0.001, val_err: 0.024\n"
     ]
    },
    {
     "name": "stderr",
     "output_type": "stream",
     "text": [
      "100%|████████████████████████████████████████████████████████████████████████████████████████████████████████████████████████| 60/60 [00:00<00:00, 209.04it/s]\n"
     ]
    },
    {
     "name": "stdout",
     "output_type": "stream",
     "text": [
      "Epoch 2, loss: 0.000, err: 0.016, val_loss: 0.001, val_err: 0.024\n"
     ]
    },
    {
     "name": "stderr",
     "output_type": "stream",
     "text": [
      "100%|████████████████████████████████████████████████████████████████████████████████████████████████████████████████████████| 60/60 [00:00<00:00, 206.10it/s]\n"
     ]
    },
    {
     "name": "stdout",
     "output_type": "stream",
     "text": [
      "Epoch 3, loss: 0.000, err: 0.016, val_loss: 0.001, val_err: 0.024\n"
     ]
    },
    {
     "name": "stderr",
     "output_type": "stream",
     "text": [
      "100%|████████████████████████████████████████████████████████████████████████████████████████████████████████████████████████| 60/60 [00:00<00:00, 209.01it/s]\n"
     ]
    },
    {
     "name": "stdout",
     "output_type": "stream",
     "text": [
      "Epoch 4, loss: 0.000, err: 0.016, val_loss: 0.001, val_err: 0.025\n"
     ]
    },
    {
     "name": "stderr",
     "output_type": "stream",
     "text": [
      "100%|████████████████████████████████████████████████████████████████████████████████████████████████████████████████████████| 60/60 [00:00<00:00, 206.86it/s]\n"
     ]
    },
    {
     "name": "stdout",
     "output_type": "stream",
     "text": [
      "Epoch 5, loss: 0.000, err: 0.016, val_loss: 0.001, val_err: 0.023\n"
     ]
    },
    {
     "name": "stderr",
     "output_type": "stream",
     "text": [
      "100%|████████████████████████████████████████████████████████████████████████████████████████████████████████████████████████| 60/60 [00:00<00:00, 207.93it/s]\n"
     ]
    },
    {
     "name": "stdout",
     "output_type": "stream",
     "text": [
      "Epoch 6, loss: 0.000, err: 0.016, val_loss: 0.001, val_err: 0.025\n"
     ]
    },
    {
     "name": "stderr",
     "output_type": "stream",
     "text": [
      "100%|████████████████████████████████████████████████████████████████████████████████████████████████████████████████████████| 60/60 [00:00<00:00, 209.55it/s]\n"
     ]
    },
    {
     "name": "stdout",
     "output_type": "stream",
     "text": [
      "Epoch 7, loss: 0.000, err: 0.016, val_loss: 0.001, val_err: 0.024\n"
     ]
    },
    {
     "name": "stderr",
     "output_type": "stream",
     "text": [
      "100%|████████████████████████████████████████████████████████████████████████████████████████████████████████████████████████| 60/60 [00:00<00:00, 207.76it/s]\n"
     ]
    },
    {
     "name": "stdout",
     "output_type": "stream",
     "text": [
      "Epoch 8, loss: 0.000, err: 0.016, val_loss: 0.001, val_err: 0.025\n"
     ]
    },
    {
     "name": "stderr",
     "output_type": "stream",
     "text": [
      "100%|████████████████████████████████████████████████████████████████████████████████████████████████████████████████████████| 60/60 [00:00<00:00, 208.17it/s]\n"
     ]
    },
    {
     "name": "stdout",
     "output_type": "stream",
     "text": [
      "Epoch 9, loss: 0.000, err: 0.016, val_loss: 0.001, val_err: 0.024\n"
     ]
    },
    {
     "name": "stderr",
     "output_type": "stream",
     "text": [
      "100%|████████████████████████████████████████████████████████████████████████████████████████████████████████████████████████| 60/60 [00:00<00:00, 208.21it/s]\n"
     ]
    },
    {
     "name": "stdout",
     "output_type": "stream",
     "text": [
      "Epoch 10, loss: 0.000, err: 0.016, val_loss: 0.001, val_err: 0.025\n"
     ]
    },
    {
     "name": "stderr",
     "output_type": "stream",
     "text": [
      "100%|████████████████████████████████████████████████████████████████████████████████████████████████████████████████████████| 60/60 [00:00<00:00, 205.68it/s]\n"
     ]
    },
    {
     "name": "stdout",
     "output_type": "stream",
     "text": [
      "Epoch 11, loss: 0.000, err: 0.016, val_loss: 0.001, val_err: 0.025\n"
     ]
    },
    {
     "name": "stderr",
     "output_type": "stream",
     "text": [
      "100%|████████████████████████████████████████████████████████████████████████████████████████████████████████████████████████| 60/60 [00:00<00:00, 207.35it/s]\n"
     ]
    },
    {
     "name": "stdout",
     "output_type": "stream",
     "text": [
      "Epoch 12, loss: 0.000, err: 0.016, val_loss: 0.001, val_err: 0.025\n"
     ]
    },
    {
     "name": "stderr",
     "output_type": "stream",
     "text": [
      "100%|████████████████████████████████████████████████████████████████████████████████████████████████████████████████████████| 60/60 [00:00<00:00, 203.58it/s]\n"
     ]
    },
    {
     "name": "stdout",
     "output_type": "stream",
     "text": [
      "Epoch 13, loss: 0.000, err: 0.016, val_loss: 0.001, val_err: 0.024\n"
     ]
    },
    {
     "name": "stderr",
     "output_type": "stream",
     "text": [
      "100%|████████████████████████████████████████████████████████████████████████████████████████████████████████████████████████| 60/60 [00:00<00:00, 204.23it/s]\n"
     ]
    },
    {
     "name": "stdout",
     "output_type": "stream",
     "text": [
      "Epoch 14, loss: 0.000, err: 0.016, val_loss: 0.001, val_err: 0.026\n"
     ]
    },
    {
     "name": "stderr",
     "output_type": "stream",
     "text": [
      "100%|████████████████████████████████████████████████████████████████████████████████████████████████████████████████████████| 60/60 [00:00<00:00, 206.80it/s]\n"
     ]
    },
    {
     "name": "stdout",
     "output_type": "stream",
     "text": [
      "Epoch 15, loss: 0.000, err: 0.016, val_loss: 0.001, val_err: 0.025\n"
     ]
    },
    {
     "name": "stderr",
     "output_type": "stream",
     "text": [
      "100%|████████████████████████████████████████████████████████████████████████████████████████████████████████████████████████| 60/60 [00:00<00:00, 204.37it/s]\n"
     ]
    },
    {
     "name": "stdout",
     "output_type": "stream",
     "text": [
      "Epoch 16, loss: 0.000, err: 0.016, val_loss: 0.001, val_err: 0.025\n"
     ]
    },
    {
     "name": "stderr",
     "output_type": "stream",
     "text": [
      "100%|████████████████████████████████████████████████████████████████████████████████████████████████████████████████████████| 60/60 [00:00<00:00, 202.76it/s]\n"
     ]
    },
    {
     "name": "stdout",
     "output_type": "stream",
     "text": [
      "Epoch 17, loss: 0.000, err: 0.016, val_loss: 0.001, val_err: 0.025\n"
     ]
    },
    {
     "name": "stderr",
     "output_type": "stream",
     "text": [
      "100%|████████████████████████████████████████████████████████████████████████████████████████████████████████████████████████| 60/60 [00:00<00:00, 205.55it/s]\n"
     ]
    },
    {
     "name": "stdout",
     "output_type": "stream",
     "text": [
      "Epoch 18, loss: 0.000, err: 0.016, val_loss: 0.001, val_err: 0.025\n"
     ]
    },
    {
     "name": "stderr",
     "output_type": "stream",
     "text": [
      "100%|████████████████████████████████████████████████████████████████████████████████████████████████████████████████████████| 60/60 [00:00<00:00, 203.53it/s]\n"
     ]
    },
    {
     "name": "stdout",
     "output_type": "stream",
     "text": [
      "Epoch 19, loss: 0.000, err: 0.015, val_loss: 0.001, val_err: 0.024\n"
     ]
    },
    {
     "name": "stderr",
     "output_type": "stream",
     "text": [
      "100%|████████████████████████████████████████████████████████████████████████████████████████████████████████████████████████| 60/60 [00:00<00:00, 205.84it/s]\n"
     ]
    },
    {
     "name": "stdout",
     "output_type": "stream",
     "text": [
      "Epoch 20, loss: 0.000, err: 0.015, val_loss: 0.001, val_err: 0.023\n"
     ]
    },
    {
     "name": "stderr",
     "output_type": "stream",
     "text": [
      "100%|████████████████████████████████████████████████████████████████████████████████████████████████████████████████████████| 60/60 [00:00<00:00, 200.52it/s]\n"
     ]
    },
    {
     "name": "stdout",
     "output_type": "stream",
     "text": [
      "Epoch 21, loss: 0.000, err: 0.015, val_loss: 0.001, val_err: 0.024\n"
     ]
    },
    {
     "name": "stderr",
     "output_type": "stream",
     "text": [
      "100%|████████████████████████████████████████████████████████████████████████████████████████████████████████████████████████| 60/60 [00:00<00:00, 200.57it/s]\n"
     ]
    },
    {
     "name": "stdout",
     "output_type": "stream",
     "text": [
      "Epoch 22, loss: 0.000, err: 0.015, val_loss: 0.001, val_err: 0.025\n"
     ]
    },
    {
     "name": "stderr",
     "output_type": "stream",
     "text": [
      "100%|████████████████████████████████████████████████████████████████████████████████████████████████████████████████████████| 60/60 [00:00<00:00, 207.21it/s]\n"
     ]
    },
    {
     "name": "stdout",
     "output_type": "stream",
     "text": [
      "Epoch 23, loss: 0.000, err: 0.015, val_loss: 0.001, val_err: 0.025\n"
     ]
    },
    {
     "name": "stderr",
     "output_type": "stream",
     "text": [
      "100%|████████████████████████████████████████████████████████████████████████████████████████████████████████████████████████| 60/60 [00:00<00:00, 206.59it/s]\n"
     ]
    },
    {
     "name": "stdout",
     "output_type": "stream",
     "text": [
      "Epoch 24, loss: 0.000, err: 0.015, val_loss: 0.001, val_err: 0.025\n"
     ]
    },
    {
     "name": "stderr",
     "output_type": "stream",
     "text": [
      "100%|████████████████████████████████████████████████████████████████████████████████████████████████████████████████████████| 60/60 [00:00<00:00, 205.29it/s]\n"
     ]
    },
    {
     "name": "stdout",
     "output_type": "stream",
     "text": [
      "Epoch 25, loss: 0.000, err: 0.015, val_loss: 0.001, val_err: 0.025\n"
     ]
    },
    {
     "name": "stderr",
     "output_type": "stream",
     "text": [
      "100%|████████████████████████████████████████████████████████████████████████████████████████████████████████████████████████| 60/60 [00:00<00:00, 207.68it/s]\n"
     ]
    },
    {
     "name": "stdout",
     "output_type": "stream",
     "text": [
      "Epoch 26, loss: 0.000, err: 0.015, val_loss: 0.001, val_err: 0.025\n"
     ]
    },
    {
     "name": "stderr",
     "output_type": "stream",
     "text": [
      "100%|████████████████████████████████████████████████████████████████████████████████████████████████████████████████████████| 60/60 [00:00<00:00, 207.05it/s]\n"
     ]
    },
    {
     "name": "stdout",
     "output_type": "stream",
     "text": [
      "Epoch 27, loss: 0.000, err: 0.015, val_loss: 0.001, val_err: 0.026\n"
     ]
    },
    {
     "name": "stderr",
     "output_type": "stream",
     "text": [
      "100%|████████████████████████████████████████████████████████████████████████████████████████████████████████████████████████| 60/60 [00:00<00:00, 197.61it/s]\n"
     ]
    },
    {
     "name": "stdout",
     "output_type": "stream",
     "text": [
      "Epoch 28, loss: 0.000, err: 0.015, val_loss: 0.001, val_err: 0.024\n"
     ]
    },
    {
     "name": "stderr",
     "output_type": "stream",
     "text": [
      "100%|████████████████████████████████████████████████████████████████████████████████████████████████████████████████████████| 60/60 [00:00<00:00, 206.36it/s]\n"
     ]
    },
    {
     "name": "stdout",
     "output_type": "stream",
     "text": [
      "Epoch 29, loss: 0.000, err: 0.015, val_loss: 0.001, val_err: 0.024\n"
     ]
    },
    {
     "name": "stderr",
     "output_type": "stream",
     "text": [
      "100%|████████████████████████████████████████████████████████████████████████████████████████████████████████████████████████| 60/60 [00:00<00:00, 208.91it/s]\n"
     ]
    },
    {
     "name": "stdout",
     "output_type": "stream",
     "text": [
      "Epoch 30, loss: 0.000, err: 0.015, val_loss: 0.001, val_err: 0.024\n"
     ]
    },
    {
     "name": "stderr",
     "output_type": "stream",
     "text": [
      "100%|████████████████████████████████████████████████████████████████████████████████████████████████████████████████████████| 60/60 [00:00<00:00, 209.10it/s]\n"
     ]
    },
    {
     "name": "stdout",
     "output_type": "stream",
     "text": [
      "Epoch 31, loss: 0.000, err: 0.015, val_loss: 0.001, val_err: 0.024\n"
     ]
    },
    {
     "name": "stderr",
     "output_type": "stream",
     "text": [
      "100%|████████████████████████████████████████████████████████████████████████████████████████████████████████████████████████| 60/60 [00:00<00:00, 208.19it/s]\n"
     ]
    },
    {
     "name": "stdout",
     "output_type": "stream",
     "text": [
      "Epoch 32, loss: 0.000, err: 0.015, val_loss: 0.001, val_err: 0.025\n"
     ]
    },
    {
     "name": "stderr",
     "output_type": "stream",
     "text": [
      "100%|████████████████████████████████████████████████████████████████████████████████████████████████████████████████████████| 60/60 [00:00<00:00, 204.83it/s]\n"
     ]
    },
    {
     "name": "stdout",
     "output_type": "stream",
     "text": [
      "Epoch 33, loss: 0.000, err: 0.015, val_loss: 0.001, val_err: 0.024\n"
     ]
    },
    {
     "name": "stderr",
     "output_type": "stream",
     "text": [
      "100%|████████████████████████████████████████████████████████████████████████████████████████████████████████████████████████| 60/60 [00:00<00:00, 205.47it/s]\n"
     ]
    },
    {
     "name": "stdout",
     "output_type": "stream",
     "text": [
      "Epoch 34, loss: 0.000, err: 0.015, val_loss: 0.001, val_err: 0.024\n"
     ]
    },
    {
     "name": "stderr",
     "output_type": "stream",
     "text": [
      "100%|████████████████████████████████████████████████████████████████████████████████████████████████████████████████████████| 60/60 [00:00<00:00, 206.26it/s]\n"
     ]
    },
    {
     "name": "stdout",
     "output_type": "stream",
     "text": [
      "Epoch 35, loss: 0.000, err: 0.015, val_loss: 0.001, val_err: 0.023\n"
     ]
    },
    {
     "name": "stderr",
     "output_type": "stream",
     "text": [
      "100%|████████████████████████████████████████████████████████████████████████████████████████████████████████████████████████| 60/60 [00:00<00:00, 209.89it/s]\n"
     ]
    },
    {
     "name": "stdout",
     "output_type": "stream",
     "text": [
      "Epoch 36, loss: 0.000, err: 0.015, val_loss: 0.001, val_err: 0.023\n"
     ]
    },
    {
     "name": "stderr",
     "output_type": "stream",
     "text": [
      "100%|████████████████████████████████████████████████████████████████████████████████████████████████████████████████████████| 60/60 [00:00<00:00, 206.75it/s]\n"
     ]
    },
    {
     "name": "stdout",
     "output_type": "stream",
     "text": [
      "Epoch 37, loss: 0.000, err: 0.015, val_loss: 0.001, val_err: 0.024\n"
     ]
    },
    {
     "name": "stderr",
     "output_type": "stream",
     "text": [
      "100%|████████████████████████████████████████████████████████████████████████████████████████████████████████████████████████| 60/60 [00:00<00:00, 205.32it/s]\n"
     ]
    },
    {
     "name": "stdout",
     "output_type": "stream",
     "text": [
      "Epoch 38, loss: 0.000, err: 0.015, val_loss: 0.001, val_err: 0.023\n"
     ]
    },
    {
     "name": "stderr",
     "output_type": "stream",
     "text": [
      "100%|████████████████████████████████████████████████████████████████████████████████████████████████████████████████████████| 60/60 [00:00<00:00, 206.07it/s]\n"
     ]
    },
    {
     "name": "stdout",
     "output_type": "stream",
     "text": [
      "Epoch 39, loss: 0.000, err: 0.016, val_loss: 0.001, val_err: 0.023\n"
     ]
    },
    {
     "name": "stderr",
     "output_type": "stream",
     "text": [
      "100%|████████████████████████████████████████████████████████████████████████████████████████████████████████████████████████| 10/10 [00:00<00:00, 588.51it/s]\n"
     ]
    },
    {
     "name": "stdout",
     "output_type": "stream",
     "text": [
      "STATE: [ 0.71470471  0.72021133 -0.0331324  -0.02857108] ACT: [-0.37865595 -0.32652668] \n",
      "STATE: [ 0.69222256  0.70092665 -0.0642347  -0.05509909] ACT: [-0.38030418 -0.3246055 ] \n",
      "STATE: [ 0.65961632  0.67291131 -0.0931607  -0.08004384] ACT: [-0.37875891 -0.32640724] \n",
      "STATE: [ 0.61740035  0.63691501 -0.12061705 -0.10284656] ACT: [-0.38365737 -0.32063535] \n",
      "STATE: [ 0.56655903  0.59412386 -0.1452609  -0.12226044] ACT: [-0.3721068  -0.29900788] \n",
      "STATE: [ 0.50375784  0.5548442  -0.17943198 -0.11222759] ACT: [-0.49947229  0.02296588] \n",
      "STATE: [ 0.44149468  0.52670942 -0.17789476 -0.08038509] ACT: [-0.11700574  0.27974361] \n",
      "STATE: [ 0.38028925  0.51543105 -0.17487264 -0.0322239 ] ACT: [-0.09888259  0.49012471] \n",
      "STATE: [ 0.30796465  0.50721248 -0.20664172 -0.02348165] ACT: [-0.49422961  0.07574358] \n",
      "STATE: [ 0.22662571  0.49281629 -0.23239696 -0.04113197] ACT: [-0.44932696 -0.21932917] \n",
      "STATE: [ 0.1390774   0.46930833 -0.25013805 -0.06716561] ACT: [-0.37705306 -0.3283763 ] \n",
      "STATE: [ 0.04711417  0.435887   -0.26275206 -0.09548952] ACT: [-0.33176358 -0.37407609] \n",
      "STATE: [-0.04699987  0.39171817 -0.26889728 -0.12619664] ACT: [-0.26729514 -0.42255568] \n",
      "final state  [-0.04699987  0.39171817]\n",
      "STATE: [ 0.75674579  0.8891056  -0.03284171 -0.02890475] ACT: [-0.37533378 -0.33034005] \n",
      "STATE: [ 0.73458396  0.8694538  -0.06331952 -0.056148  ] ACT: [-0.37294912 -0.33302996] \n",
      "STATE: [ 0.70240336  0.84095065 -0.09194457 -0.08143756] ACT: [-0.37463306 -0.33113452] \n",
      "STATE: [ 0.66088506  0.80415041 -0.11862371 -0.10514355] ACT: [-0.37386296 -0.33200375] \n",
      "STATE: [ 0.61071845  0.75951196 -0.14333318 -0.12753843] ACT: [-0.3713617  -0.33479917] \n",
      "STATE: [ 0.55254933  0.70746353 -0.16619748 -0.1487098 ] ACT: [-0.3688061  -0.33761229] \n",
      "STATE: [ 0.48530035  0.65057641 -0.19213993 -0.16253464] ACT: [-0.42113335 -0.26953053] \n",
      "STATE: [ 0.40739565  0.60014276 -0.22258485 -0.14409613] ACT: [-0.49204689  0.08882486] \n",
      "STATE: [ 0.3197576   0.55677027 -0.25039444 -0.12392141] ACT: [-0.48476254  0.12249603] \n",
      "STATE: [ 0.22345821  0.51107203 -0.27514111 -0.13056639] ACT: [-0.47061481 -0.16888368] \n",
      "STATE: [ 0.12143309  0.45891856 -0.29150033 -0.14900992] ACT: [-0.39331842 -0.30870798] \n",
      "STATE: [ 0.01698629  0.39788516 -0.29841944 -0.17438114] ACT: [-0.29770074 -0.40171417] \n",
      "STATE: [-0.0879545   0.32742298 -0.29983085 -0.20132051] ACT: [-0.23994495 -0.43866436] \n",
      "final state  [-0.0879545   0.32742298]\n",
      "STATE: [ 0.71285899  0.70206754 -0.03327662 -0.02840298] ACT: [-0.38030418 -0.3246055 ] \n",
      "STATE: [ 0.69032968  0.68283784 -0.06436945 -0.05494202] ACT: [-0.38030418 -0.3246055 ] \n",
      "STATE: [ 0.65761548  0.65494847 -0.09346915 -0.07968389] ACT: [-0.38084499 -0.32397082] \n",
      "STATE: [ 0.61551417  0.61918032 -0.12028945 -0.10219473] ACT: [-0.37661968 -0.31702962] \n",
      "STATE: [ 0.56477999  0.57660233 -0.1449548  -0.12165139] ACT: [-0.3721068  -0.29900788] \n",
      "STATE: [ 0.50522682  0.53886703 -0.17015193 -0.10781516] ACT: [-0.39668326  0.06688983] \n",
      "STATE: [ 0.44599852  0.51217525 -0.16922371 -0.07626222] ACT: [-0.11700574  0.27974361] \n",
      "STATE: [ 0.39169403  0.50251247 -0.15515569 -0.02760795] ACT: [0.03385961 0.49885221] \n",
      "STATE: [ 0.32905869  0.50312703 -0.17895811  0.00175588] ACT: [-0.3883944   0.31488059] \n",
      "STATE: [ 0.2557946   0.4995505  -0.20932597 -0.01021864] ACT: [-0.48127989 -0.13553475] \n",
      "STATE: [ 0.17528207  0.48676856 -0.2300358  -0.03651984] ACT: [-0.39367818 -0.30824907] \n",
      "STATE: [ 0.08924576  0.46397774 -0.24581804 -0.06511662] ACT: [-0.35289529 -0.35421027] \n",
      "STATE: [ 2.84899790e-05  4.30170369e-01 -2.54906478e-01 -9.65924889e-02] ACT: [-0.28823144 -0.40856167] \n",
      "STATE: [-0.09060543  0.3851058  -0.25895407 -0.12875591] ACT: [-0.23743801 -0.44002635] \n",
      "final state  [-0.09060543  0.3851058 ]\n",
      "STATE: [ 0.7174327   0.8647611  -0.03263305 -0.02914012] ACT: [-0.37294912 -0.33302996] \n",
      "STATE: [ 0.69534027  0.84503102 -0.06312123 -0.05637164] ACT: [-0.37291114 -0.33307248] \n",
      "STATE: [ 0.66335808  0.81630561 -0.09137771 -0.08207259] ACT: [-0.37027207 -0.33600386] \n",
      "STATE: [ 0.6221389   0.77917104 -0.11776909 -0.10609877] ACT: [-0.37014909 -0.33613934] \n",
      "STATE: [ 0.5722607   0.73421031 -0.14250912 -0.12845925] ACT: [-0.37106999 -0.33512245] \n",
      "STATE: [ 0.51358135  0.68278306 -0.1676553  -0.146935  ] ACT: [-0.39426683 -0.3074958 ] \n",
      "STATE: [ 0.44379991  0.63143178 -0.19937554 -0.14671793] ACT: [-0.48825842 -0.10772054] \n",
      "STATE: [ 0.3645189   0.58947165 -0.22651717 -0.11988609] ACT: [-0.4597217   0.19661119] \n",
      "STATE: [ 0.27525783  0.55225328 -0.25503165 -0.1063382 ] ACT: [-0.49576768  0.0649185 ] \n",
      "STATE: [ 0.17854429  0.50990698 -0.2763244  -0.12098942] ACT: [-0.43461945 -0.24719614] \n",
      "STATE: [ 0.07702464  0.45984754 -0.29005614 -0.14302699] ACT: [-0.36417744 -0.34260004] \n",
      "STATE: [-0.02665987  0.40056104 -0.29624145 -0.16938999] ACT: [-0.28823144 -0.40856167] \n",
      "final state  [-0.02665987  0.40056104]\n",
      "STATE: [ 0.66633567  0.69432904 -0.0331414  -0.02856063] ACT: [-0.37875891 -0.32640724] \n",
      "STATE: [ 0.64374789  0.67516937 -0.06453652 -0.05474193] ACT: [-0.38365737 -0.32063535] \n",
      "STATE: [ 0.61089293  0.64744759 -0.09387133 -0.07920509] ACT: [-0.38365737 -0.32063535] \n",
      "STATE: [ 0.56685109  0.61403256 -0.12583383 -0.09547151] ACT: [-0.4356892  -0.24530577] \n",
      "STATE: [ 0.51040315  0.58351372 -0.16127981 -0.08719668] ACT: [-0.49947229  0.02296588] \n",
      "STATE: [ 0.44705303  0.56504961 -0.18100034 -0.05275461] ACT: [-0.34633735  0.32822617] \n",
      "STATE: [ 0.38176482  0.56184421 -0.18653775 -0.0091583 ] ACT: [-0.19903488  0.45867757] \n",
      "STATE: [ 0.30598558  0.5628685  -0.21651212  0.00292656] ACT: [-0.48246764  0.13124396] \n",
      "STATE: [ 0.22040458  0.55980328 -0.24451713 -0.00875779] ACT: [-0.48244136 -0.13134053] \n",
      "STATE: [ 0.12818406  0.54775942 -0.26348722 -0.03441102] ACT: [-0.40018879 -0.29974811] \n",
      "STATE: [ 0.03254388  0.52447427 -0.27325765 -0.06652899] ACT: [-0.30927749 -0.39287076] \n",
      "STATE: [-0.06532423  0.48998343 -0.27962315 -0.09854527] ACT: [-0.27769184 -0.41579711] \n",
      "final state  [-0.06532423  0.48998343]\n",
      "STATE: [ 0.67760528  0.7438305  -0.03303016 -0.02868922] ACT: [-0.3774875  -0.32787679] \n",
      "STATE: [ 0.65524284  0.724407   -0.06389271 -0.05549571] ACT: [-0.3774875  -0.32787679] \n",
      "STATE: [ 0.62272189  0.69629283 -0.09291699 -0.0803262 ] ACT: [-0.37962563 -0.32539881] \n",
      "STATE: [ 0.58030236  0.66055343 -0.12119865 -0.10211258] ACT: [-0.39290665 -0.30923189] \n",
      "STATE: [ 0.52586614  0.62323277 -0.15553206 -0.10663043] ACT: [-0.48328086 -0.12821705] \n",
      "STATE: [ 0.45976999  0.58992639 -0.18884614 -0.09516109] ACT: [-0.49738139  0.05110535] \n",
      "STATE: [ 0.38678316  0.56921723 -0.20853382 -0.05916903] ACT: [-0.36663662  0.33996704] \n",
      "STATE: [ 0.30580107  0.55829422 -0.23137739 -0.03120861] ACT: [-0.41746974  0.27517089] \n",
      "STATE: [ 0.21535867  0.54406572 -0.25840686 -0.04065284] ACT: [-0.48244136 -0.13134053] \n",
      "STATE: [ 0.11862536  0.52155181 -0.27638089 -0.06432546] ACT: [-0.39922254 -0.30103383] \n",
      "STATE: [ 0.01878569  0.48847023 -0.28525619 -0.09451879] ACT: [-0.30871775 -0.39331076] \n",
      "STATE: [-0.08250376  0.4445042  -0.28939843 -0.12561725] ACT: [-0.26128203 -0.42630001] \n",
      "final state  [-0.08250376  0.4445042 ]\n",
      "STATE: [ 0.756921    0.77888548 -0.03320381 -0.02848805] ACT: [-0.37947216 -0.32557777] \n",
      "STATE: [ 0.73445437  0.75958259 -0.06419037 -0.05515111] ACT: [-0.37903491 -0.3260867 ] \n",
      "STATE: [ 0.70185417  0.73156005 -0.09314343 -0.08006441] ACT: [-0.37903491 -0.3260867 ] \n",
      "STATE: [ 0.65979702  0.69537661 -0.12016329 -0.10338127] ACT: [-0.37865595 -0.32652668] \n",
      "STATE: [ 0.60875036  0.65174824 -0.14584759 -0.12465246] ACT: [-0.38365737 -0.32063535] \n",
      "STATE: [ 0.54771066  0.6034705  -0.17439915 -0.1379364 ] ACT: [-0.4356892  -0.24530577] \n",
      "STATE: [ 0.47675147  0.56267412 -0.20274054 -0.11656109] ACT: [-0.45470098  0.14083694] \n",
      "STATE: [ 0.39669897  0.5312937  -0.22872142 -0.08965835] ACT: [-0.44897976  0.22003903] \n",
      "STATE: [ 0.30982725  0.51139192 -0.24820491 -0.05686221] ACT: [-0.3942095  0.3075693] \n",
      "STATE: [ 0.21489585  0.48607925 -0.27123257 -0.07232193] ACT: [-0.44932696 -0.21932917] \n",
      "STATE: [ 0.11464708  0.45237119 -0.28642508 -0.09630873] ACT: [-0.37705306 -0.3283763 ] \n",
      "STATE: [ 0.01186004  0.40857273 -0.29367724 -0.12513846] ACT: [-0.29770074 -0.40171417] \n",
      "STATE: [-0.09096215  0.35391913 -0.2937777  -0.15615313] ACT: [-0.22140602 -0.44830723] \n",
      "final state  [-0.09096215  0.35391913]\n",
      "STATE: [ 0.87029108  0.62795189 -0.03458055 -0.02680015] ACT: [-0.39520631 -0.3062874 ] \n",
      "STATE: [ 0.84691904  0.60975587 -0.06677726 -0.05198863] ACT: [-0.39389774 -0.30796846] \n",
      "STATE: [ 0.81295824  0.58339895 -0.09703088 -0.07530548] ACT: [-0.39583864 -0.30546976] \n",
      "STATE: [ 0.76912769  0.54938549 -0.12523012 -0.09718132] ACT: [-0.39505019 -0.30648874] \n",
      "STATE: [ 0.71660234  0.50757519 -0.15007244 -0.11945799] ACT: [-0.37783478 -0.32747653] \n",
      "STATE: [ 0.65680097  0.45757754 -0.17086105 -0.14285043] ACT: [-0.35013847 -0.35693564] \n",
      "STATE: [ 0.5956006   0.39650365 -0.17485823 -0.17449685] ACT: [-0.17382781 -0.46881115] \n",
      "STATE: [ 0.54040332  0.32425467 -0.15770649 -0.20642565] ACT: [ 0.06487618 -0.49577322] \n",
      "STATE: [ 0.48092343  0.24363274 -0.16994255 -0.23034836] ACT: [-0.25812057 -0.42822164] \n",
      "STATE: [ 0.41438481  0.15761028 -0.19011034 -0.24577848] ACT: [-0.35794597 -0.34910554] \n",
      "STATE: [ 0.33990779  0.06811932 -0.21279148 -0.25568845] ACT: [-0.40179569 -0.2975907 ] \n",
      "STATE: [ 0.25587629 -0.02058801 -0.24009001 -0.25344951] ACT: [-0.47157685 -0.16617844] \n",
      "final state  [ 0.25587629 -0.02058801]\n",
      "STATE: [ 0.864884    0.72973434 -0.03406104 -0.02745738] ACT: [-0.38926909 -0.31379863] \n",
      "STATE: [ 0.84187751  0.71107836 -0.06573285 -0.0533028 ] ACT: [-0.38750922 -0.31596931] \n",
      "STATE: [ 0.80852708  0.6839533  -0.09528694 -0.07750018] ACT: [-0.38706071 -0.31651857] \n",
      "STATE: [ 0.7654936   0.6489369  -0.12295278 -0.10004684] ACT: [-0.38764621 -0.31580123] \n",
      "STATE: [ 0.71341232  0.60654731 -0.14880366 -0.12111312] ACT: [-0.38765328 -0.31579255] \n",
      "STATE: [ 0.65327379  0.55680075 -0.17182438 -0.14213304] ACT: [-0.37469666 -0.33106255] \n",
      "STATE: [ 0.58975323  0.49687395 -0.1814873  -0.17121943] ACT: [-0.23930164 -0.43901563] \n",
      "STATE: [ 0.5362864   0.42709389 -0.15276238 -0.1993716 ] ACT: [ 0.1921693  -0.45015368] \n",
      "STATE: [ 0.49221608  0.34775784 -0.1259152  -0.22667444] ACT: [ 0.19225311 -0.4615612 ] \n",
      "STATE: [ 0.4415969   0.26157248 -0.14462622 -0.24624389] ACT: [-0.3082766  -0.39365662] \n",
      "STATE: [ 0.38289428  0.17082584 -0.16772179 -0.25927611] ACT: [-0.37241904 -0.33362263] \n",
      "STATE: [ 0.31560983  0.07709779 -0.19224128 -0.26779441] ACT: [-0.40601409 -0.29180911] \n",
      "STATE: [ 0.23890942 -0.01704916 -0.21914401 -0.26899128] ACT: [-0.4516407  -0.21452432] \n",
      "final state  [ 0.23890942 -0.01704916]\n",
      "STATE: [ 0.61444614  0.80456344 -0.03220523 -0.02961225] ACT: [-0.36805982 -0.33842572] \n",
      "STATE: [ 0.59262078  0.78453835 -0.06235817 -0.05721453] ACT: [-0.36875894 -0.3376638 ] \n",
      "STATE: [ 0.56093302  0.75548804 -0.09053645 -0.0830009 ] ACT: [-0.3688061  -0.33761229] \n",
      "STATE: [ 0.51925035  0.71892709 -0.11909335 -0.10445985] ACT: [-0.39426683 -0.3074958 ] \n",
      "STATE: [ 0.46639226  0.67836537 -0.15102312 -0.11589062] ACT: [-0.45423169 -0.20898224] \n",
      "STATE: [ 0.40203358  0.63724222 -0.18388194 -0.11749474] ACT: [-0.48879676 -0.10525078] \n",
      "STATE: [ 0.32665013  0.60021842 -0.21538127 -0.10578226] ACT: [-0.49790384  0.04573584] \n",
      "STATE: [ 0.2416121   0.5610129  -0.24296581 -0.11201579] ACT: [-0.47678777 -0.15057697] \n",
      "STATE: [ 0.14989891  0.51520045 -0.2620377  -0.13089271] ACT: [-0.40018879 -0.29974811] \n",
      "STATE: [ 0.05380321  0.46115664 -0.27455912 -0.15441088] ACT: [-0.33963029 -0.36694859] \n",
      "STATE: [-0.04438249  0.39785419 -0.28053059 -0.18086415] ACT: [-0.27416469 -0.41813123] \n",
      "final state  [-0.04438249  0.39785419]\n",
      "After 12 REWARD:  (0.6991363686969772, array([-0.00406066,  0.31534318, -0.27264875, -0.17092836]), -0.22319242218128557)\n",
      "UPDATING THE ACTION MATRIX\n"
     ]
    },
    {
     "name": "stderr",
     "output_type": "stream",
     "text": [
      "100%|█████████████████████████████████████████████████████████████████████████████████████████████████████████████████████████| 25/25 [00:03<00:00,  6.93it/s]\n",
      "Generating Dynamics Dataset: 100%|██████████████████████████████████████████████████████████████████████████████████████████| 15/15 [00:00<00:00, 2524.36it/s]\n",
      "100%|████████████████████████████████████████████████████████████████████████████████████████████████████████████████████████| 63/63 [00:00<00:00, 207.31it/s]\n"
     ]
    },
    {
     "name": "stdout",
     "output_type": "stream",
     "text": [
      "Epoch 1, loss: 0.000, err: 0.015, val_loss: 0.001, val_err: 0.024\n"
     ]
    },
    {
     "name": "stderr",
     "output_type": "stream",
     "text": [
      "100%|████████████████████████████████████████████████████████████████████████████████████████████████████████████████████████| 63/63 [00:00<00:00, 207.36it/s]\n"
     ]
    },
    {
     "name": "stdout",
     "output_type": "stream",
     "text": [
      "Epoch 2, loss: 0.000, err: 0.015, val_loss: 0.001, val_err: 0.025\n"
     ]
    },
    {
     "name": "stderr",
     "output_type": "stream",
     "text": [
      "100%|████████████████████████████████████████████████████████████████████████████████████████████████████████████████████████| 63/63 [00:00<00:00, 208.83it/s]\n"
     ]
    },
    {
     "name": "stdout",
     "output_type": "stream",
     "text": [
      "Epoch 3, loss: 0.000, err: 0.015, val_loss: 0.001, val_err: 0.024\n"
     ]
    },
    {
     "name": "stderr",
     "output_type": "stream",
     "text": [
      "100%|████████████████████████████████████████████████████████████████████████████████████████████████████████████████████████| 63/63 [00:00<00:00, 207.03it/s]\n"
     ]
    },
    {
     "name": "stdout",
     "output_type": "stream",
     "text": [
      "Epoch 4, loss: 0.000, err: 0.015, val_loss: 0.001, val_err: 0.025\n"
     ]
    },
    {
     "name": "stderr",
     "output_type": "stream",
     "text": [
      "100%|████████████████████████████████████████████████████████████████████████████████████████████████████████████████████████| 63/63 [00:00<00:00, 202.87it/s]\n"
     ]
    },
    {
     "name": "stdout",
     "output_type": "stream",
     "text": [
      "Epoch 5, loss: 0.000, err: 0.015, val_loss: 0.001, val_err: 0.025\n"
     ]
    },
    {
     "name": "stderr",
     "output_type": "stream",
     "text": [
      "100%|████████████████████████████████████████████████████████████████████████████████████████████████████████████████████████| 63/63 [00:00<00:00, 206.62it/s]\n"
     ]
    },
    {
     "name": "stdout",
     "output_type": "stream",
     "text": [
      "Epoch 6, loss: 0.000, err: 0.015, val_loss: 0.001, val_err: 0.025\n"
     ]
    },
    {
     "name": "stderr",
     "output_type": "stream",
     "text": [
      "100%|████████████████████████████████████████████████████████████████████████████████████████████████████████████████████████| 63/63 [00:00<00:00, 205.77it/s]\n"
     ]
    },
    {
     "name": "stdout",
     "output_type": "stream",
     "text": [
      "Epoch 7, loss: 0.000, err: 0.015, val_loss: 0.001, val_err: 0.025\n"
     ]
    },
    {
     "name": "stderr",
     "output_type": "stream",
     "text": [
      "100%|████████████████████████████████████████████████████████████████████████████████████████████████████████████████████████| 63/63 [00:00<00:00, 208.84it/s]\n"
     ]
    },
    {
     "name": "stdout",
     "output_type": "stream",
     "text": [
      "Epoch 8, loss: 0.000, err: 0.015, val_loss: 0.001, val_err: 0.024\n"
     ]
    },
    {
     "name": "stderr",
     "output_type": "stream",
     "text": [
      "100%|████████████████████████████████████████████████████████████████████████████████████████████████████████████████████████| 63/63 [00:00<00:00, 210.55it/s]\n"
     ]
    },
    {
     "name": "stdout",
     "output_type": "stream",
     "text": [
      "Epoch 9, loss: 0.000, err: 0.015, val_loss: 0.001, val_err: 0.026\n"
     ]
    },
    {
     "name": "stderr",
     "output_type": "stream",
     "text": [
      "100%|████████████████████████████████████████████████████████████████████████████████████████████████████████████████████████| 63/63 [00:00<00:00, 208.67it/s]\n"
     ]
    },
    {
     "name": "stdout",
     "output_type": "stream",
     "text": [
      "Epoch 10, loss: 0.000, err: 0.015, val_loss: 0.001, val_err: 0.025\n"
     ]
    },
    {
     "name": "stderr",
     "output_type": "stream",
     "text": [
      "100%|████████████████████████████████████████████████████████████████████████████████████████████████████████████████████████| 63/63 [00:00<00:00, 206.88it/s]\n"
     ]
    },
    {
     "name": "stdout",
     "output_type": "stream",
     "text": [
      "Epoch 11, loss: 0.000, err: 0.015, val_loss: 0.001, val_err: 0.025\n"
     ]
    },
    {
     "name": "stderr",
     "output_type": "stream",
     "text": [
      "100%|████████████████████████████████████████████████████████████████████████████████████████████████████████████████████████| 63/63 [00:00<00:00, 209.20it/s]\n"
     ]
    },
    {
     "name": "stdout",
     "output_type": "stream",
     "text": [
      "Epoch 12, loss: 0.000, err: 0.015, val_loss: 0.001, val_err: 0.025\n"
     ]
    },
    {
     "name": "stderr",
     "output_type": "stream",
     "text": [
      "100%|████████████████████████████████████████████████████████████████████████████████████████████████████████████████████████| 63/63 [00:00<00:00, 208.17it/s]\n"
     ]
    },
    {
     "name": "stdout",
     "output_type": "stream",
     "text": [
      "Epoch 13, loss: 0.000, err: 0.015, val_loss: 0.001, val_err: 0.026\n"
     ]
    },
    {
     "name": "stderr",
     "output_type": "stream",
     "text": [
      "100%|████████████████████████████████████████████████████████████████████████████████████████████████████████████████████████| 63/63 [00:00<00:00, 204.30it/s]\n"
     ]
    },
    {
     "name": "stdout",
     "output_type": "stream",
     "text": [
      "Epoch 14, loss: 0.000, err: 0.015, val_loss: 0.001, val_err: 0.025\n"
     ]
    },
    {
     "name": "stderr",
     "output_type": "stream",
     "text": [
      "100%|████████████████████████████████████████████████████████████████████████████████████████████████████████████████████████| 63/63 [00:00<00:00, 203.27it/s]\n"
     ]
    },
    {
     "name": "stdout",
     "output_type": "stream",
     "text": [
      "Epoch 15, loss: 0.000, err: 0.015, val_loss: 0.001, val_err: 0.025\n"
     ]
    },
    {
     "name": "stderr",
     "output_type": "stream",
     "text": [
      "100%|████████████████████████████████████████████████████████████████████████████████████████████████████████████████████████| 63/63 [00:00<00:00, 192.99it/s]\n"
     ]
    },
    {
     "name": "stdout",
     "output_type": "stream",
     "text": [
      "Epoch 16, loss: 0.000, err: 0.015, val_loss: 0.001, val_err: 0.024\n"
     ]
    },
    {
     "name": "stderr",
     "output_type": "stream",
     "text": [
      "100%|████████████████████████████████████████████████████████████████████████████████████████████████████████████████████████| 63/63 [00:00<00:00, 199.28it/s]\n"
     ]
    },
    {
     "name": "stdout",
     "output_type": "stream",
     "text": [
      "Epoch 17, loss: 0.000, err: 0.015, val_loss: 0.001, val_err: 0.025\n"
     ]
    },
    {
     "name": "stderr",
     "output_type": "stream",
     "text": [
      "100%|████████████████████████████████████████████████████████████████████████████████████████████████████████████████████████| 63/63 [00:00<00:00, 190.31it/s]\n"
     ]
    },
    {
     "name": "stdout",
     "output_type": "stream",
     "text": [
      "Epoch 18, loss: 0.000, err: 0.015, val_loss: 0.001, val_err: 0.025\n"
     ]
    },
    {
     "name": "stderr",
     "output_type": "stream",
     "text": [
      "100%|████████████████████████████████████████████████████████████████████████████████████████████████████████████████████████| 63/63 [00:00<00:00, 195.55it/s]\n"
     ]
    },
    {
     "name": "stdout",
     "output_type": "stream",
     "text": [
      "Epoch 19, loss: 0.000, err: 0.015, val_loss: 0.001, val_err: 0.024\n"
     ]
    },
    {
     "name": "stderr",
     "output_type": "stream",
     "text": [
      "100%|████████████████████████████████████████████████████████████████████████████████████████████████████████████████████████| 63/63 [00:00<00:00, 198.24it/s]\n"
     ]
    },
    {
     "name": "stdout",
     "output_type": "stream",
     "text": [
      "Epoch 20, loss: 0.000, err: 0.015, val_loss: 0.001, val_err: 0.024\n"
     ]
    },
    {
     "name": "stderr",
     "output_type": "stream",
     "text": [
      "100%|████████████████████████████████████████████████████████████████████████████████████████████████████████████████████████| 63/63 [00:00<00:00, 209.16it/s]\n"
     ]
    },
    {
     "name": "stdout",
     "output_type": "stream",
     "text": [
      "Epoch 21, loss: 0.000, err: 0.015, val_loss: 0.001, val_err: 0.025\n"
     ]
    },
    {
     "name": "stderr",
     "output_type": "stream",
     "text": [
      "100%|████████████████████████████████████████████████████████████████████████████████████████████████████████████████████████| 63/63 [00:00<00:00, 207.92it/s]\n"
     ]
    },
    {
     "name": "stdout",
     "output_type": "stream",
     "text": [
      "Epoch 22, loss: 0.000, err: 0.015, val_loss: 0.001, val_err: 0.024\n"
     ]
    },
    {
     "name": "stderr",
     "output_type": "stream",
     "text": [
      "100%|████████████████████████████████████████████████████████████████████████████████████████████████████████████████████████| 63/63 [00:00<00:00, 189.83it/s]\n"
     ]
    },
    {
     "name": "stdout",
     "output_type": "stream",
     "text": [
      "Epoch 23, loss: 0.000, err: 0.015, val_loss: 0.001, val_err: 0.026\n"
     ]
    },
    {
     "name": "stderr",
     "output_type": "stream",
     "text": [
      "100%|████████████████████████████████████████████████████████████████████████████████████████████████████████████████████████| 63/63 [00:00<00:00, 195.53it/s]\n"
     ]
    },
    {
     "name": "stdout",
     "output_type": "stream",
     "text": [
      "Epoch 24, loss: 0.000, err: 0.015, val_loss: 0.001, val_err: 0.025\n"
     ]
    },
    {
     "name": "stderr",
     "output_type": "stream",
     "text": [
      "100%|████████████████████████████████████████████████████████████████████████████████████████████████████████████████████████| 63/63 [00:00<00:00, 197.03it/s]\n"
     ]
    },
    {
     "name": "stdout",
     "output_type": "stream",
     "text": [
      "Epoch 25, loss: 0.000, err: 0.015, val_loss: 0.001, val_err: 0.025\n"
     ]
    },
    {
     "name": "stderr",
     "output_type": "stream",
     "text": [
      "100%|████████████████████████████████████████████████████████████████████████████████████████████████████████████████████████| 63/63 [00:00<00:00, 194.22it/s]\n"
     ]
    },
    {
     "name": "stdout",
     "output_type": "stream",
     "text": [
      "Epoch 26, loss: 0.000, err: 0.015, val_loss: 0.001, val_err: 0.024\n"
     ]
    },
    {
     "name": "stderr",
     "output_type": "stream",
     "text": [
      "100%|████████████████████████████████████████████████████████████████████████████████████████████████████████████████████████| 63/63 [00:00<00:00, 197.45it/s]\n"
     ]
    },
    {
     "name": "stdout",
     "output_type": "stream",
     "text": [
      "Epoch 27, loss: 0.000, err: 0.015, val_loss: 0.001, val_err: 0.025\n"
     ]
    },
    {
     "name": "stderr",
     "output_type": "stream",
     "text": [
      "100%|████████████████████████████████████████████████████████████████████████████████████████████████████████████████████████| 63/63 [00:00<00:00, 180.76it/s]\n"
     ]
    },
    {
     "name": "stdout",
     "output_type": "stream",
     "text": [
      "Epoch 28, loss: 0.000, err: 0.015, val_loss: 0.001, val_err: 0.025\n"
     ]
    },
    {
     "name": "stderr",
     "output_type": "stream",
     "text": [
      "100%|████████████████████████████████████████████████████████████████████████████████████████████████████████████████████████| 63/63 [00:00<00:00, 196.67it/s]\n"
     ]
    },
    {
     "name": "stdout",
     "output_type": "stream",
     "text": [
      "Epoch 29, loss: 0.000, err: 0.015, val_loss: 0.001, val_err: 0.025\n"
     ]
    },
    {
     "name": "stderr",
     "output_type": "stream",
     "text": [
      "100%|████████████████████████████████████████████████████████████████████████████████████████████████████████████████████████| 63/63 [00:00<00:00, 206.31it/s]\n"
     ]
    },
    {
     "name": "stdout",
     "output_type": "stream",
     "text": [
      "Epoch 30, loss: 0.000, err: 0.015, val_loss: 0.001, val_err: 0.026\n"
     ]
    },
    {
     "name": "stderr",
     "output_type": "stream",
     "text": [
      "100%|████████████████████████████████████████████████████████████████████████████████████████████████████████████████████████| 63/63 [00:00<00:00, 189.57it/s]\n"
     ]
    },
    {
     "name": "stdout",
     "output_type": "stream",
     "text": [
      "Epoch 31, loss: 0.000, err: 0.015, val_loss: 0.001, val_err: 0.025\n"
     ]
    },
    {
     "name": "stderr",
     "output_type": "stream",
     "text": [
      "100%|████████████████████████████████████████████████████████████████████████████████████████████████████████████████████████| 63/63 [00:00<00:00, 199.73it/s]\n"
     ]
    },
    {
     "name": "stdout",
     "output_type": "stream",
     "text": [
      "Epoch 32, loss: 0.000, err: 0.015, val_loss: 0.001, val_err: 0.025\n"
     ]
    },
    {
     "name": "stderr",
     "output_type": "stream",
     "text": [
      "100%|████████████████████████████████████████████████████████████████████████████████████████████████████████████████████████| 63/63 [00:00<00:00, 208.57it/s]\n"
     ]
    },
    {
     "name": "stdout",
     "output_type": "stream",
     "text": [
      "Epoch 33, loss: 0.000, err: 0.015, val_loss: 0.001, val_err: 0.025\n"
     ]
    },
    {
     "name": "stderr",
     "output_type": "stream",
     "text": [
      "100%|████████████████████████████████████████████████████████████████████████████████████████████████████████████████████████| 63/63 [00:00<00:00, 204.16it/s]\n"
     ]
    },
    {
     "name": "stdout",
     "output_type": "stream",
     "text": [
      "Epoch 34, loss: 0.000, err: 0.015, val_loss: 0.001, val_err: 0.024\n"
     ]
    },
    {
     "name": "stderr",
     "output_type": "stream",
     "text": [
      "100%|████████████████████████████████████████████████████████████████████████████████████████████████████████████████████████| 63/63 [00:00<00:00, 196.96it/s]\n"
     ]
    },
    {
     "name": "stdout",
     "output_type": "stream",
     "text": [
      "Epoch 35, loss: 0.000, err: 0.015, val_loss: 0.001, val_err: 0.025\n"
     ]
    },
    {
     "name": "stderr",
     "output_type": "stream",
     "text": [
      "100%|████████████████████████████████████████████████████████████████████████████████████████████████████████████████████████| 63/63 [00:00<00:00, 207.90it/s]\n"
     ]
    },
    {
     "name": "stdout",
     "output_type": "stream",
     "text": [
      "Epoch 36, loss: 0.000, err: 0.015, val_loss: 0.001, val_err: 0.024\n"
     ]
    },
    {
     "name": "stderr",
     "output_type": "stream",
     "text": [
      "100%|████████████████████████████████████████████████████████████████████████████████████████████████████████████████████████| 63/63 [00:00<00:00, 204.72it/s]\n"
     ]
    },
    {
     "name": "stdout",
     "output_type": "stream",
     "text": [
      "Epoch 37, loss: 0.000, err: 0.015, val_loss: 0.001, val_err: 0.024\n"
     ]
    },
    {
     "name": "stderr",
     "output_type": "stream",
     "text": [
      "100%|████████████████████████████████████████████████████████████████████████████████████████████████████████████████████████| 63/63 [00:00<00:00, 192.65it/s]\n"
     ]
    },
    {
     "name": "stdout",
     "output_type": "stream",
     "text": [
      "Epoch 38, loss: 0.000, err: 0.015, val_loss: 0.001, val_err: 0.024\n"
     ]
    },
    {
     "name": "stderr",
     "output_type": "stream",
     "text": [
      "100%|████████████████████████████████████████████████████████████████████████████████████████████████████████████████████████| 63/63 [00:00<00:00, 198.10it/s]\n"
     ]
    },
    {
     "name": "stdout",
     "output_type": "stream",
     "text": [
      "Epoch 39, loss: 0.000, err: 0.015, val_loss: 0.001, val_err: 0.023\n"
     ]
    },
    {
     "name": "stderr",
     "output_type": "stream",
     "text": [
      "100%|████████████████████████████████████████████████████████████████████████████████████████████████████████████████████████| 10/10 [00:00<00:00, 596.84it/s]\n"
     ]
    },
    {
     "name": "stdout",
     "output_type": "stream",
     "text": [
      "STATE: [ 0.75157497  0.83955929 -0.03344264 -0.02820731] ACT: [-0.3822016  -0.32236926] \n",
      "STATE: [ 0.72898607  0.82039979 -0.06453972 -0.05474144] ACT: [-0.38047718 -0.32440271] \n",
      "STATE: [ 0.69622745  0.79256279 -0.09359605 -0.07953427] ACT: [-0.38047718 -0.32440271] \n",
      "STATE: [ 0.6540277   0.75654644 -0.12057071 -0.10290388] ACT: [-0.37847884 -0.32673196] \n",
      "STATE: [ 0.60293898  0.71296612 -0.14596778 -0.12451519] ACT: [-0.38068029 -0.32416433] \n",
      "STATE: [ 0.54265555  0.66346877 -0.17223835 -0.14142099] ACT: [-0.4097109  -0.28659549] \n",
      "STATE: [ 0.47102123  0.61680922 -0.20466949 -0.133313  ] ACT: [-0.49982033 -0.01340307] \n",
      "STATE: [ 0.39016754  0.57959104 -0.23101054 -0.10633767] ACT: [-0.45454273  0.20830483] \n",
      "STATE: [ 0.30201967  0.5535163  -0.25185107 -0.07449925] ACT: [-0.41143535  0.28411433] \n",
      "STATE: [ 0.20479806  0.52545142 -0.27777601 -0.08018537] ACT: [-0.48517337 -0.1208586 ] \n",
      "STATE: [ 0.1021023   0.48953564 -0.29341646 -0.10261651] ACT: [-0.38707999 -0.31649499] \n",
      "STATE: [-0.00221936  0.44315131 -0.2980619  -0.13252667] ACT: [-0.27315313 -0.41879275] \n",
      "final state  [-0.00221936  0.44315131]\n",
      "STATE: [ 0.5956024   0.79666657 -0.03236975 -0.02943233] ACT: [-0.36993996 -0.33636947] \n",
      "STATE: [ 0.57368707  0.77673997 -0.06261523 -0.05693316] ACT: [-0.36993996 -0.33636947] \n",
      "STATE: [ 0.54166373  0.74806331 -0.09149524 -0.0819333 ] ACT: [-0.3770187  -0.32841575] \n",
      "STATE: [ 0.49885915  0.71304795 -0.1222988  -0.10004389] ACT: [-0.42066206 -0.26842819] \n",
      "STATE: [ 0.44442359  0.67523556 -0.15553017 -0.1080354 ] ACT: [-0.47151127 -0.16636444] \n",
      "STATE: [ 0.37855246  0.63686563 -0.18820324 -0.10962836] ACT: [-0.49005414 -0.09923176] \n",
      "STATE: [ 0.3016947   0.60132103 -0.21959359 -0.10155602] ACT: [-0.49989931  0.01003403] \n",
      "STATE: [ 0.21499801  0.56450666 -0.24770484 -0.1051839 ] ACT: [-0.48596658 -0.11762857] \n",
      "STATE: [ 0.12142229  0.52136149 -0.2673592  -0.12327191] ACT: [-0.41039993 -0.28560795] \n",
      "STATE: [ 0.02502606  0.46863137 -0.27541778 -0.15065748] ACT: [-0.29261746 -0.40543189] \n",
      "STATE: [-0.07141048  0.40543534 -0.27553298 -0.18056009] ACT: [-0.20787987 -0.45473724] \n",
      "final state  [-0.07141048  0.40543534]\n",
      "STATE: [ 0.67261941  0.74060829 -0.03341255 -0.02824294] ACT: [-0.38185776 -0.32277647] \n",
      "STATE: [ 0.64999807  0.72148694 -0.06463241 -0.05463244] ACT: [-0.38185776 -0.32277647] \n",
      "STATE: [ 0.61705411  0.69387034 -0.09412559 -0.07890457] ACT: [-0.38553924 -0.31837006] \n",
      "STATE: [ 0.57402381  0.6588763  -0.12294371 -0.09998297] ACT: [-0.39994411 -0.30007451] \n",
      "STATE: [ 0.51921202  0.62157916 -0.15660513 -0.10656324] ACT: [-0.4769097  -0.15019034] \n",
      "STATE: [ 0.45318543  0.59061332 -0.18864738 -0.08847384] ACT: [-0.483651    0.12681368] \n",
      "STATE: [ 0.37867095  0.57005203 -0.21289852 -0.05874655] ACT: [-0.41864139  0.27338506] \n",
      "STATE: [ 0.29458544  0.55587504 -0.24024431 -0.04050568] ACT: [-0.47219729  0.16440718] \n",
      "STATE: [ 0.20219366  0.53604367 -0.26397653 -0.05666108] ACT: [-0.45140853 -0.21501241] \n",
      "STATE: [ 0.10383692  0.50803765 -0.28101925 -0.08001719] ACT: [-0.39275634 -0.30942278] \n",
      "STATE: [ 0.00297344  0.46945318 -0.28818139 -0.11024135] ACT: [-0.29261746 -0.40543189] \n",
      "STATE: [-0.09732793  0.41933721 -0.28657534 -0.14318847] ACT: [-0.19778127 -0.45921952] \n",
      "final state  [-0.09732793  0.41933721]\n",
      "STATE: [ 0.85666303  0.83301566 -0.03413334 -0.02736746] ACT: [-0.39009531 -0.31277092] \n",
      "STATE: [ 0.83355369  0.81448704 -0.06602668 -0.05293892] ACT: [-0.39009531 -0.31277092] \n",
      "STATE: [ 0.80008564  0.78750736 -0.095623   -0.0770848 ] ACT: [-0.38776362 -0.31565705] \n",
      "STATE: [ 0.75693603  0.75263448 -0.12328461 -0.09963682] ACT: [-0.38784994 -0.31555098] \n",
      "STATE: [ 0.70474136  0.71038496 -0.14912763 -0.12071292] ACT: [-0.38781225 -0.31559731] \n",
      "STATE: [ 0.64411165  0.66122274 -0.17322775 -0.14046348] ACT: [-0.38727576 -0.31625541] \n",
      "STATE: [ 0.57553664  0.60568012 -0.19592858 -0.1586932 ] ACT: [-0.38935886 -0.31368723] \n",
      "STATE: [ 0.49618716  0.55485756 -0.22671281 -0.14520732] ACT: [-0.49876616  0.03510437] \n",
      "STATE: [ 0.42225491  0.52268129 -0.21123499 -0.0919322 ] ACT: [0.00685471 0.49995301] \n",
      "STATE: [ 0.35046134  0.50768681 -0.20512448 -0.04284137] ACT: [-0.08859183  0.4920889 ] \n",
      "STATE: [ 0.26812043  0.49239506 -0.23525976 -0.04369071] ACT: [-0.49824653 -0.04183776] \n",
      "STATE: [ 0.17876107  0.46915333 -0.25531244 -0.06640492] ACT: [-0.40561833 -0.29235898] \n",
      "STATE: [ 0.08458705  0.4364626  -0.26906864 -0.09340211] ACT: [-0.34869801 -0.35834298] \n",
      "STATE: [-0.01139482  0.39285333 -0.27423391 -0.12459789] ACT: [-0.2608332  -0.42657478] \n",
      "final state  [-0.01139482  0.39285333]\n",
      "STATE: [ 0.68592232  0.68723305 -0.03395744 -0.02758541] ACT: [-0.38808505 -0.31526178] \n",
      "STATE: [ 0.66293207  0.66855687 -0.06568643 -0.05336052] ACT: [-0.38808505 -0.31526178] \n",
      "STATE: [ 0.62952644  0.64149964 -0.09544466 -0.07730637] ACT: [-0.38935886 -0.31368723] \n",
      "STATE: [ 0.58615173  0.60691349 -0.12392775 -0.09881758] ACT: [-0.39710458 -0.30382224] \n",
      "STATE: [ 0.53084001  0.57060686 -0.15803348 -0.10373323] ACT: [-0.48272559 -0.13029199] \n",
      "STATE: [ 0.46592289  0.54342478 -0.18547749 -0.07766308] ACT: [-0.43217091  0.22014467] \n",
      "STATE: [ 0.39106499  0.52375412 -0.2138797  -0.05620188] ACT: [-0.46370486  0.18702354] \n",
      "STATE: [ 0.30916075  0.51493769 -0.23401213 -0.02518981] ACT: [-0.39049462  0.31227224] \n",
      "STATE: [ 0.21833294  0.50122035 -0.25950802 -0.0391924 ] ACT: [-0.46689069 -0.17892201] \n",
      "STATE: [ 0.12114481  0.47931101 -0.27768039 -0.0625981 ] ACT: [-0.40231524 -0.29688794] \n",
      "STATE: [ 0.02196933  0.44601395 -0.28335851 -0.09513446] ACT: [-0.27315313 -0.41879275] \n",
      "STATE: [-0.07706408  0.40097568 -0.2829526  -0.12868077] ACT: [-0.20787987 -0.45473724] \n",
      "final state  [-0.07706408  0.40097568]\n",
      "STATE: [ 0.75512815  0.75247234 -0.03388879 -0.0276697 ] ACT: [-0.38730051 -0.3162251 ] \n",
      "STATE: [ 0.7321687   0.73375831 -0.06559841 -0.05346864] ACT: [-0.38781225 -0.31559731] \n",
      "STATE: [ 0.69883922  0.70660723 -0.09522709 -0.07757452] ACT: [-0.38781225 -0.31559731] \n",
      "STATE: [ 0.65590497  0.67146957 -0.12266928 -0.10039333] ACT: [-0.38504531 -0.31896725] \n",
      "STATE: [ 0.60383097  0.6290725  -0.14878287 -0.12113448] ACT: [-0.39044306 -0.3123367 ] \n",
      "STATE: [ 0.54199661  0.58543395 -0.1766696  -0.12468156] ACT: [-0.43029265 -0.13138896] \n",
      "STATE: [ 0.47098489  0.55140112 -0.20289062 -0.09723668] ACT: [-0.43217091  0.22014467] \n",
      "STATE: [ 0.39043236  0.52532928 -0.23015009 -0.07449096] ACT: [-0.46370486  0.18702354] \n",
      "STATE: [ 0.30320719  0.51053175 -0.24921477 -0.04227867] ACT: [-0.39049462  0.31227224] \n",
      "STATE: [ 0.20740764  0.49122581 -0.27371299 -0.05515981] ACT: [-0.46689069 -0.17892201] \n",
      "STATE: [ 0.10663254  0.46281229 -0.28792886 -0.08118148] ACT: [-0.36775179 -0.33876042] \n",
      "STATE: [ 0.00395702  0.42353596 -0.29335864 -0.1122181 ] ACT: [-0.27800131 -0.41559027] \n",
      "STATE: [-0.09795209  0.37273707 -0.29116888 -0.14513969] ACT: [-0.1949932  -0.46041031] \n",
      "final state  [-0.09795209  0.37273707]\n",
      "STATE: [ 0.83139589  0.88205337 -0.03377785 -0.02780503] ACT: [-0.38603256 -0.31777171] \n",
      "STATE: [ 0.80858189  0.86316248 -0.06518287 -0.05397397] ACT: [-0.38424788 -0.31992744] \n",
      "STATE: [ 0.77551039  0.83569802 -0.09449    -0.07846987] ACT: [-0.38382586 -0.32043363] \n",
      "STATE: [ 0.73289551  0.80017377 -0.12175679 -0.10149787] ACT: [-0.38248793 -0.32202947] \n",
      "STATE: [ 0.68135158  0.75713287 -0.14726837 -0.12297401] ACT: [-0.38287847 -0.32156505] \n",
      "STATE: [ 0.62149583  0.70703149 -0.17101644 -0.14314678] ACT: [-0.38185776 -0.32277647] \n",
      "STATE: [ 0.55349741  0.6507962  -0.1942812  -0.16067228] ACT: [-0.39414535 -0.3076515 ] \n",
      "STATE: [ 0.47465439  0.59784087 -0.22526578 -0.15130093] ACT: [-0.49982033 -0.01340307] \n",
      "STATE: [ 0.38861613  0.55738696 -0.2458236  -0.11558259] ACT: [-0.40389593  0.29473391] \n",
      "STATE: [ 0.29562392  0.52828885 -0.26569202 -0.08313748] ACT: [-0.41143535  0.28411433] \n",
      "STATE: [ 0.19507543  0.49417878 -0.28728139 -0.09745733] ACT: [-0.44600464 -0.22600853] \n",
      "STATE: [ 0.08986304  0.45193265 -0.30060683 -0.12070323] ACT: [-0.36775179 -0.33876042] \n",
      "STATE: [-0.01633813  0.39933765 -0.30343191 -0.15027143] ACT: [-0.25774181 -0.42844972] \n",
      "final state  [-0.01633813  0.39933765]\n",
      "STATE: [ 0.66590416  0.75729775 -0.03325385 -0.02842963] ACT: [-0.38004402 -0.32491005] \n",
      "STATE: [ 0.64347149  0.73795577 -0.06409334 -0.05526281] ACT: [-0.37739164 -0.32798712] \n",
      "STATE: [ 0.61085263  0.70995557 -0.09319674 -0.08000057] ACT: [-0.38068029 -0.32416433] \n",
      "STATE: [ 0.56782699  0.6750159  -0.1229304  -0.09982763] ACT: [-0.4097109  -0.28659549] \n",
      "STATE: [ 0.51421711  0.63497295 -0.15317108 -0.11440843] ACT: [-0.43780556 -0.24150836] \n",
      "STATE: [ 0.44931357  0.60144149 -0.18543869 -0.09580418] ACT: [-0.483651    0.12681368] \n",
      "STATE: [ 0.37584843  0.57848295 -0.2099004  -0.06559584] ACT: [-0.41864139  0.27338506] \n",
      "STATE: [ 0.2927434   0.56206603 -0.23744295 -0.04690548] ACT: [-0.47219729  0.16440718] \n",
      "STATE: [ 0.20061973  0.54172425 -0.26321048 -0.05811937] ACT: [-0.47256825 -0.16333784] \n",
      "STATE: [ 0.10251351  0.51324133 -0.28030347 -0.08137978] ACT: [-0.39275634 -0.30942278] \n",
      "STATE: [ 0.00188411  0.47421125 -0.28751258 -0.11151452] ACT: [-0.29261746 -0.40543189] \n",
      "STATE: [-0.09888706  0.42399588 -0.28791763 -0.14347247] ACT: [-0.22026359 -0.44886964] \n",
      "final state  [-0.09888706  0.42399588]\n",
      "STATE: [ 0.79297342  0.65275649 -0.03485624 -0.02644059] ACT: [-0.39835703 -0.30217822] \n",
      "STATE: [ 0.76937465  0.63485538 -0.06742504 -0.05114602] ACT: [-0.39835703 -0.30217822] \n",
      "STATE: [ 0.73511973  0.60888161 -0.0978712  -0.07421079] ACT: [-0.39852487 -0.30195683] \n",
      "STATE: [ 0.69118926  0.57500496 -0.12551564 -0.0967904 ] ACT: [-0.38933985 -0.31371083] \n",
      "STATE: [ 0.63945956  0.53238042 -0.14779914 -0.1217844 ] ACT: [-0.34880534 -0.35823851] \n",
      "STATE: [ 0.59295356  0.47864892 -0.13287428 -0.15351858] ACT: [ 0.05972043 -0.4540146 ] \n",
      "STATE: [ 0.55265601  0.41345992 -0.11513585 -0.1862543 ] ACT: [ 0.1030692  -0.48926142] \n",
      "STATE: [ 0.52427986  0.34036648 -0.08107471 -0.20883838] ACT: [ 0.30291836 -0.3977945 ] \n",
      "STATE: [ 0.49131135  0.25818415 -0.09419575 -0.23480666] ACT: [-0.21076083 -0.45340917] \n",
      "STATE: [ 0.44960043  0.17064643 -0.11917406 -0.25010778] ACT: [-0.35611317 -0.35097494] \n",
      "STATE: [ 0.39802604  0.08015315 -0.14735539 -0.25855223] ACT: [-0.41145295 -0.28408884] \n",
      "STATE: [ 0.33528689 -0.00917536 -0.17925471 -0.25522432] ACT: [-0.47508015 -0.15588089] \n",
      "final state  [ 0.33528689 -0.00917536]\n",
      "STATE: [ 0.61343012  0.73184611 -0.03361986 -0.02799585] ACT: [-0.384227   -0.31995251] \n",
      "STATE: [ 0.59037172  0.71325974 -0.06588114 -0.0531039 ] ACT: [-0.39391524 -0.30794608] \n",
      "STATE: [ 0.55627913  0.68711612 -0.0974074  -0.07469606] ACT: [-0.4097109  -0.28659549] \n",
      "STATE: [ 0.50953801  0.65909878 -0.13354607 -0.08004955] ACT: [-0.48606897 -0.11720477] \n",
      "STATE: [ 0.45078943  0.63560742 -0.16785308 -0.06711817] ACT: [-0.49223971  0.08775001] \n",
      "STATE: [ 0.38197585  0.62003702 -0.19661022 -0.04448687] ACT: [-0.45454273  0.20830483] \n",
      "STATE: [ 0.30236875  0.60579571 -0.22744886 -0.04068944] ACT: [-0.49989931  0.01003403] \n",
      "STATE: [ 0.21310314  0.58888662 -0.2550446  -0.0483117 ] ACT: [-0.48596658 -0.11762857] \n",
      "STATE: [ 0.11726581  0.56414441 -0.27382095 -0.07069204] ACT: [-0.40587029 -0.29200909] \n",
      "STATE: [ 0.01872275  0.5286339  -0.28155158 -0.1014586 ] ACT: [-0.29371578 -0.40463693] \n",
      "STATE: [-0.08109677  0.48224342 -0.28519863 -0.13254421] ACT: [-0.2528442 -0.4313581] \n",
      "final state  [-0.08109677  0.48224342]\n",
      "After 13 REWARD:  (0.6576750744286127, array([-0.02184038,  0.37308915, -0.27643285, -0.1536206 ]), -0.20542896455494525)\n",
      "UPDATING THE ACTION MATRIX\n"
     ]
    },
    {
     "name": "stderr",
     "output_type": "stream",
     "text": [
      "100%|█████████████████████████████████████████████████████████████████████████████████████████████████████████████████████████| 25/25 [00:03<00:00,  6.68it/s]\n",
      "Generating Dynamics Dataset: 100%|██████████████████████████████████████████████████████████████████████████████████████████| 15/15 [00:00<00:00, 2450.61it/s]\n",
      "100%|████████████████████████████████████████████████████████████████████████████████████████████████████████████████████████| 66/66 [00:00<00:00, 159.58it/s]\n"
     ]
    },
    {
     "name": "stdout",
     "output_type": "stream",
     "text": [
      "Epoch 1, loss: 0.000, err: 0.015, val_loss: 0.001, val_err: 0.023\n"
     ]
    },
    {
     "name": "stderr",
     "output_type": "stream",
     "text": [
      "100%|████████████████████████████████████████████████████████████████████████████████████████████████████████████████████████| 66/66 [00:00<00:00, 210.20it/s]\n"
     ]
    },
    {
     "name": "stdout",
     "output_type": "stream",
     "text": [
      "Epoch 2, loss: 0.000, err: 0.015, val_loss: 0.001, val_err: 0.023\n"
     ]
    },
    {
     "name": "stderr",
     "output_type": "stream",
     "text": [
      "100%|████████████████████████████████████████████████████████████████████████████████████████████████████████████████████████| 66/66 [00:00<00:00, 209.84it/s]\n"
     ]
    },
    {
     "name": "stdout",
     "output_type": "stream",
     "text": [
      "Epoch 3, loss: 0.000, err: 0.015, val_loss: 0.001, val_err: 0.024\n"
     ]
    },
    {
     "name": "stderr",
     "output_type": "stream",
     "text": [
      "100%|████████████████████████████████████████████████████████████████████████████████████████████████████████████████████████| 66/66 [00:00<00:00, 211.41it/s]\n"
     ]
    },
    {
     "name": "stdout",
     "output_type": "stream",
     "text": [
      "Epoch 4, loss: 0.000, err: 0.015, val_loss: 0.001, val_err: 0.024\n"
     ]
    },
    {
     "name": "stderr",
     "output_type": "stream",
     "text": [
      "100%|████████████████████████████████████████████████████████████████████████████████████████████████████████████████████████| 66/66 [00:00<00:00, 211.13it/s]\n"
     ]
    },
    {
     "name": "stdout",
     "output_type": "stream",
     "text": [
      "Epoch 5, loss: 0.000, err: 0.015, val_loss: 0.001, val_err: 0.024\n"
     ]
    },
    {
     "name": "stderr",
     "output_type": "stream",
     "text": [
      "100%|████████████████████████████████████████████████████████████████████████████████████████████████████████████████████████| 66/66 [00:00<00:00, 209.49it/s]\n"
     ]
    },
    {
     "name": "stdout",
     "output_type": "stream",
     "text": [
      "Epoch 6, loss: 0.000, err: 0.015, val_loss: 0.001, val_err: 0.022\n"
     ]
    },
    {
     "name": "stderr",
     "output_type": "stream",
     "text": [
      "100%|████████████████████████████████████████████████████████████████████████████████████████████████████████████████████████| 66/66 [00:00<00:00, 209.77it/s]\n"
     ]
    },
    {
     "name": "stdout",
     "output_type": "stream",
     "text": [
      "Epoch 7, loss: 0.000, err: 0.014, val_loss: 0.001, val_err: 0.023\n"
     ]
    },
    {
     "name": "stderr",
     "output_type": "stream",
     "text": [
      "100%|████████████████████████████████████████████████████████████████████████████████████████████████████████████████████████| 66/66 [00:00<00:00, 209.98it/s]\n"
     ]
    },
    {
     "name": "stdout",
     "output_type": "stream",
     "text": [
      "Epoch 8, loss: 0.000, err: 0.014, val_loss: 0.001, val_err: 0.023\n"
     ]
    },
    {
     "name": "stderr",
     "output_type": "stream",
     "text": [
      "100%|████████████████████████████████████████████████████████████████████████████████████████████████████████████████████████| 66/66 [00:00<00:00, 213.04it/s]\n"
     ]
    },
    {
     "name": "stdout",
     "output_type": "stream",
     "text": [
      "Epoch 9, loss: 0.000, err: 0.014, val_loss: 0.001, val_err: 0.024\n"
     ]
    },
    {
     "name": "stderr",
     "output_type": "stream",
     "text": [
      "100%|████████████████████████████████████████████████████████████████████████████████████████████████████████████████████████| 66/66 [00:00<00:00, 211.34it/s]\n"
     ]
    },
    {
     "name": "stdout",
     "output_type": "stream",
     "text": [
      "Epoch 10, loss: 0.000, err: 0.014, val_loss: 0.001, val_err: 0.024\n"
     ]
    },
    {
     "name": "stderr",
     "output_type": "stream",
     "text": [
      "100%|████████████████████████████████████████████████████████████████████████████████████████████████████████████████████████| 66/66 [00:00<00:00, 211.67it/s]\n"
     ]
    },
    {
     "name": "stdout",
     "output_type": "stream",
     "text": [
      "Epoch 11, loss: 0.000, err: 0.014, val_loss: 0.001, val_err: 0.024\n"
     ]
    },
    {
     "name": "stderr",
     "output_type": "stream",
     "text": [
      "100%|████████████████████████████████████████████████████████████████████████████████████████████████████████████████████████| 66/66 [00:00<00:00, 211.86it/s]\n"
     ]
    },
    {
     "name": "stdout",
     "output_type": "stream",
     "text": [
      "Epoch 12, loss: 0.000, err: 0.014, val_loss: 0.001, val_err: 0.024\n"
     ]
    },
    {
     "name": "stderr",
     "output_type": "stream",
     "text": [
      "100%|████████████████████████████████████████████████████████████████████████████████████████████████████████████████████████| 66/66 [00:00<00:00, 208.75it/s]\n"
     ]
    },
    {
     "name": "stdout",
     "output_type": "stream",
     "text": [
      "Epoch 13, loss: 0.000, err: 0.014, val_loss: 0.001, val_err: 0.024\n"
     ]
    },
    {
     "name": "stderr",
     "output_type": "stream",
     "text": [
      "100%|████████████████████████████████████████████████████████████████████████████████████████████████████████████████████████| 66/66 [00:00<00:00, 211.57it/s]\n"
     ]
    },
    {
     "name": "stdout",
     "output_type": "stream",
     "text": [
      "Epoch 14, loss: 0.000, err: 0.014, val_loss: 0.001, val_err: 0.024\n"
     ]
    },
    {
     "name": "stderr",
     "output_type": "stream",
     "text": [
      "100%|████████████████████████████████████████████████████████████████████████████████████████████████████████████████████████| 66/66 [00:00<00:00, 210.89it/s]\n"
     ]
    },
    {
     "name": "stdout",
     "output_type": "stream",
     "text": [
      "Epoch 15, loss: 0.000, err: 0.015, val_loss: 0.001, val_err: 0.024\n"
     ]
    },
    {
     "name": "stderr",
     "output_type": "stream",
     "text": [
      "100%|████████████████████████████████████████████████████████████████████████████████████████████████████████████████████████| 66/66 [00:00<00:00, 210.75it/s]\n"
     ]
    },
    {
     "name": "stdout",
     "output_type": "stream",
     "text": [
      "Epoch 16, loss: 0.000, err: 0.014, val_loss: 0.001, val_err: 0.024\n"
     ]
    },
    {
     "name": "stderr",
     "output_type": "stream",
     "text": [
      "100%|████████████████████████████████████████████████████████████████████████████████████████████████████████████████████████| 66/66 [00:00<00:00, 209.15it/s]\n"
     ]
    },
    {
     "name": "stdout",
     "output_type": "stream",
     "text": [
      "Epoch 17, loss: 0.000, err: 0.014, val_loss: 0.001, val_err: 0.023\n"
     ]
    },
    {
     "name": "stderr",
     "output_type": "stream",
     "text": [
      "100%|████████████████████████████████████████████████████████████████████████████████████████████████████████████████████████| 66/66 [00:00<00:00, 211.12it/s]\n"
     ]
    },
    {
     "name": "stdout",
     "output_type": "stream",
     "text": [
      "Epoch 18, loss: 0.000, err: 0.014, val_loss: 0.001, val_err: 0.023\n"
     ]
    },
    {
     "name": "stderr",
     "output_type": "stream",
     "text": [
      "100%|████████████████████████████████████████████████████████████████████████████████████████████████████████████████████████| 66/66 [00:00<00:00, 212.33it/s]\n"
     ]
    },
    {
     "name": "stdout",
     "output_type": "stream",
     "text": [
      "Epoch 19, loss: 0.000, err: 0.014, val_loss: 0.001, val_err: 0.025\n"
     ]
    },
    {
     "name": "stderr",
     "output_type": "stream",
     "text": [
      "100%|████████████████████████████████████████████████████████████████████████████████████████████████████████████████████████| 66/66 [00:00<00:00, 206.78it/s]\n"
     ]
    },
    {
     "name": "stdout",
     "output_type": "stream",
     "text": [
      "Epoch 20, loss: 0.000, err: 0.014, val_loss: 0.001, val_err: 0.024\n"
     ]
    },
    {
     "name": "stderr",
     "output_type": "stream",
     "text": [
      "100%|████████████████████████████████████████████████████████████████████████████████████████████████████████████████████████| 66/66 [00:00<00:00, 210.86it/s]\n"
     ]
    },
    {
     "name": "stdout",
     "output_type": "stream",
     "text": [
      "Epoch 21, loss: 0.000, err: 0.014, val_loss: 0.001, val_err: 0.023\n"
     ]
    },
    {
     "name": "stderr",
     "output_type": "stream",
     "text": [
      "100%|████████████████████████████████████████████████████████████████████████████████████████████████████████████████████████| 66/66 [00:00<00:00, 209.37it/s]\n"
     ]
    },
    {
     "name": "stdout",
     "output_type": "stream",
     "text": [
      "Epoch 22, loss: 0.000, err: 0.014, val_loss: 0.001, val_err: 0.023\n"
     ]
    },
    {
     "name": "stderr",
     "output_type": "stream",
     "text": [
      "100%|████████████████████████████████████████████████████████████████████████████████████████████████████████████████████████| 66/66 [00:00<00:00, 208.70it/s]\n"
     ]
    },
    {
     "name": "stdout",
     "output_type": "stream",
     "text": [
      "Epoch 23, loss: 0.000, err: 0.014, val_loss: 0.001, val_err: 0.023\n"
     ]
    },
    {
     "name": "stderr",
     "output_type": "stream",
     "text": [
      "100%|████████████████████████████████████████████████████████████████████████████████████████████████████████████████████████| 66/66 [00:00<00:00, 208.89it/s]\n"
     ]
    },
    {
     "name": "stdout",
     "output_type": "stream",
     "text": [
      "Epoch 24, loss: 0.000, err: 0.014, val_loss: 0.001, val_err: 0.023\n"
     ]
    },
    {
     "name": "stderr",
     "output_type": "stream",
     "text": [
      "100%|████████████████████████████████████████████████████████████████████████████████████████████████████████████████████████| 66/66 [00:00<00:00, 208.69it/s]\n"
     ]
    },
    {
     "name": "stdout",
     "output_type": "stream",
     "text": [
      "Epoch 25, loss: 0.000, err: 0.014, val_loss: 0.001, val_err: 0.024\n"
     ]
    },
    {
     "name": "stderr",
     "output_type": "stream",
     "text": [
      "100%|████████████████████████████████████████████████████████████████████████████████████████████████████████████████████████| 66/66 [00:00<00:00, 210.10it/s]\n"
     ]
    },
    {
     "name": "stdout",
     "output_type": "stream",
     "text": [
      "Epoch 26, loss: 0.000, err: 0.014, val_loss: 0.001, val_err: 0.024\n"
     ]
    },
    {
     "name": "stderr",
     "output_type": "stream",
     "text": [
      "100%|████████████████████████████████████████████████████████████████████████████████████████████████████████████████████████| 66/66 [00:00<00:00, 209.39it/s]\n"
     ]
    },
    {
     "name": "stdout",
     "output_type": "stream",
     "text": [
      "Epoch 27, loss: 0.000, err: 0.014, val_loss: 0.001, val_err: 0.024\n"
     ]
    },
    {
     "name": "stderr",
     "output_type": "stream",
     "text": [
      "100%|████████████████████████████████████████████████████████████████████████████████████████████████████████████████████████| 66/66 [00:00<00:00, 207.11it/s]\n"
     ]
    },
    {
     "name": "stdout",
     "output_type": "stream",
     "text": [
      "Epoch 28, loss: 0.000, err: 0.014, val_loss: 0.001, val_err: 0.023\n"
     ]
    },
    {
     "name": "stderr",
     "output_type": "stream",
     "text": [
      "100%|████████████████████████████████████████████████████████████████████████████████████████████████████████████████████████| 66/66 [00:00<00:00, 210.09it/s]\n"
     ]
    },
    {
     "name": "stdout",
     "output_type": "stream",
     "text": [
      "Epoch 29, loss: 0.000, err: 0.014, val_loss: 0.001, val_err: 0.023\n"
     ]
    },
    {
     "name": "stderr",
     "output_type": "stream",
     "text": [
      "100%|████████████████████████████████████████████████████████████████████████████████████████████████████████████████████████| 66/66 [00:00<00:00, 190.16it/s]\n"
     ]
    },
    {
     "name": "stdout",
     "output_type": "stream",
     "text": [
      "Epoch 30, loss: 0.000, err: 0.014, val_loss: 0.001, val_err: 0.024\n"
     ]
    },
    {
     "name": "stderr",
     "output_type": "stream",
     "text": [
      "100%|████████████████████████████████████████████████████████████████████████████████████████████████████████████████████████| 66/66 [00:00<00:00, 193.81it/s]\n"
     ]
    },
    {
     "name": "stdout",
     "output_type": "stream",
     "text": [
      "Epoch 31, loss: 0.000, err: 0.014, val_loss: 0.001, val_err: 0.025\n"
     ]
    },
    {
     "name": "stderr",
     "output_type": "stream",
     "text": [
      "100%|████████████████████████████████████████████████████████████████████████████████████████████████████████████████████████| 66/66 [00:00<00:00, 205.57it/s]\n"
     ]
    },
    {
     "name": "stdout",
     "output_type": "stream",
     "text": [
      "Epoch 32, loss: 0.000, err: 0.014, val_loss: 0.001, val_err: 0.024\n"
     ]
    },
    {
     "name": "stderr",
     "output_type": "stream",
     "text": [
      "100%|████████████████████████████████████████████████████████████████████████████████████████████████████████████████████████| 66/66 [00:00<00:00, 194.66it/s]\n"
     ]
    },
    {
     "name": "stdout",
     "output_type": "stream",
     "text": [
      "Epoch 33, loss: 0.000, err: 0.014, val_loss: 0.001, val_err: 0.024\n"
     ]
    },
    {
     "name": "stderr",
     "output_type": "stream",
     "text": [
      "100%|████████████████████████████████████████████████████████████████████████████████████████████████████████████████████████| 66/66 [00:00<00:00, 198.90it/s]\n"
     ]
    },
    {
     "name": "stdout",
     "output_type": "stream",
     "text": [
      "Epoch 34, loss: 0.000, err: 0.014, val_loss: 0.001, val_err: 0.024\n"
     ]
    },
    {
     "name": "stderr",
     "output_type": "stream",
     "text": [
      "100%|████████████████████████████████████████████████████████████████████████████████████████████████████████████████████████| 66/66 [00:00<00:00, 204.17it/s]\n"
     ]
    },
    {
     "name": "stdout",
     "output_type": "stream",
     "text": [
      "Epoch 35, loss: 0.000, err: 0.014, val_loss: 0.001, val_err: 0.024\n"
     ]
    },
    {
     "name": "stderr",
     "output_type": "stream",
     "text": [
      "100%|████████████████████████████████████████████████████████████████████████████████████████████████████████████████████████| 66/66 [00:00<00:00, 198.79it/s]\n"
     ]
    },
    {
     "name": "stdout",
     "output_type": "stream",
     "text": [
      "Epoch 36, loss: 0.000, err: 0.014, val_loss: 0.001, val_err: 0.023\n"
     ]
    },
    {
     "name": "stderr",
     "output_type": "stream",
     "text": [
      "100%|████████████████████████████████████████████████████████████████████████████████████████████████████████████████████████| 66/66 [00:00<00:00, 194.32it/s]\n"
     ]
    },
    {
     "name": "stdout",
     "output_type": "stream",
     "text": [
      "Epoch 37, loss: 0.000, err: 0.014, val_loss: 0.001, val_err: 0.024\n"
     ]
    },
    {
     "name": "stderr",
     "output_type": "stream",
     "text": [
      "100%|████████████████████████████████████████████████████████████████████████████████████████████████████████████████████████| 66/66 [00:00<00:00, 194.84it/s]\n"
     ]
    },
    {
     "name": "stdout",
     "output_type": "stream",
     "text": [
      "Epoch 38, loss: 0.000, err: 0.014, val_loss: 0.001, val_err: 0.023\n"
     ]
    },
    {
     "name": "stderr",
     "output_type": "stream",
     "text": [
      "100%|████████████████████████████████████████████████████████████████████████████████████████████████████████████████████████| 66/66 [00:00<00:00, 198.07it/s]\n"
     ]
    },
    {
     "name": "stdout",
     "output_type": "stream",
     "text": [
      "Epoch 39, loss: 0.000, err: 0.015, val_loss: 0.000, val_err: 0.022\n"
     ]
    },
    {
     "name": "stderr",
     "output_type": "stream",
     "text": [
      "100%|████████████████████████████████████████████████████████████████████████████████████████████████████████████████████████| 10/10 [00:00<00:00, 598.73it/s]\n"
     ]
    },
    {
     "name": "stdout",
     "output_type": "stream",
     "text": [
      "STATE: [ 0.85402376  0.77674666 -0.03508227 -0.02613994] ACT: [-0.40094025 -0.29874223] \n",
      "STATE: [ 0.83015504  0.75920815 -0.06819634 -0.05011002] ACT: [-0.40475819 -0.29354865] \n",
      "STATE: [ 0.79554575  0.73370954 -0.09888368 -0.07285317] ACT: [-0.40185969 -0.29750427] \n",
      "STATE: [ 0.75090285  0.70077037 -0.12755115 -0.09411192] ACT: [-0.40179106 -0.29759695] \n",
      "STATE: [ 0.69697003  0.66076495 -0.15409377 -0.11430121] ACT: [-0.39900757 -0.3013187 ] \n",
      "STATE: [ 0.63448887  0.61398484 -0.17851759 -0.13365744] ACT: [-0.39469966 -0.30694002] \n",
      "STATE: [ 0.56611224  0.55884639 -0.1953618  -0.15753845] ACT: [-0.32639344 -0.37316888] \n",
      "STATE: [ 0.48920076  0.51538233 -0.21974711 -0.12418301] ACT: [-0.4252106   0.26305123] \n",
      "STATE: [ 0.41441449  0.48980171 -0.21367504 -0.07308749] ACT: [-0.09541527  0.4908115 ] \n",
      "STATE: [ 0.33877714  0.4800881  -0.21610673 -0.02775319] ACT: [-0.18804707  0.46329073] \n",
      "STATE: [ 0.25309963  0.46795301 -0.24479288 -0.03467167] ACT: [-0.48992177 -0.09988324] \n",
      "STATE: [ 0.16059237  0.44770296 -0.26430646 -0.0578573 ] ACT: [-0.40660697 -0.29098242] \n",
      "STATE: [ 0.0637264   0.41757029 -0.27675991 -0.08609334] ACT: [-0.34055498 -0.36609057] \n",
      "STATE: [-0.03253794  0.37522528 -0.27504096 -0.12098575] ACT: [-0.18792475 -0.46334036] \n",
      "final state  [-0.03253794  0.37522528]\n",
      "STATE: [ 0.81238561  0.69316592 -0.03560936 -0.02541723] ACT: [-0.40696416 -0.29048265] \n",
      "STATE: [ 0.78827237  0.6759641  -0.06889498 -0.04914808] ACT: [-0.40711403 -0.29027257] \n",
      "STATE: [ 0.75327369  0.65100154 -0.09999622 -0.07132158] ACT: [-0.40711403 -0.29027257] \n",
      "STATE: [ 0.70819113  0.61866651 -0.1288073  -0.09238581] ACT: [-0.40426665 -0.29422522] \n",
      "STATE: [ 0.65408402  0.57892046 -0.15459174 -0.11356013] ACT: [-0.39128481 -0.31128154] \n",
      "STATE: [ 0.59546395  0.52876551 -0.16748592 -0.14329988] ACT: [-0.26330582 -0.42505299] \n",
      "STATE: [ 0.5418565   0.46667146 -0.15316414 -0.17741157] ACT: [ 0.03806304 -0.4973228 ] \n",
      "STATE: [ 0.49490772  0.39366538 -0.13413937 -0.2085888 ] ACT: [ 0.10255289 -0.4893699 ] \n",
      "STATE: [ 0.4478867   0.31046601 -0.13434578 -0.23771248] ACT: [-0.1029636  -0.48928366] \n",
      "STATE: [ 0.39389029  0.22118337 -0.15427545 -0.25509326] ACT: [-0.3285269  -0.37692184] \n",
      "STATE: [ 0.33106657  0.12873576 -0.17949636 -0.26413602] ACT: [-0.40394564 -0.29466578] \n",
      "STATE: [ 0.25854446  0.03576355 -0.20720602 -0.26563487] ACT: [-0.45130401 -0.21523172] \n",
      "STATE: [ 0.17778049 -0.04301765 -0.2307542  -0.22508914] ACT: [-0.42452666  0.26415358] \n",
      "final state  [ 0.17778049 -0.04301765]\n",
      "STATE: [ 0.86641891  0.60614536 -0.0367576  -0.02372638] ACT: [-0.42008687 -0.27115866] \n",
      "STATE: [ 0.84150249  0.5901291  -0.07118977 -0.04576073] ACT: [-0.42107867 -0.26961594] \n",
      "STATE: [ 0.80540592  0.56678292 -0.10313305 -0.06670338] ACT: [-0.41845842 -0.27366503] \n",
      "STATE: [ 0.7588399   0.53662312 -0.13304577 -0.08617087] ACT: [-0.41920948 -0.27251315] \n",
      "STATE: [ 0.70299252  0.49937255 -0.15956393 -0.10643019] ACT: [-0.40284898 -0.2961633 ] \n",
      "STATE: [ 0.64226981  0.45185689 -0.17349347 -0.13575903] ACT: [-0.27886769 -0.41500941] \n",
      "STATE: [ 0.58601907  0.39215469 -0.16071638 -0.17057771] ACT: [ 0.01590374 -0.49974701] \n",
      "STATE: [ 0.53189426  0.32113819 -0.15464233 -0.20290429] ACT: [-0.05111951 -0.49737993] \n",
      "STATE: [ 0.47588202  0.2404683  -0.16003496 -0.23048538] ACT: [-0.1776118  -0.46739068] \n",
      "STATE: [ 0.41184549  0.15521411 -0.18296152 -0.24358342] ACT: [-0.38204407 -0.32255593] \n",
      "STATE: [ 0.33832392  0.06868982 -0.21006163 -0.24721224] ACT: [-0.44693671 -0.22415971] \n",
      "STATE: [ 0.25435491 -0.01326522 -0.23991146 -0.23415726] ACT: [-0.49868715 -0.03620948] \n",
      "final state  [ 0.25435491 -0.01326522]\n",
      "STATE: [ 0.80891754  0.60432522 -0.03661511 -0.02394569] ACT: [-0.41845842 -0.27366503] \n",
      "STATE: [ 0.78420612  0.58799493 -0.07060405 -0.04665797] ACT: [-0.41590634 -0.27752822] \n",
      "STATE: [ 0.74845213  0.5641288  -0.10215424 -0.06818895] ACT: [-0.41352665 -0.28106175] \n",
      "STATE: [ 0.70308904  0.53226125 -0.12960883 -0.09105014] ACT: [-0.39038241 -0.31241251] \n",
      "STATE: [ 0.65035202  0.49120086 -0.1506772  -0.11731538] ACT: [-0.33798804 -0.36846178] \n",
      "STATE: [ 0.59593165  0.43841252 -0.15548676 -0.15082382] ACT: [-0.16797429 -0.47094016] \n",
      "STATE: [ 0.54959399  0.37445557 -0.13239333 -0.18273415] ACT: [ 0.14730989 -0.47780728] \n",
      "STATE: [ 0.50796108  0.29947396 -0.11895117 -0.21423318] ACT: [ 0.05432974 -0.49703952] \n",
      "STATE: [ 0.46026424  0.216879   -0.13627668 -0.23598559] ACT: [-0.28721921 -0.4092739 ] \n",
      "STATE: [ 0.40380818  0.13005466 -0.16130305 -0.24806955] ACT: [-0.38822326 -0.31509157] \n",
      "STATE: [ 0.3373696   0.04206327 -0.1898245  -0.25140396] ACT: [-0.44693671 -0.22415971] \n",
      "STATE: [ 0.26008796 -0.03832647 -0.22080467 -0.22968498] ACT: [-0.49642745  0.05966394] \n",
      "final state  [ 0.26008796 -0.03832647]\n",
      "STATE: [ 0.6032373   0.83641719 -0.03235869 -0.02944448] ACT: [-0.36981363 -0.33650837] \n",
      "STATE: [ 0.5813403   0.81647045 -0.06256284 -0.05699071] ACT: [-0.3694593  -0.33689735] \n",
      "STATE: [ 0.54965384  0.78741928 -0.09053275 -0.08300332] ACT: [-0.3665782  -0.34003003] \n",
      "STATE: [ 0.50886315  0.74981522 -0.11654482 -0.10744017] ACT: [-0.36518036 -0.34153082] \n",
      "STATE: [ 0.45726612  0.70742118 -0.1474201  -0.12112584] ACT: [-0.440269   -0.23698778] \n",
      "STATE: [ 0.39386565  0.6658722  -0.18114419 -0.11871136] ACT: [-0.49598327 -0.06325026] \n",
      "STATE: [ 0.3193369   0.62789893 -0.2129393  -0.10849506] ACT: [-0.49923078  0.02772416] \n",
      "STATE: [ 0.23463328  0.58968014 -0.24201033 -0.10919655] ACT: [-0.49194484 -0.08938835] \n",
      "STATE: [ 0.14153153  0.54767024 -0.26600501 -0.12002828] ACT: [-0.45573261 -0.20568857] \n",
      "STATE: [ 0.04492995  0.49649551 -0.27600451 -0.14621351] ACT: [-0.31378378 -0.38928106] \n",
      "STATE: [-0.05160333  0.43470969 -0.27580936 -0.17653091] ACT: [-0.20477311 -0.45614468] \n",
      "final state  [-0.05160333  0.43470969]\n",
      "STATE: [ 0.81382258  0.67761215 -0.03585368 -0.02507142] ACT: [-0.40975633 -0.28653054] \n",
      "STATE: [ 0.78962944  0.66052341 -0.06912326 -0.04882496] ACT: [-0.40711403 -0.29027257] \n",
      "STATE: [ 0.75445511  0.6358099  -0.10049808 -0.07061002] ACT: [-0.41041181 -0.28559087] \n",
      "STATE: [ 0.70913758  0.60380574 -0.12947866 -0.09144047] ACT: [-0.40658023 -0.29101979] \n",
      "STATE: [ 0.6551288   0.5639824  -0.15431081 -0.11378097] ACT: [-0.38090495 -0.32390033] \n",
      "STATE: [ 0.5966006   0.51375522 -0.16722342 -0.14350623] ACT: [-0.26330582 -0.42505299] \n",
      "STATE: [ 0.55135036  0.45476538 -0.12928641 -0.16854238] ACT: [ 0.30814828 -0.39375708] \n",
      "STATE: [ 0.51221034  0.38465981 -0.11182861 -0.20030165] ACT: [ 0.10255289 -0.4893699 ] \n",
      "STATE: [ 0.47465321  0.30387417 -0.10730611 -0.23081612] ACT: [-0.03218572 -0.498963  ] \n",
      "STATE: [ 0.4307534   0.21586399 -0.12542803 -0.25145765] ACT: [-0.28758729 -0.40901535] \n",
      "STATE: [ 0.37755746  0.1243455  -0.15198838 -0.26148139] ACT: [-0.39761784 -0.30315022] \n",
      "STATE: [ 0.313131    0.03461987 -0.1840756  -0.25635895] ACT: [-0.4807024  -0.13756891] \n",
      "STATE: [ 0.23768061 -0.04785681 -0.21557256 -0.23564766] ACT: [-0.49802195  0.04443129] \n",
      "final state  [ 0.23768061 -0.04785681]\n",
      "STATE: [ 0.67286998  0.74528193 -0.03405022 -0.0274708 ] ACT: [-0.38914535 -0.31395205] \n",
      "STATE: [ 0.64981692  0.72668333 -0.06586589 -0.05313884] ACT: [-0.38914535 -0.31395205] \n",
      "STATE: [ 0.61606656  0.70006489 -0.0964296  -0.0760527 ] ACT: [-0.398699   -0.30172688] \n",
      "STATE: [ 0.57218581  0.66613417 -0.12537356 -0.0969449 ] ACT: [-0.40311031 -0.2958075 ] \n",
      "STATE: [ 0.51729964  0.63658378 -0.15681765 -0.08442971] ACT: [-0.45339111  0.07032212] \n",
      "STATE: [ 0.45257373  0.6146458  -0.18493116 -0.06267992] ACT: [-0.43891051  0.18524671] \n",
      "STATE: [ 0.37936908  0.60266291 -0.20915613 -0.03423685] ACT: [-0.41555523  0.27805369] \n",
      "STATE: [ 0.29618463  0.59545514 -0.23766986 -0.02059361] ACT: [-0.48273824  0.13024514] \n",
      "STATE: [ 0.20351152  0.58539763 -0.26478031 -0.02873576] ACT: [-0.48808617 -0.10849835] \n",
      "STATE: [ 0.10457309  0.56694341 -0.28268124 -0.05272634] ACT: [-0.40316723 -0.29572991] \n",
      "STATE: [ 0.00390825  0.53678062 -0.28761384 -0.08617938] ACT: [-0.26838357 -0.42186522] \n",
      "STATE: [-0.09621931  0.49453876 -0.28607872 -0.12069105] ACT: [-0.19816617 -0.45905356] \n",
      "final state  [-0.09621931  0.49453876]\n",
      "STATE: [ 0.70530097  0.82065269 -0.03363571 -0.0279768 ] ACT: [-0.38440813 -0.31973487] \n",
      "STATE: [ 0.68252854  0.80171152 -0.06506408 -0.05411762] ACT: [-0.38440813 -0.31973487] \n",
      "STATE: [ 0.64949356  0.77420287 -0.09438565 -0.07859614] ACT: [-0.38390177 -0.32034268] \n",
      "STATE: [ 0.60692136  0.73862718 -0.12163488 -0.10164481] ACT: [-0.38220898 -0.3223605 ] \n",
      "STATE: [ 0.55457613  0.69663701 -0.1495578  -0.11997194] ACT: [-0.41034525 -0.2856865 ] \n",
      "STATE: [ 0.49054176  0.65575816 -0.18295534 -0.1167967 ] ACT: [-0.49385449 -0.05369052] \n",
      "STATE: [ 0.41546357  0.61898678 -0.21450909 -0.10506108] ACT: [-0.49783082  0.04652392] \n",
      "STATE: [ 0.33123481  0.590653   -0.2406536  -0.08095366] ACT: [-0.45967623  0.19671747] \n",
      "STATE: [ 0.23728908  0.56562023 -0.26841639 -0.07152221] ACT: [-0.49777922  0.04707281] \n",
      "STATE: [ 0.13640355  0.53430986 -0.28824436 -0.08945819] ACT: [-0.42791761 -0.25862429] \n",
      "STATE: [ 0.03252901  0.49313251 -0.2967844  -0.11764959] ACT: [-0.31378378 -0.38928106] \n",
      "STATE: [-0.07053369  0.44057148 -0.29446486 -0.15017435] ACT: [-0.1960793  -0.45994881] \n",
      "final state  [-0.07053369  0.44057148]\n",
      "STATE: [ 0.66623746  0.77135133 -0.03383543 -0.02773492] ACT: [-0.38669068 -0.31697053] \n",
      "STATE: [ 0.64346707  0.75240885 -0.06505827 -0.05412136] ACT: [-0.38220898 -0.3223605 ] \n",
      "STATE: [ 0.6103645   0.72498286 -0.09457878 -0.07835996] ACT: [-0.38617095 -0.31760352] \n",
      "STATE: [ 0.56683871  0.690649   -0.12435939 -0.09809676] ACT: [-0.41128397 -0.28433342] \n",
      "STATE: [ 0.51108497  0.65593473 -0.15929639 -0.09918364] ACT: [-0.49254951 -0.08599407] \n",
      "STATE: [ 0.44373177  0.6247857  -0.19243773 -0.0889972 ] ACT: [-0.49823046  0.04202868] \n",
      "STATE: [ 0.36807223  0.60419623 -0.21617009 -0.05882706] ACT: [-0.41555523  0.27805369] \n",
      "STATE: [ 0.282594    0.5889467  -0.24422352 -0.04357009] ACT: [-0.48273824  0.13024514] \n",
      "STATE: [ 0.18777764  0.57137516 -0.27090389 -0.05020441] ACT: [-0.48808617 -0.10849835] \n",
      "STATE: [ 0.08683661  0.54590002 -0.28840296 -0.07278611] ACT: [-0.40316723 -0.29572991] \n",
      "STATE: [-0.01516441  0.50885187 -0.29143148 -0.10585185] ACT: [-0.25091388 -0.43248379] \n",
      "final state  [-0.01516441  0.50885187]\n",
      "STATE: [ 0.73607485  0.76792624 -0.03441423 -0.02701339] ACT: [-0.3933055  -0.30872445] \n",
      "STATE: [ 0.71277534  0.74963733 -0.06657003 -0.05225403] ACT: [-0.3933055  -0.30872445] \n",
      "STATE: [ 0.67899302  0.72305188 -0.09652092 -0.07595843] ACT: [-0.39222342 -0.31009803] \n",
      "STATE: [ 0.63540998  0.68872173 -0.12452296 -0.09808613] ACT: [-0.39241399 -0.30985684] \n",
      "STATE: [ 0.58212999  0.6478814  -0.15222856 -0.11668667] ACT: [-0.41002768 -0.28614211] \n",
      "STATE: [ 0.51846139  0.61187483 -0.18191028 -0.10287592] ACT: [-0.45339111  0.07032212] \n",
      "STATE: [ 0.44636596  0.58618696 -0.20598693 -0.0733939 ] ACT: [-0.41159436  0.25978039] \n",
      "STATE: [ 0.36605523  0.5703616  -0.22945924 -0.04521533] ACT: [-0.42274515  0.26699539] \n",
      "STATE: [ 0.27718603  0.56215012 -0.25391201 -0.02346136] ACT: [-0.45155467  0.21470533] \n",
      "STATE: [ 0.17916383  0.55132772 -0.28006343 -0.03092115] ACT: [-0.48930738 -0.1028508 ] \n",
      "STATE: [ 0.07590481  0.53130117 -0.29502578 -0.05721871] ACT: [-0.38104594 -0.32373445] \n",
      "STATE: [-0.02826208  0.49934404 -0.29761968 -0.09130607] ACT: [-0.25091388 -0.43248379] \n",
      "final state  [-0.02826208  0.49934404]\n",
      "After 14 REWARD:  (0.6984113283650208, array([ 0.06355832,  0.2610775 , -0.2627488 , -0.1690119 ]), -0.23191432479575874)\n",
      "UPDATING THE ACTION MATRIX\n"
     ]
    },
    {
     "name": "stderr",
     "output_type": "stream",
     "text": [
      "100%|█████████████████████████████████████████████████████████████████████████████████████████████████████████████████████████| 25/25 [00:03<00:00,  6.46it/s]\n",
      "Generating Dynamics Dataset: 100%|███████████████████████████████████████████████████████████████████████████████████████████| 15/15 [00:00<00:00, 222.65it/s]\n",
      "100%|████████████████████████████████████████████████████████████████████████████████████████████████████████████████████████| 69/69 [00:00<00:00, 122.85it/s]\n"
     ]
    },
    {
     "name": "stdout",
     "output_type": "stream",
     "text": [
      "Epoch 1, loss: 0.000, err: 0.014, val_loss: 0.001, val_err: 0.023\n"
     ]
    },
    {
     "name": "stderr",
     "output_type": "stream",
     "text": [
      "100%|████████████████████████████████████████████████████████████████████████████████████████████████████████████████████████| 69/69 [00:00<00:00, 128.18it/s]\n"
     ]
    },
    {
     "name": "stdout",
     "output_type": "stream",
     "text": [
      "Epoch 2, loss: 0.000, err: 0.014, val_loss: 0.001, val_err: 0.024\n"
     ]
    },
    {
     "name": "stderr",
     "output_type": "stream",
     "text": [
      "100%|████████████████████████████████████████████████████████████████████████████████████████████████████████████████████████| 69/69 [00:00<00:00, 195.21it/s]\n"
     ]
    },
    {
     "name": "stdout",
     "output_type": "stream",
     "text": [
      "Epoch 3, loss: 0.000, err: 0.014, val_loss: 0.001, val_err: 0.023\n"
     ]
    },
    {
     "name": "stderr",
     "output_type": "stream",
     "text": [
      "100%|████████████████████████████████████████████████████████████████████████████████████████████████████████████████████████| 69/69 [00:00<00:00, 201.22it/s]\n"
     ]
    },
    {
     "name": "stdout",
     "output_type": "stream",
     "text": [
      "Epoch 4, loss: 0.000, err: 0.014, val_loss: 0.001, val_err: 0.023\n"
     ]
    },
    {
     "name": "stderr",
     "output_type": "stream",
     "text": [
      "100%|████████████████████████████████████████████████████████████████████████████████████████████████████████████████████████| 69/69 [00:00<00:00, 201.47it/s]\n"
     ]
    },
    {
     "name": "stdout",
     "output_type": "stream",
     "text": [
      "Epoch 5, loss: 0.000, err: 0.014, val_loss: 0.001, val_err: 0.023\n"
     ]
    },
    {
     "name": "stderr",
     "output_type": "stream",
     "text": [
      "100%|████████████████████████████████████████████████████████████████████████████████████████████████████████████████████████| 69/69 [00:00<00:00, 201.04it/s]\n"
     ]
    },
    {
     "name": "stdout",
     "output_type": "stream",
     "text": [
      "Epoch 6, loss: 0.000, err: 0.014, val_loss: 0.001, val_err: 0.023\n"
     ]
    },
    {
     "name": "stderr",
     "output_type": "stream",
     "text": [
      "100%|████████████████████████████████████████████████████████████████████████████████████████████████████████████████████████| 69/69 [00:00<00:00, 200.94it/s]\n"
     ]
    },
    {
     "name": "stdout",
     "output_type": "stream",
     "text": [
      "Epoch 7, loss: 0.000, err: 0.014, val_loss: 0.001, val_err: 0.023\n"
     ]
    },
    {
     "name": "stderr",
     "output_type": "stream",
     "text": [
      "100%|████████████████████████████████████████████████████████████████████████████████████████████████████████████████████████| 69/69 [00:00<00:00, 201.15it/s]\n"
     ]
    },
    {
     "name": "stdout",
     "output_type": "stream",
     "text": [
      "Epoch 8, loss: 0.000, err: 0.014, val_loss: 0.001, val_err: 0.024\n"
     ]
    },
    {
     "name": "stderr",
     "output_type": "stream",
     "text": [
      "100%|████████████████████████████████████████████████████████████████████████████████████████████████████████████████████████| 69/69 [00:00<00:00, 198.41it/s]\n"
     ]
    },
    {
     "name": "stdout",
     "output_type": "stream",
     "text": [
      "Epoch 9, loss: 0.000, err: 0.014, val_loss: 0.001, val_err: 0.023\n"
     ]
    },
    {
     "name": "stderr",
     "output_type": "stream",
     "text": [
      "100%|████████████████████████████████████████████████████████████████████████████████████████████████████████████████████████| 69/69 [00:00<00:00, 200.60it/s]\n"
     ]
    },
    {
     "name": "stdout",
     "output_type": "stream",
     "text": [
      "Epoch 10, loss: 0.000, err: 0.014, val_loss: 0.001, val_err: 0.023\n"
     ]
    },
    {
     "name": "stderr",
     "output_type": "stream",
     "text": [
      "100%|████████████████████████████████████████████████████████████████████████████████████████████████████████████████████████| 69/69 [00:00<00:00, 150.57it/s]\n"
     ]
    },
    {
     "name": "stdout",
     "output_type": "stream",
     "text": [
      "Epoch 11, loss: 0.000, err: 0.014, val_loss: 0.001, val_err: 0.023\n"
     ]
    },
    {
     "name": "stderr",
     "output_type": "stream",
     "text": [
      "100%|████████████████████████████████████████████████████████████████████████████████████████████████████████████████████████| 69/69 [00:00<00:00, 157.54it/s]\n"
     ]
    },
    {
     "name": "stdout",
     "output_type": "stream",
     "text": [
      "Epoch 12, loss: 0.000, err: 0.014, val_loss: 0.001, val_err: 0.023\n"
     ]
    },
    {
     "name": "stderr",
     "output_type": "stream",
     "text": [
      "100%|████████████████████████████████████████████████████████████████████████████████████████████████████████████████████████| 69/69 [00:00<00:00, 190.12it/s]\n"
     ]
    },
    {
     "name": "stdout",
     "output_type": "stream",
     "text": [
      "Epoch 13, loss: 0.000, err: 0.014, val_loss: 0.001, val_err: 0.023\n"
     ]
    },
    {
     "name": "stderr",
     "output_type": "stream",
     "text": [
      "100%|████████████████████████████████████████████████████████████████████████████████████████████████████████████████████████| 69/69 [00:00<00:00, 165.78it/s]\n"
     ]
    },
    {
     "name": "stdout",
     "output_type": "stream",
     "text": [
      "Epoch 14, loss: 0.000, err: 0.014, val_loss: 0.001, val_err: 0.023\n"
     ]
    },
    {
     "name": "stderr",
     "output_type": "stream",
     "text": [
      "100%|████████████████████████████████████████████████████████████████████████████████████████████████████████████████████████| 69/69 [00:00<00:00, 127.37it/s]\n"
     ]
    },
    {
     "name": "stdout",
     "output_type": "stream",
     "text": [
      "Epoch 15, loss: 0.000, err: 0.014, val_loss: 0.001, val_err: 0.023\n"
     ]
    },
    {
     "name": "stderr",
     "output_type": "stream",
     "text": [
      "100%|████████████████████████████████████████████████████████████████████████████████████████████████████████████████████████| 69/69 [00:00<00:00, 127.99it/s]\n"
     ]
    },
    {
     "name": "stdout",
     "output_type": "stream",
     "text": [
      "Epoch 16, loss: 0.000, err: 0.014, val_loss: 0.001, val_err: 0.023\n"
     ]
    },
    {
     "name": "stderr",
     "output_type": "stream",
     "text": [
      "100%|████████████████████████████████████████████████████████████████████████████████████████████████████████████████████████| 69/69 [00:00<00:00, 183.34it/s]\n"
     ]
    },
    {
     "name": "stdout",
     "output_type": "stream",
     "text": [
      "Epoch 17, loss: 0.000, err: 0.014, val_loss: 0.001, val_err: 0.023\n"
     ]
    },
    {
     "name": "stderr",
     "output_type": "stream",
     "text": [
      "100%|████████████████████████████████████████████████████████████████████████████████████████████████████████████████████████| 69/69 [00:00<00:00, 209.03it/s]\n"
     ]
    },
    {
     "name": "stdout",
     "output_type": "stream",
     "text": [
      "Epoch 18, loss: 0.000, err: 0.014, val_loss: 0.001, val_err: 0.023\n"
     ]
    },
    {
     "name": "stderr",
     "output_type": "stream",
     "text": [
      "100%|████████████████████████████████████████████████████████████████████████████████████████████████████████████████████████| 69/69 [00:00<00:00, 209.98it/s]\n"
     ]
    },
    {
     "name": "stdout",
     "output_type": "stream",
     "text": [
      "Epoch 19, loss: 0.000, err: 0.014, val_loss: 0.001, val_err: 0.023\n"
     ]
    },
    {
     "name": "stderr",
     "output_type": "stream",
     "text": [
      "100%|████████████████████████████████████████████████████████████████████████████████████████████████████████████████████████| 69/69 [00:00<00:00, 208.92it/s]\n"
     ]
    },
    {
     "name": "stdout",
     "output_type": "stream",
     "text": [
      "Epoch 20, loss: 0.000, err: 0.014, val_loss: 0.001, val_err: 0.023\n"
     ]
    },
    {
     "name": "stderr",
     "output_type": "stream",
     "text": [
      "100%|████████████████████████████████████████████████████████████████████████████████████████████████████████████████████████| 69/69 [00:00<00:00, 209.70it/s]\n"
     ]
    },
    {
     "name": "stdout",
     "output_type": "stream",
     "text": [
      "Epoch 21, loss: 0.000, err: 0.014, val_loss: 0.001, val_err: 0.023\n"
     ]
    },
    {
     "name": "stderr",
     "output_type": "stream",
     "text": [
      "100%|████████████████████████████████████████████████████████████████████████████████████████████████████████████████████████| 69/69 [00:00<00:00, 210.46it/s]\n"
     ]
    },
    {
     "name": "stdout",
     "output_type": "stream",
     "text": [
      "Epoch 22, loss: 0.000, err: 0.014, val_loss: 0.001, val_err: 0.023\n"
     ]
    },
    {
     "name": "stderr",
     "output_type": "stream",
     "text": [
      "100%|████████████████████████████████████████████████████████████████████████████████████████████████████████████████████████| 69/69 [00:00<00:00, 209.69it/s]\n"
     ]
    },
    {
     "name": "stdout",
     "output_type": "stream",
     "text": [
      "Epoch 23, loss: 0.000, err: 0.014, val_loss: 0.001, val_err: 0.024\n"
     ]
    },
    {
     "name": "stderr",
     "output_type": "stream",
     "text": [
      "100%|████████████████████████████████████████████████████████████████████████████████████████████████████████████████████████| 69/69 [00:00<00:00, 209.15it/s]\n"
     ]
    },
    {
     "name": "stdout",
     "output_type": "stream",
     "text": [
      "Epoch 24, loss: 0.000, err: 0.014, val_loss: 0.001, val_err: 0.023\n"
     ]
    },
    {
     "name": "stderr",
     "output_type": "stream",
     "text": [
      "100%|████████████████████████████████████████████████████████████████████████████████████████████████████████████████████████| 69/69 [00:00<00:00, 198.42it/s]\n"
     ]
    },
    {
     "name": "stdout",
     "output_type": "stream",
     "text": [
      "Epoch 25, loss: 0.000, err: 0.014, val_loss: 0.001, val_err: 0.025\n"
     ]
    },
    {
     "name": "stderr",
     "output_type": "stream",
     "text": [
      "100%|████████████████████████████████████████████████████████████████████████████████████████████████████████████████████████| 69/69 [00:00<00:00, 207.68it/s]\n"
     ]
    },
    {
     "name": "stdout",
     "output_type": "stream",
     "text": [
      "Epoch 26, loss: 0.000, err: 0.014, val_loss: 0.001, val_err: 0.023\n"
     ]
    },
    {
     "name": "stderr",
     "output_type": "stream",
     "text": [
      "100%|████████████████████████████████████████████████████████████████████████████████████████████████████████████████████████| 69/69 [00:00<00:00, 205.40it/s]\n"
     ]
    },
    {
     "name": "stdout",
     "output_type": "stream",
     "text": [
      "Epoch 27, loss: 0.000, err: 0.014, val_loss: 0.001, val_err: 0.024\n"
     ]
    },
    {
     "name": "stderr",
     "output_type": "stream",
     "text": [
      "100%|████████████████████████████████████████████████████████████████████████████████████████████████████████████████████████| 69/69 [00:00<00:00, 191.16it/s]\n"
     ]
    },
    {
     "name": "stdout",
     "output_type": "stream",
     "text": [
      "Epoch 28, loss: 0.000, err: 0.014, val_loss: 0.001, val_err: 0.023\n"
     ]
    },
    {
     "name": "stderr",
     "output_type": "stream",
     "text": [
      "100%|████████████████████████████████████████████████████████████████████████████████████████████████████████████████████████| 69/69 [00:00<00:00, 201.94it/s]\n"
     ]
    },
    {
     "name": "stdout",
     "output_type": "stream",
     "text": [
      "Epoch 29, loss: 0.000, err: 0.014, val_loss: 0.001, val_err: 0.022\n"
     ]
    },
    {
     "name": "stderr",
     "output_type": "stream",
     "text": [
      "100%|████████████████████████████████████████████████████████████████████████████████████████████████████████████████████████| 69/69 [00:00<00:00, 205.07it/s]\n"
     ]
    },
    {
     "name": "stdout",
     "output_type": "stream",
     "text": [
      "Epoch 30, loss: 0.000, err: 0.014, val_loss: 0.000, val_err: 0.022\n"
     ]
    },
    {
     "name": "stderr",
     "output_type": "stream",
     "text": [
      "100%|████████████████████████████████████████████████████████████████████████████████████████████████████████████████████████| 69/69 [00:00<00:00, 191.03it/s]\n"
     ]
    },
    {
     "name": "stdout",
     "output_type": "stream",
     "text": [
      "Epoch 31, loss: 0.000, err: 0.013, val_loss: 0.000, val_err: 0.022\n"
     ]
    },
    {
     "name": "stderr",
     "output_type": "stream",
     "text": [
      "100%|████████████████████████████████████████████████████████████████████████████████████████████████████████████████████████| 69/69 [00:00<00:00, 205.48it/s]\n"
     ]
    },
    {
     "name": "stdout",
     "output_type": "stream",
     "text": [
      "Epoch 32, loss: 0.000, err: 0.013, val_loss: 0.001, val_err: 0.024\n"
     ]
    },
    {
     "name": "stderr",
     "output_type": "stream",
     "text": [
      "100%|████████████████████████████████████████████████████████████████████████████████████████████████████████████████████████| 69/69 [00:00<00:00, 195.21it/s]\n"
     ]
    },
    {
     "name": "stdout",
     "output_type": "stream",
     "text": [
      "Epoch 33, loss: 0.000, err: 0.014, val_loss: 0.001, val_err: 0.024\n"
     ]
    },
    {
     "name": "stderr",
     "output_type": "stream",
     "text": [
      "100%|████████████████████████████████████████████████████████████████████████████████████████████████████████████████████████| 69/69 [00:00<00:00, 204.41it/s]\n"
     ]
    },
    {
     "name": "stdout",
     "output_type": "stream",
     "text": [
      "Epoch 34, loss: 0.000, err: 0.014, val_loss: 0.001, val_err: 0.023\n"
     ]
    },
    {
     "name": "stderr",
     "output_type": "stream",
     "text": [
      "100%|████████████████████████████████████████████████████████████████████████████████████████████████████████████████████████| 69/69 [00:00<00:00, 199.29it/s]\n"
     ]
    },
    {
     "name": "stdout",
     "output_type": "stream",
     "text": [
      "Epoch 35, loss: 0.000, err: 0.013, val_loss: 0.001, val_err: 0.023\n"
     ]
    },
    {
     "name": "stderr",
     "output_type": "stream",
     "text": [
      "100%|████████████████████████████████████████████████████████████████████████████████████████████████████████████████████████| 69/69 [00:00<00:00, 203.59it/s]\n"
     ]
    },
    {
     "name": "stdout",
     "output_type": "stream",
     "text": [
      "Epoch 36, loss: 0.000, err: 0.013, val_loss: 0.001, val_err: 0.023\n"
     ]
    },
    {
     "name": "stderr",
     "output_type": "stream",
     "text": [
      "100%|████████████████████████████████████████████████████████████████████████████████████████████████████████████████████████| 69/69 [00:00<00:00, 199.35it/s]\n"
     ]
    },
    {
     "name": "stdout",
     "output_type": "stream",
     "text": [
      "Epoch 37, loss: 0.000, err: 0.013, val_loss: 0.000, val_err: 0.022\n"
     ]
    },
    {
     "name": "stderr",
     "output_type": "stream",
     "text": [
      "100%|████████████████████████████████████████████████████████████████████████████████████████████████████████████████████████| 69/69 [00:00<00:00, 204.10it/s]\n"
     ]
    },
    {
     "name": "stdout",
     "output_type": "stream",
     "text": [
      "Epoch 38, loss: 0.000, err: 0.013, val_loss: 0.001, val_err: 0.023\n"
     ]
    },
    {
     "name": "stderr",
     "output_type": "stream",
     "text": [
      "100%|████████████████████████████████████████████████████████████████████████████████████████████████████████████████████████| 69/69 [00:00<00:00, 204.24it/s]\n"
     ]
    },
    {
     "name": "stdout",
     "output_type": "stream",
     "text": [
      "Epoch 39, loss: 0.000, err: 0.014, val_loss: 0.000, val_err: 0.022\n"
     ]
    },
    {
     "name": "stderr",
     "output_type": "stream",
     "text": [
      "100%|████████████████████████████████████████████████████████████████████████████████████████████████████████████████████████| 10/10 [00:00<00:00, 614.09it/s]\n"
     ]
    },
    {
     "name": "stdout",
     "output_type": "stream",
     "text": [
      "STATE: [ 0.81260815  0.68625461 -0.03686603 -0.02355755] ACT: [-0.42132611 -0.2692291 ] \n",
      "STATE: [ 0.78775472  0.67014179 -0.07100979 -0.04603663] ACT: [-0.41786392 -0.27457192] \n",
      "STATE: [ 0.75163231  0.64683635 -0.10320689 -0.06658698] ACT: [-0.42122409 -0.26938868] \n",
      "STATE: [ 0.70518986  0.61649165 -0.1326927  -0.08669913] ACT: [-0.41438587 -0.2797934 ] \n",
      "STATE: [ 0.65023549  0.57809613 -0.15701249 -0.10970149] ACT: [-0.37746004 -0.3279084 ] \n",
      "STATE: [ 0.59255631  0.52827798 -0.16479768 -0.14233756] ACT: [-0.2067329  -0.45525983] \n",
      "STATE: [ 0.54966946  0.47108418 -0.12253384 -0.16341087] ACT: [ 0.35941696 -0.34759092] \n",
      "STATE: [ 0.52439664  0.4137137  -0.07220804 -0.16391566] ACT: [ 0.48325161 -0.12832723] \n",
      "STATE: [ 0.5086802   0.34698959 -0.04490414 -0.19064032] ACT: [ 0.2578886  -0.42836138] \n",
      "STATE: [ 0.49102737  0.2696221  -0.05043664 -0.22104998] ACT: [-0.0969067  -0.49051921] \n",
      "STATE: [ 0.46373189  0.18647789 -0.07798708 -0.23755489] ACT: [-0.35268963 -0.35441504] \n",
      "STATE: [ 0.42549728  0.10028064 -0.10924176 -0.24627785] ACT: [-0.41568665 -0.27785718] \n",
      "STATE: [ 0.37489005  0.01613372 -0.14459209 -0.24041975] ACT: [-0.48593506 -0.11775871] \n",
      "STATE: [ 0.31239547 -0.060709   -0.17855595 -0.21955063] ACT: [-0.49660244  0.05818948] \n",
      "final state  [ 0.31239547 -0.060709  ]\n",
      "STATE: [ 0.67988766  0.82324311 -0.03364174 -0.02796956] ACT: [-0.384477   -0.31965206] \n",
      "STATE: [ 0.65711115  0.80430685 -0.06507574 -0.05410361] ACT: [-0.384477   -0.31965206] \n",
      "STATE: [ 0.62409633  0.77677414 -0.09432808 -0.07866489] ACT: [-0.38311931 -0.32127806] \n",
      "STATE: [ 0.5815046   0.74122162 -0.12169065 -0.10157863] ACT: [-0.38346112 -0.32087001] \n",
      "STATE: [ 0.52886356  0.69966592 -0.15040298 -0.11873057] ACT: [-0.41940892 -0.27220609] \n",
      "STATE: [ 0.46455193  0.65844933 -0.1837475  -0.11776168] ACT: [-0.49388249 -0.07797492] \n",
      "STATE: [ 0.39007072  0.62517203 -0.21280347 -0.09507801] ACT: [-0.46987884  0.17092066] \n",
      "STATE: [ 0.30578101  0.59837866 -0.24082772 -0.07655248] ACT: [-0.47987969  0.14041183] \n",
      "STATE: [ 0.21175014  0.57444708 -0.26865965 -0.06837594] ACT: [-0.49870002  0.03603183] \n",
      "STATE: [ 0.11127239  0.54341032 -0.28707928 -0.08867646] ACT: [-0.4120048  -0.28328791] \n",
      "STATE: [ 0.01037698  0.50079744 -0.2882726  -0.12175109] ACT: [-0.22894745 -0.44450317] \n",
      "STATE: [-0.08788221  0.44619616 -0.28074053 -0.15600364] ACT: [-0.13012363 -0.482771  ] \n",
      "final state  [-0.08788221  0.44619616]\n",
      "STATE: [ 0.62879586  0.62577938 -0.03425129 -0.01913514] ACT: [-0.39144333 -0.21868732] \n",
      "STATE: [ 0.60560666  0.61282429 -0.06625484 -0.03701454] ACT: [-0.39144333 -0.21868732] \n",
      "STATE: [ 0.57160701  0.59824463 -0.09714185 -0.04165615] ACT: [-0.40268555 -0.08080792] \n",
      "STATE: [ 0.52763956  0.59199866 -0.12562129 -0.01784563] ACT: [-0.39833567  0.24087814] \n",
      "STATE: [ 0.4770237   0.59814507 -0.14461675  0.01756115] ACT: [-0.3113069   0.39126464] \n",
      "STATE: [ 0.41701144  0.61241592 -0.17146359  0.04077387] ACT: [-0.41528366  0.27845912] \n",
      "STATE: [ 0.34702203  0.63214028 -0.19996977  0.05635532] ACT: [-0.45438252  0.20865407] \n",
      "STATE: [ 0.26646312  0.65270799 -0.23016829  0.0587649 ] ACT: [-0.49510335  0.06980457] \n",
      "STATE: [ 0.17688434  0.66646748 -0.25593939  0.03931282] ACT: [-0.46715308 -0.1782358 ] \n",
      "STATE: [ 8.51151666e-02  6.66310008e-01 -2.62197629e-01 -4.49925534e-04] ACT: [-0.26347725 -0.42494675] \n",
      "STATE: [-0.0074431   0.65244876 -0.2644522  -0.03960357] ACT: [-0.22241474 -0.44780764] \n",
      "final state  [-0.0074431   0.65244876]\n",
      "STATE: [ 0.6257761   0.66909017 -0.03675429 -0.02373151] ACT: [-0.42004907 -0.27121722] \n",
      "STATE: [ 0.60097737  0.6549033  -0.07085351 -0.04053393] ACT: [-0.41727103 -0.20982638] \n",
      "STATE: [ 0.56367741  0.63820472 -0.10657133 -0.04771022] ACT: [-0.46134378 -0.1124151 ] \n",
      "STATE: [ 0.51362051  0.62441538 -0.14301971 -0.0393981 ] ACT: [-0.49648145  0.05921294] \n",
      "STATE: [ 0.45280131  0.61762576 -0.17376914 -0.01939892] ACT: [-0.45868687  0.19901344] \n",
      "STATE: [ 0.38147028  0.61619425 -0.20380294 -0.00409003] ACT: [-0.47357022  0.16040964] \n",
      "STATE: [ 0.29985157  0.61808288 -0.23319631  0.00539608] ACT: [-0.48877644  0.10534512] \n",
      "STATE: [ 0.20851698  0.61714496 -0.26095598 -0.00267977] ACT: [-0.49215062 -0.08824831] \n",
      "STATE: [ 0.10994815  0.60855558 -0.28162525 -0.0245411 ] ACT: [-0.43193717 -0.25185369] \n",
      "STATE: [ 0.01096409  0.58685193 -0.28281157 -0.06201042] ACT: [-0.22477697 -0.44662659] \n",
      "STATE: [-0.08588812  0.55189511 -0.2767206  -0.09987663] ACT: [-0.14249756 -0.47926448] \n",
      "final state  [-0.08588812  0.55189511]\n",
      "STATE: [ 0.80902424  0.72785169 -0.03628232 -0.024447  ] ACT: [-0.41465506 -0.27939432] \n",
      "STATE: [ 0.78445986  0.71130048 -0.07018395 -0.04728916] ACT: [-0.41465901 -0.27938845] \n",
      "STATE: [ 0.74892367  0.68711081 -0.10153198 -0.06911336] ACT: [-0.41090116 -0.28488636] \n",
      "STATE: [ 0.7031188   0.65580834 -0.13087105 -0.08943562] ACT: [-0.41145256 -0.28408941] \n",
      "STATE: [ 0.64790936  0.6175906  -0.15774125 -0.10919353] ACT: [-0.4052413  -0.29288136] \n",
      "STATE: [ 0.58451409  0.57213303 -0.18112937 -0.12987878] ACT: [-0.38559872 -0.31829802] \n",
      "STATE: [ 0.51719271  0.53632827 -0.1923468  -0.10229932] ACT: [-0.26404622  0.21778475] \n",
      "STATE: [ 0.44660674  0.51410589 -0.20167419 -0.06349251] ACT: [-0.25085888  0.36678192] \n",
      "STATE: [ 0.37494368  0.50755019 -0.20475161 -0.01873059] ACT: [-0.18642615  0.46394535] \n",
      "STATE: [ 0.29411415  0.50791419 -0.23094152  0.00104001] ACT: [-0.45287703  0.21190185] \n",
      "STATE: [ 0.20392392  0.50384903 -0.25768637 -0.01161475] ACT: [-0.47886152 -0.14384589] \n",
      "STATE: [ 0.10750855  0.49072331 -0.27547248 -0.03750205] ACT: [-0.39653455 -0.30456584] \n",
      "STATE: [ 0.01099637  0.46455919 -0.27574908 -0.07475464] ACT: [-0.20976551 -0.4538705 ] \n",
      "STATE: [-0.08173037  0.42501309 -0.26493356 -0.11298883] ACT: [-0.08320589 -0.49302817] \n",
      "final state  [-0.08173037  0.42501309]\n",
      "STATE: [ 0.77364578  0.81761253 -0.03510747 -0.02610609] ACT: [-0.40122826 -0.29835529] \n",
      "STATE: [ 0.75000122  0.79977308 -0.0675559  -0.05096987] ACT: [-0.39716971 -0.30373709] \n",
      "STATE: [ 0.71577204  0.77376714 -0.09779764 -0.07430268] ACT: [-0.39628684 -0.30488807] \n",
      "STATE: [ 0.67164774  0.74013733 -0.12606945 -0.09608518] ACT: [-0.39645466 -0.30466983] \n",
      "STATE: [ 0.61830583  0.69934742 -0.15240545 -0.11654259] ACT: [-0.39553491 -0.30586294] \n",
      "STATE: [ 0.55560048  0.65292832 -0.17915813 -0.13262599] ACT: [-0.42004907 -0.27121722] \n",
      "STATE: [ 0.48175534  0.61088318 -0.21098611 -0.12012899] ACT: [-0.49811694  0.04335339] \n",
      "STATE: [ 0.40003823  0.58012505 -0.23347747 -0.08788035] ACT: [-0.41528366  0.27845912] \n",
      "STATE: [ 0.30986389  0.55797957 -0.25764097 -0.0632728 ] ACT: [-0.45126242  0.21531891] \n",
      "STATE: [ 0.21030721  0.53790538 -0.28444764 -0.05735484] ACT: [-0.49959263  0.02017925] \n",
      "STATE: [ 0.10470006  0.51042397 -0.30173473 -0.07851832] ACT: [-0.41090249 -0.28488444] \n",
      "STATE: [-0.00050419  0.47089454 -0.30058357 -0.11294122] ACT: [-0.21314491 -0.45229332] \n",
      "final state  [-0.00050419  0.47089454]\n",
      "STATE: [ 0.64243413  0.65789965 -0.03458952 -0.02419603] ACT: [-0.39530882 -0.27652603] \n",
      "STATE: [ 0.61834335  0.64356086 -0.0688308  -0.04096797] ACT: [-0.41727103 -0.20982638] \n",
      "STATE: [ 0.58305461  0.62373712 -0.10082499 -0.05663926] ACT: [-0.41727103 -0.20982638] \n",
      "STATE: [ 0.53487694  0.60702771 -0.13765048 -0.04774117] ACT: [-0.49648145  0.05921294] \n",
      "STATE: [ 0.47869837  0.60189674 -0.16051019 -0.01465992] ACT: [-0.36449175  0.34226563] \n",
      "STATE: [ 0.41348846  0.6056303  -0.18631403  0.01066731] ACT: [-0.41528366  0.27845912] \n",
      "STATE: [ 0.33869763  0.61562763 -0.21368808  0.02856379] ACT: [-0.45258182  0.21253164] \n",
      "STATE: [ 0.25365241  0.62710665 -0.24298635  0.03279719] ACT: [-0.49510335  0.06980457] \n",
      "STATE: [ 0.15959882  0.63318259 -0.26872454  0.01735983] ACT: [-0.47639052 -0.15182908] \n",
      "STATE: [ 0.06298955  0.62627824 -0.2760265  -0.0197267 ] ACT: [-0.28499442 -0.41082622] \n",
      "STATE: [-0.03372372  0.60593643 -0.27632363 -0.05811947] ACT: [-0.21041562 -0.45356947] \n",
      "final state  [-0.03372372  0.60593643]\n",
      "STATE: [ 0.70986876  0.76095628 -0.03468978 -0.02665861] ACT: [-0.39645466 -0.30466983] \n",
      "STATE: [ 0.68638269  0.74290757 -0.06710305 -0.05156775] ACT: [-0.39645466 -0.30466983] \n",
      "STATE: [ 0.65232464  0.71667625 -0.09730871 -0.07494662] ACT: [-0.39553491 -0.30586294] \n",
      "STATE: [ 0.60798747  0.68334208 -0.12667763 -0.09524049] ACT: [-0.40862625 -0.28813987] \n",
      "STATE: [ 0.55296155  0.64515581 -0.15721692 -0.10910362] ACT: [-0.44402875 -0.22986619] \n",
      "STATE: [ 0.48629187  0.61080321 -0.1904848  -0.09815028] ACT: [-0.49811694  0.04335339] \n",
      "STATE: [ 0.41127933  0.58723281 -0.21432155 -0.06734399] ACT: [-0.41528366  0.27845912] \n",
      "STATE: [ 0.32732917  0.57171801 -0.23985761 -0.04432802] ACT: [-0.45258182  0.21253164] \n",
      "STATE: [ 0.23358821  0.55783935 -0.26783131 -0.03965331] ACT: [-0.49959263  0.02017925] \n",
      "STATE: [ 0.13245969  0.53771888 -0.28893864 -0.05748705] ACT: [-0.4421001  -0.23355407] \n",
      "STATE: [ 0.02917956  0.50637924 -0.29508606 -0.08954182] ACT: [-0.28696026 -0.40945551] \n",
      "STATE: [-0.07193773  0.46249576 -0.28890655 -0.1253814 ] ACT: [-0.15069152 -0.47675158] \n",
      "final state  [-0.07193773  0.46249576]\n",
      "STATE: [ 0.8252085   0.81472697 -0.03543714 -0.02565681] ACT: [-0.40499584 -0.29322068] \n",
      "STATE: [ 0.80121645  0.79735651 -0.06854871 -0.04962989] ACT: [-0.40499584 -0.29322068] \n",
      "STATE: [ 0.7663949   0.77214745 -0.09949012 -0.0720259 ] ACT: [-0.40502764 -0.29317676] \n",
      "STATE: [ 0.72147734  0.73958279 -0.12833589 -0.09304187] ACT: [-0.40428359 -0.29420194] \n",
      "STATE: [ 0.66729582  0.69991681 -0.15480434 -0.11333138] ACT: [-0.39874846 -0.3016615 ] \n",
      "STATE: [ 0.60414879  0.65403956 -0.18042009 -0.13107788] ACT: [-0.40885466 -0.28781569] \n",
      "STATE: [ 0.53101713  0.60773028 -0.2089476  -0.13231221] ACT: [-0.46134378 -0.1124151 ] \n",
      "STATE: [ 0.45152218  0.57494194 -0.22712844 -0.09368098] ACT: [-0.36449175  0.34226563] \n",
      "STATE: [ 0.36769761  0.5562777  -0.23949877 -0.05332641] ACT: [-0.31172148  0.39093442] \n",
      "STATE: [ 0.27603409  0.54635619 -0.26189577 -0.02834716] ACT: [-0.43558978  0.24548226] \n",
      "STATE: [ 0.17558077  0.53317704 -0.28700948 -0.0376547 ] ACT: [-0.48343563 -0.12763224] \n",
      "STATE: [ 0.06995043  0.51106702 -0.30180098 -0.06317148] ACT: [-0.38430284 -0.31986142] \n",
      "STATE: [-0.03428199  0.47613048 -0.2978069  -0.09981869] ACT: [-0.18070418 -0.46620382] \n",
      "final state  [-0.03428199  0.47613048]\n",
      "STATE: [ 0.65813797  0.72432054 -0.03458265 -0.02679744] ACT: [-0.39523032 -0.30625642] \n",
      "STATE: [ 0.63431418  0.70673266 -0.06806796 -0.05025109] ACT: [-0.40862625 -0.28813987] \n",
      "STATE: [ 0.59925555  0.68189203 -0.10016751 -0.07097322] ACT: [-0.41790291 -0.27451258] \n",
      "STATE: [ 0.55289927  0.65164192 -0.13244653 -0.08642889] ACT: [-0.44402875 -0.22986619] \n",
      "STATE: [ 0.49433028  0.62470467 -0.16733996 -0.07696357] ACT: [-0.49811694  0.04335339] \n",
      "STATE: [ 0.42635451  0.60720982 -0.1942165  -0.0499853 ] ACT: [-0.43266546  0.25060048] \n",
      "STATE: [ 0.34892418  0.59725309 -0.22122952 -0.02844778] ACT: [-0.45438252  0.20865407] \n",
      "STATE: [ 0.26153826  0.59084165 -0.24967403 -0.01831842] ACT: [-0.49100234  0.09442832] \n",
      "STATE: [ 0.16527925  0.58025915 -0.27502576 -0.03023571] ACT: [-0.47698958 -0.14993644] \n",
      "STATE: [ 0.06360094  0.56053588 -0.29050946 -0.0563522 ] ACT: [-0.38322586 -0.32115096] \n",
      "STATE: [-0.03729763  0.52797378 -0.28828162 -0.09303457] ACT: [-0.19242103 -0.46149122] \n",
      "final state  [-0.03729763  0.52797378]\n",
      "After 15 REWARD:  (0.5426023897127508, array([-0.01282936,  0.45582751, -0.27173051, -0.11173186]), -0.14883684566346425)\n",
      "UPDATING THE ACTION MATRIX\n"
     ]
    },
    {
     "name": "stderr",
     "output_type": "stream",
     "text": [
      "100%|█████████████████████████████████████████████████████████████████████████████████████████████████████████████████████████| 25/25 [00:03<00:00,  6.86it/s]\n",
      "Generating Dynamics Dataset: 100%|██████████████████████████████████████████████████████████████████████████████████████████| 15/15 [00:00<00:00, 2382.13it/s]\n",
      "100%|████████████████████████████████████████████████████████████████████████████████████████████████████████████████████████| 72/72 [00:00<00:00, 202.11it/s]\n"
     ]
    },
    {
     "name": "stdout",
     "output_type": "stream",
     "text": [
      "Epoch 1, loss: 0.000, err: 0.013, val_loss: 0.001, val_err: 0.023\n"
     ]
    },
    {
     "name": "stderr",
     "output_type": "stream",
     "text": [
      "100%|████████████████████████████████████████████████████████████████████████████████████████████████████████████████████████| 72/72 [00:00<00:00, 205.38it/s]\n"
     ]
    },
    {
     "name": "stdout",
     "output_type": "stream",
     "text": [
      "Epoch 2, loss: 0.000, err: 0.014, val_loss: 0.001, val_err: 0.024\n"
     ]
    },
    {
     "name": "stderr",
     "output_type": "stream",
     "text": [
      "100%|████████████████████████████████████████████████████████████████████████████████████████████████████████████████████████| 72/72 [00:00<00:00, 206.62it/s]\n"
     ]
    },
    {
     "name": "stdout",
     "output_type": "stream",
     "text": [
      "Epoch 3, loss: 0.000, err: 0.013, val_loss: 0.001, val_err: 0.023\n"
     ]
    },
    {
     "name": "stderr",
     "output_type": "stream",
     "text": [
      "100%|████████████████████████████████████████████████████████████████████████████████████████████████████████████████████████| 72/72 [00:00<00:00, 202.81it/s]\n"
     ]
    },
    {
     "name": "stdout",
     "output_type": "stream",
     "text": [
      "Epoch 4, loss: 0.000, err: 0.014, val_loss: 0.001, val_err: 0.023\n"
     ]
    },
    {
     "name": "stderr",
     "output_type": "stream",
     "text": [
      "100%|████████████████████████████████████████████████████████████████████████████████████████████████████████████████████████| 72/72 [00:00<00:00, 203.32it/s]\n"
     ]
    },
    {
     "name": "stdout",
     "output_type": "stream",
     "text": [
      "Epoch 5, loss: 0.000, err: 0.014, val_loss: 0.001, val_err: 0.023\n"
     ]
    },
    {
     "name": "stderr",
     "output_type": "stream",
     "text": [
      "100%|████████████████████████████████████████████████████████████████████████████████████████████████████████████████████████| 72/72 [00:00<00:00, 203.61it/s]\n"
     ]
    },
    {
     "name": "stdout",
     "output_type": "stream",
     "text": [
      "Epoch 6, loss: 0.000, err: 0.013, val_loss: 0.001, val_err: 0.022\n"
     ]
    },
    {
     "name": "stderr",
     "output_type": "stream",
     "text": [
      "100%|████████████████████████████████████████████████████████████████████████████████████████████████████████████████████████| 72/72 [00:00<00:00, 202.13it/s]\n"
     ]
    },
    {
     "name": "stdout",
     "output_type": "stream",
     "text": [
      "Epoch 7, loss: 0.000, err: 0.013, val_loss: 0.001, val_err: 0.025\n"
     ]
    },
    {
     "name": "stderr",
     "output_type": "stream",
     "text": [
      "100%|████████████████████████████████████████████████████████████████████████████████████████████████████████████████████████| 72/72 [00:00<00:00, 200.05it/s]\n"
     ]
    },
    {
     "name": "stdout",
     "output_type": "stream",
     "text": [
      "Epoch 8, loss: 0.000, err: 0.013, val_loss: 0.001, val_err: 0.023\n"
     ]
    },
    {
     "name": "stderr",
     "output_type": "stream",
     "text": [
      "100%|████████████████████████████████████████████████████████████████████████████████████████████████████████████████████████| 72/72 [00:00<00:00, 205.78it/s]\n"
     ]
    },
    {
     "name": "stdout",
     "output_type": "stream",
     "text": [
      "Epoch 9, loss: 0.000, err: 0.013, val_loss: 0.001, val_err: 0.024\n"
     ]
    },
    {
     "name": "stderr",
     "output_type": "stream",
     "text": [
      "100%|████████████████████████████████████████████████████████████████████████████████████████████████████████████████████████| 72/72 [00:00<00:00, 205.21it/s]\n"
     ]
    },
    {
     "name": "stdout",
     "output_type": "stream",
     "text": [
      "Epoch 10, loss: 0.000, err: 0.013, val_loss: 0.001, val_err: 0.023\n"
     ]
    },
    {
     "name": "stderr",
     "output_type": "stream",
     "text": [
      "100%|████████████████████████████████████████████████████████████████████████████████████████████████████████████████████████| 72/72 [00:00<00:00, 202.16it/s]\n"
     ]
    },
    {
     "name": "stdout",
     "output_type": "stream",
     "text": [
      "Epoch 11, loss: 0.000, err: 0.013, val_loss: 0.001, val_err: 0.024\n"
     ]
    },
    {
     "name": "stderr",
     "output_type": "stream",
     "text": [
      "100%|████████████████████████████████████████████████████████████████████████████████████████████████████████████████████████| 72/72 [00:00<00:00, 204.57it/s]\n"
     ]
    },
    {
     "name": "stdout",
     "output_type": "stream",
     "text": [
      "Epoch 12, loss: 0.000, err: 0.013, val_loss: 0.001, val_err: 0.023\n"
     ]
    },
    {
     "name": "stderr",
     "output_type": "stream",
     "text": [
      "100%|████████████████████████████████████████████████████████████████████████████████████████████████████████████████████████| 72/72 [00:00<00:00, 205.58it/s]\n"
     ]
    },
    {
     "name": "stdout",
     "output_type": "stream",
     "text": [
      "Epoch 13, loss: 0.000, err: 0.013, val_loss: 0.001, val_err: 0.023\n"
     ]
    },
    {
     "name": "stderr",
     "output_type": "stream",
     "text": [
      "100%|████████████████████████████████████████████████████████████████████████████████████████████████████████████████████████| 72/72 [00:00<00:00, 204.99it/s]\n"
     ]
    },
    {
     "name": "stdout",
     "output_type": "stream",
     "text": [
      "Epoch 14, loss: 0.000, err: 0.013, val_loss: 0.001, val_err: 0.023\n"
     ]
    },
    {
     "name": "stderr",
     "output_type": "stream",
     "text": [
      "100%|████████████████████████████████████████████████████████████████████████████████████████████████████████████████████████| 72/72 [00:00<00:00, 201.78it/s]\n"
     ]
    },
    {
     "name": "stdout",
     "output_type": "stream",
     "text": [
      "Epoch 15, loss: 0.000, err: 0.013, val_loss: 0.001, val_err: 0.024\n"
     ]
    },
    {
     "name": "stderr",
     "output_type": "stream",
     "text": [
      "100%|████████████████████████████████████████████████████████████████████████████████████████████████████████████████████████| 72/72 [00:00<00:00, 205.87it/s]\n"
     ]
    },
    {
     "name": "stdout",
     "output_type": "stream",
     "text": [
      "Epoch 16, loss: 0.000, err: 0.013, val_loss: 0.001, val_err: 0.023\n"
     ]
    },
    {
     "name": "stderr",
     "output_type": "stream",
     "text": [
      "100%|████████████████████████████████████████████████████████████████████████████████████████████████████████████████████████| 72/72 [00:00<00:00, 204.79it/s]\n"
     ]
    },
    {
     "name": "stdout",
     "output_type": "stream",
     "text": [
      "Epoch 17, loss: 0.000, err: 0.013, val_loss: 0.001, val_err: 0.023\n"
     ]
    },
    {
     "name": "stderr",
     "output_type": "stream",
     "text": [
      "100%|████████████████████████████████████████████████████████████████████████████████████████████████████████████████████████| 72/72 [00:00<00:00, 206.66it/s]\n"
     ]
    },
    {
     "name": "stdout",
     "output_type": "stream",
     "text": [
      "Epoch 18, loss: 0.000, err: 0.013, val_loss: 0.000, val_err: 0.022\n"
     ]
    },
    {
     "name": "stderr",
     "output_type": "stream",
     "text": [
      "100%|████████████████████████████████████████████████████████████████████████████████████████████████████████████████████████| 72/72 [00:00<00:00, 205.50it/s]\n"
     ]
    },
    {
     "name": "stdout",
     "output_type": "stream",
     "text": [
      "Epoch 19, loss: 0.000, err: 0.013, val_loss: 0.001, val_err: 0.023\n"
     ]
    },
    {
     "name": "stderr",
     "output_type": "stream",
     "text": [
      "100%|████████████████████████████████████████████████████████████████████████████████████████████████████████████████████████| 72/72 [00:00<00:00, 204.38it/s]\n"
     ]
    },
    {
     "name": "stdout",
     "output_type": "stream",
     "text": [
      "Epoch 20, loss: 0.000, err: 0.013, val_loss: 0.001, val_err: 0.023\n"
     ]
    },
    {
     "name": "stderr",
     "output_type": "stream",
     "text": [
      "100%|████████████████████████████████████████████████████████████████████████████████████████████████████████████████████████| 72/72 [00:00<00:00, 201.43it/s]\n"
     ]
    },
    {
     "name": "stdout",
     "output_type": "stream",
     "text": [
      "Epoch 21, loss: 0.000, err: 0.013, val_loss: 0.001, val_err: 0.023\n"
     ]
    },
    {
     "name": "stderr",
     "output_type": "stream",
     "text": [
      "100%|████████████████████████████████████████████████████████████████████████████████████████████████████████████████████████| 72/72 [00:00<00:00, 205.09it/s]\n"
     ]
    },
    {
     "name": "stdout",
     "output_type": "stream",
     "text": [
      "Epoch 22, loss: 0.000, err: 0.013, val_loss: 0.001, val_err: 0.023\n"
     ]
    },
    {
     "name": "stderr",
     "output_type": "stream",
     "text": [
      "100%|████████████████████████████████████████████████████████████████████████████████████████████████████████████████████████| 72/72 [00:00<00:00, 204.90it/s]\n"
     ]
    },
    {
     "name": "stdout",
     "output_type": "stream",
     "text": [
      "Epoch 23, loss: 0.000, err: 0.013, val_loss: 0.001, val_err: 0.023\n"
     ]
    },
    {
     "name": "stderr",
     "output_type": "stream",
     "text": [
      "100%|████████████████████████████████████████████████████████████████████████████████████████████████████████████████████████| 72/72 [00:00<00:00, 202.49it/s]\n"
     ]
    },
    {
     "name": "stdout",
     "output_type": "stream",
     "text": [
      "Epoch 24, loss: 0.000, err: 0.013, val_loss: 0.001, val_err: 0.024\n"
     ]
    },
    {
     "name": "stderr",
     "output_type": "stream",
     "text": [
      "100%|████████████████████████████████████████████████████████████████████████████████████████████████████████████████████████| 72/72 [00:00<00:00, 204.52it/s]\n"
     ]
    },
    {
     "name": "stdout",
     "output_type": "stream",
     "text": [
      "Epoch 25, loss: 0.000, err: 0.013, val_loss: 0.001, val_err: 0.023\n"
     ]
    },
    {
     "name": "stderr",
     "output_type": "stream",
     "text": [
      "100%|████████████████████████████████████████████████████████████████████████████████████████████████████████████████████████| 72/72 [00:00<00:00, 203.36it/s]\n"
     ]
    },
    {
     "name": "stdout",
     "output_type": "stream",
     "text": [
      "Epoch 26, loss: 0.000, err: 0.013, val_loss: 0.001, val_err: 0.023\n"
     ]
    },
    {
     "name": "stderr",
     "output_type": "stream",
     "text": [
      "100%|████████████████████████████████████████████████████████████████████████████████████████████████████████████████████████| 72/72 [00:00<00:00, 204.87it/s]\n"
     ]
    },
    {
     "name": "stdout",
     "output_type": "stream",
     "text": [
      "Epoch 27, loss: 0.000, err: 0.013, val_loss: 0.001, val_err: 0.023\n"
     ]
    },
    {
     "name": "stderr",
     "output_type": "stream",
     "text": [
      "100%|████████████████████████████████████████████████████████████████████████████████████████████████████████████████████████| 72/72 [00:00<00:00, 203.37it/s]\n"
     ]
    },
    {
     "name": "stdout",
     "output_type": "stream",
     "text": [
      "Epoch 28, loss: 0.000, err: 0.013, val_loss: 0.001, val_err: 0.023\n"
     ]
    },
    {
     "name": "stderr",
     "output_type": "stream",
     "text": [
      "100%|████████████████████████████████████████████████████████████████████████████████████████████████████████████████████████| 72/72 [00:00<00:00, 204.54it/s]\n"
     ]
    },
    {
     "name": "stdout",
     "output_type": "stream",
     "text": [
      "Epoch 29, loss: 0.000, err: 0.013, val_loss: 0.001, val_err: 0.023\n"
     ]
    },
    {
     "name": "stderr",
     "output_type": "stream",
     "text": [
      "100%|████████████████████████████████████████████████████████████████████████████████████████████████████████████████████████| 72/72 [00:00<00:00, 204.09it/s]\n"
     ]
    },
    {
     "name": "stdout",
     "output_type": "stream",
     "text": [
      "Epoch 30, loss: 0.000, err: 0.013, val_loss: 0.001, val_err: 0.023\n"
     ]
    },
    {
     "name": "stderr",
     "output_type": "stream",
     "text": [
      "100%|████████████████████████████████████████████████████████████████████████████████████████████████████████████████████████| 72/72 [00:00<00:00, 206.23it/s]\n"
     ]
    },
    {
     "name": "stdout",
     "output_type": "stream",
     "text": [
      "Epoch 31, loss: 0.000, err: 0.013, val_loss: 0.001, val_err: 0.023\n"
     ]
    },
    {
     "name": "stderr",
     "output_type": "stream",
     "text": [
      "100%|████████████████████████████████████████████████████████████████████████████████████████████████████████████████████████| 72/72 [00:00<00:00, 208.12it/s]\n"
     ]
    },
    {
     "name": "stdout",
     "output_type": "stream",
     "text": [
      "Epoch 32, loss: 0.000, err: 0.013, val_loss: 0.001, val_err: 0.023\n"
     ]
    },
    {
     "name": "stderr",
     "output_type": "stream",
     "text": [
      "100%|████████████████████████████████████████████████████████████████████████████████████████████████████████████████████████| 72/72 [00:00<00:00, 207.91it/s]\n"
     ]
    },
    {
     "name": "stdout",
     "output_type": "stream",
     "text": [
      "Epoch 33, loss: 0.000, err: 0.013, val_loss: 0.001, val_err: 0.022\n"
     ]
    },
    {
     "name": "stderr",
     "output_type": "stream",
     "text": [
      "100%|████████████████████████████████████████████████████████████████████████████████████████████████████████████████████████| 72/72 [00:00<00:00, 204.64it/s]\n"
     ]
    },
    {
     "name": "stdout",
     "output_type": "stream",
     "text": [
      "Epoch 34, loss: 0.000, err: 0.013, val_loss: 0.001, val_err: 0.023\n"
     ]
    },
    {
     "name": "stderr",
     "output_type": "stream",
     "text": [
      "100%|████████████████████████████████████████████████████████████████████████████████████████████████████████████████████████| 72/72 [00:00<00:00, 205.11it/s]\n"
     ]
    },
    {
     "name": "stdout",
     "output_type": "stream",
     "text": [
      "Epoch 35, loss: 0.000, err: 0.013, val_loss: 0.001, val_err: 0.024\n"
     ]
    },
    {
     "name": "stderr",
     "output_type": "stream",
     "text": [
      "100%|████████████████████████████████████████████████████████████████████████████████████████████████████████████████████████| 72/72 [00:00<00:00, 203.56it/s]\n"
     ]
    },
    {
     "name": "stdout",
     "output_type": "stream",
     "text": [
      "Epoch 36, loss: 0.000, err: 0.013, val_loss: 0.001, val_err: 0.023\n"
     ]
    },
    {
     "name": "stderr",
     "output_type": "stream",
     "text": [
      "100%|████████████████████████████████████████████████████████████████████████████████████████████████████████████████████████| 72/72 [00:00<00:00, 201.88it/s]\n"
     ]
    },
    {
     "name": "stdout",
     "output_type": "stream",
     "text": [
      "Epoch 37, loss: 0.000, err: 0.013, val_loss: 0.001, val_err: 0.022\n"
     ]
    },
    {
     "name": "stderr",
     "output_type": "stream",
     "text": [
      "100%|████████████████████████████████████████████████████████████████████████████████████████████████████████████████████████| 72/72 [00:00<00:00, 204.45it/s]\n"
     ]
    },
    {
     "name": "stdout",
     "output_type": "stream",
     "text": [
      "Epoch 38, loss: 0.000, err: 0.013, val_loss: 0.001, val_err: 0.023\n"
     ]
    },
    {
     "name": "stderr",
     "output_type": "stream",
     "text": [
      "100%|████████████████████████████████████████████████████████████████████████████████████████████████████████████████████████| 72/72 [00:00<00:00, 205.52it/s]\n"
     ]
    },
    {
     "name": "stdout",
     "output_type": "stream",
     "text": [
      "Epoch 39, loss: 0.000, err: 0.014, val_loss: 0.000, val_err: 0.021\n"
     ]
    },
    {
     "name": "stderr",
     "output_type": "stream",
     "text": [
      "100%|████████████████████████████████████████████████████████████████████████████████████████████████████████████████████████| 10/10 [00:00<00:00, 585.69it/s]\n"
     ]
    },
    {
     "name": "stdout",
     "output_type": "stream",
     "text": [
      "STATE: [ 0.79547316  0.59755218 -0.03823773 -0.02125884] ACT: [-0.43700266 -0.24295818] \n",
      "STATE: [ 0.76958502  0.58315928 -0.07396611 -0.04112257] ACT: [-0.43700266 -0.24295818] \n",
      "STATE: [ 0.73242348  0.56157508 -0.10617583 -0.06166915] ACT: [-0.42358559 -0.26566002] \n",
      "STATE: [ 0.68649979  0.53096641 -0.13121054 -0.08745334] ACT: [-0.36574291 -0.34092833] \n",
      "STATE: [ 0.63412974  0.49032571 -0.14962873 -0.11611628] ACT: [-0.30890149 -0.39316647] \n",
      "STATE: [ 0.58625903  0.43707647 -0.13677347 -0.15214069] ACT: [ 0.03469578 -0.49879475] \n",
      "STATE: [ 0.5519992   0.37614741 -0.09788521 -0.17408302] ACT: [ 0.34185711 -0.36487493] \n",
      "STATE: [ 0.52539156  0.30488955 -0.07602184 -0.20359388] ACT: [ 0.17645317 -0.46782933] \n",
      "STATE: [ 0.4963553   0.22357557 -0.08296073 -0.23232567] ACT: [-0.13631796 -0.48105864] \n",
      "STATE: [ 0.45747188  0.13778215 -0.11109551 -0.24512404] ACT: [-0.3837609  -0.32051142] \n",
      "STATE: [ 0.40679936  0.05225108 -0.14477861 -0.24437449] ACT: [-0.46827138 -0.17527669] \n",
      "STATE: [ 0.34421844 -0.0261164  -0.17880262 -0.22390708] ACT: [-0.49742976  0.05063233] \n",
      "final state  [ 0.34421844 -0.0261164 ]\n",
      "STATE: [ 0.86637013  0.76435176 -0.03710264 -0.02318312] ACT: [-0.42403012 -0.26494992] \n",
      "STATE: [ 0.841367    0.74847251 -0.07143752 -0.04536928] ACT: [-0.42022568 -0.2709435 ] \n",
      "STATE: [ 0.80512984  0.72534616 -0.10353476 -0.0660753 ] ACT: [-0.4204037  -0.27066719] \n",
      "STATE: [ 0.75843415  0.69538913 -0.13341625 -0.08559149] ACT: [-0.41915387 -0.27259867] \n",
      "STATE: [ 0.70194018  0.65908997 -0.16141134 -0.10371189] ACT: [-0.42000601 -0.27128389] \n",
      "STATE: [ 0.63687878  0.61601866 -0.18588971 -0.12306088] ACT: [-0.40081129 -0.29891522] \n",
      "STATE: [ 0.56296739  0.57119202 -0.21117541 -0.12807611] ACT: [-0.42839678 -0.14961253] \n",
      "STATE: [ 0.48141148  0.5374889  -0.23301687 -0.09629463] ACT: [-0.40799821  0.26715977] \n",
      "STATE: [ 0.40154554  0.52086568 -0.2281884  -0.04749492] ACT: [-0.11958018  0.48549004] \n",
      "STATE: [ 0.31558747  0.51563036 -0.2455945  -0.01495807] ACT: [-0.37006808  0.33622852] \n",
      "STATE: [ 0.22001096  0.50946489 -0.27307574 -0.01761561] ACT: [-0.49826723 -0.04159047] \n",
      "STATE: [ 0.11720373  0.49648298 -0.29373494 -0.03709117] ACT: [-0.44091193 -0.23578946] \n",
      "STATE: [ 0.01643792  0.46978137 -0.28790233 -0.07629032] ACT: [-0.15364277 -0.47580868] \n",
      "STATE: [-0.07886307  0.42956264 -0.27228853 -0.11491065] ACT: [-0.03748341 -0.49859301] \n",
      "final state  [-0.07886307  0.42956264]\n",
      "STATE: [ 0.69209221  0.62120668 -0.03337315 -0.02828949] ACT: [-0.38140748 -0.32330842] \n",
      "STATE: [ 0.66926597  0.60233367 -0.06521785 -0.05392288] ACT: [-0.38896929 -0.31417016] \n",
      "STATE: [ 0.63890636  0.57233362 -0.08674173 -0.08571444] ACT: [-0.29490049 -0.40377432] \n",
      "STATE: [ 0.60800763  0.52993034 -0.08828208 -0.12115222] ACT: [-0.08266034 -0.46928898] \n",
      "STATE: [ 0.58454842  0.47625337 -0.06702634 -0.15336279] ACT: [ 0.17671122 -0.45898503] \n",
      "STATE: [ 0.57665656  0.41995955 -0.02254816 -0.16083946] ACT: [ 0.45805227 -0.20046974] \n",
      "STATE: [ 0.57612779  0.35366272 -0.00151076 -0.18941952] ACT: [ 0.22351627 -0.44725885] \n",
      "STATE: [ 0.57761597  0.27653296  0.00425194 -0.22037074] ACT: [ 0.06472635 -0.4957928 ] \n",
      "STATE: [ 0.5741893   0.18992981 -0.00979049 -0.24743759] ACT: [-0.1572959  -0.47461353] \n",
      "STATE: [ 0.55979914  0.09855565 -0.04111476 -0.26106902] ACT: [-0.3653345  -0.34136593] \n",
      "STATE: [ 0.53111544  0.01166809 -0.08195341 -0.24825017] ACT: [-0.49756351 -0.04930061] \n",
      "STATE: [ 0.48904809 -0.06832537 -0.12019243 -0.22855274] ACT: [-0.49848248  0.03892579] \n",
      "final state  [ 0.48904809 -0.06832537]\n",
      "STATE: [ 0.88215481  0.84222199 -0.03618209 -0.02459509] ACT: [-0.41350964 -0.28108677] \n",
      "STATE: [ 0.85752954  0.82576304 -0.07035793 -0.04702556] ACT: [-0.41771758 -0.27479451] \n",
      "STATE: [ 0.82189854  0.80171449 -0.10180284 -0.06871014] ACT: [-0.41213881 -0.28309293] \n",
      "STATE: [ 0.77600763  0.77054023 -0.13111689 -0.08906933] ACT: [-0.41136986 -0.28420914] \n",
      "STATE: [ 0.72063931  0.73255189 -0.15819521 -0.1085381 ] ACT: [-0.40780415 -0.28930222] \n",
      "STATE: [ 0.65659389  0.68795046 -0.18298691 -0.12743267] ACT: [-0.40198018 -0.29734144] \n",
      "STATE: [ 0.58392113  0.63791804 -0.20763647 -0.14294977] ACT: [-0.41894939 -0.27291282] \n",
      "STATE: [ 0.50144178  0.59468025 -0.23565528 -0.12353654] ACT: [-0.47594235  0.11465315] \n",
      "STATE: [ 0.41194206  0.56321813 -0.25571349 -0.08989178] ACT: [-0.4059781   0.29185918] \n",
      "STATE: [ 0.31708702  0.54423167 -0.27101438 -0.05424701] ACT: [-0.36665246  0.33994995] \n",
      "STATE: [ 0.21322746  0.52808439 -0.29674161 -0.04613509] ACT: [-0.4972863   0.05202242] \n",
      "STATE: [ 0.10359697  0.50427626 -0.31322996 -0.06802325] ACT: [-0.41099447 -0.28475172] \n",
      "STATE: [-0.00332048  0.4673885  -0.30547844 -0.1053936 ] ACT: [-0.14633366 -0.47810716] \n",
      "final state  [-0.00332048  0.4673885 ]\n",
      "STATE: [ 0.77140817  0.69841472 -0.03641356 -0.02425109] ACT: [-0.41615494 -0.27715531] \n",
      "STATE: [ 0.74663712  0.68217579 -0.07077444 -0.04639695] ACT: [-0.42000601 -0.27128389] \n",
      "STATE: [ 0.71075875  0.65849691 -0.10250962 -0.06765392] ACT: [-0.41576861 -0.27773452] \n",
      "STATE: [ 0.66496005  0.62721769 -0.13085342 -0.08936922] ACT: [-0.40081129 -0.29891522] \n",
      "STATE: [ 0.61027335  0.58861087 -0.15624771 -0.1103052 ] ACT: [-0.38836057 -0.30629534] \n",
      "STATE: [ 0.54474048  0.55348901 -0.18723679 -0.10034818] ACT: [-0.47134666  0.0310657 ] \n",
      "STATE: [ 0.46972459  0.51880594 -0.21433111 -0.09909447] ACT: [-0.45007699 -0.06093306] \n",
      "STATE: [ 0.39867586  0.5016816  -0.20299636 -0.0489267 ] ACT: [-0.03120833  0.49902509] \n",
      "STATE: [ 0.32095637  0.49597804 -0.22205568 -0.01629589] ACT: [-0.37006808  0.33622852] \n",
      "STATE: [ 0.2331662   0.4885721  -0.25082907 -0.02115982] ACT: [-0.49538051 -0.06780967] \n",
      "STATE: [ 0.13893316  0.47240378 -0.26923724 -0.0461952 ] ACT: [-0.39850084 -0.30198854] \n",
      "STATE: [ 0.04352004  0.44387107 -0.27260891 -0.08152202] ACT: [-0.24046133 -0.43838151] \n",
      "STATE: [-0.04747837  0.4020101  -0.25999547 -0.11960279] ACT: [-0.06030308 -0.49635022] \n",
      "final state  [-0.04747837  0.4020101 ]\n",
      "STATE: [ 0.62312364  0.6507162  -0.03859359 -0.02060577] ACT: [-0.44106956 -0.23549447] \n",
      "STATE: [ 0.59699457  0.63676546 -0.07465447 -0.03985928] ACT: [-0.44106956 -0.23549447] \n",
      "STATE: [ 0.55729951  0.62471625 -0.11341447 -0.03442632] ACT: [-0.49896231  0.03219652] \n",
      "STATE: [ 0.5056337   0.61696902 -0.1476166  -0.02213494] ACT: [-0.47594235  0.11465315] \n",
      "STATE: [ 0.4436691   0.61659126 -0.17704171 -0.0010793 ] ACT: [-0.44699939  0.22403471] \n",
      "STATE: [ 0.37414301  0.62620144 -0.19864596  0.02745766] ACT: [-0.37968704  0.32532714] \n",
      "STATE: [ 0.29416391  0.63818137 -0.22851172  0.03422837] ACT: [-0.49030737  0.09797286] \n",
      "STATE: [ 0.20430356  0.64701726 -0.25674385  0.0252454 ] ACT: [-0.49403679 -0.07699124] \n",
      "STATE: [ 0.11006494  0.64392034 -0.2692532  -0.00884836] ACT: [-0.33552179 -0.37070895] \n",
      "STATE: [ 0.01608256  0.62690824 -0.26852108 -0.048606  ] ACT: [-0.19357283 -0.46100928] \n",
      "STATE: [-0.07600479  0.59630821 -0.26310672 -0.08742865] ACT: [-0.1395124  -0.48014195] \n",
      "final state  [-0.07600479  0.59630821]\n",
      "STATE: [ 0.77147239  0.62450295 -0.03752139 -0.02249906] ACT: [-0.42881588 -0.25713214] \n",
      "STATE: [ 0.74606923  0.60927038 -0.07258044 -0.04352162] ACT: [-0.42881588 -0.25713214] \n",
      "STATE: [ 0.7096357   0.58647899 -0.1040958  -0.06511825] ACT: [-0.4146109  -0.27945984] \n",
      "STATE: [ 0.66390023  0.55529648 -0.13067277 -0.08909289] ACT: [-0.38180865 -0.32283457] \n",
      "STATE: [ 0.61746578  0.51130166 -0.13266986 -0.1256995 ] ACT: [-0.12082848 -0.48518087] \n",
      "STATE: [ 0.57650308  0.45510707 -0.11703628 -0.16055595] ACT: [ 0.07916711 -0.49263411] \n",
      "STATE: [ 0.54993502  0.39272952 -0.07590876 -0.17822159] ACT: [ 0.38225156 -0.32231001] \n",
      "STATE: [ 0.53269005  0.32114049 -0.04927134 -0.20454006] ACT: [ 0.24749608 -0.43444872] \n",
      "STATE: [ 0.51399698  0.23915588 -0.05340876 -0.23424175] ACT: [-0.08423832 -0.49285282] \n",
      "STATE: [ 0.48613187  0.15131149 -0.07961461 -0.25098398] ACT: [-0.33955193 -0.3670211 ] \n",
      "STATE: [ 0.44603039  0.06317811 -0.11457563 -0.25180966] ACT: [-0.45926555 -0.19767437] \n",
      "STATE: [ 0.39326834 -0.01838402 -0.15074871 -0.23303465] ACT: [-0.49933834  0.02571431] \n",
      "final state  [ 0.39326834 -0.01838402]\n",
      "STATE: [ 0.77847478  0.87313944 -0.03465794 -0.02669999] ACT: [-0.39609075 -0.30514278] \n",
      "STATE: [ 0.75517134  0.85485728 -0.06658126 -0.05223474] ACT: [-0.39083137 -0.31185067] \n",
      "STATE: [ 0.72146614  0.82817683 -0.09630058 -0.07622986] ACT: [-0.38958529 -0.31340597] \n",
      "STATE: [ 0.6781142   0.7935599  -0.12386268 -0.0989055 ] ACT: [-0.38722086 -0.31632262] \n",
      "STATE: [ 0.62572445  0.75155697 -0.14968501 -0.12000838] ACT: [-0.38800945 -0.31535482] \n",
      "STATE: [ 0.56402467  0.70382763 -0.17628507 -0.13636953] ACT: [-0.41626436 -0.27699094] \n",
      "STATE: [ 0.49178621  0.65457538 -0.20639562 -0.14072073] ACT: [-0.47633437 -0.15200515] \n",
      "STATE: [ 0.4098924   0.61377335 -0.23398231 -0.11657722] ACT: [-0.47007322  0.17038536] \n",
      "STATE: [ 0.32122088  0.58496571 -0.25334718 -0.08230754] ACT: [-0.39679956  0.30422049] \n",
      "STATE: [ 0.22309596  0.559155   -0.28035692 -0.07374489] ACT: [-0.49869304  0.03612826] \n",
      "STATE: [ 0.11777385  0.52807287 -0.30092032 -0.08880609] ACT: [-0.44527805 -0.2274367 ] \n",
      "STATE: [ 0.01488203  0.48438847 -0.29397662 -0.12481257] ACT: [-0.14633366 -0.47810716] \n",
      "STATE: [-0.08291635  0.42834847 -0.27942394 -0.16011426] ACT: [-0.05416609 -0.49705738] \n",
      "final state  [-0.08291635  0.42834847]\n",
      "STATE: [ 0.65426929  0.76907805 -0.03368367 -0.02791904] ACT: [-0.38495623 -0.31907476] \n",
      "STATE: [ 0.63146439  0.75017599 -0.06515685 -0.0540059 ] ACT: [-0.38495623 -0.31907476] \n",
      "STATE: [ 0.59740797  0.72403152 -0.09730406 -0.07469847] ACT: [-0.41626436 -0.27699094] \n",
      "STATE: [ 0.5516208   0.69332332 -0.1308205  -0.08773772] ACT: [-0.45602303 -0.20504388] \n",
      "STATE: [ 0.49381225  0.6675778  -0.16516726 -0.07355864] ACT: [-0.49064979  0.09624338] \n",
      "STATE: [ 0.42540141  0.64873988 -0.19545957 -0.05382263] ACT: [-0.47007322  0.17038536] \n",
      "STATE: [ 0.34733751  0.63700863 -0.22303971 -0.03351786] ACT: [-0.46179637  0.19168753] \n",
      "STATE: [ 0.2591712   0.62767857 -0.25190375 -0.02665732] ACT: [-0.49715445  0.05326778] \n",
      "STATE: [ 0.16233318  0.61391599 -0.27668004 -0.03932164] ACT: [-0.47208546 -0.16472801] \n",
      "STATE: [ 0.06071155  0.59054925 -0.2903475  -0.06676211] ACT: [-0.36370959 -0.34309669] \n",
      "STATE: [-0.0380015   0.55387236 -0.28203729 -0.10479114] ACT: [-0.12278677 -0.48468898] \n",
      "final state  [-0.0380015   0.55387236]\n",
      "STATE: [ 0.88414139  0.7926163  -0.03681532 -0.02363672] ACT: [-0.42074651 -0.27013399] \n",
      "STATE: [ 0.85921627  0.7766135  -0.07121463 -0.04572229] ACT: [-0.42074651 -0.27013399] \n",
      "STATE: [ 0.82305745  0.75336324 -0.10331092 -0.06642932] ACT: [-0.42022568 -0.2709435 ] \n",
      "STATE: [ 0.77639668  0.72334959 -0.13331646 -0.08575328] ACT: [-0.4204037  -0.27066719] \n",
      "STATE: [ 0.72005329  0.68681771 -0.16098113 -0.10437681] ACT: [-0.41615494 -0.27715531] \n",
      "STATE: [ 0.65481538  0.64397043 -0.18639402 -0.12242081] ACT: [-0.41116893 -0.28449975] \n",
      "STATE: [ 0.58100508  0.59561292 -0.21088657 -0.13816429] ACT: [-0.41971033 -0.27174113] \n",
      "STATE: [ 0.50080234  0.56083174 -0.2291507  -0.09937481] ACT: [-0.36689781  0.33968514] \n",
      "STATE: [ 0.41118016  0.53267932 -0.25606336 -0.08043549] ACT: [-0.47943636  0.1419182 ] \n",
      "STATE: [ 0.31642819  0.51701513 -0.27071991 -0.04475483] ACT: [-0.3595509   0.34745237] \n",
      "STATE: [ 0.21263489  0.50110519 -0.2965523  -0.04545696] ACT: [-0.49826723 -0.04159047] \n",
      "STATE: [ 0.10306631  0.47751882 -0.31305307 -0.06738962] ACT: [-0.41099447 -0.28475172] \n",
      "STATE: [-0.00401714  0.44090867 -0.30595271 -0.10460044] ACT: [-0.15364277 -0.47580868] \n",
      "final state  [-0.00401714  0.44090867]\n",
      "After 16 REWARD:  (0.6176575868159542, array([ 0.08959332,  0.32055732, -0.24180269, -0.1482336 ]), -0.19873669207788527)\n",
      "UPDATING THE ACTION MATRIX\n"
     ]
    },
    {
     "name": "stderr",
     "output_type": "stream",
     "text": [
      "100%|█████████████████████████████████████████████████████████████████████████████████████████████████████████████████████████| 25/25 [00:03<00:00,  6.85it/s]\n",
      "Generating Dynamics Dataset: 100%|██████████████████████████████████████████████████████████████████████████████████████████| 15/15 [00:00<00:00, 2339.35it/s]\n",
      "100%|████████████████████████████████████████████████████████████████████████████████████████████████████████████████████████| 74/74 [00:00<00:00, 204.49it/s]\n"
     ]
    },
    {
     "name": "stdout",
     "output_type": "stream",
     "text": [
      "Epoch 1, loss: 0.000, err: 0.013, val_loss: 0.000, val_err: 0.021\n"
     ]
    },
    {
     "name": "stderr",
     "output_type": "stream",
     "text": [
      "100%|████████████████████████████████████████████████████████████████████████████████████████████████████████████████████████| 74/74 [00:00<00:00, 204.15it/s]\n"
     ]
    },
    {
     "name": "stdout",
     "output_type": "stream",
     "text": [
      "Epoch 2, loss: 0.000, err: 0.013, val_loss: 0.000, val_err: 0.021\n"
     ]
    },
    {
     "name": "stderr",
     "output_type": "stream",
     "text": [
      "100%|████████████████████████████████████████████████████████████████████████████████████████████████████████████████████████| 74/74 [00:00<00:00, 205.65it/s]\n"
     ]
    },
    {
     "name": "stdout",
     "output_type": "stream",
     "text": [
      "Epoch 3, loss: 0.000, err: 0.013, val_loss: 0.000, val_err: 0.021\n"
     ]
    },
    {
     "name": "stderr",
     "output_type": "stream",
     "text": [
      "100%|████████████████████████████████████████████████████████████████████████████████████████████████████████████████████████| 74/74 [00:00<00:00, 205.93it/s]\n"
     ]
    },
    {
     "name": "stdout",
     "output_type": "stream",
     "text": [
      "Epoch 4, loss: 0.000, err: 0.013, val_loss: 0.000, val_err: 0.021\n"
     ]
    },
    {
     "name": "stderr",
     "output_type": "stream",
     "text": [
      "100%|████████████████████████████████████████████████████████████████████████████████████████████████████████████████████████| 74/74 [00:00<00:00, 207.56it/s]\n"
     ]
    },
    {
     "name": "stdout",
     "output_type": "stream",
     "text": [
      "Epoch 5, loss: 0.000, err: 0.013, val_loss: 0.000, val_err: 0.021\n"
     ]
    },
    {
     "name": "stderr",
     "output_type": "stream",
     "text": [
      "100%|████████████████████████████████████████████████████████████████████████████████████████████████████████████████████████| 74/74 [00:00<00:00, 205.61it/s]\n"
     ]
    },
    {
     "name": "stdout",
     "output_type": "stream",
     "text": [
      "Epoch 6, loss: 0.000, err: 0.013, val_loss: 0.000, val_err: 0.022\n"
     ]
    },
    {
     "name": "stderr",
     "output_type": "stream",
     "text": [
      "100%|████████████████████████████████████████████████████████████████████████████████████████████████████████████████████████| 74/74 [00:00<00:00, 204.54it/s]\n"
     ]
    },
    {
     "name": "stdout",
     "output_type": "stream",
     "text": [
      "Epoch 7, loss: 0.000, err: 0.013, val_loss: 0.000, val_err: 0.022\n"
     ]
    },
    {
     "name": "stderr",
     "output_type": "stream",
     "text": [
      "100%|████████████████████████████████████████████████████████████████████████████████████████████████████████████████████████| 74/74 [00:00<00:00, 205.26it/s]\n"
     ]
    },
    {
     "name": "stdout",
     "output_type": "stream",
     "text": [
      "Epoch 8, loss: 0.000, err: 0.013, val_loss: 0.000, val_err: 0.021\n"
     ]
    },
    {
     "name": "stderr",
     "output_type": "stream",
     "text": [
      "100%|████████████████████████████████████████████████████████████████████████████████████████████████████████████████████████| 74/74 [00:00<00:00, 198.87it/s]\n"
     ]
    },
    {
     "name": "stdout",
     "output_type": "stream",
     "text": [
      "Epoch 9, loss: 0.000, err: 0.013, val_loss: 0.000, val_err: 0.022\n"
     ]
    },
    {
     "name": "stderr",
     "output_type": "stream",
     "text": [
      "100%|████████████████████████████████████████████████████████████████████████████████████████████████████████████████████████| 74/74 [00:00<00:00, 201.89it/s]\n"
     ]
    },
    {
     "name": "stdout",
     "output_type": "stream",
     "text": [
      "Epoch 10, loss: 0.000, err: 0.013, val_loss: 0.000, val_err: 0.021\n"
     ]
    },
    {
     "name": "stderr",
     "output_type": "stream",
     "text": [
      "100%|████████████████████████████████████████████████████████████████████████████████████████████████████████████████████████| 74/74 [00:00<00:00, 204.08it/s]\n"
     ]
    },
    {
     "name": "stdout",
     "output_type": "stream",
     "text": [
      "Epoch 11, loss: 0.000, err: 0.013, val_loss: 0.001, val_err: 0.022\n"
     ]
    },
    {
     "name": "stderr",
     "output_type": "stream",
     "text": [
      "100%|████████████████████████████████████████████████████████████████████████████████████████████████████████████████████████| 74/74 [00:00<00:00, 207.40it/s]\n"
     ]
    },
    {
     "name": "stdout",
     "output_type": "stream",
     "text": [
      "Epoch 12, loss: 0.000, err: 0.013, val_loss: 0.000, val_err: 0.021\n"
     ]
    },
    {
     "name": "stderr",
     "output_type": "stream",
     "text": [
      "100%|████████████████████████████████████████████████████████████████████████████████████████████████████████████████████████| 74/74 [00:00<00:00, 206.96it/s]\n"
     ]
    },
    {
     "name": "stdout",
     "output_type": "stream",
     "text": [
      "Epoch 13, loss: 0.000, err: 0.013, val_loss: 0.000, val_err: 0.021\n"
     ]
    },
    {
     "name": "stderr",
     "output_type": "stream",
     "text": [
      "100%|████████████████████████████████████████████████████████████████████████████████████████████████████████████████████████| 74/74 [00:00<00:00, 206.25it/s]\n"
     ]
    },
    {
     "name": "stdout",
     "output_type": "stream",
     "text": [
      "Epoch 14, loss: 0.000, err: 0.013, val_loss: 0.000, val_err: 0.021\n"
     ]
    },
    {
     "name": "stderr",
     "output_type": "stream",
     "text": [
      "100%|████████████████████████████████████████████████████████████████████████████████████████████████████████████████████████| 74/74 [00:00<00:00, 205.05it/s]\n"
     ]
    },
    {
     "name": "stdout",
     "output_type": "stream",
     "text": [
      "Epoch 15, loss: 0.000, err: 0.013, val_loss: 0.000, val_err: 0.022\n"
     ]
    },
    {
     "name": "stderr",
     "output_type": "stream",
     "text": [
      "100%|████████████████████████████████████████████████████████████████████████████████████████████████████████████████████████| 74/74 [00:00<00:00, 206.40it/s]\n"
     ]
    },
    {
     "name": "stdout",
     "output_type": "stream",
     "text": [
      "Epoch 16, loss: 0.000, err: 0.013, val_loss: 0.000, val_err: 0.022\n"
     ]
    },
    {
     "name": "stderr",
     "output_type": "stream",
     "text": [
      "100%|████████████████████████████████████████████████████████████████████████████████████████████████████████████████████████| 74/74 [00:00<00:00, 208.12it/s]\n"
     ]
    },
    {
     "name": "stdout",
     "output_type": "stream",
     "text": [
      "Epoch 17, loss: 0.000, err: 0.013, val_loss: 0.000, val_err: 0.022\n"
     ]
    },
    {
     "name": "stderr",
     "output_type": "stream",
     "text": [
      "100%|████████████████████████████████████████████████████████████████████████████████████████████████████████████████████████| 74/74 [00:00<00:00, 208.35it/s]\n"
     ]
    },
    {
     "name": "stdout",
     "output_type": "stream",
     "text": [
      "Epoch 18, loss: 0.000, err: 0.013, val_loss: 0.000, val_err: 0.022\n"
     ]
    },
    {
     "name": "stderr",
     "output_type": "stream",
     "text": [
      "100%|████████████████████████████████████████████████████████████████████████████████████████████████████████████████████████| 74/74 [00:00<00:00, 206.76it/s]\n"
     ]
    },
    {
     "name": "stdout",
     "output_type": "stream",
     "text": [
      "Epoch 19, loss: 0.000, err: 0.013, val_loss: 0.000, val_err: 0.022\n"
     ]
    },
    {
     "name": "stderr",
     "output_type": "stream",
     "text": [
      "100%|████████████████████████████████████████████████████████████████████████████████████████████████████████████████████████| 74/74 [00:00<00:00, 208.06it/s]\n"
     ]
    },
    {
     "name": "stdout",
     "output_type": "stream",
     "text": [
      "Epoch 20, loss: 0.000, err: 0.013, val_loss: 0.000, val_err: 0.021\n"
     ]
    },
    {
     "name": "stderr",
     "output_type": "stream",
     "text": [
      "100%|████████████████████████████████████████████████████████████████████████████████████████████████████████████████████████| 74/74 [00:00<00:00, 205.94it/s]\n"
     ]
    },
    {
     "name": "stdout",
     "output_type": "stream",
     "text": [
      "Epoch 21, loss: 0.000, err: 0.013, val_loss: 0.000, val_err: 0.022\n"
     ]
    },
    {
     "name": "stderr",
     "output_type": "stream",
     "text": [
      "100%|████████████████████████████████████████████████████████████████████████████████████████████████████████████████████████| 74/74 [00:00<00:00, 203.59it/s]\n"
     ]
    },
    {
     "name": "stdout",
     "output_type": "stream",
     "text": [
      "Epoch 22, loss: 0.000, err: 0.013, val_loss: 0.000, val_err: 0.022\n"
     ]
    },
    {
     "name": "stderr",
     "output_type": "stream",
     "text": [
      "100%|████████████████████████████████████████████████████████████████████████████████████████████████████████████████████████| 74/74 [00:00<00:00, 200.14it/s]\n"
     ]
    },
    {
     "name": "stdout",
     "output_type": "stream",
     "text": [
      "Epoch 23, loss: 0.000, err: 0.013, val_loss: 0.000, val_err: 0.020\n"
     ]
    },
    {
     "name": "stderr",
     "output_type": "stream",
     "text": [
      "100%|████████████████████████████████████████████████████████████████████████████████████████████████████████████████████████| 74/74 [00:00<00:00, 204.42it/s]\n"
     ]
    },
    {
     "name": "stdout",
     "output_type": "stream",
     "text": [
      "Epoch 24, loss: 0.000, err: 0.013, val_loss: 0.000, val_err: 0.021\n"
     ]
    },
    {
     "name": "stderr",
     "output_type": "stream",
     "text": [
      "100%|████████████████████████████████████████████████████████████████████████████████████████████████████████████████████████| 74/74 [00:00<00:00, 201.57it/s]\n"
     ]
    },
    {
     "name": "stdout",
     "output_type": "stream",
     "text": [
      "Epoch 25, loss: 0.000, err: 0.013, val_loss: 0.000, val_err: 0.021\n"
     ]
    },
    {
     "name": "stderr",
     "output_type": "stream",
     "text": [
      "100%|████████████████████████████████████████████████████████████████████████████████████████████████████████████████████████| 74/74 [00:00<00:00, 204.25it/s]\n"
     ]
    },
    {
     "name": "stdout",
     "output_type": "stream",
     "text": [
      "Epoch 26, loss: 0.000, err: 0.013, val_loss: 0.000, val_err: 0.022\n"
     ]
    },
    {
     "name": "stderr",
     "output_type": "stream",
     "text": [
      "100%|████████████████████████████████████████████████████████████████████████████████████████████████████████████████████████| 74/74 [00:00<00:00, 204.43it/s]\n"
     ]
    },
    {
     "name": "stdout",
     "output_type": "stream",
     "text": [
      "Epoch 27, loss: 0.000, err: 0.013, val_loss: 0.000, val_err: 0.021\n"
     ]
    },
    {
     "name": "stderr",
     "output_type": "stream",
     "text": [
      "100%|████████████████████████████████████████████████████████████████████████████████████████████████████████████████████████| 74/74 [00:00<00:00, 206.92it/s]\n"
     ]
    },
    {
     "name": "stdout",
     "output_type": "stream",
     "text": [
      "Epoch 28, loss: 0.000, err: 0.013, val_loss: 0.000, val_err: 0.021\n"
     ]
    },
    {
     "name": "stderr",
     "output_type": "stream",
     "text": [
      "100%|████████████████████████████████████████████████████████████████████████████████████████████████████████████████████████| 74/74 [00:00<00:00, 207.73it/s]\n"
     ]
    },
    {
     "name": "stdout",
     "output_type": "stream",
     "text": [
      "Epoch 29, loss: 0.000, err: 0.013, val_loss: 0.000, val_err: 0.021\n"
     ]
    },
    {
     "name": "stderr",
     "output_type": "stream",
     "text": [
      "100%|████████████████████████████████████████████████████████████████████████████████████████████████████████████████████████| 74/74 [00:00<00:00, 206.17it/s]\n"
     ]
    },
    {
     "name": "stdout",
     "output_type": "stream",
     "text": [
      "Epoch 30, loss: 0.000, err: 0.013, val_loss: 0.000, val_err: 0.022\n"
     ]
    },
    {
     "name": "stderr",
     "output_type": "stream",
     "text": [
      "100%|████████████████████████████████████████████████████████████████████████████████████████████████████████████████████████| 74/74 [00:00<00:00, 208.18it/s]\n"
     ]
    },
    {
     "name": "stdout",
     "output_type": "stream",
     "text": [
      "Epoch 31, loss: 0.000, err: 0.013, val_loss: 0.000, val_err: 0.022\n"
     ]
    },
    {
     "name": "stderr",
     "output_type": "stream",
     "text": [
      "100%|████████████████████████████████████████████████████████████████████████████████████████████████████████████████████████| 74/74 [00:00<00:00, 207.57it/s]\n"
     ]
    },
    {
     "name": "stdout",
     "output_type": "stream",
     "text": [
      "Epoch 32, loss: 0.000, err: 0.013, val_loss: 0.000, val_err: 0.021\n"
     ]
    },
    {
     "name": "stderr",
     "output_type": "stream",
     "text": [
      "100%|████████████████████████████████████████████████████████████████████████████████████████████████████████████████████████| 74/74 [00:00<00:00, 204.93it/s]\n"
     ]
    },
    {
     "name": "stdout",
     "output_type": "stream",
     "text": [
      "Epoch 33, loss: 0.000, err: 0.013, val_loss: 0.000, val_err: 0.022\n"
     ]
    },
    {
     "name": "stderr",
     "output_type": "stream",
     "text": [
      "100%|████████████████████████████████████████████████████████████████████████████████████████████████████████████████████████| 74/74 [00:00<00:00, 205.72it/s]\n"
     ]
    },
    {
     "name": "stdout",
     "output_type": "stream",
     "text": [
      "Epoch 34, loss: 0.000, err: 0.013, val_loss: 0.000, val_err: 0.021\n"
     ]
    },
    {
     "name": "stderr",
     "output_type": "stream",
     "text": [
      "100%|████████████████████████████████████████████████████████████████████████████████████████████████████████████████████████| 74/74 [00:00<00:00, 204.84it/s]\n"
     ]
    },
    {
     "name": "stdout",
     "output_type": "stream",
     "text": [
      "Epoch 35, loss: 0.000, err: 0.013, val_loss: 0.000, val_err: 0.021\n"
     ]
    },
    {
     "name": "stderr",
     "output_type": "stream",
     "text": [
      "100%|████████████████████████████████████████████████████████████████████████████████████████████████████████████████████████| 74/74 [00:00<00:00, 206.07it/s]\n"
     ]
    },
    {
     "name": "stdout",
     "output_type": "stream",
     "text": [
      "Epoch 36, loss: 0.000, err: 0.013, val_loss: 0.000, val_err: 0.020\n"
     ]
    },
    {
     "name": "stderr",
     "output_type": "stream",
     "text": [
      "100%|████████████████████████████████████████████████████████████████████████████████████████████████████████████████████████| 74/74 [00:00<00:00, 207.65it/s]\n"
     ]
    },
    {
     "name": "stdout",
     "output_type": "stream",
     "text": [
      "Epoch 37, loss: 0.000, err: 0.012, val_loss: 0.000, val_err: 0.021\n"
     ]
    },
    {
     "name": "stderr",
     "output_type": "stream",
     "text": [
      "100%|████████████████████████████████████████████████████████████████████████████████████████████████████████████████████████| 74/74 [00:00<00:00, 205.61it/s]\n"
     ]
    },
    {
     "name": "stdout",
     "output_type": "stream",
     "text": [
      "Epoch 38, loss: 0.000, err: 0.013, val_loss: 0.000, val_err: 0.021\n"
     ]
    },
    {
     "name": "stderr",
     "output_type": "stream",
     "text": [
      "100%|████████████████████████████████████████████████████████████████████████████████████████████████████████████████████████| 74/74 [00:00<00:00, 157.03it/s]\n"
     ]
    },
    {
     "name": "stdout",
     "output_type": "stream",
     "text": [
      "Epoch 39, loss: 0.000, err: 0.013, val_loss: 0.000, val_err: 0.020\n"
     ]
    },
    {
     "name": "stderr",
     "output_type": "stream",
     "text": [
      "100%|████████████████████████████████████████████████████████████████████████████████████████████████████████████████████████| 10/10 [00:00<00:00, 591.57it/s]\n"
     ]
    },
    {
     "name": "stdout",
     "output_type": "stream",
     "text": [
      "STATE: [ 0.63609572  0.62437185 -0.0328303  -0.02891771] ACT: [-0.37520339 -0.33048814] \n",
      "STATE: [ 0.61218524  0.61055923 -0.06831567 -0.03946462] ACT: [-0.43016989 -0.14222434] \n",
      "STATE: [ 0.5749598   0.60124985 -0.1063584  -0.02659823] ACT: [-0.48601075  0.11744594] \n",
      "STATE: [ 0.53148905  0.60516042 -0.12420214  0.01117304] ACT: [-0.28369726  0.41172305] \n",
      "STATE: [ 0.47847379  0.61780213 -0.15147216  0.03611919] ACT: [-0.40480901  0.29347856] \n",
      "STATE: [ 0.41507467  0.63611732 -0.18114036  0.05232909] ACT: [-0.45266921  0.21234545] \n",
      "STATE: [ 0.34172671  0.65918015 -0.20956559  0.0658938 ] ACT: [-0.46071504  0.1942721 ] \n",
      "STATE: [ 0.25830447  0.68431104 -0.23834927  0.07180255] ACT: [-0.48613059  0.11694891] \n",
      "STATE: [ 0.16608337  0.70224819 -0.26348884  0.05124901] ACT: [-0.46607128 -0.18104574] \n",
      "STATE: [ 0.07488347  0.70454573 -0.26057114  0.0065644 ] ACT: [-0.16427152 -0.4722445 ] \n",
      "STATE: [-0.01353718  0.69171933 -0.25263045 -0.03664688] ACT: [-0.10467758 -0.48891983] \n",
      "final state  [-0.01353718  0.69171933]\n",
      "STATE: [ 0.80449848  0.69323247 -0.03734325 -0.02279351] ACT: [-0.42678001 -0.26049726] \n",
      "STATE: [ 0.77923204  0.67777423 -0.07218984 -0.04416641] ACT: [-0.42625418 -0.2613568 ] \n",
      "STATE: [ 0.7427212   0.65508435 -0.1043167  -0.06482822] ACT: [-0.42130645 -0.26925987] \n",
      "STATE: [ 0.69580661  0.62547881 -0.13404167 -0.08458725] ACT: [-0.4179515 -0.2744386] \n",
      "STATE: [ 0.64096391  0.5871709  -0.15669345 -0.10945116] ACT: [-0.35940871 -0.34759945] \n",
      "STATE: [ 0.58672223  0.53685926 -0.15497623 -0.14374755] ACT: [-0.09789472 -0.47404708] \n",
      "STATE: [ 0.54268694  0.47605465 -0.12581511 -0.17372746] ACT: [ 0.21703776 -0.45043824] \n",
      "STATE: [ 0.50782813  0.40848535 -0.0995966  -0.19305515] ACT: [ 0.20527871 -0.35118346] \n",
      "STATE: [ 0.4846419   0.3332509  -0.06624635 -0.21495555] ACT: [ 0.30644826 -0.39508159] \n",
      "STATE: [ 0.46253207  0.2476477  -0.06317094 -0.24458059] ACT: [-0.01453714 -0.49978863] \n",
      "STATE: [ 0.43086255  0.15702085 -0.09048435 -0.25893383] ACT: [-0.35953148 -0.34747247] \n",
      "STATE: [ 0.38651675  0.06824571 -0.12670229 -0.25364328] ACT: [-0.48178257 -0.13373687] \n",
      "STATE: [ 0.32995385 -0.0123292  -0.16160829 -0.23021402] ACT: [-0.49395246  0.07753045] \n",
      "final state  [ 0.32995385 -0.0123292 ]\n",
      "STATE: [ 0.81042721  0.596511   -0.03902678 -0.01977304] ACT: [-0.44602034 -0.22597755] \n",
      "STATE: [ 0.7841408   0.58286202 -0.07510402 -0.03899709] ACT: [-0.44158142 -0.23453325] \n",
      "STATE: [ 0.74787521  0.56023537 -0.10361598 -0.06464756] ACT: [-0.38217896 -0.3223961 ] \n",
      "STATE: [ 0.70259231  0.52886736 -0.12937969 -0.08962288] ACT: [-0.3721544  -0.33391781] \n",
      "STATE: [ 0.65377239  0.48569753 -0.1394855  -0.12334236] ACT: [-0.21252968 -0.45258274] \n",
      "STATE: [ 0.61347004  0.43099979 -0.11514956 -0.15627927] ACT: [ 0.17351082 -0.46892856] \n",
      "STATE: [ 0.58017332  0.36521316 -0.09513349 -0.18796181] ACT: [ 0.14239292 -0.47929558] \n",
      "STATE: [ 0.55570872  0.28994922 -0.06989885 -0.21503982] ACT: [ 0.21704576 -0.45043439] \n",
      "STATE: [ 0.52846872  0.20495204 -0.07782857 -0.24284909] ACT: [-0.14304946 -0.47910004] \n",
      "STATE: [ 0.49087487  0.11620236 -0.10741101 -0.25357052] ACT: [-0.3964565  -0.30466743] \n",
      "STATE: [ 0.44060406  0.03101185 -0.14363088 -0.24340146] ACT: [-0.49449965 -0.07396013] \n",
      "STATE: [ 0.37877884 -0.04486674 -0.1766435  -0.21679595] ACT: [-0.48501016  0.12151193] \n",
      "final state  [ 0.37877884 -0.04486674]\n",
      "STATE: [ 0.73075715  0.85079276 -0.03348763 -0.02815388] ACT: [-0.38271579 -0.32175865] \n",
      "STATE: [ 0.70808497  0.8317317  -0.06477764 -0.05446016] ACT: [-0.38271579 -0.32175865] \n",
      "STATE: [ 0.67517278  0.80407625 -0.09403482 -0.07901559] ACT: [-0.38295109 -0.32147855] \n",
      "STATE: [ 0.63280187  0.76826166 -0.12105974 -0.1023274 ] ACT: [-0.37938233 -0.32568243] \n",
      "STATE: [ 0.58166038  0.72474538 -0.14611855 -0.12433222] ACT: [-0.37718113 -0.32822918] \n",
      "STATE: [ 0.51865351  0.68241835 -0.18001964 -0.12093438] ACT: [-0.49703001 -0.05441665] \n",
      "STATE: [ 0.44453149  0.64425142 -0.2117772  -0.10904836] ACT: [-0.49795827  0.04513936] \n",
      "STATE: [ 0.36062109  0.61303586 -0.239744   -0.0891873 ] ACT: [-0.4784535   0.14519728] \n",
      "STATE: [ 0.26744238  0.58789056 -0.26622487 -0.07184373] ACT: [-0.48244645  0.13132183] \n",
      "STATE: [ 0.16541957  0.56112401 -0.29149375 -0.07647586] ACT: [-0.48845591 -0.10682145] \n",
      "STATE: [ 0.0587233   0.52585607 -0.30484647 -0.10076553] ACT: [-0.3712228  -0.33495318] \n",
      "STATE: [-0.04239091  0.47765607 -0.28889775 -0.1377143 ] ACT: [-0.04636378 -0.49784576] \n",
      "final state  [-0.04239091  0.47765607]\n",
      "STATE: [ 0.6886736   0.62594302 -0.03144826 -0.03041495] ACT: [-0.35940871 -0.34759945] \n",
      "STATE: [ 0.66738214  0.60535115 -0.06083273 -0.05883392] ACT: [-0.35940871 -0.34759945] \n",
      "STATE: [ 0.63841839  0.57377303 -0.08275357 -0.09022319] ACT: [-0.2961484  -0.40285993] \n",
      "STATE: [ 0.61277173  0.53114147 -0.07327619 -0.12180447] ACT: [ 0.04624773 -0.4285963 ] \n",
      "STATE: [ 0.5954549   0.47751293 -0.04947664 -0.1532244 ] ACT: [ 0.21703776 -0.45043824] \n",
      "STATE: [ 0.57856323  0.41210779 -0.04826194 -0.18687182] ACT: [-0.02322518 -0.4994603 ] \n",
      "STATE: [ 0.5717824   0.33860815 -0.0193738  -0.20999897] ACT: [ 0.29395371 -0.40446411] \n",
      "STATE: [ 0.56825889  0.2548799  -0.01006718 -0.23922358] ACT: [ 0.09183101 -0.49149473] \n",
      "STATE: [ 0.55895693  0.1625624  -0.026577   -0.26376427] ACT: [-0.19623411 -0.45988278] \n",
      "STATE: [ 0.53761849  0.06767029 -0.06096697 -0.27112031] ACT: [-0.41296096 -0.28189226] \n",
      "STATE: [ 0.50237607 -0.02049415 -0.10069265 -0.2518984 ] ACT: [-0.49973297  0.01633874] \n",
      "final state  [ 0.50237607 -0.02049415]\n",
      "STATE: [ 0.83841027  0.76557119 -0.03682597 -0.02362013] ACT: [-0.42086824 -0.2699443 ] \n",
      "STATE: [ 0.8136395   0.74933299 -0.07077363 -0.04639485] ACT: [-0.41559271 -0.27799766] \n",
      "STATE: [ 0.77779069  0.72561112 -0.10242518 -0.06777677] ACT: [-0.41481219 -0.27916096] \n",
      "STATE: [ 0.73156004  0.69494261 -0.13208754 -0.0876243 ] ACT: [-0.41581737 -0.27766151] \n",
      "STATE: [ 0.67563378  0.65777602 -0.15978933 -0.10619027] ACT: [-0.41565752 -0.27790074] \n",
      "STATE: [ 0.6111371   0.61384842 -0.18427621 -0.12550743] ACT: [-0.39969205 -0.30041016] \n",
      "STATE: [ 0.53598894  0.57640035 -0.21470903 -0.10699448] ACT: [-0.48601075  0.11744594] \n",
      "STATE: [ 0.46282556  0.55643609 -0.20903823 -0.05704076] ACT: [-0.09622271  0.49065384] \n",
      "STATE: [ 0.3882749   0.55178817 -0.2130019  -0.01327975] ACT: [-0.20207766  0.45734518] \n",
      "STATE: [ 0.30640754  0.55668707 -0.23390675  0.01399687] ACT: [-0.3986641   0.30177299] \n",
      "STATE: [ 0.2147776   0.56358846 -0.26179982  0.01971825] ACT: [-0.49420793  0.0758849 ] \n",
      "STATE: [ 1.15314960e-01  5.63497588e-01 -2.84178970e-01 -2.59642622e-04] ACT: [-0.4521116  -0.21353009] \n",
      "STATE: [ 0.018776    0.54853024 -0.27582561 -0.04276386] ACT: [-0.11766726 -0.48595722] \n",
      "STATE: [-0.07203544  0.51924469 -0.25946124 -0.083673  ] ACT: [-0.0198478  -0.49960591] \n",
      "final state  [-0.07203544  0.51924469]\n",
      "STATE: [ 0.62642496  0.69424825 -0.03828193 -0.01915684] ACT: [-0.43750776 -0.21893535] \n",
      "STATE: [ 0.60006794  0.68142649 -0.07530578 -0.03663358] ACT: [-0.45184118 -0.21410172] \n",
      "STATE: [ 0.56019568  0.66800912 -0.11392075 -0.03833534] ACT: [-0.49779327 -0.04692396] \n",
      "STATE: [ 0.5084996   0.66056606 -0.14770306 -0.02126589] ACT: [-0.47152414  0.16632794] \n",
      "STATE: [ 0.44552262  0.6579889  -0.17993423 -0.0073633 ] ACT: [-0.47913351  0.14293731] \n",
      "STATE: [ 0.37202587  0.66002754 -0.20999073  0.00582468] ACT: [-0.4784535   0.14519728] \n",
      "STATE: [ 0.28810803  0.66337592 -0.23976525  0.00956681] ACT: [-0.49777327  0.04713571] \n",
      "STATE: [ 1.94727083e-01  6.63285056e-01 -2.66802704e-01 -2.59619930e-04] ACT: [-0.48882342 -0.1051269 ] \n",
      "STATE: [ 0.0966126   0.65240678 -0.28032711 -0.03108079] ACT: [-0.35466662 -0.35243664] \n",
      "STATE: [ 0.00158066  0.62730223 -0.2715198  -0.0717273 ] ACT: [-0.10959045 -0.48784212] \n",
      "STATE: [-0.08872858  0.58860767 -0.2580264  -0.11055588] ACT: [-0.04942957 -0.49755072] \n",
      "final state  [-0.08872858  0.58860767]\n",
      "STATE: [ 0.81483053  0.76046581 -0.03636436 -0.02432479] ACT: [-0.41559271 -0.27799766] \n",
      "STATE: [ 0.79021072  0.74399716 -0.07034231 -0.04705327] ACT: [-0.41559271 -0.27799766] \n",
      "STATE: [ 0.75450296  0.72005997 -0.10202217 -0.06839199] ACT: [-0.41481219 -0.27916096] \n",
      "STATE: [ 0.70858541  0.68892484 -0.13119301 -0.08895749] ACT: [-0.40989765 -0.28632834] \n",
      "STATE: [ 0.65314488  0.65104016 -0.15840152 -0.10824195] ACT: [-0.40934918 -0.28711191] \n",
      "STATE: [ 0.58824524  0.6078728  -0.18542756 -0.12333532] ACT: [-0.42767014 -0.25367713] \n",
      "STATE: [ 0.51272055  0.57113508 -0.21578481 -0.10496492] ACT: [-0.48601075  0.11744594] \n",
      "STATE: [ 0.43592321  0.55079657 -0.21942098 -0.05811002] ACT: [-0.20339481  0.45676093] \n",
      "STATE: [ 0.35514579  0.5441667  -0.23079262 -0.01894247] ACT: [-0.29452738  0.40404656] \n",
      "STATE: [ 0.26483475  0.54176745 -0.25803156 -0.00685502] ACT: [-0.48439654  0.12393544] \n",
      "STATE: [ 0.16581118  0.53503488 -0.28292447 -0.01923591] ACT: [-0.47801416 -0.14663717] \n",
      "STATE: [ 0.06192451  0.51847824 -0.29681905 -0.04730467] ACT: [-0.37098846 -0.33521271] \n",
      "STATE: [-0.03656448  0.48776161 -0.28139713 -0.0877618 ] ACT: [-0.04636378 -0.49784576] \n",
      "final state  [-0.03656448  0.48776161]\n",
      "STATE: [ 0.70997968  0.88631837 -0.03232126 -0.02948556] ACT: [-0.36938588 -0.33697785] \n",
      "STATE: [ 0.68809717  0.86635572 -0.06252145 -0.05703613] ACT: [-0.36938588 -0.33697785] \n",
      "STATE: [ 0.65642339  0.83729063 -0.09049651 -0.08304313] ACT: [-0.36660613 -0.33999992] \n",
      "STATE: [ 0.61559908  0.79972239 -0.11664089 -0.10733783] ACT: [-0.36666531 -0.3399361 ] \n",
      "STATE: [ 0.56631402  0.75411353 -0.14081446 -0.130311  ] ACT: [-0.36374995 -0.3430539 ] \n",
      "STATE: [ 0.50592026  0.70663305 -0.1725536  -0.13565852] ACT: [-0.46834388 -0.15884772] \n",
      "STATE: [ 0.43422706  0.66103558 -0.20483773 -0.13027848] ACT: [-0.49837668 -0.04025777] \n",
      "STATE: [ 0.35286333  0.62370499 -0.2324678  -0.10665885] ACT: [-0.46940056  0.17222983] \n",
      "STATE: [ 0.26165061  0.59076906 -0.26060778 -0.09410265] ACT: [-0.49595068  0.06350526] \n",
      "STATE: [ 0.16146475  0.55672314 -0.28624529 -0.09727404] ACT: [-0.48845591 -0.10682145] \n",
      "STATE: [ 0.05649208  0.5146456  -0.29992193 -0.12022155] ACT: [-0.37098846 -0.33521271] \n",
      "STATE: [-0.04301166  0.46008287 -0.28429639 -0.15589351] ACT: [-0.04636378 -0.49784576] \n",
      "final state  [-0.04301166  0.46008287]\n",
      "STATE: [ 0.86654793  0.75711275 -0.03725877 -0.02293134] ACT: [-0.42581453 -0.26207249] \n",
      "STATE: [ 0.84134092  0.74155778 -0.07202002 -0.04444277] ACT: [-0.42521544 -0.2630434 ] \n",
      "STATE: [ 0.80490276  0.71875076 -0.10410904 -0.06516291] ACT: [-0.42074671 -0.27013368] \n",
      "STATE: [ 0.75797628  0.68915859 -0.13407566 -0.08454906] ACT: [-0.42055747 -0.27042821] \n",
      "STATE: [ 0.70122684  0.65326232 -0.16214126 -0.10256077] ACT: [-0.42130645 -0.26925987] \n",
      "STATE: [ 0.63570707  0.61086963 -0.18719933 -0.12112198] ACT: [-0.40798389 -0.28904869] \n",
      "STATE: [ 0.57148901  0.55674126 -0.18348016 -0.15465247] ACT: [-0.09789472 -0.47404708] \n",
      "STATE: [ 0.52103237  0.49419321 -0.14416185 -0.17870873] ACT: [ 0.31174204 -0.39091802] \n",
      "STATE: [ 0.48908331  0.43763215 -0.09128303 -0.16160303] ACT: [0.49620802 0.06146219] \n",
      "STATE: [ 0.47014661  0.37404419 -0.05410485 -0.18167988] ACT: [ 0.35643111 -0.35065206] \n",
      "STATE: [ 0.44852079  0.29983009 -0.06178806 -0.21204027] ACT: [-0.12838675 -0.48323581] \n",
      "STATE: [ 0.41929727  0.21811018 -0.08349577 -0.23348547] ACT: [-0.29442911 -0.40411818] \n",
      "STATE: [ 0.37936606  0.13308885 -0.11408918 -0.24291807] ACT: [-0.41226078 -0.28291528] \n",
      "STATE: [ 0.32707822  0.05045977 -0.14939382 -0.23608311] ACT: [-0.48904853 -0.10407465] \n",
      "STATE: [ 0.26314001 -0.02409857 -0.18268061 -0.21302383] ACT: [-0.49246579  0.08647224] \n",
      "final state  [ 0.26314001 -0.02409857]\n",
      "After 17 REWARD:  (0.5912711237640593, array([ 0.11779805,  0.31232836, -0.22463344, -0.15241776]), -0.20416104133151228)\n",
      "UPDATING THE ACTION MATRIX\n"
     ]
    },
    {
     "name": "stderr",
     "output_type": "stream",
     "text": [
      "100%|█████████████████████████████████████████████████████████████████████████████████████████████████████████████████████████| 25/25 [00:03<00:00,  6.92it/s]\n",
      "Generating Dynamics Dataset: 100%|██████████████████████████████████████████████████████████████████████████████████████████| 15/15 [00:00<00:00, 2300.18it/s]\n",
      "100%|████████████████████████████████████████████████████████████████████████████████████████████████████████████████████████| 77/77 [00:00<00:00, 201.44it/s]\n"
     ]
    },
    {
     "name": "stdout",
     "output_type": "stream",
     "text": [
      "Epoch 1, loss: 0.000, err: 0.013, val_loss: 0.000, val_err: 0.021\n"
     ]
    },
    {
     "name": "stderr",
     "output_type": "stream",
     "text": [
      "100%|████████████████████████████████████████████████████████████████████████████████████████████████████████████████████████| 77/77 [00:00<00:00, 204.57it/s]\n"
     ]
    },
    {
     "name": "stdout",
     "output_type": "stream",
     "text": [
      "Epoch 2, loss: 0.000, err: 0.013, val_loss: 0.000, val_err: 0.021\n"
     ]
    },
    {
     "name": "stderr",
     "output_type": "stream",
     "text": [
      "100%|████████████████████████████████████████████████████████████████████████████████████████████████████████████████████████| 77/77 [00:00<00:00, 207.58it/s]\n"
     ]
    },
    {
     "name": "stdout",
     "output_type": "stream",
     "text": [
      "Epoch 3, loss: 0.000, err: 0.013, val_loss: 0.000, val_err: 0.022\n"
     ]
    },
    {
     "name": "stderr",
     "output_type": "stream",
     "text": [
      "100%|████████████████████████████████████████████████████████████████████████████████████████████████████████████████████████| 77/77 [00:00<00:00, 205.73it/s]\n"
     ]
    },
    {
     "name": "stdout",
     "output_type": "stream",
     "text": [
      "Epoch 4, loss: 0.000, err: 0.013, val_loss: 0.000, val_err: 0.021\n"
     ]
    },
    {
     "name": "stderr",
     "output_type": "stream",
     "text": [
      "100%|████████████████████████████████████████████████████████████████████████████████████████████████████████████████████████| 77/77 [00:00<00:00, 206.01it/s]\n"
     ]
    },
    {
     "name": "stdout",
     "output_type": "stream",
     "text": [
      "Epoch 5, loss: 0.000, err: 0.013, val_loss: 0.000, val_err: 0.021\n"
     ]
    },
    {
     "name": "stderr",
     "output_type": "stream",
     "text": [
      "100%|████████████████████████████████████████████████████████████████████████████████████████████████████████████████████████| 77/77 [00:00<00:00, 206.31it/s]\n"
     ]
    },
    {
     "name": "stdout",
     "output_type": "stream",
     "text": [
      "Epoch 6, loss: 0.000, err: 0.013, val_loss: 0.000, val_err: 0.021\n"
     ]
    },
    {
     "name": "stderr",
     "output_type": "stream",
     "text": [
      "100%|████████████████████████████████████████████████████████████████████████████████████████████████████████████████████████| 77/77 [00:00<00:00, 205.92it/s]\n"
     ]
    },
    {
     "name": "stdout",
     "output_type": "stream",
     "text": [
      "Epoch 7, loss: 0.000, err: 0.013, val_loss: 0.000, val_err: 0.021\n"
     ]
    },
    {
     "name": "stderr",
     "output_type": "stream",
     "text": [
      "100%|████████████████████████████████████████████████████████████████████████████████████████████████████████████████████████| 77/77 [00:00<00:00, 206.52it/s]\n"
     ]
    },
    {
     "name": "stdout",
     "output_type": "stream",
     "text": [
      "Epoch 8, loss: 0.000, err: 0.013, val_loss: 0.000, val_err: 0.021\n"
     ]
    },
    {
     "name": "stderr",
     "output_type": "stream",
     "text": [
      "100%|████████████████████████████████████████████████████████████████████████████████████████████████████████████████████████| 77/77 [00:00<00:00, 206.38it/s]\n"
     ]
    },
    {
     "name": "stdout",
     "output_type": "stream",
     "text": [
      "Epoch 9, loss: 0.000, err: 0.013, val_loss: 0.000, val_err: 0.022\n"
     ]
    },
    {
     "name": "stderr",
     "output_type": "stream",
     "text": [
      "100%|████████████████████████████████████████████████████████████████████████████████████████████████████████████████████████| 77/77 [00:00<00:00, 206.56it/s]\n"
     ]
    },
    {
     "name": "stdout",
     "output_type": "stream",
     "text": [
      "Epoch 10, loss: 0.000, err: 0.013, val_loss: 0.000, val_err: 0.021\n"
     ]
    },
    {
     "name": "stderr",
     "output_type": "stream",
     "text": [
      "100%|████████████████████████████████████████████████████████████████████████████████████████████████████████████████████████| 77/77 [00:00<00:00, 206.36it/s]\n"
     ]
    },
    {
     "name": "stdout",
     "output_type": "stream",
     "text": [
      "Epoch 11, loss: 0.000, err: 0.013, val_loss: 0.000, val_err: 0.020\n"
     ]
    },
    {
     "name": "stderr",
     "output_type": "stream",
     "text": [
      "100%|████████████████████████████████████████████████████████████████████████████████████████████████████████████████████████| 77/77 [00:00<00:00, 205.08it/s]\n"
     ]
    },
    {
     "name": "stdout",
     "output_type": "stream",
     "text": [
      "Epoch 12, loss: 0.000, err: 0.012, val_loss: 0.000, val_err: 0.021\n"
     ]
    },
    {
     "name": "stderr",
     "output_type": "stream",
     "text": [
      "100%|████████████████████████████████████████████████████████████████████████████████████████████████████████████████████████| 77/77 [00:00<00:00, 206.98it/s]\n"
     ]
    },
    {
     "name": "stdout",
     "output_type": "stream",
     "text": [
      "Epoch 13, loss: 0.000, err: 0.013, val_loss: 0.000, val_err: 0.020\n"
     ]
    },
    {
     "name": "stderr",
     "output_type": "stream",
     "text": [
      "100%|████████████████████████████████████████████████████████████████████████████████████████████████████████████████████████| 77/77 [00:00<00:00, 202.99it/s]\n"
     ]
    },
    {
     "name": "stdout",
     "output_type": "stream",
     "text": [
      "Epoch 14, loss: 0.000, err: 0.012, val_loss: 0.000, val_err: 0.022\n"
     ]
    },
    {
     "name": "stderr",
     "output_type": "stream",
     "text": [
      "100%|████████████████████████████████████████████████████████████████████████████████████████████████████████████████████████| 77/77 [00:00<00:00, 206.51it/s]\n"
     ]
    },
    {
     "name": "stdout",
     "output_type": "stream",
     "text": [
      "Epoch 15, loss: 0.000, err: 0.012, val_loss: 0.000, val_err: 0.021\n"
     ]
    },
    {
     "name": "stderr",
     "output_type": "stream",
     "text": [
      "100%|████████████████████████████████████████████████████████████████████████████████████████████████████████████████████████| 77/77 [00:00<00:00, 199.15it/s]\n"
     ]
    },
    {
     "name": "stdout",
     "output_type": "stream",
     "text": [
      "Epoch 16, loss: 0.000, err: 0.012, val_loss: 0.000, val_err: 0.021\n"
     ]
    },
    {
     "name": "stderr",
     "output_type": "stream",
     "text": [
      "100%|████████████████████████████████████████████████████████████████████████████████████████████████████████████████████████| 77/77 [00:00<00:00, 206.10it/s]\n"
     ]
    },
    {
     "name": "stdout",
     "output_type": "stream",
     "text": [
      "Epoch 17, loss: 0.000, err: 0.012, val_loss: 0.000, val_err: 0.021\n"
     ]
    },
    {
     "name": "stderr",
     "output_type": "stream",
     "text": [
      "100%|████████████████████████████████████████████████████████████████████████████████████████████████████████████████████████| 77/77 [00:00<00:00, 206.58it/s]\n"
     ]
    },
    {
     "name": "stdout",
     "output_type": "stream",
     "text": [
      "Epoch 18, loss: 0.000, err: 0.012, val_loss: 0.000, val_err: 0.021\n"
     ]
    },
    {
     "name": "stderr",
     "output_type": "stream",
     "text": [
      "100%|████████████████████████████████████████████████████████████████████████████████████████████████████████████████████████| 77/77 [00:00<00:00, 206.32it/s]\n"
     ]
    },
    {
     "name": "stdout",
     "output_type": "stream",
     "text": [
      "Epoch 19, loss: 0.000, err: 0.012, val_loss: 0.000, val_err: 0.021\n"
     ]
    },
    {
     "name": "stderr",
     "output_type": "stream",
     "text": [
      "100%|████████████████████████████████████████████████████████████████████████████████████████████████████████████████████████| 77/77 [00:00<00:00, 204.31it/s]\n"
     ]
    },
    {
     "name": "stdout",
     "output_type": "stream",
     "text": [
      "Epoch 20, loss: 0.000, err: 0.012, val_loss: 0.000, val_err: 0.020\n"
     ]
    },
    {
     "name": "stderr",
     "output_type": "stream",
     "text": [
      "100%|████████████████████████████████████████████████████████████████████████████████████████████████████████████████████████| 77/77 [00:00<00:00, 204.80it/s]\n"
     ]
    },
    {
     "name": "stdout",
     "output_type": "stream",
     "text": [
      "Epoch 21, loss: 0.000, err: 0.012, val_loss: 0.000, val_err: 0.021\n"
     ]
    },
    {
     "name": "stderr",
     "output_type": "stream",
     "text": [
      "100%|████████████████████████████████████████████████████████████████████████████████████████████████████████████████████████| 77/77 [00:00<00:00, 205.74it/s]\n"
     ]
    },
    {
     "name": "stdout",
     "output_type": "stream",
     "text": [
      "Epoch 22, loss: 0.000, err: 0.012, val_loss: 0.000, val_err: 0.021\n"
     ]
    },
    {
     "name": "stderr",
     "output_type": "stream",
     "text": [
      "100%|████████████████████████████████████████████████████████████████████████████████████████████████████████████████████████| 77/77 [00:00<00:00, 206.08it/s]\n"
     ]
    },
    {
     "name": "stdout",
     "output_type": "stream",
     "text": [
      "Epoch 23, loss: 0.000, err: 0.012, val_loss: 0.000, val_err: 0.021\n"
     ]
    },
    {
     "name": "stderr",
     "output_type": "stream",
     "text": [
      "100%|████████████████████████████████████████████████████████████████████████████████████████████████████████████████████████| 77/77 [00:00<00:00, 205.44it/s]\n"
     ]
    },
    {
     "name": "stdout",
     "output_type": "stream",
     "text": [
      "Epoch 24, loss: 0.000, err: 0.012, val_loss: 0.000, val_err: 0.021\n"
     ]
    },
    {
     "name": "stderr",
     "output_type": "stream",
     "text": [
      "100%|████████████████████████████████████████████████████████████████████████████████████████████████████████████████████████| 77/77 [00:00<00:00, 204.94it/s]\n"
     ]
    },
    {
     "name": "stdout",
     "output_type": "stream",
     "text": [
      "Epoch 25, loss: 0.000, err: 0.012, val_loss: 0.000, val_err: 0.021\n"
     ]
    },
    {
     "name": "stderr",
     "output_type": "stream",
     "text": [
      "100%|████████████████████████████████████████████████████████████████████████████████████████████████████████████████████████| 77/77 [00:00<00:00, 198.41it/s]\n"
     ]
    },
    {
     "name": "stdout",
     "output_type": "stream",
     "text": [
      "Epoch 26, loss: 0.000, err: 0.012, val_loss: 0.000, val_err: 0.021\n"
     ]
    },
    {
     "name": "stderr",
     "output_type": "stream",
     "text": [
      "100%|████████████████████████████████████████████████████████████████████████████████████████████████████████████████████████| 77/77 [00:00<00:00, 203.25it/s]\n"
     ]
    },
    {
     "name": "stdout",
     "output_type": "stream",
     "text": [
      "Epoch 27, loss: 0.000, err: 0.012, val_loss: 0.000, val_err: 0.021\n"
     ]
    },
    {
     "name": "stderr",
     "output_type": "stream",
     "text": [
      "100%|████████████████████████████████████████████████████████████████████████████████████████████████████████████████████████| 77/77 [00:00<00:00, 206.43it/s]\n"
     ]
    },
    {
     "name": "stdout",
     "output_type": "stream",
     "text": [
      "Epoch 28, loss: 0.000, err: 0.012, val_loss: 0.000, val_err: 0.020\n"
     ]
    },
    {
     "name": "stderr",
     "output_type": "stream",
     "text": [
      "100%|████████████████████████████████████████████████████████████████████████████████████████████████████████████████████████| 77/77 [00:00<00:00, 206.90it/s]\n"
     ]
    },
    {
     "name": "stdout",
     "output_type": "stream",
     "text": [
      "Epoch 29, loss: 0.000, err: 0.012, val_loss: 0.000, val_err: 0.020\n"
     ]
    },
    {
     "name": "stderr",
     "output_type": "stream",
     "text": [
      "100%|████████████████████████████████████████████████████████████████████████████████████████████████████████████████████████| 77/77 [00:00<00:00, 207.64it/s]\n"
     ]
    },
    {
     "name": "stdout",
     "output_type": "stream",
     "text": [
      "Epoch 30, loss: 0.000, err: 0.012, val_loss: 0.000, val_err: 0.021\n"
     ]
    },
    {
     "name": "stderr",
     "output_type": "stream",
     "text": [
      "100%|████████████████████████████████████████████████████████████████████████████████████████████████████████████████████████| 77/77 [00:00<00:00, 206.92it/s]\n"
     ]
    },
    {
     "name": "stdout",
     "output_type": "stream",
     "text": [
      "Epoch 31, loss: 0.000, err: 0.012, val_loss: 0.000, val_err: 0.021\n"
     ]
    },
    {
     "name": "stderr",
     "output_type": "stream",
     "text": [
      "100%|████████████████████████████████████████████████████████████████████████████████████████████████████████████████████████| 77/77 [00:00<00:00, 208.08it/s]\n"
     ]
    },
    {
     "name": "stdout",
     "output_type": "stream",
     "text": [
      "Epoch 32, loss: 0.000, err: 0.012, val_loss: 0.000, val_err: 0.020\n"
     ]
    },
    {
     "name": "stderr",
     "output_type": "stream",
     "text": [
      "100%|████████████████████████████████████████████████████████████████████████████████████████████████████████████████████████| 77/77 [00:00<00:00, 206.91it/s]\n"
     ]
    },
    {
     "name": "stdout",
     "output_type": "stream",
     "text": [
      "Epoch 33, loss: 0.000, err: 0.012, val_loss: 0.000, val_err: 0.021\n"
     ]
    },
    {
     "name": "stderr",
     "output_type": "stream",
     "text": [
      "100%|████████████████████████████████████████████████████████████████████████████████████████████████████████████████████████| 77/77 [00:00<00:00, 206.61it/s]\n"
     ]
    },
    {
     "name": "stdout",
     "output_type": "stream",
     "text": [
      "Epoch 34, loss: 0.000, err: 0.012, val_loss: 0.000, val_err: 0.021\n"
     ]
    },
    {
     "name": "stderr",
     "output_type": "stream",
     "text": [
      "100%|████████████████████████████████████████████████████████████████████████████████████████████████████████████████████████| 77/77 [00:00<00:00, 206.61it/s]\n"
     ]
    },
    {
     "name": "stdout",
     "output_type": "stream",
     "text": [
      "Epoch 35, loss: 0.000, err: 0.012, val_loss: 0.000, val_err: 0.020\n"
     ]
    },
    {
     "name": "stderr",
     "output_type": "stream",
     "text": [
      "100%|████████████████████████████████████████████████████████████████████████████████████████████████████████████████████████| 77/77 [00:00<00:00, 206.48it/s]\n"
     ]
    },
    {
     "name": "stdout",
     "output_type": "stream",
     "text": [
      "Epoch 36, loss: 0.000, err: 0.012, val_loss: 0.000, val_err: 0.021\n"
     ]
    },
    {
     "name": "stderr",
     "output_type": "stream",
     "text": [
      "100%|████████████████████████████████████████████████████████████████████████████████████████████████████████████████████████| 77/77 [00:00<00:00, 208.10it/s]\n"
     ]
    },
    {
     "name": "stdout",
     "output_type": "stream",
     "text": [
      "Epoch 37, loss: 0.000, err: 0.012, val_loss: 0.000, val_err: 0.021\n"
     ]
    },
    {
     "name": "stderr",
     "output_type": "stream",
     "text": [
      "100%|████████████████████████████████████████████████████████████████████████████████████████████████████████████████████████| 77/77 [00:00<00:00, 207.19it/s]\n"
     ]
    },
    {
     "name": "stdout",
     "output_type": "stream",
     "text": [
      "Epoch 38, loss: 0.000, err: 0.012, val_loss: 0.000, val_err: 0.020\n"
     ]
    },
    {
     "name": "stderr",
     "output_type": "stream",
     "text": [
      "100%|████████████████████████████████████████████████████████████████████████████████████████████████████████████████████████| 77/77 [00:00<00:00, 206.71it/s]\n"
     ]
    },
    {
     "name": "stdout",
     "output_type": "stream",
     "text": [
      "Epoch 39, loss: 0.000, err: 0.013, val_loss: 0.000, val_err: 0.020\n"
     ]
    },
    {
     "name": "stderr",
     "output_type": "stream",
     "text": [
      "100%|████████████████████████████████████████████████████████████████████████████████████████████████████████████████████████| 10/10 [00:00<00:00, 623.99it/s]\n"
     ]
    },
    {
     "name": "stdout",
     "output_type": "stream",
     "text": [
      "STATE: [ 0.76909598  0.62591187 -0.03693028 -0.02345671] ACT: [-0.42206031 -0.26807666] \n",
      "STATE: [ 0.74409303  0.61003094 -0.07143701 -0.04537407] ACT: [-0.42206031 -0.26807666] \n",
      "STATE: [ 0.70933743  0.58496178 -0.0993017  -0.07162619] ACT: [-0.37203147 -0.33405477] \n",
      "STATE: [ 0.66755356  0.54937993 -0.11938249 -0.10166241] ACT: [-0.30397093 -0.39699077] \n",
      "STATE: [ 0.62310211  0.50180805 -0.12700414 -0.13591966] ACT: [-0.17664145 -0.46775827] \n",
      "STATE: [ 0.58958102  0.44430967 -0.09577454 -0.16428108] ACT: [ 0.2616566  -0.42607021] \n",
      "STATE: [ 0.56335544  0.37614487 -0.07493023 -0.19475659] ACT: [ 0.16638983 -0.47150231] \n",
      "STATE: [ 0.54232057  0.29753915 -0.06009964 -0.22458776] ACT: [ 0.11329472 -0.48699518] \n",
      "STATE: [ 0.52055489  0.20892567 -0.06218764 -0.25318136] ACT: [-0.06893761 -0.4952248 ] \n",
      "STATE: [ 0.4883064   0.11650477 -0.09213856 -0.26405973] ACT: [-0.38893696 -0.31421018] \n",
      "STATE: [ 0.44288119  0.0293768  -0.12978631 -0.24893706] ACT: [-0.49936384 -0.02521428] \n",
      "STATE: [ 0.38566865 -0.04798763 -0.16346439 -0.22104122] ACT: [-0.48223211  0.13210673] \n",
      "final state  [ 0.38566865 -0.04798763]\n",
      "STATE: [ 0.77447152  0.88255792 -0.0335944  -0.0280264 ] ACT: [-0.38393596 -0.3203017 ] \n",
      "STATE: [ 0.75197298  0.86329569 -0.06428153 -0.05503494] ACT: [-0.37590593 -0.32968884] \n",
      "STATE: [ 0.71963141  0.83498533 -0.09240448 -0.08088672] ACT: [-0.36961626 -0.33672514] \n",
      "STATE: [ 0.67799862  0.79832494 -0.11895084 -0.10474399] ACT: [-0.37269037 -0.3333195 ] \n",
      "STATE: [ 0.62772088  0.75382176 -0.14365069 -0.12715194] ACT: [-0.3714971  -0.33464893] \n",
      "STATE: [ 0.56840028  0.70317601 -0.1694874  -0.14470215] ACT: [-0.40301473 -0.29593771] \n",
      "STATE: [ 0.49806705  0.65234718 -0.2009521  -0.14522522] ACT: [-0.48671213 -0.11450458] \n",
      "STATE: [ 0.41757891  0.60889187 -0.2299661  -0.12415803] ACT: [-0.48230266  0.13184896] \n",
      "STATE: [ 0.32737077  0.5713561  -0.25773756 -0.10724505] ACT: [-0.48986266  0.10017273] \n",
      "STATE: [ 0.22806686  0.53928403 -0.28372544 -0.09163451] ACT: [-0.49030747  0.09797236] \n",
      "STATE: [ 0.12138265  0.50288687 -0.30481204 -0.10399188] ACT: [-0.45378383 -0.20995293] \n",
      "STATE: [ 0.01990673  0.4536711  -0.28993118 -0.1406165 ] ACT: [-0.0585421 -0.496561 ] \n",
      "STATE: [-0.07252419  0.39255958 -0.26408835 -0.17460431] ACT: [ 0.07789826 -0.49389459] \n",
      "final state  [-0.07252419  0.39255958]\n",
      "STATE: [ 0.65708696  0.77212647 -0.03225145 -0.02956191] ACT: [-0.36858797 -0.33785043] \n",
      "STATE: [ 0.63525172  0.75211214 -0.06238639 -0.05718382] ACT: [-0.36858797 -0.33785043] \n",
      "STATE: [ 0.60250709  0.72434815 -0.09355607 -0.07932569] ACT: [-0.40301473 -0.29593771] \n",
      "STATE: [ 0.5575474   0.6931005  -0.12845626 -0.08927899] ACT: [-0.46902635 -0.17324632] \n",
      "STATE: [ 0.5002419   0.66460783 -0.16373001 -0.08140763] ACT: [-0.49947076  0.0229992 ] \n",
      "STATE: [ 0.43138457  0.63798427 -0.19673523 -0.07606733] ACT: [-4.99999999e-01 -2.37212561e-05] \n",
      "STATE: [ 0.35222796  0.61696774 -0.22616172 -0.06004723] ACT: [-0.48385415  0.12603634] \n",
      "STATE: [ 0.26337224  0.60088683 -0.2538735  -0.04594545] ACT: [-0.48632739  0.11612781] \n",
      "STATE: [ 0.16517681  0.58378333 -0.28055837 -0.04886713] ACT: [-0.49537502 -0.06784974] \n",
      "STATE: [ 0.06270857  0.55686512 -0.29276641 -0.07690919] ACT: [-0.34993921 -0.35713099] \n",
      "STATE: [-0.03299772  0.51640096 -0.27344653 -0.11561189] ACT: [ 0.00122374 -0.4999985 ] \n",
      "final state  [-0.03299772  0.51640096]\n",
      "STATE: [ 0.59887339  0.69891662 -0.04103981 -0.01515905] ACT: [-0.46902635 -0.17324632] \n",
      "STATE: [ 0.57024109  0.69219901 -0.08180658 -0.01919318] ACT: [-0.49668581 -0.05747355] \n",
      "STATE: [ 0.52819149  0.68662659 -0.12014171 -0.01592119] ACT: [-0.49947076  0.0229992 ] \n",
      "STATE: [ 0.47366525  0.67989257 -0.15578925 -0.01924005] ACT: [-0.4975067  -0.04987066] \n",
      "STATE: [ 0.40741327  0.67410983 -0.18929137 -0.01652214] ACT: [-0.49972331  0.01663182] \n",
      "STATE: [ 0.33023979  0.66985615 -0.22049566 -0.01215336] ACT: [-0.49858896  0.03753727] \n",
      "STATE: [ 0.2428585   0.66699017 -0.24966083 -0.00818852] ACT: [-0.49868802  0.03619749] \n",
      "STATE: [ 0.14633819  0.66067165 -0.27577232 -0.0180529 ] ACT: [-0.48566265 -0.11887722] \n",
      "STATE: [ 0.05321456  0.63973969 -0.26606751 -0.05980562] ACT: [-0.09591716 -0.49071366] \n",
      "STATE: [-0.03425863  0.60487581 -0.2499234  -0.09961107] ACT: [-0.01504647 -0.49977355] \n",
      "final state  [-0.03425863  0.60487581]\n",
      "STATE: [ 0.83379473  0.69874749 -0.03788406 -0.02188289] ACT: [-0.43296064 -0.25009015] \n",
      "STATE: [ 0.80815658  0.68391387 -0.07325185 -0.04238178] ACT: [-0.43261639 -0.25068518] \n",
      "STATE: [ 0.7711249   0.66208565 -0.10580479 -0.06236636] ACT: [-0.42697253 -0.26018159] \n",
      "STATE: [ 0.72345126  0.6337155  -0.13621041 -0.08105757] ACT: [-0.42684636 -0.26038853] \n",
      "STATE: [ 0.66755598  0.59692876 -0.1597008  -0.10510497] ACT: [-0.37061944 -0.33562067] \n",
      "STATE: [ 0.61015888  0.55123999 -0.16399171 -0.13053932] ACT: [-0.16881453 -0.36950705] \n",
      "STATE: [ 0.57045493  0.50218354 -0.11343984 -0.1401613 ] ACT: [ 0.45474181 -0.20786988] \n",
      "STATE: [ 0.54807869  0.45213555 -0.06393212 -0.14299427] ACT: [ 0.48072273 -0.13749784] \n",
      "STATE: [ 0.54136525  0.39962799 -0.01918128 -0.15002158] ACT: [ 0.46348904 -0.18755775] \n",
      "STATE: [ 0.54009172  0.33609286 -0.00363865 -0.18152897] ACT: [ 0.16324406 -0.47260065] \n",
      "STATE: [ 0.53985587  0.26144447 -0.00067384 -0.21328112] ACT: [ 0.03115461 -0.49902845] \n",
      "STATE: [ 0.53371778  0.17757209 -0.01753742 -0.23963537] ACT: [-0.19323199 -0.46115225] \n",
      "STATE: [ 0.51567751  0.09009011 -0.05154363 -0.2499485 ] ACT: [-0.40179553 -0.29759091] \n",
      "STATE: [ 0.48355164  0.00949611 -0.09178818 -0.23026858] ACT: [-0.49859538  0.03745198] \n",
      "STATE: [ 0.43884158 -0.06149565 -0.12774304 -0.2028336 ] ACT: [-0.47975386  0.14084117] \n",
      "final state  [ 0.43884158 -0.06149565]\n",
      "STATE: [ 0.61764621  0.68501918 -0.0398728  -0.01800616] ACT: [-0.45568919 -0.20578474] \n",
      "STATE: [ 0.59065108  0.67282844 -0.07712896 -0.03483067] ACT: [-0.45568919 -0.20578474] \n",
      "STATE: [ 0.5502165   0.6596776  -0.11552738 -0.03757385] ACT: [-0.49668581 -0.05747355] \n",
      "STATE: [ 0.49766802  0.65143897 -0.15013852 -0.02353893] ACT: [-0.48220144  0.13221865] \n",
      "STATE: [ 0.43379751  0.64777888 -0.18248716 -0.0104574 ] ACT: [-0.48230266  0.13184896] \n",
      "STATE: [ 0.36024928  0.65084876 -0.21013779  0.0087711 ] ACT: [-0.45287261  0.2119113 ] \n",
      "STATE: [ 0.27621517  0.65369881 -0.24009747  0.00814299] ACT: [-0.49999964 -0.00060003] \n",
      "STATE: [ 0.18252949  0.65425091 -0.26767336  0.00157741] ACT: [-0.49522615 -0.06892796] \n",
      "STATE: [ 0.0914597   0.63986724 -0.2601994  -0.04109619] ACT: [-0.11533828 -0.48651524] \n",
      "STATE: [ 0.00502188  0.61117414 -0.24696521 -0.08198028] ACT: [-0.04390171 -0.49806891] \n",
      "STATE: [-0.07422885  0.56912662 -0.22643066 -0.12013578] ACT: [ 0.04945671 -0.49754802] \n",
      "final state  [-0.07422885  0.56912662]\n",
      "STATE: [ 0.60408238  0.6206435  -0.04253614 -0.00348103] ACT: [-0.48612729 -0.03978319] \n",
      "STATE: [ 0.57558447  0.62416177 -0.08142258  0.0100522 ] ACT: [-0.47631856  0.1520547 ] \n",
      "STATE: [ 0.53415374  0.63136627 -0.11837351  0.02058427] ACT: [-0.48336335  0.12790571] \n",
      "STATE: [ 0.48107765  0.64340277 -0.15164597  0.03439   ] ACT: [-0.46903683  0.17321793] \n",
      "STATE: [ 0.41671416  0.65868725 -0.18389569  0.04366994] ACT: [-0.48230266  0.13184896] \n",
      "STATE: [ 0.3427053   0.67945846 -0.21145389  0.05934634] ACT: [-0.45287261  0.2119113 ] \n",
      "STATE: [ 0.25825767  0.69958582 -0.24127894  0.05750672] ACT: [-0.49944812  0.02348557] \n",
      "STATE: [ 0.16480453  0.71361255 -0.26700898  0.04007639] ACT: [-0.47501681 -0.15607381] \n",
      "STATE: [ 0.07426074  0.71174942 -0.25869653 -0.00532322] ACT: [-0.10525732 -0.48879535] \n",
      "STATE: [-0.01158474  0.69474665 -0.2452728  -0.04857935] ACT: [-0.0406084  -0.49834823] \n",
      "final state  [-0.01158474  0.69474665]\n",
      "STATE: [ 0.83726138  0.67511483 -0.0382869  -0.02117017] ACT: [-0.43756452 -0.24194481] \n",
      "STATE: [ 0.81149149  0.66051429 -0.07362825 -0.04171583] ACT: [-0.43261639 -0.25068518] \n",
      "STATE: [ 0.77414318  0.6392305  -0.10670946 -0.06081083] ACT: [-0.43329208 -0.24951548] \n",
      "STATE: [ 0.72632026  0.61113361 -0.13663692 -0.08027683] ACT: [-0.42206031 -0.26807666] \n",
      "STATE: [ 0.67316184  0.57248264 -0.15188119 -0.11043135] ACT: [-0.27669788 -0.40483075] \n",
      "STATE: [ 0.61622606  0.52288928 -0.16267366 -0.14169532] ACT: [-0.23725336 -0.44012594] \n",
      "STATE: [ 0.57103992  0.46350208 -0.12910325 -0.1696777 ] ACT: [ 0.2616566  -0.42607021] \n",
      "STATE: [ 0.53973485  0.39727346 -0.08944309 -0.18922462] ACT: [ 0.35643154 -0.35065162] \n",
      "STATE: [ 0.51548351  0.3209177  -0.06928953 -0.21815931] ACT: [ 0.16324406 -0.47260065] \n",
      "STATE: [ 0.49287957  0.23426039 -0.06458268 -0.24759232] ACT: [ 0.0018254  -0.49999667] \n",
      "STATE: [ 0.46005068  0.14342146 -0.09379684 -0.2595398 ] ACT: [-0.38231315 -0.32223695] \n",
      "STATE: [ 0.41468625  0.05422195 -0.12961265 -0.25485574] ACT: [-0.47967112 -0.1411227 ] \n",
      "STATE: [ 0.35740715 -0.0255588  -0.16365457 -0.22794501] ACT: [-0.48626006  0.11640942] \n",
      "final state  [ 0.35740715 -0.0255588 ]\n",
      "STATE: [ 0.84648737  0.72486789 -0.03730378 -0.02285805] ACT: [-0.42632891 -0.26123488] \n",
      "STATE: [ 0.82102845  0.70973358 -0.07273978 -0.04324088] ACT: [-0.43296064 -0.25009015] \n",
      "STATE: [ 0.78417903  0.68760017 -0.10528406 -0.06323831] ACT: [-0.42648946 -0.26097268] \n",
      "STATE: [ 0.73686983  0.658635   -0.13516914 -0.08275764] ACT: [-0.42050689 -0.27050686] \n",
      "STATE: [ 0.68007416  0.62285654 -0.16227335 -0.10222416] ACT: [-0.41113918 -0.28454274] \n",
      "STATE: [ 0.6168546   0.57796186 -0.18062733 -0.12827053] ACT: [-0.33146479 -0.37434087] \n",
      "STATE: [ 0.55926029  0.52077224 -0.16455515 -0.16339892] ACT: [ 0.04821148 -0.49767023] \n",
      "STATE: [ 0.52016775  0.46312481 -0.11169298 -0.16470693] ACT: [ 0.48072273 -0.13749784] \n",
      "STATE: [ 0.49812575  0.40429515 -0.06297714 -0.16808473] ACT: [ 0.47298273 -0.16213371] \n",
      "STATE: [ 0.48405914  0.33547533 -0.04019032 -0.19662806] ACT: [ 0.21318801 -0.45227301] \n",
      "STATE: [ 0.47242328  0.25593371 -0.0332453  -0.22726177] ACT: [ 0.04922886 -0.49757062] \n",
      "STATE: [ 0.45241134  0.1693263  -0.05717698 -0.24744976] ACT: [-0.29843884 -0.40116612] \n",
      "STATE: [ 0.41948593  0.08273927 -0.0940726  -0.24739152] ACT: [-0.46454703 -0.18492176] \n",
      "STATE: [ 0.37352944  0.00375326 -0.13130425 -0.2256743 ] ACT: [-0.49605905  0.06265318] \n",
      "STATE: [ 0.31660873 -0.06380197 -0.1626306  -0.19301494] ACT: [-0.45649361  0.20399408] \n",
      "final state  [ 0.31660873 -0.06380197]\n",
      "STATE: [ 0.76247558  0.64420783 -0.03734906 -0.022784  ] ACT: [-0.42684636 -0.26038853] \n",
      "STATE: [ 0.7371891   0.62878235 -0.07224708 -0.04407279] ACT: [-0.42684636 -0.26038853] \n",
      "STATE: [ 0.7014188   0.60504103 -0.10220085 -0.06783235] ACT: [-0.39651414 -0.30459241] \n",
      "STATE: [ 0.65952205  0.57045979 -0.11970499 -0.09880354] ACT: [-0.27669788 -0.40483075] \n",
      "STATE: [ 0.61545436  0.52364753 -0.12590771 -0.13374932] ACT: [-0.16066702 -0.47348295] \n",
      "STATE: [ 0.58229183  0.46685892 -0.09475007 -0.16225316] ACT: [ 0.2616566  -0.42607021] \n",
      "STATE: [ 0.56222132  0.40305836 -0.05734433 -0.18228732] ACT: [ 0.35643154 -0.35065162] \n",
      "STATE: [ 0.55191331  0.33067176 -0.02945145 -0.20681885] ACT: [ 0.27576752 -0.41707586] \n",
      "STATE: [ 0.54323587  0.24775279 -0.02479267 -0.23691135] ACT: [ 0.03115461 -0.49902845] \n",
      "STATE: [ 0.52921016  0.15615259 -0.04007345 -0.26171487] ACT: [-0.19323199 -0.46115225] \n",
      "STATE: [ 0.50262446  0.06330068 -0.07595915 -0.26529116] ACT: [-0.44017729 -0.23715809] \n",
      "STATE: [ 0.46279667 -0.02031629 -0.11379368 -0.23890561] ACT: [-0.48936407  0.10258072] \n",
      "final state  [ 0.46279667 -0.02031629]\n",
      "After 18 REWARD:  (0.5541670811019276, array([ 0.17357287,  0.25585493, -0.1990448 , -0.16422828]), -0.2235218168714648)\n",
      "UPDATING THE ACTION MATRIX\n"
     ]
    },
    {
     "name": "stderr",
     "output_type": "stream",
     "text": [
      "100%|█████████████████████████████████████████████████████████████████████████████████████████████████████████████████████████| 25/25 [00:03<00:00,  6.91it/s]\n",
      "Generating Dynamics Dataset: 100%|██████████████████████████████████████████████████████████████████████████████████████████| 15/15 [00:00<00:00, 2546.63it/s]\n",
      "100%|████████████████████████████████████████████████████████████████████████████████████████████████████████████████████████| 80/80 [00:00<00:00, 205.66it/s]\n"
     ]
    },
    {
     "name": "stdout",
     "output_type": "stream",
     "text": [
      "Epoch 1, loss: 0.000, err: 0.012, val_loss: 0.000, val_err: 0.019\n"
     ]
    },
    {
     "name": "stderr",
     "output_type": "stream",
     "text": [
      "100%|████████████████████████████████████████████████████████████████████████████████████████████████████████████████████████| 80/80 [00:00<00:00, 207.20it/s]\n"
     ]
    },
    {
     "name": "stdout",
     "output_type": "stream",
     "text": [
      "Epoch 2, loss: 0.000, err: 0.012, val_loss: 0.000, val_err: 0.018\n"
     ]
    },
    {
     "name": "stderr",
     "output_type": "stream",
     "text": [
      "100%|████████████████████████████████████████████████████████████████████████████████████████████████████████████████████████| 80/80 [00:00<00:00, 206.44it/s]\n"
     ]
    },
    {
     "name": "stdout",
     "output_type": "stream",
     "text": [
      "Epoch 3, loss: 0.000, err: 0.012, val_loss: 0.000, val_err: 0.021\n"
     ]
    },
    {
     "name": "stderr",
     "output_type": "stream",
     "text": [
      "100%|████████████████████████████████████████████████████████████████████████████████████████████████████████████████████████| 80/80 [00:00<00:00, 204.43it/s]\n"
     ]
    },
    {
     "name": "stdout",
     "output_type": "stream",
     "text": [
      "Epoch 4, loss: 0.000, err: 0.012, val_loss: 0.000, val_err: 0.019\n"
     ]
    },
    {
     "name": "stderr",
     "output_type": "stream",
     "text": [
      "100%|████████████████████████████████████████████████████████████████████████████████████████████████████████████████████████| 80/80 [00:00<00:00, 206.28it/s]\n"
     ]
    },
    {
     "name": "stdout",
     "output_type": "stream",
     "text": [
      "Epoch 5, loss: 0.000, err: 0.012, val_loss: 0.000, val_err: 0.020\n"
     ]
    },
    {
     "name": "stderr",
     "output_type": "stream",
     "text": [
      "100%|████████████████████████████████████████████████████████████████████████████████████████████████████████████████████████| 80/80 [00:00<00:00, 206.70it/s]\n"
     ]
    },
    {
     "name": "stdout",
     "output_type": "stream",
     "text": [
      "Epoch 6, loss: 0.000, err: 0.012, val_loss: 0.000, val_err: 0.020\n"
     ]
    },
    {
     "name": "stderr",
     "output_type": "stream",
     "text": [
      "100%|████████████████████████████████████████████████████████████████████████████████████████████████████████████████████████| 80/80 [00:00<00:00, 207.64it/s]\n"
     ]
    },
    {
     "name": "stdout",
     "output_type": "stream",
     "text": [
      "Epoch 7, loss: 0.000, err: 0.012, val_loss: 0.000, val_err: 0.020\n"
     ]
    },
    {
     "name": "stderr",
     "output_type": "stream",
     "text": [
      "100%|████████████████████████████████████████████████████████████████████████████████████████████████████████████████████████| 80/80 [00:00<00:00, 206.43it/s]\n"
     ]
    },
    {
     "name": "stdout",
     "output_type": "stream",
     "text": [
      "Epoch 8, loss: 0.000, err: 0.012, val_loss: 0.000, val_err: 0.020\n"
     ]
    },
    {
     "name": "stderr",
     "output_type": "stream",
     "text": [
      "100%|████████████████████████████████████████████████████████████████████████████████████████████████████████████████████████| 80/80 [00:00<00:00, 208.74it/s]\n"
     ]
    },
    {
     "name": "stdout",
     "output_type": "stream",
     "text": [
      "Epoch 9, loss: 0.000, err: 0.012, val_loss: 0.000, val_err: 0.019\n"
     ]
    },
    {
     "name": "stderr",
     "output_type": "stream",
     "text": [
      "100%|████████████████████████████████████████████████████████████████████████████████████████████████████████████████████████| 80/80 [00:00<00:00, 205.47it/s]\n"
     ]
    },
    {
     "name": "stdout",
     "output_type": "stream",
     "text": [
      "Epoch 10, loss: 0.000, err: 0.012, val_loss: 0.000, val_err: 0.019\n"
     ]
    },
    {
     "name": "stderr",
     "output_type": "stream",
     "text": [
      "100%|████████████████████████████████████████████████████████████████████████████████████████████████████████████████████████| 80/80 [00:00<00:00, 206.14it/s]\n"
     ]
    },
    {
     "name": "stdout",
     "output_type": "stream",
     "text": [
      "Epoch 11, loss: 0.000, err: 0.012, val_loss: 0.000, val_err: 0.020\n"
     ]
    },
    {
     "name": "stderr",
     "output_type": "stream",
     "text": [
      "100%|████████████████████████████████████████████████████████████████████████████████████████████████████████████████████████| 80/80 [00:00<00:00, 206.47it/s]\n"
     ]
    },
    {
     "name": "stdout",
     "output_type": "stream",
     "text": [
      "Epoch 12, loss: 0.000, err: 0.012, val_loss: 0.000, val_err: 0.018\n"
     ]
    },
    {
     "name": "stderr",
     "output_type": "stream",
     "text": [
      "100%|████████████████████████████████████████████████████████████████████████████████████████████████████████████████████████| 80/80 [00:00<00:00, 206.73it/s]\n"
     ]
    },
    {
     "name": "stdout",
     "output_type": "stream",
     "text": [
      "Epoch 13, loss: 0.000, err: 0.012, val_loss: 0.000, val_err: 0.019\n"
     ]
    },
    {
     "name": "stderr",
     "output_type": "stream",
     "text": [
      "100%|████████████████████████████████████████████████████████████████████████████████████████████████████████████████████████| 80/80 [00:00<00:00, 206.59it/s]\n"
     ]
    },
    {
     "name": "stdout",
     "output_type": "stream",
     "text": [
      "Epoch 14, loss: 0.000, err: 0.012, val_loss: 0.000, val_err: 0.018\n"
     ]
    },
    {
     "name": "stderr",
     "output_type": "stream",
     "text": [
      "100%|████████████████████████████████████████████████████████████████████████████████████████████████████████████████████████| 80/80 [00:00<00:00, 207.11it/s]\n"
     ]
    },
    {
     "name": "stdout",
     "output_type": "stream",
     "text": [
      "Epoch 15, loss: 0.000, err: 0.012, val_loss: 0.000, val_err: 0.021\n"
     ]
    },
    {
     "name": "stderr",
     "output_type": "stream",
     "text": [
      "100%|████████████████████████████████████████████████████████████████████████████████████████████████████████████████████████| 80/80 [00:00<00:00, 206.21it/s]\n"
     ]
    },
    {
     "name": "stdout",
     "output_type": "stream",
     "text": [
      "Epoch 16, loss: 0.000, err: 0.012, val_loss: 0.000, val_err: 0.019\n"
     ]
    },
    {
     "name": "stderr",
     "output_type": "stream",
     "text": [
      "100%|████████████████████████████████████████████████████████████████████████████████████████████████████████████████████████| 80/80 [00:00<00:00, 208.35it/s]\n"
     ]
    },
    {
     "name": "stdout",
     "output_type": "stream",
     "text": [
      "Epoch 17, loss: 0.000, err: 0.012, val_loss: 0.000, val_err: 0.020\n"
     ]
    },
    {
     "name": "stderr",
     "output_type": "stream",
     "text": [
      "100%|████████████████████████████████████████████████████████████████████████████████████████████████████████████████████████| 80/80 [00:00<00:00, 207.47it/s]\n"
     ]
    },
    {
     "name": "stdout",
     "output_type": "stream",
     "text": [
      "Epoch 18, loss: 0.000, err: 0.012, val_loss: 0.000, val_err: 0.019\n"
     ]
    },
    {
     "name": "stderr",
     "output_type": "stream",
     "text": [
      "100%|████████████████████████████████████████████████████████████████████████████████████████████████████████████████████████| 80/80 [00:00<00:00, 206.02it/s]\n"
     ]
    },
    {
     "name": "stdout",
     "output_type": "stream",
     "text": [
      "Epoch 19, loss: 0.000, err: 0.012, val_loss: 0.000, val_err: 0.019\n"
     ]
    },
    {
     "name": "stderr",
     "output_type": "stream",
     "text": [
      "100%|████████████████████████████████████████████████████████████████████████████████████████████████████████████████████████| 80/80 [00:00<00:00, 206.43it/s]\n"
     ]
    },
    {
     "name": "stdout",
     "output_type": "stream",
     "text": [
      "Epoch 20, loss: 0.000, err: 0.012, val_loss: 0.000, val_err: 0.019\n"
     ]
    },
    {
     "name": "stderr",
     "output_type": "stream",
     "text": [
      "100%|████████████████████████████████████████████████████████████████████████████████████████████████████████████████████████| 80/80 [00:00<00:00, 206.55it/s]\n"
     ]
    },
    {
     "name": "stdout",
     "output_type": "stream",
     "text": [
      "Epoch 21, loss: 0.000, err: 0.012, val_loss: 0.000, val_err: 0.019\n"
     ]
    },
    {
     "name": "stderr",
     "output_type": "stream",
     "text": [
      "100%|████████████████████████████████████████████████████████████████████████████████████████████████████████████████████████| 80/80 [00:00<00:00, 207.95it/s]\n"
     ]
    },
    {
     "name": "stdout",
     "output_type": "stream",
     "text": [
      "Epoch 22, loss: 0.000, err: 0.012, val_loss: 0.000, val_err: 0.019\n"
     ]
    },
    {
     "name": "stderr",
     "output_type": "stream",
     "text": [
      "100%|████████████████████████████████████████████████████████████████████████████████████████████████████████████████████████| 80/80 [00:00<00:00, 203.48it/s]\n"
     ]
    },
    {
     "name": "stdout",
     "output_type": "stream",
     "text": [
      "Epoch 23, loss: 0.000, err: 0.012, val_loss: 0.000, val_err: 0.019\n"
     ]
    },
    {
     "name": "stderr",
     "output_type": "stream",
     "text": [
      "100%|████████████████████████████████████████████████████████████████████████████████████████████████████████████████████████| 80/80 [00:00<00:00, 204.05it/s]\n"
     ]
    },
    {
     "name": "stdout",
     "output_type": "stream",
     "text": [
      "Epoch 24, loss: 0.000, err: 0.012, val_loss: 0.000, val_err: 0.019\n"
     ]
    },
    {
     "name": "stderr",
     "output_type": "stream",
     "text": [
      "100%|████████████████████████████████████████████████████████████████████████████████████████████████████████████████████████| 80/80 [00:00<00:00, 203.88it/s]\n"
     ]
    },
    {
     "name": "stdout",
     "output_type": "stream",
     "text": [
      "Epoch 25, loss: 0.000, err: 0.012, val_loss: 0.000, val_err: 0.017\n"
     ]
    },
    {
     "name": "stderr",
     "output_type": "stream",
     "text": [
      "100%|████████████████████████████████████████████████████████████████████████████████████████████████████████████████████████| 80/80 [00:00<00:00, 203.73it/s]\n"
     ]
    },
    {
     "name": "stdout",
     "output_type": "stream",
     "text": [
      "Epoch 26, loss: 0.000, err: 0.012, val_loss: 0.000, val_err: 0.019\n"
     ]
    },
    {
     "name": "stderr",
     "output_type": "stream",
     "text": [
      "100%|████████████████████████████████████████████████████████████████████████████████████████████████████████████████████████| 80/80 [00:00<00:00, 207.80it/s]\n"
     ]
    },
    {
     "name": "stdout",
     "output_type": "stream",
     "text": [
      "Epoch 27, loss: 0.000, err: 0.012, val_loss: 0.000, val_err: 0.019\n"
     ]
    },
    {
     "name": "stderr",
     "output_type": "stream",
     "text": [
      "100%|████████████████████████████████████████████████████████████████████████████████████████████████████████████████████████| 80/80 [00:00<00:00, 206.32it/s]\n"
     ]
    },
    {
     "name": "stdout",
     "output_type": "stream",
     "text": [
      "Epoch 28, loss: 0.000, err: 0.012, val_loss: 0.000, val_err: 0.018\n"
     ]
    },
    {
     "name": "stderr",
     "output_type": "stream",
     "text": [
      "100%|████████████████████████████████████████████████████████████████████████████████████████████████████████████████████████| 80/80 [00:00<00:00, 200.45it/s]\n"
     ]
    },
    {
     "name": "stdout",
     "output_type": "stream",
     "text": [
      "Epoch 29, loss: 0.000, err: 0.012, val_loss: 0.000, val_err: 0.020\n"
     ]
    },
    {
     "name": "stderr",
     "output_type": "stream",
     "text": [
      "100%|████████████████████████████████████████████████████████████████████████████████████████████████████████████████████████| 80/80 [00:00<00:00, 204.16it/s]\n"
     ]
    },
    {
     "name": "stdout",
     "output_type": "stream",
     "text": [
      "Epoch 30, loss: 0.000, err: 0.012, val_loss: 0.000, val_err: 0.018\n"
     ]
    },
    {
     "name": "stderr",
     "output_type": "stream",
     "text": [
      "100%|████████████████████████████████████████████████████████████████████████████████████████████████████████████████████████| 80/80 [00:00<00:00, 204.59it/s]\n"
     ]
    },
    {
     "name": "stdout",
     "output_type": "stream",
     "text": [
      "Epoch 31, loss: 0.000, err: 0.012, val_loss: 0.000, val_err: 0.020\n"
     ]
    },
    {
     "name": "stderr",
     "output_type": "stream",
     "text": [
      "100%|████████████████████████████████████████████████████████████████████████████████████████████████████████████████████████| 80/80 [00:00<00:00, 205.05it/s]\n"
     ]
    },
    {
     "name": "stdout",
     "output_type": "stream",
     "text": [
      "Epoch 32, loss: 0.000, err: 0.012, val_loss: 0.000, val_err: 0.018\n"
     ]
    },
    {
     "name": "stderr",
     "output_type": "stream",
     "text": [
      "100%|████████████████████████████████████████████████████████████████████████████████████████████████████████████████████████| 80/80 [00:00<00:00, 205.85it/s]\n"
     ]
    },
    {
     "name": "stdout",
     "output_type": "stream",
     "text": [
      "Epoch 33, loss: 0.000, err: 0.012, val_loss: 0.000, val_err: 0.019\n"
     ]
    },
    {
     "name": "stderr",
     "output_type": "stream",
     "text": [
      "100%|████████████████████████████████████████████████████████████████████████████████████████████████████████████████████████| 80/80 [00:00<00:00, 205.04it/s]\n"
     ]
    },
    {
     "name": "stdout",
     "output_type": "stream",
     "text": [
      "Epoch 34, loss: 0.000, err: 0.012, val_loss: 0.000, val_err: 0.019\n"
     ]
    },
    {
     "name": "stderr",
     "output_type": "stream",
     "text": [
      "100%|████████████████████████████████████████████████████████████████████████████████████████████████████████████████████████| 80/80 [00:00<00:00, 206.84it/s]\n"
     ]
    },
    {
     "name": "stdout",
     "output_type": "stream",
     "text": [
      "Epoch 35, loss: 0.000, err: 0.012, val_loss: 0.000, val_err: 0.019\n"
     ]
    },
    {
     "name": "stderr",
     "output_type": "stream",
     "text": [
      "100%|████████████████████████████████████████████████████████████████████████████████████████████████████████████████████████| 80/80 [00:00<00:00, 208.07it/s]\n"
     ]
    },
    {
     "name": "stdout",
     "output_type": "stream",
     "text": [
      "Epoch 36, loss: 0.000, err: 0.012, val_loss: 0.000, val_err: 0.019\n"
     ]
    },
    {
     "name": "stderr",
     "output_type": "stream",
     "text": [
      "100%|████████████████████████████████████████████████████████████████████████████████████████████████████████████████████████| 80/80 [00:00<00:00, 207.01it/s]\n"
     ]
    },
    {
     "name": "stdout",
     "output_type": "stream",
     "text": [
      "Epoch 37, loss: 0.000, err: 0.012, val_loss: 0.000, val_err: 0.019\n"
     ]
    },
    {
     "name": "stderr",
     "output_type": "stream",
     "text": [
      "100%|████████████████████████████████████████████████████████████████████████████████████████████████████████████████████████| 80/80 [00:00<00:00, 205.48it/s]\n"
     ]
    },
    {
     "name": "stdout",
     "output_type": "stream",
     "text": [
      "Epoch 38, loss: 0.000, err: 0.012, val_loss: 0.000, val_err: 0.018\n"
     ]
    },
    {
     "name": "stderr",
     "output_type": "stream",
     "text": [
      "100%|████████████████████████████████████████████████████████████████████████████████████████████████████████████████████████| 80/80 [00:00<00:00, 208.12it/s]\n"
     ]
    },
    {
     "name": "stdout",
     "output_type": "stream",
     "text": [
      "Epoch 39, loss: 0.000, err: 0.012, val_loss: 0.000, val_err: 0.019\n"
     ]
    },
    {
     "name": "stderr",
     "output_type": "stream",
     "text": [
      "100%|████████████████████████████████████████████████████████████████████████████████████████████████████████████████████████| 10/10 [00:00<00:00, 585.62it/s]\n"
     ]
    },
    {
     "name": "stdout",
     "output_type": "stream",
     "text": [
      "STATE: [ 0.59535026  0.80084368 -0.02800898 -0.03360892] ACT: [-0.32010258 -0.38410199] \n",
      "STATE: [ 0.57638731  0.77808939 -0.05417986 -0.06501226] ACT: [-0.32010258 -0.38410199] \n",
      "STATE: [ 0.54614983  0.74801087 -0.08639281 -0.08593862] ACT: [-0.40878291 -0.28791758] \n",
      "STATE: [ 0.50388548  0.71372896 -0.12075528 -0.09794832] ACT: [-0.45750848 -0.2017077 ] \n",
      "STATE: [ 0.4491081   0.68080712 -0.15650681 -0.09406239] ACT: [-0.49915535 -0.02905059] \n",
      "STATE: [ 0.38370844  0.65573335 -0.18685616 -0.07163935] ACT: [-0.46422988  0.18571651] \n",
      "STATE: [ 0.30729574  0.63278736 -0.21832202 -0.06555997] ACT: [-0.4997519   0.01574914] \n",
      "STATE: [ 0.22059934  0.61200705 -0.24770399 -0.05937231] ACT: [-0.49953555  0.0215461 ] \n",
      "STATE: [ 0.12518133  0.58741416 -0.27262288 -0.07026541] ACT: [-0.47056522 -0.16902181] \n",
      "STATE: [ 0.03565121  0.54912724 -0.25580035 -0.1093912 ] ACT: [-0.01220967 -0.4998509 ] \n",
      "STATE: [-0.04578542  0.4982019  -0.23267607 -0.14550097] ACT: [ 0.07242714 -0.4947265 ] \n",
      "final state  [-0.04578542  0.4982019 ]\n",
      "STATE: [ 0.88426212  0.77729052 -0.03651301 -0.02410109] ACT: [-0.41729155 -0.27544104] \n",
      "STATE: [ 0.85934134  0.76128497 -0.07120223 -0.04573016] ACT: [-0.42383297 -0.26526517] \n",
      "STATE: [ 0.82328888  0.73787556 -0.10300702 -0.06688401] ACT: [-0.41688501 -0.27605595] \n",
      "STATE: [ 0.77682306  0.70756664 -0.13275948 -0.08659692] ACT: [-0.41728341 -0.27545337] \n",
      "STATE: [ 0.72086196  0.67046577 -0.15988887 -0.1060025 ] ACT: [-0.40961973 -0.28672578] \n",
      "STATE: [ 0.65649817  0.62638349 -0.18389655 -0.12594935] ACT: [-0.3942902  -0.30746584] \n",
      "STATE: [ 0.58729319  0.5747619  -0.19772851 -0.14749028] ACT: [-0.29600192 -0.34064406] \n",
      "STATE: [ 0.53013495  0.51318086 -0.16330925 -0.17594581] ACT: [ 0.24506665 -0.43582375] \n",
      "STATE: [ 0.49194009  0.45389279 -0.10912817 -0.16939451] ACT: [ 0.49673034 -0.05708739] \n",
      "STATE: [ 0.47076768  0.39362096 -0.0604926  -0.17220521] ACT: [ 0.47398892 -0.15916815] \n",
      "STATE: [ 0.45324328  0.32215946 -0.05006971 -0.20417572] ACT: [ 0.0737493  -0.49453113] \n",
      "STATE: [ 0.43096408  0.24125944 -0.06365485 -0.23114292] ACT: [-0.19281097 -0.46132844] \n",
      "STATE: [ 0.39788996  0.15649032 -0.0944975  -0.24219748] ACT: [-0.40022859 -0.29969497] \n",
      "STATE: [ 0.35197945  0.0742401  -0.13117289 -0.23500062] ACT: [-0.49002039 -0.0993983 ] \n",
      "STATE: [ 0.29387594 -0.00080851 -0.16601001 -0.2144246 ] ACT: [-0.49651819  0.05890404] \n",
      "final state  [ 0.29387594 -0.00080851]\n",
      "STATE: [ 0.71988964  0.85948695 -0.03159143 -0.03026622] ACT: [-0.36104487 -0.3458997 ] \n",
      "STATE: [ 0.69875419  0.83873792 -0.060387   -0.05928294] ACT: [-0.35278585 -0.35431927] \n",
      "STATE: [ 0.66830659  0.80839607 -0.08699315 -0.086691  ] ACT: [-0.34936049 -0.35769715] \n",
      "STATE: [ 0.62928191  0.76897122 -0.11149909 -0.11264245] ACT: [-0.34531278 -0.36160626] \n",
      "STATE: [ 0.58196054  0.72133623 -0.1352039  -0.13609995] ACT: [-0.35453646 -0.35256758] \n",
      "STATE: [ 0.52271258  0.67391017 -0.16927991 -0.13550303] ACT: [-0.490843   -0.09525306] \n",
      "STATE: [ 0.45226229  0.63219463 -0.20128653 -0.11918728] ACT: [-0.49274986  0.08483853] \n",
      "STATE: [ 0.37341838  0.60128093 -0.22526831 -0.08832486] ACT: [-0.42504241  0.2633229 ] \n",
      "STATE: [ 0.28633821  0.57978742 -0.24880049 -0.06141002] ACT: [-0.43789041  0.24135448] \n",
      "STATE: [ 0.18970813  0.56091531 -0.27608595 -0.05392031] ACT: [-0.4984342   0.03953919] \n",
      "STATE: [ 0.08708358  0.53420973 -0.29321299 -0.07630167] ACT: [-0.40280202 -0.29622716] \n",
      "STATE: [-0.00791669  0.49397006 -0.27142934 -0.11497048] ACT: [ 0.02904619 -0.49915561] \n",
      "final state  [-0.00791669  0.49397006]\n",
      "STATE: [ 0.67189808  0.66447538 -0.03588774 -0.02502265] ACT: [-0.41014556 -0.28597311] \n",
      "STATE: [ 0.64834265  0.64655651 -0.06730121 -0.05119678] ACT: [-0.38592697 -0.31789995] \n",
      "STATE: [ 0.61337872  0.62164913 -0.09989694 -0.07116395] ACT: [-0.42299849 -0.26659384] \n",
      "STATE: [ 0.56681405  0.60441068 -0.13304191 -0.04925272] ACT: [-0.45372239  0.19704115] \n",
      "STATE: [ 0.51188267  0.59850147 -0.15694682 -0.01688345] ACT: [-0.37298033  0.332995  ] \n",
      "STATE: [ 0.4513366   0.60520595 -0.17298877  0.01915565] ACT: [-0.30104677  0.39921278] \n",
      "STATE: [ 0.38158631  0.61926946 -0.19928655  0.04018146] ACT: [-0.43028755  0.25466178] \n",
      "STATE: [ 0.30202188  0.6376405  -0.22732692  0.05248868] ACT: [-0.46992635  0.17079001] \n",
      "STATE: [ 0.2123806   0.65546578 -0.25611795  0.05092939] ACT: [-0.49953555  0.0215461 ] \n",
      "STATE: [ 0.11761107  0.66148026 -0.27077009  0.01718422] ACT: [-0.35954148 -0.34746212] \n",
      "STATE: [ 0.02831953  0.65180549 -0.25511868 -0.02764221] ACT: [-0.02420431 -0.49941381] \n",
      "STATE: [-0.0538161   0.62750808 -0.23467323 -0.06942117] ACT: [ 0.04232331 -0.49820552] \n",
      "final state  [-0.0538161   0.62750808]\n",
      "STATE: [ 0.82557383  0.61793526 -0.03880543 -0.02020398] ACT: [-0.44349067 -0.23090264] \n",
      "STATE: [ 0.79930133  0.60425653 -0.07506426 -0.03908208] ACT: [-0.44349067 -0.23090264] \n",
      "STATE: [ 0.76127649  0.5842052  -0.10864242 -0.05728953] ACT: [-0.44004858 -0.23739681] \n",
      "STATE: [ 0.71505669  0.55450663 -0.13205655 -0.08485305] ACT: [-0.34907192 -0.35797876] \n",
      "STATE: [ 0.66325057  0.51410093 -0.14801749 -0.11544485] ACT: [-0.28145308 -0.41326041] \n",
      "STATE: [ 0.61323131  0.46111954 -0.14291217 -0.1513754 ] ACT: [-0.05266669 -0.49721848] \n",
      "STATE: [ 0.57647796  0.40000451 -0.10500959 -0.17461435] ACT: [ 0.32598828 -0.37911956] \n",
      "STATE: [ 0.55072821  0.33022516 -0.07357069 -0.19936959] ACT: [ 0.28054448 -0.41387775] \n",
      "STATE: [ 0.52963939  0.25000358 -0.06025379 -0.22920452] ACT: [ 0.0970151  -0.49049778] \n",
      "STATE: [ 0.50482206  0.1606127  -0.07090664 -0.25540249] ACT: [-0.16693717 -0.47130879] \n",
      "STATE: [ 0.46802442  0.07006891 -0.10513611 -0.25869655] ACT: [-0.44437388 -0.22919828] \n",
      "STATE: [ 0.41857978 -0.01177371 -0.1412704  -0.23383605] ACT: [-0.49181544  0.09009757] \n",
      "final state  [ 0.41857978 -0.01177371]\n",
      "STATE: [ 0.777428    0.8001612  -0.03468297 -0.02666748] ACT: [-0.39637677 -0.30477116] \n",
      "STATE: [ 0.75423387  0.78174424 -0.06626893 -0.05261987] ACT: [-0.3869946 -0.3165994] \n",
      "STATE: [ 0.7207689   0.75476867 -0.09561421 -0.07707305] ACT: [-0.38507633 -0.3189298 ] \n",
      "STATE: [ 0.67772434  0.71977537 -0.12298444 -0.09998086] ACT: [-0.38451336 -0.31960832] \n",
      "STATE: [ 0.62544513  0.6776423  -0.14936918 -0.12038022] ACT: [-0.39377823 -0.30812125] \n",
      "STATE: [ 0.56186895  0.63408315 -0.18164623 -0.12445469] ACT: [-0.4809074  -0.13685053] \n",
      "STATE: [ 0.48728776  0.59541364 -0.21308913 -0.11048432] ACT: [-0.49558209  0.06632036] \n",
      "STATE: [ 0.40613385  0.56942963 -0.23186831 -0.07424003] ACT: [-0.3744361   0.33135721] \n",
      "STATE: [ 0.31807976  0.55437036 -0.2515831  -0.04302647] ACT: [-0.39921306  0.3010464 ] \n",
      "STATE: [ 0.2207553   0.54312822 -0.27806989 -0.03212041] ACT: [-0.49139355  0.09237085] \n",
      "STATE: [ 0.11610907  0.52580149 -0.29898924 -0.04950495] ACT: [-0.44763065 -0.22277074] \n",
      "STATE: [ 0.01847196  0.49429998 -0.27896316 -0.09000431] ACT: [ 0.00462759 -0.49997858] \n",
      "STATE: [-0.06862509  0.45012147 -0.24884872 -0.12622432] ACT: [ 0.13494264 -0.48144624] \n",
      "final state  [-0.06862509  0.45012147]\n",
      "STATE: [ 0.77322572  0.74160363 -0.03508469 -0.0261367 ] ACT: [-0.4009679  -0.29870511] \n",
      "STATE: [ 0.74947229  0.72390827 -0.06786695 -0.05055817] ACT: [-0.4009679  -0.29870511] \n",
      "STATE: [ 0.71498246  0.69824727 -0.09854237 -0.07331716] ACT: [-0.4014764  -0.29802131] \n",
      "STATE: [ 0.67089082  0.66535038 -0.12597612 -0.0939911 ] ACT: [-0.38743541 -0.29126147] \n",
      "STATE: [ 0.61673836  0.62644792 -0.15472131 -0.11114989] ACT: [-0.42299849 -0.26659384] \n",
      "STATE: [ 0.55278381  0.59612984 -0.1827273  -0.08662308] ACT: [-0.43610945  0.196944  ] \n",
      "STATE: [ 0.48488051  0.58076746 -0.19400944 -0.04389251] ACT: [-0.26598425  0.42338207] \n",
      "STATE: [ 4.16196695e-01  5.80802470e-01 -1.96239461e-01  1.00029611e-04] ACT: [-0.17099303  0.46985251] \n",
      "STATE: [ 0.33900126  0.5888961  -0.22055838  0.02312466] ACT: [-0.42511008  0.26321363] \n",
      "STATE: [ 0.25224131  0.60097764 -0.24788559  0.03451869] ACT: [-0.47772977  0.14756106] \n",
      "STATE: [ 0.15597048  0.61045078 -0.27505949  0.0270661 ] ACT: [-0.49647302 -0.05928353] \n",
      "STATE: [ 0.0606086   0.60497684 -0.27246254 -0.01563983] ACT: [-0.17661517 -0.46776819] \n",
      "STATE: [-0.02709106  0.58461413 -0.25057045 -0.05817915] ACT: [ 0.04584832 -0.49789349] \n",
      "final state  [-0.02709106  0.58461413]\n",
      "STATE: [ 0.82470928  0.8896548  -0.03359984 -0.02801987] ACT: [-0.38399819 -0.3202271 ] \n",
      "STATE: [ 0.80196114  0.87068447 -0.06499469 -0.05420094] ACT: [-0.38399819 -0.3202271 ] \n",
      "STATE: [ 0.76908028  0.84299318 -0.09394532 -0.07911796] ACT: [-0.37961036 -0.32541662] \n",
      "STATE: [ 0.72696599  0.80688623 -0.12032655 -0.10316272] ACT: [-0.37195868 -0.33413581] \n",
      "STATE: [ 0.67639087  0.76273335 -0.14450032 -0.1261511 ] ACT: [-0.36651667 -0.34009635] \n",
      "STATE: [ 0.61787528  0.71110028 -0.16718742 -0.14752304] ACT: [-0.36765634 -0.33886401] \n",
      "STATE: [ 0.54949186  0.65682185 -0.19538118 -0.15508124] ACT: [-0.44760496 -0.19702173] \n",
      "STATE: [ 0.47142405  0.61190417 -0.2230509  -0.12833623] ACT: [-0.46276126  0.1893463 ] \n",
      "STATE: [ 0.38530188  0.57773323 -0.24606335 -0.09763126] ACT: [-0.43028755  0.25466178] \n",
      "STATE: [ 0.29079247  0.5519186  -0.27002687 -0.07375608] ACT: [-0.45841637  0.19963574] \n",
      "STATE: [ 0.1871782   0.5273895  -0.29604078 -0.07008313] ACT: [-0.499822   -0.01334048] \n",
      "STATE: [ 0.07846467  0.49483229 -0.31061007 -0.09302061] ACT: [-0.38853671 -0.31470498] \n",
      "STATE: [-0.02123233  0.44921526 -0.28484858 -0.13033437] ACT: [ 0.06145941 -0.49620836] \n",
      "final state  [-0.02123233  0.44921526]\n",
      "STATE: [ 0.66635961  0.79696517 -0.03122208 -0.03064709] ACT: [-0.35682378 -0.35025246] \n",
      "STATE: [ 0.64557381  0.77586842 -0.059388   -0.06027642] ACT: [-0.34531278 -0.36160626] \n",
      "STATE: [ 0.61525233  0.74540124 -0.0866328  -0.08704911] ACT: [-0.35591012 -0.35118084] \n",
      "STATE: [ 0.57539099  0.70685683 -0.11388956 -0.11012687] ACT: [-0.37648043 -0.32903266] \n",
      "STATE: [ 0.52311347  0.66792478 -0.14936432 -0.11123443] ACT: [-0.490843   -0.09525306] \n",
      "STATE: [ 0.45963952  0.63607743 -0.18135417 -0.09099245] ACT: [-0.47762149  0.14791116] \n",
      "STATE: [ 0.38731411  0.61438432 -0.20664401 -0.06198031] ACT: [-0.42504241  0.2633229 ] \n",
      "STATE: [ 0.30597648  0.60083598 -0.23239324 -0.03870954] ACT: [-0.4492599  0.2194665] \n",
      "STATE: [ 0.2146711   0.58863882 -0.26087251 -0.03484903] ACT: [-0.4997723   0.01508793] \n",
      "STATE: [ 0.11494658  0.5720658  -0.28492721 -0.04735147] ACT: [-0.47056522 -0.16902181] \n",
      "STATE: [ 0.02182619  0.54126801 -0.26605826 -0.0879937 ] ACT: [ 0.0019497 -0.4999962] \n",
      "STATE: [-0.06296509  0.49734032 -0.24226081 -0.12550768] ACT: [ 0.07242714 -0.4947265 ] \n",
      "final state  [-0.06296509  0.49734032]\n",
      "STATE: [ 0.82763514  0.64171039 -0.03822128 -0.0212884 ] ACT: [-0.43681467 -0.24329599] \n",
      "STATE: [ 0.80155368  0.62767703 -0.07451845 -0.04009533] ACT: [-0.44349067 -0.23090264] \n",
      "STATE: [ 0.76375916  0.60719906 -0.10798434 -0.05850848] ACT: [-0.43835619 -0.24050748] \n",
      "STATE: [ 0.71612108  0.57897673 -0.1361088  -0.08063523] ACT: [-0.40241069 -0.29675855] \n",
      "STATE: [ 0.66296553  0.53996692 -0.15187299 -0.11145662] ACT: [-0.28224375 -0.41272081] \n",
      "STATE: [ 0.62144158  0.49054947 -0.11863987 -0.14119271] ACT: [ 0.26590232 -0.42343353] \n",
      "STATE: [ 0.57792205  0.42996025 -0.12434152 -0.17311206] ACT: [-0.15414156 -0.47068712] \n",
      "STATE: [ 0.54470707  0.35996843 -0.09489995 -0.19997662] ACT: [ 0.24321894 -0.43685758] \n",
      "STATE: [ 0.51947272  0.28039865 -0.07209812 -0.22734222] ACT: [ 0.18941734 -0.46273218] \n",
      "STATE: [ 0.49327205  0.19096436 -0.07485906 -0.25552656] ACT: [-0.0856272  -0.49261342] \n",
      "STATE: [ 0.45586568  0.09918859 -0.10687535 -0.26221648] ACT: [-0.42204475 -0.26810115] \n",
      "STATE: [ 0.40572163  0.01534916 -0.1432687  -0.23954123] ACT: [-0.49608047  0.06248333] \n",
      "STATE: [ 0.34434102 -0.05814774 -0.17537317 -0.20999112] ACT: [-0.47435973  0.15805964] \n",
      "final state  [ 0.34434102 -0.05814774]\n",
      "After 19 REWARD:  (0.6233024199110241, array([ 0.0769365 ,  0.35302413, -0.22479608, -0.14283899]), -0.1916856402651702)\n",
      "UPDATING THE ACTION MATRIX\n"
     ]
    },
    {
     "name": "stderr",
     "output_type": "stream",
     "text": [
      "100%|█████████████████████████████████████████████████████████████████████████████████████████████████████████████████████████| 25/25 [00:03<00:00,  6.90it/s]\n"
     ]
    }
   ],
   "source": [
    "X_dyn_train, y_dyn_train = gen_dynamics_dataset(env, 20, bayes_model, fully_rand=True)\n",
    "bayes_model.train(X_dyn_train, y_dyn_train, X_dyn_train[0:100], y_dyn_train[0:100])\n",
    "bayes_model.epochs = int(0.75*EPOCHS)\n",
    "print(\"After Initialization REWARD: \", estimate_reward(env, bayes_model, 2))\n",
    "for iteration in range(EPISODES):\n",
    "    X_dyn_train, y_dyn_train = gen_dynamics_dataset(env, EXPLORE, bayes_model, X_dyn_train, y_dyn_train)\n",
    "    bayes_model.train(X_dyn_train, y_dyn_train, X_dyn_train[0:100], y_dyn_train[0:100])\n",
    "    reward = estimate_reward(env, bayes_model, 10)\n",
    "    print(\"After %s REWARD: \"%(iteration), reward)\n",
    "    update_AM(env, bayes_model, ACTION_MATRIX)\n"
   ]
  },
  {
   "cell_type": "code",
   "execution_count": 12,
   "id": "7005ab28",
   "metadata": {},
   "outputs": [
    {
     "name": "stdout",
     "output_type": "stream",
     "text": [
      "('batch_size', 64)\n",
      "('learning_rate', 0.02)\n",
      "('decay', 0.0)\n",
      "('epochs', 37)\n",
      "('inflate_prior', 0.1)\n",
      "('input_noise', 0.0)\n",
      "('robust_train', 0)\n",
      "('epsilon', 0.05)\n",
      "('robust_lambda', 0.5)\n",
      "('loss_monte_carlo', 2)\n",
      "('input_upper', inf)\n",
      "('input_lower', -inf)\n",
      "('record_epochs', 2)\n",
      "('full_covar', 0)\n",
      "('expl_lr', 0.0004)\n",
      "WARNING:tensorflow:Compiled the loaded model, but the compiled metrics have yet to be built. `model.compile_metrics` will be empty until you train or evaluate the model.\n",
      "WARNING:tensorflow:Compiled the loaded model, but the compiled metrics have yet to be built. `model.compile_metrics` will be empty until you train or evaluate the model.\n"
     ]
    },
    {
     "name": "stderr",
     "output_type": "stream",
     "text": [
      "/Users/matthewwicker/opt/anaconda3/envs/bayesdev/lib/python3.10/site-packages/numpy/core/fromnumeric.py:43: VisibleDeprecationWarning: Creating an ndarray from ragged nested sequences (which is a list-or-tuple of lists-or-tuples-or ndarrays with different lengths or shapes) is deprecated. If you meant to do this, you must specify 'dtype=object' when creating the ndarray.\n",
      "  result = getattr(asarray(obj), method)(*args, **kwds)\n"
     ]
    }
   ],
   "source": [
    "bayes_model.save(\"MinimalModel\")"
   ]
  },
  {
   "cell_type": "code",
   "execution_count": 13,
   "id": "4393a889",
   "metadata": {},
   "outputs": [],
   "source": [
    "np.save(\"MinimalAM\", ACTION_MATRIX)"
   ]
  },
  {
   "cell_type": "raw",
   "id": "eb342f44",
   "metadata": {},
   "source": [
    "x_check = np.asarray([[0.25,0.25,-0.3,-0.3,-0.1,-0.1]])\n",
    "ol, ou = deepbayes_prealpha.analyzers.IBP_prob(bayes_model, x_check, x_check+0.01, bayes_model.model.get_weights(), 2.5)\n",
    "print(ol)\n",
    "print(ou)\n"
   ]
  }
 ],
 "metadata": {
  "kernelspec": {
   "display_name": "Python 3 (ipykernel)",
   "language": "python",
   "name": "python3"
  },
  "language_info": {
   "codemirror_mode": {
    "name": "ipython",
    "version": 3
   },
   "file_extension": ".py",
   "mimetype": "text/x-python",
   "name": "python",
   "nbconvert_exporter": "python",
   "pygments_lexer": "ipython3",
   "version": "3.10.4"
  }
 },
 "nbformat": 4,
 "nbformat_minor": 5
}
