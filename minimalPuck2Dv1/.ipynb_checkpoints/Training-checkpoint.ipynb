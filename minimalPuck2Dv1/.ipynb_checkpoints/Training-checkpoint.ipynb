{
 "cells": [
  {
   "cell_type": "code",
   "execution_count": 1,
   "id": "dca84b9d",
   "metadata": {},
   "outputs": [],
   "source": [
    "# Standard Libarary Imports\n",
    "import os\n",
    "import sys\n",
    "import math\n",
    "import random\n",
    "sys.path.append(\"..\")\n",
    "# External Libaray Imports\n",
    "import numpy as np\n",
    "from tqdm import trange\n",
    "import matplotlib\n",
    "import matplotlib.pyplot as plt\n",
    "import tensorflow as tf\n",
    "from tensorflow.keras.models import *\n",
    "from tensorflow.keras.layers import *\n",
    "# Deep Learning and Bayesian Deep Learning Imports\n",
    "import deepbayes_prealpha\n",
    "import deepbayes_prealpha.optimizers as optimizers\n",
    "\n",
    "seed_value = 102\n",
    "random.seed(seed_value)\n",
    "np.random.seed(seed_value)\n",
    "tf.random.set_seed(seed_value)"
   ]
  },
  {
   "cell_type": "code",
   "execution_count": 2,
   "id": "e8b07fc8",
   "metadata": {},
   "outputs": [],
   "source": [
    "pos_ind = 0\n",
    "EPOCHS = 50\n",
    "HORIZON = 50\n",
    "EXPLORE = 15\n",
    "C_STATES = 35\n",
    "EPISODES = 20 # 10 for all but three layers\n",
    "SPEED_LIMIT = 0.5\n",
    "GOAL_STATE = [-0.1,-0.1]\n",
    "OBSTACLES = np.asarray([[0.4, 0.4]])\n",
    "OBSTACLE = OBSTACLES[0]\n",
    "ATTRACTORS = np.asarray([[0.1, 0.0], [0.0, 0.1]])"
   ]
  },
  {
   "cell_type": "code",
   "execution_count": 3,
   "id": "20bd0810",
   "metadata": {},
   "outputs": [],
   "source": [
    "\"\"\"\n",
    "The handcrafted 2D point environment we consider\n",
    "\"\"\"\n",
    "class P2D_env:\n",
    "    def __init__(self):\n",
    "        self.x = 0.80  + random.uniform(-0.1, 0)\n",
    "        self.y = 0.80  + random.uniform(-0.1, 0)  #np.random.normal(-0.05, 0.025)\n",
    "        self.dx = 0.0\n",
    "        self.dy = 0.0\n",
    "        # Point Mass Dynamics Control:\n",
    "        self.h = 0.35      # time resolution\n",
    "        self.T = HORIZON       # Time for each trajectory\n",
    "        self.eta = 0.75    # friction coef\n",
    "        self.m = 4.0      # mass of the car\n",
    "        self.t = 0        # current time\n",
    "\n",
    "    def step(self, act):\n",
    "        if(self.t > self.T):\n",
    "            sys.exit(-1)\n",
    "        pt = np.asarray([self.x, self.y])\n",
    "        vt = np.asarray([self.dx, self.dy])\n",
    "        ut = np.asarray(act)\n",
    "        vt_1 = ((1-((self.h*self.eta)/self.m))*vt) + ((self.h/self.m)*ut)\n",
    "        pt_1 = pt + (self.h*vt_1)\n",
    "        if(np.linalg.norm(pt_1 - OBSTACLE) < 0.05):\n",
    "            print(\"COLLIDED\")\n",
    "            self.dx, self.dy = 0, 0\n",
    "        self.x, self.y = pt_1[0], pt_1[1]\n",
    "        self.dx, self.dy = vt_1[0], vt_1[1]\n",
    "        self.t += 1\n",
    "        state = np.asarray([self.x, self.y, self.dx, self.dy])\n",
    "        return state, np.linalg.norm(pt) - np.linalg.norm(pt_1), self.complete(), 0\n",
    "\n",
    "    def complete(self):\n",
    "        state = np.asarray([self.x, self.y])\n",
    "        if(self.x < 0.05 and self.y < 0.05):\n",
    "            return True\n",
    "        if(self.x < 0.0 or self.y < 0.0):\n",
    "            return True\n",
    "        #if(np.linalg.norm(state) < 0.05):\n",
    "        #    return True\n",
    "        if(self.t==self.T):\n",
    "            return True\n",
    "    def reset(self):\n",
    "        self.x = 0.90  + random.uniform(-0.3, 0)\n",
    "        self.y = 0.90  + random.uniform(-0.3, 0)\n",
    "        self.dx = 0.0\n",
    "        self.dy = 0.0\n",
    "        self.t = 0\n",
    "        return np.asarray([self.x, self.y, self.dx, self.dy])\n",
    "    def action_space_sample(self):\n",
    "        return np.random.rand(2)\n",
    "    def observation_space_sample(self):\n",
    "        return np.random.rand(4)"
   ]
  },
  {
   "cell_type": "code",
   "execution_count": 4,
   "id": "c55efe8f",
   "metadata": {},
   "outputs": [],
   "source": [
    "env = P2D_env()\n",
    "state_0 = env.reset()\n",
    "action_dims = len(env.action_space_sample())\n",
    "observe_dims = len(env.observation_space_sample())\n",
    "model_input_dims = observe_dims + action_dims\n",
    "model_output_dims = observe_dims\n",
    "control_input_dims = observe_dims\n",
    "control_output_dims = action_dims"
   ]
  },
  {
   "cell_type": "code",
   "execution_count": 5,
   "id": "d90850be",
   "metadata": {},
   "outputs": [
    {
     "name": "stdout",
     "output_type": "stream",
     "text": [
      "This optimizer does not have a default compilation method. Please make sure to call the correct .compile method before use.\n",
      "deepbayes: Using implicit prior\n",
      "(6, 25) 0.12909944487358055\n",
      "(25, 25) 0.06324555320336758\n",
      "(25, 4) 0.06324555320336758\n",
      "deepbayes: Using implicit prior\n",
      "(6, 25) 0.12909944487358055\n",
      "(25, 25) 0.06324555320336758\n",
      "(25, 4) 0.06324555320336758\n"
     ]
    },
    {
     "name": "stderr",
     "output_type": "stream",
     "text": [
      "2023-03-02 21:09:00.603055: I tensorflow/core/platform/cpu_feature_guard.cc:193] This TensorFlow binary is optimized with oneAPI Deep Neural Network Library (oneDNN) to use the following CPU instructions in performance-critical operations:  SSE4.1 SSE4.2\n",
      "To enable them in other operations, rebuild TensorFlow with the appropriate compiler flags.\n"
     ]
    }
   ],
   "source": [
    "model = Sequential()\n",
    "model.add(Dense(12, input_shape=(model_input_dims,), activation=\"sigmoid\", dtype='float32'))\n",
    "model.add(Dense(12, activation=\"sigmoid\"))\n",
    "model.add(Dense(12, activation=\"sigmoid\"))\n",
    "model.add(Dense(model_output_dims, activation=\"linear\"))\n",
    "learning_rate = 0.02; decay=0.0\n",
    "#opt = optimizers.VariationalOnlineGuassNewton()\n",
    "opt = optimizers.StochasticWeightAveragingGaussian()\n",
    "mse_loss = tf.keras.losses.mean_squared_error\n",
    "def cust_loss(y_true, y_pred):\n",
    "    y_true = tf.cast(y_true, dtype=tf.float32)\n",
    "    y_pred = tf.cast(y_pred, dtype=tf.float32)\n",
    "    loss = tf.where(tf.math.reduce_all(y_pred > y_true, 1), 2.5*mse_loss(y_true, y_pred), mse_loss(y_true, y_pred))\n",
    "    return loss\n",
    "loss = cust_loss\n",
    "#bayes_model = opt.compile(model, loss_fn=loss, epochs=35, learning_rate=learning_rate,\n",
    "#                          decay=decay, inflate_prior=0.001, mode='regression', robust_train=10, linear_schedule=False)\n",
    "bayes_model = opt.compile(model, loss_fn=loss, epochs=35, learning_rate=learning_rate,\n",
    "                          decay=decay, inflate_prior=0.1, mode='regression', robust_train=0, linear_schedule=False)\n",
    "\n",
    "\n",
    "opt.epsilon = 0.05"
   ]
  },
  {
   "cell_type": "code",
   "execution_count": 6,
   "id": "3297f057",
   "metadata": {},
   "outputs": [],
   "source": [
    "def tf_reward_function(state_0, dyn_pred, goal):\n",
    "    state_0 = tf.squeeze(state_0)\n",
    "    dyn_pred = tf.squeeze(dyn_pred)\n",
    "    state_0 = tf.cast(state_0, dtype=tf.float64)\n",
    "    dyn_pred = tf.cast(dyn_pred, dtype=tf.float64)\n",
    "    state_1 = state_0 + dyn_pred\n",
    "    d1 = tf.norm(state_0[:,pos_ind:pos_ind+2] - goal, axis=1)\n",
    "    d2 = tf.norm(state_1[:,pos_ind:pos_ind+2] - goal, axis=1)\n",
    "    attractor_reward = 0\n",
    "    for a in ATTRACTORS:\n",
    "        #attractor_reward -= 0.5/(tf.norm(a - state_1[:,pos_ind:pos_ind+2], axis=1))\n",
    "        dist_a1 = tf.norm(a - state_1[:,pos_ind:pos_ind+2], axis=1)\n",
    "        non_reward = tf.cast(tf.ones(dist_a1.shape)*100, tf.float64)\n",
    "        dist_a1 = tf.where(dist_a1 < 0.45, dist_a1, non_reward)\n",
    "        value = 15/(dist_a1)\n",
    "        attractor_reward -= value\n",
    "    obstacle_penalty = 0\n",
    "    for o in OBSTACLES:\n",
    "        dist_o1 = tf.norm(o - state_0[:,pos_ind:pos_ind+2], axis=1)\n",
    "        dist_o2 = tf.norm(o - state_1[:,pos_ind:pos_ind+2], axis=1)\n",
    "        non_error = tf.cast(tf.ones(dist_o2.shape)*100, tf.float64)\n",
    "        dist_o2 = tf.where(dist_o2 < 0.35, dist_o2, non_error)\n",
    "        value = 12.5/(dist_o2)\n",
    "        obstacle_penalty += value\n",
    "    #return (-1.5*(d2-d1)) + (0.3/o2)\n",
    "    return (-1.0/(d2-d1)) + obstacle_penalty + attractor_reward\n"
   ]
  },
  {
   "cell_type": "code",
   "execution_count": 7,
   "id": "56d069f3",
   "metadata": {},
   "outputs": [],
   "source": [
    "ACTION_MATRIX = (np.random.rand(C_STATES, C_STATES, action_dims)*-0.5)\n",
    "\n",
    "def return_AM_action(state_0, ACTION_MATRIX):\n",
    "    #ind_i = math.floor(state_0[0]*C_STATES)\n",
    "    #ind_j = math.floor(state_0[1]*C_STATES)\n",
    "    ind_i = round(state_0[0]*C_STATES)\n",
    "    ind_j = round(state_0[1]*C_STATES)\n",
    "    a, b = random.uniform(-0.4, 0), random.uniform(-0.4, 0)\n",
    "    retval = [a, b]\n",
    "    try:\n",
    "        retval =  ACTION_MATRIX[ind_i][ind_j]\n",
    "    except:\n",
    "        if(ind_i >= C_STATES*0.9 and ind_j >= C_STATES*0.9):\n",
    "            retval = [-0, -0]\n",
    "        elif(ind_j >= C_STATES*0.9):\n",
    "            retval = ACTION_MATRIX[ind_i][C_STATES-1]\n",
    "            retval[1] = -0\n",
    "        elif(ind_j >= C_STATES*0.9):\n",
    "            retval = ACTION_MATRIX[C_STATES-1][ind_j]\n",
    "            retval[0] = -0\n",
    "    return retval"
   ]
  },
  {
   "cell_type": "code",
   "execution_count": 8,
   "id": "6a2dc7d5",
   "metadata": {},
   "outputs": [],
   "source": [
    "# Define function to sample {(s,a) -> s} dataset\n",
    "def gen_dynamics_dataset(env, size, dyn_model, X=[], y=[], fully_rand=False):\n",
    "    X_train = list(X); y_train = list(y)\n",
    "    appended = 0\n",
    "    for traj in trange(size, desc=\"Generating Dynamics Dataset\"):\n",
    "        done = False\n",
    "        prev_obs = env.reset()\n",
    "        #prev_obs = np.concatenate((obs,env.robot_pos))\n",
    "        while(not done):\n",
    "            if(fully_rand==True):\n",
    "                act = env.action_space_sample()\n",
    "            else:\n",
    "                #print(\"MAKING PREDICTION: \", fully_rand==False)\n",
    "                act = return_AM_action(prev_obs, ACTION_MATRIX)\n",
    "            obs, reward, done, collisions = env.step(act)\n",
    "            #obs = np.concatenate((obs, env.robot_pos))\n",
    "            x = np.concatenate((prev_obs,act))\n",
    "            y = obs - prev_obs\n",
    "            X_train.append(x); y_train.append(y)\n",
    "            prev_obs = obs\n",
    "    return np.asarray(X_train), np.asarray(y_train)"
   ]
  },
  {
   "cell_type": "code",
   "execution_count": 9,
   "id": "e57ed259",
   "metadata": {},
   "outputs": [],
   "source": [
    "# Define a metric for how we are doing on the reward signal\n",
    "def estimate_reward(env, dyn_model, size=5):\n",
    "    reward = 0\n",
    "    final_state = []\n",
    "    rot_info = []\n",
    "    saved_trajectories = []\n",
    "    for traj in trange(size):\n",
    "        done = False\n",
    "        t = []\n",
    "        prev_obs = env.reset()\n",
    "        #prev_obs = env.robot_pos\n",
    "        counter = 0\n",
    "        while(not done):\n",
    "            t.append(prev_obs)\n",
    "            act = return_AM_action(prev_obs, ACTION_MATRIX)\n",
    "            obs, r, done, collisions = env.step(act)\n",
    "            #obs = env.robot_pos\n",
    "            print(\"STATE: %s ACT: %s \"%(obs, act))\n",
    "            rot_info.append(np.squeeze(act)[1])\n",
    "            reward += r; counter += 1\n",
    "            prev_obs = obs\n",
    "        final_state.append(obs)\n",
    "        saved_trajectories.append(t)\n",
    "        print(\"final state \", obs[pos_ind:pos_ind+2])\n",
    "    reward/=size\n",
    "    np.save(\"LearnedSystem/simulations\", saved_trajectories)\n",
    "    return reward, np.mean(final_state, axis=0), np.mean(rot_info)"
   ]
  },
  {
   "cell_type": "code",
   "execution_count": 10,
   "id": "c8e8c33a",
   "metadata": {},
   "outputs": [],
   "source": [
    "def action_gradient(model, inp, loss_fn, w):\n",
    "    gradient_sum = tf.zeros(np.asarray(inp).shape)\n",
    "    inp = tf.convert_to_tensor(inp)\n",
    "    model.model.set_weights(w)\n",
    "    with tf.GradientTape(persistent=True) as tape:\n",
    "        tape.watch(inp)\n",
    "        predictions = model.model(inp)\n",
    "        loss = loss_fn([tf.squeeze(inp)[:,0:-2]], predictions, GOAL_STATE)\n",
    "    inp_gradient = tape.gradient(loss, inp)\n",
    "    inp_gradient = tf.cast(inp_gradient, 'float32')\n",
    "    return tf.squeeze(inp_gradient)[:,-2:]\n",
    "\n",
    "def update_AM(env, bayes_model, ACTION_MATRIX, iterations=25, learning_rate=0.01):\n",
    "    print(\"UPDATING THE ACTION MATRIX\")\n",
    "    #if(loss is None):\n",
    "    loss = tf_reward_function # This is gobally defined\n",
    "    for _ in trange(iterations):\n",
    "        X_data = []\n",
    "        Y_data = []\n",
    "        for i in range(len(ACTION_MATRIX)):\n",
    "            for j in range(len(ACTION_MATRIX[0])):\n",
    "                a, b = random.uniform(-0.4, 0), random.uniform(-0.4, 0)\n",
    "                state_vars = [i/C_STATES, j/C_STATES, a, b]\n",
    "                action_vars = ACTION_MATRIX[i][j]\n",
    "                state = np.concatenate((state_vars, action_vars))\n",
    "                X_data.append(state)\n",
    "        grads = action_gradient(bayes_model, X_data, loss, bayes_model.sample())\n",
    "        #grads = np.clip(grads, -0.75, 0.75)\n",
    "        update = np.zeros((C_STATES, C_STATES, 2))\n",
    "        for i in range(len(ACTION_MATRIX)):\n",
    "            for j in range(len(ACTION_MATRIX[0])):\n",
    "                update[i][j] = grads[i*C_STATES + j]\n",
    "        ACTION_MATRIX -= learning_rate * np.asarray(update)\n",
    "        for i in range(len(ACTION_MATRIX)):\n",
    "            for j in range(len(ACTION_MATRIX[0])):\n",
    "                if(np.linalg.norm(ACTION_MATRIX[i][j]) > SPEED_LIMIT):\n",
    "                    ACTION_MATRIX[i][j] /= np.linalg.norm(ACTION_MATRIX[i][j])\n",
    "                    ACTION_MATRIX[i][j] *= SPEED_LIMIT"
   ]
  },
  {
   "cell_type": "code",
   "execution_count": 11,
   "id": "767ea614",
   "metadata": {},
   "outputs": [
    {
     "name": "stderr",
     "output_type": "stream",
     "text": [
      "Generating Dynamics Dataset: 100%|███████████████████████████████████████████████████████████████████████████████████████████| 20/20 [00:00<00:00, 771.30it/s]\n",
      "100%|████████████████████████████████████████████████████████████████████████████████████████████████████████████████████████| 16/16 [00:00<00:00, 189.59it/s]\n"
     ]
    },
    {
     "name": "stdout",
     "output_type": "stream",
     "text": [
      "Epoch 1, loss: 1.329, err: 1.153, val_loss: 0.003, val_err: 0.051\n"
     ]
    },
    {
     "name": "stderr",
     "output_type": "stream",
     "text": [
      "100%|████████████████████████████████████████████████████████████████████████████████████████████████████████████████████████| 16/16 [00:00<00:00, 230.61it/s]\n"
     ]
    },
    {
     "name": "stdout",
     "output_type": "stream",
     "text": [
      "Epoch 2, loss: 0.002, err: 0.049, val_loss: 0.003, val_err: 0.051\n"
     ]
    },
    {
     "name": "stderr",
     "output_type": "stream",
     "text": [
      "100%|████████████████████████████████████████████████████████████████████████████████████████████████████████████████████████| 16/16 [00:00<00:00, 229.46it/s]\n"
     ]
    },
    {
     "name": "stdout",
     "output_type": "stream",
     "text": [
      "Epoch 3, loss: 0.002, err: 0.049, val_loss: 0.003, val_err: 0.051\n"
     ]
    },
    {
     "name": "stderr",
     "output_type": "stream",
     "text": [
      "100%|████████████████████████████████████████████████████████████████████████████████████████████████████████████████████████| 16/16 [00:00<00:00, 226.01it/s]\n"
     ]
    },
    {
     "name": "stdout",
     "output_type": "stream",
     "text": [
      "Epoch 4, loss: 0.002, err: 0.049, val_loss: 0.003, val_err: 0.051\n"
     ]
    },
    {
     "name": "stderr",
     "output_type": "stream",
     "text": [
      "100%|████████████████████████████████████████████████████████████████████████████████████████████████████████████████████████| 16/16 [00:00<00:00, 228.60it/s]\n"
     ]
    },
    {
     "name": "stdout",
     "output_type": "stream",
     "text": [
      "Epoch 5, loss: 0.002, err: 0.049, val_loss: 0.003, val_err: 0.051\n"
     ]
    },
    {
     "name": "stderr",
     "output_type": "stream",
     "text": [
      "100%|████████████████████████████████████████████████████████████████████████████████████████████████████████████████████████| 16/16 [00:00<00:00, 232.09it/s]\n"
     ]
    },
    {
     "name": "stdout",
     "output_type": "stream",
     "text": [
      "Epoch 6, loss: 0.002, err: 0.049, val_loss: 0.003, val_err: 0.051\n"
     ]
    },
    {
     "name": "stderr",
     "output_type": "stream",
     "text": [
      "100%|████████████████████████████████████████████████████████████████████████████████████████████████████████████████████████| 16/16 [00:00<00:00, 234.28it/s]\n"
     ]
    },
    {
     "name": "stdout",
     "output_type": "stream",
     "text": [
      "Epoch 7, loss: 0.002, err: 0.049, val_loss: 0.003, val_err: 0.051\n"
     ]
    },
    {
     "name": "stderr",
     "output_type": "stream",
     "text": [
      "100%|████████████████████████████████████████████████████████████████████████████████████████████████████████████████████████| 16/16 [00:00<00:00, 230.87it/s]\n"
     ]
    },
    {
     "name": "stdout",
     "output_type": "stream",
     "text": [
      "Epoch 8, loss: 0.002, err: 0.049, val_loss: 0.003, val_err: 0.051\n"
     ]
    },
    {
     "name": "stderr",
     "output_type": "stream",
     "text": [
      "100%|████████████████████████████████████████████████████████████████████████████████████████████████████████████████████████| 16/16 [00:00<00:00, 231.16it/s]\n"
     ]
    },
    {
     "name": "stdout",
     "output_type": "stream",
     "text": [
      "Epoch 9, loss: 0.002, err: 0.049, val_loss: 0.003, val_err: 0.051\n"
     ]
    },
    {
     "name": "stderr",
     "output_type": "stream",
     "text": [
      "100%|████████████████████████████████████████████████████████████████████████████████████████████████████████████████████████| 16/16 [00:00<00:00, 232.47it/s]\n"
     ]
    },
    {
     "name": "stdout",
     "output_type": "stream",
     "text": [
      "Epoch 10, loss: 0.002, err: 0.049, val_loss: 0.003, val_err: 0.051\n"
     ]
    },
    {
     "name": "stderr",
     "output_type": "stream",
     "text": [
      "100%|████████████████████████████████████████████████████████████████████████████████████████████████████████████████████████| 16/16 [00:00<00:00, 235.79it/s]\n"
     ]
    },
    {
     "name": "stdout",
     "output_type": "stream",
     "text": [
      "Epoch 11, loss: 0.002, err: 0.049, val_loss: 0.003, val_err: 0.051\n"
     ]
    },
    {
     "name": "stderr",
     "output_type": "stream",
     "text": [
      "100%|████████████████████████████████████████████████████████████████████████████████████████████████████████████████████████| 16/16 [00:00<00:00, 232.14it/s]\n"
     ]
    },
    {
     "name": "stdout",
     "output_type": "stream",
     "text": [
      "Epoch 12, loss: 0.002, err: 0.049, val_loss: 0.003, val_err: 0.051\n"
     ]
    },
    {
     "name": "stderr",
     "output_type": "stream",
     "text": [
      "100%|████████████████████████████████████████████████████████████████████████████████████████████████████████████████████████| 16/16 [00:00<00:00, 231.76it/s]\n"
     ]
    },
    {
     "name": "stdout",
     "output_type": "stream",
     "text": [
      "Epoch 13, loss: 0.002, err: 0.049, val_loss: 0.003, val_err: 0.051\n"
     ]
    },
    {
     "name": "stderr",
     "output_type": "stream",
     "text": [
      "100%|████████████████████████████████████████████████████████████████████████████████████████████████████████████████████████| 16/16 [00:00<00:00, 226.95it/s]\n"
     ]
    },
    {
     "name": "stdout",
     "output_type": "stream",
     "text": [
      "Epoch 14, loss: 0.002, err: 0.049, val_loss: 0.003, val_err: 0.051\n"
     ]
    },
    {
     "name": "stderr",
     "output_type": "stream",
     "text": [
      "100%|████████████████████████████████████████████████████████████████████████████████████████████████████████████████████████| 16/16 [00:00<00:00, 235.78it/s]\n"
     ]
    },
    {
     "name": "stdout",
     "output_type": "stream",
     "text": [
      "Epoch 15, loss: 0.002, err: 0.049, val_loss: 0.003, val_err: 0.051\n"
     ]
    },
    {
     "name": "stderr",
     "output_type": "stream",
     "text": [
      "100%|████████████████████████████████████████████████████████████████████████████████████████████████████████████████████████| 16/16 [00:00<00:00, 228.75it/s]\n"
     ]
    },
    {
     "name": "stdout",
     "output_type": "stream",
     "text": [
      "Epoch 16, loss: 0.002, err: 0.049, val_loss: 0.003, val_err: 0.051\n"
     ]
    },
    {
     "name": "stderr",
     "output_type": "stream",
     "text": [
      "100%|████████████████████████████████████████████████████████████████████████████████████████████████████████████████████████| 16/16 [00:00<00:00, 233.47it/s]\n"
     ]
    },
    {
     "name": "stdout",
     "output_type": "stream",
     "text": [
      "Epoch 17, loss: 0.002, err: 0.049, val_loss: 0.003, val_err: 0.051\n"
     ]
    },
    {
     "name": "stderr",
     "output_type": "stream",
     "text": [
      "100%|████████████████████████████████████████████████████████████████████████████████████████████████████████████████████████| 16/16 [00:00<00:00, 232.51it/s]\n"
     ]
    },
    {
     "name": "stdout",
     "output_type": "stream",
     "text": [
      "Epoch 18, loss: 0.002, err: 0.049, val_loss: 0.003, val_err: 0.051\n"
     ]
    },
    {
     "name": "stderr",
     "output_type": "stream",
     "text": [
      "100%|████████████████████████████████████████████████████████████████████████████████████████████████████████████████████████| 16/16 [00:00<00:00, 229.53it/s]\n"
     ]
    },
    {
     "name": "stdout",
     "output_type": "stream",
     "text": [
      "Epoch 19, loss: 0.002, err: 0.049, val_loss: 0.003, val_err: 0.051\n"
     ]
    },
    {
     "name": "stderr",
     "output_type": "stream",
     "text": [
      "100%|████████████████████████████████████████████████████████████████████████████████████████████████████████████████████████| 16/16 [00:00<00:00, 231.95it/s]\n"
     ]
    },
    {
     "name": "stdout",
     "output_type": "stream",
     "text": [
      "Epoch 20, loss: 0.002, err: 0.049, val_loss: 0.003, val_err: 0.051\n"
     ]
    },
    {
     "name": "stderr",
     "output_type": "stream",
     "text": [
      "100%|████████████████████████████████████████████████████████████████████████████████████████████████████████████████████████| 16/16 [00:00<00:00, 228.72it/s]\n"
     ]
    },
    {
     "name": "stdout",
     "output_type": "stream",
     "text": [
      "Epoch 21, loss: 0.002, err: 0.049, val_loss: 0.003, val_err: 0.051\n"
     ]
    },
    {
     "name": "stderr",
     "output_type": "stream",
     "text": [
      "100%|████████████████████████████████████████████████████████████████████████████████████████████████████████████████████████| 16/16 [00:00<00:00, 236.34it/s]\n"
     ]
    },
    {
     "name": "stdout",
     "output_type": "stream",
     "text": [
      "Epoch 22, loss: 0.002, err: 0.049, val_loss: 0.003, val_err: 0.051\n"
     ]
    },
    {
     "name": "stderr",
     "output_type": "stream",
     "text": [
      "100%|████████████████████████████████████████████████████████████████████████████████████████████████████████████████████████| 16/16 [00:00<00:00, 235.07it/s]\n"
     ]
    },
    {
     "name": "stdout",
     "output_type": "stream",
     "text": [
      "Epoch 23, loss: 0.002, err: 0.049, val_loss: 0.003, val_err: 0.050\n"
     ]
    },
    {
     "name": "stderr",
     "output_type": "stream",
     "text": [
      "100%|████████████████████████████████████████████████████████████████████████████████████████████████████████████████████████| 16/16 [00:00<00:00, 230.13it/s]\n"
     ]
    },
    {
     "name": "stdout",
     "output_type": "stream",
     "text": [
      "Epoch 24, loss: 0.002, err: 0.049, val_loss: 0.003, val_err: 0.051\n"
     ]
    },
    {
     "name": "stderr",
     "output_type": "stream",
     "text": [
      "100%|████████████████████████████████████████████████████████████████████████████████████████████████████████████████████████| 16/16 [00:00<00:00, 235.98it/s]\n"
     ]
    },
    {
     "name": "stdout",
     "output_type": "stream",
     "text": [
      "Epoch 25, loss: 0.002, err: 0.049, val_loss: 0.003, val_err: 0.051\n"
     ]
    },
    {
     "name": "stderr",
     "output_type": "stream",
     "text": [
      "100%|████████████████████████████████████████████████████████████████████████████████████████████████████████████████████████| 16/16 [00:00<00:00, 233.91it/s]\n"
     ]
    },
    {
     "name": "stdout",
     "output_type": "stream",
     "text": [
      "Epoch 26, loss: 0.002, err: 0.049, val_loss: 0.003, val_err: 0.051\n"
     ]
    },
    {
     "name": "stderr",
     "output_type": "stream",
     "text": [
      "100%|████████████████████████████████████████████████████████████████████████████████████████████████████████████████████████| 16/16 [00:00<00:00, 236.89it/s]\n"
     ]
    },
    {
     "name": "stdout",
     "output_type": "stream",
     "text": [
      "Epoch 27, loss: 0.002, err: 0.049, val_loss: 0.003, val_err: 0.051\n"
     ]
    },
    {
     "name": "stderr",
     "output_type": "stream",
     "text": [
      "100%|████████████████████████████████████████████████████████████████████████████████████████████████████████████████████████| 16/16 [00:00<00:00, 236.68it/s]\n"
     ]
    },
    {
     "name": "stdout",
     "output_type": "stream",
     "text": [
      "Epoch 28, loss: 0.002, err: 0.048, val_loss: 0.003, val_err: 0.051\n"
     ]
    },
    {
     "name": "stderr",
     "output_type": "stream",
     "text": [
      "100%|████████████████████████████████████████████████████████████████████████████████████████████████████████████████████████| 16/16 [00:00<00:00, 239.77it/s]\n"
     ]
    },
    {
     "name": "stdout",
     "output_type": "stream",
     "text": [
      "Epoch 29, loss: 0.002, err: 0.049, val_loss: 0.003, val_err: 0.050\n"
     ]
    },
    {
     "name": "stderr",
     "output_type": "stream",
     "text": [
      "100%|████████████████████████████████████████████████████████████████████████████████████████████████████████████████████████| 16/16 [00:00<00:00, 236.40it/s]\n"
     ]
    },
    {
     "name": "stdout",
     "output_type": "stream",
     "text": [
      "Epoch 30, loss: 0.002, err: 0.049, val_loss: 0.003, val_err: 0.051\n"
     ]
    },
    {
     "name": "stderr",
     "output_type": "stream",
     "text": [
      "100%|████████████████████████████████████████████████████████████████████████████████████████████████████████████████████████| 16/16 [00:00<00:00, 237.28it/s]\n"
     ]
    },
    {
     "name": "stdout",
     "output_type": "stream",
     "text": [
      "Epoch 31, loss: 0.002, err: 0.048, val_loss: 0.003, val_err: 0.051\n"
     ]
    },
    {
     "name": "stderr",
     "output_type": "stream",
     "text": [
      "100%|████████████████████████████████████████████████████████████████████████████████████████████████████████████████████████| 16/16 [00:00<00:00, 235.95it/s]\n"
     ]
    },
    {
     "name": "stdout",
     "output_type": "stream",
     "text": [
      "Epoch 32, loss: 0.002, err: 0.049, val_loss: 0.003, val_err: 0.051\n"
     ]
    },
    {
     "name": "stderr",
     "output_type": "stream",
     "text": [
      "100%|████████████████████████████████████████████████████████████████████████████████████████████████████████████████████████| 16/16 [00:00<00:00, 239.87it/s]\n"
     ]
    },
    {
     "name": "stdout",
     "output_type": "stream",
     "text": [
      "Epoch 33, loss: 0.002, err: 0.049, val_loss: 0.003, val_err: 0.051\n"
     ]
    },
    {
     "name": "stderr",
     "output_type": "stream",
     "text": [
      "100%|████████████████████████████████████████████████████████████████████████████████████████████████████████████████████████| 16/16 [00:00<00:00, 235.47it/s]\n"
     ]
    },
    {
     "name": "stdout",
     "output_type": "stream",
     "text": [
      "Epoch 34, loss: 0.002, err: 0.048, val_loss: 0.003, val_err: 0.051\n"
     ]
    },
    {
     "name": "stderr",
     "output_type": "stream",
     "text": [
      "100%|████████████████████████████████████████████████████████████████████████████████████████████████████████████████████████| 16/16 [00:00<00:00, 238.28it/s]\n"
     ]
    },
    {
     "name": "stdout",
     "output_type": "stream",
     "text": [
      "Epoch 35, loss: 0.002, err: 0.048, val_loss: 0.003, val_err: 0.051\n"
     ]
    },
    {
     "name": "stderr",
     "output_type": "stream",
     "text": [
      "100%|████████████████████████████████████████████████████████████████████████████████████████████████████████████████████████| 16/16 [00:00<00:00, 238.62it/s]\n"
     ]
    },
    {
     "name": "stdout",
     "output_type": "stream",
     "text": [
      "Epoch 36, loss: 0.002, err: 0.048, val_loss: 0.003, val_err: 0.051\n"
     ]
    },
    {
     "name": "stderr",
     "output_type": "stream",
     "text": [
      "100%|████████████████████████████████████████████████████████████████████████████████████████████████████████████████████████| 16/16 [00:00<00:00, 237.59it/s]\n"
     ]
    },
    {
     "name": "stdout",
     "output_type": "stream",
     "text": [
      "Epoch 37, loss: 0.002, err: 0.048, val_loss: 0.003, val_err: 0.051\n"
     ]
    },
    {
     "name": "stderr",
     "output_type": "stream",
     "text": [
      "100%|██████████████████████████████████████████████████████████████████████████████████████████████████████████████████████████| 2/2 [00:00<00:00, 451.36it/s]\n",
      "/Users/matthewwicker/opt/anaconda3/envs/bayesdev/lib/python3.10/site-packages/numpy/lib/npyio.py:518: VisibleDeprecationWarning: Creating an ndarray from ragged nested sequences (which is a list-or-tuple of lists-or-tuples-or ndarrays with different lengths or shapes) is deprecated. If you meant to do this, you must specify 'dtype=object' when creating the ndarray.\n",
      "  arr = np.asanyarray(arr)\n"
     ]
    },
    {
     "name": "stdout",
     "output_type": "stream",
     "text": [
      "STATE: [ 0.78958197  0.86315918 -0.03149058 -0.00996063] ACT: [-0.35989236 -0.11383582] \n",
      "STATE: [ 0.76826186  0.85641552 -0.06091459 -0.0192676 ] ACT: [-0.35989236 -0.11383582] \n",
      "STATE: [ 0.73907597  0.84923077 -0.08338825 -0.02052786] ACT: [-0.30252768 -0.02885368] \n",
      "STATE: [ 0.70122824  0.83399144 -0.10813639 -0.04354093] ACT: [-0.3453771  -0.27840235] \n",
      "STATE: [ 0.66172324  0.80858953 -0.11287142 -0.07257689] ACT: [-0.13521697 -0.36449526] \n",
      "STATE: [ 0.61502727  0.77322873 -0.13341705 -0.10103085] ACT: [-0.31946072 -0.37962082] \n",
      "STATE: [ 0.56096255  0.72511664 -0.15447064 -0.13746312] ACT: [-0.34067527 -0.49214192] \n",
      "STATE: [ 0.49812431  0.6698844  -0.17953783 -0.15780641] ACT: [-0.40233511 -0.33559202] \n",
      "STATE: [ 0.43553646  0.60602715 -0.17882243 -0.18244927] ACT: [-0.12647736 -0.39998758] \n",
      "STATE: [ 0.37188796  0.53373172 -0.18185286 -0.20655837] ACT: [-0.16875037 -0.4123695 ] \n",
      "STATE: [ 0.30697124  0.46525323 -0.18547634 -0.19565284] ACT: [-0.1778008  -0.03028411] \n",
      "STATE: [ 0.2404311   0.39885539 -0.19011468 -0.1897081 ] ACT: [-0.19211689 -0.07879978] \n",
      "STATE: [ 0.1772212   0.32392153 -0.18059972 -0.21409676] ACT: [-0.03384356 -0.42100858] \n",
      "STATE: [ 0.10316069  0.24858869 -0.21160145 -0.21523667] ACT: [-0.48975526 -0.17360013] \n",
      "STATE: [ 0.03088818  0.1755774  -0.20649289 -0.20860369] ACT: [-0.10031759 -0.08562204] \n",
      "STATE: [-0.05058339  0.10458305 -0.23277592 -0.20284099] ACT: [-0.45524717 -0.09059337] \n",
      "final state  [-0.05058339  0.10458305]\n",
      "STATE: [ 0.63934423  0.7355934  -0.01009796 -0.02376772] ACT: [-0.1154053  -0.27163108] \n",
      "STATE: [ 0.62757466  0.72379584 -0.03362733 -0.03370733] ACT: [-0.27648046 -0.13142131] \n",
      "STATE: [ 0.60511152  0.70494816 -0.0641804  -0.0538505 ] ACT: [-0.37439846 -0.25548823] \n",
      "STATE: [ 0.57565795  0.67401499 -0.08415308 -0.08838049] ACT: [-0.27639452 -0.43501629] \n",
      "STATE: [ 0.54348436  0.63351732 -0.09192452 -0.11570763] ACT: [-0.15193127 -0.37859549] \n",
      "STATE: [ 0.49887102  0.58467622 -0.12746671 -0.13954599] ACT: [-0.4751398  -0.35921922] \n",
      "STATE: [ 0.45498028  0.52561889 -0.12540212 -0.16873524] ACT: [-0.07200471 -0.43825089] \n",
      "STATE: [ 0.40287406  0.46258918 -0.14887492 -0.18008487] ACT: [-0.36231218 -0.25626146] \n",
      "STATE: [ 0.34530173  0.39631481 -0.16449236 -0.18935535] ACT: [-0.29014128 -0.24101195] \n",
      "STATE: [ 0.28708292  0.32538369 -0.16633945 -0.20266036] ACT: [-0.14447888 -0.29407376] \n",
      "STATE: [ 0.22070417  0.2530416  -0.18965356 -0.20669168] ACT: [-0.39120158 -0.19806759] \n",
      "STATE: [ 0.15657035  0.17602159 -0.18323948 -0.22005716] ACT: [-0.06893637 -0.30776707] \n",
      "STATE: [ 0.08670122  0.09517252 -0.19962609 -0.23099734] ACT: [-0.32470509 -0.29007348] \n",
      "STATE: [ 0.01525214  0.00703388 -0.20414024 -0.2518247 ] ACT: [-0.20130989 -0.411275  ] \n",
      "final state  [0.01525214 0.00703388]\n",
      "After Initialization REWARD:  (1.0150430946692028, array([-0.01766563,  0.05580847, -0.21845808, -0.22733285]), -0.26890652032501444)\n"
     ]
    },
    {
     "name": "stderr",
     "output_type": "stream",
     "text": [
      "Generating Dynamics Dataset: 100%|██████████████████████████████████████████████████████████████████████████████████████████| 15/15 [00:00<00:00, 1969.77it/s]\n"
     ]
    },
    {
     "name": "stdout",
     "output_type": "stream",
     "text": [
      "COLLIDED\n"
     ]
    },
    {
     "name": "stderr",
     "output_type": "stream",
     "text": [
      "100%|████████████████████████████████████████████████████████████████████████████████████████████████████████████████████████| 20/20 [00:00<00:00, 232.34it/s]\n"
     ]
    },
    {
     "name": "stdout",
     "output_type": "stream",
     "text": [
      "Epoch 1, loss: 0.004, err: 0.057, val_loss: 0.024, val_err: 0.156\n"
     ]
    },
    {
     "name": "stderr",
     "output_type": "stream",
     "text": [
      "100%|████████████████████████████████████████████████████████████████████████████████████████████████████████████████████████| 20/20 [00:00<00:00, 238.73it/s]\n"
     ]
    },
    {
     "name": "stdout",
     "output_type": "stream",
     "text": [
      "Epoch 2, loss: 0.005, err: 0.068, val_loss: 0.024, val_err: 0.154\n"
     ]
    },
    {
     "name": "stderr",
     "output_type": "stream",
     "text": [
      "100%|████████████████████████████████████████████████████████████████████████████████████████████████████████████████████████| 20/20 [00:00<00:00, 241.41it/s]\n"
     ]
    },
    {
     "name": "stdout",
     "output_type": "stream",
     "text": [
      "Epoch 3, loss: 0.005, err: 0.066, val_loss: 0.023, val_err: 0.150\n"
     ]
    },
    {
     "name": "stderr",
     "output_type": "stream",
     "text": [
      "100%|████████████████████████████████████████████████████████████████████████████████████████████████████████████████████████| 20/20 [00:00<00:00, 239.58it/s]\n"
     ]
    },
    {
     "name": "stdout",
     "output_type": "stream",
     "text": [
      "Epoch 4, loss: 0.005, err: 0.066, val_loss: 0.024, val_err: 0.154\n"
     ]
    },
    {
     "name": "stderr",
     "output_type": "stream",
     "text": [
      "100%|████████████████████████████████████████████████████████████████████████████████████████████████████████████████████████| 20/20 [00:00<00:00, 239.73it/s]\n"
     ]
    },
    {
     "name": "stdout",
     "output_type": "stream",
     "text": [
      "Epoch 5, loss: 0.005, err: 0.067, val_loss: 0.024, val_err: 0.153\n"
     ]
    },
    {
     "name": "stderr",
     "output_type": "stream",
     "text": [
      "100%|████████████████████████████████████████████████████████████████████████████████████████████████████████████████████████| 20/20 [00:00<00:00, 239.48it/s]\n"
     ]
    },
    {
     "name": "stdout",
     "output_type": "stream",
     "text": [
      "Epoch 6, loss: 0.005, err: 0.067, val_loss: 0.023, val_err: 0.152\n"
     ]
    },
    {
     "name": "stderr",
     "output_type": "stream",
     "text": [
      "100%|████████████████████████████████████████████████████████████████████████████████████████████████████████████████████████| 20/20 [00:00<00:00, 239.27it/s]\n"
     ]
    },
    {
     "name": "stdout",
     "output_type": "stream",
     "text": [
      "Epoch 7, loss: 0.005, err: 0.065, val_loss: 0.025, val_err: 0.159\n"
     ]
    },
    {
     "name": "stderr",
     "output_type": "stream",
     "text": [
      "100%|████████████████████████████████████████████████████████████████████████████████████████████████████████████████████████| 20/20 [00:00<00:00, 238.63it/s]\n"
     ]
    },
    {
     "name": "stdout",
     "output_type": "stream",
     "text": [
      "Epoch 8, loss: 0.005, err: 0.067, val_loss: 0.023, val_err: 0.151\n"
     ]
    },
    {
     "name": "stderr",
     "output_type": "stream",
     "text": [
      "100%|████████████████████████████████████████████████████████████████████████████████████████████████████████████████████████| 20/20 [00:00<00:00, 239.15it/s]\n"
     ]
    },
    {
     "name": "stdout",
     "output_type": "stream",
     "text": [
      "Epoch 9, loss: 0.005, err: 0.066, val_loss: 0.026, val_err: 0.160\n"
     ]
    },
    {
     "name": "stderr",
     "output_type": "stream",
     "text": [
      "100%|████████████████████████████████████████████████████████████████████████████████████████████████████████████████████████| 20/20 [00:00<00:00, 240.80it/s]\n"
     ]
    },
    {
     "name": "stdout",
     "output_type": "stream",
     "text": [
      "Epoch 10, loss: 0.005, err: 0.068, val_loss: 0.024, val_err: 0.155\n"
     ]
    },
    {
     "name": "stderr",
     "output_type": "stream",
     "text": [
      "100%|████████████████████████████████████████████████████████████████████████████████████████████████████████████████████████| 20/20 [00:00<00:00, 239.68it/s]\n"
     ]
    },
    {
     "name": "stdout",
     "output_type": "stream",
     "text": [
      "Epoch 11, loss: 0.005, err: 0.066, val_loss: 0.023, val_err: 0.153\n"
     ]
    },
    {
     "name": "stderr",
     "output_type": "stream",
     "text": [
      "100%|████████████████████████████████████████████████████████████████████████████████████████████████████████████████████████| 20/20 [00:00<00:00, 241.25it/s]\n"
     ]
    },
    {
     "name": "stdout",
     "output_type": "stream",
     "text": [
      "Epoch 12, loss: 0.005, err: 0.066, val_loss: 0.025, val_err: 0.157\n"
     ]
    },
    {
     "name": "stderr",
     "output_type": "stream",
     "text": [
      "100%|████████████████████████████████████████████████████████████████████████████████████████████████████████████████████████| 20/20 [00:00<00:00, 240.02it/s]\n"
     ]
    },
    {
     "name": "stdout",
     "output_type": "stream",
     "text": [
      "Epoch 13, loss: 0.005, err: 0.067, val_loss: 0.023, val_err: 0.151\n"
     ]
    },
    {
     "name": "stderr",
     "output_type": "stream",
     "text": [
      "100%|████████████████████████████████████████████████████████████████████████████████████████████████████████████████████████| 20/20 [00:00<00:00, 236.48it/s]\n"
     ]
    },
    {
     "name": "stdout",
     "output_type": "stream",
     "text": [
      "Epoch 14, loss: 0.005, err: 0.066, val_loss: 0.025, val_err: 0.158\n"
     ]
    },
    {
     "name": "stderr",
     "output_type": "stream",
     "text": [
      "100%|████████████████████████████████████████████████████████████████████████████████████████████████████████████████████████| 20/20 [00:00<00:00, 239.42it/s]\n"
     ]
    },
    {
     "name": "stdout",
     "output_type": "stream",
     "text": [
      "Epoch 15, loss: 0.005, err: 0.068, val_loss: 0.023, val_err: 0.151\n"
     ]
    },
    {
     "name": "stderr",
     "output_type": "stream",
     "text": [
      "100%|████████████████████████████████████████████████████████████████████████████████████████████████████████████████████████| 20/20 [00:00<00:00, 238.12it/s]\n"
     ]
    },
    {
     "name": "stdout",
     "output_type": "stream",
     "text": [
      "Epoch 16, loss: 0.005, err: 0.066, val_loss: 0.021, val_err: 0.143\n"
     ]
    },
    {
     "name": "stderr",
     "output_type": "stream",
     "text": [
      "100%|████████████████████████████████████████████████████████████████████████████████████████████████████████████████████████| 20/20 [00:00<00:00, 238.73it/s]\n"
     ]
    },
    {
     "name": "stdout",
     "output_type": "stream",
     "text": [
      "Epoch 17, loss: 0.005, err: 0.065, val_loss: 0.024, val_err: 0.155\n"
     ]
    },
    {
     "name": "stderr",
     "output_type": "stream",
     "text": [
      "100%|████████████████████████████████████████████████████████████████████████████████████████████████████████████████████████| 20/20 [00:00<00:00, 236.54it/s]\n"
     ]
    },
    {
     "name": "stdout",
     "output_type": "stream",
     "text": [
      "Epoch 18, loss: 0.005, err: 0.067, val_loss: 0.024, val_err: 0.154\n"
     ]
    },
    {
     "name": "stderr",
     "output_type": "stream",
     "text": [
      "100%|████████████████████████████████████████████████████████████████████████████████████████████████████████████████████████| 20/20 [00:00<00:00, 237.12it/s]\n"
     ]
    },
    {
     "name": "stdout",
     "output_type": "stream",
     "text": [
      "Epoch 19, loss: 0.005, err: 0.067, val_loss: 0.024, val_err: 0.153\n"
     ]
    },
    {
     "name": "stderr",
     "output_type": "stream",
     "text": [
      "100%|████████████████████████████████████████████████████████████████████████████████████████████████████████████████████████| 20/20 [00:00<00:00, 235.94it/s]\n"
     ]
    },
    {
     "name": "stdout",
     "output_type": "stream",
     "text": [
      "Epoch 20, loss: 0.005, err: 0.066, val_loss: 0.025, val_err: 0.157\n"
     ]
    },
    {
     "name": "stderr",
     "output_type": "stream",
     "text": [
      "100%|████████████████████████████████████████████████████████████████████████████████████████████████████████████████████████| 20/20 [00:00<00:00, 239.09it/s]\n"
     ]
    },
    {
     "name": "stdout",
     "output_type": "stream",
     "text": [
      "Epoch 21, loss: 0.005, err: 0.067, val_loss: 0.025, val_err: 0.158\n"
     ]
    },
    {
     "name": "stderr",
     "output_type": "stream",
     "text": [
      "100%|████████████████████████████████████████████████████████████████████████████████████████████████████████████████████████| 20/20 [00:00<00:00, 236.94it/s]\n"
     ]
    },
    {
     "name": "stdout",
     "output_type": "stream",
     "text": [
      "Epoch 22, loss: 0.005, err: 0.066, val_loss: 0.021, val_err: 0.147\n"
     ]
    },
    {
     "name": "stderr",
     "output_type": "stream",
     "text": [
      "100%|████████████████████████████████████████████████████████████████████████████████████████████████████████████████████████| 20/20 [00:00<00:00, 236.64it/s]\n"
     ]
    },
    {
     "name": "stdout",
     "output_type": "stream",
     "text": [
      "Epoch 23, loss: 0.005, err: 0.065, val_loss: 0.024, val_err: 0.155\n"
     ]
    },
    {
     "name": "stderr",
     "output_type": "stream",
     "text": [
      "100%|████████████████████████████████████████████████████████████████████████████████████████████████████████████████████████| 20/20 [00:00<00:00, 237.44it/s]\n"
     ]
    },
    {
     "name": "stdout",
     "output_type": "stream",
     "text": [
      "Epoch 24, loss: 0.005, err: 0.066, val_loss: 0.023, val_err: 0.151\n"
     ]
    },
    {
     "name": "stderr",
     "output_type": "stream",
     "text": [
      "100%|████████████████████████████████████████████████████████████████████████████████████████████████████████████████████████| 20/20 [00:00<00:00, 226.50it/s]\n"
     ]
    },
    {
     "name": "stdout",
     "output_type": "stream",
     "text": [
      "Epoch 25, loss: 0.005, err: 0.065, val_loss: 0.024, val_err: 0.155\n"
     ]
    },
    {
     "name": "stderr",
     "output_type": "stream",
     "text": [
      "100%|████████████████████████████████████████████████████████████████████████████████████████████████████████████████████████| 20/20 [00:00<00:00, 240.65it/s]\n"
     ]
    },
    {
     "name": "stdout",
     "output_type": "stream",
     "text": [
      "Epoch 26, loss: 0.005, err: 0.065, val_loss: 0.026, val_err: 0.160\n"
     ]
    },
    {
     "name": "stderr",
     "output_type": "stream",
     "text": [
      "100%|████████████████████████████████████████████████████████████████████████████████████████████████████████████████████████| 20/20 [00:00<00:00, 241.42it/s]\n"
     ]
    },
    {
     "name": "stdout",
     "output_type": "stream",
     "text": [
      "Epoch 27, loss: 0.005, err: 0.067, val_loss: 0.024, val_err: 0.156\n"
     ]
    },
    {
     "name": "stderr",
     "output_type": "stream",
     "text": [
      "100%|████████████████████████████████████████████████████████████████████████████████████████████████████████████████████████| 20/20 [00:00<00:00, 241.00it/s]\n"
     ]
    },
    {
     "name": "stdout",
     "output_type": "stream",
     "text": [
      "Epoch 28, loss: 0.005, err: 0.066, val_loss: 0.024, val_err: 0.155\n"
     ]
    },
    {
     "name": "stderr",
     "output_type": "stream",
     "text": [
      "100%|████████████████████████████████████████████████████████████████████████████████████████████████████████████████████████| 20/20 [00:00<00:00, 240.55it/s]\n"
     ]
    },
    {
     "name": "stdout",
     "output_type": "stream",
     "text": [
      "Epoch 29, loss: 0.005, err: 0.067, val_loss: 0.023, val_err: 0.153\n"
     ]
    },
    {
     "name": "stderr",
     "output_type": "stream",
     "text": [
      "100%|████████████████████████████████████████████████████████████████████████████████████████████████████████████████████████| 20/20 [00:00<00:00, 241.24it/s]\n"
     ]
    },
    {
     "name": "stdout",
     "output_type": "stream",
     "text": [
      "Epoch 30, loss: 0.005, err: 0.067, val_loss: 0.023, val_err: 0.150\n"
     ]
    },
    {
     "name": "stderr",
     "output_type": "stream",
     "text": [
      "100%|████████████████████████████████████████████████████████████████████████████████████████████████████████████████████████| 20/20 [00:00<00:00, 238.67it/s]\n"
     ]
    },
    {
     "name": "stdout",
     "output_type": "stream",
     "text": [
      "Epoch 31, loss: 0.005, err: 0.065, val_loss: 0.024, val_err: 0.155\n"
     ]
    },
    {
     "name": "stderr",
     "output_type": "stream",
     "text": [
      "100%|████████████████████████████████████████████████████████████████████████████████████████████████████████████████████████| 20/20 [00:00<00:00, 240.49it/s]\n"
     ]
    },
    {
     "name": "stdout",
     "output_type": "stream",
     "text": [
      "Epoch 32, loss: 0.005, err: 0.066, val_loss: 0.021, val_err: 0.147\n"
     ]
    },
    {
     "name": "stderr",
     "output_type": "stream",
     "text": [
      "100%|████████████████████████████████████████████████████████████████████████████████████████████████████████████████████████| 20/20 [00:00<00:00, 240.18it/s]\n"
     ]
    },
    {
     "name": "stdout",
     "output_type": "stream",
     "text": [
      "Epoch 33, loss: 0.005, err: 0.064, val_loss: 0.024, val_err: 0.154\n"
     ]
    },
    {
     "name": "stderr",
     "output_type": "stream",
     "text": [
      "100%|████████████████████████████████████████████████████████████████████████████████████████████████████████████████████████| 20/20 [00:00<00:00, 240.08it/s]\n"
     ]
    },
    {
     "name": "stdout",
     "output_type": "stream",
     "text": [
      "Epoch 34, loss: 0.005, err: 0.066, val_loss: 0.022, val_err: 0.148\n"
     ]
    },
    {
     "name": "stderr",
     "output_type": "stream",
     "text": [
      "100%|████████████████████████████████████████████████████████████████████████████████████████████████████████████████████████| 20/20 [00:00<00:00, 243.23it/s]\n"
     ]
    },
    {
     "name": "stdout",
     "output_type": "stream",
     "text": [
      "Epoch 35, loss: 0.005, err: 0.065, val_loss: 0.025, val_err: 0.157\n"
     ]
    },
    {
     "name": "stderr",
     "output_type": "stream",
     "text": [
      "100%|████████████████████████████████████████████████████████████████████████████████████████████████████████████████████████| 20/20 [00:00<00:00, 239.29it/s]\n"
     ]
    },
    {
     "name": "stdout",
     "output_type": "stream",
     "text": [
      "Epoch 36, loss: 0.005, err: 0.066, val_loss: 0.022, val_err: 0.148\n"
     ]
    },
    {
     "name": "stderr",
     "output_type": "stream",
     "text": [
      "100%|████████████████████████████████████████████████████████████████████████████████████████████████████████████████████████| 20/20 [00:00<00:00, 236.24it/s]\n"
     ]
    },
    {
     "name": "stdout",
     "output_type": "stream",
     "text": [
      "Epoch 37, loss: 0.005, err: 0.065, val_loss: 0.022, val_err: 0.147\n"
     ]
    },
    {
     "name": "stderr",
     "output_type": "stream",
     "text": [
      "100%|████████████████████████████████████████████████████████████████████████████████████████████████████████████████████████| 20/20 [00:00<00:00, 240.67it/s]\n"
     ]
    },
    {
     "name": "stdout",
     "output_type": "stream",
     "text": [
      "Epoch 38, loss: 0.005, err: 0.065, val_loss: 0.022, val_err: 0.149\n"
     ]
    },
    {
     "name": "stderr",
     "output_type": "stream",
     "text": [
      "100%|████████████████████████████████████████████████████████████████████████████████████████████████████████████████████████| 20/20 [00:00<00:00, 239.88it/s]\n"
     ]
    },
    {
     "name": "stdout",
     "output_type": "stream",
     "text": [
      "Epoch 39, loss: 0.015, err: 0.121, val_loss: 0.016, val_err: 0.128\n"
     ]
    },
    {
     "name": "stderr",
     "output_type": "stream",
     "text": [
      "100%|████████████████████████████████████████████████████████████████████████████████████████████████████████████████████████| 10/10 [00:00<00:00, 474.98it/s]"
     ]
    },
    {
     "name": "stdout",
     "output_type": "stream",
     "text": [
      "STATE: [ 0.83373657  0.86875125 -0.00194472 -0.02309606] ACT: [-0.02222542 -0.26395492] \n",
      "STATE: [ 0.83188984  0.858564   -0.00527637 -0.02910644] ACT: [-0.03953455 -0.08601212] \n",
      "STATE: [ 0.82895355  0.84641116 -0.00838939 -0.03472239] ACT: [-0.03953455 -0.08601212] \n",
      "STATE: [ 0.82499922  0.83242174 -0.01129811 -0.03996979] ACT: [-0.03953455 -0.08601212] \n",
      "STATE: [ 0.81656144  0.81385314 -0.02410792 -0.05305315] ACT: [-0.1548715 -0.1795014] \n",
      "STATE: [ 0.80849674  0.78492538 -0.02304201 -0.08265074] ACT: [-0.00589911 -0.3780481 ] \n",
      "STATE: [ 0.78728383  0.74512494 -0.0606083  -0.11371553] ACT: [-0.44661054 -0.41701421] \n",
      "STATE: [ 0.76336384  0.69319268 -0.06834284 -0.1483779 ] ACT: [-0.13385088 -0.48142796] \n",
      "STATE: [ 0.73967004  0.64187587 -0.06769657 -0.14661945] ACT: [-0.04387119 -0.09118684] \n",
      "STATE: [ 0.70418676  0.58558543 -0.10138079 -0.16082982] ACT: [-0.43573502 -0.27236885] \n",
      "STATE: [ 0.66279638  0.52732787 -0.11825825 -0.16645017] ACT: [-0.2689208  -0.18485492] \n",
      "STATE: [ 0.61444181  0.46616184 -0.13815591 -0.17476011] ACT: [-0.31609552 -0.21980836] \n",
      "STATE: [ 0.56869959  0.39910706 -0.13069204 -0.19158508] ACT: [-0.01831555 -0.32335547] \n",
      "STATE: [ 0.5204115   0.32958061 -0.13796597 -0.19864701] ACT: [-0.18114966 -0.22439661] \n",
      "STATE: [ 0.4627767   0.26029757 -0.16467086 -0.19795154] ACT: [-0.40867324 -0.14103698] \n",
      "STATE: [ 0.40842916  0.18977505 -0.15527869 -0.2014929 ] ACT: [-0.016164   -0.18893639] \n",
      "STATE: [ 0.35230085  0.11639677 -0.1603666  -0.20965223] ACT: [-0.17460664 -0.24436913] \n",
      "STATE: [ 0.28466669  0.03501497 -0.19324045 -0.23251943] ACT: [-0.49597608 -0.41857856] \n",
      "STATE: [ 0.22127225 -0.05150021 -0.181127   -0.24718625] ACT: [-0.00649084 -0.34201038] \n",
      "final state  [ 0.22127225 -0.05150021]\n",
      "STATE: [ 0.76508017  0.85479183 -0.02647117 -0.0025247 ] ACT: [-0.30252768 -0.02885368] \n",
      "STATE: [ 0.74715836  0.85308253 -0.05120517 -0.00488371] ACT: [-0.30252768 -0.02885368] \n",
      "STATE: [ 0.7198355   0.84295934 -0.07806533 -0.02892342] ACT: [-0.3453771  -0.27840235] \n",
      "STATE: [ 0.68362656  0.82067164 -0.10345411 -0.06367912] ACT: [-0.34870643 -0.41890054] \n",
      "STATE: [ 0.63782948  0.7899344  -0.13084881 -0.0878207 ] ACT: [-0.39067291 -0.32366312] \n",
      "STATE: [ 0.58935174  0.74681982 -0.13850782 -0.12318451] ACT: [-0.1856682  -0.47002337] \n",
      "STATE: [ 0.52957823  0.69167334 -0.17078146 -0.15756136] ACT: [-0.47272243 -0.48526667] \n",
      "STATE: [ 0.46353486  0.63920122 -0.18869534 -0.14992035] ACT: [-0.33281616 -0.03084515] \n",
      "STATE: [ 0.39667226  0.58535135 -0.19103598 -0.15385678] ACT: [-0.16827168 -0.15742805] \n",
      "STATE: [ 0.33181463  0.53217551 -0.18530753 -0.15193096] ACT: [-0.077809   -0.09338319] \n",
      "STATE: [ 0.25623643  0.47497474 -0.2159377  -0.16343078] ACT: [-0.48903968 -0.24537479] \n",
      "STATE: [ 0.17358943  0.4172594  -0.23613429 -0.16490096] ACT: [-0.39277151 -0.13937506] \n",
      "STATE: [ 0.0826561   0.34868174 -0.2598095  -0.19593617] ACT: [-0.44767455 -0.4783639 ] \n",
      "STATE: [-0.01730571  0.28163945 -0.28560517 -0.1915494 ] ACT: [-0.48966476 -0.09681763] \n",
      "final state  [-0.01730571  0.28163945]\n",
      "STATE: [ 8.28905117e-01  7.83659714e-01 -5.16172254e-04 -3.30792087e-02] ACT: [-0.00589911 -0.3780481 ] \n",
      "STATE: [ 0.81695232  0.7687634  -0.03415085 -0.0425609 ] ACT: [-0.38478348 -0.13317162] \n",
      "STATE: [ 0.79399993  0.75076627 -0.06557826 -0.05142036] ACT: [-0.38478348 -0.13317162] \n",
      "STATE: [ 0.76845461  0.71920648 -0.07298664 -0.09017085] ACT: [-0.13385088 -0.48142796] \n",
      "STATE: [ 0.74359961  0.68171604 -0.07101427 -0.10711554] ACT: [-0.03219862 -0.2612818 ] \n",
      "STATE: [ 0.70821151  0.63831352 -0.10110886 -0.12400719] ACT: [-0.39719887 -0.27338403] \n",
      "STATE: [ 0.67004809  0.58297788 -0.10903836 -0.15810183] ACT: [-0.1664545  -0.48265844] \n",
      "STATE: [ 0.62492696  0.52896597 -0.12891749 -0.15431976] ACT: [-0.30896886 -0.07535269] \n",
      "STATE: [ 0.57695953  0.47449215 -0.13704981 -0.15563949] ACT: [-0.18962887 -0.13082248] \n",
      "STATE: [ 0.53200391  0.41696105 -0.12844463 -0.16437456] ACT: [-0.0044425  -0.21655906] \n",
      "STATE: [ 0.4782101   0.36259078 -0.1536966  -0.15534362] ACT: [-0.38492739 -0.02007014] \n",
      "STATE: [ 0.42378051  0.30595878 -0.15551312 -0.16180571] ACT: [-0.1360327  -0.19036011] \n",
      "STATE: [ 0.35934068  0.24317466 -0.18411379 -0.17938321] ACT: [-0.44349963 -0.32224007] \n",
      "STATE: [ 0.28590261  0.17089599 -0.20982306 -0.20651049] ACT: [-0.43190561 -0.44456338] \n",
      "STATE: [ 0.20577997  0.10328301 -0.22892181 -0.19317995] ACT: [-0.3756387  -0.00253392] \n",
      "STATE: [ 0.12456755  0.0384058  -0.2320355  -0.18536344] ACT: [-0.20727633 -0.05555339] \n",
      "STATE: [ 0.03828076 -0.02739924 -0.2465337  -0.1880144 ] ACT: [-0.33972036 -0.16931925] \n",
      "final state  [ 0.03828076 -0.02739924]\n",
      "STATE: [ 0.59761504  0.71894909 -0.04136321 -0.04246083] ACT: [-0.47272243 -0.48526667] \n",
      "STATE: [ 0.5756234   0.6917407  -0.06283327 -0.07773827] ACT: [-0.27639452 -0.43501629] \n",
      "STATE: [ 0.55042206  0.65472337 -0.07200383 -0.1057638 ] ACT: [-0.15193127 -0.37859549] \n",
      "STATE: [ 0.51185374  0.61385607 -0.11019518 -0.11676371] ACT: [-0.49047554 -0.2050361 ] \n",
      "STATE: [ 0.46825486  0.5612103  -0.12456822 -0.15041649] ACT: [-0.2469097  -0.47217605] \n",
      "STATE: [ 0.41244104  0.50022492 -0.15946807 -0.17424395] ACT: [-0.49228152 -0.38512619] \n",
      "STATE: [ 0.34855219  0.4398262  -0.18253956 -0.17256776] ACT: [-0.38327525 -0.11152642] \n",
      "STATE: [ 0.27966288  0.38264698 -0.1968266  -0.16336919] ACT: [-0.30018513 -0.02429939] \n",
      "STATE: [ 0.20246674  0.3222385  -0.2205604  -0.17259567] ACT: [-0.41886342 -0.22797238] \n",
      "STATE: [ 0.12627856  0.26249034 -0.21768052 -0.17070902] ACT: [-0.13250733 -0.10788499] \n",
      "STATE: [ 0.052018    0.20404098 -0.21217302 -0.16699817] ACT: [-0.10031759 -0.08562204] \n",
      "STATE: [-0.02996296  0.14116786 -0.23423132 -0.1796375 ] ACT: [-0.41122457 -0.26969809] \n",
      "final state  [-0.02996296  0.14116786]\n",
      "STATE: [ 0.65553524  0.61616164 -0.00153834 -0.04236014] ACT: [-0.01758098 -0.48411584] \n",
      "STATE: [ 0.65449374  0.58748251 -0.00297572 -0.08194039] ACT: [-0.01758098 -0.48411584] \n",
      "STATE: [ 0.65075623  0.54611813 -0.01067859 -0.11818395] ACT: [-0.09026457 -0.47566737] \n",
      "STATE: [ 0.63308653  0.50595236 -0.05048485 -0.11475932] ACT: [-0.46293768 -0.04949943] \n",
      "STATE: [ 0.60614832  0.46736453 -0.07696634 -0.11025096] ACT: [-0.34050921 -0.03454529] \n",
      "STATE: [ 0.57809272  0.41925542 -0.08015884 -0.13745461] ACT: [-0.09421053 -0.3935871 ] \n",
      "STATE: [ 0.54537912  0.37420947 -0.09346744 -0.12870269] ACT: [-0.21221738 -0.00306903] \n",
      "STATE: [ 0.50519882  0.33074683 -0.11480084 -0.12417898] ACT: [-0.31391084 -0.0448275 ] \n",
      "STATE: [ 0.45513974  0.28581717 -0.14302594 -0.12837047] ACT: [-0.40867324 -0.14103698] \n",
      "STATE: [ 0.40354176  0.23539374 -0.1474228  -0.14406693] ACT: [-0.15751922 -0.2756659 ] \n",
      "STATE: [ 0.34018314  0.17749974 -0.18102463 -0.16541145] ACT: [-0.494588  -0.3519876] \n",
      "STATE: [ 0.26759842  0.12021833 -0.20738494 -0.16366117] ACT: [-0.43702919 -0.10405542] \n",
      "STATE: [ 0.19725247  0.06494523 -0.2009884  -0.15792312] ACT: [-0.08243545 -0.05716818] \n",
      "STATE: [ 0.12668709  0.00582066 -0.20161539 -0.16892735] ACT: [-0.15790689 -0.24420494] \n",
      "STATE: [ 0.05963238 -0.05398202 -0.19158487 -0.17086479] ACT: [-0.03657701 -0.14883773] \n",
      "final state  [ 0.05963238 -0.05398202]\n",
      "STATE: [ 0.82740322  0.8489914  -0.00345927 -0.00752606] ACT: [-0.03953455 -0.08601212] \n",
      "STATE: [ 0.82506118  0.84389602 -0.00669153 -0.01455822] ACT: [-0.03953455 -0.08601212] \n",
      "STATE: [ 0.8216621   0.8365009  -0.00971167 -0.0211289 ] ACT: [-0.03953455 -0.08601212] \n",
      "STATE: [ 0.81374314  0.82409386 -0.0226256  -0.03544869] ACT: [-0.1548715 -0.1795014] \n",
      "STATE: [ 0.79553764  0.800947   -0.0520157  -0.0661339 ] ACT: [-0.35285603 -0.37727462] \n",
      "STATE: [ 0.7771935   0.76927872 -0.05241185 -0.0904808 ] ACT: [-0.04353917 -0.32785075] \n",
      "STATE: [ 0.75342489  0.73445766 -0.0679103  -0.09948874] ACT: [-0.21643413 -0.17080843] \n",
      "STATE: [ 0.72433877  0.7015137  -0.08310319 -0.0941256 ] ACT: [-0.22456574 -0.01332355] \n",
      "STATE: [ 0.68971934  0.6590385  -0.09891268 -0.1213577 ] ACT: [-0.2430072  -0.38181822] \n",
      "STATE: [ 0.64962192  0.61077448 -0.11456404 -0.13789722] ACT: [-0.25305729 -0.28004133] \n",
      "STATE: [ 0.60939155  0.55111047 -0.11494393 -0.17046861] ACT: [-0.09026457 -0.47566737] \n",
      "STATE: [ 0.56548461  0.49073484 -0.12544839 -0.1725018 ] ACT: [-0.20625894 -0.15108789] \n",
      "STATE: [ 0.52432301  0.42768924 -0.11760456 -0.18013028] ACT: [-0.0044425  -0.21655906] \n",
      "STATE: [ 0.47767067  0.36872539 -0.1332924  -0.16846814] ACT: [-0.26749301 -0.00181612] \n",
      "STATE: [ 0.42991389  0.30780126 -0.13644795 -0.17406893] ACT: [-0.1360327  -0.19036011] \n",
      "STATE: [ 0.37170897  0.24100668 -0.16629977 -0.19084166] ACT: [-0.44349963 -0.32224007] \n",
      "STATE: [ 0.30854143  0.17142352 -0.18047868 -0.19880904] ACT: [-0.28676953 -0.23418693] \n",
      "STATE: [ 0.23923782  0.09284961 -0.19801034 -0.22449688] ACT: [-0.33572082 -0.4426821 ] \n",
      "STATE: [ 0.17233147  0.00416151 -0.191161   -0.25339456] ACT: [-0.07022955 -0.49863184] \n",
      "STATE: [ 0.10414645 -0.08022254 -0.19481434 -0.24109731] ACT: [-0.18512321 -0.04950597] \n",
      "final state  [ 0.10414645 -0.08022254]\n",
      "STATE: [ 0.75580596  0.8959195  -0.00805813 -0.00469681] ACT: [-0.09209294 -0.05367778] \n",
      "STATE: [ 0.74753048  0.89422554 -0.02364421 -0.00483987] ACT: [-0.18417023 -0.00515767] \n",
      "STATE: [ 0.73415787  0.8924848  -0.03820746 -0.00497355] ACT: [-0.18417023 -0.00515767] \n",
      "STATE: [ 0.71602263  0.89070034 -0.05181499 -0.00509846] ACT: [-0.18417023 -0.00515767] \n",
      "STATE: [ 0.69808753  0.88814599 -0.05124313 -0.00729814] ACT: [-0.03232577 -0.02896304] \n",
      "STATE: [ 0.66665137  0.87471683 -0.08981759 -0.03836903] ACT: [-0.47928327 -0.36056945] \n",
      "STATE: [ 0.63302828  0.85031818 -0.09606598 -0.06971042] ACT: [-0.13877342 -0.38696413] \n",
      "STATE: [ 0.60073344  0.81570178 -0.09227096 -0.098904  ] ACT: [-0.02867779 -0.38592368] \n",
      "STATE: [ 0.56251132  0.77319988 -0.10920608 -0.12143401] ACT: [-0.26274743 -0.33166385] \n",
      "STATE: [ 0.52240253  0.73244188 -0.11459652 -0.11645142] ACT: [-0.14350955 -0.0341316 ] \n",
      "STATE: [ 0.47686584  0.68177593 -0.13010486 -0.14475985] ACT: [-0.26318555 -0.41086345] \n",
      "STATE: [ 0.43051688  0.62827242 -0.13242557 -0.15286718] ACT: [-0.12410114 -0.20122518] \n",
      "STATE: [ 0.37242863  0.57690078 -0.16596643 -0.14677611] ACT: [-0.48264327 -0.04503817] \n",
      "STATE: [ 0.30812219  0.52854622 -0.18373269 -0.13815588] ACT: [-0.32751783 -0.01156509] \n",
      "STATE: [ 0.23384958  0.4798587  -0.21220746 -0.13910721] ACT: [-0.46322546 -0.1144893 ] \n",
      "STATE: [ 0.16249575  0.42620411 -0.20386808 -0.15329883] ACT: [-0.06384833 -0.26652031] \n",
      "STATE: [ 0.08211449  0.36142071 -0.22966076 -0.18509543] ACT: [-0.44767455 -0.4783639 ] \n",
      "STATE: [ 0.00165213  0.29949115 -0.22989245 -0.1769416 ] ACT: [-0.17489343 -0.04563486] \n",
      "STATE: [-0.08231859  0.22781693 -0.23991633 -0.20478349] ACT: [-0.28697803 -0.45089921] \n",
      "final state  [-0.08231859  0.22781693]\n",
      "STATE: [ 0.8405061   0.64129838 -0.01735952 -0.03924168] ACT: [-0.1983945  -0.44847631] \n",
      "STATE: [ 0.8262063   0.62226823 -0.04085657 -0.05437186] ACT: [-0.28155739 -0.20234757] \n",
      "STATE: [ 0.80422222  0.59829004 -0.06281163 -0.06850911] ACT: [-0.28155739 -0.20234757] \n",
      "STATE: [ 0.76914883  0.56898723 -0.10020969 -0.08372232] ACT: [-0.47451517 -0.22524707] \n",
      "STATE: [ 0.7296833   0.54088672 -0.11275865 -0.08028717] ACT: [-0.21857393 -0.0235328 ] \n",
      "STATE: [ 0.69219845  0.5063653  -0.10709957 -0.09863263] ACT: [-0.01989374 -0.26987785] \n",
      "STATE: [ 0.65637529  0.4591732  -0.1023519  -0.13483457] ACT: [-0.02606557 -0.48771086] \n",
      "STATE: [ 0.6097628   0.41082902 -0.13317854 -0.13812624] ACT: [-0.42906842 -0.13874507] \n",
      "STATE: [ 0.5620328   0.36281917 -0.13637144 -0.13717098] ACT: [-0.13637418 -0.09267744] \n",
      "STATE: [ 0.50259329  0.30402443 -0.16982717 -0.16798498] ACT: [-0.48462982 -0.45503819] \n",
      "STATE: [ 0.4430702   0.23836735 -0.17006597 -0.18759165] ACT: [-0.1300995  -0.35006495] \n",
      "STATE: [ 0.38647404  0.17535984 -0.16170332 -0.18002147] ACT: [-0.0319763  -0.05417745] \n",
      "STATE: [ 0.32196537  0.11372792 -0.18431047 -0.1760912 ] ACT: [-0.37964491 -0.09009873] \n",
      "STATE: [ 0.26100191  0.04170032 -0.17418132 -0.20579314] ACT: [-0.02247112 -0.47151908] \n",
      "STATE: [ 0.19931732 -0.02740961 -0.17624169 -0.19745694] ACT: [-0.15418307 -0.05907403] \n",
      "final state  [ 0.19931732 -0.02740961]\n",
      "STATE: [ 0.86159282  0.79075591 -0.01346061 -0.00367628] ACT: [-0.15383554 -0.04201464] \n",
      "STATE: [ 0.85247956  0.78826695 -0.02603787 -0.00711131] ACT: [-0.15383554 -0.04201464] \n",
      "STATE: [ 0.83925315  0.78465463 -0.03778974 -0.01032091] ACT: [-0.15383554 -0.04201464] \n",
      "STATE: [ 0.81511073  0.77720099 -0.06897834 -0.02129612] ACT: [-0.38478348 -0.13317162] \n",
      "STATE: [ 0.78076867  0.76615812 -0.09812019 -0.03155107] ACT: [-0.38478348 -0.13317162] \n",
      "STATE: [ 0.742052    0.75060892 -0.11061904 -0.04442627] ACT: [-0.21643413 -0.17080843] \n",
      "STATE: [ 0.69899879  0.73567211 -0.12300917 -0.04267661] ACT: [-0.22456574 -0.01332355] \n",
      "STATE: [ 0.6521626   0.71621653 -0.13381768 -0.05558735] ACT: [-0.21578267 -0.17955879] \n",
      "STATE: [ 0.59422134  0.69579617 -0.16554648 -0.05834389] ACT: [-0.46297809 -0.07319377] \n",
      "STATE: [ 0.53940473  0.66568562 -0.15661887 -0.08603015] ACT: [-0.02213002 -0.36017233] \n",
      "STATE: [ 0.47316466  0.63127184 -0.18925736 -0.09832508] ACT: [-0.49047554 -0.2050361 ] \n",
      "STATE: [ 0.40745493  0.59470477 -0.18774206 -0.10447735] ACT: [-0.12462533 -0.1440555 ] \n",
      "STATE: [ 0.33360421  0.55265293 -0.21100207 -0.12014813] ACT: [-0.40663521 -0.25745268] \n",
      "STATE: [ 0.2496231   0.50584613 -0.23994603 -0.13373371] ACT: [-0.48903968 -0.24537479] \n",
      "STATE: [ 0.15954235  0.45024766 -0.25737358 -0.15885277] ACT: [-0.37913144 -0.38737532] \n",
      "STATE: [ 0.06435688  0.39810516 -0.27195849 -0.14897856] ACT: [-0.35971488 -0.00629139] \n",
      "STATE: [-0.03842509  0.34745096 -0.29366275 -0.1447263 ] ACT: [-0.45201762 -0.06313666] \n",
      "final state  [-0.03842509  0.34745096]\n",
      "STATE: [ 0.63388224  0.79337711 -0.02795281 -0.03321682] ACT: [-0.31946072 -0.37962082] \n",
      "STATE: [ 0.61905471  0.76811971 -0.04236438 -0.07216401] ACT: [-0.1856682  -0.47002337] \n",
      "STATE: [ 0.59476705  0.72944798 -0.0693933  -0.11049067] ACT: [-0.34067527 -0.49214192] \n",
      "STATE: [ 0.55759615  0.67845278 -0.10620258 -0.14570055] ACT: [-0.47272243 -0.48526667] \n",
      "STATE: [ 0.51821169  0.61920966 -0.11252702 -0.16926606] ACT: [-0.15193127 -0.37859549] \n",
      "STATE: [ 0.47389322  0.55263953 -0.12662421 -0.19020037] ACT: [-0.24550595 -0.36619881] \n",
      "STATE: [ 0.42746702  0.48574754 -0.13264629 -0.19111997] ACT: [-0.16379196 -0.15316003] \n",
      "COLLIDED\n",
      "STATE: [ 0.37165091  0.41692771 -0.15947458 -0.1966281 ] ACT: [-0.4060938  -0.20629001] \n",
      "STATE: [ 0.31269605  0.34824478 -0.16844245 -0.19623693] ACT: [-0.22209585 -0.14300051] \n",
      "STATE: [ 0.24579366  0.27688118 -0.19114969 -0.20389601] ACT: [-0.3858432  -0.23471004] \n",
      "STATE: [ 0.18019446  0.19897197 -0.1874263  -0.22259775] ACT: [-0.10080914 -0.36665626] \n",
      "STATE: [ 0.11458472  0.1148339  -0.1874564  -0.24039447] ACT: [-0.14091372 -0.37033938] \n",
      "STATE: [ 0.04718555  0.0229145  -0.19256906 -0.26262686] ACT: [-0.19902274 -0.43438029] \n",
      "final state  [0.04718555 0.0229145 ]\n"
     ]
    },
    {
     "name": "stderr",
     "output_type": "stream",
     "text": [
      "\n"
     ]
    },
    {
     "name": "stdout",
     "output_type": "stream",
     "text": [
      "After 0 REWARD:  (0.9259352643683094, array([ 0.05018224,  0.07804761, -0.22362862, -0.20279432]), -0.22918262236450976)\n",
      "UPDATING THE ACTION MATRIX\n"
     ]
    },
    {
     "name": "stderr",
     "output_type": "stream",
     "text": [
      "100%|█████████████████████████████████████████████████████████████████████████████████████████████████████████████████████████| 25/25 [00:03<00:00,  7.12it/s]\n",
      "Generating Dynamics Dataset: 100%|███████████████████████████████████████████████████████████████████████████████████████████| 15/15 [00:00<00:00, 830.61it/s]\n",
      "100%|████████████████████████████████████████████████████████████████████████████████████████████████████████████████████████| 28/28 [00:00<00:00, 235.24it/s]\n"
     ]
    },
    {
     "name": "stdout",
     "output_type": "stream",
     "text": [
      "Epoch 1, loss: 0.003, err: 0.055, val_loss: 0.021, val_err: 0.144\n"
     ]
    },
    {
     "name": "stderr",
     "output_type": "stream",
     "text": [
      "100%|████████████████████████████████████████████████████████████████████████████████████████████████████████████████████████| 28/28 [00:00<00:00, 240.01it/s]\n"
     ]
    },
    {
     "name": "stdout",
     "output_type": "stream",
     "text": [
      "Epoch 2, loss: 0.004, err: 0.056, val_loss: 0.022, val_err: 0.149\n"
     ]
    },
    {
     "name": "stderr",
     "output_type": "stream",
     "text": [
      "100%|████████████████████████████████████████████████████████████████████████████████████████████████████████████████████████| 28/28 [00:00<00:00, 238.69it/s]\n"
     ]
    },
    {
     "name": "stdout",
     "output_type": "stream",
     "text": [
      "Epoch 3, loss: 0.004, err: 0.057, val_loss: 0.021, val_err: 0.146\n"
     ]
    },
    {
     "name": "stderr",
     "output_type": "stream",
     "text": [
      "100%|████████████████████████████████████████████████████████████████████████████████████████████████████████████████████████| 28/28 [00:00<00:00, 239.91it/s]\n"
     ]
    },
    {
     "name": "stdout",
     "output_type": "stream",
     "text": [
      "Epoch 4, loss: 0.004, err: 0.056, val_loss: 0.021, val_err: 0.146\n"
     ]
    },
    {
     "name": "stderr",
     "output_type": "stream",
     "text": [
      "100%|████████████████████████████████████████████████████████████████████████████████████████████████████████████████████████| 28/28 [00:00<00:00, 239.85it/s]\n"
     ]
    },
    {
     "name": "stdout",
     "output_type": "stream",
     "text": [
      "Epoch 5, loss: 0.004, err: 0.056, val_loss: 0.021, val_err: 0.144\n"
     ]
    },
    {
     "name": "stderr",
     "output_type": "stream",
     "text": [
      "100%|████████████████████████████████████████████████████████████████████████████████████████████████████████████████████████| 28/28 [00:00<00:00, 236.60it/s]\n"
     ]
    },
    {
     "name": "stdout",
     "output_type": "stream",
     "text": [
      "Epoch 6, loss: 0.004, err: 0.056, val_loss: 0.021, val_err: 0.146\n"
     ]
    },
    {
     "name": "stderr",
     "output_type": "stream",
     "text": [
      "100%|████████████████████████████████████████████████████████████████████████████████████████████████████████████████████████| 28/28 [00:00<00:00, 238.39it/s]\n"
     ]
    },
    {
     "name": "stdout",
     "output_type": "stream",
     "text": [
      "Epoch 7, loss: 0.004, err: 0.056, val_loss: 0.021, val_err: 0.144\n"
     ]
    },
    {
     "name": "stderr",
     "output_type": "stream",
     "text": [
      "100%|████████████████████████████████████████████████████████████████████████████████████████████████████████████████████████| 28/28 [00:00<00:00, 241.96it/s]\n"
     ]
    },
    {
     "name": "stdout",
     "output_type": "stream",
     "text": [
      "Epoch 8, loss: 0.004, err: 0.055, val_loss: 0.021, val_err: 0.144\n"
     ]
    },
    {
     "name": "stderr",
     "output_type": "stream",
     "text": [
      "100%|████████████████████████████████████████████████████████████████████████████████████████████████████████████████████████| 28/28 [00:00<00:00, 239.33it/s]\n"
     ]
    },
    {
     "name": "stdout",
     "output_type": "stream",
     "text": [
      "Epoch 9, loss: 0.004, err: 0.056, val_loss: 0.021, val_err: 0.146\n"
     ]
    },
    {
     "name": "stderr",
     "output_type": "stream",
     "text": [
      "100%|████████████████████████████████████████████████████████████████████████████████████████████████████████████████████████| 28/28 [00:00<00:00, 236.95it/s]\n"
     ]
    },
    {
     "name": "stdout",
     "output_type": "stream",
     "text": [
      "Epoch 10, loss: 0.004, err: 0.056, val_loss: 0.021, val_err: 0.145\n"
     ]
    },
    {
     "name": "stderr",
     "output_type": "stream",
     "text": [
      "100%|████████████████████████████████████████████████████████████████████████████████████████████████████████████████████████| 28/28 [00:00<00:00, 238.98it/s]\n"
     ]
    },
    {
     "name": "stdout",
     "output_type": "stream",
     "text": [
      "Epoch 11, loss: 0.004, err: 0.056, val_loss: 0.020, val_err: 0.141\n"
     ]
    },
    {
     "name": "stderr",
     "output_type": "stream",
     "text": [
      "100%|████████████████████████████████████████████████████████████████████████████████████████████████████████████████████████| 28/28 [00:00<00:00, 236.56it/s]\n"
     ]
    },
    {
     "name": "stdout",
     "output_type": "stream",
     "text": [
      "Epoch 12, loss: 0.004, err: 0.055, val_loss: 0.020, val_err: 0.142\n"
     ]
    },
    {
     "name": "stderr",
     "output_type": "stream",
     "text": [
      "100%|████████████████████████████████████████████████████████████████████████████████████████████████████████████████████████| 28/28 [00:00<00:00, 241.58it/s]\n"
     ]
    },
    {
     "name": "stdout",
     "output_type": "stream",
     "text": [
      "Epoch 13, loss: 0.004, err: 0.056, val_loss: 0.020, val_err: 0.143\n"
     ]
    },
    {
     "name": "stderr",
     "output_type": "stream",
     "text": [
      "100%|████████████████████████████████████████████████████████████████████████████████████████████████████████████████████████| 28/28 [00:00<00:00, 237.85it/s]\n"
     ]
    },
    {
     "name": "stdout",
     "output_type": "stream",
     "text": [
      "Epoch 14, loss: 0.003, err: 0.055, val_loss: 0.020, val_err: 0.142\n"
     ]
    },
    {
     "name": "stderr",
     "output_type": "stream",
     "text": [
      "100%|████████████████████████████████████████████████████████████████████████████████████████████████████████████████████████| 28/28 [00:00<00:00, 239.19it/s]\n"
     ]
    },
    {
     "name": "stdout",
     "output_type": "stream",
     "text": [
      "Epoch 15, loss: 0.004, err: 0.056, val_loss: 0.020, val_err: 0.141\n"
     ]
    },
    {
     "name": "stderr",
     "output_type": "stream",
     "text": [
      "100%|████████████████████████████████████████████████████████████████████████████████████████████████████████████████████████| 28/28 [00:00<00:00, 237.77it/s]\n"
     ]
    },
    {
     "name": "stdout",
     "output_type": "stream",
     "text": [
      "Epoch 16, loss: 0.004, err: 0.055, val_loss: 0.020, val_err: 0.140\n"
     ]
    },
    {
     "name": "stderr",
     "output_type": "stream",
     "text": [
      "100%|████████████████████████████████████████████████████████████████████████████████████████████████████████████████████████| 28/28 [00:00<00:00, 238.84it/s]\n"
     ]
    },
    {
     "name": "stdout",
     "output_type": "stream",
     "text": [
      "Epoch 17, loss: 0.003, err: 0.055, val_loss: 0.019, val_err: 0.138\n"
     ]
    },
    {
     "name": "stderr",
     "output_type": "stream",
     "text": [
      "100%|████████████████████████████████████████████████████████████████████████████████████████████████████████████████████████| 28/28 [00:00<00:00, 236.97it/s]\n"
     ]
    },
    {
     "name": "stdout",
     "output_type": "stream",
     "text": [
      "Epoch 18, loss: 0.003, err: 0.054, val_loss: 0.019, val_err: 0.138\n"
     ]
    },
    {
     "name": "stderr",
     "output_type": "stream",
     "text": [
      "100%|████████████████████████████████████████████████████████████████████████████████████████████████████████████████████████| 28/28 [00:00<00:00, 240.24it/s]\n"
     ]
    },
    {
     "name": "stdout",
     "output_type": "stream",
     "text": [
      "Epoch 19, loss: 0.003, err: 0.054, val_loss: 0.018, val_err: 0.135\n"
     ]
    },
    {
     "name": "stderr",
     "output_type": "stream",
     "text": [
      "100%|████████████████████████████████████████████████████████████████████████████████████████████████████████████████████████| 28/28 [00:00<00:00, 237.04it/s]\n"
     ]
    },
    {
     "name": "stdout",
     "output_type": "stream",
     "text": [
      "Epoch 20, loss: 0.003, err: 0.053, val_loss: 0.018, val_err: 0.135\n"
     ]
    },
    {
     "name": "stderr",
     "output_type": "stream",
     "text": [
      "100%|████████████████████████████████████████████████████████████████████████████████████████████████████████████████████████| 28/28 [00:00<00:00, 240.70it/s]\n"
     ]
    },
    {
     "name": "stdout",
     "output_type": "stream",
     "text": [
      "Epoch 21, loss: 0.003, err: 0.053, val_loss: 0.019, val_err: 0.137\n"
     ]
    },
    {
     "name": "stderr",
     "output_type": "stream",
     "text": [
      "100%|████████████████████████████████████████████████████████████████████████████████████████████████████████████████████████| 28/28 [00:00<00:00, 238.06it/s]\n"
     ]
    },
    {
     "name": "stdout",
     "output_type": "stream",
     "text": [
      "Epoch 22, loss: 0.003, err: 0.053, val_loss: 0.018, val_err: 0.135\n"
     ]
    },
    {
     "name": "stderr",
     "output_type": "stream",
     "text": [
      "100%|████████████████████████████████████████████████████████████████████████████████████████████████████████████████████████| 28/28 [00:00<00:00, 238.42it/s]\n"
     ]
    },
    {
     "name": "stdout",
     "output_type": "stream",
     "text": [
      "Epoch 23, loss: 0.003, err: 0.053, val_loss: 0.018, val_err: 0.133\n"
     ]
    },
    {
     "name": "stderr",
     "output_type": "stream",
     "text": [
      "100%|████████████████████████████████████████████████████████████████████████████████████████████████████████████████████████| 28/28 [00:00<00:00, 238.79it/s]\n"
     ]
    },
    {
     "name": "stdout",
     "output_type": "stream",
     "text": [
      "Epoch 24, loss: 0.003, err: 0.052, val_loss: 0.017, val_err: 0.130\n"
     ]
    },
    {
     "name": "stderr",
     "output_type": "stream",
     "text": [
      "100%|████████████████████████████████████████████████████████████████████████████████████████████████████████████████████████| 28/28 [00:00<00:00, 239.00it/s]\n"
     ]
    },
    {
     "name": "stdout",
     "output_type": "stream",
     "text": [
      "Epoch 25, loss: 0.003, err: 0.051, val_loss: 0.016, val_err: 0.127\n"
     ]
    },
    {
     "name": "stderr",
     "output_type": "stream",
     "text": [
      "100%|████████████████████████████████████████████████████████████████████████████████████████████████████████████████████████| 28/28 [00:00<00:00, 236.97it/s]\n"
     ]
    },
    {
     "name": "stdout",
     "output_type": "stream",
     "text": [
      "Epoch 26, loss: 0.003, err: 0.050, val_loss: 0.015, val_err: 0.124\n"
     ]
    },
    {
     "name": "stderr",
     "output_type": "stream",
     "text": [
      "100%|████████████████████████████████████████████████████████████████████████████████████████████████████████████████████████| 28/28 [00:00<00:00, 239.86it/s]\n"
     ]
    },
    {
     "name": "stdout",
     "output_type": "stream",
     "text": [
      "Epoch 27, loss: 0.003, err: 0.049, val_loss: 0.014, val_err: 0.120\n"
     ]
    },
    {
     "name": "stderr",
     "output_type": "stream",
     "text": [
      "100%|████████████████████████████████████████████████████████████████████████████████████████████████████████████████████████| 28/28 [00:00<00:00, 237.29it/s]\n"
     ]
    },
    {
     "name": "stdout",
     "output_type": "stream",
     "text": [
      "Epoch 28, loss: 0.003, err: 0.048, val_loss: 0.013, val_err: 0.114\n"
     ]
    },
    {
     "name": "stderr",
     "output_type": "stream",
     "text": [
      "100%|████████████████████████████████████████████████████████████████████████████████████████████████████████████████████████| 28/28 [00:00<00:00, 240.47it/s]\n"
     ]
    },
    {
     "name": "stdout",
     "output_type": "stream",
     "text": [
      "Epoch 29, loss: 0.002, err: 0.046, val_loss: 0.011, val_err: 0.107\n"
     ]
    },
    {
     "name": "stderr",
     "output_type": "stream",
     "text": [
      "100%|████████████████████████████████████████████████████████████████████████████████████████████████████████████████████████| 28/28 [00:00<00:00, 238.81it/s]\n"
     ]
    },
    {
     "name": "stdout",
     "output_type": "stream",
     "text": [
      "Epoch 30, loss: 0.002, err: 0.045, val_loss: 0.010, val_err: 0.102\n"
     ]
    },
    {
     "name": "stderr",
     "output_type": "stream",
     "text": [
      "100%|████████████████████████████████████████████████████████████████████████████████████████████████████████████████████████| 28/28 [00:00<00:00, 239.77it/s]\n"
     ]
    },
    {
     "name": "stdout",
     "output_type": "stream",
     "text": [
      "Epoch 31, loss: 0.002, err: 0.042, val_loss: 0.009, val_err: 0.096\n"
     ]
    },
    {
     "name": "stderr",
     "output_type": "stream",
     "text": [
      "100%|████████████████████████████████████████████████████████████████████████████████████████████████████████████████████████| 28/28 [00:00<00:00, 238.57it/s]\n"
     ]
    },
    {
     "name": "stdout",
     "output_type": "stream",
     "text": [
      "Epoch 32, loss: 0.002, err: 0.040, val_loss: 0.007, val_err: 0.085\n"
     ]
    },
    {
     "name": "stderr",
     "output_type": "stream",
     "text": [
      "100%|████████████████████████████████████████████████████████████████████████████████████████████████████████████████████████| 28/28 [00:00<00:00, 237.66it/s]\n"
     ]
    },
    {
     "name": "stdout",
     "output_type": "stream",
     "text": [
      "Epoch 33, loss: 0.002, err: 0.037, val_loss: 0.006, val_err: 0.075\n"
     ]
    },
    {
     "name": "stderr",
     "output_type": "stream",
     "text": [
      "100%|████████████████████████████████████████████████████████████████████████████████████████████████████████████████████████| 28/28 [00:00<00:00, 240.10it/s]\n"
     ]
    },
    {
     "name": "stdout",
     "output_type": "stream",
     "text": [
      "Epoch 34, loss: 0.001, err: 0.035, val_loss: 0.005, val_err: 0.070\n"
     ]
    },
    {
     "name": "stderr",
     "output_type": "stream",
     "text": [
      "100%|████████████████████████████████████████████████████████████████████████████████████████████████████████████████████████| 28/28 [00:00<00:00, 237.55it/s]\n"
     ]
    },
    {
     "name": "stdout",
     "output_type": "stream",
     "text": [
      "Epoch 35, loss: 0.001, err: 0.033, val_loss: 0.004, val_err: 0.063\n"
     ]
    },
    {
     "name": "stderr",
     "output_type": "stream",
     "text": [
      "100%|████████████████████████████████████████████████████████████████████████████████████████████████████████████████████████| 28/28 [00:00<00:00, 240.27it/s]\n"
     ]
    },
    {
     "name": "stdout",
     "output_type": "stream",
     "text": [
      "Epoch 36, loss: 0.001, err: 0.031, val_loss: 0.003, val_err: 0.057\n"
     ]
    },
    {
     "name": "stderr",
     "output_type": "stream",
     "text": [
      "100%|████████████████████████████████████████████████████████████████████████████████████████████████████████████████████████| 28/28 [00:00<00:00, 237.40it/s]\n"
     ]
    },
    {
     "name": "stdout",
     "output_type": "stream",
     "text": [
      "Epoch 37, loss: 0.001, err: 0.030, val_loss: 0.003, val_err: 0.055\n"
     ]
    },
    {
     "name": "stderr",
     "output_type": "stream",
     "text": [
      "100%|████████████████████████████████████████████████████████████████████████████████████████████████████████████████████████| 28/28 [00:00<00:00, 239.05it/s]\n"
     ]
    },
    {
     "name": "stdout",
     "output_type": "stream",
     "text": [
      "Epoch 38, loss: 0.001, err: 0.029, val_loss: 0.002, val_err: 0.050\n"
     ]
    },
    {
     "name": "stderr",
     "output_type": "stream",
     "text": [
      "100%|████████████████████████████████████████████████████████████████████████████████████████████████████████████████████████| 28/28 [00:00<00:00, 237.48it/s]\n"
     ]
    },
    {
     "name": "stdout",
     "output_type": "stream",
     "text": [
      "Epoch 39, loss: 0.001, err: 0.035, val_loss: 0.002, val_err: 0.045\n"
     ]
    },
    {
     "name": "stderr",
     "output_type": "stream",
     "text": [
      "100%|████████████████████████████████████████████████████████████████████████████████████████████████████████████████████████| 10/10 [00:00<00:00, 253.72it/s]\n"
     ]
    },
    {
     "name": "stdout",
     "output_type": "stream",
     "text": [
      "STATE: [ 0.80368428  0.75831773 -0.01049934 -0.04247148] ACT: [-0.1199925 -0.4853883] \n",
      "STATE: [ 0.79657589  0.72956322 -0.02030967 -0.08215576] ACT: [-0.1199925 -0.4853883] \n",
      "STATE: [ 0.78626049  0.68783039 -0.0294726  -0.11923665] ACT: [-0.11995144 -0.48539845] \n",
      "STATE: [ 0.77307562  0.63394011 -0.03767105 -0.15397221] ACT: [-0.11580105 -0.4864053 ] \n",
      "STATE: [ 0.75731946  0.5686645  -0.04501761 -0.18650175] ACT: [-0.11221397 -0.48724534] \n",
      "STATE: [ 0.73920696  0.49274014 -0.05174999 -0.21692674] ACT: [-0.11070472 -0.48759047] \n",
      "STATE: [ 0.71950329  0.40674025 -0.05629619 -0.24571397] ACT: [-0.09076901 -0.49169196] \n",
      "STATE: [ 0.69862831  0.31127121 -0.0596428  -0.27276869] ACT: [-0.0804692  -0.49348223] \n",
      "STATE: [ 0.68225151  0.21675883 -0.04679087 -0.27003537] ACT: [ 0.1021471  -0.17333856] \n",
      "STATE: [ 0.67176964  0.14298286 -0.02994819 -0.21078848] ACT: [0.15739464 0.47458079] \n",
      "STATE: [ 0.66836452  0.08796444 -0.00972893 -0.15719549] ACT: [0.20861617 0.45439993] \n",
      "STATE: [ 0.67116449  0.05065245  0.00799993 -0.10660571] ACT: [0.19531877 0.46027229] \n",
      "STATE: [ 0.6796736   0.02992222  0.02431175 -0.05922922] ACT: [0.19242079 0.46149132] \n",
      "STATE: [ 0.69344225  0.0247166   0.03933898 -0.01487319] ACT: [0.18997361 0.46250408] \n",
      "STATE: [0.71212526 0.03401679 0.05338005 0.02657197] ACT: [0.18997361 0.46250408] \n",
      "STATE: [0.73547401 0.05684028 0.06671069 0.06520997] ACT: [0.19238515 0.46150618] \n",
      "STATE: [0.76323622 0.092277   0.0793206  0.10124777] ACT: [0.19414635 0.46076805] \n",
      "STATE: [0.7952727  0.13943487 0.09153281 0.13473678] ACT: [0.19905849 0.45866733] \n",
      "STATE: [0.83154188 0.19743857 0.10362623 0.16572485] ACT: [0.20686012 0.45520203] \n",
      "STATE: [0.87230556 0.26531831 0.11646767 0.1939421 ] ACT: [0.22447899 0.44677643] \n",
      "STATE: [0.91792457 0.34207629 0.13034001 0.21930854] ACT: [0.24589183 0.43535871] \n",
      "STATE: [0.96608845 0.42336322 0.13761109 0.23224837] ACT: [0.18085307 0.31236525] \n",
      "STATE: [1.01926749 0.48917736 0.15194012 0.18804038] ACT: [ 0.26696858 -0.33104791] \n",
      "STATE: [1.06762217 0.54977182 0.13815623 0.17312704] ACT: [-0.043575046175785836, -0.02940785045787081] \n",
      "STATE: [1.101399   0.6016122  0.09650521 0.14811536] ACT: [-0.372394445466798, -0.15600249987011022] \n",
      "STATE: [1.1254475  0.64189741 0.06871001 0.1151006 ] ACT: [-0.2452806108415207, -0.2662250994716461] \n",
      "STATE: [1.14683853 0.67201166 0.06111723 0.08604073] ACT: [-0.03524211051684861, -0.24578731571732845] \n",
      "STATE: [1.15772439 0.68900233 0.03110245 0.04854476] ACT: [-0.2971881345563341, -0.36399480631693915] \n",
      "STATE: [1.16532016 0.6942727  0.0217022  0.0150582 ] ACT: [-0.08410452825485726, -0.3462949392788789] \n",
      "STATE: [ 1.17066699  0.69201953  0.01527667 -0.00643762] ACT: [-0.057157959431148264, -0.23437290818310652] \n",
      "STATE: [ 1.16860157  0.68972961 -0.0059012  -0.00654263] ACT: [-0.23057532897028274, -0.006028361191580955] \n",
      "STATE: [ 1.16646126  0.6755881  -0.00611517 -0.04040432] ACT: [-0.00687128400884679, -0.3918977094691152] \n",
      "STATE: [ 1.15965535  0.65241285 -0.01944547 -0.066215  ] ACT: [-0.15693269106101063, -0.32528238264640374] \n",
      "STATE: [ 1.14463792  0.62231143 -0.04290693 -0.08600407] ACT: [-0.28271507768251636, -0.27582212325620015] \n",
      "STATE: [ 1.1282057   0.58854281 -0.04694919 -0.09648177] ACT: [-0.07837747350268559, -0.18424810473311798] \n",
      "STATE: [ 1.11135311  0.55004685 -0.04815027 -0.10998846] ACT: [-0.04893843818534194, -0.22672352225734183] \n",
      "STATE: [ 1.08862053  0.51087107 -0.06495022 -0.11193078] ACT: [-0.2281121988748157, -0.10468934904608185] \n",
      "STATE: [ 1.06161458  0.47020122 -0.07715987 -0.11619958] ACT: [-0.18825154072774872, -0.1327343907812697] \n",
      "STATE: [ 1.02529431  0.42910483 -0.10377219 -0.11741824] ACT: [-0.36201063709296827, -0.1010772016055958] \n",
      "STATE: [ 0.98746896  0.38559141 -0.10807242 -0.12432406] ACT: [-0.12697460568043678, -0.16698736187556273] \n",
      "STATE: [ 0.94498276  0.33915725 -0.12138915 -0.13266902] ACT: [-0.2332455714217676, -0.18861400480442186] \n",
      "STATE: [ 0.9104156   0.30662761 -0.09876331 -0.09294184] ACT: [0.16753923 0.35452323] \n",
      "STATE: [ 0.88847789  0.2875076  -0.06267917 -0.0546286 ] ACT: [0.33831761 0.3681592 ] \n",
      "STATE: [ 0.87596234  0.28270957 -0.03575874 -0.01370865] ACT: [0.26065273 0.42668508] \n",
      "STATE: [ 0.8722506   0.29129365 -0.01060496  0.02452592] ACT: [0.26065273 0.42668508] \n",
      "STATE: [0.87676494 0.31238162 0.01289811 0.06025135] ACT: [0.26065273 0.42668508] \n",
      "STATE: [0.88810872 0.34563918 0.03241081 0.09502161] ACT: [0.23267593 0.44256289] \n",
      "STATE: [0.89863568 0.38685313 0.03007701 0.11775414] ACT: [-0.00236387  0.33106652] \n",
      "STATE: [0.9164896  0.41566187 0.05101121 0.08231069] ACT: [ 0.26180576 -0.31675243] \n",
      "STATE: [0.93234603 0.43327847 0.04530408 0.05033314] ACT: [-0.02696595 -0.30372465] \n",
      "final state  [0.93234603 0.43327847]\n",
      "STATE: [ 0.84969938  0.63381738 -0.00872634 -0.04287089] ACT: [-0.09972954 -0.48995308] \n",
      "STATE: [ 0.84362741  0.60482675 -0.01734848 -0.08283036] ACT: [-0.10508356 -0.48883274] \n",
      "STATE: [ 0.83469311  0.56277736 -0.02552656 -0.12014112] ACT: [-0.10647516 -0.48853151] \n",
      "STATE: [ 0.82351174  0.50843938 -0.03194678 -0.15525136] ACT: [-0.09251878 -0.49136573] \n",
      "STATE: [ 0.81046699  0.44257669 -0.03727072 -0.18817911] ACT: [-0.08480515 -0.4927556 ] \n",
      "STATE: [ 0.79806271  0.36572526 -0.0354408  -0.21957552] ACT: [-0.0070397  -0.49995044] \n",
      "STATE: [ 0.78172967  0.29088998 -0.04666582 -0.21381508] ACT: [-0.15486656 -0.09884812] \n",
      "STATE: [ 0.77034736  0.23577884 -0.03252089 -0.15746042] ACT: [0.12665707 0.48369204] \n",
      "STATE: [ 0.76766811  0.19736768 -0.00765501 -0.10974616] ACT: [0.25979072 0.42721046] \n",
      "STATE: [ 0.77194087  0.17520882  0.0122079  -0.06331103] ACT: [0.22126343 0.44837762] \n",
      "STATE: [ 0.78253902  0.16831849  0.03028044 -0.01968668] ACT: [0.21569925 0.45108074] \n",
      "STATE: [0.79904746 0.17569468 0.04716697 0.02107483] ACT: [0.21569925 0.45108074] \n",
      "STATE: [0.8209636  0.19645543 0.06261755 0.05931643] ACT: [0.21195325 0.45285298] \n",
      "STATE: [0.84831617 0.22953628 0.07815018 0.09451673] ACT: [0.22447899 0.44677643] \n",
      "STATE: [0.88128966 0.27384308 0.09420999 0.12659087] ACT: [0.24215331 0.43744917] \n",
      "STATE: [0.92008176 0.32830948 0.11083457 0.15561829] ACT: [0.26065273 0.42668508] \n",
      "STATE: [0.96668911 0.3904764  0.13316385 0.17761977] ACT: [0.33831761 0.3681592 ] \n",
      "STATE: [1.01072673 0.44852881 0.12582177 0.16586402] ACT: [ 0.0159635  -0.00113657] \n",
      "STATE: [1.0460015  0.49289838 0.10078505 0.12677021] ACT: [-0.1917676058244099, -0.3223883376858556] \n",
      "STATE: [1.07308241 0.53419866 0.07737403 0.11800079] ACT: [-0.19196582065544787, -0.005144357910862041] \n",
      "STATE: [1.09154038 0.56240819 0.05273707 0.08059867] ACT: [-0.22353468483320815, -0.3389521993155063] \n",
      "STATE: [1.10305927 0.57915524 0.03291112 0.04784872] ACT: [-0.18702954538783034, -0.3138360493346457] \n",
      "STATE: [1.1134922  0.58981229 0.02980835 0.03044869] ACT: [-0.01077680937847908, -0.16297098169509028] \n",
      "STATE: [1.11754226 0.5954099  0.01157159 0.01599317] ACT: [-0.1860638459062429, -0.14236942353169052] \n",
      "STATE: [ 1.11326913  0.60019134 -0.01220893  0.01366126] ACT: [-0.2630987512418066, -0.014655551686623691] \n",
      "STATE: [ 1.10371460e+00  5.99905563e-01 -2.72986612e-02 -8.16497083e-04] ACT: [-0.18161072925408228, -0.15521412341269097] \n",
      "STATE: [ 1.09118848  0.59484165 -0.03578892 -0.01446833] ACT: [-0.11750551467904119, -0.15663332457749576] \n",
      "STATE: [ 1.07198017  0.58120479 -0.05488087 -0.03896244] ACT: [-0.24503539443983813, -0.290783943463918] \n",
      "STATE: [ 1.04839918  0.55746198 -0.06737425 -0.06783662] ACT: [-0.18394220099171577, -0.3592124885417869] \n",
      "STATE: [ 1.01591995  0.5285649  -0.09279782 -0.08256306] ACT: [-0.3410857450463909, -0.21917958802477033] \n",
      "STATE: [ 0.98400467  0.50053282 -0.09118651 -0.08009168] ACT: [-0.051183402007826895, -0.033677923119974085] \n",
      "STATE: [ 0.95208971  0.45917171 -0.09118559 -0.1181746 ] ACT: [-0.06837931 -0.4953022 ] \n",
      "STATE: [ 0.91679488  0.40982675 -0.10084237 -0.14098559] ACT: [-0.17875243 -0.34932799] \n",
      "STATE: [ 0.88628059  0.35833461 -0.08718368 -0.14712039] ACT: [ 0.08046755 -0.17585112] \n",
      "STATE: [ 0.85846606  0.31161642 -0.0794701  -0.13348054] ACT: [0.02276745 0.04554371] \n",
      "STATE: [ 0.84561639  0.27582702 -0.03671333 -0.10225545] ACT: [0.42904616 0.25674771] \n",
      "STATE: [ 0.84057218  0.25602449 -0.01441205 -0.05657865] ACT: [0.22733684 0.44532905] \n",
      "STATE: [ 0.84256666  0.25128667  0.00569853 -0.01353663] ACT: [0.21902615 0.44947474] \n",
      "STATE: [0.85113794 0.26062493 0.02448935 0.02668075] ACT: [0.21902615 0.44947474] \n",
      "STATE: [0.86705147 0.28246477 0.04546724 0.06239955] ACT: [0.25811425 0.42822545] \n",
      "STATE: [0.88888287 0.31650958 0.06237542 0.09727087] ACT: [0.22733684 0.44532905] \n",
      "STATE: [0.91640728 0.36187368 0.07864118 0.12961173] ACT: [0.23267593 0.44256289] \n",
      "STATE: [0.94736198 0.40423123 0.088442   0.12102157] ACT: [ 0.17099028 -0.00096442] \n",
      "STATE: [0.9835281  0.44003516 0.10333177 0.10229693] ACT: [ 0.23650032 -0.12322966] \n",
      "STATE: [1.02549673 0.46335111 0.11991038 0.06661701] ACT: [ 0.26696858 -0.33104791] \n",
      "STATE: [1.06466428 0.47559286 0.11190729 0.03497642] ACT: [-0.0015310642339296798, -0.3116439900140647] \n",
      "STATE: [1.09344099 0.48347201 0.08221916 0.02251187] ACT: [-0.2553624455624752, -0.11621962601388841] \n",
      "STATE: [ 1.11646971  0.48031385  0.06579635 -0.00902331] ACT: [-0.12602487415825142, -0.34351812104798907] \n",
      "STATE: [ 1.12679936  0.47042286  0.02951328 -0.02826   ] ACT: [-0.3653163552121579, -0.2266153734935341] \n",
      "STATE: [ 1.12750615  0.45399598  0.00201942 -0.04693393] ACT: [-0.29208067493415707, -0.2346113674315082] \n",
      "final state  [1.12750615 0.45399598]\n",
      "STATE: [ 0.82650296  0.86278361 -0.01059834 -0.04244688] ACT: [-0.1211239  -0.48510721] \n",
      "STATE: [ 0.81937432  0.83403414 -0.02036754 -0.08214132] ACT: [-0.11959677 -0.48548595] \n",
      "STATE: [ 0.80911304  0.79228817 -0.02931792 -0.11927421] ACT: [-0.11756573 -0.48598179] \n",
      "STATE: [ 0.7958598   0.73841444 -0.03786641 -0.15392495] ACT: [-0.11968537 -0.48546412] \n",
      "STATE: [ 0.77980279  0.67321084 -0.04587717 -0.18629599] ACT: [-0.11995144 -0.48539845] \n",
      "STATE: [ 0.7612669   0.5973868  -0.05295968 -0.21664014] ACT: [-0.11535081 -0.48651227] \n",
      "STATE: [ 0.74043882  0.51163359 -0.05950881 -0.24500915] ACT: [-0.11456701 -0.48669744] \n",
      "STATE: [ 0.71795605  0.41649651 -0.06423648 -0.27182023] ACT: [-0.09866211 -0.49016914] \n",
      "STATE: [ 0.69393877  0.31258905 -0.06862081 -0.29687847] ACT: [-0.09828399 -0.4902451 ] \n",
      "STATE: [ 0.67462587  0.21019202 -0.0551797  -0.29256295] ACT: [ 0.1021471  -0.17333856] \n",
      "STATE: [ 0.66321376  0.12831592 -0.03260605 -0.23393172] ACT: [0.21659983 0.45064899] \n",
      "STATE: [ 0.65867962  0.0658453  -0.01295467 -0.17848747] ACT: [0.20013257 0.45819969] \n",
      "STATE: [ 0.66033592  0.02160749  0.0047323  -0.12639374] ACT: [0.19242079 0.46149132] \n",
      "STATE: [ 0.66766583 -0.00554844  0.02094259 -0.07758837] ACT: [0.18880971 0.46298045] \n",
      "final state  [ 0.66766583 -0.00554844]\n",
      "STATE: [ 0.64409497  0.59185523 -0.01137043 -0.04224661] ACT: [-0.12994781 -0.48281836] \n",
      "STATE: [ 0.63639683  0.56325295 -0.02199468 -0.08172078] ACT: [-0.12994781 -0.48281836] \n",
      "STATE: [ 0.62520991  0.52174525 -0.03196262 -0.11859343] ACT: [-0.13041525 -0.4826923 ] \n",
      "STATE: [ 0.61094325  0.46813156 -0.04076189 -0.15318197] ACT: [-0.12453504 -0.48424273] \n",
      "STATE: [ 0.59403634  0.40314731 -0.04830546 -0.18566931] ACT: [-0.11678374 -0.4861703 ] \n",
      "STATE: [ 0.57483635  0.32749797 -0.0548571  -0.21614096] ACT: [-0.11110494 -0.48749943] \n",
      "STATE: [ 0.5542653   0.24172835 -0.05877443 -0.24505604] ACT: [-0.08591225 -0.49256379] \n",
      "STATE: [ 0.53942609  0.16560765 -0.04239777 -0.21748772] ACT: [0.14308097 0.13127448] \n",
      "STATE: [ 0.53159619  0.10855523 -0.02237112 -0.16300692] ACT: [0.19707769 0.45952191] \n",
      "STATE: [ 0.53041249  0.0692778  -0.00338202 -0.11222122] ACT: [0.20023986 0.45815281] \n",
      "STATE: [ 0.53506978  0.04676446  0.01330655 -0.06432385] ACT: [0.18819005 0.46323267] \n",
      "STATE: [ 0.54518476  0.03991505  0.02889994 -0.01956974] ACT: [0.18819005 0.46323267] \n",
      "STATE: [0.56036562 0.04771525 0.04337389 0.0222863 ] ACT: [0.18709152 0.46367743] \n",
      "STATE: [0.58034855 0.06917581 0.05709408 0.06131586] ACT: [0.18933265 0.46276684] \n",
      "STATE: [0.60481841 0.10340025 0.06991389 0.09778411] ACT: [0.18933265 0.46276684] \n",
      "STATE: [0.63373858 0.14944269 0.08262908 0.13154984] ACT: [0.19775187 0.45923218] \n",
      "STATE: [0.66698453 0.20645427 0.0949884  0.16289023] ACT: [0.2032212 0.4568382] \n",
      "STATE: [0.70393307 0.27386119 0.10556726 0.19259119] ACT: [0.19214255 0.46160724] \n",
      "STATE: [0.74689707 0.34284951 0.12275428 0.1971095 ] ACT: [0.27559856 0.19608129] \n",
      "STATE: [0.79230404 0.40267827 0.12973421 0.17093932] ACT: [ 0.17183626 -0.15125574] \n",
      "STATE: [0.83153752 0.44418234 0.11209565 0.11858305] ACT: [-0.10428285 -0.47015284] \n",
      "STATE: [0.86780926 0.4676551  0.10363355 0.06706501] ACT: [-0.01263799 -0.49984026] \n",
      "STATE: [0.90088246 0.47429683 0.09449486 0.01897638] ACT: [-0.02671702 -0.49928569] \n",
      "STATE: [ 0.93205513  0.46519257  0.08906477 -0.02601215] ACT: [ 0.00881301 -0.49992232] \n",
      "STATE: [ 0.9557078   0.44598762  0.06757906 -0.0548713 ] ACT: [-0.17875243 -0.34932799] \n",
      "STATE: [ 0.97233397  0.41734482  0.04750334 -0.08183657] ACT: [-0.17875243 -0.34932799] \n",
      "STATE: [ 0.99604496  0.38044336  0.06774569 -0.10543274] ACT: [ 0.26696858 -0.33104791] \n",
      "STATE: [ 1.00847699  0.33993307  0.03552008 -0.11574366] ACT: [-0.3174833564349145, -0.19691367111568164] \n",
      "STATE: [ 1.01619266  0.29955722  0.02204477 -0.11535959] ACT: [-0.12736352830255732, -0.08241831786843795] \n",
      "STATE: [ 1.0207827   0.25739563  0.01311442 -0.12046169] ACT: [-0.08552752112710965, -0.14482945986055618] \n",
      "STATE: [ 1.02223223  0.21452004  0.00414151 -0.12250168] ACT: [-0.09271173776702307, -0.1136604190037917] \n",
      "STATE: [ 1.01872712  0.17290452 -0.01001461 -0.11890149] ACT: [-0.15867815823265818, -0.05073117397487259] \n",
      "STATE: [ 1.01118357  0.13117997 -0.02155301 -0.11921298] ACT: [-0.13937832375375264, -0.09273605417845909] \n",
      "STATE: [ 0.99864543  0.08457226 -0.03582324 -0.13316489] ACT: [-0.17925312585664852, -0.2488601580302675] \n",
      "STATE: [ 0.97971217  0.03001446 -0.05409503 -0.15587944] ACT: [-0.23568793446806327, -0.35946854733063505] \n",
      "STATE: [ 0.96814961 -0.00693025 -0.03303589 -0.10555632] ACT: [0.20010464 0.45821189] \n",
      "final state  [ 0.96814961 -0.00693025]\n",
      "STATE: [ 0.60034998  0.8031681  -0.0121795  -0.0420205 ] ACT: [-0.13919434 -0.48023425] \n",
      "STATE: [ 0.59211974  0.77471438 -0.02351497 -0.08129635] ACT: [-0.13868275 -0.48038224] \n",
      "STATE: [ 0.58031088  0.73337976 -0.03373961 -0.11809892] ACT: [-0.13448929 -0.48157308] \n",
      "STATE: [ 0.56501301  0.68005088 -0.04370821 -0.15236823] ACT: [-0.1392316  -0.48022345] \n",
      "STATE: [ 0.54648756  0.61550549 -0.05292985 -0.1844154 ] ACT: [-0.13817134 -0.48052958] \n",
      "STATE: [ 0.52492988  0.54048441 -0.06159335 -0.21434593] ACT: [-0.13870884 -0.4803747 ] \n",
      "STATE: [ 0.5004945   0.45568803 -0.06981539 -0.24227536] ACT: [-0.14016119 -0.47995296] \n",
      "STATE: [ 0.47346435  0.36173071 -0.07722899 -0.26844951] ACT: [-0.13708836 -0.48083966] \n",
      "STATE: [ 0.4438178   0.25926969 -0.08470441 -0.29274577] ACT: [-0.14335515 -0.47900866] \n",
      "STATE: [ 0.41360065  0.14842832 -0.08633473 -0.31668963] ACT: [-0.08216047 -0.49320346] \n",
      "STATE: [ 0.38863333  0.05982087 -0.07133518 -0.25316413] ACT: [0.10667234 0.4884885 ] \n",
      "STATE: [ 0.37102187 -0.00876663 -0.05031846 -0.19596429] ACT: [0.18668971 0.46383936] \n",
      "final state  [ 0.37102187 -0.00876663]\n",
      "STATE: [ 0.82844702  0.69398779 -0.00986148 -0.0426241 ] ACT: [-0.11270261 -0.48713255] \n",
      "STATE: [ 0.82186226  0.66510901 -0.0188136  -0.0825108 ] ACT: [-0.10970604 -0.48781614] \n",
      "STATE: [ 0.81244591  0.62316476 -0.02690386 -0.11984072] ACT: [-0.10657032 -0.48851077] \n",
      "STATE: [ 0.80045291  0.56899754 -0.0342657  -0.15476347] ACT: [-0.10431327 -0.48899769] \n",
      "STATE: [ 0.78617551  0.50338375 -0.04079256 -0.18746797] ACT: [-0.10029196 -0.48983826] \n",
      "STATE: [ 0.77005502  0.42701785 -0.04605854 -0.2181883 ] ACT: [-0.09077703 -0.49169048] \n",
      "STATE: [ 0.75243869  0.34056541 -0.05033238 -0.24700697] ACT: [-0.0833878  -0.49299744] \n",
      "STATE: [ 0.74124091  0.2551542  -0.03199365 -0.24403201] ACT: [ 0.17183626 -0.15125574] \n",
      "STATE: [ 0.73746184  0.18912486 -0.01079736 -0.18865527] ACT: [0.21824811 0.44985304] \n",
      "STATE: [ 0.74066451  0.14118112  0.0091505  -0.13698212] ACT: [0.21987751 0.44905888] \n",
      "STATE: [ 0.74995956  0.11033899  0.02655726 -0.08812036] ACT: [0.20579723 0.45568355] \n",
      "STATE: [ 0.76483408  0.09552671  0.04249863 -0.04232081] ACT: [0.20210503 0.45733309] \n",
      "STATE: [7.84828621e-01 9.57331669e-02 5.71272747e-02 5.89882681e-04] ACT: [0.19905849 0.45866733] \n",
      "STATE: [0.80960719 0.10997276 0.07079592 0.04068456] ACT: [0.19905849 0.45866733] \n",
      "STATE: [0.83895412 0.13728151 0.08384835 0.07802499] ACT: [0.20226765 0.45726119] \n",
      "STATE: [0.87284576 0.1766763  0.09683326 0.11255655] ACT: [0.21128517 0.45316507] \n",
      "STATE: [0.91121153 0.22725555 0.1096165  0.14451214] ACT: [0.21871915 0.44962422] \n",
      "STATE: [0.95429384 0.28801138 0.12309232 0.17358807] ACT: [0.2362218  0.44068045] \n",
      "STATE: [1.00104864 0.35864465 0.13358515 0.20180935] ACT: [0.2122372  0.45271997] \n",
      "STATE: [1.04414183 0.41818805 0.1231234  0.17012401] ACT: [-0.01937394779887741, -0.21076122282080212] \n",
      "STATE: [1.07941176 0.46216973 0.10077122 0.12566193] ACT: [-0.16311093504458773, -0.38054496417562356] \n",
      "STATE: [1.10439765 0.50255556 0.07138824 0.11538809] ACT: [-0.2602271065933398, -0.02316895959487736] \n",
      "STATE: [1.12565622 0.53643152 0.06073879 0.09678847] ACT: [-0.06816676241367353, -0.12602600297095895] \n",
      "STATE: [1.13569524 0.55819159 0.02868291 0.06217162] ACT: [-0.32079888223245945, -0.32302972177225514] \n",
      "STATE: [ 1.1328884   0.57208685 -0.00801954  0.03970073] ACT: [-0.3979443980488848, -0.21018144923567653] \n",
      "STATE: [ 1.12496478  0.57625402 -0.02263892  0.0119062 ] ACT: [-0.17309322808422622, -0.28787622884417446] \n",
      "STATE: [ 1.10795117e+00  5.76251882e-01 -4.86103216e-02 -6.10273198e-06] ACT: [-0.3137952235620746, -0.1272109838089434] \n",
      "STATE: [ 1.08948856  0.56590996 -0.05275031 -0.02954835] ACT: [-0.08377193959363399, -0.33763030555124557] \n",
      "STATE: [ 1.07132323  0.55560402 -0.05190092 -0.02944554] ACT: [-0.029855384033805943, -0.020986286384995056] \n",
      "STATE: [ 1.05035345  0.5411128  -0.05991367 -0.04140349] ACT: [-0.13049998774731475, -0.1587463785764882] \n",
      "STATE: [ 1.02911825  0.51968452 -0.060672   -0.06122366] ACT: [-0.0536018206519544, -0.25756882486103594] \n",
      "STATE: [ 1.00572953  0.4899884  -0.06682491 -0.08484604] ACT: [-0.11582296143544751, -0.3158878137492651] \n",
      "STATE: [ 0.97388873  0.45056141 -0.09097373 -0.11264857] ACT: [-0.3261052338276448, -0.38137771061948733] \n",
      "STATE: [ 0.94210524  0.40241325 -0.09080996 -0.13756615] ACT: [-0.0663587  -0.36925882] \n",
      "STATE: [ 0.91965037  0.35365092 -0.06415678 -0.13932097] ACT: [ 0.23650032 -0.12322966] \n",
      "STATE: [ 0.90420772  0.31765479 -0.04412185 -0.10284607] ACT: [0.18085307 0.31236525] \n",
      "STATE: [ 0.90013947  0.29529579 -0.01162356 -0.06388287] ACT: [0.33831761 0.3681592 ] \n",
      "STATE: [ 0.90243801  0.2884492   0.00656727 -0.01956168] ACT: [0.19917751 0.45861566] \n",
      "STATE: [0.91068553 0.29609702 0.02356432 0.02185092] ACT: [0.19917751 0.45861566] \n",
      "STATE: [0.92449161 0.31728806 0.03944594 0.06054583] ACT: [0.19917751 0.45861566] \n",
      "STATE: [0.94775264 0.34836331 0.0664601  0.08878644] ACT: [0.33831761 0.3681592 ] \n",
      "STATE: [0.97461806 0.38825653 0.07675833 0.11398061] ACT: [0.16753923 0.35452323] \n",
      "STATE: [1.00020931 0.42549694 0.07311788 0.10640118] ACT: [ 0.0159635  -0.00113657] \n",
      "STATE: [1.01318786 0.44949161 0.03708155 0.0685562 ] ACT: [-0.3570053156194263, -0.3527131410777924] \n",
      "STATE: [1.02301005 0.46249033 0.0280634  0.0371392 ] ACT: [-0.0752534053932169, -0.30763435303139514] \n",
      "STATE: [1.02454298 0.47407483 0.0043798  0.03309858] ACT: [-0.24962214094323654, -0.018324044315897237] \n",
      "STATE: [ 1.01847924  0.4777644  -0.01732496  0.01054162] ACT: [-0.24476958603537047, -0.23296990364376302] \n",
      "STATE: [ 1.00078685  0.47425971 -0.05054968 -0.0100134 ] ACT: [-0.3927047931241058, -0.22700834463050912] \n",
      "STATE: [ 0.97323034  0.46220073 -0.07873289 -0.03445424] ACT: [-0.36000608185790295, -0.2868338570334436] \n",
      "STATE: [ 0.94544999  0.43962456 -0.07937243 -0.06450332] ACT: [-0.0663587  -0.36925882] \n",
      "final state  [0.94544999 0.43962456]\n",
      "STATE: [ 0.79002508  0.71782791 -0.01049575 -0.04247236] ACT: [-0.11995144 -0.48539845] \n",
      "STATE: [ 0.78288736  0.68908068 -0.0203935  -0.08213494] ACT: [-0.12098891 -0.48514089] \n",
      "STATE: [ 0.77268543  0.64732055 -0.02914837 -0.11931466] ACT: [-0.11535081 -0.48651227] \n",
      "STATE: [ 0.75962451  0.59340051 -0.0373169  -0.15405726] ACT: [-0.11521595 -0.48654423] \n",
      "STATE: [ 0.7439121   0.52811386 -0.04489259 -0.18653328] ACT: [-0.11456701 -0.48669744] \n",
      "STATE: [ 0.7262093   0.45210022 -0.05057945 -0.21718183] ACT: [-0.09866211 -0.49016914] \n",
      "STATE: [ 0.70678326  0.36603671 -0.05550295 -0.24589576] ACT: [-0.0942031  -0.49104559] \n",
      "STATE: [ 0.68805508  0.27031948 -0.05350909 -0.27347778] ACT: [-0.01884024 -0.49964492] \n",
      "STATE: [ 0.68070118  0.19207741 -0.02101116 -0.22354879] ACT: [0.33127308 0.36550867] \n",
      "STATE: [ 6.80463244e-01  1.32771089e-01 -6.79815072e-04 -1.69446618e-01] ACT: [0.21659983 0.45064899] \n",
      "STATE: [ 0.68662979  0.09127275  0.01761871 -0.11856669] ACT: [0.20861617 0.45439993] \n",
      "STATE: [ 0.69835085  0.06660308  0.03348874 -0.07048477] ACT: [0.19458581 0.46058263] \n",
      "STATE: [ 0.7151984   0.05768436  0.04813586 -0.02548205] ACT: [0.19251216 0.46145321] \n",
      "STATE: [0.73685154 0.06347645 0.0618661  0.01654884] ACT: [0.19301891 0.46124148] \n",
      "STATE: [0.76302942 0.08299946 0.07479394 0.05578002] ACT: [0.19414635 0.46076805] \n",
      "STATE: [0.79358554 0.11528796 0.08730321 0.09225285] ACT: [0.19905849 0.45866733] \n",
      "STATE: [0.82833086 0.15946115 0.09927235 0.12620911] ACT: [0.20226765 0.45726119] \n",
      "STATE: [0.86747373 0.2145152  0.11183676 0.15729729] ACT: [0.21804746 0.44995033] \n",
      "STATE: [0.91146379 0.27935321 0.12568588 0.18525146] ACT: [0.24215331 0.43744917] \n",
      "STATE: [0.95866681 0.35398133 0.13486578 0.2132232 ] ACT: [0.19917751 0.45861566] \n",
      "STATE: [1.01465572 0.43336875 0.1599683  0.22682119] ACT: [0.3880353  0.31532302] \n",
      "STATE: [1.06016585 0.50335181 0.13002895 0.1999516 ] ACT: [-0.2221877552746376, -0.1369651997744311] \n",
      "STATE: [1.10128495 0.56780064 0.11748315 0.18413952] ACT: [-0.04585892347928061, -0.030745816672216875] \n",
      "STATE: [1.1276572  0.61717441 0.07534929 0.14106791] ACT: [-0.3934174183069963, -0.3541422751837758] \n",
      "STATE: [1.1498745  0.65915744 0.06347799 0.11995152] ACT: [-0.07916005096288847, -0.13552927069257675] \n",
      "STATE: [1.16444056 0.69759044 0.0416173  0.10980855] ACT: [-0.20222799245124176, -0.025955964620292094] \n",
      "STATE: [1.17292003 0.72129472 0.02422708 0.06772654] ACT: [-0.1675324011680794, -0.3985809290787965] \n",
      "STATE: [1.17346011 0.73846284 0.00154307 0.04905177] ACT: [-0.24107551377307318, -0.16263103331432216] \n",
      "STATE: [ 1.16974144  0.75257346 -0.01062476  0.04031605] ACT: [-0.1379035637604457, -0.06304794619138682] \n",
      "STATE: [ 1.1592589   0.76094922 -0.02995012  0.02393075] ACT: [-0.22882983684429906, -0.15702354229646143] \n",
      "STATE: [ 1.14932178  0.76223362 -0.02839176  0.00366972] ACT: [-0.004652807206080245, -0.21360650451785995] \n",
      "STATE: [ 1.13570839  0.75255113 -0.0388954  -0.02766426] ACT: [-0.14133543119598813, -0.35535041604900824] \n",
      "STATE: [ 1.12117002  0.74298393 -0.04153822 -0.02733485] ACT: [-0.05937514570405983, -0.016983500494600068] \n",
      "STATE: [ 1.10385082  0.72462686 -0.04948343 -0.05244877] ACT: [-0.12195604814174271, -0.3075173855149147] \n",
      "STATE: [ 1.08416523  0.69599544 -0.05624452 -0.08180405] ACT: [-0.11438224958256837, -0.3748254733238335] \n",
      "STATE: [ 1.06212965  0.66360235 -0.06295882 -0.09255169] ACT: [-0.11891821305913508, -0.18418323214755372] \n",
      "STATE: [ 1.02944445  0.63001912 -0.09338627 -0.09595208] ACT: [-0.394961347414751, -0.10827531366498305] \n",
      "STATE: [ 0.99486352  0.58898707 -0.09880266 -0.11723445] ACT: [-0.13194131252971836, -0.3151911475954279] \n",
      "STATE: [ 0.95578955  0.54117513 -0.11163991 -0.13660554] ACT: [-0.22081350327568172, -0.3093097558028979] \n",
      "STATE: [ 0.91716086  0.48133566 -0.1103677  -0.17096989] ACT: [-0.06919031 -0.49518956] \n",
      "STATE: [ 0.88133707  0.41011305 -0.10235368 -0.20349319] ACT: [ 0.00881301 -0.49992232] \n",
      "STATE: [ 0.85588202  0.33386387 -0.07272871 -0.21785479] ACT: [ 0.26180576 -0.31675243] \n",
      "STATE: [ 0.8310188   0.27146368 -0.07103777 -0.17828627] ACT: [-0.03522146  0.2888206 ] \n",
      "STATE: [ 0.81359071  0.22732861 -0.04979454 -0.12610018] ACT: [0.18950143 0.46269775] \n",
      "STATE: [ 0.80522975  0.19919306 -0.02388847 -0.08038731] ACT: [0.25872344 0.42785767] \n",
      "STATE: [ 0.80409119  0.18668556 -0.00325303 -0.03573572] ACT: [0.21791726 0.45001341] \n",
      "STATE: [0.80970106 0.18878052 0.01602821 0.00598561] ACT: [0.21791726 0.45001341] \n",
      "STATE: [0.8216165  0.20451966 0.03404412 0.04496898] ACT: [0.21791726 0.45001341] \n",
      "STATE: [0.83962466 0.23290845 0.05145188 0.08111083] ACT: [0.22447899 0.44677643] \n",
      "STATE: [0.86331545 0.2731219  0.06768796 0.11489558] ACT: [0.22414408 0.44694455] \n",
      "final state  [0.86331545 0.2731219 ]\n",
      "STATE: [ 0.81356318  0.65532629 -0.0093249  -0.04274469] ACT: [-0.10657032 -0.48851077] \n",
      "STATE: [ 0.80710336  0.62641953 -0.01845663 -0.08259075] ACT: [-0.11135626 -0.48744208] \n",
      "STATE: [ 0.79787288  0.58443421 -0.02637282 -0.11995803] ACT: [-0.10431327 -0.48899769] \n",
      "STATE: [ 0.7861767   0.53020289 -0.03341765 -0.15494664] ACT: [-0.10029196 -0.48983826] \n",
      "STATE: [ 0.77236654  0.46449157 -0.03945759 -0.18774663] ACT: [-0.09409112 -0.49106706] \n",
      "STATE: [ 0.75670224  0.38803093 -0.04475515 -0.21845898] ACT: [-0.09013666 -0.49180828] \n",
      "STATE: [ 0.7392992   0.30152754 -0.04972296 -0.24715255] ACT: [-0.09034137 -0.49177072] \n",
      "STATE: [ 0.72856061  0.22392501 -0.03068168 -0.2217215 ] ACT: [0.18032239 0.10527613] \n",
      "STATE: [ 0.72443348  0.16554254 -0.01179181 -0.16680706] ACT: [0.19287294 0.46130253] \n",
      "STATE: [ 0.72731397  0.12474236  0.00822998 -0.11657194] ACT: [0.2199766  0.44901035] \n",
      "STATE: [ 0.73614373  0.10064802  0.02522787 -0.06884097] ACT: [0.2004341  0.45806787] \n",
      "STATE: [ 0.75058349  0.0921407   0.04125648 -0.02430663] ACT: [0.20210503 0.45733309] \n",
      "STATE: [0.77016217 0.09824255 0.05593907 0.01743384] ACT: [0.19874337 0.45880396] \n",
      "STATE: [0.79455216 0.11799064 0.06968568 0.05642313] ACT: [0.19905849 0.45866733] \n",
      "STATE: [0.823536   0.15044639 0.08281098 0.09273072] ACT: [0.20226765 0.45726119] \n",
      "STATE: [0.85708839 0.19465042 0.09586396 0.12629721] ACT: [0.21128517 0.45316507] \n",
      "STATE: [0.89540894 0.24958774 0.10948731 0.15696378] ACT: [0.22759336 0.44519801] \n",
      "STATE: [0.93874515 0.31425266 0.12381774 0.18475692] ACT: [0.24589183 0.43535871] \n",
      "STATE: [0.98831683 0.38700428 0.14163336 0.20786176] ACT: [0.29647044 0.402623  ] \n",
      "STATE: [1.02615224 0.443021   0.10810118 0.16004777] ACT: [-0.27699993428242475, -0.39054921938524134] \n",
      "STATE: [1.05397507 0.49246218 0.07949378 0.14126053] ACT: [-0.24586582405775684, -0.09467549753611071] \n",
      "STATE: [1.06895297 0.52844739 0.04279401 0.10281488] ACT: [-0.3598055998352225, -0.33343352034326584] \n",
      "STATE: [1.08162873 0.55453076 0.03621646 0.07452392] ACT: [-0.043076547038592206, -0.2462140736610794] \n",
      "STATE: [1.08724786 0.57370778 0.01605465 0.05479148] ACT: [-0.20325829071770307, -0.16962062082549] \n",
      "STATE: [ 1.08189112  0.58363479 -0.01530497  0.02836288] ACT: [-0.3463546868273001, -0.2609475554080549] \n",
      "STATE: [ 1.06979161  0.5894347  -0.03457002  0.01657118] ACT: [-0.23165070829094578, -0.11349012650819418] \n",
      "STATE: [ 1.04708582  0.58381858 -0.06487369 -0.01604606] ACT: [-0.37225512849909165, -0.3603400772508348] \n",
      "STATE: [ 1.02005746  0.57144209 -0.07722388 -0.03536141] ACT: [-0.18980038726413648, -0.23278137242076774] \n",
      "STATE: [ 0.98511744  0.55114298 -0.09982863 -0.05799745] ACT: [-0.3162578800881541, -0.2852186984344384] \n",
      "STATE: [ 0.95163865  0.51688611 -0.09565368 -0.09787679] ACT: [-0.02715772 -0.49926191] \n",
      "STATE: [ 0.92006152  0.46956769 -0.09022037 -0.13519548] ACT: [-0.00964536 -0.49990696] \n",
      "STATE: [ 0.88605918  0.41077044 -0.09714956 -0.16799215] ACT: [-0.146856   -0.47621567] \n",
      "STATE: [ 0.86230604  0.34613121 -0.06786612 -0.1846835 ] ACT: [ 0.26180576 -0.31675243] \n",
      "STATE: [ 0.83903304  0.29457907 -0.06649428 -0.14729184] ACT: [-0.03522146  0.2888206 ] \n",
      "STATE: [ 0.82309081  0.26058015 -0.04554922 -0.09713976] ACT: [0.18950143 0.46269775] \n",
      "STATE: [ 0.81490247  0.24257758 -0.02339526 -0.05143593] ACT: [0.21902615 0.44947474] \n",
      "STATE: [ 0.8141159   0.2394441  -0.00224734 -0.0089528 ] ACT: [0.22414408 0.44694455] \n",
      "STATE: [0.82130435 0.2496194  0.02053844 0.02907228] ACT: [0.25872344 0.42785767] \n",
      "STATE: [0.83472874 0.2728921  0.03835539 0.06649345] ACT: [0.21902615 0.44947474] \n",
      "STATE: [0.85307564 0.30880766 0.0524197  0.10261587] ACT: [0.18950143 0.46269775] \n",
      "STATE: [0.88335805 0.35022915 0.08652119 0.11834713] ACT: [0.42904616 0.25674771] \n",
      "STATE: [0.91158079 0.39907127 0.0806364  0.13954892] ACT: [-0.00236387  0.33106652] \n",
      "STATE: [0.94041573 0.43932269 0.08238555 0.11500405] ACT: [ 0.08046755 -0.17585112] \n",
      "STATE: [0.97046143 0.4678138  0.08584484 0.08140317] ACT: [ 0.10132398 -0.29775699] \n",
      "STATE: [0.99650314 0.48312663 0.07440489 0.04375094] ACT: [-0.0663587  -0.36925882] \n",
      "STATE: [1.00881291 0.487095   0.03517075 0.01133821] ACT: [-0.3925864467346578, -0.33761800707350764] \n",
      "STATE: [ 1.01888066  0.47952623  0.02876501 -0.02162508] ACT: [-0.04683048432320419, -0.36821962606989467] \n",
      "STATE: [ 1.02534712  0.47125869  0.0184756  -0.02362154] ACT: [-0.09601943745968156, -0.039035483896153855] \n",
      "STATE: [ 1.02027386  0.45385105 -0.01449503 -0.0497361 ] ACT: [-0.3629505194339931, -0.3161683107759785] \n",
      "STATE: [ 1.01107986  0.4290615  -0.02626857 -0.07082729] ACT: [-0.1454260415867767, -0.2783442671356917] \n",
      "final state  [1.01107986 0.4290615 ]\n",
      "STATE: [ 0.75448968  0.78299167 -0.01065389 -0.04243297] ACT: [-0.12175877 -0.48494825] \n",
      "STATE: [ 0.74711008  0.75430605 -0.02108456 -0.08195894] ACT: [-0.12719803 -0.48355006] \n",
      "STATE: [ 0.73635822  0.71268402 -0.03071961 -0.11892008] ACT: [-0.12592825 -0.4838823 ] \n",
      "STATE: [ 0.7224242   0.65898269 -0.03981148 -0.15343236] ACT: [-0.12694688 -0.48361606] \n",
      "STATE: [ 0.70552795  0.59399187 -0.04827501 -0.18568807] ACT: [-0.12658469 -0.48371099] \n",
      "STATE: [ 0.68601169  0.51841451 -0.05576074 -0.21593529] ACT: [-0.12175746 -0.48494857] \n",
      "STATE: [ 0.66441889  0.432857   -0.06169371 -0.24445003] ACT: [-0.10962586 -0.48783416] \n",
      "STATE: [ 0.64081721  0.33798987 -0.06743336 -0.27104896] ACT: [-0.11186629 -0.48732528] \n",
      "STATE: [ 0.61815997  0.23404782 -0.06473499 -0.29697727] ACT: [-0.0197365  -0.49961032] \n",
      "STATE: [ 0.60701077  0.14850493 -0.03185486 -0.24440828] ACT: [0.32722168 0.37805552] \n",
      "STATE: [ 0.60281822  0.08256586 -0.01197871 -0.18839734] ACT: [0.20326487 0.45681877] \n",
      "STATE: [ 0.60482938  0.03507228  0.00574618 -0.13569594] ACT: [0.19358606 0.46100373] \n",
      "STATE: [ 0.61248559  0.00487639  0.02187487 -0.08627397] ACT: [0.1886376 0.4630506] \n",
      "STATE: [ 0.62532196 -0.00911887  0.03667536 -0.03998646] ACT: [0.18555455 0.46429464] \n",
      "final state  [ 0.62532196 -0.00911887]\n",
      "STATE: [ 0.67227283  0.81387652 -0.01120697 -0.04229026] ACT: [-0.12807961 -0.4833173 ] \n",
      "STATE: [ 0.6645771   0.78527381 -0.02198781 -0.08172204] ACT: [-0.13161486 -0.48236659] \n",
      "STATE: [ 0.65343794  0.74375347 -0.03182617 -0.11862953] ACT: [-0.12892922 -0.48309136] \n",
      "STATE: [ 0.63900075  0.69018498 -0.0412491  -0.15305284] ACT: [-0.13156034 -0.48238146] \n",
      "STATE: [ 0.62149705  0.62535488 -0.05001056 -0.18522886] ACT: [-0.1310678  -0.48251552] \n",
      "STATE: [ 0.60109306  0.55001177 -0.05829711 -0.21526602] ACT: [-0.13221133 -0.48220345] \n",
      "STATE: [ 0.57810061  0.4648128  -0.06569273 -0.24342563] ACT: [-0.12824423 -0.48327365] \n",
      "STATE: [ 0.55276188  0.37038576 -0.07239638 -0.26979156] ACT: [-0.1258826  -0.48389417] \n",
      "STATE: [ 0.52528089  0.2673233  -0.07851711 -0.29446417] ACT: [-0.12424856 -0.48431632] \n",
      "STATE: [ 0.49744203  0.15597176 -0.07953959 -0.31814726] ACT: [-0.07057331 -0.49151203] \n",
      "STATE: [ 0.47692179  0.06622151 -0.05862927 -0.25642929] ACT: [0.17932046 0.4667378 ] \n",
      "STATE: [ 0.46356559 -0.00347448 -0.03816056 -0.19913138] ACT: [0.18995611 0.46251127] \n",
      "final state  [ 0.46356559 -0.00347448]\n",
      "After 1 REWARD:  (0.2316266510260181, array([ 0.79754223,  0.19952437, -0.00545265, -0.06352626]), -0.054731939240312805)\n",
      "UPDATING THE ACTION MATRIX\n"
     ]
    },
    {
     "name": "stderr",
     "output_type": "stream",
     "text": [
      "100%|█████████████████████████████████████████████████████████████████████████████████████████████████████████████████████████| 25/25 [00:03<00:00,  7.10it/s]\n",
      "Generating Dynamics Dataset: 100%|██████████████████████████████████████████████████████████████████████████████████████████| 15/15 [00:00<00:00, 2404.99it/s]\n"
     ]
    },
    {
     "name": "stdout",
     "output_type": "stream",
     "text": [
      "COLLIDED\n"
     ]
    },
    {
     "name": "stderr",
     "output_type": "stream",
     "text": [
      "100%|████████████████████████████████████████████████████████████████████████████████████████████████████████████████████████| 31/31 [00:00<00:00, 235.04it/s]\n"
     ]
    },
    {
     "name": "stdout",
     "output_type": "stream",
     "text": [
      "Epoch 1, loss: 0.001, err: 0.027, val_loss: 0.003, val_err: 0.056\n"
     ]
    },
    {
     "name": "stderr",
     "output_type": "stream",
     "text": [
      "100%|████████████████████████████████████████████████████████████████████████████████████████████████████████████████████████| 31/31 [00:00<00:00, 236.74it/s]\n"
     ]
    },
    {
     "name": "stdout",
     "output_type": "stream",
     "text": [
      "Epoch 2, loss: 0.001, err: 0.028, val_loss: 0.003, val_err: 0.053\n"
     ]
    },
    {
     "name": "stderr",
     "output_type": "stream",
     "text": [
      "100%|████████████████████████████████████████████████████████████████████████████████████████████████████████████████████████| 31/31 [00:00<00:00, 239.07it/s]\n"
     ]
    },
    {
     "name": "stdout",
     "output_type": "stream",
     "text": [
      "Epoch 3, loss: 0.001, err: 0.028, val_loss: 0.003, val_err: 0.051\n"
     ]
    },
    {
     "name": "stderr",
     "output_type": "stream",
     "text": [
      "100%|████████████████████████████████████████████████████████████████████████████████████████████████████████████████████████| 31/31 [00:00<00:00, 238.16it/s]\n"
     ]
    },
    {
     "name": "stdout",
     "output_type": "stream",
     "text": [
      "Epoch 4, loss: 0.001, err: 0.027, val_loss: 0.002, val_err: 0.049\n"
     ]
    },
    {
     "name": "stderr",
     "output_type": "stream",
     "text": [
      "100%|████████████████████████████████████████████████████████████████████████████████████████████████████████████████████████| 31/31 [00:00<00:00, 237.22it/s]\n"
     ]
    },
    {
     "name": "stdout",
     "output_type": "stream",
     "text": [
      "Epoch 5, loss: 0.001, err: 0.027, val_loss: 0.002, val_err: 0.047\n"
     ]
    },
    {
     "name": "stderr",
     "output_type": "stream",
     "text": [
      "100%|████████████████████████████████████████████████████████████████████████████████████████████████████████████████████████| 31/31 [00:00<00:00, 238.60it/s]\n"
     ]
    },
    {
     "name": "stdout",
     "output_type": "stream",
     "text": [
      "Epoch 6, loss: 0.001, err: 0.027, val_loss: 0.002, val_err: 0.046\n"
     ]
    },
    {
     "name": "stderr",
     "output_type": "stream",
     "text": [
      "100%|████████████████████████████████████████████████████████████████████████████████████████████████████████████████████████| 31/31 [00:00<00:00, 232.85it/s]\n"
     ]
    },
    {
     "name": "stdout",
     "output_type": "stream",
     "text": [
      "Epoch 7, loss: 0.001, err: 0.026, val_loss: 0.002, val_err: 0.045\n"
     ]
    },
    {
     "name": "stderr",
     "output_type": "stream",
     "text": [
      "100%|████████████████████████████████████████████████████████████████████████████████████████████████████████████████████████| 31/31 [00:00<00:00, 239.05it/s]\n"
     ]
    },
    {
     "name": "stdout",
     "output_type": "stream",
     "text": [
      "Epoch 8, loss: 0.001, err: 0.027, val_loss: 0.002, val_err: 0.045\n"
     ]
    },
    {
     "name": "stderr",
     "output_type": "stream",
     "text": [
      "100%|████████████████████████████████████████████████████████████████████████████████████████████████████████████████████████| 31/31 [00:00<00:00, 236.58it/s]\n"
     ]
    },
    {
     "name": "stdout",
     "output_type": "stream",
     "text": [
      "Epoch 9, loss: 0.001, err: 0.026, val_loss: 0.002, val_err: 0.044\n"
     ]
    },
    {
     "name": "stderr",
     "output_type": "stream",
     "text": [
      "100%|████████████████████████████████████████████████████████████████████████████████████████████████████████████████████████| 31/31 [00:00<00:00, 237.23it/s]\n"
     ]
    },
    {
     "name": "stdout",
     "output_type": "stream",
     "text": [
      "Epoch 10, loss: 0.001, err: 0.026, val_loss: 0.002, val_err: 0.041\n"
     ]
    },
    {
     "name": "stderr",
     "output_type": "stream",
     "text": [
      "100%|████████████████████████████████████████████████████████████████████████████████████████████████████████████████████████| 31/31 [00:00<00:00, 237.06it/s]\n"
     ]
    },
    {
     "name": "stdout",
     "output_type": "stream",
     "text": [
      "Epoch 11, loss: 0.001, err: 0.026, val_loss: 0.002, val_err: 0.044\n"
     ]
    },
    {
     "name": "stderr",
     "output_type": "stream",
     "text": [
      "100%|████████████████████████████████████████████████████████████████████████████████████████████████████████████████████████| 31/31 [00:00<00:00, 238.53it/s]\n"
     ]
    },
    {
     "name": "stdout",
     "output_type": "stream",
     "text": [
      "Epoch 12, loss: 0.001, err: 0.027, val_loss: 0.002, val_err: 0.043\n"
     ]
    },
    {
     "name": "stderr",
     "output_type": "stream",
     "text": [
      "100%|████████████████████████████████████████████████████████████████████████████████████████████████████████████████████████| 31/31 [00:00<00:00, 238.73it/s]\n"
     ]
    },
    {
     "name": "stdout",
     "output_type": "stream",
     "text": [
      "Epoch 13, loss: 0.001, err: 0.026, val_loss: 0.002, val_err: 0.042\n"
     ]
    },
    {
     "name": "stderr",
     "output_type": "stream",
     "text": [
      "100%|████████████████████████████████████████████████████████████████████████████████████████████████████████████████████████| 31/31 [00:00<00:00, 237.97it/s]\n"
     ]
    },
    {
     "name": "stdout",
     "output_type": "stream",
     "text": [
      "Epoch 14, loss: 0.001, err: 0.026, val_loss: 0.002, val_err: 0.043\n"
     ]
    },
    {
     "name": "stderr",
     "output_type": "stream",
     "text": [
      "100%|████████████████████████████████████████████████████████████████████████████████████████████████████████████████████████| 31/31 [00:00<00:00, 238.18it/s]\n"
     ]
    },
    {
     "name": "stdout",
     "output_type": "stream",
     "text": [
      "Epoch 15, loss: 0.001, err: 0.026, val_loss: 0.002, val_err: 0.041\n"
     ]
    },
    {
     "name": "stderr",
     "output_type": "stream",
     "text": [
      "100%|████████████████████████████████████████████████████████████████████████████████████████████████████████████████████████| 31/31 [00:00<00:00, 239.50it/s]\n"
     ]
    },
    {
     "name": "stdout",
     "output_type": "stream",
     "text": [
      "Epoch 16, loss: 0.001, err: 0.026, val_loss: 0.002, val_err: 0.042\n"
     ]
    },
    {
     "name": "stderr",
     "output_type": "stream",
     "text": [
      "100%|████████████████████████████████████████████████████████████████████████████████████████████████████████████████████████| 31/31 [00:00<00:00, 239.65it/s]\n"
     ]
    },
    {
     "name": "stdout",
     "output_type": "stream",
     "text": [
      "Epoch 17, loss: 0.001, err: 0.026, val_loss: 0.002, val_err: 0.041\n"
     ]
    },
    {
     "name": "stderr",
     "output_type": "stream",
     "text": [
      "100%|████████████████████████████████████████████████████████████████████████████████████████████████████████████████████████| 31/31 [00:00<00:00, 240.45it/s]\n"
     ]
    },
    {
     "name": "stdout",
     "output_type": "stream",
     "text": [
      "Epoch 18, loss: 0.001, err: 0.026, val_loss: 0.002, val_err: 0.041\n"
     ]
    },
    {
     "name": "stderr",
     "output_type": "stream",
     "text": [
      "100%|████████████████████████████████████████████████████████████████████████████████████████████████████████████████████████| 31/31 [00:00<00:00, 237.59it/s]\n"
     ]
    },
    {
     "name": "stdout",
     "output_type": "stream",
     "text": [
      "Epoch 19, loss: 0.001, err: 0.026, val_loss: 0.002, val_err: 0.041\n"
     ]
    },
    {
     "name": "stderr",
     "output_type": "stream",
     "text": [
      "100%|████████████████████████████████████████████████████████████████████████████████████████████████████████████████████████| 31/31 [00:00<00:00, 238.19it/s]\n"
     ]
    },
    {
     "name": "stdout",
     "output_type": "stream",
     "text": [
      "Epoch 20, loss: 0.001, err: 0.026, val_loss: 0.002, val_err: 0.041\n"
     ]
    },
    {
     "name": "stderr",
     "output_type": "stream",
     "text": [
      "100%|████████████████████████████████████████████████████████████████████████████████████████████████████████████████████████| 31/31 [00:00<00:00, 241.00it/s]\n"
     ]
    },
    {
     "name": "stdout",
     "output_type": "stream",
     "text": [
      "Epoch 21, loss: 0.001, err: 0.026, val_loss: 0.002, val_err: 0.042\n"
     ]
    },
    {
     "name": "stderr",
     "output_type": "stream",
     "text": [
      "100%|████████████████████████████████████████████████████████████████████████████████████████████████████████████████████████| 31/31 [00:00<00:00, 239.10it/s]\n"
     ]
    },
    {
     "name": "stdout",
     "output_type": "stream",
     "text": [
      "Epoch 22, loss: 0.001, err: 0.026, val_loss: 0.002, val_err: 0.039\n"
     ]
    },
    {
     "name": "stderr",
     "output_type": "stream",
     "text": [
      "100%|████████████████████████████████████████████████████████████████████████████████████████████████████████████████████████| 31/31 [00:00<00:00, 239.52it/s]\n"
     ]
    },
    {
     "name": "stdout",
     "output_type": "stream",
     "text": [
      "Epoch 23, loss: 0.001, err: 0.026, val_loss: 0.002, val_err: 0.040\n"
     ]
    },
    {
     "name": "stderr",
     "output_type": "stream",
     "text": [
      "100%|████████████████████████████████████████████████████████████████████████████████████████████████████████████████████████| 31/31 [00:00<00:00, 238.77it/s]\n"
     ]
    },
    {
     "name": "stdout",
     "output_type": "stream",
     "text": [
      "Epoch 24, loss: 0.001, err: 0.026, val_loss: 0.002, val_err: 0.041\n"
     ]
    },
    {
     "name": "stderr",
     "output_type": "stream",
     "text": [
      "100%|████████████████████████████████████████████████████████████████████████████████████████████████████████████████████████| 31/31 [00:00<00:00, 225.73it/s]\n"
     ]
    },
    {
     "name": "stdout",
     "output_type": "stream",
     "text": [
      "Epoch 25, loss: 0.001, err: 0.026, val_loss: 0.002, val_err: 0.039\n"
     ]
    },
    {
     "name": "stderr",
     "output_type": "stream",
     "text": [
      "100%|████████████████████████████████████████████████████████████████████████████████████████████████████████████████████████| 31/31 [00:00<00:00, 234.01it/s]\n"
     ]
    },
    {
     "name": "stdout",
     "output_type": "stream",
     "text": [
      "Epoch 26, loss: 0.001, err: 0.026, val_loss: 0.002, val_err: 0.040\n"
     ]
    },
    {
     "name": "stderr",
     "output_type": "stream",
     "text": [
      "100%|████████████████████████████████████████████████████████████████████████████████████████████████████████████████████████| 31/31 [00:00<00:00, 238.57it/s]\n"
     ]
    },
    {
     "name": "stdout",
     "output_type": "stream",
     "text": [
      "Epoch 27, loss: 0.001, err: 0.026, val_loss: 0.002, val_err: 0.040\n"
     ]
    },
    {
     "name": "stderr",
     "output_type": "stream",
     "text": [
      "100%|████████████████████████████████████████████████████████████████████████████████████████████████████████████████████████| 31/31 [00:00<00:00, 237.32it/s]\n"
     ]
    },
    {
     "name": "stdout",
     "output_type": "stream",
     "text": [
      "Epoch 28, loss: 0.001, err: 0.026, val_loss: 0.001, val_err: 0.039\n"
     ]
    },
    {
     "name": "stderr",
     "output_type": "stream",
     "text": [
      "100%|████████████████████████████████████████████████████████████████████████████████████████████████████████████████████████| 31/31 [00:00<00:00, 237.58it/s]\n"
     ]
    },
    {
     "name": "stdout",
     "output_type": "stream",
     "text": [
      "Epoch 29, loss: 0.001, err: 0.025, val_loss: 0.002, val_err: 0.040\n"
     ]
    },
    {
     "name": "stderr",
     "output_type": "stream",
     "text": [
      "100%|████████████████████████████████████████████████████████████████████████████████████████████████████████████████████████| 31/31 [00:00<00:00, 238.34it/s]\n"
     ]
    },
    {
     "name": "stdout",
     "output_type": "stream",
     "text": [
      "Epoch 30, loss: 0.001, err: 0.026, val_loss: 0.001, val_err: 0.038\n"
     ]
    },
    {
     "name": "stderr",
     "output_type": "stream",
     "text": [
      "100%|████████████████████████████████████████████████████████████████████████████████████████████████████████████████████████| 31/31 [00:00<00:00, 238.35it/s]\n"
     ]
    },
    {
     "name": "stdout",
     "output_type": "stream",
     "text": [
      "Epoch 31, loss: 0.001, err: 0.025, val_loss: 0.002, val_err: 0.039\n"
     ]
    },
    {
     "name": "stderr",
     "output_type": "stream",
     "text": [
      "100%|████████████████████████████████████████████████████████████████████████████████████████████████████████████████████████| 31/31 [00:00<00:00, 238.04it/s]\n"
     ]
    },
    {
     "name": "stdout",
     "output_type": "stream",
     "text": [
      "Epoch 32, loss: 0.001, err: 0.025, val_loss: 0.001, val_err: 0.038\n"
     ]
    },
    {
     "name": "stderr",
     "output_type": "stream",
     "text": [
      "100%|████████████████████████████████████████████████████████████████████████████████████████████████████████████████████████| 31/31 [00:00<00:00, 238.72it/s]\n"
     ]
    },
    {
     "name": "stdout",
     "output_type": "stream",
     "text": [
      "Epoch 33, loss: 0.001, err: 0.025, val_loss: 0.002, val_err: 0.039\n"
     ]
    },
    {
     "name": "stderr",
     "output_type": "stream",
     "text": [
      "100%|████████████████████████████████████████████████████████████████████████████████████████████████████████████████████████| 31/31 [00:00<00:00, 237.07it/s]\n"
     ]
    },
    {
     "name": "stdout",
     "output_type": "stream",
     "text": [
      "Epoch 34, loss: 0.001, err: 0.025, val_loss: 0.002, val_err: 0.039\n"
     ]
    },
    {
     "name": "stderr",
     "output_type": "stream",
     "text": [
      "100%|████████████████████████████████████████████████████████████████████████████████████████████████████████████████████████| 31/31 [00:00<00:00, 238.18it/s]\n"
     ]
    },
    {
     "name": "stdout",
     "output_type": "stream",
     "text": [
      "Epoch 35, loss: 0.001, err: 0.025, val_loss: 0.001, val_err: 0.038\n"
     ]
    },
    {
     "name": "stderr",
     "output_type": "stream",
     "text": [
      "100%|████████████████████████████████████████████████████████████████████████████████████████████████████████████████████████| 31/31 [00:00<00:00, 234.11it/s]\n"
     ]
    },
    {
     "name": "stdout",
     "output_type": "stream",
     "text": [
      "Epoch 36, loss: 0.001, err: 0.025, val_loss: 0.001, val_err: 0.039\n"
     ]
    },
    {
     "name": "stderr",
     "output_type": "stream",
     "text": [
      "100%|████████████████████████████████████████████████████████████████████████████████████████████████████████████████████████| 31/31 [00:00<00:00, 239.01it/s]\n"
     ]
    },
    {
     "name": "stdout",
     "output_type": "stream",
     "text": [
      "Epoch 37, loss: 0.001, err: 0.025, val_loss: 0.001, val_err: 0.039\n"
     ]
    },
    {
     "name": "stderr",
     "output_type": "stream",
     "text": [
      "100%|████████████████████████████████████████████████████████████████████████████████████████████████████████████████████████| 31/31 [00:00<00:00, 147.80it/s]\n"
     ]
    },
    {
     "name": "stdout",
     "output_type": "stream",
     "text": [
      "Epoch 38, loss: 0.001, err: 0.025, val_loss: 0.002, val_err: 0.039\n"
     ]
    },
    {
     "name": "stderr",
     "output_type": "stream",
     "text": [
      "100%|████████████████████████████████████████████████████████████████████████████████████████████████████████████████████████| 31/31 [00:00<00:00, 240.92it/s]\n"
     ]
    },
    {
     "name": "stdout",
     "output_type": "stream",
     "text": [
      "Epoch 39, loss: 0.001, err: 0.030, val_loss: 0.001, val_err: 0.035\n"
     ]
    },
    {
     "name": "stderr",
     "output_type": "stream",
     "text": [
      "100%|████████████████████████████████████████████████████████████████████████████████████████████████████████████████████████| 10/10 [00:00<00:00, 621.97it/s]\n"
     ]
    },
    {
     "name": "stdout",
     "output_type": "stream",
     "text": [
      "STATE: [ 0.69847048  0.71921064 -0.02153178 -0.03808471] ACT: [-0.24607746 -0.43525381] \n",
      "STATE: [ 0.68394127  0.69339881 -0.04151205 -0.07374807] ACT: [-0.24449478 -0.43614482] \n",
      "STATE: [ 0.66290831  0.65590694 -0.06009417 -0.10711963] ACT: [-0.24350114 -0.43670035] \n",
      "STATE: [ 0.63574898  0.60752921 -0.07759808 -0.13822209] ACT: [-0.24511526 -0.43579641] \n",
      "STATE: [ 0.6028955   0.54896307 -0.09386708 -0.16733182] ACT: [-0.24413001 -0.4363491 ] \n",
      "STATE: [ 0.56487324  0.48079341 -0.10863504 -0.19477048] ACT: [-0.23917699 -0.43908355] \n",
      "STATE: [ 0.52966041  0.40471486 -0.10060809 -0.21736727] ACT: [ 0.01026023 -0.40432692] \n",
      "STATE: [ 0.49243798  0.31893862 -0.10634979 -0.24507498] ACT: [-0.14107544 -0.47968502] \n",
      "STATE: [ 0.45055773  0.22522476 -0.11965787 -0.26775388] ACT: [-0.23185471 -0.44299367] \n",
      "STATE: [ 0.40397631  0.12428265 -0.13308977 -0.28840602] ACT: [-0.24325079 -0.43683985] \n",
      "STATE: [ 0.35237868  0.01695343 -0.14742179 -0.30665491] ACT: [-0.26361183 -0.42486328] \n",
      "STATE: [ 0.29351848 -0.09433587 -0.16817201 -0.31796944] ACT: [-0.34771174 -0.35930008] \n",
      "final state  [ 0.29351848 -0.09433587]\n",
      "STATE: [ 0.672893    0.60723551 -0.02137075 -0.0381753 ] ACT: [-0.2442371  -0.43628917] \n",
      "STATE: [ 0.65842547  0.58138901 -0.04133582 -0.07384715] ACT: [-0.2442003  -0.43630977] \n",
      "STATE: [ 0.63741305  0.54388548 -0.06003548 -0.10715293] ACT: [-0.24471232 -0.4360228 ] \n",
      "STATE: [ 0.61032118  0.49546983 -0.07740534 -0.13833044] ACT: [-0.2435393  -0.43667907] \n",
      "STATE: [ 0.57825355  0.43648879 -0.09162178 -0.16851725] ACT: [-0.2205276  -0.44873999] \n",
      "STATE: [ 0.5477049   0.36607708 -0.08728188 -0.20117631] ACT: [-0.01911747 -0.49963439] \n",
      "STATE: [ 0.512773    0.28636974 -0.09980541 -0.22773526] ACT: [-0.20858748 -0.4544131 ] \n",
      "STATE: [ 0.47294147  0.19837479 -0.11380438 -0.25141414] ACT: [-0.23484231 -0.44141714] \n",
      "STATE: [ 0.4282153   0.10280933 -0.12778906 -0.27304418] ACT: [-0.24517809 -0.43576106] \n",
      "STATE: [ 0.37837892  0.00048673 -0.14238965 -0.29235027] ACT: [-0.26270568 -0.42542417] \n",
      "STATE: [ 0.32091664 -0.10587923 -0.16417794 -0.30390275] ACT: [-0.35580131 -0.35129108] \n",
      "final state  [ 0.32091664 -0.10587923]\n",
      "STATE: [ 0.76985072  0.78655292 -0.02162515 -0.03803177] ACT: [-0.24714456 -0.43464878] \n",
      "STATE: [ 0.75520982  0.76080422 -0.04183115 -0.0735677 ] ACT: [-0.24714456 -0.43464878] \n",
      "STATE: [ 0.73406633  0.72337478 -0.06040997 -0.10694126] ACT: [-0.24370281 -0.43658784] \n",
      "STATE: [ 0.70675546  0.67508264 -0.07803103 -0.13797754] ACT: [-0.24669102 -0.43490636] \n",
      "STATE: [ 0.67376998  0.61659112 -0.09424424 -0.16711862] ACT: [-0.24381703 -0.43652406] \n",
      "STATE: [ 0.63546941  0.54857675 -0.10943021 -0.19432677] ACT: [-0.2442371  -0.43628917] \n",
      "STATE: [ 0.59222392  0.47165253 -0.12355854 -0.21978349] ACT: [-0.2435393  -0.43667907] \n",
      "STATE: [ 0.54506276  0.3860338  -0.13474617 -0.24462495] ACT: [-0.2205276  -0.44873999] \n",
      "STATE: [ 0.49667611  0.29134345 -0.13824756 -0.27054387] ACT: [-0.14107544 -0.47968502] \n",
      "STATE: [ 0.44423893  0.18936682 -0.14982054 -0.29136179] ACT: [-0.23594827 -0.44082697] \n",
      "STATE: [ 0.3877296   0.0807399  -0.16145523 -0.31036262] ACT: [-0.24533331 -0.4356737 ] \n",
      "STATE: [ 0.32665239 -0.03364152 -0.17450632 -0.32680406] ACT: [-0.27024676 -0.42067409] \n",
      "final state  [ 0.32665239 -0.03364152]\n",
      "STATE: [ 0.61765432  0.70727055 -0.02144481 -0.03813375] ACT: [-0.24508355 -0.43581424] \n",
      "STATE: [ 0.60313551  0.68145281 -0.04148231 -0.07376497] ACT: [-0.24508355 -0.43581424] \n",
      "STATE: [ 0.58209424  0.64396549 -0.06011793 -0.10710663] ACT: [-0.2440903  -0.43637131] \n",
      "STATE: [ 0.55496021  0.59557346 -0.07752578 -0.13826294] ACT: [-0.24403527 -0.43640209] \n",
      "STATE: [ 0.52211387  0.53700322 -0.09384671 -0.16734355] ACT: [-0.24466922 -0.43604699] \n",
      "STATE: [ 0.49039642  0.47618577 -0.09062129 -0.17376416] ACT: [-0.03352309 -0.19888611] \n",
      "STATE: [ 0.46839759  0.43263147 -0.0628538  -0.12444084] ACT: [0.24937677 0.43337193] \n",
      "COLLIDED\n",
      "STATE: [ 0.44118363  0.37814655 -0.07775416 -0.15567119] ACT: [-0.21743023 -0.45024892] \n",
      "STATE: [ 0.40852341  0.31374024 -0.09331492 -0.18401805] ACT: [-0.23615283 -0.44071742] \n",
      "STATE: [ 0.37065475  0.24012838 -0.10819618 -0.21031959] ACT: [-0.24005778 -0.43860263] \n",
      "STATE: [ 0.32776294  0.15800195 -0.12254802 -0.23464695] ACT: [-0.24516816 -0.43576665] \n",
      "STATE: [ 0.27992955  0.06806235 -0.13666683 -0.25697028] ACT: [-0.25326882 -0.43110893] \n",
      "STATE: [ 0.22332507 -0.02559893 -0.16172709 -0.26760366] ACT: [-0.38890313 -0.31425206] \n",
      "final state  [ 0.22332507 -0.02559893]\n",
      "STATE: [ 0.81257198  0.84969613 -0.02163549 -0.03802589] ACT: [-0.24726277 -0.43458155] \n",
      "STATE: [ 0.79793418  0.82394566 -0.04182226 -0.07357275] ACT: [-0.24693255 -0.43476927] \n",
      "STATE: [ 0.77676364  0.78653134 -0.06048726 -0.10689807] ACT: [-0.24468093 -0.43604041] \n",
      "STATE: [ 0.74941362  0.73826121 -0.07814293 -0.13791465] ACT: [-0.24714456 -0.43464878] \n",
      "STATE: [ 0.71632934  0.67982519 -0.09452652 -0.16696005] ACT: [-0.24584819 -0.43538336] \n",
      "STATE: [ 0.67794932  0.61185549 -0.1096572  -0.19419915] ACT: [-0.24381703 -0.43652406] \n",
      "STATE: [ 0.63460935  0.53498431 -0.12382848 -0.21963194] ACT: [-0.2442003  -0.43630977] \n",
      "STATE: [ 0.58665518  0.44978451 -0.13701192 -0.24342801] ACT: [-0.2435393  -0.43667907] \n",
      "STATE: [ 0.5370511   0.35563419 -0.14172592 -0.2690009 ] ACT: [-0.15663324 -0.47483263] \n",
      "STATE: [ 0.48390887  0.25393945 -0.15183496 -0.29055642] ACT: [-0.22182628 -0.44809943] \n",
      "STATE: [ 0.42690513  0.14548467 -0.16286781 -0.30987078] ACT: [-0.23996596 -0.43865287] \n",
      "STATE: [ 0.36577237  0.0310119  -0.17466503 -0.32706508] ACT: [-0.25697623 -0.42890934] \n",
      "STATE: [ 0.29907383 -0.08789607 -0.19056726 -0.33973704] ACT: [-0.31273858 -0.39012124] \n",
      "final state  [ 0.29907383 -0.08789607]\n",
      "STATE: [ 0.61063448  0.76467285 -0.02151582 -0.03809372] ACT: [-0.24589512 -0.43535685] \n",
      "STATE: [ 0.59618168  0.73881841 -0.04129371 -0.07386983] ACT: [-0.24216985 -0.43744001] \n",
      "STATE: [ 0.57524628  0.70127217 -0.05981543 -0.10727497] ACT: [-0.24264713 -0.43717544] \n",
      "STATE: [ 0.54824897  0.65280403 -0.07713516 -0.13848041] ACT: [-0.2428013  -0.43708984] \n",
      "STATE: [ 0.51554197  0.59415616 -0.09344859 -0.16756532] ACT: [-0.24429059 -0.43625922] \n",
      "STATE: [ 0.47761576  0.52593244 -0.10836058 -0.19492493] ACT: [-0.24050921 -0.43835524] \n",
      "STATE: [ 0.44445368  0.46846457 -0.09474882 -0.16419392] ACT: [0.07429253 0.20501779] \n",
      "COLLIDED\n",
      "STATE: [ 0.42129252  0.42793037 -0.06617473 -0.11581201] ACT: [0.25549946 0.42979067] \n",
      "COLLIDED\n",
      "STATE: [ 0.39230123  0.37662309 -0.08283226 -0.14659221] ACT: [-0.24000289 -0.43863266] \n",
      "STATE: [ 0.35791585  0.31522063 -0.09824393 -0.17543562] ACT: [-0.23825751 -0.43958317] \n",
      "STATE: [ 0.31837585  0.24444818 -0.11297145 -0.202207  ] ACT: [-0.24199748 -0.43753539] \n",
      "STATE: [ 0.27395662  0.1649556  -0.12691207 -0.22712163] ACT: [-0.24404996 -0.43639388] \n",
      "STATE: [ 0.22474318  0.07744945 -0.14060984 -0.25001759] ACT: [-0.25172997 -0.43200928] \n",
      "STATE: [ 0.16701068 -0.00172365 -0.16494999 -0.22620885] ACT: [-0.3836305   0.08458664] \n",
      "final state  [ 0.16701068 -0.00172365]\n",
      "STATE: [ 0.65738727  0.66312477 -0.02129746 -0.03821624] ACT: [-0.24339952 -0.436757  ] \n",
      "STATE: [ 0.64291568  0.63728061 -0.0413474  -0.07384048] ACT: [-0.24511526 -0.43579641] \n",
      "STATE: [ 0.62193184  0.59976115 -0.05995383 -0.10719845] ACT: [-0.24365553 -0.43661423] \n",
      "STATE: [ 0.59484858  0.55134072 -0.07738074 -0.13834409] ACT: [-0.24413001 -0.4363491 ] \n",
      "STATE: [ 0.56221786  0.49265094 -0.09323061 -0.16768507] ACT: [-0.23917699 -0.43908355] \n",
      "STATE: [ 0.53204276  0.42543017 -0.08621459 -0.19205935] ACT: [ 0.01026023 -0.40432692] \n",
      "STATE: [ 0.50909646  0.34823587 -0.06556085 -0.22055515] ACT: [ 0.1713818  -0.46971085] \n",
      "STATE: [ 0.48080635  0.26241238 -0.08082888 -0.24520997] ACT: [-0.2236625  -0.44718574] \n",
      "STATE: [ 0.44702382  0.16878731 -0.09652151 -0.26750019] ACT: [-0.23996596 -0.43865287] \n",
      "STATE: [ 0.40787982  0.06800076 -0.11184002 -0.28796156] ACT: [-0.24745979 -0.43446939] \n",
      "STATE: [ 0.36269929 -0.0388374  -0.12908722 -0.30525188] ACT: [-0.28099091 -0.4135748 ] \n",
      "final state  [ 0.36269929 -0.0388374 ]\n",
      "STATE: [ 0.79475502  0.81964414 -0.02140958 -0.03815354] ACT: [-0.24468093 -0.43604041] \n",
      "STATE: [ 0.78026007  0.793813   -0.04141416 -0.07380325] ACT: [-0.24468093 -0.43604041] \n",
      "STATE: [ 0.75914754  0.75636591 -0.0603215  -0.10699168] ACT: [-0.24714456 -0.43464878] \n",
      "STATE: [ 0.73196841  0.7079995  -0.07765467 -0.13818976] ACT: [-0.2433344  -0.43679328] \n",
      "STATE: [ 0.69901799  0.64948812 -0.09414404 -0.16717536] ACT: [-0.24669102 -0.43490636] \n",
      "STATE: [ 0.66071281  0.58147619 -0.10944338 -0.1943198 ] ACT: [-0.24545761 -0.43560367] \n",
      "STATE: [ 0.61742709  0.50457435 -0.12367349 -0.21971956] ACT: [-0.24471232 -0.4360228 ] \n",
      "STATE: [ 0.56965832  0.41927164 -0.13648221 -0.24372201] ACT: [-0.23914052 -0.43910342] \n",
      "STATE: [ 0.5244389   0.32426562 -0.12919834 -0.27144576] ACT: [-0.01911747 -0.49963439] \n",
      "STATE: [ 0.47510769  0.2219166  -0.14094631 -0.29242578] ACT: [-0.2311612  -0.44335595] \n",
      "STATE: [ 0.42158059  0.11289694 -0.15293457 -0.31148473] ACT: [-0.2427184  -0.43713588] \n",
      "STATE: [ 0.36352085 -0.00199691 -0.16588498 -0.32826816] ACT: [-0.26270568 -0.42542417] \n",
      "final state  [ 0.36352085 -0.00199691]\n",
      "STATE: [ 0.80958591  0.71830602 -0.02172579 -0.03797437] ACT: [-0.24829478 -0.43399274] \n",
      "STATE: [ 0.79491677  0.69257344 -0.04191182 -0.07352166] ACT: [-0.24699183 -0.4347356 ] \n",
      "STATE: [ 0.77368234  0.65519529 -0.0606698  -0.1067947 ] ACT: [-0.2458107  -0.43540453] \n",
      "STATE: [ 0.74632574  0.60692891 -0.07816174 -0.13790395] ACT: [-0.24541023 -0.43563037] \n",
      "STATE: [ 0.71317698  0.54852949 -0.09471073 -0.16685547] ACT: [-0.24775263 -0.43430247] \n",
      "STATE: [ 0.67470751  0.48061035 -0.10991279 -0.1940547 ] ACT: [-0.24477093 -0.4359899 ] \n",
      "STATE: [ 0.63130684  0.40377362 -0.12400189 -0.21953349] ACT: [-0.24345289 -0.43672725] \n",
      "STATE: [ 0.58376245  0.31835632 -0.13584114 -0.24404945] ACT: [-0.22830705 -0.44483243] \n",
      "STATE: [ 0.5323313   0.22492921 -0.14694614 -0.26693459] ACT: [-0.22879515 -0.44458158] \n",
      "STATE: [ 0.47692396  0.12420083 -0.15830667 -0.28779538] ACT: [-0.2400443 -0.43861  ] \n",
      "STATE: [ 0.41713463  0.01703734 -0.17082666 -0.3061814 ] ACT: [-0.26181563 -0.42597251] \n",
      "STATE: [ 0.35235405 -0.09554332 -0.18508738 -0.32165902] ACT: [-0.29109956 -0.40652312] \n",
      "final state  [ 0.35235405 -0.09554332]\n",
      "STATE: [ 0.62372848  0.72541466 -0.02129747 -0.03821623] ACT: [-0.2433996  -0.43675695] \n",
      "STATE: [ 0.60925786  0.69956995 -0.04134463 -0.07384204] ACT: [-0.24508355 -0.43581424] \n",
      "STATE: [ 0.58826161  0.66205742 -0.05998929 -0.10717865] ACT: [-0.2440903  -0.43637131] \n",
      "STATE: [ 0.56114429  0.61365606 -0.07747807 -0.1382896 ] ACT: [-0.24486375 -0.43593778] \n",
      "STATE: [ 0.52830667  0.55508096 -0.09382175 -0.16735744] ACT: [-0.24489345 -0.43592109] \n",
      "STATE: [ 0.49659739  0.49425896 -0.09059797 -0.17377715] ACT: [-0.03352309 -0.19888611] \n",
      "STATE: [ 0.47460618  0.45070042 -0.06283201 -0.12445298] ACT: [0.24937677 0.43337193] \n",
      "COLLIDED\n",
      "STATE: [ 0.44659191  0.39663149 -0.08004078 -0.15448265] ACT: [-0.24379572 -0.43653596] \n",
      "STATE: [ 0.41350124  0.33244856 -0.09454477 -0.18337979] ACT: [-0.22579046 -0.44611509] \n",
      "STATE: [ 0.3752207   0.25905073 -0.10937296 -0.20970809] ACT: [-0.2403736  -0.43842962] \n",
      "STATE: [ 0.33199655  0.17709488 -0.12349759 -0.23415957] ACT: [-0.24345402 -0.43672662] \n",
      "STATE: [ 0.28392866  0.0872703  -0.13733683 -0.25664167] ACT: [-0.25078598 -0.43255796] \n",
      "STATE: [ 0.2298997  -0.00896321 -0.15436843 -0.27495287] ACT: [-0.29764949 -0.40175214] \n",
      "final state  [ 0.2298997  -0.00896321]\n",
      "After 2 REWARD:  (0.7363874332277424, array([ 0.2938971 , -0.04944161, -0.16585286, -0.30123577]), -0.400705817514655)\n",
      "UPDATING THE ACTION MATRIX\n"
     ]
    },
    {
     "name": "stderr",
     "output_type": "stream",
     "text": [
      "100%|█████████████████████████████████████████████████████████████████████████████████████████████████████████████████████████| 25/25 [00:03<00:00,  7.11it/s]\n",
      "Generating Dynamics Dataset: 100%|██████████████████████████████████████████████████████████████████████████████████████████| 15/15 [00:00<00:00, 2461.54it/s]\n"
     ]
    },
    {
     "name": "stdout",
     "output_type": "stream",
     "text": [
      "COLLIDED\n",
      "COLLIDED\n",
      "COLLIDED\n",
      "COLLIDED\n"
     ]
    },
    {
     "name": "stderr",
     "output_type": "stream",
     "text": [
      "100%|████████████████████████████████████████████████████████████████████████████████████████████████████████████████████████| 34/34 [00:00<00:00, 236.81it/s]\n"
     ]
    },
    {
     "name": "stdout",
     "output_type": "stream",
     "text": [
      "Epoch 1, loss: 0.001, err: 0.024, val_loss: 0.001, val_err: 0.037\n"
     ]
    },
    {
     "name": "stderr",
     "output_type": "stream",
     "text": [
      "100%|████████████████████████████████████████████████████████████████████████████████████████████████████████████████████████| 34/34 [00:00<00:00, 238.02it/s]\n"
     ]
    },
    {
     "name": "stdout",
     "output_type": "stream",
     "text": [
      "Epoch 2, loss: 0.001, err: 0.024, val_loss: 0.001, val_err: 0.038\n"
     ]
    },
    {
     "name": "stderr",
     "output_type": "stream",
     "text": [
      "100%|████████████████████████████████████████████████████████████████████████████████████████████████████████████████████████| 34/34 [00:00<00:00, 232.35it/s]\n"
     ]
    },
    {
     "name": "stdout",
     "output_type": "stream",
     "text": [
      "Epoch 3, loss: 0.001, err: 0.025, val_loss: 0.001, val_err: 0.037\n"
     ]
    },
    {
     "name": "stderr",
     "output_type": "stream",
     "text": [
      "100%|████████████████████████████████████████████████████████████████████████████████████████████████████████████████████████| 34/34 [00:00<00:00, 236.61it/s]\n"
     ]
    },
    {
     "name": "stdout",
     "output_type": "stream",
     "text": [
      "Epoch 4, loss: 0.001, err: 0.025, val_loss: 0.001, val_err: 0.039\n"
     ]
    },
    {
     "name": "stderr",
     "output_type": "stream",
     "text": [
      "100%|████████████████████████████████████████████████████████████████████████████████████████████████████████████████████████| 34/34 [00:00<00:00, 239.99it/s]\n"
     ]
    },
    {
     "name": "stdout",
     "output_type": "stream",
     "text": [
      "Epoch 5, loss: 0.001, err: 0.024, val_loss: 0.001, val_err: 0.037\n"
     ]
    },
    {
     "name": "stderr",
     "output_type": "stream",
     "text": [
      "100%|████████████████████████████████████████████████████████████████████████████████████████████████████████████████████████| 34/34 [00:00<00:00, 240.07it/s]\n"
     ]
    },
    {
     "name": "stdout",
     "output_type": "stream",
     "text": [
      "Epoch 6, loss: 0.001, err: 0.024, val_loss: 0.001, val_err: 0.037\n"
     ]
    },
    {
     "name": "stderr",
     "output_type": "stream",
     "text": [
      "100%|████████████████████████████████████████████████████████████████████████████████████████████████████████████████████████| 34/34 [00:00<00:00, 238.07it/s]\n"
     ]
    },
    {
     "name": "stdout",
     "output_type": "stream",
     "text": [
      "Epoch 7, loss: 0.001, err: 0.024, val_loss: 0.001, val_err: 0.037\n"
     ]
    },
    {
     "name": "stderr",
     "output_type": "stream",
     "text": [
      "100%|████████████████████████████████████████████████████████████████████████████████████████████████████████████████████████| 34/34 [00:00<00:00, 239.97it/s]\n"
     ]
    },
    {
     "name": "stdout",
     "output_type": "stream",
     "text": [
      "Epoch 8, loss: 0.001, err: 0.024, val_loss: 0.001, val_err: 0.037\n"
     ]
    },
    {
     "name": "stderr",
     "output_type": "stream",
     "text": [
      "100%|████████████████████████████████████████████████████████████████████████████████████████████████████████████████████████| 34/34 [00:00<00:00, 240.02it/s]\n"
     ]
    },
    {
     "name": "stdout",
     "output_type": "stream",
     "text": [
      "Epoch 9, loss: 0.001, err: 0.024, val_loss: 0.001, val_err: 0.037\n"
     ]
    },
    {
     "name": "stderr",
     "output_type": "stream",
     "text": [
      "100%|████████████████████████████████████████████████████████████████████████████████████████████████████████████████████████| 34/34 [00:00<00:00, 237.53it/s]\n"
     ]
    },
    {
     "name": "stdout",
     "output_type": "stream",
     "text": [
      "Epoch 10, loss: 0.001, err: 0.024, val_loss: 0.001, val_err: 0.036\n"
     ]
    },
    {
     "name": "stderr",
     "output_type": "stream",
     "text": [
      "100%|████████████████████████████████████████████████████████████████████████████████████████████████████████████████████████| 34/34 [00:00<00:00, 237.28it/s]\n"
     ]
    },
    {
     "name": "stdout",
     "output_type": "stream",
     "text": [
      "Epoch 11, loss: 0.001, err: 0.024, val_loss: 0.001, val_err: 0.037\n"
     ]
    },
    {
     "name": "stderr",
     "output_type": "stream",
     "text": [
      "100%|████████████████████████████████████████████████████████████████████████████████████████████████████████████████████████| 34/34 [00:00<00:00, 240.00it/s]\n"
     ]
    },
    {
     "name": "stdout",
     "output_type": "stream",
     "text": [
      "Epoch 12, loss: 0.001, err: 0.024, val_loss: 0.001, val_err: 0.038\n"
     ]
    },
    {
     "name": "stderr",
     "output_type": "stream",
     "text": [
      "100%|████████████████████████████████████████████████████████████████████████████████████████████████████████████████████████| 34/34 [00:00<00:00, 239.89it/s]\n"
     ]
    },
    {
     "name": "stdout",
     "output_type": "stream",
     "text": [
      "Epoch 13, loss: 0.001, err: 0.024, val_loss: 0.001, val_err: 0.037\n"
     ]
    },
    {
     "name": "stderr",
     "output_type": "stream",
     "text": [
      "100%|████████████████████████████████████████████████████████████████████████████████████████████████████████████████████████| 34/34 [00:00<00:00, 238.79it/s]\n"
     ]
    },
    {
     "name": "stdout",
     "output_type": "stream",
     "text": [
      "Epoch 14, loss: 0.001, err: 0.024, val_loss: 0.001, val_err: 0.036\n"
     ]
    },
    {
     "name": "stderr",
     "output_type": "stream",
     "text": [
      "100%|████████████████████████████████████████████████████████████████████████████████████████████████████████████████████████| 34/34 [00:00<00:00, 239.29it/s]\n"
     ]
    },
    {
     "name": "stdout",
     "output_type": "stream",
     "text": [
      "Epoch 15, loss: 0.001, err: 0.024, val_loss: 0.001, val_err: 0.037\n"
     ]
    },
    {
     "name": "stderr",
     "output_type": "stream",
     "text": [
      "100%|████████████████████████████████████████████████████████████████████████████████████████████████████████████████████████| 34/34 [00:00<00:00, 240.39it/s]\n"
     ]
    },
    {
     "name": "stdout",
     "output_type": "stream",
     "text": [
      "Epoch 16, loss: 0.001, err: 0.024, val_loss: 0.001, val_err: 0.036\n"
     ]
    },
    {
     "name": "stderr",
     "output_type": "stream",
     "text": [
      "100%|████████████████████████████████████████████████████████████████████████████████████████████████████████████████████████| 34/34 [00:00<00:00, 238.82it/s]\n"
     ]
    },
    {
     "name": "stdout",
     "output_type": "stream",
     "text": [
      "Epoch 17, loss: 0.001, err: 0.024, val_loss: 0.001, val_err: 0.037\n"
     ]
    },
    {
     "name": "stderr",
     "output_type": "stream",
     "text": [
      "100%|████████████████████████████████████████████████████████████████████████████████████████████████████████████████████████| 34/34 [00:00<00:00, 238.38it/s]\n"
     ]
    },
    {
     "name": "stdout",
     "output_type": "stream",
     "text": [
      "Epoch 18, loss: 0.001, err: 0.024, val_loss: 0.001, val_err: 0.037\n"
     ]
    },
    {
     "name": "stderr",
     "output_type": "stream",
     "text": [
      "100%|████████████████████████████████████████████████████████████████████████████████████████████████████████████████████████| 34/34 [00:00<00:00, 239.77it/s]\n"
     ]
    },
    {
     "name": "stdout",
     "output_type": "stream",
     "text": [
      "Epoch 19, loss: 0.001, err: 0.024, val_loss: 0.001, val_err: 0.037\n"
     ]
    },
    {
     "name": "stderr",
     "output_type": "stream",
     "text": [
      "100%|████████████████████████████████████████████████████████████████████████████████████████████████████████████████████████| 34/34 [00:00<00:00, 239.01it/s]\n"
     ]
    },
    {
     "name": "stdout",
     "output_type": "stream",
     "text": [
      "Epoch 20, loss: 0.001, err: 0.024, val_loss: 0.001, val_err: 0.037\n"
     ]
    },
    {
     "name": "stderr",
     "output_type": "stream",
     "text": [
      "100%|████████████████████████████████████████████████████████████████████████████████████████████████████████████████████████| 34/34 [00:00<00:00, 238.69it/s]\n"
     ]
    },
    {
     "name": "stdout",
     "output_type": "stream",
     "text": [
      "Epoch 21, loss: 0.001, err: 0.024, val_loss: 0.001, val_err: 0.036\n"
     ]
    },
    {
     "name": "stderr",
     "output_type": "stream",
     "text": [
      "100%|████████████████████████████████████████████████████████████████████████████████████████████████████████████████████████| 34/34 [00:00<00:00, 239.66it/s]\n"
     ]
    },
    {
     "name": "stdout",
     "output_type": "stream",
     "text": [
      "Epoch 22, loss: 0.001, err: 0.024, val_loss: 0.001, val_err: 0.036\n"
     ]
    },
    {
     "name": "stderr",
     "output_type": "stream",
     "text": [
      "100%|████████████████████████████████████████████████████████████████████████████████████████████████████████████████████████| 34/34 [00:00<00:00, 242.91it/s]\n"
     ]
    },
    {
     "name": "stdout",
     "output_type": "stream",
     "text": [
      "Epoch 23, loss: 0.001, err: 0.024, val_loss: 0.001, val_err: 0.036\n"
     ]
    },
    {
     "name": "stderr",
     "output_type": "stream",
     "text": [
      "100%|████████████████████████████████████████████████████████████████████████████████████████████████████████████████████████| 34/34 [00:00<00:00, 238.48it/s]\n"
     ]
    },
    {
     "name": "stdout",
     "output_type": "stream",
     "text": [
      "Epoch 24, loss: 0.001, err: 0.024, val_loss: 0.001, val_err: 0.036\n"
     ]
    },
    {
     "name": "stderr",
     "output_type": "stream",
     "text": [
      "100%|████████████████████████████████████████████████████████████████████████████████████████████████████████████████████████| 34/34 [00:00<00:00, 240.25it/s]\n"
     ]
    },
    {
     "name": "stdout",
     "output_type": "stream",
     "text": [
      "Epoch 25, loss: 0.001, err: 0.024, val_loss: 0.001, val_err: 0.037\n"
     ]
    },
    {
     "name": "stderr",
     "output_type": "stream",
     "text": [
      "100%|████████████████████████████████████████████████████████████████████████████████████████████████████████████████████████| 34/34 [00:00<00:00, 241.89it/s]\n"
     ]
    },
    {
     "name": "stdout",
     "output_type": "stream",
     "text": [
      "Epoch 26, loss: 0.001, err: 0.024, val_loss: 0.001, val_err: 0.035\n"
     ]
    },
    {
     "name": "stderr",
     "output_type": "stream",
     "text": [
      "100%|████████████████████████████████████████████████████████████████████████████████████████████████████████████████████████| 34/34 [00:00<00:00, 239.53it/s]\n"
     ]
    },
    {
     "name": "stdout",
     "output_type": "stream",
     "text": [
      "Epoch 27, loss: 0.001, err: 0.024, val_loss: 0.001, val_err: 0.036\n"
     ]
    },
    {
     "name": "stderr",
     "output_type": "stream",
     "text": [
      "100%|████████████████████████████████████████████████████████████████████████████████████████████████████████████████████████| 34/34 [00:00<00:00, 240.01it/s]\n"
     ]
    },
    {
     "name": "stdout",
     "output_type": "stream",
     "text": [
      "Epoch 28, loss: 0.001, err: 0.024, val_loss: 0.001, val_err: 0.036\n"
     ]
    },
    {
     "name": "stderr",
     "output_type": "stream",
     "text": [
      "100%|████████████████████████████████████████████████████████████████████████████████████████████████████████████████████████| 34/34 [00:00<00:00, 240.07it/s]\n"
     ]
    },
    {
     "name": "stdout",
     "output_type": "stream",
     "text": [
      "Epoch 29, loss: 0.001, err: 0.024, val_loss: 0.001, val_err: 0.036\n"
     ]
    },
    {
     "name": "stderr",
     "output_type": "stream",
     "text": [
      "100%|████████████████████████████████████████████████████████████████████████████████████████████████████████████████████████| 34/34 [00:00<00:00, 237.35it/s]\n"
     ]
    },
    {
     "name": "stdout",
     "output_type": "stream",
     "text": [
      "Epoch 30, loss: 0.001, err: 0.024, val_loss: 0.001, val_err: 0.036\n"
     ]
    },
    {
     "name": "stderr",
     "output_type": "stream",
     "text": [
      "100%|████████████████████████████████████████████████████████████████████████████████████████████████████████████████████████| 34/34 [00:00<00:00, 240.27it/s]\n"
     ]
    },
    {
     "name": "stdout",
     "output_type": "stream",
     "text": [
      "Epoch 31, loss: 0.001, err: 0.024, val_loss: 0.001, val_err: 0.037\n"
     ]
    },
    {
     "name": "stderr",
     "output_type": "stream",
     "text": [
      "100%|████████████████████████████████████████████████████████████████████████████████████████████████████████████████████████| 34/34 [00:00<00:00, 237.13it/s]\n"
     ]
    },
    {
     "name": "stdout",
     "output_type": "stream",
     "text": [
      "Epoch 32, loss: 0.001, err: 0.024, val_loss: 0.001, val_err: 0.036\n"
     ]
    },
    {
     "name": "stderr",
     "output_type": "stream",
     "text": [
      "100%|████████████████████████████████████████████████████████████████████████████████████████████████████████████████████████| 34/34 [00:00<00:00, 226.87it/s]\n"
     ]
    },
    {
     "name": "stdout",
     "output_type": "stream",
     "text": [
      "Epoch 33, loss: 0.001, err: 0.024, val_loss: 0.001, val_err: 0.035\n"
     ]
    },
    {
     "name": "stderr",
     "output_type": "stream",
     "text": [
      "100%|████████████████████████████████████████████████████████████████████████████████████████████████████████████████████████| 34/34 [00:00<00:00, 240.82it/s]\n"
     ]
    },
    {
     "name": "stdout",
     "output_type": "stream",
     "text": [
      "Epoch 34, loss: 0.001, err: 0.024, val_loss: 0.001, val_err: 0.036\n"
     ]
    },
    {
     "name": "stderr",
     "output_type": "stream",
     "text": [
      "100%|████████████████████████████████████████████████████████████████████████████████████████████████████████████████████████| 34/34 [00:00<00:00, 236.50it/s]\n"
     ]
    },
    {
     "name": "stdout",
     "output_type": "stream",
     "text": [
      "Epoch 35, loss: 0.001, err: 0.024, val_loss: 0.001, val_err: 0.036\n"
     ]
    },
    {
     "name": "stderr",
     "output_type": "stream",
     "text": [
      "100%|████████████████████████████████████████████████████████████████████████████████████████████████████████████████████████| 34/34 [00:00<00:00, 236.88it/s]\n"
     ]
    },
    {
     "name": "stdout",
     "output_type": "stream",
     "text": [
      "Epoch 36, loss: 0.001, err: 0.024, val_loss: 0.001, val_err: 0.036\n"
     ]
    },
    {
     "name": "stderr",
     "output_type": "stream",
     "text": [
      "100%|████████████████████████████████████████████████████████████████████████████████████████████████████████████████████████| 34/34 [00:00<00:00, 238.47it/s]\n"
     ]
    },
    {
     "name": "stdout",
     "output_type": "stream",
     "text": [
      "Epoch 37, loss: 0.001, err: 0.024, val_loss: 0.001, val_err: 0.036\n"
     ]
    },
    {
     "name": "stderr",
     "output_type": "stream",
     "text": [
      "100%|████████████████████████████████████████████████████████████████████████████████████████████████████████████████████████| 34/34 [00:00<00:00, 234.48it/s]\n"
     ]
    },
    {
     "name": "stdout",
     "output_type": "stream",
     "text": [
      "Epoch 38, loss: 0.001, err: 0.024, val_loss: 0.001, val_err: 0.036\n"
     ]
    },
    {
     "name": "stderr",
     "output_type": "stream",
     "text": [
      "100%|████████████████████████████████████████████████████████████████████████████████████████████████████████████████████████| 34/34 [00:00<00:00, 233.35it/s]\n"
     ]
    },
    {
     "name": "stdout",
     "output_type": "stream",
     "text": [
      "Epoch 39, loss: 0.001, err: 0.027, val_loss: 0.001, val_err: 0.033\n"
     ]
    },
    {
     "name": "stderr",
     "output_type": "stream",
     "text": [
      "100%|████████████████████████████████████████████████████████████████████████████████████████████████████████████████████████| 10/10 [00:00<00:00, 575.67it/s]\n"
     ]
    },
    {
     "name": "stdout",
     "output_type": "stream",
     "text": [
      "STATE: [ 0.74668924  0.83118373 -0.02333246 -0.0370089 ] ACT: [-0.26665673 -0.42295885] \n",
      "STATE: [ 0.73091108  0.80611581 -0.04508047 -0.07162262] ACT: [-0.26604794 -0.42334206] \n",
      "STATE: [ 0.70801358  0.76973257 -0.06542144 -0.10395212] ACT: [-0.26627862 -0.42319699] \n",
      "STATE: [ 0.67846683  0.72277475 -0.08441928 -0.1341652 ] ACT: [-0.26618422 -0.42325638] \n",
      "STATE: [ 0.64271456  0.66593168 -0.10214935 -0.16240876] ACT: [-0.26594384 -0.42340746] \n",
      "STATE: [ 0.60118142  0.59984116 -0.11866611 -0.18883005] ACT: [-0.26537504 -0.42376419] \n",
      "STATE: [ 0.55690417  0.52766915 -0.12650644 -0.20620574] ACT: [-0.17860329 -0.34020184] \n",
      "STATE: [ 0.51649816  0.46121708 -0.11544572 -0.18986307] ACT: [0.03152842 0.0321191 ] \n",
      "STATE: [ 0.47210061  0.38532953 -0.12685016 -0.21682158] ACT: [-0.21692075 -0.4504946 ] \n",
      "STATE: [ 0.42281606  0.30124547 -0.14081301 -0.24024017] ACT: [-0.25471306 -0.4302572 ] \n",
      "STATE: [ 0.3687225   0.20964954 -0.15455302 -0.26170265] ACT: [-0.2626385  -0.42546565] \n",
      "STATE: [ 0.30992708  0.11116571 -0.16798692 -0.28138237] ACT: [-0.26944507 -0.42118803] \n",
      "STATE: [ 0.24602722  0.0067296  -0.18257102 -0.2983889 ] ACT: [-0.29266553 -0.4053972 ] \n",
      "STATE: [ 0.1807355  -0.07659537 -0.18654778 -0.23807133] ACT: [-0.18237695  0.46555198] \n",
      "final state  [ 0.1807355  -0.07659537]\n",
      "STATE: [ 0.7041123   0.73821806 -0.023257   -0.03705637] ACT: [-0.2657943  -0.42350135] \n",
      "STATE: [ 0.68836658  0.71312974 -0.04498776 -0.07168091] ACT: [-0.2657943  -0.42350135] \n",
      "STATE: [ 0.66550965  0.67672099 -0.06530553 -0.104025  ] ACT: [-0.26594384 -0.42340746] \n",
      "STATE: [ 0.63599435  0.6297434  -0.08432942 -0.13422169] ACT: [-0.26639508 -0.42312369] \n",
      "STATE: [ 0.6005247   0.57272621 -0.10134186 -0.16290626] ACT: [-0.25767493 -0.42848994] \n",
      "STATE: [ 0.56538559  0.51398912 -0.10039744 -0.16782025] ACT: [-0.06521303 -0.17833962] \n",
      "STATE: [ 0.53852757  0.45959451 -0.0767372  -0.15541317] ACT: [0.19510466 0.01593003] \n",
      "STATE: [ 0.51214992  0.40404438 -0.07536473 -0.15871465] ACT: [-0.04186759 -0.1542911 ] \n",
      "STATE: [ 0.48011395  0.33872816 -0.09153134 -0.18661778] ACT: [-0.24128474 -0.43792884] \n",
      "STATE: [ 0.44233221  0.26454995 -0.10794783 -0.21193774] ACT: [-0.25626558 -0.42933431] \n",
      "STATE: [ 0.39890013  0.18226357 -0.12409165 -0.23510394] ACT: [-0.26546165 -0.42370994] \n",
      "STATE: [ 0.34990459  0.0925834  -0.13998727 -0.25622908] ACT: [-0.27473292 -0.41775809] \n",
      "STATE: [ 0.29478256 -0.00334425 -0.15749149 -0.274079  ] ACT: [-0.30503875 -0.39617087] \n",
      "final state  [ 0.29478256 -0.00334425]\n",
      "STATE: [ 0.61824114  0.65269539 -0.02322032 -0.03707937] ACT: [-0.26537504 -0.42376419] \n",
      "STATE: [ 0.60252026  0.6275915  -0.0449168  -0.0717254 ] ACT: [-0.26537504 -0.42376419] \n",
      "STATE: [ 0.58002779  0.59096001 -0.06426421 -0.10466138] ACT: [-0.25480083 -0.43020523] \n",
      "STATE: [ 0.55329406  0.5465715  -0.07638209 -0.12682432] ACT: [-0.1866883  -0.33178682] \n",
      "STATE: [ 0.53167557  0.50920338 -0.06176711 -0.10676606] ACT: [0.10974186 0.13411901] \n",
      "STATE: [ 0.51244135  0.47527119 -0.0549549  -0.09694912] ACT: [0.03152842 0.0321191 ] \n",
      "STATE: [ 0.49217964  0.43904895 -0.05789061 -0.1034921 ] ACT: [-0.07476716 -0.14748879] \n",
      "STATE: [ 0.4657622   0.39184561 -0.0754784  -0.13486671] ACT: [-0.24442126 -0.43618602] \n",
      "STATE: [ 0.43317361  0.3346256  -0.09311026 -0.16348573] ACT: [-0.25811579 -0.42822452] \n",
      "STATE: [ 0.39473284  0.26809851 -0.10983077 -0.1900774 ] ACT: [-0.26092415 -0.42651915] \n",
      "STATE: [ 0.35067075  0.19297007 -0.12589167 -0.21465269] ACT: [-0.2659263  -0.42341847] \n",
      "STATE: [ 0.30121179  0.1098966  -0.14131133 -0.23735277] ACT: [-0.27064336 -0.42041904] \n",
      "STATE: [ 0.24603569  0.01985954 -0.157646   -0.25724875] ACT: [-0.29266553 -0.4053972 ] \n",
      "STATE: [ 0.18450125 -0.05265476 -0.17581266 -0.2071837 ] ACT: [-0.32585347  0.37923543] \n",
      "final state  [ 0.18450125 -0.05265476]\n",
      "STATE: [ 0.73393102  0.86185923 -0.02328061 -0.03704154] ACT: [-0.26606416 -0.42333186] \n",
      "STATE: [ 0.71815116  0.83679237 -0.04508529 -0.07161959] ACT: [-0.26665673 -0.42295885] \n",
      "STATE: [ 0.69525513  0.80040821 -0.06541725 -0.10395475] ACT: [-0.2661793  -0.42325947] \n",
      "STATE: [ 0.66571303  0.75344747 -0.08440599 -0.13417355] ACT: [-0.26607705 -0.42332376] \n",
      "STATE: [ 0.62997232  0.69659714 -0.10211632 -0.16242951] ACT: [-0.26570824 -0.42355535] \n",
      "STATE: [ 0.58844622  0.6305022  -0.11864601 -0.1888427 ] ACT: [-0.26549796 -0.42368719] \n",
      "STATE: [ 0.54184199  0.5555697  -0.13315493 -0.21409285] ACT: [-0.25480083 -0.43020523] \n",
      "STATE: [ 0.50165701  0.48966204 -0.11481423 -0.1883076 ] ACT: [0.10974186 0.13411901] \n",
      "STATE: [ 0.46181942  0.42356273 -0.11382167 -0.18885518] ACT: [-0.07476716 -0.14748879] \n",
      "STATE: [ 0.41671629  0.34867182 -0.12886609 -0.21397401] ACT: [-0.25730241 -0.42871374] \n",
      "STATE: [ 0.36658225  0.26563348 -0.14324011 -0.23725239] ACT: [-0.26092415 -0.42651915] \n",
      "STATE: [ 0.31158146  0.1750854  -0.15714512 -0.25870881] ACT: [-0.26634448 -0.42315555] \n",
      "STATE: [ 0.25178837  0.07767783 -0.17083741 -0.27830734] ACT: [-0.27434216 -0.41801481] \n",
      "STATE: [ 0.18147775 -0.01842828 -0.20088748 -0.27458888] ACT: [-0.47155737 -0.16623372] \n",
      "final state  [ 0.18147775 -0.01842828]\n",
      "STATE: [ 0.8558206   0.85148239 -0.02337649 -0.03698111] ACT: [-0.26715988 -0.42264122] \n",
      "STATE: [ 0.83999399  0.82644503 -0.0452189  -0.07153533] ACT: [-0.26715988 -0.42264122] \n",
      "STATE: [ 0.81703043  0.79010343 -0.06561016 -0.10383314] ACT: [-0.26695714 -0.42276931] \n",
      "STATE: [ 0.78741789  0.7431871  -0.08460728 -0.13404668] ACT: [-0.2663176  -0.42317247] \n",
      "STATE: [ 0.75154837  0.68641798 -0.10248434 -0.16219746] ACT: [-0.26776472 -0.42225828] \n",
      "STATE: [ 0.70987249  0.62041741 -0.11907394 -0.18857308] ACT: [-0.26645865 -0.42308367] \n",
      "STATE: [ 0.66279917  0.54577367 -0.1344952  -0.21326783] ACT: [-0.26554845 -0.42365554] \n",
      "STATE: [ 0.61235906  0.46397982 -0.14411459 -0.23369671] ACT: [-0.21080724 -0.39342386] \n",
      "STATE: [ 0.56796974  0.37739167 -0.12682663 -0.2473947 ] ACT: [ 0.08949071 -0.331821  ] \n",
      "STATE: [ 0.51923454  0.28300327 -0.13924345 -0.26968114] ACT: [-0.23702648 -0.44024816] \n",
      "STATE: [ 0.46573083  0.18173227 -0.15286772 -0.28934571] ACT: [-0.26013856 -0.42699875] \n",
      "STATE: [ 0.40740871  0.07425844 -0.16663465 -0.30706811] ACT: [-0.2719871  -0.41955097] \n",
      "STATE: [ 0.34395852 -0.03858308 -0.18128626 -0.32240433] ACT: [-0.29242294 -0.40557222] \n",
      "final state  [ 0.34395852 -0.03858308]\n",
      "STATE: [ 0.88826056  0.8303819  -0.02340302 -0.03696432] ACT: [-0.26746308 -0.42244941] \n",
      "STATE: [ 0.8724082   0.80536083 -0.04529246 -0.07148877] ACT: [-0.26771727 -0.42228837] \n",
      "STATE: [ 0.84942536  0.76903145 -0.06566525 -0.10379824] ACT: [-0.26680128 -0.42286768] \n",
      "STATE: [ 0.81975233  0.72215335 -0.08478009 -0.13393744] ACT: [-0.26770428 -0.4222966 ] \n",
      "STATE: [ 0.78383144  0.6654167  -0.10263111 -0.16210471] ACT: [-0.26759667 -0.42236479] \n",
      "STATE: [ 0.74208486  0.59946078 -0.11927596 -0.18844547] ACT: [-0.26720019 -0.42261573] \n",
      "STATE: [ 0.69492621  0.52487087 -0.13473899 -0.21311404] ACT: [-0.26617734 -0.4232607 ] \n",
      "STATE: [ 0.64344987  0.44177712 -0.14707525 -0.23741072] ACT: [-0.24204009 -0.43751182] \n",
      "STATE: [ 0.5889627   0.35022044 -0.15567763 -0.26159051] ACT: [-0.20861931 -0.45439849] \n",
      "STATE: [ 0.53049051  0.25135647 -0.1670634  -0.28246849] ACT: [-0.24688129 -0.43479838] \n",
      "STATE: [ 0.46788309  0.14590709 -0.17887833 -0.30128392] ACT: [-0.26032533 -0.42688491] \n",
      "STATE: [ 0.40087712  0.03464596 -0.19144565 -0.31788895] ACT: [-0.27778524 -0.41573472] \n",
      "STATE: [ 0.32843662 -0.08105285 -0.20697285 -0.33056804] ACT: [-0.32103799 -0.38332051] \n",
      "final state  [ 0.32843662 -0.08105285]\n",
      "STATE: [ 0.68723575  0.64756682 -0.02329082 -0.03703512] ACT: [-0.26618079 -0.42325853] \n",
      "STATE: [ 0.67146714  0.62249288 -0.04505318 -0.07163981] ACT: [-0.26618079 -0.42325853] \n",
      "STATE: [ 0.64859952  0.58609085 -0.06533604 -0.10400581] ACT: [-0.26559398 -0.42362701] \n",
      "STATE: [ 0.61996846  0.54005576 -0.08180304 -0.13152883] ACT: [-0.23719638 -0.39255315] \n",
      "STATE: [ 0.58735983  0.48436709 -0.09316751 -0.15911048] ACT: [-0.1912319 -0.4138654] \n",
      "STATE: [ 0.55907431  0.42760333 -0.08081578 -0.16218218] ACT: [ 0.07128692 -0.154438  ] \n",
      "STATE: [ 0.54080625  0.36160834 -0.05219445 -0.18855711] ACT: [ 0.26648909 -0.42306449] \n",
      "STATE: [ 0.5163426   0.28653551 -0.06989615 -0.21449381] ACT: [-0.24145091 -0.43783725] \n",
      "STATE: [ 0.48551763  0.20331249 -0.08807134 -0.23778005] ACT: [-0.26013856 -0.42699875] \n",
      "STATE: [ 0.44854829  0.11259844 -0.10562669 -0.25918301] ACT: [-0.26668614 -0.42294031] \n",
      "STATE: [ 0.40537439  0.01518901 -0.12335399 -0.27831266] ACT: [-0.28181774 -0.41301182] \n",
      "STATE: [ 0.35520199 -0.08756712 -0.14334971 -0.29358893] ACT: [-0.32103799 -0.38332051] \n",
      "final state  [ 0.35520199 -0.08756712]\n",
      "STATE: [ 0.80094719  0.79548547 -0.02329669 -0.03703143] ACT: [-0.2662479  -0.42321632] \n",
      "STATE: [ 0.7851746   0.77041403 -0.04506454 -0.07163267] ACT: [-0.2662479  -0.42321632] \n",
      "STATE: [ 0.76228481  0.73402593 -0.06539941 -0.10396601] ACT: [-0.26619695 -0.42324837] \n",
      "STATE: [ 0.73274458  0.687064   -0.08440064 -0.13417695] ACT: [-0.26620644 -0.4232424 ] \n",
      "STATE: [ 0.69698264  0.63022701 -0.10217698 -0.16239141] ACT: [-0.26645865 -0.42308367] \n",
      "STATE: [ 0.65543376  0.56414636 -0.11871109 -0.18880183] ACT: [-0.26559398 -0.42362701] \n",
      "STATE: [ 0.61032349  0.4907666  -0.1288865  -0.20965648] ACT: [-0.20532373 -0.37994014] \n",
      "STATE: [ 0.57035674  0.41747272 -0.11419072 -0.20941109] ACT: [ 0.07128692 -0.154438  ] \n",
      "STATE: [ 0.54117403  0.33603239 -0.08337915 -0.23268663] ACT: [ 0.26648909 -0.42306449] \n",
      "STATE: [ 0.50623291  0.24668557 -0.09983178 -0.25527663] ACT: [-0.25056435 -0.43268638] \n",
      "STATE: [ 0.46556682  0.15015665 -0.11618882 -0.27579692] ACT: [-0.26181144 -0.42597508] \n",
      "STATE: [ 0.41906228  0.04723056 -0.13287014 -0.29407454] ACT: [-0.27778524 -0.41573472] \n",
      "STATE: [ 0.36644471 -0.06120794 -0.1503359  -0.30982428] ACT: [-0.29926134 -0.40055293] \n",
      "final state  [ 0.36644471 -0.06120794]\n",
      "STATE: [ 0.76076177  0.78413523 -0.02339999 -0.03696624] ACT: [-0.2674284  -0.42247136] \n",
      "STATE: [ 0.74495696  0.75908414 -0.04515659 -0.07157457] ACT: [-0.26619695 -0.42324837] \n",
      "STATE: [ 0.72203744  0.7227148  -0.06548436 -0.10391239] ACT: [-0.26618474 -0.42325605] \n",
      "STATE: [ 0.69245731  0.67577803 -0.08451465 -0.13410504] ACT: [-0.26660228 -0.42299318] \n",
      "STATE: [ 0.65666866  0.61895791 -0.10225331 -0.16234322] ACT: [-0.26611354 -0.42330082] \n",
      "STATE: [ 0.61515571  0.55285504 -0.11860841 -0.18886533] ACT: [-0.26360546 -0.42486723] \n",
      "STATE: [ 0.57051058  0.47841555 -0.12755753 -0.21268426] ACT: [-0.1912319 -0.4138654] \n",
      "STATE: [ 0.53270778  0.40349336 -0.108008   -0.21406341] ACT: [ 0.127755   -0.17527483] \n",
      "STATE: [ 0.49053525  0.3197933  -0.12049293 -0.23914301] ACT: [-0.22369089 -0.44717154] \n",
      "STATE: [ 0.44314957  0.22851776 -0.13538767 -0.26078726] ACT: [-0.26059527 -0.42672017] \n",
      "STATE: [ 0.39072829  0.1302658  -0.14977507 -0.28071991] ACT: [-0.26596828 -0.42339211] \n",
      "STATE: [ 0.33317996  0.02577005 -0.1644238  -0.29855927] ACT: [-0.27974527 -0.41441837] \n",
      "STATE: [ 0.26563865 -0.07856675 -0.19297517 -0.29810514] ACT: [-0.44961925 -0.21872936] \n",
      "final state  [ 0.26563865 -0.07856675]\n",
      "STATE: [ 0.79661078  0.70126159 -0.02344684 -0.03693654] ACT: [-0.26796394 -0.42213188] \n",
      "STATE: [ 0.78073654  0.6762544  -0.04535499 -0.07144912] ACT: [-0.26796394 -0.42213188] \n",
      "STATE: [ 0.75774185  0.63993256 -0.06569911 -0.10377668] ACT: [-0.26652047 -0.42304473] \n",
      "STATE: [ 0.72806055  0.59305973 -0.08480371 -0.13392237] ACT: [-0.26761266 -0.42235467] \n",
      "STATE: [ 0.69221817  0.53627377 -0.10240678 -0.1622456 ] ACT: [-0.26478068 -0.42413582] \n",
      "STATE: [ 0.65159322  0.47069453 -0.11607129 -0.18736927] ACT: [-0.23297087 -0.40881182] \n",
      "STATE: [ 0.60827659  0.3962931  -0.12376181 -0.21257552] ACT: [-0.17494513 -0.42859843] \n",
      "STATE: [ 0.56168439  0.31273716 -0.13312058 -0.23873123] ACT: [-0.19977876 -0.45835406] \n",
      "STATE: [ 0.51044754  0.22143025 -0.146391   -0.2608769 ] ACT: [-0.25150244 -0.43214179] \n",
      "STATE: [ 0.45448707  0.12311194 -0.15988705 -0.28090946] ACT: [-0.26403374 -0.4246012 ] \n",
      "STATE: [ 0.39356834  0.01859728 -0.17405351 -0.29861331] ACT: [-0.28181774 -0.41301182] \n",
      "STATE: [ 0.32681562 -0.0907978  -0.19072207 -0.31255736] ACT: [-0.32103799 -0.38332051] \n",
      "final state  [ 0.32681562 -0.0907978 ]\n",
      "After 3 REWARD:  (0.8064819074228199, array([ 0.28279932, -0.05887982, -0.17863814, -0.2860971 ]), -0.37082511557311765)\n",
      "UPDATING THE ACTION MATRIX\n"
     ]
    },
    {
     "name": "stderr",
     "output_type": "stream",
     "text": [
      "100%|█████████████████████████████████████████████████████████████████████████████████████████████████████████████████████████| 25/25 [00:03<00:00,  7.04it/s]\n",
      "Generating Dynamics Dataset: 100%|██████████████████████████████████████████████████████████████████████████████████████████| 15/15 [00:00<00:00, 2383.94it/s]\n"
     ]
    },
    {
     "name": "stdout",
     "output_type": "stream",
     "text": [
      "COLLIDED\n",
      "COLLIDED\n",
      "COLLIDED\n"
     ]
    },
    {
     "name": "stderr",
     "output_type": "stream",
     "text": [
      "100%|████████████████████████████████████████████████████████████████████████████████████████████████████████████████████████| 37/37 [00:00<00:00, 234.16it/s]\n"
     ]
    },
    {
     "name": "stdout",
     "output_type": "stream",
     "text": [
      "Epoch 1, loss: 0.001, err: 0.023, val_loss: 0.001, val_err: 0.035\n"
     ]
    },
    {
     "name": "stderr",
     "output_type": "stream",
     "text": [
      "100%|████████████████████████████████████████████████████████████████████████████████████████████████████████████████████████| 37/37 [00:00<00:00, 232.64it/s]\n"
     ]
    },
    {
     "name": "stdout",
     "output_type": "stream",
     "text": [
      "Epoch 2, loss: 0.001, err: 0.023, val_loss: 0.001, val_err: 0.036\n"
     ]
    },
    {
     "name": "stderr",
     "output_type": "stream",
     "text": [
      "100%|████████████████████████████████████████████████████████████████████████████████████████████████████████████████████████| 37/37 [00:00<00:00, 236.62it/s]\n"
     ]
    },
    {
     "name": "stdout",
     "output_type": "stream",
     "text": [
      "Epoch 3, loss: 0.001, err: 0.023, val_loss: 0.001, val_err: 0.035\n"
     ]
    },
    {
     "name": "stderr",
     "output_type": "stream",
     "text": [
      "100%|████████████████████████████████████████████████████████████████████████████████████████████████████████████████████████| 37/37 [00:00<00:00, 235.42it/s]\n"
     ]
    },
    {
     "name": "stdout",
     "output_type": "stream",
     "text": [
      "Epoch 4, loss: 0.001, err: 0.023, val_loss: 0.001, val_err: 0.035\n"
     ]
    },
    {
     "name": "stderr",
     "output_type": "stream",
     "text": [
      "100%|████████████████████████████████████████████████████████████████████████████████████████████████████████████████████████| 37/37 [00:00<00:00, 240.21it/s]\n"
     ]
    },
    {
     "name": "stdout",
     "output_type": "stream",
     "text": [
      "Epoch 5, loss: 0.001, err: 0.023, val_loss: 0.001, val_err: 0.035\n"
     ]
    },
    {
     "name": "stderr",
     "output_type": "stream",
     "text": [
      "100%|████████████████████████████████████████████████████████████████████████████████████████████████████████████████████████| 37/37 [00:00<00:00, 235.96it/s]\n"
     ]
    },
    {
     "name": "stdout",
     "output_type": "stream",
     "text": [
      "Epoch 6, loss: 0.001, err: 0.023, val_loss: 0.001, val_err: 0.035\n"
     ]
    },
    {
     "name": "stderr",
     "output_type": "stream",
     "text": [
      "100%|████████████████████████████████████████████████████████████████████████████████████████████████████████████████████████| 37/37 [00:00<00:00, 224.29it/s]\n"
     ]
    },
    {
     "name": "stdout",
     "output_type": "stream",
     "text": [
      "Epoch 7, loss: 0.001, err: 0.023, val_loss: 0.001, val_err: 0.035\n"
     ]
    },
    {
     "name": "stderr",
     "output_type": "stream",
     "text": [
      "100%|████████████████████████████████████████████████████████████████████████████████████████████████████████████████████████| 37/37 [00:00<00:00, 238.76it/s]\n"
     ]
    },
    {
     "name": "stdout",
     "output_type": "stream",
     "text": [
      "Epoch 8, loss: 0.001, err: 0.023, val_loss: 0.001, val_err: 0.035\n"
     ]
    },
    {
     "name": "stderr",
     "output_type": "stream",
     "text": [
      "100%|████████████████████████████████████████████████████████████████████████████████████████████████████████████████████████| 37/37 [00:00<00:00, 222.02it/s]\n"
     ]
    },
    {
     "name": "stdout",
     "output_type": "stream",
     "text": [
      "Epoch 9, loss: 0.001, err: 0.023, val_loss: 0.001, val_err: 0.035\n"
     ]
    },
    {
     "name": "stderr",
     "output_type": "stream",
     "text": [
      "100%|████████████████████████████████████████████████████████████████████████████████████████████████████████████████████████| 37/37 [00:00<00:00, 237.03it/s]\n"
     ]
    },
    {
     "name": "stdout",
     "output_type": "stream",
     "text": [
      "Epoch 10, loss: 0.001, err: 0.023, val_loss: 0.001, val_err: 0.036\n"
     ]
    },
    {
     "name": "stderr",
     "output_type": "stream",
     "text": [
      "100%|████████████████████████████████████████████████████████████████████████████████████████████████████████████████████████| 37/37 [00:00<00:00, 233.97it/s]\n"
     ]
    },
    {
     "name": "stdout",
     "output_type": "stream",
     "text": [
      "Epoch 11, loss: 0.001, err: 0.023, val_loss: 0.001, val_err: 0.035\n"
     ]
    },
    {
     "name": "stderr",
     "output_type": "stream",
     "text": [
      "100%|████████████████████████████████████████████████████████████████████████████████████████████████████████████████████████| 37/37 [00:00<00:00, 235.07it/s]\n"
     ]
    },
    {
     "name": "stdout",
     "output_type": "stream",
     "text": [
      "Epoch 12, loss: 0.001, err: 0.023, val_loss: 0.001, val_err: 0.034\n"
     ]
    },
    {
     "name": "stderr",
     "output_type": "stream",
     "text": [
      "100%|████████████████████████████████████████████████████████████████████████████████████████████████████████████████████████| 37/37 [00:00<00:00, 235.14it/s]\n"
     ]
    },
    {
     "name": "stdout",
     "output_type": "stream",
     "text": [
      "Epoch 13, loss: 0.001, err: 0.023, val_loss: 0.001, val_err: 0.035\n"
     ]
    },
    {
     "name": "stderr",
     "output_type": "stream",
     "text": [
      "100%|████████████████████████████████████████████████████████████████████████████████████████████████████████████████████████| 37/37 [00:00<00:00, 238.65it/s]\n"
     ]
    },
    {
     "name": "stdout",
     "output_type": "stream",
     "text": [
      "Epoch 14, loss: 0.001, err: 0.023, val_loss: 0.001, val_err: 0.035\n"
     ]
    },
    {
     "name": "stderr",
     "output_type": "stream",
     "text": [
      "100%|████████████████████████████████████████████████████████████████████████████████████████████████████████████████████████| 37/37 [00:00<00:00, 237.84it/s]\n"
     ]
    },
    {
     "name": "stdout",
     "output_type": "stream",
     "text": [
      "Epoch 15, loss: 0.001, err: 0.023, val_loss: 0.001, val_err: 0.036\n"
     ]
    },
    {
     "name": "stderr",
     "output_type": "stream",
     "text": [
      "100%|████████████████████████████████████████████████████████████████████████████████████████████████████████████████████████| 37/37 [00:00<00:00, 236.77it/s]\n"
     ]
    },
    {
     "name": "stdout",
     "output_type": "stream",
     "text": [
      "Epoch 16, loss: 0.001, err: 0.023, val_loss: 0.001, val_err: 0.035\n"
     ]
    },
    {
     "name": "stderr",
     "output_type": "stream",
     "text": [
      "100%|████████████████████████████████████████████████████████████████████████████████████████████████████████████████████████| 37/37 [00:00<00:00, 235.64it/s]\n"
     ]
    },
    {
     "name": "stdout",
     "output_type": "stream",
     "text": [
      "Epoch 17, loss: 0.001, err: 0.023, val_loss: 0.001, val_err: 0.036\n"
     ]
    },
    {
     "name": "stderr",
     "output_type": "stream",
     "text": [
      "100%|████████████████████████████████████████████████████████████████████████████████████████████████████████████████████████| 37/37 [00:00<00:00, 237.84it/s]\n"
     ]
    },
    {
     "name": "stdout",
     "output_type": "stream",
     "text": [
      "Epoch 18, loss: 0.001, err: 0.023, val_loss: 0.001, val_err: 0.035\n"
     ]
    },
    {
     "name": "stderr",
     "output_type": "stream",
     "text": [
      "100%|████████████████████████████████████████████████████████████████████████████████████████████████████████████████████████| 37/37 [00:00<00:00, 237.33it/s]\n"
     ]
    },
    {
     "name": "stdout",
     "output_type": "stream",
     "text": [
      "Epoch 19, loss: 0.001, err: 0.023, val_loss: 0.001, val_err: 0.035\n"
     ]
    },
    {
     "name": "stderr",
     "output_type": "stream",
     "text": [
      "100%|████████████████████████████████████████████████████████████████████████████████████████████████████████████████████████| 37/37 [00:00<00:00, 236.44it/s]\n"
     ]
    },
    {
     "name": "stdout",
     "output_type": "stream",
     "text": [
      "Epoch 20, loss: 0.001, err: 0.023, val_loss: 0.001, val_err: 0.035\n"
     ]
    },
    {
     "name": "stderr",
     "output_type": "stream",
     "text": [
      "100%|████████████████████████████████████████████████████████████████████████████████████████████████████████████████████████| 37/37 [00:00<00:00, 235.25it/s]\n"
     ]
    },
    {
     "name": "stdout",
     "output_type": "stream",
     "text": [
      "Epoch 21, loss: 0.001, err: 0.023, val_loss: 0.001, val_err: 0.035\n"
     ]
    },
    {
     "name": "stderr",
     "output_type": "stream",
     "text": [
      "100%|████████████████████████████████████████████████████████████████████████████████████████████████████████████████████████| 37/37 [00:00<00:00, 234.54it/s]\n"
     ]
    },
    {
     "name": "stdout",
     "output_type": "stream",
     "text": [
      "Epoch 22, loss: 0.001, err: 0.023, val_loss: 0.001, val_err: 0.035\n"
     ]
    },
    {
     "name": "stderr",
     "output_type": "stream",
     "text": [
      "100%|████████████████████████████████████████████████████████████████████████████████████████████████████████████████████████| 37/37 [00:00<00:00, 234.31it/s]\n"
     ]
    },
    {
     "name": "stdout",
     "output_type": "stream",
     "text": [
      "Epoch 23, loss: 0.001, err: 0.023, val_loss: 0.001, val_err: 0.035\n"
     ]
    },
    {
     "name": "stderr",
     "output_type": "stream",
     "text": [
      "100%|████████████████████████████████████████████████████████████████████████████████████████████████████████████████████████| 37/37 [00:00<00:00, 234.29it/s]\n"
     ]
    },
    {
     "name": "stdout",
     "output_type": "stream",
     "text": [
      "Epoch 24, loss: 0.001, err: 0.023, val_loss: 0.001, val_err: 0.035\n"
     ]
    },
    {
     "name": "stderr",
     "output_type": "stream",
     "text": [
      "100%|████████████████████████████████████████████████████████████████████████████████████████████████████████████████████████| 37/37 [00:00<00:00, 237.40it/s]\n"
     ]
    },
    {
     "name": "stdout",
     "output_type": "stream",
     "text": [
      "Epoch 25, loss: 0.001, err: 0.023, val_loss: 0.001, val_err: 0.035\n"
     ]
    },
    {
     "name": "stderr",
     "output_type": "stream",
     "text": [
      "100%|████████████████████████████████████████████████████████████████████████████████████████████████████████████████████████| 37/37 [00:00<00:00, 238.64it/s]\n"
     ]
    },
    {
     "name": "stdout",
     "output_type": "stream",
     "text": [
      "Epoch 26, loss: 0.001, err: 0.023, val_loss: 0.001, val_err: 0.036\n"
     ]
    },
    {
     "name": "stderr",
     "output_type": "stream",
     "text": [
      "100%|████████████████████████████████████████████████████████████████████████████████████████████████████████████████████████| 37/37 [00:00<00:00, 236.15it/s]\n"
     ]
    },
    {
     "name": "stdout",
     "output_type": "stream",
     "text": [
      "Epoch 27, loss: 0.001, err: 0.023, val_loss: 0.001, val_err: 0.035\n"
     ]
    },
    {
     "name": "stderr",
     "output_type": "stream",
     "text": [
      "100%|████████████████████████████████████████████████████████████████████████████████████████████████████████████████████████| 37/37 [00:00<00:00, 234.01it/s]\n"
     ]
    },
    {
     "name": "stdout",
     "output_type": "stream",
     "text": [
      "Epoch 28, loss: 0.001, err: 0.023, val_loss: 0.001, val_err: 0.034\n"
     ]
    },
    {
     "name": "stderr",
     "output_type": "stream",
     "text": [
      "100%|████████████████████████████████████████████████████████████████████████████████████████████████████████████████████████| 37/37 [00:00<00:00, 233.13it/s]\n"
     ]
    },
    {
     "name": "stdout",
     "output_type": "stream",
     "text": [
      "Epoch 29, loss: 0.001, err: 0.023, val_loss: 0.001, val_err: 0.035\n"
     ]
    },
    {
     "name": "stderr",
     "output_type": "stream",
     "text": [
      "100%|████████████████████████████████████████████████████████████████████████████████████████████████████████████████████████| 37/37 [00:00<00:00, 233.45it/s]\n"
     ]
    },
    {
     "name": "stdout",
     "output_type": "stream",
     "text": [
      "Epoch 30, loss: 0.001, err: 0.023, val_loss: 0.001, val_err: 0.035\n"
     ]
    },
    {
     "name": "stderr",
     "output_type": "stream",
     "text": [
      "100%|████████████████████████████████████████████████████████████████████████████████████████████████████████████████████████| 37/37 [00:00<00:00, 231.52it/s]\n"
     ]
    },
    {
     "name": "stdout",
     "output_type": "stream",
     "text": [
      "Epoch 31, loss: 0.001, err: 0.023, val_loss: 0.001, val_err: 0.035\n"
     ]
    },
    {
     "name": "stderr",
     "output_type": "stream",
     "text": [
      "100%|████████████████████████████████████████████████████████████████████████████████████████████████████████████████████████| 37/37 [00:00<00:00, 237.35it/s]\n"
     ]
    },
    {
     "name": "stdout",
     "output_type": "stream",
     "text": [
      "Epoch 32, loss: 0.001, err: 0.023, val_loss: 0.001, val_err: 0.035\n"
     ]
    },
    {
     "name": "stderr",
     "output_type": "stream",
     "text": [
      "100%|████████████████████████████████████████████████████████████████████████████████████████████████████████████████████████| 37/37 [00:00<00:00, 233.16it/s]\n"
     ]
    },
    {
     "name": "stdout",
     "output_type": "stream",
     "text": [
      "Epoch 33, loss: 0.001, err: 0.023, val_loss: 0.001, val_err: 0.035\n"
     ]
    },
    {
     "name": "stderr",
     "output_type": "stream",
     "text": [
      "100%|████████████████████████████████████████████████████████████████████████████████████████████████████████████████████████| 37/37 [00:00<00:00, 233.66it/s]\n"
     ]
    },
    {
     "name": "stdout",
     "output_type": "stream",
     "text": [
      "Epoch 34, loss: 0.001, err: 0.023, val_loss: 0.001, val_err: 0.035\n"
     ]
    },
    {
     "name": "stderr",
     "output_type": "stream",
     "text": [
      "100%|████████████████████████████████████████████████████████████████████████████████████████████████████████████████████████| 37/37 [00:00<00:00, 234.34it/s]\n"
     ]
    },
    {
     "name": "stdout",
     "output_type": "stream",
     "text": [
      "Epoch 35, loss: 0.001, err: 0.023, val_loss: 0.001, val_err: 0.035\n"
     ]
    },
    {
     "name": "stderr",
     "output_type": "stream",
     "text": [
      "100%|████████████████████████████████████████████████████████████████████████████████████████████████████████████████████████| 37/37 [00:00<00:00, 238.72it/s]\n"
     ]
    },
    {
     "name": "stdout",
     "output_type": "stream",
     "text": [
      "Epoch 36, loss: 0.001, err: 0.023, val_loss: 0.001, val_err: 0.033\n"
     ]
    },
    {
     "name": "stderr",
     "output_type": "stream",
     "text": [
      "100%|████████████████████████████████████████████████████████████████████████████████████████████████████████████████████████| 37/37 [00:00<00:00, 236.59it/s]\n"
     ]
    },
    {
     "name": "stdout",
     "output_type": "stream",
     "text": [
      "Epoch 37, loss: 0.001, err: 0.023, val_loss: 0.001, val_err: 0.035\n"
     ]
    },
    {
     "name": "stderr",
     "output_type": "stream",
     "text": [
      "100%|████████████████████████████████████████████████████████████████████████████████████████████████████████████████████████| 37/37 [00:00<00:00, 238.33it/s]\n"
     ]
    },
    {
     "name": "stdout",
     "output_type": "stream",
     "text": [
      "Epoch 38, loss: 0.001, err: 0.023, val_loss: 0.001, val_err: 0.035\n"
     ]
    },
    {
     "name": "stderr",
     "output_type": "stream",
     "text": [
      "100%|████████████████████████████████████████████████████████████████████████████████████████████████████████████████████████| 37/37 [00:00<00:00, 235.27it/s]\n"
     ]
    },
    {
     "name": "stdout",
     "output_type": "stream",
     "text": [
      "Epoch 39, loss: 0.001, err: 0.026, val_loss: 0.001, val_err: 0.033\n"
     ]
    },
    {
     "name": "stderr",
     "output_type": "stream",
     "text": [
      "100%|████████████████████████████████████████████████████████████████████████████████████████████████████████████████████████| 10/10 [00:00<00:00, 592.10it/s]\n"
     ]
    },
    {
     "name": "stdout",
     "output_type": "stream",
     "text": [
      "STATE: [ 0.7692723   0.60124582 -0.02436292 -0.03633883] ACT: [-0.27843342 -0.41530089] \n",
      "STATE: [ 0.75277784  0.5766433  -0.04712703 -0.07029292] ACT: [-0.27843342 -0.41530089] \n",
      "STATE: [ 0.72890307  0.54089388 -0.06821364 -0.1021412 ] ACT: [-0.27633508 -0.41670004] \n",
      "STATE: [ 0.69817013  0.49470408 -0.08780839 -0.13197086] ACT: [-0.27510029 -0.41751627] \n",
      "STATE: [ 0.66179516  0.43846369 -0.10392848 -0.16068682] ACT: [-0.25008591 -0.42716054] \n",
      "STATE: [ 0.62121304  0.37209422 -0.1159489  -0.18962705] ACT: [-0.21532259 -0.45126066] \n",
      "STATE: [ 0.57566337  0.29680455 -0.13014192 -0.21511335] ACT: [-0.24916751 -0.43349227] \n",
      "STATE: [ 0.52495401  0.21349165 -0.14488389 -0.23803687] ACT: [-0.26608614 -0.42331805] \n",
      "STATE: [ 0.46909196  0.12289649 -0.15960585 -0.25884331] ACT: [-0.27691393 -0.4163156 ] \n",
      "STATE: [ 0.40797715  0.02579958 -0.17461376 -0.27741973] ACT: [-0.29122336 -0.40643444] \n",
      "STATE: [ 0.34104163 -0.07666489 -0.19124433 -0.29275564] ACT: [-0.32102391 -0.3833323 ] \n",
      "final state  [ 0.34104163 -0.07666489]\n",
      "STATE: [ 0.87855659  0.74879997 -0.02438508 -0.03632397] ACT: [-0.2786866  -0.41513104] \n",
      "STATE: [ 0.86205921  0.72419941 -0.04713538 -0.07028731] ACT: [-0.27829229 -0.41539548] \n",
      "STATE: [ 0.83814037  0.68847933 -0.06833952 -0.10205738] ACT: [-0.27768455 -0.41580199] \n",
      "STATE: [ 0.80726375  0.64238508 -0.08821894 -0.13169784] ACT: [-0.27844798 -0.41529113] \n",
      "STATE: [ 0.76989722  0.58658992 -0.10676151 -0.15941475] ACT: [-0.27807935 -0.41553805] \n",
      "STATE: [ 0.72645584  0.52173773 -0.12411821 -0.18529198] ACT: [-0.27843342 -0.41530089] \n",
      "STATE: [ 0.67749031  0.44832226 -0.13990153 -0.20975849] ACT: [-0.27346945 -0.41858626] \n",
      "STATE: [ 0.62407315  0.36646871 -0.15262045 -0.23386728] ACT: [-0.25028522 -0.43284791] \n",
      "STATE: [ 0.56653074  0.2767111  -0.16440689 -0.25645032] ACT: [-0.24916751 -0.43349227] \n",
      "STATE: [ 0.50461566  0.17987971 -0.17690023 -0.27666109] ACT: [-0.26608614 -0.42331805] \n",
      "STATE: [ 0.4382549   0.07667214 -0.18960218 -0.29487878] ACT: [-0.27784033 -0.41569791] \n",
      "STATE: [ 0.36716089 -0.03208631 -0.20312573 -0.31073842] ACT: [-0.29675656 -0.40241216] \n",
      "final state  [ 0.36716089 -0.03208631]\n",
      "STATE: [ 0.73932762  0.60001162 -0.02428141 -0.03639335] ACT: [-0.27750182 -0.41592396] \n",
      "STATE: [ 0.72288835  0.57537219 -0.04696935 -0.07039838] ACT: [-0.27750182 -0.41592396] \n",
      "STATE: [ 0.69908141  0.53957751 -0.06801984 -0.10227051] ACT: [-0.27580398 -0.41705175] \n",
      "STATE: [ 0.66868601  0.49316893 -0.08684399 -0.13259593] ACT: [-0.2661481  -0.42327909] \n",
      "STATE: [ 0.63489789  0.43651792 -0.09653747 -0.16186004] ACT: [-0.17591564 -0.43389388] \n",
      "STATE: [ 0.60022142  0.36928818 -0.09907565 -0.19208496] ACT: [-0.1014108  -0.46682272] \n",
      "STATE: [ 0.56030543  0.29312892 -0.11404568 -0.2175979 ] ACT: [-0.24539284 -0.43564016] \n",
      "STATE: [ 0.51486004  0.20900349 -0.12984397 -0.24035837] ACT: [-0.26608614 -0.42331805] \n",
      "STATE: [ 0.46391651  0.11764912 -0.14555293 -0.26101246] ACT: [-0.27691393 -0.4163156 ] \n",
      "STATE: [ 0.40739744  0.01984284 -0.16148306 -0.27944653] ACT: [-0.29122336 -0.40643444] \n",
      "STATE: [ 0.34475607 -0.08328446 -0.17897533 -0.29464943] ACT: [-0.32102391 -0.3833323 ] \n",
      "final state  [ 0.34475607 -0.08328446]\n",
      "STATE: [ 0.79506599  0.87767143 -0.02424441 -0.036418  ] ACT: [-0.27707898 -0.41620576] \n",
      "STATE: [ 0.77865177  0.85301531 -0.04689778 -0.07044608] ACT: [-0.27707898 -0.41620576] \n",
      "STATE: [ 0.7548469   0.81721916 -0.06801391 -0.10227471] ACT: [-0.27650046 -0.41659032] \n",
      "STATE: [ 0.72412672  0.77102049 -0.08777194 -0.13199621] ACT: [-0.27681659 -0.41638033] \n",
      "STATE: [ 0.68691969  0.71511884 -0.10630579 -0.15971898] ACT: [-0.27764432 -0.41582885] \n",
      "STATE: [ 0.64366517  0.65014189 -0.12358435 -0.18564845] ACT: [-0.27719865 -0.41612608] \n",
      "STATE: [ 0.59476192  0.57668391 -0.13972357 -0.20987993] ACT: [-0.27713645 -0.4161675 ] \n",
      "STATE: [ 0.54150583  0.49473169 -0.15216025 -0.23414919] ACT: [-0.24692617 -0.43477289] \n",
      "STATE: [ 0.49271548  0.41912994 -0.139401   -0.21600501] ACT: [0.03169984 0.03175011] \n",
      "STATE: [ 0.43953178  0.33519349 -0.15195345 -0.23981843] ACT: [-0.24800735 -0.43415706] \n",
      "STATE: [ 0.38148454  0.24393228 -0.16584924 -0.26074632] ACT: [-0.27277408 -0.41903973] \n",
      "STATE: [ 0.31875394  0.14591856 -0.1792303  -0.28003919] ACT: [-0.27731331 -0.41604967] \n",
      "STATE: [ 0.25127596  0.04185097 -0.19279423 -0.29733598] ACT: [-0.28943908 -0.40770702] \n",
      "STATE: [ 0.17642062 -0.04615791 -0.21387239 -0.25145393] ACT: [-0.38548894  0.30136426] \n",
      "final state  [ 0.17642062 -0.04615791]\n",
      "STATE: [ 0.60628227  0.73079005 -0.02422187 -0.036433  ] ACT: [-0.27682139 -0.41637713] \n",
      "STATE: [ 0.58985308  0.70614391 -0.04694052 -0.07041753] ACT: [-0.27780812 -0.41571943] \n",
      "STATE: [ 0.56598237  0.67039168 -0.06820204 -0.10214924] ACT: [-0.27819414 -0.41546121] \n",
      "STATE: [ 0.53537309  0.62470098 -0.08745508 -0.13054484] ACT: [-0.27118628 -0.40113307] \n",
      "STATE: [ 0.49946208  0.57198341 -0.10260289 -0.15062165] ACT: [-0.23870913 -0.32735785] \n",
      "STATE: [ 0.47029139  0.53010764 -0.08334485 -0.11964506] ACT: [0.14313974 0.24105193] \n",
      "STATE: [ 0.45087331  0.5041342  -0.05548023 -0.07420983] ACT: [0.25594416 0.429526  ] \n",
      "STATE: [ 0.42394284  0.46732467 -0.07694419 -0.10517008] ACT: [-0.28691265 -0.40948887] \n",
      "COLLIDED\n",
      "STATE: [ 0.39029279  0.42018536 -0.09614299 -0.13468374] ACT: [-0.27712299 -0.41617647] \n",
      "STATE: [ 0.35037999  0.36338363 -0.11403659 -0.16229066] ACT: [-0.27660553 -0.41652056] \n",
      "STATE: [ 0.30463587  0.29754001 -0.13069746 -0.18812465] ACT: [-0.27593739 -0.4169635 ] \n",
      "STATE: [ 0.25343615  0.22325248 -0.14628491 -0.21225006] ACT: [-0.27616541 -0.41681251] \n",
      "STATE: [ 0.19710306  0.14109898 -0.16095168 -0.2347243 ] ACT: [-0.2773339  -0.41603595] \n",
      "STATE: [ 0.13594335  0.05161584 -0.17474203 -0.25566612] ACT: [-0.27831778 -0.4153784 ] \n",
      "STATE: [ 0.0870585  -0.01910217 -0.13967101 -0.20205145] ACT: [0.26975519 0.42098948] \n",
      "final state  [ 0.0870585  -0.01910217]\n",
      "STATE: [ 0.8681841   0.69338853 -0.02442999 -0.03629378] ACT: [-0.27919987 -0.41478601] \n",
      "STATE: [ 0.85165415  0.66880984 -0.04722842 -0.07022483] ACT: [-0.27887597 -0.41500385] \n",
      "STATE: [ 0.82768073  0.63312636 -0.06849549 -0.1019528 ] ACT: [-0.27847357 -0.41527397] \n",
      "STATE: [ 0.7967565   0.58706404 -0.08835496 -0.13160664] ACT: [-0.27833692 -0.41536557] \n",
      "STATE: [ 0.7593391   0.53130298 -0.10690687 -0.1593173 ] ACT: [-0.27828806 -0.41539831] \n",
      "STATE: [ 0.71585494  0.46647947 -0.12424045 -0.18521003] ACT: [-0.27827827 -0.41540487] \n",
      "STATE: [ 0.66708761  0.39293831 -0.13933521 -0.21011761] ACT: [-0.26569186 -0.42356562] \n",
      "STATE: [ 0.61398736  0.31089203 -0.15171501 -0.23441793] ACT: [-0.24598488 -0.43530614] \n",
      "STATE: [ 0.55630218  0.22121644 -0.16481479 -0.25621597] ACT: [-0.26349802 -0.42493387] \n",
      "STATE: [ 0.49404138  0.12459761 -0.17788802 -0.27605379] ACT: [-0.27301936 -0.41887997] \n",
      "STATE: [ 0.4269651   0.0218599  -0.1916465  -0.29353631] ACT: [-0.29065579 -0.40684052] \n",
      "STATE: [ 0.35472109 -0.08608951 -0.20641147 -0.30842691] ACT: [-0.31247738 -0.39033048] \n",
      "final state  [ 0.35472109 -0.08608951]\n",
      "STATE: [ 0.81626924  0.69408417 -0.02434399 -0.03635152] ACT: [-0.27821701 -0.4154459 ] \n",
      "STATE: [ 0.79978052  0.6694778  -0.04711061 -0.07030392] ACT: [-0.27844798 -0.41529113] \n",
      "STATE: [ 0.77586246  0.63375718 -0.06833733 -0.1020589 ] ACT: [-0.27792396 -0.415642  ] \n",
      "STATE: [ 0.74500702  0.58764874 -0.08815838 -0.13173842] ACT: [-0.27777935 -0.41573866] \n",
      "STATE: [ 0.70767798  0.53182849 -0.1066544  -0.15948643] ACT: [-0.27750182 -0.41592396] \n",
      "STATE: [ 0.66442644  0.46685042 -0.12357583 -0.18565162] ACT: [-0.2733786 -0.4186456] \n",
      "STATE: [ 0.61761878  0.39222313 -0.13373619 -0.21322083] ACT: [-0.20880032 -0.45431534] \n",
      "STATE: [ 0.56684366  0.30889464 -0.14507175 -0.2380814 ] ACT: [-0.22985133 -0.44403644] \n",
      "STATE: [ 0.51132738  0.21802325 -0.15861795 -0.25963253] ACT: [-0.26361756 -0.42485972] \n",
      "STATE: [ 0.45105781  0.12031019 -0.17219876 -0.27918017] ACT: [-0.27417276 -0.41812594] \n",
      "STATE: [ 0.38582472  0.0165625  -0.18638026 -0.29642198] ACT: [-0.29122336 -0.40643444] \n",
      "STATE: [ 0.31504119 -0.09211631 -0.20223865 -0.31051087] ACT: [-0.32102391 -0.3833323 ] \n",
      "final state  [ 0.31504119 -0.09211631]\n",
      "STATE: [ 0.75269807  0.60884704 -0.02430569 -0.03637713] ACT: [-0.27777935 -0.41573866] \n",
      "STATE: [ 0.73625085  0.58421291 -0.04699204 -0.07038323] ACT: [-0.27750182 -0.41592396] \n",
      "STATE: [ 0.71242023  0.54843395 -0.06808751 -0.10222558] ACT: [-0.27633508 -0.41670004] \n",
      "STATE: [ 0.68178126  0.50218197 -0.08753989 -0.13214852] ACT: [-0.2733786 -0.4186456] \n",
      "STATE: [ 0.6461201   0.44685074 -0.10188905 -0.15808924] ACT: [-0.22964524 -0.39557674] \n",
      "STATE: [ 0.60640469  0.38123721 -0.11347261 -0.18746722] ACT: [-0.20880032 -0.45431534] \n",
      "STATE: [ 0.56178044  0.30658809 -0.12749784 -0.2132832 ] ACT: [-0.24539284 -0.43564016] \n",
      "STATE: [ 0.51201138  0.22382649 -0.14219733 -0.23646172] ACT: [-0.26361756 -0.42485972] \n",
      "STATE: [ 0.45711187  0.13369101 -0.15685575 -0.25752994] ACT: [-0.27417276 -0.41812594] \n",
      "STATE: [ 0.39698219  0.03696261 -0.17179907 -0.27636687] ACT: [-0.2884227  -0.40842667] \n",
      "STATE: [ 0.33096717 -0.06515755 -0.18861435 -0.29177187] ACT: [-0.32102391 -0.3833323 ] \n",
      "final state  [ 0.33096717 -0.06515755]\n",
      "STATE: [ 0.67314373  0.71141691 -0.02425488 -0.03641103] ACT: [-0.27719865 -0.41612608] \n",
      "STATE: [ 0.65672242  0.68676551 -0.04691804 -0.07043259] ACT: [-0.27719865 -0.41612608] \n",
      "STATE: [ 0.63289433  0.6509848  -0.06808025 -0.10223058] ACT: [-0.27704243 -0.41623009] \n",
      "STATE: [ 0.60213872  0.6048097  -0.08787317 -0.13192887] ACT: [-0.2772649  -0.41608193] \n",
      "STATE: [ 0.5697286   0.55463954 -0.09260034 -0.14334331] ACT: [-0.11992974 -0.2293974 ] \n",
      "STATE: [ 0.53786171  0.50218386 -0.09104825 -0.14987337] ACT: [-0.05171209 -0.18213669] \n",
      "STATE: [ 0.51103043  0.45744513 -0.0766608  -0.12782496] ACT: [0.09614179 0.13957676] \n",
      "STATE: [ 0.49644243  0.42680438 -0.04168002 -0.08754499] ACT: [0.34228478 0.36447377] \n",
      "STATE: [ 0.47521653  0.38487837 -0.06064541 -0.11978859] ACT: [-0.24800735 -0.43415706] \n",
      "STATE: [ 0.44727562  0.33271401 -0.07983117 -0.14904104] ACT: [-0.26474982 -0.42415508] \n",
      "STATE: [ 0.41287257  0.27110231 -0.09829445 -0.17603342] ACT: [-0.2708823  -0.42026513] \n",
      "STATE: [ 0.37224991  0.20078209 -0.11606472 -0.20091491] ACT: [-0.27680969 -0.41638491] \n",
      "STATE: [ 0.32569828  0.12240378 -0.13300468 -0.22393803] ACT: [-0.28064801 -0.41380755] \n",
      "STATE: [ 0.27311265  0.03684575 -0.15024464 -0.24445154] ACT: [-0.29678167 -0.40239364] \n",
      "STATE: [ 0.20899979 -0.04284949 -0.18317961 -0.22770069] ACT: [-0.48908308  0.00809959] \n",
      "final state  [ 0.20899979 -0.04284949]\n",
      "STATE: [ 0.69477887  0.88245919 -0.02413408 -0.03649121] ACT: [-0.27581807 -0.41704243] \n",
      "STATE: [ 0.67839057  0.85778589 -0.0468237  -0.07049515] ACT: [-0.2774105  -0.41598487] \n",
      "STATE: [ 0.65458516  0.82199017 -0.06801545 -0.10227349] ACT: [-0.27730925 -0.41605238] \n",
      "STATE: [ 0.62389023  0.77577481 -0.08769981 -0.13204388] ACT: [-0.27597565 -0.41693817] \n",
      "STATE: [ 0.58671705  0.71985073 -0.10620908 -0.15978308] ACT: [-0.27730937 -0.41605229] \n",
      "STATE: [ 0.54346366  0.65487317 -0.1235811  -0.18565017] ACT: [-0.27819414 -0.41546121] \n",
      "STATE: [ 0.49703111  0.58614088 -0.13266444 -0.19637796] ACT: [-0.1964955  -0.26184088] \n",
      "STATE: [ 0.4509189   0.52147921 -0.13174916 -0.18474764] ACT: [-0.089038   -0.01436552] \n",
      "COLLIDED\n",
      "STATE: [ 0.39904611  0.44852037 -0.14820798 -0.20845385] ACT: [-0.28691265 -0.40948887] \n",
      "STATE: [ 0.34205511  0.36762773 -0.16283142 -0.23112183] ACT: [-0.27828104 -0.41540301] \n",
      "STATE: [ 0.28035356  0.27927416 -0.17629013 -0.25243876] ACT: [-0.27593739 -0.4169635 ] \n",
      "STATE: [ 0.21424695  0.1839517  -0.18887605 -0.27234987] ACT: [-0.27605662 -0.41688457] \n",
      "STATE: [ 0.14410758  0.08206297 -0.20039819 -0.29111068] ACT: [-0.27333863 -0.4186717 ] \n",
      "STATE: [ 0.08682662 -0.00024284 -0.16365989 -0.23515945] ACT: [0.2695676  0.42110962] \n",
      "final state  [ 0.08682662 -0.00024284]\n",
      "After 4 REWARD:  (0.7943559822219726, array([ 0.26129936, -0.05437514, -0.18709928, -0.27252187]), -0.3610879700391716)\n",
      "UPDATING THE ACTION MATRIX\n"
     ]
    },
    {
     "name": "stderr",
     "output_type": "stream",
     "text": [
      "100%|█████████████████████████████████████████████████████████████████████████████████████████████████████████████████████████| 25/25 [00:03<00:00,  7.05it/s]\n",
      "Generating Dynamics Dataset: 100%|██████████████████████████████████████████████████████████████████████████████████████████| 15/15 [00:00<00:00, 2333.89it/s]\n"
     ]
    },
    {
     "name": "stdout",
     "output_type": "stream",
     "text": [
      "COLLIDED\n",
      "COLLIDED\n"
     ]
    },
    {
     "name": "stderr",
     "output_type": "stream",
     "text": [
      "100%|████████████████████████████████████████████████████████████████████████████████████████████████████████████████████████| 40/40 [00:00<00:00, 236.41it/s]\n"
     ]
    },
    {
     "name": "stdout",
     "output_type": "stream",
     "text": [
      "Epoch 1, loss: 0.001, err: 0.022, val_loss: 0.001, val_err: 0.036\n"
     ]
    },
    {
     "name": "stderr",
     "output_type": "stream",
     "text": [
      "100%|████████████████████████████████████████████████████████████████████████████████████████████████████████████████████████| 40/40 [00:00<00:00, 239.07it/s]\n"
     ]
    },
    {
     "name": "stdout",
     "output_type": "stream",
     "text": [
      "Epoch 2, loss: 0.001, err: 0.022, val_loss: 0.001, val_err: 0.035\n"
     ]
    },
    {
     "name": "stderr",
     "output_type": "stream",
     "text": [
      "100%|████████████████████████████████████████████████████████████████████████████████████████████████████████████████████████| 40/40 [00:00<00:00, 238.16it/s]\n"
     ]
    },
    {
     "name": "stdout",
     "output_type": "stream",
     "text": [
      "Epoch 3, loss: 0.001, err: 0.022, val_loss: 0.001, val_err: 0.035\n"
     ]
    },
    {
     "name": "stderr",
     "output_type": "stream",
     "text": [
      "100%|████████████████████████████████████████████████████████████████████████████████████████████████████████████████████████| 40/40 [00:00<00:00, 238.63it/s]\n"
     ]
    },
    {
     "name": "stdout",
     "output_type": "stream",
     "text": [
      "Epoch 4, loss: 0.001, err: 0.022, val_loss: 0.001, val_err: 0.035\n"
     ]
    },
    {
     "name": "stderr",
     "output_type": "stream",
     "text": [
      "100%|████████████████████████████████████████████████████████████████████████████████████████████████████████████████████████| 40/40 [00:00<00:00, 225.99it/s]\n"
     ]
    },
    {
     "name": "stdout",
     "output_type": "stream",
     "text": [
      "Epoch 5, loss: 0.001, err: 0.022, val_loss: 0.001, val_err: 0.035\n"
     ]
    },
    {
     "name": "stderr",
     "output_type": "stream",
     "text": [
      "100%|████████████████████████████████████████████████████████████████████████████████████████████████████████████████████████| 40/40 [00:00<00:00, 237.72it/s]\n"
     ]
    },
    {
     "name": "stdout",
     "output_type": "stream",
     "text": [
      "Epoch 6, loss: 0.001, err: 0.022, val_loss: 0.001, val_err: 0.035\n"
     ]
    },
    {
     "name": "stderr",
     "output_type": "stream",
     "text": [
      "100%|████████████████████████████████████████████████████████████████████████████████████████████████████████████████████████| 40/40 [00:00<00:00, 237.44it/s]\n"
     ]
    },
    {
     "name": "stdout",
     "output_type": "stream",
     "text": [
      "Epoch 7, loss: 0.001, err: 0.022, val_loss: 0.001, val_err: 0.035\n"
     ]
    },
    {
     "name": "stderr",
     "output_type": "stream",
     "text": [
      "100%|████████████████████████████████████████████████████████████████████████████████████████████████████████████████████████| 40/40 [00:00<00:00, 240.37it/s]\n"
     ]
    },
    {
     "name": "stdout",
     "output_type": "stream",
     "text": [
      "Epoch 8, loss: 0.001, err: 0.022, val_loss: 0.001, val_err: 0.035\n"
     ]
    },
    {
     "name": "stderr",
     "output_type": "stream",
     "text": [
      "100%|████████████████████████████████████████████████████████████████████████████████████████████████████████████████████████| 40/40 [00:00<00:00, 235.75it/s]\n"
     ]
    },
    {
     "name": "stdout",
     "output_type": "stream",
     "text": [
      "Epoch 9, loss: 0.001, err: 0.022, val_loss: 0.001, val_err: 0.035\n"
     ]
    },
    {
     "name": "stderr",
     "output_type": "stream",
     "text": [
      "100%|████████████████████████████████████████████████████████████████████████████████████████████████████████████████████████| 40/40 [00:00<00:00, 236.94it/s]\n"
     ]
    },
    {
     "name": "stdout",
     "output_type": "stream",
     "text": [
      "Epoch 10, loss: 0.001, err: 0.022, val_loss: 0.001, val_err: 0.035\n"
     ]
    },
    {
     "name": "stderr",
     "output_type": "stream",
     "text": [
      "100%|████████████████████████████████████████████████████████████████████████████████████████████████████████████████████████| 40/40 [00:00<00:00, 234.70it/s]\n"
     ]
    },
    {
     "name": "stdout",
     "output_type": "stream",
     "text": [
      "Epoch 11, loss: 0.001, err: 0.023, val_loss: 0.001, val_err: 0.035\n"
     ]
    },
    {
     "name": "stderr",
     "output_type": "stream",
     "text": [
      "100%|████████████████████████████████████████████████████████████████████████████████████████████████████████████████████████| 40/40 [00:00<00:00, 237.25it/s]\n"
     ]
    },
    {
     "name": "stdout",
     "output_type": "stream",
     "text": [
      "Epoch 12, loss: 0.001, err: 0.022, val_loss: 0.001, val_err: 0.034\n"
     ]
    },
    {
     "name": "stderr",
     "output_type": "stream",
     "text": [
      "100%|████████████████████████████████████████████████████████████████████████████████████████████████████████████████████████| 40/40 [00:00<00:00, 237.76it/s]\n"
     ]
    },
    {
     "name": "stdout",
     "output_type": "stream",
     "text": [
      "Epoch 13, loss: 0.001, err: 0.022, val_loss: 0.001, val_err: 0.035\n"
     ]
    },
    {
     "name": "stderr",
     "output_type": "stream",
     "text": [
      "100%|████████████████████████████████████████████████████████████████████████████████████████████████████████████████████████| 40/40 [00:00<00:00, 237.50it/s]\n"
     ]
    },
    {
     "name": "stdout",
     "output_type": "stream",
     "text": [
      "Epoch 14, loss: 0.001, err: 0.022, val_loss: 0.001, val_err: 0.035\n"
     ]
    },
    {
     "name": "stderr",
     "output_type": "stream",
     "text": [
      "100%|████████████████████████████████████████████████████████████████████████████████████████████████████████████████████████| 40/40 [00:00<00:00, 236.03it/s]\n"
     ]
    },
    {
     "name": "stdout",
     "output_type": "stream",
     "text": [
      "Epoch 15, loss: 0.001, err: 0.022, val_loss: 0.001, val_err: 0.035\n"
     ]
    },
    {
     "name": "stderr",
     "output_type": "stream",
     "text": [
      "100%|████████████████████████████████████████████████████████████████████████████████████████████████████████████████████████| 40/40 [00:00<00:00, 240.31it/s]\n"
     ]
    },
    {
     "name": "stdout",
     "output_type": "stream",
     "text": [
      "Epoch 16, loss: 0.001, err: 0.022, val_loss: 0.001, val_err: 0.035\n"
     ]
    },
    {
     "name": "stderr",
     "output_type": "stream",
     "text": [
      "100%|████████████████████████████████████████████████████████████████████████████████████████████████████████████████████████| 40/40 [00:00<00:00, 233.30it/s]\n"
     ]
    },
    {
     "name": "stdout",
     "output_type": "stream",
     "text": [
      "Epoch 17, loss: 0.001, err: 0.022, val_loss: 0.001, val_err: 0.035\n"
     ]
    },
    {
     "name": "stderr",
     "output_type": "stream",
     "text": [
      "100%|████████████████████████████████████████████████████████████████████████████████████████████████████████████████████████| 40/40 [00:00<00:00, 233.96it/s]\n"
     ]
    },
    {
     "name": "stdout",
     "output_type": "stream",
     "text": [
      "Epoch 18, loss: 0.001, err: 0.022, val_loss: 0.001, val_err: 0.035\n"
     ]
    },
    {
     "name": "stderr",
     "output_type": "stream",
     "text": [
      "100%|████████████████████████████████████████████████████████████████████████████████████████████████████████████████████████| 40/40 [00:00<00:00, 233.39it/s]\n"
     ]
    },
    {
     "name": "stdout",
     "output_type": "stream",
     "text": [
      "Epoch 19, loss: 0.001, err: 0.022, val_loss: 0.001, val_err: 0.035\n"
     ]
    },
    {
     "name": "stderr",
     "output_type": "stream",
     "text": [
      "100%|████████████████████████████████████████████████████████████████████████████████████████████████████████████████████████| 40/40 [00:00<00:00, 238.15it/s]\n"
     ]
    },
    {
     "name": "stdout",
     "output_type": "stream",
     "text": [
      "Epoch 20, loss: 0.001, err: 0.022, val_loss: 0.001, val_err: 0.035\n"
     ]
    },
    {
     "name": "stderr",
     "output_type": "stream",
     "text": [
      "100%|████████████████████████████████████████████████████████████████████████████████████████████████████████████████████████| 40/40 [00:00<00:00, 235.03it/s]\n"
     ]
    },
    {
     "name": "stdout",
     "output_type": "stream",
     "text": [
      "Epoch 21, loss: 0.001, err: 0.022, val_loss: 0.001, val_err: 0.035\n"
     ]
    },
    {
     "name": "stderr",
     "output_type": "stream",
     "text": [
      "100%|████████████████████████████████████████████████████████████████████████████████████████████████████████████████████████| 40/40 [00:00<00:00, 235.60it/s]\n"
     ]
    },
    {
     "name": "stdout",
     "output_type": "stream",
     "text": [
      "Epoch 22, loss: 0.001, err: 0.022, val_loss: 0.001, val_err: 0.034\n"
     ]
    },
    {
     "name": "stderr",
     "output_type": "stream",
     "text": [
      "100%|████████████████████████████████████████████████████████████████████████████████████████████████████████████████████████| 40/40 [00:00<00:00, 235.10it/s]\n"
     ]
    },
    {
     "name": "stdout",
     "output_type": "stream",
     "text": [
      "Epoch 23, loss: 0.001, err: 0.022, val_loss: 0.001, val_err: 0.035\n"
     ]
    },
    {
     "name": "stderr",
     "output_type": "stream",
     "text": [
      "100%|████████████████████████████████████████████████████████████████████████████████████████████████████████████████████████| 40/40 [00:00<00:00, 236.55it/s]\n"
     ]
    },
    {
     "name": "stdout",
     "output_type": "stream",
     "text": [
      "Epoch 24, loss: 0.001, err: 0.022, val_loss: 0.001, val_err: 0.034\n"
     ]
    },
    {
     "name": "stderr",
     "output_type": "stream",
     "text": [
      "100%|████████████████████████████████████████████████████████████████████████████████████████████████████████████████████████| 40/40 [00:00<00:00, 240.32it/s]\n"
     ]
    },
    {
     "name": "stdout",
     "output_type": "stream",
     "text": [
      "Epoch 25, loss: 0.001, err: 0.022, val_loss: 0.001, val_err: 0.035\n"
     ]
    },
    {
     "name": "stderr",
     "output_type": "stream",
     "text": [
      "100%|████████████████████████████████████████████████████████████████████████████████████████████████████████████████████████| 40/40 [00:00<00:00, 234.75it/s]\n"
     ]
    },
    {
     "name": "stdout",
     "output_type": "stream",
     "text": [
      "Epoch 26, loss: 0.001, err: 0.022, val_loss: 0.001, val_err: 0.035\n"
     ]
    },
    {
     "name": "stderr",
     "output_type": "stream",
     "text": [
      "100%|████████████████████████████████████████████████████████████████████████████████████████████████████████████████████████| 40/40 [00:00<00:00, 238.10it/s]\n"
     ]
    },
    {
     "name": "stdout",
     "output_type": "stream",
     "text": [
      "Epoch 27, loss: 0.001, err: 0.022, val_loss: 0.001, val_err: 0.035\n"
     ]
    },
    {
     "name": "stderr",
     "output_type": "stream",
     "text": [
      "100%|████████████████████████████████████████████████████████████████████████████████████████████████████████████████████████| 40/40 [00:00<00:00, 234.82it/s]\n"
     ]
    },
    {
     "name": "stdout",
     "output_type": "stream",
     "text": [
      "Epoch 28, loss: 0.001, err: 0.022, val_loss: 0.001, val_err: 0.035\n"
     ]
    },
    {
     "name": "stderr",
     "output_type": "stream",
     "text": [
      "100%|████████████████████████████████████████████████████████████████████████████████████████████████████████████████████████| 40/40 [00:00<00:00, 237.28it/s]\n"
     ]
    },
    {
     "name": "stdout",
     "output_type": "stream",
     "text": [
      "Epoch 29, loss: 0.001, err: 0.022, val_loss: 0.001, val_err: 0.035\n"
     ]
    },
    {
     "name": "stderr",
     "output_type": "stream",
     "text": [
      "100%|████████████████████████████████████████████████████████████████████████████████████████████████████████████████████████| 40/40 [00:00<00:00, 236.36it/s]\n"
     ]
    },
    {
     "name": "stdout",
     "output_type": "stream",
     "text": [
      "Epoch 30, loss: 0.001, err: 0.022, val_loss: 0.001, val_err: 0.035\n"
     ]
    },
    {
     "name": "stderr",
     "output_type": "stream",
     "text": [
      "100%|████████████████████████████████████████████████████████████████████████████████████████████████████████████████████████| 40/40 [00:00<00:00, 236.47it/s]\n"
     ]
    },
    {
     "name": "stdout",
     "output_type": "stream",
     "text": [
      "Epoch 31, loss: 0.001, err: 0.022, val_loss: 0.001, val_err: 0.034\n"
     ]
    },
    {
     "name": "stderr",
     "output_type": "stream",
     "text": [
      "100%|████████████████████████████████████████████████████████████████████████████████████████████████████████████████████████| 40/40 [00:00<00:00, 236.37it/s]\n"
     ]
    },
    {
     "name": "stdout",
     "output_type": "stream",
     "text": [
      "Epoch 32, loss: 0.001, err: 0.022, val_loss: 0.001, val_err: 0.035\n"
     ]
    },
    {
     "name": "stderr",
     "output_type": "stream",
     "text": [
      "100%|████████████████████████████████████████████████████████████████████████████████████████████████████████████████████████| 40/40 [00:00<00:00, 233.84it/s]\n"
     ]
    },
    {
     "name": "stdout",
     "output_type": "stream",
     "text": [
      "Epoch 33, loss: 0.001, err: 0.022, val_loss: 0.001, val_err: 0.034\n"
     ]
    },
    {
     "name": "stderr",
     "output_type": "stream",
     "text": [
      "100%|████████████████████████████████████████████████████████████████████████████████████████████████████████████████████████| 40/40 [00:00<00:00, 234.67it/s]\n"
     ]
    },
    {
     "name": "stdout",
     "output_type": "stream",
     "text": [
      "Epoch 34, loss: 0.001, err: 0.022, val_loss: 0.001, val_err: 0.035\n"
     ]
    },
    {
     "name": "stderr",
     "output_type": "stream",
     "text": [
      "100%|████████████████████████████████████████████████████████████████████████████████████████████████████████████████████████| 40/40 [00:00<00:00, 237.79it/s]\n"
     ]
    },
    {
     "name": "stdout",
     "output_type": "stream",
     "text": [
      "Epoch 35, loss: 0.001, err: 0.022, val_loss: 0.001, val_err: 0.034\n"
     ]
    },
    {
     "name": "stderr",
     "output_type": "stream",
     "text": [
      "100%|████████████████████████████████████████████████████████████████████████████████████████████████████████████████████████| 40/40 [00:00<00:00, 238.01it/s]\n"
     ]
    },
    {
     "name": "stdout",
     "output_type": "stream",
     "text": [
      "Epoch 36, loss: 0.001, err: 0.022, val_loss: 0.001, val_err: 0.035\n"
     ]
    },
    {
     "name": "stderr",
     "output_type": "stream",
     "text": [
      "100%|████████████████████████████████████████████████████████████████████████████████████████████████████████████████████████| 40/40 [00:00<00:00, 235.92it/s]\n"
     ]
    },
    {
     "name": "stdout",
     "output_type": "stream",
     "text": [
      "Epoch 37, loss: 0.001, err: 0.022, val_loss: 0.001, val_err: 0.034\n"
     ]
    },
    {
     "name": "stderr",
     "output_type": "stream",
     "text": [
      "100%|████████████████████████████████████████████████████████████████████████████████████████████████████████████████████████| 40/40 [00:00<00:00, 238.43it/s]\n"
     ]
    },
    {
     "name": "stdout",
     "output_type": "stream",
     "text": [
      "Epoch 38, loss: 0.001, err: 0.022, val_loss: 0.001, val_err: 0.035\n"
     ]
    },
    {
     "name": "stderr",
     "output_type": "stream",
     "text": [
      "100%|████████████████████████████████████████████████████████████████████████████████████████████████████████████████████████| 40/40 [00:00<00:00, 238.14it/s]\n"
     ]
    },
    {
     "name": "stdout",
     "output_type": "stream",
     "text": [
      "Epoch 39, loss: 0.001, err: 0.025, val_loss: 0.001, val_err: 0.033\n"
     ]
    },
    {
     "name": "stderr",
     "output_type": "stream",
     "text": [
      "100%|████████████████████████████████████████████████████████████████████████████████████████████████████████████████████████| 10/10 [00:00<00:00, 494.54it/s]\n"
     ]
    },
    {
     "name": "stdout",
     "output_type": "stream",
     "text": [
      "STATE: [ 0.7220281   0.69563233 -0.02490288 -0.03597095] ACT: [-0.28460434 -0.41109654] \n",
      "STATE: [ 0.70515254  0.67128964 -0.04821588 -0.06955054] ACT: [-0.28511143 -0.41074502] \n",
      "STATE: [ 0.680636    0.63597713 -0.07004727 -0.1008929 ] ACT: [-0.28566349 -0.41036127] \n",
      "STATE: [ 0.64904462  0.59036988 -0.09026109 -0.13030641] ACT: [-0.2835506  -0.41182406] \n",
      "STATE: [ 0.61229562  0.53670992 -0.10499715 -0.15331417] ACT: [-0.23610788 -0.36067565] \n",
      "STATE: [ 0.57452093  0.47706286 -0.10792766 -0.17042019] ACT: [-0.11223947 -0.310483  ] \n",
      "STATE: [ 0.54332136  0.42420885 -0.08914164 -0.15101145] ACT: [0.13375171 0.09399902] \n",
      "STATE: [ 0.50995757  0.36010149 -0.09532513 -0.18316389] ACT: [-0.13752475 -0.48071503] \n",
      "STATE: [ 0.47056684  0.28727976 -0.11254493 -0.20806209] ACT: [-0.26829156 -0.42192374] \n",
      "STATE: [ 0.42513695  0.20658404 -0.12979969 -0.23055918] ACT: [-0.28160596 -0.41315624] \n",
      "STATE: [ 0.37387824  0.11865986 -0.14645346 -0.25121196] ACT: [-0.28767855 -0.40895116] \n",
      "STATE: [ 0.31670407  0.02432509 -0.16335475 -0.26952791] ACT: [-0.30299773 -0.39773405] \n",
      "STATE: [ 0.25116844 -0.07318567 -0.18724465 -0.27860217] ACT: [-0.39554352 -0.30585181] \n",
      "final state  [ 0.25116844 -0.07318567]\n",
      "STATE: [ 0.6494332   0.75291671 -0.02491322 -0.03596379] ACT: [-0.28472247 -0.41101474] \n",
      "STATE: [ 0.63257289  0.72856346 -0.04817233 -0.06958073] ACT: [-0.28450339 -0.41116641] \n",
      "STATE: [ 0.60806644  0.69324396 -0.07001841 -0.10091286] ACT: [-0.28579869 -0.41026712] \n",
      "STATE: [ 0.57638836  0.64769692 -0.09050881 -0.13013439] ACT: [-0.28668982 -0.40964491] \n",
      "STATE: [ 0.53821297  0.59334452 -0.10907253 -0.15529258] ACT: [-0.28003845 -0.38512296] \n",
      "STATE: [ 0.4993605   0.53961656 -0.11100708 -0.15350845] ACT: [-0.10391347 -0.09607942] \n",
      "STATE: [ 0.46402296  0.49139148 -0.1009644  -0.13778594] ACT: [0.03151819 0.06455452] \n",
      "COLLIDED\n",
      "STATE: [ 0.42212772  0.43385414 -0.11970067 -0.16439241] ACT: [-0.28985217 -0.40741345] \n",
      "COLLIDED\n",
      "STATE: [ 0.3743748   0.36742812 -0.13643692 -0.18978863] ACT: [-0.2810469  -0.41353675] \n",
      "STATE: [ 0.32106566  0.29275352 -0.15231184 -0.21335601] ACT: [-0.28375536 -0.41168301] \n",
      "STATE: [ 0.26252549  0.21039891 -0.16725762 -0.23529888] ACT: [-0.28504282 -0.41079264] \n",
      "STATE: [ 0.19905876  0.12089532 -0.18133351 -0.25572452] ACT: [-0.2863105  -0.40991011] \n",
      "STATE: [ 0.12821444  0.02720355 -0.20241235 -0.26769079] ACT: [-0.37690112 -0.32855068] \n",
      "STATE: [ 0.07052349 -0.04760585 -0.16483128 -0.21374114] ACT: [0.27768861 0.41579928] \n",
      "final state  [ 0.07052349 -0.04760585]\n",
      "STATE: [ 0.74919903  0.87133223 -0.02496635 -0.03592693] ACT: [-0.28532968 -0.41059344] \n",
      "STATE: [ 0.73230967  0.84699911 -0.04825532 -0.06952319] ACT: [-0.28488442 -0.4109025 ] \n",
      "STATE: [ 0.70780408  0.81167897 -0.07001595 -0.1009147 ] ACT: [-0.28488442 -0.4109025 ] \n",
      "STATE: [ 0.67617363  0.76609869 -0.09037273 -0.13022935] ACT: [-0.28516094 -0.41071065] \n",
      "STATE: [ 0.6378875   0.71093048 -0.10938895 -0.15762347] ACT: [-0.28510771 -0.4107476 ] \n",
      "STATE: [ 0.59336131  0.64681825 -0.12721768 -0.1831778 ] ACT: [-0.28579869 -0.41026712] \n",
      "STATE: [ 0.54457543  0.57673506 -0.13938822 -0.20023768] ACT: [-0.23450504 -0.33235338] \n",
      "STATE: [ 0.49411576  0.50498345 -0.14417049 -0.20500462] ACT: [-0.15919571 -0.2046576 ] \n",
      "COLLIDED\n",
      "STATE: [ 0.43804338  0.42549735 -0.16020681 -0.22710312] ACT: [-0.29140014 -0.40630771] \n",
      "STATE: [ 0.37704368  0.33856297 -0.17428484 -0.24838394] ACT: [-0.2810469  -0.41353675] \n",
      "STATE: [ 0.31139215  0.24470177 -0.18757581 -0.26817486] ACT: [-0.28261034 -0.41246988] \n",
      "STATE: [ 0.24129382  0.14443759 -0.20028094 -0.28646909] ACT: [-0.28588338 -0.41020811] \n",
      "STATE: [ 0.16685309  0.03832335 -0.21268781 -0.30318356] ACT: [-0.29200352 -0.40587429] \n",
      "STATE: [ 0.10453811 -0.04733469 -0.1780428  -0.24473723] ACT: [0.2364271  0.44057034] \n",
      "final state  [ 0.10453811 -0.04733469]\n",
      "STATE: [ 0.79438881  0.77750725 -0.02500638 -0.03589908] ACT: [-0.28578715 -0.41027516] \n",
      "STATE: [ 0.77749734  0.75317564 -0.04826136 -0.06951889] ACT: [-0.28452599 -0.41115078] \n",
      "STATE: [ 0.75295902  0.71787829 -0.07010949 -0.10084958] ACT: [-0.28588896 -0.41020422] \n",
      "STATE: [ 0.72131501  0.67230749 -0.09041143 -0.13020228] ACT: [-0.28460434 -0.41109654] \n",
      "STATE: [ 0.68301611  0.61714821 -0.10942543 -0.15759794] ACT: [-0.28511143 -0.41074502] \n",
      "STATE: [ 0.63854684  0.55299665 -0.12705507 -0.18329018] ACT: [-0.2835506  -0.41182406] \n",
      "STATE: [ 0.59212726  0.48154023 -0.13262738 -0.20416119] ACT: [-0.15897491 -0.37599338] \n",
      "STATE: [ 0.5504105   0.406923   -0.11919072 -0.21319208] ACT: [ 0.05409126 -0.25633105] \n",
      "STATE: [ 0.50455298  0.32352189 -0.13102148 -0.23828889] ACT: [-0.22460165 -0.44671479] \n",
      "STATE: [ 0.45327233  0.23281255 -0.14651615 -0.25916956] ACT: [-0.27534805 -0.41735291] \n",
      "STATE: [ 0.39663284  0.1354718  -0.16182712 -0.27811642] ACT: [-0.28486964 -0.41091275] \n",
      "STATE: [ 0.3346128   0.03220206 -0.17720012 -0.29505639] ACT: [-0.29706173 -0.40218693] \n",
      "STATE: [ 0.26564751 -0.07492711 -0.19704369 -0.30608336] ACT: [-0.35968379 -0.3473148 ] \n",
      "final state  [ 0.26564751 -0.07492711]\n",
      "STATE: [ 0.77816615  0.75281565 -0.02489602 -0.03597569] ACT: [-0.28452599 -0.41115078] \n",
      "STATE: [ 0.76126903  0.72848797 -0.04827751 -0.06950766] ACT: [-0.28588896 -0.41020422] \n",
      "STATE: [ 0.73674259  0.69318234 -0.07007552 -0.10087323] ACT: [-0.2853283 -0.4105944] \n",
      "STATE: [ 0.7050735   0.64762895 -0.09048312 -0.13015255] ACT: [-0.28578632 -0.41027573] \n",
      "STATE: [ 0.66673425  0.59249768 -0.10954072 -0.1575179 ] ACT: [-0.28566349 -0.41036127] \n",
      "STATE: [ 0.62368021  0.52993871 -0.12301155 -0.17873991] ACT: [-0.23610788 -0.36067565] \n",
      "STATE: [ 0.57858298  0.45997038 -0.12884922 -0.19990952] ACT: [-0.15897491 -0.37599338] \n",
      "STATE: [ 0.5355243   0.38928277 -0.12302479 -0.2019646 ] ACT: [-0.03007204 -0.17341873] \n",
      "STATE: [ 0.48841293  0.3095534  -0.13460394 -0.22779821] ACT: [-0.22460165 -0.44671479] \n",
      "STATE: [ 0.43588244  0.22232681 -0.15008709 -0.24921884] ACT: [-0.27790331 -0.41565581] \n",
      "STATE: [ 0.37804459  0.12826149 -0.16525102 -0.26875804] ACT: [-0.28586736 -0.41021928] \n",
      "STATE: [ 0.31472303  0.02818861 -0.18091872 -0.28592252] ACT: [-0.30299773 -0.39773405] \n",
      "STATE: [ 0.24344344 -0.0746837  -0.20365599 -0.29392089] ACT: [-0.39554352 -0.30585181] \n",
      "final state  [ 0.24344344 -0.0746837 ]\n",
      "STATE: [ 0.79903116  0.88471662 -0.02480065 -0.03604151] ACT: [-0.283436   -0.41190294] \n",
      "STATE: [ 0.78224034  0.86031539 -0.04797376 -0.06971779] ACT: [-0.283436   -0.41190294] \n",
      "STATE: [ 0.75780148  0.82494922 -0.06982531 -0.10104619] ACT: [-0.28571239 -0.41032722] \n",
      "STATE: [ 0.72625345  0.77931203 -0.09013725 -0.13039198] ACT: [-0.2845054  -0.41116502] \n",
      "STATE: [ 0.68805927  0.72408027 -0.10912622 -0.15780502] ACT: [-0.28461971 -0.41108591] \n",
      "STATE: [ 0.64363532  0.65989732 -0.12692556 -0.18337988] ACT: [-0.28526577 -0.41063785] \n",
      "STATE: [ 0.59339758  0.58734562 -0.14353642 -0.20729055] ACT: [-0.28503255 -0.41079976] \n",
      "STATE: [ 0.53831014  0.50658954 -0.15739266 -0.23073166] ACT: [-0.26600931 -0.42336633] \n",
      "STATE: [ 0.49565341  0.44365339 -0.12187638 -0.17981759] ACT: [0.28785587 0.40882637] \n",
      "STATE: [ 0.46520701  0.39692657 -0.08698972 -0.13350518] ACT: [0.30729742 0.39442147] \n",
      "STATE: [ 0.42827485  0.34051874 -0.10552045 -0.16116522] ACT: [-0.2770221  -0.41624363] \n",
      "STATE: [ 0.38519262  0.27512554 -0.1230921  -0.18683772] ACT: [-0.27995925 -0.41427384] \n",
      "STATE: [ 0.33623143  0.20142717 -0.13988911 -0.21056677] ACT: [-0.28428491 -0.41131751] \n",
      "STATE: [ 0.28163653  0.12006697 -0.15598541 -0.23245771] ACT: [-0.28887451 -0.40810724] \n",
      "STATE: [ 0.22098136  0.03215134 -0.17330049 -0.25118753] ACT: [-0.31487573 -0.38839834] \n",
      "STATE: [ 0.14926303 -0.04713808 -0.20490953 -0.22654121] ACT: [-0.49122148  0.09328161] \n",
      "final state  [ 0.14926303 -0.04713808]\n",
      "STATE: [ 0.77826539  0.65175916 -0.02503332 -0.03588029] ACT: [-0.2860951  -0.41006048] \n",
      "STATE: [ 0.76133391  0.62745534 -0.04837568 -0.06943949] ACT: [-0.2855448  -0.41044387] \n",
      "STATE: [ 0.73673952  0.59219699 -0.07026966 -0.10073815] ACT: [-0.28649871 -0.40977859] \n",
      "STATE: [ 0.70504755  0.54665958 -0.09054849 -0.13010688] ACT: [-0.28446029 -0.41119623] \n",
      "STATE: [ 0.66684361  0.49143562 -0.10915411 -0.15778277] ACT: [-0.28054701 -0.41387604] \n",
      "STATE: [ 0.62653246  0.42936044 -0.11517473 -0.17735766] ACT: [-0.15067264 -0.34205014] \n",
      "STATE: [ 0.58600321  0.35644187 -0.11579787 -0.20833876] ACT: [-0.09350268 -0.48708798] \n",
      "STATE: [ 0.54005179  0.2753026  -0.13128976 -0.23182649] ACT: [-0.26389857 -0.42468523] \n",
      "STATE: [ 0.48862196  0.18674741 -0.14694236 -0.25301484] ACT: [-0.27735419 -0.41602242] \n",
      "STATE: [ 0.43181326  0.09144018 -0.16231059 -0.27230637] ACT: [-0.28584363 -0.41023581] \n",
      "STATE: [ 0.3693721  -0.00973082 -0.1784033  -0.28905999] ACT: [-0.30564966 -0.39569974] \n",
      "final state  [ 0.3693721  -0.00973082]\n",
      "STATE: [ 0.6614665   0.70026924 -0.02493596 -0.03594802] ACT: [-0.28498243 -0.41083453] \n",
      "STATE: [ 0.64458408  0.6759313  -0.0482355  -0.06953695] ACT: [-0.28498243 -0.41083453] \n",
      "STATE: [ 0.62006993  0.6406171  -0.07004043 -0.10089771] ACT: [-0.28537577 -0.41056141] \n",
      "STATE: [ 0.58848973  0.59500213 -0.09022913 -0.1303285 ] ACT: [-0.28325837 -0.41202511] \n",
      "STATE: [ 0.55083545  0.53941504 -0.10758366 -0.15882025] ACT: [-0.26600931 -0.42336633] \n",
      "STATE: [ 0.51855839  0.4920324  -0.09222015 -0.13537897] ACT: [0.09489518 0.14878513] \n",
      "STATE: [ 0.49750678  0.46006902 -0.06014746 -0.09132395] ACT: [0.29738001 0.40195165] \n",
      "STATE: [ 0.48724767  0.44228239 -0.02931175 -0.05081894] ACT: [0.30729742 0.39442147] \n",
      "STATE: [ 0.46957434  0.41266049 -0.05049524 -0.08463399] ACT: [-0.26408079 -0.42457194] \n",
      "STATE: [ 0.44457701  0.37223507 -0.07142092 -0.1155012 ] ACT: [-0.2770221  -0.41624363] \n",
      "STATE: [ 0.41275544  0.32170241 -0.09091879 -0.14437902] ACT: [-0.2763984  -0.41665804] \n",
      "STATE: [ 0.37437745  0.26184707 -0.1096514  -0.17101528] ACT: [-0.28227613 -0.41269866] \n",
      "STATE: [ 0.32976467  0.19335583 -0.12746509 -0.19568926] ACT: [-0.28582353 -0.41024981] \n",
      "STATE: [ 0.27923282  0.11686104 -0.14437671 -0.21855653] ACT: [-0.28887451 -0.40810724] \n",
      "STATE: [ 0.22237405  0.03349153 -0.16245362 -0.23819862] ACT: [-0.31487573 -0.38839834] \n",
      "STATE: [ 0.15420299 -0.04155012 -0.19477448 -0.21440469] ACT: [-0.49122148  0.09328161] \n",
      "final state  [ 0.15420299 -0.04155012]\n",
      "STATE: [ 0.6580357   0.84975532 -0.02487316 -0.03599151] ACT: [-0.28426464 -0.41133151] \n",
      "STATE: [ 0.6411958   0.82538794 -0.04811401 -0.06962107] ACT: [-0.28426464 -0.41133151] \n",
      "STATE: [ 0.6167639   0.79001678 -0.06980541 -0.10106046] ACT: [-0.28398723 -0.41152309] \n",
      "STATE: [ 0.58525095  0.7443552  -0.090037   -0.13046167] ACT: [-0.28357216 -0.41180921] \n",
      "STATE: [ 0.54705126  0.68912725 -0.10914197 -0.15779413] ACT: [-0.28587035 -0.41021719] \n",
      "STATE: [ 0.50383916  0.62777789 -0.12346316 -0.17528388] ACT: [-0.24552719 -0.31822846] \n",
      "STATE: [ 0.45924287  0.56851943 -0.12741797 -0.1693099 ] ACT: [-0.1377952  -0.06318885] \n",
      "STATE: [ 0.41812293  0.51510057 -0.11748552 -0.1526253 ] ACT: [0.01795025 0.06369871] \n",
      "STATE: [ 0.36971371  0.45358057 -0.13831206 -0.17577143] ACT: [-0.3261317 -0.3789962] \n",
      "STATE: [ 0.31563355  0.38360026 -0.15451476 -0.19994375] ACT: [-0.28890779 -0.40808368] \n",
      "STATE: [ 0.2563858   0.30562297 -0.16927928 -0.22279224] ACT: [-0.28462345 -0.41108331] \n",
      "STATE: [ 0.19233914  0.22015312 -0.18299046 -0.24419959] ACT: [-0.28365871 -0.41174961] \n",
      "STATE: [ 0.12383797  0.12766213 -0.19571763 -0.26425996] ACT: [-0.28269614 -0.41241107] \n",
      "STATE: [ 0.051451    0.02842571 -0.20681991 -0.28353264] ACT: [-0.2736715  -0.41845419] \n",
      "STATE: [-0.00742123 -0.05174209 -0.16820638 -0.22905086] ACT: [0.28618263 0.40999939] \n",
      "final state  [-0.00742123 -0.05174209]\n",
      "STATE: [ 0.60223587  0.61850391 -0.02059319 -0.03098882] ACT: [-0.23535074 -0.35415794] \n",
      "STATE: [ 0.58829364  0.59752351 -0.03983495 -0.059944  ] ACT: [-0.23535074 -0.35415794] \n",
      "STATE: [ 0.56711983  0.56495435 -0.0604966  -0.09305473] ACT: [-0.26600931 -0.42336633] \n",
      "STATE: [ 0.54084803  0.5243717  -0.07506227 -0.11595043] ACT: [-0.21183732 -0.33145624] \n",
      "STATE: [ 0.52511591  0.4989726  -0.04494892 -0.07256888] ACT: [0.28785587 0.40882637] \n",
      "STATE: [ 0.51952347  0.48755008 -0.0159784  -0.03263577] ACT: [0.29738001 0.40195165] \n",
      "STATE: [0.5234053  0.48918693 0.01109093 0.00467672] ACT: [0.29738001 0.40195165] \n",
      "STATE: [0.53613964 0.50302613 0.03638384 0.03954058] ACT: [0.29738001 0.40195165] \n",
      "STATE: [0.55685388 0.52847744 0.05918354 0.07271803] ACT: [0.28785587 0.40882637] \n",
      "STATE: [0.58502433 0.56477882 0.08048701 0.10371822] ACT: [0.28785587 0.40882637] \n",
      "STATE: [0.60485858 0.58854707 0.05666928 0.06790929] ACT: [-0.21183732 -0.33145624] \n",
      "STATE: [0.61524468 0.59778994 0.02967455 0.02640819] ACT: [-0.26600931 -0.42336633] \n",
      "STATE: [ 0.61658332  0.59360107  0.00382469 -0.01196819] ACT: [-0.27317107 -0.41878105] \n",
      "STATE: [ 0.60946824  0.57686193 -0.02032878 -0.04782612] ACT: [-0.27317107 -0.41878105] \n",
      "STATE: [ 0.5968237   0.55050767 -0.03612727 -0.07529787] ACT: [-0.19580084 -0.34983251] \n",
      "STATE: [ 0.58157162  0.51637437 -0.04357737 -0.09752371] ACT: [-0.11223947 -0.310483  ] \n",
      "STATE: [ 0.56868825  0.48106715 -0.03680962 -0.10087777] ACT: [ 0.04466277 -0.11147491] \n",
      "STATE: [ 0.5607465   0.45095569 -0.02269071 -0.08603276] ACT: [0.13375171 0.09399902] \n",
      "STATE: [ 0.55240497  0.41750934 -0.02383294 -0.095561  ] ACT: [-0.03007204 -0.17341873] \n",
      "STATE: [ 0.54039916  0.37153601 -0.03430232 -0.13135237] ACT: [-0.13752475 -0.48071503] \n",
      "STATE: [ 0.5212359   0.31548982 -0.05475218 -0.16013196] ACT: [-0.25943948 -0.42742386] \n",
      "STATE: [ 0.49489769  0.25034023 -0.07525202 -0.18614168] ACT: [-0.27534805 -0.41735291] \n",
      "STATE: [ 0.46163697  0.17683147 -0.09503063 -0.21002504] ACT: [-0.28248022 -0.41255899] \n",
      "STATE: [ 0.42172321  0.09564065 -0.11403933 -0.23197376] ACT: [-0.28851523 -0.40836131] \n",
      "STATE: [ 0.37506826  0.00765968 -0.13329984 -0.25137421] ACT: [-0.30564966 -0.39569974] \n",
      "STATE: [ 0.320973   -0.08569114 -0.15455788 -0.26671662] ACT: [-0.34292393 -0.36387248] \n",
      "final state  [ 0.320973   -0.08569114]\n",
      "After 5 REWARD:  (0.8535322216665785, array([ 0.19217109, -0.05535893, -0.183167  , -0.25628582]), -0.2980768149940679)\n",
      "UPDATING THE ACTION MATRIX\n"
     ]
    },
    {
     "name": "stderr",
     "output_type": "stream",
     "text": [
      "100%|█████████████████████████████████████████████████████████████████████████████████████████████████████████████████████████| 25/25 [00:03<00:00,  7.05it/s]\n",
      "Generating Dynamics Dataset: 100%|██████████████████████████████████████████████████████████████████████████████████████████| 15/15 [00:00<00:00, 2289.05it/s]\n"
     ]
    },
    {
     "name": "stdout",
     "output_type": "stream",
     "text": [
      "COLLIDED\n",
      "COLLIDED\n",
      "COLLIDED\n",
      "COLLIDED\n",
      "COLLIDED\n"
     ]
    },
    {
     "name": "stderr",
     "output_type": "stream",
     "text": [
      "100%|████████████████████████████████████████████████████████████████████████████████████████████████████████████████████████| 43/43 [00:00<00:00, 235.91it/s]\n"
     ]
    },
    {
     "name": "stdout",
     "output_type": "stream",
     "text": [
      "Epoch 1, loss: 0.000, err: 0.021, val_loss: 0.001, val_err: 0.034\n"
     ]
    },
    {
     "name": "stderr",
     "output_type": "stream",
     "text": [
      "100%|████████████████████████████████████████████████████████████████████████████████████████████████████████████████████████| 43/43 [00:00<00:00, 239.62it/s]\n"
     ]
    },
    {
     "name": "stdout",
     "output_type": "stream",
     "text": [
      "Epoch 2, loss: 0.000, err: 0.022, val_loss: 0.001, val_err: 0.035\n"
     ]
    },
    {
     "name": "stderr",
     "output_type": "stream",
     "text": [
      "100%|████████████████████████████████████████████████████████████████████████████████████████████████████████████████████████| 43/43 [00:00<00:00, 240.69it/s]\n"
     ]
    },
    {
     "name": "stdout",
     "output_type": "stream",
     "text": [
      "Epoch 3, loss: 0.000, err: 0.021, val_loss: 0.001, val_err: 0.035\n"
     ]
    },
    {
     "name": "stderr",
     "output_type": "stream",
     "text": [
      "100%|████████████████████████████████████████████████████████████████████████████████████████████████████████████████████████| 43/43 [00:00<00:00, 235.62it/s]\n"
     ]
    },
    {
     "name": "stdout",
     "output_type": "stream",
     "text": [
      "Epoch 4, loss: 0.000, err: 0.021, val_loss: 0.001, val_err: 0.034\n"
     ]
    },
    {
     "name": "stderr",
     "output_type": "stream",
     "text": [
      "100%|████████████████████████████████████████████████████████████████████████████████████████████████████████████████████████| 43/43 [00:00<00:00, 239.80it/s]\n"
     ]
    },
    {
     "name": "stdout",
     "output_type": "stream",
     "text": [
      "Epoch 5, loss: 0.000, err: 0.021, val_loss: 0.001, val_err: 0.035\n"
     ]
    },
    {
     "name": "stderr",
     "output_type": "stream",
     "text": [
      "100%|████████████████████████████████████████████████████████████████████████████████████████████████████████████████████████| 43/43 [00:00<00:00, 240.11it/s]\n"
     ]
    },
    {
     "name": "stdout",
     "output_type": "stream",
     "text": [
      "Epoch 6, loss: 0.000, err: 0.021, val_loss: 0.001, val_err: 0.034\n"
     ]
    },
    {
     "name": "stderr",
     "output_type": "stream",
     "text": [
      "100%|████████████████████████████████████████████████████████████████████████████████████████████████████████████████████████| 43/43 [00:00<00:00, 242.19it/s]\n"
     ]
    },
    {
     "name": "stdout",
     "output_type": "stream",
     "text": [
      "Epoch 7, loss: 0.000, err: 0.021, val_loss: 0.001, val_err: 0.035\n"
     ]
    },
    {
     "name": "stderr",
     "output_type": "stream",
     "text": [
      "100%|████████████████████████████████████████████████████████████████████████████████████████████████████████████████████████| 43/43 [00:00<00:00, 235.29it/s]\n"
     ]
    },
    {
     "name": "stdout",
     "output_type": "stream",
     "text": [
      "Epoch 8, loss: 0.000, err: 0.021, val_loss: 0.001, val_err: 0.034\n"
     ]
    },
    {
     "name": "stderr",
     "output_type": "stream",
     "text": [
      "100%|████████████████████████████████████████████████████████████████████████████████████████████████████████████████████████| 43/43 [00:00<00:00, 233.38it/s]\n"
     ]
    },
    {
     "name": "stdout",
     "output_type": "stream",
     "text": [
      "Epoch 9, loss: 0.000, err: 0.022, val_loss: 0.001, val_err: 0.034\n"
     ]
    },
    {
     "name": "stderr",
     "output_type": "stream",
     "text": [
      "100%|████████████████████████████████████████████████████████████████████████████████████████████████████████████████████████| 43/43 [00:00<00:00, 236.67it/s]\n"
     ]
    },
    {
     "name": "stdout",
     "output_type": "stream",
     "text": [
      "Epoch 10, loss: 0.000, err: 0.021, val_loss: 0.001, val_err: 0.034\n"
     ]
    },
    {
     "name": "stderr",
     "output_type": "stream",
     "text": [
      "100%|████████████████████████████████████████████████████████████████████████████████████████████████████████████████████████| 43/43 [00:00<00:00, 239.20it/s]\n"
     ]
    },
    {
     "name": "stdout",
     "output_type": "stream",
     "text": [
      "Epoch 11, loss: 0.000, err: 0.022, val_loss: 0.001, val_err: 0.034\n"
     ]
    },
    {
     "name": "stderr",
     "output_type": "stream",
     "text": [
      "100%|████████████████████████████████████████████████████████████████████████████████████████████████████████████████████████| 43/43 [00:00<00:00, 235.13it/s]\n"
     ]
    },
    {
     "name": "stdout",
     "output_type": "stream",
     "text": [
      "Epoch 12, loss: 0.000, err: 0.021, val_loss: 0.001, val_err: 0.035\n"
     ]
    },
    {
     "name": "stderr",
     "output_type": "stream",
     "text": [
      "100%|████████████████████████████████████████████████████████████████████████████████████████████████████████████████████████| 43/43 [00:00<00:00, 230.65it/s]\n"
     ]
    },
    {
     "name": "stdout",
     "output_type": "stream",
     "text": [
      "Epoch 13, loss: 0.000, err: 0.021, val_loss: 0.001, val_err: 0.035\n"
     ]
    },
    {
     "name": "stderr",
     "output_type": "stream",
     "text": [
      "100%|████████████████████████████████████████████████████████████████████████████████████████████████████████████████████████| 43/43 [00:00<00:00, 236.97it/s]\n"
     ]
    },
    {
     "name": "stdout",
     "output_type": "stream",
     "text": [
      "Epoch 14, loss: 0.000, err: 0.021, val_loss: 0.001, val_err: 0.034\n"
     ]
    },
    {
     "name": "stderr",
     "output_type": "stream",
     "text": [
      "100%|████████████████████████████████████████████████████████████████████████████████████████████████████████████████████████| 43/43 [00:00<00:00, 239.50it/s]\n"
     ]
    },
    {
     "name": "stdout",
     "output_type": "stream",
     "text": [
      "Epoch 15, loss: 0.000, err: 0.021, val_loss: 0.001, val_err: 0.034\n"
     ]
    },
    {
     "name": "stderr",
     "output_type": "stream",
     "text": [
      "100%|████████████████████████████████████████████████████████████████████████████████████████████████████████████████████████| 43/43 [00:00<00:00, 230.66it/s]\n"
     ]
    },
    {
     "name": "stdout",
     "output_type": "stream",
     "text": [
      "Epoch 16, loss: 0.000, err: 0.021, val_loss: 0.001, val_err: 0.035\n"
     ]
    },
    {
     "name": "stderr",
     "output_type": "stream",
     "text": [
      "100%|████████████████████████████████████████████████████████████████████████████████████████████████████████████████████████| 43/43 [00:00<00:00, 240.04it/s]\n"
     ]
    },
    {
     "name": "stdout",
     "output_type": "stream",
     "text": [
      "Epoch 17, loss: 0.000, err: 0.021, val_loss: 0.001, val_err: 0.034\n"
     ]
    },
    {
     "name": "stderr",
     "output_type": "stream",
     "text": [
      "100%|████████████████████████████████████████████████████████████████████████████████████████████████████████████████████████| 43/43 [00:00<00:00, 240.36it/s]\n"
     ]
    },
    {
     "name": "stdout",
     "output_type": "stream",
     "text": [
      "Epoch 18, loss: 0.000, err: 0.021, val_loss: 0.001, val_err: 0.035\n"
     ]
    },
    {
     "name": "stderr",
     "output_type": "stream",
     "text": [
      "100%|████████████████████████████████████████████████████████████████████████████████████████████████████████████████████████| 43/43 [00:00<00:00, 239.07it/s]\n"
     ]
    },
    {
     "name": "stdout",
     "output_type": "stream",
     "text": [
      "Epoch 19, loss: 0.000, err: 0.021, val_loss: 0.001, val_err: 0.034\n"
     ]
    },
    {
     "name": "stderr",
     "output_type": "stream",
     "text": [
      "100%|████████████████████████████████████████████████████████████████████████████████████████████████████████████████████████| 43/43 [00:00<00:00, 239.57it/s]\n"
     ]
    },
    {
     "name": "stdout",
     "output_type": "stream",
     "text": [
      "Epoch 20, loss: 0.000, err: 0.021, val_loss: 0.001, val_err: 0.034\n"
     ]
    },
    {
     "name": "stderr",
     "output_type": "stream",
     "text": [
      "100%|████████████████████████████████████████████████████████████████████████████████████████████████████████████████████████| 43/43 [00:00<00:00, 240.39it/s]\n"
     ]
    },
    {
     "name": "stdout",
     "output_type": "stream",
     "text": [
      "Epoch 21, loss: 0.000, err: 0.021, val_loss: 0.001, val_err: 0.034\n"
     ]
    },
    {
     "name": "stderr",
     "output_type": "stream",
     "text": [
      "100%|████████████████████████████████████████████████████████████████████████████████████████████████████████████████████████| 43/43 [00:00<00:00, 234.57it/s]\n"
     ]
    },
    {
     "name": "stdout",
     "output_type": "stream",
     "text": [
      "Epoch 22, loss: 0.000, err: 0.021, val_loss: 0.001, val_err: 0.035\n"
     ]
    },
    {
     "name": "stderr",
     "output_type": "stream",
     "text": [
      "100%|████████████████████████████████████████████████████████████████████████████████████████████████████████████████████████| 43/43 [00:00<00:00, 236.07it/s]\n"
     ]
    },
    {
     "name": "stdout",
     "output_type": "stream",
     "text": [
      "Epoch 23, loss: 0.000, err: 0.021, val_loss: 0.001, val_err: 0.034\n"
     ]
    },
    {
     "name": "stderr",
     "output_type": "stream",
     "text": [
      "100%|████████████████████████████████████████████████████████████████████████████████████████████████████████████████████████| 43/43 [00:00<00:00, 238.68it/s]\n"
     ]
    },
    {
     "name": "stdout",
     "output_type": "stream",
     "text": [
      "Epoch 24, loss: 0.000, err: 0.021, val_loss: 0.001, val_err: 0.034\n"
     ]
    },
    {
     "name": "stderr",
     "output_type": "stream",
     "text": [
      "100%|████████████████████████████████████████████████████████████████████████████████████████████████████████████████████████| 43/43 [00:00<00:00, 238.74it/s]\n"
     ]
    },
    {
     "name": "stdout",
     "output_type": "stream",
     "text": [
      "Epoch 25, loss: 0.000, err: 0.021, val_loss: 0.001, val_err: 0.034\n"
     ]
    },
    {
     "name": "stderr",
     "output_type": "stream",
     "text": [
      "100%|████████████████████████████████████████████████████████████████████████████████████████████████████████████████████████| 43/43 [00:00<00:00, 241.00it/s]\n"
     ]
    },
    {
     "name": "stdout",
     "output_type": "stream",
     "text": [
      "Epoch 26, loss: 0.000, err: 0.021, val_loss: 0.001, val_err: 0.034\n"
     ]
    },
    {
     "name": "stderr",
     "output_type": "stream",
     "text": [
      "100%|████████████████████████████████████████████████████████████████████████████████████████████████████████████████████████| 43/43 [00:00<00:00, 239.77it/s]\n"
     ]
    },
    {
     "name": "stdout",
     "output_type": "stream",
     "text": [
      "Epoch 27, loss: 0.000, err: 0.021, val_loss: 0.001, val_err: 0.035\n"
     ]
    },
    {
     "name": "stderr",
     "output_type": "stream",
     "text": [
      "100%|████████████████████████████████████████████████████████████████████████████████████████████████████████████████████████| 43/43 [00:00<00:00, 236.78it/s]\n"
     ]
    },
    {
     "name": "stdout",
     "output_type": "stream",
     "text": [
      "Epoch 28, loss: 0.000, err: 0.021, val_loss: 0.001, val_err: 0.034\n"
     ]
    },
    {
     "name": "stderr",
     "output_type": "stream",
     "text": [
      "100%|████████████████████████████████████████████████████████████████████████████████████████████████████████████████████████| 43/43 [00:00<00:00, 239.85it/s]\n"
     ]
    },
    {
     "name": "stdout",
     "output_type": "stream",
     "text": [
      "Epoch 29, loss: 0.000, err: 0.021, val_loss: 0.001, val_err: 0.034\n"
     ]
    },
    {
     "name": "stderr",
     "output_type": "stream",
     "text": [
      "100%|████████████████████████████████████████████████████████████████████████████████████████████████████████████████████████| 43/43 [00:00<00:00, 239.42it/s]\n"
     ]
    },
    {
     "name": "stdout",
     "output_type": "stream",
     "text": [
      "Epoch 30, loss: 0.000, err: 0.021, val_loss: 0.001, val_err: 0.035\n"
     ]
    },
    {
     "name": "stderr",
     "output_type": "stream",
     "text": [
      "100%|████████████████████████████████████████████████████████████████████████████████████████████████████████████████████████| 43/43 [00:00<00:00, 237.94it/s]\n"
     ]
    },
    {
     "name": "stdout",
     "output_type": "stream",
     "text": [
      "Epoch 31, loss: 0.000, err: 0.021, val_loss: 0.001, val_err: 0.035\n"
     ]
    },
    {
     "name": "stderr",
     "output_type": "stream",
     "text": [
      "100%|████████████████████████████████████████████████████████████████████████████████████████████████████████████████████████| 43/43 [00:00<00:00, 237.23it/s]\n"
     ]
    },
    {
     "name": "stdout",
     "output_type": "stream",
     "text": [
      "Epoch 32, loss: 0.000, err: 0.021, val_loss: 0.001, val_err: 0.035\n"
     ]
    },
    {
     "name": "stderr",
     "output_type": "stream",
     "text": [
      "100%|████████████████████████████████████████████████████████████████████████████████████████████████████████████████████████| 43/43 [00:00<00:00, 236.20it/s]\n"
     ]
    },
    {
     "name": "stdout",
     "output_type": "stream",
     "text": [
      "Epoch 33, loss: 0.000, err: 0.021, val_loss: 0.001, val_err: 0.033\n"
     ]
    },
    {
     "name": "stderr",
     "output_type": "stream",
     "text": [
      "100%|████████████████████████████████████████████████████████████████████████████████████████████████████████████████████████| 43/43 [00:00<00:00, 239.15it/s]\n"
     ]
    },
    {
     "name": "stdout",
     "output_type": "stream",
     "text": [
      "Epoch 34, loss: 0.000, err: 0.021, val_loss: 0.001, val_err: 0.035\n"
     ]
    },
    {
     "name": "stderr",
     "output_type": "stream",
     "text": [
      "100%|████████████████████████████████████████████████████████████████████████████████████████████████████████████████████████| 43/43 [00:00<00:00, 238.13it/s]\n"
     ]
    },
    {
     "name": "stdout",
     "output_type": "stream",
     "text": [
      "Epoch 35, loss: 0.000, err: 0.021, val_loss: 0.001, val_err: 0.035\n"
     ]
    },
    {
     "name": "stderr",
     "output_type": "stream",
     "text": [
      "100%|████████████████████████████████████████████████████████████████████████████████████████████████████████████████████████| 43/43 [00:00<00:00, 239.15it/s]\n"
     ]
    },
    {
     "name": "stdout",
     "output_type": "stream",
     "text": [
      "Epoch 36, loss: 0.000, err: 0.021, val_loss: 0.001, val_err: 0.035\n"
     ]
    },
    {
     "name": "stderr",
     "output_type": "stream",
     "text": [
      "100%|████████████████████████████████████████████████████████████████████████████████████████████████████████████████████████| 43/43 [00:00<00:00, 239.25it/s]\n"
     ]
    },
    {
     "name": "stdout",
     "output_type": "stream",
     "text": [
      "Epoch 37, loss: 0.000, err: 0.021, val_loss: 0.001, val_err: 0.034\n"
     ]
    },
    {
     "name": "stderr",
     "output_type": "stream",
     "text": [
      "100%|████████████████████████████████████████████████████████████████████████████████████████████████████████████████████████| 43/43 [00:00<00:00, 238.50it/s]\n"
     ]
    },
    {
     "name": "stdout",
     "output_type": "stream",
     "text": [
      "Epoch 38, loss: 0.000, err: 0.021, val_loss: 0.001, val_err: 0.034\n"
     ]
    },
    {
     "name": "stderr",
     "output_type": "stream",
     "text": [
      "100%|████████████████████████████████████████████████████████████████████████████████████████████████████████████████████████| 43/43 [00:00<00:00, 238.80it/s]\n"
     ]
    },
    {
     "name": "stdout",
     "output_type": "stream",
     "text": [
      "Epoch 39, loss: 0.001, err: 0.023, val_loss: 0.001, val_err: 0.032\n"
     ]
    },
    {
     "name": "stderr",
     "output_type": "stream",
     "text": [
      "100%|████████████████████████████████████████████████████████████████████████████████████████████████████████████████████████| 10/10 [00:00<00:00, 530.99it/s]"
     ]
    },
    {
     "name": "stdout",
     "output_type": "stream",
     "text": [
      "STATE: [ 0.85506218  0.5963663  -0.02554317 -0.03551913] ACT: [-0.291922   -0.40593293] \n",
      "STATE: [ 0.83776865  0.57231874 -0.04941008 -0.06870732] ACT: [-0.291922   -0.40593293] \n",
      "STATE: [ 0.81267639  0.53741294 -0.07169218 -0.09973086] ACT: [-0.29171012 -0.40608522] \n",
      "STATE: [ 0.78029723  0.49236144 -0.09251188 -0.12871858] ACT: [-0.29170854 -0.40608635] \n",
      "STATE: [ 0.74125177  0.43772899 -0.11155846 -0.15609271] ACT: [-0.28705911 -0.40938621] \n",
      "STATE: [ 0.69613393  0.37403608 -0.12890811 -0.18197973] ACT: [-0.28195056 -0.41292116] \n",
      "STATE: [ 0.64545406  0.30180166 -0.14479963 -0.20638405] ACT: [-0.27829848 -0.41539133] \n",
      "STATE: [ 0.58961813  0.22155892 -0.15953124 -0.22926497] ACT: [-0.27696105 -0.41628425] \n",
      "STATE: [ 0.52870149  0.13401236 -0.17404754 -0.25013304] ACT: [-0.28554898 -0.41044096] \n",
      "STATE: [ 0.46260291  0.03995511 -0.18885307 -0.268735  ] ACT: [-0.29974171 -0.40019359] \n",
      "STATE: [ 0.39114035 -0.05977656 -0.20417875 -0.28494761] ACT: [-0.31679041 -0.38683826] \n",
      "final state  [ 0.39114035 -0.05977656]\n",
      "STATE: [ 0.82922955  0.84097732 -0.02536549 -0.03564624] ACT: [-0.2898913  -0.40738561] \n",
      "STATE: [ 0.81205496  0.81684467 -0.04907026 -0.06895043] ACT: [-0.28993576 -0.40735397] \n",
      "STATE: [ 0.78714219  0.78181054 -0.07117933 -0.10009752] ACT: [-0.28947781 -0.40767953] \n",
      "STATE: [ 0.75498339  0.73660149 -0.0918823  -0.12916872] ACT: [-0.2899899  -0.40731543] \n",
      "STATE: [ 0.71601079  0.68191617 -0.11135029 -0.15624377] ACT: [-0.29140298 -0.40630568] \n",
      "STATE: [ 0.67070736  0.61835086 -0.12943837 -0.18161518] ACT: [-0.29023364 -0.40714178] \n",
      "STATE: [ 0.62006549  0.54734045 -0.14469104 -0.20288688] ACT: [-0.27139507 -0.37931662] \n",
      "STATE: [ 0.56814775  0.47076495 -0.14833642 -0.21878713] ACT: [-0.15017971 -0.3338823 ] \n",
      "STATE: [ 0.52289435  0.39663382 -0.12929542 -0.21180324] ACT: [ 0.10635906 -0.08427441] \n",
      "STATE: [ 0.47268082  0.31426832 -0.14346722 -0.23533   ] ACT: [-0.25893493 -0.42772971] \n",
      "STATE: [ 0.41704445  0.22471968 -0.15896106 -0.25585326] ACT: [-0.28467291 -0.41104906] \n",
      "STATE: [ 0.35612382  0.12861258 -0.17405895 -0.2745917 ] ACT: [-0.29176813 -0.40604354] \n",
      "STATE: [ 0.28987679  0.02666633 -0.18927722 -0.29127502] ACT: [-0.30446726 -0.39661025] \n",
      "STATE: [ 0.21388423 -0.07457803 -0.21712161 -0.28926959] ACT: [-0.46017957 -0.19553713] \n",
      "final state  [ 0.21388423 -0.07457803]\n",
      "STATE: [ 0.8360798   0.8783     -0.02524418 -0.03573225] ACT: [-0.28850494 -0.40836858] \n",
      "STATE: [ 0.81895919  0.85412905 -0.04891602 -0.06905986] ACT: [-0.28946843 -0.40768619] \n",
      "STATE: [ 0.7940842   0.81906813 -0.0710714  -0.10017405] ACT: [-0.2898913  -0.40738561] \n",
      "STATE: [ 0.76197638  0.7738229  -0.09173664 -0.12927209] ACT: [-0.28947781 -0.40767953] \n",
      "STATE: [ 0.72306455  0.71909437 -0.11117665 -0.15636725] ACT: [-0.29097398 -0.40661301] \n",
      "STATE: [ 0.67783158  0.65547894 -0.12923708 -0.18175836] ACT: [-0.28978737 -0.40745954] \n",
      "STATE: [ 0.62666753  0.58357746 -0.14618298 -0.20543279] ACT: [-0.29059526 -0.40688376] \n",
      "STATE: [ 0.57412631  0.50703886 -0.15011778 -0.21868174] ACT: [-0.15460636 -0.30549114] \n",
      "STATE: [ 0.52863433  0.43915582 -0.12997708 -0.19395153] ACT: [0.117591   0.11861965] \n",
      "STATE: [ 0.48472088  0.36047988 -0.12546701 -0.22478841] ACT: [-0.04593908 -0.49788513] \n",
      "STATE: [ 0.43513282  0.27426821 -0.14168016 -0.24631904] ACT: [-0.27939338 -0.41465569] \n",
      "STATE: [ 0.37995179  0.18121619 -0.15766009 -0.26586291] ACT: [-0.28888789 -0.40809776] \n",
      "STATE: [ 0.31918697  0.08203389 -0.17361378 -0.283378  ] ACT: [-0.30057296 -0.39956964] \n",
      "STATE: [ 0.25251062 -0.02232196 -0.19050386 -0.29815956] ACT: [-0.32323983 -0.38146561] \n",
      "final state  [ 0.25251062 -0.02232196]\n",
      "STATE: [ 0.75351286  0.72368003 -0.02542064 -0.03560693] ACT: [-0.29052158 -0.40693638] \n",
      "STATE: [ 0.73631014  0.69956742 -0.04915061 -0.06889317] ACT: [-0.29026512 -0.40711934] \n",
      "STATE: [ 0.71133646  0.66457669 -0.07135338 -0.09997353] ACT: [-0.29060891 -0.40687401] \n",
      "STATE: [ 0.679119    0.61940942 -0.0920499  -0.12904933] ACT: [-0.29004667 -0.407275  ] \n",
      "STATE: [ 0.64014414  0.56472562 -0.11135672 -0.15623943] ACT: [-0.28968684 -0.40753102] \n",
      "STATE: [ 0.5989922   0.50427478 -0.11757699 -0.1727167 ] ACT: [-0.15460636 -0.30549114] \n",
      "STATE: [ 0.554169    0.43598396 -0.12806627 -0.19511661] ACT: [-0.20806017 -0.38553649] \n",
      "STATE: [ 0.51088045  0.356927   -0.12368159 -0.22587703] ACT: [-0.04593908 -0.49788513] \n",
      "STATE: [ 0.46194342  0.27031434 -0.13982007 -0.24746474] ACT: [-0.277201   -0.41612451] \n",
      "STATE: [ 0.40734698  0.17690447 -0.15598982 -0.26688536] ACT: [-0.28966221 -0.40754853] \n",
      "STATE: [ 0.34724667  0.07729971 -0.17171518 -0.28458503] ACT: [-0.29671077 -0.40244592] \n",
      "STATE: [ 0.28134263 -0.02757751 -0.18829725 -0.29964919] ACT: [-0.31829571 -0.38560062] \n",
      "final state  [ 0.28134263 -0.02757751]\n",
      "STATE: [ 0.61198197  0.59129504 -0.02386153 -0.03596129] ACT: [-0.27270316 -0.4109862 ] \n",
      "STATE: [ 0.59837444  0.57117964 -0.03887866 -0.05747259] ACT: [-0.18952053 -0.27281441] \n",
      "STATE: [ 0.58181669  0.54408159 -0.04730784 -0.077423  ] ACT: [-0.1254925  -0.27110905] \n",
      "STATE: [ 0.55732478  0.50638855 -0.06997689 -0.10769438] ACT: [-0.29455574 -0.40402589] \n",
      "STATE: [ 0.53804138  0.47480185 -0.05509545 -0.09024772] ACT: [0.117591   0.11861965] \n",
      "STATE: [ 0.51110844  0.43283832 -0.07695124 -0.11989582] ACT: [-0.29110208 -0.40652132] \n",
      "STATE: [ 0.48203233  0.38064688 -0.0830746  -0.1491184 ] ACT: [-0.12769467 -0.42389413] \n",
      "STATE: [ 0.44630792  0.31918167 -0.10206975 -0.17561487] ACT: [-0.27939338 -0.41465569] \n",
      "STATE: [ 0.40415573  0.24919937 -0.12043483 -0.19994943] ACT: [-0.28643902 -0.40982031] \n",
      "STATE: [ 0.35585926  0.17135674 -0.13798992 -0.22240753] ACT: [-0.29095569 -0.4066261 ] \n",
      "STATE: [ 0.30154229  0.08637436 -0.15519134 -0.24280678] ACT: [-0.30008006 -0.39993994] \n",
      "STATE: [ 0.24089065 -0.00471343 -0.17329039 -0.26025083] ACT: [-0.32323983 -0.38146561] \n",
      "final state  [ 0.24089065 -0.00471343]\n",
      "STATE: [ 0.75790098  0.59154863 -0.02551431 -0.03553987] ACT: [-0.2915921  -0.40616997] \n",
      "STATE: [ 0.74062699  0.56748702 -0.04935424 -0.06874744] ACT: [-0.2915921  -0.40616997] \n",
      "STATE: [ 0.71567284  0.53248288 -0.07129759 -0.10001183] ACT: [-0.28779686 -0.40886791] \n",
      "STATE: [ 0.68366558  0.48716858 -0.0914493  -0.12946943] ACT: [-0.28377845 -0.41166709] \n",
      "STATE: [ 0.64593914  0.43166271 -0.10778982 -0.15858819] ACT: [-0.2553357  -0.42988799] \n",
      "STATE: [ 0.6042342   0.36592764 -0.11915697 -0.18781449] ACT: [-0.21075269 -0.4529559 ] \n",
      "STATE: [ 0.5574686   0.29132802 -0.13361602 -0.21314179] ACT: [-0.25461405 -0.43031579] \n",
      "STATE: [ 0.50519896  0.20893636 -0.14934182 -0.23540473] ACT: [-0.27993542 -0.41428995] \n",
      "STATE: [ 0.44746393  0.11948806 -0.16495723 -0.25556656] ACT: [-0.29046823 -0.40697446] \n",
      "STATE: [ 0.38415435  0.02379374 -0.1808845  -0.27341236] ACT: [-0.30574387 -0.39562695] \n",
      "STATE: [ 0.31452174 -0.07678712 -0.1989503  -0.28737387] ACT: [-0.34212966 -0.36461938] \n",
      "final state  [ 0.31452174 -0.07678712]\n",
      "STATE: [ 0.61420199  0.65345564 -0.02551695 -0.03553798] ACT: [-0.29162228 -0.40614831] \n",
      "STATE: [ 0.59830113  0.63158066 -0.04543103 -0.06249993] ACT: [-0.24672715 -0.33479014] \n",
      "STATE: [ 0.57933121  0.60521311 -0.05419976 -0.07533587] ACT: [-0.13428737 -0.19357131] \n",
      "STATE: [ 0.55382841  0.57014197 -0.07286515 -0.10020324] ACT: [-0.25396859 -0.34070041] \n",
      "STATE: [ 0.52975241  0.53866774 -0.06878856 -0.08992639] ACT: [-0.0080593  0.0422972] \n",
      "STATE: [ 0.51042297  0.51427608 -0.05522698 -0.06969046] ACT: [0.10339815 0.16382299] \n",
      "STATE: [ 0.48327621  0.47915951 -0.07756217 -0.10033306] ACT: [-0.29667956 -0.40246893] \n",
      "STATE: [ 0.46700343  0.45866816 -0.04649367 -0.0585467 ] ACT: [0.29689693 0.40230861] \n",
      "STATE: [ 0.46186496  0.45106019 -0.01468134 -0.02173706] ACT: [0.32869923 0.37677157] \n",
      "STATE: [0.46713012 0.45549012 0.01504331 0.01265695] ACT: [0.32869923 0.37677157] \n",
      "STATE: [0.48211616 0.47116797 0.04281727 0.04479385] ACT: [0.32869923 0.37677157] \n",
      "STATE: [0.48866978 0.47243841 0.01872464 0.00362982] ACT: [-0.24323146 -0.43685061] \n",
      "STATE: [0.50388579 0.48594618 0.04347431 0.03859362] ACT: [0.29689693 0.40230861] \n",
      "STATE: [0.52744665 0.51069901 0.06731673 0.07072238] ACT: [0.30509053 0.396131  ] \n",
      "STATE: [0.54037551 0.52150182 0.03693961 0.03086519] ACT: [-0.29667956 -0.40246893] \n",
      "STATE: [0.55160736 0.53050153 0.03209098 0.02571345] ACT: [-0.02770822 -0.03572817] \n",
      "STATE: [0.56526868 0.54392771 0.03903235 0.03836051] ACT: [0.10339815 0.16382299] \n",
      "STATE: [5.69012704e-01 5.44099504e-01 1.06972219e-02 4.90839230e-04] ACT: [-0.29455574 -0.40402589] \n",
      "STATE: [ 0.56349026  0.53188673 -0.01577841 -0.03489364] ACT: [-0.29455574 -0.40402589] \n",
      "STATE: [ 0.54930946  0.50810213 -0.04051658 -0.06795601] ACT: [-0.29455574 -0.40402589] \n",
      "STATE: [ 0.53521071  0.48478422 -0.04028215 -0.06662261] ACT: [-0.02770822 -0.03572817] \n",
      "STATE: [ 0.51312218  0.45054682 -0.06311006 -0.09782112] ACT: [-0.29110208 -0.40652132] \n",
      "STATE: [ 0.50221427  0.4303791  -0.03116547 -0.05762208] ACT: [0.31774846 0.3860517 ] \n",
      "STATE: [ 0.48811153  0.39855312 -0.04029352 -0.09093137] ACT: [-0.12769467 -0.42389413] \n",
      "STATE: [ 0.4664386   0.35607618 -0.06192266 -0.12136269] ACT: [-0.2774103  -0.41598501] \n",
      "STATE: [ 0.43746931  0.30379878 -0.08276941 -0.14936398] ACT: [-0.28469054 -0.41103686] \n",
      "STATE: [ 0.40159246  0.24242691 -0.10250527 -0.1753482 ] ACT: [-0.28762977 -0.40898547] \n",
      "STATE: [ 0.35910257  0.17267059 -0.1213997  -0.19930377] ACT: [-0.29281525 -0.40528907] \n",
      "STATE: [ 0.31019603  0.09525521 -0.13973298 -0.2211868 ] ACT: [-0.30057296 -0.39956964] \n",
      "STATE: [ 0.25459976  0.01123783 -0.15884649 -0.24004966] ACT: [-0.32323983 -0.38146561] \n",
      "STATE: [ 0.18870288 -0.06094966 -0.18827678 -0.20624997] ACT: [-0.4554811   0.20624492] \n",
      "final state  [ 0.18870288 -0.06094966]\n",
      "STATE: [ 0.66458015  0.82630151 -0.02525265 -0.03572627] ACT: [-0.28860174 -0.40830018] \n",
      "STATE: [ 0.6474434   0.80214202 -0.04896214 -0.06902712] ACT: [-0.28990502 -0.40737584] \n",
      "STATE: [ 0.6225394   0.76710173 -0.07115429 -0.10011509] ACT: [-0.29034624 -0.4070615 ] \n",
      "STATE: [ 0.59038469  0.72188985 -0.09187061 -0.12917681] ACT: [-0.29012359 -0.40722021] \n",
      "STATE: [ 0.55132978  0.66726411 -0.11158544 -0.15607354] ACT: [-0.2942154  -0.40427379] \n",
      "STATE: [ 0.50485365  0.6051278  -0.13278895 -0.17753232] ACT: [-0.32601488 -0.36229843] \n",
      "STATE: [ 0.4597053   0.54677608 -0.12899528 -0.16671921] ACT: [-0.05623551 -0.00957075] \n",
      "STATE: [ 0.40828954  0.48003589 -0.14690218 -0.19068626] ACT: [-0.30139674 -0.39894863] \n",
      "COLLIDED\n",
      "STATE: [ 0.35107103  0.40541758 -0.16348146 -0.21319516] ACT: [-0.29965404 -0.40025923] \n",
      "STATE: [ 0.28869885  0.32324183 -0.17820621 -0.23478787] ACT: [-0.29089401 -0.40667023] \n",
      "STATE: [ 0.22153584  0.23398701 -0.19189432 -0.25501377] ACT: [-0.29009017 -0.40724402] \n",
      "STATE: [ 0.14984482  0.13815458 -0.20483149 -0.27380692] ACT: [-0.29177413 -0.40603923] \n",
      "STATE: [ 0.07573371  0.0350572  -0.21174601 -0.29456394] ACT: [-0.23264674 -0.44257824] \n",
      "STATE: [ 0.01549573 -0.04889297 -0.17210853 -0.23985763] ACT: [0.29419035 0.40429202] \n",
      "final state  [ 0.01549573 -0.04889297]\n",
      "STATE: [ 0.86887967  0.79039179 -0.02547644 -0.03556703] ACT: [-0.29115933 -0.40648031] \n",
      "STATE: [ 0.85164499  0.76630202 -0.04924194 -0.06882791] ACT: [-0.29071306 -0.4067996 ] \n",
      "STATE: [ 0.82664142  0.73133264 -0.07143878 -0.09991251] ACT: [-0.29060962 -0.4068735 ] \n",
      "STATE: [ 0.79440281  0.68618051 -0.09211033 -0.1290061 ] ACT: [-0.2898253  -0.40743256] \n",
      "STATE: [ 0.75536854  0.63153913 -0.11152649 -0.15611822] ACT: [-0.29098174 -0.40660746] \n",
      "STATE: [ 0.71006923  0.56797109 -0.12942659 -0.18162298] ACT: [-0.28821741 -0.40857157] \n",
      "STATE: [ 0.65904765  0.49597038 -0.14577596 -0.20571631] ACT: [-0.2839199  -0.41156954] \n",
      "STATE: [ 0.60718605  0.4176372  -0.148176   -0.22380908] ACT: [-0.13676099 -0.36106183] \n",
      "STATE: [ 0.56006974  0.33034213 -0.13461803 -0.2494145 ] ACT: [ 0.04381625 -0.46049018] \n",
      "STATE: [ 0.50776028  0.23589834 -0.14945561 -0.2698394 ] ACT: [-0.27053585 -0.42048823] \n",
      "STATE: [ 0.45003191  0.13515763 -0.16493818 -0.2878306 ] ACT: [-0.28903542 -0.40799329] \n",
      "STATE: [ 0.38681451  0.02884602 -0.18062115 -0.30374745] ACT: [-0.30293761 -0.39777984] \n",
      "STATE: [ 0.31765567 -0.08200683 -0.19759669 -0.31672243] ACT: [-0.32947195 -0.37609605] \n",
      "final state  [ 0.31765567 -0.08200683]\n",
      "STATE: [ 0.74634443  0.78847213 -0.025337   -0.03566649] ACT: [-0.28956574 -0.40761708] \n",
      "STATE: [ 0.72919049  0.7643248  -0.04901126 -0.06899237] ACT: [-0.28956574 -0.40761708] \n",
      "STATE: [ 0.70430602  0.72927056 -0.0710985  -0.10015495] ACT: [-0.28918397 -0.40788801] \n",
      "STATE: [ 0.67215301  0.68405745 -0.09186573 -0.12918034] ACT: [-0.29066367 -0.40683489] \n",
      "STATE: [ 0.63319615  0.62936094 -0.11130533 -0.15627574] ACT: [-0.29106613 -0.40654705] \n",
      "STATE: [ 0.58800243  0.56571798 -0.12912492 -0.181837  ] ACT: [-0.28713142 -0.40933549] \n",
      "STATE: [ 0.54193134  0.49794889 -0.13163169 -0.19362599] ACT: [-0.1254925  -0.27110905] \n",
      "STATE: [ 0.48996866  0.42217742 -0.14846479 -0.2164899 ] ACT: [-0.29110208 -0.40652132] \n",
      "STATE: [ 0.43382323  0.33808101 -0.16041551 -0.24027545] ACT: [-0.24792824 -0.43420224] \n",
      "STATE: [ 0.3725993   0.2469463  -0.17492552 -0.2603849 ] ACT: [-0.28614037 -0.41002889] \n",
      "STATE: [ 0.30645395  0.14935998 -0.18898672 -0.27881806] ACT: [-0.29189353 -0.4059534 ] \n",
      "STATE: [ 0.235341    0.04601936 -0.20317986 -0.2952589 ] ACT: [-0.30394734 -0.39700883] \n",
      "STATE: [ 0.15435884 -0.05535383 -0.2313776  -0.28963768] ACT: [-0.47464475 -0.15720167] \n",
      "final state  [ 0.15435884 -0.05535383]\n"
     ]
    },
    {
     "name": "stderr",
     "output_type": "stream",
     "text": [
      "\n"
     ]
    },
    {
     "name": "stdout",
     "output_type": "stream",
     "text": [
      "After 6 REWARD:  (0.8195898138934783, array([ 0.23705033, -0.05129579, -0.19617018, -0.27721184]), -0.32117604457957033)\n",
      "UPDATING THE ACTION MATRIX\n"
     ]
    },
    {
     "name": "stderr",
     "output_type": "stream",
     "text": [
      "100%|█████████████████████████████████████████████████████████████████████████████████████████████████████████████████████████| 25/25 [00:03<00:00,  7.04it/s]\n",
      "Generating Dynamics Dataset: 100%|██████████████████████████████████████████████████████████████████████████████████████████| 15/15 [00:00<00:00, 1743.56it/s]\n"
     ]
    },
    {
     "name": "stdout",
     "output_type": "stream",
     "text": [
      "COLLIDED\n",
      "COLLIDED\n",
      "COLLIDED\n",
      "COLLIDED\n"
     ]
    },
    {
     "name": "stderr",
     "output_type": "stream",
     "text": [
      "100%|████████████████████████████████████████████████████████████████████████████████████████████████████████████████████████| 47/47 [00:00<00:00, 234.78it/s]\n"
     ]
    },
    {
     "name": "stdout",
     "output_type": "stream",
     "text": [
      "Epoch 1, loss: 0.000, err: 0.021, val_loss: 0.001, val_err: 0.032\n"
     ]
    },
    {
     "name": "stderr",
     "output_type": "stream",
     "text": [
      "100%|████████████████████████████████████████████████████████████████████████████████████████████████████████████████████████| 47/47 [00:00<00:00, 240.53it/s]\n"
     ]
    },
    {
     "name": "stdout",
     "output_type": "stream",
     "text": [
      "Epoch 2, loss: 0.000, err: 0.021, val_loss: 0.001, val_err: 0.032\n"
     ]
    },
    {
     "name": "stderr",
     "output_type": "stream",
     "text": [
      "100%|████████████████████████████████████████████████████████████████████████████████████████████████████████████████████████| 47/47 [00:00<00:00, 240.84it/s]\n"
     ]
    },
    {
     "name": "stdout",
     "output_type": "stream",
     "text": [
      "Epoch 3, loss: 0.000, err: 0.021, val_loss: 0.001, val_err: 0.032\n"
     ]
    },
    {
     "name": "stderr",
     "output_type": "stream",
     "text": [
      "100%|████████████████████████████████████████████████████████████████████████████████████████████████████████████████████████| 47/47 [00:00<00:00, 240.58it/s]\n"
     ]
    },
    {
     "name": "stdout",
     "output_type": "stream",
     "text": [
      "Epoch 4, loss: 0.000, err: 0.021, val_loss: 0.001, val_err: 0.032\n"
     ]
    },
    {
     "name": "stderr",
     "output_type": "stream",
     "text": [
      "100%|████████████████████████████████████████████████████████████████████████████████████████████████████████████████████████| 47/47 [00:00<00:00, 239.06it/s]\n"
     ]
    },
    {
     "name": "stdout",
     "output_type": "stream",
     "text": [
      "Epoch 5, loss: 0.000, err: 0.021, val_loss: 0.001, val_err: 0.032\n"
     ]
    },
    {
     "name": "stderr",
     "output_type": "stream",
     "text": [
      "100%|████████████████████████████████████████████████████████████████████████████████████████████████████████████████████████| 47/47 [00:00<00:00, 240.25it/s]\n"
     ]
    },
    {
     "name": "stdout",
     "output_type": "stream",
     "text": [
      "Epoch 6, loss: 0.000, err: 0.021, val_loss: 0.001, val_err: 0.033\n"
     ]
    },
    {
     "name": "stderr",
     "output_type": "stream",
     "text": [
      "100%|████████████████████████████████████████████████████████████████████████████████████████████████████████████████████████| 47/47 [00:00<00:00, 239.78it/s]\n"
     ]
    },
    {
     "name": "stdout",
     "output_type": "stream",
     "text": [
      "Epoch 7, loss: 0.000, err: 0.021, val_loss: 0.001, val_err: 0.033\n"
     ]
    },
    {
     "name": "stderr",
     "output_type": "stream",
     "text": [
      "100%|████████████████████████████████████████████████████████████████████████████████████████████████████████████████████████| 47/47 [00:00<00:00, 240.21it/s]\n"
     ]
    },
    {
     "name": "stdout",
     "output_type": "stream",
     "text": [
      "Epoch 8, loss: 0.000, err: 0.021, val_loss: 0.001, val_err: 0.031\n"
     ]
    },
    {
     "name": "stderr",
     "output_type": "stream",
     "text": [
      "100%|████████████████████████████████████████████████████████████████████████████████████████████████████████████████████████| 47/47 [00:00<00:00, 239.88it/s]\n"
     ]
    },
    {
     "name": "stdout",
     "output_type": "stream",
     "text": [
      "Epoch 9, loss: 0.000, err: 0.021, val_loss: 0.001, val_err: 0.032\n"
     ]
    },
    {
     "name": "stderr",
     "output_type": "stream",
     "text": [
      "100%|████████████████████████████████████████████████████████████████████████████████████████████████████████████████████████| 47/47 [00:00<00:00, 241.02it/s]\n"
     ]
    },
    {
     "name": "stdout",
     "output_type": "stream",
     "text": [
      "Epoch 10, loss: 0.000, err: 0.021, val_loss: 0.001, val_err: 0.032\n"
     ]
    },
    {
     "name": "stderr",
     "output_type": "stream",
     "text": [
      "100%|████████████████████████████████████████████████████████████████████████████████████████████████████████████████████████| 47/47 [00:00<00:00, 240.20it/s]\n"
     ]
    },
    {
     "name": "stdout",
     "output_type": "stream",
     "text": [
      "Epoch 11, loss: 0.000, err: 0.021, val_loss: 0.001, val_err: 0.033\n"
     ]
    },
    {
     "name": "stderr",
     "output_type": "stream",
     "text": [
      "100%|████████████████████████████████████████████████████████████████████████████████████████████████████████████████████████| 47/47 [00:00<00:00, 238.37it/s]\n"
     ]
    },
    {
     "name": "stdout",
     "output_type": "stream",
     "text": [
      "Epoch 12, loss: 0.000, err: 0.021, val_loss: 0.001, val_err: 0.033\n"
     ]
    },
    {
     "name": "stderr",
     "output_type": "stream",
     "text": [
      "100%|████████████████████████████████████████████████████████████████████████████████████████████████████████████████████████| 47/47 [00:00<00:00, 239.17it/s]\n"
     ]
    },
    {
     "name": "stdout",
     "output_type": "stream",
     "text": [
      "Epoch 13, loss: 0.000, err: 0.021, val_loss: 0.001, val_err: 0.032\n"
     ]
    },
    {
     "name": "stderr",
     "output_type": "stream",
     "text": [
      "100%|████████████████████████████████████████████████████████████████████████████████████████████████████████████████████████| 47/47 [00:00<00:00, 240.79it/s]\n"
     ]
    },
    {
     "name": "stdout",
     "output_type": "stream",
     "text": [
      "Epoch 14, loss: 0.000, err: 0.021, val_loss: 0.001, val_err: 0.033\n"
     ]
    },
    {
     "name": "stderr",
     "output_type": "stream",
     "text": [
      "100%|████████████████████████████████████████████████████████████████████████████████████████████████████████████████████████| 47/47 [00:00<00:00, 240.49it/s]\n"
     ]
    },
    {
     "name": "stdout",
     "output_type": "stream",
     "text": [
      "Epoch 15, loss: 0.000, err: 0.021, val_loss: 0.001, val_err: 0.032\n"
     ]
    },
    {
     "name": "stderr",
     "output_type": "stream",
     "text": [
      "100%|████████████████████████████████████████████████████████████████████████████████████████████████████████████████████████| 47/47 [00:00<00:00, 238.41it/s]\n"
     ]
    },
    {
     "name": "stdout",
     "output_type": "stream",
     "text": [
      "Epoch 16, loss: 0.000, err: 0.021, val_loss: 0.001, val_err: 0.032\n"
     ]
    },
    {
     "name": "stderr",
     "output_type": "stream",
     "text": [
      "100%|████████████████████████████████████████████████████████████████████████████████████████████████████████████████████████| 47/47 [00:00<00:00, 240.49it/s]\n"
     ]
    },
    {
     "name": "stdout",
     "output_type": "stream",
     "text": [
      "Epoch 17, loss: 0.000, err: 0.020, val_loss: 0.001, val_err: 0.032\n"
     ]
    },
    {
     "name": "stderr",
     "output_type": "stream",
     "text": [
      "100%|████████████████████████████████████████████████████████████████████████████████████████████████████████████████████████| 47/47 [00:00<00:00, 240.08it/s]\n"
     ]
    },
    {
     "name": "stdout",
     "output_type": "stream",
     "text": [
      "Epoch 18, loss: 0.000, err: 0.021, val_loss: 0.001, val_err: 0.032\n"
     ]
    },
    {
     "name": "stderr",
     "output_type": "stream",
     "text": [
      "100%|████████████████████████████████████████████████████████████████████████████████████████████████████████████████████████| 47/47 [00:00<00:00, 238.82it/s]\n"
     ]
    },
    {
     "name": "stdout",
     "output_type": "stream",
     "text": [
      "Epoch 19, loss: 0.000, err: 0.020, val_loss: 0.001, val_err: 0.032\n"
     ]
    },
    {
     "name": "stderr",
     "output_type": "stream",
     "text": [
      "100%|████████████████████████████████████████████████████████████████████████████████████████████████████████████████████████| 47/47 [00:00<00:00, 240.10it/s]\n"
     ]
    },
    {
     "name": "stdout",
     "output_type": "stream",
     "text": [
      "Epoch 20, loss: 0.000, err: 0.020, val_loss: 0.001, val_err: 0.033\n"
     ]
    },
    {
     "name": "stderr",
     "output_type": "stream",
     "text": [
      "100%|████████████████████████████████████████████████████████████████████████████████████████████████████████████████████████| 47/47 [00:00<00:00, 239.85it/s]\n"
     ]
    },
    {
     "name": "stdout",
     "output_type": "stream",
     "text": [
      "Epoch 21, loss: 0.000, err: 0.021, val_loss: 0.001, val_err: 0.032\n"
     ]
    },
    {
     "name": "stderr",
     "output_type": "stream",
     "text": [
      "100%|████████████████████████████████████████████████████████████████████████████████████████████████████████████████████████| 47/47 [00:00<00:00, 238.71it/s]\n"
     ]
    },
    {
     "name": "stdout",
     "output_type": "stream",
     "text": [
      "Epoch 22, loss: 0.000, err: 0.021, val_loss: 0.001, val_err: 0.032\n"
     ]
    },
    {
     "name": "stderr",
     "output_type": "stream",
     "text": [
      "100%|████████████████████████████████████████████████████████████████████████████████████████████████████████████████████████| 47/47 [00:00<00:00, 240.50it/s]\n"
     ]
    },
    {
     "name": "stdout",
     "output_type": "stream",
     "text": [
      "Epoch 23, loss: 0.000, err: 0.020, val_loss: 0.001, val_err: 0.033\n"
     ]
    },
    {
     "name": "stderr",
     "output_type": "stream",
     "text": [
      "100%|████████████████████████████████████████████████████████████████████████████████████████████████████████████████████████| 47/47 [00:00<00:00, 240.44it/s]\n"
     ]
    },
    {
     "name": "stdout",
     "output_type": "stream",
     "text": [
      "Epoch 24, loss: 0.000, err: 0.020, val_loss: 0.001, val_err: 0.032\n"
     ]
    },
    {
     "name": "stderr",
     "output_type": "stream",
     "text": [
      "100%|████████████████████████████████████████████████████████████████████████████████████████████████████████████████████████| 47/47 [00:00<00:00, 239.54it/s]\n"
     ]
    },
    {
     "name": "stdout",
     "output_type": "stream",
     "text": [
      "Epoch 25, loss: 0.000, err: 0.020, val_loss: 0.001, val_err: 0.032\n"
     ]
    },
    {
     "name": "stderr",
     "output_type": "stream",
     "text": [
      "100%|████████████████████████████████████████████████████████████████████████████████████████████████████████████████████████| 47/47 [00:00<00:00, 239.36it/s]\n"
     ]
    },
    {
     "name": "stdout",
     "output_type": "stream",
     "text": [
      "Epoch 26, loss: 0.000, err: 0.020, val_loss: 0.001, val_err: 0.032\n"
     ]
    },
    {
     "name": "stderr",
     "output_type": "stream",
     "text": [
      "100%|████████████████████████████████████████████████████████████████████████████████████████████████████████████████████████| 47/47 [00:00<00:00, 239.24it/s]\n"
     ]
    },
    {
     "name": "stdout",
     "output_type": "stream",
     "text": [
      "Epoch 27, loss: 0.000, err: 0.020, val_loss: 0.001, val_err: 0.032\n"
     ]
    },
    {
     "name": "stderr",
     "output_type": "stream",
     "text": [
      "100%|████████████████████████████████████████████████████████████████████████████████████████████████████████████████████████| 47/47 [00:00<00:00, 241.60it/s]\n"
     ]
    },
    {
     "name": "stdout",
     "output_type": "stream",
     "text": [
      "Epoch 28, loss: 0.000, err: 0.020, val_loss: 0.001, val_err: 0.032\n"
     ]
    },
    {
     "name": "stderr",
     "output_type": "stream",
     "text": [
      "100%|████████████████████████████████████████████████████████████████████████████████████████████████████████████████████████| 47/47 [00:00<00:00, 240.61it/s]\n"
     ]
    },
    {
     "name": "stdout",
     "output_type": "stream",
     "text": [
      "Epoch 29, loss: 0.000, err: 0.020, val_loss: 0.001, val_err: 0.033\n"
     ]
    },
    {
     "name": "stderr",
     "output_type": "stream",
     "text": [
      "100%|████████████████████████████████████████████████████████████████████████████████████████████████████████████████████████| 47/47 [00:00<00:00, 234.77it/s]\n"
     ]
    },
    {
     "name": "stdout",
     "output_type": "stream",
     "text": [
      "Epoch 30, loss: 0.000, err: 0.020, val_loss: 0.001, val_err: 0.032\n"
     ]
    },
    {
     "name": "stderr",
     "output_type": "stream",
     "text": [
      "100%|████████████████████████████████████████████████████████████████████████████████████████████████████████████████████████| 47/47 [00:00<00:00, 173.06it/s]\n"
     ]
    },
    {
     "name": "stdout",
     "output_type": "stream",
     "text": [
      "Epoch 31, loss: 0.000, err: 0.020, val_loss: 0.001, val_err: 0.031\n"
     ]
    },
    {
     "name": "stderr",
     "output_type": "stream",
     "text": [
      "100%|████████████████████████████████████████████████████████████████████████████████████████████████████████████████████████| 47/47 [00:00<00:00, 240.70it/s]\n"
     ]
    },
    {
     "name": "stdout",
     "output_type": "stream",
     "text": [
      "Epoch 32, loss: 0.000, err: 0.020, val_loss: 0.001, val_err: 0.033\n"
     ]
    },
    {
     "name": "stderr",
     "output_type": "stream",
     "text": [
      "100%|████████████████████████████████████████████████████████████████████████████████████████████████████████████████████████| 47/47 [00:00<00:00, 239.08it/s]\n"
     ]
    },
    {
     "name": "stdout",
     "output_type": "stream",
     "text": [
      "Epoch 33, loss: 0.000, err: 0.020, val_loss: 0.001, val_err: 0.032\n"
     ]
    },
    {
     "name": "stderr",
     "output_type": "stream",
     "text": [
      "100%|████████████████████████████████████████████████████████████████████████████████████████████████████████████████████████| 47/47 [00:00<00:00, 239.01it/s]\n"
     ]
    },
    {
     "name": "stdout",
     "output_type": "stream",
     "text": [
      "Epoch 34, loss: 0.000, err: 0.020, val_loss: 0.001, val_err: 0.032\n"
     ]
    },
    {
     "name": "stderr",
     "output_type": "stream",
     "text": [
      "100%|████████████████████████████████████████████████████████████████████████████████████████████████████████████████████████| 47/47 [00:00<00:00, 239.01it/s]\n"
     ]
    },
    {
     "name": "stdout",
     "output_type": "stream",
     "text": [
      "Epoch 35, loss: 0.000, err: 0.020, val_loss: 0.001, val_err: 0.031\n"
     ]
    },
    {
     "name": "stderr",
     "output_type": "stream",
     "text": [
      "100%|████████████████████████████████████████████████████████████████████████████████████████████████████████████████████████| 47/47 [00:00<00:00, 239.65it/s]\n"
     ]
    },
    {
     "name": "stdout",
     "output_type": "stream",
     "text": [
      "Epoch 36, loss: 0.000, err: 0.020, val_loss: 0.001, val_err: 0.032\n"
     ]
    },
    {
     "name": "stderr",
     "output_type": "stream",
     "text": [
      "100%|████████████████████████████████████████████████████████████████████████████████████████████████████████████████████████| 47/47 [00:00<00:00, 239.88it/s]\n"
     ]
    },
    {
     "name": "stdout",
     "output_type": "stream",
     "text": [
      "Epoch 37, loss: 0.000, err: 0.020, val_loss: 0.001, val_err: 0.032\n"
     ]
    },
    {
     "name": "stderr",
     "output_type": "stream",
     "text": [
      "100%|████████████████████████████████████████████████████████████████████████████████████████████████████████████████████████| 47/47 [00:00<00:00, 239.60it/s]\n"
     ]
    },
    {
     "name": "stdout",
     "output_type": "stream",
     "text": [
      "Epoch 38, loss: 0.000, err: 0.020, val_loss: 0.001, val_err: 0.032\n"
     ]
    },
    {
     "name": "stderr",
     "output_type": "stream",
     "text": [
      "100%|████████████████████████████████████████████████████████████████████████████████████████████████████████████████████████| 47/47 [00:00<00:00, 240.25it/s]\n"
     ]
    },
    {
     "name": "stdout",
     "output_type": "stream",
     "text": [
      "Epoch 39, loss: 0.001, err: 0.022, val_loss: 0.001, val_err: 0.031\n"
     ]
    },
    {
     "name": "stderr",
     "output_type": "stream",
     "text": [
      "100%|████████████████████████████████████████████████████████████████████████████████████████████████████████████████████████| 10/10 [00:00<00:00, 525.49it/s]\n"
     ]
    },
    {
     "name": "stdout",
     "output_type": "stream",
     "text": [
      "STATE: [ 0.62643946  0.6740787  -0.02097046 -0.02810837] ACT: [-0.23966237 -0.32123857] \n",
      "STATE: [ 0.61224181  0.65504845 -0.04056473 -0.05437214] ACT: [-0.23966237 -0.32123857] \n",
      "STATE: [ 0.59231995  0.62866569 -0.05691959 -0.07537934] ACT: [-0.21733629 -0.28086137] \n",
      "STATE: [ 0.57005316  0.59947177 -0.06361939 -0.0834112 ] ACT: [-0.11925885 -0.14832726] \n",
      "STATE: [ 0.54558001  0.56819039 -0.06992329 -0.08937537] ACT: [-0.11975906 -0.13072026] \n",
      "STATE: [ 0.52294714  0.5410763  -0.06466535 -0.07746882] ACT: [0.0076483  0.06904328] \n",
      "STATE: [ 0.51049817  0.52834342 -0.03556847 -0.03637965] ACT: [0.2840367  0.41148895] \n",
      "STATE: [ 0.50403142  0.52359561 -0.01847644 -0.01356518] ACT: [0.16866112 0.23345197] \n",
      "STATE: [ 0.50315429  0.52630884 -0.00250608  0.00775208] ACT: [0.16866112 0.23345197] \n",
      "STATE: [0.50749997 0.53599348 0.01241623 0.0276704 ] ACT: [0.16866112 0.23345197] \n",
      "STATE: [0.52025909 0.55764441 0.03645463 0.06185981] ACT: [0.2840367  0.41148895] \n",
      "STATE: [0.5327755  0.57990955 0.03576119 0.06361469] ACT: [0.01941593 0.06645061] \n",
      "STATE: [0.54470476 0.60282799 0.03408358 0.06548126] ACT: [0.0076483  0.06904328] \n",
      "STATE: [0.55347842 0.62269414 0.02506761 0.05676042] ACT: [-0.07747703 -0.05055578] \n",
      "STATE: [5.53505838e-01 6.32825766e-01 7.83302962e-05 2.89475098e-02] ACT: [-0.26679105 -0.27529153] \n",
      "STATE: [ 0.54536098  0.6338617  -0.02327103  0.00295982] ACT: [-0.26679105 -0.27529153] \n",
      "STATE: [ 0.52958015  0.62639885 -0.04508808 -0.02132243] ACT: [-0.26679105 -0.27529153] \n",
      "STATE: [ 0.50666446  0.61099495 -0.0654734  -0.04401115] ACT: [-0.26679105 -0.27529153] \n",
      "STATE: [ 0.48085882  0.59121224 -0.07373041 -0.05652202] ACT: [-0.14347095 -0.17598969] \n",
      "STATE: [ 0.45642907  0.57355392 -0.06979928 -0.05045237] ACT: [-0.01037056  0.02697592] \n",
      "STATE: [ 0.43671031  0.56366169 -0.0563393  -0.02826349] ACT: [0.10147884 0.21574786] \n",
      "STATE: [ 0.40681707  0.54427244 -0.08540926 -0.05539786] ACT: [-0.37448262 -0.33130464] \n",
      "STATE: [ 0.37364216  0.53475675 -0.09478547 -0.02718769] ACT: [-0.17121354  0.28085347] \n",
      "STATE: [ 0.3323708   0.51451093 -0.11791817 -0.0578452 ] ACT: [-0.33546291 -0.37076224] \n",
      "STATE: [ 0.28438029  0.48352753 -0.13711573 -0.08852399] ACT: [-0.30783931 -0.39399868] \n",
      "STATE: [ 0.23032339  0.44234867 -0.15444828 -0.11765388] ACT: [-0.30092308 -0.39930602] \n",
      "STATE: [ 0.17078389  0.39150568 -0.17011285 -0.14526569] ACT: [-0.29485988 -0.40380398] \n",
      "STATE: [ 0.10622802  0.33155574 -0.18444534 -0.17128554] ACT: [-0.2913845  -0.40631893] \n",
      "STATE: [ 0.03711898  0.26300149 -0.19745442 -0.19586928] ACT: [-0.28700918 -0.40942121] \n",
      "STATE: [-0.03320765  0.18475537 -0.20093322 -0.22356035] ACT: [-0.18784851 -0.46337127] \n",
      "final state  [-0.03320765  0.18475537]\n",
      "STATE: [ 0.73421748  0.60415821 -0.02578222 -0.035346  ] ACT: [-0.29465398 -0.40395424] \n",
      "STATE: [ 0.71675344  0.58023419 -0.04989725 -0.06835434] ACT: [-0.29493695 -0.40374769] \n",
      "STATE: [ 0.69159285  0.54537897 -0.07188742 -0.09958634] ACT: [-0.28873923 -0.40820296] \n",
      "STATE: [ 0.65990283  0.49986699 -0.0905429  -0.13003425] ACT: [-0.26712098 -0.4226658 ] \n",
      "STATE: [ 0.62806734  0.44678441 -0.09095855 -0.15166449] ACT: [-0.07265744 -0.3447285 ] \n",
      "STATE: [ 0.59583723  0.38388898 -0.09208603 -0.17970122] ACT: [-0.08110443 -0.43416812] \n",
      "STATE: [ 0.55775326  0.31204558 -0.10881133 -0.20526687] ACT: [-0.26021082 -0.42695472] \n",
      "STATE: [ 0.51350422  0.23229146 -0.12642585 -0.22786892] ACT: [-0.28291732 -0.41225937] \n",
      "STATE: [ 0.46315932  0.14538257 -0.14384256 -0.24831112] ACT: [-0.29386748 -0.40452676] \n",
      "STATE: [ 0.40676793  0.05205094 -0.16111826 -0.2666618 ] ACT: [-0.30531844 -0.39595537] \n",
      "STATE: [ 0.34415306 -0.046817   -0.17889964 -0.28247982] ACT: [-0.32405453 -0.38077377] \n",
      "final state  [ 0.34415306 -0.046817  ]\n",
      "STATE: [ 0.87547519  0.59361186 -0.02594424 -0.03522725] ACT: [-0.29650557 -0.40259713] \n",
      "STATE: [ 0.85791013  0.56976191 -0.05018588 -0.06814271] ACT: [-0.29650557 -0.40259713] \n",
      "STATE: [ 0.83241184  0.5351516  -0.07285225 -0.09888662] ACT: [-0.29668357 -0.40246597] \n",
      "STATE: [ 0.79952412  0.49047001 -0.09396492 -0.12766167] ACT: [-0.29592681 -0.40302273] \n",
      "STATE: [ 0.75970193  0.43640015 -0.1137777  -0.15448533] ACT: [-0.29690547 -0.4023023 ] \n",
      "STATE: [ 0.71358988  0.37342045 -0.1317487  -0.179942  ] ACT: [-0.2907162  -0.40679736] \n",
      "STATE: [ 0.66172102  0.30203055 -0.14819676 -0.20397114] ACT: [-0.28678929 -0.40957527] \n",
      "STATE: [ 0.60464733  0.22266217 -0.16306767 -0.22676679] ACT: [-0.28110089 -0.41350005] \n",
      "STATE: [ 0.54243367  0.13603152 -0.17775332 -0.24751617] ACT: [-0.2901367  -0.40721087] \n",
      "STATE: [ 0.47496685  0.04294873 -0.19276234 -0.26595081] ACT: [-0.30484666 -0.3963187 ] \n",
      "STATE: [ 0.40229625 -0.05592972 -0.20763031 -0.28250987] ACT: [-0.3144914  -0.38870961] \n",
      "final state  [ 0.40229625 -0.05592972]\n",
      "STATE: [ 0.8586624   0.8136133  -0.02578944 -0.03534073] ACT: [-0.29473646 -0.40389407] \n",
      "STATE: [ 0.84118236  0.78970098 -0.04994299 -0.0683209 ] ACT: [-0.29538262 -0.40342175] \n",
      "STATE: [ 0.8158379   0.7549779  -0.07241272 -0.09920882] ACT: [-0.29425424 -0.40424552] \n",
      "STATE: [ 0.78316199  0.71014124 -0.09335974 -0.12810472] ACT: [-0.29370398 -0.40464549] \n",
      "STATE: [ 0.74359042  0.65588776 -0.11306164 -0.15500995] ACT: [-0.2951844  -0.40356681] \n",
      "STATE: [ 0.69756815  0.59284096 -0.13149219 -0.18013372] ACT: [-0.29543112 -0.40338624] \n",
      "STATE: [ 0.64576326  0.52140233 -0.14801398 -0.20411037] ACT: [-0.28743955 -0.40911918] \n",
      "STATE: [ 0.5918282   0.4430622  -0.15410018 -0.22382894] ACT: [-0.18056712 -0.37843791] \n",
      "STATE: [ 0.54718813  0.36072184 -0.12754304 -0.23525818] ACT: [ 0.18793505 -0.29849158] \n",
      "STATE: [ 0.49728946  0.27084568 -0.14256764 -0.25678901] ACT: [-0.26736702 -0.42251021] \n",
      "STATE: [ 0.44166444  0.17447993 -0.15892861 -0.27533073] ACT: [-0.29390825 -0.40449714] \n",
      "STATE: [ 0.38045682  0.07222244 -0.17487893 -0.29216427] ACT: [-0.30148577 -0.39888135] \n",
      "STATE: [ 0.31343723 -0.03506618 -0.19148452 -0.3065389 ] ACT: [-0.32093741 -0.38340472] \n",
      "final state  [ 0.31343723 -0.03506618]\n",
      "STATE: [ 0.71679791  0.87433031 -0.02564787 -0.03544361] ACT: [-0.29311848 -0.40506982] \n",
      "STATE: [ 0.69943351  0.85033388 -0.04961259 -0.06856123] ACT: [-0.29311848 -0.40506982] \n",
      "STATE: [ 0.67422999  0.81550832 -0.07201004 -0.0995016 ] ACT: [-0.29318024 -0.40502512] \n",
      "STATE: [ 0.64165629  0.77059737 -0.09306772 -0.12831699] ACT: [-0.29466677 -0.40394492] \n",
      "STATE: [ 0.60219885  0.71626087 -0.11273556 -0.15524715] ACT: [-0.29457604 -0.40401108] \n",
      "STATE: [ 0.55610294  0.65327057 -0.13170258 -0.17997229] ACT: [-0.30131764 -0.39900837] \n",
      "STATE: [ 0.50893486  0.59240085 -0.13476594 -0.17391347] ACT: [-0.1337868  -0.06573556] \n",
      "STATE: [ 0.46046839  0.53013603 -0.13847563 -0.1778995 ] ACT: [-0.14347095 -0.17598969] \n",
      "STATE: [ 0.42353016  0.48479438 -0.1055378  -0.12954757] ACT: [0.27257565 0.41916884] \n",
      "COLLIDED\n",
      "STATE: [ 0.37977768  0.43021656 -0.12500709 -0.15593663] ACT: [-0.30165949 -0.39874999] \n",
      "STATE: [ 0.32971413  0.36696653 -0.14303871 -0.18071438] ACT: [-0.29983104 -0.40012667] \n",
      "STATE: [ 0.27387654  0.29552228 -0.15953597 -0.20412641] ACT: [-0.29581905 -0.40310184] \n",
      "STATE: [ 0.21260817  0.21644783 -0.17505249 -0.22592701] ACT: [-0.2969837  -0.40224456] \n",
      "STATE: [ 0.1462634   0.13024539 -0.1895565  -0.2462927 ] ACT: [-0.29704949 -0.40219597] \n",
      "STATE: [ 0.0951991   0.0604276  -0.14589798 -0.19947939] ACT: [0.35678721 0.35028971] \n",
      "STATE: [ 0.05849904  0.00583038 -0.10485733 -0.15599205] ACT: [0.3596125  0.34738861] \n",
      "STATE: [ 0.03323701 -0.03281704 -0.07217722 -0.11042121] ACT: [0.29484398 0.40381559] \n",
      "final state  [ 0.03323701 -0.03281704]\n",
      "STATE: [ 0.81652604  0.65483802 -0.02577013 -0.03535482] ACT: [-0.29451575 -0.40405504] \n",
      "STATE: [ 0.79907886  0.63090171 -0.04984909 -0.06838947] ACT: [-0.29451575 -0.40405504] \n",
      "STATE: [ 0.77364338  0.59624572 -0.0726728  -0.09901709] ACT: [-0.29822919 -0.401322  ] \n",
      "STATE: [ 0.74077847  0.5515479  -0.09389975 -0.12770808] ACT: [-0.29709838 -0.40215986] \n",
      "STATE: [ 0.70114376  0.49734193 -0.11324201 -0.1548742 ] ACT: [-0.29147918 -0.40625102] \n",
      "STATE: [ 0.65643246  0.43479969 -0.12774659 -0.17869212] ACT: [-0.25069816 -0.38836042] \n",
      "STATE: [ 0.6096783   0.36346879 -0.13358329 -0.20380255] ACT: [-0.16251509 -0.42099542] \n",
      "STATE: [ 0.55802344  0.2837435  -0.14758534 -0.22778654] ACT: [-0.26021082 -0.42695472] \n",
      "STATE: [ 0.50101831  0.19667707 -0.16287179 -0.24876123] ACT: [-0.28539136 -0.41055057] \n",
      "STATE: [ 0.43866959  0.10299784 -0.1781392  -0.26765495] ACT: [-0.29663854 -0.40249916] \n",
      "STATE: [ 0.3708518   0.00350531 -0.19376512 -0.28426439] ACT: [-0.31218626 -0.39056336] \n",
      "STATE: [ 0.29644872 -0.10007326 -0.21258021 -0.29593877] ACT: [-0.36035353 -0.34661987] \n",
      "final state  [ 0.29644872 -0.10007326]\n",
      "STATE: [ 0.75109847  0.71797654 -0.02568215 -0.03541878] ACT: [-0.29351029 -0.404786  ] \n",
      "STATE: [ 0.7336619   0.69403256 -0.04981875 -0.06841137] ACT: [-0.29510851 -0.40362231] \n",
      "STATE: [ 0.70830366  0.65931968 -0.07245214 -0.09917965] ACT: [-0.29603133 -0.40294597] \n",
      "STATE: [ 0.6755663   0.61452796 -0.09353531 -0.12797634] ACT: [-0.29528968 -0.40348978] \n",
      "STATE: [ 0.6364693   0.56096016 -0.1117057  -0.15305086] ACT: [-0.27781308 -0.38254821] \n",
      "STATE: [ 0.59773156  0.50495188 -0.11067925 -0.16002367] ACT: [-0.07204839 -0.19447737] \n",
      "STATE: [ 0.56704106  0.45598185 -0.08768714 -0.13991436] ACT: [0.17975755 0.10980291] \n",
      "STATE: [ 0.54525004  0.41533643 -0.06226006 -0.11612978] ACT: [0.22482982 0.16688798] \n",
      "STATE: [ 0.5218503   0.36633076 -0.0668564  -0.1400162 ] ACT: [-0.09922458 -0.36008501] \n",
      "STATE: [ 0.49147136  0.30781432 -0.08679698 -0.16718983] ACT: [-0.27803467 -0.41556795] \n",
      "STATE: [ 0.45421805  0.24065476 -0.10643802 -0.19188443] ACT: [-0.28956677 -0.40761635] \n",
      "STATE: [ 0.41032951  0.16557266 -0.12539585 -0.21452031] ACT: [-0.29648941 -0.40260903] \n",
      "STATE: [ 0.36005364  0.08322823 -0.14364535 -0.23526979] ACT: [-0.30261258 -0.39802717] \n",
      "STATE: [ 0.30324841 -0.00545411 -0.16230064 -0.25337812] ACT: [-0.32093741 -0.38340472] \n",
      "final state  [ 0.30324841 -0.00545411]\n",
      "STATE: [ 0.80439799  0.87599969 -0.0256059  -0.03547394] ACT: [-0.29263889 -0.40541643] \n",
      "STATE: [ 0.78706199  0.85198272 -0.04953142 -0.0686199 ] ACT: [-0.29263889 -0.40541643] \n",
      "STATE: [ 0.7618495   0.81716377 -0.07203569 -0.09948272] ACT: [-0.29434018 -0.40418295] \n",
      "STATE: [ 0.72926549  0.7722604  -0.09309718 -0.12829534] ACT: [-0.29472958 -0.40389909] \n",
      "STATE: [ 0.68976888  0.71795256 -0.11284745 -0.15516526] ACT: [-0.29554025 -0.40330629] \n",
      "STATE: [ 0.64381046  0.6548595  -0.13130976 -0.18026587] ACT: [-0.2956334  -0.40323801] \n",
      "STATE: [ 0.59244217  0.58438444 -0.14676655 -0.20135732] ACT: [-0.27513135 -0.37624454] \n",
      "STATE: [ 0.53977806  0.51087747 -0.1504689  -0.21001992] ACT: [-0.15238747 -0.25001916] \n",
      "STATE: [ 0.4948445   0.44758543 -0.12838159 -0.1808344 ] ACT: [0.13957474 0.17603388] \n",
      "STATE: [ 0.44479765  0.37542864 -0.14299099 -0.20616226] ACT: [-0.26325078 -0.42508708] \n",
      "STATE: [ 0.38923815  0.29547376 -0.15874144 -0.22844253] ACT: [-0.28724842 -0.4092534 ] \n",
      "STATE: [ 0.32825231  0.20843045 -0.17424526 -0.24869518] ACT: [-0.29624257 -0.40279069] \n",
      "STATE: [ 0.26203074  0.11488733 -0.18920448 -0.26726604] ACT: [-0.30164645 -0.39875985] \n",
      "STATE: [ 0.19042199  0.01566174 -0.20459644 -0.28350169] ACT: [-0.31781153 -0.38599978] \n",
      "STATE: [ 0.1220183  -0.06181276 -0.19543911 -0.2213557 ] ACT: [-0.04879208  0.49761364] \n",
      "final state  [ 0.1220183  -0.06181276]\n",
      "STATE: [ 0.88688728  0.70665796 -0.02574361 -0.03537413] ACT: [-0.29421267 -0.40427577] \n",
      "STATE: [ 0.86945806  0.68270857 -0.04979779 -0.06842683] ACT: [-0.29421267 -0.40427577] \n",
      "STATE: [ 0.8440755   0.64801359 -0.07252157 -0.09912852] ACT: [-0.2970487  -0.40219656] \n",
      "STATE: [ 0.81125352  0.60328414 -0.09377709 -0.12779842] ACT: [-0.29731138 -0.40200241] \n",
      "STATE: [ 0.77153605  0.54913772 -0.1134785  -0.15470406] ACT: [-0.29549173 -0.40334184] \n",
      "STATE: [ 0.72542948  0.48615301 -0.13173304 -0.17995629] ACT: [-0.29373224 -0.40462498] \n",
      "STATE: [ 0.67467103  0.41540814 -0.14502415 -0.2021282 ] ACT: [-0.25069816 -0.38836042] \n",
      "STATE: [ 0.61980182  0.33689636 -0.15676918 -0.22431938] ACT: [-0.24299707 -0.40520963] \n",
      "STATE: [ 0.5601739   0.25070759 -0.17036548 -0.24625363] ACT: [-0.2729631  -0.41891663] \n",
      "STATE: [ 0.49558691  0.15769468 -0.18453427 -0.26575118] ACT: [-0.28970314 -0.40751943] \n",
      "STATE: [ 0.42605902  0.05852968 -0.19865111 -0.28332857] ACT: [-0.299736   -0.40019786] \n",
      "STATE: [ 0.35122517 -0.04583577 -0.213811   -0.29818699] ACT: [-0.3222443  -0.38230696] \n",
      "final state  [ 0.35122517 -0.04583577]\n",
      "STATE: [ 0.88687027  0.63678569 -0.02590023 -0.03525961] ACT: [-0.29600267 -0.40296702] \n",
      "STATE: [ 0.86929087  0.61294636 -0.05022684 -0.06811236] ACT: [-0.29744353 -0.40190465] \n",
      "STATE: [ 0.84376721  0.57835481 -0.07292475 -0.098833  ] ACT: [-0.29707479 -0.40217729] \n",
      "STATE: [ 0.81083261  0.53370781 -0.09409887 -0.12756286] ACT: [-0.29668357 -0.40246597] \n",
      "STATE: [ 0.77099351  0.47965046 -0.113826   -0.15444959] ACT: [-0.29602707 -0.4029491 ] \n",
      "STATE: [ 0.72476729  0.41675334 -0.1320749  -0.17970606] ACT: [-0.29392831 -0.40448257] \n",
      "STATE: [ 0.67292509  0.34534828 -0.14812056 -0.20401446] ACT: [-0.28243515 -0.41258985] \n",
      "STATE: [ 0.61576793  0.26604011 -0.1633062  -0.22659477] ACT: [-0.28464056 -0.41107147] \n",
      "STATE: [ 0.55355836  0.17940762 -0.17774161 -0.24752141] ACT: [-0.28745586 -0.40910773] \n",
      "STATE: [ 0.48636518  0.08612028 -0.19198053 -0.26653525] ACT: [-0.29603667 -0.40294204] \n",
      "STATE: [ 0.41399581 -0.01298603 -0.20676962 -0.28316088] ACT: [-0.31300358 -0.38990865] \n",
      "final state  [ 0.41399581 -0.01298603]\n",
      "After 7 REWARD:  (0.8064697493221674, array([ 0.25468523, -0.02120365, -0.18420255, -0.25575306]), -0.2969227375423902)\n",
      "UPDATING THE ACTION MATRIX\n"
     ]
    },
    {
     "name": "stderr",
     "output_type": "stream",
     "text": [
      "100%|█████████████████████████████████████████████████████████████████████████████████████████████████████████████████████████| 25/25 [00:03<00:00,  7.04it/s]\n",
      "Generating Dynamics Dataset: 100%|██████████████████████████████████████████████████████████████████████████████████████████| 15/15 [00:00<00:00, 2076.39it/s]\n"
     ]
    },
    {
     "name": "stdout",
     "output_type": "stream",
     "text": [
      "COLLIDED\n",
      "COLLIDED\n",
      "COLLIDED\n",
      "COLLIDED\n"
     ]
    },
    {
     "name": "stderr",
     "output_type": "stream",
     "text": [
      "100%|████████████████████████████████████████████████████████████████████████████████████████████████████████████████████████| 51/51 [00:00<00:00, 236.12it/s]\n"
     ]
    },
    {
     "name": "stdout",
     "output_type": "stream",
     "text": [
      "Epoch 1, loss: 0.000, err: 0.020, val_loss: 0.001, val_err: 0.031\n"
     ]
    },
    {
     "name": "stderr",
     "output_type": "stream",
     "text": [
      "100%|████████████████████████████████████████████████████████████████████████████████████████████████████████████████████████| 51/51 [00:00<00:00, 236.58it/s]\n"
     ]
    },
    {
     "name": "stdout",
     "output_type": "stream",
     "text": [
      "Epoch 2, loss: 0.000, err: 0.020, val_loss: 0.001, val_err: 0.032\n"
     ]
    },
    {
     "name": "stderr",
     "output_type": "stream",
     "text": [
      "100%|████████████████████████████████████████████████████████████████████████████████████████████████████████████████████████| 51/51 [00:00<00:00, 238.66it/s]\n"
     ]
    },
    {
     "name": "stdout",
     "output_type": "stream",
     "text": [
      "Epoch 3, loss: 0.000, err: 0.020, val_loss: 0.001, val_err: 0.030\n"
     ]
    },
    {
     "name": "stderr",
     "output_type": "stream",
     "text": [
      "100%|████████████████████████████████████████████████████████████████████████████████████████████████████████████████████████| 51/51 [00:00<00:00, 236.70it/s]\n"
     ]
    },
    {
     "name": "stdout",
     "output_type": "stream",
     "text": [
      "Epoch 4, loss: 0.000, err: 0.020, val_loss: 0.001, val_err: 0.032\n"
     ]
    },
    {
     "name": "stderr",
     "output_type": "stream",
     "text": [
      "100%|████████████████████████████████████████████████████████████████████████████████████████████████████████████████████████| 51/51 [00:00<00:00, 240.17it/s]\n"
     ]
    },
    {
     "name": "stdout",
     "output_type": "stream",
     "text": [
      "Epoch 5, loss: 0.000, err: 0.020, val_loss: 0.001, val_err: 0.034\n"
     ]
    },
    {
     "name": "stderr",
     "output_type": "stream",
     "text": [
      "100%|████████████████████████████████████████████████████████████████████████████████████████████████████████████████████████| 51/51 [00:00<00:00, 236.81it/s]\n"
     ]
    },
    {
     "name": "stdout",
     "output_type": "stream",
     "text": [
      "Epoch 6, loss: 0.000, err: 0.020, val_loss: 0.001, val_err: 0.032\n"
     ]
    },
    {
     "name": "stderr",
     "output_type": "stream",
     "text": [
      "100%|████████████████████████████████████████████████████████████████████████████████████████████████████████████████████████| 51/51 [00:00<00:00, 237.65it/s]\n"
     ]
    },
    {
     "name": "stdout",
     "output_type": "stream",
     "text": [
      "Epoch 7, loss: 0.000, err: 0.020, val_loss: 0.001, val_err: 0.031\n"
     ]
    },
    {
     "name": "stderr",
     "output_type": "stream",
     "text": [
      "100%|████████████████████████████████████████████████████████████████████████████████████████████████████████████████████████| 51/51 [00:00<00:00, 239.04it/s]\n"
     ]
    },
    {
     "name": "stdout",
     "output_type": "stream",
     "text": [
      "Epoch 8, loss: 0.000, err: 0.020, val_loss: 0.001, val_err: 0.032\n"
     ]
    },
    {
     "name": "stderr",
     "output_type": "stream",
     "text": [
      "100%|████████████████████████████████████████████████████████████████████████████████████████████████████████████████████████| 51/51 [00:00<00:00, 228.24it/s]\n"
     ]
    },
    {
     "name": "stdout",
     "output_type": "stream",
     "text": [
      "Epoch 9, loss: 0.000, err: 0.020, val_loss: 0.001, val_err: 0.031\n"
     ]
    },
    {
     "name": "stderr",
     "output_type": "stream",
     "text": [
      "100%|████████████████████████████████████████████████████████████████████████████████████████████████████████████████████████| 51/51 [00:00<00:00, 239.05it/s]\n"
     ]
    },
    {
     "name": "stdout",
     "output_type": "stream",
     "text": [
      "Epoch 10, loss: 0.000, err: 0.020, val_loss: 0.001, val_err: 0.031\n"
     ]
    },
    {
     "name": "stderr",
     "output_type": "stream",
     "text": [
      "100%|████████████████████████████████████████████████████████████████████████████████████████████████████████████████████████| 51/51 [00:00<00:00, 235.34it/s]\n"
     ]
    },
    {
     "name": "stdout",
     "output_type": "stream",
     "text": [
      "Epoch 11, loss: 0.000, err: 0.020, val_loss: 0.001, val_err: 0.032\n"
     ]
    },
    {
     "name": "stderr",
     "output_type": "stream",
     "text": [
      "100%|████████████████████████████████████████████████████████████████████████████████████████████████████████████████████████| 51/51 [00:00<00:00, 239.71it/s]\n"
     ]
    },
    {
     "name": "stdout",
     "output_type": "stream",
     "text": [
      "Epoch 12, loss: 0.000, err: 0.020, val_loss: 0.001, val_err: 0.032\n"
     ]
    },
    {
     "name": "stderr",
     "output_type": "stream",
     "text": [
      "100%|████████████████████████████████████████████████████████████████████████████████████████████████████████████████████████| 51/51 [00:00<00:00, 240.37it/s]\n"
     ]
    },
    {
     "name": "stdout",
     "output_type": "stream",
     "text": [
      "Epoch 13, loss: 0.000, err: 0.020, val_loss: 0.001, val_err: 0.033\n"
     ]
    },
    {
     "name": "stderr",
     "output_type": "stream",
     "text": [
      "100%|████████████████████████████████████████████████████████████████████████████████████████████████████████████████████████| 51/51 [00:00<00:00, 236.11it/s]\n"
     ]
    },
    {
     "name": "stdout",
     "output_type": "stream",
     "text": [
      "Epoch 14, loss: 0.000, err: 0.020, val_loss: 0.001, val_err: 0.032\n"
     ]
    },
    {
     "name": "stderr",
     "output_type": "stream",
     "text": [
      "100%|████████████████████████████████████████████████████████████████████████████████████████████████████████████████████████| 51/51 [00:00<00:00, 240.01it/s]\n"
     ]
    },
    {
     "name": "stdout",
     "output_type": "stream",
     "text": [
      "Epoch 15, loss: 0.000, err: 0.020, val_loss: 0.001, val_err: 0.031\n"
     ]
    },
    {
     "name": "stderr",
     "output_type": "stream",
     "text": [
      "100%|████████████████████████████████████████████████████████████████████████████████████████████████████████████████████████| 51/51 [00:00<00:00, 239.31it/s]\n"
     ]
    },
    {
     "name": "stdout",
     "output_type": "stream",
     "text": [
      "Epoch 16, loss: 0.000, err: 0.020, val_loss: 0.001, val_err: 0.030\n"
     ]
    },
    {
     "name": "stderr",
     "output_type": "stream",
     "text": [
      "100%|████████████████████████████████████████████████████████████████████████████████████████████████████████████████████████| 51/51 [00:00<00:00, 238.54it/s]\n"
     ]
    },
    {
     "name": "stdout",
     "output_type": "stream",
     "text": [
      "Epoch 17, loss: 0.000, err: 0.020, val_loss: 0.001, val_err: 0.034\n"
     ]
    },
    {
     "name": "stderr",
     "output_type": "stream",
     "text": [
      "100%|████████████████████████████████████████████████████████████████████████████████████████████████████████████████████████| 51/51 [00:00<00:00, 239.61it/s]\n"
     ]
    },
    {
     "name": "stdout",
     "output_type": "stream",
     "text": [
      "Epoch 18, loss: 0.000, err: 0.020, val_loss: 0.001, val_err: 0.032\n"
     ]
    },
    {
     "name": "stderr",
     "output_type": "stream",
     "text": [
      "100%|████████████████████████████████████████████████████████████████████████████████████████████████████████████████████████| 51/51 [00:00<00:00, 239.99it/s]\n"
     ]
    },
    {
     "name": "stdout",
     "output_type": "stream",
     "text": [
      "Epoch 19, loss: 0.000, err: 0.020, val_loss: 0.001, val_err: 0.032\n"
     ]
    },
    {
     "name": "stderr",
     "output_type": "stream",
     "text": [
      "100%|████████████████████████████████████████████████████████████████████████████████████████████████████████████████████████| 51/51 [00:00<00:00, 239.82it/s]\n"
     ]
    },
    {
     "name": "stdout",
     "output_type": "stream",
     "text": [
      "Epoch 20, loss: 0.000, err: 0.020, val_loss: 0.001, val_err: 0.031\n"
     ]
    },
    {
     "name": "stderr",
     "output_type": "stream",
     "text": [
      "100%|████████████████████████████████████████████████████████████████████████████████████████████████████████████████████████| 51/51 [00:00<00:00, 239.01it/s]\n"
     ]
    },
    {
     "name": "stdout",
     "output_type": "stream",
     "text": [
      "Epoch 21, loss: 0.000, err: 0.019, val_loss: 0.001, val_err: 0.031\n"
     ]
    },
    {
     "name": "stderr",
     "output_type": "stream",
     "text": [
      "100%|████████████████████████████████████████████████████████████████████████████████████████████████████████████████████████| 51/51 [00:00<00:00, 238.99it/s]\n"
     ]
    },
    {
     "name": "stdout",
     "output_type": "stream",
     "text": [
      "Epoch 22, loss: 0.000, err: 0.020, val_loss: 0.001, val_err: 0.031\n"
     ]
    },
    {
     "name": "stderr",
     "output_type": "stream",
     "text": [
      "100%|████████████████████████████████████████████████████████████████████████████████████████████████████████████████████████| 51/51 [00:00<00:00, 241.90it/s]\n"
     ]
    },
    {
     "name": "stdout",
     "output_type": "stream",
     "text": [
      "Epoch 23, loss: 0.000, err: 0.019, val_loss: 0.001, val_err: 0.033\n"
     ]
    },
    {
     "name": "stderr",
     "output_type": "stream",
     "text": [
      "100%|████████████████████████████████████████████████████████████████████████████████████████████████████████████████████████| 51/51 [00:00<00:00, 238.59it/s]\n"
     ]
    },
    {
     "name": "stdout",
     "output_type": "stream",
     "text": [
      "Epoch 24, loss: 0.000, err: 0.019, val_loss: 0.001, val_err: 0.031\n"
     ]
    },
    {
     "name": "stderr",
     "output_type": "stream",
     "text": [
      "100%|████████████████████████████████████████████████████████████████████████████████████████████████████████████████████████| 51/51 [00:00<00:00, 237.13it/s]\n"
     ]
    },
    {
     "name": "stdout",
     "output_type": "stream",
     "text": [
      "Epoch 25, loss: 0.000, err: 0.019, val_loss: 0.001, val_err: 0.032\n"
     ]
    },
    {
     "name": "stderr",
     "output_type": "stream",
     "text": [
      "100%|████████████████████████████████████████████████████████████████████████████████████████████████████████████████████████| 51/51 [00:00<00:00, 239.49it/s]\n"
     ]
    },
    {
     "name": "stdout",
     "output_type": "stream",
     "text": [
      "Epoch 26, loss: 0.000, err: 0.019, val_loss: 0.001, val_err: 0.031\n"
     ]
    },
    {
     "name": "stderr",
     "output_type": "stream",
     "text": [
      "100%|████████████████████████████████████████████████████████████████████████████████████████████████████████████████████████| 51/51 [00:00<00:00, 239.60it/s]\n"
     ]
    },
    {
     "name": "stdout",
     "output_type": "stream",
     "text": [
      "Epoch 27, loss: 0.000, err: 0.019, val_loss: 0.001, val_err: 0.030\n"
     ]
    },
    {
     "name": "stderr",
     "output_type": "stream",
     "text": [
      "100%|████████████████████████████████████████████████████████████████████████████████████████████████████████████████████████| 51/51 [00:00<00:00, 237.87it/s]\n"
     ]
    },
    {
     "name": "stdout",
     "output_type": "stream",
     "text": [
      "Epoch 28, loss: 0.000, err: 0.019, val_loss: 0.001, val_err: 0.031\n"
     ]
    },
    {
     "name": "stderr",
     "output_type": "stream",
     "text": [
      "100%|████████████████████████████████████████████████████████████████████████████████████████████████████████████████████████| 51/51 [00:00<00:00, 240.49it/s]\n"
     ]
    },
    {
     "name": "stdout",
     "output_type": "stream",
     "text": [
      "Epoch 29, loss: 0.000, err: 0.019, val_loss: 0.001, val_err: 0.031\n"
     ]
    },
    {
     "name": "stderr",
     "output_type": "stream",
     "text": [
      "100%|████████████████████████████████████████████████████████████████████████████████████████████████████████████████████████| 51/51 [00:00<00:00, 239.39it/s]\n"
     ]
    },
    {
     "name": "stdout",
     "output_type": "stream",
     "text": [
      "Epoch 30, loss: 0.000, err: 0.019, val_loss: 0.001, val_err: 0.030\n"
     ]
    },
    {
     "name": "stderr",
     "output_type": "stream",
     "text": [
      "100%|████████████████████████████████████████████████████████████████████████████████████████████████████████████████████████| 51/51 [00:00<00:00, 237.95it/s]\n"
     ]
    },
    {
     "name": "stdout",
     "output_type": "stream",
     "text": [
      "Epoch 31, loss: 0.000, err: 0.019, val_loss: 0.001, val_err: 0.030\n"
     ]
    },
    {
     "name": "stderr",
     "output_type": "stream",
     "text": [
      "100%|████████████████████████████████████████████████████████████████████████████████████████████████████████████████████████| 51/51 [00:00<00:00, 240.32it/s]\n"
     ]
    },
    {
     "name": "stdout",
     "output_type": "stream",
     "text": [
      "Epoch 32, loss: 0.000, err: 0.019, val_loss: 0.001, val_err: 0.032\n"
     ]
    },
    {
     "name": "stderr",
     "output_type": "stream",
     "text": [
      "100%|████████████████████████████████████████████████████████████████████████████████████████████████████████████████████████| 51/51 [00:00<00:00, 239.19it/s]\n"
     ]
    },
    {
     "name": "stdout",
     "output_type": "stream",
     "text": [
      "Epoch 33, loss: 0.000, err: 0.019, val_loss: 0.001, val_err: 0.032\n"
     ]
    },
    {
     "name": "stderr",
     "output_type": "stream",
     "text": [
      "100%|████████████████████████████████████████████████████████████████████████████████████████████████████████████████████████| 51/51 [00:00<00:00, 240.63it/s]\n"
     ]
    },
    {
     "name": "stdout",
     "output_type": "stream",
     "text": [
      "Epoch 34, loss: 0.000, err: 0.019, val_loss: 0.001, val_err: 0.030\n"
     ]
    },
    {
     "name": "stderr",
     "output_type": "stream",
     "text": [
      "100%|████████████████████████████████████████████████████████████████████████████████████████████████████████████████████████| 51/51 [00:00<00:00, 240.17it/s]\n"
     ]
    },
    {
     "name": "stdout",
     "output_type": "stream",
     "text": [
      "Epoch 35, loss: 0.000, err: 0.019, val_loss: 0.001, val_err: 0.031\n"
     ]
    },
    {
     "name": "stderr",
     "output_type": "stream",
     "text": [
      "100%|████████████████████████████████████████████████████████████████████████████████████████████████████████████████████████| 51/51 [00:00<00:00, 238.51it/s]\n"
     ]
    },
    {
     "name": "stdout",
     "output_type": "stream",
     "text": [
      "Epoch 36, loss: 0.000, err: 0.019, val_loss: 0.001, val_err: 0.030\n"
     ]
    },
    {
     "name": "stderr",
     "output_type": "stream",
     "text": [
      "100%|████████████████████████████████████████████████████████████████████████████████████████████████████████████████████████| 51/51 [00:00<00:00, 239.40it/s]\n"
     ]
    },
    {
     "name": "stdout",
     "output_type": "stream",
     "text": [
      "Epoch 37, loss: 0.000, err: 0.019, val_loss: 0.001, val_err: 0.031\n"
     ]
    },
    {
     "name": "stderr",
     "output_type": "stream",
     "text": [
      "100%|████████████████████████████████████████████████████████████████████████████████████████████████████████████████████████| 51/51 [00:00<00:00, 240.40it/s]\n"
     ]
    },
    {
     "name": "stdout",
     "output_type": "stream",
     "text": [
      "Epoch 38, loss: 0.000, err: 0.019, val_loss: 0.001, val_err: 0.030\n"
     ]
    },
    {
     "name": "stderr",
     "output_type": "stream",
     "text": [
      "100%|████████████████████████████████████████████████████████████████████████████████████████████████████████████████████████| 51/51 [00:00<00:00, 239.10it/s]\n"
     ]
    },
    {
     "name": "stdout",
     "output_type": "stream",
     "text": [
      "Epoch 39, loss: 0.000, err: 0.020, val_loss: 0.001, val_err: 0.030\n"
     ]
    },
    {
     "name": "stderr",
     "output_type": "stream",
     "text": [
      "100%|████████████████████████████████████████████████████████████████████████████████████████████████████████████████████████| 10/10 [00:00<00:00, 443.34it/s]\n"
     ]
    },
    {
     "name": "stdout",
     "output_type": "stream",
     "text": [
      "STATE: [ 0.71021081  0.6109109  -0.02612671 -0.03509213] ACT: [-0.29859101 -0.40105287] \n",
      "STATE: [ 0.69297212  0.58762753 -0.04925341 -0.06652392] ACT: [-0.28390012 -0.38553964] \n",
      "STATE: [ 0.66780624  0.55352641 -0.07190251 -0.09743177] ACT: [-0.29578689 -0.40312543] \n",
      "STATE: [ 0.63660123  0.50948117 -0.08915717 -0.12584356] ACT: [-0.25112302 -0.39778   ] \n",
      "STATE: [ 0.60345161  0.45787087 -0.0947132  -0.147458  ] ACT: [-0.13036541 -0.34140488] \n",
      "STATE: [ 0.57624699  0.40333089 -0.07772748 -0.15582851] ACT: [ 0.1230877  -0.20625652] \n",
      "STATE: [ 0.54609932  0.33780591 -0.0861362  -0.18721421] ACT: [-0.15439534 -0.47556501] \n",
      "STATE: [ 0.50931793  0.26391992 -0.10508968 -0.21110284] ACT: [-0.28121336 -0.41342357] \n",
      "STATE: [ 0.46584497  0.18257151 -0.12420846 -0.23242402] ACT: [-0.29731758 -0.40199783] \n",
      "STATE: [ 0.41588567  0.09442689 -0.14274085 -0.25184178] ACT: [-0.30495509 -0.39623527] \n",
      "STATE: [ 3.59429091e-01  2.80950469e-04 -1.61304514e-01 -2.68988396e-01] ACT: [-0.31921177 -0.38484263] \n",
      "STATE: [ 0.29579027 -0.09845427 -0.1818252  -0.28210063] ACT: [-0.35550057 -0.35159543] \n",
      "final state  [ 0.29579027 -0.09845427]\n",
      "STATE: [ 0.63235031  0.64090644 -0.02389124 -0.03118996] ACT: [-0.2730427  -0.35645668] \n",
      "STATE: [ 0.61809902  0.62219783 -0.04071797 -0.05345319] ACT: [-0.21022394 -0.27782938] \n",
      "STATE: [ 0.59834487  0.59620844 -0.05644045 -0.0742554 ] ACT: [-0.21022394 -0.27782938] \n",
      "STATE: [ 0.57604331  0.56706946 -0.06371872 -0.08325421] ACT: [-0.12551065 -0.15853517] \n",
      "STATE: [ 0.54676474  0.52901841 -0.08365307 -0.10871729] ACT: [-0.27561012 -0.35344721] \n",
      "STATE: [ 0.52292251  0.49909623 -0.06812066 -0.08549197] ACT: [0.11477347 0.18389425] \n",
      "STATE: [ 0.51004826  0.48322279 -0.03678357 -0.04535266] ACT: [0.30704764 0.39461595] \n",
      "STATE: [ 0.50742222  0.48047617 -0.00750298 -0.0078475 ] ACT: [0.30704764 0.39461595] \n",
      "STATE: [0.51437184 0.48999491 0.01985607 0.02719639] ACT: [0.30704764 0.39461595] \n",
      "STATE: [0.53026873 0.51097409 0.04541968 0.05994052] ACT: [0.30704764 0.39461595] \n",
      "STATE: [0.55003526 0.53741851 0.05647579 0.07555548] ACT: [0.16042028 0.2234121 ] \n",
      "STATE: [0.57201954 0.56775928 0.06281225 0.0866879 ] ACT: [0.11477347 0.18389425] \n",
      "STATE: [0.58412055 0.58528461 0.03457431 0.05007238] ACT: [-0.27561012 -0.35344721] \n",
      "STATE: [0.58698687 0.59083552 0.00818948 0.01585975] ACT: [-0.27561012 -0.35344721] \n",
      "STATE: [ 0.58582132  0.59116701 -0.00333013  0.00094712] ACT: [-0.12551065 -0.15853517] \n",
      "STATE: [ 0.5808885   0.58662161 -0.01409378 -0.01298686] ACT: [-0.12551065 -0.15853517] \n",
      "STATE: [ 0.56913266  0.57498589 -0.03358811 -0.03324493] ACT: [-0.23336275 -0.24126102] \n",
      "STATE: [ 0.54970774  0.55328943 -0.05549978 -0.06198987] ACT: [-0.27561012 -0.35344721] \n",
      "STATE: [ 0.53507252  0.53864857 -0.04181493 -0.04183103] ACT: [0.11477347 0.18389425] \n",
      "STATE: [ 0.52491266  0.53060028 -0.02902814 -0.02299513] ACT: [0.11477347 0.18389425] \n",
      "STATE: [ 0.50575801  0.51120045 -0.05472758 -0.05542807] ACT: [-0.31547893 -0.38790856] \n",
      "STATE: [ 0.49698429  0.50537118 -0.02506779 -0.01665505] ACT: [0.29792331 0.40154913] \n",
      "STATE: [0.49790153 0.51222835 0.00262071 0.01959192] ACT: [0.29763915 0.4017598 ] \n",
      "STATE: [0.50787379 0.53093942 0.02849215 0.05346018] ACT: [0.29763915 0.4017598 ] \n",
      "STATE: [ 0.50753007  0.53654287 -0.00098205  0.01600986] ACT: [-0.31547893 -0.38790856] \n",
      "STATE: [ 0.49754736  0.52989889 -0.02852201 -0.01898279] ACT: [-0.31547893 -0.38790856] \n",
      "STATE: [ 0.48936548  0.52714144 -0.02337682 -0.00787841] ACT: [0.03741072 0.11267007] \n",
      "STATE: [0.49083573 0.53686885 0.00420071 0.02779259] ACT: [0.29763915 0.4017598 ] \n",
      "STATE: [0.49335519 0.54940842 0.00719848 0.03582733] ACT: [0.03741072 0.11267007] \n",
      "STATE: [0.49685502 0.5645756  0.00999952 0.0433348 ] ACT: [0.03741072 0.11267007] \n",
      "STATE: [0.50845745 0.59159445 0.03314979 0.07719672] ACT: [0.27207416 0.41949452] \n",
      "STATE: [0.51552254 0.61470187 0.02018597 0.06602121] ACT: [-0.12329553 -0.06982262] \n",
      "STATE: [0.51946482 0.63562378 0.01126367 0.05977689] ACT: [-0.08682977 -0.02184774] \n",
      "STATE: [0.52048923 0.65450361 0.00292688 0.05394235] ACT: [-0.08682977 -0.02184774] \n",
      "STATE: [ 0.51747629  0.67062807 -0.00860839  0.04606989] ACT: [-0.12963657 -0.04951419] \n",
      "STATE: [ 0.51069096  0.68417799 -0.01938667  0.03871406] ACT: [-0.12963657 -0.04951419] \n",
      "STATE: [ 0.49337186  0.68800123 -0.04948314  0.01092353] ACT: [-0.35849967 -0.28857053] \n",
      "STATE: [ 0.46820194  0.68362388 -0.07191406 -0.01250671] ACT: [-0.29346572 -0.25958158] \n",
      "STATE: [ 0.43521996  0.67807978 -0.09423422 -0.01584029] ACT: [-0.30902309 -0.04747809] \n",
      "STATE: [ 0.39332703  0.66655834 -0.11969409 -0.0329184 ] ACT: [-0.36164566 -0.20705854] \n",
      "STATE: [ 0.34212323  0.65345817 -0.14629657 -0.03742906] ACT: [-0.39379891 -0.07623924] \n",
      "STATE: [ 0.28345785  0.63038438 -0.16761537 -0.0659251 ] ACT: [-0.3533658  -0.35374089] \n",
      "STATE: [ 0.21882965  0.59706969 -0.184652   -0.09518483] ACT: [-0.32041592 -0.38384064] \n",
      "STATE: [ 0.14901857  0.55387236 -0.19946023 -0.12342096] ACT: [-0.30772592 -0.39408725] \n",
      "STATE: [ 0.07459916  0.50126148 -0.21262689 -0.15031678] ACT: [-0.30007124 -0.39994656] \n",
      "STATE: [-0.00381296  0.43962599 -0.22403463 -0.1761014 ] ACT: [-0.2898444  -0.40741898] \n",
      "final state  [-0.00381296  0.43962599]\n",
      "STATE: [ 0.63669348  0.60501364 -0.02561021 -0.03423903] ACT: [-0.29268815 -0.3913032 ] \n",
      "STATE: [ 0.62387663  0.5872538  -0.03661958 -0.0507424 ] ACT: [-0.14502902 -0.21428921] \n",
      "STATE: [ 0.60745937  0.56409684 -0.04690646 -0.06616274] ACT: [-0.14502902 -0.21428921] \n",
      "STATE: [ 0.59024991  0.53969943 -0.04916987 -0.0697069 ] ACT: [-0.06104736 -0.09012676] \n",
      "STATE: [ 0.56478363  0.50480467 -0.07276081 -0.09969931] ACT: [-0.30648814 -0.39505065] \n",
      "STATE: [ 0.54103315  0.47184107 -0.06785852 -0.09418172] ACT: [ 0.00145555 -0.01171629] \n",
      "STATE: [ 0.52212713  0.44511648 -0.05401719 -0.07635596] ACT: [0.10729269 0.13308673] \n",
      "STATE: [ 0.50175377  0.41281181 -0.05820961 -0.09229906] ACT: [-0.08842626 -0.23947389] \n",
      "STATE: [ 0.47479173  0.36952536 -0.0770344  -0.12367556] ACT: [-0.25879761 -0.42781281] \n",
      "STATE: [ 0.44088298  0.31648981 -0.09688212 -0.15153014] ACT: [-0.28460696 -0.41109473] \n",
      "STATE: [ 0.40008957  0.25462693 -0.11655261 -0.1767511 ] ACT: [-0.29746716 -0.40188716] \n",
      "STATE: [ 0.35273486  0.18461211 -0.13529916 -0.20004235] ACT: [-0.30166075 -0.39874904] \n",
      "STATE: [ 0.29900464  0.10716944 -0.15351493 -0.22126476] ACT: [-0.30965458 -0.39257362] \n",
      "STATE: [ 0.2389729   0.02306621 -0.17151924 -0.24029493] ACT: [-0.32089976 -0.38343624] \n",
      "STATE: [ 0.16788662 -0.05862396 -0.20310368 -0.23340048] ACT: [-0.48960439 -0.1014275 ] \n",
      "final state  [ 0.16788662 -0.05862396]\n",
      "STATE: [ 0.61216411  0.79300696 -0.02599284 -0.0351914 ] ACT: [-0.29706108 -0.40218741] \n",
      "STATE: [ 0.59453181  0.76920671 -0.05037799 -0.0680007 ] ACT: [-0.29818206 -0.40135702] \n",
      "STATE: [ 0.5688749   0.73471403 -0.07330546 -0.09855051] ACT: [-0.29981169 -0.40014116] \n",
      "STATE: [ 0.53548595  0.6904095  -0.09539698 -0.12658436] ACT: [-0.30745356 -0.39429977] \n",
      "STATE: [ 0.4936537   0.63799517 -0.11952073 -0.14975526] ACT: [-0.34724778 -0.35974849] \n",
      "STATE: [ 0.45558399  0.59522365 -0.1087706  -0.12220434] ACT: [0.0332181  0.20255116] \n",
      "STATE: [ 0.41824633  0.5570428  -0.10667904 -0.10908812] ACT: [-0.05767438  0.05824638] \n",
      "STATE: [ 0.38742281  0.53080253 -0.08806719 -0.07497222] ACT: [0.13269758 0.30807999] \n",
      "STATE: [ 0.35318916  0.51280164 -0.09781042 -0.05143112] ACT: [-0.17740168  0.21281192] \n",
      "STATE: [ 0.31149044  0.48414328 -0.1191392  -0.081881  ] ACT: [-0.31711525 -0.38657201] \n",
      "STATE: [ 0.26305525  0.44533501 -0.13838625 -0.11088077] ACT: [-0.30932074 -0.39283671] \n",
      "STATE: [ 0.20856679  0.39685691 -0.15568133 -0.13850886] ACT: [-0.30144765 -0.39891016] \n",
      "STATE: [ 0.14851137  0.33927676 -0.17158691 -0.16451473] ACT: [-0.29853907 -0.40109154] \n",
      "STATE: [ 0.08335247  0.27311943 -0.18616828 -0.18902094] ACT: [-0.2953344  -0.40345705] \n",
      "STATE: [ 0.01374514  0.19871972 -0.1988781  -0.2125706 ] ACT: [-0.28488133 -0.41090465] \n",
      "STATE: [-0.03851953  0.13764524 -0.14932763 -0.17449849] ACT: [0.4171325  0.27568184] \n",
      "final state  [-0.03851953  0.13764524]\n",
      "STATE: [ 0.64928195  0.76624271 -0.025983   -0.03519867] ACT: [-0.29694858 -0.40227048] \n",
      "STATE: [ 0.63169065  0.74241211 -0.05026087 -0.06808742] ACT: [-0.29694858 -0.40227048] \n",
      "STATE: [ 0.6060393   0.70791567 -0.07328957 -0.09856125] ACT: [-0.30088086 -0.39933783] \n",
      "STATE: [ 0.57309539  0.66430641 -0.09412545 -0.1245979 ] ACT: [-0.29309152 -0.37148272] \n",
      "STATE: [ 0.532329    0.61194936 -0.11647541 -0.14959158] ACT: [-0.32602216 -0.37909043] \n",
      "STATE: [ 0.49402492  0.56588832 -0.10944023 -0.13160294] ACT: [-0.00695447  0.09339068] \n",
      "STATE: [ 0.46656681  0.53569707 -0.07845172 -0.08626073] ACT: [0.27207416 0.41949452] \n",
      "STATE: [ 0.4497346   0.52000152 -0.04809203 -0.04484441] ACT: [0.28812912 0.40863383] \n",
      "STATE: [ 0.44278981  0.51787933 -0.01984226 -0.00606343] ACT: [0.28678547 0.40957795] \n",
      "STATE: [ 0.42622872  0.50436269 -0.04731741 -0.03861896] ACT: [-0.32888334 -0.37661087] \n",
      "STATE: [ 0.4006824   0.48019937 -0.07298949 -0.06903805] ACT: [-0.32888334 -0.37661087] \n",
      "STATE: [ 0.36677832  0.44605515 -0.09686879 -0.09755493] ACT: [-0.32764838 -0.37768577] \n",
      "STATE: [ 0.32560577  0.40213716 -0.11763585 -0.12547995] ACT: [-0.30998938 -0.3923093 ] \n",
      "STATE: [ 0.27792816  0.34886596 -0.13622174 -0.15220345] ACT: [-0.30063712 -0.39952136] \n",
      "STATE: [ 0.22416645  0.2868598  -0.15360491 -0.17716044] ACT: [-0.30083104 -0.39937537] \n",
      "STATE: [ 0.16470817  0.21670077 -0.16988079 -0.20045438] ACT: [-0.30121375 -0.39908681] \n",
      "STATE: [ 0.09988486  0.13895594 -0.18520946 -0.22212809] ACT: [-0.30259537 -0.39804025] \n",
      "STATE: [ 0.04761262  0.07918291 -0.14934925 -0.17078007] ACT: [0.27092382 0.42023837] \n",
      "STATE: [ 0.00826634  0.03534526 -0.11241797 -0.12525044] ACT: [0.31005986 0.3922536 ] \n",
      "final state  [0.00826634 0.03534526]\n",
      "STATE: [ 0.77105089  0.63860155 -0.02621401 -0.03502696] ACT: [-0.2995887  -0.40030814] \n",
      "STATE: [ 0.75331393  0.61487917 -0.05067703 -0.06777823] ACT: [-0.2992379  -0.40057044] \n",
      "STATE: [ 0.7275804   0.58044341 -0.07352435 -0.0983879 ] ACT: [-0.29912002 -0.40065848] \n",
      "STATE: [ 0.69454512  0.53590939 -0.09438653 -0.12724005] ACT: [-0.29356813 -0.4035298 ] \n",
      "STATE: [ 0.6558445   0.48245648 -0.11057319 -0.15272259] ACT: [-0.25578031 -0.38665902] \n",
      "STATE: [ 0.6175044   0.42185548 -0.10954314 -0.17314571] ACT: [-0.07115789 -0.34794904] \n",
      "STATE: [ 0.57865249  0.35145968 -0.11100545 -0.20113087] ACT: [-0.09886944 -0.44968968] \n",
      "STATE: [ 0.53388367  0.27292469 -0.12791093 -0.22438568] ACT: [-0.27645963 -0.41661742] \n",
      "STATE: [ 0.48309083  0.18712761 -0.14512239 -0.24513452] ACT: [-0.2926356 -0.4054188] \n",
      "STATE: [ 0.42638682  0.09475388 -0.16201144 -0.26392494] ACT: [-0.30185952 -0.39859858] \n",
      "STATE: [ 0.36362816 -0.00334363 -0.17931047 -0.2802786 ] ACT: [-0.31921177 -0.38484263] \n",
      "final state  [ 0.36362816 -0.00334363]\n",
      "STATE: [ 0.84434413  0.76883782 -0.02608218 -0.03512524] ACT: [-0.29808203 -0.40143132] \n",
      "STATE: [ 0.82668568  0.74505693 -0.05045271 -0.06794539] ACT: [-0.29808203 -0.40143132] \n",
      "STATE: [ 0.80106354  0.7105382  -0.07320612 -0.09862493] ACT: [-0.29787846 -0.4015824 ] \n",
      "STATE: [ 0.76797109  0.66600805 -0.09454986 -0.12722902] ACT: [-0.29883309 -0.40087253] \n",
      "STATE: [ 0.72787542  0.61214075 -0.11455904 -0.15390657] ACT: [-0.2995887  -0.40030814] \n",
      "STATE: [ 0.68171659  0.55000134 -0.13188236 -0.17754117] ACT: [-0.28390012 -0.38553964] \n",
      "STATE: [ 0.63075367  0.48009839 -0.14560836 -0.1997227 ] ACT: [-0.25578031 -0.38665902] \n",
      "STATE: [ 0.58461214  0.40074464 -0.13183295 -0.226725  ] ACT: [ 0.04822702 -0.45838976] \n",
      "STATE: [ 0.53677029  0.3120343  -0.136691   -0.25345811] ACT: [-0.15439534 -0.47556501] \n",
      "STATE: [ 0.48327169  0.21661177 -0.15285315 -0.27263582] ACT: [-0.2872285  -0.40926738] \n",
      "STATE: [ 0.424078    0.11521517 -0.1691248  -0.28970455] ACT: [-0.30060164 -0.39954806] \n",
      "STATE: [ 0.35908398  0.00861209 -0.1856972  -0.30458024] ACT: [-0.31624242 -0.38728637] \n",
      "STATE: [ 0.28746799 -0.10176278 -0.20461712 -0.31535677] ACT: [-0.35550057 -0.35159543] \n",
      "final state  [ 0.28746799 -0.10176278]\n",
      "STATE: [ 0.85977229  0.62979163 -0.02629187 -0.03496856] ACT: [-0.30047851 -0.39964067] \n",
      "STATE: [ 0.84197188  0.60611682 -0.05085833 -0.06764231] ACT: [-0.30047851 -0.39964067] \n",
      "STATE: [ 0.81614566  0.57175051 -0.07378918 -0.09818945] ACT: [-0.30021057 -0.39984199] \n",
      "STATE: [ 0.7828291   0.52738777 -0.09519019 -0.1267507 ] ACT: [-0.29992486 -0.40005635] \n",
      "STATE: [ 0.7425057   0.47369063 -0.1152097  -0.1534204 ] ACT: [-0.30018707 -0.39985963] \n",
      "STATE: [ 0.69587581  0.41109474 -0.13322826 -0.17884539] ACT: [-0.29233366 -0.40563658] \n",
      "STATE: [ 0.64388326  0.33981882 -0.14855013 -0.20364549] ACT: [-0.27502825 -0.41756372] \n",
      "STATE: [ 0.58662066  0.26060712 -0.16360743 -0.22631915] ACT: [-0.283496   -0.41186165] \n",
      "STATE: [ 0.52414659  0.17418306 -0.17849737 -0.24692588] ACT: [-0.29287633 -0.40524493] \n",
      "STATE: [ 0.45653132  0.08122092 -0.19318648 -0.2656061 ] ACT: [-0.30174855 -0.39868259] \n",
      "STATE: [ 0.38360475 -0.01744897 -0.20836162 -0.28191399] ACT: [-0.31832007 -0.38558051] \n",
      "final state  [ 0.38360475 -0.01744897]\n",
      "STATE: [ 0.76656811  0.83113688 -0.02614551 -0.03507812] ACT: [-0.29880584 -0.40089284] \n",
      "STATE: [ 0.74890567  0.807359   -0.0504641  -0.0679368 ] ACT: [-0.29753582 -0.40183633] \n",
      "STATE: [ 0.72329206  0.772834   -0.07318176 -0.09864284] ACT: [-0.29747851 -0.40187876] \n",
      "STATE: [ 0.69022446  0.72828542 -0.09447885 -0.12728167] ACT: [-0.29828159 -0.40128306] \n",
      "STATE: [ 0.65016263  0.67439297 -0.11446239 -0.15397842] ACT: [-0.29924251 -0.400567  ] \n",
      "STATE: [ 0.60354589  0.61178456 -0.13319068 -0.17888118] ACT: [-0.29988433 -0.40008673] \n",
      "STATE: [ 0.55614461  0.54842968 -0.13543222 -0.18101393] ACT: [-0.12551065 -0.15853517] \n",
      "STATE: [ 0.51536898  0.49486423 -0.1165018  -0.15304414] ACT: [0.11477347 0.18389425] \n",
      "STATE: [ 0.48667259  0.45689913 -0.0819897  -0.10847172] ACT: [0.30704764 0.39461595] \n",
      "STATE: [ 0.4694816   0.43333707 -0.04911711 -0.06732018] ACT: [0.31419453 0.38894961] \n",
      "COLLIDED\n",
      "STATE: [ 0.44453828  0.39884691 -0.07126662 -0.09854331] ACT: [-0.28997516 -0.40732592] \n",
      "COLLIDED\n",
      "STATE: [ 0.41231011  0.3541753  -0.09208049 -0.12763319] ACT: [-0.29132271 -0.40636324] \n",
      "STATE: [ 0.37306618  0.30014289 -0.11212552 -0.15437831] ACT: [-0.29814646 -0.40138346] \n",
      "STATE: [ 0.32721588  0.23740204 -0.13100086 -0.17925955] ACT: [-0.29981224 -0.40014075] \n",
      "STATE: [ 0.27504498  0.16663638 -0.1490597  -0.2021876 ] ACT: [-0.30463749 -0.39647951] \n",
      "STATE: [ 0.2168285   0.08848123 -0.16633282 -0.22330044] ACT: [-0.30920178 -0.39293035] \n",
      "STATE: [ 0.14932098  0.00754542 -0.19287862 -0.23124517] ACT: [-0.4281302  -0.25827221] \n",
      "STATE: [ 0.09484323 -0.05540934 -0.15565071 -0.17987074] ACT: [0.28080286 0.41370249] \n",
      "final state  [ 0.09484323 -0.05540934]\n",
      "STATE: [ 0.84447261  0.71368346 -0.02595419 -0.03521992] ACT: [-0.29661927 -0.40251336] \n",
      "STATE: [ 0.82690081  0.68983847 -0.05020513 -0.06812853] ACT: [-0.29661927 -0.40251336] \n",
      "STATE: [ 0.80128177  0.655318   -0.07319728 -0.09862992] ACT: [-0.30042125 -0.39968372] \n",
      "STATE: [ 0.76815969  0.61081052 -0.09463452 -0.12716422] ACT: [-0.29989498 -0.40007874] \n",
      "STATE: [ 0.72805724  0.5569488  -0.11457842 -0.15389065] ACT: [-0.2989062  -0.40081802] \n",
      "STATE: [ 0.68163913  0.49419528 -0.13262317 -0.17929575] ACT: [-0.29215949 -0.40576204] \n",
      "STATE: [ 0.63174687  0.42365472 -0.14254931 -0.20154447] ACT: [-0.21290907 -0.3887429 ] \n",
      "STATE: [ 0.58210091  0.34397163 -0.14184559 -0.22766596] ACT: [-0.09886944 -0.44968968] \n",
      "STATE: [ 0.5272464   0.25675884 -0.15672719 -0.24917941] ACT: [-0.27645963 -0.41661742] \n",
      "STATE: [ 0.46688636  0.1629582  -0.17245726 -0.26800182] ACT: [-0.29731758 -0.40199783] \n",
      "STATE: [ 0.4011482   0.06317853 -0.18782332 -0.28508479] ACT: [-0.30495509 -0.39623527] \n",
      "STATE: [ 0.32967876 -0.04161009 -0.20419839 -0.29939604] ACT: [-0.32801112 -0.37737078] \n",
      "final state  [ 0.32967876 -0.04161009]\n",
      "After 8 REWARD:  (0.7712273523503494, array([ 0.18888336,  0.02359635, -0.18228474, -0.23481676]), -0.23020337532379354)\n",
      "UPDATING THE ACTION MATRIX\n"
     ]
    },
    {
     "name": "stderr",
     "output_type": "stream",
     "text": [
      "100%|█████████████████████████████████████████████████████████████████████████████████████████████████████████████████████████| 25/25 [00:03<00:00,  7.07it/s]\n",
      "Generating Dynamics Dataset: 100%|██████████████████████████████████████████████████████████████████████████████████████████| 15/15 [00:00<00:00, 1929.24it/s]\n"
     ]
    },
    {
     "name": "stdout",
     "output_type": "stream",
     "text": [
      "COLLIDED\n",
      "COLLIDED\n",
      "COLLIDED\n"
     ]
    },
    {
     "name": "stderr",
     "output_type": "stream",
     "text": [
      "100%|████████████████████████████████████████████████████████████████████████████████████████████████████████████████████████| 54/54 [00:00<00:00, 234.24it/s]\n"
     ]
    },
    {
     "name": "stdout",
     "output_type": "stream",
     "text": [
      "Epoch 1, loss: 0.000, err: 0.019, val_loss: 0.001, val_err: 0.030\n"
     ]
    },
    {
     "name": "stderr",
     "output_type": "stream",
     "text": [
      "100%|████████████████████████████████████████████████████████████████████████████████████████████████████████████████████████| 54/54 [00:00<00:00, 238.66it/s]\n"
     ]
    },
    {
     "name": "stdout",
     "output_type": "stream",
     "text": [
      "Epoch 2, loss: 0.000, err: 0.019, val_loss: 0.001, val_err: 0.030\n"
     ]
    },
    {
     "name": "stderr",
     "output_type": "stream",
     "text": [
      "100%|████████████████████████████████████████████████████████████████████████████████████████████████████████████████████████| 54/54 [00:00<00:00, 237.72it/s]\n"
     ]
    },
    {
     "name": "stdout",
     "output_type": "stream",
     "text": [
      "Epoch 3, loss: 0.000, err: 0.019, val_loss: 0.001, val_err: 0.030\n"
     ]
    },
    {
     "name": "stderr",
     "output_type": "stream",
     "text": [
      "100%|████████████████████████████████████████████████████████████████████████████████████████████████████████████████████████| 54/54 [00:00<00:00, 232.74it/s]\n"
     ]
    },
    {
     "name": "stdout",
     "output_type": "stream",
     "text": [
      "Epoch 4, loss: 0.000, err: 0.019, val_loss: 0.001, val_err: 0.031\n"
     ]
    },
    {
     "name": "stderr",
     "output_type": "stream",
     "text": [
      "100%|████████████████████████████████████████████████████████████████████████████████████████████████████████████████████████| 54/54 [00:00<00:00, 235.10it/s]\n"
     ]
    },
    {
     "name": "stdout",
     "output_type": "stream",
     "text": [
      "Epoch 5, loss: 0.000, err: 0.019, val_loss: 0.001, val_err: 0.030\n"
     ]
    },
    {
     "name": "stderr",
     "output_type": "stream",
     "text": [
      "100%|████████████████████████████████████████████████████████████████████████████████████████████████████████████████████████| 54/54 [00:00<00:00, 237.28it/s]\n"
     ]
    },
    {
     "name": "stdout",
     "output_type": "stream",
     "text": [
      "Epoch 6, loss: 0.000, err: 0.018, val_loss: 0.001, val_err: 0.030\n"
     ]
    },
    {
     "name": "stderr",
     "output_type": "stream",
     "text": [
      "100%|████████████████████████████████████████████████████████████████████████████████████████████████████████████████████████| 54/54 [00:00<00:00, 239.66it/s]\n"
     ]
    },
    {
     "name": "stdout",
     "output_type": "stream",
     "text": [
      "Epoch 7, loss: 0.000, err: 0.018, val_loss: 0.001, val_err: 0.030\n"
     ]
    },
    {
     "name": "stderr",
     "output_type": "stream",
     "text": [
      "100%|████████████████████████████████████████████████████████████████████████████████████████████████████████████████████████| 54/54 [00:00<00:00, 238.67it/s]\n"
     ]
    },
    {
     "name": "stdout",
     "output_type": "stream",
     "text": [
      "Epoch 8, loss: 0.000, err: 0.018, val_loss: 0.001, val_err: 0.031\n"
     ]
    },
    {
     "name": "stderr",
     "output_type": "stream",
     "text": [
      "100%|████████████████████████████████████████████████████████████████████████████████████████████████████████████████████████| 54/54 [00:00<00:00, 239.95it/s]\n"
     ]
    },
    {
     "name": "stdout",
     "output_type": "stream",
     "text": [
      "Epoch 9, loss: 0.000, err: 0.018, val_loss: 0.001, val_err: 0.028\n"
     ]
    },
    {
     "name": "stderr",
     "output_type": "stream",
     "text": [
      "100%|████████████████████████████████████████████████████████████████████████████████████████████████████████████████████████| 54/54 [00:00<00:00, 240.88it/s]\n"
     ]
    },
    {
     "name": "stdout",
     "output_type": "stream",
     "text": [
      "Epoch 10, loss: 0.000, err: 0.018, val_loss: 0.001, val_err: 0.031\n"
     ]
    },
    {
     "name": "stderr",
     "output_type": "stream",
     "text": [
      "100%|████████████████████████████████████████████████████████████████████████████████████████████████████████████████████████| 54/54 [00:00<00:00, 237.70it/s]\n"
     ]
    },
    {
     "name": "stdout",
     "output_type": "stream",
     "text": [
      "Epoch 11, loss: 0.000, err: 0.018, val_loss: 0.001, val_err: 0.029\n"
     ]
    },
    {
     "name": "stderr",
     "output_type": "stream",
     "text": [
      "100%|████████████████████████████████████████████████████████████████████████████████████████████████████████████████████████| 54/54 [00:00<00:00, 227.77it/s]\n"
     ]
    },
    {
     "name": "stdout",
     "output_type": "stream",
     "text": [
      "Epoch 12, loss: 0.000, err: 0.018, val_loss: 0.001, val_err: 0.030\n"
     ]
    },
    {
     "name": "stderr",
     "output_type": "stream",
     "text": [
      "100%|████████████████████████████████████████████████████████████████████████████████████████████████████████████████████████| 54/54 [00:00<00:00, 233.07it/s]\n"
     ]
    },
    {
     "name": "stdout",
     "output_type": "stream",
     "text": [
      "Epoch 13, loss: 0.000, err: 0.018, val_loss: 0.001, val_err: 0.030\n"
     ]
    },
    {
     "name": "stderr",
     "output_type": "stream",
     "text": [
      "100%|████████████████████████████████████████████████████████████████████████████████████████████████████████████████████████| 54/54 [00:00<00:00, 236.28it/s]\n"
     ]
    },
    {
     "name": "stdout",
     "output_type": "stream",
     "text": [
      "Epoch 14, loss: 0.000, err: 0.018, val_loss: 0.001, val_err: 0.029\n"
     ]
    },
    {
     "name": "stderr",
     "output_type": "stream",
     "text": [
      "100%|████████████████████████████████████████████████████████████████████████████████████████████████████████████████████████| 54/54 [00:00<00:00, 236.53it/s]\n"
     ]
    },
    {
     "name": "stdout",
     "output_type": "stream",
     "text": [
      "Epoch 15, loss: 0.000, err: 0.018, val_loss: 0.001, val_err: 0.029\n"
     ]
    },
    {
     "name": "stderr",
     "output_type": "stream",
     "text": [
      "100%|████████████████████████████████████████████████████████████████████████████████████████████████████████████████████████| 54/54 [00:00<00:00, 236.66it/s]\n"
     ]
    },
    {
     "name": "stdout",
     "output_type": "stream",
     "text": [
      "Epoch 16, loss: 0.000, err: 0.018, val_loss: 0.001, val_err: 0.029\n"
     ]
    },
    {
     "name": "stderr",
     "output_type": "stream",
     "text": [
      "100%|████████████████████████████████████████████████████████████████████████████████████████████████████████████████████████| 54/54 [00:00<00:00, 237.34it/s]\n"
     ]
    },
    {
     "name": "stdout",
     "output_type": "stream",
     "text": [
      "Epoch 17, loss: 0.000, err: 0.018, val_loss: 0.001, val_err: 0.029\n"
     ]
    },
    {
     "name": "stderr",
     "output_type": "stream",
     "text": [
      "100%|████████████████████████████████████████████████████████████████████████████████████████████████████████████████████████| 54/54 [00:00<00:00, 236.99it/s]\n"
     ]
    },
    {
     "name": "stdout",
     "output_type": "stream",
     "text": [
      "Epoch 18, loss: 0.000, err: 0.018, val_loss: 0.001, val_err: 0.030\n"
     ]
    },
    {
     "name": "stderr",
     "output_type": "stream",
     "text": [
      "100%|████████████████████████████████████████████████████████████████████████████████████████████████████████████████████████| 54/54 [00:00<00:00, 237.51it/s]\n"
     ]
    },
    {
     "name": "stdout",
     "output_type": "stream",
     "text": [
      "Epoch 19, loss: 0.000, err: 0.018, val_loss: 0.001, val_err: 0.029\n"
     ]
    },
    {
     "name": "stderr",
     "output_type": "stream",
     "text": [
      "100%|████████████████████████████████████████████████████████████████████████████████████████████████████████████████████████| 54/54 [00:00<00:00, 228.10it/s]\n"
     ]
    },
    {
     "name": "stdout",
     "output_type": "stream",
     "text": [
      "Epoch 20, loss: 0.000, err: 0.018, val_loss: 0.001, val_err: 0.029\n"
     ]
    },
    {
     "name": "stderr",
     "output_type": "stream",
     "text": [
      "100%|████████████████████████████████████████████████████████████████████████████████████████████████████████████████████████| 54/54 [00:00<00:00, 234.97it/s]\n"
     ]
    },
    {
     "name": "stdout",
     "output_type": "stream",
     "text": [
      "Epoch 21, loss: 0.000, err: 0.018, val_loss: 0.001, val_err: 0.029\n"
     ]
    },
    {
     "name": "stderr",
     "output_type": "stream",
     "text": [
      "100%|████████████████████████████████████████████████████████████████████████████████████████████████████████████████████████| 54/54 [00:00<00:00, 237.36it/s]\n"
     ]
    },
    {
     "name": "stdout",
     "output_type": "stream",
     "text": [
      "Epoch 22, loss: 0.000, err: 0.018, val_loss: 0.001, val_err: 0.029\n"
     ]
    },
    {
     "name": "stderr",
     "output_type": "stream",
     "text": [
      "100%|████████████████████████████████████████████████████████████████████████████████████████████████████████████████████████| 54/54 [00:00<00:00, 237.17it/s]\n"
     ]
    },
    {
     "name": "stdout",
     "output_type": "stream",
     "text": [
      "Epoch 23, loss: 0.000, err: 0.018, val_loss: 0.001, val_err: 0.028\n"
     ]
    },
    {
     "name": "stderr",
     "output_type": "stream",
     "text": [
      "100%|████████████████████████████████████████████████████████████████████████████████████████████████████████████████████████| 54/54 [00:00<00:00, 234.61it/s]\n"
     ]
    },
    {
     "name": "stdout",
     "output_type": "stream",
     "text": [
      "Epoch 24, loss: 0.000, err: 0.018, val_loss: 0.001, val_err: 0.028\n"
     ]
    },
    {
     "name": "stderr",
     "output_type": "stream",
     "text": [
      "100%|████████████████████████████████████████████████████████████████████████████████████████████████████████████████████████| 54/54 [00:00<00:00, 232.75it/s]\n"
     ]
    },
    {
     "name": "stdout",
     "output_type": "stream",
     "text": [
      "Epoch 25, loss: 0.000, err: 0.018, val_loss: 0.001, val_err: 0.028\n"
     ]
    },
    {
     "name": "stderr",
     "output_type": "stream",
     "text": [
      "100%|████████████████████████████████████████████████████████████████████████████████████████████████████████████████████████| 54/54 [00:00<00:00, 229.30it/s]\n"
     ]
    },
    {
     "name": "stdout",
     "output_type": "stream",
     "text": [
      "Epoch 26, loss: 0.000, err: 0.017, val_loss: 0.001, val_err: 0.028\n"
     ]
    },
    {
     "name": "stderr",
     "output_type": "stream",
     "text": [
      "100%|████████████████████████████████████████████████████████████████████████████████████████████████████████████████████████| 54/54 [00:00<00:00, 234.83it/s]\n"
     ]
    },
    {
     "name": "stdout",
     "output_type": "stream",
     "text": [
      "Epoch 27, loss: 0.000, err: 0.017, val_loss: 0.001, val_err: 0.028\n"
     ]
    },
    {
     "name": "stderr",
     "output_type": "stream",
     "text": [
      "100%|████████████████████████████████████████████████████████████████████████████████████████████████████████████████████████| 54/54 [00:00<00:00, 232.01it/s]\n"
     ]
    },
    {
     "name": "stdout",
     "output_type": "stream",
     "text": [
      "Epoch 28, loss: 0.000, err: 0.017, val_loss: 0.001, val_err: 0.028\n"
     ]
    },
    {
     "name": "stderr",
     "output_type": "stream",
     "text": [
      "100%|████████████████████████████████████████████████████████████████████████████████████████████████████████████████████████| 54/54 [00:00<00:00, 234.61it/s]\n"
     ]
    },
    {
     "name": "stdout",
     "output_type": "stream",
     "text": [
      "Epoch 29, loss: 0.000, err: 0.017, val_loss: 0.001, val_err: 0.028\n"
     ]
    },
    {
     "name": "stderr",
     "output_type": "stream",
     "text": [
      "100%|████████████████████████████████████████████████████████████████████████████████████████████████████████████████████████| 54/54 [00:00<00:00, 228.39it/s]\n"
     ]
    },
    {
     "name": "stdout",
     "output_type": "stream",
     "text": [
      "Epoch 30, loss: 0.000, err: 0.017, val_loss: 0.001, val_err: 0.028\n"
     ]
    },
    {
     "name": "stderr",
     "output_type": "stream",
     "text": [
      "100%|████████████████████████████████████████████████████████████████████████████████████████████████████████████████████████| 54/54 [00:00<00:00, 233.13it/s]\n"
     ]
    },
    {
     "name": "stdout",
     "output_type": "stream",
     "text": [
      "Epoch 31, loss: 0.000, err: 0.017, val_loss: 0.001, val_err: 0.029\n"
     ]
    },
    {
     "name": "stderr",
     "output_type": "stream",
     "text": [
      "100%|████████████████████████████████████████████████████████████████████████████████████████████████████████████████████████| 54/54 [00:00<00:00, 233.52it/s]\n"
     ]
    },
    {
     "name": "stdout",
     "output_type": "stream",
     "text": [
      "Epoch 32, loss: 0.000, err: 0.017, val_loss: 0.001, val_err: 0.028\n"
     ]
    },
    {
     "name": "stderr",
     "output_type": "stream",
     "text": [
      "100%|████████████████████████████████████████████████████████████████████████████████████████████████████████████████████████| 54/54 [00:00<00:00, 236.18it/s]\n"
     ]
    },
    {
     "name": "stdout",
     "output_type": "stream",
     "text": [
      "Epoch 33, loss: 0.000, err: 0.017, val_loss: 0.001, val_err: 0.028\n"
     ]
    },
    {
     "name": "stderr",
     "output_type": "stream",
     "text": [
      "100%|████████████████████████████████████████████████████████████████████████████████████████████████████████████████████████| 54/54 [00:00<00:00, 237.88it/s]\n"
     ]
    },
    {
     "name": "stdout",
     "output_type": "stream",
     "text": [
      "Epoch 34, loss: 0.000, err: 0.017, val_loss: 0.001, val_err: 0.027\n"
     ]
    },
    {
     "name": "stderr",
     "output_type": "stream",
     "text": [
      "100%|████████████████████████████████████████████████████████████████████████████████████████████████████████████████████████| 54/54 [00:00<00:00, 237.08it/s]\n"
     ]
    },
    {
     "name": "stdout",
     "output_type": "stream",
     "text": [
      "Epoch 35, loss: 0.000, err: 0.017, val_loss: 0.001, val_err: 0.027\n"
     ]
    },
    {
     "name": "stderr",
     "output_type": "stream",
     "text": [
      "100%|████████████████████████████████████████████████████████████████████████████████████████████████████████████████████████| 54/54 [00:00<00:00, 237.07it/s]\n"
     ]
    },
    {
     "name": "stdout",
     "output_type": "stream",
     "text": [
      "Epoch 36, loss: 0.000, err: 0.017, val_loss: 0.001, val_err: 0.028\n"
     ]
    },
    {
     "name": "stderr",
     "output_type": "stream",
     "text": [
      "100%|████████████████████████████████████████████████████████████████████████████████████████████████████████████████████████| 54/54 [00:00<00:00, 231.20it/s]\n"
     ]
    },
    {
     "name": "stdout",
     "output_type": "stream",
     "text": [
      "Epoch 37, loss: 0.000, err: 0.017, val_loss: 0.001, val_err: 0.027\n"
     ]
    },
    {
     "name": "stderr",
     "output_type": "stream",
     "text": [
      "100%|████████████████████████████████████████████████████████████████████████████████████████████████████████████████████████| 54/54 [00:00<00:00, 235.23it/s]\n"
     ]
    },
    {
     "name": "stdout",
     "output_type": "stream",
     "text": [
      "Epoch 38, loss: 0.000, err: 0.017, val_loss: 0.001, val_err: 0.027\n"
     ]
    },
    {
     "name": "stderr",
     "output_type": "stream",
     "text": [
      "100%|████████████████████████████████████████████████████████████████████████████████████████████████████████████████████████| 54/54 [00:00<00:00, 237.81it/s]\n"
     ]
    },
    {
     "name": "stdout",
     "output_type": "stream",
     "text": [
      "Epoch 39, loss: 0.000, err: 0.018, val_loss: 0.001, val_err: 0.027\n"
     ]
    },
    {
     "name": "stderr",
     "output_type": "stream",
     "text": [
      "100%|████████████████████████████████████████████████████████████████████████████████████████████████████████████████████████| 10/10 [00:00<00:00, 557.11it/s]\n"
     ]
    },
    {
     "name": "stdout",
     "output_type": "stream",
     "text": [
      "STATE: [ 0.8057423   0.79535613 -0.02598728 -0.03519551] ACT: [-0.29699746 -0.4022344 ] \n",
      "STATE: [ 0.78810277  0.77156126 -0.05039865 -0.06798532] ACT: [-0.29847755 -0.40113732] \n",
      "STATE: [ 0.76249389  0.73703276 -0.07316823 -0.09865288] ACT: [-0.29802274 -0.40147534] \n",
      "STATE: [ 0.72939553  0.69250713 -0.09456674 -0.12721609] ACT: [-0.29943061 -0.40042641] \n",
      "STATE: [ 0.68923685  0.63868729 -0.11473908 -0.15377096] ACT: [-0.30146607 -0.39889624] \n",
      "STATE: [ 0.64248022  0.57618392 -0.13359038 -0.17858106] ACT: [-0.30149776 -0.39887229] \n",
      "STATE: [ 0.59457909  0.51242996 -0.13686037 -0.18215417] ACT: [-0.13756407 -0.17477133] \n",
      "STATE: [ 0.55358595  0.45367585 -0.11712325 -0.16786889] ACT: [0.12292179 0.0266447 ] \n",
      "STATE: [ 0.51099735  0.3906606  -0.12168173 -0.18004356] ACT: [-0.13993934 -0.26504067] \n",
      "STATE: [ 0.46321377  0.318718   -0.13652451 -0.20555029] ACT: [-0.26089304 -0.42653818] \n",
      "STATE: [ 0.40943874  0.23920168 -0.15364294 -0.2271895 ] ACT: [-0.29803261 -0.40146801] \n",
      "STATE: [ 0.34985475  0.1527679  -0.17023998 -0.24695363] ACT: [-0.30491267 -0.39626792] \n",
      "STATE: [ 0.28452282  0.06012388 -0.18666265 -0.26469722] ACT: [-0.31536765 -0.38799903] \n",
      "STATE: [ 0.21297156 -0.03757955 -0.20443218 -0.27915265] ACT: [-0.34307733 -0.36372784] \n",
      "final state  [ 0.21297156 -0.03757955]\n",
      "STATE: [ 0.71397103  0.59951097 -0.0249606  -0.03312304] ACT: [-0.28526403 -0.37854909] \n",
      "STATE: [ 0.69707193  0.57708564 -0.04828317 -0.06407239] ACT: [-0.28526403 -0.37854909] \n",
      "STATE: [ 0.67343276  0.54535671 -0.06754046 -0.09065407] ACT: [-0.25629577 -0.35184496] \n",
      "STATE: [ 0.64450765  0.50588174 -0.08264318 -0.11278562] ACT: [-0.22325785 -0.32092253] \n",
      "STATE: [ 0.61026464  0.45740934 -0.09783717 -0.13849259] ACT: [-0.23562793 -0.37838315] \n",
      "STATE: [ 0.57284071  0.40263209 -0.10692551 -0.15650641] ACT: [-0.17724465 -0.30974166] \n",
      "STATE: [ 0.53729077  0.33614817 -0.10157128 -0.18995407] ACT: [-0.01900294 -0.49963876] \n",
      "STATE: [ 0.49543862  0.26138184 -0.11957756 -0.2136181 ] ACT: [-0.2819645  -0.41291164] \n",
      "STATE: [ 0.44713926  0.17927674 -0.13799816 -0.234586  ] ACT: [-0.30020434 -0.39984666] \n",
      "STATE: [ 0.39260454  0.09047598 -0.1558135  -0.25371645] ACT: [-0.30710245 -0.3945733 ] \n",
      "STATE: [ 0.33178594 -0.00421045 -0.17376742 -0.27053265] ACT: [-0.32204787 -0.38247244] \n",
      "final state  [ 0.33178594 -0.00421045]\n",
      "STATE: [ 0.63970379  0.76092896 -0.0261477  -0.03507649] ACT: [-0.29883083 -0.40087421] \n",
      "STATE: [ 0.62198511  0.73719293 -0.05062479 -0.06781725] ACT: [-0.299349   -0.40048742] \n",
      "STATE: [ 0.59618912  0.70280419 -0.07370282 -0.09825353] ACT: [-0.30171745 -0.39870613] \n",
      "STATE: [ 0.56327943  0.659394   -0.09402768 -0.1240291 ] ACT: [-0.28756129 -0.36826816] \n",
      "STATE: [ 0.52748639  0.61420126 -0.10226585 -0.12912212] ACT: [-0.1646712  -0.15122769] \n",
      "STATE: [ 0.48449426  0.56000315 -0.12283464 -0.15485176] ACT: [-0.31177133 -0.39089467] \n",
      "STATE: [ 0.43450999  0.4976073  -0.1428122  -0.17827384] ACT: [-0.32044094 -0.38381975] \n",
      "COLLIDED\n",
      "STATE: [ 0.37801866  0.42752986 -0.16140381 -0.20022126] ACT: [-0.31958465 -0.38453303] \n",
      "STATE: [ 0.31594188  0.34988086 -0.17736224 -0.22185429] ACT: [-0.30343499 -0.39740056] \n",
      "STATE: [ 0.24869393  0.26512087 -0.19213697 -0.2421714 ] ACT: [-0.30187575 -0.39858629] \n",
      "STATE: [ 0.17655384  0.17376249 -0.20611456 -0.26102393] ACT: [-0.30384653 -0.39708599] \n",
      "STATE: [ 0.1005716   0.07571412 -0.21709212 -0.2801382 ] ACT: [-0.2800438  -0.41421669] \n",
      "STATE: [ 0.04107709 -0.02600875 -0.16998431 -0.29063678] ACT: [ 0.37555595 -0.33008745] \n",
      "final state  [ 0.04107709 -0.02600875]\n",
      "STATE: [ 0.72241602  0.72831606 -0.02617207 -0.03505831] ACT: [-0.2991094 -0.4006664] \n",
      "STATE: [ 0.70465587  0.70461108 -0.05074328 -0.06772851] ACT: [-0.30044289 -0.39966745] \n",
      "STATE: [ 0.67886017  0.67022193 -0.07370201 -0.09825473] ACT: [-0.30044289 -0.39966745] \n",
      "STATE: [ 0.64556224  0.62594575 -0.09513694 -0.12650338] ACT: [-0.30024717 -0.39653275] \n",
      "STATE: [ 0.60511343  0.57243802 -0.11556802 -0.1528792 ] ACT: [-0.30485081 -0.39631551] \n",
      "STATE: [ 0.56986539  0.52619276 -0.10070868 -0.13212932] ACT: [0.0831451  0.12248211] \n",
      "STATE: [ 0.54366284  0.49039484 -0.07486443 -0.10227979] ACT: [0.21983131 0.24204046] \n",
      "STATE: [ 0.51783102  0.45511409 -0.07380521 -0.10080214] ACT: [-0.0440429  -0.05982235] \n",
      "STATE: [ 0.48431245  0.41004693 -0.09576735 -0.12876332] ACT: [-0.3063498  -0.39515794] \n",
      "STATE: [ 0.44433646  0.35530687 -0.11421712 -0.15640016] ACT: [-0.28268    -0.41242213] \n",
      "STATE: [ 0.39794547  0.29179873 -0.13254569 -0.18145183] ACT: [-0.29513226 -0.40360494] \n",
      "STATE: [ 0.34532729  0.22027183 -0.15033765 -0.20436256] ACT: [-0.30274592 -0.39792576] \n",
      "STATE: [ 0.2867914   0.14132852 -0.16724541 -0.22555232] ACT: [-0.3059848  -0.39544065] \n",
      "STATE: [ 0.22245725  0.05566841 -0.18381185 -0.24474317] ACT: [-0.31476485 -0.38848821] \n",
      "STATE: [ 0.14932941 -0.02925478 -0.20893669 -0.24263768] ACT: [-0.42499992 -0.15949468] \n",
      "final state  [ 0.14932941 -0.02925478]\n",
      "STATE: [ 0.85474555  0.77217357 -0.02600753 -0.03518055] ACT: [-0.29722888 -0.40206342] \n",
      "STATE: [ 0.83713764  0.74835524 -0.05030831 -0.06805237] ACT: [-0.29722888 -0.40206342] \n",
      "STATE: [ 0.81152098  0.7138326  -0.07319046 -0.09863612] ACT: [-0.2992415  -0.40056775] \n",
      "STATE: [ 0.77841253  0.66931456 -0.09459555 -0.12719442] ACT: [-0.29952251 -0.40035767] \n",
      "STATE: [ 0.73822423  0.6155171  -0.11482373 -0.153707  ] ACT: [-0.30212582 -0.39839677] \n",
      "STATE: [ 0.69141778  0.55305141 -0.13373272 -0.17847341] ACT: [-0.30222055 -0.39832492] \n",
      "STATE: [ 0.64084573  0.48485678 -0.14449157 -0.19484181] ACT: [-0.22325785 -0.32092253] \n",
      "STATE: [ 0.59191469  0.41615048 -0.13980297 -0.1963037 ] ACT: [-0.05478462 -0.16283861] \n",
      "STATE: [ 0.55260315  0.34107791 -0.11231866 -0.21449306] ACT: [ 0.20925411 -0.35510614] \n",
      "STATE: [ 0.50723628  0.25828656 -0.12961965 -0.23654672] ACT: [-0.2819645  -0.41291164] \n",
      "STATE: [ 0.4556965   0.16865044 -0.14725651 -0.25610322] ACT: [-0.29877894 -0.40091289] \n",
      "STATE: [ 0.398134    0.07281287 -0.16446427 -0.27382161] ACT: [-0.30710245 -0.3945733 ] \n",
      "STATE: [ 0.33448633 -0.02844857 -0.18185049 -0.2893184 ] ACT: [-0.32204787 -0.38247244] \n",
      "final state  [ 0.33448633 -0.02844857]\n",
      "STATE: [ 0.70916934  0.62398631 -0.02483905 -0.03307308] ACT: [-0.28387486 -0.37797807] \n",
      "STATE: [ 0.69235253  0.6015948  -0.04804804 -0.06397574] ACT: [-0.28387486 -0.37797807] \n",
      "STATE: [ 0.66766138  0.56826833 -0.07054614 -0.09521849] ACT: [-0.29315716 -0.40504182] \n",
      "STATE: [ 0.63833144  0.52841034 -0.08379983 -0.11387998] ACT: [-0.20438035 -0.28468805] \n",
      "STATE: [ 0.60299571  0.47960762 -0.10095922 -0.13943634] ACT: [-0.25895718 -0.37748264] \n",
      "STATE: [ 0.57339935  0.43444161 -0.08456103 -0.12904574] ACT: [0.11168839 0.01417249] \n",
      "STATE: [ 0.54491867  0.38840011 -0.08137338 -0.13154713] ACT: [-0.02699039 -0.12537162] \n",
      "STATE: [ 0.51158086  0.33162396 -0.09525089 -0.16221759] ACT: [-0.21963021 -0.44917989] \n",
      "STATE: [ 0.47159599  0.26606701 -0.11424247 -0.18730556] ACT: [-0.28848475 -0.40838284] \n",
      "STATE: [ 0.42504138  0.19256694 -0.13301318 -0.21000021] ACT: [-0.30020434 -0.39984666] \n",
      "STATE: [ 0.37216439  0.11178515 -0.1510771  -0.23080511] ACT: [-0.30620464 -0.39527044] \n",
      "STATE: [ 0.3129754   0.024524   -0.1691114  -0.24931756] ACT: [-0.3194141  -0.38467471] \n",
      "STATE: [ 0.24648285 -0.06746553 -0.18997873 -0.26282723] ACT: [-0.36531734 -0.3413843 ] \n",
      "final state  [ 0.24648285 -0.06746553]\n",
      "STATE: [ 0.68513199  0.86548128 -0.02611147 -0.03510347] ACT: [-0.29841677 -0.40118254] \n",
      "STATE: [ 0.66744295  0.84172315 -0.05054014 -0.06788037] ACT: [-0.29876839 -0.40092075] \n",
      "STATE: [ 0.64182311  0.80720282 -0.07319953 -0.09862949] ACT: [-0.29686955 -0.40232881] \n",
      "STATE: [ 0.60875669  0.76265341 -0.09447549 -0.12728402] ACT: [-0.29805354 -0.40145247] \n",
      "STATE: [ 0.56861668  0.70881981 -0.11468573 -0.15381029] ACT: [-0.30183074 -0.39862037] \n",
      "STATE: [ 0.52395007  0.64990485 -0.12761891 -0.16832848] ACT: [-0.23382203 -0.28127983] \n",
      "STATE: [ 0.4719726   0.58659063 -0.14850705 -0.18089776] ACT: [-0.33443586 -0.26989529] \n",
      "STATE: [ 0.41889203  0.52370881 -0.15165878 -0.17966233] ACT: [-0.14740008 -0.12155414] \n",
      "STATE: [ 0.35947421  0.45320511 -0.1697652  -0.20143914] ACT: [-0.32067456 -0.38362459] \n",
      "STATE: [ 0.29455603  0.37524024 -0.18548051 -0.22275677] ACT: [-0.30692745 -0.39470944] \n",
      "STATE: [ 0.22460301  0.29022326 -0.19986576 -0.24290568] ACT: [-0.30351328 -0.39734077] \n",
      "STATE: [ 0.14995791  0.19860752 -0.2132717  -0.26175924] ACT: [-0.30311   -0.3976485] \n",
      "STATE: [ 0.07072507  0.100984   -0.22637955 -0.27892435] ACT: [-0.30975782 -0.39249215] \n",
      "STATE: [ 0.0048588   0.02271979 -0.18818935 -0.22361204] ACT: [0.26667484 0.42294743] \n",
      "final state  [0.0048588  0.02271979]\n",
      "STATE: [ 0.77073975  0.67446698 -0.02622796 -0.03501652] ACT: [-0.29974809 -0.40018881] \n",
      "STATE: [ 0.7529826   0.6507597  -0.05073471 -0.06773508] ACT: [-0.29974809 -0.40018881] \n",
      "STATE: [ 0.72716335  0.61638825 -0.07376928 -0.09820415] ACT: [-0.30130327 -0.39901923] \n",
      "STATE: [ 0.69434483  0.57269685 -0.09376722 -0.12483258] ACT: [-0.28387486 -0.37797807] \n",
      "STATE: [ 0.65583096  0.52109744 -0.11003963 -0.14742688] ACT: [-0.25629577 -0.35184496] \n",
      "STATE: [ 0.61262846  0.46129626 -0.12343572 -0.17086052] ACT: [-0.23562793 -0.37838315] \n",
      "STATE: [ 0.566833    0.39593369 -0.13084416 -0.18675019] ACT: [-0.17724465 -0.30974166] \n",
      "STATE: [ 0.52346091  0.31955911 -0.12392027 -0.2182131 ] ACT: [-0.01900294 -0.49963876] \n",
      "STATE: [ 0.47399299  0.23576635 -0.1413369  -0.23940787] ACT: [-0.29198749 -0.40588583] \n",
      "STATE: [ 0.41848392  0.14529813 -0.15859736 -0.25848063] ACT: [-0.30326504 -0.39753027] \n",
      "STATE: [ 0.35700463  0.04884787 -0.1756551  -0.27557218] ACT: [-0.31389362 -0.38919249] \n",
      "STATE: [ 0.28940313 -0.052732   -0.19314715 -0.29022819] ACT: [-0.33165046 -0.37417639] \n",
      "final state  [ 0.28940313 -0.052732  ]\n",
      "STATE: [ 0.61992145  0.74594169 -0.02619304 -0.03504265] ACT: [-0.299349   -0.40048742] \n",
      "STATE: [ 0.60211541  0.72227127 -0.0508744  -0.06762976] ACT: [-0.30171745 -0.39870613] \n",
      "STATE: [ 0.57667133  0.68887601 -0.07269738 -0.09541502] ACT: [-0.28756129 -0.36826816] \n",
      "STATE: [ 0.5446404   0.64792958 -0.09151693 -0.11698981] ACT: [-0.26960365 -0.31813031] \n",
      "STATE: [ 0.50645088  0.60466764 -0.10911292 -0.12360553] ACT: [-0.26973472 -0.1633505 ] \n",
      "STATE: [ 0.46121955  0.55227363 -0.12923238 -0.1496972 ] ACT: [-0.31177133 -0.39089467] \n",
      "STATE: [ 0.42697409  0.5163637  -0.09784417 -0.10259978] ACT: [0.26179809 0.42598329] \n",
      "STATE: [ 0.38515533  0.47106186 -0.11948217 -0.12943382] ACT: [-0.32067456 -0.38362459] \n",
      "STATE: [ 0.33668127  0.41664498 -0.1384973  -0.1554768 ] ACT: [-0.30692745 -0.39470944] \n",
      "STATE: [ 0.28209218  0.35363146 -0.15596885 -0.18003865] ACT: [-0.30354781 -0.3973144 ] \n",
      "STATE: [ 0.22181507  0.28256582 -0.17222031 -0.20304467] ACT: [-0.30270757 -0.39795493] \n",
      "STATE: [ 0.1562109   0.20398589 -0.18744047 -0.22451411] ACT: [-0.30311   -0.3976485] \n",
      "STATE: [ 0.08542568  0.11854268 -0.2022435  -0.24412343] ACT: [-0.30975782 -0.39249215] \n",
      "STATE: [ 0.01999385  0.03750383 -0.18694806 -0.23153958] ACT: [ 0.0231224  -0.03927709] \n",
      "final state  [0.01999385 0.03750383]\n",
      "STATE: [ 0.86697206  0.8715135  -0.02595611 -0.0352185 ] ACT: [-0.29664129 -0.40249713] \n",
      "STATE: [ 0.84935783  0.84769989 -0.05032635 -0.06803889] ACT: [-0.29798411 -0.40150401] \n",
      "STATE: [ 0.82379823  0.81313488 -0.07302745 -0.09875716] ACT: [-0.29718588 -0.40209521] \n",
      "STATE: [ 0.79082042  0.76851977 -0.0942223  -0.12747174] ACT: [-0.29699746 -0.4022344 ] \n",
      "STATE: [ 0.75087984  0.71453735 -0.11411595 -0.15423549] ACT: [-0.29802274 -0.40147534] \n",
      "STATE: [ 0.70438084  0.65184154 -0.13285429 -0.17913088] ACT: [-0.29973944 -0.40019529] \n",
      "STATE: [ 0.65215673  0.5817109  -0.14921172 -0.20037325] ACT: [-0.28658275 -0.37711813] \n",
      "STATE: [ 0.59710069  0.50746402 -0.15730298 -0.21213396] ACT: [-0.20438035 -0.28468805] \n",
      "STATE: [ 0.54942218  0.43890558 -0.13622432 -0.19588126] ACT: [0.12292179 0.0266447 ] \n",
      "STATE: [ 0.51665751  0.38136618 -0.09361333 -0.16439828] ACT: [0.38481451 0.21289455] \n",
      "STATE: [ 0.47747849  0.31490945 -0.11194006 -0.18987638] ACT: [-0.27965835 -0.41447703] \n",
      "STATE: [ 0.43182666  0.24045757 -0.13043382 -0.21271965] ACT: [-0.2953123  -0.40347323] \n",
      "STATE: [ 0.37983908  0.15875104 -0.14853594 -0.23344722] ACT: [-0.3047068  -0.39642624] \n",
      "STATE: [ 0.32177166  0.07039053 -0.1659069  -0.25245861] ACT: [-0.3099272  -0.39235842] \n",
      "STATE: [ 0.25706732 -0.02336598 -0.18486954 -0.26787574] ACT: [-0.34114608 -0.3655398 ] \n",
      "final state  [ 0.25706732 -0.02336598]\n",
      "After 9 REWARD:  (0.8699637951192818, array([ 0.18874563, -0.0208842 , -0.18821039, -0.26483609]), -0.3352718066040805)\n",
      "UPDATING THE ACTION MATRIX\n"
     ]
    },
    {
     "name": "stderr",
     "output_type": "stream",
     "text": [
      "100%|█████████████████████████████████████████████████████████████████████████████████████████████████████████████████████████| 25/25 [00:03<00:00,  7.02it/s]\n",
      "Generating Dynamics Dataset: 100%|██████████████████████████████████████████████████████████████████████████████████████████| 15/15 [00:00<00:00, 1919.18it/s]\n"
     ]
    },
    {
     "name": "stdout",
     "output_type": "stream",
     "text": [
      "COLLIDED\n",
      "COLLIDED\n",
      "COLLIDED\n"
     ]
    },
    {
     "name": "stderr",
     "output_type": "stream",
     "text": [
      "100%|████████████████████████████████████████████████████████████████████████████████████████████████████████████████████████| 58/58 [00:00<00:00, 231.07it/s]\n"
     ]
    },
    {
     "name": "stdout",
     "output_type": "stream",
     "text": [
      "Epoch 1, loss: 0.000, err: 0.016, val_loss: 0.001, val_err: 0.027\n"
     ]
    },
    {
     "name": "stderr",
     "output_type": "stream",
     "text": [
      "100%|████████████████████████████████████████████████████████████████████████████████████████████████████████████████████████| 58/58 [00:00<00:00, 236.77it/s]\n"
     ]
    },
    {
     "name": "stdout",
     "output_type": "stream",
     "text": [
      "Epoch 2, loss: 0.000, err: 0.016, val_loss: 0.001, val_err: 0.027\n"
     ]
    },
    {
     "name": "stderr",
     "output_type": "stream",
     "text": [
      "100%|████████████████████████████████████████████████████████████████████████████████████████████████████████████████████████| 58/58 [00:00<00:00, 236.75it/s]\n"
     ]
    },
    {
     "name": "stdout",
     "output_type": "stream",
     "text": [
      "Epoch 3, loss: 0.000, err: 0.016, val_loss: 0.001, val_err: 0.027\n"
     ]
    },
    {
     "name": "stderr",
     "output_type": "stream",
     "text": [
      "100%|████████████████████████████████████████████████████████████████████████████████████████████████████████████████████████| 58/58 [00:00<00:00, 237.64it/s]\n"
     ]
    },
    {
     "name": "stdout",
     "output_type": "stream",
     "text": [
      "Epoch 4, loss: 0.000, err: 0.016, val_loss: 0.001, val_err: 0.027\n"
     ]
    },
    {
     "name": "stderr",
     "output_type": "stream",
     "text": [
      "100%|████████████████████████████████████████████████████████████████████████████████████████████████████████████████████████| 58/58 [00:00<00:00, 235.26it/s]\n"
     ]
    },
    {
     "name": "stdout",
     "output_type": "stream",
     "text": [
      "Epoch 5, loss: 0.000, err: 0.016, val_loss: 0.001, val_err: 0.026\n"
     ]
    },
    {
     "name": "stderr",
     "output_type": "stream",
     "text": [
      "100%|████████████████████████████████████████████████████████████████████████████████████████████████████████████████████████| 58/58 [00:00<00:00, 237.75it/s]\n"
     ]
    },
    {
     "name": "stdout",
     "output_type": "stream",
     "text": [
      "Epoch 6, loss: 0.000, err: 0.016, val_loss: 0.001, val_err: 0.026\n"
     ]
    },
    {
     "name": "stderr",
     "output_type": "stream",
     "text": [
      "100%|████████████████████████████████████████████████████████████████████████████████████████████████████████████████████████| 58/58 [00:00<00:00, 234.99it/s]\n"
     ]
    },
    {
     "name": "stdout",
     "output_type": "stream",
     "text": [
      "Epoch 7, loss: 0.000, err: 0.016, val_loss: 0.001, val_err: 0.027\n"
     ]
    },
    {
     "name": "stderr",
     "output_type": "stream",
     "text": [
      "100%|████████████████████████████████████████████████████████████████████████████████████████████████████████████████████████| 58/58 [00:00<00:00, 235.85it/s]\n"
     ]
    },
    {
     "name": "stdout",
     "output_type": "stream",
     "text": [
      "Epoch 8, loss: 0.000, err: 0.016, val_loss: 0.001, val_err: 0.025\n"
     ]
    },
    {
     "name": "stderr",
     "output_type": "stream",
     "text": [
      "100%|████████████████████████████████████████████████████████████████████████████████████████████████████████████████████████| 58/58 [00:00<00:00, 236.46it/s]\n"
     ]
    },
    {
     "name": "stdout",
     "output_type": "stream",
     "text": [
      "Epoch 9, loss: 0.000, err: 0.016, val_loss: 0.001, val_err: 0.026\n"
     ]
    },
    {
     "name": "stderr",
     "output_type": "stream",
     "text": [
      "100%|████████████████████████████████████████████████████████████████████████████████████████████████████████████████████████| 58/58 [00:00<00:00, 234.44it/s]\n"
     ]
    },
    {
     "name": "stdout",
     "output_type": "stream",
     "text": [
      "Epoch 10, loss: 0.000, err: 0.016, val_loss: 0.001, val_err: 0.026\n"
     ]
    },
    {
     "name": "stderr",
     "output_type": "stream",
     "text": [
      "100%|████████████████████████████████████████████████████████████████████████████████████████████████████████████████████████| 58/58 [00:00<00:00, 234.69it/s]\n"
     ]
    },
    {
     "name": "stdout",
     "output_type": "stream",
     "text": [
      "Epoch 11, loss: 0.000, err: 0.016, val_loss: 0.001, val_err: 0.025\n"
     ]
    },
    {
     "name": "stderr",
     "output_type": "stream",
     "text": [
      "100%|████████████████████████████████████████████████████████████████████████████████████████████████████████████████████████| 58/58 [00:00<00:00, 236.01it/s]\n"
     ]
    },
    {
     "name": "stdout",
     "output_type": "stream",
     "text": [
      "Epoch 12, loss: 0.000, err: 0.015, val_loss: 0.001, val_err: 0.025\n"
     ]
    },
    {
     "name": "stderr",
     "output_type": "stream",
     "text": [
      "100%|████████████████████████████████████████████████████████████████████████████████████████████████████████████████████████| 58/58 [00:00<00:00, 236.51it/s]\n"
     ]
    },
    {
     "name": "stdout",
     "output_type": "stream",
     "text": [
      "Epoch 13, loss: 0.000, err: 0.015, val_loss: 0.001, val_err: 0.025\n"
     ]
    },
    {
     "name": "stderr",
     "output_type": "stream",
     "text": [
      "100%|████████████████████████████████████████████████████████████████████████████████████████████████████████████████████████| 58/58 [00:00<00:00, 234.91it/s]\n"
     ]
    },
    {
     "name": "stdout",
     "output_type": "stream",
     "text": [
      "Epoch 14, loss: 0.000, err: 0.015, val_loss: 0.001, val_err: 0.025\n"
     ]
    },
    {
     "name": "stderr",
     "output_type": "stream",
     "text": [
      "100%|████████████████████████████████████████████████████████████████████████████████████████████████████████████████████████| 58/58 [00:00<00:00, 236.09it/s]\n"
     ]
    },
    {
     "name": "stdout",
     "output_type": "stream",
     "text": [
      "Epoch 15, loss: 0.000, err: 0.015, val_loss: 0.001, val_err: 0.025\n"
     ]
    },
    {
     "name": "stderr",
     "output_type": "stream",
     "text": [
      "100%|████████████████████████████████████████████████████████████████████████████████████████████████████████████████████████| 58/58 [00:00<00:00, 236.71it/s]\n"
     ]
    },
    {
     "name": "stdout",
     "output_type": "stream",
     "text": [
      "Epoch 16, loss: 0.000, err: 0.015, val_loss: 0.001, val_err: 0.025\n"
     ]
    },
    {
     "name": "stderr",
     "output_type": "stream",
     "text": [
      "100%|████████████████████████████████████████████████████████████████████████████████████████████████████████████████████████| 58/58 [00:00<00:00, 237.39it/s]\n"
     ]
    },
    {
     "name": "stdout",
     "output_type": "stream",
     "text": [
      "Epoch 17, loss: 0.000, err: 0.015, val_loss: 0.001, val_err: 0.024\n"
     ]
    },
    {
     "name": "stderr",
     "output_type": "stream",
     "text": [
      "100%|████████████████████████████████████████████████████████████████████████████████████████████████████████████████████████| 58/58 [00:00<00:00, 236.65it/s]\n"
     ]
    },
    {
     "name": "stdout",
     "output_type": "stream",
     "text": [
      "Epoch 18, loss: 0.000, err: 0.015, val_loss: 0.001, val_err: 0.024\n"
     ]
    },
    {
     "name": "stderr",
     "output_type": "stream",
     "text": [
      "100%|████████████████████████████████████████████████████████████████████████████████████████████████████████████████████████| 58/58 [00:00<00:00, 234.20it/s]\n"
     ]
    },
    {
     "name": "stdout",
     "output_type": "stream",
     "text": [
      "Epoch 19, loss: 0.000, err: 0.015, val_loss: 0.001, val_err: 0.024\n"
     ]
    },
    {
     "name": "stderr",
     "output_type": "stream",
     "text": [
      "100%|████████████████████████████████████████████████████████████████████████████████████████████████████████████████████████| 58/58 [00:00<00:00, 227.95it/s]\n"
     ]
    },
    {
     "name": "stdout",
     "output_type": "stream",
     "text": [
      "Epoch 20, loss: 0.000, err: 0.015, val_loss: 0.001, val_err: 0.024\n"
     ]
    },
    {
     "name": "stderr",
     "output_type": "stream",
     "text": [
      "100%|████████████████████████████████████████████████████████████████████████████████████████████████████████████████████████| 58/58 [00:00<00:00, 236.88it/s]\n"
     ]
    },
    {
     "name": "stdout",
     "output_type": "stream",
     "text": [
      "Epoch 21, loss: 0.000, err: 0.015, val_loss: 0.001, val_err: 0.024\n"
     ]
    },
    {
     "name": "stderr",
     "output_type": "stream",
     "text": [
      "100%|████████████████████████████████████████████████████████████████████████████████████████████████████████████████████████| 58/58 [00:00<00:00, 236.29it/s]\n"
     ]
    },
    {
     "name": "stdout",
     "output_type": "stream",
     "text": [
      "Epoch 22, loss: 0.000, err: 0.015, val_loss: 0.001, val_err: 0.023\n"
     ]
    },
    {
     "name": "stderr",
     "output_type": "stream",
     "text": [
      "100%|████████████████████████████████████████████████████████████████████████████████████████████████████████████████████████| 58/58 [00:00<00:00, 236.91it/s]\n"
     ]
    },
    {
     "name": "stdout",
     "output_type": "stream",
     "text": [
      "Epoch 23, loss: 0.000, err: 0.015, val_loss: 0.001, val_err: 0.023\n"
     ]
    },
    {
     "name": "stderr",
     "output_type": "stream",
     "text": [
      "100%|████████████████████████████████████████████████████████████████████████████████████████████████████████████████████████| 58/58 [00:00<00:00, 234.76it/s]\n"
     ]
    },
    {
     "name": "stdout",
     "output_type": "stream",
     "text": [
      "Epoch 24, loss: 0.000, err: 0.015, val_loss: 0.001, val_err: 0.023\n"
     ]
    },
    {
     "name": "stderr",
     "output_type": "stream",
     "text": [
      "100%|████████████████████████████████████████████████████████████████████████████████████████████████████████████████████████| 58/58 [00:00<00:00, 239.04it/s]\n"
     ]
    },
    {
     "name": "stdout",
     "output_type": "stream",
     "text": [
      "Epoch 25, loss: 0.000, err: 0.015, val_loss: 0.001, val_err: 0.023\n"
     ]
    },
    {
     "name": "stderr",
     "output_type": "stream",
     "text": [
      "100%|████████████████████████████████████████████████████████████████████████████████████████████████████████████████████████| 58/58 [00:00<00:00, 237.30it/s]\n"
     ]
    },
    {
     "name": "stdout",
     "output_type": "stream",
     "text": [
      "Epoch 26, loss: 0.000, err: 0.015, val_loss: 0.001, val_err: 0.023\n"
     ]
    },
    {
     "name": "stderr",
     "output_type": "stream",
     "text": [
      "100%|████████████████████████████████████████████████████████████████████████████████████████████████████████████████████████| 58/58 [00:00<00:00, 238.64it/s]\n"
     ]
    },
    {
     "name": "stdout",
     "output_type": "stream",
     "text": [
      "Epoch 27, loss: 0.000, err: 0.015, val_loss: 0.001, val_err: 0.023\n"
     ]
    },
    {
     "name": "stderr",
     "output_type": "stream",
     "text": [
      "100%|████████████████████████████████████████████████████████████████████████████████████████████████████████████████████████| 58/58 [00:00<00:00, 237.74it/s]\n"
     ]
    },
    {
     "name": "stdout",
     "output_type": "stream",
     "text": [
      "Epoch 28, loss: 0.000, err: 0.015, val_loss: 0.001, val_err: 0.023\n"
     ]
    },
    {
     "name": "stderr",
     "output_type": "stream",
     "text": [
      "100%|████████████████████████████████████████████████████████████████████████████████████████████████████████████████████████| 58/58 [00:00<00:00, 238.68it/s]\n"
     ]
    },
    {
     "name": "stdout",
     "output_type": "stream",
     "text": [
      "Epoch 29, loss: 0.000, err: 0.015, val_loss: 0.001, val_err: 0.023\n"
     ]
    },
    {
     "name": "stderr",
     "output_type": "stream",
     "text": [
      "100%|████████████████████████████████████████████████████████████████████████████████████████████████████████████████████████| 58/58 [00:00<00:00, 238.46it/s]\n"
     ]
    },
    {
     "name": "stdout",
     "output_type": "stream",
     "text": [
      "Epoch 30, loss: 0.000, err: 0.015, val_loss: 0.001, val_err: 0.023\n"
     ]
    },
    {
     "name": "stderr",
     "output_type": "stream",
     "text": [
      "100%|████████████████████████████████████████████████████████████████████████████████████████████████████████████████████████| 58/58 [00:00<00:00, 238.93it/s]\n"
     ]
    },
    {
     "name": "stdout",
     "output_type": "stream",
     "text": [
      "Epoch 31, loss: 0.000, err: 0.014, val_loss: 0.001, val_err: 0.023\n"
     ]
    },
    {
     "name": "stderr",
     "output_type": "stream",
     "text": [
      "100%|████████████████████████████████████████████████████████████████████████████████████████████████████████████████████████| 58/58 [00:00<00:00, 238.42it/s]\n"
     ]
    },
    {
     "name": "stdout",
     "output_type": "stream",
     "text": [
      "Epoch 32, loss: 0.000, err: 0.014, val_loss: 0.000, val_err: 0.022\n"
     ]
    },
    {
     "name": "stderr",
     "output_type": "stream",
     "text": [
      "100%|████████████████████████████████████████████████████████████████████████████████████████████████████████████████████████| 58/58 [00:00<00:00, 233.09it/s]\n"
     ]
    },
    {
     "name": "stdout",
     "output_type": "stream",
     "text": [
      "Epoch 33, loss: 0.000, err: 0.014, val_loss: 0.000, val_err: 0.022\n"
     ]
    },
    {
     "name": "stderr",
     "output_type": "stream",
     "text": [
      "100%|████████████████████████████████████████████████████████████████████████████████████████████████████████████████████████| 58/58 [00:00<00:00, 238.52it/s]\n"
     ]
    },
    {
     "name": "stdout",
     "output_type": "stream",
     "text": [
      "Epoch 34, loss: 0.000, err: 0.014, val_loss: 0.001, val_err: 0.023\n"
     ]
    },
    {
     "name": "stderr",
     "output_type": "stream",
     "text": [
      "100%|████████████████████████████████████████████████████████████████████████████████████████████████████████████████████████| 58/58 [00:00<00:00, 236.90it/s]\n"
     ]
    },
    {
     "name": "stdout",
     "output_type": "stream",
     "text": [
      "Epoch 35, loss: 0.000, err: 0.014, val_loss: 0.000, val_err: 0.022\n"
     ]
    },
    {
     "name": "stderr",
     "output_type": "stream",
     "text": [
      "100%|████████████████████████████████████████████████████████████████████████████████████████████████████████████████████████| 58/58 [00:00<00:00, 235.78it/s]\n"
     ]
    },
    {
     "name": "stdout",
     "output_type": "stream",
     "text": [
      "Epoch 36, loss: 0.000, err: 0.014, val_loss: 0.000, val_err: 0.022\n"
     ]
    },
    {
     "name": "stderr",
     "output_type": "stream",
     "text": [
      "100%|████████████████████████████████████████████████████████████████████████████████████████████████████████████████████████| 58/58 [00:00<00:00, 236.71it/s]\n"
     ]
    },
    {
     "name": "stdout",
     "output_type": "stream",
     "text": [
      "Epoch 37, loss: 0.000, err: 0.014, val_loss: 0.000, val_err: 0.022\n"
     ]
    },
    {
     "name": "stderr",
     "output_type": "stream",
     "text": [
      "100%|████████████████████████████████████████████████████████████████████████████████████████████████████████████████████████| 58/58 [00:00<00:00, 236.32it/s]\n"
     ]
    },
    {
     "name": "stdout",
     "output_type": "stream",
     "text": [
      "Epoch 38, loss: 0.000, err: 0.014, val_loss: 0.000, val_err: 0.022\n"
     ]
    },
    {
     "name": "stderr",
     "output_type": "stream",
     "text": [
      "100%|████████████████████████████████████████████████████████████████████████████████████████████████████████████████████████| 58/58 [00:00<00:00, 236.31it/s]\n"
     ]
    },
    {
     "name": "stdout",
     "output_type": "stream",
     "text": [
      "Epoch 39, loss: 0.000, err: 0.015, val_loss: 0.001, val_err: 0.023\n"
     ]
    },
    {
     "name": "stderr",
     "output_type": "stream",
     "text": [
      "100%|████████████████████████████████████████████████████████████████████████████████████████████████████████████████████████| 10/10 [00:00<00:00, 511.11it/s]\n"
     ]
    },
    {
     "name": "stdout",
     "output_type": "stream",
     "text": [
      "STATE: [ 0.63744826  0.82504329 -0.02590616 -0.03525526] ACT: [-0.29607039 -0.40291726] \n",
      "STATE: [ 0.61988234  0.80119399 -0.05018833 -0.06814084] ACT: [-0.29694018 -0.40227668] \n",
      "STATE: [ 0.59438132  0.76658571 -0.07286006 -0.0988808 ] ACT: [-0.29674669 -0.40241943] \n",
      "STATE: [ 0.56137776  0.72199001 -0.09429588 -0.12741628] ACT: [-0.29962579 -0.40028038] \n",
      "STATE: [ 0.52427694  0.67308926 -0.10600233 -0.13971644] ACT: [-0.20451    -0.23613544] \n",
      "STATE: [ 0.48168866  0.62205586 -0.12168081 -0.14580972] ACT: [-0.25868438 -0.1744248 ] \n",
      "STATE: [ 0.43676097  0.57357924 -0.12836482 -0.13850463] ACT: [-0.16764929 -0.02587055] \n",
      "STATE: [ 0.39090743  0.52648384 -0.13101011 -0.13455828] ACT: [-0.12650552 -0.05877733] \n",
      "STATE: [ 0.33803456  0.47090746 -0.15106534 -0.15878967] ACT: [-0.32746018 -0.37784895] \n",
      "STATE: [ 0.27919587  0.40691834 -0.16811056 -0.18282605] ACT: [-0.30810153 -0.39379366] \n",
      "STATE: [ 0.21501549  0.33489013 -0.18337251 -0.20579489] ACT: [-0.30050522 -0.39962059] \n",
      "STATE: [ 0.14585925  0.25533891 -0.19758924 -0.22728919] ACT: [-0.30000628 -0.39999529] \n",
      "STATE: [ 0.07200276  0.16879677 -0.21101856 -0.24726327] ACT: [-0.30166984 -0.39874216] \n",
      "STATE: [ 0.01109197  0.10092937 -0.17403083 -0.19390685] ACT: [0.26445294 0.42434025] \n",
      "STATE: [-0.03656301  0.04971216 -0.13615707 -0.14633488] ACT: [0.3023199  0.39824951] \n",
      "final state  [-0.03656301  0.04971216]\n",
      "STATE: [ 0.59583449  0.75211794 -0.02621726 -0.03502453] ACT: [-0.29962579 -0.40028038] \n",
      "STATE: [ 0.57798689  0.72847898 -0.05099314 -0.06753989] ACT: [-0.3028159 -0.3978725] \n",
      "STATE: [ 0.55504742  0.69915967 -0.06554134 -0.08376944] ACT: [-0.20451    -0.23613544] \n",
      "STATE: [ 0.52547654  0.66459516 -0.08448824 -0.09875575] ACT: [-0.26569194 -0.23409917] \n",
      "STATE: [ 0.48597231  0.62473245 -0.11286923 -0.11389345] ACT: [-0.38772043 -0.24706916] \n",
      "STATE: [ 0.44392628  0.58669345 -0.1201315  -0.10868287] ACT: [-0.16764929 -0.02587055] \n",
      "STATE: [ 0.39941802  0.55324382 -0.12716648 -0.09557038] ACT: [-0.17049837  0.06834484] \n",
      "STATE: [ 0.34399668  0.51542461 -0.15834666 -0.10805488] ACT: [-0.45171977 -0.21435776] \n",
      "STATE: [ 0.2825715   0.46819081 -0.17550052 -0.13495371] ACT: [-0.31480415 -0.38845636] \n",
      "STATE: [ 0.21594825  0.41183804 -0.19035214 -0.16100793] ACT: [-0.30135814 -0.39897778] \n",
      "STATE: [ 0.14450238  0.34693888 -0.20413108 -0.18542617] ACT: [-0.30023769 -0.39982162] \n",
      "STATE: [ 0.06859763  0.27401883 -0.21687071 -0.20834299] ACT: [-0.29869406 -0.40097613] \n",
      "STATE: [-0.00938379  0.19229525 -0.22280404 -0.23349594] ACT: [-0.23046259 -0.4437195 ] \n",
      "final state  [-0.00938379  0.19229525]\n",
      "STATE: [ 0.62381917  0.77585226 -0.02596534 -0.0352117 ] ACT: [-0.29674669 -0.40241943] \n",
      "STATE: [ 0.60618587  0.75205281 -0.05038086 -0.06799843] ACT: [-0.29850852 -0.40111428] \n",
      "STATE: [ 0.58043602  0.71763035 -0.073571   -0.09834988] ACT: [-0.3028159 -0.3978725] \n",
      "STATE: [ 0.55011288  0.67823522 -0.08663753 -0.11255752] ACT: [-0.20451    -0.23613544] \n",
      "STATE: [ 0.51364289  0.63425611 -0.10419999 -0.12565461] ACT: [-0.26569194 -0.23409917] \n",
      "STATE: [ 0.47798076  0.598553   -0.10189178 -0.10200888] ACT: [-0.05177046  0.17599593] \n",
      "STATE: [ 0.45237581  0.57841875 -0.073157   -0.05752642] ACT: [0.2519786  0.43186431] \n",
      "STATE: [ 0.42953829  0.56390987 -0.06525008 -0.04145394] ACT: [0.03549713 0.14054067] \n",
      "STATE: [ 0.40432524  0.54855308 -0.07203727 -0.04387654] ACT: [-0.12650552 -0.05877733] \n",
      "STATE: [ 0.36693288  0.52763938 -0.10683531 -0.05975345] ACT: [-0.45171977 -0.21435776] \n",
      "STATE: [ 0.32226981  0.49626998 -0.12760877 -0.08962684] ACT: [-0.31753746 -0.38622527] \n",
      "STATE: [ 0.27111643  0.45488811 -0.14615252 -0.11823391] ACT: [-0.30763523 -0.39415805] \n",
      "STATE: [ 0.21406079  0.40402603 -0.16301611 -0.14532023] ACT: [-0.30234109 -0.39823343] \n",
      "STATE: [ 0.15155351  0.3442581  -0.17859225 -0.17076553] ACT: [-0.3002751  -0.39979353] \n",
      "STATE: [ 0.08400075  0.27613254 -0.19300786 -0.19464445] ACT: [-0.29869406 -0.40097613] \n",
      "STATE: [ 0.01203505  0.19997896 -0.2056163  -0.21758166] ACT: [-0.28885235 -0.40812292] \n",
      "STATE: [-0.05610862  0.11432321 -0.1946962  -0.24473071] ACT: [-0.02941102 -0.47346106] \n",
      "final state  [-0.05610862  0.11432321]\n",
      "STATE: [ 0.73700117  0.60337083 -0.02635522 -0.03492083] ACT: [-0.30120255 -0.39909525] \n",
      "STATE: [ 0.71927596  0.5796401  -0.05064347 -0.0678021 ] ACT: [-0.29734641 -0.40197651] \n",
      "STATE: [ 0.69353482  0.54521043 -0.07354612 -0.09837048] ACT: [-0.2997271  -0.40020453] \n",
      "STATE: [ 0.66712222  0.5092097  -0.07546456 -0.10285924] ACT: [-0.07708465 -0.12507794] \n",
      "STATE: [ 0.63947189  0.47121035 -0.07900097 -0.10856957] ACT: [-0.09701449 -0.14240535] \n",
      "STATE: [ 0.61375862  0.43192795 -0.07346648 -0.11223543] ACT: [ 0.00400055 -0.12332272] \n",
      "STATE: [ 0.60215454  0.39376771 -0.03315452 -0.10902923] ACT: [ 0.40560824 -0.04753431] \n",
      "STATE: [ 0.59654035  0.34537369 -0.01604053 -0.13826864] ACT: [ 0.17072257 -0.41593656] \n",
      "STATE: [ 0.58305159  0.28725105 -0.03853932 -0.16606469] ACT: [-0.26915939 -0.42137065] \n",
      "STATE: [ 0.56169378  0.22037944 -0.06102233 -0.19106175] ACT: [-0.28585316 -0.41022917] \n",
      "STATE: [ 0.53262607  0.14558964 -0.08305058 -0.21368514] ACT: [-0.29751819 -0.40184938] \n",
      "STATE: [ 0.49607629  0.06361217 -0.10442796 -0.23422133] ACT: [-0.30660088 -0.39496316] \n",
      "STATE: [ 0.4522219  -0.02483124 -0.12529824 -0.25269546] ACT: [-0.31683845 -0.38679891] \n",
      "final state  [ 0.4522219  -0.02483124]\n",
      "STATE: [ 0.59854115  0.78666153 -0.02588503 -0.03527078] ACT: [-0.29582895 -0.40309457] \n",
      "STATE: [ 0.58101618  0.76278211 -0.05007136 -0.06822691] ACT: [-0.29582895 -0.40309457] \n",
      "STATE: [ 0.55529274  0.72834223 -0.07349553 -0.09839966] ACT: [-0.30525834 -0.3960017 ] \n",
      "STATE: [ 0.52392739  0.68821647 -0.08961529 -0.11464501] ACT: [-0.23934741 -0.25946091] \n",
      "STATE: [ 0.48669818  0.64538221 -0.10636917 -0.12238361] ACT: [-0.25868438 -0.1744248 ] \n",
      "STATE: [ 0.44263487  0.59998162 -0.12589519 -0.12971596] ACT: [-0.30293144 -0.17558609] \n",
      "STATE: [ 0.39058994  0.56134113 -0.1486998  -0.11040141] ACT: [-0.35504551  0.12345078] \n",
      "STATE: [ 0.3381657   0.54006318 -0.14978354 -0.06079416] ACT: [-0.12391041  0.48413898] \n",
      "STATE: [ 0.27962299  0.50821907 -0.16726488 -0.09098316] ACT: [-0.31212439 -0.39061281] \n",
      "STATE: [ 0.21552334  0.4663761  -0.18314186 -0.11955134] ACT: [-0.30689988 -0.39473088] \n",
      "STATE: [ 0.14630784  0.41513141 -0.19775857 -0.1464134 ] ACT: [-0.30440449 -0.39665842] \n",
      "STATE: [ 0.07263634  0.35485999 -0.21049001 -0.17220406] ACT: [-0.29382109 -0.40456046] \n",
      "STATE: [-0.004862    0.28591651 -0.22142383 -0.19698137] ACT: [-0.28282554 -0.41232235] \n",
      "final state  [-0.004862    0.28591651]\n",
      "STATE: [ 0.68845867  0.72686316 -0.02527325 -0.03447216] ACT: [-0.28883714 -0.39396758] \n",
      "STATE: [ 0.67103912  0.70331493 -0.04977014 -0.06728065] ACT: [-0.29891935 -0.40080821] \n",
      "STATE: [ 0.64552649  0.66909877 -0.07289323 -0.09776048] ACT: [-0.30159152 -0.3988014 ] \n",
      "STATE: [ 0.61347929  0.62672863 -0.09156343 -0.12105753] ACT: [-0.26804367 -0.33957244] \n",
      "STATE: [ 0.57487684  0.57748984 -0.11029273 -0.14068227] ACT: [-0.28272164 -0.31507581] \n",
      "STATE: [ 0.53462329  0.52703432 -0.11501013 -0.14415862] ACT: [-0.13663269 -0.14524147] \n",
      "STATE: [ 0.49397674  0.4759945  -0.11613302 -0.14582807] ACT: [-0.09909063 -0.12719844] \n",
      "STATE: [ 0.4653124   0.44045765 -0.0818981  -0.10153384] ACT: [0.30415637 0.39684872] \n",
      "COLLIDED\n",
      "STATE: [ 0.42962146  0.39479797 -0.10197411 -0.13045623] ACT: [-0.29086364 -0.40669195] \n",
      "STATE: [ 0.38721546  0.33978811 -0.12116    -0.15717102] ACT: [-0.29574793 -0.40315402] \n",
      "STATE: [ 0.3384596   0.27609741 -0.13930247 -0.18197343] ACT: [-0.29821247 -0.40133443] \n",
      "STATE: [ 0.28369773  0.20435001 -0.15646247 -0.20499257] ACT: [-0.30059112 -0.39955598] \n",
      "STATE: [ 0.22314946  0.12520792 -0.17299508 -0.22612024] ACT: [-0.30629099 -0.39520353] \n",
      "STATE: [ 0.15689369  0.03939566 -0.18930218 -0.24517789] ACT: [-0.3161132  -0.38739185] \n",
      "STATE: [ 0.10083589 -0.02663416 -0.16016514 -0.18865665] ACT: [0.19101817 0.46207365] \n",
      "final state  [ 0.10083589 -0.02663416]\n",
      "STATE: [ 0.8015754   0.81818495 -0.02573368 -0.03538136] ACT: [-0.29409917 -0.40435835] \n",
      "STATE: [ 0.7841529   0.79423067 -0.04977858 -0.06844081] ACT: [-0.29409917 -0.40435835] \n",
      "STATE: [ 0.7589126   0.75943184 -0.07211514 -0.09942521] ACT: [-0.29260888 -0.40543809] \n",
      "STATE: [ 0.72629187  0.71455512 -0.09320208 -0.12821922] ACT: [-0.2950799  -0.40364323] \n",
      "STATE: [ 0.68674387  0.66028472 -0.1129943  -0.15505829] ACT: [-0.2960984  -0.40289668] \n",
      "STATE: [ 0.6415479   0.59867828 -0.12913133 -0.1760184 ] ACT: [-0.26916892 -0.35583781] \n",
      "STATE: [ 0.58996739  0.52898875 -0.14737289 -0.19911294] ACT: [-0.30532354 -0.39595143] \n",
      "STATE: [ 0.5472396   0.47054807 -0.12207941 -0.16697336] ACT: [0.17853875 0.21797475] \n",
      "STATE: [ 0.51709382  0.42772659 -0.08613078 -0.12234709] ACT: [0.31928186 0.38478448] \n",
      "STATE: [ 0.48717811  0.38400659 -0.08547346 -0.12491427] ACT: [-0.05708576 -0.12109943] \n",
      "STATE: [ 0.45063107  0.33048267 -0.10442013 -0.1529255 ] ACT: [-0.28063847 -0.41381403] \n",
      "STATE: [ 0.40754636  0.26803665 -0.12309917 -0.1784172 ] ACT: [-0.2917899 -0.4060279] \n",
      "STATE: [ 0.3580647   0.1974664  -0.14137617 -0.20162929] ACT: [-0.30120438 -0.39909388] \n",
      "STATE: [ 0.30245754  0.11941846 -0.1588776  -0.22299411] ACT: [-0.30604849 -0.39539135] \n",
      "STATE: [ 0.2408092   0.03463625 -0.17613812 -0.2422349 ] ACT: [-0.31642123 -0.38714029] \n",
      "STATE: [ 0.16800279 -0.04601206 -0.2080183  -0.23042373] ACT: [-0.49644848 -0.04669145] \n",
      "final state  [ 0.16800279 -0.04601206]\n",
      "STATE: [ 0.81914866  0.85637475 -0.02553573 -0.03552448] ACT: [-0.29183697 -0.40599407] \n",
      "STATE: [ 0.80186017  0.83232357 -0.04939569 -0.06871767] ACT: [-0.29183697 -0.40599407] \n",
      "STATE: [ 0.77669945  0.79746727 -0.07188777 -0.09958943] ACT: [-0.29409917 -0.40435835] \n",
      "STATE: [ 0.74422875  0.75248187 -0.09277341 -0.1285297 ] ACT: [-0.29260888 -0.40543809] \n",
      "STATE: [ 0.70481669  0.69811305 -0.11260588 -0.1553395 ] ACT: [-0.29623682 -0.40279492] \n",
      "STATE: [ 0.65884724  0.63502954 -0.13134131 -0.1802386 ] ACT: [-0.29857359 -0.40106585] \n",
      "STATE: [ 0.60650692  0.56398855 -0.14954377 -0.20297426] ACT: [-0.3065341  -0.39501499] \n",
      "STATE: [ 0.55585067  0.49617937 -0.14473213 -0.19374052] ACT: [-0.05716763 -0.04670224] \n",
      "STATE: [ 0.51786581  0.44494885 -0.10852818 -0.1463729 ] ACT: [0.30521025 0.39603877] \n",
      "STATE: [ 0.47301269  0.38496241 -0.12815177 -0.17138982] ACT: [-0.30566571 -0.39568734] \n",
      "STATE: [ 0.4225085   0.31623953 -0.14429768 -0.1963511 ] ACT: [-0.28063847 -0.41381403] \n",
      "STATE: [ 0.36617703  0.23974231 -0.16094704 -0.2185635 ] ACT: [-0.29850172 -0.40111934] \n",
      "STATE: [ 0.30426025  0.15608671 -0.17690509 -0.23901598] ACT: [-0.30308798 -0.39766528] \n",
      "STATE: [ 0.23683873  0.06596587 -0.19263291 -0.25748812] ACT: [-0.31242533 -0.39037214] \n",
      "STATE: [ 0.16289227 -0.02541251 -0.21127559 -0.26108109] ACT: [-0.3575339  -0.23417858] \n",
      "final state  [ 0.16289227 -0.02541251]\n",
      "STATE: [ 0.73373126  0.68155095 -0.02618026 -0.03505219] ACT: [-0.29920301 -0.4005965 ] \n",
      "STATE: [ 0.7160064   0.65781952 -0.05064245 -0.06780409] ACT: [-0.29920301 -0.4005965 ] \n",
      "STATE: [ 0.69121769  0.62465975 -0.07082489 -0.09474219] ACT: [-0.26863836 -0.3587171 ] \n",
      "STATE: [ 0.65881218  0.58146833 -0.09258716 -0.12340405] ACT: [-0.30183029 -0.39862072] \n",
      "STATE: [ 0.62152646  0.53157942 -0.10653062 -0.14253976] ACT: [-0.22879419 -0.31124688] \n",
      "STATE: [ 0.58798636  0.4864825  -0.09582885 -0.12884834] ACT: [0.04240793 0.04956857] \n",
      "STATE: [ 0.55153867  0.43754123 -0.10413628 -0.13983221] ACT: [-0.16681367 -0.22216622] \n",
      "STATE: [ 0.52246656  0.39462319 -0.08306316 -0.12262297] ACT: [0.16273348 0.09180286] \n",
      "STATE: [ 0.48820518  0.34095317 -0.09788965 -0.1533429 ] ACT: [-0.23174303 -0.44305211] \n",
      "STATE: [ 0.4473358   0.27831379 -0.11676967 -0.17896967] ACT: [-0.28918881 -0.40788458] \n",
      "STATE: [ 0.40002899  0.20748439 -0.1351623  -0.20236972] ACT: [-0.29777876 -0.40165633] \n",
      "STATE: [ 0.34647541  0.12917774 -0.15301024 -0.22373329] ACT: [-0.30534818 -0.39593243] \n",
      "STATE: [ 0.28687695  0.04404786 -0.17028133 -0.24322821] ACT: [-0.31214156 -0.39059909] \n",
      "STATE: [ 0.22051502 -0.04647377 -0.18960551 -0.25863323] ACT: [-0.34855873 -0.35847846] \n",
      "final state  [ 0.22051502 -0.04647377]\n",
      "STATE: [ 0.86027271  0.65916798 -0.02571107 -0.03539779] ACT: [-0.29384083 -0.40454613] \n",
      "STATE: [ 0.84280621  0.63524587 -0.0499043  -0.06834889] ACT: [-0.29577735 -0.40313243] \n",
      "STATE: [ 0.81739553  0.60057142 -0.07260193 -0.09906984] ACT: [-0.29682968 -0.40235823] \n",
      "STATE: [ 0.78455749  0.55585361 -0.09382298 -0.12776517] ACT: [-0.29697775 -0.40224895] \n",
      "STATE: [ 0.74479318  0.50174145 -0.11361232 -0.15460618] ACT: [-0.29653117 -0.40257827] \n",
      "STATE: [ 0.69859486  0.43882374 -0.13199519 -0.1797649 ] ACT: [-0.29529911 -0.40348288] \n",
      "STATE: [ 0.64878784  0.36853586 -0.14230577 -0.20082249] ACT: [-0.21683161 -0.37548184] \n",
      "STATE: [ 0.5939779   0.28997441 -0.15659985 -0.22446129] ACT: [-0.27009022 -0.42077461] \n",
      "STATE: [ 0.53401553  0.20400186 -0.17132106 -0.24563588] ACT: [-0.28569227 -0.41034123] \n",
      "STATE: [ 0.46878521  0.11143287 -0.18637233 -0.26448281] ACT: [-0.30050537 -0.39962047] \n",
      "STATE: [ 0.39823627  0.01300872 -0.20156839 -0.28121185] ACT: [-0.31344849 -0.38955108] \n",
      "STATE: [ 0.32207615 -0.09034034 -0.21760035 -0.29528303] ACT: [-0.33439871 -0.37172234] \n",
      "final state  [ 0.32207615 -0.09034034]\n",
      "After 10 REWARD:  (0.83828451294386, array([ 0.13196266,  0.03825431, -0.18870443, -0.23083161]), -0.28065107807760425)\n",
      "UPDATING THE ACTION MATRIX\n"
     ]
    },
    {
     "name": "stderr",
     "output_type": "stream",
     "text": [
      "100%|█████████████████████████████████████████████████████████████████████████████████████████████████████████████████████████| 25/25 [00:03<00:00,  7.03it/s]\n",
      "Generating Dynamics Dataset: 100%|██████████████████████████████████████████████████████████████████████████████████████████| 15/15 [00:00<00:00, 1869.67it/s]\n"
     ]
    },
    {
     "name": "stdout",
     "output_type": "stream",
     "text": [
      "COLLIDED\n",
      "COLLIDED\n"
     ]
    },
    {
     "name": "stderr",
     "output_type": "stream",
     "text": [
      "100%|████████████████████████████████████████████████████████████████████████████████████████████████████████████████████████| 62/62 [00:00<00:00, 227.78it/s]\n"
     ]
    },
    {
     "name": "stdout",
     "output_type": "stream",
     "text": [
      "Epoch 1, loss: 0.000, err: 0.014, val_loss: 0.001, val_err: 0.023\n"
     ]
    },
    {
     "name": "stderr",
     "output_type": "stream",
     "text": [
      "100%|████████████████████████████████████████████████████████████████████████████████████████████████████████████████████████| 62/62 [00:00<00:00, 238.92it/s]\n"
     ]
    },
    {
     "name": "stdout",
     "output_type": "stream",
     "text": [
      "Epoch 2, loss: 0.000, err: 0.014, val_loss: 0.001, val_err: 0.022\n"
     ]
    },
    {
     "name": "stderr",
     "output_type": "stream",
     "text": [
      "100%|████████████████████████████████████████████████████████████████████████████████████████████████████████████████████████| 62/62 [00:00<00:00, 237.54it/s]\n"
     ]
    },
    {
     "name": "stdout",
     "output_type": "stream",
     "text": [
      "Epoch 3, loss: 0.000, err: 0.014, val_loss: 0.001, val_err: 0.022\n"
     ]
    },
    {
     "name": "stderr",
     "output_type": "stream",
     "text": [
      "100%|████████████████████████████████████████████████████████████████████████████████████████████████████████████████████████| 62/62 [00:00<00:00, 238.36it/s]\n"
     ]
    },
    {
     "name": "stdout",
     "output_type": "stream",
     "text": [
      "Epoch 4, loss: 0.000, err: 0.014, val_loss: 0.000, val_err: 0.022\n"
     ]
    },
    {
     "name": "stderr",
     "output_type": "stream",
     "text": [
      "100%|████████████████████████████████████████████████████████████████████████████████████████████████████████████████████████| 62/62 [00:00<00:00, 237.32it/s]\n"
     ]
    },
    {
     "name": "stdout",
     "output_type": "stream",
     "text": [
      "Epoch 5, loss: 0.000, err: 0.014, val_loss: 0.001, val_err: 0.022\n"
     ]
    },
    {
     "name": "stderr",
     "output_type": "stream",
     "text": [
      "100%|████████████████████████████████████████████████████████████████████████████████████████████████████████████████████████| 62/62 [00:00<00:00, 237.24it/s]\n"
     ]
    },
    {
     "name": "stdout",
     "output_type": "stream",
     "text": [
      "Epoch 6, loss: 0.000, err: 0.014, val_loss: 0.000, val_err: 0.022\n"
     ]
    },
    {
     "name": "stderr",
     "output_type": "stream",
     "text": [
      "100%|████████████████████████████████████████████████████████████████████████████████████████████████████████████████████████| 62/62 [00:00<00:00, 237.54it/s]\n"
     ]
    },
    {
     "name": "stdout",
     "output_type": "stream",
     "text": [
      "Epoch 7, loss: 0.000, err: 0.014, val_loss: 0.000, val_err: 0.022\n"
     ]
    },
    {
     "name": "stderr",
     "output_type": "stream",
     "text": [
      "100%|████████████████████████████████████████████████████████████████████████████████████████████████████████████████████████| 62/62 [00:00<00:00, 237.76it/s]\n"
     ]
    },
    {
     "name": "stdout",
     "output_type": "stream",
     "text": [
      "Epoch 8, loss: 0.000, err: 0.014, val_loss: 0.000, val_err: 0.022\n"
     ]
    },
    {
     "name": "stderr",
     "output_type": "stream",
     "text": [
      "100%|████████████████████████████████████████████████████████████████████████████████████████████████████████████████████████| 62/62 [00:00<00:00, 236.69it/s]\n"
     ]
    },
    {
     "name": "stdout",
     "output_type": "stream",
     "text": [
      "Epoch 9, loss: 0.000, err: 0.014, val_loss: 0.000, val_err: 0.022\n"
     ]
    },
    {
     "name": "stderr",
     "output_type": "stream",
     "text": [
      "100%|████████████████████████████████████████████████████████████████████████████████████████████████████████████████████████| 62/62 [00:00<00:00, 231.71it/s]\n"
     ]
    },
    {
     "name": "stdout",
     "output_type": "stream",
     "text": [
      "Epoch 10, loss: 0.000, err: 0.014, val_loss: 0.000, val_err: 0.022\n"
     ]
    },
    {
     "name": "stderr",
     "output_type": "stream",
     "text": [
      "100%|████████████████████████████████████████████████████████████████████████████████████████████████████████████████████████| 62/62 [00:00<00:00, 233.56it/s]\n"
     ]
    },
    {
     "name": "stdout",
     "output_type": "stream",
     "text": [
      "Epoch 11, loss: 0.000, err: 0.014, val_loss: 0.000, val_err: 0.021\n"
     ]
    },
    {
     "name": "stderr",
     "output_type": "stream",
     "text": [
      "100%|████████████████████████████████████████████████████████████████████████████████████████████████████████████████████████| 62/62 [00:00<00:00, 237.81it/s]\n"
     ]
    },
    {
     "name": "stdout",
     "output_type": "stream",
     "text": [
      "Epoch 12, loss: 0.000, err: 0.014, val_loss: 0.000, val_err: 0.021\n"
     ]
    },
    {
     "name": "stderr",
     "output_type": "stream",
     "text": [
      "100%|████████████████████████████████████████████████████████████████████████████████████████████████████████████████████████| 62/62 [00:00<00:00, 234.95it/s]\n"
     ]
    },
    {
     "name": "stdout",
     "output_type": "stream",
     "text": [
      "Epoch 13, loss: 0.000, err: 0.014, val_loss: 0.000, val_err: 0.022\n"
     ]
    },
    {
     "name": "stderr",
     "output_type": "stream",
     "text": [
      "100%|████████████████████████████████████████████████████████████████████████████████████████████████████████████████████████| 62/62 [00:00<00:00, 235.96it/s]\n"
     ]
    },
    {
     "name": "stdout",
     "output_type": "stream",
     "text": [
      "Epoch 14, loss: 0.000, err: 0.014, val_loss: 0.000, val_err: 0.022\n"
     ]
    },
    {
     "name": "stderr",
     "output_type": "stream",
     "text": [
      "100%|████████████████████████████████████████████████████████████████████████████████████████████████████████████████████████| 62/62 [00:00<00:00, 239.03it/s]\n"
     ]
    },
    {
     "name": "stdout",
     "output_type": "stream",
     "text": [
      "Epoch 15, loss: 0.000, err: 0.014, val_loss: 0.000, val_err: 0.021\n"
     ]
    },
    {
     "name": "stderr",
     "output_type": "stream",
     "text": [
      "100%|█████████████████████████████████████████████████████████████████████████████████████████████████████████████████████████| 62/62 [00:00<00:00, 82.98it/s]\n"
     ]
    },
    {
     "name": "stdout",
     "output_type": "stream",
     "text": [
      "Epoch 16, loss: 0.000, err: 0.014, val_loss: 0.000, val_err: 0.021\n"
     ]
    },
    {
     "name": "stderr",
     "output_type": "stream",
     "text": [
      "100%|████████████████████████████████████████████████████████████████████████████████████████████████████████████████████████| 62/62 [00:00<00:00, 236.63it/s]\n"
     ]
    },
    {
     "name": "stdout",
     "output_type": "stream",
     "text": [
      "Epoch 17, loss: 0.000, err: 0.014, val_loss: 0.000, val_err: 0.022\n"
     ]
    },
    {
     "name": "stderr",
     "output_type": "stream",
     "text": [
      "100%|████████████████████████████████████████████████████████████████████████████████████████████████████████████████████████| 62/62 [00:00<00:00, 234.02it/s]\n"
     ]
    },
    {
     "name": "stdout",
     "output_type": "stream",
     "text": [
      "Epoch 18, loss: 0.000, err: 0.014, val_loss: 0.000, val_err: 0.021\n"
     ]
    },
    {
     "name": "stderr",
     "output_type": "stream",
     "text": [
      "100%|████████████████████████████████████████████████████████████████████████████████████████████████████████████████████████| 62/62 [00:00<00:00, 234.87it/s]\n"
     ]
    },
    {
     "name": "stdout",
     "output_type": "stream",
     "text": [
      "Epoch 19, loss: 0.000, err: 0.014, val_loss: 0.000, val_err: 0.021\n"
     ]
    },
    {
     "name": "stderr",
     "output_type": "stream",
     "text": [
      "100%|████████████████████████████████████████████████████████████████████████████████████████████████████████████████████████| 62/62 [00:00<00:00, 238.60it/s]\n"
     ]
    },
    {
     "name": "stdout",
     "output_type": "stream",
     "text": [
      "Epoch 20, loss: 0.000, err: 0.014, val_loss: 0.000, val_err: 0.021\n"
     ]
    },
    {
     "name": "stderr",
     "output_type": "stream",
     "text": [
      "100%|████████████████████████████████████████████████████████████████████████████████████████████████████████████████████████| 62/62 [00:00<00:00, 237.95it/s]\n"
     ]
    },
    {
     "name": "stdout",
     "output_type": "stream",
     "text": [
      "Epoch 21, loss: 0.000, err: 0.013, val_loss: 0.000, val_err: 0.021\n"
     ]
    },
    {
     "name": "stderr",
     "output_type": "stream",
     "text": [
      "100%|████████████████████████████████████████████████████████████████████████████████████████████████████████████████████████| 62/62 [00:00<00:00, 238.16it/s]\n"
     ]
    },
    {
     "name": "stdout",
     "output_type": "stream",
     "text": [
      "Epoch 22, loss: 0.000, err: 0.013, val_loss: 0.000, val_err: 0.021\n"
     ]
    },
    {
     "name": "stderr",
     "output_type": "stream",
     "text": [
      "100%|████████████████████████████████████████████████████████████████████████████████████████████████████████████████████████| 62/62 [00:00<00:00, 237.90it/s]\n"
     ]
    },
    {
     "name": "stdout",
     "output_type": "stream",
     "text": [
      "Epoch 23, loss: 0.000, err: 0.013, val_loss: 0.000, val_err: 0.021\n"
     ]
    },
    {
     "name": "stderr",
     "output_type": "stream",
     "text": [
      "100%|████████████████████████████████████████████████████████████████████████████████████████████████████████████████████████| 62/62 [00:00<00:00, 238.65it/s]\n"
     ]
    },
    {
     "name": "stdout",
     "output_type": "stream",
     "text": [
      "Epoch 24, loss: 0.000, err: 0.013, val_loss: 0.000, val_err: 0.021\n"
     ]
    },
    {
     "name": "stderr",
     "output_type": "stream",
     "text": [
      "100%|████████████████████████████████████████████████████████████████████████████████████████████████████████████████████████| 62/62 [00:00<00:00, 238.80it/s]\n"
     ]
    },
    {
     "name": "stdout",
     "output_type": "stream",
     "text": [
      "Epoch 25, loss: 0.000, err: 0.013, val_loss: 0.000, val_err: 0.021\n"
     ]
    },
    {
     "name": "stderr",
     "output_type": "stream",
     "text": [
      "100%|████████████████████████████████████████████████████████████████████████████████████████████████████████████████████████| 62/62 [00:00<00:00, 238.35it/s]\n"
     ]
    },
    {
     "name": "stdout",
     "output_type": "stream",
     "text": [
      "Epoch 26, loss: 0.000, err: 0.013, val_loss: 0.000, val_err: 0.021\n"
     ]
    },
    {
     "name": "stderr",
     "output_type": "stream",
     "text": [
      "100%|████████████████████████████████████████████████████████████████████████████████████████████████████████████████████████| 62/62 [00:00<00:00, 237.97it/s]\n"
     ]
    },
    {
     "name": "stdout",
     "output_type": "stream",
     "text": [
      "Epoch 27, loss: 0.000, err: 0.013, val_loss: 0.000, val_err: 0.021\n"
     ]
    },
    {
     "name": "stderr",
     "output_type": "stream",
     "text": [
      "100%|████████████████████████████████████████████████████████████████████████████████████████████████████████████████████████| 62/62 [00:00<00:00, 238.39it/s]\n"
     ]
    },
    {
     "name": "stdout",
     "output_type": "stream",
     "text": [
      "Epoch 28, loss: 0.000, err: 0.013, val_loss: 0.000, val_err: 0.021\n"
     ]
    },
    {
     "name": "stderr",
     "output_type": "stream",
     "text": [
      "100%|████████████████████████████████████████████████████████████████████████████████████████████████████████████████████████| 62/62 [00:00<00:00, 239.38it/s]\n"
     ]
    },
    {
     "name": "stdout",
     "output_type": "stream",
     "text": [
      "Epoch 29, loss: 0.000, err: 0.013, val_loss: 0.000, val_err: 0.021\n"
     ]
    },
    {
     "name": "stderr",
     "output_type": "stream",
     "text": [
      "100%|████████████████████████████████████████████████████████████████████████████████████████████████████████████████████████| 62/62 [00:00<00:00, 237.81it/s]\n"
     ]
    },
    {
     "name": "stdout",
     "output_type": "stream",
     "text": [
      "Epoch 30, loss: 0.000, err: 0.013, val_loss: 0.000, val_err: 0.021\n"
     ]
    },
    {
     "name": "stderr",
     "output_type": "stream",
     "text": [
      "100%|████████████████████████████████████████████████████████████████████████████████████████████████████████████████████████| 62/62 [00:00<00:00, 236.90it/s]\n"
     ]
    },
    {
     "name": "stdout",
     "output_type": "stream",
     "text": [
      "Epoch 31, loss: 0.000, err: 0.013, val_loss: 0.000, val_err: 0.021\n"
     ]
    },
    {
     "name": "stderr",
     "output_type": "stream",
     "text": [
      "100%|████████████████████████████████████████████████████████████████████████████████████████████████████████████████████████| 62/62 [00:00<00:00, 237.32it/s]\n"
     ]
    },
    {
     "name": "stdout",
     "output_type": "stream",
     "text": [
      "Epoch 32, loss: 0.000, err: 0.013, val_loss: 0.000, val_err: 0.021\n"
     ]
    },
    {
     "name": "stderr",
     "output_type": "stream",
     "text": [
      "100%|████████████████████████████████████████████████████████████████████████████████████████████████████████████████████████| 62/62 [00:00<00:00, 236.84it/s]\n"
     ]
    },
    {
     "name": "stdout",
     "output_type": "stream",
     "text": [
      "Epoch 33, loss: 0.000, err: 0.013, val_loss: 0.000, val_err: 0.021\n"
     ]
    },
    {
     "name": "stderr",
     "output_type": "stream",
     "text": [
      "100%|████████████████████████████████████████████████████████████████████████████████████████████████████████████████████████| 62/62 [00:00<00:00, 235.21it/s]\n"
     ]
    },
    {
     "name": "stdout",
     "output_type": "stream",
     "text": [
      "Epoch 34, loss: 0.000, err: 0.013, val_loss: 0.000, val_err: 0.021\n"
     ]
    },
    {
     "name": "stderr",
     "output_type": "stream",
     "text": [
      "100%|████████████████████████████████████████████████████████████████████████████████████████████████████████████████████████| 62/62 [00:00<00:00, 237.04it/s]\n"
     ]
    },
    {
     "name": "stdout",
     "output_type": "stream",
     "text": [
      "Epoch 35, loss: 0.000, err: 0.013, val_loss: 0.000, val_err: 0.021\n"
     ]
    },
    {
     "name": "stderr",
     "output_type": "stream",
     "text": [
      "100%|████████████████████████████████████████████████████████████████████████████████████████████████████████████████████████| 62/62 [00:00<00:00, 237.64it/s]\n"
     ]
    },
    {
     "name": "stdout",
     "output_type": "stream",
     "text": [
      "Epoch 36, loss: 0.000, err: 0.013, val_loss: 0.000, val_err: 0.021\n"
     ]
    },
    {
     "name": "stderr",
     "output_type": "stream",
     "text": [
      "100%|████████████████████████████████████████████████████████████████████████████████████████████████████████████████████████| 62/62 [00:00<00:00, 236.97it/s]\n"
     ]
    },
    {
     "name": "stdout",
     "output_type": "stream",
     "text": [
      "Epoch 37, loss: 0.000, err: 0.013, val_loss: 0.000, val_err: 0.021\n"
     ]
    },
    {
     "name": "stderr",
     "output_type": "stream",
     "text": [
      "100%|████████████████████████████████████████████████████████████████████████████████████████████████████████████████████████| 62/62 [00:00<00:00, 237.49it/s]\n"
     ]
    },
    {
     "name": "stdout",
     "output_type": "stream",
     "text": [
      "Epoch 38, loss: 0.000, err: 0.013, val_loss: 0.000, val_err: 0.021\n"
     ]
    },
    {
     "name": "stderr",
     "output_type": "stream",
     "text": [
      "100%|████████████████████████████████████████████████████████████████████████████████████████████████████████████████████████| 62/62 [00:00<00:00, 236.08it/s]\n"
     ]
    },
    {
     "name": "stdout",
     "output_type": "stream",
     "text": [
      "Epoch 39, loss: 0.000, err: 0.013, val_loss: 0.000, val_err: 0.021\n"
     ]
    },
    {
     "name": "stderr",
     "output_type": "stream",
     "text": [
      "100%|████████████████████████████████████████████████████████████████████████████████████████████████████████████████████████| 10/10 [00:00<00:00, 499.25it/s]\n"
     ]
    },
    {
     "name": "stdout",
     "output_type": "stream",
     "text": [
      "STATE: [ 0.70276893  0.59528248 -0.02598977 -0.03519367] ACT: [-0.2970259 -0.4022134] \n",
      "STATE: [ 0.68517304  0.57145527 -0.05027395 -0.06807776] ACT: [-0.2970259 -0.4022134] \n",
      "STATE: [ 0.66034944  0.5377321  -0.07092458 -0.0963519 ] ACT: [-0.27371257 -0.37419138] \n",
      "STATE: [ 0.62996741  0.49687919 -0.08680579 -0.1167226 ] ACT: [-0.23469307 -0.30507188] \n",
      "STATE: [ 0.59612808  0.45208344 -0.0966838  -0.12798787] ACT: [-0.17799582 -0.21628793] \n",
      "STATE: [ 0.57201297  0.41898934 -0.06890033 -0.09455456] ACT: [0.24501247 0.28610408] \n",
      "STATE: [ 0.54638795  0.38250176 -0.07321435 -0.10425023] ACT: [-0.10097832 -0.18172362] \n",
      "STATE: [ 0.51390354  0.33569948 -0.09281259 -0.13372078] ACT: [-0.27889069 -0.41499396] \n",
      "STATE: [ 0.47484023  0.2793751  -0.11160946 -0.16092681] ACT: [-0.28443079 -0.41121664] \n",
      "STATE: [ 0.42944027  0.21428668 -0.12971415 -0.18596691] ACT: [-0.29061776 -0.40686769] \n",
      "STATE: [ 0.37802161  0.14107989 -0.14691048 -0.20916225] ACT: [-0.29381514 -0.40456478] \n",
      "STATE: [ 0.32085069  0.06038186 -0.16334548 -0.23056581] ACT: [-0.2980114  -0.40148376] \n",
      "STATE: [ 0.25801904 -0.02709829 -0.17951899 -0.24994327] ACT: [-0.30734929 -0.39438105] \n",
      "final state  [ 0.25801904 -0.02709829]\n",
      "STATE: [ 0.65452917  0.8014087  -0.02514341 -0.03580323] ACT: [-0.28735323 -0.40917982] \n",
      "STATE: [ 0.63750629  0.77716879 -0.04863678 -0.06925688] ACT: [-0.28735323 -0.40917982] \n",
      "STATE: [ 0.61277056  0.74200947 -0.07067352 -0.1004552 ] ACT: [-0.28832606 -0.4084949 ] \n",
      "STATE: [ 0.58078511  0.6967954  -0.09138699 -0.12918308] ACT: [-0.28973054 -0.40365997] \n",
      "STATE: [ 0.54074158  0.64308964 -0.1144101  -0.15344502] ACT: [-0.33166145 -0.37416665] \n",
      "STATE: [ 0.49668437  0.58699383 -0.12587774 -0.16027375] ACT: [-0.21686631 -0.19312645] \n",
      "STATE: [ 0.45463665  0.5358175  -0.12013635 -0.14621808] ACT: [-0.02879244  0.0404309 ] \n",
      "STATE: [ 0.40621146  0.47571179 -0.13835767 -0.1717306 ] ACT: [-0.29834593 -0.40123523] \n",
      "COLLIDED\n",
      "STATE: [ 0.35187335  0.40722861 -0.15525177 -0.19566623] ACT: [-0.29684365 -0.40234792] \n",
      "STATE: [ 0.2920801   0.33086656 -0.17083785 -0.21817728] ACT: [-0.29456547 -0.40401879] \n",
      "STATE: [ 0.22710808  0.24720263 -0.18563433 -0.2390398 ] ACT: [-0.29723101 -0.40206185] \n",
      "STATE: [ 0.15740277  0.15663862 -0.19915804 -0.25875431] ACT: [-0.29378249 -0.40458849] \n",
      "STATE: [ 0.08368455  0.05933991 -0.21062347 -0.27799631] ACT: [-0.28040203 -0.41397428] \n",
      "STATE: [ 0.02408245 -0.01939224 -0.17029172 -0.224949  ] ACT: [0.30296673 0.39775766] \n",
      "final state  [ 0.02408245 -0.01939224]\n",
      "STATE: [ 0.77608473  0.76537299 -0.02473995 -0.0360832 ] ACT: [-0.28274231 -0.41237942] \n",
      "STATE: [ 0.75933501  0.74094354 -0.04785635 -0.06979844] ACT: [-0.28274231 -0.41237942] \n",
      "STATE: [ 0.73494426  0.70554424 -0.06968785 -0.10114086] ACT: [-0.28539518 -0.41054792] \n",
      "STATE: [ 0.70332963  0.65995401 -0.09032752 -0.1302578 ] ACT: [-0.28814778 -0.40862067] \n",
      "STATE: [ 0.66489003  0.60489496 -0.10982742 -0.15731156] ACT: [-0.29060166 -0.40687919] \n",
      "STATE: [ 0.62236889  0.54595447 -0.12148898 -0.16840139] ACT: [-0.21564558 -0.2447246 ] \n",
      "STATE: [ 0.58578468  0.49657314 -0.10452631 -0.14108952] ACT: [0.10274239 0.18583464] \n",
      "STATE: [ 0.55316166  0.45339254 -0.09320862 -0.12337314] ACT: [0.05095024 0.09665571] \n",
      "STATE: [ 0.51358009  0.40073012 -0.11309022 -0.15046407] ACT: [-0.29712473 -0.40214039] \n",
      "STATE: [ 0.46827775  0.3386676  -0.12943524 -0.17732149] ACT: [-0.2716179  -0.41979008] \n",
      "STATE: [ 0.41701755  0.26823956 -0.14645771 -0.20122296] ACT: [-0.29161894 -0.40615071] \n",
      "STATE: [ 0.36018186  0.19000119 -0.16238769 -0.2235382 ] ACT: [-0.29190021 -0.4059486 ] \n",
      "STATE: [ 0.29798968  0.10457198 -0.17769194 -0.24408345] ACT: [-0.2966964  -0.40245651] \n",
      "STATE: [ 0.23067296  0.01251289 -0.19233351 -0.26302596] ACT: [-0.30060121 -0.39954838] \n",
      "STATE: [ 0.15496554 -0.07194724 -0.2163069  -0.24131466] ACT: [-0.41823176  0.05085974] \n",
      "final state  [ 0.15496554 -0.07194724]\n",
      "STATE: [ 0.60215682  0.67675933 -0.02049141 -0.02438576] ACT: [-0.23418758 -0.27869437] \n",
      "STATE: [ 0.58828349  0.66024941 -0.03963808 -0.0471712 ] ACT: [-0.23418758 -0.27869437] \n",
      "STATE: [ 0.57160214  0.64170112 -0.04766101 -0.05299512] ACT: [-0.12141918 -0.10193746] \n",
      "STATE: [ 0.54911836  0.6184916  -0.06423935 -0.06631291] ACT: [-0.22521252 -0.19194964] \n",
      "STATE: [ 0.51855229  0.59191391 -0.08733163 -0.07593627] ACT: [-0.31209133 -0.15971597] \n",
      "STATE: [ 0.49242034  0.57157198 -0.07466271 -0.0581198 ] ACT: [0.07928892 0.14666462] \n",
      "STATE: [ 0.46594157  0.55048653 -0.07565364 -0.06024413] ACT: [-0.06732191 -0.06786792] \n",
      "STATE: [ 0.43206362  0.51849699 -0.09679414 -0.09139869] ACT: [-0.29834593 -0.40123523] \n",
      "STATE: [ 0.40201047  0.49145201 -0.08586613 -0.07727137] ACT: [0.05229594 0.09290612] \n",
      "STATE: [ 0.36483873  0.45385996 -0.10620498 -0.10740587] ACT: [-0.29684365 -0.40234792] \n",
      "STATE: [ 0.32122789  0.4062591  -0.12460239 -0.13600245] ACT: [-0.28990982 -0.40737243] \n",
      "STATE: [ 0.27145503  0.3494111  -0.14220818 -0.16242285] ACT: [-0.29466079 -0.40394928] \n",
      "STATE: [ 0.21584581  0.28398061 -0.15888348 -0.18694426] ACT: [-0.29723101 -0.40206185] \n",
      "STATE: [ 0.15490463  0.21044203 -0.17411766 -0.21011022] ACT: [-0.29326747 -0.40496196] \n",
      "STATE: [ 0.08878426  0.12947265 -0.18891535 -0.2313411 ] ACT: [-0.2997047 -0.4002213] \n",
      "STATE: [ 0.03525104  0.06671816 -0.15295207 -0.17929852] ACT: [0.26932239 0.42126649] \n",
      "STATE: [-0.0055755   0.02032739 -0.11664725 -0.13254507] ACT: [0.30019816 0.3998513 ] \n",
      "final state  [-0.0055755   0.02032739]\n",
      "STATE: [ 0.74228278  0.61538244 -0.02559414 -0.03548242] ACT: [-0.29250449 -0.40551341] \n",
      "STATE: [ 0.72495475  0.59135973 -0.04950867 -0.06863631] ACT: [-0.29250449 -0.40551341] \n",
      "STATE: [ 0.69966745  0.55659573 -0.07224943 -0.09932573] ACT: [-0.2970259 -0.4022134] \n",
      "STATE: [ 0.66981284  0.51611962 -0.08529889 -0.11564603] ACT: [-0.2033237  -0.26101204] \n",
      "STATE: [ 0.63258895  0.46615677 -0.10635397 -0.14275099] ACT: [-0.30460368 -0.39650548] \n",
      "STATE: [ 0.59680572  0.41729251 -0.10223778 -0.13961217] ACT: [-0.0327233 -0.071191 ] \n",
      "STATE: [ 0.57389965  0.36630467 -0.06544593 -0.14567956] ACT: [ 0.34379988 -0.17405073] \n",
      "STATE: [ 0.54422564  0.30577644 -0.08478287 -0.1729378 ] ACT: [-0.27007798 -0.42078247] \n",
      "STATE: [ 0.50781325  0.23660965 -0.10403542 -0.1976194 ] ACT: [-0.28361634 -0.41177879] \n",
      "STATE: [ 0.46486701  0.15953823 -0.12270355 -0.22020404] ACT: [-0.29137655 -0.40632463] \n",
      "STATE: [ 0.41562984  0.07521635 -0.14067762 -0.24091966] ACT: [-0.29744568 -0.40190306] \n",
      "STATE: [ 0.36040758 -0.01580027 -0.15777788 -0.26004749] ACT: [-0.30093971 -0.39929349] \n",
      "final state  [ 0.36040758 -0.01580027]\n",
      "STATE: [ 0.59225398  0.72986863 -0.02535142 -0.03532025] ACT: [-0.28973054 -0.40365997] \n",
      "STATE: [ 0.57509027  0.70595572 -0.04903916 -0.0683226 ] ACT: [-0.28973054 -0.40365997] \n",
      "STATE: [ 0.54998995  0.67169165 -0.07171522 -0.09789736] ACT: [-0.29593439 -0.38923921] \n",
      "STATE: [ 0.51760807  0.62999613 -0.09251965 -0.11913004] ACT: [-0.29155131 -0.31608216] \n",
      "STATE: [ 0.49143906  0.59816188 -0.0747686  -0.090955  ] ACT: [0.13347941 0.23265285] \n",
      "STATE: [ 0.46610562  0.56965495 -0.07238125 -0.08144838] ACT: [-0.02879244  0.0404309 ] \n",
      "STATE: [ 0.45092786  0.55576001 -0.04336505 -0.03969983] ACT: [0.2773278  0.41604001] \n",
      "STATE: [ 0.42760929  0.5304891  -0.06662448 -0.07220261] ACT: [-0.29834593 -0.40123523] \n",
      "STATE: [ 0.41431027  0.5196204  -0.03799718 -0.03105341] ACT: [0.27720085 0.41612461] \n",
      "STATE: [ 0.40348557  0.51231022 -0.03092772 -0.02088624] ACT: [0.05229594 0.09290612] \n",
      "STATE: [ 0.38613961  0.49716894 -0.0495599  -0.0432608 ] ACT: [-0.23613495 -0.27137386] \n",
      "STATE: [ 0.36084114  0.4706994  -0.07228135 -0.07562725] ACT: [-0.29684365 -0.40234792] \n",
      "STATE: [ 0.32832439  0.43349115 -0.09290499 -0.1063093 ] ACT: [-0.28990982 -0.40737243] \n",
      "STATE: [ 0.28904139  0.38626436 -0.11223716 -0.13493367] ACT: [-0.2906178  -0.40686766] \n",
      "STATE: [ 0.24330521  0.32977109 -0.13067478 -0.16140934] ACT: [-0.29489356 -0.40377938] \n",
      "STATE: [ 0.19163183  0.26455244 -0.14763824 -0.186339  ] ACT: [-0.29187414 -0.40596735] \n",
      "STATE: [ 0.1341965   0.19133798 -0.16410095 -0.20918419] ACT: [-0.29887391 -0.40084209] \n",
      "STATE: [ 0.0713519   0.11067143 -0.17955598 -0.23047584] ACT: [-0.2997047 -0.4002213] \n",
      "STATE: [ 0.02155739  0.04774054 -0.14227005 -0.17980257] ACT: [0.29145798 0.40626623] \n",
      "final state  [0.02155739 0.04774054]\n",
      "STATE: [ 0.68113319  0.66649465 -0.02559599 -0.03548109] ACT: [-0.29252559 -0.40549818] \n",
      "STATE: [ 0.66467418  0.64392119 -0.04702573 -0.06449558] ACT: [-0.26410833 -0.35820499] \n",
      "STATE: [ 0.64155433  0.6128693  -0.0660567  -0.08871969] ACT: [-0.25276612 -0.32521864] \n",
      "STATE: [ 0.6167797   0.5817246  -0.07078467 -0.08898485] ACT: [-0.10357638 -0.06957014] \n",
      "STATE: [ 0.58670682  0.54437162 -0.08592252 -0.10672282] ACT: [-0.22609259 -0.26945832] \n",
      "STATE: [ 0.56269419  0.51654281 -0.0686075  -0.07951089] ACT: [0.13344409 0.23095135] \n",
      "STATE: [ 0.536961    0.48654591 -0.0735234  -0.08570542] ACT: [-0.10763737 -0.13042774] \n",
      "STATE: [ 0.50382184  0.44619852 -0.09468332 -0.11527827] ACT: [-0.29697022 -0.40225451] \n",
      "STATE: [ 0.47948348  0.41741886 -0.06953818 -0.0822276 ] ACT: [0.21636057 0.29126322] \n",
      "STATE: [ 0.46658491  0.402258   -0.03685306 -0.04331673] ACT: [0.3213906  0.38302491] \n",
      "STATE: [ 0.44569454  0.37558776 -0.05968676 -0.07620067] ACT: [-0.28859634 -0.40830399] \n",
      "STATE: [ 0.41719616  0.33826409 -0.08142395 -0.10663908] ACT: [-0.29319007 -0.405018  ] \n",
      "STATE: [ 0.38165066  0.29094173 -0.10155858 -0.13520674] ACT: [-0.29117807 -0.40646689] \n",
      "STATE: [ 0.33951793  0.23427869 -0.12037922 -0.16189439] ACT: [-0.29126197 -0.40640677] \n",
      "STATE: [ 0.29107153  0.16900326 -0.13841828 -0.18650121] ACT: [-0.29644515 -0.40264162] \n",
      "STATE: [ 0.23663537  0.09574772 -0.15553187 -0.20930154] ACT: [-0.29939759 -0.4004511 ] \n",
      "STATE: [ 0.17635822  0.01522228 -0.17222045 -0.23007268] ACT: [-0.30737549 -0.39436063] \n",
      "STATE: [ 0.1278995  -0.04687905 -0.13845346 -0.17743239] ACT: [0.25674314 0.4290489 ] \n",
      "final state  [ 0.1278995  -0.04687905]\n",
      "STATE: [ 0.61108892  0.66422792 -0.01889954 -0.02247518] ACT: [-0.2159948  -0.25685922] \n",
      "STATE: [ 0.60118972  0.653756   -0.02828344 -0.02991978] ACT: [-0.12141918 -0.10193746] \n",
      "STATE: [ 0.58822169  0.64084947 -0.03705152 -0.03687582] ACT: [-0.12141918 -0.10193746] \n",
      "STATE: [ 0.56593609  0.61763841 -0.06367313 -0.0663173 ] ACT: [-0.33203559 -0.36413091] \n",
      "STATE: [ 0.53821586  0.59007213 -0.07920067 -0.07876082] ACT: [-0.22521252 -0.19194964] \n",
      "STATE: [ 0.51370727  0.56920112 -0.07002455 -0.05963144] ACT: [0.04546946 0.15955085] \n",
      "STATE: [ 0.4848791   0.5424244  -0.08236618 -0.07650493] ACT: [-0.19356561 -0.23756348] \n",
      "STATE: [ 0.45651058  0.51630098 -0.08105292 -0.07463833] ACT: [-0.04676599 -0.03604614] \n",
      "STATE: [ 0.43860758  0.50455866 -0.05115143 -0.03354947] ACT: [0.28094173 0.4136082 ] \n",
      "STATE: [ 0.42348103  0.49643219 -0.04321872 -0.0232185 ] ACT: [0.05229594 0.09290612] \n",
      "STATE: [ 0.40024514  0.47652536 -0.06638826 -0.05687664] ACT: [-0.29720878 -0.40207827] \n",
      "STATE: [ 0.36944327  0.44560302 -0.08800535 -0.08834955] ACT: [-0.29684365 -0.40234792] \n",
      "STATE: [ 0.33178428  0.40423417 -0.10759711 -0.1181967 ] ACT: [-0.28990982 -0.40737243] \n",
      "STATE: [ 0.28757559  0.35320708 -0.12631053 -0.14579169] ACT: [-0.29456547 -0.40401879] \n",
      "STATE: [ 0.23716541  0.2932155  -0.14402911 -0.17140452] ACT: [-0.29723101 -0.40206185] \n",
      "STATE: [ 0.18108207  0.22475891 -0.1602381  -0.19559027] ACT: [-0.29326747 -0.40496196] \n",
      "STATE: [ 0.11959334  0.14846921 -0.17568209 -0.21797058] ACT: [-0.29668131 -0.40246764] \n",
      "STATE: [ 0.05264606  0.0651718  -0.19127794 -0.2379926 ] ACT: [-0.30999981 -0.39230106] \n",
      "STATE: [-0.0006497  -0.00046249 -0.15227359 -0.18752654] ACT: [0.30230548 0.39826047] \n",
      "final state  [-0.0006497  -0.00046249]\n",
      "STATE: [ 0.84703071  0.68866531 -0.02463534 -0.0361547 ] ACT: [-0.2815468  -0.41319657] \n",
      "STATE: [ 0.83021381  0.66428259 -0.04804827 -0.06966492] ACT: [-0.28605283 -0.41008997] \n",
      "STATE: [ 0.80576252  0.62892541 -0.06986084 -0.10102051] ACT: [-0.28532273 -0.41059827] \n",
      "STATE: [ 0.77415691  0.58332854 -0.09030173 -0.13027678] ACT: [-0.2860058  -0.41012276] \n",
      "STATE: [ 0.73571708  0.52826948 -0.1098281  -0.15731159] ACT: [-0.29088478 -0.40667683] \n",
      "STATE: [ 0.69086031  0.46439158 -0.12816219 -0.18250831] ACT: [-0.29190353 -0.40594621] \n",
      "STATE: [ 0.64184204  0.3943089  -0.14005219 -0.20023622] ACT: [-0.23200732 -0.33948599] \n",
      "STATE: [ 0.59610386  0.31579374 -0.13068052 -0.22432903] ACT: [ 0.00206564 -0.42552357] \n",
      "STATE: [ 0.54459013  0.22988382 -0.14718209 -0.24545689] ACT: [-0.28659973 -0.40970794] \n",
      "STATE: [ 0.48745112  0.13722761 -0.16325433 -0.26473203] ACT: [-0.29406931 -0.40438007] \n",
      "STATE: [ 0.42500849  0.0383025  -0.1784075  -0.28264319] ACT: [-0.29561988 -0.40324792] \n",
      "STATE: [ 0.35736768 -0.06629854 -0.19325945 -0.29886011] ACT: [-0.30354225 -0.39731864] \n",
      "final state  [ 0.35736768 -0.06629854]\n",
      "STATE: [ 0.87375839  0.63692617 -0.02503263 -0.03588077] ACT: [-0.28608724 -0.41006596] \n",
      "STATE: [ 0.85681448  0.612631   -0.04841117 -0.06941477] ACT: [-0.28595774 -0.41015628] \n",
      "STATE: [ 0.83227011  0.57733788 -0.07012677 -0.1008375 ] ACT: [-0.28448664 -0.41117801] \n",
      "STATE: [ 0.80057922  0.53179969 -0.09054542 -0.13010912] ACT: [-0.28595111 -0.4101609 ] \n",
      "STATE: [ 0.76213397  0.47674266 -0.10984355 -0.15730579] ACT: [-0.28845909 -0.40840097] \n",
      "STATE: [ 0.71737963  0.4130714  -0.12786954 -0.18191788] ACT: [-0.28839404 -0.39926033] \n",
      "STATE: [ 0.66669305  0.34109622 -0.14481882 -0.20564338] ACT: [-0.28960815 -0.40758695] \n",
      "STATE: [ 0.61044137  0.26137783 -0.16071908 -0.22776683] ACT: [-0.29033144 -0.40707205] \n",
      "STATE: [ 0.5489185   0.17447554 -0.17577963 -0.24829225] ACT: [-0.29265982 -0.40540132] \n",
      "STATE: [ 0.48237087  0.08093323 -0.1901361  -0.26726373] ACT: [-0.29590865 -0.40303606] \n",
      "STATE: [ 0.4110145  -0.01872903 -0.20387533 -0.28474933] ACT: [-0.29962192 -0.40028328] \n",
      "final state  [ 0.4110145  -0.01872903]\n",
      "After 11 REWARD:  (0.8217759296259173, array([ 0.17090885, -0.01985392, -0.16706746, -0.22371704]), -0.26148264154686035)\n",
      "UPDATING THE ACTION MATRIX\n"
     ]
    },
    {
     "name": "stderr",
     "output_type": "stream",
     "text": [
      "100%|█████████████████████████████████████████████████████████████████████████████████████████████████████████████████████████| 25/25 [00:03<00:00,  7.03it/s]\n",
      "Generating Dynamics Dataset: 100%|██████████████████████████████████████████████████████████████████████████████████████████| 15/15 [00:00<00:00, 1886.78it/s]\n"
     ]
    },
    {
     "name": "stdout",
     "output_type": "stream",
     "text": [
      "COLLIDED\n",
      "COLLIDED\n",
      "COLLIDED\n",
      "COLLIDED\n",
      "COLLIDED\n",
      "COLLIDED\n",
      "COLLIDED\n",
      "COLLIDED\n"
     ]
    },
    {
     "name": "stderr",
     "output_type": "stream",
     "text": [
      "100%|████████████████████████████████████████████████████████████████████████████████████████████████████████████████████████| 66/66 [00:00<00:00, 233.34it/s]\n"
     ]
    },
    {
     "name": "stdout",
     "output_type": "stream",
     "text": [
      "Epoch 1, loss: 0.000, err: 0.013, val_loss: 0.000, val_err: 0.021\n"
     ]
    },
    {
     "name": "stderr",
     "output_type": "stream",
     "text": [
      "100%|████████████████████████████████████████████████████████████████████████████████████████████████████████████████████████| 66/66 [00:00<00:00, 231.03it/s]\n"
     ]
    },
    {
     "name": "stdout",
     "output_type": "stream",
     "text": [
      "Epoch 2, loss: 0.000, err: 0.013, val_loss: 0.000, val_err: 0.021\n"
     ]
    },
    {
     "name": "stderr",
     "output_type": "stream",
     "text": [
      "100%|████████████████████████████████████████████████████████████████████████████████████████████████████████████████████████| 66/66 [00:00<00:00, 237.96it/s]\n"
     ]
    },
    {
     "name": "stdout",
     "output_type": "stream",
     "text": [
      "Epoch 3, loss: 0.000, err: 0.013, val_loss: 0.000, val_err: 0.021\n"
     ]
    },
    {
     "name": "stderr",
     "output_type": "stream",
     "text": [
      "100%|████████████████████████████████████████████████████████████████████████████████████████████████████████████████████████| 66/66 [00:00<00:00, 177.24it/s]\n"
     ]
    },
    {
     "name": "stdout",
     "output_type": "stream",
     "text": [
      "Epoch 4, loss: 0.000, err: 0.013, val_loss: 0.000, val_err: 0.021\n"
     ]
    },
    {
     "name": "stderr",
     "output_type": "stream",
     "text": [
      "100%|████████████████████████████████████████████████████████████████████████████████████████████████████████████████████████| 66/66 [00:00<00:00, 234.85it/s]\n"
     ]
    },
    {
     "name": "stdout",
     "output_type": "stream",
     "text": [
      "Epoch 5, loss: 0.000, err: 0.013, val_loss: 0.000, val_err: 0.021\n"
     ]
    },
    {
     "name": "stderr",
     "output_type": "stream",
     "text": [
      "100%|████████████████████████████████████████████████████████████████████████████████████████████████████████████████████████| 66/66 [00:00<00:00, 233.37it/s]\n"
     ]
    },
    {
     "name": "stdout",
     "output_type": "stream",
     "text": [
      "Epoch 6, loss: 0.000, err: 0.013, val_loss: 0.000, val_err: 0.021\n"
     ]
    },
    {
     "name": "stderr",
     "output_type": "stream",
     "text": [
      "100%|████████████████████████████████████████████████████████████████████████████████████████████████████████████████████████| 66/66 [00:00<00:00, 236.09it/s]\n"
     ]
    },
    {
     "name": "stdout",
     "output_type": "stream",
     "text": [
      "Epoch 7, loss: 0.000, err: 0.013, val_loss: 0.000, val_err: 0.021\n"
     ]
    },
    {
     "name": "stderr",
     "output_type": "stream",
     "text": [
      "100%|████████████████████████████████████████████████████████████████████████████████████████████████████████████████████████| 66/66 [00:00<00:00, 236.76it/s]\n"
     ]
    },
    {
     "name": "stdout",
     "output_type": "stream",
     "text": [
      "Epoch 8, loss: 0.000, err: 0.013, val_loss: 0.000, val_err: 0.021\n"
     ]
    },
    {
     "name": "stderr",
     "output_type": "stream",
     "text": [
      "100%|████████████████████████████████████████████████████████████████████████████████████████████████████████████████████████| 66/66 [00:00<00:00, 238.62it/s]\n"
     ]
    },
    {
     "name": "stdout",
     "output_type": "stream",
     "text": [
      "Epoch 9, loss: 0.000, err: 0.013, val_loss: 0.000, val_err: 0.021\n"
     ]
    },
    {
     "name": "stderr",
     "output_type": "stream",
     "text": [
      "100%|████████████████████████████████████████████████████████████████████████████████████████████████████████████████████████| 66/66 [00:00<00:00, 237.72it/s]\n"
     ]
    },
    {
     "name": "stdout",
     "output_type": "stream",
     "text": [
      "Epoch 10, loss: 0.000, err: 0.013, val_loss: 0.000, val_err: 0.021\n"
     ]
    },
    {
     "name": "stderr",
     "output_type": "stream",
     "text": [
      "100%|████████████████████████████████████████████████████████████████████████████████████████████████████████████████████████| 66/66 [00:00<00:00, 235.96it/s]\n"
     ]
    },
    {
     "name": "stdout",
     "output_type": "stream",
     "text": [
      "Epoch 11, loss: 0.000, err: 0.013, val_loss: 0.000, val_err: 0.021\n"
     ]
    },
    {
     "name": "stderr",
     "output_type": "stream",
     "text": [
      "100%|████████████████████████████████████████████████████████████████████████████████████████████████████████████████████████| 66/66 [00:00<00:00, 235.21it/s]\n"
     ]
    },
    {
     "name": "stdout",
     "output_type": "stream",
     "text": [
      "Epoch 12, loss: 0.000, err: 0.013, val_loss: 0.000, val_err: 0.021\n"
     ]
    },
    {
     "name": "stderr",
     "output_type": "stream",
     "text": [
      "100%|████████████████████████████████████████████████████████████████████████████████████████████████████████████████████████| 66/66 [00:00<00:00, 234.94it/s]\n"
     ]
    },
    {
     "name": "stdout",
     "output_type": "stream",
     "text": [
      "Epoch 13, loss: 0.000, err: 0.013, val_loss: 0.000, val_err: 0.021\n"
     ]
    },
    {
     "name": "stderr",
     "output_type": "stream",
     "text": [
      "100%|████████████████████████████████████████████████████████████████████████████████████████████████████████████████████████| 66/66 [00:00<00:00, 236.17it/s]\n"
     ]
    },
    {
     "name": "stdout",
     "output_type": "stream",
     "text": [
      "Epoch 14, loss: 0.000, err: 0.013, val_loss: 0.000, val_err: 0.020\n"
     ]
    },
    {
     "name": "stderr",
     "output_type": "stream",
     "text": [
      "100%|████████████████████████████████████████████████████████████████████████████████████████████████████████████████████████| 66/66 [00:00<00:00, 235.77it/s]\n"
     ]
    },
    {
     "name": "stdout",
     "output_type": "stream",
     "text": [
      "Epoch 15, loss: 0.000, err: 0.013, val_loss: 0.000, val_err: 0.020\n"
     ]
    },
    {
     "name": "stderr",
     "output_type": "stream",
     "text": [
      "100%|████████████████████████████████████████████████████████████████████████████████████████████████████████████████████████| 66/66 [00:00<00:00, 237.86it/s]\n"
     ]
    },
    {
     "name": "stdout",
     "output_type": "stream",
     "text": [
      "Epoch 16, loss: 0.000, err: 0.013, val_loss: 0.000, val_err: 0.021\n"
     ]
    },
    {
     "name": "stderr",
     "output_type": "stream",
     "text": [
      "100%|████████████████████████████████████████████████████████████████████████████████████████████████████████████████████████| 66/66 [00:00<00:00, 237.69it/s]\n"
     ]
    },
    {
     "name": "stdout",
     "output_type": "stream",
     "text": [
      "Epoch 17, loss: 0.000, err: 0.013, val_loss: 0.000, val_err: 0.020\n"
     ]
    },
    {
     "name": "stderr",
     "output_type": "stream",
     "text": [
      "100%|████████████████████████████████████████████████████████████████████████████████████████████████████████████████████████| 66/66 [00:00<00:00, 222.65it/s]\n"
     ]
    },
    {
     "name": "stdout",
     "output_type": "stream",
     "text": [
      "Epoch 18, loss: 0.000, err: 0.013, val_loss: 0.000, val_err: 0.021\n"
     ]
    },
    {
     "name": "stderr",
     "output_type": "stream",
     "text": [
      "100%|████████████████████████████████████████████████████████████████████████████████████████████████████████████████████████| 66/66 [00:00<00:00, 236.94it/s]\n"
     ]
    },
    {
     "name": "stdout",
     "output_type": "stream",
     "text": [
      "Epoch 19, loss: 0.000, err: 0.013, val_loss: 0.000, val_err: 0.020\n"
     ]
    },
    {
     "name": "stderr",
     "output_type": "stream",
     "text": [
      "100%|████████████████████████████████████████████████████████████████████████████████████████████████████████████████████████| 66/66 [00:00<00:00, 234.01it/s]\n"
     ]
    },
    {
     "name": "stdout",
     "output_type": "stream",
     "text": [
      "Epoch 20, loss: 0.000, err: 0.013, val_loss: 0.000, val_err: 0.021\n"
     ]
    },
    {
     "name": "stderr",
     "output_type": "stream",
     "text": [
      "100%|████████████████████████████████████████████████████████████████████████████████████████████████████████████████████████| 66/66 [00:00<00:00, 237.71it/s]\n"
     ]
    },
    {
     "name": "stdout",
     "output_type": "stream",
     "text": [
      "Epoch 21, loss: 0.000, err: 0.013, val_loss: 0.000, val_err: 0.021\n"
     ]
    },
    {
     "name": "stderr",
     "output_type": "stream",
     "text": [
      "100%|████████████████████████████████████████████████████████████████████████████████████████████████████████████████████████| 66/66 [00:00<00:00, 238.45it/s]\n"
     ]
    },
    {
     "name": "stdout",
     "output_type": "stream",
     "text": [
      "Epoch 22, loss: 0.000, err: 0.013, val_loss: 0.000, val_err: 0.020\n"
     ]
    },
    {
     "name": "stderr",
     "output_type": "stream",
     "text": [
      "100%|████████████████████████████████████████████████████████████████████████████████████████████████████████████████████████| 66/66 [00:00<00:00, 239.12it/s]\n"
     ]
    },
    {
     "name": "stdout",
     "output_type": "stream",
     "text": [
      "Epoch 23, loss: 0.000, err: 0.013, val_loss: 0.000, val_err: 0.021\n"
     ]
    },
    {
     "name": "stderr",
     "output_type": "stream",
     "text": [
      "100%|████████████████████████████████████████████████████████████████████████████████████████████████████████████████████████| 66/66 [00:00<00:00, 239.67it/s]\n"
     ]
    },
    {
     "name": "stdout",
     "output_type": "stream",
     "text": [
      "Epoch 24, loss: 0.000, err: 0.013, val_loss: 0.000, val_err: 0.020\n"
     ]
    },
    {
     "name": "stderr",
     "output_type": "stream",
     "text": [
      "100%|████████████████████████████████████████████████████████████████████████████████████████████████████████████████████████| 66/66 [00:00<00:00, 234.68it/s]\n"
     ]
    },
    {
     "name": "stdout",
     "output_type": "stream",
     "text": [
      "Epoch 25, loss: 0.000, err: 0.013, val_loss: 0.000, val_err: 0.020\n"
     ]
    },
    {
     "name": "stderr",
     "output_type": "stream",
     "text": [
      "100%|████████████████████████████████████████████████████████████████████████████████████████████████████████████████████████| 66/66 [00:00<00:00, 238.50it/s]\n"
     ]
    },
    {
     "name": "stdout",
     "output_type": "stream",
     "text": [
      "Epoch 26, loss: 0.000, err: 0.013, val_loss: 0.000, val_err: 0.021\n"
     ]
    },
    {
     "name": "stderr",
     "output_type": "stream",
     "text": [
      "100%|████████████████████████████████████████████████████████████████████████████████████████████████████████████████████████| 66/66 [00:00<00:00, 237.49it/s]\n"
     ]
    },
    {
     "name": "stdout",
     "output_type": "stream",
     "text": [
      "Epoch 27, loss: 0.000, err: 0.013, val_loss: 0.000, val_err: 0.020\n"
     ]
    },
    {
     "name": "stderr",
     "output_type": "stream",
     "text": [
      "100%|████████████████████████████████████████████████████████████████████████████████████████████████████████████████████████| 66/66 [00:00<00:00, 237.78it/s]\n"
     ]
    },
    {
     "name": "stdout",
     "output_type": "stream",
     "text": [
      "Epoch 28, loss: 0.000, err: 0.013, val_loss: 0.000, val_err: 0.020\n"
     ]
    },
    {
     "name": "stderr",
     "output_type": "stream",
     "text": [
      "100%|████████████████████████████████████████████████████████████████████████████████████████████████████████████████████████| 66/66 [00:00<00:00, 237.18it/s]\n"
     ]
    },
    {
     "name": "stdout",
     "output_type": "stream",
     "text": [
      "Epoch 29, loss: 0.000, err: 0.013, val_loss: 0.000, val_err: 0.020\n"
     ]
    },
    {
     "name": "stderr",
     "output_type": "stream",
     "text": [
      "100%|████████████████████████████████████████████████████████████████████████████████████████████████████████████████████████| 66/66 [00:00<00:00, 238.20it/s]\n"
     ]
    },
    {
     "name": "stdout",
     "output_type": "stream",
     "text": [
      "Epoch 30, loss: 0.000, err: 0.013, val_loss: 0.000, val_err: 0.020\n"
     ]
    },
    {
     "name": "stderr",
     "output_type": "stream",
     "text": [
      "100%|████████████████████████████████████████████████████████████████████████████████████████████████████████████████████████| 66/66 [00:00<00:00, 232.64it/s]\n"
     ]
    },
    {
     "name": "stdout",
     "output_type": "stream",
     "text": [
      "Epoch 31, loss: 0.000, err: 0.013, val_loss: 0.000, val_err: 0.021\n"
     ]
    },
    {
     "name": "stderr",
     "output_type": "stream",
     "text": [
      "100%|████████████████████████████████████████████████████████████████████████████████████████████████████████████████████████| 66/66 [00:00<00:00, 238.05it/s]\n"
     ]
    },
    {
     "name": "stdout",
     "output_type": "stream",
     "text": [
      "Epoch 32, loss: 0.000, err: 0.012, val_loss: 0.000, val_err: 0.020\n"
     ]
    },
    {
     "name": "stderr",
     "output_type": "stream",
     "text": [
      "100%|████████████████████████████████████████████████████████████████████████████████████████████████████████████████████████| 66/66 [00:00<00:00, 239.93it/s]\n"
     ]
    },
    {
     "name": "stdout",
     "output_type": "stream",
     "text": [
      "Epoch 33, loss: 0.000, err: 0.013, val_loss: 0.000, val_err: 0.021\n"
     ]
    },
    {
     "name": "stderr",
     "output_type": "stream",
     "text": [
      "100%|████████████████████████████████████████████████████████████████████████████████████████████████████████████████████████| 66/66 [00:00<00:00, 237.85it/s]\n"
     ]
    },
    {
     "name": "stdout",
     "output_type": "stream",
     "text": [
      "Epoch 34, loss: 0.000, err: 0.013, val_loss: 0.000, val_err: 0.021\n"
     ]
    },
    {
     "name": "stderr",
     "output_type": "stream",
     "text": [
      "100%|████████████████████████████████████████████████████████████████████████████████████████████████████████████████████████| 66/66 [00:00<00:00, 236.58it/s]\n"
     ]
    },
    {
     "name": "stdout",
     "output_type": "stream",
     "text": [
      "Epoch 35, loss: 0.000, err: 0.012, val_loss: 0.000, val_err: 0.020\n"
     ]
    },
    {
     "name": "stderr",
     "output_type": "stream",
     "text": [
      "100%|████████████████████████████████████████████████████████████████████████████████████████████████████████████████████████| 66/66 [00:00<00:00, 239.31it/s]\n"
     ]
    },
    {
     "name": "stdout",
     "output_type": "stream",
     "text": [
      "Epoch 36, loss: 0.000, err: 0.012, val_loss: 0.000, val_err: 0.020\n"
     ]
    },
    {
     "name": "stderr",
     "output_type": "stream",
     "text": [
      "100%|████████████████████████████████████████████████████████████████████████████████████████████████████████████████████████| 66/66 [00:00<00:00, 239.92it/s]\n"
     ]
    },
    {
     "name": "stdout",
     "output_type": "stream",
     "text": [
      "Epoch 37, loss: 0.000, err: 0.013, val_loss: 0.000, val_err: 0.020\n"
     ]
    },
    {
     "name": "stderr",
     "output_type": "stream",
     "text": [
      "100%|████████████████████████████████████████████████████████████████████████████████████████████████████████████████████████| 66/66 [00:00<00:00, 239.82it/s]\n"
     ]
    },
    {
     "name": "stdout",
     "output_type": "stream",
     "text": [
      "Epoch 38, loss: 0.000, err: 0.012, val_loss: 0.000, val_err: 0.020\n"
     ]
    },
    {
     "name": "stderr",
     "output_type": "stream",
     "text": [
      "100%|████████████████████████████████████████████████████████████████████████████████████████████████████████████████████████| 66/66 [00:00<00:00, 239.90it/s]\n"
     ]
    },
    {
     "name": "stdout",
     "output_type": "stream",
     "text": [
      "Epoch 39, loss: 0.000, err: 0.013, val_loss: 0.000, val_err: 0.020\n"
     ]
    },
    {
     "name": "stderr",
     "output_type": "stream",
     "text": [
      "100%|████████████████████████████████████████████████████████████████████████████████████████████████████████████████████████| 10/10 [00:00<00:00, 479.29it/s]\n"
     ]
    },
    {
     "name": "stdout",
     "output_type": "stream",
     "text": [
      "STATE: [ 0.83905833  0.7929118  -0.02352801 -0.03688489] ACT: [-0.26889154 -0.42154163] \n",
      "STATE: [ 0.82317411  0.76791099 -0.04538347 -0.07143088] ACT: [-0.26742268 -0.42247498] \n",
      "STATE: [ 0.79999119  0.73170958 -0.06623692 -0.10343261] ACT: [-0.27236274 -0.41930721] \n",
      "STATE: [ 0.77005374  0.68500048 -0.08553558 -0.13345455] ACT: [-0.27023388 -0.42068236] \n",
      "STATE: [ 0.733673    0.62855904 -0.10394495 -0.16126127] ACT: [-0.27454448 -0.41788195] \n",
      "STATE: [ 0.69102609  0.56318881 -0.12184834 -0.1867721 ] ACT: [-0.28256879 -0.41249833] \n",
      "STATE: [ 0.64540884  0.49656424 -0.13033499 -0.19035589] ACT: [-0.18837655 -0.18103667] \n",
      "STATE: [ 0.59312411  0.42513089 -0.14938494 -0.20409531] ACT: [-0.31546493 -0.2997888 ] \n",
      "STATE: [ 0.54472894  0.34705162 -0.13827194 -0.22308363] ACT: [ 0.01496701 -0.37008087] \n",
      "STATE: [ 0.49028156  0.26187687 -0.15556392 -0.2433564 ] ACT: [-0.30132663 -0.39900158] \n",
      "STATE: [ 0.43067774  0.16971129 -0.17029663 -0.26333025] ACT: [-0.28504681 -0.41078987] \n",
      "STATE: [ 0.36618926  0.07106011 -0.18425282 -0.28186052] ACT: [-0.28722174 -0.40927212] \n",
      "STATE: [ 0.29742476 -0.03384837 -0.19646999 -0.2997385 ] ACT: [-0.27781447 -0.41571519] \n",
      "final state  [ 0.29742476 -0.03384837]\n",
      "STATE: [ 0.80286295  0.72333095 -0.02364546 -0.03680971] ACT: [-0.27023388 -0.42068236] \n",
      "STATE: [ 0.78683134  0.69842436 -0.04580461 -0.07116168] ACT: [-0.27098143 -0.42020122] \n",
      "STATE: [ 0.76362974  0.66223444 -0.06629029 -0.10339978] ACT: [-0.26847552 -0.4218067 ] \n",
      "STATE: [ 0.73354372  0.61578062 -0.08596006 -0.13272521] ACT: [-0.27451512 -0.41269757] \n",
      "STATE: [ 0.69677842  0.55974257 -0.1050437  -0.16010872] ACT: [-0.28256879 -0.41249833] \n",
      "STATE: [ 0.65665682  0.50183777 -0.11463316 -0.16544229] ACT: [-0.18837655 -0.18103667] \n",
      "STATE: [ 0.61185112  0.43997183 -0.12801626 -0.17675981] ACT: [-0.23892466 -0.25342477] \n",
      "STATE: [ 0.57044417  0.37083213 -0.11830558 -0.19754202] ACT: [ 0.01496701 -0.37008087] \n",
      "STATE: [ 0.52222035  0.29424757 -0.13778235 -0.21881302] ACT: [-0.31132078 -0.39125359] \n",
      "STATE: [ 0.46834279  0.21017057 -0.15393589 -0.24022   ] ACT: [-0.28794871 -0.40876098] \n",
      "STATE: [ 0.40913329  0.11912764 -0.16916999 -0.26012267] ACT: [-0.28955588 -0.40762408] \n",
      "STATE: [ 0.34496362  0.02156041 -0.18334191 -0.27876349] ACT: [-0.28884234 -0.40813   ] \n",
      "STATE: [ 0.27656252 -0.08237877 -0.19543171 -0.2969691 ] ACT: [-0.27567556 -0.41713665] \n",
      "final state  [ 0.27656252 -0.08237877]\n",
      "STATE: [ 0.88813288  0.72697755 -0.02360333 -0.03683674] ACT: [-0.26975238 -0.42099128] \n",
      "STATE: [ 0.87207188  0.70209006 -0.04588857 -0.07110711] ACT: [-0.27239088 -0.41928893] \n",
      "STATE: [ 0.84872291  0.66599509 -0.06671133 -0.10312848] ACT: [-0.27239088 -0.41928893] \n",
      "STATE: [ 0.8186243   0.61938932 -0.08599603 -0.13315935] ACT: [-0.27043004 -0.42055629] \n",
      "STATE: [ 0.78223769  0.56295051 -0.10396174 -0.16125375] ACT: [-0.26981945 -0.42094829] \n",
      "STATE: [ 0.73952171  0.49762652 -0.12204566 -0.18663997] ACT: [-0.28464465 -0.41106864] \n",
      "STATE: [ 0.69062225  0.42419137 -0.13971275 -0.20981472] ACT: [-0.29344382 -0.40483419] \n",
      "STATE: [ 0.63560121  0.34343405 -0.15720299 -0.2307352 ] ACT: [-0.30467302 -0.3964522 ] \n",
      "STATE: [ 0.5751152   0.25564339 -0.17281717 -0.25083046] ACT: [-0.29635005 -0.40271162] \n",
      "STATE: [ 0.50970573  0.16114844 -0.18688419 -0.26998556] ACT: [-0.2903788  -0.40703827] \n",
      "STATE: [ 0.4398164   0.06030409 -0.1996838  -0.28812671] ACT: [-0.28644437 -0.40981657] \n",
      "STATE: [ 0.36595353 -0.04661875 -0.21103677 -0.30549382] ACT: [-0.27951116 -0.41457631] \n",
      "final state  [ 0.36595353 -0.04661875]\n",
      "STATE: [ 0.82405103  0.77144878 -0.02383174 -0.03668938] ACT: [-0.27236274 -0.41930721] \n",
      "STATE: [ 0.8079162   0.74660892 -0.04609952 -0.07097102] ACT: [-0.27236274 -0.41930721] \n",
      "STATE: [ 0.78456431  0.71051578 -0.06671971 -0.10312325] ACT: [-0.27023388 -0.42068236] \n",
      "STATE: [ 0.75442124  0.66393864 -0.08612305 -0.13307755] ACT: [-0.27179225 -0.41967722] \n",
      "STATE: [ 0.71750451  0.60786922 -0.10547638 -0.16019834] ACT: [-0.28577322 -0.40976012] \n",
      "STATE: [ 0.67461011  0.54476256 -0.12255542 -0.18030472] ACT: [-0.27429637 -0.34993594] \n",
      "STATE: [ 0.62666746  0.47652028 -0.136979   -0.19497794] ACT: [-0.2567574  -0.30292246] \n",
      "STATE: [ 0.5756731   0.4086718  -0.14569816 -0.1938528 ] ACT: [-0.2023818  -0.13337476] \n",
      "STATE: [ 0.51943463  0.33260016 -0.16068136 -0.21734755] ACT: [-0.28051025 -0.41390095] \n",
      "STATE: [ 0.45783634  0.24916913 -0.17599511 -0.23837438] ACT: [-0.29552527 -0.40331726] \n",
      "STATE: [ 0.39157993  0.15861272 -0.18930404 -0.25873261] ACT: [-0.28409842 -0.41144634] \n",
      "STATE: [ 0.32073308  0.06156622 -0.20241956 -0.27727571] ACT: [-0.2918697  -0.40597054] \n",
      "STATE: [ 0.2459741  -0.04180704 -0.21359709 -0.29535216] ACT: [-0.27955787 -0.41454481] \n",
      "final state  [ 0.2459741  -0.04180704]\n",
      "STATE: [ 0.73823554  0.80535098 -0.02366433 -0.03679758] ACT: [-0.2704495  -0.42054378] \n",
      "STATE: [ 0.72209526  0.78051503 -0.04611508 -0.07095983] ACT: [-0.27432828 -0.41802392] \n",
      "STATE: [ 0.69861454  0.74450588 -0.06708777 -0.1028833 ] ACT: [-0.27427411 -0.41805946] \n",
      "STATE: [ 0.66819998  0.69810636 -0.08689874 -0.13257007] ACT: [-0.27672698 -0.41643989] \n",
      "STATE: [ 0.63158447  0.64330047 -0.10461575 -0.15658824] ACT: [-0.26765412 -0.37392091] \n",
      "STATE: [ 0.58777164  0.58016191 -0.12517953 -0.18039589] ACT: [-0.31347645 -0.38952858] \n",
      "STATE: [ 0.53908332  0.51454726 -0.13910948 -0.18747045] ACT: [-0.25308414 -0.21614902] \n",
      "STATE: [ 0.50159672  0.46629106 -0.10710455 -0.13787485] ACT: [0.26143859 0.42620402] \n",
      "STATE: [ 0.45544913  0.41067578 -0.13185028 -0.15890081] ACT: [-0.36313679 -0.34370288] \n",
      "STATE: [ 0.40342093  0.34625626 -0.14865199 -0.18405576] ACT: [-0.29090728 -0.40666074] \n",
      "STATE: [ 0.34582639  0.27366186 -0.16455583 -0.20741256] ACT: [-0.29324718 -0.40497665] \n",
      "STATE: [ 0.283144    0.19334787 -0.17909253 -0.22946855] ACT: [-0.28955053 -0.40762788] \n",
      "STATE: [ 0.21573612  0.10580072 -0.19259396 -0.25013472] ACT: [-0.28862143 -0.40828626] \n",
      "STATE: [ 0.14388588  0.01151419 -0.2052864  -0.26939009] ACT: [-0.289502   -0.40766235] \n",
      "STATE: [ 0.08600915 -0.06438825 -0.16536207 -0.21686409] ACT: [0.30231333 0.39825451] \n",
      "final state  [ 0.08600915 -0.06438825]\n",
      "STATE: [ 0.7009196   0.64466502 -0.02479498 -0.03604541] ACT: [-0.28337117 -0.41194754] \n",
      "STATE: [ 0.68413262  0.62026115 -0.04796278 -0.06972534] ACT: [-0.28337117 -0.41194754] \n",
      "STATE: [ 0.661818    0.58940117 -0.06375608 -0.08817138] ACT: [-0.21646688 -0.26310587] \n",
      "STATE: [ 0.63402793  0.55248895 -0.07940019 -0.10546349] ACT: [-0.22660694 -0.26375271] \n",
      "STATE: [ 0.6042939   0.51644719 -0.08495438 -0.10297646] ACT: [-0.12302659 -0.05067436] \n",
      "STATE: [ 0.57727237  0.48752143 -0.07720435 -0.08264503] ACT: [0.02485603 0.15512686] \n",
      "STATE: [ 0.55014194  0.46001606 -0.07751552 -0.07858676] ACT: [-0.06145946 -0.01560352] \n",
      "STATE: [ 0.52782619  0.4493246  -0.0637593  -0.03054703] ACT: [0.0990772  0.49008541] \n",
      "STATE: [ 0.49585384  0.42880887 -0.09134957 -0.05861638] ACT: [-0.36313679 -0.34370288] \n",
      "STATE: [ 0.45692516  0.39729086 -0.1112248  -0.09005145] ACT: [-0.29565762 -0.40322025] \n",
      "COLLIDED\n",
      "STATE: [ 0.41164214  0.35538724 -0.12938006 -0.11972464] ACT: [-0.29090728 -0.40666074] \n",
      "STATE: [ 0.36035012  0.30383113 -0.14654862 -0.14730317] ACT: [-0.29324718 -0.40497665] \n",
      "STATE: [ 0.30364022  0.24311585 -0.1620283  -0.17347222] ACT: [-0.28682214 -0.40955227] \n",
      "STATE: [ 0.24184729  0.17385698 -0.17655122 -0.19788248] ACT: [-0.28749741 -0.40907852] \n",
      "STATE: [ 0.17523008  0.09666813 -0.19033489 -0.22053958] ACT: [-0.28994112 -0.40735016] \n",
      "STATE: [ 0.10388248  0.01223124 -0.20385029 -0.24124826] ACT: [-0.29721282 -0.40207529] \n",
      "STATE: [ 0.04648519 -0.05447536 -0.16399225 -0.1905903 ] ACT: [0.30263274 0.39801184] \n",
      "final state  [ 0.04648519 -0.05447536]\n",
      "STATE: [ 0.59164271  0.80903983 -0.02413619 -0.03648982] ACT: [-0.27584215 -0.41702651] \n",
      "STATE: [ 0.5751512   0.78443595 -0.04711859 -0.0702968 ] ACT: [-0.28075818 -0.41373281] \n",
      "STATE: [ 0.55104446  0.74884407 -0.0688764  -0.10169109] ACT: [-0.28399957 -0.41151457] \n",
      "STATE: [ 0.51970958  0.70306377 -0.08952822 -0.13080087] ACT: [-0.28767809 -0.40895148] \n",
      "STATE: [ 0.48142896  0.64949793 -0.10937321 -0.15304526] ACT: [-0.29394614 -0.35232219] \n",
      "STATE: [ 0.44696192  0.60663934 -0.09847724 -0.1224531 ] ACT: [0.04249547 0.23484068] \n",
      "STATE: [ 0.42023411  0.57352219 -0.07636517 -0.09462044] ACT: [0.17885142 0.22624779] \n",
      "STATE: [ 0.396871    0.54243938 -0.06675175 -0.08880801] ACT: [ 0.05259378 -0.00453762] \n",
      "STATE: [ 0.37521926  0.50704423 -0.06186212 -0.10112902] ACT: [ 0.0058177  -0.20741757] \n",
      "STATE: [ 0.34704677  0.46087978 -0.08049281 -0.13189843] ACT: [-0.25931878 -0.4274971 ] \n",
      "STATE: [ 0.31210309  0.40508912 -0.09983909 -0.15940187] ACT: [-0.28146992 -0.41324894] \n",
      "STATE: [ 0.27068364  0.34040671 -0.11834128 -0.18480689] ACT: [-0.28633291 -0.40989445] \n",
      "STATE: [ 0.22321091  0.2674178  -0.13563638 -0.20853973] ACT: [-0.28641427 -0.40983761] \n",
      "STATE: [ 0.16982981  0.18684769 -0.15251742 -0.23020034] ACT: [-0.29465348 -0.40395461] \n",
      "STATE: [ 0.11097896  0.09915692 -0.16814529 -0.25054504] ACT: [-0.29299228 -0.40516111] \n",
      "STATE: [ 0.06470293  0.02981296 -0.13221722 -0.1981256 ] ACT: [0.28449753 0.41117047] \n",
      "STATE: [ 0.03051337 -0.02262809 -0.09768444 -0.14983157] ACT: [0.29549744 0.40333765] \n",
      "final state  [ 0.03051337 -0.02262809]\n",
      "STATE: [ 0.64006672  0.83405022 -0.02384693 -0.03667951] ACT: [-0.27253632 -0.41919441] \n",
      "STATE: [ 0.62381895  0.80928437 -0.04642219 -0.07075958] ACT: [-0.27588814 -0.41699609] \n",
      "STATE: [ 0.60016702  0.77338743 -0.06757695 -0.1025627 ] ACT: [-0.27658532 -0.41653399] \n",
      "STATE: [ 0.57003231  0.72838607 -0.08609917 -0.12857531] ACT: [-0.2623653 -0.374209 ] \n",
      "STATE: [ 0.53373973  0.67506558 -0.10369307 -0.15234423] ACT: [-0.26564755 -0.3680763 ] \n",
      "STATE: [ 0.49140503  0.61599218 -0.1209563  -0.16878115] ACT: [-0.27506382 -0.30210863] \n",
      "STATE: [ 0.45840974  0.57361749 -0.09427225 -0.12107056] ACT: [0.21424339 0.41867798] \n",
      "STATE: [ 0.43673127  0.54630055 -0.06193849 -0.0780484 ] ACT: [0.29882444 0.40087898] \n",
      "STATE: [ 0.42586452  0.53287248 -0.03104786 -0.03836591] ACT: [0.30658198 0.39497783] \n",
      "STATE: [ 0.42509997  0.53242182 -0.00218442 -0.00128759] ACT: [0.30658198 0.39497783] \n",
      "STATE: [0.43377468 0.54409694 0.02478486 0.03335747] ACT: [0.30658198 0.39497783] \n",
      "STATE: [0.45126917 0.56710207 0.04998428 0.06572895] ACT: [0.30658198 0.39497783] \n",
      "STATE: [0.47676709 0.60087441 0.0728512  0.0964924 ] ACT: [0.29882444 0.40087898] \n",
      "STATE: [0.50005064 0.63116283 0.06652443 0.08653836] ACT: [-0.01766753 -0.04139109] \n",
      "STATE: [0.52253866 0.66100591 0.06425149 0.08526592] ACT: [0.0239169  0.05036153] \n",
      "STATE: [0.53976125 0.689142   0.0492074  0.08038884] ACT: [-0.12374384  0.0082114 ] \n",
      "STATE: [0.54742978 0.70617958 0.02191008 0.04867881] ACT: [-0.27506382 -0.30210863] \n",
      "STATE: [ 0.54615905  0.71260355 -0.00363066  0.01835418] ACT: [-0.27546159 -0.31005813] \n",
      "STATE: [ 0.5365357   0.70911041 -0.02749528 -0.0099804 ] ACT: [-0.27546159 -0.31005813] \n",
      "STATE: [ 0.51910787  0.69635097 -0.0497938  -0.03645552] ACT: [-0.27546159 -0.31005813] \n",
      "STATE: [ 0.49520754  0.67767417 -0.06828666 -0.05336229] ACT: [-0.24869233 -0.22056183] \n",
      "STATE: [ 0.46497096  0.65252196 -0.08639024 -0.07186348] ACT: [-0.25811304 -0.2514639 ] \n",
      "STATE: [ 0.43246927  0.62521942 -0.09286197 -0.07800726] ACT: [-0.13875537 -0.12411226] \n",
      "STATE: [ 0.39494773  0.59304646 -0.10720441 -0.09192273] ACT: [-0.23356001 -0.21753944] \n",
      "STATE: [ 0.35226076  0.56681788 -0.12196278 -0.07493878] ACT: [-0.24907044  0.12516026] \n",
      "STATE: [ 0.30479688  0.52900481 -0.13561109 -0.10803735] ACT: [-0.24745274 -0.43447341] \n",
      "STATE: [ 0.25221072  0.48076497 -0.15024616 -0.13782812] ACT: [-0.26896628 -0.42149394] \n",
      "STATE: [ 0.19428961  0.42314973 -0.16548888 -0.16461499] ACT: [-0.28688714 -0.40950674] \n",
      "STATE: [ 0.13131722  0.35682115 -0.17992113 -0.18951022] ACT: [-0.28905671 -0.40797821] \n",
      "STATE: [ 0.06336683  0.28253805 -0.19414397 -0.21223742] ACT: [-0.29748754 -0.40187208] \n",
      "STATE: [-0.00945875  0.20099137 -0.20807307 -0.23299052] ACT: [-0.30479776 -0.39635631] \n",
      "final state  [-0.00945875  0.20099137]\n",
      "STATE: [ 0.86871875  0.71281151 -0.0238342  -0.03668778] ACT: [-0.27239088 -0.41928893] \n",
      "STATE: [ 0.85261043  0.68795448 -0.04602377 -0.07102011] ACT: [-0.27147071 -0.41988529] \n",
      "STATE: [ 0.82929009  0.65184093 -0.06662955 -0.10318156] ACT: [-0.27001249 -0.42082449] \n",
      "STATE: [ 0.79907614  0.60531028 -0.08632556 -0.13294472] ACT: [-0.27506938 -0.41753663] \n",
      "STATE: [ 0.76244333  0.54918375 -0.10466518 -0.16036152] ACT: [-0.27433982 -0.41304333] \n",
      "STATE: [ 0.71942306  0.48420328 -0.12291506 -0.18565848] ACT: [-0.28706895 -0.40937931] \n",
      "STATE: [ 0.66988457  0.41182097 -0.14153854 -0.2068066 ] ACT: [-0.30502612 -0.38093664] \n",
      "STATE: [ 0.61426267  0.33205029 -0.1589197  -0.22791624] ACT: [-0.30479566 -0.39635793] \n",
      "STATE: [ 0.55315207  0.24522825 -0.17460173 -0.24806295] ACT: [-0.29841297 -0.40118537] \n",
      "STATE: [ 0.48718778  0.15161788 -0.18846939 -0.2674582 ] ACT: [-0.28943886 -0.40770718] \n",
      "STATE: [ 0.41680896  0.0515799  -0.20108234 -0.28582282] ACT: [-0.28550004 -0.410475  ] \n",
      "STATE: [ 0.34248873 -0.05458949 -0.21234354 -0.30334112] ACT: [-0.27951116 -0.41457631] \n",
      "final state  [ 0.34248873 -0.05458949]\n",
      "STATE: [ 0.81963286  0.72036974 -0.02417495 -0.03646415] ACT: [-0.27628519 -0.41673312] \n",
      "STATE: [ 0.80334601  0.69562946 -0.04653385 -0.07068651] ACT: [-0.27366141 -0.41846079] \n",
      "STATE: [ 0.77990593  0.65959493 -0.06697167 -0.10295579] ACT: [-0.26847552 -0.4218067 ] \n",
      "STATE: [ 0.74959707  0.61328631 -0.08659673 -0.13231036] ACT: [-0.27451512 -0.41269757] \n",
      "STATE: [ 0.71229891  0.55796011 -0.1065662  -0.15807484] ACT: [-0.29317006 -0.39368404] \n",
      "STATE: [ 0.66889719  0.49494601 -0.12400489 -0.1800403 ] ACT: [-0.27922399 -0.36958989] \n",
      "STATE: [ 0.61868261  0.42688617 -0.14347025 -0.19445667] ACT: [-0.31546493 -0.2997888 ] \n",
      "STATE: [ 0.56777813  0.35431985 -0.14544137 -0.20733235] ACT: [-0.13012973 -0.29299315] \n",
      "STATE: [ 0.51099228  0.27429162 -0.16224527 -0.22865208] ACT: [-0.30112558 -0.39915334] \n",
      "STATE: [ 0.44911458  0.18699694 -0.17679343 -0.24941338] ACT: [-0.28794871 -0.40876098] \n",
      "STATE: [ 0.38242996  0.09294748 -0.1905275  -0.26871273] ACT: [-0.28955588 -0.40762408] \n",
      "STATE: [ 0.31177818 -0.00776982 -0.20186221 -0.28776372] ACT: [-0.27243512 -0.41926019] \n",
      "final state  [ 0.31177818 -0.00776982]\n",
      "After 12 REWARD:  (0.8690788902037884, array([ 0.19937308, -0.02075126, -0.18658531, -0.25789349]), -0.28656768602961247)\n",
      "UPDATING THE ACTION MATRIX\n"
     ]
    },
    {
     "name": "stderr",
     "output_type": "stream",
     "text": [
      "100%|█████████████████████████████████████████████████████████████████████████████████████████████████████████████████████████| 25/25 [00:03<00:00,  7.06it/s]\n",
      "Generating Dynamics Dataset: 100%|██████████████████████████████████████████████████████████████████████████████████████████| 15/15 [00:00<00:00, 1216.45it/s]\n"
     ]
    },
    {
     "name": "stdout",
     "output_type": "stream",
     "text": [
      "COLLIDED\n",
      "COLLIDED\n",
      "COLLIDED\n",
      "COLLIDED\n",
      "COLLIDED\n",
      "COLLIDED\n"
     ]
    },
    {
     "name": "stderr",
     "output_type": "stream",
     "text": [
      "100%|████████████████████████████████████████████████████████████████████████████████████████████████████████████████████████| 71/71 [00:00<00:00, 237.95it/s]\n"
     ]
    },
    {
     "name": "stdout",
     "output_type": "stream",
     "text": [
      "Epoch 1, loss: 0.000, err: 0.012, val_loss: 0.000, val_err: 0.019\n"
     ]
    },
    {
     "name": "stderr",
     "output_type": "stream",
     "text": [
      "100%|████████████████████████████████████████████████████████████████████████████████████████████████████████████████████████| 71/71 [00:00<00:00, 236.27it/s]\n"
     ]
    },
    {
     "name": "stdout",
     "output_type": "stream",
     "text": [
      "Epoch 2, loss: 0.000, err: 0.012, val_loss: 0.000, val_err: 0.020\n"
     ]
    },
    {
     "name": "stderr",
     "output_type": "stream",
     "text": [
      "100%|████████████████████████████████████████████████████████████████████████████████████████████████████████████████████████| 71/71 [00:00<00:00, 237.69it/s]\n"
     ]
    },
    {
     "name": "stdout",
     "output_type": "stream",
     "text": [
      "Epoch 3, loss: 0.000, err: 0.012, val_loss: 0.000, val_err: 0.019\n"
     ]
    },
    {
     "name": "stderr",
     "output_type": "stream",
     "text": [
      "100%|████████████████████████████████████████████████████████████████████████████████████████████████████████████████████████| 71/71 [00:00<00:00, 238.59it/s]\n"
     ]
    },
    {
     "name": "stdout",
     "output_type": "stream",
     "text": [
      "Epoch 4, loss: 0.000, err: 0.012, val_loss: 0.000, val_err: 0.020\n"
     ]
    },
    {
     "name": "stderr",
     "output_type": "stream",
     "text": [
      "100%|████████████████████████████████████████████████████████████████████████████████████████████████████████████████████████| 71/71 [00:00<00:00, 236.96it/s]\n"
     ]
    },
    {
     "name": "stdout",
     "output_type": "stream",
     "text": [
      "Epoch 5, loss: 0.000, err: 0.012, val_loss: 0.000, val_err: 0.020\n"
     ]
    },
    {
     "name": "stderr",
     "output_type": "stream",
     "text": [
      "100%|████████████████████████████████████████████████████████████████████████████████████████████████████████████████████████| 71/71 [00:00<00:00, 236.93it/s]\n"
     ]
    },
    {
     "name": "stdout",
     "output_type": "stream",
     "text": [
      "Epoch 6, loss: 0.000, err: 0.012, val_loss: 0.000, val_err: 0.020\n"
     ]
    },
    {
     "name": "stderr",
     "output_type": "stream",
     "text": [
      "100%|████████████████████████████████████████████████████████████████████████████████████████████████████████████████████████| 71/71 [00:00<00:00, 240.37it/s]\n"
     ]
    },
    {
     "name": "stdout",
     "output_type": "stream",
     "text": [
      "Epoch 7, loss: 0.000, err: 0.012, val_loss: 0.000, val_err: 0.019\n"
     ]
    },
    {
     "name": "stderr",
     "output_type": "stream",
     "text": [
      "100%|████████████████████████████████████████████████████████████████████████████████████████████████████████████████████████| 71/71 [00:00<00:00, 238.81it/s]\n"
     ]
    },
    {
     "name": "stdout",
     "output_type": "stream",
     "text": [
      "Epoch 8, loss: 0.000, err: 0.012, val_loss: 0.000, val_err: 0.020\n"
     ]
    },
    {
     "name": "stderr",
     "output_type": "stream",
     "text": [
      "100%|████████████████████████████████████████████████████████████████████████████████████████████████████████████████████████| 71/71 [00:00<00:00, 237.19it/s]\n"
     ]
    },
    {
     "name": "stdout",
     "output_type": "stream",
     "text": [
      "Epoch 9, loss: 0.000, err: 0.012, val_loss: 0.000, val_err: 0.020\n"
     ]
    },
    {
     "name": "stderr",
     "output_type": "stream",
     "text": [
      "100%|████████████████████████████████████████████████████████████████████████████████████████████████████████████████████████| 71/71 [00:00<00:00, 235.76it/s]\n"
     ]
    },
    {
     "name": "stdout",
     "output_type": "stream",
     "text": [
      "Epoch 10, loss: 0.000, err: 0.012, val_loss: 0.000, val_err: 0.019\n"
     ]
    },
    {
     "name": "stderr",
     "output_type": "stream",
     "text": [
      "100%|████████████████████████████████████████████████████████████████████████████████████████████████████████████████████████| 71/71 [00:00<00:00, 239.00it/s]\n"
     ]
    },
    {
     "name": "stdout",
     "output_type": "stream",
     "text": [
      "Epoch 11, loss: 0.000, err: 0.012, val_loss: 0.000, val_err: 0.020\n"
     ]
    },
    {
     "name": "stderr",
     "output_type": "stream",
     "text": [
      "100%|████████████████████████████████████████████████████████████████████████████████████████████████████████████████████████| 71/71 [00:00<00:00, 239.39it/s]\n"
     ]
    },
    {
     "name": "stdout",
     "output_type": "stream",
     "text": [
      "Epoch 12, loss: 0.000, err: 0.012, val_loss: 0.000, val_err: 0.019\n"
     ]
    },
    {
     "name": "stderr",
     "output_type": "stream",
     "text": [
      "100%|████████████████████████████████████████████████████████████████████████████████████████████████████████████████████████| 71/71 [00:00<00:00, 231.63it/s]\n"
     ]
    },
    {
     "name": "stdout",
     "output_type": "stream",
     "text": [
      "Epoch 13, loss: 0.000, err: 0.012, val_loss: 0.000, val_err: 0.020\n"
     ]
    },
    {
     "name": "stderr",
     "output_type": "stream",
     "text": [
      "100%|████████████████████████████████████████████████████████████████████████████████████████████████████████████████████████| 71/71 [00:00<00:00, 238.68it/s]\n"
     ]
    },
    {
     "name": "stdout",
     "output_type": "stream",
     "text": [
      "Epoch 14, loss: 0.000, err: 0.012, val_loss: 0.000, val_err: 0.019\n"
     ]
    },
    {
     "name": "stderr",
     "output_type": "stream",
     "text": [
      "100%|████████████████████████████████████████████████████████████████████████████████████████████████████████████████████████| 71/71 [00:00<00:00, 237.40it/s]\n"
     ]
    },
    {
     "name": "stdout",
     "output_type": "stream",
     "text": [
      "Epoch 15, loss: 0.000, err: 0.012, val_loss: 0.000, val_err: 0.020\n"
     ]
    },
    {
     "name": "stderr",
     "output_type": "stream",
     "text": [
      "100%|████████████████████████████████████████████████████████████████████████████████████████████████████████████████████████| 71/71 [00:00<00:00, 241.49it/s]\n"
     ]
    },
    {
     "name": "stdout",
     "output_type": "stream",
     "text": [
      "Epoch 16, loss: 0.000, err: 0.012, val_loss: 0.000, val_err: 0.019\n"
     ]
    },
    {
     "name": "stderr",
     "output_type": "stream",
     "text": [
      "100%|████████████████████████████████████████████████████████████████████████████████████████████████████████████████████████| 71/71 [00:00<00:00, 237.27it/s]\n"
     ]
    },
    {
     "name": "stdout",
     "output_type": "stream",
     "text": [
      "Epoch 17, loss: 0.000, err: 0.012, val_loss: 0.000, val_err: 0.019\n"
     ]
    },
    {
     "name": "stderr",
     "output_type": "stream",
     "text": [
      "100%|████████████████████████████████████████████████████████████████████████████████████████████████████████████████████████| 71/71 [00:00<00:00, 235.01it/s]\n"
     ]
    },
    {
     "name": "stdout",
     "output_type": "stream",
     "text": [
      "Epoch 18, loss: 0.000, err: 0.012, val_loss: 0.000, val_err: 0.019\n"
     ]
    },
    {
     "name": "stderr",
     "output_type": "stream",
     "text": [
      "100%|████████████████████████████████████████████████████████████████████████████████████████████████████████████████████████| 71/71 [00:00<00:00, 237.72it/s]\n"
     ]
    },
    {
     "name": "stdout",
     "output_type": "stream",
     "text": [
      "Epoch 19, loss: 0.000, err: 0.012, val_loss: 0.000, val_err: 0.019\n"
     ]
    },
    {
     "name": "stderr",
     "output_type": "stream",
     "text": [
      "100%|████████████████████████████████████████████████████████████████████████████████████████████████████████████████████████| 71/71 [00:00<00:00, 236.30it/s]\n"
     ]
    },
    {
     "name": "stdout",
     "output_type": "stream",
     "text": [
      "Epoch 20, loss: 0.000, err: 0.012, val_loss: 0.000, val_err: 0.019\n"
     ]
    },
    {
     "name": "stderr",
     "output_type": "stream",
     "text": [
      "100%|████████████████████████████████████████████████████████████████████████████████████████████████████████████████████████| 71/71 [00:00<00:00, 238.32it/s]\n"
     ]
    },
    {
     "name": "stdout",
     "output_type": "stream",
     "text": [
      "Epoch 21, loss: 0.000, err: 0.012, val_loss: 0.000, val_err: 0.019\n"
     ]
    },
    {
     "name": "stderr",
     "output_type": "stream",
     "text": [
      "100%|████████████████████████████████████████████████████████████████████████████████████████████████████████████████████████| 71/71 [00:00<00:00, 233.80it/s]\n"
     ]
    },
    {
     "name": "stdout",
     "output_type": "stream",
     "text": [
      "Epoch 22, loss: 0.000, err: 0.012, val_loss: 0.000, val_err: 0.019\n"
     ]
    },
    {
     "name": "stderr",
     "output_type": "stream",
     "text": [
      "100%|████████████████████████████████████████████████████████████████████████████████████████████████████████████████████████| 71/71 [00:00<00:00, 237.83it/s]\n"
     ]
    },
    {
     "name": "stdout",
     "output_type": "stream",
     "text": [
      "Epoch 23, loss: 0.000, err: 0.012, val_loss: 0.000, val_err: 0.019\n"
     ]
    },
    {
     "name": "stderr",
     "output_type": "stream",
     "text": [
      "100%|████████████████████████████████████████████████████████████████████████████████████████████████████████████████████████| 71/71 [00:00<00:00, 237.58it/s]\n"
     ]
    },
    {
     "name": "stdout",
     "output_type": "stream",
     "text": [
      "Epoch 24, loss: 0.000, err: 0.012, val_loss: 0.000, val_err: 0.019\n"
     ]
    },
    {
     "name": "stderr",
     "output_type": "stream",
     "text": [
      "100%|████████████████████████████████████████████████████████████████████████████████████████████████████████████████████████| 71/71 [00:00<00:00, 235.00it/s]\n"
     ]
    },
    {
     "name": "stdout",
     "output_type": "stream",
     "text": [
      "Epoch 25, loss: 0.000, err: 0.012, val_loss: 0.000, val_err: 0.019\n"
     ]
    },
    {
     "name": "stderr",
     "output_type": "stream",
     "text": [
      "100%|████████████████████████████████████████████████████████████████████████████████████████████████████████████████████████| 71/71 [00:00<00:00, 238.76it/s]\n"
     ]
    },
    {
     "name": "stdout",
     "output_type": "stream",
     "text": [
      "Epoch 26, loss: 0.000, err: 0.012, val_loss: 0.000, val_err: 0.019\n"
     ]
    },
    {
     "name": "stderr",
     "output_type": "stream",
     "text": [
      "100%|████████████████████████████████████████████████████████████████████████████████████████████████████████████████████████| 71/71 [00:00<00:00, 236.98it/s]\n"
     ]
    },
    {
     "name": "stdout",
     "output_type": "stream",
     "text": [
      "Epoch 27, loss: 0.000, err: 0.012, val_loss: 0.000, val_err: 0.019\n"
     ]
    },
    {
     "name": "stderr",
     "output_type": "stream",
     "text": [
      "100%|████████████████████████████████████████████████████████████████████████████████████████████████████████████████████████| 71/71 [00:00<00:00, 239.76it/s]\n"
     ]
    },
    {
     "name": "stdout",
     "output_type": "stream",
     "text": [
      "Epoch 28, loss: 0.000, err: 0.012, val_loss: 0.000, val_err: 0.020\n"
     ]
    },
    {
     "name": "stderr",
     "output_type": "stream",
     "text": [
      "100%|████████████████████████████████████████████████████████████████████████████████████████████████████████████████████████| 71/71 [00:00<00:00, 240.08it/s]\n"
     ]
    },
    {
     "name": "stdout",
     "output_type": "stream",
     "text": [
      "Epoch 29, loss: 0.000, err: 0.012, val_loss: 0.000, val_err: 0.019\n"
     ]
    },
    {
     "name": "stderr",
     "output_type": "stream",
     "text": [
      "100%|████████████████████████████████████████████████████████████████████████████████████████████████████████████████████████| 71/71 [00:00<00:00, 238.90it/s]\n"
     ]
    },
    {
     "name": "stdout",
     "output_type": "stream",
     "text": [
      "Epoch 30, loss: 0.000, err: 0.012, val_loss: 0.000, val_err: 0.020\n"
     ]
    },
    {
     "name": "stderr",
     "output_type": "stream",
     "text": [
      "100%|████████████████████████████████████████████████████████████████████████████████████████████████████████████████████████| 71/71 [00:00<00:00, 238.94it/s]\n"
     ]
    },
    {
     "name": "stdout",
     "output_type": "stream",
     "text": [
      "Epoch 31, loss: 0.000, err: 0.012, val_loss: 0.000, val_err: 0.019\n"
     ]
    },
    {
     "name": "stderr",
     "output_type": "stream",
     "text": [
      "100%|████████████████████████████████████████████████████████████████████████████████████████████████████████████████████████| 71/71 [00:00<00:00, 239.86it/s]\n"
     ]
    },
    {
     "name": "stdout",
     "output_type": "stream",
     "text": [
      "Epoch 32, loss: 0.000, err: 0.012, val_loss: 0.000, val_err: 0.019\n"
     ]
    },
    {
     "name": "stderr",
     "output_type": "stream",
     "text": [
      "100%|████████████████████████████████████████████████████████████████████████████████████████████████████████████████████████| 71/71 [00:00<00:00, 239.71it/s]\n"
     ]
    },
    {
     "name": "stdout",
     "output_type": "stream",
     "text": [
      "Epoch 33, loss: 0.000, err: 0.012, val_loss: 0.000, val_err: 0.019\n"
     ]
    },
    {
     "name": "stderr",
     "output_type": "stream",
     "text": [
      "100%|████████████████████████████████████████████████████████████████████████████████████████████████████████████████████████| 71/71 [00:00<00:00, 240.33it/s]\n"
     ]
    },
    {
     "name": "stdout",
     "output_type": "stream",
     "text": [
      "Epoch 34, loss: 0.000, err: 0.012, val_loss: 0.000, val_err: 0.019\n"
     ]
    },
    {
     "name": "stderr",
     "output_type": "stream",
     "text": [
      "100%|████████████████████████████████████████████████████████████████████████████████████████████████████████████████████████| 71/71 [00:00<00:00, 238.53it/s]\n"
     ]
    },
    {
     "name": "stdout",
     "output_type": "stream",
     "text": [
      "Epoch 35, loss: 0.000, err: 0.012, val_loss: 0.000, val_err: 0.019\n"
     ]
    },
    {
     "name": "stderr",
     "output_type": "stream",
     "text": [
      "100%|████████████████████████████████████████████████████████████████████████████████████████████████████████████████████████| 71/71 [00:00<00:00, 238.54it/s]\n"
     ]
    },
    {
     "name": "stdout",
     "output_type": "stream",
     "text": [
      "Epoch 36, loss: 0.000, err: 0.012, val_loss: 0.000, val_err: 0.019\n"
     ]
    },
    {
     "name": "stderr",
     "output_type": "stream",
     "text": [
      "100%|████████████████████████████████████████████████████████████████████████████████████████████████████████████████████████| 71/71 [00:00<00:00, 240.17it/s]\n"
     ]
    },
    {
     "name": "stdout",
     "output_type": "stream",
     "text": [
      "Epoch 37, loss: 0.000, err: 0.012, val_loss: 0.000, val_err: 0.019\n"
     ]
    },
    {
     "name": "stderr",
     "output_type": "stream",
     "text": [
      "100%|████████████████████████████████████████████████████████████████████████████████████████████████████████████████████████| 71/71 [00:00<00:00, 235.02it/s]\n"
     ]
    },
    {
     "name": "stdout",
     "output_type": "stream",
     "text": [
      "Epoch 38, loss: 0.000, err: 0.012, val_loss: 0.000, val_err: 0.019\n"
     ]
    },
    {
     "name": "stderr",
     "output_type": "stream",
     "text": [
      "100%|████████████████████████████████████████████████████████████████████████████████████████████████████████████████████████| 71/71 [00:00<00:00, 240.43it/s]\n"
     ]
    },
    {
     "name": "stdout",
     "output_type": "stream",
     "text": [
      "Epoch 39, loss: 0.000, err: 0.012, val_loss: 0.000, val_err: 0.020\n"
     ]
    },
    {
     "name": "stderr",
     "output_type": "stream",
     "text": [
      "100%|████████████████████████████████████████████████████████████████████████████████████████████████████████████████████████| 10/10 [00:00<00:00, 361.34it/s]\n"
     ]
    },
    {
     "name": "stdout",
     "output_type": "stream",
     "text": [
      "STATE: [ 0.87474352  0.83979067 -0.0225184  -0.03750978] ACT: [-0.2573532  -0.42868325] \n",
      "STATE: [ 0.85928331  0.81452658 -0.04417202 -0.07218312] ACT: [-0.26435865 -0.42439899] \n",
      "STATE: [ 0.83689569  0.77782856 -0.06396463 -0.10485148] ACT: [-0.25933031 -0.42749011] \n",
      "STATE: [ 0.80797446  0.73048404 -0.0826321  -0.13527004] ACT: [-0.26131594 -0.42627923] \n",
      "STATE: [ 0.77291761  0.67321063 -0.10016242 -0.16363834] ACT: [-0.26232066 -0.42566168] \n",
      "STATE: [ 0.73191283  0.60679483 -0.11715651 -0.1897594 ] ACT: [-0.26934002 -0.42125521] \n",
      "STATE: [ 0.68441216  0.53248707 -0.13571619 -0.21230789] ACT: [-0.29997795 -0.40001653] \n",
      "STATE: [ 0.63041496  0.45113737 -0.15427773 -0.23242773] ACT: [-0.31391909 -0.38917194] \n",
      "STATE: [ 0.56788651  0.36785327 -0.1786527  -0.23795455] ACT: [-0.39427939 -0.23748448] \n",
      "STATE: [ 0.49981895  0.27813957 -0.19447873 -0.25632487] ACT: [-0.31485841 -0.38841239] \n",
      "STATE: [ 0.42741083  0.18178733 -0.20688036 -0.27529211] ACT: [-0.28759191 -0.40901209] \n",
      "STATE: [ 0.35127791  0.07900594 -0.21752262 -0.29366111] ACT: [-0.27678612 -0.41640058] \n",
      "STATE: [ 0.27216984 -0.03010443 -0.22602307 -0.31174392] ACT: [-0.26029    -0.42690645] \n",
      "final state  [ 0.27216984 -0.03010443]\n",
      "STATE: [ 0.74820154  0.66516647 -0.02391951 -0.03663222] ACT: [-0.27336582 -0.41865395] \n",
      "STATE: [ 0.73177659  0.64051895 -0.04692843 -0.0704215 ] ACT: [-0.28089872 -0.41363742] \n",
      "STATE: [ 0.70793652  0.60508073 -0.0681145  -0.10125205] ACT: [-0.27732285 -0.40516518] \n",
      "STATE: [ 0.6763663   0.56025679 -0.09020061 -0.1280684 ] ACT: [-0.30349858 -0.38241165] \n",
      "STATE: [ 0.6378003   0.50603539 -0.11018856 -0.15491829] ACT: [-0.29608418 -0.40290714] \n",
      "STATE: [ 0.59679851  0.45464302 -0.11714798 -0.14683535] ACT: [-0.16217762 -0.02381235] \n",
      "STATE: [ 0.55337492  0.40942056 -0.12406741 -0.12920701] ACT: [-0.16694024  0.0913403 ] \n",
      "STATE: [ 0.50255261  0.35578852 -0.14520658 -0.15323442] ACT: [-0.33464104 -0.3715042 ] \n",
      "STATE: [ 0.44591655  0.29339728 -0.16181733 -0.17826069] ACT: [-0.29874212 -0.40094033] \n",
      "STATE: [ 0.38413483  0.22261324 -0.17651919 -0.2022401 ] ACT: [-0.28938421 -0.40774598] \n",
      "STATE: [ 0.31780113  0.1438094  -0.18952487 -0.22515382] ACT: [-0.28102567 -0.41355117] \n",
      "STATE: [ 0.24731541  0.05744385 -0.20138776 -0.24675873] ACT: [-0.2777196  -0.41577858] \n",
      "STATE: [ 0.17893688 -0.03835794 -0.19536724 -0.27371941] ACT: [-0.08223484 -0.49319107] \n",
      "final state  [ 0.17893688 -0.03835794]\n",
      "STATE: [ 0.71262175  0.88518998 -0.02358687 -0.03684728] ACT: [-0.26956427 -0.42111175] \n",
      "STATE: [ 0.6966527   0.86024322 -0.04562586 -0.07127645] ACT: [-0.26956427 -0.42111175] \n",
      "STATE: [ 0.67355384  0.82398768 -0.06599673 -0.10358726] ACT: [-0.26702935 -0.4227237 ] \n",
      "STATE: [ 0.6437056   0.77722117 -0.08528071 -0.1336186 ] ACT: [-0.26988585 -0.42090572] \n",
      "STATE: [ 0.60737174  0.72075012 -0.10381102 -0.16134586] ACT: [-0.27573557 -0.41709699] \n",
      "STATE: [ 0.56590009  0.6581046  -0.11849041 -0.17898718] ACT: [-0.24562276 -0.32262445] \n",
      "STATE: [ 0.51844849  0.5882968  -0.13557601 -0.19945088] ACT: [-0.2841318  -0.36811123] \n",
      "STATE: [ 0.48122517  0.53402624 -0.10635235 -0.15505873] ACT: [0.23230268 0.35775071] \n",
      "STATE: [ 0.4550764   0.49596492 -0.07471076 -0.10874663] ACT: [0.28185392 0.41298713] \n",
      "STATE: [ 0.43920596  0.47072641 -0.04534412 -0.07211003] ACT: [0.27958571 0.33714401] \n",
      "COLLIDED\n",
      "STATE: [ 0.41588156  0.43440448 -0.06664112 -0.10377695] ACT: [-0.27740244 -0.41599025] \n",
      "COLLIDED\n",
      "STATE: [ 0.38493176  0.38819267 -0.08842802 -0.13203375] ACT: [-0.29897389 -0.40076753] \n",
      "STATE: [ 0.34728558  0.33243161 -0.10756052 -0.15931732] ACT: [-0.28497817 -0.41083749] \n",
      "STATE: [ 0.30339351  0.26774032 -0.1254059  -0.18483226] ACT: [-0.28461767 -0.41108731] \n",
      "STATE: [ 0.25352735  0.19480158 -0.14247475 -0.20839638] ACT: [-0.28912699 -0.40792841] \n",
      "STATE: [ 0.1981163   0.11413039 -0.15831727 -0.23048912] ACT: [-0.28791341 -0.40878585] \n",
      "STATE: [ 0.13746178  0.02627841 -0.17329863 -0.25100565] ACT: [-0.28995344 -0.40734138] \n",
      "STATE: [ 0.09156745 -0.04493307 -0.13112668 -0.20346138] ACT: [0.35199115 0.35510876] \n",
      "final state  [ 0.09156745 -0.04493307]\n",
      "STATE: [ 0.78599083  0.84534571 -0.02269581 -0.03740271] ACT: [-0.25938068 -0.42745955] \n",
      "STATE: [ 0.77062506  0.82002291 -0.04390221 -0.07235087] ACT: [-0.25938068 -0.42745955] \n",
      "STATE: [ 0.74802646  0.78345629 -0.06456742 -0.10447607] ACT: [-0.26910047 -0.42140828] \n",
      "STATE: [ 0.71871415  0.73635544 -0.08374947 -0.13457384] ACT: [-0.26764906 -0.4223316 ] \n",
      "STATE: [ 0.68308361  0.67944037 -0.10180155 -0.16261448] ACT: [-0.26912154 -0.42139483] \n",
      "STATE: [ 0.64218492  0.61566107 -0.11685338 -0.18222659] ACT: [-0.24837207 -0.34609923] \n",
      "STATE: [ 0.59500934  0.54493434 -0.13478739 -0.20207637] ACT: [-0.29260015 -0.36352463] \n",
      "STATE: [ 0.54823947  0.47744456 -0.13362819 -0.19282795] ACT: [-0.08784259 -0.04586101] \n",
      "STATE: [ 0.51215298  0.42766905 -0.10310426 -0.14221573] ACT: [0.2486238  0.43380434] \n",
      "STATE: [ 0.46665813  0.37137304 -0.1299853  -0.16084574] ACT: [-0.38454006 -0.3195762 ] \n",
      "STATE: [ 0.41526233  0.30630141 -0.14684514 -0.18591893] ACT: [-0.29017292 -0.40718506] \n",
      "STATE: [ 0.35839442  0.23300054 -0.16247975 -0.20943107] ACT: [-0.28881507 -0.40814931] \n",
      "STATE: [ 0.29665205  0.15184503 -0.17640676 -0.23187288] ACT: [-0.28102567 -0.41355117] \n",
      "STATE: [ 0.23013429  0.06350325 -0.19005074 -0.25240508] ACT: [-0.2882362  -0.40855831] \n",
      "STATE: [ 0.1677575  -0.03435195 -0.17821942 -0.2795863 ] ACT: [-0.00732302 -0.49994637] \n",
      "final state  [ 0.1677575  -0.03435195]\n",
      "STATE: [ 0.76550099  0.61317178 -0.0245757  -0.03619527] ACT: [-0.28086516 -0.4136602 ] \n",
      "STATE: [ 0.74903533  0.58904702 -0.04704473 -0.06892787] ACT: [-0.27522067 -0.40123337] \n",
      "STATE: [ 0.72446341  0.55425495 -0.07020549 -0.09940593] ACT: [-0.29997795 -0.40001653] \n",
      "STATE: [ 0.69368766  0.5117495  -0.08793071 -0.12144412] ACT: [-0.25522807 -0.32641953] \n",
      "STATE: [ 0.65895157  0.4673316  -0.09924598 -0.12690829] ACT: [-0.19526542 -0.15353067] \n",
      "STATE: [ 0.6164637   0.41425948 -0.1213939  -0.15163463] ACT: [-0.32755358 -0.37776799] \n",
      "STATE: [ 0.56692936  0.3529335  -0.14152669 -0.17521708] ACT: [-0.32113444 -0.3832397 ] \n",
      "STATE: [ 0.51130029  0.28350209 -0.15894019 -0.19837548] ACT: [-0.30515641 -0.39608025] \n",
      "STATE: [ 0.45039837  0.20618349 -0.17400548 -0.22091028] ACT: [-0.29137994 -0.4063222 ] \n",
      "STATE: [ 0.38492624  0.12124716 -0.18706324 -0.24267523] ACT: [-0.27973557 -0.41442492] \n",
      "STATE: [ 0.31564322  0.02889474 -0.19795149 -0.26386406] ACT: [-0.26473464 -0.42416456] \n",
      "STATE: [ 0.24457029 -0.07133693 -0.20306552 -0.28637619] ACT: [-0.20690966 -0.45517952] \n",
      "final state  [ 0.24457029 -0.07133693]\n",
      "STATE: [ 0.84558595  0.7411494  -0.02334356 -0.0370019 ] ACT: [-0.26678349 -0.4228789 ] \n",
      "STATE: [ 0.82978163  0.71609796 -0.04515519 -0.07157556] ACT: [-0.26678349 -0.4228789 ] \n",
      "STATE: [ 0.8069928   0.6796473  -0.06511094 -0.10414474] ACT: [-0.26193207 -0.42590092] \n",
      "STATE: [ 0.77752694  0.6326395  -0.08418817 -0.13430799] ACT: [-0.26685873 -0.42283143] \n",
      "STATE: [ 0.74139328  0.57604825 -0.10323902 -0.1616893 ] ACT: [-0.28086516 -0.4136602 ] \n",
      "STATE: [ 0.69840624  0.51181583 -0.12282012 -0.18352119] ACT: [-0.30121318 -0.3707743 ] \n",
      "STATE: [ 0.65226022  0.44709679 -0.13184577 -0.18491155] ACT: [-0.19526542 -0.15353067] \n",
      "STATE: [ 0.59911121  0.37505579 -0.15185433 -0.20583142] ACT: [-0.32755358 -0.37776799] \n",
      "STATE: [ 0.53988315  0.29578647 -0.16922303 -0.22648376] ACT: [-0.31239022 -0.39040025] \n",
      "STATE: [ 0.47557189  0.20930908 -0.18374644 -0.24707826] ACT: [-0.29289908 -0.40522849] \n",
      "STATE: [ 0.40657869  0.11604803 -0.19712344 -0.26646016] ACT: [-0.2906898  -0.40681622] \n",
      "STATE: [ 0.33357443  0.0161965  -0.2085836  -0.28529008] ACT: [-0.2788159  -0.41504421] \n",
      "STATE: [ 0.25779536 -0.09041515 -0.21651162 -0.30460471] ACT: [-0.2470436  -0.43470618] \n",
      "final state  [ 0.25779536 -0.09041515]\n",
      "STATE: [ 0.68374837  0.68980225 -0.0220224  -0.03216541] ACT: [-0.25168452 -0.36760465] \n",
      "STATE: [ 0.66893996  0.66868387 -0.04230973 -0.06033823] ACT: [-0.24837207 -0.34609923] \n",
      "STATE: [ 0.64696852  0.63820891 -0.06277553 -0.08707131] ACT: [-0.26562716 -0.35077458] \n",
      "STATE: [ 0.61806671  0.60049823 -0.08257661 -0.10774479] ACT: [-0.27337968 -0.30157179] \n",
      "STATE: [ 0.58256836  0.55824109 -0.10142386 -0.12073471] ACT: [-0.27732956 -0.22926479] \n",
      "STATE: [ 0.55271673  0.52676143 -0.08529037 -0.08994188] ACT: [0.10831477 0.26136704] \n",
      "STATE: [ 0.5322892   0.51071719 -0.05836438 -0.04584069] ACT: [0.24375785 0.43655711] \n",
      "STATE: [ 0.5206673   0.50909541 -0.03320541 -0.00463365] ACT: [0.24375785 0.43655711] \n",
      "STATE: [ 0.51804231  0.52049015 -0.00749998  0.0325564 ] ACT: [0.2688723  0.42155389] \n",
      "STATE: [0.5238238  0.5440472  0.01651854 0.06730585] ACT: [0.2688723  0.42155389] \n",
      "STATE: [ 0.52053529  0.55345092 -0.00939575  0.02686779] ACT: [-0.28377435 -0.41166991] \n",
      "STATE: [ 0.508772    0.54963014 -0.03360941 -0.01091653] ACT: [-0.28377435 -0.41166991] \n",
      "STATE: [ 0.48909008  0.5334527  -0.05623405 -0.04622125] ACT: [-0.28377435 -0.41166991] \n",
      "STATE: [ 0.47933157  0.53098464 -0.02788147 -0.00705161] ACT: [0.28185392 0.41298713] \n",
      "STATE: [ 0.47884523  0.54132627 -0.00138953  0.02954753] ACT: [0.28185392 0.41298713] \n",
      "STATE: [0.48702259 0.56363697 0.02336388 0.06374485] ACT: [0.28185392 0.41298713] \n",
      "STATE: [0.50337339 0.59707746 0.04671657 0.09554425] ACT: [0.28441088 0.41123041] \n",
      "STATE: [0.52576544 0.63927953 0.06397728 0.12057735] ACT: [0.23230268 0.35775071] \n",
      "STATE: [0.54984831 0.68280807 0.06880821 0.12436728] ACT: [0.10319357 0.1337465 ] \n",
      "STATE: [0.56814399 0.71860036 0.05227336 0.10226367] ACT: [-0.13736363 -0.1593372 ] \n",
      "STATE: [0.58072062 0.74589963 0.03593325 0.07799791] ACT: [-0.14753907 -0.2006252 ] \n",
      "STATE: [0.58607756 0.76207219 0.01530553 0.04620732] ACT: [-0.20879538 -0.30482262] \n",
      "STATE: [ 0.58287939  0.76494697 -0.00913763  0.00821366] ACT: [-0.26787123 -0.3995578 ] \n",
      "STATE: [ 0.5714181   0.75487845 -0.03274656 -0.02876719] ACT: [-0.27666959 -0.41647802] \n",
      "STATE: [ 0.55431459  0.73613549 -0.04886716 -0.05355132] ACT: [-0.20879538 -0.30482262] \n",
      "STATE: [ 0.52980894  0.70596979 -0.07001615 -0.0861877 ] ACT: [-0.27835313 -0.41315064] \n",
      "STATE: [ 0.49984596  0.6697227  -0.08560851 -0.10356311] ACT: [-0.23071054 -0.26321691] \n",
      "STATE: [ 0.47862859  0.64902482 -0.06062104 -0.0591368 ] ACT: [0.22136472 0.43005694] \n",
      "STATE: [ 0.46558291  0.64285574 -0.03727337 -0.01762596] ACT: [0.22136472 0.43005694] \n",
      "STATE: [ 0.45841761  0.64087258 -0.02047228 -0.00566616] ACT: [0.16405744 0.12346398] \n",
      "STATE: [ 0.45674679  0.64280065 -0.00477376  0.00550878] ACT: [0.16405744 0.12346398] \n",
      "STATE: [0.46020988 0.64838328 0.00989454 0.01595036] ACT: [0.16405744 0.12346398] \n",
      "STATE: [0.46367893 0.65319776 0.00991157 0.01375566] ACT: [ 0.00761548 -0.01311958] \n",
      "STATE: [0.46715355 0.6572945  0.00992747 0.01170498] ACT: [ 0.00761548 -0.01311958] \n",
      "STATE: [0.47063337 0.66072061 0.00994234 0.00978888] ACT: [ 0.00761548 -0.01311958] \n",
      "STATE: [0.47411805 0.66352009 0.00995623 0.00799852] ACT: [ 0.00761548 -0.01311958] \n",
      "STATE: [0.48415334 0.67930635 0.02867226 0.0451036 ] ACT: [0.22136472 0.43005694] \n",
      "STATE: [0.48896528 0.68759092 0.0137484  0.02367019] ACT: [-0.14905427 -0.21112548] \n",
      "STATE: [ 4.88896646e-01  6.88866091e-01 -1.96090399e-04  3.64335862e-03] ACT: [-0.14905427 -0.21112548] \n",
      "STATE: [ 0.48426773  0.68359187 -0.01322547 -0.01506922] ACT: [-0.14905427 -0.21112548] \n",
      "STATE: [ 0.4753778   0.67219804 -0.0253998  -0.03255378] ACT: [-0.14905427 -0.21112548] \n",
      "STATE: [ 0.46250649  0.65508622 -0.03677518 -0.04889092] ACT: [-0.14905427 -0.21112548] \n",
      "STATE: [ 0.45071308  0.63869558 -0.03369546 -0.04683041] ACT: [ 0.00761548 -0.01311958] \n",
      "STATE: [ 0.44471787  0.62716165 -0.01712917 -0.03295407] ACT: [0.16405744 0.12346398] \n",
      "STATE: [ 0.44414035  0.62016573 -0.00165004 -0.01998836] ACT: [0.16405744 0.12346398] \n",
      "STATE: [ 0.448625    0.61740999  0.01281327 -0.00787353] ACT: [0.16405744 0.12346398] \n",
      "STATE: [0.4578396  0.61861619 0.02632743 0.00344627] ACT: [0.16405744 0.12346398] \n",
      "STATE: [0.47147375 0.62352431 0.03895471 0.01402321] ACT: [0.16405744 0.12346398] \n",
      "STATE: [0.48895995 0.633308   0.04996058 0.0279534 ] ACT: [0.15499735 0.16971954] \n",
      "STATE: [0.51004541 0.6476473  0.06024418 0.04096941] ACT: [0.15499735 0.16971954] \n",
      "final state  [0.51004541 0.6476473 ]\n",
      "STATE: [ 0.67218852  0.80502754 -0.02361501 -0.03682925] ACT: [-0.26988585 -0.42090572] \n",
      "STATE: [ 0.65622207  0.78007912 -0.04561842 -0.07128118] ACT: [-0.26917876 -0.42135828] \n",
      "STATE: [ 0.63285902  0.74399435 -0.06675157 -0.10309934] ACT: [-0.27573557 -0.41709699] \n",
      "STATE: [ 0.60319624  0.69879944 -0.08475081 -0.12912832] ACT: [-0.25576931 -0.3747986 ] \n",
      "STATE: [ 0.56673031  0.64406963 -0.10418836 -0.1563709 ] ACT: [-0.28570652 -0.40818996] \n",
      "STATE: [ 0.52395592  0.58165805 -0.12221253 -0.17831879] ACT: [-0.2841318  -0.36811123] \n",
      "STATE: [ 0.47535146  0.51069817 -0.13886988 -0.20274253] ACT: [-0.28202913 -0.4128675 ] \n",
      "STATE: [ 0.43860237  0.45701954 -0.10499741 -0.15336751] ACT: [0.28296161 0.41222898] \n",
      "COLLIDED\n",
      "STATE: [ 0.39576949  0.39412387 -0.12237967 -0.17970192] ACT: [-0.27740244 -0.41599025] \n",
      "STATE: [ 0.34696279  0.32281374 -0.1394477  -0.20374322] ACT: [-0.28684802 -0.40953414] \n",
      "STATE: [ 0.29243596  0.24373942 -0.15579096 -0.22592664] ACT: [-0.29136591 -0.40633226] \n",
      "STATE: [ 0.2325543   0.15741764 -0.17109044 -0.24663365] ACT: [-0.29169433 -0.40609656] \n",
      "STATE: [ 0.16767055  0.06432308 -0.18538216 -0.26598444] ACT: [-0.2916518 -0.4061271] \n",
      "STATE: [ 0.09908367 -0.03574241 -0.19596249 -0.2859014 ] ACT: [-0.25995474 -0.42711068] \n",
      "final state  [ 0.09908367 -0.03574241]\n",
      "STATE: [ 0.59890043  0.77344815 -0.02343873 -0.03496131] ACT: [-0.26787123 -0.3995578 ] \n",
      "STATE: [ 0.58303168  0.74977825 -0.0453393  -0.06762828] ACT: [-0.26787123 -0.3995578 ] \n",
      "STATE: [ 0.56180995  0.7183265  -0.0606335  -0.08986215] ACT: [-0.20879538 -0.30482262] \n",
      "STATE: [ 0.53746252  0.68279462 -0.0695641  -0.10151965] ACT: [-0.14753907 -0.2006252 ] \n",
      "STATE: [ 0.51050612  0.64471482 -0.07701827 -0.10879943] ACT: [-0.13736363 -0.1593372 ] \n",
      "STATE: [ 0.48189618  0.60378791 -0.0817427  -0.11693403] ACT: [-0.11175719 -0.17456642] \n",
      "STATE: [ 0.46402946  0.57803169 -0.05104776 -0.07358918] ACT: [0.28949235 0.4076692 ] \n",
      "STATE: [ 0.45328934  0.56156461 -0.03068606 -0.0470488 ] ACT: [0.19441933 0.24812674] \n",
      "STATE: [ 0.44920814  0.55377707 -0.01166059 -0.02225013] ACT: [0.19441933 0.24812674] \n",
      "STATE: [0.45456708 0.55876194 0.01531128 0.01424251] ACT: [0.29950447 0.40037117] \n",
      "STATE: [0.46552844 0.57101857 0.03131816 0.03501893] ACT: [0.19441933 0.24812674] \n",
      "STATE: [0.48172455 0.59006974 0.0462746  0.05443191] ACT: [0.19441933 0.24812674] \n",
      "STATE: [0.50572349 0.62035554 0.06856841 0.08653087] ACT: [0.28949235 0.4076692 ] \n",
      "STATE: [0.53130781 0.65274983 0.07309805 0.0925551 ] ACT: [0.10319357 0.1337465 ] \n",
      "STATE: [0.55071185 0.67835901 0.05544012 0.0731691 ] ACT: [-0.14698136 -0.15213795] \n",
      "STATE: [0.56463574 0.69740789 0.03978254 0.05442537] ACT: [-0.13736363 -0.1593372 ] \n",
      "STATE: [0.56994768 0.70466767 0.01517696 0.02074224] ACT: [-0.25136973 -0.34413111] \n",
      "STATE: [0.57039263 0.70530689 0.00127131 0.00182632] ACT: [-0.14753907 -0.2006252 ] \n",
      "STATE: [ 0.56629001  0.69976    -0.01172179 -0.01584824] ACT: [-0.14753907 -0.2006252 ] \n",
      "STATE: [ 0.55475842  0.68403812 -0.0329474  -0.04491967] ACT: [-0.25136973 -0.34413111] \n",
      "STATE: [ 0.53977683  0.66446828 -0.04280455 -0.05591382] ACT: [-0.13736363 -0.1593372 ] \n",
      "STATE: [ 0.5212771   0.64152349 -0.05285637 -0.06555655] ACT: [-0.14698136 -0.15213795] \n",
      "STATE: [ 0.50715172  0.62418044 -0.04035823 -0.04955158] ACT: [0.10319357 0.1337465 ] \n",
      "STATE: [ 0.49711362  0.61207151 -0.02868028 -0.03459694] ACT: [0.10319357 0.1337465 ] \n",
      "STATE: [ 0.49659997  0.6132421  -0.00146756  0.00334454] ACT: [0.28949235 0.4076692 ] \n",
      "STATE: [0.50498574 0.62682074 0.02395933 0.03879611] ACT: [0.28949235 0.4076692 ] \n",
      "STATE: [0.51598149 0.64360426 0.03141644 0.04795294] ACT: [0.10319357 0.1337465 ] \n",
      "STATE: [0.52283308 0.65394028 0.01957598 0.02953146] ACT: [-0.11175719 -0.17456642] \n",
      "STATE: [0.52581248 0.65825189 0.00851255 0.0123189 ] ACT: [-0.11175719 -0.17456642] \n",
      "STATE: [ 0.52517378  0.65693446 -0.00182484 -0.00376409] ACT: [-0.11175719 -0.17456642] \n",
      "STATE: [ 0.52115444  0.65035739 -0.01148384 -0.01879163] ACT: [-0.11175719 -0.17456642] \n",
      "STATE: [ 0.5139763   0.63886584 -0.02050897 -0.03283299] ACT: [-0.11175719 -0.17456642] \n",
      "STATE: [ 0.51042953  0.63222441 -0.01013363 -0.01897551] ACT: [0.10319357 0.1337465 ] \n",
      "STATE: [ 5.10275821e-01  6.30114815e-01 -4.39171501e-04 -6.02742239e-03] ACT: [0.10319357 0.1337465 ] \n",
      "STATE: [0.5132925  0.63223965 0.00861909 0.00607095] ACT: [0.10319357 0.1337465 ] \n",
      "STATE: [0.51927151 0.63832102 0.0170829  0.01737536] ACT: [0.10319357 0.1337465 ] \n",
      "STATE: [0.52801846 0.64809929 0.02499127 0.02793792] ACT: [0.10319357 0.1337465 ] \n",
      "STATE: [0.53276882 0.65188977 0.01357246 0.01082993] ACT: [-0.11175719 -0.17456642] \n",
      "STATE: [ 5.32706136e-01  6.50772272e-01 -1.79099578e-04 -3.19285195e-03] ACT: [-0.14698136 -0.15213795] \n",
      "STATE: [ 0.52814626  0.64506889 -0.01302822 -0.01629539] ACT: [-0.14698136 -0.15213795] \n",
      "STATE: [ 0.52046306  0.63439369 -0.02195199 -0.03050057] ACT: [-0.11175719 -0.17456642] \n",
      "STATE: [ 0.51644438  0.62851503 -0.01148196 -0.01679615] ACT: [0.10319357 0.1337465 ] \n",
      "STATE: [ 0.51584972  0.62711816 -0.00169902 -0.00399108] ACT: [0.10319357 0.1337465 ] \n",
      "STATE: [0.51845439 0.62990893 0.00744192 0.00797365] ACT: [0.10319357 0.1337465 ] \n",
      "STATE: [0.52404844 0.63661255 0.01598298 0.0191532 ] ACT: [0.10319357 0.1337465 ] \n",
      "STATE: [0.53243568 0.64697223 0.02396354 0.02959909] ACT: [0.10319357 0.1337465 ] \n",
      "STATE: [0.5357712  0.65199284 0.00953006 0.01434458] ACT: [-0.14698136 -0.15213795] \n",
      "STATE: [ 5.34386520e-01  6.52024737e-01 -3.95621965e-03  9.11449663e-05] ACT: [-0.14698136 -0.15213795] \n",
      "STATE: [ 0.52859141  0.64739532 -0.01655746 -0.01322691] ACT: [-0.14698136 -0.15213795] \n",
      "STATE: [ 0.5186753   0.63841048 -0.02833175 -0.02567096] ACT: [-0.14698136 -0.15213795] \n",
      "final state  [0.5186753  0.63841048]\n",
      "STATE: [ 0.77094379  0.85429115 -0.02276394 -0.03736128] ACT: [-0.26015931 -0.4269861 ] \n",
      "STATE: [ 0.75553189  0.82899639 -0.044034   -0.07227073] ACT: [-0.26015931 -0.4269861 ] \n",
      "STATE: [ 0.73297031  0.79240516 -0.06446166 -0.10454636] ACT: [-0.2664845  -0.42306738] \n",
      "STATE: [ 0.70379498  0.745217   -0.08335808 -0.13482332] ACT: [-0.26430535 -0.42443219] \n",
      "STATE: [ 0.66829244  0.68822034 -0.10143584 -0.16284759] ACT: [-0.26912154 -0.42139483] \n",
      "STATE: [ 0.62859632  0.62695372 -0.11341747 -0.17504751] ACT: [-0.21300983 -0.26156329] \n",
      "STATE: [ 0.58254439  0.55857477 -0.13157697 -0.19536842] ACT: [-0.29260015 -0.36352463] \n",
      "STATE: [ 0.54283175  0.50268756 -0.11346469 -0.15967775] ACT: [0.10831477 0.26136704] \n",
      "STATE: [ 0.51319033  0.46383751 -0.08468975 -0.11100015] ACT: [0.24375785 0.43655711] \n",
      "STATE: [ 0.47860814  0.42568622 -0.09880626 -0.10900367] ACT: [-0.22484879 -0.06043322] \n",
      "COLLIDED\n",
      "STATE: [ 0.44145507  0.38613997 -0.10615162 -0.1129893 ] ACT: [-0.15805172 -0.12730275] \n",
      "STATE: [ 0.39775786  0.3367877  -0.12484917 -0.14100648] ACT: [-0.29329999 -0.40493841] \n",
      "STATE: [ 0.34802361  0.27821707 -0.14209787 -0.16734466] ACT: [-0.29076488 -0.40676257] \n",
      "STATE: [ 0.29289018  0.21086376 -0.1575241  -0.19243801] ACT: [-0.28287317 -0.41228967] \n",
      "STATE: [ 0.23255821  0.13541097 -0.17237706 -0.2155794 ] ACT: [-0.28789115 -0.40880152] \n",
      "STATE: [ 0.16745115  0.05233267 -0.18602016 -0.23736657] ACT: [-0.28520402 -0.41068074] \n",
      "STATE: [ 0.09865563 -0.03837388 -0.19655863 -0.25916157] ACT: [-0.25995474 -0.42711068] \n",
      "final state  [ 0.09865563 -0.03837388]\n",
      "After 13 REWARD:  (0.7789955575147244, array([ 0.24392573,  0.0902442 , -0.15109222, -0.21892564]), -0.1778746131991714)\n",
      "UPDATING THE ACTION MATRIX\n"
     ]
    },
    {
     "name": "stderr",
     "output_type": "stream",
     "text": [
      "100%|█████████████████████████████████████████████████████████████████████████████████████████████████████████████████████████| 25/25 [00:03<00:00,  7.05it/s]\n",
      "Generating Dynamics Dataset: 100%|██████████████████████████████████████████████████████████████████████████████████████████| 15/15 [00:00<00:00, 1264.84it/s]\n"
     ]
    },
    {
     "name": "stdout",
     "output_type": "stream",
     "text": [
      "COLLIDED\n",
      "COLLIDED\n",
      "COLLIDED\n",
      "COLLIDED\n",
      "COLLIDED\n",
      "COLLIDED\n",
      "COLLIDED\n",
      "COLLIDED\n"
     ]
    },
    {
     "name": "stderr",
     "output_type": "stream",
     "text": [
      "100%|████████████████████████████████████████████████████████████████████████████████████████████████████████████████████████| 77/77 [00:00<00:00, 236.15it/s]\n"
     ]
    },
    {
     "name": "stdout",
     "output_type": "stream",
     "text": [
      "Epoch 1, loss: 0.000, err: 0.011, val_loss: 0.000, val_err: 0.019\n"
     ]
    },
    {
     "name": "stderr",
     "output_type": "stream",
     "text": [
      "100%|████████████████████████████████████████████████████████████████████████████████████████████████████████████████████████| 77/77 [00:00<00:00, 239.80it/s]\n"
     ]
    },
    {
     "name": "stdout",
     "output_type": "stream",
     "text": [
      "Epoch 2, loss: 0.000, err: 0.011, val_loss: 0.000, val_err: 0.019\n"
     ]
    },
    {
     "name": "stderr",
     "output_type": "stream",
     "text": [
      "100%|████████████████████████████████████████████████████████████████████████████████████████████████████████████████████████| 77/77 [00:00<00:00, 239.06it/s]\n"
     ]
    },
    {
     "name": "stdout",
     "output_type": "stream",
     "text": [
      "Epoch 3, loss: 0.000, err: 0.011, val_loss: 0.000, val_err: 0.019\n"
     ]
    },
    {
     "name": "stderr",
     "output_type": "stream",
     "text": [
      "100%|████████████████████████████████████████████████████████████████████████████████████████████████████████████████████████| 77/77 [00:00<00:00, 237.71it/s]\n"
     ]
    },
    {
     "name": "stdout",
     "output_type": "stream",
     "text": [
      "Epoch 4, loss: 0.000, err: 0.011, val_loss: 0.000, val_err: 0.019\n"
     ]
    },
    {
     "name": "stderr",
     "output_type": "stream",
     "text": [
      "100%|████████████████████████████████████████████████████████████████████████████████████████████████████████████████████████| 77/77 [00:00<00:00, 237.82it/s]\n"
     ]
    },
    {
     "name": "stdout",
     "output_type": "stream",
     "text": [
      "Epoch 5, loss: 0.000, err: 0.011, val_loss: 0.000, val_err: 0.019\n"
     ]
    },
    {
     "name": "stderr",
     "output_type": "stream",
     "text": [
      "100%|████████████████████████████████████████████████████████████████████████████████████████████████████████████████████████| 77/77 [00:00<00:00, 238.60it/s]\n"
     ]
    },
    {
     "name": "stdout",
     "output_type": "stream",
     "text": [
      "Epoch 6, loss: 0.000, err: 0.011, val_loss: 0.000, val_err: 0.019\n"
     ]
    },
    {
     "name": "stderr",
     "output_type": "stream",
     "text": [
      "100%|████████████████████████████████████████████████████████████████████████████████████████████████████████████████████████| 77/77 [00:00<00:00, 234.23it/s]\n"
     ]
    },
    {
     "name": "stdout",
     "output_type": "stream",
     "text": [
      "Epoch 7, loss: 0.000, err: 0.011, val_loss: 0.000, val_err: 0.019\n"
     ]
    },
    {
     "name": "stderr",
     "output_type": "stream",
     "text": [
      "100%|████████████████████████████████████████████████████████████████████████████████████████████████████████████████████████| 77/77 [00:00<00:00, 234.56it/s]\n"
     ]
    },
    {
     "name": "stdout",
     "output_type": "stream",
     "text": [
      "Epoch 8, loss: 0.000, err: 0.011, val_loss: 0.000, val_err: 0.019\n"
     ]
    },
    {
     "name": "stderr",
     "output_type": "stream",
     "text": [
      "100%|████████████████████████████████████████████████████████████████████████████████████████████████████████████████████████| 77/77 [00:00<00:00, 236.41it/s]\n"
     ]
    },
    {
     "name": "stdout",
     "output_type": "stream",
     "text": [
      "Epoch 9, loss: 0.000, err: 0.011, val_loss: 0.000, val_err: 0.019\n"
     ]
    },
    {
     "name": "stderr",
     "output_type": "stream",
     "text": [
      "100%|████████████████████████████████████████████████████████████████████████████████████████████████████████████████████████| 77/77 [00:00<00:00, 236.00it/s]\n"
     ]
    },
    {
     "name": "stdout",
     "output_type": "stream",
     "text": [
      "Epoch 10, loss: 0.000, err: 0.011, val_loss: 0.000, val_err: 0.019\n"
     ]
    },
    {
     "name": "stderr",
     "output_type": "stream",
     "text": [
      "100%|████████████████████████████████████████████████████████████████████████████████████████████████████████████████████████| 77/77 [00:00<00:00, 239.22it/s]\n"
     ]
    },
    {
     "name": "stdout",
     "output_type": "stream",
     "text": [
      "Epoch 11, loss: 0.000, err: 0.011, val_loss: 0.000, val_err: 0.019\n"
     ]
    },
    {
     "name": "stderr",
     "output_type": "stream",
     "text": [
      "100%|████████████████████████████████████████████████████████████████████████████████████████████████████████████████████████| 77/77 [00:00<00:00, 228.34it/s]\n"
     ]
    },
    {
     "name": "stdout",
     "output_type": "stream",
     "text": [
      "Epoch 12, loss: 0.000, err: 0.011, val_loss: 0.000, val_err: 0.019\n"
     ]
    },
    {
     "name": "stderr",
     "output_type": "stream",
     "text": [
      "100%|████████████████████████████████████████████████████████████████████████████████████████████████████████████████████████| 77/77 [00:00<00:00, 234.02it/s]\n"
     ]
    },
    {
     "name": "stdout",
     "output_type": "stream",
     "text": [
      "Epoch 13, loss: 0.000, err: 0.011, val_loss: 0.000, val_err: 0.019\n"
     ]
    },
    {
     "name": "stderr",
     "output_type": "stream",
     "text": [
      "100%|████████████████████████████████████████████████████████████████████████████████████████████████████████████████████████| 77/77 [00:00<00:00, 237.96it/s]\n"
     ]
    },
    {
     "name": "stdout",
     "output_type": "stream",
     "text": [
      "Epoch 14, loss: 0.000, err: 0.011, val_loss: 0.000, val_err: 0.019\n"
     ]
    },
    {
     "name": "stderr",
     "output_type": "stream",
     "text": [
      "100%|████████████████████████████████████████████████████████████████████████████████████████████████████████████████████████| 77/77 [00:00<00:00, 236.61it/s]\n"
     ]
    },
    {
     "name": "stdout",
     "output_type": "stream",
     "text": [
      "Epoch 15, loss: 0.000, err: 0.011, val_loss: 0.000, val_err: 0.019\n"
     ]
    },
    {
     "name": "stderr",
     "output_type": "stream",
     "text": [
      "100%|████████████████████████████████████████████████████████████████████████████████████████████████████████████████████████| 77/77 [00:00<00:00, 237.41it/s]\n"
     ]
    },
    {
     "name": "stdout",
     "output_type": "stream",
     "text": [
      "Epoch 16, loss: 0.000, err: 0.011, val_loss: 0.000, val_err: 0.019\n"
     ]
    },
    {
     "name": "stderr",
     "output_type": "stream",
     "text": [
      "100%|████████████████████████████████████████████████████████████████████████████████████████████████████████████████████████| 77/77 [00:00<00:00, 235.32it/s]\n"
     ]
    },
    {
     "name": "stdout",
     "output_type": "stream",
     "text": [
      "Epoch 17, loss: 0.000, err: 0.011, val_loss: 0.000, val_err: 0.019\n"
     ]
    },
    {
     "name": "stderr",
     "output_type": "stream",
     "text": [
      "100%|████████████████████████████████████████████████████████████████████████████████████████████████████████████████████████| 77/77 [00:00<00:00, 236.02it/s]\n"
     ]
    },
    {
     "name": "stdout",
     "output_type": "stream",
     "text": [
      "Epoch 18, loss: 0.000, err: 0.011, val_loss: 0.000, val_err: 0.019\n"
     ]
    },
    {
     "name": "stderr",
     "output_type": "stream",
     "text": [
      "100%|████████████████████████████████████████████████████████████████████████████████████████████████████████████████████████| 77/77 [00:00<00:00, 238.76it/s]\n"
     ]
    },
    {
     "name": "stdout",
     "output_type": "stream",
     "text": [
      "Epoch 19, loss: 0.000, err: 0.011, val_loss: 0.000, val_err: 0.019\n"
     ]
    },
    {
     "name": "stderr",
     "output_type": "stream",
     "text": [
      "100%|████████████████████████████████████████████████████████████████████████████████████████████████████████████████████████| 77/77 [00:00<00:00, 236.57it/s]\n"
     ]
    },
    {
     "name": "stdout",
     "output_type": "stream",
     "text": [
      "Epoch 20, loss: 0.000, err: 0.011, val_loss: 0.000, val_err: 0.019\n"
     ]
    },
    {
     "name": "stderr",
     "output_type": "stream",
     "text": [
      "100%|████████████████████████████████████████████████████████████████████████████████████████████████████████████████████████| 77/77 [00:00<00:00, 239.27it/s]\n"
     ]
    },
    {
     "name": "stdout",
     "output_type": "stream",
     "text": [
      "Epoch 21, loss: 0.000, err: 0.011, val_loss: 0.000, val_err: 0.019\n"
     ]
    },
    {
     "name": "stderr",
     "output_type": "stream",
     "text": [
      "100%|████████████████████████████████████████████████████████████████████████████████████████████████████████████████████████| 77/77 [00:00<00:00, 234.92it/s]\n"
     ]
    },
    {
     "name": "stdout",
     "output_type": "stream",
     "text": [
      "Epoch 22, loss: 0.000, err: 0.011, val_loss: 0.000, val_err: 0.019\n"
     ]
    },
    {
     "name": "stderr",
     "output_type": "stream",
     "text": [
      "100%|████████████████████████████████████████████████████████████████████████████████████████████████████████████████████████| 77/77 [00:00<00:00, 238.17it/s]\n"
     ]
    },
    {
     "name": "stdout",
     "output_type": "stream",
     "text": [
      "Epoch 23, loss: 0.000, err: 0.011, val_loss: 0.000, val_err: 0.019\n"
     ]
    },
    {
     "name": "stderr",
     "output_type": "stream",
     "text": [
      "100%|████████████████████████████████████████████████████████████████████████████████████████████████████████████████████████| 77/77 [00:00<00:00, 231.95it/s]\n"
     ]
    },
    {
     "name": "stdout",
     "output_type": "stream",
     "text": [
      "Epoch 24, loss: 0.000, err: 0.011, val_loss: 0.000, val_err: 0.019\n"
     ]
    },
    {
     "name": "stderr",
     "output_type": "stream",
     "text": [
      "100%|████████████████████████████████████████████████████████████████████████████████████████████████████████████████████████| 77/77 [00:00<00:00, 235.40it/s]\n"
     ]
    },
    {
     "name": "stdout",
     "output_type": "stream",
     "text": [
      "Epoch 25, loss: 0.000, err: 0.011, val_loss: 0.000, val_err: 0.019\n"
     ]
    },
    {
     "name": "stderr",
     "output_type": "stream",
     "text": [
      "100%|████████████████████████████████████████████████████████████████████████████████████████████████████████████████████████| 77/77 [00:00<00:00, 238.85it/s]\n"
     ]
    },
    {
     "name": "stdout",
     "output_type": "stream",
     "text": [
      "Epoch 26, loss: 0.000, err: 0.011, val_loss: 0.000, val_err: 0.019\n"
     ]
    },
    {
     "name": "stderr",
     "output_type": "stream",
     "text": [
      "100%|████████████████████████████████████████████████████████████████████████████████████████████████████████████████████████| 77/77 [00:00<00:00, 237.45it/s]\n"
     ]
    },
    {
     "name": "stdout",
     "output_type": "stream",
     "text": [
      "Epoch 27, loss: 0.000, err: 0.011, val_loss: 0.000, val_err: 0.019\n"
     ]
    },
    {
     "name": "stderr",
     "output_type": "stream",
     "text": [
      "100%|████████████████████████████████████████████████████████████████████████████████████████████████████████████████████████| 77/77 [00:00<00:00, 235.55it/s]\n"
     ]
    },
    {
     "name": "stdout",
     "output_type": "stream",
     "text": [
      "Epoch 28, loss: 0.000, err: 0.011, val_loss: 0.000, val_err: 0.019\n"
     ]
    },
    {
     "name": "stderr",
     "output_type": "stream",
     "text": [
      "100%|████████████████████████████████████████████████████████████████████████████████████████████████████████████████████████| 77/77 [00:00<00:00, 233.19it/s]\n"
     ]
    },
    {
     "name": "stdout",
     "output_type": "stream",
     "text": [
      "Epoch 29, loss: 0.000, err: 0.011, val_loss: 0.000, val_err: 0.019\n"
     ]
    },
    {
     "name": "stderr",
     "output_type": "stream",
     "text": [
      "100%|████████████████████████████████████████████████████████████████████████████████████████████████████████████████████████| 77/77 [00:00<00:00, 234.41it/s]\n"
     ]
    },
    {
     "name": "stdout",
     "output_type": "stream",
     "text": [
      "Epoch 30, loss: 0.000, err: 0.011, val_loss: 0.000, val_err: 0.019\n"
     ]
    },
    {
     "name": "stderr",
     "output_type": "stream",
     "text": [
      "100%|████████████████████████████████████████████████████████████████████████████████████████████████████████████████████████| 77/77 [00:00<00:00, 235.00it/s]\n"
     ]
    },
    {
     "name": "stdout",
     "output_type": "stream",
     "text": [
      "Epoch 31, loss: 0.000, err: 0.011, val_loss: 0.000, val_err: 0.019\n"
     ]
    },
    {
     "name": "stderr",
     "output_type": "stream",
     "text": [
      "100%|████████████████████████████████████████████████████████████████████████████████████████████████████████████████████████| 77/77 [00:00<00:00, 236.77it/s]\n"
     ]
    },
    {
     "name": "stdout",
     "output_type": "stream",
     "text": [
      "Epoch 32, loss: 0.000, err: 0.011, val_loss: 0.000, val_err: 0.019\n"
     ]
    },
    {
     "name": "stderr",
     "output_type": "stream",
     "text": [
      "100%|████████████████████████████████████████████████████████████████████████████████████████████████████████████████████████| 77/77 [00:00<00:00, 236.05it/s]\n"
     ]
    },
    {
     "name": "stdout",
     "output_type": "stream",
     "text": [
      "Epoch 33, loss: 0.000, err: 0.011, val_loss: 0.000, val_err: 0.019\n"
     ]
    },
    {
     "name": "stderr",
     "output_type": "stream",
     "text": [
      "100%|████████████████████████████████████████████████████████████████████████████████████████████████████████████████████████| 77/77 [00:00<00:00, 236.80it/s]\n"
     ]
    },
    {
     "name": "stdout",
     "output_type": "stream",
     "text": [
      "Epoch 34, loss: 0.000, err: 0.011, val_loss: 0.000, val_err: 0.019\n"
     ]
    },
    {
     "name": "stderr",
     "output_type": "stream",
     "text": [
      "100%|████████████████████████████████████████████████████████████████████████████████████████████████████████████████████████| 77/77 [00:00<00:00, 237.63it/s]\n"
     ]
    },
    {
     "name": "stdout",
     "output_type": "stream",
     "text": [
      "Epoch 35, loss: 0.000, err: 0.011, val_loss: 0.000, val_err: 0.019\n"
     ]
    },
    {
     "name": "stderr",
     "output_type": "stream",
     "text": [
      "100%|████████████████████████████████████████████████████████████████████████████████████████████████████████████████████████| 77/77 [00:00<00:00, 235.66it/s]\n"
     ]
    },
    {
     "name": "stdout",
     "output_type": "stream",
     "text": [
      "Epoch 36, loss: 0.000, err: 0.011, val_loss: 0.000, val_err: 0.019\n"
     ]
    },
    {
     "name": "stderr",
     "output_type": "stream",
     "text": [
      "100%|████████████████████████████████████████████████████████████████████████████████████████████████████████████████████████| 77/77 [00:00<00:00, 237.62it/s]\n"
     ]
    },
    {
     "name": "stdout",
     "output_type": "stream",
     "text": [
      "Epoch 37, loss: 0.000, err: 0.011, val_loss: 0.000, val_err: 0.019\n"
     ]
    },
    {
     "name": "stderr",
     "output_type": "stream",
     "text": [
      "100%|████████████████████████████████████████████████████████████████████████████████████████████████████████████████████████| 77/77 [00:00<00:00, 238.06it/s]\n"
     ]
    },
    {
     "name": "stdout",
     "output_type": "stream",
     "text": [
      "Epoch 38, loss: 0.000, err: 0.011, val_loss: 0.000, val_err: 0.019\n"
     ]
    },
    {
     "name": "stderr",
     "output_type": "stream",
     "text": [
      "100%|████████████████████████████████████████████████████████████████████████████████████████████████████████████████████████| 77/77 [00:00<00:00, 237.57it/s]\n"
     ]
    },
    {
     "name": "stdout",
     "output_type": "stream",
     "text": [
      "Epoch 39, loss: 0.000, err: 0.011, val_loss: 0.000, val_err: 0.019\n"
     ]
    },
    {
     "name": "stderr",
     "output_type": "stream",
     "text": [
      "100%|████████████████████████████████████████████████████████████████████████████████████████████████████████████████████████| 10/10 [00:00<00:00, 354.69it/s]\n"
     ]
    },
    {
     "name": "stdout",
     "output_type": "stream",
     "text": [
      "STATE: [ 0.80841993  0.66517393 -0.02363269 -0.03681791] ACT: [-0.27008794 -0.42077608] \n",
      "STATE: [ 0.79228983  0.64033146 -0.04608601 -0.0709785 ] ACT: [-0.27433386 -0.41802026] \n",
      "STATE: [ 0.76877137  0.60434732 -0.06719559 -0.10281182] ACT: [-0.27581685 -0.41704324] \n",
      "STATE: [ 0.73806547  0.55814509 -0.08773115 -0.13200636] ACT: [-0.28508879 -0.41076073] \n",
      "STATE: [ 0.70123931  0.50559296 -0.1052176  -0.15014894] ACT: [-0.26564351 -0.30634854] \n",
      "STATE: [ 0.65866415  0.44920449 -0.12164331 -0.16110991] ACT: [-0.26663555 -0.2378799 ] \n",
      "STATE: [ 0.60643353  0.38828718 -0.14923035 -0.17404947] ACT: [-0.40651302 -0.26871316] \n",
      "STATE: [ 0.5467843   0.32055868 -0.17042635 -0.19350999] ACT: [-0.35416269 -0.35294304] \n",
      "STATE: [ 0.48169133  0.24515479 -0.18597992 -0.21543968] ACT: [-0.30557484 -0.39575752] \n",
      "STATE: [ 0.411891    0.16229571 -0.19942953 -0.23674023] ACT: [-0.29319479 -0.40501459] \n",
      "STATE: [ 0.33780389  0.07239061 -0.21167745 -0.25687173] ACT: [-0.28954835 -0.40762943] \n",
      "STATE: [ 0.26021681 -0.0244422  -0.22167736 -0.27666518] ACT: [-0.27304281 -0.41886469] \n",
      "final state  [ 0.26021681 -0.0244422 ]\n",
      "STATE: [ 0.62729259  0.61263313 -0.00157005  0.00979529] ACT: [-0.01794343  0.11194613] \n",
      "STATE: [ 0.62622962  0.61926485 -0.00303707  0.01894776] ACT: [-0.01794343  0.11194613] \n",
      "STATE: [ 0.6241418   0.62722643 -0.00596518  0.02274739] ACT: [-0.03574199  0.05763515] \n",
      "STATE: [ 0.62109641  0.63643061 -0.00870114  0.02629766] ACT: [-0.03574199  0.05763515] \n",
      "STATE: [ 0.61715626  0.64679585 -0.01125755  0.02961496] ACT: [-0.03574199  0.05763515] \n",
      "STATE: [ 0.60499969  0.64530799 -0.03473307 -0.00425103] ACT: [-0.27673475 -0.36482862] \n",
      "STATE: [ 0.59485449  0.64835247 -0.02898628  0.00869852] ACT: [0.03962774 0.14480653] \n",
      "STATE: [ 0.58658867  0.65563185 -0.02361663  0.02079825] ACT: [0.03962774 0.14480653] \n",
      "STATE: [ 0.58007889  0.66686823 -0.01859936  0.03210393] ACT: [0.03962774 0.14480653] \n",
      "STATE: [ 0.56528936  0.66577665 -0.04225581 -0.00311879] ACT: [-0.28430888 -0.37846747] \n",
      "STATE: [ 0.54276343  0.65316615 -0.0643598  -0.03603002] ACT: [-0.28430888 -0.37846747] \n",
      "STATE: [ 0.52383834  0.64602133 -0.05407169 -0.02041377] ACT: [0.06930844 0.15144891] \n",
      "STATE: [ 0.50785886  0.64068832 -0.04565565 -0.01523715] ACT: [0.05562961 0.04385106] \n",
      "STATE: [ 0.49194308  0.6340419  -0.04547367 -0.01898978] ACT: [-0.03216193 -0.05431503] \n",
      "STATE: [ 0.4864048   0.63936513 -0.01582366  0.01520922] ACT: [0.30475197 0.37660332] \n",
      "STATE: [0.490563   0.65587249 0.01188057 0.0471639 ] ACT: [0.30475197 0.37660332] \n",
      "STATE: [0.49331867 0.66994585 0.00787336 0.0402096 ] ACT: [-0.03688616 -0.0441048 ] \n",
      "STATE: [0.49476387 0.68174494 0.00412914 0.03371168] ACT: [-0.03688616 -0.0441048 ] \n",
      "STATE: [0.4994126  0.69616024 0.01328207 0.04118657] ACT: [0.10770179 0.11071114] \n",
      "STATE: [0.50705461 0.71302006 0.02183434 0.04817093] ACT: [0.10770179 0.11071114] \n",
      "STATE: [0.50908687 0.72155289 0.00580643 0.02437951] ACT: [-0.16680031 -0.23577375] \n",
      "STATE: [ 0.50587749  0.72230518 -0.00916964  0.0021494 ] ACT: [-0.16680031 -0.23577375] \n",
      "STATE: [ 0.49777047  0.71578753 -0.02316291 -0.01862186] ACT: [-0.16680031 -0.23577375] \n",
      "STATE: [ 0.48431062  0.69891045 -0.03845672 -0.04822022] ACT: [-0.19215862 -0.35223335] \n",
      "STATE: [ 0.47503244  0.68653146 -0.02650909 -0.03536854] ACT: [0.10770179 0.11071114] \n",
      "STATE: [ 0.4696615   0.67835538 -0.01534553 -0.02336026] ACT: [0.10770179 0.11071114] \n",
      "STATE: [ 0.46076336  0.66326105 -0.02542327 -0.04312664] ACT: [-0.12668328 -0.24342175] \n",
      "STATE: [ 0.45214215  0.64433435 -0.02463203 -0.05407629] ACT: [-0.01002472 -0.15748383] \n",
      "STATE: [ 0.4437797   0.62182677 -0.02389271 -0.06430737] ACT: [-0.01002472 -0.15748383] \n",
      "STATE: [ 0.42909948  0.59093777 -0.04194349 -0.08825429] ACT: [-0.22421409 -0.32190957] \n",
      "STATE: [ 0.41516534  0.55829317 -0.03981184 -0.09327029] ACT: [-0.00709593 -0.12351651] \n",
      "STATE: [ 0.41122645  0.52539272 -0.01125395 -0.09400129] ACT: [ 0.296517   -0.07830694] \n",
      "STATE: [ 0.42171808  0.5004502   0.02997607 -0.07126432] ACT: [0.46275971 0.18935007] \n",
      "STATE: [ 0.44149175  0.4887661   0.05649621 -0.03338316] ACT: [0.32556943 0.37947931] \n",
      "STATE: [ 0.47225092  0.48699191  0.08788334 -0.00506912] ACT: [0.40108217 0.29855166] \n",
      "STATE: [0.50955925 0.49802535 0.10659523 0.03152411] ACT: [0.27976276 0.41440656] \n",
      "STATE: [0.53883235 0.50450086 0.08363744 0.01850148] ACT: [-0.18242838 -0.12518705] \n",
      "STATE: [0.57386637 0.52379756 0.1000972  0.05513342] ACT: [0.25083965 0.43252684] \n",
      "STATE: [0.61338873 0.55555392 0.11292101 0.09073245] ACT: [0.22163076 0.44819617] \n",
      "STATE: [0.64599416 0.58986284 0.09315838 0.09802549] ACT: [-0.14116792  0.1513984 ] \n",
      "STATE: [0.66900253 0.61732011 0.06573819 0.07844934] ACT: [-0.24350479 -0.15020832] \n",
      "STATE: [0.68185066 0.63307671 0.03670894 0.04501885] ACT: [-0.2824592  -0.32322573] \n",
      "STATE: [0.68528012 0.63736315 0.00979845 0.01224698] ACT: [-0.2800168  -0.34077154] \n",
      "STATE: [ 0.679909    0.63093217 -0.01534604 -0.01837424] ACT: [-0.2800168  -0.34077154] \n",
      "STATE: [ 0.66631485  0.61448709 -0.03884043 -0.04698594] ACT: [-0.2800168  -0.34077154] \n",
      "STATE: [ 0.6449625   0.58922244 -0.06100671 -0.07218473] ACT: [-0.2824592  -0.32322573] \n",
      "STATE: [ 0.61755407  0.56101564 -0.07830981 -0.08059084] ACT: [-0.24350479 -0.15020832] \n",
      "STATE: [ 0.58774857  0.53246653 -0.08515857 -0.08156889] ACT: [-0.13700391 -0.07162087] \n",
      "STATE: [ 0.55557579  0.51042753 -0.09192223 -0.06296857] ACT: [-0.14116792  0.1513984 ] \n",
      "STATE: [ 0.53319631  0.50308097 -0.06394137 -0.02099016] ACT: [0.25083965 0.43252684] \n",
      "final state  [0.53319631 0.50308097]\n",
      "STATE: [ 0.73997511  0.67785601 -0.02401246 -0.03657136] ACT: [-0.27442811 -0.41795839] \n",
      "STATE: [ 0.72371792  0.65309605 -0.0464491  -0.07074272] ACT: [-0.27442811 -0.41795839] \n",
      "STATE: [ 0.70124296  0.62076774 -0.06421417 -0.09236661] ACT: [-0.23786623 -0.30018714] \n",
      "STATE: [ 0.6717398   0.57893044 -0.08429475 -0.11953516] ACT: [-0.27765288 -0.3797727 ] \n",
      "STATE: [ 0.63722879  0.53369588 -0.09860287 -0.12924159] ACT: [-0.22674253 -0.20058201] \n",
      "STATE: [ 0.61045748  0.50573012 -0.07648946 -0.07990217] ACT: [0.17877258 0.46694793] \n",
      "STATE: [ 0.58389475  0.4832437  -0.07589352 -0.06424693] ACT: [-0.05055638  0.11899035] \n",
      "STATE: [ 0.56356899  0.4768712  -0.05807361 -0.01820714] ACT: [0.14673605 0.47798382] \n",
      "STATE: [ 0.5490709   0.48555515 -0.04142312  0.02481129] ACT: [0.14673605 0.47798382] \n",
      "STATE: [ 0.53404648  0.49796047 -0.04292689  0.03544379] ACT: [-0.04825332  0.1401228 ] \n",
      "STATE: [ 0.51853029  0.51384296 -0.04433198  0.04537854] ACT: [-0.04825332  0.1401228 ] \n",
      "STATE: [ 0.51214092  0.54167253 -0.01825535  0.07951306] ACT: [0.26476964 0.42414271] \n",
      "STATE: [0.51456485 0.58048256 0.00692552 0.11088579] ACT: [0.27408989 0.41818027] \n",
      "STATE: [0.52529091 0.62950815 0.03064589 0.14007312] ACT: [0.27628405 0.41673388] \n",
      "STATE: [0.53432811 0.67365304 0.02582058 0.12612826] ACT: [-0.03216193 -0.05431503] \n",
      "STATE: [0.53749338 0.70778352 0.00904362 0.09751567] ACT: [-0.17237128 -0.23240475] \n",
      "STATE: [ 0.53239921  0.72899971 -0.01455478  0.06061769] ACT: [-0.26291332 -0.34855454] \n",
      "STATE: [ 0.5207843   0.73850127 -0.03318544  0.0271473 ] ACT: [-0.22383783 -0.33705544] \n",
      "STATE: [ 0.50745959  0.74224073 -0.0380706   0.01068419] ACT: [-0.08071955 -0.16778932] \n",
      "STATE: [ 0.49253728  0.74059625 -0.04263518 -0.00469852] ACT: [-0.08071955 -0.16778932] \n",
      "STATE: [ 0.47542653  0.7327898  -0.04888787 -0.02230415] ACT: [-0.10343565 -0.20473105] \n",
      "STATE: [ 0.45627095  0.71922576 -0.05473022 -0.03875441] ACT: [-0.10343565 -0.20473105] \n",
      "STATE: [ 0.43320215  0.69758141 -0.06591085 -0.06184099] ACT: [-0.16882626 -0.29291242] \n",
      "STATE: [ 0.40508644  0.66438006 -0.08033062 -0.09486101] ACT: [-0.21423055 -0.42375247] \n",
      "STATE: [ 0.37698429  0.62362637 -0.08029186 -0.11643911] ACT: [-0.05980498 -0.3177526 ] \n",
      "STATE: [ 0.35036159  0.57508558 -0.07606485 -0.13868798] ACT: [-0.01191017 -0.34160209] \n",
      "STATE: [ 0.31952829  0.51562431 -0.08809515 -0.16988933] ACT: [-0.1945378  -0.46060291] \n",
      "STATE: [ 0.2825501   0.44711331 -0.10565195 -0.19574572] ACT: [-0.26672056 -0.4229186 ] \n",
      "STATE: [ 0.23908317  0.37064894 -0.12419124 -0.21846962] ACT: [-0.29111655 -0.40651096] \n",
      "STATE: [ 0.1893321   0.28691458 -0.14214592 -0.23924104] ACT: [-0.29833972 -0.40123985] \n",
      "STATE: [ 0.13358932  0.19647743 -0.15926509 -0.25839184] ACT: [-0.30225715 -0.39829714] \n",
      "STATE: [ 0.07250529  0.09958636 -0.1745258  -0.27683164] ACT: [-0.29385691 -0.40453444] \n",
      "STATE: [ 0.02456957  0.02133948 -0.13695919 -0.2235625 ] ACT: [0.29843838 0.40116647] \n",
      "final state  [0.02456957 0.02133948]\n",
      "STATE: [ 0.77192233  0.71448037 -0.02380167 -0.03670889] ACT: [-0.27201911 -0.41953022] \n",
      "STATE: [ 0.75580785  0.6896273  -0.04604136 -0.07100877] ACT: [-0.27201911 -0.41953022] \n",
      "STATE: [ 0.73234653  0.65360524 -0.06703235 -0.10292018] ACT: [-0.27442811 -0.41795839] \n",
      "STATE: [ 0.70173182  0.60734142 -0.0874706  -0.13218234] ACT: [-0.28385426 -0.41161482] \n",
      "STATE: [ 0.66348517  0.55303984 -0.10927613 -0.15514739] ACT: [-0.31480892 -0.3615945 ] \n",
      "STATE: [ 0.61975225  0.49897407 -0.12495121 -0.15447362] ACT: [-0.26110095 -0.10866038] \n",
      "STATE: [ 0.57239705  0.45367056 -0.13530058 -0.12943861] ACT: [-0.21199184  0.1702592 ] \n",
      "STATE: [ 0.52113391  0.41612473 -0.14646611 -0.10727379] ACT: [-0.22908158  0.15623328] \n",
      "STATE: [ 0.46267406  0.3714081  -0.16702813 -0.12776179] ACT: [-0.34484403 -0.31460393] \n",
      "STATE: [ 0.39863249  0.31755243 -0.18297592 -0.15387333] ACT: [-0.30753157 -0.39423893] \n",
      "STATE: [ 0.32968011  0.25492592 -0.1970068  -0.1789329 ] ACT: [-0.29758487 -0.40180001] \n",
      "STATE: [ 0.25617     0.18408139 -0.21002888 -0.20241295] ACT: [-0.29657892 -0.40254309] \n",
      "STATE: [ 0.17847895  0.10550129 -0.22197445 -0.22451456] ACT: [-0.2940424  -0.40439964] \n",
      "STATE: [ 0.09630242  0.02013563 -0.23479009 -0.2439019 ] ACT: [-0.31294526 -0.38995546] \n",
      "STATE: [ 0.02890552 -0.04752996 -0.19256256 -0.19333024] ACT: [0.30650777 0.39503543] \n",
      "final state  [ 0.02890552 -0.04752996]\n",
      "STATE: [ 0.72254493  0.88547617 -0.02291589 -0.03726828] ACT: [-0.2618959  -0.42592316] \n",
      "STATE: [ 0.70680471  0.86038572 -0.04497206 -0.071687  ] ACT: [-0.26925744 -0.421308  ] \n",
      "STATE: [ 0.68389604  0.82401087 -0.06545333 -0.10392814] ACT: [-0.26780069 -0.42223547] \n",
      "STATE: [ 0.65417476  0.77716556 -0.08491795 -0.13384374] ACT: [-0.27154275 -0.4198387 ] \n",
      "STATE: [ 0.61792925  0.72064095 -0.10355861 -0.16149888] ACT: [-0.27672456 -0.41644149] \n",
      "STATE: [ 0.57693299  0.65846227 -0.11713216 -0.17765338] ACT: [-0.23279531 -0.30574703] \n",
      "STATE: [ 0.52992016  0.5887735  -0.13432239 -0.19911078] ACT: [-0.28430888 -0.37846747] \n",
      "STATE: [ 0.48744593  0.52696227 -0.12135494 -0.17660349] ACT: [0.04745767 0.10789307] \n",
      "STATE: [ 0.45644127  0.48182058 -0.08858473 -0.12897626] ACT: [0.28350041 0.41185861] \n",
      "STATE: [ 0.4371813   0.45148144 -0.0550285  -0.08668327] ACT: [0.3170613  0.38661626] \n",
      "COLLIDED\n",
      "STATE: [ 0.41071716  0.4103754  -0.07561182 -0.11744582] ACT: [-0.27650932 -0.41658444] \n",
      "COLLIDED\n",
      "STATE: [ 0.3771523   0.35946205 -0.0958996  -0.14546671] ACT: [-0.28856921 -0.40832317] \n",
      "STATE: [ 0.33669558  0.29957073 -0.11559064 -0.17111805] ACT: [-0.29696518 -0.40225823] \n",
      "STATE: [ 0.28980068  0.23128958 -0.13398543 -0.195089  ] ACT: [-0.29691913 -0.40229222] \n",
      "STATE: [ 0.23688494  0.155173   -0.15118782 -0.21747596] ACT: [-0.29708783 -0.40216765] \n",
      "STATE: [ 0.17818791  0.07185164 -0.16770579 -0.23806103] ACT: [-0.30216771 -0.398365  ] \n",
      "STATE: [ 0.11522323 -0.01898421 -0.17989911 -0.25953098] ACT: [-0.26513147 -0.42391662] \n",
      "final state  [ 0.11522323 -0.01898421]\n",
      "STATE: [ 0.70482001  0.65959696 -0.02081329 -0.02626637] ACT: [-0.23786623 -0.30018714] \n",
      "STATE: [ 0.69072876  0.6418138  -0.04026072 -0.05080902] ACT: [-0.23786623 -0.30018714] \n",
      "STATE: [ 0.66898673  0.61476154 -0.06212008 -0.07729219] ACT: [-0.2800168  -0.34077154] \n",
      "STATE: [ 0.64002121  0.57958579 -0.08275863 -0.10050214] ACT: [-0.2824592  -0.32322573] \n",
      "STATE: [ 0.60876081  0.54452506 -0.08931543 -0.10017351] ACT: [-0.13700391 -0.07162087] \n",
      "STATE: [ 0.5752286   0.51640177 -0.0958063  -0.08035226] ACT: [-0.14116792  0.1513984 ] \n",
      "STATE: [ 0.55068439  0.50385007 -0.07012632 -0.03586198] ACT: [0.22163076 0.44819617] \n",
      "STATE: [ 0.53543285  0.50536822 -0.04357581  0.00433756] ACT: [0.25083965 0.43252684] \n",
      "STATE: [ 0.52886417  0.52003287 -0.01876768  0.04189901] ACT: [0.25083965 0.43252684] \n",
      "STATE: [0.53040851 0.54698129 0.00441242 0.07699548] ACT: [0.25083965 0.43252684] \n",
      "STATE: [0.53910831 0.58564497 0.02485657 0.11046765] ACT: [0.23695672 0.44028572] \n",
      "STATE: [0.55533087 0.63477    0.04635017 0.14035722] ACT: [0.26428362 0.42444572] \n",
      "STATE: [0.57226013 0.6837553  0.04836932 0.13995801] ACT: [0.05783864 0.10070559] \n",
      "STATE: [0.58373504 0.72433874 0.03278547 0.11595269] ACT: [-0.14182419 -0.16937799] \n",
      "STATE: [0.58632816 0.75082097 0.00740891 0.07566351] ACT: [-0.26542874 -0.37348324] \n",
      "STATE: [ 0.58132872  0.76467543 -0.01428411  0.03958417] ACT: [-0.24236353 -0.35558775] \n",
      "STATE: [ 0.56901981  0.76562076 -0.03516833  0.00270095] ACT: [-0.24938981 -0.39183442] \n",
      "STATE: [ 0.5498811   0.75450413 -0.05468201 -0.03176182] ACT: [-0.24938981 -0.39183442] \n",
      "STATE: [ 0.52514334  0.7337947  -0.07067932 -0.0591698 ] ACT: [-0.22383783 -0.33705544] \n",
      "STATE: [ 0.49955696  0.70930578 -0.07310395 -0.06996835] ACT: [-0.08071955 -0.16778932] \n",
      "STATE: [ 0.46976483  0.67563679 -0.08512038 -0.09619709] ACT: [-0.19215862 -0.35223335] \n",
      "STATE: [ 0.43804813  0.63672255 -0.09061914 -0.11118356] ACT: [-0.12668328 -0.24342175] \n",
      "STATE: [ 0.40592227  0.59343939 -0.09178815 -0.12366618] ACT: [-0.08132447 -0.22604614] \n",
      "STATE: [ 0.38021242  0.55406546 -0.07345672 -0.11249693] ACT: [0.140661   0.03489895] \n",
      "STATE: [ 0.36098479  0.50299396 -0.0549361  -0.14591858] ACT: [ 0.15657163 -0.46633446] \n",
      "STATE: [ 0.3369415   0.44121924 -0.06869512 -0.17649921] ACT: [-0.19844795 -0.45893182] \n",
      "STATE: [ 0.30573724  0.37092446 -0.08915502 -0.20084221] ACT: [-0.2853488  -0.41058015] \n",
      "STATE: [ 0.2674774   0.29293013 -0.10931383 -0.22284095] ACT: [-0.29725269 -0.40204582] \n",
      "STATE: [ 0.22253208  0.20781076 -0.12841518 -0.24319819] ACT: [-0.30028655 -0.39978493] \n",
      "STATE: [ 0.17139057  0.11599615 -0.14611862 -0.26232748] ACT: [-0.29863639 -0.40101908] \n",
      "STATE: [ 0.11402126  0.01826448 -0.1639123  -0.27923334] ACT: [-0.31294526 -0.38995546] \n",
      "STATE: [ 0.06988149 -0.06101642 -0.12611363 -0.22651684] ACT: [0.30905056 0.3930493 ] \n",
      "final state  [ 0.06988149 -0.06101642]\n",
      "STATE: [ 0.61572527  0.84643364 -0.02393667 -0.03662101] ACT: [-0.27356193 -0.41852583] \n",
      "STATE: [ 0.5995194   0.82164007 -0.04630249 -0.07083877] ACT: [-0.27356193 -0.41852583] \n",
      "STATE: [ 0.57604329  0.78562752 -0.0670746  -0.10289301] ACT: [-0.27212234 -0.41946327] \n",
      "STATE: [ 0.54647024  0.73997836 -0.08449444 -0.13042617] ACT: [-0.24938981 -0.39183442] \n",
      "STATE: [ 0.51198288  0.68700261 -0.0985353  -0.1513593 ] ACT: [-0.22383783 -0.33705544] \n",
      "STATE: [ 0.47016078  0.62557227 -0.11949172 -0.17551524] ACT: [-0.31340341 -0.38958735] \n",
      "STATE: [ 0.4242167   0.55831482 -0.13126881 -0.19216414] ACT: [-0.22421409 -0.32190957] \n",
      "STATE: [ 0.39036853  0.493073   -0.09670905 -0.18640522] ACT: [ 0.296517   -0.07830694] \n",
      "STATE: [ 0.35097122  0.41891823 -0.11256375 -0.21187076] ACT: [-0.25372832 -0.43083864] \n",
      "STATE: [ 0.30542054  0.33705585 -0.13014478 -0.23389251] ACT: [-0.2853488  -0.41058015] \n",
      "STATE: [ 0.25372939  0.24827259 -0.147689   -0.25366647] ACT: [-0.29811403 -0.40140755] \n",
      "STATE: [ 0.19646012  0.15290583 -0.16362651 -0.27247643] ACT: [-0.29290969 -0.40522082] \n",
      "STATE: [ 0.13361918  0.05165567 -0.17954554 -0.28928617] ACT: [-0.30465167 -0.39646861] \n",
      "STATE: [ 0.08429823 -0.03085917 -0.14091699 -0.2357567 ] ACT: [0.30681    0.39480074] \n",
      "final state  [ 0.08429823 -0.03085917]\n",
      "STATE: [ 0.85342739  0.60513338 -0.02356101 -0.03686382] ACT: [-0.26926869 -0.42130081] \n",
      "STATE: [ 0.83761965  0.58008463 -0.04516496 -0.07156785] ACT: [-0.26457308 -0.42426535] \n",
      "STATE: [ 0.81459864  0.54378012 -0.06577431 -0.10372717] ACT: [-0.26940914 -0.42121101] \n",
      "STATE: [ 0.78474762  0.49701659 -0.08528864 -0.13361009] ACT: [-0.27235162 -0.41931444] \n",
      "STATE: [ 0.74786477  0.44092683 -0.10537957 -0.16025647] ACT: [-0.29357706 -0.40473758] \n",
      "STATE: [ 0.70424457  0.37624572 -0.12462914 -0.18480314] ACT: [-0.29902981 -0.4007258 ] \n",
      "STATE: [ 0.65418116  0.30364894 -0.14303833 -0.20741939] ACT: [-0.30386261 -0.39707369] \n",
      "STATE: [ 0.59808743  0.22366354 -0.16026779 -0.22852971] ACT: [-0.3041868  -0.39682539] \n",
      "STATE: [ 0.53663813  0.13656554 -0.17556944 -0.24885142] ACT: [-0.29507693 -0.40364539] \n",
      "STATE: [ 0.4705475   0.04256449 -0.18883036 -0.26857443] ACT: [-0.28323036 -0.41204437] \n",
      "STATE: [ 0.40026475 -0.05798478 -0.20080786 -0.28728365] ACT: [-0.27850854 -0.41525052] \n",
      "final state  [ 0.40026475 -0.05798478]\n",
      "STATE: [ 0.76456138  0.71862508 -0.02334987 -0.03699792] ACT: [-0.26685567 -0.42283336] \n",
      "STATE: [ 0.74859466  0.6936775  -0.04561921 -0.07127882] ACT: [-0.27201911 -0.41953022] \n",
      "STATE: [ 0.72527139  0.65756712 -0.06663791 -0.10317251] ACT: [-0.27442811 -0.41795839] \n",
      "STATE: [ 0.69619406  0.61463325 -0.08307809 -0.12266819] ACT: [-0.23786623 -0.30018714] \n",
      "STATE: [ 0.66044941  0.56408079 -0.10212756 -0.1444356 ] ACT: [-0.2800168  -0.34077154] \n",
      "STATE: [ 0.61761649  0.50744164 -0.12237978 -0.16182615] ACT: [-0.30804956 -0.30707583] \n",
      "STATE: [ 0.57233657  0.45938752 -0.12937119 -0.13729748] ACT: [-0.17168677  0.15895801] \n",
      "STATE: [ 0.52301253  0.4192716  -0.14092585 -0.11461692] ACT: [-0.22908158  0.15623328] \n",
      "STATE: [ 0.46636452  0.37215354 -0.16185144 -0.13462303] ACT: [-0.34484403 -0.31460393] \n",
      "STATE: [ 0.40401589  0.31605403 -0.17813895 -0.1602843 ] ACT: [-0.30753157 -0.39423893] \n",
      "STATE: [ 0.33664535  0.25133093 -0.19248726 -0.18492314] ACT: [-0.29758487 -0.40180001] \n",
      "STATE: [ 0.26461327  0.1785274  -0.20580594 -0.20801008] ACT: [-0.29657892 -0.40254309] \n",
      "STATE: [ 0.18830325  0.09811687 -0.21802863 -0.22974439] ACT: [-0.2940424  -0.40439964] \n",
      "STATE: [ 0.1086017   0.01018002 -0.2277187  -0.25124814] ACT: [-0.27426508 -0.41806538] \n",
      "STATE: [ 0.04378355 -0.06009932 -0.18519471 -0.2007981 ] ACT: [0.31519938 0.38813574] \n",
      "final state  [ 0.04378355 -0.06009932]\n",
      "STATE: [ 0.83294104  0.70896412 -0.02317048 -0.03711053] ACT: [-0.26480544 -0.42412036] \n",
      "STATE: [ 0.8172539   0.68383913 -0.04482039 -0.07178568] ACT: [-0.26480544 -0.42412036] \n",
      "STATE: [ 0.79432479  0.6474767  -0.06551175 -0.10389266] ACT: [-0.27008794 -0.42077608] \n",
      "STATE: [ 0.76449893  0.60069869 -0.08521675 -0.13365147] ACT: [-0.27433386 -0.41802026] \n",
      "STATE: [ 0.72789954  0.54441093 -0.10456967 -0.16082216] ACT: [-0.28508879 -0.41076073] \n",
      "STATE: [ 0.68588185  0.48413138 -0.12005053 -0.17222728] ACT: [-0.2553514  -0.25096092] \n",
      "STATE: [ 0.63647452  0.41633991 -0.14116382 -0.19368993] ACT: [-0.33133265 -0.37445784] \n",
      "STATE: [ 0.57918907  0.34247071 -0.16367269 -0.21105485] ACT: [-0.36311709 -0.34372369] \n",
      "STATE: [ 0.51610396  0.26148683 -0.18024318 -0.2313825 ] ACT: [-0.31213152 -0.39060711] \n",
      "STATE: [ 0.44807571  0.17348992 -0.19436643 -0.25141977] ACT: [-0.29659095 -0.40253423] \n",
      "STATE: [ 0.37555325  0.07884939 -0.20720703 -0.2704015 ] ACT: [-0.29252457 -0.40549892] \n",
      "STATE: [ 0.2996159  -0.02252854 -0.21696386 -0.28965122] ACT: [-0.26691187 -0.42279789] \n",
      "final state  [ 0.2996159  -0.02252854]\n",
      "After 14 REWARD:  (0.8290046361687645, array([ 0.18599554,  0.02009759, -0.16650366, -0.22140856]), -0.18316781470827642)\n",
      "UPDATING THE ACTION MATRIX\n"
     ]
    },
    {
     "name": "stderr",
     "output_type": "stream",
     "text": [
      "100%|█████████████████████████████████████████████████████████████████████████████████████████████████████████████████████████| 25/25 [00:03<00:00,  7.04it/s]\n",
      "Generating Dynamics Dataset: 100%|██████████████████████████████████████████████████████████████████████████████████████████| 15/15 [00:00<00:00, 1195.21it/s]\n"
     ]
    },
    {
     "name": "stdout",
     "output_type": "stream",
     "text": [
      "COLLIDED\n",
      "COLLIDED\n",
      "COLLIDED\n",
      "COLLIDED\n",
      "COLLIDED\n",
      "COLLIDED\n"
     ]
    },
    {
     "name": "stderr",
     "output_type": "stream",
     "text": [
      "100%|████████████████████████████████████████████████████████████████████████████████████████████████████████████████████████| 83/83 [00:00<00:00, 234.72it/s]\n"
     ]
    },
    {
     "name": "stdout",
     "output_type": "stream",
     "text": [
      "Epoch 1, loss: 0.000, err: 0.011, val_loss: 0.000, val_err: 0.018\n"
     ]
    },
    {
     "name": "stderr",
     "output_type": "stream",
     "text": [
      "100%|████████████████████████████████████████████████████████████████████████████████████████████████████████████████████████| 83/83 [00:00<00:00, 236.06it/s]\n"
     ]
    },
    {
     "name": "stdout",
     "output_type": "stream",
     "text": [
      "Epoch 2, loss: 0.000, err: 0.011, val_loss: 0.000, val_err: 0.018\n"
     ]
    },
    {
     "name": "stderr",
     "output_type": "stream",
     "text": [
      "100%|████████████████████████████████████████████████████████████████████████████████████████████████████████████████████████| 83/83 [00:00<00:00, 236.03it/s]\n"
     ]
    },
    {
     "name": "stdout",
     "output_type": "stream",
     "text": [
      "Epoch 3, loss: 0.000, err: 0.011, val_loss: 0.000, val_err: 0.018\n"
     ]
    },
    {
     "name": "stderr",
     "output_type": "stream",
     "text": [
      "100%|████████████████████████████████████████████████████████████████████████████████████████████████████████████████████████| 83/83 [00:00<00:00, 237.37it/s]\n"
     ]
    },
    {
     "name": "stdout",
     "output_type": "stream",
     "text": [
      "Epoch 4, loss: 0.000, err: 0.011, val_loss: 0.000, val_err: 0.018\n"
     ]
    },
    {
     "name": "stderr",
     "output_type": "stream",
     "text": [
      "100%|████████████████████████████████████████████████████████████████████████████████████████████████████████████████████████| 83/83 [00:00<00:00, 235.86it/s]\n"
     ]
    },
    {
     "name": "stdout",
     "output_type": "stream",
     "text": [
      "Epoch 5, loss: 0.000, err: 0.011, val_loss: 0.000, val_err: 0.018\n"
     ]
    },
    {
     "name": "stderr",
     "output_type": "stream",
     "text": [
      "100%|████████████████████████████████████████████████████████████████████████████████████████████████████████████████████████| 83/83 [00:00<00:00, 236.85it/s]\n"
     ]
    },
    {
     "name": "stdout",
     "output_type": "stream",
     "text": [
      "Epoch 6, loss: 0.000, err: 0.011, val_loss: 0.000, val_err: 0.018\n"
     ]
    },
    {
     "name": "stderr",
     "output_type": "stream",
     "text": [
      "100%|████████████████████████████████████████████████████████████████████████████████████████████████████████████████████████| 83/83 [00:00<00:00, 236.07it/s]\n"
     ]
    },
    {
     "name": "stdout",
     "output_type": "stream",
     "text": [
      "Epoch 7, loss: 0.000, err: 0.011, val_loss: 0.000, val_err: 0.018\n"
     ]
    },
    {
     "name": "stderr",
     "output_type": "stream",
     "text": [
      "100%|████████████████████████████████████████████████████████████████████████████████████████████████████████████████████████| 83/83 [00:00<00:00, 236.29it/s]\n"
     ]
    },
    {
     "name": "stdout",
     "output_type": "stream",
     "text": [
      "Epoch 8, loss: 0.000, err: 0.011, val_loss: 0.000, val_err: 0.018\n"
     ]
    },
    {
     "name": "stderr",
     "output_type": "stream",
     "text": [
      "100%|████████████████████████████████████████████████████████████████████████████████████████████████████████████████████████| 83/83 [00:00<00:00, 236.95it/s]\n"
     ]
    },
    {
     "name": "stdout",
     "output_type": "stream",
     "text": [
      "Epoch 9, loss: 0.000, err: 0.011, val_loss: 0.000, val_err: 0.018\n"
     ]
    },
    {
     "name": "stderr",
     "output_type": "stream",
     "text": [
      "100%|████████████████████████████████████████████████████████████████████████████████████████████████████████████████████████| 83/83 [00:00<00:00, 238.43it/s]\n"
     ]
    },
    {
     "name": "stdout",
     "output_type": "stream",
     "text": [
      "Epoch 10, loss: 0.000, err: 0.011, val_loss: 0.000, val_err: 0.018\n"
     ]
    },
    {
     "name": "stderr",
     "output_type": "stream",
     "text": [
      "100%|████████████████████████████████████████████████████████████████████████████████████████████████████████████████████████| 83/83 [00:00<00:00, 234.86it/s]\n"
     ]
    },
    {
     "name": "stdout",
     "output_type": "stream",
     "text": [
      "Epoch 11, loss: 0.000, err: 0.011, val_loss: 0.000, val_err: 0.018\n"
     ]
    },
    {
     "name": "stderr",
     "output_type": "stream",
     "text": [
      "100%|████████████████████████████████████████████████████████████████████████████████████████████████████████████████████████| 83/83 [00:00<00:00, 237.69it/s]\n"
     ]
    },
    {
     "name": "stdout",
     "output_type": "stream",
     "text": [
      "Epoch 12, loss: 0.000, err: 0.011, val_loss: 0.000, val_err: 0.018\n"
     ]
    },
    {
     "name": "stderr",
     "output_type": "stream",
     "text": [
      "100%|████████████████████████████████████████████████████████████████████████████████████████████████████████████████████████| 83/83 [00:00<00:00, 237.54it/s]\n"
     ]
    },
    {
     "name": "stdout",
     "output_type": "stream",
     "text": [
      "Epoch 13, loss: 0.000, err: 0.011, val_loss: 0.000, val_err: 0.018\n"
     ]
    },
    {
     "name": "stderr",
     "output_type": "stream",
     "text": [
      "100%|████████████████████████████████████████████████████████████████████████████████████████████████████████████████████████| 83/83 [00:00<00:00, 237.20it/s]\n"
     ]
    },
    {
     "name": "stdout",
     "output_type": "stream",
     "text": [
      "Epoch 14, loss: 0.000, err: 0.011, val_loss: 0.000, val_err: 0.018\n"
     ]
    },
    {
     "name": "stderr",
     "output_type": "stream",
     "text": [
      "100%|████████████████████████████████████████████████████████████████████████████████████████████████████████████████████████| 83/83 [00:00<00:00, 238.73it/s]\n"
     ]
    },
    {
     "name": "stdout",
     "output_type": "stream",
     "text": [
      "Epoch 15, loss: 0.000, err: 0.011, val_loss: 0.000, val_err: 0.018\n"
     ]
    },
    {
     "name": "stderr",
     "output_type": "stream",
     "text": [
      "100%|████████████████████████████████████████████████████████████████████████████████████████████████████████████████████████| 83/83 [00:00<00:00, 237.07it/s]\n"
     ]
    },
    {
     "name": "stdout",
     "output_type": "stream",
     "text": [
      "Epoch 16, loss: 0.000, err: 0.011, val_loss: 0.000, val_err: 0.018\n"
     ]
    },
    {
     "name": "stderr",
     "output_type": "stream",
     "text": [
      "100%|████████████████████████████████████████████████████████████████████████████████████████████████████████████████████████| 83/83 [00:00<00:00, 236.63it/s]\n"
     ]
    },
    {
     "name": "stdout",
     "output_type": "stream",
     "text": [
      "Epoch 17, loss: 0.000, err: 0.011, val_loss: 0.000, val_err: 0.018\n"
     ]
    },
    {
     "name": "stderr",
     "output_type": "stream",
     "text": [
      "100%|████████████████████████████████████████████████████████████████████████████████████████████████████████████████████████| 83/83 [00:00<00:00, 237.58it/s]\n"
     ]
    },
    {
     "name": "stdout",
     "output_type": "stream",
     "text": [
      "Epoch 18, loss: 0.000, err: 0.011, val_loss: 0.000, val_err: 0.018\n"
     ]
    },
    {
     "name": "stderr",
     "output_type": "stream",
     "text": [
      "100%|████████████████████████████████████████████████████████████████████████████████████████████████████████████████████████| 83/83 [00:00<00:00, 232.68it/s]\n"
     ]
    },
    {
     "name": "stdout",
     "output_type": "stream",
     "text": [
      "Epoch 19, loss: 0.000, err: 0.011, val_loss: 0.000, val_err: 0.018\n"
     ]
    },
    {
     "name": "stderr",
     "output_type": "stream",
     "text": [
      "100%|████████████████████████████████████████████████████████████████████████████████████████████████████████████████████████| 83/83 [00:00<00:00, 237.18it/s]\n"
     ]
    },
    {
     "name": "stdout",
     "output_type": "stream",
     "text": [
      "Epoch 20, loss: 0.000, err: 0.011, val_loss: 0.000, val_err: 0.018\n"
     ]
    },
    {
     "name": "stderr",
     "output_type": "stream",
     "text": [
      "100%|████████████████████████████████████████████████████████████████████████████████████████████████████████████████████████| 83/83 [00:00<00:00, 238.14it/s]\n"
     ]
    },
    {
     "name": "stdout",
     "output_type": "stream",
     "text": [
      "Epoch 21, loss: 0.000, err: 0.011, val_loss: 0.000, val_err: 0.018\n"
     ]
    },
    {
     "name": "stderr",
     "output_type": "stream",
     "text": [
      "100%|████████████████████████████████████████████████████████████████████████████████████████████████████████████████████████| 83/83 [00:00<00:00, 235.32it/s]\n"
     ]
    },
    {
     "name": "stdout",
     "output_type": "stream",
     "text": [
      "Epoch 22, loss: 0.000, err: 0.011, val_loss: 0.000, val_err: 0.018\n"
     ]
    },
    {
     "name": "stderr",
     "output_type": "stream",
     "text": [
      "100%|████████████████████████████████████████████████████████████████████████████████████████████████████████████████████████| 83/83 [00:00<00:00, 237.97it/s]\n"
     ]
    },
    {
     "name": "stdout",
     "output_type": "stream",
     "text": [
      "Epoch 23, loss: 0.000, err: 0.011, val_loss: 0.000, val_err: 0.018\n"
     ]
    },
    {
     "name": "stderr",
     "output_type": "stream",
     "text": [
      "100%|████████████████████████████████████████████████████████████████████████████████████████████████████████████████████████| 83/83 [00:00<00:00, 235.36it/s]\n"
     ]
    },
    {
     "name": "stdout",
     "output_type": "stream",
     "text": [
      "Epoch 24, loss: 0.000, err: 0.011, val_loss: 0.000, val_err: 0.018\n"
     ]
    },
    {
     "name": "stderr",
     "output_type": "stream",
     "text": [
      "100%|████████████████████████████████████████████████████████████████████████████████████████████████████████████████████████| 83/83 [00:00<00:00, 234.98it/s]\n"
     ]
    },
    {
     "name": "stdout",
     "output_type": "stream",
     "text": [
      "Epoch 25, loss: 0.000, err: 0.011, val_loss: 0.000, val_err: 0.018\n"
     ]
    },
    {
     "name": "stderr",
     "output_type": "stream",
     "text": [
      "100%|████████████████████████████████████████████████████████████████████████████████████████████████████████████████████████| 83/83 [00:00<00:00, 237.31it/s]\n"
     ]
    },
    {
     "name": "stdout",
     "output_type": "stream",
     "text": [
      "Epoch 26, loss: 0.000, err: 0.011, val_loss: 0.000, val_err: 0.018\n"
     ]
    },
    {
     "name": "stderr",
     "output_type": "stream",
     "text": [
      "100%|████████████████████████████████████████████████████████████████████████████████████████████████████████████████████████| 83/83 [00:00<00:00, 236.15it/s]\n"
     ]
    },
    {
     "name": "stdout",
     "output_type": "stream",
     "text": [
      "Epoch 27, loss: 0.000, err: 0.011, val_loss: 0.000, val_err: 0.018\n"
     ]
    },
    {
     "name": "stderr",
     "output_type": "stream",
     "text": [
      "100%|████████████████████████████████████████████████████████████████████████████████████████████████████████████████████████| 83/83 [00:00<00:00, 236.78it/s]\n"
     ]
    },
    {
     "name": "stdout",
     "output_type": "stream",
     "text": [
      "Epoch 28, loss: 0.000, err: 0.010, val_loss: 0.000, val_err: 0.018\n"
     ]
    },
    {
     "name": "stderr",
     "output_type": "stream",
     "text": [
      "100%|████████████████████████████████████████████████████████████████████████████████████████████████████████████████████████| 83/83 [00:00<00:00, 235.53it/s]\n"
     ]
    },
    {
     "name": "stdout",
     "output_type": "stream",
     "text": [
      "Epoch 29, loss: 0.000, err: 0.011, val_loss: 0.000, val_err: 0.018\n"
     ]
    },
    {
     "name": "stderr",
     "output_type": "stream",
     "text": [
      "100%|████████████████████████████████████████████████████████████████████████████████████████████████████████████████████████| 83/83 [00:00<00:00, 232.93it/s]\n"
     ]
    },
    {
     "name": "stdout",
     "output_type": "stream",
     "text": [
      "Epoch 30, loss: 0.000, err: 0.011, val_loss: 0.000, val_err: 0.018\n"
     ]
    },
    {
     "name": "stderr",
     "output_type": "stream",
     "text": [
      "100%|████████████████████████████████████████████████████████████████████████████████████████████████████████████████████████| 83/83 [00:00<00:00, 232.49it/s]\n"
     ]
    },
    {
     "name": "stdout",
     "output_type": "stream",
     "text": [
      "Epoch 31, loss: 0.000, err: 0.011, val_loss: 0.000, val_err: 0.018\n"
     ]
    },
    {
     "name": "stderr",
     "output_type": "stream",
     "text": [
      "100%|████████████████████████████████████████████████████████████████████████████████████████████████████████████████████████| 83/83 [00:00<00:00, 228.63it/s]\n"
     ]
    },
    {
     "name": "stdout",
     "output_type": "stream",
     "text": [
      "Epoch 32, loss: 0.000, err: 0.010, val_loss: 0.000, val_err: 0.018\n"
     ]
    },
    {
     "name": "stderr",
     "output_type": "stream",
     "text": [
      "100%|████████████████████████████████████████████████████████████████████████████████████████████████████████████████████████| 83/83 [00:00<00:00, 236.05it/s]\n"
     ]
    },
    {
     "name": "stdout",
     "output_type": "stream",
     "text": [
      "Epoch 33, loss: 0.000, err: 0.010, val_loss: 0.000, val_err: 0.018\n"
     ]
    },
    {
     "name": "stderr",
     "output_type": "stream",
     "text": [
      "100%|████████████████████████████████████████████████████████████████████████████████████████████████████████████████████████| 83/83 [00:00<00:00, 235.67it/s]\n"
     ]
    },
    {
     "name": "stdout",
     "output_type": "stream",
     "text": [
      "Epoch 34, loss: 0.000, err: 0.010, val_loss: 0.000, val_err: 0.018\n"
     ]
    },
    {
     "name": "stderr",
     "output_type": "stream",
     "text": [
      "100%|████████████████████████████████████████████████████████████████████████████████████████████████████████████████████████| 83/83 [00:00<00:00, 237.76it/s]\n"
     ]
    },
    {
     "name": "stdout",
     "output_type": "stream",
     "text": [
      "Epoch 35, loss: 0.000, err: 0.010, val_loss: 0.000, val_err: 0.018\n"
     ]
    },
    {
     "name": "stderr",
     "output_type": "stream",
     "text": [
      "100%|████████████████████████████████████████████████████████████████████████████████████████████████████████████████████████| 83/83 [00:00<00:00, 237.15it/s]\n"
     ]
    },
    {
     "name": "stdout",
     "output_type": "stream",
     "text": [
      "Epoch 36, loss: 0.000, err: 0.011, val_loss: 0.000, val_err: 0.018\n"
     ]
    },
    {
     "name": "stderr",
     "output_type": "stream",
     "text": [
      "100%|████████████████████████████████████████████████████████████████████████████████████████████████████████████████████████| 83/83 [00:00<00:00, 238.18it/s]\n"
     ]
    },
    {
     "name": "stdout",
     "output_type": "stream",
     "text": [
      "Epoch 37, loss: 0.000, err: 0.010, val_loss: 0.000, val_err: 0.018\n"
     ]
    },
    {
     "name": "stderr",
     "output_type": "stream",
     "text": [
      "100%|████████████████████████████████████████████████████████████████████████████████████████████████████████████████████████| 83/83 [00:00<00:00, 232.65it/s]\n"
     ]
    },
    {
     "name": "stdout",
     "output_type": "stream",
     "text": [
      "Epoch 38, loss: 0.000, err: 0.010, val_loss: 0.000, val_err: 0.018\n"
     ]
    },
    {
     "name": "stderr",
     "output_type": "stream",
     "text": [
      "100%|████████████████████████████████████████████████████████████████████████████████████████████████████████████████████████| 83/83 [00:00<00:00, 236.88it/s]\n"
     ]
    },
    {
     "name": "stdout",
     "output_type": "stream",
     "text": [
      "Epoch 39, loss: 0.000, err: 0.011, val_loss: 0.000, val_err: 0.019\n"
     ]
    },
    {
     "name": "stderr",
     "output_type": "stream",
     "text": [
      "100%|████████████████████████████████████████████████████████████████████████████████████████████████████████████████████████| 10/10 [00:00<00:00, 279.78it/s]\n"
     ]
    },
    {
     "name": "stdout",
     "output_type": "stream",
     "text": [
      "STATE: [ 0.73606854  0.87869184 -0.0239308  -0.03662484] ACT: [-0.27349489 -0.41856964] \n",
      "STATE: [ 0.71986664  0.85389568 -0.04629115 -0.07084618] ACT: [-0.27349489 -0.41856964] \n",
      "STATE: [ 0.69601755  0.81813307 -0.06814024 -0.10217887] ACT: [-0.28442225 -0.41122255] \n",
      "STATE: [ 0.66503359  0.77211647 -0.08852559 -0.13147601] ACT: [-0.28408067 -0.41145859] \n",
      "STATE: [ 0.62735077  0.71654109 -0.10766523 -0.15878679] ACT: [-0.28513287 -0.41073014] \n",
      "STATE: [ 0.58292631  0.6523832  -0.12692703 -0.18330827] ACT: [-0.30088375 -0.39933566] \n",
      "STATE: [ 0.54368472  0.59701584 -0.11211882 -0.15819243] ACT: [0.0740414  0.14955694] \n",
      "STATE: [ 0.515487    0.55803952 -0.08056491 -0.11136094] ACT: [0.27652692 0.41657276] \n",
      "STATE: [ 0.49807218  0.53405823 -0.04975664 -0.06851796] ACT: [0.29167088 0.40611341] \n",
      "STATE: [ 0.49101016  0.52388384 -0.02017719 -0.02906968] ACT: [0.30073335 0.39944894] \n",
      "STATE: [0.49338316 0.52678616 0.00678001 0.00829233] ACT: [0.29294938 0.40519213] \n",
      "STATE: [0.50457201 0.54190702 0.03196814 0.04320245] ACT: [0.29294938 0.40519213] \n",
      "STATE: [0.52387229 0.56853462 0.05514367 0.07607886] ACT: [0.28883928 0.40813217] \n",
      "STATE: [0.55083842 0.605852   0.07704607 0.10662111] ACT: [0.29167088 0.40611341] \n",
      "STATE: [0.58450352 0.65347798 0.09618602 0.13607421] ACT: [0.27652692 0.41657276] \n",
      "STATE: [0.61822688 0.70255868 0.09635244 0.14023057] ACT: [0.0740414  0.14955694] \n",
      "STATE: [0.64052257 0.7361888  0.06370198 0.09608607] ACT: [-0.30088375 -0.39933566] \n",
      "STATE: [0.6525683  0.75562055 0.03441638 0.05551927] ACT: [-0.28691614 -0.39155603] \n",
      "STATE: [0.65499777 0.76126395 0.00694133 0.01612401] ACT: [-0.28818823 -0.40859215] \n",
      "STATE: [ 0.64853561  0.7539584  -0.01846332 -0.02087302] ACT: [-0.28513287 -0.41073014] \n",
      "STATE: [ 0.63367176  0.73461913 -0.04246813 -0.05525504] ACT: [-0.28818823 -0.40859215] \n",
      "STATE: [ 0.61099655  0.7045576  -0.06478633 -0.08589008] ACT: [-0.28691614 -0.39155603] \n",
      "STATE: [ 0.58111758  0.66499337 -0.08536847 -0.11304067] ACT: [-0.28381422 -0.37471008] \n",
      "STATE: [ 0.55546694  0.63260572 -0.07328754 -0.09253615] ACT: [0.0740414  0.14955694] \n",
      "STATE: [ 0.52706672  0.59674482 -0.08114349 -0.10245971] ACT: [-0.144748   -0.18281419] \n",
      "STATE: [ 0.49166515  0.55075201 -0.10114735 -0.13140804] ACT: [-0.28947314 -0.40768285] \n",
      "STATE: [ 0.46779676  0.5200106  -0.06819539 -0.0878326 ] ACT: [0.30073335 0.39944894] \n",
      "STATE: [ 0.45493539  0.50334258 -0.03674678 -0.04762291] ACT: [0.30826608 0.39366486] \n",
      "STATE: [ 0.45235869  0.49982438 -0.00736199 -0.01005198] ACT: [0.30826608 0.39366486] \n",
      "STATE: [0.45936174 0.50861648 0.02000872 0.02512029] ACT: [0.30728667 0.39442985] \n",
      "STATE: [0.47534587 0.52888759 0.04566893 0.05791745] ACT: [0.30826608 0.39366486] \n",
      "STATE: [0.49949099 0.56006153 0.06898607 0.0890684 ] ACT: [0.30073335 0.39944894] \n",
      "STATE: [0.53128604 0.60140433 0.09084298 0.11812229] ACT: [0.30153281 0.39884579] \n",
      "STATE: [0.56946317 0.65279155 0.10907752 0.14682063] ACT: [0.27652692 0.41657276] \n",
      "STATE: [0.60740244 0.70538667 0.10839793 0.15027176] ACT: [0.0740414  0.14955694] \n",
      "STATE: [0.63416014 0.74305473 0.07645057 0.10762304] ACT: [-0.28381422 -0.37471008] \n",
      "STATE: [0.65037506 0.76625943 0.04632834 0.06629913] ACT: [-0.28691614 -0.39155603] \n",
      "STATE: [0.65679368 0.7753627  0.01833892 0.02600936] ACT: [-0.28513287 -0.41073014] \n",
      "STATE: [ 0.65405889  0.77128997 -0.0078137  -0.01163639] ACT: [-0.28513287 -0.41073014] \n",
      "STATE: [ 0.64277137  0.75490589 -0.03225005 -0.04681164] ACT: [-0.28513287 -0.41073014] \n",
      "STATE: [ 0.62343779  0.72760562 -0.05523881 -0.07800078] ACT: [-0.28691614 -0.39155603] \n",
      "STATE: [ 0.5961584   0.68986727 -0.07794109 -0.10782385] ACT: [-0.30088375 -0.39933566] \n",
      "STATE: [ 0.56552419  0.64983629 -0.08752634 -0.11437423] ACT: [-0.1680015  -0.15572943] \n",
      "STATE: [ 0.53916786  0.61701253 -0.0753038  -0.09378219] ACT: [0.0740414  0.14955694] \n",
      "STATE: [ 0.51010826  0.58074413 -0.08302744 -0.10362398] ACT: [-0.144748   -0.18281419] \n",
      "STATE: [ 0.49188811  0.55929308 -0.05205756 -0.06128873] ACT: [0.29167088 0.40611341] \n",
      "STATE: [ 0.4840981   0.5514644  -0.02225716 -0.02236765] ACT: [0.30153281 0.39884579] \n",
      "STATE: [0.48602928 0.5563826  0.00551763 0.01405201] ACT: [0.30073335 0.39944894] \n",
      "STATE: [0.49704367 0.57321117 0.03146971 0.04808163] ACT: [0.30073335 0.39944894] \n",
      "STATE: [0.51656969 0.60115002 0.05578863 0.07982528] ACT: [0.30153281 0.39884579] \n",
      "final state  [0.51656969 0.60115002]\n",
      "STATE: [ 0.69254404  0.76313709 -0.02409369 -0.03651789] ACT: [-0.27535645 -0.41734737] \n",
      "STATE: [ 0.67633048  0.73960653 -0.04632446 -0.06723019] ACT: [-0.27213617 -0.37838606] \n",
      "STATE: [ 0.65247136  0.70502587 -0.06816891 -0.09880188] ACT: [-0.28439419 -0.41124195] \n",
      "STATE: [ 0.62314112  0.66347328 -0.0838007  -0.11872169] ACT: [-0.22977572 -0.30175641] \n",
      "STATE: [ 0.59039241  0.61866902 -0.09356774 -0.12801217] ACT: [-0.17447389 -0.19521816] \n",
      "STATE: [ 0.55965344  0.57815426 -0.08782562 -0.11575646] ACT: [-0.00455159  0.04405608] \n",
      "STATE: [ 0.53849514  0.55361245 -0.0604523  -0.07011943] ACT: [0.24696877 0.43474869] \n",
      "STATE: [ 0.52216801  0.53636967 -0.04664894 -0.04926509] ACT: [0.11241339 0.18574584] \n",
      "STATE: [ 0.51575805  0.5327575  -0.01831417 -0.0103205 ] ACT: [0.28883928 0.40813217] \n",
      "STATE: [0.51861444 0.54188142 0.00816113 0.02606835] ACT: [0.28883928 0.40813217] \n",
      "STATE: [0.53012909 0.56290563 0.032899   0.06006918] ACT: [0.28883928 0.40813217] \n",
      "STATE: [0.54761645 0.5944064  0.04996389 0.0900022 ] ACT: [0.21970159 0.38714352] \n",
      "STATE: [0.57242484 0.63659747 0.07088112 0.12054592] ACT: [0.27652692 0.41657276] \n",
      "STATE: [0.58710547 0.66524892 0.04194463 0.08186128] ACT: [-0.27754181 -0.35170069] \n",
      "STATE: [0.59901164 0.69072933 0.03401765 0.07280116] ACT: [-0.05913561 -0.04214827] \n",
      "STATE: [0.60499143 0.70976837 0.01708511 0.05439726] ACT: [-0.1680015  -0.15572943] \n",
      "STATE: [ 0.60188699  0.71608248 -0.00886984  0.01804031] ACT: [-0.28381422 -0.37471008] \n",
      "STATE: [ 0.59029446  0.71050673 -0.0331215  -0.01593072] ACT: [-0.28381422 -0.37471008] \n",
      "STATE: [ 0.57077088  0.69382139 -0.05578165 -0.0476724 ] ACT: [-0.28381422 -0.37471008] \n",
      "STATE: [ 0.54471525  0.66841655 -0.07444467 -0.07258524] ACT: [-0.25512793 -0.3204725 ] \n",
      "STATE: [ 0.51537451  0.63838674 -0.08383068 -0.08579948] ACT: [-0.16310218 -0.20545888] \n",
      "STATE: [ 0.4836006   0.60389665 -0.09078261 -0.0985431 ] ACT: [-0.14232356 -0.20999094] \n",
      "STATE: [ 0.46333167  0.58374224 -0.0579112  -0.05758403] ACT: [0.30758623 0.39419628] \n",
      "STATE: [ 0.44922507  0.56941469 -0.0403046  -0.04093585] ACT: [0.15778493 0.14707689] \n",
      "STATE: [ 0.44087637  0.56053162 -0.02385343 -0.02538021] ACT: [0.15778493 0.14707689] \n",
      "STATE: [0.44345526 0.56212788 0.00736826 0.00456076] ACT: [0.33892923 0.32314735] \n",
      "STATE: [0.45069707 0.56812362 0.0206909  0.01713069] ACT: [0.15778493 0.14707689] \n",
      "STATE: [0.46229581 0.57823012 0.03313924 0.02887571] ACT: [0.15778493 0.14707689] \n",
      "STATE: [0.47796554 0.59217761 0.04477066 0.03984997] ACT: [0.15778493 0.14707689] \n",
      "STATE: [0.50202677 0.61728206 0.06874638 0.07172699] ACT: [0.30758623 0.39419628] \n",
      "STATE: [0.52015033 0.63430806 0.05178159 0.0486457 ] ACT: [-0.14232356 -0.20999094] \n",
      "STATE: [0.53272587 0.64378575 0.03593011 0.02707912] ACT: [-0.14232356 -0.20999094] \n",
      "STATE: [0.53948113 0.64634929 0.01930076 0.0073244 ] ACT: [-0.16310218 -0.20545888] \n",
      "STATE: [ 0.54079808  0.64245242  0.0037627  -0.01113391] ACT: [-0.16310218 -0.20545888] \n",
      "STATE: [ 0.53759569  0.6332126  -0.00914967 -0.02639949] ACT: [-0.144748   -0.18281419] \n",
      "STATE: [ 0.53017055  0.61898045 -0.02121468 -0.04066327] ACT: [-0.144748   -0.18281419] \n",
      "STATE: [ 0.51879978  0.60008361 -0.03248791 -0.05399098] ACT: [-0.144748   -0.18281419] \n",
      "STATE: [ 0.49931011  0.56994158 -0.05568479 -0.08612007] ACT: [-0.28947314 -0.40768285] \n",
      "STATE: [ 0.49033388  0.55399228 -0.02564636 -0.04556944] ACT: [0.30153281 0.39884579] \n",
      "STATE: [ 0.49115668  0.55132277  0.00235085 -0.00762716] ACT: [0.30073335 0.39944894] \n",
      "STATE: [0.50113544 0.56106158 0.02851075 0.02782515] ACT: [0.30073335 0.39944894] \n",
      "STATE: [0.51939176 0.5825985  0.05216093 0.06153405] ACT: [0.29167088 0.40611341] \n",
      "STATE: [0.54538244 0.61515928 0.07425907 0.0930308 ] ACT: [0.29167088 0.40611341] \n",
      "STATE: [0.56523457 0.63998457 0.05672037 0.07092941] ACT: [-0.144748   -0.18281419] \n",
      "STATE: [0.57528418 0.65240987 0.02871319 0.03550086] ACT: [-0.27754181 -0.35170069] \n",
      "STATE: [0.58694181 0.66859995 0.0333075  0.04625735] ACT: [0.0740414  0.14955694] \n",
      "STATE: [0.59602338 0.68243675 0.02594733 0.03953374] ACT: [-0.05913561 -0.04214827] \n",
      "STATE: [0.59936392 0.69059631 0.00954441 0.02331301] ACT: [-0.1680015  -0.15572943] \n",
      "STATE: [ 0.59734019  0.69345118 -0.00578207  0.00815677] ACT: [-0.1680015  -0.15572943] \n",
      "STATE: [ 0.59030423  0.69134948 -0.02010276 -0.00600484] ACT: [-0.1680015  -0.15572943] \n",
      "final state  [0.59030423 0.69134948]\n",
      "STATE: [ 0.68442981  0.78710821 -0.0244992  -0.03624709] ACT: [-0.27999086 -0.41425248] \n",
      "STATE: [ 0.66784309  0.76256779 -0.04739064 -0.07011547] ACT: [-0.27999086 -0.41425248] \n",
      "STATE: [ 0.64361268  0.72705923 -0.06922976 -0.10145303] ACT: [-0.28513287 -0.41073014] \n",
      "STATE: [ 0.6139355   0.68463963 -0.08479193 -0.12119886] ACT: [-0.22977572 -0.30175641] \n",
      "STATE: [ 0.58106084  0.6402346  -0.09392759 -0.12687151] ACT: [-0.1680015  -0.15572943] \n",
      "STATE: [ 0.54184387  0.58797282 -0.1120485  -0.14931938] ACT: [-0.27754181 -0.35170069] \n",
      "STATE: [ 0.51366915  0.55189826 -0.08049921 -0.10307018] ACT: [0.27652692 0.41657276] \n",
      "STATE: [ 0.49618909  0.53069014 -0.04994301 -0.06059463] ACT: [0.28883928 0.40813217] \n",
      "STATE: [ 0.48906612  0.52310692 -0.02035133 -0.02166633] ACT: [0.30073335 0.39944894] \n",
      "STATE: [0.49138218 0.52843037 0.00661729 0.01520984] ACT: [0.29294938 0.40519213] \n",
      "STATE: [0.50251781 0.54581347 0.0318161  0.049666  ] ACT: [0.29294938 0.40519213] \n",
      "STATE: [0.52176837 0.57455485 0.05500161 0.08211824] ACT: [0.28883928 0.40813217] \n",
      "STATE: [0.54868804 0.6138473  0.07691333 0.11226415] ACT: [0.29167088 0.40611341] \n",
      "STATE: [0.58230974 0.66331873 0.096062   0.14134693] ACT: [0.27652692 0.41657276] \n",
      "STATE: [0.61599253 0.71412377 0.09623655 0.14515727] ACT: [0.0740414  0.14955694] \n",
      "STATE: [0.63825033 0.74936508 0.0635937  0.10068946] ACT: [-0.30088375 -0.39933566] \n",
      "STATE: [0.65026065 0.77030228 0.0343152  0.05982056] ACT: [-0.28691614 -0.39155603] \n",
      "STATE: [0.6527506  0.77728686 0.00711414 0.01995595] ACT: [-0.28513287 -0.41073014] \n",
      "STATE: [ 0.64634495  0.77123447 -0.01830185 -0.01729255] ACT: [-0.28513287 -0.41073014] \n",
      "STATE: [ 0.63162748  0.75300065 -0.04204992 -0.05209661] ACT: [-0.28513287 -0.41073014] \n",
      "STATE: [ 0.60908903  0.72397203 -0.06439556 -0.08293892] ACT: [-0.28691614 -0.39155603] \n",
      "STATE: [ 0.57933786  0.68537291 -0.08500334 -0.11028319] ACT: [-0.28381422 -0.37471008] \n",
      "STATE: [ 0.54372582  0.6394924  -0.10174869 -0.1310872 ] ACT: [-0.25512793 -0.3204725 ] \n",
      "STATE: [ 0.50601791  0.5910241  -0.10773688 -0.13848084] ACT: [-0.144748   -0.18281419] \n",
      "STATE: [ 0.46191947  0.53325125 -0.12599555 -0.16506529] ACT: [-0.28947314 -0.40768285] \n",
      "STATE: [ 0.43039261  0.49113634 -0.09007673 -0.1203283 ] ACT: [0.31600413 0.38748083] \n",
      "STATE: [ 0.41180028  0.46257466 -0.05312094 -0.08160481] ACT: [0.35479438 0.35230803] \n",
      "COLLIDED\n",
      "STATE: [ 0.3857356   0.42328125 -0.07447052 -0.11226689] ACT: [-0.28383594 -0.41162745] \n",
      "STATE: [ 0.35208505  0.37439887 -0.09614443 -0.13966392] ACT: [-0.30355476 -0.39730909] \n",
      "STATE: [ 0.31116138  0.31670047 -0.11692477 -0.16485258] ACT: [-0.30959787 -0.39261834] \n",
      "STATE: [ 0.26343539  0.25076972 -0.13635999 -0.18837357] ACT: [-0.30981038 -0.39245067] \n",
      "STATE: [ 0.2092386   0.17723846 -0.15484797 -0.21008933] ACT: [-0.31356123 -0.38946034] \n",
      "STATE: [ 0.14861487  0.09692233 -0.17321066 -0.22947466] ACT: [-0.32599525 -0.37911357] \n",
      "STATE: [ 0.09170769  0.02582261 -0.16259194 -0.20314204] ACT: [-0.00855117  0.12883822] \n",
      "STATE: [ 0.04832743 -0.0288391  -0.12394359 -0.15617634] ACT: [0.31975143 0.38439436] \n",
      "final state  [ 0.04832743 -0.0288391 ]\n",
      "STATE: [ 0.79872793  0.66791637 -0.02418654 -0.03645646] ACT: [-0.2764176  -0.41664531] \n",
      "STATE: [ 0.78232522  0.64363868 -0.04686489 -0.06936482] ACT: [-0.27732106 -0.40343789] \n",
      "STATE: [ 0.7582025   0.60842044 -0.06892205 -0.10062353] ACT: [-0.28723046 -0.409266  ] \n",
      "STATE: [ 0.72671232  0.56308919 -0.08997194 -0.12951785] ACT: [-0.29226168 -0.40568844] \n",
      "STATE: [ 0.68846584  0.51000911 -0.10927568 -0.15165739] ACT: [-0.28809318 -0.35016168] \n",
      "STATE: [ 0.64416273  0.45298338 -0.12658029 -0.16293064] ACT: [-0.27972375 -0.24258024] \n",
      "STATE: [ 0.59083376  0.39042388 -0.1523685  -0.17874143] ACT: [-0.38965761 -0.30289273] \n",
      "STATE: [ 0.53002014  0.32130137 -0.17375321 -0.1974929 ] ACT: [-0.35867301 -0.34835854] \n",
      "STATE: [ 0.46353196  0.24483849 -0.18996622 -0.21846535] ACT: [-0.31560646 -0.3878048 ] \n",
      "STATE: [ 0.39202905  0.16128873 -0.20429402 -0.23871362] ACT: [-0.30622093 -0.39525781] \n",
      "STATE: [ 0.31578739  0.07115848 -0.21783331 -0.25751499] ACT: [-0.30795529 -0.39390803] \n",
      "STATE: [ 0.23701898 -0.02639001 -0.22505261 -0.27870998] ACT: [-0.24588126 -0.43536468] \n",
      "final state  [ 0.23701898 -0.02639001]\n",
      "STATE: [ 0.86834631  0.67908032 -0.02357435 -0.03685529] ACT: [-0.26942115 -0.42120333] \n",
      "STATE: [ 0.85211584  0.65430481 -0.04637279 -0.07078716] ACT: [-0.27823441 -0.41543425] \n",
      "STATE: [ 0.8285576   0.61834769 -0.06730924 -0.10273463] ACT: [-0.27405326 -0.41820427] \n",
      "STATE: [ 0.79795894  0.5720717  -0.08742474 -0.13221712] ACT: [-0.28037333 -0.41399372] \n",
      "STATE: [ 0.76071358  0.51688927 -0.10641534 -0.15766409] ACT: [-0.28260402 -0.38998542] \n",
      "STATE: [ 0.71654233  0.45321729 -0.12620355 -0.18191996] ACT: [-0.30596243 -0.39545795] \n",
      "STATE: [ 0.66525251  0.3821425  -0.14654236 -0.20307081] ACT: [-0.32709628 -0.37816402] \n",
      "STATE: [ 0.60746909  0.30401606 -0.16509548 -0.22321839] ACT: [-0.32194243 -0.3825612 ] \n",
      "STATE: [ 0.54368327  0.2192463  -0.18224518 -0.24219934] ACT: [-0.31981814 -0.38433886] \n",
      "STATE: [ 0.47468397  0.1279514  -0.19714086 -0.26084257] ACT: [-0.30692028 -0.39471501] \n",
      "STATE: [ 0.40132495  0.03017857 -0.20959719 -0.27935093] ACT: [-0.29021368 -0.40715601] \n",
      "STATE: [ 0.32403572 -0.07374803 -0.22082639 -0.29693316] ACT: [-0.28553163 -0.41045303] \n",
      "final state  [ 0.32403572 -0.07374803]\n",
      "STATE: [ 0.6511683   0.71893492 -0.02521647 -0.03575181] ACT: [-0.28818823 -0.40859215] \n",
      "STATE: [ 0.63588485  0.69800167 -0.04366701 -0.05980929] ACT: [-0.22977572 -0.30175641] \n",
      "STATE: [ 0.612687    0.66723976 -0.06627955 -0.08789116] ACT: [-0.29117928 -0.36579263] \n",
      "STATE: [ 0.58920049  0.63720582 -0.06710432 -0.08581127] ACT: [-0.05913561 -0.04214827] \n",
      "STATE: [ 0.56711589  0.61049207 -0.06309887 -0.076325  ] ACT: [-0.00455159  0.04405608] \n",
      "STATE: [ 0.54463366  0.58587041 -0.06423492 -0.07034758] ACT: [-0.06030759  0.01106958] \n",
      "STATE: [ 0.53209548  0.5756221  -0.0358234  -0.02928091] ACT: [0.27652692 0.41657276] \n",
      "STATE: [ 0.52710847  0.57790259 -0.0142486   0.00651571] ACT: [0.21970159 0.38714352] \n",
      "STATE: [0.53138115 0.59247066 0.01220767 0.04162304] ACT: [0.29167088 0.40611341] \n",
      "STATE: [0.54384208 0.61884023 0.03560265 0.07534164] ACT: [0.27652692 0.41657276] \n",
      "STATE: [0.55105235 0.63788062 0.02060077 0.05440111] ACT: [-0.144748   -0.18281419] \n",
      "STATE: [0.55335654 0.6500728  0.0065834  0.03483479] ACT: [-0.144748   -0.18281419] \n",
      "STATE: [ 0.55051451  0.65517268 -0.00812008  0.01457111] ACT: [-0.16310218 -0.20545888] \n",
      "STATE: [ 0.54286398  0.65364571 -0.02185864 -0.00436277] ACT: [-0.16310218 -0.20545888] \n",
      "STATE: [ 0.53072052  0.64592677 -0.03469561 -0.02205412] ACT: [-0.16310218 -0.20545888] \n",
      "STATE: [ 0.51437897  0.63242221 -0.04669015 -0.03858447] ACT: [-0.16310218 -0.20545888] \n",
      "STATE: [ 0.49475117  0.61337291 -0.05607942 -0.05442657] ACT: [-0.14232356 -0.20999094] \n",
      "STATE: [ 0.48583128  0.60764598 -0.02548541 -0.01636265] ACT: [0.30758623 0.39419628] \n",
      "STATE: [0.48691658 0.61436714 0.00310086 0.01920332] ACT: [0.30758623 0.39419628] \n",
      "STATE: [0.49310803 0.62557434 0.01768985 0.03202057] ACT: [0.16905693 0.16088528] \n",
      "STATE: [0.50407053 0.64097318 0.03132143 0.04399668] ACT: [0.16905693 0.16088528] \n",
      "STATE: [0.50995496 0.64893049 0.01681265 0.02273519] ACT: [-0.14232356 -0.20999094] \n",
      "STATE: [0.51657977 0.6554339  0.01892803 0.01858116] ACT: [ 0.03678521 -0.03042323] \n",
      "STATE: [0.52389637 0.66057881 0.02090458 0.01469974] ACT: [ 0.03678521 -0.03042323] \n",
      "STATE: [0.53185937 0.66445437 0.02275143 0.01107304] ACT: [ 0.03678521 -0.03042323] \n",
      "STATE: [ 0.53430479  0.66178342  0.00698692 -0.00763128] ACT: [-0.16310218 -0.20545888] \n",
      "STATE: [ 0.53159473  0.65299558 -0.00774303 -0.02510813] ACT: [-0.16310218 -0.20545888] \n",
      "STATE: [ 0.52406751  0.63849225 -0.02150634 -0.04143806] ACT: [-0.16310218 -0.20545888] \n",
      "STATE: [ 0.51267561  0.61850974 -0.0325483  -0.0570929 ] ACT: [-0.14232356 -0.20999094] \n",
      "STATE: [ 0.49767264  0.59340761 -0.04286563 -0.07172038] ACT: [-0.14232356 -0.20999094] \n",
      "STATE: [ 0.49307407  0.58202506 -0.01313877 -0.03252156] ACT: [0.30758623 0.39419628] \n",
      "STATE: [0.49801172 0.58360415 0.01410758 0.00451168] ACT: [0.30153281 0.39884579] \n",
      "STATE: [0.51185978 0.59729426 0.03956589 0.0391146 ] ACT: [0.30153281 0.39884579] \n",
      "STATE: [0.51593395 0.59760067 0.01164048 0.00087546] ACT: [-0.28947314 -0.40768285] \n",
      "STATE: [ 0.51087564  0.58540168 -0.01445233 -0.03485424] ACT: [-0.28947314 -0.40768285] \n",
      "STATE: [0.51508169 0.58644048 0.01201731 0.00296799] ACT: [0.29167088 0.40611341] \n",
      "STATE: [ 0.51014661  0.57492582 -0.01410023 -0.03289903] ACT: [-0.28947314 -0.40768285] \n",
      "STATE: [0.51446782 0.57660403 0.0123463  0.00479489] ACT: [0.29167088 0.40611341] \n",
      "STATE: [0.52743787 0.59060933 0.03705728 0.04001515] ACT: [0.29167088 0.40611341] \n",
      "STATE: [0.53069164 0.59121025 0.00929649 0.0017169 ] ACT: [-0.28947314 -0.40768285] \n",
      "STATE: [0.54220052 0.60452927 0.03288252 0.03805435] ACT: [0.27652692 0.41657276] \n",
      "STATE: [0.56142277 0.62973177 0.05492071 0.07200715] ACT: [0.27652692 0.41657276] \n",
      "STATE: [0.57088384 0.64250953 0.02703163 0.03650787] ACT: [-0.27754181 -0.35170069] \n",
      "STATE: [0.57122431 0.64367791 0.00097277 0.00333823] ACT: [-0.27754181 -0.35170069] \n",
      "STATE: [0.57380995 0.64934979 0.00738755 0.01620539] ACT: [0.0740414  0.14955694] \n",
      "STATE: [0.57849343 0.65922965 0.01338137 0.02822815] ACT: [0.0740414  0.14955694] \n",
      "STATE: [0.58513707 0.67304131 0.01898184 0.03946191] ACT: [0.0740414  0.14955694] \n",
      "STATE: [ 0.58353143  0.67613212 -0.00458754  0.00883087] ACT: [-0.25512793 -0.3204725 ] \n",
      "STATE: [ 0.57421787  0.66920562 -0.02661018 -0.01978999] ACT: [-0.25512793 -0.3204725 ] \n",
      "STATE: [ 0.56778303  0.66731385 -0.01838526 -0.00540504] ACT: [0.0740414  0.14955694] \n",
      "final state  [0.56778303 0.66731385]\n",
      "STATE: [ 0.68858265  0.59438956 -0.0309819  -0.02612962] ACT: [-0.35407891 -0.29862424] \n",
      "STATE: [ 0.66760694  0.57669899 -0.05993062 -0.05054449] ACT: [-0.35407891 -0.29862424] \n",
      "STATE: [ 0.64086284  0.55739748 -0.07641171 -0.05514719] ACT: [-0.23330323 -0.09051067] \n",
      "STATE: [ 0.61089846  0.53972431 -0.08561252 -0.05049475] ACT: [-0.1624609   0.01181033] \n",
      "STATE: [ 0.57580825  0.52049475 -0.10025774 -0.05494161] ACT: [-0.23158337 -0.08869236] \n",
      "STATE: [ 0.54759213  0.51714136 -0.08061747 -0.00958111] ACT: [0.14926696 0.47719951] \n",
      "STATE: [ 0.52920459  0.52707868 -0.05253583  0.02839236] ACT: [0.26046993 0.42679669] \n",
      "STATE: [ 0.52000063  0.54943452 -0.02629705  0.06387382] ACT: [0.26046993 0.42679669] \n",
      "STATE: [0.52024638 0.5828223  0.00070214 0.09539367] ACT: [0.28883928 0.40813217] \n",
      "STATE: [0.52940842 0.62645624 0.02617726 0.12466838] ACT: [0.29167088 0.40611341] \n",
      "STATE: [0.53353629 0.66162801 0.01179393 0.10049078] ACT: [-0.144748   -0.18281419] \n",
      "STATE: [ 0.53239827  0.68819945 -0.00325149  0.07591842] ACT: [-0.16310218 -0.20545888] \n",
      "STATE: [ 0.52281737  0.7016278  -0.02737399  0.03836671] ACT: [-0.27812432 -0.37222358] \n",
      "STATE: [ 0.5075647   0.70537904 -0.04357907  0.01071783] ACT: [-0.20573139 -0.28721215] \n",
      "STATE: [ 0.48701246  0.70008823 -0.05872069 -0.01511659] ACT: [-0.20573139 -0.28721215] \n",
      "STATE: [ 0.46433454  0.68760718 -0.06479406 -0.03566017] ACT: [-0.11345046 -0.24612116] \n",
      "STATE: [ 0.4475206   0.67683721 -0.04803981 -0.03077132] ACT: [0.14288161 0.02912738] \n",
      "STATE: [ 0.43618584  0.66766605 -0.03238505 -0.02620331] ACT: [0.14288161 0.02912738] \n",
      "STATE: [ 0.42348384  0.65139253 -0.03629141 -0.04649579] ACT: [-0.06893281 -0.25156656] \n",
      "STATE: [ 0.40950435  0.62848273 -0.0399414  -0.06545658] ACT: [-0.06893281 -0.25156656] \n",
      "STATE: [ 0.38741746  0.59470603 -0.0631054  -0.09650486] ACT: [-0.29468739 -0.40392988] \n",
      "STATE: [ 0.36587766  0.55458744 -0.0615423  -0.11462453] ACT: [-0.02946507 -0.27946068] \n",
      "STATE: [ 0.35196185  0.50314897 -0.03975946 -0.14696704] ACT: [ 0.20279005 -0.45559709] \n",
      "STATE: [ 0.33086608  0.4420872  -0.06027362 -0.17446222] ACT: [-0.26426723 -0.42445592] \n",
      "STATE: [ 0.30196993  0.37278057 -0.08256044 -0.19801893] ACT: [-0.29991172 -0.4000662 ] \n",
      "STATE: [ 0.26550128  0.29598831 -0.10419615 -0.21940646] ACT: [-0.30918554 -0.39294313] \n",
      "STATE: [ 0.22180813  0.21232036 -0.12483757 -0.23905128] ACT: [-0.31404907 -0.38906706] \n",
      "STATE: [ 0.17132186  0.12226255 -0.14424647 -0.25730802] ACT: [-0.31544414 -0.38793684] \n",
      "STATE: [ 0.11372716  0.02689592 -0.16455629 -0.27247608] ACT: [-0.34029713 -0.36633026] \n",
      "STATE: [ 0.06984239 -0.05055627 -0.12538507 -0.22129198] ACT: [0.32425389 0.38060402] \n",
      "final state  [ 0.06984239 -0.05055627]\n",
      "STATE: [ 0.89037616  0.63501788 -0.02401402 -0.03657033] ACT: [-0.27444599 -0.41794665] \n",
      "STATE: [ 0.87410749  0.61026547 -0.04648191 -0.07072116] ACT: [-0.2747864  -0.41772292] \n",
      "STATE: [ 0.85053783  0.57431407 -0.06734188 -0.10271829] ACT: [-0.27326102 -0.41872236] \n",
      "STATE: [ 0.82022728  0.52784613 -0.08660156 -0.13276555] ACT: [-0.27061712 -0.42043593] \n",
      "STATE: [ 0.78310236  0.4719329  -0.10607121 -0.15975208] ACT: [-0.28746145 -0.40799169] \n",
      "STATE: [ 0.73893845  0.40780031 -0.12618258 -0.18323597] ACT: [-0.30939761 -0.38820136] \n",
      "STATE: [ 0.68828338  0.33578051 -0.14472879 -0.20577088] ACT: [-0.30659364 -0.39496878] \n",
      "STATE: [ 0.63119033  0.25668988 -0.16312298 -0.22597322] ACT: [-0.31876583 -0.38521208] \n",
      "STATE: [ 0.56834171  0.17078213 -0.17956749 -0.24545071] ACT: [-0.31027957 -0.39207983] \n",
      "STATE: [ 0.50035302  0.07832022 -0.19425342 -0.26417689] ACT: [-0.30251476 -0.39810152] \n",
      "STATE: [ 0.42787686 -0.02049903 -0.20707473 -0.28234069] ACT: [-0.2922193  -0.40571897] \n",
      "final state  [ 0.42787686 -0.02049903]\n",
      "STATE: [ 0.79601954  0.76471938 -0.02404474 -0.03655015] ACT: [-0.274797   -0.41771594] \n",
      "STATE: [ 0.77974051  0.73997379 -0.04651154 -0.07070169] ACT: [-0.274797   -0.41771594] \n",
      "STATE: [ 0.75607781  0.70408354 -0.06760769 -0.10254358] ACT: [-0.27598255 -0.4169336 ] \n",
      "STATE: [ 0.72574032  0.65856045 -0.08667855 -0.13006595] ACT: [-0.26865838 -0.39144902] \n",
      "STATE: [ 0.68811703  0.60384223 -0.10749511 -0.15633777] ACT: [-0.30291254 -0.39779893] \n",
      "STATE: [ 0.6421191   0.54356953 -0.13142265 -0.17220773] ACT: [-0.35407891 -0.29862424] \n",
      "STATE: [ 0.591002    0.47735057 -0.14604886 -0.18919702] ACT: [-0.26572363 -0.32331917] \n",
      "STATE: [ 0.53701357  0.41691397 -0.15425266 -0.17267601] ACT: [-0.20329439  0.04691386] \n",
      "STATE: [ 0.47429277  0.35128993 -0.17920229 -0.18749726] ACT: [-0.40082806 -0.29889274] \n",
      "STATE: [ 0.40604757  0.27807564 -0.19498629 -0.20918367] ACT: [-0.31479029 -0.3884676 ] \n",
      "STATE: [ 0.33270019  0.19772111 -0.20956395 -0.22958437] ACT: [-0.31284161 -0.39003862] \n",
      "STATE: [ 0.25473038  0.11058011 -0.2227709  -0.24897429] ACT: [-0.30810952 -0.39378741] \n",
      "STATE: [ 0.17279948  0.01682627 -0.23408829 -0.26786813] ACT: [-0.29641972 -0.40266034] \n",
      "STATE: [ 0.10710288 -0.05997752 -0.18770455 -0.21943938] ACT: [0.35453365 0.3525704 ] \n",
      "final state  [ 0.10710288 -0.05997752]\n",
      "STATE: [ 0.7645155   0.64233498 -0.02513267 -0.03581078] ACT: [-0.28723046 -0.409266  ] \n",
      "STATE: [ 0.74731924  0.61821872 -0.04913217 -0.0689036 ] ACT: [-0.29312954 -0.40506181] \n",
      "STATE: [ 0.72221222  0.58366453 -0.07173432 -0.09872625] ACT: [-0.29515945 -0.39250796] \n",
      "STATE: [ 0.68993001  0.54065426 -0.09223491 -0.12288649] ACT: [-0.28809318 -0.35016168] \n",
      "STATE: [ 0.65000008  0.49373584 -0.11408549 -0.13405264] ACT: [-0.31889713 -0.21977805] \n",
      "STATE: [ 0.60342051  0.44994008 -0.13308449 -0.12513074] ACT: [-0.30269555  0.00142511] \n",
      "STATE: [ 0.54633595  0.40982072 -0.16309875 -0.11462676] ACT: [-0.44283339  0.02619741] \n",
      "STATE: [ 0.48280218  0.36090935 -0.18152507 -0.13974675] ACT: [-0.33291059 -0.37305568] \n",
      "STATE: [ 0.41364544  0.3034357  -0.19759067 -0.16421043] ACT: [-0.31975067 -0.38439499] \n",
      "STATE: [ 0.33953945  0.23771474 -0.21173141 -0.18777417] ACT: [-0.30980146 -0.39245771] \n",
      "STATE: [ 0.26100906  0.16413244 -0.22437253 -0.21023516] ACT: [-0.30326853 -0.39752761] \n",
      "STATE: [ 0.17807572  0.08341462 -0.2369524  -0.23062234] ACT: [-0.31204931 -0.39067279] \n",
      "STATE: [ 0.09080659 -0.00378988 -0.24934038 -0.24915572] ACT: [-0.31929121 -0.38477672] \n",
      "final state  [ 0.09080659 -0.00378988]\n",
      "After 15 REWARD:  (0.6653950953310169, array([ 0.29796678,  0.16960135, -0.13220267, -0.16356319]), -0.10605940508256093)\n",
      "UPDATING THE ACTION MATRIX\n"
     ]
    },
    {
     "name": "stderr",
     "output_type": "stream",
     "text": [
      "100%|█████████████████████████████████████████████████████████████████████████████████████████████████████████████████████████| 25/25 [00:03<00:00,  7.00it/s]\n",
      "Generating Dynamics Dataset: 100%|██████████████████████████████████████████████████████████████████████████████████████████| 15/15 [00:00<00:00, 1098.48it/s]\n"
     ]
    },
    {
     "name": "stdout",
     "output_type": "stream",
     "text": [
      "COLLIDED\n",
      "COLLIDED\n",
      "COLLIDED\n",
      "COLLIDED\n",
      "COLLIDED\n",
      "COLLIDED\n"
     ]
    },
    {
     "name": "stderr",
     "output_type": "stream",
     "text": [
      "100%|████████████████████████████████████████████████████████████████████████████████████████████████████████████████████████| 89/89 [00:00<00:00, 185.10it/s]\n"
     ]
    },
    {
     "name": "stdout",
     "output_type": "stream",
     "text": [
      "Epoch 1, loss: 0.000, err: 0.010, val_loss: 0.000, val_err: 0.018\n"
     ]
    },
    {
     "name": "stderr",
     "output_type": "stream",
     "text": [
      "100%|████████████████████████████████████████████████████████████████████████████████████████████████████████████████████████| 89/89 [00:00<00:00, 236.59it/s]\n"
     ]
    },
    {
     "name": "stdout",
     "output_type": "stream",
     "text": [
      "Epoch 2, loss: 0.000, err: 0.010, val_loss: 0.000, val_err: 0.018\n"
     ]
    },
    {
     "name": "stderr",
     "output_type": "stream",
     "text": [
      "100%|████████████████████████████████████████████████████████████████████████████████████████████████████████████████████████| 89/89 [00:00<00:00, 237.13it/s]\n"
     ]
    },
    {
     "name": "stdout",
     "output_type": "stream",
     "text": [
      "Epoch 3, loss: 0.000, err: 0.010, val_loss: 0.000, val_err: 0.018\n"
     ]
    },
    {
     "name": "stderr",
     "output_type": "stream",
     "text": [
      "100%|████████████████████████████████████████████████████████████████████████████████████████████████████████████████████████| 89/89 [00:00<00:00, 234.03it/s]\n"
     ]
    },
    {
     "name": "stdout",
     "output_type": "stream",
     "text": [
      "Epoch 4, loss: 0.000, err: 0.010, val_loss: 0.000, val_err: 0.018\n"
     ]
    },
    {
     "name": "stderr",
     "output_type": "stream",
     "text": [
      "100%|████████████████████████████████████████████████████████████████████████████████████████████████████████████████████████| 89/89 [00:00<00:00, 236.30it/s]\n"
     ]
    },
    {
     "name": "stdout",
     "output_type": "stream",
     "text": [
      "Epoch 5, loss: 0.000, err: 0.010, val_loss: 0.000, val_err: 0.018\n"
     ]
    },
    {
     "name": "stderr",
     "output_type": "stream",
     "text": [
      "100%|████████████████████████████████████████████████████████████████████████████████████████████████████████████████████████| 89/89 [00:00<00:00, 237.26it/s]\n"
     ]
    },
    {
     "name": "stdout",
     "output_type": "stream",
     "text": [
      "Epoch 6, loss: 0.000, err: 0.010, val_loss: 0.000, val_err: 0.018\n"
     ]
    },
    {
     "name": "stderr",
     "output_type": "stream",
     "text": [
      "100%|████████████████████████████████████████████████████████████████████████████████████████████████████████████████████████| 89/89 [00:00<00:00, 233.98it/s]\n"
     ]
    },
    {
     "name": "stdout",
     "output_type": "stream",
     "text": [
      "Epoch 7, loss: 0.000, err: 0.010, val_loss: 0.000, val_err: 0.018\n"
     ]
    },
    {
     "name": "stderr",
     "output_type": "stream",
     "text": [
      "100%|████████████████████████████████████████████████████████████████████████████████████████████████████████████████████████| 89/89 [00:00<00:00, 235.51it/s]\n"
     ]
    },
    {
     "name": "stdout",
     "output_type": "stream",
     "text": [
      "Epoch 8, loss: 0.000, err: 0.010, val_loss: 0.000, val_err: 0.018\n"
     ]
    },
    {
     "name": "stderr",
     "output_type": "stream",
     "text": [
      "100%|████████████████████████████████████████████████████████████████████████████████████████████████████████████████████████| 89/89 [00:00<00:00, 235.18it/s]\n"
     ]
    },
    {
     "name": "stdout",
     "output_type": "stream",
     "text": [
      "Epoch 9, loss: 0.000, err: 0.010, val_loss: 0.000, val_err: 0.018\n"
     ]
    },
    {
     "name": "stderr",
     "output_type": "stream",
     "text": [
      "100%|████████████████████████████████████████████████████████████████████████████████████████████████████████████████████████| 89/89 [00:00<00:00, 238.39it/s]\n"
     ]
    },
    {
     "name": "stdout",
     "output_type": "stream",
     "text": [
      "Epoch 10, loss: 0.000, err: 0.010, val_loss: 0.000, val_err: 0.018\n"
     ]
    },
    {
     "name": "stderr",
     "output_type": "stream",
     "text": [
      "100%|████████████████████████████████████████████████████████████████████████████████████████████████████████████████████████| 89/89 [00:00<00:00, 225.98it/s]\n"
     ]
    },
    {
     "name": "stdout",
     "output_type": "stream",
     "text": [
      "Epoch 11, loss: 0.000, err: 0.010, val_loss: 0.000, val_err: 0.018\n"
     ]
    },
    {
     "name": "stderr",
     "output_type": "stream",
     "text": [
      "100%|████████████████████████████████████████████████████████████████████████████████████████████████████████████████████████| 89/89 [00:00<00:00, 237.26it/s]\n"
     ]
    },
    {
     "name": "stdout",
     "output_type": "stream",
     "text": [
      "Epoch 12, loss: 0.000, err: 0.010, val_loss: 0.000, val_err: 0.018\n"
     ]
    },
    {
     "name": "stderr",
     "output_type": "stream",
     "text": [
      "100%|████████████████████████████████████████████████████████████████████████████████████████████████████████████████████████| 89/89 [00:00<00:00, 236.30it/s]\n"
     ]
    },
    {
     "name": "stdout",
     "output_type": "stream",
     "text": [
      "Epoch 13, loss: 0.000, err: 0.010, val_loss: 0.000, val_err: 0.018\n"
     ]
    },
    {
     "name": "stderr",
     "output_type": "stream",
     "text": [
      "100%|████████████████████████████████████████████████████████████████████████████████████████████████████████████████████████| 89/89 [00:00<00:00, 238.45it/s]\n"
     ]
    },
    {
     "name": "stdout",
     "output_type": "stream",
     "text": [
      "Epoch 14, loss: 0.000, err: 0.010, val_loss: 0.000, val_err: 0.018\n"
     ]
    },
    {
     "name": "stderr",
     "output_type": "stream",
     "text": [
      "100%|████████████████████████████████████████████████████████████████████████████████████████████████████████████████████████| 89/89 [00:00<00:00, 235.49it/s]\n"
     ]
    },
    {
     "name": "stdout",
     "output_type": "stream",
     "text": [
      "Epoch 15, loss: 0.000, err: 0.010, val_loss: 0.000, val_err: 0.018\n"
     ]
    },
    {
     "name": "stderr",
     "output_type": "stream",
     "text": [
      "100%|████████████████████████████████████████████████████████████████████████████████████████████████████████████████████████| 89/89 [00:00<00:00, 236.57it/s]\n"
     ]
    },
    {
     "name": "stdout",
     "output_type": "stream",
     "text": [
      "Epoch 16, loss: 0.000, err: 0.010, val_loss: 0.000, val_err: 0.018\n"
     ]
    },
    {
     "name": "stderr",
     "output_type": "stream",
     "text": [
      "100%|████████████████████████████████████████████████████████████████████████████████████████████████████████████████████████| 89/89 [00:00<00:00, 235.48it/s]\n"
     ]
    },
    {
     "name": "stdout",
     "output_type": "stream",
     "text": [
      "Epoch 17, loss: 0.000, err: 0.010, val_loss: 0.000, val_err: 0.018\n"
     ]
    },
    {
     "name": "stderr",
     "output_type": "stream",
     "text": [
      "100%|████████████████████████████████████████████████████████████████████████████████████████████████████████████████████████| 89/89 [00:00<00:00, 238.11it/s]\n"
     ]
    },
    {
     "name": "stdout",
     "output_type": "stream",
     "text": [
      "Epoch 18, loss: 0.000, err: 0.010, val_loss: 0.000, val_err: 0.018\n"
     ]
    },
    {
     "name": "stderr",
     "output_type": "stream",
     "text": [
      "100%|████████████████████████████████████████████████████████████████████████████████████████████████████████████████████████| 89/89 [00:00<00:00, 236.14it/s]\n"
     ]
    },
    {
     "name": "stdout",
     "output_type": "stream",
     "text": [
      "Epoch 19, loss: 0.000, err: 0.010, val_loss: 0.000, val_err: 0.018\n"
     ]
    },
    {
     "name": "stderr",
     "output_type": "stream",
     "text": [
      "100%|████████████████████████████████████████████████████████████████████████████████████████████████████████████████████████| 89/89 [00:00<00:00, 237.63it/s]\n"
     ]
    },
    {
     "name": "stdout",
     "output_type": "stream",
     "text": [
      "Epoch 20, loss: 0.000, err: 0.010, val_loss: 0.000, val_err: 0.018\n"
     ]
    },
    {
     "name": "stderr",
     "output_type": "stream",
     "text": [
      "100%|████████████████████████████████████████████████████████████████████████████████████████████████████████████████████████| 89/89 [00:00<00:00, 236.70it/s]\n"
     ]
    },
    {
     "name": "stdout",
     "output_type": "stream",
     "text": [
      "Epoch 21, loss: 0.000, err: 0.010, val_loss: 0.000, val_err: 0.018\n"
     ]
    },
    {
     "name": "stderr",
     "output_type": "stream",
     "text": [
      "100%|████████████████████████████████████████████████████████████████████████████████████████████████████████████████████████| 89/89 [00:00<00:00, 237.77it/s]\n"
     ]
    },
    {
     "name": "stdout",
     "output_type": "stream",
     "text": [
      "Epoch 22, loss: 0.000, err: 0.010, val_loss: 0.000, val_err: 0.018\n"
     ]
    },
    {
     "name": "stderr",
     "output_type": "stream",
     "text": [
      "100%|████████████████████████████████████████████████████████████████████████████████████████████████████████████████████████| 89/89 [00:00<00:00, 228.86it/s]\n"
     ]
    },
    {
     "name": "stdout",
     "output_type": "stream",
     "text": [
      "Epoch 23, loss: 0.000, err: 0.010, val_loss: 0.000, val_err: 0.018\n"
     ]
    },
    {
     "name": "stderr",
     "output_type": "stream",
     "text": [
      "100%|████████████████████████████████████████████████████████████████████████████████████████████████████████████████████████| 89/89 [00:00<00:00, 235.45it/s]\n"
     ]
    },
    {
     "name": "stdout",
     "output_type": "stream",
     "text": [
      "Epoch 24, loss: 0.000, err: 0.010, val_loss: 0.000, val_err: 0.018\n"
     ]
    },
    {
     "name": "stderr",
     "output_type": "stream",
     "text": [
      "100%|████████████████████████████████████████████████████████████████████████████████████████████████████████████████████████| 89/89 [00:00<00:00, 235.10it/s]\n"
     ]
    },
    {
     "name": "stdout",
     "output_type": "stream",
     "text": [
      "Epoch 25, loss: 0.000, err: 0.010, val_loss: 0.000, val_err: 0.018\n"
     ]
    },
    {
     "name": "stderr",
     "output_type": "stream",
     "text": [
      "100%|████████████████████████████████████████████████████████████████████████████████████████████████████████████████████████| 89/89 [00:00<00:00, 241.12it/s]\n"
     ]
    },
    {
     "name": "stdout",
     "output_type": "stream",
     "text": [
      "Epoch 26, loss: 0.000, err: 0.010, val_loss: 0.000, val_err: 0.018\n"
     ]
    },
    {
     "name": "stderr",
     "output_type": "stream",
     "text": [
      "100%|████████████████████████████████████████████████████████████████████████████████████████████████████████████████████████| 89/89 [00:00<00:00, 238.61it/s]\n"
     ]
    },
    {
     "name": "stdout",
     "output_type": "stream",
     "text": [
      "Epoch 27, loss: 0.000, err: 0.010, val_loss: 0.000, val_err: 0.018\n"
     ]
    },
    {
     "name": "stderr",
     "output_type": "stream",
     "text": [
      "100%|████████████████████████████████████████████████████████████████████████████████████████████████████████████████████████| 89/89 [00:00<00:00, 240.09it/s]\n"
     ]
    },
    {
     "name": "stdout",
     "output_type": "stream",
     "text": [
      "Epoch 28, loss: 0.000, err: 0.010, val_loss: 0.000, val_err: 0.018\n"
     ]
    },
    {
     "name": "stderr",
     "output_type": "stream",
     "text": [
      "100%|████████████████████████████████████████████████████████████████████████████████████████████████████████████████████████| 89/89 [00:00<00:00, 239.93it/s]\n"
     ]
    },
    {
     "name": "stdout",
     "output_type": "stream",
     "text": [
      "Epoch 29, loss: 0.000, err: 0.010, val_loss: 0.000, val_err: 0.018\n"
     ]
    },
    {
     "name": "stderr",
     "output_type": "stream",
     "text": [
      "100%|████████████████████████████████████████████████████████████████████████████████████████████████████████████████████████| 89/89 [00:00<00:00, 240.96it/s]\n"
     ]
    },
    {
     "name": "stdout",
     "output_type": "stream",
     "text": [
      "Epoch 30, loss: 0.000, err: 0.010, val_loss: 0.000, val_err: 0.018\n"
     ]
    },
    {
     "name": "stderr",
     "output_type": "stream",
     "text": [
      "100%|████████████████████████████████████████████████████████████████████████████████████████████████████████████████████████| 89/89 [00:00<00:00, 242.52it/s]\n"
     ]
    },
    {
     "name": "stdout",
     "output_type": "stream",
     "text": [
      "Epoch 31, loss: 0.000, err: 0.010, val_loss: 0.000, val_err: 0.018\n"
     ]
    },
    {
     "name": "stderr",
     "output_type": "stream",
     "text": [
      "100%|████████████████████████████████████████████████████████████████████████████████████████████████████████████████████████| 89/89 [00:00<00:00, 239.15it/s]\n"
     ]
    },
    {
     "name": "stdout",
     "output_type": "stream",
     "text": [
      "Epoch 32, loss: 0.000, err: 0.010, val_loss: 0.000, val_err: 0.018\n"
     ]
    },
    {
     "name": "stderr",
     "output_type": "stream",
     "text": [
      "100%|████████████████████████████████████████████████████████████████████████████████████████████████████████████████████████| 89/89 [00:00<00:00, 239.47it/s]\n"
     ]
    },
    {
     "name": "stdout",
     "output_type": "stream",
     "text": [
      "Epoch 33, loss: 0.000, err: 0.010, val_loss: 0.000, val_err: 0.018\n"
     ]
    },
    {
     "name": "stderr",
     "output_type": "stream",
     "text": [
      "100%|████████████████████████████████████████████████████████████████████████████████████████████████████████████████████████| 89/89 [00:00<00:00, 241.64it/s]\n"
     ]
    },
    {
     "name": "stdout",
     "output_type": "stream",
     "text": [
      "Epoch 34, loss: 0.000, err: 0.010, val_loss: 0.000, val_err: 0.018\n"
     ]
    },
    {
     "name": "stderr",
     "output_type": "stream",
     "text": [
      "100%|████████████████████████████████████████████████████████████████████████████████████████████████████████████████████████| 89/89 [00:00<00:00, 239.44it/s]\n"
     ]
    },
    {
     "name": "stdout",
     "output_type": "stream",
     "text": [
      "Epoch 35, loss: 0.000, err: 0.010, val_loss: 0.000, val_err: 0.018\n"
     ]
    },
    {
     "name": "stderr",
     "output_type": "stream",
     "text": [
      "100%|████████████████████████████████████████████████████████████████████████████████████████████████████████████████████████| 89/89 [00:00<00:00, 241.12it/s]\n"
     ]
    },
    {
     "name": "stdout",
     "output_type": "stream",
     "text": [
      "Epoch 36, loss: 0.000, err: 0.010, val_loss: 0.000, val_err: 0.018\n"
     ]
    },
    {
     "name": "stderr",
     "output_type": "stream",
     "text": [
      "100%|████████████████████████████████████████████████████████████████████████████████████████████████████████████████████████| 89/89 [00:00<00:00, 239.86it/s]\n"
     ]
    },
    {
     "name": "stdout",
     "output_type": "stream",
     "text": [
      "Epoch 37, loss: 0.000, err: 0.010, val_loss: 0.000, val_err: 0.018\n"
     ]
    },
    {
     "name": "stderr",
     "output_type": "stream",
     "text": [
      "100%|████████████████████████████████████████████████████████████████████████████████████████████████████████████████████████| 89/89 [00:00<00:00, 238.32it/s]\n"
     ]
    },
    {
     "name": "stdout",
     "output_type": "stream",
     "text": [
      "Epoch 38, loss: 0.000, err: 0.010, val_loss: 0.000, val_err: 0.018\n"
     ]
    },
    {
     "name": "stderr",
     "output_type": "stream",
     "text": [
      "100%|████████████████████████████████████████████████████████████████████████████████████████████████████████████████████████| 89/89 [00:00<00:00, 240.06it/s]\n"
     ]
    },
    {
     "name": "stdout",
     "output_type": "stream",
     "text": [
      "Epoch 39, loss: 0.000, err: 0.010, val_loss: 0.000, val_err: 0.019\n"
     ]
    },
    {
     "name": "stderr",
     "output_type": "stream",
     "text": [
      "100%|████████████████████████████████████████████████████████████████████████████████████████████████████████████████████████| 10/10 [00:00<00:00, 352.62it/s]\n"
     ]
    },
    {
     "name": "stdout",
     "output_type": "stream",
     "text": [
      "STATE: [ 0.76671911  0.6768728  -0.02580233 -0.03533132] ACT: [-0.29488377 -0.40378653] \n",
      "STATE: [ 0.74925013  0.65295239 -0.04991138 -0.06834402] ACT: [-0.29488377 -0.40378653] \n",
      "STATE: [ 0.72352757  0.61851403 -0.07349302 -0.09839531] ACT: [-0.30693794 -0.39470128] \n",
      "STATE: [ 0.68992688  0.57437906 -0.09600196 -0.12609991] ACT: [-0.31236487 -0.39042053] \n",
      "STATE: [ 0.64783945  0.52242503 -0.12024979 -0.1484401 ] ACT: [-0.34911953 -0.34989134] \n",
      "STATE: [ 0.59589702  0.47822169 -0.14840694 -0.12629526] ACT: [-0.41198331  0.14175386] \n",
      "STATE: [ 0.53918047  0.43118438 -0.1620473  -0.1343923 ] ACT: [-0.26719507 -0.18725912] \n",
      "STATE: [ 0.4745981   0.37722417 -0.18452106 -0.15417203] ACT: [-0.37837843 -0.32684823] \n",
      "STATE: [ 0.40383257  0.31558602 -0.20218721 -0.17610899] ACT: [-0.34028965 -0.36633721] \n",
      "STATE: [ 0.32762866  0.24646819 -0.21772545 -0.19747952] ACT: [-0.32922027 -0.37631637] \n",
      "STATE: [ 0.24624151  0.17045134 -0.23253471 -0.21719099] ACT: [-0.3325428  -0.37338356] \n",
      "STATE: [ 0.15995742  0.08803643 -0.246526   -0.23547119] ACT: [-0.33430145 -0.37180982] \n",
      "STATE: [ 0.06922866 -0.00047307 -0.25922501 -0.25288427] ACT: [-0.33002601 -0.37560994] \n",
      "final state  [ 0.06922866 -0.00047307]\n",
      "STATE: [ 0.70837646  0.85583947 -0.02562674 -0.03545889] ACT: [-0.29287706 -0.40524441] \n",
      "STATE: [ 0.69102636  0.83183269 -0.04957173 -0.06859078] ACT: [-0.29287706 -0.40524441] \n",
      "STATE: [ 0.66576096  0.79705229 -0.07218686 -0.09937258] ACT: [-0.29563742 -0.40323506] \n",
      "STATE: [ 0.63300287  0.75227686 -0.09359453 -0.12792981] ACT: [-0.29879925 -0.40089775] \n",
      "STATE: [ 0.59591051  0.70149868 -0.10597818 -0.1450805 ] ACT: [-0.21172327 -0.29195525] \n",
      "STATE: [ 0.55466774  0.64594287 -0.1178365  -0.1587309 ] ACT: [-0.21500733 -0.264815  ] \n",
      "STATE: [ 0.51668857  0.59442337 -0.10851189 -0.14719856] ACT: [0.01818959 0.01274998] \n",
      "STATE: [ 0.47766199  0.54140545 -0.11150453 -0.15147976] ACT: [-0.11558546 -0.15932688] \n",
      "STATE: [ 0.45089153  0.50371924 -0.07648702 -0.10767489] ACT: [0.31657168 0.38701728] \n",
      "STATE: [ 0.43808457  0.47775116 -0.03659132 -0.07419451] ACT: [0.39858556 0.30187671] \n",
      "COLLIDED\n",
      "STATE: [ 0.41633397  0.44170827 -0.06214457 -0.1029797 ] ACT: [-0.31948061 -0.38461948] \n",
      "COLLIDED\n",
      "STATE: [ 0.3860382   0.39641084 -0.08655934 -0.12942122] ACT: [-0.32563443 -0.37942353] \n",
      "STATE: [ 0.34779422  0.34243525 -0.1092685  -0.15421597] ACT: [-0.32445276 -0.3804345 ] \n",
      "STATE: [ 0.30200627  0.28045213 -0.13082272 -0.17709462] ACT: [-0.32828529 -0.3771323 ] \n",
      "STATE: [ 0.24911283  0.21103649 -0.15112413 -0.19833042] ACT: [-0.33013317 -0.37551577] \n",
      "STATE: [ 0.18944194  0.1347991  -0.17048824 -0.21782112] ACT: [-0.33464718 -0.37149868] \n",
      "STATE: [ 0.12305395  0.05254609 -0.18967999 -0.2350086 ] ACT: [-0.34720043 -0.3597942 ] \n",
      "STATE: [ 0.07137559 -0.0130268  -0.14765244 -0.18735111] ACT: [0.33805478 0.36840055] \n",
      "final state  [ 0.07137559 -0.0130268 ]\n",
      "STATE: [ 0.68973943  0.71092801 -0.02649356 -0.03406406] ACT: [-0.30278356 -0.38930353] \n",
      "STATE: [ 0.67180247  0.68786558 -0.05124848 -0.06589266] ACT: [-0.30278356 -0.38930353] \n",
      "STATE: [ 0.6464505   0.65604066 -0.07243418 -0.09092834] ACT: [-0.28055859 -0.33554145] \n",
      "STATE: [ 0.61459843  0.61752921 -0.09100592 -0.11003273] ACT: [-0.26657406 -0.28653221] \n",
      "STATE: [ 0.58806215  0.59274865 -0.07581795 -0.0708016 ] ACT: [0.1053223  0.36583128] \n",
      "STATE: [ 0.55850481  0.56616031 -0.08444955 -0.07596667] ACT: [-0.15551032 -0.1121306 ] \n",
      "STATE: [ 0.5396094   0.55390236 -0.05398688 -0.03502273] ACT: [0.2848077  0.41095569] \n",
      "STATE: [ 0.53040754  0.55521638 -0.02629102  0.00375435] ACT: [0.27603386 0.41689964] \n",
      "STATE: [ 5.30263092e-01  5.69211720e-01 -4.12712874e-04  3.99866897e-02] ACT: [0.27603386 0.41689964] \n",
      "STATE: [0.53935518 0.59450885 0.0259774  0.07227751] ACT: [0.30129172 0.39902794] \n",
      "STATE: [0.55705965 0.63037966 0.05058419 0.10248804] ACT: [0.30070354 0.39947138] \n",
      "STATE: [0.5662635  0.65462462 0.02629671 0.06927132] ACT: [-0.23963304 -0.30275366] \n",
      "STATE: [0.5707076  0.67371251 0.01269743 0.05453681] ACT: [-0.13569781 -0.11644094] \n",
      "STATE: [ 0.56747309  0.68239972 -0.00924146  0.02482062] ACT: [-0.24120716 -0.29871094] \n",
      "STATE: [ 0.55706387  0.68136882 -0.02974062 -0.00294544] ACT: [-0.24120716 -0.29871094] \n",
      "STATE: [ 0.5442381   0.67564616 -0.03664505 -0.01635045] ACT: [-0.10121323 -0.15540924] \n",
      "STATE: [ 0.52915437  0.66553964 -0.04309638 -0.02887576] ACT: [-0.10121323 -0.15540924] \n",
      "STATE: [ 0.51561756  0.65648684 -0.03867659 -0.02586517] ACT: [0.01818959 0.01274998] \n",
      "STATE: [ 0.49734264  0.63993642 -0.05221407 -0.0472869 ] ACT: [-0.18372151 -0.2642187 ] \n",
      "STATE: [ 0.49046594  0.63589379 -0.01964773 -0.01155036] ACT: [0.3330262  0.37295248] \n",
      "STATE: [0.49423944 0.64353814 0.01078145 0.02184098] ACT: [0.3330262  0.37295248] \n",
      "STATE: [0.50010593 0.64815557 0.01676139 0.01319267] ACT: [ 0.07642828 -0.08245703] \n",
      "STATE: [ 4.99960957e-01  6.44378289e-01 -4.14207901e-04 -1.07922338e-02] ACT: [-0.18372151 -0.2642187 ] \n",
      "STATE: [ 0.50216611  0.63832364  0.00630045 -0.01729898] ACT: [ 0.07642828 -0.08245703] \n",
      "STATE: [0.51434661 0.64415795 0.03480142 0.01666944] ACT: [0.3304507  0.37523637] \n",
      "STATE: [ 0.52010129  0.64151768  0.01644194 -0.00754362] ACT: [-0.18372151 -0.2642187 ] \n",
      "STATE: [0.53559837 0.6505423  0.04427738 0.02578461] ACT: [0.3304507  0.37523637] \n",
      "STATE: [0.55063552 0.65936514 0.04296326 0.02520812] ACT: [0.01818959 0.01274998] \n",
      "STATE: [0.5652429  0.66799945 0.04173539 0.02466946] ACT: [0.01818959 0.01274998] \n",
      "STATE: [0.57473593 0.67250113 0.02712294 0.01286194] ACT: [-0.13569781 -0.11644094] \n",
      "STATE: [ 0.57621901  0.66755936  0.00423738 -0.01411933] ACT: [-0.24120716 -0.29871094] \n",
      "STATE: [ 0.57344902  0.6593759  -0.00791426 -0.02338133] ACT: [-0.13569781 -0.11644094] \n",
      "STATE: [ 0.56670507  0.64816347 -0.01926845 -0.03203551] ACT: [-0.13569781 -0.11644094] \n",
      "STATE: [ 0.55624794  0.63412085 -0.02987751 -0.04012177] ACT: [-0.13569781 -0.11644094] \n",
      "STATE: [ 0.53913829  0.61172795 -0.04888469 -0.06397972] ACT: [-0.23963304 -0.30275366] \n",
      "STATE: [ 0.53236052  0.60303839 -0.01936507 -0.02482731] ACT: [0.30070354 0.39947138] \n",
      "STATE: [0.53523658 0.6071529  0.00821732 0.01175573] ACT: [0.30070354 0.39947138] \n",
      "STATE: [0.54713294 0.6232312  0.03398962 0.04593801] ACT: [0.30070354 0.39947138] \n",
      "STATE: [0.55090985 0.62898253 0.01079116 0.01643238] ACT: [-0.23963304 -0.30275366] \n",
      "STATE: [ 0.54710013  0.6250846  -0.0108849  -0.01113694] ACT: [-0.23963304 -0.30275366] \n",
      "STATE: [ 0.53620167  0.61217064 -0.03113847 -0.03689702] ACT: [-0.23963304 -0.30275366] \n",
      "STATE: [ 5.35227459e-01  6.12337975e-01 -2.78345127e-03  4.78088798e-04] ACT: [0.30070354 0.39947138] \n",
      "STATE: [0.54352623 0.62472814 0.02371077 0.03540046] ACT: [0.30070354 0.39947138] \n",
      "STATE: [0.54394163 0.62703336 0.00118686 0.00658636] ACT: [-0.23963304 -0.30275366] \n",
      "STATE: [ 0.53699101  0.61991548 -0.01985892 -0.02033682] ACT: [-0.23963304 -0.30275366] \n",
      "STATE: [ 0.52315776  0.60399287 -0.03952357 -0.04549316] ACT: [-0.23963304 -0.30275366] \n",
      "STATE: [ 0.50669252  0.5842358  -0.04704356 -0.05644877] ACT: [-0.11558546 -0.15932688] \n",
      "STATE: [ 0.50092969  0.57768712 -0.0164652  -0.0187105 ] ACT: [0.31418427 0.3889579 ] \n",
      "STATE: [0.50516695 0.58348004 0.01210645 0.01655119] ACT: [0.31418427 0.3889579 ] \n",
      "STATE: [0.51874803 0.60080463 0.03880309 0.04949883] ACT: [0.31418427 0.3889579 ] \n",
      "final state  [0.51874803 0.60080463]\n",
      "STATE: [ 0.62334658  0.68966481 -0.02391833 -0.03096744] ACT: [-0.27335239 -0.35391362] \n",
      "STATE: [ 0.60821105  0.67095167 -0.04324437 -0.05346611] ACT: [-0.23880775 -0.28035322] \n",
      "STATE: [ 0.5875152   0.64573109 -0.05913101 -0.0720588 ] ACT: [-0.21399488 -0.25258752] \n",
      "STATE: [ 0.56162392  0.61443011 -0.07397509 -0.08943135] ACT: [-0.21399488 -0.25258752] \n",
      "STATE: [ 0.53861445  0.58738134 -0.06574132 -0.07728222] ACT: [0.03861897 0.07177378] \n",
      "STATE: [ 0.52632404  0.57434145 -0.03511548 -0.03725682] ACT: [0.30070354 0.39947138] \n",
      "STATE: [ 0.52446207  0.57406914 -0.00531991 -0.00077803] ACT: [0.31418427 0.3889579 ] \n",
      "STATE: [0.53234419 0.58572653 0.02252034 0.03330685] ACT: [0.31418427 0.3889579 ] \n",
      "STATE: [0.54891809 0.60885272 0.047354   0.06607483] ACT: [0.30070354 0.39947138] \n",
      "STATE: [0.57361337 0.64269507 0.07055795 0.09669241] ACT: [0.30070354 0.39947138] \n",
      "STATE: [0.59787073 0.67651458 0.06930675 0.09662718] ACT: [0.03861897 0.07177378] \n",
      "STATE: [0.61569463 0.70416043 0.05092542 0.07898813] ACT: [-0.15809219 -0.12911872] \n",
      "STATE: [0.62397742 0.71915341 0.02366511 0.04283709] ACT: [-0.27335239 -0.35391362] \n",
      "STATE: [ 0.62334523  0.72232388 -0.00180625  0.00905847] ACT: [-0.27335239 -0.35391362] \n",
      "STATE: [ 0.61438311  0.71444767 -0.02560605 -0.02250343] ACT: [-0.27335239 -0.35391362] \n",
      "STATE: [ 0.59763772  0.69624974 -0.04784398 -0.05199409] ACT: [-0.27335239 -0.35391362] \n",
      "STATE: [ 0.57714967  0.67529179 -0.05853729 -0.05987986] ACT: [-0.15809219 -0.12911872] \n",
      "STATE: [ 0.55061918  0.64656118 -0.07580141 -0.08208746] ACT: [-0.24120716 -0.29871094] \n",
      "STATE: [ 0.5263868   0.62010649 -0.06923535 -0.07558484] ACT: [0.01818959 0.01274998] \n",
      "STATE: [ 0.51386473  0.60687949 -0.03577734 -0.0377914 ] ACT: [0.3304507  0.37523637] \n",
      "STATE: [ 0.49862462  0.58964114 -0.04354318 -0.04925245] ACT: [-0.11558546 -0.15932688] \n",
      "STATE: [ 0.48173036  0.56848466 -0.0482693  -0.06044709] ACT: [-0.08667017 -0.16487812] \n",
      "STATE: [ 0.47451759  0.5574077  -0.02060791 -0.03164843] ACT: [0.27992819 0.28379219] \n",
      "STATE: [ 0.47635096  0.55574881  0.0052382  -0.00473969] ACT: [0.27992819 0.28379219] \n",
      "STATE: [0.48775903 0.56605119 0.03259446 0.02943537] ACT: [0.31657168 0.38701728] \n",
      "STATE: [0.50699124 0.58436861 0.05494917 0.05233549] ACT: [0.27992819 0.28379219] \n",
      "STATE: [0.53458322 0.61339579 0.07883425 0.08293479] ACT: [0.31418427 0.3889579 ] \n",
      "STATE: [0.56957353 0.65275187 0.09997232 0.11244594] ACT: [0.30070354 0.39947138] \n",
      "STATE: [0.59811186 0.6859592  0.08153807 0.09487809] ACT: [-0.13569781 -0.11644094] \n",
      "STATE: [0.61993578 0.71303304 0.06235407 0.07735383] ACT: [-0.15809219 -0.12911872] \n",
      "STATE: [0.6319561  0.72749155 0.03434375 0.04131004] ACT: [-0.27335239 -0.35391362] \n",
      "STATE: [0.63481616 0.73016262 0.00817161 0.00763163] ACT: [-0.27335239 -0.35391362] \n",
      "STATE: [ 0.63100451  0.72371727 -0.01089044 -0.01841528] ACT: [-0.21172327 -0.29195525] \n",
      "STATE: [ 0.61907157  0.7068563  -0.03409409 -0.04817422] ACT: [-0.27335239 -0.35391362] \n",
      "STATE: [ 0.59955032  0.68026322 -0.055775   -0.07598023] ACT: [-0.27335239 -0.35391362] \n",
      "STATE: [ 0.57646858  0.65146104 -0.06594783 -0.08229191] ACT: [-0.15809219 -0.12911872] \n",
      "STATE: [ 0.55074584  0.62098301 -0.07349356 -0.08708009] ACT: [-0.13569781 -0.11644094] \n",
      "STATE: [ 0.51937238  0.58323327 -0.08963844 -0.10785641] ACT: [-0.23963304 -0.30275366] \n",
      "STATE: [ 0.4996797   0.55987269 -0.05626479 -0.06674451] ACT: [0.31418427 0.3889579 ] \n",
      "STATE: [ 0.48985216  0.54673629 -0.0280787  -0.03753259] ACT: [0.27992819 0.28379219] \n",
      "STATE: [ 0.49036456  0.54631436  0.00146399 -0.0012055 ] ACT: [0.31657168 0.38701728] \n",
      "STATE: [0.50053833 0.55777253 0.02906793 0.03273762] ACT: [0.31657168 0.38701728] \n",
      "STATE: [0.51966635 0.58039059 0.05465147 0.06462303] ACT: [0.31418427 0.3889579 ] \n",
      "STATE: [0.54716098 0.61343618 0.07855609 0.09441596] ACT: [0.31418427 0.3889579 ] \n",
      "STATE: [0.58206032 0.65654696 0.09971241 0.12317366] ACT: [0.30070354 0.39947138] \n",
      "STATE: [0.61051365 0.69326259 0.08129523 0.10490181] ACT: [-0.13569781 -0.11644094] \n",
      "STATE: [0.63225816 0.7236145  0.06212716 0.08671974] ACT: [-0.15809219 -0.12911872] \n",
      "STATE: [0.64420426 0.74113596 0.03413173 0.05006131] ACT: [-0.27335239 -0.35391362] \n",
      "STATE: [0.64611221 0.7455572  0.00545128 0.01263212] ACT: [-0.30217778 -0.39021626] \n",
      "STATE: [ 0.63864076  0.73773792 -0.02134702 -0.02234079] ACT: [-0.30217778 -0.39021626] \n",
      "final state  [0.63864076 0.73773792]\n",
      "STATE: [ 0.81296568  0.70304637 -0.02474012 -0.03608308] ACT: [-0.28274422 -0.41237811] \n",
      "STATE: [ 0.79588222  0.67885234 -0.04880988 -0.0691258 ] ACT: [-0.2936381 -0.4046933] \n",
      "STATE: [ 0.7712858   0.64400206 -0.07027547 -0.09957224] ACT: [-0.28192846 -0.39980368] \n",
      "STATE: [ 0.73922144  0.59911048 -0.09161248 -0.12826167] ACT: [-0.2965581  -0.40255844] \n",
      "STATE: [ 0.69965008  0.54524445 -0.11306102 -0.15390294] ACT: [-0.31383551 -0.38923935] \n",
      "STATE: [ 0.65006496  0.48622749 -0.14167177 -0.16861988] ACT: [-0.41177576 -0.28362074] \n",
      "STATE: [ 0.58946816  0.42551914 -0.17313372 -0.17345241] ACT: [-0.465819   -0.18169387] \n",
      "STATE: [ 0.51937871  0.36151122 -0.20025556 -0.18287979] ACT: [-0.43981418 -0.2378308 ] \n",
      "STATE: [ 0.44335767  0.29058778 -0.21720298 -0.2026384 ] ACT: [-0.34387642 -0.36297247] \n",
      "STATE: [ 0.36218273  0.21284714 -0.23192842 -0.22211612] ACT: [-0.33119306 -0.37458131] \n",
      "STATE: [ 0.27625006  0.12868568 -0.2455219  -0.2404613 ] ACT: [-0.32930038 -0.37624627] \n",
      "STATE: [ 0.18602024  0.03839662 -0.25779947 -0.25796876] ACT: [-0.32445647 -0.38043134] \n",
      "STATE: [ 0.09303422 -0.05858361 -0.26567436 -0.27708635] ACT: [-0.28334833 -0.41196326] \n",
      "final state  [ 0.09303422 -0.05858361]\n",
      "STATE: [ 0.88810029  0.78727162 -0.02470327 -0.03610832] ACT: [-0.28232307 -0.41266655] \n",
      "STATE: [ 0.87137541  0.76282516 -0.04778539 -0.06984704] ACT: [-0.28232307 -0.41266655] \n",
      "STATE: [ 0.84683704  0.72753045 -0.07010963 -0.10084201] ACT: [-0.29097329 -0.40661351] \n",
      "STATE: [ 0.81492464  0.68215221 -0.09117828 -0.12965213] ACT: [-0.29336678 -0.40489002] \n",
      "STATE: [ 0.77637738  0.62717116 -0.11013504 -0.1570887 ] ACT: [-0.28503234 -0.41079991] \n",
      "STATE: [ 0.73108686  0.56414894 -0.12940147 -0.18006349] ACT: [-0.3027891  -0.38038558] \n",
      "STATE: [ 0.67806796  0.49430946 -0.15148257 -0.19954139] ACT: [-0.34940657 -0.35765213] \n",
      "STATE: [ 0.61763797  0.41828886 -0.17265711 -0.2172017 ] ACT: [-0.35560658 -0.3514882 ] \n",
      "STATE: [ 0.54767949  0.34001979 -0.19988137 -0.22362592] ACT: [-0.44062728 -0.23632097] \n",
      "STATE: [ 0.47180733  0.25574604 -0.21677762 -0.24078214] ACT: [-0.34301097 -0.36379043] \n",
      "STATE: [ 0.390873    0.16544224 -0.23124094 -0.25801085] ACT: [-0.32787832 -0.37748617] \n",
      "STATE: [ 0.30532818  0.06940143 -0.24441378 -0.27440233] ACT: [-0.32397747 -0.38083933] \n",
      "STATE: [ 0.21664663 -0.03290252 -0.25337585 -0.29229699] ACT: [-0.28573399 -0.41031219] \n",
      "final state  [ 0.21664663 -0.03290252]\n",
      "STATE: [ 0.84050224  0.72942641 -0.02466376 -0.03613532] ACT: [-0.28187151 -0.41297512] \n",
      "STATE: [ 0.82341475  0.70523639 -0.04882138 -0.06911434] ACT: [-0.29458494 -0.4040046 ] \n",
      "STATE: [ 0.7987896   0.67000476 -0.0703576  -0.1006618 ] ACT: [-0.28274422 -0.41237811] \n",
      "STATE: [ 0.76684525  0.62464998 -0.09126955 -0.12958507] ACT: [-0.29176195 -0.40604799] \n",
      "STATE: [ 0.72772434  0.57062231 -0.11177403 -0.15436479] ACT: [-0.3027891  -0.38038558] \n",
      "STATE: [ 0.68195622  0.51087259 -0.13076607 -0.17071346] ACT: [-0.30088236 -0.30261562] \n",
      "STATE: [ 0.63078438  0.45111782 -0.14620526 -0.17072793] ACT: [-0.27452243 -0.12820038] \n",
      "STATE: [ 0.56953711  0.39633995 -0.17499219 -0.15650819] ACT: [-0.43864749  0.03446529] \n",
      "STATE: [ 0.50085484  0.33499468 -0.19623506 -0.17527221] ACT: [-0.37401984 -0.331827  ] \n",
      "STATE: [ 0.42634898  0.26637272 -0.21287389 -0.19606275] ACT: [-0.33733433 -0.36906036] \n",
      "STATE: [ 0.34667764  0.19070542 -0.22763238 -0.21619227] ACT: [-0.32832383 -0.37709874] \n",
      "STATE: [ 0.26218887  0.10844727 -0.24139649 -0.23502328] ACT: [-0.32802843 -0.37735573] \n",
      "STATE: [ 0.17678954  0.01770194 -0.2439981  -0.2592724 ] ACT: [-0.21077998 -0.45340027] \n",
      "STATE: [ 0.08796079 -0.07945206 -0.25379644 -0.27758284] ACT: [-0.29497964 -0.4037165 ] \n",
      "final state  [ 0.08796079 -0.07945206]\n",
      "STATE: [ 0.62657079  0.83049479 -0.02633071 -0.03493932] ACT: [-0.30092238 -0.39930655] \n",
      "STATE: [ 0.60874408  0.80683978 -0.05093346 -0.06758575] ACT: [-0.30092238 -0.39930655] \n",
      "STATE: [ 0.58322324  0.77302385 -0.07291667 -0.09661692] ACT: [-0.2894368  -0.38247411] \n",
      "STATE: [ 0.55053315  0.72968462 -0.09340026 -0.12382638] ACT: [-0.28878565 -0.38342791] \n",
      "STATE: [ 0.51306047  0.67790574 -0.10706479 -0.14793964] ACT: [-0.22621621 -0.36844995] \n",
      "STATE: [ 0.47624316  0.62604391 -0.10519233 -0.14817667] ACT: [-0.05889909 -0.11366355] \n",
      "STATE: [ 0.45204091  0.58900718 -0.06914929 -0.10581923] ACT: [0.3330262  0.37295248] \n",
      "STATE: [ 0.43674314  0.55739827 -0.04370789 -0.09031118] ACT: [0.23889692 0.09787043] \n",
      "STATE: [ 0.42264191  0.52537958 -0.04028923 -0.09148197] ACT: [ 0.00628949 -0.08111383] \n",
      "STATE: [ 0.42048824  0.50609154 -0.00615336 -0.05510869] ACT: [0.35990731 0.34708317] \n",
      "STATE: [ 0.42949806  0.4986987   0.02574234 -0.0211224 ] ACT: [0.35990731 0.34708317] \n",
      "STATE: [ 0.42813252  0.48001204 -0.00390155 -0.05339045] ACT: [-0.31948061 -0.38461948] \n",
      "STATE: [ 0.41707249  0.45077272 -0.03160006 -0.08354091] ACT: [-0.31948061 -0.38461948] \n",
      "COLLIDED\n",
      "STATE: [ 0.39720509  0.41146929 -0.05676401 -0.11229551] ACT: [-0.31128796 -0.3912797 ] \n",
      "COLLIDED\n",
      "STATE: [ 0.36870512  0.36309435 -0.08142848 -0.13821413] ACT: [-0.32445276 -0.3804345 ] \n",
      "STATE: [ 0.33202509  0.3063414  -0.10480008 -0.16215128] ACT: [-0.32817529 -0.37722802] \n",
      "STATE: [ 0.28756949  0.24187673 -0.12701602 -0.18418477] ACT: [-0.33249652 -0.37342478] \n",
      "STATE: [ 0.23581701  0.1702346  -0.14786423 -0.20469178] ACT: [-0.33352732 -0.3725044 ] \n",
      "STATE: [ 0.17709459  0.09202392 -0.16777834 -0.22345911] ACT: [-0.33848799 -0.36800256] \n",
      "STATE: [ 0.11211878  0.00744275 -0.18564516 -0.24166047] ACT: [-0.33002601 -0.37560994] \n",
      "STATE: [ 0.06219609 -0.06072184 -0.14263626 -0.19475599] ACT: [0.35229643 0.3548059 ] \n",
      "final state  [ 0.06219609 -0.06072184]\n",
      "STATE: [ 0.88834358  0.78100897 -0.02470327 -0.03610832] ACT: [-0.28232307 -0.41266655] \n",
      "STATE: [ 0.87139103  0.75672131 -0.04843586 -0.06939331] ACT: [-0.2897571  -0.40748107] \n",
      "STATE: [ 0.84691868  0.72138017 -0.06992102 -0.1009747 ] ACT: [-0.28187151 -0.41297512] \n",
      "STATE: [ 0.81506796  0.67595853 -0.09100204 -0.12977611] ACT: [-0.29336678 -0.40489002] \n",
      "STATE: [ 0.77657833  0.62093694 -0.10997036 -0.15720454] ACT: [-0.28503234 -0.41079991] \n",
      "STATE: [ 0.73134167  0.55787683 -0.12924761 -0.18017173] ACT: [-0.3027891  -0.38038558] \n",
      "STATE: [ 0.67837309  0.48800195 -0.15133881 -0.19964252] ACT: [-0.34940657 -0.35765213] \n",
      "STATE: [ 0.61799012  0.41194828 -0.17252277 -0.2172962 ] ACT: [-0.35560658 -0.3514882 ] \n",
      "STATE: [ 0.55009654  0.33074475 -0.19398164 -0.23201009] ACT: [-0.3746363  -0.33113086] \n",
      "STATE: [ 0.47615377  0.24372912 -0.21126506 -0.24861609] ACT: [-0.34301097 -0.36379043] \n",
      "STATE: [ 0.39702223  0.15086337 -0.22609014 -0.2653307 ] ACT: [-0.32787832 -0.37748617] \n",
      "STATE: [ 0.31315328  0.05243605 -0.23962556 -0.28122091] ACT: [-0.32425808 -0.38060044] \n",
      "STATE: [ 0.22603763 -0.05209778 -0.24890185 -0.2986681 ] ACT: [-0.28573399 -0.41031219] \n",
      "final state  [ 0.22603763 -0.05209778]\n",
      "STATE: [ 0.65231539  0.87248662 -0.02565202 -0.0354406 ] ACT: [-0.29316593 -0.40503548] \n",
      "STATE: [ 0.63494817  0.84849222 -0.04962062 -0.06855542] ACT: [-0.29316593 -0.40503548] \n",
      "STATE: [ 0.60982435  0.81360939 -0.07178236 -0.09966522] ACT: [-0.29049244 -0.40695718] \n",
      "STATE: [ 0.57748527  0.76930248 -0.09239736 -0.12659118] ACT: [-0.2894368  -0.38247411] \n",
      "STATE: [ 0.53842438  0.71616073 -0.11160253 -0.15183357] ACT: [-0.28878565 -0.38342791] \n",
      "STATE: [ 0.50586042  0.67028012 -0.09303991 -0.13108745] ACT: [0.12844233 0.12322338] \n",
      "STATE: [ 0.46980699  0.61931873 -0.1030098  -0.14560397] ACT: [-0.18372151 -0.2642187 ] \n",
      "STATE: [ 0.43067515  0.56429116 -0.11180526 -0.15722164] ACT: [-0.17777688 -0.24197627] \n",
      "STATE: [ 0.39430395  0.51039066 -0.10391771 -0.15400143] ACT: [ 0.00628949 -0.08111383] \n",
      "STATE: [ 0.3573128   0.445013   -0.10568901 -0.18679332] ACT: [-0.09818174 -0.49026559] \n",
      "STATE: [ 0.31324955  0.37191618 -0.12589499 -0.20884804] ACT: [-0.31019221 -0.39214894] \n",
      "STATE: [ 0.26197191  0.29211242 -0.14650756 -0.22801076] ACT: [-0.32999347 -0.37563853] \n",
      "STATE: [ 0.2037993   0.20617899 -0.16620746 -0.24552409] ACT: [-0.33502238 -0.37116035] \n",
      "STATE: [ 0.13900184  0.11468546 -0.1851356  -0.26141008] ACT: [-0.34097729 -0.36569727] \n",
      "STATE: [ 0.06766643  0.01833146 -0.20381545 -0.27529715] ACT: [-0.3523357  -0.35476691] \n",
      "STATE: [ 0.0113497  -0.06040272 -0.16090495 -0.22495478] ACT: [0.3375442  0.36886842] \n",
      "final state  [ 0.0113497  -0.06040272]\n",
      "After 16 REWARD:  (0.8150537622607137, array([ 0.19952181,  0.09808822, -0.17147111, -0.19784224]), -0.1613253277561009)\n",
      "UPDATING THE ACTION MATRIX\n"
     ]
    },
    {
     "name": "stderr",
     "output_type": "stream",
     "text": [
      "100%|█████████████████████████████████████████████████████████████████████████████████████████████████████████████████████████| 25/25 [00:03<00:00,  7.05it/s]\n",
      "Generating Dynamics Dataset: 100%|███████████████████████████████████████████████████████████████████████████████████████████| 15/15 [00:00<00:00, 850.29it/s]\n"
     ]
    },
    {
     "name": "stdout",
     "output_type": "stream",
     "text": [
      "COLLIDED\n",
      "COLLIDED\n",
      "COLLIDED\n"
     ]
    },
    {
     "name": "stderr",
     "output_type": "stream",
     "text": [
      "100%|████████████████████████████████████████████████████████████████████████████████████████████████████████████████████████| 98/98 [00:00<00:00, 239.79it/s]\n"
     ]
    },
    {
     "name": "stdout",
     "output_type": "stream",
     "text": [
      "Epoch 1, loss: 0.000, err: 0.010, val_loss: 0.000, val_err: 0.018\n"
     ]
    },
    {
     "name": "stderr",
     "output_type": "stream",
     "text": [
      "100%|████████████████████████████████████████████████████████████████████████████████████████████████████████████████████████| 98/98 [00:00<00:00, 240.40it/s]\n"
     ]
    },
    {
     "name": "stdout",
     "output_type": "stream",
     "text": [
      "Epoch 2, loss: 0.000, err: 0.010, val_loss: 0.000, val_err: 0.018\n"
     ]
    },
    {
     "name": "stderr",
     "output_type": "stream",
     "text": [
      "100%|████████████████████████████████████████████████████████████████████████████████████████████████████████████████████████| 98/98 [00:00<00:00, 239.49it/s]\n"
     ]
    },
    {
     "name": "stdout",
     "output_type": "stream",
     "text": [
      "Epoch 3, loss: 0.000, err: 0.010, val_loss: 0.000, val_err: 0.018\n"
     ]
    },
    {
     "name": "stderr",
     "output_type": "stream",
     "text": [
      "100%|████████████████████████████████████████████████████████████████████████████████████████████████████████████████████████| 98/98 [00:00<00:00, 240.05it/s]\n"
     ]
    },
    {
     "name": "stdout",
     "output_type": "stream",
     "text": [
      "Epoch 4, loss: 0.000, err: 0.010, val_loss: 0.000, val_err: 0.018\n"
     ]
    },
    {
     "name": "stderr",
     "output_type": "stream",
     "text": [
      "100%|████████████████████████████████████████████████████████████████████████████████████████████████████████████████████████| 98/98 [00:00<00:00, 241.15it/s]\n"
     ]
    },
    {
     "name": "stdout",
     "output_type": "stream",
     "text": [
      "Epoch 5, loss: 0.000, err: 0.010, val_loss: 0.000, val_err: 0.018\n"
     ]
    },
    {
     "name": "stderr",
     "output_type": "stream",
     "text": [
      "100%|████████████████████████████████████████████████████████████████████████████████████████████████████████████████████████| 98/98 [00:00<00:00, 239.93it/s]\n"
     ]
    },
    {
     "name": "stdout",
     "output_type": "stream",
     "text": [
      "Epoch 6, loss: 0.000, err: 0.010, val_loss: 0.000, val_err: 0.018\n"
     ]
    },
    {
     "name": "stderr",
     "output_type": "stream",
     "text": [
      "100%|████████████████████████████████████████████████████████████████████████████████████████████████████████████████████████| 98/98 [00:00<00:00, 240.83it/s]\n"
     ]
    },
    {
     "name": "stdout",
     "output_type": "stream",
     "text": [
      "Epoch 7, loss: 0.000, err: 0.010, val_loss: 0.000, val_err: 0.018\n"
     ]
    },
    {
     "name": "stderr",
     "output_type": "stream",
     "text": [
      "100%|████████████████████████████████████████████████████████████████████████████████████████████████████████████████████████| 98/98 [00:00<00:00, 239.07it/s]\n"
     ]
    },
    {
     "name": "stdout",
     "output_type": "stream",
     "text": [
      "Epoch 8, loss: 0.000, err: 0.010, val_loss: 0.000, val_err: 0.018\n"
     ]
    },
    {
     "name": "stderr",
     "output_type": "stream",
     "text": [
      "100%|████████████████████████████████████████████████████████████████████████████████████████████████████████████████████████| 98/98 [00:00<00:00, 241.18it/s]\n"
     ]
    },
    {
     "name": "stdout",
     "output_type": "stream",
     "text": [
      "Epoch 9, loss: 0.000, err: 0.010, val_loss: 0.000, val_err: 0.018\n"
     ]
    },
    {
     "name": "stderr",
     "output_type": "stream",
     "text": [
      "100%|████████████████████████████████████████████████████████████████████████████████████████████████████████████████████████| 98/98 [00:00<00:00, 240.11it/s]\n"
     ]
    },
    {
     "name": "stdout",
     "output_type": "stream",
     "text": [
      "Epoch 10, loss: 0.000, err: 0.010, val_loss: 0.000, val_err: 0.018\n"
     ]
    },
    {
     "name": "stderr",
     "output_type": "stream",
     "text": [
      "100%|████████████████████████████████████████████████████████████████████████████████████████████████████████████████████████| 98/98 [00:00<00:00, 238.24it/s]\n"
     ]
    },
    {
     "name": "stdout",
     "output_type": "stream",
     "text": [
      "Epoch 11, loss: 0.000, err: 0.010, val_loss: 0.000, val_err: 0.018\n"
     ]
    },
    {
     "name": "stderr",
     "output_type": "stream",
     "text": [
      "100%|████████████████████████████████████████████████████████████████████████████████████████████████████████████████████████| 98/98 [00:00<00:00, 239.53it/s]\n"
     ]
    },
    {
     "name": "stdout",
     "output_type": "stream",
     "text": [
      "Epoch 12, loss: 0.000, err: 0.010, val_loss: 0.000, val_err: 0.018\n"
     ]
    },
    {
     "name": "stderr",
     "output_type": "stream",
     "text": [
      "100%|████████████████████████████████████████████████████████████████████████████████████████████████████████████████████████| 98/98 [00:00<00:00, 239.24it/s]\n"
     ]
    },
    {
     "name": "stdout",
     "output_type": "stream",
     "text": [
      "Epoch 13, loss: 0.000, err: 0.010, val_loss: 0.000, val_err: 0.018\n"
     ]
    },
    {
     "name": "stderr",
     "output_type": "stream",
     "text": [
      "100%|████████████████████████████████████████████████████████████████████████████████████████████████████████████████████████| 98/98 [00:00<00:00, 239.94it/s]\n"
     ]
    },
    {
     "name": "stdout",
     "output_type": "stream",
     "text": [
      "Epoch 14, loss: 0.000, err: 0.010, val_loss: 0.000, val_err: 0.018\n"
     ]
    },
    {
     "name": "stderr",
     "output_type": "stream",
     "text": [
      "100%|████████████████████████████████████████████████████████████████████████████████████████████████████████████████████████| 98/98 [00:00<00:00, 240.00it/s]\n"
     ]
    },
    {
     "name": "stdout",
     "output_type": "stream",
     "text": [
      "Epoch 15, loss: 0.000, err: 0.010, val_loss: 0.000, val_err: 0.018\n"
     ]
    },
    {
     "name": "stderr",
     "output_type": "stream",
     "text": [
      "100%|████████████████████████████████████████████████████████████████████████████████████████████████████████████████████████| 98/98 [00:00<00:00, 238.66it/s]\n"
     ]
    },
    {
     "name": "stdout",
     "output_type": "stream",
     "text": [
      "Epoch 16, loss: 0.000, err: 0.010, val_loss: 0.000, val_err: 0.018\n"
     ]
    },
    {
     "name": "stderr",
     "output_type": "stream",
     "text": [
      "100%|████████████████████████████████████████████████████████████████████████████████████████████████████████████████████████| 98/98 [00:00<00:00, 239.40it/s]\n"
     ]
    },
    {
     "name": "stdout",
     "output_type": "stream",
     "text": [
      "Epoch 17, loss: 0.000, err: 0.010, val_loss: 0.000, val_err: 0.018\n"
     ]
    },
    {
     "name": "stderr",
     "output_type": "stream",
     "text": [
      "100%|████████████████████████████████████████████████████████████████████████████████████████████████████████████████████████| 98/98 [00:00<00:00, 239.01it/s]\n"
     ]
    },
    {
     "name": "stdout",
     "output_type": "stream",
     "text": [
      "Epoch 18, loss: 0.000, err: 0.010, val_loss: 0.000, val_err: 0.018\n"
     ]
    },
    {
     "name": "stderr",
     "output_type": "stream",
     "text": [
      "100%|████████████████████████████████████████████████████████████████████████████████████████████████████████████████████████| 98/98 [00:00<00:00, 238.02it/s]\n"
     ]
    },
    {
     "name": "stdout",
     "output_type": "stream",
     "text": [
      "Epoch 19, loss: 0.000, err: 0.010, val_loss: 0.000, val_err: 0.018\n"
     ]
    },
    {
     "name": "stderr",
     "output_type": "stream",
     "text": [
      "100%|████████████████████████████████████████████████████████████████████████████████████████████████████████████████████████| 98/98 [00:00<00:00, 239.67it/s]\n"
     ]
    },
    {
     "name": "stdout",
     "output_type": "stream",
     "text": [
      "Epoch 20, loss: 0.000, err: 0.010, val_loss: 0.000, val_err: 0.018\n"
     ]
    },
    {
     "name": "stderr",
     "output_type": "stream",
     "text": [
      "100%|████████████████████████████████████████████████████████████████████████████████████████████████████████████████████████| 98/98 [00:00<00:00, 242.19it/s]\n"
     ]
    },
    {
     "name": "stdout",
     "output_type": "stream",
     "text": [
      "Epoch 21, loss: 0.000, err: 0.010, val_loss: 0.000, val_err: 0.018\n"
     ]
    },
    {
     "name": "stderr",
     "output_type": "stream",
     "text": [
      "100%|████████████████████████████████████████████████████████████████████████████████████████████████████████████████████████| 98/98 [00:00<00:00, 240.52it/s]\n"
     ]
    },
    {
     "name": "stdout",
     "output_type": "stream",
     "text": [
      "Epoch 22, loss: 0.000, err: 0.010, val_loss: 0.000, val_err: 0.018\n"
     ]
    },
    {
     "name": "stderr",
     "output_type": "stream",
     "text": [
      "100%|████████████████████████████████████████████████████████████████████████████████████████████████████████████████████████| 98/98 [00:00<00:00, 240.42it/s]\n"
     ]
    },
    {
     "name": "stdout",
     "output_type": "stream",
     "text": [
      "Epoch 23, loss: 0.000, err: 0.010, val_loss: 0.000, val_err: 0.018\n"
     ]
    },
    {
     "name": "stderr",
     "output_type": "stream",
     "text": [
      "100%|████████████████████████████████████████████████████████████████████████████████████████████████████████████████████████| 98/98 [00:00<00:00, 238.02it/s]\n"
     ]
    },
    {
     "name": "stdout",
     "output_type": "stream",
     "text": [
      "Epoch 24, loss: 0.000, err: 0.010, val_loss: 0.000, val_err: 0.018\n"
     ]
    },
    {
     "name": "stderr",
     "output_type": "stream",
     "text": [
      "100%|████████████████████████████████████████████████████████████████████████████████████████████████████████████████████████| 98/98 [00:00<00:00, 238.03it/s]\n"
     ]
    },
    {
     "name": "stdout",
     "output_type": "stream",
     "text": [
      "Epoch 25, loss: 0.000, err: 0.010, val_loss: 0.000, val_err: 0.018\n"
     ]
    },
    {
     "name": "stderr",
     "output_type": "stream",
     "text": [
      "100%|████████████████████████████████████████████████████████████████████████████████████████████████████████████████████████| 98/98 [00:00<00:00, 240.01it/s]\n"
     ]
    },
    {
     "name": "stdout",
     "output_type": "stream",
     "text": [
      "Epoch 26, loss: 0.000, err: 0.010, val_loss: 0.000, val_err: 0.018\n"
     ]
    },
    {
     "name": "stderr",
     "output_type": "stream",
     "text": [
      "100%|████████████████████████████████████████████████████████████████████████████████████████████████████████████████████████| 98/98 [00:00<00:00, 240.02it/s]\n"
     ]
    },
    {
     "name": "stdout",
     "output_type": "stream",
     "text": [
      "Epoch 27, loss: 0.000, err: 0.010, val_loss: 0.000, val_err: 0.018\n"
     ]
    },
    {
     "name": "stderr",
     "output_type": "stream",
     "text": [
      "100%|████████████████████████████████████████████████████████████████████████████████████████████████████████████████████████| 98/98 [00:00<00:00, 239.71it/s]\n"
     ]
    },
    {
     "name": "stdout",
     "output_type": "stream",
     "text": [
      "Epoch 28, loss: 0.000, err: 0.010, val_loss: 0.000, val_err: 0.018\n"
     ]
    },
    {
     "name": "stderr",
     "output_type": "stream",
     "text": [
      "100%|████████████████████████████████████████████████████████████████████████████████████████████████████████████████████████| 98/98 [00:00<00:00, 242.10it/s]\n"
     ]
    },
    {
     "name": "stdout",
     "output_type": "stream",
     "text": [
      "Epoch 29, loss: 0.000, err: 0.010, val_loss: 0.000, val_err: 0.018\n"
     ]
    },
    {
     "name": "stderr",
     "output_type": "stream",
     "text": [
      "100%|████████████████████████████████████████████████████████████████████████████████████████████████████████████████████████| 98/98 [00:00<00:00, 239.89it/s]\n"
     ]
    },
    {
     "name": "stdout",
     "output_type": "stream",
     "text": [
      "Epoch 30, loss: 0.000, err: 0.009, val_loss: 0.000, val_err: 0.018\n"
     ]
    },
    {
     "name": "stderr",
     "output_type": "stream",
     "text": [
      "100%|████████████████████████████████████████████████████████████████████████████████████████████████████████████████████████| 98/98 [00:00<00:00, 235.92it/s]\n"
     ]
    },
    {
     "name": "stdout",
     "output_type": "stream",
     "text": [
      "Epoch 31, loss: 0.000, err: 0.010, val_loss: 0.000, val_err: 0.018\n"
     ]
    },
    {
     "name": "stderr",
     "output_type": "stream",
     "text": [
      "100%|████████████████████████████████████████████████████████████████████████████████████████████████████████████████████████| 98/98 [00:00<00:00, 234.21it/s]\n"
     ]
    },
    {
     "name": "stdout",
     "output_type": "stream",
     "text": [
      "Epoch 32, loss: 0.000, err: 0.010, val_loss: 0.000, val_err: 0.018\n"
     ]
    },
    {
     "name": "stderr",
     "output_type": "stream",
     "text": [
      "100%|████████████████████████████████████████████████████████████████████████████████████████████████████████████████████████| 98/98 [00:00<00:00, 237.76it/s]\n"
     ]
    },
    {
     "name": "stdout",
     "output_type": "stream",
     "text": [
      "Epoch 33, loss: 0.000, err: 0.010, val_loss: 0.000, val_err: 0.018\n"
     ]
    },
    {
     "name": "stderr",
     "output_type": "stream",
     "text": [
      "100%|████████████████████████████████████████████████████████████████████████████████████████████████████████████████████████| 98/98 [00:00<00:00, 238.94it/s]\n"
     ]
    },
    {
     "name": "stdout",
     "output_type": "stream",
     "text": [
      "Epoch 34, loss: 0.000, err: 0.010, val_loss: 0.000, val_err: 0.018\n"
     ]
    },
    {
     "name": "stderr",
     "output_type": "stream",
     "text": [
      "100%|████████████████████████████████████████████████████████████████████████████████████████████████████████████████████████| 98/98 [00:00<00:00, 238.89it/s]\n"
     ]
    },
    {
     "name": "stdout",
     "output_type": "stream",
     "text": [
      "Epoch 35, loss: 0.000, err: 0.009, val_loss: 0.000, val_err: 0.018\n"
     ]
    },
    {
     "name": "stderr",
     "output_type": "stream",
     "text": [
      "100%|████████████████████████████████████████████████████████████████████████████████████████████████████████████████████████| 98/98 [00:00<00:00, 238.93it/s]\n"
     ]
    },
    {
     "name": "stdout",
     "output_type": "stream",
     "text": [
      "Epoch 36, loss: 0.000, err: 0.009, val_loss: 0.000, val_err: 0.018\n"
     ]
    },
    {
     "name": "stderr",
     "output_type": "stream",
     "text": [
      "100%|████████████████████████████████████████████████████████████████████████████████████████████████████████████████████████| 98/98 [00:00<00:00, 240.53it/s]\n"
     ]
    },
    {
     "name": "stdout",
     "output_type": "stream",
     "text": [
      "Epoch 37, loss: 0.000, err: 0.010, val_loss: 0.000, val_err: 0.018\n"
     ]
    },
    {
     "name": "stderr",
     "output_type": "stream",
     "text": [
      "100%|████████████████████████████████████████████████████████████████████████████████████████████████████████████████████████| 98/98 [00:00<00:00, 237.72it/s]\n"
     ]
    },
    {
     "name": "stdout",
     "output_type": "stream",
     "text": [
      "Epoch 38, loss: 0.000, err: 0.010, val_loss: 0.000, val_err: 0.018\n"
     ]
    },
    {
     "name": "stderr",
     "output_type": "stream",
     "text": [
      "100%|████████████████████████████████████████████████████████████████████████████████████████████████████████████████████████| 98/98 [00:00<00:00, 239.43it/s]\n"
     ]
    },
    {
     "name": "stdout",
     "output_type": "stream",
     "text": [
      "Epoch 39, loss: 0.000, err: 0.010, val_loss: 0.000, val_err: 0.018\n"
     ]
    },
    {
     "name": "stderr",
     "output_type": "stream",
     "text": [
      "100%|████████████████████████████████████████████████████████████████████████████████████████████████████████████████████████| 10/10 [00:00<00:00, 201.84it/s]\n"
     ]
    },
    {
     "name": "stdout",
     "output_type": "stream",
     "text": [
      "STATE: [ 0.62924458  0.76757721 -0.02492765 -0.03114817] ACT: [-0.28488739 -0.3559791 ] \n",
      "STATE: [ 0.61236778  0.74648892 -0.04821942 -0.06025224] ACT: [-0.28488739 -0.3559791 ] \n",
      "STATE: [ 0.58745021  0.71450526 -0.07119305 -0.09138189] ACT: [-0.29872034 -0.40095655] \n",
      "STATE: [ 0.55416483  0.67302691 -0.09510109 -0.11850958] ACT: [-0.32662957 -0.3785672 ] \n",
      "STATE: [ 0.52052525  0.62943646 -0.09611309 -0.12454415] ACT: [-0.08289157 -0.15784867] \n",
      "STATE: [ 0.47920232  0.57701724 -0.11806552 -0.14976919] ACT: [-0.3229697  -0.38169435] \n",
      "STATE: [ 0.45200448  0.53818879 -0.07770811 -0.11093842] ACT: [0.37267844 0.33145333] \n",
      "STATE: [ 0.43746613  0.51268877 -0.04153814 -0.07285721] ACT: [0.35508997 0.3520101 ] \n",
      "STATE: [ 0.43569563  0.49860423 -0.00505856 -0.04024154] ACT: [0.38575589 0.31810752] \n",
      "STATE: [ 0.44701486  0.47731009  0.03234063 -0.06084038] ACT: [ 0.42362544 -0.26559647] \n",
      "STATE: [ 0.46800799  0.46863677  0.05998037 -0.02478092] ACT: [0.34013816 0.36647787] \n",
      "STATE: [ 0.47715788  0.44935477  0.02614257 -0.05509144] ACT: [-0.34173246 -0.36499168] \n",
      "STATE: [ 0.49441946  0.44393065  0.04931879 -0.01549747] ACT: [0.284478   0.41118398] \n",
      "STATE: [0.51926038 0.45145501 0.07097407 0.02149815] ACT: [0.284478   0.41118398] \n",
      "STATE: [0.54190486 0.47295704 0.0646985  0.06143439] ACT: [-0.01849017  0.47253778] \n",
      "STATE: [0.55917817 0.49638142 0.04935232 0.06692679] ACT: [-0.12686107  0.10884602] \n",
      "STATE: [0.58401635 0.53087055 0.07096624 0.09854037] ACT: [0.28403047 0.41149325] \n",
      "STATE: [0.61631267 0.57542023 0.09227518 0.1272848 ] ACT: [0.29675548 0.40241295] \n",
      "STATE: [0.64440404 0.62820017 0.08026105 0.15079983] ACT: [-0.068098    0.36420682] \n",
      "STATE: [0.67413567 0.68650149 0.08494752 0.1665752 ] ACT: [0.11375548 0.29338985] \n",
      "STATE: [0.69612323 0.73481534 0.0628216  0.13803958] ACT: [-0.18915712 -0.20119003] \n",
      "STATE: [0.70697486 0.76810454 0.03100465 0.09511202] ACT: [-0.31650599 -0.387071  ] \n",
      "STATE: [0.70756217 0.78724133 0.00167805 0.05467653] ACT: [-0.31190767 -0.39078588] \n",
      "STATE: [ 0.69848266  0.79321559 -0.02594146  0.01706932] ACT: [-0.314393  -0.3887892] \n",
      "STATE: [ 0.68047779  0.78680533 -0.0514425  -0.01831504] ACT: [-0.31089652 -0.3915908 ] \n",
      "STATE: [ 0.65413328  0.76882327 -0.07527003 -0.05137731] ACT: [-0.31089652 -0.3915908 ] \n",
      "STATE: [ 0.62046836  0.74073842 -0.09618548 -0.08024243] ACT: [-0.29548626 -0.36841998] \n",
      "STATE: [ 0.58018326  0.70360514 -0.11510029 -0.10609508] ACT: [-0.2883084  -0.35564072] \n",
      "STATE: [ 0.5382594   0.66224387 -0.11978246 -0.11817505] ACT: [-0.13983576 -0.21762805] \n",
      "STATE: [ 0.50970682  0.63462815 -0.08157879 -0.07890207] ACT: [0.34677655 0.36020275] \n",
      "STATE: [ 0.47313706  0.59713532 -0.10448503 -0.10712237] ACT: [-0.3229697  -0.38169435] \n",
      "STATE: [ 0.44994739  0.57277572 -0.06625621 -0.06959885] ACT: [0.35853707 0.34849845] \n",
      "STATE: [ 0.4249088   0.54420729 -0.07153882 -0.08162409] ACT: [-0.1100649  -0.18963042] \n",
      "STATE: [ 0.41377366  0.52668742 -0.03181469 -0.05005676] ACT: [0.40033604 0.29955143] \n",
      "STATE: [ 0.40483221  0.49835558 -0.02554699 -0.08094813] ACT: [ 0.04776974 -0.39058684] \n",
      "STATE: [ 0.38895905  0.45854341 -0.04535189 -0.11374905] ACT: [-0.24550196 -0.43557868] \n",
      "COLLIDED\n",
      "STATE: [ 0.36405739  0.40980857 -0.0711476  -0.13924241] ACT: [-0.32882196 -0.37666446] \n",
      "STATE: [ 0.33032115  0.35309707 -0.09638926 -0.16203285] ACT: [-0.34183679 -0.36489397] \n",
      "STATE: [ 0.28819777  0.28905784 -0.1203525  -0.18296923] ACT: [-0.34615761 -0.3607976 ] \n",
      "STATE: [ 0.23811902  0.21828683 -0.14308216 -0.20220288] ACT: [-0.35003194 -0.35704011] \n",
      "STATE: [ 0.18049073  0.14134097 -0.16465224 -0.2198453 ] ACT: [-0.35382674 -0.35327983] \n",
      "STATE: [ 0.11540727  0.05904269 -0.18595275 -0.23513796] ACT: [-0.36692366 -0.33965723] \n",
      "STATE: [ 0.06320696 -0.00519361 -0.14914373 -0.18353228] ACT: [0.28121005 0.41342582] \n",
      "final state  [ 0.06320696 -0.00519361]\n",
      "STATE: [ 0.64711226  0.76427358 -0.02585505 -0.03223675] ACT: [-0.29548626 -0.36841998] \n",
      "STATE: [ 0.62960758  0.74244829 -0.05001336 -0.06235796] ACT: [-0.29548626 -0.36841998] \n",
      "STATE: [ 0.60442221  0.71116379 -0.07195822 -0.08938428] ACT: [-0.2883084  -0.35564072] \n",
      "STATE: [ 0.57088659  0.67033872 -0.09581605 -0.11664307] ACT: [-0.32662957 -0.3785672 ] \n",
      "STATE: [ 0.54203848  0.63570899 -0.08242317 -0.09894208] ACT: [0.08119943 0.11481474] \n",
      "STATE: [ 0.52571207  0.61405402 -0.04664691 -0.06187133] ACT: [0.34705419 0.34945908] \n",
      "STATE: [ 0.51889492  0.60209302 -0.01947755 -0.03417429] ACT: [0.27552177 0.27013417] \n",
      "STATE: [ 0.52096301  0.59918982  0.00590882 -0.00829486] ACT: [0.27552177 0.27013417] \n",
      "STATE: [0.53133323 0.60475    0.02962921 0.01588623] ACT: [0.27552177 0.27013417] \n",
      "STATE: [ 0.53088882  0.59846606 -0.00126975 -0.01795412] ACT: [-0.33090906 -0.37483222] \n",
      "STATE: [ 0.52033948  0.58111526 -0.03014097 -0.0495737 ] ACT: [-0.33090906 -0.37483222] \n",
      "STATE: [ 0.52064346  0.57635853  0.00086849 -0.01359067] ACT: [0.3317881  0.37405435] \n",
      "STATE: [0.53108849 0.58336937 0.02984296 0.02003097] ACT: [0.3317881  0.37405435] \n",
      "STATE: [0.55053699 0.6017775  0.05556714 0.05259467] ACT: [0.31637282 0.38717985] \n",
      "STATE: [0.55857509 0.60749837 0.022966   0.01634533] ACT: [-0.33090906 -0.37483222] \n",
      "STATE: [0.57499634 0.62420375 0.04691786 0.04772967] ACT: [0.29096004 0.37093712] \n",
      "STATE: [0.58031729 0.62823619 0.0152027  0.01152125] ACT: [-0.32727056 -0.3780132 ] \n",
      "STATE: [ 0.57526638  0.62042734 -0.01443115 -0.02231099] ACT: [-0.32727056 -0.3780132 ] \n",
      "STATE: [ 0.56052429  0.6015543  -0.04212028 -0.05392298] ACT: [-0.32727056 -0.3780132 ] \n",
      "STATE: [ 0.55566029  0.59527975 -0.01389713 -0.01792729] ACT: [0.29096004 0.37093712] \n",
      "STATE: [ 0.5409814   0.57793773 -0.04193968 -0.04954863] ACT: [-0.33090906 -0.37483222] \n",
      "STATE: [ 0.53695474  0.57359116 -0.01150476 -0.01241876] ACT: [0.31637282 0.38717985] \n",
      "STATE: [0.54288124 0.58138722 0.01693286 0.02227445] ACT: [0.31637282 0.38717985] \n",
      "STATE: [0.55810773 0.60052904 0.04350426 0.05469093] ACT: [0.31637282 0.38717985] \n",
      "STATE: [0.58124563 0.62977464 0.0661083  0.08355884] ACT: [0.29096004 0.37093712] \n",
      "STATE: [0.59284245 0.64552433 0.03313377 0.04499913] ACT: [-0.32727056 -0.3780132 ] \n",
      "STATE: [0.59532254 0.65090535 0.00708597 0.01537434] ACT: [-0.27283882 -0.30481969] \n",
      "STATE: [ 0.58928419  0.64659814 -0.01725244 -0.01230632] ACT: [-0.27283882 -0.30481969] \n",
      "STATE: [ 0.57528641  0.63323848 -0.03999365 -0.03817044] ACT: [-0.27283882 -0.30481969] \n",
      "STATE: [ 0.55218458  0.6091789  -0.06600524 -0.06874166] ACT: [-0.32727056 -0.3780132 ] \n",
      "STATE: [ 0.52046471  0.57521899 -0.09062819 -0.09702831] ACT: [-0.33090906 -0.37483222] \n",
      "STATE: [ 0.50098747  0.55494312 -0.05564926 -0.05793107] ACT: [0.3317881  0.37405435] \n",
      "STATE: [ 0.49265616  0.54770684 -0.02380374 -0.02067509] ACT: [0.32221176 0.38233438] \n",
      "STATE: [0.495051   0.55238451 0.0068424  0.01336477] ACT: [0.33238889 0.37352058] \n",
      "STATE: [0.50746809 0.56819427 0.0354774  0.04517075] ACT: [0.33238889 0.37352058] \n",
      "STATE: [0.52923132 0.59442193 0.06218065 0.07493618] ACT: [0.3317881  0.37405435] \n",
      "STATE: [0.53943225 0.60744917 0.02914551 0.03722067] ACT: [-0.33090906 -0.37483222] \n",
      "STATE: [ 0.53882965  0.60814225 -0.00172171  0.00198025] ACT: [-0.33090906 -0.37483222] \n",
      "STATE: [ 0.5281325   0.59731062 -0.03056327 -0.03094752] ACT: [-0.33090906 -0.37483222] \n",
      "STATE: [ 0.52657522  0.59546267 -0.0044494  -0.00527985] ACT: [0.27552177 0.27013417] \n",
      "STATE: [0.53355798 0.60200885 0.01995075 0.01870338] ACT: [0.27552177 0.27013417] \n",
      "STATE: [ 0.52994841  0.59664621 -0.01031306 -0.01532185] ACT: [-0.33090906 -0.37483222] \n",
      "STATE: [ 0.51644162  0.58015624 -0.03859081 -0.04711417] ACT: [-0.33090906 -0.37483222] \n",
      "STATE: [ 0.51398223  0.57620385 -0.00702683 -0.01129255] ACT: [0.3317881  0.37405435] \n",
      "STATE: [0.52184525 0.58396625 0.02246577 0.02217828] ACT: [0.3317881  0.37405435] \n",
      "STATE: [0.53935327 0.60267465 0.05002291 0.05345258] ACT: [0.3317881  0.37405435] \n",
      "STATE: [0.54557823 0.60867608 0.01778561 0.01714694] ACT: [-0.33090906 -0.37483222] \n",
      "STATE: [ 0.54126059  0.60280443 -0.01233611 -0.01677615] ACT: [-0.33090906 -0.37483222] \n",
      "STATE: [ 0.52709221  0.58583887 -0.0404811  -0.04847303] ACT: [-0.33090906 -0.37483222] \n",
      "STATE: [ 0.52229148  0.57825953 -0.01371637 -0.02165525] ACT: [0.27552177 0.27013417] \n",
      "final state  [0.52229148 0.57825953]\n",
      "STATE: [ 0.61803701  0.76088768 -0.02492765 -0.03114817] ACT: [-0.28488739 -0.3559791 ] \n",
      "STATE: [ 0.60116021  0.73979939 -0.04821942 -0.06025224] ACT: [-0.28488739 -0.3559791 ] \n",
      "STATE: [ 0.57624264  0.70781573 -0.07119305 -0.09138189] ACT: [-0.29872034 -0.40095655] \n",
      "STATE: [ 0.54867782  0.67126614 -0.07875663 -0.10442741] ACT: [-0.13983576 -0.21762805] \n",
      "STATE: [ 0.53354197  0.64814632 -0.04324528 -0.06605662] ACT: [0.34677655 0.36020275] \n",
      "STATE: [ 0.53001945  0.63757496 -0.01006436 -0.03020391] ACT: [0.34677655 0.36020275] \n",
      "STATE: [0.53735662 0.63839952 0.02096335 0.00235589] ACT: [0.34705419 0.34945908] \n",
      "STATE: [0.55484083 0.64987215 0.04995488 0.03277896] ACT: [0.34705419 0.34945908] \n",
      "STATE: [0.58179767 0.6716231  0.07701954 0.06214558] ACT: [0.34677655 0.36020275] \n",
      "STATE: [0.61188085 0.69686664 0.08595196 0.07212439] ACT: [0.15984945 0.16065274] \n",
      "STATE: [0.62962345 0.70918366 0.05069314 0.03519148] ACT: [-0.33849391 -0.36799711] \n",
      "STATE: [0.64319405 0.71623294 0.03877314 0.02014081] ACT: [-0.09820871 -0.14561405] \n",
      "STATE: [ 0.64662077  0.71139878  0.00979062 -0.01381189] ACT: [-0.30214896 -0.37292524] \n",
      "STATE: [ 0.64056929  0.69546102 -0.01728992 -0.04553644] ACT: [-0.30214896 -0.37292524] \n",
      "STATE: [ 0.63239235  0.6784369  -0.02336269 -0.04864036] ACT: [-0.08237046 -0.06962569] \n",
      "STATE: [ 0.62222943  0.66039769 -0.02903693 -0.05154059] ACT: [-0.08237046 -0.06962569] \n",
      "STATE: [ 0.60476523  0.63459261 -0.0498977  -0.0737288 ] ACT: [-0.26018652 -0.29223506] \n",
      "STATE: [ 0.58869503  0.61544123 -0.04591485 -0.05471821] ACT: [0.00809505 0.16196735] \n",
      "STATE: [ 0.57392736  0.60250692 -0.04219337 -0.03695518] ACT: [0.00809505 0.16196735] \n",
      "STATE: [ 0.56903946  0.60178137 -0.01396542 -0.002073  ] ACT: [0.29096004 0.37093712] \n",
      "STATE: [0.57338298 0.61246338 0.01241006 0.03052004] ACT: [0.29096004 0.37093712] \n",
      "STATE: [0.58635211 0.63380434 0.03705465 0.06097416] ACT: [0.29096004 0.37093712] \n",
      "STATE: [0.59871805 0.65870504 0.03533126 0.07114487] ACT: [0.00809505 0.16196735] \n",
      "STATE: [0.60191678 0.67263654 0.00913925 0.03980427] ACT: [-0.27283882 -0.30481969] \n",
      "STATE: [ 0.59453923  0.67438386 -0.02107873  0.00499236] ACT: [-0.33849391 -0.36799711] \n",
      "STATE: [ 0.57727945  0.66474661 -0.04931366 -0.02753501] ACT: [-0.33849391 -0.36799711] \n",
      "STATE: [ 0.56363907  0.65925801 -0.0389725  -0.01568173] ACT: [0.08119943 0.11481474] \n",
      "STATE: [ 0.55338058  0.65764579 -0.02930998 -0.00460633] ACT: [0.08119943 0.11481474] \n",
      "STATE: [0.55441533 0.66717059 0.00295644 0.0272137 ] ACT: [0.34677655 0.36020275] \n",
      "STATE: [0.56600221 0.68710153 0.03310537 0.05694554] ACT: [0.34677655 0.36020275] \n",
      "STATE: [0.58172409 0.71064449 0.04491966 0.06726561] ACT: [0.15984945 0.16065274] \n",
      "STATE: [0.59213175 0.72597759 0.02973617 0.04380885] ACT: [-0.13983576 -0.21762805] \n",
      "STATE: [ 0.59185338  0.72871083 -0.00079535  0.00780926] ACT: [-0.32662957 -0.3785672 ] \n",
      "STATE: [ 0.58244497  0.71898541 -0.02688118 -0.02778692] ACT: [-0.29872034 -0.40095655] \n",
      "STATE: [ 0.56937151  0.70323336 -0.03735274 -0.04500586] ACT: [-0.13983576 -0.21762805] \n",
      "STATE: [ 0.55287353  0.68185018 -0.04713709 -0.0610948 ] ACT: [-0.13983576 -0.21762805] \n",
      "STATE: [ 0.53491967  0.65703615 -0.05129673 -0.07089721] ACT: [-0.08289157 -0.15784867] \n",
      "STATE: [ 0.52876407  0.64488176 -0.01758744 -0.03472684] ACT: [0.34677655 0.36020275] \n",
      "STATE: [ 0.53363246  0.6445562   0.01390969 -0.00093015] ACT: [0.34677655 0.36020275] \n",
      "STATE: [0.54880139 0.65528322 0.04333981 0.03064863] ACT: [0.34677655 0.36020275] \n",
      "STATE: [0.5735949  0.67633749 0.07083859 0.06015505] ACT: [0.34677655 0.36020275] \n",
      "STATE: [0.60165672 0.70093007 0.08017663 0.07026449] ACT: [0.15984945 0.16065274] \n",
      "STATE: [0.61787395 0.71231513 0.04633495 0.03252876] ACT: [-0.32662957 -0.3785672 ] \n",
      "STATE: [0.63001929 0.71849362 0.03470096 0.01765283] ACT: [-0.09820871 -0.14561405] \n",
      "STATE: [0.63835994 0.71980722 0.02383044 0.00375313] ACT: [-0.09820871 -0.14561405] \n",
      "STATE: [ 0.6431456   0.71657518  0.01367331 -0.0092344 ] ACT: [-0.09820871 -0.14561405] \n",
      "STATE: [ 0.63836389  0.7021344  -0.01366204 -0.04125935] ACT: [-0.30214896 -0.37292524] \n",
      "STATE: [ 0.63088833  0.68418188 -0.02135873 -0.05129293] ACT: [-0.09820871 -0.14561405] \n",
      "STATE: [ 0.62138077  0.6652752  -0.02716448 -0.05401908] ACT: [-0.08237046 -0.06962569] \n",
      "STATE: [ 0.60452892  0.63865957 -0.04814813 -0.07604465] ACT: [-0.26018652 -0.29223506] \n",
      "final state  [0.60452892 0.63865957]\n",
      "STATE: [ 0.64100269  0.75841592 -0.02585505 -0.03223675] ACT: [-0.29548626 -0.36841998] \n",
      "STATE: [ 0.6238226   0.73697163 -0.04908596 -0.06126938] ACT: [-0.28488739 -0.3559791 ] \n",
      "STATE: [ 0.59894052  0.70604313 -0.07109168 -0.08836714] ACT: [-0.2883084  -0.35564072] \n",
      "STATE: [ 0.56568829  0.6655507  -0.09500637 -0.11569268] ACT: [-0.32662957 -0.3785672 ] \n",
      "STATE: [ 0.53710497  0.63123178 -0.08166663 -0.09805406] ACT: [0.08119943 0.11481474] \n",
      "STATE: [ 0.52102596  0.60986722 -0.04594002 -0.06104159] ACT: [0.34705419 0.34945908] \n",
      "STATE: [ 0.51443999  0.59817757 -0.01881705 -0.033399  ] ACT: [0.27552177 0.27013417] \n",
      "STATE: [ 0.51672409  0.59552792  0.00652598 -0.00757045] ACT: [0.27552177 0.27013417] \n",
      "STATE: [0.52729614 0.601325   0.03020586 0.0165631 ] ACT: [0.27552177 0.27013417] \n",
      "STATE: [0.54561225 0.61501451 0.05233176 0.03911289] ACT: [0.27552177 0.27013417] \n",
      "STATE: [0.57335491 0.63850783 0.07926473 0.06712378] ACT: [0.34705419 0.34945908] \n",
      "STATE: [0.58925429 0.64888275 0.04542681 0.02964262] ACT: [-0.32727056 -0.3780132 ] \n",
      "STATE: [0.59575459 0.64924171 0.01857228 0.0010256 ] ACT: [-0.27283882 -0.30481969] \n",
      "STATE: [ 0.59347262  0.64024201 -0.00651992 -0.02571343] ACT: [-0.27283882 -0.30481969] \n",
      "STATE: [ 0.59158831  0.63679317 -0.00538374 -0.00985384] ACT: [0.00809505 0.16196735] \n",
      "STATE: [ 0.59007557  0.63853091 -0.00432211  0.00496496] ACT: [0.00809505 0.16196735] \n",
      "STATE: [ 0.58891001  0.64511485 -0.00333016  0.01881128] ACT: [0.00809505 0.16196735] \n",
      "STATE: [ 0.57946526  0.64193163 -0.02698501 -0.00909493] ACT: [-0.27283882 -0.30481969] \n",
      "STATE: [ 0.56061765  0.62738065 -0.0538503  -0.04157423] ACT: [-0.32727056 -0.3780132 ] \n",
      "STATE: [ 0.53298426  0.60220792 -0.07895254 -0.07192208] ACT: [-0.32727056 -0.3780132 ] \n",
      "STATE: [ 0.49703022  0.56720791 -0.10272583 -0.10000001] ACT: [-0.33090906 -0.37483222] \n",
      "STATE: [ 0.47484895  0.54465554 -0.06337508 -0.06443535] ACT: [0.37267844 0.33145333] \n",
      "STATE: [ 0.46430272  0.53502224 -0.03013206 -0.02752373] ACT: [0.33238889 0.37352058] \n",
      "STATE: [0.46532323 0.53680143 0.00291573 0.0050834 ] ACT: [0.35508997 0.3520101 ] \n",
      "STATE: [0.47715139 0.54924417 0.03379475 0.03555069] ACT: [0.35508997 0.3520101 ] \n",
      "STATE: [0.49838274 0.57230942 0.060661   0.06590073] ACT: [0.33238889 0.37352058] \n",
      "STATE: [0.52963406 0.60401178 0.08928949 0.09057816] ACT: [0.37267844 0.33145333] \n",
      "STATE: [0.54870043 0.62215443 0.05447532 0.05183615] ACT: [-0.33090906 -0.37483222] \n",
      "STATE: [0.57714409 0.64980865 0.08126762 0.07901207] ACT: [0.34705419 0.34945908] \n",
      "STATE: [0.60620788 0.67916427 0.08303938 0.08387319] ACT: [0.08119943 0.11481474] \n",
      "STATE: [0.62299798 0.69532351 0.04797171 0.04616927] ACT: [-0.33849391 -0.36799711] \n",
      "STATE: [0.63616363 0.70829002 0.03761615 0.03704716] ACT: [-0.08237046 -0.06962569] \n",
      "STATE: [0.64545764 0.71594617 0.02655433 0.02187471] ACT: [-0.09820871 -0.14561405] \n",
      "STATE: [ 0.64488842  0.71167905 -0.00162634 -0.01219178] ACT: [-0.30214896 -0.37292524] \n",
      "STATE: [ 0.63510325  0.69627112 -0.02795764 -0.04402265] ACT: [-0.30214896 -0.37292524] \n",
      "STATE: [ 0.62343763  0.67974205 -0.03333034 -0.04722591] ACT: [-0.08237046 -0.06962569] \n",
      "STATE: [ 0.61001497  0.66216541 -0.03835045 -0.05021896] ACT: [-0.08237046 -0.06962569] \n",
      "STATE: [ 0.58911749  0.63640714 -0.0597071  -0.07359506] ACT: [-0.27283882 -0.30481969] \n",
      "STATE: [ 0.56983931  0.61729951 -0.0550805  -0.05459324] ACT: [0.00809505 0.16196735] \n",
      "STATE: [ 0.54180361  0.58786916 -0.08010202 -0.08408672] ACT: [-0.32727056 -0.3780132 ] \n",
      "STATE: [ 0.50547365  0.54889093 -0.10379987 -0.11136635] ACT: [-0.33090906 -0.37483222] \n",
      "STATE: [ 0.48139559  0.52417965 -0.06879447 -0.07060367] ACT: [0.32221176 0.38233438] \n",
      "STATE: [ 0.46908196  0.51252475 -0.0351818  -0.03329972] ACT: [0.33254893 0.3733781 ] \n",
      "STATE: [ 0.45572983  0.49163102 -0.03814893 -0.05969637] ACT: [-0.0602964  -0.32665077] \n",
      "STATE: [ 0.45367067  0.48333183 -0.00588332 -0.02371198] ACT: [0.34013816 0.36647787] \n",
      "STATE: [0.46216337 0.48680065 0.02426486 0.00991093] ACT: [0.34013816 0.36647787] \n",
      "STATE: [0.48051547 0.50126522 0.05243457 0.04132734] ACT: [0.34013816 0.36647787] \n",
      "STATE: [0.50784752 0.52621526 0.07809158 0.07128582] ACT: [0.33254893 0.3733781 ] \n",
      "STATE: [0.54254531 0.5609218  0.09913653 0.09916156] ACT: [0.29908241 0.37204433] \n",
      "STATE: [0.58465497 0.60520812 0.12031332 0.12653232] ACT: [0.31637282 0.38717985] \n",
      "final state  [0.58465497 0.60520812]\n",
      "STATE: [0.65066019 0.6305414  0.0099536  0.02567161] ACT: [0.11375548 0.29338985] \n",
      "STATE: [0.65739909 0.64792188 0.019254   0.04965852] ACT: [0.11375548 0.29338985] \n",
      "STATE: [ 0.65476621  0.65470512 -0.00752252  0.01938068] ACT: [-0.29157694 -0.30878857] \n",
      "STATE: [ 0.64337657  0.65158656 -0.03254184 -0.00891017] ACT: [-0.29157694 -0.30878857] \n",
      "STATE: [ 0.62380483  0.63921601 -0.05591926 -0.03534444] ACT: [-0.29157694 -0.30878857] \n",
      "STATE: [ 0.59569491  0.61873464 -0.08031404 -0.05851818] ACT: [-0.32073691 -0.29135104] \n",
      "STATE: [ 0.56967762  0.60455762 -0.07433511 -0.04050578] ACT: [0.00809505 0.16196735] \n",
      "STATE: [ 0.55427837  0.60267091 -0.04399787 -0.00539059] ACT: [0.29096004 0.37093712] \n",
      "STATE: [ 0.5297556   0.58942878 -0.07006505 -0.03783465] ACT: [-0.33090906 -0.37483222] \n",
      "STATE: [ 0.49670805  0.56557643 -0.09442158 -0.06814957] ACT: [-0.33090906 -0.37483222] \n",
      "STATE: [ 0.47724252  0.55344015 -0.0556158  -0.03467509] ACT: [0.37267844 0.33145333] \n",
      "STATE: [ 4.69233825e-01  5.53539381e-01 -2.28819818e-02  2.83512396e-04] ACT: [0.33238889 0.37352058] \n",
      "STATE: [0.47262533 0.56441241 0.00969002 0.03106579] ACT: [0.35508997 0.3520101 ] \n",
      "STATE: [0.48720755 0.58472265 0.04166348 0.05802926] ACT: [0.37267844 0.33145333] \n",
      "STATE: [0.51224609 0.61385079 0.07153868 0.08322326] ACT: [0.37267844 0.33145333] \n",
      "STATE: [0.54407932 0.64934026 0.0909521  0.10139847] ACT: [0.27552177 0.27013417] \n",
      "STATE: [0.58444354 0.69353194 0.11532632 0.12626194] ACT: [0.34677655 0.36020275] \n",
      "STATE: [0.62705424 0.73974353 0.12174486 0.13203311] ACT: [0.15984945 0.16065274] \n",
      "STATE: [0.65803916 0.77203098 0.08852837 0.09224988] ACT: [-0.2883084  -0.35564072] \n",
      "STATE: [0.67794144 0.79091671 0.05686364 0.05395923] ACT: [-0.29548626 -0.36841998] \n",
      "STATE: [0.68701642 0.7965706  0.02592852 0.01615396] ACT: [-0.31089652 -0.3915908 ] \n",
      "STATE: [ 0.68597465  0.78986098 -0.00297648 -0.01917034] ACT: [-0.31089652 -0.3915908 ] \n",
      "STATE: [ 0.67548004  0.77159922 -0.0299846  -0.05217648] ACT: [-0.31089652 -0.3915908 ] \n",
      "STATE: [ 0.65651354  0.74345909 -0.05419002 -0.08040036] ACT: [-0.29912186 -0.36169101] \n",
      "STATE: [ 0.63090496  0.70752208 -0.07316737 -0.10267716] ACT: [-0.25752655 -0.31489229] \n",
      "STATE: [ 0.6039693   0.66948401 -0.07695903 -0.1086802 ] ACT: [-0.09820871 -0.14561405] \n",
      "STATE: [ 0.5704456   0.62460709 -0.09578199 -0.12821979] ACT: [-0.27283882 -0.30481969] \n",
      "STATE: [ 0.52909924  0.57109856 -0.11813247 -0.15288152] ACT: [-0.32727056 -0.3780132 ] \n",
      "STATE: [ 0.50015515  0.5329589  -0.0826974  -0.10897043] ACT: [0.31637282 0.38717985] \n",
      "STATE: [ 0.48297825  0.50903116 -0.04907686 -0.06836499] ACT: [0.32221176 0.38233438] \n",
      "STATE: [ 0.47711289  0.49810837 -0.01675816 -0.03120795] ACT: [0.33254893 0.3733781 ] \n",
      "STATE: [ 0.47270447  0.50317733 -0.01259549  0.01448272] ACT: [0.03500476 0.49877316] \n",
      "STATE: [0.47876967 0.51934833 0.01732912 0.04620288] ACT: [0.33254893 0.3733781 ] \n",
      "STATE: [0.49462114 0.54589282 0.04528993 0.0758414 ] ACT: [0.33254893 0.3733781 ] \n",
      "STATE: [0.51961177 0.5821344  0.07140181 0.10354736] ACT: [0.33238889 0.37352058] \n",
      "STATE: [0.55312341 0.62745303 0.09574752 0.12948182] ACT: [0.3317881  0.37405435] \n",
      "STATE: [0.59506438 0.68049982 0.11983133 0.15156224] ACT: [0.34705419 0.34945908] \n",
      "STATE: [0.62388659 0.7187955  0.08234919 0.10941622] ACT: [-0.33849391 -0.36799711] \n",
      "STATE: [0.64780971 0.75011859 0.06835176 0.08949455] ACT: [-0.09820871 -0.14561405] \n",
      "STATE: [0.66227612 0.76974253 0.0413326  0.0560684 ] ACT: [-0.25752655 -0.31489229] \n",
      "STATE: [0.6667439  0.77679578 0.0127651  0.02015216] ACT: [-0.29548626 -0.36841998] \n",
      "STATE: [ 0.66186922  0.77210331 -0.01392766 -0.01340707] ACT: [-0.29548626 -0.36841998] \n",
      "STATE: [ 0.64826518  0.75643591 -0.0388687  -0.04476398] ACT: [-0.29548626 -0.36841998] \n",
      "STATE: [ 0.62766715  0.73215312 -0.05885152 -0.06937942] ACT: [-0.25752655 -0.31489229] \n",
      "STATE: [ 0.59959142  0.69857238 -0.08021637 -0.09594496] ACT: [-0.2883084  -0.35564072] \n",
      "STATE: [ 0.56299178  0.65592547 -0.10457039 -0.12184832] ACT: [-0.33849391 -0.36799711] \n",
      "STATE: [ 0.53128073  0.61959346 -0.09060301 -0.10380573] ACT: [0.08119943 0.11481474] \n",
      "STATE: [ 0.51227925  0.59634793 -0.05428994 -0.06641581] ACT: [0.34705419 0.34945908] \n",
      "STATE: [ 0.5029626   0.58290074 -0.02661901 -0.03842054] ACT: [0.27552177 0.27013417] \n",
      "STATE: [ 0.50441836  0.58179144  0.00415932 -0.00316943] ACT: [0.3317881  0.37405435] \n",
      "final state  [0.50441836 0.58179144]\n",
      "STATE: [ 0.79679199  0.73997959 -0.02656187 -0.03476391] ACT: [-0.30356419 -0.39730188] \n",
      "STATE: [ 0.77880878  0.71644333 -0.05138061 -0.06724645] ACT: [-0.30356419 -0.39730188] \n",
      "STATE: [ 0.75243847  0.68249586 -0.07534373 -0.09699276] ACT: [-0.31239964 -0.39039271] \n",
      "STATE: [ 0.71834786  0.63920161 -0.09740176 -0.12369786] ACT: [-0.30859966 -0.37794575] \n",
      "STATE: [ 0.68020264  0.59242639 -0.10898633 -0.13364349] ACT: [-0.20544631 -0.20643772] \n",
      "STATE: [ 0.63413819  0.53750278 -0.13161272 -0.1569246 ] ACT: [-0.34032713 -0.36630239] \n",
      "STATE: [ 0.5903933   0.49361327 -0.1249854  -0.12539859] ACT: [-0.02296876  0.24260378] \n",
      "STATE: [ 0.53707254  0.45395401 -0.15234503 -0.11331219] ACT: [-0.40642054  0.0440814 ] \n",
      "STATE: [ 0.47318624  0.41084291 -0.18253227 -0.12317456] ACT: [-0.45925581 -0.197697  ] \n",
      "COLLIDED\n",
      "STATE: [ 0.4021094   0.36031901 -0.20307669 -0.14435402] ACT: [-0.37169251 -0.33443188] \n",
      "STATE: [ 0.32510833  0.30204939 -0.22000306 -0.16648461] ACT: [-0.34575175 -0.36118656] \n",
      "STATE: [ 0.24250113  0.23661048 -0.23602058 -0.18696832] ACT: [-0.3480597  -0.35896301] \n",
      "STATE: [ 0.15447908  0.1646468  -0.25149157 -0.20561051] ACT: [-0.35382674 -0.35327983] \n",
      "STATE: [ 0.06136283  0.08662141 -0.26604641 -0.2229297 ] ACT: [-0.35495967 -0.35214149] \n",
      "STATE: [-0.01475403  0.0244826  -0.21747675 -0.17753944] ACT: [0.35554695 0.35154852] \n",
      "final state  [-0.01475403  0.0244826 ]\n",
      "STATE: [ 0.6677858   0.80646105 -0.02709832 -0.03434739] ACT: [-0.30969511 -0.39254164] \n",
      "STATE: [ 0.64934334  0.7832832  -0.05269274 -0.06622244] ACT: [-0.31283138 -0.39004683] \n",
      "STATE: [ 0.6230619   0.75034353 -0.07508983 -0.09411334] ACT: [-0.29548626 -0.36841998] \n",
      "STATE: [ 0.58967574  0.70867403 -0.09538904 -0.11905572] ACT: [-0.2883084  -0.35564072] \n",
      "STATE: [ 0.54847751  0.65814547 -0.11770922 -0.14436732] ACT: [-0.32662957 -0.3785672 ] \n",
      "STATE: [ 0.52060295  0.62196405 -0.07964161 -0.10337547] ACT: [0.34677655 0.36020275] \n",
      "STATE: [ 0.4846667   0.57646765 -0.10267498 -0.12998971] ACT: [-0.3229697  -0.38169435] \n",
      "STATE: [ 0.46250206  0.54410771 -0.06332757 -0.09245697] ACT: [0.37267844 0.33145333] \n",
      "STATE: [ 0.45266659  0.5246517  -0.02810132 -0.0555886 ] ACT: [0.35508997 0.3520101 ] \n",
      "STATE: [ 0.44163     0.49646882 -0.03153311 -0.08052254] ACT: [-0.0602964  -0.32665077] \n",
      "STATE: [ 0.44429122  0.46200154  0.00760348 -0.09847794] ACT: [ 0.42362544 -0.26559647] \n",
      "COLLIDED\n",
      "STATE: [ 0.43631224  0.4186183  -0.02279709 -0.12395209] ACT: [-0.34173246 -0.36499168] \n",
      "COLLIDED\n",
      "STATE: [ 0.41843493  0.36686356 -0.05107804 -0.1478707 ] ACT: [-0.34030866 -0.36631955] \n",
      "STATE: [ 0.39110581  0.30747879 -0.07808318 -0.16967076] ACT: [-0.34693873 -0.36004655] \n",
      "STATE: [ 0.35494251  0.2409673  -0.10332373 -0.19003285] ACT: [-0.34702574 -0.35996268] \n",
      "STATE: [ 0.31052549  0.16779606 -0.12690578 -0.20906069] ACT: [-0.34700194 -0.35998563] \n",
      "STATE: [ 0.25849003  0.08831263 -0.14867274 -0.22709551] ACT: [-0.34394465 -0.36290781] \n",
      "STATE: [ 0.20035548  0.00204704 -0.1660987  -0.2464731 ] ACT: [-0.31065839 -0.39177974] \n",
      "STATE: [ 0.15516318 -0.07733577 -0.12912086 -0.22680805] ACT: [0.2980299  0.03988856] \n",
      "final state  [ 0.15516318 -0.07733577]\n",
      "STATE: [ 0.67725908  0.63348312 -0.02771615 -0.0303388 ] ACT: [-0.31675604 -0.34672918] \n",
      "STATE: [ 0.66049095  0.6157904  -0.04790893 -0.05055061] ACT: [-0.2515617  -0.25374623] \n",
      "STATE: [ 0.648307    0.60824384 -0.0348113  -0.02156162] ACT: [0.11375548 0.29338985] \n",
      "STATE: [ 0.63755796  0.60465332 -0.03071154 -0.01025863] ACT: [0.02074599 0.11300578] \n",
      "STATE: [ 0.61923471  0.59573076 -0.05235215 -0.02549301] ACT: [-0.27035492 -0.18180117] \n",
      "STATE: [ 0.5938343   0.58182609 -0.07257259 -0.03972764] ACT: [-0.27035492 -0.18180117] \n",
      "STATE: [ 0.57866931  0.58152458 -0.04332854 -0.00086144] ACT: [0.2797883  0.41438932] \n",
      "STATE: [ 0.57356834  0.59358099 -0.0145742   0.03444686] ACT: [0.29612464 0.4028774 ] \n",
      "STATE: [0.57771278 0.61620613 0.01184124 0.06464328] ACT: [0.29096004 0.37093712] \n",
      "STATE: [ 0.57156257  0.62576985 -0.01757202  0.02732491] ACT: [-0.32727056 -0.3780132 ] \n",
      "STATE: [ 0.55579331  0.6231293  -0.04505503 -0.00754444] ACT: [-0.32727056 -0.3780132 ] \n",
      "STATE: [ 0.55168745  0.63136422 -0.01173105  0.02352833] ACT: [0.34705419 0.34945908] \n",
      "STATE: [0.55847956 0.6497609  0.01940604 0.05256196] ACT: [0.34705419 0.34945908] \n",
      "STATE: [0.56731268 0.67046651 0.02523747 0.05915887] ACT: [0.08119943 0.11481474] \n",
      "STATE: [0.57805285 0.6933295  0.03068621 0.06532286] ACT: [0.08119943 0.11481474] \n",
      "STATE: [0.59298359 0.71961211 0.04265926 0.07509316] ACT: [0.15984945 0.16065274] \n",
      "STATE: [0.59693147 0.7325763  0.01127965 0.03704054] ACT: [-0.32662957 -0.3785672 ] \n",
      "STATE: [ 5.91471958e-01  7.32410420e-01 -1.55986026e-02 -4.73943190e-04] ACT: [-0.29872034 -0.40095655] \n",
      "STATE: [ 0.57722242  0.71997613 -0.04071297 -0.03552654] ACT: [-0.29872034 -0.40095655] \n",
      "STATE: [ 0.55962553  0.70169298 -0.05027681 -0.05223756] ACT: [-0.13983576 -0.21762805] \n",
      "STATE: [ 0.53890097  0.67794481 -0.05921303 -0.06785193] ACT: [-0.13983576 -0.21762805] \n",
      "STATE: [ 0.51699791  0.65092099 -0.06258019 -0.0772109 ] ACT: [-0.08289157 -0.15784867] \n",
      "STATE: [ 0.50445555  0.63334891 -0.03583531 -0.05020596] ACT: [0.2587206  0.25071978] \n",
      "STATE: [ 0.48284534  0.6052406  -0.06174346 -0.08030945] ACT: [-0.3229697  -0.38169435] \n",
      "STATE: [ 0.47363349  0.58964967 -0.02631956 -0.04454553] ACT: [0.35853707 0.34849845] \n",
      "STATE: [ 0.47600637  0.58575465  0.00677966 -0.01112861] ACT: [0.35853707 0.34849845] \n",
      "STATE: [0.48920373 0.59278801 0.03770674 0.02009532] ACT: [0.35853707 0.34849845] \n",
      "STATE: [0.51251521 0.61003258 0.06660423 0.04927018] ACT: [0.35853707 0.34849845] \n",
      "STATE: [0.54273473 0.63441832 0.08634148 0.06967356] ACT: [0.27552177 0.27013417] \n",
      "STATE: [0.58159962 0.66790594 0.11104256 0.0956789 ] ACT: [0.34705419 0.34945908] \n",
      "STATE: [0.62040074 0.70271213 0.11086034 0.09944627] ACT: [0.08119943 0.11481474] \n",
      "STATE: [0.6536479  0.73077474 0.09499187 0.08017888] ACT: [-0.09820871 -0.14561405] \n",
      "STATE: [0.67682646 0.74735216 0.06622446 0.04736406] ACT: [-0.25752655 -0.31489229] \n",
      "STATE: [0.68879093 0.75098764 0.0341842  0.01038708] ACT: [-0.31650599 -0.387071  ] \n",
      "STATE: [ 0.69027723  0.74253049  0.00424659 -0.02416328] ACT: [-0.31650599 -0.387071  ] \n",
      "STATE: [ 0.68197301  0.72277429 -0.02372637 -0.05644628] ACT: [-0.31650599 -0.387071  ] \n",
      "STATE: [ 0.66542657  0.69350071 -0.04727553 -0.08363882] ACT: [-0.28692807 -0.35310662] \n",
      "STATE: [ 0.64542857  0.66342298 -0.05713715 -0.08593636] ACT: [-0.14816081 -0.08898672] \n",
      "STATE: [ 0.61781339  0.62586245 -0.0789005  -0.10731579] ACT: [-0.29157694 -0.30878857] \n",
      "STATE: [ 0.5821879   0.58184421 -0.10178714 -0.12576641] ACT: [-0.32073691 -0.29135104] \n",
      "STATE: [ 0.55796914  0.55305279 -0.06919645 -0.08226121] ACT: [0.29612464 0.4028774 ] \n",
      "STATE: [ 0.54442787  0.5384747  -0.03868933 -0.04165169] ACT: [0.29675548 0.40241295] \n",
      "STATE: [ 0.53948538  0.53557866 -0.0141214  -0.0082744 ] ACT: [0.25175934 0.350216  ] \n",
      "STATE: [0.54257738 0.54359804 0.00883426 0.02291251] ACT: [0.25175934 0.350216  ] \n",
      "STATE: [0.55317658 0.56181651 0.03028345 0.05205278] ACT: [0.25175934 0.350216  ] \n",
      "STATE: [0.57276914 0.59069678 0.05597873 0.08251505] ACT: [0.31637282 0.38717985] \n",
      "STATE: [0.59998658 0.62904173 0.07776413 0.109557  ] ACT: [0.29096004 0.37093712] \n",
      "STATE: [0.62566579 0.66983054 0.07336917 0.11653946] ACT: [0.00809505 0.16196735] \n",
      "STATE: [0.64169159 0.69899289 0.045788   0.08332099] ACT: [-0.26018652 -0.29223506] \n",
      "STATE: [0.6541431  0.72410917 0.03557575 0.07176081] ACT: [-0.08237046 -0.06962569] \n",
      "final state  [0.6541431  0.72410917]\n",
      "STATE: [ 0.60393224  0.7505972  -0.02573011 -0.03416597] ACT: [-0.29405844 -0.39046824] \n",
      "STATE: [ 0.58636938  0.72714456 -0.0501796  -0.06700753] ACT: [-0.29872034 -0.40095655] \n",
      "STATE: [ 0.55995605  0.69363739 -0.07546666 -0.09573479] ACT: [-0.32662957 -0.3785672 ] \n",
      "STATE: [ 0.54017149  0.66724911 -0.05652733 -0.07539508] ACT: [0.15984945 0.16065274] \n",
      "STATE: [ 0.53230532  0.65362377 -0.02247478 -0.03892954] ACT: [0.34677655 0.36020275] \n",
      "STATE: [ 0.53557539  0.65192381  0.00934308 -0.00485704] ACT: [0.34677655 0.36020275] \n",
      "STATE: [0.5492509  0.66136661 0.03907289 0.02697944] ACT: [0.34677655 0.36020275] \n",
      "STATE: [0.57264899 0.68122094 0.06685168 0.05672666] ACT: [0.34677655 0.36020275] \n",
      "STATE: [0.59940697 0.70469232 0.07645136 0.06706108] ACT: [0.15984945 0.16065274] \n",
      "STATE: [0.61440592 0.71502977 0.04285416 0.02953557] ACT: [-0.32662957 -0.3785672 ] \n",
      "STATE: [0.62541293 0.72022939 0.03144859 0.01485607] ACT: [-0.09820871 -0.14561405] \n",
      "STATE: [0.63268996 0.72062836 0.02079151 0.00113991] ACT: [-0.09820871 -0.14561405] \n",
      "STATE: [ 0.63648179  0.71654172  0.01083381 -0.01167613] ACT: [-0.09820871 -0.14561405] \n",
      "STATE: [ 0.63701714  0.70826383  0.00152958 -0.02365111] ACT: [-0.09820871 -0.14561405] \n",
      "STATE: [ 0.63450972  0.69606975 -0.00716406 -0.03484023] ACT: [-0.09820871 -0.14561405] \n",
      "STATE: [ 0.62964425  0.68254362 -0.01390134 -0.03864609] ACT: [-0.08237046 -0.06962569] \n",
      "STATE: [ 0.62257548  0.66777285 -0.02019648 -0.04220219] ACT: [-0.08237046 -0.06962569] \n",
      "STATE: [ 0.60800239  0.64502171 -0.04163741 -0.06500324] ACT: [-0.26018652 -0.29223506] \n",
      "STATE: [ 0.58602997  0.61442852 -0.06277835 -0.08740912] ACT: [-0.27283882 -0.30481969] \n",
      "STATE: [ 0.5657474   0.59080326 -0.0579502  -0.06750076] ACT: [0.00809505 0.16196735] \n",
      "STATE: [ 0.55570652  0.58008835 -0.02868822 -0.03061402] ACT: [0.29096004 0.37093712] \n",
      "STATE: [0.5560135  0.58193399 0.00087707 0.00527326] ACT: [0.31637282 0.38717985] \n",
      "STATE: [0.56598925 0.59551589 0.02850213 0.03880544] ACT: [0.31637282 0.38717985] \n",
      "STATE: [0.58422099 0.61956643 0.05209069 0.06871583] ACT: [0.29096004 0.37093712] \n",
      "STATE: [0.59123361 0.630462   0.02003606 0.0311302 ] ACT: [-0.32727056 -0.3780132 ] \n",
      "STATE: [0.59803394 0.6456028  0.01942951 0.04325942] ACT: [0.00809505 0.16196735] \n",
      "STATE: [ 0.5960323   0.65041488 -0.00571895  0.0137488 ] ACT: [-0.27283882 -0.30481969] \n",
      "STATE: [ 0.58580634  0.64557606 -0.02921704 -0.01382519] ACT: [-0.27283882 -0.30481969] \n",
      "STATE: [ 0.56789577  0.63171969 -0.05117307 -0.03958963] ACT: [-0.27283882 -0.30481969] \n",
      "STATE: [ 0.54113792  0.60719599 -0.07645101 -0.07006772] ACT: [-0.32727056 -0.3780132 ] \n",
      "STATE: [ 0.50600196  0.57280242 -0.10038845 -0.09826734] ACT: [-0.33090906 -0.37483222] \n",
      "STATE: [ 0.48333281  0.55212134 -0.064769   -0.05908879] ACT: [0.3317881  0.37405435] \n",
      "STATE: [ 0.47233073  0.54423653 -0.03143451 -0.02252804] ACT: [0.33238889 0.37352058] \n",
      "STATE: [ 4.72230071e-01  5.48308225e-01 -2.87591080e-04  1.16334133e-02] ACT: [0.33238889 0.37352058] \n",
      "STATE: [0.48231543 0.56355178 0.02881531 0.04355302] ACT: [0.33238889 0.37352058] \n",
      "STATE: [0.50315221 0.58794574 0.05953367 0.06969702] ACT: [0.37267844 0.33145333] \n",
      "STATE: [0.53105944 0.6190117  0.07973493 0.08875989] ACT: [0.27552177 0.27013417] \n",
      "STATE: [0.56776379 0.65874115 0.10486956 0.11351269] ACT: [0.34705419 0.34945908] \n",
      "STATE: [0.60454614 0.69937955 0.10509245 0.11610971] ACT: [0.08119943 0.11481474] \n",
      "STATE: [0.62854828 0.72608114 0.06857754 0.07629027] ACT: [-0.33849391 -0.36799711] \n",
      "STATE: [0.64796764 0.74657101 0.05548388 0.05854249] ACT: [-0.09820871 -0.14561405] \n",
      "STATE: [0.65822585 0.75607266 0.02930917 0.02714756] ACT: [-0.25752655 -0.31489229] \n",
      "STATE: [ 0.65992411  0.75530718  0.00485219 -0.00218707] ACT: [-0.25752655 -0.31489229] \n",
      "STATE: [ 0.65362418  0.74494836 -0.01799981 -0.02959662] ACT: [-0.25752655 -0.31489229] \n",
      "STATE: [ 0.63985093  0.72562577 -0.03935215 -0.05520742] ACT: [-0.25752655 -0.31489229] \n",
      "STATE: [ 0.62397391  0.70311179 -0.04536292 -0.06432566] ACT: [-0.09820871 -0.14561405] \n",
      "STATE: [ 0.60613117  0.67761585 -0.05097924 -0.07284552] ACT: [-0.09820871 -0.14561405] \n",
      "STATE: [ 0.57909299  0.64252318 -0.07725195 -0.10026478] ACT: [-0.33849391 -0.36799711] \n",
      "STATE: [ 0.54380653  0.59815681 -0.10081846 -0.12676106] ACT: [-0.32727056 -0.3780132 ] \n",
      "STATE: [ 0.50070165  0.54522275 -0.12315679 -0.15124018] ACT: [-0.33090906 -0.37483222] \n",
      "final state  [0.50070165 0.54522275]\n",
      "STATE: [ 0.62591165  0.81288951 -0.02777466 -0.03380282] ACT: [-0.31742472 -0.38631793] \n",
      "STATE: [ 0.60722218  0.78991051 -0.05339849 -0.06565429] ACT: [-0.3136747  -0.38936896] \n",
      "STATE: [ 0.58050371  0.75661857 -0.07633847 -0.09511981] ACT: [-0.30222012 -0.3859895 ] \n",
      "STATE: [ 0.55167849  0.71907851 -0.08235779 -0.10725731] ACT: [-0.12604601 -0.21005415] \n",
      "STATE: [ 0.51655018  0.67375519 -0.1003666  -0.12949521] ACT: [-0.26758338 -0.3345904 ] \n",
      "STATE: [ 0.48445906  0.62984215 -0.0916889  -0.12546584] ACT: [ 0.02389875 -0.05107142] \n",
      "STATE: [ 0.45085869  0.5839408  -0.09600105 -0.1311467 ] ACT: [-0.11804837 -0.15902358] \n",
      "STATE: [ 0.41609261  0.5352443  -0.09933166 -0.13913286] ACT: [-0.1100649  -0.18963042] \n",
      "STATE: [ 0.39586835  0.49891727 -0.05778362 -0.10379152] ACT: [0.40033604 0.29955143] \n",
      "STATE: [ 0.3694528   0.4516346  -0.07547299 -0.13509333] ACT: [-0.24550196 -0.43557868] \n",
      "STATE: [ 0.33472976  0.39589412 -0.09920869 -0.15925851] ACT: [-0.32786994 -0.37749345] \n",
      "STATE: [ 0.29181767  0.33263579 -0.12260597 -0.18073808] ACT: [-0.34180397 -0.36492472] \n",
      "STATE: [ 0.24103769  0.26255952 -0.14508565 -0.20021792] ACT: [-0.34886512 -0.35818031] \n",
      "STATE: [ 0.18275441  0.1862626  -0.16652366 -0.21799119] ACT: [-0.35382011 -0.35328647] \n",
      "STATE: [ 0.11736499  0.1042495  -0.18682691 -0.23432315] ACT: [-0.35692985 -0.35014438] \n",
      "STATE: [ 0.04296075  0.02559345 -0.21258356 -0.22473156] ACT: [-0.43448189 -0.06612415] \n",
      "final state  [0.04296075 0.02559345]\n",
      "After 17 REWARD:  (0.4745990086336895, array([ 0.36173153,  0.36407972, -0.07332978, -0.08664277]), -0.044689138987718424)\n",
      "UPDATING THE ACTION MATRIX\n"
     ]
    },
    {
     "name": "stderr",
     "output_type": "stream",
     "text": [
      "100%|█████████████████████████████████████████████████████████████████████████████████████████████████████████████████████████| 25/25 [00:03<00:00,  7.05it/s]\n",
      "Generating Dynamics Dataset: 100%|██████████████████████████████████████████████████████████████████████████████████████████| 15/15 [00:00<00:00, 1246.35it/s]\n"
     ]
    },
    {
     "name": "stdout",
     "output_type": "stream",
     "text": [
      "COLLIDED\n",
      "COLLIDED\n",
      "COLLIDED\n",
      "COLLIDED\n",
      "COLLIDED\n",
      "COLLIDED\n",
      "COLLIDED\n",
      "COLLIDED\n",
      "COLLIDED\n",
      "COLLIDED\n",
      "COLLIDED\n"
     ]
    },
    {
     "name": "stderr",
     "output_type": "stream",
     "text": [
      "100%|██████████████████████████████████████████████████████████████████████████████████████████████████████████████████████| 104/104 [00:00<00:00, 236.21it/s]\n"
     ]
    },
    {
     "name": "stdout",
     "output_type": "stream",
     "text": [
      "Epoch 1, loss: 0.000, err: 0.009, val_loss: 0.000, val_err: 0.018\n"
     ]
    },
    {
     "name": "stderr",
     "output_type": "stream",
     "text": [
      "100%|██████████████████████████████████████████████████████████████████████████████████████████████████████████████████████| 104/104 [00:00<00:00, 238.44it/s]\n"
     ]
    },
    {
     "name": "stdout",
     "output_type": "stream",
     "text": [
      "Epoch 2, loss: 0.000, err: 0.009, val_loss: 0.000, val_err: 0.018\n"
     ]
    },
    {
     "name": "stderr",
     "output_type": "stream",
     "text": [
      "100%|██████████████████████████████████████████████████████████████████████████████████████████████████████████████████████| 104/104 [00:00<00:00, 238.29it/s]\n"
     ]
    },
    {
     "name": "stdout",
     "output_type": "stream",
     "text": [
      "Epoch 3, loss: 0.000, err: 0.009, val_loss: 0.000, val_err: 0.018\n"
     ]
    },
    {
     "name": "stderr",
     "output_type": "stream",
     "text": [
      "100%|██████████████████████████████████████████████████████████████████████████████████████████████████████████████████████| 104/104 [00:00<00:00, 239.38it/s]\n"
     ]
    },
    {
     "name": "stdout",
     "output_type": "stream",
     "text": [
      "Epoch 4, loss: 0.000, err: 0.009, val_loss: 0.000, val_err: 0.018\n"
     ]
    },
    {
     "name": "stderr",
     "output_type": "stream",
     "text": [
      "100%|██████████████████████████████████████████████████████████████████████████████████████████████████████████████████████| 104/104 [00:00<00:00, 239.37it/s]\n"
     ]
    },
    {
     "name": "stdout",
     "output_type": "stream",
     "text": [
      "Epoch 5, loss: 0.000, err: 0.009, val_loss: 0.000, val_err: 0.018\n"
     ]
    },
    {
     "name": "stderr",
     "output_type": "stream",
     "text": [
      "100%|██████████████████████████████████████████████████████████████████████████████████████████████████████████████████████| 104/104 [00:00<00:00, 238.09it/s]\n"
     ]
    },
    {
     "name": "stdout",
     "output_type": "stream",
     "text": [
      "Epoch 6, loss: 0.000, err: 0.009, val_loss: 0.000, val_err: 0.018\n"
     ]
    },
    {
     "name": "stderr",
     "output_type": "stream",
     "text": [
      "100%|██████████████████████████████████████████████████████████████████████████████████████████████████████████████████████| 104/104 [00:00<00:00, 239.56it/s]\n"
     ]
    },
    {
     "name": "stdout",
     "output_type": "stream",
     "text": [
      "Epoch 7, loss: 0.000, err: 0.009, val_loss: 0.000, val_err: 0.018\n"
     ]
    },
    {
     "name": "stderr",
     "output_type": "stream",
     "text": [
      "100%|██████████████████████████████████████████████████████████████████████████████████████████████████████████████████████| 104/104 [00:00<00:00, 238.11it/s]\n"
     ]
    },
    {
     "name": "stdout",
     "output_type": "stream",
     "text": [
      "Epoch 8, loss: 0.000, err: 0.009, val_loss: 0.000, val_err: 0.018\n"
     ]
    },
    {
     "name": "stderr",
     "output_type": "stream",
     "text": [
      "100%|██████████████████████████████████████████████████████████████████████████████████████████████████████████████████████| 104/104 [00:00<00:00, 239.21it/s]\n"
     ]
    },
    {
     "name": "stdout",
     "output_type": "stream",
     "text": [
      "Epoch 9, loss: 0.000, err: 0.009, val_loss: 0.000, val_err: 0.018\n"
     ]
    },
    {
     "name": "stderr",
     "output_type": "stream",
     "text": [
      "100%|██████████████████████████████████████████████████████████████████████████████████████████████████████████████████████| 104/104 [00:00<00:00, 238.87it/s]\n"
     ]
    },
    {
     "name": "stdout",
     "output_type": "stream",
     "text": [
      "Epoch 10, loss: 0.000, err: 0.009, val_loss: 0.000, val_err: 0.018\n"
     ]
    },
    {
     "name": "stderr",
     "output_type": "stream",
     "text": [
      "100%|██████████████████████████████████████████████████████████████████████████████████████████████████████████████████████| 104/104 [00:00<00:00, 239.71it/s]\n"
     ]
    },
    {
     "name": "stdout",
     "output_type": "stream",
     "text": [
      "Epoch 11, loss: 0.000, err: 0.009, val_loss: 0.000, val_err: 0.018\n"
     ]
    },
    {
     "name": "stderr",
     "output_type": "stream",
     "text": [
      "100%|██████████████████████████████████████████████████████████████████████████████████████████████████████████████████████| 104/104 [00:00<00:00, 240.38it/s]\n"
     ]
    },
    {
     "name": "stdout",
     "output_type": "stream",
     "text": [
      "Epoch 12, loss: 0.000, err: 0.009, val_loss: 0.000, val_err: 0.018\n"
     ]
    },
    {
     "name": "stderr",
     "output_type": "stream",
     "text": [
      "100%|██████████████████████████████████████████████████████████████████████████████████████████████████████████████████████| 104/104 [00:00<00:00, 239.73it/s]\n"
     ]
    },
    {
     "name": "stdout",
     "output_type": "stream",
     "text": [
      "Epoch 13, loss: 0.000, err: 0.009, val_loss: 0.000, val_err: 0.018\n"
     ]
    },
    {
     "name": "stderr",
     "output_type": "stream",
     "text": [
      "100%|██████████████████████████████████████████████████████████████████████████████████████████████████████████████████████| 104/104 [00:00<00:00, 240.44it/s]\n"
     ]
    },
    {
     "name": "stdout",
     "output_type": "stream",
     "text": [
      "Epoch 14, loss: 0.000, err: 0.009, val_loss: 0.000, val_err: 0.018\n"
     ]
    },
    {
     "name": "stderr",
     "output_type": "stream",
     "text": [
      "100%|██████████████████████████████████████████████████████████████████████████████████████████████████████████████████████| 104/104 [00:00<00:00, 238.40it/s]\n"
     ]
    },
    {
     "name": "stdout",
     "output_type": "stream",
     "text": [
      "Epoch 15, loss: 0.000, err: 0.009, val_loss: 0.000, val_err: 0.018\n"
     ]
    },
    {
     "name": "stderr",
     "output_type": "stream",
     "text": [
      "100%|██████████████████████████████████████████████████████████████████████████████████████████████████████████████████████| 104/104 [00:00<00:00, 239.13it/s]\n"
     ]
    },
    {
     "name": "stdout",
     "output_type": "stream",
     "text": [
      "Epoch 16, loss: 0.000, err: 0.009, val_loss: 0.000, val_err: 0.018\n"
     ]
    },
    {
     "name": "stderr",
     "output_type": "stream",
     "text": [
      "100%|██████████████████████████████████████████████████████████████████████████████████████████████████████████████████████| 104/104 [00:00<00:00, 236.47it/s]\n"
     ]
    },
    {
     "name": "stdout",
     "output_type": "stream",
     "text": [
      "Epoch 17, loss: 0.000, err: 0.009, val_loss: 0.000, val_err: 0.018\n"
     ]
    },
    {
     "name": "stderr",
     "output_type": "stream",
     "text": [
      "100%|██████████████████████████████████████████████████████████████████████████████████████████████████████████████████████| 104/104 [00:00<00:00, 235.25it/s]\n"
     ]
    },
    {
     "name": "stdout",
     "output_type": "stream",
     "text": [
      "Epoch 18, loss: 0.000, err: 0.010, val_loss: 0.000, val_err: 0.018\n"
     ]
    },
    {
     "name": "stderr",
     "output_type": "stream",
     "text": [
      "100%|██████████████████████████████████████████████████████████████████████████████████████████████████████████████████████| 104/104 [00:00<00:00, 236.86it/s]\n"
     ]
    },
    {
     "name": "stdout",
     "output_type": "stream",
     "text": [
      "Epoch 19, loss: 0.000, err: 0.009, val_loss: 0.000, val_err: 0.018\n"
     ]
    },
    {
     "name": "stderr",
     "output_type": "stream",
     "text": [
      "100%|██████████████████████████████████████████████████████████████████████████████████████████████████████████████████████| 104/104 [00:00<00:00, 236.71it/s]\n"
     ]
    },
    {
     "name": "stdout",
     "output_type": "stream",
     "text": [
      "Epoch 20, loss: 0.000, err: 0.010, val_loss: 0.000, val_err: 0.018\n"
     ]
    },
    {
     "name": "stderr",
     "output_type": "stream",
     "text": [
      "100%|██████████████████████████████████████████████████████████████████████████████████████████████████████████████████████| 104/104 [00:00<00:00, 235.10it/s]\n"
     ]
    },
    {
     "name": "stdout",
     "output_type": "stream",
     "text": [
      "Epoch 21, loss: 0.000, err: 0.009, val_loss: 0.000, val_err: 0.018\n"
     ]
    },
    {
     "name": "stderr",
     "output_type": "stream",
     "text": [
      "100%|██████████████████████████████████████████████████████████████████████████████████████████████████████████████████████| 104/104 [00:00<00:00, 235.17it/s]\n"
     ]
    },
    {
     "name": "stdout",
     "output_type": "stream",
     "text": [
      "Epoch 22, loss: 0.000, err: 0.009, val_loss: 0.000, val_err: 0.018\n"
     ]
    },
    {
     "name": "stderr",
     "output_type": "stream",
     "text": [
      "100%|██████████████████████████████████████████████████████████████████████████████████████████████████████████████████████| 104/104 [00:00<00:00, 231.00it/s]\n"
     ]
    },
    {
     "name": "stdout",
     "output_type": "stream",
     "text": [
      "Epoch 23, loss: 0.000, err: 0.009, val_loss: 0.000, val_err: 0.018\n"
     ]
    },
    {
     "name": "stderr",
     "output_type": "stream",
     "text": [
      "100%|██████████████████████████████████████████████████████████████████████████████████████████████████████████████████████| 104/104 [00:00<00:00, 236.03it/s]\n"
     ]
    },
    {
     "name": "stdout",
     "output_type": "stream",
     "text": [
      "Epoch 24, loss: 0.000, err: 0.010, val_loss: 0.000, val_err: 0.018\n"
     ]
    },
    {
     "name": "stderr",
     "output_type": "stream",
     "text": [
      "100%|██████████████████████████████████████████████████████████████████████████████████████████████████████████████████████| 104/104 [00:00<00:00, 236.75it/s]\n"
     ]
    },
    {
     "name": "stdout",
     "output_type": "stream",
     "text": [
      "Epoch 25, loss: 0.000, err: 0.009, val_loss: 0.000, val_err: 0.018\n"
     ]
    },
    {
     "name": "stderr",
     "output_type": "stream",
     "text": [
      "100%|██████████████████████████████████████████████████████████████████████████████████████████████████████████████████████| 104/104 [00:00<00:00, 235.03it/s]\n"
     ]
    },
    {
     "name": "stdout",
     "output_type": "stream",
     "text": [
      "Epoch 26, loss: 0.000, err: 0.009, val_loss: 0.000, val_err: 0.018\n"
     ]
    },
    {
     "name": "stderr",
     "output_type": "stream",
     "text": [
      "100%|██████████████████████████████████████████████████████████████████████████████████████████████████████████████████████| 104/104 [00:00<00:00, 234.90it/s]\n"
     ]
    },
    {
     "name": "stdout",
     "output_type": "stream",
     "text": [
      "Epoch 27, loss: 0.000, err: 0.009, val_loss: 0.000, val_err: 0.018\n"
     ]
    },
    {
     "name": "stderr",
     "output_type": "stream",
     "text": [
      "100%|██████████████████████████████████████████████████████████████████████████████████████████████████████████████████████| 104/104 [00:00<00:00, 234.25it/s]\n"
     ]
    },
    {
     "name": "stdout",
     "output_type": "stream",
     "text": [
      "Epoch 28, loss: 0.000, err: 0.009, val_loss: 0.000, val_err: 0.018\n"
     ]
    },
    {
     "name": "stderr",
     "output_type": "stream",
     "text": [
      "100%|██████████████████████████████████████████████████████████████████████████████████████████████████████████████████████| 104/104 [00:00<00:00, 234.11it/s]\n"
     ]
    },
    {
     "name": "stdout",
     "output_type": "stream",
     "text": [
      "Epoch 29, loss: 0.000, err: 0.009, val_loss: 0.000, val_err: 0.017\n"
     ]
    },
    {
     "name": "stderr",
     "output_type": "stream",
     "text": [
      "100%|██████████████████████████████████████████████████████████████████████████████████████████████████████████████████████| 104/104 [00:00<00:00, 235.84it/s]\n"
     ]
    },
    {
     "name": "stdout",
     "output_type": "stream",
     "text": [
      "Epoch 30, loss: 0.000, err: 0.009, val_loss: 0.000, val_err: 0.018\n"
     ]
    },
    {
     "name": "stderr",
     "output_type": "stream",
     "text": [
      "100%|██████████████████████████████████████████████████████████████████████████████████████████████████████████████████████| 104/104 [00:00<00:00, 237.41it/s]\n"
     ]
    },
    {
     "name": "stdout",
     "output_type": "stream",
     "text": [
      "Epoch 31, loss: 0.000, err: 0.009, val_loss: 0.000, val_err: 0.018\n"
     ]
    },
    {
     "name": "stderr",
     "output_type": "stream",
     "text": [
      "100%|██████████████████████████████████████████████████████████████████████████████████████████████████████████████████████| 104/104 [00:00<00:00, 239.08it/s]\n"
     ]
    },
    {
     "name": "stdout",
     "output_type": "stream",
     "text": [
      "Epoch 32, loss: 0.000, err: 0.009, val_loss: 0.000, val_err: 0.018\n"
     ]
    },
    {
     "name": "stderr",
     "output_type": "stream",
     "text": [
      "100%|██████████████████████████████████████████████████████████████████████████████████████████████████████████████████████| 104/104 [00:00<00:00, 240.21it/s]\n"
     ]
    },
    {
     "name": "stdout",
     "output_type": "stream",
     "text": [
      "Epoch 33, loss: 0.000, err: 0.010, val_loss: 0.000, val_err: 0.018\n"
     ]
    },
    {
     "name": "stderr",
     "output_type": "stream",
     "text": [
      "100%|██████████████████████████████████████████████████████████████████████████████████████████████████████████████████████| 104/104 [00:00<00:00, 239.92it/s]\n"
     ]
    },
    {
     "name": "stdout",
     "output_type": "stream",
     "text": [
      "Epoch 34, loss: 0.000, err: 0.009, val_loss: 0.000, val_err: 0.018\n"
     ]
    },
    {
     "name": "stderr",
     "output_type": "stream",
     "text": [
      "100%|██████████████████████████████████████████████████████████████████████████████████████████████████████████████████████| 104/104 [00:00<00:00, 239.99it/s]\n"
     ]
    },
    {
     "name": "stdout",
     "output_type": "stream",
     "text": [
      "Epoch 35, loss: 0.000, err: 0.009, val_loss: 0.000, val_err: 0.018\n"
     ]
    },
    {
     "name": "stderr",
     "output_type": "stream",
     "text": [
      "100%|██████████████████████████████████████████████████████████████████████████████████████████████████████████████████████| 104/104 [00:00<00:00, 239.40it/s]\n"
     ]
    },
    {
     "name": "stdout",
     "output_type": "stream",
     "text": [
      "Epoch 36, loss: 0.000, err: 0.009, val_loss: 0.000, val_err: 0.018\n"
     ]
    },
    {
     "name": "stderr",
     "output_type": "stream",
     "text": [
      "100%|██████████████████████████████████████████████████████████████████████████████████████████████████████████████████████| 104/104 [00:00<00:00, 238.49it/s]\n"
     ]
    },
    {
     "name": "stdout",
     "output_type": "stream",
     "text": [
      "Epoch 37, loss: 0.000, err: 0.009, val_loss: 0.000, val_err: 0.018\n"
     ]
    },
    {
     "name": "stderr",
     "output_type": "stream",
     "text": [
      "100%|██████████████████████████████████████████████████████████████████████████████████████████████████████████████████████| 104/104 [00:00<00:00, 240.65it/s]\n"
     ]
    },
    {
     "name": "stdout",
     "output_type": "stream",
     "text": [
      "Epoch 38, loss: 0.000, err: 0.010, val_loss: 0.000, val_err: 0.018\n"
     ]
    },
    {
     "name": "stderr",
     "output_type": "stream",
     "text": [
      "100%|██████████████████████████████████████████████████████████████████████████████████████████████████████████████████████| 104/104 [00:00<00:00, 239.87it/s]\n"
     ]
    },
    {
     "name": "stdout",
     "output_type": "stream",
     "text": [
      "Epoch 39, loss: 0.000, err: 0.009, val_loss: 0.000, val_err: 0.018\n"
     ]
    },
    {
     "name": "stderr",
     "output_type": "stream",
     "text": [
      "100%|████████████████████████████████████████████████████████████████████████████████████████████████████████████████████████| 10/10 [00:00<00:00, 249.43it/s]\n"
     ]
    },
    {
     "name": "stdout",
     "output_type": "stream",
     "text": [
      "STATE: [ 0.69420808  0.76256283 -0.02835818 -0.0333148 ] ACT: [-0.3240935 -0.3807406] \n",
      "STATE: [ 0.67488207  0.74011666 -0.05521716 -0.06413193] ACT: [-0.32822838 -0.37718183] \n",
      "STATE: [ 0.64673604  0.707624   -0.08041722 -0.09283615] ACT: [-0.3294136  -0.37614715] \n",
      "STATE: [ 0.61126496  0.66621264 -0.10134594 -0.1183182 ] ACT: [-0.29949829 -0.36085055] \n",
      "STATE: [ 0.5717416   0.62065153 -0.1129239  -0.13017458] ACT: [-0.20832895 -0.22424019] \n",
      "STATE: [ 0.52710034  0.56930066 -0.12754644 -0.14671677] ACT: [-0.25180768 -0.28668449] \n",
      "STATE: [ 0.49630144  0.5320614  -0.08799688 -0.10639789] ACT: [0.35633513 0.35074959] \n",
      "STATE: [ 0.47834784  0.50809698 -0.051296   -0.06846977] ACT: [0.35344094 0.3536658 ] \n",
      "STATE: [ 0.47216764  0.49676029 -0.0176577  -0.03239055] ACT: [0.34596573 0.3609816 ] \n",
      "STATE: [ 0.45537581  0.47553302 -0.04797667 -0.06064935] ACT: [-0.35974579 -0.34725059] \n",
      "STATE: [ 0.44193549  0.45631147 -0.03840089 -0.05491869] ACT: [0.07345494 0.02000624] \n",
      "STATE: [ 0.44336749  0.44457585  0.00409141 -0.03353034] ACT: [0.45682573 0.20324925] \n",
      "COLLIDED\n",
      "STATE: [ 0.43419885  0.42247114 -0.0261961  -0.06315634] ACT: [-0.34307442 -0.36373059] \n",
      "COLLIDED\n",
      "STATE: [ 0.41476793  0.391026   -0.05551693 -0.08984324] ACT: [-0.35474236 -0.35236041] \n",
      "STATE: [ 0.38533038  0.35129099 -0.08410727 -0.11352862] ACT: [-0.36838435 -0.33807243] \n",
      "STATE: [ 0.34686692  0.30346778 -0.1098956  -0.13663775] ACT: [-0.35780422 -0.34925082] \n",
      "STATE: [ 0.29995677  0.2481006  -0.13402902 -0.15819192] ACT: [-0.35823231 -0.34881172] \n",
      "STATE: [ 0.24510151  0.18573895 -0.1567293  -0.17817616] ACT: [-0.35995352 -0.34703525] \n",
      "STATE: [ 0.18283819  0.11682562 -0.17789519 -0.19689522] ACT: [-0.35944282 -0.34756418] \n",
      "STATE: [ 0.11270392  0.04286901 -0.20038364 -0.21130461] ACT: [-0.39043223 -0.31235024] \n",
      "STATE: [ 0.05801208 -0.01619991 -0.15626239 -0.16876833] ACT: [0.35395507 0.32765046] \n",
      "final state  [ 0.05801208 -0.01619991]\n",
      "STATE: [ 0.8622771   0.8772919  -0.02735826 -0.03414071] ACT: [-0.31266583 -0.39017955] \n",
      "STATE: [ 0.843825    0.85412158 -0.05272028 -0.06620092] ACT: [-0.31037037 -0.39200795] \n",
      "STATE: [ 0.81714327  0.82041575 -0.0762335  -0.09630239] ACT: [-0.30826274 -0.39366748] \n",
      "STATE: [ 0.78277953  0.77685988 -0.09818212 -0.12444532] ACT: [-0.30801643 -0.39386022] \n",
      "STATE: [ 0.74089556  0.72437615 -0.11966848 -0.14995354] ACT: [-0.31919497 -0.38485656] \n",
      "STATE: [ 0.69212895  0.66390471 -0.13933319 -0.17277554] ACT: [-0.31449096 -0.37328804] \n",
      "STATE: [ 0.63651538  0.59710223 -0.1588959  -0.19086421] ACT: [-0.32807366 -0.33630925] \n",
      "STATE: [ 0.57784259  0.53056776 -0.16763655 -0.19009848] ACT: [-0.21906511 -0.13439701] \n",
      "STATE: [ 0.52553013  0.47368629 -0.14946419 -0.1625185 ] ACT: [0.08195672 0.17262589] \n",
      "STATE: [ 0.4858282   0.43279513 -0.11343407 -0.11683189] ACT: [0.2996746  0.40024384] \n",
      "COLLIDED\n",
      "STATE: [ 0.43985903  0.39059587 -0.13134049 -0.1205693 ] ACT: [-0.28972037 -0.13033713] \n",
      "STATE: [ 0.38562481  0.34081248 -0.1549549  -0.14223827] ACT: [-0.36838435 -0.33807243] \n",
      "STATE: [ 0.32399196  0.28360031 -0.17609386 -0.16346333] ACT: [-0.35780422 -0.34925082] \n",
      "STATE: [ 0.25540942  0.2194845  -0.19595012 -0.18318802] ACT: [-0.35899905 -0.34802253] \n",
      "STATE: [ 0.18026322  0.14899083 -0.21470343 -0.20141048] ACT: [-0.36128614 -0.34564769] \n",
      "STATE: [ 0.09851345  0.07305279 -0.23357078 -0.21696584] ACT: [-0.37665451 -0.32883336] \n",
      "STATE: [ 0.03287291  0.01300828 -0.1875444  -0.17155572] ACT: [0.3508377  0.35624838] \n",
      "final state  [0.03287291 0.01300828]\n",
      "STATE: [ 0.75687995  0.84607133 -0.02766987 -0.03388865] ACT: [-0.3162271  -0.38729888] \n",
      "STATE: [ 0.73819132  0.82309127 -0.0533961  -0.06565731] ACT: [-0.31476645 -0.38848691] \n",
      "STATE: [ 0.71110874  0.78970622 -0.07737878 -0.09538586] ACT: [-0.31413487 -0.38899779] \n",
      "STATE: [ 0.67599939  0.74674972 -0.10031245 -0.12273286] ACT: [-0.32013313 -0.38407653] \n",
      "STATE: [ 0.63310579  0.69509274 -0.12255313 -0.14759139] ACT: [-0.3294136  -0.37614715] \n",
      "STATE: [ 0.58330597  0.63658358 -0.1422852  -0.16716902] ACT: [-0.31742412 -0.33443789] \n",
      "STATE: [ 0.52906265  0.57313437 -0.1549809  -0.18128345] ACT: [-0.25180768 -0.28668449] \n",
      "STATE: [ 0.48304636  0.5192127  -0.13147512 -0.15406193] ACT: [0.15240188 0.1751405 ] \n",
      "STATE: [ 0.45064509  0.4798847  -0.09257506 -0.11236572] ACT: [0.34596573 0.3609816 ] \n",
      "COLLIDED\n",
      "STATE: [ 0.42261971  0.44375028 -0.08007251 -0.10324118] ACT: [0.07345494 0.02000624] \n",
      "COLLIDED\n",
      "STATE: [ 0.41042379  0.4162117  -0.0348455  -0.07868167] ACT: [0.45682573 0.20324925] \n",
      "COLLIDED\n",
      "STATE: [ 0.38836436  0.37949149 -0.06302693 -0.10491489] ACT: [-0.34820759 -0.35881956] \n",
      "STATE: [ 0.35678878  0.33449144 -0.09021595 -0.12857158] ACT: [-0.35800183 -0.34904826] \n",
      "STATE: [ 0.31634767  0.28172817 -0.11554602 -0.15075219] ACT: [-0.35714846 -0.34992139] \n",
      "STATE: [ 0.26756617  0.2217693  -0.13937573 -0.17131105] ACT: [-0.35899905 -0.34802253] \n",
      "STATE: [ 0.21092156  0.15515978 -0.16184173 -0.19031293] ACT: [-0.36128614 -0.34564769] \n",
      "STATE: [ 0.143708    0.08741011 -0.19203876 -0.19357048] ACT: [-0.46649013 -0.17996376] \n",
      "STATE: [ 0.06858422  0.01501459 -0.21463936 -0.20684435] ACT: [-0.40232165 -0.29687925] \n",
      "STATE: [ 0.00954582 -0.04214044 -0.16868116 -0.16330009] ACT: [0.36425703 0.34251542] \n",
      "final state  [ 0.00954582 -0.04214044]\n",
      "STATE: [ 0.68093084  0.72820854 -0.02882369 -0.03291288] ACT: [-0.3294136  -0.37614715] \n",
      "STATE: [ 0.6620497   0.70634694 -0.0539461  -0.06246173] ACT: [-0.30873107 -0.36238583] \n",
      "STATE: [ 0.63523551  0.67486895 -0.07661199 -0.0899371 ] ACT: [-0.29949829 -0.36085055] \n",
      "STATE: [ 0.60045988  0.63521455 -0.09935894 -0.11329829] ACT: [-0.31742412 -0.33443789] \n",
      "STATE: [ 0.56035003  0.59286778 -0.11459957 -0.12099077] ACT: [-0.24869785 -0.17288772] \n",
      "STATE: [ 0.51530806  0.54517959 -0.12869133 -0.13625197] ACT: [-0.24699833 -0.26515677] \n",
      "STATE: [ 0.48359129  0.51188815 -0.09061935 -0.09511841] ACT: [0.33858984 0.36790885] \n",
      "STATE: [ 0.46455113  0.49183652 -0.05440045 -0.05729037] ACT: [0.34596573 0.3609816 ] \n",
      "STATE: [ 0.44901004  0.47371347 -0.04440312 -0.05178014] ACT: [0.07345494 0.02000624] \n",
      "STATE: [ 0.43673839  0.45739244 -0.03506185 -0.04663153] ACT: [0.07345494 0.02000624] \n",
      "STATE: [ 0.43926236  0.44836698  0.00721133 -0.02578702] ACT: [0.45682573 0.20324925] \n",
      "STATE: [ 0.45561098  0.44615832  0.04671034 -0.00631044] ACT: [0.45682573 0.20324925] \n",
      "STATE: [ 0.46038006  0.43295536  0.01362596 -0.03772274] ACT: [-0.34307442 -0.36373059] \n",
      "STATE: [ 0.4538124   0.4099911  -0.01876475 -0.06561218] ACT: [-0.35996003 -0.34702849] \n",
      "COLLIDED\n",
      "STATE: [ 0.43629588  0.37828831 -0.0500472  -0.0905794 ] ACT: [-0.37158727 -0.33454881] \n",
      "STATE: [ 0.40863511  0.33832564 -0.07903079 -0.11417904] ACT: [-0.36877646 -0.33764466] \n",
      "STATE: [ 0.37178611  0.29033675 -0.10528285 -0.13711113] ACT: [-0.35929665 -0.34771528] \n",
      "STATE: [ 0.32639145  0.2348076  -0.12969903 -0.15865472] ACT: [-0.3580042  -0.34904583] \n",
      "STATE: [ 0.27305015  0.17219396 -0.1524037  -0.17889612] ACT: [-0.35675621 -0.35032129] \n",
      "STATE: [ 0.21238255  0.10286102 -0.17333601 -0.1980941 ] ACT: [-0.35352917 -0.35357761] \n",
      "STATE: [ 0.14478871  0.02733106 -0.19312526 -0.21579989] ACT: [-0.35616492 -0.35092243] \n",
      "STATE: [ 0.0939621  -0.03416428 -0.14521887 -0.17570097] ACT: [0.40265766 0.29642336] \n",
      "final state  [ 0.0939621  -0.03416428]\n",
      "STATE: [ 0.74741482  0.72507479 -0.02829568 -0.0333679 ] ACT: [-0.32337925 -0.38134743] \n",
      "STATE: [ 0.72852996  0.7027305  -0.05395674 -0.06384083] ACT: [-0.31449096 -0.37328804] \n",
      "STATE: [ 0.70073685  0.67038523 -0.07940888 -0.09241506] ACT: [-0.33134921 -0.37444318] \n",
      "STATE: [ 0.6672535  0.6324551 -0.0956667 -0.1083718] ACT: [-0.24536033 -0.25167404] \n",
      "STATE: [ 0.62679989  0.58859579 -0.11558173 -0.12531233] ACT: [-0.29935035 -0.27488491] \n",
      "STATE: [ 0.58229219  0.54349883 -0.12716488 -0.12884845] ACT: [-0.21906511 -0.13439701] \n",
      "STATE: [ 0.54321522  0.50664803 -0.11164847 -0.105288  ] ACT: [0.08195672 0.17262589] \n",
      "STATE: [ 0.51627243  0.48416934 -0.07697942 -0.06422483] ACT: [0.31248133 0.39032732] \n",
      "STATE: [ 0.50027528  0.47542328 -0.04570612 -0.02498874] ACT: [0.2996746  0.40024384] \n",
      "STATE: [ 0.49450549  0.47950865 -0.01648513  0.01167248] ACT: [0.2996746  0.40024384] \n",
      "STATE: [ 0.47809712  0.47269136 -0.04688105 -0.01947795] ACT: [-0.35974579 -0.34725059] \n",
      "STATE: [ 0.45174834  0.45568691 -0.07528224 -0.04858414] ACT: [-0.35974579 -0.34725059] \n",
      "COLLIDED\n",
      "STATE: [ 0.41662204  0.42865913 -0.10036085 -0.07722223] ACT: [-0.34307442 -0.36373059] \n",
      "COLLIDED\n",
      "STATE: [ 0.37293692  0.39261401 -0.12481463 -0.10298606] ACT: [-0.35474236 -0.35236041] \n",
      "STATE: [ 0.32133572  0.34806231 -0.147432   -0.12729059] ACT: [-0.3520952  -0.35500559] \n",
      "STATE: [ 0.26216806  0.29573342 -0.16905045 -0.14951112] ACT: [-0.35764208 -0.34941686] \n",
      "STATE: [ 0.19574531  0.2363306  -0.18977929 -0.16972234] ACT: [-0.36368884 -0.34311868] \n",
      "STATE: [ 0.12244307  0.17042564 -0.20943496 -0.18829987] ACT: [-0.3669707 -0.3396064] \n",
      "STATE: [ 0.04286505  0.09828314 -0.22736578 -0.20612145] ACT: [-0.36199983 -0.34490016] \n",
      "STATE: [-0.01988644  0.04086571 -0.17928999 -0.16404978] ACT: [0.37891328 0.32622803] \n",
      "final state  [-0.01988644  0.04086571]\n",
      "STATE: [ 0.717127    0.66700253 -0.02767646 -0.03156943] ACT: [-0.31630243 -0.36079345] \n",
      "STATE: [ 0.70056177  0.64897083 -0.04732922 -0.05151916] ACT: [-0.24536033 -0.25167404] \n",
      "STATE: [ 0.67756948  0.62441494 -0.06569227 -0.07015969] ACT: [-0.24536033 -0.25167404] \n",
      "STATE: [ 0.64522657  0.59067495 -0.0924083  -0.09639996] ACT: [-0.35459523 -0.35250847] \n",
      "STATE: [ 0.60614714  0.55369097 -0.11165553 -0.10566853] ACT: [-0.28927453 -0.17822651] \n",
      "STATE: [ 0.5783091   0.53175094 -0.07953727 -0.06268579] ACT: [0.28332414 0.41197989] \n",
      "STATE: [ 0.55480785  0.51653739 -0.06714642 -0.04346727] ACT: [0.08195672 0.17262589] \n",
      "STATE: [ 0.54241861  0.51427601 -0.03539782 -0.00646109] ACT: [0.31248133 0.39032732] \n",
      "STATE: [ 0.54041216  0.52411681 -0.00573272  0.02811656] ACT: [0.31248133 0.39032732] \n",
      "STATE: [0.54810712 0.54526558 0.0219856  0.06042505] ACT: [0.31248133 0.39032732] \n",
      "STATE: [0.56520541 0.57670113 0.04885227 0.08981586] ACT: [0.32353679 0.38121378] \n",
      "STATE: [0.59053647 0.61819641 0.07237447 0.11855794] ACT: [0.30546434 0.39584282] \n",
      "STATE: [0.60658881 0.65167388 0.04586383 0.0956499 ] ACT: [-0.24869785 -0.17288772] \n",
      "STATE: [0.61520765 0.67608703 0.02462523 0.06975186] ACT: [-0.20832895 -0.22424019] \n",
      "STATE: [ 0.61353975  0.68865591 -0.00476541  0.03591108] ACT: [-0.31742412 -0.33443789] \n",
      "STATE: [ 0.60926949  0.69734835 -0.01220074  0.02483555] ACT: [-0.08854927 -0.09964422] \n",
      "STATE: [ 0.60256765  0.70241874 -0.01914813  0.01448685] ACT: [-0.08854927 -0.09964422] \n",
      "STATE: [ 0.59054792  0.69971548 -0.03434208 -0.0077236 ] ACT: [-0.18800622 -0.24296856] \n",
      "STATE: [ 0.57660517  0.69413802 -0.03983644 -0.01593561] ACT: [-0.08854927 -0.09964422] \n",
      "STATE: [ 0.56038724  0.68506204 -0.04633693 -0.02593137] ACT: [-0.10416864 -0.12618896] \n",
      "STATE: [ 0.54204346  0.67271713 -0.05241082 -0.03527116] ACT: [-0.10416864 -0.12618896] \n",
      "STATE: [ 0.51587719  0.65018705 -0.07476076 -0.06437167] ACT: [-0.294736   -0.35903067] \n",
      "STATE: [ 0.50252274  0.63968923 -0.03815558 -0.02999375] ACT: [0.36227441 0.34461174] \n",
      "STATE: [ 5.02354095e-01  6.38988070e-01 -4.81836485e-04 -2.00332669e-03] ACT: [0.40194035 0.29739528] \n",
      "STATE: [0.51450594 0.64744065 0.03471957 0.02415023] ACT: [0.40194035 0.29739528] \n",
      "STATE: [0.53695498 0.66589226 0.0641401  0.0527189 ] ACT: [0.36227441 0.34461174] \n",
      "STATE: [0.55733101 0.68087016 0.05821723 0.04279398] ACT: [-0.01958496 -0.07388847] \n",
      "STATE: [0.5731797  0.69100059 0.04528196 0.02894409] ACT: [-0.10416864 -0.12618896] \n",
      "STATE: [0.58479815 0.69660167 0.03319558 0.0160031 ] ACT: [-0.10416864 -0.12618896] \n",
      "STATE: [0.59246398 0.69797065 0.02190236 0.00391136] ACT: [-0.10416864 -0.12618896] \n",
      "STATE: [ 0.59691491  0.69619818  0.01271696 -0.00506419] ACT: [-0.08854927 -0.09964422] \n",
      "STATE: [ 0.59836193  0.69149043  0.00413435 -0.01345072] ACT: [-0.08854927 -0.09964422] \n",
      "STATE: [ 0.59700217  0.68404002 -0.00388503 -0.02128689] ACT: [-0.08854927 -0.09964422] \n",
      "STATE: [ 0.59301983  0.67402694 -0.01137814 -0.0286088 ] ACT: [-0.08854927 -0.09964422] \n",
      "STATE: [ 0.586587    0.66161936 -0.01837951 -0.03545022] ACT: [-0.08854927 -0.09964422] \n",
      "STATE: [ 0.57419625  0.64315868 -0.03540214 -0.05274482] ACT: [-0.20832895 -0.22424019] \n",
      "STATE: [ 0.55507375  0.61784216 -0.05463572 -0.07233291] ACT: [-0.24636403 -0.26342249] \n",
      "STATE: [ 0.53931066  0.59588106 -0.0450374  -0.062746  ] ACT: [0.0687183  0.05531501] \n",
      "STATE: [ 0.5348845   0.58668951 -0.01264618 -0.02626156] ACT: [0.33640739 0.36990548] \n",
      "STATE: [0.54105128 0.58942952 0.01761938 0.00782858] ACT: [0.33640739 0.36990548] \n",
      "STATE: [0.55711584 0.60331807 0.04589875 0.03968156] ACT: [0.33640739 0.36990548] \n",
      "STATE: [0.58242864 0.62762353 0.07232229 0.06944419] ACT: [0.33640739 0.36990548] \n",
      "STATE: [0.59836868 0.64155424 0.04554297 0.03980202] ACT: [-0.25180768 -0.28668449] \n",
      "STATE: [0.60564629 0.64927606 0.02079315 0.02206234] ACT: [-0.24869785 -0.17288772] \n",
      "STATE: [0.60606622 0.64962378 0.00119982 0.00099348] ACT: [-0.20832895 -0.22424019] \n",
      "STATE: [ 0.60007853  0.64308132 -0.0171077  -0.01869273] ACT: [-0.20832895 -0.22424019] \n",
      "STATE: [ 0.5881037   0.63010086 -0.03421379 -0.03708704] ACT: [-0.20832895 -0.22424019] \n",
      "STATE: [ 0.56929835  0.61267755 -0.05372957 -0.04978088] ACT: [-0.24869785 -0.17288772] \n",
      "STATE: [ 0.54416277  0.58827722 -0.07181593 -0.06971522] ACT: [-0.24699833 -0.26515677] \n",
      "STATE: [ 0.5309792   0.57680652 -0.03766736 -0.03277343] ACT: [0.33640739 0.36990548] \n",
      "final state  [0.5309792  0.57680652]\n",
      "STATE: [ 0.86269596  0.74396524 -0.02731429 -0.0341759 ] ACT: [-0.31216329 -0.39058172] \n",
      "STATE: [ 0.84426551  0.72077766 -0.05265842 -0.06625024] ACT: [-0.31013295 -0.39219581] \n",
      "STATE: [ 0.81757579  0.68707785 -0.07625636 -0.09628516] ACT: [-0.30918454 -0.39294391] \n",
      "STATE: [ 0.78291655  0.64375852 -0.09902639 -0.12376952] ACT: [-0.31742122 -0.38632081] \n",
      "STATE: [ 0.7407963   0.59208096 -0.12034357 -0.14765018] ACT: [-0.3178947  -0.36574902] \n",
      "STATE: [ 0.69124006  0.53342807 -0.14158925 -0.16757968] ACT: [-0.33306547 -0.33850337] \n",
      "STATE: [ 0.63358197  0.46835004 -0.16473738 -0.18593723] ACT: [-0.370742   -0.33548527] \n",
      "STATE: [ 0.56551021  0.41102146 -0.19449077 -0.16379592] ACT: [-0.46359172  0.11359059] \n",
      "STATE: [ 0.48875579  0.34960945 -0.21929834 -0.17546289] ACT: [-0.42938319 -0.25618368] \n",
      "STATE: [ 0.40574647  0.28188519 -0.23716947 -0.1934979 ] ACT: [-0.36871518 -0.33771159] \n",
      "STATE: [ 0.3172357   0.20790051 -0.25288792 -0.21138481] ACT: [-0.3575166  -0.34954525] \n",
      "STATE: [ 0.22364084  0.12800893 -0.26741389 -0.22826166] ACT: [-0.35567705 -0.3514169 ] \n",
      "STATE: [ 0.12585839  0.04205673 -0.27937841 -0.2455777 ] ACT: [-0.3372977  -0.36909384] \n",
      "STATE: [ 0.04976079 -0.0394232  -0.21742174 -0.23279982] ACT: [ 0.49854243 -0.03815033] \n",
      "final state  [ 0.04976079 -0.0394232 ]\n",
      "STATE: [ 0.74502828  0.69115425 -0.02751796 -0.0326627 ] ACT: [-0.31449096 -0.37328804] \n",
      "STATE: [ 0.72605098  0.66896438 -0.05422085 -0.06339962] ACT: [-0.32581438 -0.37577612] \n",
      "STATE: [ 0.70080491  0.6405232  -0.07213164 -0.0812605 ] ACT: [-0.24536033 -0.25167404] \n",
      "STATE: [ 0.6682973   0.60525425 -0.0928789  -0.10076843] ACT: [-0.29121028 -0.2838931 ] \n",
      "STATE: [ 0.62906396  0.56684164 -0.11209524 -0.10975032] ACT: [-0.28927453 -0.17822651] \n",
      "STATE: [ 0.59193482  0.53314065 -0.10608325 -0.09628856] ACT: [-0.01536293  0.07153598] \n",
      "STATE: [ 0.56591909  0.51426816 -0.07433067 -0.05392138] ACT: [0.28332414 0.41197989] \n",
      "STATE: [ 0.54951125  0.50975108 -0.04687954 -0.01290594] ACT: [0.25797918 0.42830683] \n",
      "STATE: [ 0.54374991  0.51748421 -0.01646096  0.02209465] ACT: [0.31248133 0.39032732] \n",
      "STATE: [0.54793641 0.53666363 0.01196141 0.05479833] ACT: [0.31248133 0.39032732] \n",
      "STATE: [0.56175648 0.56625907 0.03948591 0.0845584 ] ACT: [0.32353679 0.38121378] \n",
      "STATE: [0.58402445 0.60603499 0.06362278 0.1136455 ] ACT: [0.30546434 0.39584282] \n",
      "STATE: [0.59726676 0.6350802  0.03783518 0.0829863 ] ACT: [-0.24699833 -0.26515677] \n",
      "STATE: [0.60202368 0.65692462 0.01359118 0.06241264] ACT: [-0.24869785 -0.17288772] \n",
      "STATE: [ 0.60008835  0.67046815 -0.00552952  0.0386958 ] ACT: [-0.20832895 -0.22424019] \n",
      "STATE: [ 0.59189995  0.67625553 -0.02339543  0.01653537] ACT: [-0.20832895 -0.22424019] \n",
      "STATE: [ 0.58153709  0.67861151 -0.02960816  0.00673137] ACT: [-0.08854927 -0.09964422] \n",
      "STATE: [ 0.56866413  0.67694834 -0.03677989 -0.00475191] ACT: [-0.10416864 -0.12618896] \n",
      "STATE: [ 0.55344579  0.67152978 -0.04348096 -0.0154816 ] ACT: [-0.10416864 -0.12618896] \n",
      "STATE: [ 0.53019987  0.6554715  -0.06641692 -0.04588081] ACT: [-0.294736   -0.35903067] \n",
      "STATE: [ 0.50787967  0.6382042  -0.063772   -0.04933512] ACT: [-0.01958496 -0.07388847] \n",
      "STATE: [ 0.49933366  0.63117781 -0.02441718 -0.02007542] ACT: [0.40194035 0.29739528] \n",
      "STATE: [0.50246911 0.63513887 0.00895845 0.01131732] ACT: [0.36312289 0.34371757] \n",
      "STATE: [0.51770823 0.64794772 0.04354033 0.03659671] ACT: [0.40194035 0.29739528] \n",
      "STATE: [0.54304194 0.67046972 0.07238201 0.06434858] ACT: [0.36227441 0.34461174] \n",
      "STATE: [0.56611333 0.68925088 0.06591826 0.05366046] ACT: [-0.01958496 -0.07388847] \n",
      "STATE: [0.58448049 0.70293499 0.05247762 0.03909746] ACT: [-0.10416864 -0.12618896] \n",
      "STATE: [0.59417173 0.70700432 0.02768925 0.01162666] ACT: [-0.24393736 -0.28462886] \n",
      "STATE: [ 0.59746929  0.70336569  0.0094216  -0.01039609] ACT: [-0.18800622 -0.24296856] \n",
      "STATE: [ 0.59479276  0.69252494 -0.00764723 -0.03097359] ACT: [-0.18800622 -0.24296856] \n",
      "STATE: [ 0.58958005  0.679344   -0.01489345 -0.03765982] ACT: [-0.08854927 -0.09964422] \n",
      "STATE: [ 0.58199761  0.66397646 -0.02166413 -0.04390726] ACT: [-0.08854927 -0.09964422] \n",
      "STATE: [ 0.56736786  0.6415501  -0.04179927 -0.06407532] ACT: [-0.24636403 -0.26342249] \n",
      "STATE: [ 0.54598659  0.61181575 -0.06108936 -0.08495527] ACT: [-0.25180768 -0.28668449] \n",
      "STATE: [ 0.53631093  0.59536108 -0.02764473 -0.04701335] ACT: [0.33640739 0.36990548] \n",
      "STATE: [ 0.53757272  0.5913146   0.0036051  -0.01156137] ACT: [0.33640739 0.36990548] \n",
      "STATE: [0.54905418 0.59886203 0.03280417 0.02156408] ACT: [0.33640739 0.36990548] \n",
      "STATE: [0.57008464 0.61724251 0.06008704 0.05251566] ACT: [0.33640739 0.36990548] \n",
      "STATE: [0.58202337 0.62563706 0.03411066 0.02398443] ACT: [-0.25180768 -0.28668449] \n",
      "STATE: [ 0.58546701  0.62470101  0.00983897 -0.00267444] ACT: [-0.25180768 -0.28668449] \n",
      "STATE: [ 0.58097305  0.61504667 -0.01283988 -0.02758382] ACT: [-0.25180768 -0.28668449] \n",
      "STATE: [ 0.5690624   0.59724619 -0.03403044 -0.05085853] ACT: [-0.25180768 -0.28668449] \n",
      "STATE: [ 0.55036906  0.57249343 -0.05340954 -0.07072215] ACT: [-0.24699833 -0.26515677] \n",
      "STATE: [ 0.53756978  0.55472876 -0.03656938 -0.05075622] ACT: [0.15240188 0.1751405 ] \n",
      "STATE: [ 0.53551876  0.54980456 -0.00586004 -0.01406914] ACT: [0.32353679 0.38121378] \n",
      "STATE: [0.54351066 0.55687818 0.02283399 0.02021036] ACT: [0.32353679 0.38121378] \n",
      "STATE: [0.5608864  0.57516227 0.04964498 0.05224026] ACT: [0.32353679 0.38121378] \n",
      "STATE: [0.58647671 0.60436916 0.07311516 0.08344824] ACT: [0.30546434 0.39584282] \n",
      "STATE: [0.60299189 0.62417939 0.04718623 0.05660067] ACT: [-0.24149422 -0.24424318] \n",
      "STATE: [0.61080689 0.63739489 0.02232857 0.03775857] ACT: [-0.24869785 -0.17288772] \n",
      "final state  [0.61080689 0.63739489]\n",
      "STATE: [ 0.71497132  0.8277666  -0.02805333 -0.03357191] ACT: [-0.32060951 -0.38367896] \n",
      "STATE: [ 0.69597834  0.80503737 -0.05426566 -0.06494066] ACT: [-0.32060951 -0.38367896] \n",
      "STATE: [ 0.66840877  0.7720532  -0.0787702  -0.09424048] ACT: [-0.32075112 -0.38356058] \n",
      "STATE: [ 0.6327848   0.72952119 -0.10178277 -0.12152004] ACT: [-0.32207839 -0.38244674] \n",
      "STATE: [ 0.59267979  0.68177168 -0.11458576 -0.13642718] ACT: [-0.22265693 -0.26150731] \n",
      "STATE: [ 0.55249484  0.63410412 -0.11481413 -0.13619301] ACT: [-0.08854927 -0.09964422] \n",
      "STATE: [ 0.51705153  0.59125878 -0.1012666  -0.12241528] ACT: [0.0687183  0.05531501] \n",
      "STATE: [ 0.49154423  0.5589418  -0.072878   -0.09233421] ACT: [0.24849118 0.25197223] \n",
      "STATE: [ 0.47911018  0.53896952 -0.03552586 -0.05706367] ACT: [0.37222306 0.33384127] \n",
      "STATE: [ 0.47831624  0.53113893 -0.0022684  -0.0223731 ] ACT: [0.35344094 0.3536658 ] \n",
      "STATE: [0.48839854 0.53465324 0.02880655 0.01004089] ACT: [0.35344094 0.3536658 ] \n",
      "STATE: [0.50864331 0.54876794 0.0578422  0.04032771] ACT: [0.35344094 0.3536658 ] \n",
      "STATE: [0.53792883 0.57322357 0.08367292 0.06987323] ACT: [0.33858984 0.36790885] \n",
      "STATE: [0.5699598  0.60143798 0.09151705 0.08061259] ACT: [0.15240188 0.1751405 ] \n",
      "STATE: [0.59232441 0.61968039 0.06389889 0.05212117] ACT: [-0.24699833 -0.26515677] \n",
      "STATE: [0.60560497 0.63143096 0.03794446 0.03357305] ACT: [-0.24869785 -0.17288772] \n",
      "STATE: [0.61039762 0.63711571 0.0136933  0.01624214] ACT: [-0.24869785 -0.17288772] \n",
      "STATE: [ 6.07259387e-01  6.37132710e-01 -8.96638856e-03  4.85751522e-05] ACT: [-0.24869785 -0.17288772] \n",
      "STATE: [ 0.59671073  0.63185391 -0.03013903 -0.01508229] ACT: [-0.24869785 -0.17288772] \n",
      "STATE: [ 0.57923795  0.62162684 -0.04992222 -0.02922019] ACT: [-0.24869785 -0.17288772] \n",
      "STATE: [ 0.55520021  0.60329122 -0.06867924 -0.05238751] ACT: [-0.25180768 -0.28668449] \n",
      "STATE: [ 0.54304243  0.59748722 -0.03473652 -0.01658285] ACT: [0.33640739 0.36990548] \n",
      "STATE: [ 0.54198498  0.60339247 -0.00302129  0.01687213] ACT: [0.33640739 0.36990548] \n",
      "STATE: [0.5512994  0.62023854 0.02661263 0.04813163] ACT: [0.33640739 0.36990548] \n",
      "STATE: [0.56210706 0.63767311 0.03087903 0.04981305] ACT: [0.0687183  0.05531501] \n",
      "STATE: [0.56449385 0.64518382 0.00681942 0.02145918] ACT: [-0.25180768 -0.28668449] \n",
      "STATE: [ 0.55917912  0.64413433 -0.01518496 -0.00299855] ACT: [-0.24636403 -0.26342249] \n",
      "STATE: [ 0.54666826  0.63508639 -0.0357453  -0.02585124] ACT: [-0.24636403 -0.26342249] \n",
      "STATE: [ 0.53708293  0.62832625 -0.02738666 -0.01931469] ACT: [0.0687183  0.05531501] \n",
      "STATE: [ 0.53023114  0.62370377 -0.01957656 -0.0132071 ] ACT: [0.0687183  0.05531501] \n",
      "STATE: [ 0.52593349  0.62107866 -0.012279   -0.00750032] ACT: [0.0687183  0.05531501] \n",
      "STATE: [0.53422729 0.62773355 0.02369659 0.01901398] ACT: [0.40194035 0.29739528] \n",
      "STATE: [0.54408132 0.63564574 0.02815435 0.02260625] ACT: [0.0687183  0.05531501] \n",
      "STATE: [0.55539317 0.64473271 0.03231958 0.02596278] ACT: [0.0687183  0.05531501] \n",
      "STATE: [0.56536289 0.65096051 0.02848492 0.01779373] ACT: [-0.01958496 -0.07388847] \n",
      "STATE: [ 0.56713345  0.64871231  0.00505874 -0.00642345] ACT: [-0.24636403 -0.26342249] \n",
      "STATE: [ 0.56124292  0.63854432 -0.01683009 -0.02905138] ACT: [-0.24636403 -0.26342249] \n",
      "STATE: [ 0.54802735  0.6202639  -0.03775879 -0.05222978] ACT: [-0.25180768 -0.28668449] \n",
      "STATE: [ 0.53778354  0.60487715 -0.02926801 -0.04396214] ACT: [0.0687183  0.05531501] \n",
      "STATE: [ 0.53851446  0.60182852  0.00208835 -0.00871039] ACT: [0.33640739 0.36990548] \n",
      "STATE: [0.54949989 0.6103083  0.03138695 0.02422796] ACT: [0.33640739 0.36990548] \n",
      "STATE: [0.57006688 0.62955996 0.05876282 0.05500473] ACT: [0.33640739 0.36990548] \n",
      "STATE: [0.58157255 0.63876851 0.03287334 0.02631015] ACT: [-0.25180768 -0.28668449] \n",
      "STATE: [ 5.84611550e-01  6.38593037e-01  8.68285720e-03 -5.01346841e-04] ACT: [-0.25180768 -0.28668449] \n",
      "STATE: [ 0.57973951  0.62964937 -0.01392013 -0.02555334] ACT: [-0.25180768 -0.28668449] \n",
      "STATE: [ 0.56747558  0.61251292 -0.03503979 -0.04896129] ACT: [-0.25180768 -0.28668449] \n",
      "STATE: [ 0.54845215  0.58838062 -0.05435266 -0.06894943] ACT: [-0.24699833 -0.26515677] \n",
      "STATE: [ 0.54097961  0.57716035 -0.02135012 -0.03205789] ACT: [0.33640739 0.36990548] \n",
      "STATE: [ 0.53866476  0.5720401  -0.00661385 -0.0146293 ] ACT: [0.15240188 0.1751405 ] \n",
      "STATE: [0.54116913 0.57261954 0.00715535 0.00165554] ACT: [0.15240188 0.1751405 ] \n",
      "final state  [0.54116913 0.57261954]\n",
      "STATE: [ 0.65502503  0.65997664 -0.00819573 -0.00539407] ACT: [-0.09366549 -0.06164647] \n",
      "STATE: [ 0.64947626  0.65632469 -0.01585362 -0.01043415] ACT: [-0.09366549 -0.06164647] \n",
      "STATE: [ 0.64142313  0.65102448 -0.02300895 -0.01514347] ACT: [-0.09366549 -0.06164647] \n",
      "STATE: [ 0.62648986  0.63829383 -0.04266647 -0.03637327] ACT: [-0.24191409 -0.2539839 ] \n",
      "STATE: [ 0.60706338  0.6219669  -0.05550424 -0.04664837] ACT: [-0.17871722 -0.14470958] \n",
      "STATE: [ 0.58129539  0.60141675 -0.07362284 -0.05871474] ACT: [-0.24869785 -0.17288772] \n",
      "STATE: [ 0.54965409  0.57409476 -0.09040369 -0.0780628 ] ACT: [-0.24699833 -0.26515677] \n",
      "STATE: [ 0.52475657  0.55392947 -0.07113579 -0.05761514] ACT: [0.15240188 0.1751405 ] \n",
      "STATE: [ 0.51186226  0.54635472 -0.03684089 -0.02164212] ACT: [0.33858984 0.36790885] \n",
      "STATE: [ 0.51018345  0.55054428 -0.00479659  0.01197017] ACT: [0.33858984 0.36790885] \n",
      "STATE: [0.51898412 0.56572611 0.02514479 0.04337665] ACT: [0.33858984 0.36790885] \n",
      "STATE: [0.53812002 0.59065333 0.05467399 0.07122065] ACT: [0.35633513 0.35074959] \n",
      "STATE: [0.5663026  0.62527307 0.08052166 0.09891352] ACT: [0.33640739 0.36990548] \n",
      "STATE: [0.58492409 0.64884117 0.05320425 0.06733743] ACT: [-0.25180768 -0.28668449] \n",
      "STATE: [0.59477864 0.66279529 0.02815587 0.03986894] ACT: [-0.24636403 -0.26342249] \n",
      "STATE: [0.59760642 0.66896633 0.00807936 0.01763152] ACT: [-0.20832895 -0.22424019] \n",
      "STATE: [ 0.59386855  0.66786503 -0.01067963 -0.00314656] ACT: [-0.20832895 -0.22424019] \n",
      "STATE: [ 0.5839959   0.65996865 -0.02820757 -0.02256108] ACT: [-0.20832895 -0.22424019] \n",
      "STATE: [ 0.56722624  0.64452316 -0.0479133  -0.04412998] ACT: [-0.24636403 -0.26342249] \n",
      "STATE: [ 0.5440122   0.62202396 -0.06632584 -0.06428342] ACT: [-0.24636403 -0.26342249] \n",
      "STATE: [ 0.52442608  0.6026953  -0.05596036 -0.05522476] ACT: [0.0687183  0.05531501] \n",
      "STATE: [ 0.51373533  0.59235173 -0.03054498 -0.02955306] ACT: [0.24849118 0.25197223] \n",
      "STATE: [ 0.51135621  0.5904036  -0.00679749 -0.00556607] ACT: [0.24849118 0.25197223] \n",
      "STATE: [0.51674326 0.59629997 0.01539158 0.01684677] ACT: [0.24849118 0.25197223] \n",
      "STATE: [0.52938683 0.60952604 0.03612448 0.03778877] ACT: [0.24849118 0.25197223] \n",
      "STATE: [0.55150314 0.63321251 0.06318946 0.06767561] ACT: [0.33640739 0.36990548] \n",
      "STATE: [0.57427257 0.65703857 0.0650555  0.06807447] ACT: [0.0687183  0.05531501] \n",
      "STATE: [0.58800285 0.67123374 0.03922938 0.04055761] ACT: [-0.24636403 -0.26342249] \n",
      "STATE: [0.59445201 0.67762999 0.01842617 0.018275  ] ACT: [-0.20832895 -0.22424019] \n",
      "STATE: [0.59776613 0.68055488 0.00946889 0.00835684] ACT: [-0.08854927 -0.09964422] \n",
      "STATE: [ 0.59815093  0.68023622  0.00109944 -0.00091045] ACT: [-0.08854927 -0.09964422] \n",
      "STATE: [ 0.59579866  0.67688687 -0.00672078 -0.00956957] ACT: [-0.08854927 -0.09964422] \n",
      "STATE: [ 0.59088893  0.67070572 -0.01402779 -0.01766044] ACT: [-0.08854927 -0.09964422] \n",
      "STATE: [ 0.57992133  0.65806285 -0.031336   -0.03612249] ACT: [-0.20832895 -0.22424019] \n",
      "STATE: [ 0.56212859  0.63818235 -0.05083642 -0.05680142] ACT: [-0.24636403 -0.26342249] \n",
      "STATE: [ 0.53779188  0.6108268  -0.06953346 -0.07815872] ACT: [-0.25180768 -0.28668449] \n",
      "STATE: [ 0.52535474  0.59659481 -0.03553468 -0.04066282] ACT: [0.33640739 0.36990548] \n",
      "STATE: [ 0.52134383  0.59101345 -0.01145973 -0.01594675] ACT: [0.24849118 0.25197223] \n",
      "STATE: [0.52520618 0.59351501 0.01103529 0.00714732] ACT: [0.24849118 0.25197223] \n",
      "STATE: [0.53642511 0.60356906 0.03205408 0.02872585] ACT: [0.24849118 0.25197223] \n",
      "STATE: [0.55721027 0.62429166 0.05938618 0.05920745] ACT: [0.33640739 0.36990548] \n",
      "STATE: [0.5689198  0.63487464 0.03345579 0.03023706] ACT: [-0.25180768 -0.28668449] \n",
      "STATE: [0.57214927 0.63598339 0.00922708 0.00316786] ACT: [-0.25180768 -0.28668449] \n",
      "STATE: [ 0.56745521  0.62823967 -0.01341162 -0.02212492] ACT: [-0.25180768 -0.28668449] \n",
      "STATE: [ 0.55535758  0.61222441 -0.03456465 -0.04575787] ACT: [-0.25180768 -0.28668449] \n",
      "STATE: [ 0.55435633  0.60858852 -0.0028607  -0.01038828] ACT: [0.33640739 0.36990548] \n",
      "STATE: [0.56372327 0.61651958 0.02676268 0.02266018] ACT: [0.33640739 0.36990548] \n",
      "STATE: [ 0.56476389  0.61515046  0.00297321 -0.00391178] ACT: [-0.25180768 -0.28668449] \n",
      "STATE: [ 0.55802461  0.60509147 -0.01925508 -0.02873997] ACT: [-0.25180768 -0.28668449] \n",
      "STATE: [ 0.54416328  0.58757218 -0.03960382 -0.05005512] ACT: [-0.24699833 -0.26515677] \n",
      "final state  [0.54416328 0.58757218]\n",
      "After 18 REWARD:  (0.712961255789371, array([ 0.24513857,  0.22963393, -0.11022058, -0.11195892]), -0.07475196902387161)\n",
      "UPDATING THE ACTION MATRIX\n"
     ]
    },
    {
     "name": "stderr",
     "output_type": "stream",
     "text": [
      "100%|█████████████████████████████████████████████████████████████████████████████████████████████████████████████████████████| 25/25 [00:03<00:00,  7.04it/s]\n",
      "Generating Dynamics Dataset: 100%|██████████████████████████████████████████████████████████████████████████████████████████| 15/15 [00:00<00:00, 1026.47it/s]\n"
     ]
    },
    {
     "name": "stdout",
     "output_type": "stream",
     "text": [
      "COLLIDED\n",
      "COLLIDED\n",
      "COLLIDED\n",
      "COLLIDED\n",
      "COLLIDED\n",
      "COLLIDED\n",
      "COLLIDED\n",
      "COLLIDED\n",
      "COLLIDED\n",
      "COLLIDED\n"
     ]
    },
    {
     "name": "stderr",
     "output_type": "stream",
     "text": [
      "100%|██████████████████████████████████████████████████████████████████████████████████████████████████████████████████████| 110/110 [00:00<00:00, 235.55it/s]\n"
     ]
    },
    {
     "name": "stdout",
     "output_type": "stream",
     "text": [
      "Epoch 1, loss: 0.000, err: 0.009, val_loss: 0.000, val_err: 0.017\n"
     ]
    },
    {
     "name": "stderr",
     "output_type": "stream",
     "text": [
      "100%|██████████████████████████████████████████████████████████████████████████████████████████████████████████████████████| 110/110 [00:00<00:00, 233.30it/s]\n"
     ]
    },
    {
     "name": "stdout",
     "output_type": "stream",
     "text": [
      "Epoch 2, loss: 0.000, err: 0.009, val_loss: 0.000, val_err: 0.017\n"
     ]
    },
    {
     "name": "stderr",
     "output_type": "stream",
     "text": [
      "100%|██████████████████████████████████████████████████████████████████████████████████████████████████████████████████████| 110/110 [00:00<00:00, 239.33it/s]\n"
     ]
    },
    {
     "name": "stdout",
     "output_type": "stream",
     "text": [
      "Epoch 3, loss: 0.000, err: 0.009, val_loss: 0.000, val_err: 0.017\n"
     ]
    },
    {
     "name": "stderr",
     "output_type": "stream",
     "text": [
      "100%|██████████████████████████████████████████████████████████████████████████████████████████████████████████████████████| 110/110 [00:00<00:00, 238.25it/s]\n"
     ]
    },
    {
     "name": "stdout",
     "output_type": "stream",
     "text": [
      "Epoch 4, loss: 0.000, err: 0.009, val_loss: 0.000, val_err: 0.017\n"
     ]
    },
    {
     "name": "stderr",
     "output_type": "stream",
     "text": [
      "100%|██████████████████████████████████████████████████████████████████████████████████████████████████████████████████████| 110/110 [00:00<00:00, 240.36it/s]\n"
     ]
    },
    {
     "name": "stdout",
     "output_type": "stream",
     "text": [
      "Epoch 5, loss: 0.000, err: 0.009, val_loss: 0.000, val_err: 0.017\n"
     ]
    },
    {
     "name": "stderr",
     "output_type": "stream",
     "text": [
      "100%|██████████████████████████████████████████████████████████████████████████████████████████████████████████████████████| 110/110 [00:00<00:00, 239.86it/s]\n"
     ]
    },
    {
     "name": "stdout",
     "output_type": "stream",
     "text": [
      "Epoch 6, loss: 0.000, err: 0.009, val_loss: 0.000, val_err: 0.017\n"
     ]
    },
    {
     "name": "stderr",
     "output_type": "stream",
     "text": [
      "100%|██████████████████████████████████████████████████████████████████████████████████████████████████████████████████████| 110/110 [00:00<00:00, 237.81it/s]\n"
     ]
    },
    {
     "name": "stdout",
     "output_type": "stream",
     "text": [
      "Epoch 7, loss: 0.000, err: 0.009, val_loss: 0.000, val_err: 0.017\n"
     ]
    },
    {
     "name": "stderr",
     "output_type": "stream",
     "text": [
      "100%|██████████████████████████████████████████████████████████████████████████████████████████████████████████████████████| 110/110 [00:00<00:00, 238.55it/s]\n"
     ]
    },
    {
     "name": "stdout",
     "output_type": "stream",
     "text": [
      "Epoch 8, loss: 0.000, err: 0.009, val_loss: 0.000, val_err: 0.017\n"
     ]
    },
    {
     "name": "stderr",
     "output_type": "stream",
     "text": [
      "100%|██████████████████████████████████████████████████████████████████████████████████████████████████████████████████████| 110/110 [00:00<00:00, 241.17it/s]\n"
     ]
    },
    {
     "name": "stdout",
     "output_type": "stream",
     "text": [
      "Epoch 9, loss: 0.000, err: 0.009, val_loss: 0.000, val_err: 0.017\n"
     ]
    },
    {
     "name": "stderr",
     "output_type": "stream",
     "text": [
      "100%|██████████████████████████████████████████████████████████████████████████████████████████████████████████████████████| 110/110 [00:00<00:00, 236.13it/s]\n"
     ]
    },
    {
     "name": "stdout",
     "output_type": "stream",
     "text": [
      "Epoch 10, loss: 0.000, err: 0.009, val_loss: 0.000, val_err: 0.017\n"
     ]
    },
    {
     "name": "stderr",
     "output_type": "stream",
     "text": [
      "100%|██████████████████████████████████████████████████████████████████████████████████████████████████████████████████████| 110/110 [00:00<00:00, 238.13it/s]\n"
     ]
    },
    {
     "name": "stdout",
     "output_type": "stream",
     "text": [
      "Epoch 11, loss: 0.000, err: 0.009, val_loss: 0.000, val_err: 0.017\n"
     ]
    },
    {
     "name": "stderr",
     "output_type": "stream",
     "text": [
      "100%|██████████████████████████████████████████████████████████████████████████████████████████████████████████████████████| 110/110 [00:00<00:00, 239.58it/s]\n"
     ]
    },
    {
     "name": "stdout",
     "output_type": "stream",
     "text": [
      "Epoch 12, loss: 0.000, err: 0.009, val_loss: 0.000, val_err: 0.017\n"
     ]
    },
    {
     "name": "stderr",
     "output_type": "stream",
     "text": [
      "100%|██████████████████████████████████████████████████████████████████████████████████████████████████████████████████████| 110/110 [00:00<00:00, 238.36it/s]\n"
     ]
    },
    {
     "name": "stdout",
     "output_type": "stream",
     "text": [
      "Epoch 13, loss: 0.000, err: 0.009, val_loss: 0.000, val_err: 0.017\n"
     ]
    },
    {
     "name": "stderr",
     "output_type": "stream",
     "text": [
      "100%|██████████████████████████████████████████████████████████████████████████████████████████████████████████████████████| 110/110 [00:00<00:00, 237.95it/s]\n"
     ]
    },
    {
     "name": "stdout",
     "output_type": "stream",
     "text": [
      "Epoch 14, loss: 0.000, err: 0.009, val_loss: 0.000, val_err: 0.017\n"
     ]
    },
    {
     "name": "stderr",
     "output_type": "stream",
     "text": [
      "100%|██████████████████████████████████████████████████████████████████████████████████████████████████████████████████████| 110/110 [00:00<00:00, 231.58it/s]\n"
     ]
    },
    {
     "name": "stdout",
     "output_type": "stream",
     "text": [
      "Epoch 15, loss: 0.000, err: 0.009, val_loss: 0.000, val_err: 0.017\n"
     ]
    },
    {
     "name": "stderr",
     "output_type": "stream",
     "text": [
      "100%|██████████████████████████████████████████████████████████████████████████████████████████████████████████████████████| 110/110 [00:00<00:00, 238.60it/s]\n"
     ]
    },
    {
     "name": "stdout",
     "output_type": "stream",
     "text": [
      "Epoch 16, loss: 0.000, err: 0.010, val_loss: 0.000, val_err: 0.017\n"
     ]
    },
    {
     "name": "stderr",
     "output_type": "stream",
     "text": [
      "100%|██████████████████████████████████████████████████████████████████████████████████████████████████████████████████████| 110/110 [00:00<00:00, 235.34it/s]\n"
     ]
    },
    {
     "name": "stdout",
     "output_type": "stream",
     "text": [
      "Epoch 17, loss: 0.000, err: 0.009, val_loss: 0.000, val_err: 0.017\n"
     ]
    },
    {
     "name": "stderr",
     "output_type": "stream",
     "text": [
      "100%|██████████████████████████████████████████████████████████████████████████████████████████████████████████████████████| 110/110 [00:00<00:00, 236.44it/s]\n"
     ]
    },
    {
     "name": "stdout",
     "output_type": "stream",
     "text": [
      "Epoch 18, loss: 0.000, err: 0.009, val_loss: 0.000, val_err: 0.017\n"
     ]
    },
    {
     "name": "stderr",
     "output_type": "stream",
     "text": [
      "100%|██████████████████████████████████████████████████████████████████████████████████████████████████████████████████████| 110/110 [00:00<00:00, 238.97it/s]\n"
     ]
    },
    {
     "name": "stdout",
     "output_type": "stream",
     "text": [
      "Epoch 19, loss: 0.000, err: 0.009, val_loss: 0.000, val_err: 0.017\n"
     ]
    },
    {
     "name": "stderr",
     "output_type": "stream",
     "text": [
      "100%|██████████████████████████████████████████████████████████████████████████████████████████████████████████████████████| 110/110 [00:00<00:00, 236.80it/s]\n"
     ]
    },
    {
     "name": "stdout",
     "output_type": "stream",
     "text": [
      "Epoch 20, loss: 0.000, err: 0.009, val_loss: 0.000, val_err: 0.017\n"
     ]
    },
    {
     "name": "stderr",
     "output_type": "stream",
     "text": [
      "100%|██████████████████████████████████████████████████████████████████████████████████████████████████████████████████████| 110/110 [00:00<00:00, 226.64it/s]\n"
     ]
    },
    {
     "name": "stdout",
     "output_type": "stream",
     "text": [
      "Epoch 21, loss: 0.000, err: 0.009, val_loss: 0.000, val_err: 0.017\n"
     ]
    },
    {
     "name": "stderr",
     "output_type": "stream",
     "text": [
      "100%|██████████████████████████████████████████████████████████████████████████████████████████████████████████████████████| 110/110 [00:00<00:00, 222.96it/s]\n"
     ]
    },
    {
     "name": "stdout",
     "output_type": "stream",
     "text": [
      "Epoch 22, loss: 0.000, err: 0.009, val_loss: 0.000, val_err: 0.017\n"
     ]
    },
    {
     "name": "stderr",
     "output_type": "stream",
     "text": [
      "100%|██████████████████████████████████████████████████████████████████████████████████████████████████████████████████████| 110/110 [00:00<00:00, 234.02it/s]\n"
     ]
    },
    {
     "name": "stdout",
     "output_type": "stream",
     "text": [
      "Epoch 23, loss: 0.000, err: 0.009, val_loss: 0.000, val_err: 0.017\n"
     ]
    },
    {
     "name": "stderr",
     "output_type": "stream",
     "text": [
      "100%|██████████████████████████████████████████████████████████████████████████████████████████████████████████████████████| 110/110 [00:00<00:00, 235.97it/s]\n"
     ]
    },
    {
     "name": "stdout",
     "output_type": "stream",
     "text": [
      "Epoch 24, loss: 0.000, err: 0.010, val_loss: 0.000, val_err: 0.017\n"
     ]
    },
    {
     "name": "stderr",
     "output_type": "stream",
     "text": [
      "100%|██████████████████████████████████████████████████████████████████████████████████████████████████████████████████████| 110/110 [00:00<00:00, 238.05it/s]\n"
     ]
    },
    {
     "name": "stdout",
     "output_type": "stream",
     "text": [
      "Epoch 25, loss: 0.000, err: 0.009, val_loss: 0.000, val_err: 0.017\n"
     ]
    },
    {
     "name": "stderr",
     "output_type": "stream",
     "text": [
      "100%|██████████████████████████████████████████████████████████████████████████████████████████████████████████████████████| 110/110 [00:00<00:00, 238.06it/s]\n"
     ]
    },
    {
     "name": "stdout",
     "output_type": "stream",
     "text": [
      "Epoch 26, loss: 0.000, err: 0.009, val_loss: 0.000, val_err: 0.017\n"
     ]
    },
    {
     "name": "stderr",
     "output_type": "stream",
     "text": [
      "100%|██████████████████████████████████████████████████████████████████████████████████████████████████████████████████████| 110/110 [00:00<00:00, 231.31it/s]\n"
     ]
    },
    {
     "name": "stdout",
     "output_type": "stream",
     "text": [
      "Epoch 27, loss: 0.000, err: 0.009, val_loss: 0.000, val_err: 0.017\n"
     ]
    },
    {
     "name": "stderr",
     "output_type": "stream",
     "text": [
      "100%|██████████████████████████████████████████████████████████████████████████████████████████████████████████████████████| 110/110 [00:00<00:00, 237.07it/s]\n"
     ]
    },
    {
     "name": "stdout",
     "output_type": "stream",
     "text": [
      "Epoch 28, loss: 0.000, err: 0.009, val_loss: 0.000, val_err: 0.017\n"
     ]
    },
    {
     "name": "stderr",
     "output_type": "stream",
     "text": [
      "100%|██████████████████████████████████████████████████████████████████████████████████████████████████████████████████████| 110/110 [00:00<00:00, 186.80it/s]\n"
     ]
    },
    {
     "name": "stdout",
     "output_type": "stream",
     "text": [
      "Epoch 29, loss: 0.000, err: 0.009, val_loss: 0.000, val_err: 0.017\n"
     ]
    },
    {
     "name": "stderr",
     "output_type": "stream",
     "text": [
      "100%|██████████████████████████████████████████████████████████████████████████████████████████████████████████████████████| 110/110 [00:00<00:00, 236.94it/s]\n"
     ]
    },
    {
     "name": "stdout",
     "output_type": "stream",
     "text": [
      "Epoch 30, loss: 0.000, err: 0.009, val_loss: 0.000, val_err: 0.017\n"
     ]
    },
    {
     "name": "stderr",
     "output_type": "stream",
     "text": [
      "100%|██████████████████████████████████████████████████████████████████████████████████████████████████████████████████████| 110/110 [00:00<00:00, 233.08it/s]\n"
     ]
    },
    {
     "name": "stdout",
     "output_type": "stream",
     "text": [
      "Epoch 31, loss: 0.000, err: 0.009, val_loss: 0.000, val_err: 0.017\n"
     ]
    },
    {
     "name": "stderr",
     "output_type": "stream",
     "text": [
      "100%|██████████████████████████████████████████████████████████████████████████████████████████████████████████████████████| 110/110 [00:00<00:00, 236.56it/s]\n"
     ]
    },
    {
     "name": "stdout",
     "output_type": "stream",
     "text": [
      "Epoch 32, loss: 0.000, err: 0.009, val_loss: 0.000, val_err: 0.017\n"
     ]
    },
    {
     "name": "stderr",
     "output_type": "stream",
     "text": [
      "100%|██████████████████████████████████████████████████████████████████████████████████████████████████████████████████████| 110/110 [00:00<00:00, 237.03it/s]\n"
     ]
    },
    {
     "name": "stdout",
     "output_type": "stream",
     "text": [
      "Epoch 33, loss: 0.000, err: 0.009, val_loss: 0.000, val_err: 0.017\n"
     ]
    },
    {
     "name": "stderr",
     "output_type": "stream",
     "text": [
      "100%|██████████████████████████████████████████████████████████████████████████████████████████████████████████████████████| 110/110 [00:00<00:00, 235.54it/s]\n"
     ]
    },
    {
     "name": "stdout",
     "output_type": "stream",
     "text": [
      "Epoch 34, loss: 0.000, err: 0.009, val_loss: 0.000, val_err: 0.017\n"
     ]
    },
    {
     "name": "stderr",
     "output_type": "stream",
     "text": [
      "100%|██████████████████████████████████████████████████████████████████████████████████████████████████████████████████████| 110/110 [00:00<00:00, 235.85it/s]\n"
     ]
    },
    {
     "name": "stdout",
     "output_type": "stream",
     "text": [
      "Epoch 35, loss: 0.000, err: 0.009, val_loss: 0.000, val_err: 0.017\n"
     ]
    },
    {
     "name": "stderr",
     "output_type": "stream",
     "text": [
      "100%|██████████████████████████████████████████████████████████████████████████████████████████████████████████████████████| 110/110 [00:00<00:00, 235.10it/s]\n"
     ]
    },
    {
     "name": "stdout",
     "output_type": "stream",
     "text": [
      "Epoch 36, loss: 0.000, err: 0.009, val_loss: 0.000, val_err: 0.017\n"
     ]
    },
    {
     "name": "stderr",
     "output_type": "stream",
     "text": [
      "100%|██████████████████████████████████████████████████████████████████████████████████████████████████████████████████████| 110/110 [00:00<00:00, 238.09it/s]\n"
     ]
    },
    {
     "name": "stdout",
     "output_type": "stream",
     "text": [
      "Epoch 37, loss: 0.000, err: 0.009, val_loss: 0.000, val_err: 0.017\n"
     ]
    },
    {
     "name": "stderr",
     "output_type": "stream",
     "text": [
      "100%|██████████████████████████████████████████████████████████████████████████████████████████████████████████████████████| 110/110 [00:00<00:00, 239.33it/s]\n"
     ]
    },
    {
     "name": "stdout",
     "output_type": "stream",
     "text": [
      "Epoch 38, loss: 0.000, err: 0.010, val_loss: 0.000, val_err: 0.017\n"
     ]
    },
    {
     "name": "stderr",
     "output_type": "stream",
     "text": [
      "100%|██████████████████████████████████████████████████████████████████████████████████████████████████████████████████████| 110/110 [00:00<00:00, 235.17it/s]\n"
     ]
    },
    {
     "name": "stdout",
     "output_type": "stream",
     "text": [
      "Epoch 39, loss: 0.000, err: 0.009, val_loss: 0.000, val_err: 0.018\n"
     ]
    },
    {
     "name": "stderr",
     "output_type": "stream",
     "text": [
      "100%|████████████████████████████████████████████████████████████████████████████████████████████████████████████████████████| 10/10 [00:00<00:00, 427.77it/s]\n"
     ]
    },
    {
     "name": "stdout",
     "output_type": "stream",
     "text": [
      "STATE: [ 0.81063725  0.71861211 -0.0284471  -0.03323891] ACT: [-0.32510972 -0.37987323] \n",
      "STATE: [ 0.79132966  0.69614961 -0.05516457 -0.06417859] ACT: [-0.32667782 -0.37852557] \n",
      "STATE: [ 0.76329321  0.66356144 -0.08010412 -0.09310906] ACT: [-0.32639686 -0.37876786] \n",
      "STATE: [ 0.72741718  0.62245843 -0.10250295 -0.11743716] ACT: [-0.31606478 -0.34786723] \n",
      "STATE: [ 0.68312291  0.57317055 -0.12655506 -0.14082253] ACT: [-0.35175847 -0.35533925] \n",
      "STATE: [ 0.63112732  0.52152425 -0.14855883 -0.14756085] ACT: [-0.34638795 -0.18262629] \n",
      "STATE: [ 0.57716329  0.47576462 -0.15418294 -0.13074178] ACT: [-0.17569462  0.08154729] \n",
      "STATE: [ 0.51754534  0.43086236 -0.170337   -0.12829219] ACT: [-0.3002551  -0.07006099] \n",
      "STATE: [ 0.44897364  0.38060413 -0.19591912 -0.14359494] ACT: [-0.42011979 -0.27110765] \n",
      "STATE: [ 0.37333355  0.32361193 -0.21611455 -0.16283485] ACT: [-0.37774421 -0.32758099] \n",
      "STATE: [ 0.29147585  0.25989815 -0.23387915 -0.18203935] ACT: [-0.36510991 -0.34160613] \n",
      "STATE: [ 0.20376359  0.18995219 -0.25060644 -0.19984562] ACT: [-0.36657846 -0.34002975] \n",
      "STATE: [ 0.11037331  0.11441149 -0.26682939 -0.21583057] ACT: [-0.37335992 -0.33256934] \n",
      "STATE: [ 0.03171863  0.05649283 -0.22472764 -0.16548186] ACT: [0.28104075 0.41354092] \n",
      "STATE: [-0.03043894  0.01266983 -0.17759306 -0.12520859] ACT: [0.37013529 0.33615453] \n",
      "final state  [-0.03043894  0.01266983]\n",
      "STATE: [ 0.8266422   0.66030252 -0.02821062 -0.03343985] ACT: [-0.32240712 -0.38216966] \n",
      "STATE: [ 0.80743373  0.63775553 -0.05488135 -0.06441998] ACT: [-0.32596624 -0.37913851] \n",
      "STATE: [ 0.77928653  0.60526684 -0.08042059 -0.09282483] ACT: [-0.33303803 -0.37294191] \n",
      "STATE: [ 0.74215167  0.56408989 -0.10609959 -0.11764843] ACT: [-0.35378979 -0.35331684] \n",
      "STATE: [ 0.69646945  0.51494667 -0.13052062 -0.14040919] ACT: [-0.35867218 -0.34835939] \n",
      "STATE: [ 0.64371304  0.46269668 -0.15073259 -0.1492857 ] ACT: [-0.32888443 -0.20675268] \n",
      "STATE: [ 0.58143687  0.40757793 -0.17793192 -0.15748213] ACT: [-0.42389885 -0.20563772] \n",
      "STATE: [ 0.50977999  0.34878961 -0.20473396 -0.16796664] ACT: [-0.43975803 -0.2379346 ] \n",
      "STATE: [ 0.43104104  0.28408189 -0.22496843 -0.18487919] ACT: [-0.38480156 -0.31926128] \n",
      "STATE: [ 0.34628022  0.21316708 -0.24217377 -0.20261374] ACT: [-0.36535874 -0.34133999] \n",
      "STATE: [ 0.25617435  0.13615898 -0.25744535 -0.22002313] ACT: [-0.35616266 -0.35092472] \n",
      "STATE: [ 0.16114235  0.05338873 -0.27151998 -0.23648643] ACT: [-0.35393699 -0.35316937] \n",
      "STATE: [ 0.06274633 -0.0358788  -0.28113149 -0.2550501 ] ACT: [-0.31348577 -0.38952108] \n",
      "final state  [ 0.06274633 -0.0358788 ]\n",
      "STATE: [ 0.81817392  0.83770305 -0.02809402 -0.03353787] ACT: [-0.32107452 -0.38328991] \n",
      "STATE: [ 0.79911098  0.81503252 -0.05446555 -0.06477293] ACT: [-0.32245941 -0.38212554] \n",
      "STATE: [ 0.77130054  0.78225222 -0.07945839 -0.093658  ] ACT: [-0.32648168 -0.37869475] \n",
      "STATE: [ 0.73526558  0.74006984 -0.10295703 -0.12052109] ACT: [-0.32814966 -0.37725031] \n",
      "STATE: [ 0.69160653  0.68904986 -0.12474012 -0.14577138] ACT: [-0.32616738 -0.37896549] \n",
      "STATE: [ 0.6439221   0.63448343 -0.13624124 -0.1559041 ] ACT: [-0.2249964  -0.22513106] \n",
      "STATE: [ 0.59179923  0.57803332 -0.1489225  -0.16128601] ACT: [-0.24710963 -0.17843563] \n",
      "STATE: [ 0.53865601  0.52124639 -0.15183775 -0.16224837] ACT: [-0.14500897 -0.13196289] \n",
      "STATE: [ 0.48121049  0.46161348 -0.16413006 -0.17037975] ACT: [-0.25436194 -0.21461632] \n",
      "COLLIDED\n",
      "STATE: [ 0.41550672  0.39641784 -0.18772506 -0.18627326] ACT: [-0.39275463 -0.30942495] \n",
      "STATE: [ 0.34285823  0.32511977 -0.20756713 -0.20370878] ACT: [-0.36756036 -0.33896811] \n",
      "STATE: [ 0.26380959  0.24802422 -0.22585324 -0.22027301] ACT: [-0.36465943 -0.34208698] \n",
      "STATE: [ 0.17861102  0.16569566 -0.2434245  -0.23522446] ACT: [-0.37020429 -0.33607853] \n",
      "STATE: [ 0.08736679  0.07881715 -0.26069778 -0.24822431] ACT: [-0.37997735 -0.32498802] \n",
      "STATE: [-0.00976478 -0.00930932 -0.27751878 -0.25178991] ACT: [-0.38776332 -0.226918  ] \n",
      "final state  [-0.00976478 -0.00930932]\n",
      "STATE: [ 0.77738655  0.62274585 -0.02914083 -0.03263242] ACT: [-0.33303803 -0.37294191] \n",
      "STATE: [ 0.75735085  0.60093391 -0.05724483 -0.06231983] ACT: [-0.34304426 -0.36375904] \n",
      "STATE: [ 0.72779519  0.56973305 -0.08444475 -0.08914532] ACT: [-0.35378979 -0.35331684] \n",
      "STATE: [ 0.68959514  0.5308007  -0.109143   -0.11123526] ACT: [-0.34559932 -0.31931553] \n",
      "STATE: [ 0.64701949  0.49199605 -0.12164471 -0.11087045] ACT: [-0.22473388 -0.07925711] \n",
      "STATE: [ 0.59597549  0.44843086 -0.14584001 -0.12447196] ACT: [-0.36775133 -0.23859874] \n",
      "STATE: [ 0.53749402  0.41859241 -0.16708992 -0.08525273] ACT: [-0.35223608  0.35486581] \n",
      "STATE: [ 0.46882417  0.38456899 -0.19619957 -0.09720975] ACT: [-0.4579991  -0.20059118] \n",
      "STATE: [ 0.39309236  0.3427462  -0.21637659 -0.1194937 ] ACT: [-0.37774421 -0.32758099] \n",
      "STATE: [ 0.31104862  0.29331463 -0.2344107  -0.14123305] ACT: [-0.36838657 -0.33807002] \n",
      "STATE: [ 0.22321758  0.23665456 -0.25094581 -0.16188593] ACT: [-0.3647807  -0.34195766] \n",
      "STATE: [ 0.12983788  0.17339301 -0.26679915 -0.18074729] ACT: [-0.36939038 -0.33697292] \n",
      "STATE: [ 0.03158319  0.10363377 -0.28072768 -0.19931211] ACT: [-0.35928262 -0.34772978] \n",
      "STATE: [-0.06100475  0.03464202 -0.26453697 -0.19711927] ACT: [-0.02550905 -0.12442309] \n",
      "final state  [-0.06100475  0.03464202]\n",
      "STATE: [ 0.61973349  0.87746996 -0.02943106 -0.0323709 ] ACT: [-0.33635494 -0.36995318] \n",
      "STATE: [ 0.59980775  0.85555384 -0.0569307  -0.06261747] ACT: [-0.33635494 -0.36995318] \n",
      "STATE: [ 0.57074905  0.82387477 -0.08302485 -0.09051163] ACT: [-0.34091686 -0.3657536 ] \n",
      "STATE: [ 0.53317962  0.78305217 -0.10734124 -0.11663602] ACT: [-0.34017023 -0.36644811] \n",
      "STATE: [ 0.48915433  0.7332854  -0.12578655 -0.14219075] ACT: [-0.29130946 -0.37953114] \n",
      "STATE: [ 0.44524485  0.67493796 -0.12545564 -0.16670699] ACT: [-0.09055805 -0.38682857] \n",
      "STATE: [ 0.39588073  0.61152275 -0.14104035 -0.18118631] ACT: [-0.2722027  -0.29050821] \n",
      "STATE: [ 0.34545856  0.53757211 -0.14406335 -0.21128755] ACT: [-0.1403289  -0.47990395] \n",
      "STATE: [ 0.29037068  0.45540247 -0.15739394 -0.2347704 ] ACT: [-0.26039712 -0.42684112] \n",
      "STATE: [ 0.22811307  0.36775511 -0.1778789  -0.25042103] ACT: [-0.35215921 -0.3549421 ] \n",
      "STATE: [ 0.15846064  0.27572691 -0.19900694 -0.2629377 ] ACT: [-0.37487254 -0.33086338] \n",
      "STATE: [ 0.08186407  0.17964473 -0.21884734 -0.27452053] ACT: [-0.37600267 -0.3295785 ] \n",
      "STATE: [ 0.00041887  0.0781653  -0.23270056 -0.28994121] ACT: [-0.32245794 -0.38212678] \n",
      "STATE: [-0.06450317 -0.00618945 -0.18549155 -0.24101357] ACT: [0.36500605 0.34171711] \n",
      "final state  [-0.06450317 -0.00618945]\n",
      "STATE: [ 0.62575343  0.88669465 -0.02943106 -0.0323709 ] ACT: [-0.33635494 -0.36995318] \n",
      "STATE: [ 0.60582768  0.86477854 -0.0569307  -0.06261747] ACT: [-0.33635494 -0.36995318] \n",
      "STATE: [ 0.57676899  0.83309947 -0.08302485 -0.09051163] ACT: [-0.34091686 -0.3657536 ] \n",
      "STATE: [ 0.53919955  0.79227686 -0.10734124 -0.11663602] ACT: [-0.34017023 -0.36644811] \n",
      "STATE: [ 0.49392467  0.74268665 -0.12935681 -0.14168634] ACT: [-0.33211246 -0.37376639] \n",
      "STATE: [ 0.44884761  0.68450416 -0.1287916  -0.16623567] ACT: [-0.09055805 -0.38682857] \n",
      "STATE: [ 0.39839252  0.62124309 -0.14415739 -0.18074592] ACT: [-0.2722027  -0.29050821] \n",
      "STATE: [ 0.34760207  0.5537403  -0.14511559 -0.1928651 ] ACT: [-0.11906897 -0.27406429] \n",
      "STATE: [ 0.29217007  0.47759538 -0.15837713 -0.21755692] ACT: [-0.26039712 -0.42684112] \n",
      "STATE: [ 0.22984709  0.39532906 -0.17806566 -0.23504662] ACT: [-0.34379466 -0.3630499 ] \n",
      "STATE: [ 0.16039378  0.30804139 -0.19843802 -0.24939336] ACT: [-0.36637619 -0.34024769] \n",
      "STATE: [ 0.08385259  0.21653968 -0.21868912 -0.26143344] ACT: [-0.38026963 -0.32464597] \n",
      "STATE: [ 0.000389    0.12146261 -0.2384674  -0.2716488 ] ACT: [-0.39005433 -0.31282202] \n",
      "STATE: [-0.06602018  0.04264709 -0.18974052 -0.22518717] ACT: [0.37802806 0.3272534 ] \n",
      "final state  [-0.06602018  0.04264709]\n",
      "STATE: [ 0.78143648  0.61012566 -0.02914083 -0.03263242] ACT: [-0.33303803 -0.37294191] \n",
      "STATE: [ 0.76107171  0.58863351 -0.05818507 -0.06140614] ACT: [-0.35378979 -0.35331684] \n",
      "STATE: [ 0.73120856  0.55773145 -0.08532328 -0.08829158] ACT: [-0.35378979 -0.35331684] \n",
      "STATE: [ 0.69232085  0.51818884 -0.11110775 -0.1129789 ] ACT: [-0.35867218 -0.34835939] \n",
      "STATE: [ 0.64591305  0.47490941 -0.1325937  -0.12365552] ACT: [-0.32888443 -0.20675268] \n",
      "STATE: [ 0.59128839  0.4271631  -0.15607048 -0.13641801] ACT: [-0.36775133 -0.23859874] \n",
      "STATE: [ 0.52498268  0.3813549  -0.18944486 -0.13088058] ACT: [-0.49847444 -0.03902858] \n",
      "STATE: [ 0.45086682  0.3292485  -0.21175962 -0.14887543] ACT: [-0.39710945 -0.30381587] \n",
      "STATE: [ 0.37002191  0.27055771 -0.23098545 -0.16768798] ACT: [-0.37854343 -0.32665712] \n",
      "STATE: [ 0.28339046  0.20516197 -0.24751843 -0.18684498] ACT: [-0.36218744 -0.34470315] \n",
      "STATE: [ 0.19137619  0.13347614 -0.26289791 -0.20481664] ACT: [-0.36140436 -0.34552408] \n",
      "STATE: [ 0.09227833  0.05860262 -0.28313675 -0.21392436] ACT: [-0.42847443 -0.25770073] \n",
      "STATE: [-0.01306482 -0.01983945 -0.30098042 -0.22412018] ACT: [-0.41628028 -0.27696701] \n",
      "final state  [-0.01306482 -0.01983945]\n",
      "STATE: [ 0.73523786  0.71495858 -0.02881526 -0.03292025] ACT: [-0.32931731 -0.37623146] \n",
      "STATE: [ 0.71572903  0.69267054 -0.05573953 -0.06368011] ACT: [-0.32931731 -0.37623146] \n",
      "STATE: [ 0.6871305   0.66057855 -0.0817101  -0.09169141] ACT: [-0.33861119 -0.36788919] \n",
      "STATE: [ 0.65221893  0.62275667 -0.09974732 -0.10806252] ACT: [-0.26742217 -0.255867  ] \n",
      "STATE: [ 0.61203071  0.58195225 -0.11482349 -0.11658404] ACT: [-0.24710963 -0.17843563] \n",
      "STATE: [ 0.57003894  0.53978426 -0.11997648 -0.12047996] ACT: [-0.14500897 -0.13196289] \n",
      "STATE: [ 0.54014877  0.51251315 -0.0854005  -0.07791748] ACT: [0.30517172 0.39606845] \n",
      "STATE: [ 0.5044303   0.48045907 -0.10205276 -0.09158307] ACT: [-0.25436194 -0.21461632] \n",
      "STATE: [ 0.48025723  0.46274813 -0.06906592 -0.05060269] ACT: [0.30045295 0.39965989] \n",
      "STATE: [ 0.4456424   0.43672333 -0.0988995  -0.07435657] ACT: [-0.39275463 -0.30942495] \n",
      "COLLIDED\n",
      "STATE: [ 0.40159061  0.40253817 -0.12586226 -0.09767189] ACT: [-0.38232049 -0.32222824] \n",
      "STATE: [ 0.34933271  0.36004515 -0.14930829 -0.12140863] ACT: [-0.3623513 -0.3445309] \n",
      "STATE: [ 0.28942087  0.30977515 -0.1711767  -0.14362857] ACT: [-0.36190594 -0.34499869] \n",
      "STATE: [ 0.22223577  0.25236757 -0.19195742 -0.16402164] ACT: [-0.36587642 -0.34078504] \n",
      "STATE: [ 0.14811362  0.18844441 -0.21177757 -0.1826376 ] ACT: [-0.37048409 -0.33577007] \n",
      "STATE: [ 0.06913257  0.11688689 -0.22566013 -0.20445006] ACT: [-0.31749104 -0.38626343] \n",
      "STATE: [ 0.01061883  0.0509564  -0.16718214 -0.18837284] ACT: [0.49907486 0.03040208] \n",
      "STATE: [-0.03285573 -0.00020471 -0.12421302 -0.14617459] ACT: [0.36568902 0.34098613] \n",
      "final state  [-0.03285573 -0.00020471]\n",
      "STATE: [ 0.60434529  0.87546573 -0.02943106 -0.0323709 ] ACT: [-0.33635494 -0.36995318] \n",
      "STATE: [ 0.58446103  0.85351204 -0.05681218 -0.06272483] ACT: [-0.33500037 -0.37118021] \n",
      "STATE: [ 0.55542814  0.82180995 -0.08295112 -0.09057741] ACT: [-0.34133989 -0.36535884] \n",
      "STATE: [ 0.51801041  0.78084872 -0.10690777 -0.11703209] ACT: [-0.33600369 -0.37027222] \n",
      "STATE: [ 0.47458964  0.73050832 -0.12405936 -0.1438297 ] ACT: [-0.27619898 -0.39403248] \n",
      "STATE: [ 0.43124501  0.67162489 -0.1238418  -0.16823838] ACT: [-0.09055805 -0.38682857] \n",
      "STATE: [ 0.38302282  0.60565816 -0.1377777  -0.18847635] ACT: [-0.25214876 -0.35746997] \n",
      "STATE: [ 0.33998203  0.52884141 -0.12297368 -0.21947645] ACT: [ 0.06585551 -0.49564408] \n",
      "STATE: [ 0.29179113  0.44399374 -0.13768828 -0.24242191] ACT: [-0.26039712 -0.42684112] \n",
      "STATE: [ 0.23597789  0.3538441  -0.15946641 -0.2575704 ] ACT: [-0.35215921 -0.3549421 ] \n",
      "STATE: [ 0.17231641  0.2595125  -0.18188993 -0.26951885] ACT: [-0.37586856 -0.32973144] \n",
      "STATE: [ 0.10129323  0.16130599 -0.20292337 -0.28059004] ACT: [-0.3767996  -0.32866709] \n",
      "STATE: [ 0.02378655  0.05904309 -0.22144767 -0.29217972] ACT: [-0.36389882 -0.34289597] \n",
      "STATE: [-0.03729837 -0.02621408 -0.17452833 -0.2435919 ] ACT: [0.37013529 0.33615453] \n",
      "final state  [-0.03729837 -0.02621408]\n",
      "STATE: [ 0.76205969  0.71755239 -0.02863524 -0.03307696] ACT: [-0.32725992 -0.37802241] \n",
      "STATE: [ 0.74257171  0.69524649 -0.05567993 -0.06373115] ACT: [-0.33055858 -0.37514134] \n",
      "STATE: [ 0.71447181  0.6634355  -0.08028544 -0.09088854] ACT: [-0.32296574 -0.35816854] \n",
      "STATE: [ 0.68164226  0.62793898 -0.09379871 -0.10141864] ACT: [-0.21465148 -0.18851039] \n",
      "STATE: [ 0.64084423  0.58530348 -0.11656581 -0.12181571] ACT: [-0.3305445  -0.30917339] \n",
      "STATE: [ 0.59910079  0.54386082 -0.11926696 -0.11840759] ACT: [-0.1182946  -0.05241182] \n",
      "STATE: [ 0.56124666  0.50839467 -0.10815465 -0.10133185] ACT: [0.03754766 0.10634567] \n",
      "STATE: [ 0.53410643  0.48816895 -0.07754352 -0.05778779] ACT: [0.26872543 0.42164753] \n",
      "STATE: [ 0.51064856  0.48446454 -0.06702249 -0.01058402] ACT: [0.06208274 0.49613076] \n",
      "STATE: [ 0.49793148  0.49324282 -0.0363345   0.0250808 ] ACT: [0.30045295 0.39965989] \n",
      "STATE: [ 0.496346    0.51277832 -0.00452995  0.05581573] ACT: [0.3362297 0.370067 ] \n",
      "STATE: [0.50569559 0.54185593 0.02671311 0.08307888] ACT: [0.35366615 0.35344059] \n",
      "STATE: [0.52165019 0.57645407 0.04558459 0.09885183] ACT: [0.23570881 0.2425715 ] \n",
      "STATE: [0.52590328 0.59778378 0.01215168 0.06094204] ACT: [-0.34790192 -0.35911593] \n",
      "STATE: [0.54141701 0.62777886 0.04432495 0.08570021] ACT: [0.37680831 0.32865711] \n",
      "STATE: [0.54881212 0.6474208  0.02112886 0.05611983] ACT: [-0.23185449 -0.27378634] \n",
      "STATE: [0.55168055 0.65770493 0.00819553 0.02938323] ACT: [-0.13196279 -0.26347126] \n",
      "STATE: [ 0.55031939  0.65924536 -0.00388904  0.00440122] ACT: [-0.13196279 -0.26347126] \n",
      "STATE: [ 0.54500619  0.65261589 -0.01518057 -0.01894134] ACT: [-0.13196279 -0.26347126] \n",
      "STATE: [ 0.53600031  0.63835267 -0.02573109 -0.04075205] ACT: [-0.13196279 -0.26347126] \n",
      "STATE: [ 0.5204849   0.61664076 -0.04432975 -0.06203401] ACT: [-0.23185449 -0.27378634] \n",
      "STATE: [ 0.49530159  0.58538647 -0.07195229 -0.08929797] ACT: [-0.34893347 -0.35811371] \n",
      "STATE: [ 0.48298494  0.56661008 -0.03519043 -0.05364683] ACT: [0.36617134 0.34046813] \n",
      "STATE: [ 0.48269057  0.55949273 -0.00084106 -0.0203353 ] ACT: [0.36617134 0.34046813] \n",
      "STATE: [0.49362951 0.56326929 0.03125412 0.01079017] ACT: [0.36617134 0.34046813] \n",
      "STATE: [0.51506459 0.57722484 0.06124306 0.03987302] ACT: [0.36617134 0.34046813] \n",
      "STATE: [0.52443849 0.57926664 0.02678257 0.00583371] ACT: [-0.34790192 -0.35911593] \n",
      "STATE: [ 0.52254273  0.57017652 -0.00541645 -0.02597177] ACT: [-0.34790192 -0.35911593] \n",
      "STATE: [ 0.51011688  0.55068502 -0.03550242 -0.05569002] ACT: [-0.34790192 -0.35911593] \n",
      "STATE: [ 0.50572506  0.53990139 -0.01254805 -0.03081035] ACT: [0.23570881 0.2425715 ] \n",
      "STATE: [ 0.50884004  0.5372542   0.00889994 -0.00756342] ACT: [0.23570881 0.2425715 ] \n",
      "STATE: [0.51896918 0.54220948 0.0289404  0.01415794] ACT: [0.23570881 0.2425715 ] \n",
      "STATE: [0.53565218 0.55426832 0.0476657  0.03445383] ACT: [0.23570881 0.2425715 ] \n",
      "STATE: [0.55392479 0.56937794 0.05220747 0.04317036] ACT: [0.08765513 0.12545791] \n",
      "STATE: [0.58148529 0.59465373 0.07874429 0.07221653] ACT: [0.34243354 0.36433401] \n",
      "STATE: [0.61159533 0.62275611 0.08602868 0.08029253] ACT: [0.14230841 0.14645944] \n",
      "STATE: [0.64863319 0.66147201 0.10582248 0.11061684] ACT: [0.29073633 0.40678297] \n",
      "STATE: [0.67429303 0.68939967 0.07331382 0.07979332] ACT: [-0.29216064 -0.26930619] \n",
      "STATE: [0.69137842 0.70859994 0.04881541 0.05485791] ACT: [-0.2249964  -0.22513106] \n",
      "STATE: [0.70046886 0.71882779 0.02597268 0.02922242] ACT: [-0.22444828 -0.2518336 ] \n",
      "STATE: [ 0.69896091  0.71741286 -0.00430843 -0.00404264] ACT: [-0.32659025 -0.35825533] \n",
      "STATE: [ 0.6906782   0.70837839 -0.02366491 -0.02581278] ACT: [-0.22444828 -0.2518336 ] \n",
      "STATE: [ 0.6760653   0.6922244  -0.04175112 -0.04615426] ACT: [-0.22444828 -0.2518336 ] \n",
      "STATE: [ 0.65552087  0.67023588 -0.05869839 -0.06282435] ACT: [-0.2249964  -0.22513106] \n",
      "STATE: [ 0.62737724  0.64144285 -0.08041037 -0.0822658 ] ACT: [-0.29216064 -0.26930619] \n",
      "STATE: [ 0.60180806  0.618005   -0.07305479 -0.06696528] ACT: [0.02375592 0.11316369] \n",
      "STATE: [ 0.58682066  0.60856299 -0.04282114 -0.02697717] ACT: [0.29073633 0.40678297] \n",
      "STATE: [ 0.57388603  0.6029455  -0.0369561  -0.01604996] ACT: [0.03491325 0.10464961] \n",
      "STATE: [ 0.56615842  0.60218199 -0.02207887 -0.00218148] ACT: [0.14230841 0.14645944] \n",
      "STATE: [ 0.56329614  0.6059539  -0.00817796  0.01077688] ACT: [0.14230841 0.14645944] \n",
      "final state  [0.56329614 0.6059539 ]\n",
      "After 19 REWARD:  (0.9485185741215524, array([ 0.03110917,  0.0598277 , -0.19839121, -0.18984784]), -0.19641799067486404)\n",
      "UPDATING THE ACTION MATRIX\n"
     ]
    },
    {
     "name": "stderr",
     "output_type": "stream",
     "text": [
      "100%|█████████████████████████████████████████████████████████████████████████████████████████████████████████████████████████| 25/25 [00:03<00:00,  6.98it/s]\n"
     ]
    }
   ],
   "source": [
    "X_dyn_train, y_dyn_train = gen_dynamics_dataset(env, 20, bayes_model, fully_rand=True)\n",
    "bayes_model.train(X_dyn_train, y_dyn_train, X_dyn_train[0:100], y_dyn_train[0:100])\n",
    "bayes_model.epochs = int(0.75*EPOCHS)\n",
    "print(\"After Initialization REWARD: \", estimate_reward(env, bayes_model, 2))\n",
    "for iteration in range(EPISODES):\n",
    "    X_dyn_train, y_dyn_train = gen_dynamics_dataset(env, EXPLORE, bayes_model, X_dyn_train, y_dyn_train)\n",
    "    bayes_model.train(X_dyn_train, y_dyn_train, X_dyn_train[0:100], y_dyn_train[0:100])\n",
    "    reward = estimate_reward(env, bayes_model, 10)\n",
    "    print(\"After %s REWARD: \"%(iteration), reward)\n",
    "    update_AM(env, bayes_model, ACTION_MATRIX)\n"
   ]
  },
  {
   "cell_type": "code",
   "execution_count": 14,
   "id": "7005ab28",
   "metadata": {},
   "outputs": [
    {
     "name": "stdout",
     "output_type": "stream",
     "text": [
      "('batch_size', 64)\n",
      "('learning_rate', 0.02)\n",
      "('decay', 0.0)\n",
      "('epochs', 37)\n",
      "('inflate_prior', 0.1)\n",
      "('input_noise', 0.0)\n",
      "('robust_train', 0)\n",
      "('epsilon', 0.05)\n",
      "('robust_lambda', 0.5)\n",
      "('loss_monte_carlo', 2)\n",
      "('input_upper', inf)\n",
      "('input_lower', -inf)\n",
      "('record_epochs', 2)\n",
      "('full_covar', 0)\n",
      "('expl_lr', 0.0004)\n",
      "WARNING:tensorflow:Compiled the loaded model, but the compiled metrics have yet to be built. `model.compile_metrics` will be empty until you train or evaluate the model.\n",
      "WARNING:tensorflow:Compiled the loaded model, but the compiled metrics have yet to be built. `model.compile_metrics` will be empty until you train or evaluate the model.\n"
     ]
    }
   ],
   "source": [
    "bayes_model.save(\"MinimalModel\")"
   ]
  },
  {
   "cell_type": "code",
   "execution_count": 15,
   "id": "4393a889",
   "metadata": {},
   "outputs": [],
   "source": [
    "np.save(\"MinimalAM\", ACTION_MATRIX)"
   ]
  },
  {
   "cell_type": "raw",
   "id": "49355e27",
   "metadata": {},
   "source": [
    "x_check = np.asarray([[0.25,0.25,-0.3,-0.3,-0.1,-0.1]])\n",
    "ol, ou = deepbayes_prealpha.analyzers.IBP_prob(bayes_model, x_check, x_check+0.01, bayes_model.model.get_weights(), 2.5)\n",
    "print(ol)\n",
    "print(ou)\n"
   ]
  }
 ],
 "metadata": {
  "kernelspec": {
   "display_name": "Python 3 (ipykernel)",
   "language": "python",
   "name": "python3"
  },
  "language_info": {
   "codemirror_mode": {
    "name": "ipython",
    "version": 3
   },
   "file_extension": ".py",
   "mimetype": "text/x-python",
   "name": "python",
   "nbconvert_exporter": "python",
   "pygments_lexer": "ipython3",
   "version": "3.10.4"
  }
 },
 "nbformat": 4,
 "nbformat_minor": 5
}
